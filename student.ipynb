{
 "cells": [
  {
   "cell_type": "markdown",
   "metadata": {},
   "source": [
    "## Final Project Submission\n",
    "\n",
    "Please fill out:\n",
    "* Student name:                       **Steven Contreras**\n",
    "* Student pace:                       **self-paced**\n",
    "* Scheduled project review date/time: **2020-07-14 @ 9:00 AM PST**\n",
    "* Instructor name:                    **Jeff Herman**\n",
    "* Blog post URL:                      **https://sacontreras.github.io/my_first_data_science_competition**\n"
   ]
  }
 ],
 "metadata": {
  "kernelspec": {
   "display_name": "Python 3",
   "language": "python",
   "name": "python3"
  },
  "language_info": {
   "codemirror_mode": {
    "name": "ipython",
    "version": 3
   },
   "file_extension": ".py",
   "mimetype": "text/x-python",
   "name": "python",
   "nbconvert_exporter": "python",
   "pygments_lexer": "ipython3",
   "version": "3.7.7"
  }
 },
 "nbformat": 4,
 "nbformat_minor": 4
}

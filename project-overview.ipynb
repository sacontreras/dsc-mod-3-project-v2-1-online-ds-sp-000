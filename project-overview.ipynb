{
 "cells": [
  {
   "cell_type": "markdown",
   "metadata": {},
   "source": [
    "# Project Workflow:\n",
    "\n",
    "## Diagram"
   ]
  },
  {
   "cell_type": "markdown",
   "metadata": {},
   "source": [
    "![Project Workflow](project-workflow.png)"
   ]
  },
  {
   "cell_type": "markdown",
   "metadata": {},
   "source": [
    "<p><br><br>\n",
    "\n",
    "## Description"
   ]
  },
  {
   "cell_type": "markdown",
   "metadata": {},
   "source": [
    "This project, at its core, is based on iterative development.\n",
    "\n",
    "Generally speaking, the outermost loop of the workflow involves the following (iterative) sequence:\n",
    "\n",
    "1. Conduct EDA to garner some insight into the data and determine what kinds of transformations are applicable to a given feature.\n",
    "    1. Build a configuration (file) using the results and insights of EDA.\n",
    "2. Preprocess the data\n",
    "    1. Basically this amounts to selecting the best preprocessing option (from the list of options specified in the config file) for a given feature.\n",
    "    2. Deciding which option is \"best\" is based on (validation accuracy) improvements to a baseline model.\n",
    "    3. A Dynamic Programming algorithm has been written to optimize/maximize selection of the best preprocessing options.\n",
    "3. Build battery of models\n",
    "    1. An approach similar to the one taken for selecting the best options for preprocessing has been taken for model building with regard to an algorithmic approach to selecting the best classification algorithm to use.\n",
    "    2. A configuration is written which holds values to investigate for hyper-parameter tuning of each classification algorithm.\n",
    "    3. Validation models are first trained on labeled predictors constituting some appropriate ratio for training data.\n",
    "    4. A portion of labeled data is \"held out\" for validation only and accuracy of those predictions are then used as a metric for:\n",
    "        1. a measure for overall total project improvement\n",
    "        2. determining which classification algorithm peforms \"the best\"\n",
    "    5. Using the \"best\" algorithm, a new, final model is rebuilt using ALL labeled data.\n",
    "    6. With the final model, built using the best classification algorithm, predictions are made from the unlabeled predictors.\n",
    "    7. Unlabeled predictions are then used for submission in the [Pump it Up: Data Mining the Water Table](https://www.drivendata.org/competitions/7/pump-it-up-data-mining-the-water-table/page/25/) Data Science competition."
   ]
  },
  {
   "cell_type": "markdown",
   "metadata": {},
   "source": [
    "<p><br><br>\n",
    "\n",
    "## Notebooks Corresponding to the Above Sequence\n",
    "\n",
    "1. [EDA.ipynb](EDA.ipynb)\n",
    "2. [preprocessing.ipynb](preprocessing.ipynb)\n",
    "3. [models.ipynb](models.ipynb)"
   ]
  }
 ],
 "metadata": {
  "kernelspec": {
   "display_name": "Python 3.6.10 64-bit ('learn-env': conda)",
   "language": "python",
   "name": "python361064bitlearnenvconda6dc930ea082b425c82fd8a0b2d571658"
  },
  "language_info": {
   "codemirror_mode": {
    "name": "ipython",
    "version": 3
   },
   "file_extension": ".py",
   "mimetype": "text/x-python",
   "name": "python",
   "nbconvert_exporter": "python",
   "pygments_lexer": "ipython3",
   "version": "3.7.7"
  }
 },
 "nbformat": 4,
 "nbformat_minor": 4
}

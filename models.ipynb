{
 "cells": [
  {
   "cell_type": "markdown",
   "metadata": {},
   "source": [
    "<h2>Import Libraries</h2>"
   ]
  },
  {
   "cell_type": "code",
   "execution_count": 1,
   "metadata": {},
   "outputs": [],
   "source": [
    "from scjpnlib.utils.file_io import FileManager\n",
    "import os \n",
    "import scjpnlib.utils as scjpnutils\n",
    "import pickle\n",
    "import json\n",
    "from IPython.core.display import HTML, Markdown\n",
    "import html2text\n",
    "from bs4 import BeautifulSoup\n",
    "import pprint\n",
    "\n",
    "import pandas as pd\n",
    "import numpy as np\n",
    "\n",
    "from scjpnlib.utils.skl_transformers import LabelEncodingTransformer\n",
    "\n",
    "from sklearn.model_selection import GridSearchCV, cross_val_score\n",
    "import dask_ml.model_selection as dcv\n",
    "from dask.distributed import Client\n",
    "import joblib\n",
    "\n",
    "from sklearn.tree import DecisionTreeClassifier\n",
    "from sklearn.ensemble import RandomForestClassifier, VotingClassifier \n",
    "# import xgboost as xgb\n",
    "from xgboost import XGBClassifier\n",
    "from sklearn.metrics import classification_report\n",
    "from sklearn.metrics import accuracy_score\n",
    "\n",
    "%load_ext autoreload\n",
    "%autoreload 2\n",
    "\n",
    "n_jobs = 8\n",
    "\n",
    "LOG_MODEL_TRIALS = True"
   ]
  },
  {
   "cell_type": "markdown",
   "metadata": {},
   "source": [
    "## Read Configs for this Experiment"
   ]
  },
  {
   "cell_type": "code",
   "execution_count": 2,
   "metadata": {},
   "outputs": [
    {
     "output_type": "execute_result",
     "data": {
      "text/plain": "{'logging': {'dir': 'model-results'},\n 'cross_validation': {'k': {'grid_search': 3, 'score': 5}},\n 'dask': {'use': False,\n  'is_remote': False,\n  'local': {'n_workers': 1, 'n_jobs': 8, 'memory_limit': '16GB'},\n  'remote': {'scheduler_address': '35.230.13.87'}},\n 'SEED': 42,\n 'DecisionTreeClassifier': {'run': False,\n  'trials': {'run': False,\n   'array': [{'gridsearch': {'run': True,\n      'param_grid': {'criterion': ['entropy', 'gini'],\n       'splitter': ['best'],\n       'max_depth': [10, 50, 75, None],\n       'min_samples_split': [2],\n       'max_features': ['auto', 'sqrt', 'log2']},\n      'last_best': {'criterion': 'gini',\n       'max_depth': 10,\n       'max_features': 'auto',\n       'min_samples_split': 2,\n       'random_state': 42,\n       'splitter': 'best'}}}]},\n  'params': {'criterion': 'gini',\n   'max_depth': 10,\n   'max_features': 'auto',\n   'min_samples_split': 2,\n   'random_state': 42,\n   'splitter': 'best'}},\n 'RandomForestClassifier': {'run': False,\n  'trials': {'run': False,\n   'array': [{'gridsearch': {'run': True,\n      'param_grid': {'bootstrap': [True, False],\n       'criterion': ['entropy', 'gini'],\n       'max_features': ['auto', 'sqrt', 'log2'],\n       'max_depth': [10, 50, 75, None],\n       'n_estimators': [100, 500, 1000]},\n      'last_best': {'bootstrap': False,\n       'criterion': 'gini',\n       'max_depth': 75,\n       'max_features': 'auto',\n       'n_estimators': 1000}}}]},\n  'params': {'bootstrap': False,\n   'criterion': 'gini',\n   'max_depth': 75,\n   'max_features': 'auto',\n   'n_estimators': 1000}},\n 'XGBClassifier': {'run': True,\n  'trials': {'run': False,\n   'array': [{'gridsearch': {'run': True,\n      'param_grid': {'n_estimators': [100, 1000],\n       'max_depth': [6, 10, 22],\n       'learning_rate': [0.1, 0.3],\n       'min_child_weight': [1, 3, 5],\n       'gamma': [0, 1, 2, 5]},\n      'last_best': {'gamma': 2,\n       'learning_rate': 0.1,\n       'max_depth': 22,\n       'min_child_weight': 1,\n       'n_estimators': 100,\n       'n_jobs': -1}}}]},\n  'params': {'gamma': 2,\n   'learning_rate': 0.1,\n   'max_depth': 22,\n   'min_child_weight': 1,\n   'n_estimators': 100,\n   'n_jobs': -1}}}"
     },
     "metadata": {},
     "execution_count": 2
    }
   ],
   "source": [
    "fm = FileManager()\n",
    "\n",
    "models_config = fm.load_json('models-config.txt')\n",
    "models_config"
   ]
  },
  {
   "cell_type": "code",
   "execution_count": 3,
   "metadata": {},
   "outputs": [],
   "source": [
    "is_data_cached = 'data_cached' in models_config\n",
    "data_config = models_config['data_cached'] if is_data_cached else fm.load_json('eda-config.txt')\n",
    "digest = data_config['digest'] if is_data_cached else scjpnutils.json_to_md5_hash_digest(data_config)"
   ]
  },
  {
   "cell_type": "code",
   "execution_count": 4,
   "metadata": {
    "tags": []
   },
   "outputs": [
    {
     "output_type": "stream",
     "name": "stdout",
     "text": "EDA description: (digest: f80977aa7a9e6efea5f616e668b6cc19) 0.10 test_ratio\n"
    }
   ],
   "source": [
    "print(f\"EDA description: {'CACHED ' if is_data_cached else ''}(digest: {digest}) {data_config['eda_desc']['short']}\")"
   ]
  },
  {
   "cell_type": "code",
   "execution_count": 5,
   "metadata": {},
   "outputs": [],
   "source": [
    "if len(data_config['wrangled_data']['dir']) > 0:\n",
    "    WRANGLED_DATA_DIR = data_config['wrangled_data']['dir'] + \"/\"\n",
    "else:\n",
    "    WRANGLED_DATA_DIR = \"\"\n",
    "\n",
    "if len(data_config['labels']['dir']) > 0:\n",
    "    SAVE_LABELS_DIR = data_config['labels']['dir'] + \"/\"\n",
    "else:\n",
    "    SAVE_LABELS_DIR = \"\"\n",
    "    \n",
    "fname__train_predictors = WRANGLED_DATA_DIR + scjpnutils.get_data_fname(data_config, data_kwargs={'is_labels':False,'type':'train','is_cached':is_data_cached})\n",
    "fname__train_labels = SAVE_LABELS_DIR + scjpnutils.get_data_fname(data_config, data_kwargs={'is_labels':True,'type':'train','is_cached':is_data_cached})\n",
    "fname__validation_predictors = WRANGLED_DATA_DIR + scjpnutils.get_data_fname(data_config, data_kwargs={'is_labels':False,'type':'test','is_cached':is_data_cached})\n",
    "fname__validation_labels = SAVE_LABELS_DIR + scjpnutils.get_data_fname(data_config, data_kwargs={'is_labels':True,'type':'test','is_cached':is_data_cached})\n",
    "# fname__unlabeled_predictors = WRANGLED_DATA_DIR + scjpnutils.get_data_fname(eda_config, data_kwargs={'is_labels':False,'type':'unlabeled'})"
   ]
  },
  {
   "cell_type": "code",
   "execution_count": 6,
   "metadata": {
    "tags": []
   },
   "outputs": [
    {
     "output_type": "stream",
     "name": "stdout",
     "text": "modeling results will be saved to: model-results/models-results-f80977aa7a9e6efea5f616e668b6cc19.json\n"
    }
   ],
   "source": [
    "if len(models_config['logging']['dir']) > 0:\n",
    "    MODEL_RESULTS_DIR = models_config['logging']['dir']\n",
    "    try:\n",
    "        os.makedirs(f\"{os.getcwd()}/{MODEL_RESULTS_DIR}\")\n",
    "    except FileExistsError:\n",
    "        pass\n",
    "    MODEL_RESULTS_DIR += \"/\"\n",
    "else:\n",
    "    MODEL_RESULTS_DIR = \"\"\n",
    "    \n",
    "model_results_fname = MODEL_RESULTS_DIR + scjpnutils.get_model_result_fname(data_config, data_kwargs={'is_cached':is_data_cached})\n",
    "print(f\"modeling results will be saved to: {model_results_fname}\")"
   ]
  },
  {
   "cell_type": "code",
   "execution_count": 7,
   "metadata": {},
   "outputs": [],
   "source": [
    "model_results = {}\n",
    "model_results['digest'] = digest\n",
    "model_results['modeling_results'] = {}"
   ]
  },
  {
   "cell_type": "code",
   "execution_count": 8,
   "metadata": {},
   "outputs": [],
   "source": [
    "SEED = models_config['SEED']\n",
    "model_results['seed'] = SEED"
   ]
  },
  {
   "cell_type": "code",
   "execution_count": 9,
   "metadata": {},
   "outputs": [],
   "source": [
    "K = models_config['cross_validation']['k']['grid_search'] # num folds for cross-val\n",
    "cross_val_score_K = models_config['cross_validation']['k']['score']"
   ]
  },
  {
   "cell_type": "markdown",
   "metadata": {},
   "source": [
    "<p><br>\n",
    "<h2>Load TEST/TRAIN Data</h2>"
   ]
  },
  {
   "cell_type": "code",
   "execution_count": 10,
   "metadata": {
    "tags": []
   },
   "outputs": [
    {
     "output_type": "stream",
     "name": "stdout",
     "text": "loaded preprocessing-results/wrangled-labeled-data-train-f80977aa7a9e6efea5f616e668b6cc19.csv\n\n<class 'pandas.core.frame.DataFrame'>\nInt64Index: 53460 entries, 0 to 74247\nData columns (total 20 columns):\n #   Column                            Non-Null Count  Dtype  \n---  ------                            --------------  -----  \n 0   gps_height                        53460 non-null  int64  \n 1   longitude                         53460 non-null  float64\n 2   latitude                          53460 non-null  float64\n 3   population                        53460 non-null  float64\n 4   public_meeting                    53460 non-null  bool   \n 5   permit                            53460 non-null  bool   \n 6   pump_age                          53460 non-null  int64  \n 7   installer_target_encoded          53460 non-null  float64\n 8   basin_target_encoded              53460 non-null  float64\n 9   region_code_target_encoded        53460 non-null  float64\n 10  district_code_target_encoded      53460 non-null  float64\n 11  scheme_management_target_encoded  53460 non-null  float64\n 12  scheme_name_target_encoded        53460 non-null  float64\n 13  extraction_type_target_encoded    53460 non-null  float64\n 14  management_target_encoded         53460 non-null  float64\n 15  payment_type_target_encoded       53460 non-null  float64\n 16  water_quality_target_encoded      53460 non-null  float64\n 17  quantity_target_encoded           53460 non-null  float64\n 18  source_target_encoded             53460 non-null  float64\n 19  waterpoint_type_target_encoded    53460 non-null  float64\ndtypes: bool(2), float64(16), int64(2)\nmemory usage: 7.9 MB\n"
    }
   ],
   "source": [
    "data_train = pd.read_csv(fname__train_predictors, index_col=0).sort_index()\n",
    "print(f\"loaded {fname__train_predictors}\\n\")\n",
    "\n",
    "data_train.info()"
   ]
  },
  {
   "cell_type": "code",
   "execution_count": 11,
   "metadata": {},
   "outputs": [
    {
     "output_type": "execute_result",
     "data": {
      "text/plain": "Int64Index([    0,     1,     2,     3,     5,     7,     8,     9,    11,\n               12,\n            ...\n            74235, 74236, 74237, 74238, 74239, 74240, 74242, 74243, 74246,\n            74247],\n           dtype='int64', name='id', length=53460)"
     },
     "metadata": {},
     "execution_count": 11
    }
   ],
   "source": [
    "data_train.index"
   ]
  },
  {
   "cell_type": "code",
   "execution_count": 12,
   "metadata": {
    "tags": []
   },
   "outputs": [
    {
     "output_type": "stream",
     "name": "stdout",
     "text": "loaded preprocessing-results/labels-train-f80977aa7a9e6efea5f616e668b6cc19.csv\n\n<class 'pandas.core.frame.DataFrame'>\nInt64Index: 53460 entries, 0 to 74247\nData columns (total 1 columns):\n #   Column        Non-Null Count  Dtype \n---  ------        --------------  ----- \n 0   status_group  53460 non-null  object\ndtypes: object(1)\nmemory usage: 835.3+ KB\n"
    }
   ],
   "source": [
    "y_train = pd.read_csv(fname__train_labels, index_col=0).sort_index()\n",
    "print(f\"loaded {fname__train_labels}\\n\")\n",
    "\n",
    "y_train.info()"
   ]
  },
  {
   "cell_type": "code",
   "execution_count": 13,
   "metadata": {},
   "outputs": [
    {
     "output_type": "execute_result",
     "data": {
      "text/plain": "Int64Index([    0,     1,     2,     3,     5,     7,     8,     9,    11,\n               12,\n            ...\n            74235, 74236, 74237, 74238, 74239, 74240, 74242, 74243, 74246,\n            74247],\n           dtype='int64', name='id', length=53460)"
     },
     "metadata": {},
     "execution_count": 13
    }
   ],
   "source": [
    "y_train.index"
   ]
  },
  {
   "cell_type": "code",
   "execution_count": 14,
   "metadata": {},
   "outputs": [
    {
     "output_type": "execute_result",
     "data": {
      "text/plain": "array([2, 0, 1])"
     },
     "metadata": {},
     "execution_count": 14
    }
   ],
   "source": [
    "let_labels = LabelEncodingTransformer(['status_group'])\n",
    "y_train = let_labels.fit_transform(y_train)\n",
    "y_train.status_group.unique()"
   ]
  },
  {
   "cell_type": "code",
   "execution_count": 15,
   "metadata": {},
   "outputs": [
    {
     "output_type": "execute_result",
     "data": {
      "text/plain": "array(['functional', 'functional needs repair', 'non functional'],\n      dtype=object)"
     },
     "metadata": {},
     "execution_count": 15
    }
   ],
   "source": [
    "let_labels.labelencoder.classes_"
   ]
  },
  {
   "cell_type": "code",
   "execution_count": 16,
   "metadata": {},
   "outputs": [],
   "source": [
    "classes_train = list(let_labels.labelencoder.classes_)"
   ]
  },
  {
   "cell_type": "code",
   "execution_count": 17,
   "metadata": {},
   "outputs": [
    {
     "output_type": "execute_result",
     "data": {
      "text/plain": "       gps_height  longitude   latitude  population  public_meeting  permit  \\\nid                                                                            \n0               0  33.125828  -5.118154    0.000000           False    True   \n1            1978  34.770717  -9.395642   20.000000            True   False   \n2               0  36.115056  -6.279268    0.000000            True    True   \n3            1639  37.147432  -3.187555   25.000000            True    True   \n5              28  39.286124  -6.972403  179.951496            True   False   \n...           ...        ...        ...         ...             ...     ...   \n74240        1183  37.007726  -3.280868  350.000000            True   False   \n74242           0  33.724987  -8.940758    0.000000           False   False   \n74243        1188  33.963539  -1.429477   95.000000            True   False   \n74246        1428  35.630481  -7.710549    1.000000            True    True   \n74247         965  35.432998 -10.639270  179.951496            True    True   \n\n       pump_age  installer_target_encoded  basin_target_encoded  \\\nid                                                                \n0             0                  0.788043              0.922970   \n1             3                  0.490476              0.679928   \n2             0                  1.140351              0.909414   \n3            14                  0.237132              0.746142   \n5             0                  0.441379              0.909414   \n...         ...                       ...                   ...   \n74240         1                  0.619651              0.746142   \n74242         0                  0.867585              0.679928   \n74243        29                  0.836638              0.914632   \n74246        11                  1.125000              0.679928   \n74247         4                  0.825628              1.177415   \n\n       region_code_target_encoded  ...  scheme_management_target_encoded  \\\nid                                 ...                                     \n0                        1.118044  ...                          0.907233   \n1                        0.413034  ...                          0.983733   \n2                        0.991504  ...                          0.907233   \n3                        0.723328  ...                          0.471044   \n5                        1.029768  ...                          0.614650   \n...                           ...  ...                               ...   \n74240                    0.627804  ...                          0.528367   \n74242                    0.891169  ...                          0.907233   \n74243                    1.078903  ...                          0.907233   \n74246                    0.413034  ...                          0.907233   \n74247                    0.803444  ...                          0.907233   \n\n       scheme_name_target_encoded  extraction_type_target_encoded  \\\nid                                                                  \n0                        0.898294                        0.623434   \n1                        0.898294                        0.665860   \n2                        0.750000                        1.206856   \n3                        0.103704                        0.699696   \n5                        0.898294                        0.854037   \n...                           ...                             ...   \n74240                    0.898294                        0.699696   \n74242                    0.898294                        0.699696   \n74243                    2.000000                        0.854037   \n74246                    0.962963                        0.699696   \n74247                    0.256410                        1.645411   \n\n       management_target_encoded  payment_type_target_encoded  \\\nid                                                              \n0                       0.924005                     1.086092   \n1                       0.924005                     1.028301   \n2                       0.924005                     0.602198   \n3                       0.435330                     0.602198   \n5                       0.477028                     0.602198   \n...                          ...                          ...   \n74240                   0.537719                     1.086092   \n74242                   0.704487                     0.683778   \n74243                   0.924005                     1.028301   \n74246                   0.924005                     0.602198   \n74247                   0.924005                     0.602198   \n\n       water_quality_target_encoded  quantity_target_encoded  \\\nid                                                             \n0                          0.885089                 0.625598   \n1                          0.793384                 0.625598   \n2                          0.793384                 0.861791   \n3                          0.793384                 0.625598   \n5                          0.793384                 0.625598   \n...                             ...                      ...   \n74240                      0.793384                 0.861791   \n74242                      0.793384                 0.625598   \n74243                      0.793384                 0.625598   \n74246                      0.793384                 1.946499   \n74247                      0.793384                 1.946499   \n\n       source_target_encoded  waterpoint_type_target_encoded  status_group  \nid                                                                          \n0                   0.953780                        0.708085             2  \n1                   0.953780                        0.708085             0  \n2                   0.981335                        1.162505             0  \n3                   0.677102                        0.677651             0  \n5                   0.981335                        1.162505             0  \n...                      ...                             ...           ...  \n74240               0.666342                        0.677651             0  \n74242               0.735053                        0.677651             0  \n74243               1.588321                        1.162505             2  \n74246               0.677102                        0.677651             2  \n74247               0.735053                        0.677651             2  \n\n[53460 rows x 21 columns]",
      "text/html": "<div>\n<style scoped>\n    .dataframe tbody tr th:only-of-type {\n        vertical-align: middle;\n    }\n\n    .dataframe tbody tr th {\n        vertical-align: top;\n    }\n\n    .dataframe thead th {\n        text-align: right;\n    }\n</style>\n<table border=\"1\" class=\"dataframe\">\n  <thead>\n    <tr style=\"text-align: right;\">\n      <th></th>\n      <th>gps_height</th>\n      <th>longitude</th>\n      <th>latitude</th>\n      <th>population</th>\n      <th>public_meeting</th>\n      <th>permit</th>\n      <th>pump_age</th>\n      <th>installer_target_encoded</th>\n      <th>basin_target_encoded</th>\n      <th>region_code_target_encoded</th>\n      <th>...</th>\n      <th>scheme_management_target_encoded</th>\n      <th>scheme_name_target_encoded</th>\n      <th>extraction_type_target_encoded</th>\n      <th>management_target_encoded</th>\n      <th>payment_type_target_encoded</th>\n      <th>water_quality_target_encoded</th>\n      <th>quantity_target_encoded</th>\n      <th>source_target_encoded</th>\n      <th>waterpoint_type_target_encoded</th>\n      <th>status_group</th>\n    </tr>\n    <tr>\n      <th>id</th>\n      <th></th>\n      <th></th>\n      <th></th>\n      <th></th>\n      <th></th>\n      <th></th>\n      <th></th>\n      <th></th>\n      <th></th>\n      <th></th>\n      <th></th>\n      <th></th>\n      <th></th>\n      <th></th>\n      <th></th>\n      <th></th>\n      <th></th>\n      <th></th>\n      <th></th>\n      <th></th>\n      <th></th>\n    </tr>\n  </thead>\n  <tbody>\n    <tr>\n      <th>0</th>\n      <td>0</td>\n      <td>33.125828</td>\n      <td>-5.118154</td>\n      <td>0.000000</td>\n      <td>False</td>\n      <td>True</td>\n      <td>0</td>\n      <td>0.788043</td>\n      <td>0.922970</td>\n      <td>1.118044</td>\n      <td>...</td>\n      <td>0.907233</td>\n      <td>0.898294</td>\n      <td>0.623434</td>\n      <td>0.924005</td>\n      <td>1.086092</td>\n      <td>0.885089</td>\n      <td>0.625598</td>\n      <td>0.953780</td>\n      <td>0.708085</td>\n      <td>2</td>\n    </tr>\n    <tr>\n      <th>1</th>\n      <td>1978</td>\n      <td>34.770717</td>\n      <td>-9.395642</td>\n      <td>20.000000</td>\n      <td>True</td>\n      <td>False</td>\n      <td>3</td>\n      <td>0.490476</td>\n      <td>0.679928</td>\n      <td>0.413034</td>\n      <td>...</td>\n      <td>0.983733</td>\n      <td>0.898294</td>\n      <td>0.665860</td>\n      <td>0.924005</td>\n      <td>1.028301</td>\n      <td>0.793384</td>\n      <td>0.625598</td>\n      <td>0.953780</td>\n      <td>0.708085</td>\n      <td>0</td>\n    </tr>\n    <tr>\n      <th>2</th>\n      <td>0</td>\n      <td>36.115056</td>\n      <td>-6.279268</td>\n      <td>0.000000</td>\n      <td>True</td>\n      <td>True</td>\n      <td>0</td>\n      <td>1.140351</td>\n      <td>0.909414</td>\n      <td>0.991504</td>\n      <td>...</td>\n      <td>0.907233</td>\n      <td>0.750000</td>\n      <td>1.206856</td>\n      <td>0.924005</td>\n      <td>0.602198</td>\n      <td>0.793384</td>\n      <td>0.861791</td>\n      <td>0.981335</td>\n      <td>1.162505</td>\n      <td>0</td>\n    </tr>\n    <tr>\n      <th>3</th>\n      <td>1639</td>\n      <td>37.147432</td>\n      <td>-3.187555</td>\n      <td>25.000000</td>\n      <td>True</td>\n      <td>True</td>\n      <td>14</td>\n      <td>0.237132</td>\n      <td>0.746142</td>\n      <td>0.723328</td>\n      <td>...</td>\n      <td>0.471044</td>\n      <td>0.103704</td>\n      <td>0.699696</td>\n      <td>0.435330</td>\n      <td>0.602198</td>\n      <td>0.793384</td>\n      <td>0.625598</td>\n      <td>0.677102</td>\n      <td>0.677651</td>\n      <td>0</td>\n    </tr>\n    <tr>\n      <th>5</th>\n      <td>28</td>\n      <td>39.286124</td>\n      <td>-6.972403</td>\n      <td>179.951496</td>\n      <td>True</td>\n      <td>False</td>\n      <td>0</td>\n      <td>0.441379</td>\n      <td>0.909414</td>\n      <td>1.029768</td>\n      <td>...</td>\n      <td>0.614650</td>\n      <td>0.898294</td>\n      <td>0.854037</td>\n      <td>0.477028</td>\n      <td>0.602198</td>\n      <td>0.793384</td>\n      <td>0.625598</td>\n      <td>0.981335</td>\n      <td>1.162505</td>\n      <td>0</td>\n    </tr>\n    <tr>\n      <th>...</th>\n      <td>...</td>\n      <td>...</td>\n      <td>...</td>\n      <td>...</td>\n      <td>...</td>\n      <td>...</td>\n      <td>...</td>\n      <td>...</td>\n      <td>...</td>\n      <td>...</td>\n      <td>...</td>\n      <td>...</td>\n      <td>...</td>\n      <td>...</td>\n      <td>...</td>\n      <td>...</td>\n      <td>...</td>\n      <td>...</td>\n      <td>...</td>\n      <td>...</td>\n      <td>...</td>\n    </tr>\n    <tr>\n      <th>74240</th>\n      <td>1183</td>\n      <td>37.007726</td>\n      <td>-3.280868</td>\n      <td>350.000000</td>\n      <td>True</td>\n      <td>False</td>\n      <td>1</td>\n      <td>0.619651</td>\n      <td>0.746142</td>\n      <td>0.627804</td>\n      <td>...</td>\n      <td>0.528367</td>\n      <td>0.898294</td>\n      <td>0.699696</td>\n      <td>0.537719</td>\n      <td>1.086092</td>\n      <td>0.793384</td>\n      <td>0.861791</td>\n      <td>0.666342</td>\n      <td>0.677651</td>\n      <td>0</td>\n    </tr>\n    <tr>\n      <th>74242</th>\n      <td>0</td>\n      <td>33.724987</td>\n      <td>-8.940758</td>\n      <td>0.000000</td>\n      <td>False</td>\n      <td>False</td>\n      <td>0</td>\n      <td>0.867585</td>\n      <td>0.679928</td>\n      <td>0.891169</td>\n      <td>...</td>\n      <td>0.907233</td>\n      <td>0.898294</td>\n      <td>0.699696</td>\n      <td>0.704487</td>\n      <td>0.683778</td>\n      <td>0.793384</td>\n      <td>0.625598</td>\n      <td>0.735053</td>\n      <td>0.677651</td>\n      <td>0</td>\n    </tr>\n    <tr>\n      <th>74243</th>\n      <td>1188</td>\n      <td>33.963539</td>\n      <td>-1.429477</td>\n      <td>95.000000</td>\n      <td>True</td>\n      <td>False</td>\n      <td>29</td>\n      <td>0.836638</td>\n      <td>0.914632</td>\n      <td>1.078903</td>\n      <td>...</td>\n      <td>0.907233</td>\n      <td>2.000000</td>\n      <td>0.854037</td>\n      <td>0.924005</td>\n      <td>1.028301</td>\n      <td>0.793384</td>\n      <td>0.625598</td>\n      <td>1.588321</td>\n      <td>1.162505</td>\n      <td>2</td>\n    </tr>\n    <tr>\n      <th>74246</th>\n      <td>1428</td>\n      <td>35.630481</td>\n      <td>-7.710549</td>\n      <td>1.000000</td>\n      <td>True</td>\n      <td>True</td>\n      <td>11</td>\n      <td>1.125000</td>\n      <td>0.679928</td>\n      <td>0.413034</td>\n      <td>...</td>\n      <td>0.907233</td>\n      <td>0.962963</td>\n      <td>0.699696</td>\n      <td>0.924005</td>\n      <td>0.602198</td>\n      <td>0.793384</td>\n      <td>1.946499</td>\n      <td>0.677102</td>\n      <td>0.677651</td>\n      <td>2</td>\n    </tr>\n    <tr>\n      <th>74247</th>\n      <td>965</td>\n      <td>35.432998</td>\n      <td>-10.639270</td>\n      <td>179.951496</td>\n      <td>True</td>\n      <td>True</td>\n      <td>4</td>\n      <td>0.825628</td>\n      <td>1.177415</td>\n      <td>0.803444</td>\n      <td>...</td>\n      <td>0.907233</td>\n      <td>0.256410</td>\n      <td>1.645411</td>\n      <td>0.924005</td>\n      <td>0.602198</td>\n      <td>0.793384</td>\n      <td>1.946499</td>\n      <td>0.735053</td>\n      <td>0.677651</td>\n      <td>2</td>\n    </tr>\n  </tbody>\n</table>\n<p>53460 rows × 21 columns</p>\n</div>"
     },
     "metadata": {},
     "execution_count": 17
    }
   ],
   "source": [
    "data_train_with_target = pd.concat([data_train, y_train], axis=1, join='inner')\n",
    "data_train_with_target"
   ]
  },
  {
   "cell_type": "code",
   "execution_count": 18,
   "metadata": {
    "tags": []
   },
   "outputs": [
    {
     "output_type": "stream",
     "name": "stdout",
     "text": "loaded preprocessing-results/wrangled-labeled-data-test-f80977aa7a9e6efea5f616e668b6cc19.csv\n\n<class 'pandas.core.frame.DataFrame'>\nInt64Index: 5940 entries, 4 to 74229\nData columns (total 20 columns):\n #   Column                            Non-Null Count  Dtype  \n---  ------                            --------------  -----  \n 0   gps_height                        5940 non-null   int64  \n 1   longitude                         5940 non-null   float64\n 2   latitude                          5940 non-null   float64\n 3   population                        5940 non-null   float64\n 4   public_meeting                    5940 non-null   bool   \n 5   permit                            5940 non-null   bool   \n 6   pump_age                          5940 non-null   int64  \n 7   installer_target_encoded          5940 non-null   float64\n 8   basin_target_encoded              5940 non-null   float64\n 9   region_code_target_encoded        5940 non-null   float64\n 10  district_code_target_encoded      5940 non-null   float64\n 11  scheme_management_target_encoded  5940 non-null   float64\n 12  scheme_name_target_encoded        5940 non-null   float64\n 13  extraction_type_target_encoded    5940 non-null   float64\n 14  management_target_encoded         5940 non-null   float64\n 15  payment_type_target_encoded       5940 non-null   float64\n 16  water_quality_target_encoded      5940 non-null   float64\n 17  quantity_target_encoded           5940 non-null   float64\n 18  source_target_encoded             5940 non-null   float64\n 19  waterpoint_type_target_encoded    5940 non-null   float64\ndtypes: bool(2), float64(16), int64(2)\nmemory usage: 893.3 KB\n"
    }
   ],
   "source": [
    "data_test = pd.read_csv(fname__validation_predictors, index_col=0).sort_index()\n",
    "print(f\"loaded {fname__validation_predictors}\\n\")\n",
    "\n",
    "data_test.info()"
   ]
  },
  {
   "cell_type": "code",
   "execution_count": 19,
   "metadata": {},
   "outputs": [
    {
     "output_type": "execute_result",
     "data": {
      "text/plain": "Int64Index([    4,     6,    40,    41,    46,    66,    75,    84,    96,\n              105,\n            ...\n            74140, 74145, 74158, 74166, 74177, 74195, 74199, 74214, 74215,\n            74229],\n           dtype='int64', name='id', length=5940)"
     },
     "metadata": {},
     "execution_count": 19
    }
   ],
   "source": [
    "data_test.index"
   ]
  },
  {
   "cell_type": "code",
   "execution_count": 20,
   "metadata": {
    "tags": []
   },
   "outputs": [
    {
     "output_type": "stream",
     "name": "stdout",
     "text": "loaded preprocessing-results/labels-test-f80977aa7a9e6efea5f616e668b6cc19.csv\n\n<class 'pandas.core.frame.DataFrame'>\nInt64Index: 5940 entries, 4 to 74229\nData columns (total 1 columns):\n #   Column        Non-Null Count  Dtype \n---  ------        --------------  ----- \n 0   status_group  5940 non-null   object\ndtypes: object(1)\nmemory usage: 92.8+ KB\n"
    }
   ],
   "source": [
    "y_test = pd.read_csv(fname__validation_labels, index_col=0).sort_index()\n",
    "print(f\"loaded {fname__validation_labels}\\n\")\n",
    "\n",
    "y_test.info()"
   ]
  },
  {
   "cell_type": "code",
   "execution_count": 21,
   "metadata": {},
   "outputs": [
    {
     "output_type": "execute_result",
     "data": {
      "text/plain": "Int64Index([    4,     6,    40,    41,    46,    66,    75,    84,    96,\n              105,\n            ...\n            74140, 74145, 74158, 74166, 74177, 74195, 74199, 74214, 74215,\n            74229],\n           dtype='int64', name='id', length=5940)"
     },
     "metadata": {},
     "execution_count": 21
    }
   ],
   "source": [
    "y_test.index"
   ]
  },
  {
   "cell_type": "code",
   "execution_count": 22,
   "metadata": {},
   "outputs": [
    {
     "output_type": "execute_result",
     "data": {
      "text/plain": "array([2, 0, 1])"
     },
     "metadata": {},
     "execution_count": 22
    }
   ],
   "source": [
    "y_test = let_labels.fit_transform(y_test)\n",
    "y_test.status_group.unique()"
   ]
  },
  {
   "cell_type": "code",
   "execution_count": 23,
   "metadata": {},
   "outputs": [
    {
     "output_type": "execute_result",
     "data": {
      "text/plain": "array(['functional', 'functional needs repair', 'non functional'],\n      dtype=object)"
     },
     "metadata": {},
     "execution_count": 23
    }
   ],
   "source": [
    "let_labels.labelencoder.classes_"
   ]
  },
  {
   "cell_type": "code",
   "execution_count": 24,
   "metadata": {},
   "outputs": [],
   "source": [
    "classes_test = list(let_labels.labelencoder.classes_)"
   ]
  },
  {
   "cell_type": "code",
   "execution_count": 25,
   "metadata": {},
   "outputs": [
    {
     "output_type": "execute_result",
     "data": {
      "text/plain": "       gps_height  longitude   latitude  population  public_meeting  permit  \\\nid                                                                            \n4               0  36.164893  -6.099289    0.000000            True    True   \n6               0  33.229880  -3.852983    0.000000            True    True   \n40           1636  37.579079  -7.082958  179.951496            True    True   \n41              5  39.228066  -6.903605  200.000000           False   False   \n46              0  36.151647  -6.137493    0.000000            True    True   \n...           ...        ...        ...         ...             ...     ...   \n74195         305  39.013796 -10.500101   30.000000            True    True   \n74199        1267  30.123296  -4.248082  179.951496            True   False   \n74214           0  33.166752  -2.975367    0.000000           False    True   \n74215           0  32.933201  -4.350711    0.000000           False   False   \n74229         479  38.091272  -4.431236  210.000000            True    True   \n\n       pump_age  installer_target_encoded  basin_target_encoded  \\\nid                                                                \n4             0                  0.600000              0.909414   \n6             0                  1.274706              0.776687   \n40            7                  0.000000              0.909414   \n41            3                  0.860597              0.909414   \n46            0                  1.000000              0.909414   \n...         ...                       ...                   ...   \n74195        20                  1.315508              1.177415   \n74199        35                  1.274706              0.922970   \n74214         0                  0.836638              0.914632   \n74215         0                  0.602210              0.922970   \n74229         2                  1.500000              0.746142   \n\n       region_code_target_encoded  ...  scheme_management_target_encoded  \\\nid                                 ...                                     \n4                        0.991504  ...                          0.907233   \n6                        0.762914  ...                          0.907233   \n40                       0.865502  ...                          0.907233   \n41                       0.858127  ...                          0.614650   \n46                       0.991504  ...                          0.907233   \n...                           ...  ...                               ...   \n74195                    1.485993  ...                          0.907233   \n74199                    0.815006  ...                          0.828901   \n74214                    0.974873  ...                          0.907233   \n74215                    1.118044  ...                          0.907233   \n74229                    0.723328  ...                          0.828901   \n\n       scheme_name_target_encoded  extraction_type_target_encoded  \\\nid                                                                  \n4                        0.898294                        0.594223   \n6                        0.898294                        1.645411   \n40                       0.333333                        0.699696   \n41                       0.898294                        0.854037   \n46                       0.898294                        0.594223   \n...                           ...                             ...   \n74195                    0.898294                        0.699696   \n74199                    0.898294                        0.995249   \n74214                    0.898294                        0.623434   \n74215                    0.898294                        0.594223   \n74229                    0.000000                        0.699696   \n\n       management_target_encoded  payment_type_target_encoded  \\\nid                                                              \n4                       0.924005                     1.086092   \n6                       0.924005                     1.028301   \n40                      0.924005                     1.028301   \n41                      0.477028                     0.602198   \n46                      0.924005                     1.028301   \n...                          ...                          ...   \n74195                   0.924005                     1.028301   \n74199                   0.924005                     0.741799   \n74214                   0.924005                     1.028301   \n74215                   0.924005                     1.028301   \n74229                   0.924005                     0.602198   \n\n       water_quality_target_encoded  quantity_target_encoded  \\\nid                                                             \n4                          0.793384                 1.946499   \n6                          0.793384                 0.747809   \n40                         0.793384                 0.625598   \n41                         0.793384                 0.625598   \n46                         0.793384                 0.861791   \n...                             ...                      ...   \n74195                      0.793384                 0.747809   \n74199                      0.793384                 0.625598   \n74214                      1.709233                 1.439161   \n74215                      0.793384                 0.625598   \n74229                      0.793384                 0.625598   \n\n       source_target_encoded  waterpoint_type_target_encoded  status_group  \nid                                                                          \n4                   0.953780                        0.708085             2  \n6                   0.953780                        1.692281             2  \n40                  0.735053                        0.677651             0  \n41                  0.981335                        0.677651             0  \n46                  0.953780                        0.708085             0  \n...                      ...                             ...           ...  \n74195               0.677102                        0.677651             1  \n74199               0.981335                        1.162505             2  \n74214               0.981335                        0.708085             2  \n74215               0.953780                        0.708085             0  \n74229               0.735053                        0.677651             0  \n\n[5940 rows x 21 columns]",
      "text/html": "<div>\n<style scoped>\n    .dataframe tbody tr th:only-of-type {\n        vertical-align: middle;\n    }\n\n    .dataframe tbody tr th {\n        vertical-align: top;\n    }\n\n    .dataframe thead th {\n        text-align: right;\n    }\n</style>\n<table border=\"1\" class=\"dataframe\">\n  <thead>\n    <tr style=\"text-align: right;\">\n      <th></th>\n      <th>gps_height</th>\n      <th>longitude</th>\n      <th>latitude</th>\n      <th>population</th>\n      <th>public_meeting</th>\n      <th>permit</th>\n      <th>pump_age</th>\n      <th>installer_target_encoded</th>\n      <th>basin_target_encoded</th>\n      <th>region_code_target_encoded</th>\n      <th>...</th>\n      <th>scheme_management_target_encoded</th>\n      <th>scheme_name_target_encoded</th>\n      <th>extraction_type_target_encoded</th>\n      <th>management_target_encoded</th>\n      <th>payment_type_target_encoded</th>\n      <th>water_quality_target_encoded</th>\n      <th>quantity_target_encoded</th>\n      <th>source_target_encoded</th>\n      <th>waterpoint_type_target_encoded</th>\n      <th>status_group</th>\n    </tr>\n    <tr>\n      <th>id</th>\n      <th></th>\n      <th></th>\n      <th></th>\n      <th></th>\n      <th></th>\n      <th></th>\n      <th></th>\n      <th></th>\n      <th></th>\n      <th></th>\n      <th></th>\n      <th></th>\n      <th></th>\n      <th></th>\n      <th></th>\n      <th></th>\n      <th></th>\n      <th></th>\n      <th></th>\n      <th></th>\n      <th></th>\n    </tr>\n  </thead>\n  <tbody>\n    <tr>\n      <th>4</th>\n      <td>0</td>\n      <td>36.164893</td>\n      <td>-6.099289</td>\n      <td>0.000000</td>\n      <td>True</td>\n      <td>True</td>\n      <td>0</td>\n      <td>0.600000</td>\n      <td>0.909414</td>\n      <td>0.991504</td>\n      <td>...</td>\n      <td>0.907233</td>\n      <td>0.898294</td>\n      <td>0.594223</td>\n      <td>0.924005</td>\n      <td>1.086092</td>\n      <td>0.793384</td>\n      <td>1.946499</td>\n      <td>0.953780</td>\n      <td>0.708085</td>\n      <td>2</td>\n    </tr>\n    <tr>\n      <th>6</th>\n      <td>0</td>\n      <td>33.229880</td>\n      <td>-3.852983</td>\n      <td>0.000000</td>\n      <td>True</td>\n      <td>True</td>\n      <td>0</td>\n      <td>1.274706</td>\n      <td>0.776687</td>\n      <td>0.762914</td>\n      <td>...</td>\n      <td>0.907233</td>\n      <td>0.898294</td>\n      <td>1.645411</td>\n      <td>0.924005</td>\n      <td>1.028301</td>\n      <td>0.793384</td>\n      <td>0.747809</td>\n      <td>0.953780</td>\n      <td>1.692281</td>\n      <td>2</td>\n    </tr>\n    <tr>\n      <th>40</th>\n      <td>1636</td>\n      <td>37.579079</td>\n      <td>-7.082958</td>\n      <td>179.951496</td>\n      <td>True</td>\n      <td>True</td>\n      <td>7</td>\n      <td>0.000000</td>\n      <td>0.909414</td>\n      <td>0.865502</td>\n      <td>...</td>\n      <td>0.907233</td>\n      <td>0.333333</td>\n      <td>0.699696</td>\n      <td>0.924005</td>\n      <td>1.028301</td>\n      <td>0.793384</td>\n      <td>0.625598</td>\n      <td>0.735053</td>\n      <td>0.677651</td>\n      <td>0</td>\n    </tr>\n    <tr>\n      <th>41</th>\n      <td>5</td>\n      <td>39.228066</td>\n      <td>-6.903605</td>\n      <td>200.000000</td>\n      <td>False</td>\n      <td>False</td>\n      <td>3</td>\n      <td>0.860597</td>\n      <td>0.909414</td>\n      <td>0.858127</td>\n      <td>...</td>\n      <td>0.614650</td>\n      <td>0.898294</td>\n      <td>0.854037</td>\n      <td>0.477028</td>\n      <td>0.602198</td>\n      <td>0.793384</td>\n      <td>0.625598</td>\n      <td>0.981335</td>\n      <td>0.677651</td>\n      <td>0</td>\n    </tr>\n    <tr>\n      <th>46</th>\n      <td>0</td>\n      <td>36.151647</td>\n      <td>-6.137493</td>\n      <td>0.000000</td>\n      <td>True</td>\n      <td>True</td>\n      <td>0</td>\n      <td>1.000000</td>\n      <td>0.909414</td>\n      <td>0.991504</td>\n      <td>...</td>\n      <td>0.907233</td>\n      <td>0.898294</td>\n      <td>0.594223</td>\n      <td>0.924005</td>\n      <td>1.028301</td>\n      <td>0.793384</td>\n      <td>0.861791</td>\n      <td>0.953780</td>\n      <td>0.708085</td>\n      <td>0</td>\n    </tr>\n    <tr>\n      <th>...</th>\n      <td>...</td>\n      <td>...</td>\n      <td>...</td>\n      <td>...</td>\n      <td>...</td>\n      <td>...</td>\n      <td>...</td>\n      <td>...</td>\n      <td>...</td>\n      <td>...</td>\n      <td>...</td>\n      <td>...</td>\n      <td>...</td>\n      <td>...</td>\n      <td>...</td>\n      <td>...</td>\n      <td>...</td>\n      <td>...</td>\n      <td>...</td>\n      <td>...</td>\n      <td>...</td>\n    </tr>\n    <tr>\n      <th>74195</th>\n      <td>305</td>\n      <td>39.013796</td>\n      <td>-10.500101</td>\n      <td>30.000000</td>\n      <td>True</td>\n      <td>True</td>\n      <td>20</td>\n      <td>1.315508</td>\n      <td>1.177415</td>\n      <td>1.485993</td>\n      <td>...</td>\n      <td>0.907233</td>\n      <td>0.898294</td>\n      <td>0.699696</td>\n      <td>0.924005</td>\n      <td>1.028301</td>\n      <td>0.793384</td>\n      <td>0.747809</td>\n      <td>0.677102</td>\n      <td>0.677651</td>\n      <td>1</td>\n    </tr>\n    <tr>\n      <th>74199</th>\n      <td>1267</td>\n      <td>30.123296</td>\n      <td>-4.248082</td>\n      <td>179.951496</td>\n      <td>True</td>\n      <td>False</td>\n      <td>35</td>\n      <td>1.274706</td>\n      <td>0.922970</td>\n      <td>0.815006</td>\n      <td>...</td>\n      <td>0.828901</td>\n      <td>0.898294</td>\n      <td>0.995249</td>\n      <td>0.924005</td>\n      <td>0.741799</td>\n      <td>0.793384</td>\n      <td>0.625598</td>\n      <td>0.981335</td>\n      <td>1.162505</td>\n      <td>2</td>\n    </tr>\n    <tr>\n      <th>74214</th>\n      <td>0</td>\n      <td>33.166752</td>\n      <td>-2.975367</td>\n      <td>0.000000</td>\n      <td>False</td>\n      <td>True</td>\n      <td>0</td>\n      <td>0.836638</td>\n      <td>0.914632</td>\n      <td>0.974873</td>\n      <td>...</td>\n      <td>0.907233</td>\n      <td>0.898294</td>\n      <td>0.623434</td>\n      <td>0.924005</td>\n      <td>1.028301</td>\n      <td>1.709233</td>\n      <td>1.439161</td>\n      <td>0.981335</td>\n      <td>0.708085</td>\n      <td>2</td>\n    </tr>\n    <tr>\n      <th>74215</th>\n      <td>0</td>\n      <td>32.933201</td>\n      <td>-4.350711</td>\n      <td>0.000000</td>\n      <td>False</td>\n      <td>False</td>\n      <td>0</td>\n      <td>0.602210</td>\n      <td>0.922970</td>\n      <td>1.118044</td>\n      <td>...</td>\n      <td>0.907233</td>\n      <td>0.898294</td>\n      <td>0.594223</td>\n      <td>0.924005</td>\n      <td>1.028301</td>\n      <td>0.793384</td>\n      <td>0.625598</td>\n      <td>0.953780</td>\n      <td>0.708085</td>\n      <td>0</td>\n    </tr>\n    <tr>\n      <th>74229</th>\n      <td>479</td>\n      <td>38.091272</td>\n      <td>-4.431236</td>\n      <td>210.000000</td>\n      <td>True</td>\n      <td>True</td>\n      <td>2</td>\n      <td>1.500000</td>\n      <td>0.746142</td>\n      <td>0.723328</td>\n      <td>...</td>\n      <td>0.828901</td>\n      <td>0.000000</td>\n      <td>0.699696</td>\n      <td>0.924005</td>\n      <td>0.602198</td>\n      <td>0.793384</td>\n      <td>0.625598</td>\n      <td>0.735053</td>\n      <td>0.677651</td>\n      <td>0</td>\n    </tr>\n  </tbody>\n</table>\n<p>5940 rows × 21 columns</p>\n</div>"
     },
     "metadata": {},
     "execution_count": 25
    }
   ],
   "source": [
    "data_test_with_target = pd.concat([data_test, y_test], axis=1, join='inner')\n",
    "data_test_with_target"
   ]
  },
  {
   "cell_type": "code",
   "execution_count": 26,
   "metadata": {
    "tags": []
   },
   "outputs": [
    {
     "output_type": "stream",
     "name": "stdout",
     "text": "<class 'pandas.core.frame.DataFrame'>\nInt64Index: 59400 entries, 0 to 74247\nData columns (total 21 columns):\n #   Column                            Non-Null Count  Dtype  \n---  ------                            --------------  -----  \n 0   gps_height                        59400 non-null  int64  \n 1   longitude                         59400 non-null  float64\n 2   latitude                          59400 non-null  float64\n 3   population                        59400 non-null  float64\n 4   public_meeting                    59400 non-null  bool   \n 5   permit                            59400 non-null  bool   \n 6   pump_age                          59400 non-null  int64  \n 7   installer_target_encoded          59400 non-null  float64\n 8   basin_target_encoded              59400 non-null  float64\n 9   region_code_target_encoded        59400 non-null  float64\n 10  district_code_target_encoded      59400 non-null  float64\n 11  scheme_management_target_encoded  59400 non-null  float64\n 12  scheme_name_target_encoded        59400 non-null  float64\n 13  extraction_type_target_encoded    59400 non-null  float64\n 14  management_target_encoded         59400 non-null  float64\n 15  payment_type_target_encoded       59400 non-null  float64\n 16  water_quality_target_encoded      59400 non-null  float64\n 17  quantity_target_encoded           59400 non-null  float64\n 18  source_target_encoded             59400 non-null  float64\n 19  waterpoint_type_target_encoded    59400 non-null  float64\n 20  status_group                      59400 non-null  int64  \ndtypes: bool(2), float64(16), int64(3)\nmemory usage: 9.2 MB\n"
    }
   ],
   "source": [
    "data_ALL_labeled_with_target = pd.concat([data_train_with_target, data_test_with_target], axis=0).sort_index()\n",
    "data_ALL_labeled_with_target.info()"
   ]
  },
  {
   "cell_type": "code",
   "execution_count": 27,
   "metadata": {},
   "outputs": [
    {
     "output_type": "execute_result",
     "data": {
      "text/plain": "Int64Index([    0,     1,     2,     3,     4,     5,     6,     7,     8,\n                9,\n            ...\n            74235, 74236, 74237, 74238, 74239, 74240, 74242, 74243, 74246,\n            74247],\n           dtype='int64', name='id', length=59400)"
     },
     "metadata": {},
     "execution_count": 27
    }
   ],
   "source": [
    "data_ALL_labeled_with_target.index"
   ]
  },
  {
   "cell_type": "markdown",
   "metadata": {},
   "source": [
    "<p><br>\n",
    "<h2>Build Models (Run Trials)</h2>\n",
    "\n",
    "<h3>General functions for building Classifiers and running trials</h3>"
   ]
  },
  {
   "cell_type": "code",
   "execution_count": 28,
   "metadata": {},
   "outputs": [],
   "source": [
    "# utility function to render HTML and optionally log (append) it to file\n",
    "def render_HTML(the_html, fname=None):\n",
    "    display(HTML(the_html))\n",
    "    if fname is not None:\n",
    "        fm.append_text_file(BeautifulSoup(the_html).text + '\\n', fname)"
   ]
  },
  {
   "cell_type": "code",
   "execution_count": 29,
   "metadata": {},
   "outputs": [],
   "source": [
    "def get_trials_log_fname(clf):\n",
    "    return f\"{MODEL_RESULTS_DIR}{clf.__class__.__name__}-{digest}-trials.log\" if LOG_MODEL_TRIALS else None"
   ]
  },
  {
   "cell_type": "code",
   "execution_count": 30,
   "metadata": {},
   "outputs": [],
   "source": [
    "def gs_find_best_params(clf, param_grid):\n",
    "    render_HTML(f\"<br><br>param_grid for {clf.__class__.__name__} GridSearch:<br><pre>{params}</pre>\", fname=get_trials_log_fname(clf))\n",
    "    grid_clf = GridSearchCV(\n",
    "        clf, \n",
    "        param_grid, \n",
    "        cv=K, \n",
    "        n_jobs=-1\n",
    "        , verbose=20\n",
    "    )\n",
    "    # with joblib.parallel_backend('dask'):\n",
    "    #     %time _ = grid_clf.fit(data_train, y_train)\n",
    "    %time _ = grid_clf.fit(data_train, y_train)\n",
    "    return grid_clf.best_params_"
   ]
  },
  {
   "cell_type": "code",
   "execution_count": 31,
   "metadata": {},
   "outputs": [],
   "source": [
    "def clf_fit(clf, data_train, y_train):\n",
    "    # with joblib.parallel_backend('dask'):\n",
    "    #     %time clf.fit(data_train, y_train)\n",
    "    %time clf.fit(data_train, y_train)\n",
    "    return clf"
   ]
  },
  {
   "cell_type": "code",
   "execution_count": 32,
   "metadata": {},
   "outputs": [],
   "source": [
    "def summarize_preds(clf, X, y, preds, dataset_name, classes):\n",
    "    render_HTML(\"<p><br>\", fname=get_trials_log_fname(clf))\n",
    "    _accuracy = accuracy_score(y, preds)\n",
    "    render_HTML(f\"{dataset_name} Accuracy: {round(_accuracy*100,4)}\", fname=get_trials_log_fname(clf))\n",
    "    render_HTML(\"<p><br>\", fname=get_trials_log_fname(clf))\n",
    "    render_HTML(f\"<pre>{classification_report(y, preds, target_names=classes)}</pre>\", fname=get_trials_log_fname(clf))\n",
    "    return _accuracy"
   ]
  },
  {
   "cell_type": "code",
   "execution_count": 33,
   "metadata": {},
   "outputs": [],
   "source": [
    "def get_feat_importances(clf):\n",
    "    feat_importances = {}\n",
    "    for i, feat in enumerate(list(data_train.columns)):\n",
    "        feat_importances[feat] = clf.feature_importances_[i]\n",
    "    return sorted(list(feat_importances.items()), key=lambda item: item[1], reverse=True)"
   ]
  },
  {
   "cell_type": "code",
   "execution_count": 34,
   "metadata": {},
   "outputs": [],
   "source": [
    "def clf_run_trial(clf, params_to_try, best_parameters_so_far, run_trials_gridsearch=False):\n",
    "    if run_trials_gridsearch:\n",
    "        for param_name, param_value in best_parameters_so_far.items():\n",
    "            params_to_try.update({param_name: [param_value]})\n",
    "        best_parameters = gs_find_best_params(clf, params_to_try)\n",
    "    else:\n",
    "        best_parameters = params_to_try\n",
    "    best_parameters_so_far.update(best_parameters)\n",
    "\n",
    "    render_HTML(\"<p><br>\", fname=get_trials_log_fname(clf))\n",
    "    render_HTML(f\"Grid Search {'(previously) ' if not run_trials_gridsearch else ''}found the following optimal parameters: \", fname=get_trials_log_fname(clf))\n",
    "    render_HTML(f\"<pre>{pprint.pformat(best_parameters_so_far, indent=4)}</pre>\", fname=get_trials_log_fname(clf))\n",
    "\n",
    "    _y_train = y_train.status_group.ravel()\n",
    "    _y_test = y_test.status_group.ravel()\n",
    "    \n",
    "    render_HTML(\"<p><br>\", fname=get_trials_log_fname(clf))\n",
    "    render_HTML(\"Fitting classifier...\", fname=get_trials_log_fname(clf))\n",
    "    clf = clf.set_params(**best_parameters_so_far)\n",
    "    clf = clf_fit(clf, data_train, _y_train)\n",
    "    s_all_done = \"\\tALL DONE!\"\n",
    "    render_HTML(f\"<pre>{s_all_done}</pre>\", fname=get_trials_log_fname(clf))\n",
    "\n",
    "    _class_name = clf.__class__.__name__\n",
    "    model_results['modeling_results'][_class_name] = {}\n",
    "\n",
    "    render_HTML(\"<p><br>\", fname=get_trials_log_fname(clf))\n",
    "    render_HTML(\"Predicting labels on training data...\", fname=get_trials_log_fname(clf))\n",
    "    pred_train = clf.predict(data_train)\n",
    "    render_HTML(f\"<pre>{s_all_done}</pre>\", fname=get_trials_log_fname(clf))\n",
    "    _accuracy_train = summarize_preds(clf, data_train, _y_train, pred_train, 'Training', classes_train)\n",
    "    model_results['modeling_results'][_class_name]['accuracy'] = {}\n",
    "    model_results['modeling_results'][_class_name]['accuracy']['train'] = _accuracy_train\n",
    "\n",
    "    if not run_trials_gridsearch:\n",
    "        render_HTML(\"<p><br>\")\n",
    "        render_HTML(\"Computing cross-val score on training data...\")\n",
    "        model_results['modeling_results'][_class_name]['cv_score'] = {}\n",
    "        cv_score_train = cross_val_score(clf, data_train, _y_train, cv=cross_val_score_K)\n",
    "        mean_cv_score_train = np.mean(cv_score_train)\n",
    "        model_results['modeling_results'][_class_name]['cv_score']['train'] = mean_cv_score_train\n",
    "        render_HTML(f\"<pre>{s_all_done} scores: {cv_score_train}</pre>\")\n",
    "        render_HTML(f\"cross_val_score: {mean_cv_score_train}\")\n",
    "\n",
    "    render_HTML(\"<p><br>\", fname=get_trials_log_fname(clf))\n",
    "    render_HTML(f\"Predicting labels on testing data...\", fname=get_trials_log_fname(clf))\n",
    "    pred_test = clf.predict(data_test)\n",
    "    render_HTML(f\"<pre>{s_all_done}</pre>\", fname=get_trials_log_fname(clf))\n",
    "    _accuracy_test = summarize_preds(clf, data_test, _y_test, pred_test, 'Testing', classes_test)\n",
    "    model_results['modeling_results'][_class_name]['accuracy']['test'] = _accuracy_test\n",
    "    model_results['modeling_results'][_class_name]['feature_importances'] = get_feat_importances(clf)\n",
    "    \n",
    "    if not run_trials_gridsearch:\n",
    "        render_HTML(\"<p><br>\")\n",
    "        render_HTML(f\"Computing cross-val score on testing data...\")\n",
    "        cv_score_test = cross_val_score(clf, data_test, _y_test, cv=cross_val_score_K)\n",
    "        mean_cv_score_test = np.mean(cv_score_test)\n",
    "        model_results['modeling_results'][_class_name]['cv_score']['test'] = mean_cv_score_test\n",
    "        render_HTML(f\"<pre>{s_all_done} scores: {cv_score_test}</pre>\")\n",
    "        render_HTML(f\"cross_val_score: {mean_cv_score_test}\")\n",
    "\n",
    "    render_HTML(\"<p><br>\", fname=get_trials_log_fname(clf))\n",
    "    render_HTML(\"Feature Importances:\", fname=get_trials_log_fname(clf))\n",
    "    render_HTML(f\"<pre>{pprint.pformat(model_results['modeling_results'][_class_name]['feature_importances'], indent=4)}</pre><p><br><br>\", fname=get_trials_log_fname(clf))\n",
    "\n",
    "    return clf, best_parameters_so_far, model_results"
   ]
  },
  {
   "cell_type": "code",
   "execution_count": 35,
   "metadata": {},
   "outputs": [],
   "source": [
    "def clf_build_final_model(clf, params):\n",
    "    render_HTML(\"Fitting classifier {} to ALL LABALED data...\")\n",
    "    clf = clf.set_params(**best_parameters_so_far)\n",
    "    clf = clf_fit(clf, data_ALL_labeled_with_target.drop('status_group', axis=1), data_ALL_labeled_with_target[['status_group']])\n",
    "    s_all_done = \"\\tALL DONE!\"\n",
    "    render_HTML(f\"<pre>{s_all_done}</pre>\")\n",
    "\n",
    "    render_HTML(\"<p><br>\", fname=get_trials_log_fname(clf))\n",
    "    render_HTML(\"Predicting labels of UNLABELED data...\", fname=get_trials_log_fname(clf))\n",
    "    pred_unlabeled = clf.predict(data_unlabeled)\n",
    "    render_HTML(f\"<pre>{s_all_done}</pre>\", fname=get_trials_log_fname(clf))\n",
    "\n",
    "    return "
   ]
  },
  {
   "cell_type": "markdown",
   "metadata": {},
   "source": [
    "<p><br>\n",
    "<h2>Initialize Dask-Client (to Dask backend for parallelization) <i>(DISABLED for now)</i></h2>"
   ]
  },
  {
   "cell_type": "code",
   "execution_count": 36,
   "metadata": {},
   "outputs": [],
   "source": [
    "if models_config['dask']['use']:\n",
    "    if models_config['dask']['is_remote']:\n",
    "        # for Kubernetes dask scheduler/worker cluster in GCP - but this costs money to run the cluster AND requires a lot more work for data parallelization!\n",
    "        dask_client = Client(f\"tcp://{models_config['dask']['remote']['scheduler_address']}:8786\")\n",
    "    else:\n",
    "        # local\n",
    "        dask_client = Client( #spawns a local cluster\n",
    "            n_workers=models_config['dask']['local']['n_workers'], \n",
    "            threads_per_worker=models_config['dask']['local']['n_jobs'], \n",
    "            memory_limit=models_config['dask']['local']['memory_limit'] # memory_limit is per worker\n",
    "        )\n",
    "\n",
    "    dask_client"
   ]
  },
  {
   "cell_type": "markdown",
   "metadata": {},
   "source": [
    "<p><br>\n",
    "<h3>Decision Tree Classifier</h3>\n",
    "<h4>Trials</h4>"
   ]
  },
  {
   "cell_type": "code",
   "execution_count": 37,
   "metadata": {},
   "outputs": [
    {
     "output_type": "display_data",
     "data": {
      "text/plain": "<IPython.core.display.HTML object>",
      "text/html": "models_config['DecisionTreeClassifier']['run']: False"
     },
     "metadata": {}
    }
   ],
   "source": [
    "run_dtclf = models_config['DecisionTreeClassifier']['run']\n",
    "render_HTML(f\"models_config['DecisionTreeClassifier']['run']: {run_dtclf}\")\n",
    "\n",
    "if run_dtclf:\n",
    "    trials = models_config['DecisionTreeClassifier']['trials']\n",
    "\n",
    "    display(HTML(f\"models_config['DecisionTreeClassifier']['trials']['run']: {trials['run']}\"))\n",
    "    if trials['run']:\n",
    "        trials_list = trials['array']\n",
    "\n",
    "        best_parameters = {}\n",
    "        for i, trial in enumerate(trials_list):\n",
    "            display(HTML(f\"<p><br>trial[{i}]['gridsearch']['run']: {trial['gridsearch']['run']}<br>\"))\n",
    "            params = trial['gridsearch']['last_best'] if not trial['gridsearch']['run'] else trial['gridsearch']['param_grid']\n",
    "            rfclf, best_parameters, model_results = clf_run_trial(DecisionTreeClassifier(), params, best_parameters, run_trials_gridsearch=trial['gridsearch']['run']) # note that best_parameters will be set to those used in the last trial\n",
    "\n",
    "    else:\n",
    "        best_parameters = models_config['DecisionTreeClassifier']['params']"
   ]
  },
  {
   "cell_type": "markdown",
   "metadata": {},
   "source": [
    "<p><br>\n",
    "<h4>Build Final Model with best params</h4>"
   ]
  },
  {
   "cell_type": "code",
   "execution_count": 38,
   "metadata": {
    "tags": []
   },
   "outputs": [],
   "source": [
    "if run_dtclf:\n",
    "    best_parameters.update({'random_state': SEED})\n",
    "    dtclf, _, model_results = clf_run_trial(DecisionTreeClassifier(), best_parameters, best_parameters)"
   ]
  },
  {
   "cell_type": "markdown",
   "metadata": {},
   "source": [
    "<p><br>\n",
    "<h3>Random Forest Classifier</h3>\n",
    "<h4>Trials</h4>"
   ]
  },
  {
   "cell_type": "code",
   "execution_count": 39,
   "metadata": {},
   "outputs": [
    {
     "output_type": "display_data",
     "data": {
      "text/plain": "<IPython.core.display.HTML object>",
      "text/html": "models_config['RandomForestClassifier']['run']: False"
     },
     "metadata": {}
    }
   ],
   "source": [
    "run_rfclf = models_config['RandomForestClassifier']['run']\n",
    "render_HTML(f\"models_config['RandomForestClassifier']['run']: {run_rfclf}\")\n",
    "\n",
    "if run_rfclf:\n",
    "    trials = models_config['RandomForestClassifier']['trials']\n",
    "\n",
    "    render_HTML(f\"models_config['RandomForestClassifier']['trials']['run']: {trials['run']}\")\n",
    "    if trials['run']:\n",
    "        trials_list = trials['array']\n",
    "\n",
    "        best_parameters = {}\n",
    "        for i, trial in enumerate(trials_list):\n",
    "            render_HTML(f\"<p><br>trial[{i}]['gridsearch']['run']: {trial['gridsearch']['run']}<br>\")\n",
    "            params = trial['gridsearch']['last_best'] if not trial['gridsearch']['run'] else trial['gridsearch']['param_grid']\n",
    "            if trial['gridsearch']['run']:\n",
    "                params.update({'n_jobs': [-1]})\n",
    "            else:\n",
    "                params.update({'n_jobs':-1})\n",
    "            rfclf, best_parameters, model_results = clf_run_trial(RandomForestClassifier(), params, best_parameters, run_trials_gridsearch=trial['gridsearch']['run']) # note that best_parameters will be set to those used in the last trial\n",
    "\n",
    "    else:\n",
    "        best_parameters = models_config['RandomForestClassifier']['params']"
   ]
  },
  {
   "cell_type": "markdown",
   "metadata": {},
   "source": [
    "<p><br>\n",
    "<h4>Build Final Model with best params</h4>"
   ]
  },
  {
   "cell_type": "code",
   "execution_count": 40,
   "metadata": {
    "tags": []
   },
   "outputs": [],
   "source": [
    "if run_rfclf:\n",
    "    best_parameters.update({'n_jobs':-1, 'verbose':1, 'random_state': SEED})\n",
    "    rfclf, _ , model_results = clf_run_trial(RandomForestClassifier(), best_parameters, best_parameters)"
   ]
  },
  {
   "cell_type": "markdown",
   "metadata": {},
   "source": [
    "<p><br><br><br>\n",
    "<h3>XGBClassifier</h3>\n",
    "<h4>Trials</h4>"
   ]
  },
  {
   "cell_type": "code",
   "execution_count": 41,
   "metadata": {},
   "outputs": [
    {
     "output_type": "display_data",
     "data": {
      "text/plain": "<IPython.core.display.HTML object>",
      "text/html": "models_config['XGBClassifier']['run']: True"
     },
     "metadata": {}
    },
    {
     "output_type": "display_data",
     "data": {
      "text/plain": "<IPython.core.display.HTML object>",
      "text/html": "models_config['XGBClassifier']['trials']['run']: False"
     },
     "metadata": {}
    }
   ],
   "source": [
    "run_xgbclf = models_config['XGBClassifier']['run']\n",
    "render_HTML(f\"models_config['XGBClassifier']['run']: {run_xgbclf}\")\n",
    "\n",
    "if run_xgbclf:\n",
    "    trials = models_config['XGBClassifier']['trials']\n",
    "\n",
    "    render_HTML(f\"models_config['XGBClassifier']['trials']['run']: {trials['run']}\")\n",
    "    if trials['run']:\n",
    "        trials_list = trials['array']\n",
    "\n",
    "        best_parameters = {}\n",
    "        for i, trial in enumerate(trials_list):\n",
    "            render_HTML(f\"<p><br>trial[{i}]['gridsearch']['run']: {trial['gridsearch']['run']}<br>\")\n",
    "            params = trial['gridsearch']['last_best'] if not trial['gridsearch']['run'] else trial['gridsearch']['param_grid']\n",
    "            if trial['gridsearch']['run']:\n",
    "                params.update({'n_jobs': [-1]})\n",
    "            else:\n",
    "                params.update({'n_jobs':-1})\n",
    "            xgbclf, best_parameters, model_results = clf_run_trial(XGBClassifier(), params, best_parameters, run_trials_gridsearch=trial['gridsearch']['run']) # note that best_parameters will be set to those used in the last trial\n",
    "\n",
    "    else:\n",
    "        best_parameters = models_config['XGBClassifier']['params']"
   ]
  },
  {
   "cell_type": "markdown",
   "metadata": {},
   "source": [
    "<p><br>\n",
    "<h4>Build Final Vaildation Model with best params</h4>"
   ]
  },
  {
   "cell_type": "code",
   "execution_count": 42,
   "metadata": {
    "tags": []
   },
   "outputs": [
    {
     "output_type": "display_data",
     "data": {
      "text/plain": "<IPython.core.display.HTML object>",
      "text/html": "<p><br>"
     },
     "metadata": {}
    },
    {
     "output_type": "display_data",
     "data": {
      "text/plain": "<IPython.core.display.HTML object>",
      "text/html": "Grid Search (previously) found the following optimal parameters: "
     },
     "metadata": {}
    },
    {
     "output_type": "display_data",
     "data": {
      "text/plain": "<IPython.core.display.HTML object>",
      "text/html": "<pre>{   'gamma': 2,\n    'learning_rate': 0.1,\n    'max_depth': 22,\n    'min_child_weight': 1,\n    'n_estimators': 100,\n    'n_jobs': -1,\n    'random_state': 42,\n    'verbosity': 1}</pre>"
     },
     "metadata": {}
    },
    {
     "output_type": "display_data",
     "data": {
      "text/plain": "<IPython.core.display.HTML object>",
      "text/html": "<p><br>"
     },
     "metadata": {}
    },
    {
     "output_type": "display_data",
     "data": {
      "text/plain": "<IPython.core.display.HTML object>",
      "text/html": "Fitting classifier..."
     },
     "metadata": {}
    },
    {
     "output_type": "stream",
     "name": "stdout",
     "text": "CPU times: user 4min, sys: 4.46 s, total: 4min 5s\nWall time: 37.2 s\n"
    },
    {
     "output_type": "display_data",
     "data": {
      "text/plain": "<IPython.core.display.HTML object>",
      "text/html": "<pre>\tALL DONE!</pre>"
     },
     "metadata": {}
    },
    {
     "output_type": "display_data",
     "data": {
      "text/plain": "<IPython.core.display.HTML object>",
      "text/html": "<p><br>"
     },
     "metadata": {}
    },
    {
     "output_type": "display_data",
     "data": {
      "text/plain": "<IPython.core.display.HTML object>",
      "text/html": "Predicting labels on training data..."
     },
     "metadata": {}
    },
    {
     "output_type": "display_data",
     "data": {
      "text/plain": "<IPython.core.display.HTML object>",
      "text/html": "<pre>\tALL DONE!</pre>"
     },
     "metadata": {}
    },
    {
     "output_type": "display_data",
     "data": {
      "text/plain": "<IPython.core.display.HTML object>",
      "text/html": "<p><br>"
     },
     "metadata": {}
    },
    {
     "output_type": "display_data",
     "data": {
      "text/plain": "<IPython.core.display.HTML object>",
      "text/html": "Training Accuracy: 90.2825"
     },
     "metadata": {}
    },
    {
     "output_type": "display_data",
     "data": {
      "text/plain": "<IPython.core.display.HTML object>",
      "text/html": "<p><br>"
     },
     "metadata": {}
    },
    {
     "output_type": "display_data",
     "data": {
      "text/plain": "<IPython.core.display.HTML object>",
      "text/html": "<pre>                         precision    recall  f1-score   support\n\n             functional       0.88      0.97      0.92     28991\nfunctional needs repair       0.88      0.53      0.66      3885\n         non functional       0.94      0.88      0.91     20584\n\n               accuracy                           0.90     53460\n              macro avg       0.90      0.79      0.83     53460\n           weighted avg       0.90      0.90      0.90     53460\n</pre>"
     },
     "metadata": {}
    },
    {
     "output_type": "display_data",
     "data": {
      "text/plain": "<IPython.core.display.HTML object>",
      "text/html": "<p><br>"
     },
     "metadata": {}
    },
    {
     "output_type": "display_data",
     "data": {
      "text/plain": "<IPython.core.display.HTML object>",
      "text/html": "Computing cross-val score on training data..."
     },
     "metadata": {}
    },
    {
     "output_type": "display_data",
     "data": {
      "text/plain": "<IPython.core.display.HTML object>",
      "text/html": "<pre>\tALL DONE! scores: [0.81949121 0.82379349 0.8144407  0.81518893 0.8184624 ]</pre>"
     },
     "metadata": {}
    },
    {
     "output_type": "display_data",
     "data": {
      "text/plain": "<IPython.core.display.HTML object>",
      "text/html": "cross_val_score: 0.8182753460531238"
     },
     "metadata": {}
    },
    {
     "output_type": "display_data",
     "data": {
      "text/plain": "<IPython.core.display.HTML object>",
      "text/html": "<p><br>"
     },
     "metadata": {}
    },
    {
     "output_type": "display_data",
     "data": {
      "text/plain": "<IPython.core.display.HTML object>",
      "text/html": "Predicting labels on testing data..."
     },
     "metadata": {}
    },
    {
     "output_type": "display_data",
     "data": {
      "text/plain": "<IPython.core.display.HTML object>",
      "text/html": "<pre>\tALL DONE!</pre>"
     },
     "metadata": {}
    },
    {
     "output_type": "display_data",
     "data": {
      "text/plain": "<IPython.core.display.HTML object>",
      "text/html": "<p><br>"
     },
     "metadata": {}
    },
    {
     "output_type": "display_data",
     "data": {
      "text/plain": "<IPython.core.display.HTML object>",
      "text/html": "Testing Accuracy: 81.633"
     },
     "metadata": {}
    },
    {
     "output_type": "display_data",
     "data": {
      "text/plain": "<IPython.core.display.HTML object>",
      "text/html": "<p><br>"
     },
     "metadata": {}
    },
    {
     "output_type": "display_data",
     "data": {
      "text/plain": "<IPython.core.display.HTML object>",
      "text/html": "<pre>                         precision    recall  f1-score   support\n\n             functional       0.81      0.90      0.85      3268\nfunctional needs repair       0.67      0.33      0.44       432\n         non functional       0.84      0.79      0.81      2240\n\n               accuracy                           0.82      5940\n              macro avg       0.77      0.67      0.70      5940\n           weighted avg       0.81      0.82      0.81      5940\n</pre>"
     },
     "metadata": {}
    },
    {
     "output_type": "display_data",
     "data": {
      "text/plain": "<IPython.core.display.HTML object>",
      "text/html": "<p><br>"
     },
     "metadata": {}
    },
    {
     "output_type": "display_data",
     "data": {
      "text/plain": "<IPython.core.display.HTML object>",
      "text/html": "Computing cross-val score on testing data..."
     },
     "metadata": {}
    },
    {
     "output_type": "display_data",
     "data": {
      "text/plain": "<IPython.core.display.HTML object>",
      "text/html": "<pre>\tALL DONE! scores: [0.77946128 0.76936027 0.77946128 0.77272727 0.76515152]</pre>"
     },
     "metadata": {}
    },
    {
     "output_type": "display_data",
     "data": {
      "text/plain": "<IPython.core.display.HTML object>",
      "text/html": "cross_val_score: 0.7732323232323233"
     },
     "metadata": {}
    },
    {
     "output_type": "display_data",
     "data": {
      "text/plain": "<IPython.core.display.HTML object>",
      "text/html": "<p><br>"
     },
     "metadata": {}
    },
    {
     "output_type": "display_data",
     "data": {
      "text/plain": "<IPython.core.display.HTML object>",
      "text/html": "Feature Importances:"
     },
     "metadata": {}
    },
    {
     "output_type": "display_data",
     "data": {
      "text/plain": "<IPython.core.display.HTML object>",
      "text/html": "<pre>[   ('quantity_target_encoded', 0.28748444),\n    ('scheme_name_target_encoded', 0.14114588),\n    ('waterpoint_type_target_encoded', 0.14092326),\n    ('extraction_type_target_encoded', 0.05761298),\n    ('installer_target_encoded', 0.04985848),\n    ('source_target_encoded', 0.038681272),\n    ('basin_target_encoded', 0.030298308),\n    ('region_code_target_encoded', 0.028628306),\n    ('payment_type_target_encoded', 0.027651615),\n    ('scheme_management_target_encoded', 0.021719318),\n    ('district_code_target_encoded', 0.02044344),\n    ('management_target_encoded', 0.020327305),\n    ('permit', 0.018661302),\n    ('longitude', 0.018578198),\n    ('pump_age', 0.018546335),\n    ('public_meeting', 0.017145159),\n    ('latitude', 0.016534757),\n    ('population', 0.015389742),\n    ('gps_height', 0.01532225),\n    ('water_quality_target_encoded', 0.015047671)]</pre><p><br><br>"
     },
     "metadata": {}
    }
   ],
   "source": [
    "if run_xgbclf:\n",
    "    best_parameters.update({'n_jobs':-1, 'verbosity':1, 'random_state': SEED})\n",
    "    xgbclf, _ , model_results = clf_run_trial(XGBClassifier(), best_parameters, best_parameters)"
   ]
  },
  {
   "cell_type": "markdown",
   "metadata": {},
   "source": [
    "<p><br><br>\n",
    "<h4>Save Validation Results to File</h4>"
   ]
  },
  {
   "cell_type": "code",
   "execution_count": 43,
   "metadata": {
    "tags": []
   },
   "outputs": [
    {
     "output_type": "stream",
     "name": "stdout",
     "text": "updated model-results/models-results-f80977aa7a9e6efea5f616e668b6cc19.json\n"
    }
   ],
   "source": [
    "fm.save_json(model_results, f\"{model_results_fname}\")\n",
    "print(f\"updated {model_results_fname}\")"
   ]
  },
  {
   "cell_type": "markdown",
   "metadata": {},
   "source": [
    "<p><br><br>\n",
    "<h4>Build Final Model with ALL Labeled Data (Test + Validation)</h4>"
   ]
  },
  {
   "cell_type": "code",
   "execution_count": null,
   "metadata": {},
   "outputs": [],
   "source": []
  }
 ],
 "metadata": {
  "kernelspec": {
   "display_name": "Python 3.6.10 64-bit ('learn-env': conda)",
   "language": "python",
   "name": "python361064bitlearnenvconda6dc930ea082b425c82fd8a0b2d571658"
  },
  "language_info": {
   "codemirror_mode": {
    "name": "ipython",
    "version": 3
   },
   "file_extension": ".py",
   "mimetype": "text/x-python",
   "name": "python",
   "nbconvert_exporter": "python",
   "pygments_lexer": "ipython3",
   "version": "3.7.7-final"
  }
 },
 "nbformat": 4,
 "nbformat_minor": 4
}
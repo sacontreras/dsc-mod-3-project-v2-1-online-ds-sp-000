{
 "cells": [
  {
   "cell_type": "markdown",
   "metadata": {},
   "source": [
    "<h2>Import Libraries</h2>"
   ]
  },
  {
   "cell_type": "code",
   "execution_count": 1,
   "metadata": {
    "tags": []
   },
   "outputs": [],
   "source": [
    "from scjpnlib.utils.file_io import FileManager\n",
    "import os \n",
    "import scjpnlib.utils as scjpnutils\n",
    "import pickle\n",
    "import json\n",
    "from IPython.core.display import HTML, Markdown\n",
    "import html2text\n",
    "from bs4 import BeautifulSoup\n",
    "import pprint\n",
    "\n",
    "import pandas as pd\n",
    "import numpy as np\n",
    "\n",
    "from scjpnlib.utils.skl_transformers import LabelEncodingTransformer\n",
    "from sklearn.pipeline import Pipeline\n",
    "from sklearn.model_selection import train_test_split\n",
    "import scjpnlib.utils.strategy_transformers as scjpnstrattransformers\n",
    "\n",
    "from sklearn.model_selection import GridSearchCV, cross_val_score\n",
    "import dask_ml.model_selection as dcv\n",
    "from dask.distributed import Client\n",
    "import joblib\n",
    "\n",
    "from sklearn.tree import DecisionTreeClassifier\n",
    "from sklearn.ensemble import RandomForestClassifier, VotingClassifier \n",
    "# import xgboost as xgb\n",
    "from xgboost import XGBClassifier\n",
    "from sklearn.metrics import classification_report\n",
    "from sklearn.metrics import accuracy_score\n",
    "\n",
    "%load_ext autoreload\n",
    "%autoreload 2\n",
    "\n",
    "n_jobs = 8\n",
    "\n",
    "LOG_MODEL_TRIALS = True"
   ]
  },
  {
   "cell_type": "markdown",
   "metadata": {},
   "source": [
    "## Read Configs for this Experiment"
   ]
  },
  {
   "cell_type": "code",
   "execution_count": 2,
   "metadata": {},
   "outputs": [
    {
     "data": {
      "text/plain": [
       "{'logging': {'dir': 'model-results'},\n",
       " 'cross_validation': {'k': {'grid_search': 3, 'score': 5}},\n",
       " 'dask': {'use': False,\n",
       "  'is_remote': False,\n",
       "  'local': {'n_workers': 1, 'n_jobs': 8, 'memory_limit': '16GB'},\n",
       "  'remote': {'scheduler_address': '35.230.13.87'}},\n",
       " 'SEED': 42,\n",
       " 'DecisionTreeClassifier': {'run': True,\n",
       "  'trials': {'run': True,\n",
       "   'array': [{'gridsearch': {'run': True,\n",
       "      'param_grid': {'criterion': ['entropy', 'gini'],\n",
       "       'splitter': ['best'],\n",
       "       'max_depth': [10, 50, 75, None],\n",
       "       'min_samples_split': [2],\n",
       "       'max_features': ['auto', 'sqrt', 'log2']},\n",
       "      'last_best': {'criterion': 'gini',\n",
       "       'max_depth': 10,\n",
       "       'max_features': 'auto',\n",
       "       'min_samples_split': 2,\n",
       "       'random_state': 42,\n",
       "       'splitter': 'best'}}}]},\n",
       "  'params': {'criterion': 'gini',\n",
       "   'max_depth': 10,\n",
       "   'max_features': 'auto',\n",
       "   'min_samples_split': 2,\n",
       "   'random_state': 42,\n",
       "   'splitter': 'best'}},\n",
       " 'RandomForestClassifier': {'run': True,\n",
       "  'trials': {'run': False,\n",
       "   'array': [{'gridsearch': {'run': True,\n",
       "      'param_grid': {'bootstrap': [True, False],\n",
       "       'criterion': ['entropy', 'gini'],\n",
       "       'max_features': ['auto', 'sqrt', 'log2'],\n",
       "       'max_depth': [10, 50, 75, None],\n",
       "       'n_estimators': [100, 500, 1000]},\n",
       "      'last_best': {'bootstrap': False,\n",
       "       'criterion': 'gini',\n",
       "       'max_depth': 75,\n",
       "       'max_features': 'auto',\n",
       "       'n_estimators': 1000}}}]},\n",
       "  'params': {'bootstrap': True,\n",
       "   'criterion': 'gini',\n",
       "   'max_depth': 75,\n",
       "   'max_features': 'auto',\n",
       "   'n_estimators': 1000}},\n",
       " 'XGBClassifier': {'run': True,\n",
       "  'trials': {'run': True,\n",
       "   'array': [{'gridsearch': {'run': True,\n",
       "      'param_grid': {'max_depth': [10, 15, 20]},\n",
       "      'last_best': {}}},\n",
       "    {'gridsearch': {'run': True,\n",
       "      'param_grid': {'learning_rate': [0.1, 0.3, 0.6, 0.9, 1.0]},\n",
       "      'last_best': {}}},\n",
       "    {'gridsearch': {'run': True,\n",
       "      'param_grid': {'min_child_weight': [1, 2, 3, 4, 5]},\n",
       "      'last_best': {}}},\n",
       "    {'gridsearch': {'run': True,\n",
       "      'param_grid': {'gamma': [0, 1, 2, 3, 4, 5]},\n",
       "      'last_best': {}}},\n",
       "    {'gridsearch': {'run': True,\n",
       "      'param_grid': {'n_estimators': [100, 250, 500, 1000]},\n",
       "      'last_best': {}}}]},\n",
       "  'params': {'gamma': 0,\n",
       "   'learning_rate': 0.1,\n",
       "   'max_depth': 22,\n",
       "   'min_child_weight': 3,\n",
       "   'n_estimators': 100}}}"
      ]
     },
     "execution_count": 2,
     "metadata": {},
     "output_type": "execute_result"
    }
   ],
   "source": [
    "fm = FileManager()\n",
    "\n",
    "preprocessing_config = fm.load_json('preprocessing-config.txt')\n",
    "models_config = fm.load_json('models-config.txt')\n",
    "models_config"
   ]
  },
  {
   "cell_type": "code",
   "execution_count": 3,
   "metadata": {},
   "outputs": [],
   "source": [
    "is_data_cached = 'data_cached' in models_config\n",
    "data_config = models_config['data_cached'] if is_data_cached else fm.load_json('preprocessing-config.txt')"
   ]
  },
  {
   "cell_type": "code",
   "execution_count": 4,
   "metadata": {},
   "outputs": [],
   "source": [
    "if len(data_config['wrangled_data']['dir']) > 0:\n",
    "    WRANGLED_DATA_DIR = data_config['wrangled_data']['dir'] + \"/\"\n",
    "else:\n",
    "    WRANGLED_DATA_DIR = \"\"\n",
    "\n",
    "if len(data_config['labels']['dir']) > 0:\n",
    "    SAVE_LABELS_DIR = data_config['labels']['dir'] + \"/\"\n",
    "else:\n",
    "    SAVE_LABELS_DIR = \"\""
   ]
  },
  {
   "cell_type": "code",
   "execution_count": 5,
   "metadata": {},
   "outputs": [],
   "source": [
    "preprocessing_spec = fm.load_json(WRANGLED_DATA_DIR + \"preprocessing-spec-last.json\")"
   ]
  },
  {
   "cell_type": "code",
   "execution_count": 6,
   "metadata": {
    "tags": []
   },
   "outputs": [
    {
     "name": "stdout",
     "output_type": "stream",
     "text": [
      "digest for last preprocessing spec: 3bf4b2d4e5a2fd6d3cd475979cf7b437\n"
     ]
    }
   ],
   "source": [
    "digest = data_config['digest'] if is_data_cached else scjpnutils.json_to_md5_hash_digest(preprocessing_spec)\n",
    "print(f\"digest for last preprocessing spec: {digest}\")                                                                                      "
   ]
  },
  {
   "cell_type": "code",
   "execution_count": 7,
   "metadata": {},
   "outputs": [],
   "source": [
    "fname__train_predictors = WRANGLED_DATA_DIR + scjpnutils.get_data_fname(data_config, preprocessing_config, data_kwargs={'is_labels':False,'type':'train','is_cached':is_data_cached})\n",
    "fname__train_labels = SAVE_LABELS_DIR + scjpnutils.get_data_fname(data_config, preprocessing_config, data_kwargs={'is_labels':True,'type':'train','is_cached':is_data_cached})\n",
    "fname__validation_predictors = WRANGLED_DATA_DIR + scjpnutils.get_data_fname(data_config, preprocessing_config, data_kwargs={'is_labels':False,'type':'test','is_cached':is_data_cached})\n",
    "fname__validation_labels = SAVE_LABELS_DIR + scjpnutils.get_data_fname(data_config, preprocessing_config, data_kwargs={'is_labels':True,'type':'test','is_cached':is_data_cached})\n",
    "fname__unlabeled_predictors = WRANGLED_DATA_DIR + scjpnutils.get_data_fname(data_config, preprocessing_config, data_kwargs={'is_labels':False,'type':'unlabeled'})"
   ]
  },
  {
   "cell_type": "code",
   "execution_count": 8,
   "metadata": {
    "tags": []
   },
   "outputs": [
    {
     "name": "stdout",
     "output_type": "stream",
     "text": [
      "modeling results will be saved to: model-results/models-results-3bf4b2d4e5a2fd6d3cd475979cf7b437.json\n"
     ]
    }
   ],
   "source": [
    "if len(models_config['logging']['dir']) > 0:\n",
    "    MODEL_RESULTS_DIR = models_config['logging']['dir']\n",
    "    try:\n",
    "        os.makedirs(f\"{os.getcwd()}/{MODEL_RESULTS_DIR}\")\n",
    "    except FileExistsError:\n",
    "        pass\n",
    "    MODEL_RESULTS_DIR += \"/\"\n",
    "else:\n",
    "    MODEL_RESULTS_DIR = \"\"\n",
    "    \n",
    "model_results_fname = MODEL_RESULTS_DIR + scjpnutils.get_model_result_fname(data_config, preprocessing_spec, data_kwargs={'is_cached':is_data_cached})\n",
    "print(f\"modeling results will be saved to: {model_results_fname}\")"
   ]
  },
  {
   "cell_type": "code",
   "execution_count": 9,
   "metadata": {},
   "outputs": [],
   "source": [
    "model_results = {}\n",
    "model_results['digest'] = digest\n",
    "model_results['modeling_results'] = {}"
   ]
  },
  {
   "cell_type": "code",
   "execution_count": 10,
   "metadata": {},
   "outputs": [],
   "source": [
    "SEED = models_config['SEED']\n",
    "model_results['seed'] = SEED"
   ]
  },
  {
   "cell_type": "code",
   "execution_count": 11,
   "metadata": {},
   "outputs": [],
   "source": [
    "K = models_config['cross_validation']['k']['grid_search'] # num folds for cross-val\n",
    "cross_val_score_K = models_config['cross_validation']['k']['score']"
   ]
  },
  {
   "cell_type": "markdown",
   "metadata": {},
   "source": [
    "<p><br>\n",
    "\n",
    "## Load Data"
   ]
  },
  {
   "cell_type": "code",
   "execution_count": 12,
   "metadata": {},
   "outputs": [
    {
     "data": {
      "text/html": [
       "Required download-file Taarifa-Unlabeled-Predictors.csv exists locally."
      ],
      "text/plain": [
       "<IPython.core.display.HTML object>"
      ]
     },
     "metadata": {},
     "output_type": "display_data"
    },
    {
     "data": {
      "text/html": [
       "Required download-file Taarifa-Labeled-Predictors.csv exists locally."
      ],
      "text/plain": [
       "<IPython.core.display.HTML object>"
      ]
     },
     "metadata": {},
     "output_type": "display_data"
    },
    {
     "data": {
      "text/html": [
       "Required download-file Taarifa-Labels.csv exists locally."
      ],
      "text/plain": [
       "<IPython.core.display.HTML object>"
      ]
     },
     "metadata": {},
     "output_type": "display_data"
    }
   ],
   "source": [
    "fname_unlabeled_predictors = preprocessing_config['official_data']['unlabeled_predictors']['local_fname']\n",
    "fname_labeled_predictors = preprocessing_config['official_data']['labeled_predictors']['local_fname']\n",
    "fname_labels = preprocessing_config['official_data']['labels']['local_fname']\n",
    "\n",
    "ds_map = {\n",
    "    fname_unlabeled_predictors: preprocessing_config['official_data']['unlabeled_predictors']['url'], \n",
    "    fname_labeled_predictors: preprocessing_config['official_data']['unlabeled_predictors']['url'],\n",
    "    fname_labels: preprocessing_config['official_data']['unlabeled_predictors']['url']\n",
    "}\n",
    "\n",
    "fm.validate_download(ds_map)"
   ]
  },
  {
   "cell_type": "code",
   "execution_count": 13,
   "metadata": {},
   "outputs": [],
   "source": [
    "labeled_with_target = pd.concat(\n",
    "    [\n",
    "        pd.read_csv(fname_labeled_predictors, index_col=0), \n",
    "        pd.read_csv(fname_labels, index_col=0)\n",
    "    ], \n",
    "    axis=1\n",
    "    ,\n",
    "    join='inner'\n",
    ").sort_index()"
   ]
  },
  {
   "cell_type": "code",
   "execution_count": 14,
   "metadata": {},
   "outputs": [],
   "source": [
    "labels = labeled_with_target[['status_group']]"
   ]
  },
  {
   "cell_type": "code",
   "execution_count": 15,
   "metadata": {},
   "outputs": [
    {
     "data": {
      "text/plain": [
       "['functional', 'functional needs repair', 'non functional']"
      ]
     },
     "execution_count": 15,
     "metadata": {},
     "output_type": "execute_result"
    }
   ],
   "source": [
    "let_labels = LabelEncodingTransformer(['status_group'])\n",
    "labels_encoded = let_labels.fit_transform(labels)\n",
    "classes = list(let_labels.labelencoder.classes_)\n",
    "classes"
   ]
  },
  {
   "cell_type": "code",
   "execution_count": 16,
   "metadata": {},
   "outputs": [],
   "source": [
    "labeled_with_target['status_group_encoded'] = labels_encoded.status_group"
   ]
  },
  {
   "cell_type": "code",
   "execution_count": 17,
   "metadata": {
    "tags": []
   },
   "outputs": [],
   "source": [
    "X_labeled = labeled_with_target.drop(['status_group', 'status_group_encoded'], axis=1)"
   ]
  },
  {
   "cell_type": "code",
   "execution_count": 18,
   "metadata": {
    "tags": []
   },
   "outputs": [],
   "source": [
    "data_unlabeled = pd.read_csv(fname_unlabeled_predictors, index_col=0).sort_index()"
   ]
  },
  {
   "cell_type": "markdown",
   "metadata": {},
   "source": [
    "## Prepare Test/Train Data"
   ]
  },
  {
   "cell_type": "code",
   "execution_count": 19,
   "metadata": {},
   "outputs": [],
   "source": [
    "data_train, data_test, y_train, y_test = train_test_split(X_labeled, labels, test_size=preprocessing_config['test_ratio'], random_state=SEED)"
   ]
  },
  {
   "cell_type": "code",
   "execution_count": 20,
   "metadata": {},
   "outputs": [],
   "source": [
    "y_train_encoded = labels_encoded.loc[y_train.index]"
   ]
  },
  {
   "cell_type": "code",
   "execution_count": 21,
   "metadata": {},
   "outputs": [],
   "source": [
    "data_train_with_target = pd.concat([data_train, y_train_encoded], axis=1, join='inner')"
   ]
  },
  {
   "cell_type": "code",
   "execution_count": 22,
   "metadata": {},
   "outputs": [],
   "source": [
    "y_test_encoded = labels_encoded.loc[y_test.index]"
   ]
  },
  {
   "cell_type": "code",
   "execution_count": 23,
   "metadata": {},
   "outputs": [],
   "source": [
    "data_test_with_target = pd.concat([data_test, y_test_encoded], axis=1, join='inner')"
   ]
  },
  {
   "cell_type": "code",
   "execution_count": 24,
   "metadata": {},
   "outputs": [],
   "source": [
    "data_ALL_labeled_with_target = pd.concat([data_train_with_target, data_test_with_target], axis=0).sort_index()"
   ]
  },
  {
   "cell_type": "markdown",
   "metadata": {},
   "source": [
    "<p><br>\n",
    "\n",
    "## Apply Preprocessing Transformations to Training Data"
   ]
  },
  {
   "cell_type": "code",
   "execution_count": 25,
   "metadata": {},
   "outputs": [
    {
     "data": {
      "text/html": [
       "<h3>data_train BEFORE preprocessing Feature-Value Analysis (out of 53460 total observations)</h3>"
      ],
      "text/plain": [
       "<IPython.core.display.HTML object>"
      ]
     },
     "metadata": {},
     "output_type": "display_data"
    },
    {
     "data": {
      "text/html": [
       "<div>\n",
       "<style scoped>\n",
       "    .dataframe tbody tr th:only-of-type {\n",
       "        vertical-align: middle;\n",
       "    }\n",
       "\n",
       "    .dataframe tbody tr th {\n",
       "        vertical-align: top;\n",
       "    }\n",
       "\n",
       "    .dataframe thead th {\n",
       "        text-align: right;\n",
       "    }\n",
       "</style>\n",
       "<table border=\"1\" class=\"dataframe\">\n",
       "  <thead>\n",
       "    <tr style=\"text-align: left;\">\n",
       "      <th></th>\n",
       "      <th>feature</th>\n",
       "      <th>dtype</th>\n",
       "      <th>n_unique</th>\n",
       "      <th>unique_vals</th>\n",
       "      <th>n_unique_ratio</th>\n",
       "      <th>p_cat</th>\n",
       "      <th>n_null</th>\n",
       "      <th>n_null_ratio</th>\n",
       "      <th>null_index</th>\n",
       "    </tr>\n",
       "  </thead>\n",
       "  <tbody>\n",
       "    <tr>\n",
       "      <th>0</th>\n",
       "      <td>amount_tsh</td>\n",
       "      <td>float64</td>\n",
       "      <td>96</td>\n",
       "      <td>[0.0, 1000.0, 250.0, 5000.0, 3000.0, 2400.0, 5...</td>\n",
       "      <td>0.001796</td>\n",
       "      <td>99.82</td>\n",
       "      <td>0</td>\n",
       "      <td>0.000000</td>\n",
       "      <td>None</td>\n",
       "    </tr>\n",
       "    <tr>\n",
       "      <th>1</th>\n",
       "      <td>date_recorded</td>\n",
       "      <td>object</td>\n",
       "      <td>352</td>\n",
       "      <td>[2013-03-06, 2013-02-05, 2011-07-24, 2012-11-0...</td>\n",
       "      <td>0.006584</td>\n",
       "      <td>99.34</td>\n",
       "      <td>0</td>\n",
       "      <td>0.000000</td>\n",
       "      <td>None</td>\n",
       "    </tr>\n",
       "    <tr>\n",
       "      <th>2</th>\n",
       "      <td>funder</td>\n",
       "      <td>object</td>\n",
       "      <td>1799</td>\n",
       "      <td>[Kiliwater, Unicef, Danida, Tasaf/tlc, Dhv, Am...</td>\n",
       "      <td>0.033651</td>\n",
       "      <td>96.63</td>\n",
       "      <td>3269</td>\n",
       "      <td>0.061149</td>\n",
       "      <td>Int64Index([  569, 35243,  7826,  7576, 71341,...</td>\n",
       "    </tr>\n",
       "    <tr>\n",
       "      <th>3</th>\n",
       "      <td>gps_height</td>\n",
       "      <td>int64</td>\n",
       "      <td>2415</td>\n",
       "      <td>[1424, 1358, 0, 299, -14, 1490, 1421, 915, 891...</td>\n",
       "      <td>0.045174</td>\n",
       "      <td>95.48</td>\n",
       "      <td>0</td>\n",
       "      <td>0.000000</td>\n",
       "      <td>None</td>\n",
       "    </tr>\n",
       "    <tr>\n",
       "      <th>4</th>\n",
       "      <td>installer</td>\n",
       "      <td>object</td>\n",
       "      <td>2035</td>\n",
       "      <td>[Kiliwater, TWESA, Central government, TASAF/T...</td>\n",
       "      <td>0.038066</td>\n",
       "      <td>96.19</td>\n",
       "      <td>3287</td>\n",
       "      <td>0.061485</td>\n",
       "      <td>Int64Index([  569, 35243,  7826,  7576, 71341,...</td>\n",
       "    </tr>\n",
       "    <tr>\n",
       "      <th>5</th>\n",
       "      <td>longitude</td>\n",
       "      <td>float64</td>\n",
       "      <td>51753</td>\n",
       "      <td>[37.61840909, 30.6557619, 33.81319755, 33.1151...</td>\n",
       "      <td>0.968070</td>\n",
       "      <td>3.19</td>\n",
       "      <td>0</td>\n",
       "      <td>0.000000</td>\n",
       "      <td>None</td>\n",
       "    </tr>\n",
       "    <tr>\n",
       "      <th>6</th>\n",
       "      <td>latitude</td>\n",
       "      <td>float64</td>\n",
       "      <td>51755</td>\n",
       "      <td>[-3.26320247, -3.53625, -9.47660713, -4.835553...</td>\n",
       "      <td>0.968107</td>\n",
       "      <td>3.19</td>\n",
       "      <td>0</td>\n",
       "      <td>0.000000</td>\n",
       "      <td>None</td>\n",
       "    </tr>\n",
       "    <tr>\n",
       "      <th>7</th>\n",
       "      <td>wpt_name</td>\n",
       "      <td>object</td>\n",
       "      <td>34085</td>\n",
       "      <td>[Kwa Moris Assenga, Bavunja Primary School, Za...</td>\n",
       "      <td>0.637579</td>\n",
       "      <td>36.24</td>\n",
       "      <td>0</td>\n",
       "      <td>0.000000</td>\n",
       "      <td>None</td>\n",
       "    </tr>\n",
       "    <tr>\n",
       "      <th>8</th>\n",
       "      <td>num_private</td>\n",
       "      <td>int64</td>\n",
       "      <td>61</td>\n",
       "      <td>[0, 34, 65, 32, 1, 8, 41, 6, 15, 3, 698, 1402,...</td>\n",
       "      <td>0.001141</td>\n",
       "      <td>99.89</td>\n",
       "      <td>0</td>\n",
       "      <td>0.000000</td>\n",
       "      <td>None</td>\n",
       "    </tr>\n",
       "    <tr>\n",
       "      <th>9</th>\n",
       "      <td>basin</td>\n",
       "      <td>object</td>\n",
       "      <td>9</td>\n",
       "      <td>[Pangani, Lake Tanganyika, Lake Nyasa, Rufiji,...</td>\n",
       "      <td>0.000168</td>\n",
       "      <td>99.98</td>\n",
       "      <td>0</td>\n",
       "      <td>0.000000</td>\n",
       "      <td>None</td>\n",
       "    </tr>\n",
       "    <tr>\n",
       "      <th>10</th>\n",
       "      <td>subvillage</td>\n",
       "      <td>object</td>\n",
       "      <td>18331</td>\n",
       "      <td>[Usesi, Uwanja Wa Ndege, Ilindi, Pemba, Namhan...</td>\n",
       "      <td>0.342892</td>\n",
       "      <td>65.71</td>\n",
       "      <td>335</td>\n",
       "      <td>0.006266</td>\n",
       "      <td>Int64Index([57269, 21287, 33378,  6502,  7898,...</td>\n",
       "    </tr>\n",
       "    <tr>\n",
       "      <th>11</th>\n",
       "      <td>region</td>\n",
       "      <td>object</td>\n",
       "      <td>21</td>\n",
       "      <td>[Kilimanjaro, Kigoma, Mbeya, Tabora, Morogoro,...</td>\n",
       "      <td>0.000393</td>\n",
       "      <td>99.96</td>\n",
       "      <td>0</td>\n",
       "      <td>0.000000</td>\n",
       "      <td>None</td>\n",
       "    </tr>\n",
       "    <tr>\n",
       "      <th>12</th>\n",
       "      <td>region_code</td>\n",
       "      <td>int64</td>\n",
       "      <td>27</td>\n",
       "      <td>[3, 16, 12, 14, 5, 6, 20, 15, 11, 19, 8, 4, 90...</td>\n",
       "      <td>0.000505</td>\n",
       "      <td>99.95</td>\n",
       "      <td>0</td>\n",
       "      <td>0.000000</td>\n",
       "      <td>None</td>\n",
       "    </tr>\n",
       "    <tr>\n",
       "      <th>13</th>\n",
       "      <td>district_code</td>\n",
       "      <td>int64</td>\n",
       "      <td>20</td>\n",
       "      <td>[1, 3, 4, 2, 7, 33, 5, 6, 13, 23, 30, 63, 8, 5...</td>\n",
       "      <td>0.000374</td>\n",
       "      <td>99.96</td>\n",
       "      <td>0</td>\n",
       "      <td>0.000000</td>\n",
       "      <td>None</td>\n",
       "    </tr>\n",
       "    <tr>\n",
       "      <th>14</th>\n",
       "      <td>lga</td>\n",
       "      <td>object</td>\n",
       "      <td>124</td>\n",
       "      <td>[Rombo, Kibondo, Kyela, Uyui, Ulanga, Mkuranga...</td>\n",
       "      <td>0.002319</td>\n",
       "      <td>99.77</td>\n",
       "      <td>0</td>\n",
       "      <td>0.000000</td>\n",
       "      <td>None</td>\n",
       "    </tr>\n",
       "    <tr>\n",
       "      <th>15</th>\n",
       "      <td>ward</td>\n",
       "      <td>object</td>\n",
       "      <td>2087</td>\n",
       "      <td>[Mengwe Manda, Bunyambo, Ipande, Isikizya, Ira...</td>\n",
       "      <td>0.039039</td>\n",
       "      <td>96.10</td>\n",
       "      <td>0</td>\n",
       "      <td>0.000000</td>\n",
       "      <td>None</td>\n",
       "    </tr>\n",
       "    <tr>\n",
       "      <th>16</th>\n",
       "      <td>population</td>\n",
       "      <td>int64</td>\n",
       "      <td>1019</td>\n",
       "      <td>[1, 500, 0, 263, 400, 520, 350, 60, 300, 40, 1...</td>\n",
       "      <td>0.019061</td>\n",
       "      <td>98.09</td>\n",
       "      <td>0</td>\n",
       "      <td>0.000000</td>\n",
       "      <td>None</td>\n",
       "    </tr>\n",
       "    <tr>\n",
       "      <th>17</th>\n",
       "      <td>public_meeting</td>\n",
       "      <td>object</td>\n",
       "      <td>3</td>\n",
       "      <td>[True, False, nan]</td>\n",
       "      <td>0.000056</td>\n",
       "      <td>99.99</td>\n",
       "      <td>3006</td>\n",
       "      <td>0.056229</td>\n",
       "      <td>Int64Index([32908, 12197, 64825, 50761, 52163,...</td>\n",
       "    </tr>\n",
       "    <tr>\n",
       "      <th>18</th>\n",
       "      <td>recorded_by</td>\n",
       "      <td>object</td>\n",
       "      <td>1</td>\n",
       "      <td>[GeoData Consultants Ltd]</td>\n",
       "      <td>0.000019</td>\n",
       "      <td>100.00</td>\n",
       "      <td>0</td>\n",
       "      <td>0.000000</td>\n",
       "      <td>None</td>\n",
       "    </tr>\n",
       "    <tr>\n",
       "      <th>19</th>\n",
       "      <td>scheme_management</td>\n",
       "      <td>object</td>\n",
       "      <td>13</td>\n",
       "      <td>[Company, VWC, nan, Water authority, Water Boa...</td>\n",
       "      <td>0.000243</td>\n",
       "      <td>99.98</td>\n",
       "      <td>3503</td>\n",
       "      <td>0.065526</td>\n",
       "      <td>Int64Index([36420,  7651, 41429, 14391, 64446,...</td>\n",
       "    </tr>\n",
       "    <tr>\n",
       "      <th>20</th>\n",
       "      <td>scheme_name</td>\n",
       "      <td>object</td>\n",
       "      <td>2636</td>\n",
       "      <td>[Kitukuni water supply, nan, Sinyanga  water s...</td>\n",
       "      <td>0.049308</td>\n",
       "      <td>95.07</td>\n",
       "      <td>25363</td>\n",
       "      <td>0.474429</td>\n",
       "      <td>Int64Index([38945,  1186, 36420, 57631, 51349,...</td>\n",
       "    </tr>\n",
       "    <tr>\n",
       "      <th>21</th>\n",
       "      <td>permit</td>\n",
       "      <td>object</td>\n",
       "      <td>3</td>\n",
       "      <td>[True, False, nan]</td>\n",
       "      <td>0.000056</td>\n",
       "      <td>99.99</td>\n",
       "      <td>2733</td>\n",
       "      <td>0.051122</td>\n",
       "      <td>Int64Index([  569, 54872,  7826,  7576, 71341,...</td>\n",
       "    </tr>\n",
       "    <tr>\n",
       "      <th>22</th>\n",
       "      <td>construction_year</td>\n",
       "      <td>int64</td>\n",
       "      <td>55</td>\n",
       "      <td>[2012, 2009, 0, 1996, 2000, 2001, 1998, 2013, ...</td>\n",
       "      <td>0.001029</td>\n",
       "      <td>99.90</td>\n",
       "      <td>0</td>\n",
       "      <td>0.000000</td>\n",
       "      <td>None</td>\n",
       "    </tr>\n",
       "    <tr>\n",
       "      <th>23</th>\n",
       "      <td>extraction_type</td>\n",
       "      <td>object</td>\n",
       "      <td>18</td>\n",
       "      <td>[gravity, afridev, swn 80, other, mono, submer...</td>\n",
       "      <td>0.000337</td>\n",
       "      <td>99.97</td>\n",
       "      <td>0</td>\n",
       "      <td>0.000000</td>\n",
       "      <td>None</td>\n",
       "    </tr>\n",
       "    <tr>\n",
       "      <th>24</th>\n",
       "      <td>extraction_type_group</td>\n",
       "      <td>object</td>\n",
       "      <td>13</td>\n",
       "      <td>[gravity, afridev, swn 80, other, mono, submer...</td>\n",
       "      <td>0.000243</td>\n",
       "      <td>99.98</td>\n",
       "      <td>0</td>\n",
       "      <td>0.000000</td>\n",
       "      <td>None</td>\n",
       "    </tr>\n",
       "    <tr>\n",
       "      <th>25</th>\n",
       "      <td>extraction_type_class</td>\n",
       "      <td>object</td>\n",
       "      <td>7</td>\n",
       "      <td>[gravity, handpump, other, motorpump, submersi...</td>\n",
       "      <td>0.000131</td>\n",
       "      <td>99.99</td>\n",
       "      <td>0</td>\n",
       "      <td>0.000000</td>\n",
       "      <td>None</td>\n",
       "    </tr>\n",
       "    <tr>\n",
       "      <th>26</th>\n",
       "      <td>management</td>\n",
       "      <td>object</td>\n",
       "      <td>12</td>\n",
       "      <td>[company, vwc, water board, wug, water authori...</td>\n",
       "      <td>0.000224</td>\n",
       "      <td>99.98</td>\n",
       "      <td>0</td>\n",
       "      <td>0.000000</td>\n",
       "      <td>None</td>\n",
       "    </tr>\n",
       "    <tr>\n",
       "      <th>27</th>\n",
       "      <td>management_group</td>\n",
       "      <td>object</td>\n",
       "      <td>5</td>\n",
       "      <td>[commercial, user-group, unknown, parastatal, ...</td>\n",
       "      <td>0.000094</td>\n",
       "      <td>99.99</td>\n",
       "      <td>0</td>\n",
       "      <td>0.000000</td>\n",
       "      <td>None</td>\n",
       "    </tr>\n",
       "    <tr>\n",
       "      <th>28</th>\n",
       "      <td>payment</td>\n",
       "      <td>object</td>\n",
       "      <td>7</td>\n",
       "      <td>[pay monthly, unknown, never pay, pay annually...</td>\n",
       "      <td>0.000131</td>\n",
       "      <td>99.99</td>\n",
       "      <td>0</td>\n",
       "      <td>0.000000</td>\n",
       "      <td>None</td>\n",
       "    </tr>\n",
       "    <tr>\n",
       "      <th>29</th>\n",
       "      <td>payment_type</td>\n",
       "      <td>object</td>\n",
       "      <td>7</td>\n",
       "      <td>[monthly, unknown, never pay, annually, per bu...</td>\n",
       "      <td>0.000131</td>\n",
       "      <td>99.99</td>\n",
       "      <td>0</td>\n",
       "      <td>0.000000</td>\n",
       "      <td>None</td>\n",
       "    </tr>\n",
       "    <tr>\n",
       "      <th>30</th>\n",
       "      <td>water_quality</td>\n",
       "      <td>object</td>\n",
       "      <td>8</td>\n",
       "      <td>[soft, unknown, salty, fluoride, milky, salty ...</td>\n",
       "      <td>0.000150</td>\n",
       "      <td>99.99</td>\n",
       "      <td>0</td>\n",
       "      <td>0.000000</td>\n",
       "      <td>None</td>\n",
       "    </tr>\n",
       "    <tr>\n",
       "      <th>31</th>\n",
       "      <td>quality_group</td>\n",
       "      <td>object</td>\n",
       "      <td>6</td>\n",
       "      <td>[good, unknown, salty, fluoride, milky, colored]</td>\n",
       "      <td>0.000112</td>\n",
       "      <td>99.99</td>\n",
       "      <td>0</td>\n",
       "      <td>0.000000</td>\n",
       "      <td>None</td>\n",
       "    </tr>\n",
       "    <tr>\n",
       "      <th>32</th>\n",
       "      <td>quantity</td>\n",
       "      <td>object</td>\n",
       "      <td>5</td>\n",
       "      <td>[insufficient, dry, enough, seasonal, unknown]</td>\n",
       "      <td>0.000094</td>\n",
       "      <td>99.99</td>\n",
       "      <td>0</td>\n",
       "      <td>0.000000</td>\n",
       "      <td>None</td>\n",
       "    </tr>\n",
       "    <tr>\n",
       "      <th>33</th>\n",
       "      <td>quantity_group</td>\n",
       "      <td>object</td>\n",
       "      <td>5</td>\n",
       "      <td>[insufficient, dry, enough, seasonal, unknown]</td>\n",
       "      <td>0.000094</td>\n",
       "      <td>99.99</td>\n",
       "      <td>0</td>\n",
       "      <td>0.000000</td>\n",
       "      <td>None</td>\n",
       "    </tr>\n",
       "    <tr>\n",
       "      <th>34</th>\n",
       "      <td>source</td>\n",
       "      <td>object</td>\n",
       "      <td>10</td>\n",
       "      <td>[spring, rainwater harvesting, shallow well, r...</td>\n",
       "      <td>0.000187</td>\n",
       "      <td>99.98</td>\n",
       "      <td>0</td>\n",
       "      <td>0.000000</td>\n",
       "      <td>None</td>\n",
       "    </tr>\n",
       "    <tr>\n",
       "      <th>35</th>\n",
       "      <td>source_type</td>\n",
       "      <td>object</td>\n",
       "      <td>7</td>\n",
       "      <td>[spring, rainwater harvesting, shallow well, r...</td>\n",
       "      <td>0.000131</td>\n",
       "      <td>99.99</td>\n",
       "      <td>0</td>\n",
       "      <td>0.000000</td>\n",
       "      <td>None</td>\n",
       "    </tr>\n",
       "    <tr>\n",
       "      <th>36</th>\n",
       "      <td>source_class</td>\n",
       "      <td>object</td>\n",
       "      <td>3</td>\n",
       "      <td>[groundwater, surface, unknown]</td>\n",
       "      <td>0.000056</td>\n",
       "      <td>99.99</td>\n",
       "      <td>0</td>\n",
       "      <td>0.000000</td>\n",
       "      <td>None</td>\n",
       "    </tr>\n",
       "    <tr>\n",
       "      <th>37</th>\n",
       "      <td>waterpoint_type</td>\n",
       "      <td>object</td>\n",
       "      <td>7</td>\n",
       "      <td>[communal standpipe, hand pump, communal stand...</td>\n",
       "      <td>0.000131</td>\n",
       "      <td>99.99</td>\n",
       "      <td>0</td>\n",
       "      <td>0.000000</td>\n",
       "      <td>None</td>\n",
       "    </tr>\n",
       "    <tr>\n",
       "      <th>38</th>\n",
       "      <td>waterpoint_type_group</td>\n",
       "      <td>object</td>\n",
       "      <td>6</td>\n",
       "      <td>[communal standpipe, hand pump, other, cattle ...</td>\n",
       "      <td>0.000112</td>\n",
       "      <td>99.99</td>\n",
       "      <td>0</td>\n",
       "      <td>0.000000</td>\n",
       "      <td>None</td>\n",
       "    </tr>\n",
       "  </tbody>\n",
       "</table>\n",
       "</div>"
      ],
      "text/plain": [
       "<IPython.core.display.HTML object>"
      ]
     },
     "metadata": {},
     "output_type": "display_data"
    }
   ],
   "source": [
    "pipeline_data_preprocessor = Pipeline(steps=[('passthrough', None)], verbose=True)\n",
    "\n",
    "scjpnutils.analyze_values(data_train, 'data_train BEFORE preprocessing');"
   ]
  },
  {
   "cell_type": "code",
   "execution_count": 26,
   "metadata": {
    "tags": []
   },
   "outputs": [
    {
     "data": {
      "text/html": [
       "<b>(composite) strategy name/description: <i><font color='red'>extraction_type</font></i></b><ol><li><b>strategy description</b>: <i><font color='blue' style='font-size: x-large;'>(prefit) target-encoder (LOO==False, post_encode_null_to_global_mean==True) transform: extraction_type</font></i></li></ol>"
      ],
      "text/plain": [
       "<IPython.core.display.HTML object>"
      ]
     },
     "metadata": {},
     "output_type": "display_data"
    },
    {
     "name": "stdout",
     "output_type": "stream",
     "text": [
      "** TargetEncoderLOOTransformer FIT INFO **: transformer has been fit to X\n",
      "strategy appended step ['(prefit) target-encoder (LOO==False, post_encode_null_to_global_mean==True) transform: extraction_type', FunctionTransformer(func=<function C__target_encode__StrategyTransformer.get_transformer.<locals>.<lambda> at 0x7fc771c17830>)] to pipeline\n",
      "** TargetEncoderLOOTransformer TRANSFORM INFO **: NOT using Leave-One-Out\n",
      "** TargetEncoderLOOTransformer TRANSFORM INFO **: unique categories of 'extraction_type' in X match those that were previously fit\n",
      "added new feature: extraction_type_target_encoded\n",
      "strategy appended step ['drop after target encoding: extraction_type', <scjpnlib.utils.skl_transformers.DropColumnsTransformer object at 0x7fc771c2b210>] to pipeline\n",
      "strategy \"(prefit) target-encoder (LOO==False, post_encode_null_to_global_mean==True) transform: extraction_type\" dropped feature 'extraction_type' after target encoding\n",
      "strategy transformation of feature 'extraction_type' to 'extraction_type_target_encoded' is COMPLETE!\n"
     ]
    },
    {
     "data": {
      "text/html": [
       "<p><br><br>"
      ],
      "text/plain": [
       "<IPython.core.display.HTML object>"
      ]
     },
     "metadata": {},
     "output_type": "display_data"
    },
    {
     "data": {
      "text/html": [
       "<b>(composite) strategy name/description: <i><font color='red'>extraction_type_group</font></i></b><ol><li><b>strategy description</b>: <i><font color='blue' style='font-size: x-large;'>drop feature: extraction_type_group</font></i></li></ol>"
      ],
      "text/plain": [
       "<IPython.core.display.HTML object>"
      ]
     },
     "metadata": {},
     "output_type": "display_data"
    },
    {
     "name": "stdout",
     "output_type": "stream",
     "text": [
      "strategy appended step ['drop feature: extraction_type_group', <scjpnlib.utils.skl_transformers.DropColumnsTransformer object at 0x7fc771c2b9d0>] to pipeline\n",
      "strategy \"drop feature: extraction_type_group\" transformation is COMPLETE!\n"
     ]
    },
    {
     "data": {
      "text/html": [
       "<p><br><br>"
      ],
      "text/plain": [
       "<IPython.core.display.HTML object>"
      ]
     },
     "metadata": {},
     "output_type": "display_data"
    },
    {
     "data": {
      "text/html": [
       "<b>(composite) strategy name/description: <i><font color='red'>extraction_type_class</font></i></b><ol><li><b>strategy description</b>: <i><font color='blue' style='font-size: x-large;'>drop feature: extraction_type_class</font></i></li></ol>"
      ],
      "text/plain": [
       "<IPython.core.display.HTML object>"
      ]
     },
     "metadata": {},
     "output_type": "display_data"
    },
    {
     "name": "stdout",
     "output_type": "stream",
     "text": [
      "strategy appended step ['drop feature: extraction_type_class', <scjpnlib.utils.skl_transformers.DropColumnsTransformer object at 0x7fc771c31fd0>] to pipeline\n",
      "strategy \"drop feature: extraction_type_class\" transformation is COMPLETE!\n"
     ]
    },
    {
     "data": {
      "text/html": [
       "<p><br><br>"
      ],
      "text/plain": [
       "<IPython.core.display.HTML object>"
      ]
     },
     "metadata": {},
     "output_type": "display_data"
    },
    {
     "data": {
      "text/html": [
       "<b>(composite) strategy name/description: <i><font color='red'>amount_tsh</font></i></b><ol><li><b>strategy description</b>: <i><font color='blue' style='font-size: x-large;'>replace \"amount_tsh\" values (0) with nan</font></i></li></ol>"
      ],
      "text/plain": [
       "<IPython.core.display.HTML object>"
      ]
     },
     "metadata": {},
     "output_type": "display_data"
    },
    {
     "name": "stdout",
     "output_type": "stream",
     "text": [
      "strategy appended step ['replace \"amount_tsh\" values (0) with nan', FunctionTransformer(func=<function C__replace_0_with_nan__StrategyTransformer.get_transformer.<locals>.<lambda> at 0x7fc771c17560>)] to pipeline\n",
      "strategy \"replace \"amount_tsh\" values (0) with nan\" transformation is COMPLETE!\n"
     ]
    },
    {
     "data": {
      "text/html": [
       "<p><br><br>"
      ],
      "text/plain": [
       "<IPython.core.display.HTML object>"
      ]
     },
     "metadata": {},
     "output_type": "display_data"
    },
    {
     "data": {
      "text/html": [
       "<b>(composite) strategy name/description: <i><font color='red'>source</font></i></b><ol><li><b>strategy description</b>: <i><font color='blue' style='font-size: x-large;'>(prefit) target-encoder (LOO==False, post_encode_null_to_global_mean==True) transform: source</font></i></li></ol>"
      ],
      "text/plain": [
       "<IPython.core.display.HTML object>"
      ]
     },
     "metadata": {},
     "output_type": "display_data"
    },
    {
     "name": "stdout",
     "output_type": "stream",
     "text": [
      "** TargetEncoderLOOTransformer FIT INFO **: transformer has been fit to X\n",
      "strategy appended step ['(prefit) target-encoder (LOO==False, post_encode_null_to_global_mean==True) transform: source', FunctionTransformer(func=<function C__target_encode__StrategyTransformer.get_transformer.<locals>.<lambda> at 0x7fc771c35200>)] to pipeline\n",
      "** TargetEncoderLOOTransformer TRANSFORM INFO **: NOT using Leave-One-Out\n",
      "** TargetEncoderLOOTransformer TRANSFORM INFO **: unique categories of 'source' in X match those that were previously fit\n",
      "added new feature: source_target_encoded\n",
      "strategy appended step ['drop after target encoding: source', <scjpnlib.utils.skl_transformers.DropColumnsTransformer object at 0x7fc771bb6610>] to pipeline\n",
      "strategy \"(prefit) target-encoder (LOO==False, post_encode_null_to_global_mean==True) transform: source\" dropped feature 'source' after target encoding\n",
      "strategy transformation of feature 'source' to 'source_target_encoded' is COMPLETE!\n"
     ]
    },
    {
     "data": {
      "text/html": [
       "<p><br><br>"
      ],
      "text/plain": [
       "<IPython.core.display.HTML object>"
      ]
     },
     "metadata": {},
     "output_type": "display_data"
    },
    {
     "data": {
      "text/html": [
       "<b>(composite) strategy name/description: <i><font color='red'>source_type</font></i></b><ol><li><b>strategy description</b>: <i><font color='blue' style='font-size: x-large;'>drop feature: source_type</font></i></li></ol>"
      ],
      "text/plain": [
       "<IPython.core.display.HTML object>"
      ]
     },
     "metadata": {},
     "output_type": "display_data"
    },
    {
     "name": "stdout",
     "output_type": "stream",
     "text": [
      "strategy appended step ['drop feature: source_type', <scjpnlib.utils.skl_transformers.DropColumnsTransformer object at 0x7fc771c2bd10>] to pipeline\n",
      "strategy \"drop feature: source_type\" transformation is COMPLETE!\n"
     ]
    },
    {
     "data": {
      "text/html": [
       "<p><br><br>"
      ],
      "text/plain": [
       "<IPython.core.display.HTML object>"
      ]
     },
     "metadata": {},
     "output_type": "display_data"
    },
    {
     "data": {
      "text/html": [
       "<b>(composite) strategy name/description: <i><font color='red'>source_class</font></i></b><ol><li><b>strategy description</b>: <i><font color='blue' style='font-size: x-large;'>drop feature: source_class</font></i></li></ol>"
      ],
      "text/plain": [
       "<IPython.core.display.HTML object>"
      ]
     },
     "metadata": {},
     "output_type": "display_data"
    },
    {
     "name": "stdout",
     "output_type": "stream",
     "text": [
      "strategy appended step ['drop feature: source_class', <scjpnlib.utils.skl_transformers.DropColumnsTransformer object at 0x7fc771c2b110>] to pipeline\n",
      "strategy \"drop feature: source_class\" transformation is COMPLETE!\n"
     ]
    },
    {
     "data": {
      "text/html": [
       "<p><br><br>"
      ],
      "text/plain": [
       "<IPython.core.display.HTML object>"
      ]
     },
     "metadata": {},
     "output_type": "display_data"
    },
    {
     "data": {
      "text/html": [
       "<b>(composite) strategy name/description: <i><font color='red'>quantity</font></i></b><ol><li><b>strategy description</b>: <i><font color='blue' style='font-size: x-large;'>(prefit) target-encoder (LOO==False, post_encode_null_to_global_mean==True) transform: quantity</font></i></li></ol>"
      ],
      "text/plain": [
       "<IPython.core.display.HTML object>"
      ]
     },
     "metadata": {},
     "output_type": "display_data"
    },
    {
     "name": "stdout",
     "output_type": "stream",
     "text": [
      "** TargetEncoderLOOTransformer FIT INFO **: transformer has been fit to X\n",
      "strategy appended step ['(prefit) target-encoder (LOO==False, post_encode_null_to_global_mean==True) transform: quantity', FunctionTransformer(func=<function C__target_encode__StrategyTransformer.get_transformer.<locals>.<lambda> at 0x7fc771c35e60>)] to pipeline\n",
      "** TargetEncoderLOOTransformer TRANSFORM INFO **: NOT using Leave-One-Out\n",
      "** TargetEncoderLOOTransformer TRANSFORM INFO **: unique categories of 'quantity' in X match those that were previously fit\n",
      "added new feature: quantity_target_encoded\n",
      "strategy appended step ['drop after target encoding: quantity', <scjpnlib.utils.skl_transformers.DropColumnsTransformer object at 0x7fc771bb6550>] to pipeline\n",
      "strategy \"(prefit) target-encoder (LOO==False, post_encode_null_to_global_mean==True) transform: quantity\" dropped feature 'quantity' after target encoding\n",
      "strategy transformation of feature 'quantity' to 'quantity_target_encoded' is COMPLETE!\n"
     ]
    },
    {
     "data": {
      "text/html": [
       "<p><br><br>"
      ],
      "text/plain": [
       "<IPython.core.display.HTML object>"
      ]
     },
     "metadata": {},
     "output_type": "display_data"
    },
    {
     "data": {
      "text/html": [
       "<b>(composite) strategy name/description: <i><font color='red'>quantity_group</font></i></b><ol><li><b>strategy description</b>: <i><font color='blue' style='font-size: x-large;'>drop feature: quantity_group</font></i></li></ol>"
      ],
      "text/plain": [
       "<IPython.core.display.HTML object>"
      ]
     },
     "metadata": {},
     "output_type": "display_data"
    },
    {
     "name": "stdout",
     "output_type": "stream",
     "text": [
      "strategy appended step ['drop feature: quantity_group', <scjpnlib.utils.skl_transformers.DropColumnsTransformer object at 0x7fc771c31f90>] to pipeline\n",
      "strategy \"drop feature: quantity_group\" transformation is COMPLETE!\n"
     ]
    },
    {
     "data": {
      "text/html": [
       "<p><br><br>"
      ],
      "text/plain": [
       "<IPython.core.display.HTML object>"
      ]
     },
     "metadata": {},
     "output_type": "display_data"
    },
    {
     "data": {
      "text/html": [
       "<b>(composite) strategy name/description: <i><font color='red'>water_quality</font></i></b><ol><li><b>strategy description</b>: <i><font color='blue' style='font-size: x-large;'>(prefit) target-encoder (LOO==False, post_encode_null_to_global_mean==True) transform: water_quality</font></i></li></ol>"
      ],
      "text/plain": [
       "<IPython.core.display.HTML object>"
      ]
     },
     "metadata": {},
     "output_type": "display_data"
    },
    {
     "name": "stdout",
     "output_type": "stream",
     "text": [
      "** TargetEncoderLOOTransformer FIT INFO **: transformer has been fit to X\n",
      "strategy appended step ['(prefit) target-encoder (LOO==False, post_encode_null_to_global_mean==True) transform: water_quality', FunctionTransformer(func=<function C__target_encode__StrategyTransformer.get_transformer.<locals>.<lambda> at 0x7fc771c35f80>)] to pipeline\n",
      "** TargetEncoderLOOTransformer TRANSFORM INFO **: NOT using Leave-One-Out\n",
      "** TargetEncoderLOOTransformer TRANSFORM INFO **: unique categories of 'water_quality' in X match those that were previously fit\n",
      "added new feature: water_quality_target_encoded\n",
      "strategy appended step ['drop after target encoding: water_quality', <scjpnlib.utils.skl_transformers.DropColumnsTransformer object at 0x7fc771bb6310>] to pipeline\n",
      "strategy \"(prefit) target-encoder (LOO==False, post_encode_null_to_global_mean==True) transform: water_quality\" dropped feature 'water_quality' after target encoding\n",
      "strategy transformation of feature 'water_quality' to 'water_quality_target_encoded' is COMPLETE!\n"
     ]
    },
    {
     "data": {
      "text/html": [
       "<p><br><br>"
      ],
      "text/plain": [
       "<IPython.core.display.HTML object>"
      ]
     },
     "metadata": {},
     "output_type": "display_data"
    },
    {
     "data": {
      "text/html": [
       "<b>(composite) strategy name/description: <i><font color='red'>quality_group</font></i></b><ol><li><b>strategy description</b>: <i><font color='blue' style='font-size: x-large;'>drop feature: quality_group</font></i></li></ol>"
      ],
      "text/plain": [
       "<IPython.core.display.HTML object>"
      ]
     },
     "metadata": {},
     "output_type": "display_data"
    },
    {
     "name": "stdout",
     "output_type": "stream",
     "text": [
      "strategy appended step ['drop feature: quality_group', <scjpnlib.utils.skl_transformers.DropColumnsTransformer object at 0x7fc771bb6b10>] to pipeline\n",
      "strategy \"drop feature: quality_group\" transformation is COMPLETE!\n"
     ]
    },
    {
     "data": {
      "text/html": [
       "<p><br><br>"
      ],
      "text/plain": [
       "<IPython.core.display.HTML object>"
      ]
     },
     "metadata": {},
     "output_type": "display_data"
    },
    {
     "data": {
      "text/html": [
       "<b>(composite) strategy name/description: <i><font color='red'>gps_height</font></i></b><ol><li><b>strategy description</b>: <i><font color='blue' style='font-size: x-large;'>leave feature as is (do nothing): gps_height</font></i></li></ol>"
      ],
      "text/plain": [
       "<IPython.core.display.HTML object>"
      ]
     },
     "metadata": {},
     "output_type": "display_data"
    },
    {
     "name": "stdout",
     "output_type": "stream",
     "text": [
      "strategy appended step ['leave feature as is (do nothing): gps_height', FunctionTransformer(func=<function C__leave_it_as_is__StrategyTransformer.get_transformer.<locals>.<lambda> at 0x7fc771c17950>)] to pipeline\n",
      "strategy \"leave feature as is (do nothing): gps_height\" transformation is COMPLETE!\n"
     ]
    },
    {
     "data": {
      "text/html": [
       "<p><br><br>"
      ],
      "text/plain": [
       "<IPython.core.display.HTML object>"
      ]
     },
     "metadata": {},
     "output_type": "display_data"
    },
    {
     "data": {
      "text/html": [
       "<b>(composite) strategy name/description: <i><font color='red'>gps_coordinates</font></i></b><ol><li><b>strategy description</b>: <i><font color='blue' style='font-size: x-large;'>leave feature as is (do nothing): latitude</font></i></li><li><b>strategy description</b>: <i><font color='blue' style='font-size: x-large;'>leave feature as is (do nothing): longitude</font></i></li></ol>"
      ],
      "text/plain": [
       "<IPython.core.display.HTML object>"
      ]
     },
     "metadata": {},
     "output_type": "display_data"
    },
    {
     "name": "stdout",
     "output_type": "stream",
     "text": [
      "strategy appended step ['leave feature as is (do nothing): latitude', FunctionTransformer(func=<function C__leave_it_as_is__StrategyTransformer.get_transformer.<locals>.<lambda> at 0x7fc771c35a70>)] to pipeline\n",
      "strategy \"leave feature as is (do nothing): latitude\" transformation is COMPLETE!\n",
      "strategy appended step ['leave feature as is (do nothing): longitude', FunctionTransformer(func=<function C__leave_it_as_is__StrategyTransformer.get_transformer.<locals>.<lambda> at 0x7fc771c35320>)] to pipeline\n",
      "strategy \"leave feature as is (do nothing): longitude\" transformation is COMPLETE!\n"
     ]
    },
    {
     "data": {
      "text/html": [
       "<p><br><br>"
      ],
      "text/plain": [
       "<IPython.core.display.HTML object>"
      ]
     },
     "metadata": {},
     "output_type": "display_data"
    },
    {
     "data": {
      "text/html": [
       "<b>(composite) strategy name/description: <i><font color='red'>waterpoint_type</font></i></b><ol><li><b>strategy description</b>: <i><font color='blue' style='font-size: x-large;'>(prefit) target-encoder (LOO==False, post_encode_null_to_global_mean==True) transform: waterpoint_type</font></i></li></ol>"
      ],
      "text/plain": [
       "<IPython.core.display.HTML object>"
      ]
     },
     "metadata": {},
     "output_type": "display_data"
    },
    {
     "name": "stdout",
     "output_type": "stream",
     "text": [
      "** TargetEncoderLOOTransformer FIT INFO **: transformer has been fit to X\n",
      "strategy appended step ['(prefit) target-encoder (LOO==False, post_encode_null_to_global_mean==True) transform: waterpoint_type', FunctionTransformer(func=<function C__target_encode__StrategyTransformer.get_transformer.<locals>.<lambda> at 0x7fc771c35ef0>)] to pipeline\n",
      "** TargetEncoderLOOTransformer TRANSFORM INFO **: NOT using Leave-One-Out\n",
      "** TargetEncoderLOOTransformer TRANSFORM INFO **: unique categories of 'waterpoint_type' in X match those that were previously fit\n",
      "added new feature: waterpoint_type_target_encoded\n",
      "strategy appended step ['drop after target encoding: waterpoint_type', <scjpnlib.utils.skl_transformers.DropColumnsTransformer object at 0x7fc771bc81d0>] to pipeline\n",
      "strategy \"(prefit) target-encoder (LOO==False, post_encode_null_to_global_mean==True) transform: waterpoint_type\" dropped feature 'waterpoint_type' after target encoding\n",
      "strategy transformation of feature 'waterpoint_type' to 'waterpoint_type_target_encoded' is COMPLETE!\n"
     ]
    },
    {
     "data": {
      "text/html": [
       "<p><br><br>"
      ],
      "text/plain": [
       "<IPython.core.display.HTML object>"
      ]
     },
     "metadata": {},
     "output_type": "display_data"
    },
    {
     "data": {
      "text/html": [
       "<b>(composite) strategy name/description: <i><font color='red'>waterpoint_type_group</font></i></b><ol><li><b>strategy description</b>: <i><font color='blue' style='font-size: x-large;'>drop feature: waterpoint_type_group</font></i></li></ol>"
      ],
      "text/plain": [
       "<IPython.core.display.HTML object>"
      ]
     },
     "metadata": {},
     "output_type": "display_data"
    },
    {
     "name": "stdout",
     "output_type": "stream",
     "text": [
      "strategy appended step ['drop feature: waterpoint_type_group', <scjpnlib.utils.skl_transformers.DropColumnsTransformer object at 0x7fc771bb6490>] to pipeline\n",
      "strategy \"drop feature: waterpoint_type_group\" transformation is COMPLETE!\n"
     ]
    },
    {
     "data": {
      "text/html": [
       "<p><br><br>"
      ],
      "text/plain": [
       "<IPython.core.display.HTML object>"
      ]
     },
     "metadata": {},
     "output_type": "display_data"
    },
    {
     "data": {
      "text/html": [
       "<b>(composite) strategy name/description: <i><font color='red'>installer</font></i></b><ol><li><b>strategy description</b>: <i><font color='blue' style='font-size: x-large;'>drop feature: installer</font></i></li></ol>"
      ],
      "text/plain": [
       "<IPython.core.display.HTML object>"
      ]
     },
     "metadata": {},
     "output_type": "display_data"
    },
    {
     "name": "stdout",
     "output_type": "stream",
     "text": [
      "strategy appended step ['drop feature: installer', <scjpnlib.utils.skl_transformers.DropColumnsTransformer object at 0x7fc771bb6f10>] to pipeline\n",
      "strategy \"drop feature: installer\" transformation is COMPLETE!\n"
     ]
    },
    {
     "data": {
      "text/html": [
       "<p><br><br>"
      ],
      "text/plain": [
       "<IPython.core.display.HTML object>"
      ]
     },
     "metadata": {},
     "output_type": "display_data"
    },
    {
     "data": {
      "text/html": [
       "<b>(composite) strategy name/description: <i><font color='red'>population</font></i></b><ol><li><b>strategy description</b>: <i><font color='blue' style='font-size: x-large;'>replace \"population\" values (0) with nan</font></i></li></ol>"
      ],
      "text/plain": [
       "<IPython.core.display.HTML object>"
      ]
     },
     "metadata": {},
     "output_type": "display_data"
    },
    {
     "name": "stdout",
     "output_type": "stream",
     "text": [
      "strategy appended step ['replace \"population\" values (0) with nan', FunctionTransformer(func=<function C__replace_0_with_nan__StrategyTransformer.get_transformer.<locals>.<lambda> at 0x7fc771c178c0>)] to pipeline\n",
      "strategy \"replace \"population\" values (0) with nan\" transformation is COMPLETE!\n"
     ]
    },
    {
     "data": {
      "text/html": [
       "<p><br><br>"
      ],
      "text/plain": [
       "<IPython.core.display.HTML object>"
      ]
     },
     "metadata": {},
     "output_type": "display_data"
    },
    {
     "data": {
      "text/html": [
       "<b>(composite) strategy name/description: <i><font color='red'>region_code</font></i></b><ol><li><b>strategy description</b>: <i><font color='blue' style='font-size: x-large;'>(prefit) target-encoder (LOO==False, post_encode_null_to_global_mean==True) transform: region_code</font></i></li></ol>"
      ],
      "text/plain": [
       "<IPython.core.display.HTML object>"
      ]
     },
     "metadata": {},
     "output_type": "display_data"
    },
    {
     "name": "stdout",
     "output_type": "stream",
     "text": [
      "** TargetEncoderLOOTransformer FIT INFO **: transformer has been fit to X\n",
      "strategy appended step ['(prefit) target-encoder (LOO==False, post_encode_null_to_global_mean==True) transform: region_code', FunctionTransformer(func=<function C__target_encode__StrategyTransformer.get_transformer.<locals>.<lambda> at 0x7fc771c35cb0>)] to pipeline\n",
      "** TargetEncoderLOOTransformer TRANSFORM INFO **: NOT using Leave-One-Out\n",
      "** TargetEncoderLOOTransformer TRANSFORM INFO **: unique categories of 'region_code' in X match those that were previously fit\n",
      "added new feature: region_code_target_encoded\n",
      "strategy appended step ['drop after target encoding: region_code', <scjpnlib.utils.skl_transformers.DropColumnsTransformer object at 0x7fc771bc8490>] to pipeline\n",
      "strategy \"(prefit) target-encoder (LOO==False, post_encode_null_to_global_mean==True) transform: region_code\" dropped feature 'region_code' after target encoding\n",
      "strategy transformation of feature 'region_code' to 'region_code_target_encoded' is COMPLETE!\n"
     ]
    },
    {
     "data": {
      "text/html": [
       "<p><br><br>"
      ],
      "text/plain": [
       "<IPython.core.display.HTML object>"
      ]
     },
     "metadata": {},
     "output_type": "display_data"
    },
    {
     "data": {
      "text/html": [
       "<b>(composite) strategy name/description: <i><font color='red'>district_code</font></i></b><ol><li><b>strategy description</b>: <i><font color='blue' style='font-size: x-large;'>(prefit) target-encoder (LOO==False, post_encode_null_to_global_mean==True) transform: district_code</font></i></li></ol>"
      ],
      "text/plain": [
       "<IPython.core.display.HTML object>"
      ]
     },
     "metadata": {},
     "output_type": "display_data"
    },
    {
     "name": "stdout",
     "output_type": "stream",
     "text": [
      "** TargetEncoderLOOTransformer FIT INFO **: transformer has been fit to X\n",
      "strategy appended step ['(prefit) target-encoder (LOO==False, post_encode_null_to_global_mean==True) transform: district_code', FunctionTransformer(func=<function C__target_encode__StrategyTransformer.get_transformer.<locals>.<lambda> at 0x7fc771c359e0>)] to pipeline\n",
      "** TargetEncoderLOOTransformer TRANSFORM INFO **: NOT using Leave-One-Out\n",
      "** TargetEncoderLOOTransformer TRANSFORM INFO **: unique categories of 'district_code' in X match those that were previously fit\n",
      "added new feature: district_code_target_encoded\n",
      "strategy appended step ['drop after target encoding: district_code', <scjpnlib.utils.skl_transformers.DropColumnsTransformer object at 0x7fc771bc8e50>] to pipeline\n",
      "strategy \"(prefit) target-encoder (LOO==False, post_encode_null_to_global_mean==True) transform: district_code\" dropped feature 'district_code' after target encoding\n",
      "strategy transformation of feature 'district_code' to 'district_code_target_encoded' is COMPLETE!\n"
     ]
    },
    {
     "data": {
      "text/html": [
       "<p><br><br>"
      ],
      "text/plain": [
       "<IPython.core.display.HTML object>"
      ]
     },
     "metadata": {},
     "output_type": "display_data"
    },
    {
     "data": {
      "text/html": [
       "<b>(composite) strategy name/description: <i><font color='red'>subvillage</font></i></b><ol><li><b>strategy description</b>: <i><font color='blue' style='font-size: x-large;'>drop feature: subvillage</font></i></li></ol>"
      ],
      "text/plain": [
       "<IPython.core.display.HTML object>"
      ]
     },
     "metadata": {},
     "output_type": "display_data"
    },
    {
     "name": "stdout",
     "output_type": "stream",
     "text": [
      "strategy appended step ['drop feature: subvillage', <scjpnlib.utils.skl_transformers.DropColumnsTransformer object at 0x7fc784bdebd0>] to pipeline\n",
      "strategy \"drop feature: subvillage\" transformation is COMPLETE!\n"
     ]
    },
    {
     "data": {
      "text/html": [
       "<p><br><br>"
      ],
      "text/plain": [
       "<IPython.core.display.HTML object>"
      ]
     },
     "metadata": {},
     "output_type": "display_data"
    },
    {
     "data": {
      "text/html": [
       "<b>(composite) strategy name/description: <i><font color='red'>region</font></i></b><ol><li><b>strategy description</b>: <i><font color='blue' style='font-size: x-large;'>drop feature: region</font></i></li></ol>"
      ],
      "text/plain": [
       "<IPython.core.display.HTML object>"
      ]
     },
     "metadata": {},
     "output_type": "display_data"
    },
    {
     "name": "stdout",
     "output_type": "stream",
     "text": [
      "strategy appended step ['drop feature: region', <scjpnlib.utils.skl_transformers.DropColumnsTransformer object at 0x7fc771bc8e90>] to pipeline\n",
      "strategy \"drop feature: region\" transformation is COMPLETE!\n"
     ]
    },
    {
     "data": {
      "text/html": [
       "<p><br><br>"
      ],
      "text/plain": [
       "<IPython.core.display.HTML object>"
      ]
     },
     "metadata": {},
     "output_type": "display_data"
    },
    {
     "data": {
      "text/html": [
       "<b>(composite) strategy name/description: <i><font color='red'>lga</font></i></b><ol><li><b>strategy description</b>: <i><font color='blue' style='font-size: x-large;'>drop feature: lga</font></i></li></ol>"
      ],
      "text/plain": [
       "<IPython.core.display.HTML object>"
      ]
     },
     "metadata": {},
     "output_type": "display_data"
    },
    {
     "name": "stdout",
     "output_type": "stream",
     "text": [
      "strategy appended step ['drop feature: lga', <scjpnlib.utils.skl_transformers.DropColumnsTransformer object at 0x7fc771bc8890>] to pipeline\n",
      "strategy \"drop feature: lga\" transformation is COMPLETE!\n"
     ]
    },
    {
     "data": {
      "text/html": [
       "<p><br><br>"
      ],
      "text/plain": [
       "<IPython.core.display.HTML object>"
      ]
     },
     "metadata": {},
     "output_type": "display_data"
    },
    {
     "data": {
      "text/html": [
       "<b>(composite) strategy name/description: <i><font color='red'>ward</font></i></b><ol><li><b>strategy description</b>: <i><font color='blue' style='font-size: x-large;'>drop feature: ward</font></i></li></ol>"
      ],
      "text/plain": [
       "<IPython.core.display.HTML object>"
      ]
     },
     "metadata": {},
     "output_type": "display_data"
    },
    {
     "name": "stdout",
     "output_type": "stream",
     "text": [
      "strategy appended step ['drop feature: ward', <scjpnlib.utils.skl_transformers.DropColumnsTransformer object at 0x7fc771bc8510>] to pipeline\n",
      "strategy \"drop feature: ward\" transformation is COMPLETE!\n"
     ]
    },
    {
     "data": {
      "text/html": [
       "<p><br><br>"
      ],
      "text/plain": [
       "<IPython.core.display.HTML object>"
      ]
     },
     "metadata": {},
     "output_type": "display_data"
    },
    {
     "data": {
      "text/html": [
       "<b>(composite) strategy name/description: <i><font color='red'>scheme_management</font></i></b><ol><li><b>strategy description</b>: <i><font color='blue' style='font-size: x-large;'>drop feature: scheme_management</font></i></li></ol>"
      ],
      "text/plain": [
       "<IPython.core.display.HTML object>"
      ]
     },
     "metadata": {},
     "output_type": "display_data"
    },
    {
     "name": "stdout",
     "output_type": "stream",
     "text": [
      "strategy appended step ['drop feature: scheme_management', <scjpnlib.utils.skl_transformers.DropColumnsTransformer object at 0x7fc771bc8790>] to pipeline\n",
      "strategy \"drop feature: scheme_management\" transformation is COMPLETE!\n"
     ]
    },
    {
     "data": {
      "text/html": [
       "<p><br><br>"
      ],
      "text/plain": [
       "<IPython.core.display.HTML object>"
      ]
     },
     "metadata": {},
     "output_type": "display_data"
    },
    {
     "data": {
      "text/html": [
       "<b>(composite) strategy name/description: <i><font color='red'>scheme_name</font></i></b><ol><li><b>strategy description</b>: <i><font color='blue' style='font-size: x-large;'>drop feature: scheme_name</font></i></li></ol>"
      ],
      "text/plain": [
       "<IPython.core.display.HTML object>"
      ]
     },
     "metadata": {},
     "output_type": "display_data"
    },
    {
     "name": "stdout",
     "output_type": "stream",
     "text": [
      "strategy appended step ['drop feature: scheme_name', <scjpnlib.utils.skl_transformers.DropColumnsTransformer object at 0x7fc771bc8590>] to pipeline\n",
      "strategy \"drop feature: scheme_name\" transformation is COMPLETE!\n"
     ]
    },
    {
     "data": {
      "text/html": [
       "<p><br><br>"
      ],
      "text/plain": [
       "<IPython.core.display.HTML object>"
      ]
     },
     "metadata": {},
     "output_type": "display_data"
    },
    {
     "data": {
      "text/html": [
       "<b>(composite) strategy name/description: <i><font color='red'>pump_age</font></i></b><ol><li><b>strategy description</b>: <i><font color='blue' style='font-size: x-large;'>drop feature: date_recorded</font></i></li><li><b>strategy description</b>: <i><font color='blue' style='font-size: x-large;'>leave feature as is (do nothing): construction_year</font></i></li></ol>"
      ],
      "text/plain": [
       "<IPython.core.display.HTML object>"
      ]
     },
     "metadata": {},
     "output_type": "display_data"
    },
    {
     "name": "stdout",
     "output_type": "stream",
     "text": [
      "strategy appended step ['drop feature: date_recorded', <scjpnlib.utils.skl_transformers.DropColumnsTransformer object at 0x7fc784bdef90>] to pipeline\n",
      "strategy \"drop feature: date_recorded\" transformation is COMPLETE!\n",
      "strategy appended step ['leave feature as is (do nothing): construction_year', FunctionTransformer(func=<function C__leave_it_as_is__StrategyTransformer.get_transformer.<locals>.<lambda> at 0x7fc771c35dd0>)] to pipeline\n",
      "strategy \"leave feature as is (do nothing): construction_year\" transformation is COMPLETE!\n"
     ]
    },
    {
     "data": {
      "text/html": [
       "<p><br><br>"
      ],
      "text/plain": [
       "<IPython.core.display.HTML object>"
      ]
     },
     "metadata": {},
     "output_type": "display_data"
    },
    {
     "data": {
      "text/html": [
       "<b>(composite) strategy name/description: <i><font color='red'>payment_type</font></i></b><ol><li><b>strategy description</b>: <i><font color='blue' style='font-size: x-large;'>drop feature: payment_type</font></i></li></ol>"
      ],
      "text/plain": [
       "<IPython.core.display.HTML object>"
      ]
     },
     "metadata": {},
     "output_type": "display_data"
    },
    {
     "name": "stdout",
     "output_type": "stream",
     "text": [
      "strategy appended step ['drop feature: payment_type', <scjpnlib.utils.skl_transformers.DropColumnsTransformer object at 0x7fc771bc8750>] to pipeline\n",
      "strategy \"drop feature: payment_type\" transformation is COMPLETE!\n"
     ]
    },
    {
     "data": {
      "text/html": [
       "<p><br><br>"
      ],
      "text/plain": [
       "<IPython.core.display.HTML object>"
      ]
     },
     "metadata": {},
     "output_type": "display_data"
    },
    {
     "data": {
      "text/html": [
       "<b>(composite) strategy name/description: <i><font color='red'>payment</font></i></b><ol><li><b>strategy description</b>: <i><font color='blue' style='font-size: x-large;'>drop feature: payment</font></i></li></ol>"
      ],
      "text/plain": [
       "<IPython.core.display.HTML object>"
      ]
     },
     "metadata": {},
     "output_type": "display_data"
    },
    {
     "name": "stdout",
     "output_type": "stream",
     "text": [
      "strategy appended step ['drop feature: payment', <scjpnlib.utils.skl_transformers.DropColumnsTransformer object at 0x7fc771bc86d0>] to pipeline\n",
      "strategy \"drop feature: payment\" transformation is COMPLETE!\n"
     ]
    },
    {
     "data": {
      "text/html": [
       "<p><br><br>"
      ],
      "text/plain": [
       "<IPython.core.display.HTML object>"
      ]
     },
     "metadata": {},
     "output_type": "display_data"
    },
    {
     "data": {
      "text/html": [
       "<b>(composite) strategy name/description: <i><font color='red'>num_private</font></i></b><ol><li><b>strategy description</b>: <i><font color='blue' style='font-size: x-large;'>drop feature: num_private</font></i></li></ol>"
      ],
      "text/plain": [
       "<IPython.core.display.HTML object>"
      ]
     },
     "metadata": {},
     "output_type": "display_data"
    },
    {
     "name": "stdout",
     "output_type": "stream",
     "text": [
      "strategy appended step ['drop feature: num_private', <scjpnlib.utils.skl_transformers.DropColumnsTransformer object at 0x7fc771bc8d10>] to pipeline\n",
      "strategy \"drop feature: num_private\" transformation is COMPLETE!\n"
     ]
    },
    {
     "data": {
      "text/html": [
       "<p><br><br>"
      ],
      "text/plain": [
       "<IPython.core.display.HTML object>"
      ]
     },
     "metadata": {},
     "output_type": "display_data"
    },
    {
     "data": {
      "text/html": [
       "<b>(composite) strategy name/description: <i><font color='red'>wpt_name</font></i></b><ol><li><b>strategy description</b>: <i><font color='blue' style='font-size: x-large;'>drop feature: wpt_name</font></i></li></ol>"
      ],
      "text/plain": [
       "<IPython.core.display.HTML object>"
      ]
     },
     "metadata": {},
     "output_type": "display_data"
    },
    {
     "name": "stdout",
     "output_type": "stream",
     "text": [
      "strategy appended step ['drop feature: wpt_name', <scjpnlib.utils.skl_transformers.DropColumnsTransformer object at 0x7fc771bc8dd0>] to pipeline\n",
      "strategy \"drop feature: wpt_name\" transformation is COMPLETE!\n"
     ]
    },
    {
     "data": {
      "text/html": [
       "<p><br><br>"
      ],
      "text/plain": [
       "<IPython.core.display.HTML object>"
      ]
     },
     "metadata": {},
     "output_type": "display_data"
    },
    {
     "data": {
      "text/html": [
       "<b>(composite) strategy name/description: <i><font color='red'>basin</font></i></b><ol><li><b>strategy description</b>: <i><font color='blue' style='font-size: x-large;'>drop feature: basin</font></i></li></ol>"
      ],
      "text/plain": [
       "<IPython.core.display.HTML object>"
      ]
     },
     "metadata": {},
     "output_type": "display_data"
    },
    {
     "name": "stdout",
     "output_type": "stream",
     "text": [
      "strategy appended step ['drop feature: basin', <scjpnlib.utils.skl_transformers.DropColumnsTransformer object at 0x7fc771bb6e10>] to pipeline\n",
      "strategy \"drop feature: basin\" transformation is COMPLETE!\n"
     ]
    },
    {
     "data": {
      "text/html": [
       "<p><br><br>"
      ],
      "text/plain": [
       "<IPython.core.display.HTML object>"
      ]
     },
     "metadata": {},
     "output_type": "display_data"
    },
    {
     "data": {
      "text/html": [
       "<b>(composite) strategy name/description: <i><font color='red'>public_meeting</font></i></b><ol><li><b>strategy description</b>: <i><font color='blue' style='font-size: x-large;'>drop feature: public_meeting</font></i></li></ol>"
      ],
      "text/plain": [
       "<IPython.core.display.HTML object>"
      ]
     },
     "metadata": {},
     "output_type": "display_data"
    },
    {
     "name": "stdout",
     "output_type": "stream",
     "text": [
      "strategy appended step ['drop feature: public_meeting', <scjpnlib.utils.skl_transformers.DropColumnsTransformer object at 0x7fc784bdefd0>] to pipeline\n",
      "strategy \"drop feature: public_meeting\" transformation is COMPLETE!\n"
     ]
    },
    {
     "data": {
      "text/html": [
       "<p><br><br>"
      ],
      "text/plain": [
       "<IPython.core.display.HTML object>"
      ]
     },
     "metadata": {},
     "output_type": "display_data"
    },
    {
     "data": {
      "text/html": [
       "<b>(composite) strategy name/description: <i><font color='red'>recorded_by</font></i></b><ol><li><b>strategy description</b>: <i><font color='blue' style='font-size: x-large;'>drop feature: recorded_by</font></i></li></ol>"
      ],
      "text/plain": [
       "<IPython.core.display.HTML object>"
      ]
     },
     "metadata": {},
     "output_type": "display_data"
    },
    {
     "name": "stdout",
     "output_type": "stream",
     "text": [
      "strategy appended step ['drop feature: recorded_by', <scjpnlib.utils.skl_transformers.DropColumnsTransformer object at 0x7fc784bdec50>] to pipeline\n",
      "strategy \"drop feature: recorded_by\" transformation is COMPLETE!\n"
     ]
    },
    {
     "data": {
      "text/html": [
       "<p><br><br>"
      ],
      "text/plain": [
       "<IPython.core.display.HTML object>"
      ]
     },
     "metadata": {},
     "output_type": "display_data"
    },
    {
     "data": {
      "text/html": [
       "<b>(composite) strategy name/description: <i><font color='red'>permit</font></i></b><ol><li><b>strategy description</b>: <i><font color='blue' style='font-size: x-large;'>drop feature: permit</font></i></li></ol>"
      ],
      "text/plain": [
       "<IPython.core.display.HTML object>"
      ]
     },
     "metadata": {},
     "output_type": "display_data"
    },
    {
     "name": "stdout",
     "output_type": "stream",
     "text": [
      "strategy appended step ['drop feature: permit', <scjpnlib.utils.skl_transformers.DropColumnsTransformer object at 0x7fc771bd4490>] to pipeline\n",
      "strategy \"drop feature: permit\" transformation is COMPLETE!\n"
     ]
    },
    {
     "data": {
      "text/html": [
       "<p><br><br>"
      ],
      "text/plain": [
       "<IPython.core.display.HTML object>"
      ]
     },
     "metadata": {},
     "output_type": "display_data"
    },
    {
     "data": {
      "text/html": [
       "<b>(composite) strategy name/description: <i><font color='red'>management</font></i></b><ol><li><b>strategy description</b>: <i><font color='blue' style='font-size: x-large;'>(prefit) target-encoder (LOO==False, post_encode_null_to_global_mean==True) transform: management</font></i></li></ol>"
      ],
      "text/plain": [
       "<IPython.core.display.HTML object>"
      ]
     },
     "metadata": {},
     "output_type": "display_data"
    },
    {
     "name": "stdout",
     "output_type": "stream",
     "text": [
      "** TargetEncoderLOOTransformer FIT INFO **: transformer has been fit to X\n",
      "strategy appended step ['(prefit) target-encoder (LOO==False, post_encode_null_to_global_mean==True) transform: management', FunctionTransformer(func=<function C__target_encode__StrategyTransformer.get_transformer.<locals>.<lambda> at 0x7fc784be1b00>)] to pipeline\n",
      "** TargetEncoderLOOTransformer TRANSFORM INFO **: NOT using Leave-One-Out\n",
      "** TargetEncoderLOOTransformer TRANSFORM INFO **: unique categories of 'management' in X match those that were previously fit\n",
      "added new feature: management_target_encoded\n",
      "strategy appended step ['drop after target encoding: management', <scjpnlib.utils.skl_transformers.DropColumnsTransformer object at 0x7fc771bd4e50>] to pipeline\n",
      "strategy \"(prefit) target-encoder (LOO==False, post_encode_null_to_global_mean==True) transform: management\" dropped feature 'management' after target encoding\n",
      "strategy transformation of feature 'management' to 'management_target_encoded' is COMPLETE!\n"
     ]
    },
    {
     "data": {
      "text/html": [
       "<p><br><br>"
      ],
      "text/plain": [
       "<IPython.core.display.HTML object>"
      ]
     },
     "metadata": {},
     "output_type": "display_data"
    },
    {
     "data": {
      "text/html": [
       "<b>(composite) strategy name/description: <i><font color='red'>management_group</font></i></b><ol><li><b>strategy description</b>: <i><font color='blue' style='font-size: x-large;'>drop feature: management_group</font></i></li></ol>"
      ],
      "text/plain": [
       "<IPython.core.display.HTML object>"
      ]
     },
     "metadata": {},
     "output_type": "display_data"
    },
    {
     "name": "stdout",
     "output_type": "stream",
     "text": [
      "strategy appended step ['drop feature: management_group', <scjpnlib.utils.skl_transformers.DropColumnsTransformer object at 0x7fc771bd42d0>] to pipeline\n",
      "strategy \"drop feature: management_group\" transformation is COMPLETE!\n"
     ]
    },
    {
     "data": {
      "text/html": [
       "<p><br><br>"
      ],
      "text/plain": [
       "<IPython.core.display.HTML object>"
      ]
     },
     "metadata": {},
     "output_type": "display_data"
    },
    {
     "data": {
      "text/html": [
       "<b>(composite) strategy name/description: <i><font color='red'>funder</font></i></b><ol><li><b>strategy description</b>: <i><font color='blue' style='font-size: x-large;'>drop feature: funder</font></i></li></ol>"
      ],
      "text/plain": [
       "<IPython.core.display.HTML object>"
      ]
     },
     "metadata": {},
     "output_type": "display_data"
    },
    {
     "name": "stdout",
     "output_type": "stream",
     "text": [
      "strategy appended step ['drop feature: funder', <scjpnlib.utils.skl_transformers.DropColumnsTransformer object at 0x7fc771bd4a10>] to pipeline\n",
      "strategy \"drop feature: funder\" transformation is COMPLETE!\n"
     ]
    },
    {
     "data": {
      "text/html": [
       "<p><br><br>"
      ],
      "text/plain": [
       "<IPython.core.display.HTML object>"
      ]
     },
     "metadata": {},
     "output_type": "display_data"
    }
   ],
   "source": [
    "data_train_preprocessed = data_train.copy()\n",
    "\n",
    "for group_name, preprocessing_option in preprocessing_spec.items():\n",
    "    composite_transformer = scjpnstrattransformers.instantiate_strategy_transformer(\n",
    "        preprocessing_option, \n",
    "        group_name,\n",
    "        pipeline_data_preprocessor\n",
    "    )\n",
    "    scjpnstrattransformers.html_prettify_strategy_transformer_description(composite_transformer)\n",
    "    data_train_preprocessed = composite_transformer.fit_transform(data_train_preprocessed, y_train_encoded.status_group)\n",
    "    display(HTML(\"<p><br><br>\"))"
   ]
  },
  {
   "cell_type": "code",
   "execution_count": 27,
   "metadata": {},
   "outputs": [
    {
     "data": {
      "text/html": [
       "<h3>data_train AFTER preprocessing Feature-Value Analysis (out of 53460 total observations)</h3>"
      ],
      "text/plain": [
       "<IPython.core.display.HTML object>"
      ]
     },
     "metadata": {},
     "output_type": "display_data"
    },
    {
     "data": {
      "text/html": [
       "<div>\n",
       "<style scoped>\n",
       "    .dataframe tbody tr th:only-of-type {\n",
       "        vertical-align: middle;\n",
       "    }\n",
       "\n",
       "    .dataframe tbody tr th {\n",
       "        vertical-align: top;\n",
       "    }\n",
       "\n",
       "    .dataframe thead th {\n",
       "        text-align: right;\n",
       "    }\n",
       "</style>\n",
       "<table border=\"1\" class=\"dataframe\">\n",
       "  <thead>\n",
       "    <tr style=\"text-align: left;\">\n",
       "      <th></th>\n",
       "      <th>feature</th>\n",
       "      <th>dtype</th>\n",
       "      <th>n_unique</th>\n",
       "      <th>unique_vals</th>\n",
       "      <th>n_unique_ratio</th>\n",
       "      <th>p_cat</th>\n",
       "      <th>n_null</th>\n",
       "      <th>n_null_ratio</th>\n",
       "      <th>null_index</th>\n",
       "    </tr>\n",
       "  </thead>\n",
       "  <tbody>\n",
       "    <tr>\n",
       "      <th>0</th>\n",
       "      <td>amount_tsh</td>\n",
       "      <td>float64</td>\n",
       "      <td>96</td>\n",
       "      <td>[nan, 1000.0, 250.0, 5000.0, 3000.0, 2400.0, 5...</td>\n",
       "      <td>0.001796</td>\n",
       "      <td>99.82</td>\n",
       "      <td>37461</td>\n",
       "      <td>0.700730</td>\n",
       "      <td>Int64Index([56146, 38945, 11841,  1186, 57631,...</td>\n",
       "    </tr>\n",
       "    <tr>\n",
       "      <th>1</th>\n",
       "      <td>gps_height</td>\n",
       "      <td>int64</td>\n",
       "      <td>2415</td>\n",
       "      <td>[1424, 1358, 0, 299, -14, 1490, 1421, 915, 891...</td>\n",
       "      <td>0.045174</td>\n",
       "      <td>95.48</td>\n",
       "      <td>0</td>\n",
       "      <td>0.000000</td>\n",
       "      <td>None</td>\n",
       "    </tr>\n",
       "    <tr>\n",
       "      <th>2</th>\n",
       "      <td>longitude</td>\n",
       "      <td>float64</td>\n",
       "      <td>51753</td>\n",
       "      <td>[37.61840909, 30.6557619, 33.81319755, 33.1151...</td>\n",
       "      <td>0.968070</td>\n",
       "      <td>3.19</td>\n",
       "      <td>0</td>\n",
       "      <td>0.000000</td>\n",
       "      <td>None</td>\n",
       "    </tr>\n",
       "    <tr>\n",
       "      <th>3</th>\n",
       "      <td>latitude</td>\n",
       "      <td>float64</td>\n",
       "      <td>51755</td>\n",
       "      <td>[-3.26320247, -3.53625, -9.47660713, -4.835553...</td>\n",
       "      <td>0.968107</td>\n",
       "      <td>3.19</td>\n",
       "      <td>0</td>\n",
       "      <td>0.000000</td>\n",
       "      <td>None</td>\n",
       "    </tr>\n",
       "    <tr>\n",
       "      <th>4</th>\n",
       "      <td>population</td>\n",
       "      <td>float64</td>\n",
       "      <td>1019</td>\n",
       "      <td>[1.0, 500.0, nan, 263.0, 400.0, 520.0, 350.0, ...</td>\n",
       "      <td>0.019061</td>\n",
       "      <td>98.09</td>\n",
       "      <td>19310</td>\n",
       "      <td>0.361205</td>\n",
       "      <td>Int64Index([11841,  1186, 36909, 71895,   569,...</td>\n",
       "    </tr>\n",
       "    <tr>\n",
       "      <th>5</th>\n",
       "      <td>construction_year</td>\n",
       "      <td>int64</td>\n",
       "      <td>55</td>\n",
       "      <td>[2012, 2009, 0, 1996, 2000, 2001, 1998, 2013, ...</td>\n",
       "      <td>0.001029</td>\n",
       "      <td>99.90</td>\n",
       "      <td>0</td>\n",
       "      <td>0.000000</td>\n",
       "      <td>None</td>\n",
       "    </tr>\n",
       "    <tr>\n",
       "      <th>6</th>\n",
       "      <td>extraction_type_target_encoded</td>\n",
       "      <td>float64</td>\n",
       "      <td>18</td>\n",
       "      <td>[0.699696453074972, 0.6234335839598998, 0.8060...</td>\n",
       "      <td>0.000337</td>\n",
       "      <td>99.97</td>\n",
       "      <td>0</td>\n",
       "      <td>0.000000</td>\n",
       "      <td>None</td>\n",
       "    </tr>\n",
       "    <tr>\n",
       "      <th>7</th>\n",
       "      <td>source_target_encoded</td>\n",
       "      <td>float64</td>\n",
       "      <td>10</td>\n",
       "      <td>[0.6771024364684307, 0.6663419386264003, 0.953...</td>\n",
       "      <td>0.000187</td>\n",
       "      <td>99.98</td>\n",
       "      <td>0</td>\n",
       "      <td>0.000000</td>\n",
       "      <td>None</td>\n",
       "    </tr>\n",
       "    <tr>\n",
       "      <th>8</th>\n",
       "      <td>quantity_target_encoded</td>\n",
       "      <td>float64</td>\n",
       "      <td>5</td>\n",
       "      <td>[0.8617910010259416, 1.9464991023339318, 0.625...</td>\n",
       "      <td>0.000094</td>\n",
       "      <td>99.99</td>\n",
       "      <td>0</td>\n",
       "      <td>0.000000</td>\n",
       "      <td>None</td>\n",
       "    </tr>\n",
       "    <tr>\n",
       "      <th>9</th>\n",
       "      <td>water_quality_target_encoded</td>\n",
       "      <td>float64</td>\n",
       "      <td>8</td>\n",
       "      <td>[0.7933839123685419, 1.709232613908873, 1.0379...</td>\n",
       "      <td>0.000150</td>\n",
       "      <td>99.99</td>\n",
       "      <td>0</td>\n",
       "      <td>0.000000</td>\n",
       "      <td>None</td>\n",
       "    </tr>\n",
       "    <tr>\n",
       "      <th>10</th>\n",
       "      <td>waterpoint_type_target_encoded</td>\n",
       "      <td>float64</td>\n",
       "      <td>7</td>\n",
       "      <td>[0.6776513818849927, 0.7080847823327834, 1.162...</td>\n",
       "      <td>0.000131</td>\n",
       "      <td>99.99</td>\n",
       "      <td>0</td>\n",
       "      <td>0.000000</td>\n",
       "      <td>None</td>\n",
       "    </tr>\n",
       "    <tr>\n",
       "      <th>11</th>\n",
       "      <td>region_code_target_encoded</td>\n",
       "      <td>float64</td>\n",
       "      <td>27</td>\n",
       "      <td>[0.7233282286881062, 0.815005954743946, 0.8911...</td>\n",
       "      <td>0.000505</td>\n",
       "      <td>99.95</td>\n",
       "      <td>0</td>\n",
       "      <td>0.000000</td>\n",
       "      <td>None</td>\n",
       "    </tr>\n",
       "    <tr>\n",
       "      <th>12</th>\n",
       "      <td>district_code_target_encoded</td>\n",
       "      <td>float64</td>\n",
       "      <td>20</td>\n",
       "      <td>[0.8183805446762, 0.9350188511865158, 0.700631...</td>\n",
       "      <td>0.000374</td>\n",
       "      <td>99.96</td>\n",
       "      <td>0</td>\n",
       "      <td>0.000000</td>\n",
       "      <td>None</td>\n",
       "    </tr>\n",
       "    <tr>\n",
       "      <th>13</th>\n",
       "      <td>management_target_encoded</td>\n",
       "      <td>float64</td>\n",
       "      <td>12</td>\n",
       "      <td>[1.1726973684210527, 0.9240048250904704, 0.435...</td>\n",
       "      <td>0.000224</td>\n",
       "      <td>99.98</td>\n",
       "      <td>0</td>\n",
       "      <td>0.000000</td>\n",
       "      <td>None</td>\n",
       "    </tr>\n",
       "  </tbody>\n",
       "</table>\n",
       "</div>"
      ],
      "text/plain": [
       "<IPython.core.display.HTML object>"
      ]
     },
     "metadata": {},
     "output_type": "display_data"
    }
   ],
   "source": [
    "scjpnutils.analyze_values(data_train_preprocessed, 'data_train AFTER preprocessing');"
   ]
  },
  {
   "cell_type": "code",
   "execution_count": 28,
   "metadata": {},
   "outputs": [],
   "source": [
    "data_train = data_train_preprocessed\n",
    "null_labeled = data_train.isnull().values.any()"
   ]
  },
  {
   "cell_type": "markdown",
   "metadata": {},
   "source": [
    "<p><br>\n",
    "\n",
    "## Apply Preprocessing Transformations (using the `Pipeline`) to Testing Data"
   ]
  },
  {
   "cell_type": "code",
   "execution_count": 29,
   "metadata": {},
   "outputs": [
    {
     "data": {
      "text/html": [
       "<h3>data_test BEFORE preprocessing Feature-Value Analysis (out of 5940 total observations)</h3>"
      ],
      "text/plain": [
       "<IPython.core.display.HTML object>"
      ]
     },
     "metadata": {},
     "output_type": "display_data"
    },
    {
     "data": {
      "text/html": [
       "<div>\n",
       "<style scoped>\n",
       "    .dataframe tbody tr th:only-of-type {\n",
       "        vertical-align: middle;\n",
       "    }\n",
       "\n",
       "    .dataframe tbody tr th {\n",
       "        vertical-align: top;\n",
       "    }\n",
       "\n",
       "    .dataframe thead th {\n",
       "        text-align: right;\n",
       "    }\n",
       "</style>\n",
       "<table border=\"1\" class=\"dataframe\">\n",
       "  <thead>\n",
       "    <tr style=\"text-align: left;\">\n",
       "      <th></th>\n",
       "      <th>feature</th>\n",
       "      <th>dtype</th>\n",
       "      <th>n_unique</th>\n",
       "      <th>unique_vals</th>\n",
       "      <th>n_unique_ratio</th>\n",
       "      <th>p_cat</th>\n",
       "      <th>n_null</th>\n",
       "      <th>n_null_ratio</th>\n",
       "      <th>null_index</th>\n",
       "    </tr>\n",
       "  </thead>\n",
       "  <tbody>\n",
       "    <tr>\n",
       "      <th>0</th>\n",
       "      <td>amount_tsh</td>\n",
       "      <td>float64</td>\n",
       "      <td>56</td>\n",
       "      <td>[0.0, 5000.0, 30.0, 8000.0, 50.0, 500.0, 1500....</td>\n",
       "      <td>0.009428</td>\n",
       "      <td>99.06</td>\n",
       "      <td>0</td>\n",
       "      <td>0.000000</td>\n",
       "      <td>None</td>\n",
       "    </tr>\n",
       "    <tr>\n",
       "      <th>1</th>\n",
       "      <td>date_recorded</td>\n",
       "      <td>object</td>\n",
       "      <td>310</td>\n",
       "      <td>[2013-03-13, 2011-03-15, 2013-02-19, 2013-01-1...</td>\n",
       "      <td>0.052189</td>\n",
       "      <td>94.78</td>\n",
       "      <td>0</td>\n",
       "      <td>0.000000</td>\n",
       "      <td>None</td>\n",
       "    </tr>\n",
       "    <tr>\n",
       "      <th>2</th>\n",
       "      <td>funder</td>\n",
       "      <td>object</td>\n",
       "      <td>622</td>\n",
       "      <td>[Danida, Kalitasi, Wateraid, Gaica, Lga, W.B, ...</td>\n",
       "      <td>0.104714</td>\n",
       "      <td>89.53</td>\n",
       "      <td>366</td>\n",
       "      <td>0.061616</td>\n",
       "      <td>Int64Index([11582, 19363, 56691,  5592, 33874,...</td>\n",
       "    </tr>\n",
       "    <tr>\n",
       "      <th>3</th>\n",
       "      <td>gps_height</td>\n",
       "      <td>int64</td>\n",
       "      <td>1717</td>\n",
       "      <td>[1435, 1271, 1384, 1538, 0, 919, 78, 1266, 324...</td>\n",
       "      <td>0.289057</td>\n",
       "      <td>71.09</td>\n",
       "      <td>0</td>\n",
       "      <td>0.000000</td>\n",
       "      <td>None</td>\n",
       "    </tr>\n",
       "    <tr>\n",
       "      <th>4</th>\n",
       "      <td>installer</td>\n",
       "      <td>object</td>\n",
       "      <td>681</td>\n",
       "      <td>[DANIDA, DANID, Kalitasi, SEMA, GAICA, DWE, Ca...</td>\n",
       "      <td>0.114646</td>\n",
       "      <td>88.54</td>\n",
       "      <td>368</td>\n",
       "      <td>0.061953</td>\n",
       "      <td>Int64Index([11582, 19363, 56691,  5592, 33874,...</td>\n",
       "    </tr>\n",
       "    <tr>\n",
       "      <th>5</th>\n",
       "      <td>longitude</td>\n",
       "      <td>float64</td>\n",
       "      <td>5782</td>\n",
       "      <td>[34.90829229, 35.81058308, 37.99252752, 34.758...</td>\n",
       "      <td>0.973401</td>\n",
       "      <td>2.66</td>\n",
       "      <td>0</td>\n",
       "      <td>0.000000</td>\n",
       "      <td>None</td>\n",
       "    </tr>\n",
       "    <tr>\n",
       "      <th>6</th>\n",
       "      <td>latitude</td>\n",
       "      <td>float64</td>\n",
       "      <td>5782</td>\n",
       "      <td>[-11.16992903, -7.50962812, -4.23701933, -4.30...</td>\n",
       "      <td>0.973401</td>\n",
       "      <td>2.66</td>\n",
       "      <td>0</td>\n",
       "      <td>0.000000</td>\n",
       "      <td>None</td>\n",
       "    </tr>\n",
       "    <tr>\n",
       "      <th>7</th>\n",
       "      <td>wpt_name</td>\n",
       "      <td>object</td>\n",
       "      <td>4588</td>\n",
       "      <td>[Kanisani, none, Kwa Mzee Tadei, Kulumbe, Shul...</td>\n",
       "      <td>0.772391</td>\n",
       "      <td>22.76</td>\n",
       "      <td>0</td>\n",
       "      <td>0.000000</td>\n",
       "      <td>None</td>\n",
       "    </tr>\n",
       "    <tr>\n",
       "      <th>8</th>\n",
       "      <td>num_private</td>\n",
       "      <td>int64</td>\n",
       "      <td>33</td>\n",
       "      <td>[0, 6, 120, 17, 7, 32, 180, 93, 5, 8, 1, 15, 3...</td>\n",
       "      <td>0.005556</td>\n",
       "      <td>99.44</td>\n",
       "      <td>0</td>\n",
       "      <td>0.000000</td>\n",
       "      <td>None</td>\n",
       "    </tr>\n",
       "    <tr>\n",
       "      <th>9</th>\n",
       "      <td>basin</td>\n",
       "      <td>object</td>\n",
       "      <td>9</td>\n",
       "      <td>[Lake Nyasa, Rufiji, Pangani, Internal, Lake R...</td>\n",
       "      <td>0.001515</td>\n",
       "      <td>99.85</td>\n",
       "      <td>0</td>\n",
       "      <td>0.000000</td>\n",
       "      <td>None</td>\n",
       "    </tr>\n",
       "    <tr>\n",
       "      <th>10</th>\n",
       "      <td>subvillage</td>\n",
       "      <td>object</td>\n",
       "      <td>4216</td>\n",
       "      <td>[Toronto, Ubena, Mvango, Kituluguta, Mwamapala...</td>\n",
       "      <td>0.709764</td>\n",
       "      <td>29.02</td>\n",
       "      <td>36</td>\n",
       "      <td>0.006061</td>\n",
       "      <td>Int64Index([18732, 24843, 22039, 71464, 47823,...</td>\n",
       "    </tr>\n",
       "    <tr>\n",
       "      <th>11</th>\n",
       "      <td>region</td>\n",
       "      <td>object</td>\n",
       "      <td>21</td>\n",
       "      <td>[Ruvuma, Iringa, Kilimanjaro, Singida, Shinyan...</td>\n",
       "      <td>0.003535</td>\n",
       "      <td>99.65</td>\n",
       "      <td>0</td>\n",
       "      <td>0.000000</td>\n",
       "      <td>None</td>\n",
       "    </tr>\n",
       "    <tr>\n",
       "      <th>12</th>\n",
       "      <td>region_code</td>\n",
       "      <td>int64</td>\n",
       "      <td>26</td>\n",
       "      <td>[10, 11, 3, 13, 17, 15, 60, 2, 80, 4, 14, 18, ...</td>\n",
       "      <td>0.004377</td>\n",
       "      <td>99.56</td>\n",
       "      <td>0</td>\n",
       "      <td>0.000000</td>\n",
       "      <td>None</td>\n",
       "    </tr>\n",
       "    <tr>\n",
       "      <th>13</th>\n",
       "      <td>district_code</td>\n",
       "      <td>int64</td>\n",
       "      <td>19</td>\n",
       "      <td>[3, 1, 7, 53, 4, 2, 30, 6, 8, 5, 63, 23, 33, 4...</td>\n",
       "      <td>0.003199</td>\n",
       "      <td>99.68</td>\n",
       "      <td>0</td>\n",
       "      <td>0.000000</td>\n",
       "      <td>None</td>\n",
       "    </tr>\n",
       "    <tr>\n",
       "      <th>14</th>\n",
       "      <td>lga</td>\n",
       "      <td>object</td>\n",
       "      <td>125</td>\n",
       "      <td>[Mbinga, Iringa Rural, Same, Iramba, Shinyanga...</td>\n",
       "      <td>0.021044</td>\n",
       "      <td>97.90</td>\n",
       "      <td>0</td>\n",
       "      <td>0.000000</td>\n",
       "      <td>None</td>\n",
       "    </tr>\n",
       "    <tr>\n",
       "      <th>15</th>\n",
       "      <td>ward</td>\n",
       "      <td>object</td>\n",
       "      <td>1632</td>\n",
       "      <td>[Mpapa, Nduli, Vuje, Nduguti, Chibe, Mamba, Bu...</td>\n",
       "      <td>0.274747</td>\n",
       "      <td>72.53</td>\n",
       "      <td>0</td>\n",
       "      <td>0.000000</td>\n",
       "      <td>None</td>\n",
       "    </tr>\n",
       "    <tr>\n",
       "      <th>16</th>\n",
       "      <td>population</td>\n",
       "      <td>int64</td>\n",
       "      <td>388</td>\n",
       "      <td>[60, 1, 15, 189, 0, 200, 454, 168, 260, 270, 7...</td>\n",
       "      <td>0.065320</td>\n",
       "      <td>93.47</td>\n",
       "      <td>0</td>\n",
       "      <td>0.000000</td>\n",
       "      <td>None</td>\n",
       "    </tr>\n",
       "    <tr>\n",
       "      <th>17</th>\n",
       "      <td>public_meeting</td>\n",
       "      <td>object</td>\n",
       "      <td>3</td>\n",
       "      <td>[nan, True, False]</td>\n",
       "      <td>0.000505</td>\n",
       "      <td>99.95</td>\n",
       "      <td>328</td>\n",
       "      <td>0.055219</td>\n",
       "      <td>Int64Index([ 3746, 16680, 70311, 74214, 43963,...</td>\n",
       "    </tr>\n",
       "    <tr>\n",
       "      <th>18</th>\n",
       "      <td>recorded_by</td>\n",
       "      <td>object</td>\n",
       "      <td>1</td>\n",
       "      <td>[GeoData Consultants Ltd]</td>\n",
       "      <td>0.000168</td>\n",
       "      <td>99.98</td>\n",
       "      <td>0</td>\n",
       "      <td>0.000000</td>\n",
       "      <td>None</td>\n",
       "    </tr>\n",
       "    <tr>\n",
       "      <th>19</th>\n",
       "      <td>scheme_management</td>\n",
       "      <td>object</td>\n",
       "      <td>12</td>\n",
       "      <td>[VWC, WUG, Parastatal, WUA, nan, Water authori...</td>\n",
       "      <td>0.002020</td>\n",
       "      <td>99.80</td>\n",
       "      <td>374</td>\n",
       "      <td>0.062963</td>\n",
       "      <td>Int64Index([ 8649, 25311, 70311, 37230, 19565,...</td>\n",
       "    </tr>\n",
       "    <tr>\n",
       "      <th>20</th>\n",
       "      <td>scheme_name</td>\n",
       "      <td>object</td>\n",
       "      <td>1171</td>\n",
       "      <td>[Government, Kihoro, Mvango Water Supply, Mwan...</td>\n",
       "      <td>0.197138</td>\n",
       "      <td>80.29</td>\n",
       "      <td>2803</td>\n",
       "      <td>0.471886</td>\n",
       "      <td>Int64Index([16680, 61612, 10609,  7097,  8649,...</td>\n",
       "    </tr>\n",
       "    <tr>\n",
       "      <th>21</th>\n",
       "      <td>permit</td>\n",
       "      <td>object</td>\n",
       "      <td>3</td>\n",
       "      <td>[True, False, nan]</td>\n",
       "      <td>0.000505</td>\n",
       "      <td>99.95</td>\n",
       "      <td>323</td>\n",
       "      <td>0.054377</td>\n",
       "      <td>Int64Index([26755, 67770,  7973, 36535, 52273,...</td>\n",
       "    </tr>\n",
       "    <tr>\n",
       "      <th>22</th>\n",
       "      <td>construction_year</td>\n",
       "      <td>int64</td>\n",
       "      <td>54</td>\n",
       "      <td>[1995, 1990, 2002, 2006, 0, 2009, 2005, 2011, ...</td>\n",
       "      <td>0.009091</td>\n",
       "      <td>99.09</td>\n",
       "      <td>0</td>\n",
       "      <td>0.000000</td>\n",
       "      <td>None</td>\n",
       "    </tr>\n",
       "    <tr>\n",
       "      <th>23</th>\n",
       "      <td>extraction_type</td>\n",
       "      <td>object</td>\n",
       "      <td>17</td>\n",
       "      <td>[gravity, mono, submersible, ksb, other, nira/...</td>\n",
       "      <td>0.002862</td>\n",
       "      <td>99.71</td>\n",
       "      <td>0</td>\n",
       "      <td>0.000000</td>\n",
       "      <td>None</td>\n",
       "    </tr>\n",
       "    <tr>\n",
       "      <th>24</th>\n",
       "      <td>extraction_type_group</td>\n",
       "      <td>object</td>\n",
       "      <td>13</td>\n",
       "      <td>[gravity, mono, submersible, other, nira/tanir...</td>\n",
       "      <td>0.002189</td>\n",
       "      <td>99.78</td>\n",
       "      <td>0</td>\n",
       "      <td>0.000000</td>\n",
       "      <td>None</td>\n",
       "    </tr>\n",
       "    <tr>\n",
       "      <th>25</th>\n",
       "      <td>extraction_type_class</td>\n",
       "      <td>object</td>\n",
       "      <td>7</td>\n",
       "      <td>[gravity, motorpump, submersible, other, handp...</td>\n",
       "      <td>0.001178</td>\n",
       "      <td>99.88</td>\n",
       "      <td>0</td>\n",
       "      <td>0.000000</td>\n",
       "      <td>None</td>\n",
       "    </tr>\n",
       "    <tr>\n",
       "      <th>26</th>\n",
       "      <td>management</td>\n",
       "      <td>object</td>\n",
       "      <td>12</td>\n",
       "      <td>[vwc, wug, parastatal, wua, other, unknown, co...</td>\n",
       "      <td>0.002020</td>\n",
       "      <td>99.80</td>\n",
       "      <td>0</td>\n",
       "      <td>0.000000</td>\n",
       "      <td>None</td>\n",
       "    </tr>\n",
       "    <tr>\n",
       "      <th>27</th>\n",
       "      <td>management_group</td>\n",
       "      <td>object</td>\n",
       "      <td>5</td>\n",
       "      <td>[user-group, parastatal, other, unknown, comme...</td>\n",
       "      <td>0.000842</td>\n",
       "      <td>99.92</td>\n",
       "      <td>0</td>\n",
       "      <td>0.000000</td>\n",
       "      <td>None</td>\n",
       "    </tr>\n",
       "    <tr>\n",
       "      <th>28</th>\n",
       "      <td>payment</td>\n",
       "      <td>object</td>\n",
       "      <td>7</td>\n",
       "      <td>[unknown, pay annually, never pay, pay per buc...</td>\n",
       "      <td>0.001178</td>\n",
       "      <td>99.88</td>\n",
       "      <td>0</td>\n",
       "      <td>0.000000</td>\n",
       "      <td>None</td>\n",
       "    </tr>\n",
       "    <tr>\n",
       "      <th>29</th>\n",
       "      <td>payment_type</td>\n",
       "      <td>object</td>\n",
       "      <td>7</td>\n",
       "      <td>[unknown, annually, never pay, per bucket, mon...</td>\n",
       "      <td>0.001178</td>\n",
       "      <td>99.88</td>\n",
       "      <td>0</td>\n",
       "      <td>0.000000</td>\n",
       "      <td>None</td>\n",
       "    </tr>\n",
       "    <tr>\n",
       "      <th>30</th>\n",
       "      <td>water_quality</td>\n",
       "      <td>object</td>\n",
       "      <td>8</td>\n",
       "      <td>[soft, unknown, salty, milky, coloured, salty ...</td>\n",
       "      <td>0.001347</td>\n",
       "      <td>99.87</td>\n",
       "      <td>0</td>\n",
       "      <td>0.000000</td>\n",
       "      <td>None</td>\n",
       "    </tr>\n",
       "    <tr>\n",
       "      <th>31</th>\n",
       "      <td>quality_group</td>\n",
       "      <td>object</td>\n",
       "      <td>6</td>\n",
       "      <td>[good, unknown, salty, milky, colored, fluoride]</td>\n",
       "      <td>0.001010</td>\n",
       "      <td>99.90</td>\n",
       "      <td>0</td>\n",
       "      <td>0.000000</td>\n",
       "      <td>None</td>\n",
       "    </tr>\n",
       "    <tr>\n",
       "      <th>32</th>\n",
       "      <td>quantity</td>\n",
       "      <td>object</td>\n",
       "      <td>5</td>\n",
       "      <td>[dry, enough, insufficient, seasonal, unknown]</td>\n",
       "      <td>0.000842</td>\n",
       "      <td>99.92</td>\n",
       "      <td>0</td>\n",
       "      <td>0.000000</td>\n",
       "      <td>None</td>\n",
       "    </tr>\n",
       "    <tr>\n",
       "      <th>33</th>\n",
       "      <td>quantity_group</td>\n",
       "      <td>object</td>\n",
       "      <td>5</td>\n",
       "      <td>[dry, enough, insufficient, seasonal, unknown]</td>\n",
       "      <td>0.000842</td>\n",
       "      <td>99.92</td>\n",
       "      <td>0</td>\n",
       "      <td>0.000000</td>\n",
       "      <td>None</td>\n",
       "    </tr>\n",
       "    <tr>\n",
       "      <th>34</th>\n",
       "      <td>source</td>\n",
       "      <td>object</td>\n",
       "      <td>10</td>\n",
       "      <td>[spring, machine dbh, rainwater harvesting, sh...</td>\n",
       "      <td>0.001684</td>\n",
       "      <td>99.83</td>\n",
       "      <td>0</td>\n",
       "      <td>0.000000</td>\n",
       "      <td>None</td>\n",
       "    </tr>\n",
       "    <tr>\n",
       "      <th>35</th>\n",
       "      <td>source_type</td>\n",
       "      <td>object</td>\n",
       "      <td>7</td>\n",
       "      <td>[spring, borehole, rainwater harvesting, shall...</td>\n",
       "      <td>0.001178</td>\n",
       "      <td>99.88</td>\n",
       "      <td>0</td>\n",
       "      <td>0.000000</td>\n",
       "      <td>None</td>\n",
       "    </tr>\n",
       "    <tr>\n",
       "      <th>36</th>\n",
       "      <td>source_class</td>\n",
       "      <td>object</td>\n",
       "      <td>3</td>\n",
       "      <td>[groundwater, surface, unknown]</td>\n",
       "      <td>0.000505</td>\n",
       "      <td>99.95</td>\n",
       "      <td>0</td>\n",
       "      <td>0.000000</td>\n",
       "      <td>None</td>\n",
       "    </tr>\n",
       "    <tr>\n",
       "      <th>37</th>\n",
       "      <td>waterpoint_type</td>\n",
       "      <td>object</td>\n",
       "      <td>6</td>\n",
       "      <td>[communal standpipe, communal standpipe multip...</td>\n",
       "      <td>0.001010</td>\n",
       "      <td>99.90</td>\n",
       "      <td>0</td>\n",
       "      <td>0.000000</td>\n",
       "      <td>None</td>\n",
       "    </tr>\n",
       "    <tr>\n",
       "      <th>38</th>\n",
       "      <td>waterpoint_type_group</td>\n",
       "      <td>object</td>\n",
       "      <td>5</td>\n",
       "      <td>[communal standpipe, other, hand pump, cattle ...</td>\n",
       "      <td>0.000842</td>\n",
       "      <td>99.92</td>\n",
       "      <td>0</td>\n",
       "      <td>0.000000</td>\n",
       "      <td>None</td>\n",
       "    </tr>\n",
       "  </tbody>\n",
       "</table>\n",
       "</div>"
      ],
      "text/plain": [
       "<IPython.core.display.HTML object>"
      ]
     },
     "metadata": {},
     "output_type": "display_data"
    }
   ],
   "source": [
    "scjpnutils.analyze_values(data_test, 'data_test BEFORE preprocessing');"
   ]
  },
  {
   "cell_type": "code",
   "execution_count": 30,
   "metadata": {
    "tags": []
   },
   "outputs": [
    {
     "name": "stdout",
     "output_type": "stream",
     "text": [
      "** TargetEncoderLOOTransformer TRANSFORM INFO **: NOT using Leave-One-Out\n",
      "** TargetEncoderLOOTransformer TRANSFORM INFO **: unique categories of 'extraction_type' in X match those that were previously fit\n",
      "added new feature: extraction_type_target_encoded\n",
      "** TargetEncoderLOOTransformer TRANSFORM INFO **: NOT using Leave-One-Out\n",
      "** TargetEncoderLOOTransformer TRANSFORM INFO **: unique categories of 'source' in X match those that were previously fit\n",
      "added new feature: source_target_encoded\n",
      "** TargetEncoderLOOTransformer TRANSFORM INFO **: NOT using Leave-One-Out\n",
      "** TargetEncoderLOOTransformer TRANSFORM INFO **: unique categories of 'quantity' in X match those that were previously fit\n",
      "added new feature: quantity_target_encoded\n",
      "** TargetEncoderLOOTransformer TRANSFORM INFO **: NOT using Leave-One-Out\n",
      "** TargetEncoderLOOTransformer TRANSFORM INFO **: unique categories of 'water_quality' in X match those that were previously fit\n",
      "added new feature: water_quality_target_encoded\n",
      "** TargetEncoderLOOTransformer TRANSFORM INFO **: NOT using Leave-One-Out\n",
      "** TargetEncoderLOOTransformer TRANSFORM INFO **: unique categories of 'waterpoint_type' in X match those that were previously fit\n",
      "added new feature: waterpoint_type_target_encoded\n",
      "** TargetEncoderLOOTransformer TRANSFORM INFO **: NOT using Leave-One-Out\n",
      "** TargetEncoderLOOTransformer TRANSFORM INFO **: unique categories of 'region_code' in X match those that were previously fit\n",
      "added new feature: region_code_target_encoded\n",
      "** TargetEncoderLOOTransformer TRANSFORM INFO **: NOT using Leave-One-Out\n",
      "** TargetEncoderLOOTransformer TRANSFORM INFO **: unique categories of 'district_code' in X match those that were previously fit\n",
      "added new feature: district_code_target_encoded\n",
      "** TargetEncoderLOOTransformer TRANSFORM INFO **: NOT using Leave-One-Out\n",
      "** TargetEncoderLOOTransformer TRANSFORM INFO **: unique categories of 'management' in X match those that were previously fit\n",
      "added new feature: management_target_encoded\n"
     ]
    }
   ],
   "source": [
    "data_test_preprocessed = pipeline_data_preprocessor.transform(data_test)"
   ]
  },
  {
   "cell_type": "code",
   "execution_count": 31,
   "metadata": {},
   "outputs": [
    {
     "data": {
      "text/html": [
       "<h3>data_test AFTER preprocessing Feature-Value Analysis (out of 5940 total observations)</h3>"
      ],
      "text/plain": [
       "<IPython.core.display.HTML object>"
      ]
     },
     "metadata": {},
     "output_type": "display_data"
    },
    {
     "data": {
      "text/html": [
       "<div>\n",
       "<style scoped>\n",
       "    .dataframe tbody tr th:only-of-type {\n",
       "        vertical-align: middle;\n",
       "    }\n",
       "\n",
       "    .dataframe tbody tr th {\n",
       "        vertical-align: top;\n",
       "    }\n",
       "\n",
       "    .dataframe thead th {\n",
       "        text-align: right;\n",
       "    }\n",
       "</style>\n",
       "<table border=\"1\" class=\"dataframe\">\n",
       "  <thead>\n",
       "    <tr style=\"text-align: left;\">\n",
       "      <th></th>\n",
       "      <th>feature</th>\n",
       "      <th>dtype</th>\n",
       "      <th>n_unique</th>\n",
       "      <th>unique_vals</th>\n",
       "      <th>n_unique_ratio</th>\n",
       "      <th>p_cat</th>\n",
       "      <th>n_null</th>\n",
       "      <th>n_null_ratio</th>\n",
       "      <th>null_index</th>\n",
       "    </tr>\n",
       "  </thead>\n",
       "  <tbody>\n",
       "    <tr>\n",
       "      <th>0</th>\n",
       "      <td>amount_tsh</td>\n",
       "      <td>float64</td>\n",
       "      <td>56</td>\n",
       "      <td>[nan, 5000.0, 30.0, 8000.0, 50.0, 500.0, 1500....</td>\n",
       "      <td>0.009428</td>\n",
       "      <td>99.06</td>\n",
       "      <td>4178</td>\n",
       "      <td>0.703367</td>\n",
       "      <td>Int64Index([ 3746, 28265, 16680, 29110, 73792,...</td>\n",
       "    </tr>\n",
       "    <tr>\n",
       "      <th>1</th>\n",
       "      <td>gps_height</td>\n",
       "      <td>int64</td>\n",
       "      <td>1717</td>\n",
       "      <td>[1435, 1271, 1384, 1538, 0, 919, 78, 1266, 324...</td>\n",
       "      <td>0.289057</td>\n",
       "      <td>71.09</td>\n",
       "      <td>0</td>\n",
       "      <td>0.000000</td>\n",
       "      <td>None</td>\n",
       "    </tr>\n",
       "    <tr>\n",
       "      <th>2</th>\n",
       "      <td>longitude</td>\n",
       "      <td>float64</td>\n",
       "      <td>5782</td>\n",
       "      <td>[34.90829229, 35.81058308, 37.99252752, 34.758...</td>\n",
       "      <td>0.973401</td>\n",
       "      <td>2.66</td>\n",
       "      <td>0</td>\n",
       "      <td>0.000000</td>\n",
       "      <td>None</td>\n",
       "    </tr>\n",
       "    <tr>\n",
       "      <th>3</th>\n",
       "      <td>latitude</td>\n",
       "      <td>float64</td>\n",
       "      <td>5782</td>\n",
       "      <td>[-11.16992903, -7.50962812, -4.23701933, -4.30...</td>\n",
       "      <td>0.973401</td>\n",
       "      <td>2.66</td>\n",
       "      <td>0</td>\n",
       "      <td>0.000000</td>\n",
       "      <td>None</td>\n",
       "    </tr>\n",
       "    <tr>\n",
       "      <th>4</th>\n",
       "      <td>population</td>\n",
       "      <td>float64</td>\n",
       "      <td>388</td>\n",
       "      <td>[60.0, 1.0, 15.0, 189.0, nan, 200.0, 454.0, 16...</td>\n",
       "      <td>0.065320</td>\n",
       "      <td>93.47</td>\n",
       "      <td>2071</td>\n",
       "      <td>0.348653</td>\n",
       "      <td>Int64Index([16680,  7097, 26799, 35654, 22940,...</td>\n",
       "    </tr>\n",
       "    <tr>\n",
       "      <th>5</th>\n",
       "      <td>construction_year</td>\n",
       "      <td>int64</td>\n",
       "      <td>54</td>\n",
       "      <td>[1995, 1990, 2002, 2006, 0, 2009, 2005, 2011, ...</td>\n",
       "      <td>0.009091</td>\n",
       "      <td>99.09</td>\n",
       "      <td>0</td>\n",
       "      <td>0.000000</td>\n",
       "      <td>None</td>\n",
       "    </tr>\n",
       "    <tr>\n",
       "      <th>6</th>\n",
       "      <td>extraction_type_target_encoded</td>\n",
       "      <td>float64</td>\n",
       "      <td>17</td>\n",
       "      <td>[0.699696453074972, 1.2068562524347488, 0.8540...</td>\n",
       "      <td>0.002862</td>\n",
       "      <td>99.71</td>\n",
       "      <td>0</td>\n",
       "      <td>0.000000</td>\n",
       "      <td>None</td>\n",
       "    </tr>\n",
       "    <tr>\n",
       "      <th>7</th>\n",
       "      <td>source_target_encoded</td>\n",
       "      <td>float64</td>\n",
       "      <td>10</td>\n",
       "      <td>[0.6771024364684307, 0.9813354626210201, 0.666...</td>\n",
       "      <td>0.001684</td>\n",
       "      <td>99.83</td>\n",
       "      <td>0</td>\n",
       "      <td>0.000000</td>\n",
       "      <td>None</td>\n",
       "    </tr>\n",
       "    <tr>\n",
       "      <th>8</th>\n",
       "      <td>quantity_target_encoded</td>\n",
       "      <td>float64</td>\n",
       "      <td>5</td>\n",
       "      <td>[1.9464991023339318, 0.6255982863071928, 0.861...</td>\n",
       "      <td>0.000842</td>\n",
       "      <td>99.92</td>\n",
       "      <td>0</td>\n",
       "      <td>0.000000</td>\n",
       "      <td>None</td>\n",
       "    </tr>\n",
       "    <tr>\n",
       "      <th>9</th>\n",
       "      <td>water_quality_target_encoded</td>\n",
       "      <td>float64</td>\n",
       "      <td>8</td>\n",
       "      <td>[0.7933839123685419, 1.709232613908873, 1.0379...</td>\n",
       "      <td>0.001347</td>\n",
       "      <td>99.87</td>\n",
       "      <td>0</td>\n",
       "      <td>0.000000</td>\n",
       "      <td>None</td>\n",
       "    </tr>\n",
       "    <tr>\n",
       "      <th>10</th>\n",
       "      <td>waterpoint_type_target_encoded</td>\n",
       "      <td>float64</td>\n",
       "      <td>6</td>\n",
       "      <td>[0.6776513818849927, 1.162504524068042, 1.6922...</td>\n",
       "      <td>0.001010</td>\n",
       "      <td>99.90</td>\n",
       "      <td>0</td>\n",
       "      <td>0.000000</td>\n",
       "      <td>None</td>\n",
       "    </tr>\n",
       "    <tr>\n",
       "      <th>11</th>\n",
       "      <td>region_code_target_encoded</td>\n",
       "      <td>float64</td>\n",
       "      <td>26</td>\n",
       "      <td>[0.8034439311213776, 0.4130343671416597, 0.723...</td>\n",
       "      <td>0.004377</td>\n",
       "      <td>99.56</td>\n",
       "      <td>0</td>\n",
       "      <td>0.000000</td>\n",
       "      <td>None</td>\n",
       "    </tr>\n",
       "    <tr>\n",
       "      <th>12</th>\n",
       "      <td>district_code_target_encoded</td>\n",
       "      <td>float64</td>\n",
       "      <td>19</td>\n",
       "      <td>[0.9350188511865158, 0.8183805446762, 0.739880...</td>\n",
       "      <td>0.003199</td>\n",
       "      <td>99.68</td>\n",
       "      <td>0</td>\n",
       "      <td>0.000000</td>\n",
       "      <td>None</td>\n",
       "    </tr>\n",
       "    <tr>\n",
       "      <th>13</th>\n",
       "      <td>management_target_encoded</td>\n",
       "      <td>float64</td>\n",
       "      <td>12</td>\n",
       "      <td>[0.9240048250904704, 0.7044872888585566, 0.728...</td>\n",
       "      <td>0.002020</td>\n",
       "      <td>99.80</td>\n",
       "      <td>0</td>\n",
       "      <td>0.000000</td>\n",
       "      <td>None</td>\n",
       "    </tr>\n",
       "  </tbody>\n",
       "</table>\n",
       "</div>"
      ],
      "text/plain": [
       "<IPython.core.display.HTML object>"
      ]
     },
     "metadata": {},
     "output_type": "display_data"
    }
   ],
   "source": [
    "scjpnutils.analyze_values(data_test_preprocessed, 'data_test AFTER preprocessing');"
   ]
  },
  {
   "cell_type": "code",
   "execution_count": 32,
   "metadata": {},
   "outputs": [],
   "source": [
    "data_test = data_test_preprocessed\n",
    "null_labeled = null_labeled and data_test.isnull().values.any()\n",
    "data_ALL_labeled = pd.concat([data_train, data_test], axis=0).sort_index()"
   ]
  },
  {
   "cell_type": "markdown",
   "metadata": {},
   "source": [
    "<p><br>\n",
    "\n",
    "## Apply Preprocessing Transformations (using the `Pipeline`) to Unlabeled Data"
   ]
  },
  {
   "cell_type": "code",
   "execution_count": 33,
   "metadata": {},
   "outputs": [
    {
     "data": {
      "text/html": [
       "<h3>data_unlabeled BEFORE preprocessing Feature-Value Analysis (out of 14850 total observations)</h3>"
      ],
      "text/plain": [
       "<IPython.core.display.HTML object>"
      ]
     },
     "metadata": {},
     "output_type": "display_data"
    },
    {
     "data": {
      "text/html": [
       "<div>\n",
       "<style scoped>\n",
       "    .dataframe tbody tr th:only-of-type {\n",
       "        vertical-align: middle;\n",
       "    }\n",
       "\n",
       "    .dataframe tbody tr th {\n",
       "        vertical-align: top;\n",
       "    }\n",
       "\n",
       "    .dataframe thead th {\n",
       "        text-align: right;\n",
       "    }\n",
       "</style>\n",
       "<table border=\"1\" class=\"dataframe\">\n",
       "  <thead>\n",
       "    <tr style=\"text-align: left;\">\n",
       "      <th></th>\n",
       "      <th>feature</th>\n",
       "      <th>dtype</th>\n",
       "      <th>n_unique</th>\n",
       "      <th>unique_vals</th>\n",
       "      <th>n_unique_ratio</th>\n",
       "      <th>p_cat</th>\n",
       "      <th>n_null</th>\n",
       "      <th>n_null_ratio</th>\n",
       "      <th>null_index</th>\n",
       "    </tr>\n",
       "  </thead>\n",
       "  <tbody>\n",
       "    <tr>\n",
       "      <th>0</th>\n",
       "      <td>amount_tsh</td>\n",
       "      <td>float64</td>\n",
       "      <td>68</td>\n",
       "      <td>[0.0, 50.0, 25.0, 500.0, 5000.0, 200.0, 2000.0...</td>\n",
       "      <td>0.004579</td>\n",
       "      <td>99.54</td>\n",
       "      <td>0</td>\n",
       "      <td>0.000000</td>\n",
       "      <td>None</td>\n",
       "    </tr>\n",
       "    <tr>\n",
       "      <th>1</th>\n",
       "      <td>date_recorded</td>\n",
       "      <td>object</td>\n",
       "      <td>331</td>\n",
       "      <td>[2011-03-13, 2013-02-08, 2013-03-27, 2011-04-1...</td>\n",
       "      <td>0.022290</td>\n",
       "      <td>97.77</td>\n",
       "      <td>0</td>\n",
       "      <td>0.000000</td>\n",
       "      <td>None</td>\n",
       "    </tr>\n",
       "    <tr>\n",
       "      <th>2</th>\n",
       "      <td>funder</td>\n",
       "      <td>object</td>\n",
       "      <td>981</td>\n",
       "      <td>[Roman Catholic, Tasaf, Government Of Tanzania...</td>\n",
       "      <td>0.066061</td>\n",
       "      <td>93.39</td>\n",
       "      <td>869</td>\n",
       "      <td>0.058519</td>\n",
       "      <td>Int64Index([   58,   172,   220,   405,   407,...</td>\n",
       "    </tr>\n",
       "    <tr>\n",
       "      <th>3</th>\n",
       "      <td>gps_height</td>\n",
       "      <td>int64</td>\n",
       "      <td>2157</td>\n",
       "      <td>[197, 803, 1804, 0, 2223, 1547, 1414, 1514, 75...</td>\n",
       "      <td>0.145253</td>\n",
       "      <td>85.47</td>\n",
       "      <td>0</td>\n",
       "      <td>0.000000</td>\n",
       "      <td>None</td>\n",
       "    </tr>\n",
       "    <tr>\n",
       "      <th>4</th>\n",
       "      <td>installer</td>\n",
       "      <td>object</td>\n",
       "      <td>1092</td>\n",
       "      <td>[DWE, TASAF, Commu, RC, nan, District council,...</td>\n",
       "      <td>0.073535</td>\n",
       "      <td>92.65</td>\n",
       "      <td>877</td>\n",
       "      <td>0.059057</td>\n",
       "      <td>Int64Index([   58,   172,   220,   405,   407,...</td>\n",
       "    </tr>\n",
       "    <tr>\n",
       "      <th>5</th>\n",
       "      <td>longitude</td>\n",
       "      <td>float64</td>\n",
       "      <td>14390</td>\n",
       "      <td>[38.79069365, 36.90554498, 36.57035689999999, ...</td>\n",
       "      <td>0.969024</td>\n",
       "      <td>3.10</td>\n",
       "      <td>0</td>\n",
       "      <td>0.000000</td>\n",
       "      <td>None</td>\n",
       "    </tr>\n",
       "    <tr>\n",
       "      <th>6</th>\n",
       "      <td>latitude</td>\n",
       "      <td>float64</td>\n",
       "      <td>14390</td>\n",
       "      <td>[-5.11320697, -10.7656018, -3.25160881, -6.067...</td>\n",
       "      <td>0.969024</td>\n",
       "      <td>3.10</td>\n",
       "      <td>0</td>\n",
       "      <td>0.000000</td>\n",
       "      <td>None</td>\n",
       "    </tr>\n",
       "    <tr>\n",
       "      <th>7</th>\n",
       "      <td>wpt_name</td>\n",
       "      <td>object</td>\n",
       "      <td>10840</td>\n",
       "      <td>[Nairobi, none, Sukumeni, Kwa Molen, Kwa Alber...</td>\n",
       "      <td>0.729966</td>\n",
       "      <td>27.00</td>\n",
       "      <td>0</td>\n",
       "      <td>0.000000</td>\n",
       "      <td>None</td>\n",
       "    </tr>\n",
       "    <tr>\n",
       "      <th>8</th>\n",
       "      <td>num_private</td>\n",
       "      <td>int64</td>\n",
       "      <td>36</td>\n",
       "      <td>[0, 3, 102, 141, 5, 6, 16, 180, 65, 93, 1, 50,...</td>\n",
       "      <td>0.002424</td>\n",
       "      <td>99.76</td>\n",
       "      <td>0</td>\n",
       "      <td>0.000000</td>\n",
       "      <td>None</td>\n",
       "    </tr>\n",
       "    <tr>\n",
       "      <th>9</th>\n",
       "      <td>basin</td>\n",
       "      <td>object</td>\n",
       "      <td>9</td>\n",
       "      <td>[Pangani, Ruvuma / Southern Coast, Wami / Ruvu...</td>\n",
       "      <td>0.000606</td>\n",
       "      <td>99.94</td>\n",
       "      <td>0</td>\n",
       "      <td>0.000000</td>\n",
       "      <td>None</td>\n",
       "    </tr>\n",
       "    <tr>\n",
       "      <th>10</th>\n",
       "      <td>subvillage</td>\n",
       "      <td>object</td>\n",
       "      <td>8444</td>\n",
       "      <td>[Kicheba, Mkasale, Sukumeni, Kawawa, Tukuyu, M...</td>\n",
       "      <td>0.568620</td>\n",
       "      <td>43.14</td>\n",
       "      <td>99</td>\n",
       "      <td>0.006667</td>\n",
       "      <td>Int64Index([  911,  1024,  1570,  2720,  2751,...</td>\n",
       "    </tr>\n",
       "    <tr>\n",
       "      <th>11</th>\n",
       "      <td>region</td>\n",
       "      <td>object</td>\n",
       "      <td>21</td>\n",
       "      <td>[Tanga, Ruvuma, Arusha, Dodoma, Mbeya, Iringa,...</td>\n",
       "      <td>0.001414</td>\n",
       "      <td>99.86</td>\n",
       "      <td>0</td>\n",
       "      <td>0.000000</td>\n",
       "      <td>None</td>\n",
       "    </tr>\n",
       "    <tr>\n",
       "      <th>12</th>\n",
       "      <td>region_code</td>\n",
       "      <td>int64</td>\n",
       "      <td>26</td>\n",
       "      <td>[4, 10, 2, 1, 12, 11, 15, 19, 13, 17, 14, 3, 1...</td>\n",
       "      <td>0.001751</td>\n",
       "      <td>99.82</td>\n",
       "      <td>0</td>\n",
       "      <td>0.000000</td>\n",
       "      <td>None</td>\n",
       "    </tr>\n",
       "    <tr>\n",
       "      <th>13</th>\n",
       "      <td>district_code</td>\n",
       "      <td>int64</td>\n",
       "      <td>20</td>\n",
       "      <td>[3, 1, 2, 5, 4, 8, 6, 7, 43, 30, 23, 63, 33, 6...</td>\n",
       "      <td>0.001347</td>\n",
       "      <td>99.87</td>\n",
       "      <td>0</td>\n",
       "      <td>0.000000</td>\n",
       "      <td>None</td>\n",
       "    </tr>\n",
       "    <tr>\n",
       "      <th>14</th>\n",
       "      <td>lga</td>\n",
       "      <td>object</td>\n",
       "      <td>125</td>\n",
       "      <td>[Muheza, Tunduru, Arusha Rural, Dodoma Urban, ...</td>\n",
       "      <td>0.008418</td>\n",
       "      <td>99.16</td>\n",
       "      <td>0</td>\n",
       "      <td>0.000000</td>\n",
       "      <td>None</td>\n",
       "    </tr>\n",
       "    <tr>\n",
       "      <th>15</th>\n",
       "      <td>ward</td>\n",
       "      <td>object</td>\n",
       "      <td>1959</td>\n",
       "      <td>[Kicheba, Namwinyu, Mwandeti, Nzuguni, Ipinda,...</td>\n",
       "      <td>0.131919</td>\n",
       "      <td>86.81</td>\n",
       "      <td>0</td>\n",
       "      <td>0.000000</td>\n",
       "      <td>None</td>\n",
       "    </tr>\n",
       "    <tr>\n",
       "      <th>16</th>\n",
       "      <td>population</td>\n",
       "      <td>int64</td>\n",
       "      <td>637</td>\n",
       "      <td>[250, 1, 200, 0, 50, 400, 320, 240, 150, 445, ...</td>\n",
       "      <td>0.042896</td>\n",
       "      <td>95.71</td>\n",
       "      <td>0</td>\n",
       "      <td>0.000000</td>\n",
       "      <td>None</td>\n",
       "    </tr>\n",
       "    <tr>\n",
       "      <th>17</th>\n",
       "      <td>public_meeting</td>\n",
       "      <td>object</td>\n",
       "      <td>3</td>\n",
       "      <td>[True, False, nan]</td>\n",
       "      <td>0.000202</td>\n",
       "      <td>99.98</td>\n",
       "      <td>821</td>\n",
       "      <td>0.055286</td>\n",
       "      <td>Int64Index([  270,   340,   396,   508,   528,...</td>\n",
       "    </tr>\n",
       "    <tr>\n",
       "      <th>18</th>\n",
       "      <td>recorded_by</td>\n",
       "      <td>object</td>\n",
       "      <td>1</td>\n",
       "      <td>[GeoData Consultants Ltd]</td>\n",
       "      <td>0.000067</td>\n",
       "      <td>99.99</td>\n",
       "      <td>0</td>\n",
       "      <td>0.000000</td>\n",
       "      <td>None</td>\n",
       "    </tr>\n",
       "    <tr>\n",
       "      <th>19</th>\n",
       "      <td>scheme_management</td>\n",
       "      <td>object</td>\n",
       "      <td>12</td>\n",
       "      <td>[VWC, Water authority, Water Board, WUG, Priva...</td>\n",
       "      <td>0.000808</td>\n",
       "      <td>99.92</td>\n",
       "      <td>969</td>\n",
       "      <td>0.065253</td>\n",
       "      <td>Int64Index([  243,   453,   503,   522,   608,...</td>\n",
       "    </tr>\n",
       "    <tr>\n",
       "      <th>20</th>\n",
       "      <td>scheme_name</td>\n",
       "      <td>object</td>\n",
       "      <td>1790</td>\n",
       "      <td>[Mabula mountains spr, nan, Olkokola mwandet p...</td>\n",
       "      <td>0.120539</td>\n",
       "      <td>87.95</td>\n",
       "      <td>7092</td>\n",
       "      <td>0.477576</td>\n",
       "      <td>Int64Index([   13,    47,    58,    61,   100,...</td>\n",
       "    </tr>\n",
       "    <tr>\n",
       "      <th>21</th>\n",
       "      <td>permit</td>\n",
       "      <td>object</td>\n",
       "      <td>3</td>\n",
       "      <td>[False, True, nan]</td>\n",
       "      <td>0.000202</td>\n",
       "      <td>99.98</td>\n",
       "      <td>737</td>\n",
       "      <td>0.049630</td>\n",
       "      <td>Int64Index([   58,   172,   220,   407,   473,...</td>\n",
       "    </tr>\n",
       "    <tr>\n",
       "      <th>22</th>\n",
       "      <td>construction_year</td>\n",
       "      <td>int64</td>\n",
       "      <td>55</td>\n",
       "      <td>[1999, 2009, 1980, 0, 1996, 1985, 2000, 1990, ...</td>\n",
       "      <td>0.003704</td>\n",
       "      <td>99.63</td>\n",
       "      <td>0</td>\n",
       "      <td>0.000000</td>\n",
       "      <td>None</td>\n",
       "    </tr>\n",
       "    <tr>\n",
       "      <th>23</th>\n",
       "      <td>extraction_type</td>\n",
       "      <td>object</td>\n",
       "      <td>17</td>\n",
       "      <td>[gravity, other - swn 81, mono, india mark ii,...</td>\n",
       "      <td>0.001145</td>\n",
       "      <td>99.89</td>\n",
       "      <td>0</td>\n",
       "      <td>0.000000</td>\n",
       "      <td>None</td>\n",
       "    </tr>\n",
       "    <tr>\n",
       "      <th>24</th>\n",
       "      <td>extraction_type_group</td>\n",
       "      <td>object</td>\n",
       "      <td>13</td>\n",
       "      <td>[gravity, other handpump, mono, india mark ii,...</td>\n",
       "      <td>0.000875</td>\n",
       "      <td>99.91</td>\n",
       "      <td>0</td>\n",
       "      <td>0.000000</td>\n",
       "      <td>None</td>\n",
       "    </tr>\n",
       "    <tr>\n",
       "      <th>25</th>\n",
       "      <td>extraction_type_class</td>\n",
       "      <td>object</td>\n",
       "      <td>7</td>\n",
       "      <td>[gravity, handpump, motorpump, other, submersi...</td>\n",
       "      <td>0.000471</td>\n",
       "      <td>99.95</td>\n",
       "      <td>0</td>\n",
       "      <td>0.000000</td>\n",
       "      <td>None</td>\n",
       "    </tr>\n",
       "    <tr>\n",
       "      <th>26</th>\n",
       "      <td>management</td>\n",
       "      <td>object</td>\n",
       "      <td>12</td>\n",
       "      <td>[vwc, water authority, water board, wug, priva...</td>\n",
       "      <td>0.000808</td>\n",
       "      <td>99.92</td>\n",
       "      <td>0</td>\n",
       "      <td>0.000000</td>\n",
       "      <td>None</td>\n",
       "    </tr>\n",
       "    <tr>\n",
       "      <th>27</th>\n",
       "      <td>management_group</td>\n",
       "      <td>object</td>\n",
       "      <td>5</td>\n",
       "      <td>[user-group, commercial, parastatal, other, un...</td>\n",
       "      <td>0.000337</td>\n",
       "      <td>99.97</td>\n",
       "      <td>0</td>\n",
       "      <td>0.000000</td>\n",
       "      <td>None</td>\n",
       "    </tr>\n",
       "    <tr>\n",
       "      <th>28</th>\n",
       "      <td>payment</td>\n",
       "      <td>object</td>\n",
       "      <td>7</td>\n",
       "      <td>[never pay, pay per bucket, pay when scheme fa...</td>\n",
       "      <td>0.000471</td>\n",
       "      <td>99.95</td>\n",
       "      <td>0</td>\n",
       "      <td>0.000000</td>\n",
       "      <td>None</td>\n",
       "    </tr>\n",
       "    <tr>\n",
       "      <th>29</th>\n",
       "      <td>payment_type</td>\n",
       "      <td>object</td>\n",
       "      <td>7</td>\n",
       "      <td>[never pay, per bucket, on failure, monthly, u...</td>\n",
       "      <td>0.000471</td>\n",
       "      <td>99.95</td>\n",
       "      <td>0</td>\n",
       "      <td>0.000000</td>\n",
       "      <td>None</td>\n",
       "    </tr>\n",
       "    <tr>\n",
       "      <th>30</th>\n",
       "      <td>water_quality</td>\n",
       "      <td>object</td>\n",
       "      <td>8</td>\n",
       "      <td>[soft, unknown, salty, coloured, salty abandon...</td>\n",
       "      <td>0.000539</td>\n",
       "      <td>99.95</td>\n",
       "      <td>0</td>\n",
       "      <td>0.000000</td>\n",
       "      <td>None</td>\n",
       "    </tr>\n",
       "    <tr>\n",
       "      <th>31</th>\n",
       "      <td>quality_group</td>\n",
       "      <td>object</td>\n",
       "      <td>6</td>\n",
       "      <td>[good, unknown, salty, colored, milky, fluoride]</td>\n",
       "      <td>0.000404</td>\n",
       "      <td>99.96</td>\n",
       "      <td>0</td>\n",
       "      <td>0.000000</td>\n",
       "      <td>None</td>\n",
       "    </tr>\n",
       "    <tr>\n",
       "      <th>32</th>\n",
       "      <td>quantity</td>\n",
       "      <td>object</td>\n",
       "      <td>5</td>\n",
       "      <td>[seasonal, enough, dry, insufficient, unknown]</td>\n",
       "      <td>0.000337</td>\n",
       "      <td>99.97</td>\n",
       "      <td>0</td>\n",
       "      <td>0.000000</td>\n",
       "      <td>None</td>\n",
       "    </tr>\n",
       "    <tr>\n",
       "      <th>33</th>\n",
       "      <td>quantity_group</td>\n",
       "      <td>object</td>\n",
       "      <td>5</td>\n",
       "      <td>[seasonal, enough, dry, insufficient, unknown]</td>\n",
       "      <td>0.000337</td>\n",
       "      <td>99.97</td>\n",
       "      <td>0</td>\n",
       "      <td>0.000000</td>\n",
       "      <td>None</td>\n",
       "    </tr>\n",
       "    <tr>\n",
       "      <th>34</th>\n",
       "      <td>source</td>\n",
       "      <td>object</td>\n",
       "      <td>10</td>\n",
       "      <td>[spring, machine dbh, shallow well, rainwater ...</td>\n",
       "      <td>0.000673</td>\n",
       "      <td>99.93</td>\n",
       "      <td>0</td>\n",
       "      <td>0.000000</td>\n",
       "      <td>None</td>\n",
       "    </tr>\n",
       "    <tr>\n",
       "      <th>35</th>\n",
       "      <td>source_type</td>\n",
       "      <td>object</td>\n",
       "      <td>7</td>\n",
       "      <td>[spring, borehole, shallow well, rainwater har...</td>\n",
       "      <td>0.000471</td>\n",
       "      <td>99.95</td>\n",
       "      <td>0</td>\n",
       "      <td>0.000000</td>\n",
       "      <td>None</td>\n",
       "    </tr>\n",
       "    <tr>\n",
       "      <th>36</th>\n",
       "      <td>source_class</td>\n",
       "      <td>object</td>\n",
       "      <td>3</td>\n",
       "      <td>[groundwater, surface, unknown]</td>\n",
       "      <td>0.000202</td>\n",
       "      <td>99.98</td>\n",
       "      <td>0</td>\n",
       "      <td>0.000000</td>\n",
       "      <td>None</td>\n",
       "    </tr>\n",
       "    <tr>\n",
       "      <th>37</th>\n",
       "      <td>waterpoint_type</td>\n",
       "      <td>object</td>\n",
       "      <td>7</td>\n",
       "      <td>[communal standpipe, hand pump, cattle trough,...</td>\n",
       "      <td>0.000471</td>\n",
       "      <td>99.95</td>\n",
       "      <td>0</td>\n",
       "      <td>0.000000</td>\n",
       "      <td>None</td>\n",
       "    </tr>\n",
       "    <tr>\n",
       "      <th>38</th>\n",
       "      <td>waterpoint_type_group</td>\n",
       "      <td>object</td>\n",
       "      <td>6</td>\n",
       "      <td>[communal standpipe, hand pump, cattle trough,...</td>\n",
       "      <td>0.000404</td>\n",
       "      <td>99.96</td>\n",
       "      <td>0</td>\n",
       "      <td>0.000000</td>\n",
       "      <td>None</td>\n",
       "    </tr>\n",
       "  </tbody>\n",
       "</table>\n",
       "</div>"
      ],
      "text/plain": [
       "<IPython.core.display.HTML object>"
      ]
     },
     "metadata": {},
     "output_type": "display_data"
    }
   ],
   "source": [
    "scjpnutils.analyze_values(data_unlabeled, 'data_unlabeled BEFORE preprocessing');"
   ]
  },
  {
   "cell_type": "code",
   "execution_count": 34,
   "metadata": {
    "tags": []
   },
   "outputs": [
    {
     "name": "stdout",
     "output_type": "stream",
     "text": [
      "** TargetEncoderLOOTransformer TRANSFORM INFO **: NOT using Leave-One-Out\n",
      "** TargetEncoderLOOTransformer TRANSFORM INFO **: unique categories of 'extraction_type' in X match those that were previously fit\n",
      "added new feature: extraction_type_target_encoded\n",
      "** TargetEncoderLOOTransformer TRANSFORM INFO **: NOT using Leave-One-Out\n",
      "** TargetEncoderLOOTransformer TRANSFORM INFO **: unique categories of 'source' in X match those that were previously fit\n",
      "added new feature: source_target_encoded\n",
      "** TargetEncoderLOOTransformer TRANSFORM INFO **: NOT using Leave-One-Out\n",
      "** TargetEncoderLOOTransformer TRANSFORM INFO **: unique categories of 'quantity' in X match those that were previously fit\n",
      "added new feature: quantity_target_encoded\n",
      "** TargetEncoderLOOTransformer TRANSFORM INFO **: NOT using Leave-One-Out\n",
      "** TargetEncoderLOOTransformer TRANSFORM INFO **: unique categories of 'water_quality' in X match those that were previously fit\n",
      "added new feature: water_quality_target_encoded\n",
      "** TargetEncoderLOOTransformer TRANSFORM INFO **: NOT using Leave-One-Out\n",
      "** TargetEncoderLOOTransformer TRANSFORM INFO **: unique categories of 'waterpoint_type' in X match those that were previously fit\n",
      "added new feature: waterpoint_type_target_encoded\n",
      "** TargetEncoderLOOTransformer TRANSFORM INFO **: NOT using Leave-One-Out\n",
      "** TargetEncoderLOOTransformer TRANSFORM INFO **: unique categories of 'region_code' in X match those that were previously fit\n",
      "added new feature: region_code_target_encoded\n",
      "** TargetEncoderLOOTransformer TRANSFORM INFO **: NOT using Leave-One-Out\n",
      "** TargetEncoderLOOTransformer TRANSFORM INFO **: unique categories of 'district_code' in X match those that were previously fit\n",
      "added new feature: district_code_target_encoded\n",
      "** TargetEncoderLOOTransformer TRANSFORM INFO **: NOT using Leave-One-Out\n",
      "** TargetEncoderLOOTransformer TRANSFORM INFO **: unique categories of 'management' in X match those that were previously fit\n",
      "added new feature: management_target_encoded\n"
     ]
    }
   ],
   "source": [
    "data_unlabeled_preprocessed = pipeline_data_preprocessor.transform(data_unlabeled)"
   ]
  },
  {
   "cell_type": "code",
   "execution_count": 35,
   "metadata": {},
   "outputs": [
    {
     "data": {
      "text/html": [
       "<h3>data_unlabeled AFTER preprocessing Feature-Value Analysis (out of 14850 total observations)</h3>"
      ],
      "text/plain": [
       "<IPython.core.display.HTML object>"
      ]
     },
     "metadata": {},
     "output_type": "display_data"
    },
    {
     "data": {
      "text/html": [
       "<div>\n",
       "<style scoped>\n",
       "    .dataframe tbody tr th:only-of-type {\n",
       "        vertical-align: middle;\n",
       "    }\n",
       "\n",
       "    .dataframe tbody tr th {\n",
       "        vertical-align: top;\n",
       "    }\n",
       "\n",
       "    .dataframe thead th {\n",
       "        text-align: right;\n",
       "    }\n",
       "</style>\n",
       "<table border=\"1\" class=\"dataframe\">\n",
       "  <thead>\n",
       "    <tr style=\"text-align: left;\">\n",
       "      <th></th>\n",
       "      <th>feature</th>\n",
       "      <th>dtype</th>\n",
       "      <th>n_unique</th>\n",
       "      <th>unique_vals</th>\n",
       "      <th>n_unique_ratio</th>\n",
       "      <th>p_cat</th>\n",
       "      <th>n_null</th>\n",
       "      <th>n_null_ratio</th>\n",
       "      <th>null_index</th>\n",
       "    </tr>\n",
       "  </thead>\n",
       "  <tbody>\n",
       "    <tr>\n",
       "      <th>0</th>\n",
       "      <td>amount_tsh</td>\n",
       "      <td>float64</td>\n",
       "      <td>68</td>\n",
       "      <td>[nan, 50.0, 25.0, 500.0, 5000.0, 200.0, 2000.0...</td>\n",
       "      <td>0.004579</td>\n",
       "      <td>99.54</td>\n",
       "      <td>10410</td>\n",
       "      <td>0.701010</td>\n",
       "      <td>Int64Index([   10,    13,    14,    29,    32,...</td>\n",
       "    </tr>\n",
       "    <tr>\n",
       "      <th>1</th>\n",
       "      <td>gps_height</td>\n",
       "      <td>int64</td>\n",
       "      <td>2157</td>\n",
       "      <td>[197, 803, 1804, 0, 2223, 1547, 1414, 1514, 75...</td>\n",
       "      <td>0.145253</td>\n",
       "      <td>85.47</td>\n",
       "      <td>0</td>\n",
       "      <td>0.000000</td>\n",
       "      <td>None</td>\n",
       "    </tr>\n",
       "    <tr>\n",
       "      <th>2</th>\n",
       "      <td>longitude</td>\n",
       "      <td>float64</td>\n",
       "      <td>14390</td>\n",
       "      <td>[38.79069365, 36.90554498, 36.57035689999999, ...</td>\n",
       "      <td>0.969024</td>\n",
       "      <td>3.10</td>\n",
       "      <td>0</td>\n",
       "      <td>0.000000</td>\n",
       "      <td>None</td>\n",
       "    </tr>\n",
       "    <tr>\n",
       "      <th>3</th>\n",
       "      <td>latitude</td>\n",
       "      <td>float64</td>\n",
       "      <td>14390</td>\n",
       "      <td>[-5.11320697, -10.7656018, -3.25160881, -6.067...</td>\n",
       "      <td>0.969024</td>\n",
       "      <td>3.10</td>\n",
       "      <td>0</td>\n",
       "      <td>0.000000</td>\n",
       "      <td>None</td>\n",
       "    </tr>\n",
       "    <tr>\n",
       "      <th>4</th>\n",
       "      <td>population</td>\n",
       "      <td>float64</td>\n",
       "      <td>637</td>\n",
       "      <td>[250.0, 1.0, 200.0, nan, 50.0, 400.0, 320.0, 2...</td>\n",
       "      <td>0.042896</td>\n",
       "      <td>95.71</td>\n",
       "      <td>5453</td>\n",
       "      <td>0.367205</td>\n",
       "      <td>Int64Index([   29,    32,    57,    59,    61,...</td>\n",
       "    </tr>\n",
       "    <tr>\n",
       "      <th>5</th>\n",
       "      <td>construction_year</td>\n",
       "      <td>int64</td>\n",
       "      <td>55</td>\n",
       "      <td>[1999, 2009, 1980, 0, 1996, 1985, 2000, 1990, ...</td>\n",
       "      <td>0.003704</td>\n",
       "      <td>99.63</td>\n",
       "      <td>0</td>\n",
       "      <td>0.000000</td>\n",
       "      <td>None</td>\n",
       "    </tr>\n",
       "    <tr>\n",
       "      <th>6</th>\n",
       "      <td>extraction_type_target_encoded</td>\n",
       "      <td>float64</td>\n",
       "      <td>17</td>\n",
       "      <td>[0.699696453074972, 0.9024390243902439, 1.2068...</td>\n",
       "      <td>0.001145</td>\n",
       "      <td>99.89</td>\n",
       "      <td>0</td>\n",
       "      <td>0.000000</td>\n",
       "      <td>None</td>\n",
       "    </tr>\n",
       "    <tr>\n",
       "      <th>7</th>\n",
       "      <td>source_target_encoded</td>\n",
       "      <td>float64</td>\n",
       "      <td>10</td>\n",
       "      <td>[0.6771024364684307, 0.9813354626210201, 0.953...</td>\n",
       "      <td>0.000673</td>\n",
       "      <td>99.93</td>\n",
       "      <td>0</td>\n",
       "      <td>0.000000</td>\n",
       "      <td>None</td>\n",
       "    </tr>\n",
       "    <tr>\n",
       "      <th>8</th>\n",
       "      <td>quantity_target_encoded</td>\n",
       "      <td>float64</td>\n",
       "      <td>5</td>\n",
       "      <td>[0.7478094194961665, 0.6255982863071928, 1.946...</td>\n",
       "      <td>0.000337</td>\n",
       "      <td>99.97</td>\n",
       "      <td>0</td>\n",
       "      <td>0.000000</td>\n",
       "      <td>None</td>\n",
       "    </tr>\n",
       "    <tr>\n",
       "      <th>9</th>\n",
       "      <td>water_quality_target_encoded</td>\n",
       "      <td>float64</td>\n",
       "      <td>8</td>\n",
       "      <td>[0.7933839123685419, 1.709232613908873, 1.0379...</td>\n",
       "      <td>0.000539</td>\n",
       "      <td>99.95</td>\n",
       "      <td>0</td>\n",
       "      <td>0.000000</td>\n",
       "      <td>None</td>\n",
       "    </tr>\n",
       "    <tr>\n",
       "      <th>10</th>\n",
       "      <td>waterpoint_type_target_encoded</td>\n",
       "      <td>float64</td>\n",
       "      <td>7</td>\n",
       "      <td>[0.6776513818849927, 0.7080847823327834, 0.556...</td>\n",
       "      <td>0.000471</td>\n",
       "      <td>99.95</td>\n",
       "      <td>0</td>\n",
       "      <td>0.000000</td>\n",
       "      <td>None</td>\n",
       "    </tr>\n",
       "    <tr>\n",
       "      <th>11</th>\n",
       "      <td>region_code_target_encoded</td>\n",
       "      <td>float64</td>\n",
       "      <td>26</td>\n",
       "      <td>[0.8542492294143549, 0.8034439311213776, 0.627...</td>\n",
       "      <td>0.001751</td>\n",
       "      <td>99.82</td>\n",
       "      <td>0</td>\n",
       "      <td>0.000000</td>\n",
       "      <td>None</td>\n",
       "    </tr>\n",
       "    <tr>\n",
       "      <th>12</th>\n",
       "      <td>district_code_target_encoded</td>\n",
       "      <td>float64</td>\n",
       "      <td>20</td>\n",
       "      <td>[0.9350188511865158, 0.8183805446762, 0.817675...</td>\n",
       "      <td>0.001347</td>\n",
       "      <td>99.87</td>\n",
       "      <td>0</td>\n",
       "      <td>0.000000</td>\n",
       "      <td>None</td>\n",
       "    </tr>\n",
       "    <tr>\n",
       "      <th>13</th>\n",
       "      <td>management_target_encoded</td>\n",
       "      <td>float64</td>\n",
       "      <td>12</td>\n",
       "      <td>[0.9240048250904704, 0.9507211538461539, 0.435...</td>\n",
       "      <td>0.000808</td>\n",
       "      <td>99.92</td>\n",
       "      <td>0</td>\n",
       "      <td>0.000000</td>\n",
       "      <td>None</td>\n",
       "    </tr>\n",
       "  </tbody>\n",
       "</table>\n",
       "</div>"
      ],
      "text/plain": [
       "<IPython.core.display.HTML object>"
      ]
     },
     "metadata": {},
     "output_type": "display_data"
    }
   ],
   "source": [
    "scjpnutils.analyze_values(data_unlabeled_preprocessed, 'data_unlabeled AFTER preprocessing');"
   ]
  },
  {
   "cell_type": "code",
   "execution_count": 36,
   "metadata": {},
   "outputs": [],
   "source": [
    "data_unlabeled = data_unlabeled_preprocessed\n",
    "null_unlabeled = data_unlabeled.isnull().values.any()"
   ]
  },
  {
   "cell_type": "markdown",
   "metadata": {},
   "source": [
    "<p><br>\n",
    "<h2>Build Models (Run Trials)</h2>\n",
    "\n",
    "<h3>General functions for building Classifiers and running trials</h3>"
   ]
  },
  {
   "cell_type": "code",
   "execution_count": 37,
   "metadata": {},
   "outputs": [],
   "source": [
    "# utility function to render HTML and optionally log (append) it to file\n",
    "def render_HTML(the_html, fname=None):\n",
    "    display(HTML(the_html))\n",
    "    if fname is not None:\n",
    "        fm.append_text_file(BeautifulSoup(the_html).text + '\\n', fname)"
   ]
  },
  {
   "cell_type": "code",
   "execution_count": 38,
   "metadata": {},
   "outputs": [],
   "source": [
    "def get_trials_log_fname(clf):\n",
    "    return f\"{MODEL_RESULTS_DIR}{clf.__class__.__name__}-{digest}-trials.log\" if LOG_MODEL_TRIALS else None"
   ]
  },
  {
   "cell_type": "code",
   "execution_count": 39,
   "metadata": {},
   "outputs": [],
   "source": [
    "def gs_find_best_params(clf, param_grid):\n",
    "    render_HTML(f\"<br><br>param_grid for {clf.__class__.__name__} GridSearch:<br><pre>{params}</pre>\", fname=get_trials_log_fname(clf))\n",
    "    grid_clf = GridSearchCV(\n",
    "        clf, \n",
    "        param_grid, \n",
    "        cv=K, \n",
    "        n_jobs=-1\n",
    "        , verbose=20\n",
    "    )\n",
    "    # with joblib.parallel_backend('dask'):\n",
    "    #     %time _ = grid_clf.fit(data_train, y_train)\n",
    "    %time _ = grid_clf.fit(data_train, y_train)\n",
    "    return grid_clf.best_params_"
   ]
  },
  {
   "cell_type": "code",
   "execution_count": 40,
   "metadata": {},
   "outputs": [],
   "source": [
    "def clf_fit(clf, data_train, y_train):\n",
    "    # with joblib.parallel_backend('dask'):\n",
    "    #     %time clf.fit(data_train, y_train)\n",
    "    %time clf.fit(data_train, y_train)\n",
    "    return clf"
   ]
  },
  {
   "cell_type": "code",
   "execution_count": 41,
   "metadata": {},
   "outputs": [],
   "source": [
    "def summarize_preds(clf, X, y, preds, dataset_name, classes):\n",
    "    render_HTML(\"<p><br>\", fname=get_trials_log_fname(clf))\n",
    "    _accuracy = accuracy_score(y, preds)\n",
    "    render_HTML(f\"{dataset_name} Accuracy: {round(_accuracy*100,4)}\", fname=get_trials_log_fname(clf))\n",
    "    render_HTML(\"<p><br>\", fname=get_trials_log_fname(clf))\n",
    "    render_HTML(f\"<pre>{classification_report(y, preds, target_names=classes)}</pre>\", fname=get_trials_log_fname(clf))\n",
    "    return _accuracy"
   ]
  },
  {
   "cell_type": "code",
   "execution_count": 42,
   "metadata": {},
   "outputs": [],
   "source": [
    "def get_feat_importances(clf):\n",
    "    feat_importances = {}\n",
    "    for i, feat in enumerate(list(data_train.columns)):\n",
    "        feat_importances[feat] = clf.feature_importances_[i]\n",
    "    return sorted(list(feat_importances.items()), key=lambda item: item[1], reverse=True)"
   ]
  },
  {
   "cell_type": "code",
   "execution_count": 43,
   "metadata": {},
   "outputs": [],
   "source": [
    "def clf_run_trial(clf, params_to_try, best_parameters_so_far, run_trials_gridsearch=False):\n",
    "    if run_trials_gridsearch:\n",
    "        for param_name, param_value in best_parameters_so_far.items():\n",
    "            params_to_try.update({param_name: [param_value]})\n",
    "        best_parameters = gs_find_best_params(clf, params_to_try)\n",
    "    else:\n",
    "        best_parameters = params_to_try\n",
    "    best_parameters_so_far.update(best_parameters)\n",
    "\n",
    "    render_HTML(\"<p><br>\", fname=get_trials_log_fname(clf))\n",
    "    render_HTML(f\"Grid Search {'(previously) ' if not run_trials_gridsearch else ''}found the following optimal parameters: \", fname=get_trials_log_fname(clf))\n",
    "    render_HTML(f\"<pre>{pprint.pformat(best_parameters_so_far, indent=4)}</pre>\", fname=get_trials_log_fname(clf))\n",
    "\n",
    "    _y_train = y_train_encoded.status_group.ravel()\n",
    "    _y_test = y_test_encoded.status_group.ravel()\n",
    "    \n",
    "    render_HTML(\"<p><br>\", fname=get_trials_log_fname(clf))\n",
    "    render_HTML(\"Fitting classifier...\", fname=get_trials_log_fname(clf))\n",
    "    clf = clf.set_params(**best_parameters_so_far)\n",
    "    clf = clf_fit(clf, data_train, _y_train)\n",
    "    s_all_done = \"\\tALL DONE!\"\n",
    "    render_HTML(f\"<pre>{s_all_done}</pre>\", fname=get_trials_log_fname(clf))\n",
    "\n",
    "    _class_name = clf.__class__.__name__\n",
    "    model_results['modeling_results'][_class_name] = {}\n",
    "\n",
    "    render_HTML(\"<p><br>\", fname=get_trials_log_fname(clf))\n",
    "    render_HTML(\"Predicting labels on training data...\", fname=get_trials_log_fname(clf))\n",
    "    pred_train = clf.predict(data_train)\n",
    "    render_HTML(f\"<pre>{s_all_done}</pre>\", fname=get_trials_log_fname(clf))\n",
    "    _accuracy_train = summarize_preds(clf, data_train, _y_train, pred_train, 'Training', classes)\n",
    "    model_results['modeling_results'][_class_name]['accuracy'] = {}\n",
    "    model_results['modeling_results'][_class_name]['accuracy']['train'] = _accuracy_train\n",
    "\n",
    "    if not run_trials_gridsearch:\n",
    "        render_HTML(\"<p><br>\")\n",
    "        render_HTML(\"Computing cross-val score on training data...\")\n",
    "        model_results['modeling_results'][_class_name]['cv_score'] = {}\n",
    "        cv_score_train = cross_val_score(clf, data_train, _y_train, cv=cross_val_score_K)\n",
    "        mean_cv_score_train = np.mean(cv_score_train)\n",
    "        model_results['modeling_results'][_class_name]['cv_score']['train'] = mean_cv_score_train\n",
    "        render_HTML(f\"<pre>{s_all_done} scores: {cv_score_train}</pre>\")\n",
    "        render_HTML(f\"cross_val_score: {mean_cv_score_train}\")\n",
    "\n",
    "    render_HTML(\"<p><br>\", fname=get_trials_log_fname(clf))\n",
    "    render_HTML(f\"Predicting labels on testing data...\", fname=get_trials_log_fname(clf))\n",
    "    pred_test = clf.predict(data_test)\n",
    "    render_HTML(f\"<pre>{s_all_done}</pre>\", fname=get_trials_log_fname(clf))\n",
    "    _accuracy_test = summarize_preds(clf, data_test, _y_test, pred_test, 'Testing', classes)\n",
    "    model_results['modeling_results'][_class_name]['accuracy']['test'] = _accuracy_test\n",
    "    model_results['modeling_results'][_class_name]['feature_importances'] = get_feat_importances(clf)\n",
    "    \n",
    "    if not run_trials_gridsearch:\n",
    "        render_HTML(\"<p><br>\")\n",
    "        render_HTML(f\"Computing cross-val score on testing data...\")\n",
    "        cv_score_test = cross_val_score(clf, data_test, _y_test, cv=cross_val_score_K)\n",
    "        mean_cv_score_test = np.mean(cv_score_test)\n",
    "        model_results['modeling_results'][_class_name]['cv_score']['test'] = mean_cv_score_test\n",
    "        render_HTML(f\"<pre>{s_all_done} scores: {cv_score_test}</pre>\")\n",
    "        render_HTML(f\"cross_val_score: {mean_cv_score_test}\")\n",
    "\n",
    "    render_HTML(\"<p><br>\", fname=get_trials_log_fname(clf))\n",
    "    render_HTML(\"Feature Importances:\", fname=get_trials_log_fname(clf))\n",
    "    render_HTML(f\"<pre>{pprint.pformat(model_results['modeling_results'][_class_name]['feature_importances'], indent=4)}</pre><p><br><br>\", fname=get_trials_log_fname(clf))\n",
    "\n",
    "    return clf, best_parameters_so_far, model_results"
   ]
  },
  {
   "cell_type": "code",
   "execution_count": 44,
   "metadata": {},
   "outputs": [],
   "source": [
    "def clf_build_final_model(clf, params):\n",
    "    render_HTML(\"Fitting classifier {} to ALL LABALED data...\")\n",
    "    clf = clf.set_params(**best_parameters_so_far)\n",
    "    clf = clf_fit(clf, data_ALL_labeled_with_target.drop('status_group', axis=1), data_ALL_labeled_with_target[['status_group']])\n",
    "    s_all_done = \"\\tALL DONE!\"\n",
    "    render_HTML(f\"<pre>{s_all_done}</pre>\")\n",
    "\n",
    "    render_HTML(\"<p><br>\", fname=get_trials_log_fname(clf))\n",
    "    render_HTML(\"Predicting labels of UNLABELED data...\", fname=get_trials_log_fname(clf))\n",
    "    pred_unlabeled = clf.predict(data_unlabeled)\n",
    "    render_HTML(f\"<pre>{s_all_done}</pre>\", fname=get_trials_log_fname(clf))\n",
    "\n",
    "    return "
   ]
  },
  {
   "cell_type": "markdown",
   "metadata": {},
   "source": [
    "<p><br>\n",
    "<h2>Initialize Dask-Client (to Dask backend for parallelization) <i>(DISABLED for now)</i></h2>"
   ]
  },
  {
   "cell_type": "code",
   "execution_count": 45,
   "metadata": {},
   "outputs": [],
   "source": [
    "if models_config['dask']['use']:\n",
    "    if models_config['dask']['is_remote']:\n",
    "        # for Kubernetes dask scheduler/worker cluster in GCP - but this costs money to run the cluster AND requires a lot more work for data parallelization!\n",
    "        dask_client = Client(f\"tcp://{models_config['dask']['remote']['scheduler_address']}:8786\")\n",
    "    else:\n",
    "        # local\n",
    "        dask_client = Client( #spawns a local cluster\n",
    "            n_workers=models_config['dask']['local']['n_workers'], \n",
    "            threads_per_worker=models_config['dask']['local']['n_jobs'], \n",
    "            memory_limit=models_config['dask']['local']['memory_limit'] # memory_limit is per worker\n",
    "        )\n",
    "\n",
    "    dask_client"
   ]
  },
  {
   "cell_type": "markdown",
   "metadata": {},
   "source": [
    "<p><br>\n",
    "<h3>Decision Tree Classifier</h3>\n",
    "<h4>Trials</h4>"
   ]
  },
  {
   "cell_type": "code",
   "execution_count": 46,
   "metadata": {
    "tags": []
   },
   "outputs": [
    {
     "data": {
      "text/html": [
       "models_config['DecisionTreeClassifier']['run']: True; data_ALL_labeled_with_target.isnull().values.any(): True; data_unlabeled.isnull().values.any(): True"
      ],
      "text/plain": [
       "<IPython.core.display.HTML object>"
      ]
     },
     "metadata": {},
     "output_type": "display_data"
    }
   ],
   "source": [
    "run_dtclf = models_config['DecisionTreeClassifier']['run'] and not null_labeled and not null_unlabeled\n",
    "render_HTML(f\"models_config['DecisionTreeClassifier']['run']: {models_config['DecisionTreeClassifier']['run']}; data_ALL_labeled_with_target.isnull().values.any(): {null_labeled}; data_unlabeled.isnull().values.any(): {null_unlabeled}\")\n",
    "\n",
    "if run_dtclf:\n",
    "    trials = models_config['DecisionTreeClassifier']['trials']\n",
    "\n",
    "    display(HTML(f\"models_config['DecisionTreeClassifier']['trials']['run']: {trials['run']}\"))\n",
    "    if trials['run']:\n",
    "        trials_list = trials['array']\n",
    "\n",
    "        best_parameters = {}\n",
    "        for i, trial in enumerate(trials_list):\n",
    "            display(HTML(f\"<p><br>trial[{i}]['gridsearch']['run']: {trial['gridsearch']['run']}<br>\"))\n",
    "            params = trial['gridsearch']['last_best'] if not trial['gridsearch']['run'] else trial['gridsearch']['param_grid']\n",
    "            rfclf, best_parameters, model_results = clf_run_trial(DecisionTreeClassifier(), params, best_parameters, run_trials_gridsearch=trial['gridsearch']['run']) # note that best_parameters will be set to those used in the last trial\n",
    "\n",
    "    else:\n",
    "        best_parameters = models_config['DecisionTreeClassifier']['params']"
   ]
  },
  {
   "cell_type": "markdown",
   "metadata": {},
   "source": [
    "<p><br>\n",
    "<h4>Build Validation Final Model with best params</h4>"
   ]
  },
  {
   "cell_type": "code",
   "execution_count": 47,
   "metadata": {
    "tags": []
   },
   "outputs": [],
   "source": [
    "if run_dtclf:\n",
    "    best_parameters.update({'random_state': SEED})\n",
    "    dtclf, _, model_results = clf_run_trial(DecisionTreeClassifier(), best_parameters, best_parameters)\n",
    "    \n",
    "    pred_unlabeled = dtclf.predict(data_unlabeled)\n",
    "    pred_unlabeled"
   ]
  },
  {
   "cell_type": "markdown",
   "metadata": {},
   "source": [
    "<p><br><br>\n",
    "<h4>Build Final Model with ALL Labeled Data (Test + Validation)</h4>"
   ]
  },
  {
   "cell_type": "code",
   "execution_count": 48,
   "metadata": {},
   "outputs": [],
   "source": [
    "if run_dtclf:\n",
    "    dtclf = DecisionTreeClassifier()\n",
    "    del best_parameters['random_state']\n",
    "    dtclf.set_params(**best_parameters)\n",
    "    dtclf.fit(data_ALL_labeled, labels_encoded.status_group)"
   ]
  },
  {
   "cell_type": "markdown",
   "metadata": {},
   "source": [
    "<p><br><br>\n",
    "<h4>Make Predictions with Final Model on Unlabeled Predictors</h4>"
   ]
  },
  {
   "cell_type": "code",
   "execution_count": 49,
   "metadata": {
    "tags": []
   },
   "outputs": [],
   "source": [
    "if run_dtclf:\n",
    "    pred_unlabeled = dtclf.predict(data_unlabeled)\n",
    "    print(pred_unlabeled)"
   ]
  },
  {
   "cell_type": "markdown",
   "metadata": {},
   "source": [
    "<p><br>\n",
    "<h3>Random Forest Classifier</h3>\n",
    "<h4>Trials</h4>"
   ]
  },
  {
   "cell_type": "code",
   "execution_count": 50,
   "metadata": {},
   "outputs": [
    {
     "data": {
      "text/html": [
       "models_config['RandomForestClassifier']['run']: True; data_ALL_labeled_with_target.isnull().values.any(): True; data_unlabeled.isnull().values.any(): True"
      ],
      "text/plain": [
       "<IPython.core.display.HTML object>"
      ]
     },
     "metadata": {},
     "output_type": "display_data"
    }
   ],
   "source": [
    "run_rfclf = models_config['RandomForestClassifier']['run'] and not null_labeled and not null_unlabeled\n",
    "render_HTML(f\"models_config['RandomForestClassifier']['run']: {models_config['RandomForestClassifier']['run']}; data_ALL_labeled_with_target.isnull().values.any(): {null_labeled}; data_unlabeled.isnull().values.any(): {null_unlabeled}\")\n",
    "\n",
    "if run_rfclf:\n",
    "    trials = models_config['RandomForestClassifier']['trials']\n",
    "\n",
    "    render_HTML(f\"models_config['RandomForestClassifier']['trials']['run']: {trials['run']}\")\n",
    "    if trials['run']:\n",
    "        trials_list = trials['array']\n",
    "\n",
    "        best_parameters = {}\n",
    "        for i, trial in enumerate(trials_list):\n",
    "            render_HTML(f\"<p><br>trial[{i}]['gridsearch']['run']: {trial['gridsearch']['run']}<br>\")\n",
    "            params = trial['gridsearch']['last_best'] if not trial['gridsearch']['run'] else trial['gridsearch']['param_grid']\n",
    "            if trial['gridsearch']['run']:\n",
    "                params.update({'n_jobs': [-1]})\n",
    "            else:\n",
    "                params.update({'n_jobs':-1})\n",
    "            rfclf, best_parameters, model_results = clf_run_trial(RandomForestClassifier(), params, best_parameters, run_trials_gridsearch=trial['gridsearch']['run']) # note that best_parameters will be set to those used in the last trial\n",
    "\n",
    "    else:\n",
    "        best_parameters = models_config['RandomForestClassifier']['params']"
   ]
  },
  {
   "cell_type": "markdown",
   "metadata": {},
   "source": [
    "<p><br>\n",
    "<h4>Build Validation Final Model with best params</h4>"
   ]
  },
  {
   "cell_type": "code",
   "execution_count": 51,
   "metadata": {
    "tags": []
   },
   "outputs": [],
   "source": [
    "if run_rfclf:\n",
    "    best_parameters.update({'n_jobs':-1, 'verbose':1, 'random_state': SEED})\n",
    "    rfclf, _ , model_results = clf_run_trial(RandomForestClassifier(), best_parameters, best_parameters)\n",
    "    \n",
    "    pred_unlabeled = rfclf.predict(data_unlabeled)\n",
    "    pred_unlabeled"
   ]
  },
  {
   "cell_type": "markdown",
   "metadata": {},
   "source": [
    "<p><br><br>\n",
    "<h4>Build Final Model with ALL Labeled Data (Test + Validation)</h4>"
   ]
  },
  {
   "cell_type": "code",
   "execution_count": 52,
   "metadata": {
    "tags": []
   },
   "outputs": [],
   "source": [
    "if run_rfclf:\n",
    "    rfclf = RandomForestClassifier()\n",
    "    del best_parameters['random_state']\n",
    "    rfclf.set_params(**best_parameters)\n",
    "    rfclf.fit(data_ALL_labeled, labels_encoded.status_group)"
   ]
  },
  {
   "cell_type": "markdown",
   "metadata": {},
   "source": [
    "<p><br><br>\n",
    "<h4>Make Predictions with Final Model on Unlabeled Predictors</h4>"
   ]
  },
  {
   "cell_type": "code",
   "execution_count": 53,
   "metadata": {
    "tags": []
   },
   "outputs": [],
   "source": [
    "if run_rfclf:\n",
    "    pred_unlabeled = rfclf.predict(data_unlabeled)\n",
    "    pred_unlabeled"
   ]
  },
  {
   "cell_type": "markdown",
   "metadata": {},
   "source": [
    "<p><br><br><br>\n",
    "<h3>XGBClassifier</h3>\n",
    "<h4>Trials</h4>"
   ]
  },
  {
   "cell_type": "code",
   "execution_count": 54,
   "metadata": {},
   "outputs": [
    {
     "data": {
      "text/html": [
       "models_config['XGBClassifier']['run']: True"
      ],
      "text/plain": [
       "<IPython.core.display.HTML object>"
      ]
     },
     "metadata": {},
     "output_type": "display_data"
    },
    {
     "data": {
      "text/html": [
       "models_config['XGBClassifier']['trials']['run']: True"
      ],
      "text/plain": [
       "<IPython.core.display.HTML object>"
      ]
     },
     "metadata": {},
     "output_type": "display_data"
    },
    {
     "data": {
      "text/html": [
       "<p><br>trial[0]['gridsearch']['run']: True<br>"
      ],
      "text/plain": [
       "<IPython.core.display.HTML object>"
      ]
     },
     "metadata": {},
     "output_type": "display_data"
    },
    {
     "data": {
      "text/html": [
       "<br><br>param_grid for XGBClassifier GridSearch:<br><pre>{'max_depth': [10, 15, 20], 'n_jobs': [-1]}</pre>"
      ],
      "text/plain": [
       "<IPython.core.display.HTML object>"
      ]
     },
     "metadata": {},
     "output_type": "display_data"
    },
    {
     "name": "stdout",
     "output_type": "stream",
     "text": [
      "Fitting 3 folds for each of 3 candidates, totalling 9 fits\n"
     ]
    },
    {
     "name": "stderr",
     "output_type": "stream",
     "text": [
      "[Parallel(n_jobs=-1)]: Using backend LokyBackend with 8 concurrent workers.\n",
      "[Parallel(n_jobs=-1)]: Done   1 tasks      | elapsed:  1.1min\n",
      "[Parallel(n_jobs=-1)]: Done   2 out of   9 | elapsed:  1.1min remaining:  3.9min\n",
      "[Parallel(n_jobs=-1)]: Done   3 out of   9 | elapsed:  1.1min remaining:  2.2min\n",
      "[Parallel(n_jobs=-1)]: Done   4 out of   9 | elapsed:  1.6min remaining:  2.0min\n",
      "[Parallel(n_jobs=-1)]: Done   5 out of   9 | elapsed:  1.6min remaining:  1.3min\n",
      "[Parallel(n_jobs=-1)]: Done   6 out of   9 | elapsed:  1.6min remaining:   48.9s\n",
      "[Parallel(n_jobs=-1)]: Done   7 out of   9 | elapsed:  2.1min remaining:   35.2s\n",
      "[Parallel(n_jobs=-1)]: Done   9 out of   9 | elapsed:  3.0min remaining:    0.0s\n",
      "[Parallel(n_jobs=-1)]: Done   9 out of   9 | elapsed:  3.0min finished\n",
      "/Users/stevencontreras/anaconda3/envs/learn-env/lib/python3.7/site-packages/sklearn/utils/validation.py:73: DataConversionWarning: A column-vector y was passed when a 1d array was expected. Please change the shape of y to (n_samples, ), for example using ravel().\n",
      "  return f(**kwargs)\n"
     ]
    },
    {
     "name": "stdout",
     "output_type": "stream",
     "text": [
      "CPU times: user 2min 16s, sys: 3.08 s, total: 2min 19s\n",
      "Wall time: 3min 36s\n"
     ]
    },
    {
     "data": {
      "text/html": [
       "<p><br>"
      ],
      "text/plain": [
       "<IPython.core.display.HTML object>"
      ]
     },
     "metadata": {},
     "output_type": "display_data"
    },
    {
     "data": {
      "text/html": [
       "Grid Search found the following optimal parameters: "
      ],
      "text/plain": [
       "<IPython.core.display.HTML object>"
      ]
     },
     "metadata": {},
     "output_type": "display_data"
    },
    {
     "data": {
      "text/html": [
       "<pre>{'max_depth': 15, 'n_jobs': -1}</pre>"
      ],
      "text/plain": [
       "<IPython.core.display.HTML object>"
      ]
     },
     "metadata": {},
     "output_type": "display_data"
    },
    {
     "data": {
      "text/html": [
       "<p><br>"
      ],
      "text/plain": [
       "<IPython.core.display.HTML object>"
      ]
     },
     "metadata": {},
     "output_type": "display_data"
    },
    {
     "data": {
      "text/html": [
       "Fitting classifier..."
      ],
      "text/plain": [
       "<IPython.core.display.HTML object>"
      ]
     },
     "metadata": {},
     "output_type": "display_data"
    },
    {
     "name": "stdout",
     "output_type": "stream",
     "text": [
      "CPU times: user 2min 36s, sys: 4.84 s, total: 2min 41s\n",
      "Wall time: 26.7 s\n"
     ]
    },
    {
     "data": {
      "text/html": [
       "<pre>\tALL DONE!</pre>"
      ],
      "text/plain": [
       "<IPython.core.display.HTML object>"
      ]
     },
     "metadata": {},
     "output_type": "display_data"
    },
    {
     "data": {
      "text/html": [
       "<p><br>"
      ],
      "text/plain": [
       "<IPython.core.display.HTML object>"
      ]
     },
     "metadata": {},
     "output_type": "display_data"
    },
    {
     "data": {
      "text/html": [
       "Predicting labels on training data..."
      ],
      "text/plain": [
       "<IPython.core.display.HTML object>"
      ]
     },
     "metadata": {},
     "output_type": "display_data"
    },
    {
     "data": {
      "text/html": [
       "<pre>\tALL DONE!</pre>"
      ],
      "text/plain": [
       "<IPython.core.display.HTML object>"
      ]
     },
     "metadata": {},
     "output_type": "display_data"
    },
    {
     "data": {
      "text/html": [
       "<p><br>"
      ],
      "text/plain": [
       "<IPython.core.display.HTML object>"
      ]
     },
     "metadata": {},
     "output_type": "display_data"
    },
    {
     "data": {
      "text/html": [
       "Training Accuracy: 94.7737"
      ],
      "text/plain": [
       "<IPython.core.display.HTML object>"
      ]
     },
     "metadata": {},
     "output_type": "display_data"
    },
    {
     "data": {
      "text/html": [
       "<p><br>"
      ],
      "text/plain": [
       "<IPython.core.display.HTML object>"
      ]
     },
     "metadata": {},
     "output_type": "display_data"
    },
    {
     "data": {
      "text/html": [
       "<pre>                         precision    recall  f1-score   support\n",
       "\n",
       "             functional       0.93      0.99      0.96     28991\n",
       "functional needs repair       0.95      0.73      0.83      3885\n",
       "         non functional       0.98      0.93      0.96     20584\n",
       "\n",
       "               accuracy                           0.95     53460\n",
       "              macro avg       0.95      0.88      0.91     53460\n",
       "           weighted avg       0.95      0.95      0.95     53460\n",
       "</pre>"
      ],
      "text/plain": [
       "<IPython.core.display.HTML object>"
      ]
     },
     "metadata": {},
     "output_type": "display_data"
    },
    {
     "data": {
      "text/html": [
       "<p><br>"
      ],
      "text/plain": [
       "<IPython.core.display.HTML object>"
      ]
     },
     "metadata": {},
     "output_type": "display_data"
    },
    {
     "data": {
      "text/html": [
       "Predicting labels on testing data..."
      ],
      "text/plain": [
       "<IPython.core.display.HTML object>"
      ]
     },
     "metadata": {},
     "output_type": "display_data"
    },
    {
     "data": {
      "text/html": [
       "<pre>\tALL DONE!</pre>"
      ],
      "text/plain": [
       "<IPython.core.display.HTML object>"
      ]
     },
     "metadata": {},
     "output_type": "display_data"
    },
    {
     "data": {
      "text/html": [
       "<p><br>"
      ],
      "text/plain": [
       "<IPython.core.display.HTML object>"
      ]
     },
     "metadata": {},
     "output_type": "display_data"
    },
    {
     "data": {
      "text/html": [
       "Testing Accuracy: 81.3973"
      ],
      "text/plain": [
       "<IPython.core.display.HTML object>"
      ]
     },
     "metadata": {},
     "output_type": "display_data"
    },
    {
     "data": {
      "text/html": [
       "<p><br>"
      ],
      "text/plain": [
       "<IPython.core.display.HTML object>"
      ]
     },
     "metadata": {},
     "output_type": "display_data"
    },
    {
     "data": {
      "text/html": [
       "<pre>                         precision    recall  f1-score   support\n",
       "\n",
       "             functional       0.81      0.90      0.85      3268\n",
       "functional needs repair       0.62      0.31      0.41       432\n",
       "         non functional       0.84      0.78      0.81      2240\n",
       "\n",
       "               accuracy                           0.81      5940\n",
       "              macro avg       0.76      0.66      0.69      5940\n",
       "           weighted avg       0.81      0.81      0.81      5940\n",
       "</pre>"
      ],
      "text/plain": [
       "<IPython.core.display.HTML object>"
      ]
     },
     "metadata": {},
     "output_type": "display_data"
    },
    {
     "data": {
      "text/html": [
       "<p><br>"
      ],
      "text/plain": [
       "<IPython.core.display.HTML object>"
      ]
     },
     "metadata": {},
     "output_type": "display_data"
    },
    {
     "data": {
      "text/html": [
       "Feature Importances:"
      ],
      "text/plain": [
       "<IPython.core.display.HTML object>"
      ]
     },
     "metadata": {},
     "output_type": "display_data"
    },
    {
     "data": {
      "text/html": [
       "<pre>[   ('quantity_target_encoded', 0.2909737),\n",
       "    ('waterpoint_type_target_encoded', 0.21171165),\n",
       "    ('region_code_target_encoded', 0.08345972),\n",
       "    ('extraction_type_target_encoded', 0.062521584),\n",
       "    ('source_target_encoded', 0.047951978),\n",
       "    ('amount_tsh', 0.046846487),\n",
       "    ('district_code_target_encoded', 0.046706293),\n",
       "    ('management_target_encoded', 0.04475788),\n",
       "    ('construction_year', 0.034251817),\n",
       "    ('longitude', 0.029527178),\n",
       "    ('latitude', 0.028401092),\n",
       "    ('population', 0.025114276),\n",
       "    ('water_quality_target_encoded', 0.024906237),\n",
       "    ('gps_height', 0.02287007)]</pre><p><br><br>"
      ],
      "text/plain": [
       "<IPython.core.display.HTML object>"
      ]
     },
     "metadata": {},
     "output_type": "display_data"
    },
    {
     "data": {
      "text/html": [
       "<p><br>trial[1]['gridsearch']['run']: True<br>"
      ],
      "text/plain": [
       "<IPython.core.display.HTML object>"
      ]
     },
     "metadata": {},
     "output_type": "display_data"
    },
    {
     "data": {
      "text/html": [
       "<br><br>param_grid for XGBClassifier GridSearch:<br><pre>{'learning_rate': [0.1, 0.3, 0.6, 0.9, 1.0], 'n_jobs': [-1], 'max_depth': [15]}</pre>"
      ],
      "text/plain": [
       "<IPython.core.display.HTML object>"
      ]
     },
     "metadata": {},
     "output_type": "display_data"
    },
    {
     "name": "stdout",
     "output_type": "stream",
     "text": [
      "Fitting 3 folds for each of 5 candidates, totalling 15 fits\n"
     ]
    },
    {
     "name": "stderr",
     "output_type": "stream",
     "text": [
      "[Parallel(n_jobs=-1)]: Using backend LokyBackend with 8 concurrent workers.\n",
      "[Parallel(n_jobs=-1)]: Done   1 tasks      | elapsed:  1.5min\n",
      "[Parallel(n_jobs=-1)]: Done   2 out of  15 | elapsed:  1.5min remaining:  9.6min\n",
      "[Parallel(n_jobs=-1)]: Done   3 out of  15 | elapsed:  1.5min remaining:  6.2min\n",
      "[Parallel(n_jobs=-1)]: Done   4 out of  15 | elapsed:  1.5min remaining:  4.3min\n",
      "[Parallel(n_jobs=-1)]: Done   5 out of  15 | elapsed:  1.6min remaining:  3.1min\n",
      "[Parallel(n_jobs=-1)]: Done   6 out of  15 | elapsed:  1.7min remaining:  2.5min\n",
      "[Parallel(n_jobs=-1)]: Done   7 out of  15 | elapsed:  1.7min remaining:  1.9min\n",
      "[Parallel(n_jobs=-1)]: Done   8 out of  15 | elapsed:  1.7min remaining:  1.5min\n",
      "[Parallel(n_jobs=-1)]: Done   9 out of  15 | elapsed:  2.8min remaining:  1.9min\n",
      "[Parallel(n_jobs=-1)]: Done  10 out of  15 | elapsed:  2.9min remaining:  1.4min\n",
      "[Parallel(n_jobs=-1)]: Done  11 out of  15 | elapsed:  2.9min remaining:  1.1min\n",
      "[Parallel(n_jobs=-1)]: Done  12 out of  15 | elapsed:  2.9min remaining:   43.5s\n",
      "[Parallel(n_jobs=-1)]: Done  13 out of  15 | elapsed:  2.9min remaining:   26.8s\n",
      "[Parallel(n_jobs=-1)]: Done  15 out of  15 | elapsed:  3.0min remaining:    0.0s\n",
      "[Parallel(n_jobs=-1)]: Done  15 out of  15 | elapsed:  3.0min finished\n",
      "/Users/stevencontreras/anaconda3/envs/learn-env/lib/python3.7/site-packages/sklearn/utils/validation.py:73: DataConversionWarning: A column-vector y was passed when a 1d array was expected. Please change the shape of y to (n_samples, ), for example using ravel().\n",
      "  return f(**kwargs)\n"
     ]
    },
    {
     "name": "stdout",
     "output_type": "stream",
     "text": [
      "CPU times: user 2min 34s, sys: 4.49 s, total: 2min 38s\n",
      "Wall time: 3min 30s\n"
     ]
    },
    {
     "data": {
      "text/html": [
       "<p><br>"
      ],
      "text/plain": [
       "<IPython.core.display.HTML object>"
      ]
     },
     "metadata": {},
     "output_type": "display_data"
    },
    {
     "data": {
      "text/html": [
       "Grid Search found the following optimal parameters: "
      ],
      "text/plain": [
       "<IPython.core.display.HTML object>"
      ]
     },
     "metadata": {},
     "output_type": "display_data"
    },
    {
     "data": {
      "text/html": [
       "<pre>{'learning_rate': 0.1, 'max_depth': 15, 'n_jobs': -1}</pre>"
      ],
      "text/plain": [
       "<IPython.core.display.HTML object>"
      ]
     },
     "metadata": {},
     "output_type": "display_data"
    },
    {
     "data": {
      "text/html": [
       "<p><br>"
      ],
      "text/plain": [
       "<IPython.core.display.HTML object>"
      ]
     },
     "metadata": {},
     "output_type": "display_data"
    },
    {
     "data": {
      "text/html": [
       "Fitting classifier..."
      ],
      "text/plain": [
       "<IPython.core.display.HTML object>"
      ]
     },
     "metadata": {},
     "output_type": "display_data"
    },
    {
     "name": "stdout",
     "output_type": "stream",
     "text": [
      "CPU times: user 2min 38s, sys: 4.95 s, total: 2min 43s\n",
      "Wall time: 26.2 s\n"
     ]
    },
    {
     "data": {
      "text/html": [
       "<pre>\tALL DONE!</pre>"
      ],
      "text/plain": [
       "<IPython.core.display.HTML object>"
      ]
     },
     "metadata": {},
     "output_type": "display_data"
    },
    {
     "data": {
      "text/html": [
       "<p><br>"
      ],
      "text/plain": [
       "<IPython.core.display.HTML object>"
      ]
     },
     "metadata": {},
     "output_type": "display_data"
    },
    {
     "data": {
      "text/html": [
       "Predicting labels on training data..."
      ],
      "text/plain": [
       "<IPython.core.display.HTML object>"
      ]
     },
     "metadata": {},
     "output_type": "display_data"
    },
    {
     "data": {
      "text/html": [
       "<pre>\tALL DONE!</pre>"
      ],
      "text/plain": [
       "<IPython.core.display.HTML object>"
      ]
     },
     "metadata": {},
     "output_type": "display_data"
    },
    {
     "data": {
      "text/html": [
       "<p><br>"
      ],
      "text/plain": [
       "<IPython.core.display.HTML object>"
      ]
     },
     "metadata": {},
     "output_type": "display_data"
    },
    {
     "data": {
      "text/html": [
       "Training Accuracy: 94.7737"
      ],
      "text/plain": [
       "<IPython.core.display.HTML object>"
      ]
     },
     "metadata": {},
     "output_type": "display_data"
    },
    {
     "data": {
      "text/html": [
       "<p><br>"
      ],
      "text/plain": [
       "<IPython.core.display.HTML object>"
      ]
     },
     "metadata": {},
     "output_type": "display_data"
    },
    {
     "data": {
      "text/html": [
       "<pre>                         precision    recall  f1-score   support\n",
       "\n",
       "             functional       0.93      0.99      0.96     28991\n",
       "functional needs repair       0.95      0.73      0.83      3885\n",
       "         non functional       0.98      0.93      0.96     20584\n",
       "\n",
       "               accuracy                           0.95     53460\n",
       "              macro avg       0.95      0.88      0.91     53460\n",
       "           weighted avg       0.95      0.95      0.95     53460\n",
       "</pre>"
      ],
      "text/plain": [
       "<IPython.core.display.HTML object>"
      ]
     },
     "metadata": {},
     "output_type": "display_data"
    },
    {
     "data": {
      "text/html": [
       "<p><br>"
      ],
      "text/plain": [
       "<IPython.core.display.HTML object>"
      ]
     },
     "metadata": {},
     "output_type": "display_data"
    },
    {
     "data": {
      "text/html": [
       "Predicting labels on testing data..."
      ],
      "text/plain": [
       "<IPython.core.display.HTML object>"
      ]
     },
     "metadata": {},
     "output_type": "display_data"
    },
    {
     "data": {
      "text/html": [
       "<pre>\tALL DONE!</pre>"
      ],
      "text/plain": [
       "<IPython.core.display.HTML object>"
      ]
     },
     "metadata": {},
     "output_type": "display_data"
    },
    {
     "data": {
      "text/html": [
       "<p><br>"
      ],
      "text/plain": [
       "<IPython.core.display.HTML object>"
      ]
     },
     "metadata": {},
     "output_type": "display_data"
    },
    {
     "data": {
      "text/html": [
       "Testing Accuracy: 81.3973"
      ],
      "text/plain": [
       "<IPython.core.display.HTML object>"
      ]
     },
     "metadata": {},
     "output_type": "display_data"
    },
    {
     "data": {
      "text/html": [
       "<p><br>"
      ],
      "text/plain": [
       "<IPython.core.display.HTML object>"
      ]
     },
     "metadata": {},
     "output_type": "display_data"
    },
    {
     "data": {
      "text/html": [
       "<pre>                         precision    recall  f1-score   support\n",
       "\n",
       "             functional       0.81      0.90      0.85      3268\n",
       "functional needs repair       0.62      0.31      0.41       432\n",
       "         non functional       0.84      0.78      0.81      2240\n",
       "\n",
       "               accuracy                           0.81      5940\n",
       "              macro avg       0.76      0.66      0.69      5940\n",
       "           weighted avg       0.81      0.81      0.81      5940\n",
       "</pre>"
      ],
      "text/plain": [
       "<IPython.core.display.HTML object>"
      ]
     },
     "metadata": {},
     "output_type": "display_data"
    },
    {
     "data": {
      "text/html": [
       "<p><br>"
      ],
      "text/plain": [
       "<IPython.core.display.HTML object>"
      ]
     },
     "metadata": {},
     "output_type": "display_data"
    },
    {
     "data": {
      "text/html": [
       "Feature Importances:"
      ],
      "text/plain": [
       "<IPython.core.display.HTML object>"
      ]
     },
     "metadata": {},
     "output_type": "display_data"
    },
    {
     "data": {
      "text/html": [
       "<pre>[   ('quantity_target_encoded', 0.2909737),\n",
       "    ('waterpoint_type_target_encoded', 0.21171165),\n",
       "    ('region_code_target_encoded', 0.08345972),\n",
       "    ('extraction_type_target_encoded', 0.062521584),\n",
       "    ('source_target_encoded', 0.047951978),\n",
       "    ('amount_tsh', 0.046846487),\n",
       "    ('district_code_target_encoded', 0.046706293),\n",
       "    ('management_target_encoded', 0.04475788),\n",
       "    ('construction_year', 0.034251817),\n",
       "    ('longitude', 0.029527178),\n",
       "    ('latitude', 0.028401092),\n",
       "    ('population', 0.025114276),\n",
       "    ('water_quality_target_encoded', 0.024906237),\n",
       "    ('gps_height', 0.02287007)]</pre><p><br><br>"
      ],
      "text/plain": [
       "<IPython.core.display.HTML object>"
      ]
     },
     "metadata": {},
     "output_type": "display_data"
    },
    {
     "data": {
      "text/html": [
       "<p><br>trial[2]['gridsearch']['run']: True<br>"
      ],
      "text/plain": [
       "<IPython.core.display.HTML object>"
      ]
     },
     "metadata": {},
     "output_type": "display_data"
    },
    {
     "data": {
      "text/html": [
       "<br><br>param_grid for XGBClassifier GridSearch:<br><pre>{'min_child_weight': [1, 2, 3, 4, 5], 'n_jobs': [-1], 'max_depth': [15], 'learning_rate': [0.1]}</pre>"
      ],
      "text/plain": [
       "<IPython.core.display.HTML object>"
      ]
     },
     "metadata": {},
     "output_type": "display_data"
    },
    {
     "name": "stdout",
     "output_type": "stream",
     "text": [
      "Fitting 3 folds for each of 5 candidates, totalling 15 fits\n"
     ]
    },
    {
     "name": "stderr",
     "output_type": "stream",
     "text": [
      "[Parallel(n_jobs=-1)]: Using backend LokyBackend with 8 concurrent workers.\n",
      "[Parallel(n_jobs=-1)]: Done   1 tasks      | elapsed:  1.7min\n",
      "[Parallel(n_jobs=-1)]: Done   2 out of  15 | elapsed:  1.8min remaining: 11.5min\n",
      "[Parallel(n_jobs=-1)]: Done   3 out of  15 | elapsed:  1.8min remaining:  7.1min\n",
      "[Parallel(n_jobs=-1)]: Done   4 out of  15 | elapsed:  1.8min remaining:  4.9min\n",
      "[Parallel(n_jobs=-1)]: Done   5 out of  15 | elapsed:  1.8min remaining:  3.6min\n",
      "[Parallel(n_jobs=-1)]: Done   6 out of  15 | elapsed:  1.8min remaining:  2.8min\n",
      "[Parallel(n_jobs=-1)]: Done   7 out of  15 | elapsed:  1.8min remaining:  2.1min\n",
      "[Parallel(n_jobs=-1)]: Done   8 out of  15 | elapsed:  1.8min remaining:  1.6min\n",
      "[Parallel(n_jobs=-1)]: Done   9 out of  15 | elapsed:  3.9min remaining:  2.6min\n",
      "[Parallel(n_jobs=-1)]: Done  10 out of  15 | elapsed:  4.0min remaining:  2.0min\n",
      "[Parallel(n_jobs=-1)]: Done  11 out of  15 | elapsed:  4.0min remaining:  1.5min\n",
      "[Parallel(n_jobs=-1)]: Done  12 out of  15 | elapsed:  4.0min remaining:  1.0min\n",
      "[Parallel(n_jobs=-1)]: Done  13 out of  15 | elapsed:  4.0min remaining:   37.3s\n",
      "[Parallel(n_jobs=-1)]: Done  15 out of  15 | elapsed:  4.1min remaining:    0.0s\n",
      "[Parallel(n_jobs=-1)]: Done  15 out of  15 | elapsed:  4.1min finished\n",
      "/Users/stevencontreras/anaconda3/envs/learn-env/lib/python3.7/site-packages/sklearn/utils/validation.py:73: DataConversionWarning: A column-vector y was passed when a 1d array was expected. Please change the shape of y to (n_samples, ), for example using ravel().\n",
      "  return f(**kwargs)\n"
     ]
    },
    {
     "name": "stdout",
     "output_type": "stream",
     "text": [
      "CPU times: user 2min 32s, sys: 5.14 s, total: 2min 37s\n",
      "Wall time: 4min 48s\n"
     ]
    },
    {
     "data": {
      "text/html": [
       "<p><br>"
      ],
      "text/plain": [
       "<IPython.core.display.HTML object>"
      ]
     },
     "metadata": {},
     "output_type": "display_data"
    },
    {
     "data": {
      "text/html": [
       "Grid Search found the following optimal parameters: "
      ],
      "text/plain": [
       "<IPython.core.display.HTML object>"
      ]
     },
     "metadata": {},
     "output_type": "display_data"
    },
    {
     "data": {
      "text/html": [
       "<pre>{'learning_rate': 0.1, 'max_depth': 15, 'min_child_weight': 5, 'n_jobs': -1}</pre>"
      ],
      "text/plain": [
       "<IPython.core.display.HTML object>"
      ]
     },
     "metadata": {},
     "output_type": "display_data"
    },
    {
     "data": {
      "text/html": [
       "<p><br>"
      ],
      "text/plain": [
       "<IPython.core.display.HTML object>"
      ]
     },
     "metadata": {},
     "output_type": "display_data"
    },
    {
     "data": {
      "text/html": [
       "Fitting classifier..."
      ],
      "text/plain": [
       "<IPython.core.display.HTML object>"
      ]
     },
     "metadata": {},
     "output_type": "display_data"
    },
    {
     "name": "stdout",
     "output_type": "stream",
     "text": [
      "CPU times: user 2min 26s, sys: 4.6 s, total: 2min 31s\n",
      "Wall time: 29.6 s\n"
     ]
    },
    {
     "data": {
      "text/html": [
       "<pre>\tALL DONE!</pre>"
      ],
      "text/plain": [
       "<IPython.core.display.HTML object>"
      ]
     },
     "metadata": {},
     "output_type": "display_data"
    },
    {
     "data": {
      "text/html": [
       "<p><br>"
      ],
      "text/plain": [
       "<IPython.core.display.HTML object>"
      ]
     },
     "metadata": {},
     "output_type": "display_data"
    },
    {
     "data": {
      "text/html": [
       "Predicting labels on training data..."
      ],
      "text/plain": [
       "<IPython.core.display.HTML object>"
      ]
     },
     "metadata": {},
     "output_type": "display_data"
    },
    {
     "data": {
      "text/html": [
       "<pre>\tALL DONE!</pre>"
      ],
      "text/plain": [
       "<IPython.core.display.HTML object>"
      ]
     },
     "metadata": {},
     "output_type": "display_data"
    },
    {
     "data": {
      "text/html": [
       "<p><br>"
      ],
      "text/plain": [
       "<IPython.core.display.HTML object>"
      ]
     },
     "metadata": {},
     "output_type": "display_data"
    },
    {
     "data": {
      "text/html": [
       "Training Accuracy: 90.4153"
      ],
      "text/plain": [
       "<IPython.core.display.HTML object>"
      ]
     },
     "metadata": {},
     "output_type": "display_data"
    },
    {
     "data": {
      "text/html": [
       "<p><br>"
      ],
      "text/plain": [
       "<IPython.core.display.HTML object>"
      ]
     },
     "metadata": {},
     "output_type": "display_data"
    },
    {
     "data": {
      "text/html": [
       "<pre>                         precision    recall  f1-score   support\n",
       "\n",
       "             functional       0.88      0.97      0.92     28991\n",
       "functional needs repair       0.90      0.53      0.66      3885\n",
       "         non functional       0.95      0.88      0.91     20584\n",
       "\n",
       "               accuracy                           0.90     53460\n",
       "              macro avg       0.91      0.79      0.83     53460\n",
       "           weighted avg       0.91      0.90      0.90     53460\n",
       "</pre>"
      ],
      "text/plain": [
       "<IPython.core.display.HTML object>"
      ]
     },
     "metadata": {},
     "output_type": "display_data"
    },
    {
     "data": {
      "text/html": [
       "<p><br>"
      ],
      "text/plain": [
       "<IPython.core.display.HTML object>"
      ]
     },
     "metadata": {},
     "output_type": "display_data"
    },
    {
     "data": {
      "text/html": [
       "Predicting labels on testing data..."
      ],
      "text/plain": [
       "<IPython.core.display.HTML object>"
      ]
     },
     "metadata": {},
     "output_type": "display_data"
    },
    {
     "data": {
      "text/html": [
       "<pre>\tALL DONE!</pre>"
      ],
      "text/plain": [
       "<IPython.core.display.HTML object>"
      ]
     },
     "metadata": {},
     "output_type": "display_data"
    },
    {
     "data": {
      "text/html": [
       "<p><br>"
      ],
      "text/plain": [
       "<IPython.core.display.HTML object>"
      ]
     },
     "metadata": {},
     "output_type": "display_data"
    },
    {
     "data": {
      "text/html": [
       "Testing Accuracy: 81.3131"
      ],
      "text/plain": [
       "<IPython.core.display.HTML object>"
      ]
     },
     "metadata": {},
     "output_type": "display_data"
    },
    {
     "data": {
      "text/html": [
       "<p><br>"
      ],
      "text/plain": [
       "<IPython.core.display.HTML object>"
      ]
     },
     "metadata": {},
     "output_type": "display_data"
    },
    {
     "data": {
      "text/html": [
       "<pre>                         precision    recall  f1-score   support\n",
       "\n",
       "             functional       0.80      0.91      0.85      3268\n",
       "functional needs repair       0.63      0.29      0.40       432\n",
       "         non functional       0.85      0.78      0.81      2240\n",
       "\n",
       "               accuracy                           0.81      5940\n",
       "              macro avg       0.76      0.66      0.69      5940\n",
       "           weighted avg       0.81      0.81      0.80      5940\n",
       "</pre>"
      ],
      "text/plain": [
       "<IPython.core.display.HTML object>"
      ]
     },
     "metadata": {},
     "output_type": "display_data"
    },
    {
     "data": {
      "text/html": [
       "<p><br>"
      ],
      "text/plain": [
       "<IPython.core.display.HTML object>"
      ]
     },
     "metadata": {},
     "output_type": "display_data"
    },
    {
     "data": {
      "text/html": [
       "Feature Importances:"
      ],
      "text/plain": [
       "<IPython.core.display.HTML object>"
      ]
     },
     "metadata": {},
     "output_type": "display_data"
    },
    {
     "data": {
      "text/html": [
       "<pre>[   ('quantity_target_encoded', 0.29265437),\n",
       "    ('waterpoint_type_target_encoded', 0.23087694),\n",
       "    ('region_code_target_encoded', 0.06685434),\n",
       "    ('extraction_type_target_encoded', 0.0645028),\n",
       "    ('management_target_encoded', 0.049317054),\n",
       "    ('amount_tsh', 0.048041284),\n",
       "    ('source_target_encoded', 0.04763377),\n",
       "    ('district_code_target_encoded', 0.040343553),\n",
       "    ('construction_year', 0.033002354),\n",
       "    ('longitude', 0.028335754),\n",
       "    ('latitude', 0.026519971),\n",
       "    ('population', 0.02483455),\n",
       "    ('water_quality_target_encoded', 0.024130601),\n",
       "    ('gps_height', 0.022952648)]</pre><p><br><br>"
      ],
      "text/plain": [
       "<IPython.core.display.HTML object>"
      ]
     },
     "metadata": {},
     "output_type": "display_data"
    },
    {
     "data": {
      "text/html": [
       "<p><br>trial[3]['gridsearch']['run']: True<br>"
      ],
      "text/plain": [
       "<IPython.core.display.HTML object>"
      ]
     },
     "metadata": {},
     "output_type": "display_data"
    },
    {
     "data": {
      "text/html": [
       "<br><br>param_grid for XGBClassifier GridSearch:<br><pre>{'gamma': [0, 1, 2, 3, 4, 5], 'n_jobs': [-1], 'max_depth': [15], 'learning_rate': [0.1], 'min_child_weight': [5]}</pre>"
      ],
      "text/plain": [
       "<IPython.core.display.HTML object>"
      ]
     },
     "metadata": {},
     "output_type": "display_data"
    },
    {
     "name": "stdout",
     "output_type": "stream",
     "text": [
      "Fitting 3 folds for each of 6 candidates, totalling 18 fits\n"
     ]
    },
    {
     "name": "stderr",
     "output_type": "stream",
     "text": [
      "[Parallel(n_jobs=-1)]: Using backend LokyBackend with 8 concurrent workers.\n",
      "[Parallel(n_jobs=-1)]: Done   1 tasks      | elapsed:  1.7min\n",
      "[Parallel(n_jobs=-1)]: Done   2 tasks      | elapsed:  1.7min\n",
      "[Parallel(n_jobs=-1)]: Done   3 tasks      | elapsed:  1.7min\n",
      "[Parallel(n_jobs=-1)]: Done   4 out of  18 | elapsed:  1.7min remaining:  6.1min\n",
      "[Parallel(n_jobs=-1)]: Done   5 out of  18 | elapsed:  1.8min remaining:  4.6min\n",
      "[Parallel(n_jobs=-1)]: Done   6 out of  18 | elapsed:  1.8min remaining:  3.6min\n",
      "[Parallel(n_jobs=-1)]: Done   7 out of  18 | elapsed:  1.8min remaining:  2.8min\n",
      "[Parallel(n_jobs=-1)]: Done   8 out of  18 | elapsed:  1.8min remaining:  2.2min\n",
      "[Parallel(n_jobs=-1)]: Done   9 out of  18 | elapsed:  3.2min remaining:  3.2min\n",
      "[Parallel(n_jobs=-1)]: Done  10 out of  18 | elapsed:  3.2min remaining:  2.5min\n",
      "[Parallel(n_jobs=-1)]: Done  11 out of  18 | elapsed:  3.2min remaining:  2.0min\n",
      "[Parallel(n_jobs=-1)]: Done  12 out of  18 | elapsed:  3.2min remaining:  1.6min\n",
      "[Parallel(n_jobs=-1)]: Done  13 out of  18 | elapsed:  3.2min remaining:  1.2min\n",
      "[Parallel(n_jobs=-1)]: Done  14 out of  18 | elapsed:  3.2min remaining:   55.4s\n",
      "[Parallel(n_jobs=-1)]: Done  15 out of  18 | elapsed:  3.3min remaining:   39.0s\n",
      "[Parallel(n_jobs=-1)]: Done  16 out of  18 | elapsed:  3.3min remaining:   24.5s\n",
      "[Parallel(n_jobs=-1)]: Done  18 out of  18 | elapsed:  4.4min remaining:    0.0s\n",
      "[Parallel(n_jobs=-1)]: Done  18 out of  18 | elapsed:  4.4min finished\n",
      "/Users/stevencontreras/anaconda3/envs/learn-env/lib/python3.7/site-packages/sklearn/utils/validation.py:73: DataConversionWarning: A column-vector y was passed when a 1d array was expected. Please change the shape of y to (n_samples, ), for example using ravel().\n",
      "  return f(**kwargs)\n"
     ]
    },
    {
     "name": "stdout",
     "output_type": "stream",
     "text": [
      "CPU times: user 2min 7s, sys: 2.38 s, total: 2min 10s\n",
      "Wall time: 4min 56s\n"
     ]
    },
    {
     "data": {
      "text/html": [
       "<p><br>"
      ],
      "text/plain": [
       "<IPython.core.display.HTML object>"
      ]
     },
     "metadata": {},
     "output_type": "display_data"
    },
    {
     "data": {
      "text/html": [
       "Grid Search found the following optimal parameters: "
      ],
      "text/plain": [
       "<IPython.core.display.HTML object>"
      ]
     },
     "metadata": {},
     "output_type": "display_data"
    },
    {
     "data": {
      "text/html": [
       "<pre>{   'gamma': 0,\n",
       "    'learning_rate': 0.1,\n",
       "    'max_depth': 15,\n",
       "    'min_child_weight': 5,\n",
       "    'n_jobs': -1}</pre>"
      ],
      "text/plain": [
       "<IPython.core.display.HTML object>"
      ]
     },
     "metadata": {},
     "output_type": "display_data"
    },
    {
     "data": {
      "text/html": [
       "<p><br>"
      ],
      "text/plain": [
       "<IPython.core.display.HTML object>"
      ]
     },
     "metadata": {},
     "output_type": "display_data"
    },
    {
     "data": {
      "text/html": [
       "Fitting classifier..."
      ],
      "text/plain": [
       "<IPython.core.display.HTML object>"
      ]
     },
     "metadata": {},
     "output_type": "display_data"
    },
    {
     "name": "stdout",
     "output_type": "stream",
     "text": [
      "CPU times: user 2min 9s, sys: 2.45 s, total: 2min 11s\n",
      "Wall time: 30.9 s\n"
     ]
    },
    {
     "data": {
      "text/html": [
       "<pre>\tALL DONE!</pre>"
      ],
      "text/plain": [
       "<IPython.core.display.HTML object>"
      ]
     },
     "metadata": {},
     "output_type": "display_data"
    },
    {
     "data": {
      "text/html": [
       "<p><br>"
      ],
      "text/plain": [
       "<IPython.core.display.HTML object>"
      ]
     },
     "metadata": {},
     "output_type": "display_data"
    },
    {
     "data": {
      "text/html": [
       "Predicting labels on training data..."
      ],
      "text/plain": [
       "<IPython.core.display.HTML object>"
      ]
     },
     "metadata": {},
     "output_type": "display_data"
    },
    {
     "data": {
      "text/html": [
       "<pre>\tALL DONE!</pre>"
      ],
      "text/plain": [
       "<IPython.core.display.HTML object>"
      ]
     },
     "metadata": {},
     "output_type": "display_data"
    },
    {
     "data": {
      "text/html": [
       "<p><br>"
      ],
      "text/plain": [
       "<IPython.core.display.HTML object>"
      ]
     },
     "metadata": {},
     "output_type": "display_data"
    },
    {
     "data": {
      "text/html": [
       "Training Accuracy: 90.4153"
      ],
      "text/plain": [
       "<IPython.core.display.HTML object>"
      ]
     },
     "metadata": {},
     "output_type": "display_data"
    },
    {
     "data": {
      "text/html": [
       "<p><br>"
      ],
      "text/plain": [
       "<IPython.core.display.HTML object>"
      ]
     },
     "metadata": {},
     "output_type": "display_data"
    },
    {
     "data": {
      "text/html": [
       "<pre>                         precision    recall  f1-score   support\n",
       "\n",
       "             functional       0.88      0.97      0.92     28991\n",
       "functional needs repair       0.90      0.53      0.66      3885\n",
       "         non functional       0.95      0.88      0.91     20584\n",
       "\n",
       "               accuracy                           0.90     53460\n",
       "              macro avg       0.91      0.79      0.83     53460\n",
       "           weighted avg       0.91      0.90      0.90     53460\n",
       "</pre>"
      ],
      "text/plain": [
       "<IPython.core.display.HTML object>"
      ]
     },
     "metadata": {},
     "output_type": "display_data"
    },
    {
     "data": {
      "text/html": [
       "<p><br>"
      ],
      "text/plain": [
       "<IPython.core.display.HTML object>"
      ]
     },
     "metadata": {},
     "output_type": "display_data"
    },
    {
     "data": {
      "text/html": [
       "Predicting labels on testing data..."
      ],
      "text/plain": [
       "<IPython.core.display.HTML object>"
      ]
     },
     "metadata": {},
     "output_type": "display_data"
    },
    {
     "data": {
      "text/html": [
       "<pre>\tALL DONE!</pre>"
      ],
      "text/plain": [
       "<IPython.core.display.HTML object>"
      ]
     },
     "metadata": {},
     "output_type": "display_data"
    },
    {
     "data": {
      "text/html": [
       "<p><br>"
      ],
      "text/plain": [
       "<IPython.core.display.HTML object>"
      ]
     },
     "metadata": {},
     "output_type": "display_data"
    },
    {
     "data": {
      "text/html": [
       "Testing Accuracy: 81.3131"
      ],
      "text/plain": [
       "<IPython.core.display.HTML object>"
      ]
     },
     "metadata": {},
     "output_type": "display_data"
    },
    {
     "data": {
      "text/html": [
       "<p><br>"
      ],
      "text/plain": [
       "<IPython.core.display.HTML object>"
      ]
     },
     "metadata": {},
     "output_type": "display_data"
    },
    {
     "data": {
      "text/html": [
       "<pre>                         precision    recall  f1-score   support\n",
       "\n",
       "             functional       0.80      0.91      0.85      3268\n",
       "functional needs repair       0.63      0.29      0.40       432\n",
       "         non functional       0.85      0.78      0.81      2240\n",
       "\n",
       "               accuracy                           0.81      5940\n",
       "              macro avg       0.76      0.66      0.69      5940\n",
       "           weighted avg       0.81      0.81      0.80      5940\n",
       "</pre>"
      ],
      "text/plain": [
       "<IPython.core.display.HTML object>"
      ]
     },
     "metadata": {},
     "output_type": "display_data"
    },
    {
     "data": {
      "text/html": [
       "<p><br>"
      ],
      "text/plain": [
       "<IPython.core.display.HTML object>"
      ]
     },
     "metadata": {},
     "output_type": "display_data"
    },
    {
     "data": {
      "text/html": [
       "Feature Importances:"
      ],
      "text/plain": [
       "<IPython.core.display.HTML object>"
      ]
     },
     "metadata": {},
     "output_type": "display_data"
    },
    {
     "data": {
      "text/html": [
       "<pre>[   ('quantity_target_encoded', 0.29265437),\n",
       "    ('waterpoint_type_target_encoded', 0.23087694),\n",
       "    ('region_code_target_encoded', 0.06685434),\n",
       "    ('extraction_type_target_encoded', 0.0645028),\n",
       "    ('management_target_encoded', 0.049317054),\n",
       "    ('amount_tsh', 0.048041284),\n",
       "    ('source_target_encoded', 0.04763377),\n",
       "    ('district_code_target_encoded', 0.040343553),\n",
       "    ('construction_year', 0.033002354),\n",
       "    ('longitude', 0.028335754),\n",
       "    ('latitude', 0.026519971),\n",
       "    ('population', 0.02483455),\n",
       "    ('water_quality_target_encoded', 0.024130601),\n",
       "    ('gps_height', 0.022952648)]</pre><p><br><br>"
      ],
      "text/plain": [
       "<IPython.core.display.HTML object>"
      ]
     },
     "metadata": {},
     "output_type": "display_data"
    },
    {
     "data": {
      "text/html": [
       "<p><br>trial[4]['gridsearch']['run']: True<br>"
      ],
      "text/plain": [
       "<IPython.core.display.HTML object>"
      ]
     },
     "metadata": {},
     "output_type": "display_data"
    },
    {
     "data": {
      "text/html": [
       "<br><br>param_grid for XGBClassifier GridSearch:<br><pre>{'n_estimators': [100, 250, 500, 1000], 'n_jobs': [-1], 'max_depth': [15], 'learning_rate': [0.1], 'min_child_weight': [5], 'gamma': [0]}</pre>"
      ],
      "text/plain": [
       "<IPython.core.display.HTML object>"
      ]
     },
     "metadata": {},
     "output_type": "display_data"
    },
    {
     "name": "stdout",
     "output_type": "stream",
     "text": [
      "Fitting 3 folds for each of 4 candidates, totalling 12 fits\n"
     ]
    },
    {
     "name": "stderr",
     "output_type": "stream",
     "text": [
      "[Parallel(n_jobs=-1)]: Using backend LokyBackend with 8 concurrent workers.\n",
      "[Parallel(n_jobs=-1)]: Done   1 tasks      | elapsed:  1.4min\n",
      "[Parallel(n_jobs=-1)]: Done   2 out of  12 | elapsed:  1.4min remaining:  7.2min\n",
      "[Parallel(n_jobs=-1)]: Done   3 out of  12 | elapsed:  1.5min remaining:  4.4min\n",
      "[Parallel(n_jobs=-1)]: Done   4 out of  12 | elapsed:  3.6min remaining:  7.2min\n",
      "[Parallel(n_jobs=-1)]: Done   5 out of  12 | elapsed:  3.6min remaining:  5.0min\n",
      "[Parallel(n_jobs=-1)]: Done   6 out of  12 | elapsed:  3.6min remaining:  3.6min\n",
      "[Parallel(n_jobs=-1)]: Done   7 out of  12 | elapsed:  7.3min remaining:  5.2min\n",
      "[Parallel(n_jobs=-1)]: Done   8 out of  12 | elapsed:  7.3min remaining:  3.7min\n",
      "[Parallel(n_jobs=-1)]: Done   9 out of  12 | elapsed:  8.7min remaining:  2.9min\n",
      "[Parallel(n_jobs=-1)]: Done  10 out of  12 | elapsed: 14.2min remaining:  2.8min\n",
      "[Parallel(n_jobs=-1)]: Done  12 out of  12 | elapsed: 15.9min remaining:    0.0s\n",
      "[Parallel(n_jobs=-1)]: Done  12 out of  12 | elapsed: 15.9min finished\n",
      "/Users/stevencontreras/anaconda3/envs/learn-env/lib/python3.7/site-packages/sklearn/utils/validation.py:73: DataConversionWarning: A column-vector y was passed when a 1d array was expected. Please change the shape of y to (n_samples, ), for example using ravel().\n",
      "  return f(**kwargs)\n"
     ]
    },
    {
     "name": "stdout",
     "output_type": "stream",
     "text": [
      "CPU times: user 5min, sys: 5.93 s, total: 5min 6s\n",
      "Wall time: 17min 14s\n"
     ]
    },
    {
     "data": {
      "text/html": [
       "<p><br>"
      ],
      "text/plain": [
       "<IPython.core.display.HTML object>"
      ]
     },
     "metadata": {},
     "output_type": "display_data"
    },
    {
     "data": {
      "text/html": [
       "Grid Search found the following optimal parameters: "
      ],
      "text/plain": [
       "<IPython.core.display.HTML object>"
      ]
     },
     "metadata": {},
     "output_type": "display_data"
    },
    {
     "data": {
      "text/html": [
       "<pre>{   'gamma': 0,\n",
       "    'learning_rate': 0.1,\n",
       "    'max_depth': 15,\n",
       "    'min_child_weight': 5,\n",
       "    'n_estimators': 250,\n",
       "    'n_jobs': -1}</pre>"
      ],
      "text/plain": [
       "<IPython.core.display.HTML object>"
      ]
     },
     "metadata": {},
     "output_type": "display_data"
    },
    {
     "data": {
      "text/html": [
       "<p><br>"
      ],
      "text/plain": [
       "<IPython.core.display.HTML object>"
      ]
     },
     "metadata": {},
     "output_type": "display_data"
    },
    {
     "data": {
      "text/html": [
       "Fitting classifier..."
      ],
      "text/plain": [
       "<IPython.core.display.HTML object>"
      ]
     },
     "metadata": {},
     "output_type": "display_data"
    },
    {
     "name": "stdout",
     "output_type": "stream",
     "text": [
      "CPU times: user 4min 55s, sys: 5.47 s, total: 5min 1s\n",
      "Wall time: 1min 24s\n"
     ]
    },
    {
     "data": {
      "text/html": [
       "<pre>\tALL DONE!</pre>"
      ],
      "text/plain": [
       "<IPython.core.display.HTML object>"
      ]
     },
     "metadata": {},
     "output_type": "display_data"
    },
    {
     "data": {
      "text/html": [
       "<p><br>"
      ],
      "text/plain": [
       "<IPython.core.display.HTML object>"
      ]
     },
     "metadata": {},
     "output_type": "display_data"
    },
    {
     "data": {
      "text/html": [
       "Predicting labels on training data..."
      ],
      "text/plain": [
       "<IPython.core.display.HTML object>"
      ]
     },
     "metadata": {},
     "output_type": "display_data"
    },
    {
     "data": {
      "text/html": [
       "<pre>\tALL DONE!</pre>"
      ],
      "text/plain": [
       "<IPython.core.display.HTML object>"
      ]
     },
     "metadata": {},
     "output_type": "display_data"
    },
    {
     "data": {
      "text/html": [
       "<p><br>"
      ],
      "text/plain": [
       "<IPython.core.display.HTML object>"
      ]
     },
     "metadata": {},
     "output_type": "display_data"
    },
    {
     "data": {
      "text/html": [
       "Training Accuracy: 93.541"
      ],
      "text/plain": [
       "<IPython.core.display.HTML object>"
      ]
     },
     "metadata": {},
     "output_type": "display_data"
    },
    {
     "data": {
      "text/html": [
       "<p><br>"
      ],
      "text/plain": [
       "<IPython.core.display.HTML object>"
      ]
     },
     "metadata": {},
     "output_type": "display_data"
    },
    {
     "data": {
      "text/html": [
       "<pre>                         precision    recall  f1-score   support\n",
       "\n",
       "             functional       0.92      0.98      0.95     28991\n",
       "functional needs repair       0.92      0.68      0.78      3885\n",
       "         non functional       0.97      0.92      0.94     20584\n",
       "\n",
       "               accuracy                           0.94     53460\n",
       "              macro avg       0.93      0.86      0.89     53460\n",
       "           weighted avg       0.94      0.94      0.93     53460\n",
       "</pre>"
      ],
      "text/plain": [
       "<IPython.core.display.HTML object>"
      ]
     },
     "metadata": {},
     "output_type": "display_data"
    },
    {
     "data": {
      "text/html": [
       "<p><br>"
      ],
      "text/plain": [
       "<IPython.core.display.HTML object>"
      ]
     },
     "metadata": {},
     "output_type": "display_data"
    },
    {
     "data": {
      "text/html": [
       "Predicting labels on testing data..."
      ],
      "text/plain": [
       "<IPython.core.display.HTML object>"
      ]
     },
     "metadata": {},
     "output_type": "display_data"
    },
    {
     "data": {
      "text/html": [
       "<pre>\tALL DONE!</pre>"
      ],
      "text/plain": [
       "<IPython.core.display.HTML object>"
      ]
     },
     "metadata": {},
     "output_type": "display_data"
    },
    {
     "data": {
      "text/html": [
       "<p><br>"
      ],
      "text/plain": [
       "<IPython.core.display.HTML object>"
      ]
     },
     "metadata": {},
     "output_type": "display_data"
    },
    {
     "data": {
      "text/html": [
       "Testing Accuracy: 81.7003"
      ],
      "text/plain": [
       "<IPython.core.display.HTML object>"
      ]
     },
     "metadata": {},
     "output_type": "display_data"
    },
    {
     "data": {
      "text/html": [
       "<p><br>"
      ],
      "text/plain": [
       "<IPython.core.display.HTML object>"
      ]
     },
     "metadata": {},
     "output_type": "display_data"
    },
    {
     "data": {
      "text/html": [
       "<pre>                         precision    recall  f1-score   support\n",
       "\n",
       "             functional       0.81      0.90      0.85      3268\n",
       "functional needs repair       0.64      0.31      0.42       432\n",
       "         non functional       0.84      0.79      0.82      2240\n",
       "\n",
       "               accuracy                           0.82      5940\n",
       "              macro avg       0.77      0.67      0.70      5940\n",
       "           weighted avg       0.81      0.82      0.81      5940\n",
       "</pre>"
      ],
      "text/plain": [
       "<IPython.core.display.HTML object>"
      ]
     },
     "metadata": {},
     "output_type": "display_data"
    },
    {
     "data": {
      "text/html": [
       "<p><br>"
      ],
      "text/plain": [
       "<IPython.core.display.HTML object>"
      ]
     },
     "metadata": {},
     "output_type": "display_data"
    },
    {
     "data": {
      "text/html": [
       "Feature Importances:"
      ],
      "text/plain": [
       "<IPython.core.display.HTML object>"
      ]
     },
     "metadata": {},
     "output_type": "display_data"
    },
    {
     "data": {
      "text/html": [
       "<pre>[   ('quantity_target_encoded', 0.29202738),\n",
       "    ('waterpoint_type_target_encoded', 0.2191055),\n",
       "    ('region_code_target_encoded', 0.06949392),\n",
       "    ('extraction_type_target_encoded', 0.065464534),\n",
       "    ('management_target_encoded', 0.05055747),\n",
       "    ('source_target_encoded', 0.04882615),\n",
       "    ('amount_tsh', 0.04689818),\n",
       "    ('district_code_target_encoded', 0.04381281),\n",
       "    ('construction_year', 0.03356477),\n",
       "    ('longitude', 0.02878661),\n",
       "    ('latitude', 0.026879814),\n",
       "    ('water_quality_target_encoded', 0.026354488),\n",
       "    ('population', 0.02512701),\n",
       "    ('gps_height', 0.023101317)]</pre><p><br><br>"
      ],
      "text/plain": [
       "<IPython.core.display.HTML object>"
      ]
     },
     "metadata": {},
     "output_type": "display_data"
    }
   ],
   "source": [
    "run_xgbclf = models_config['XGBClassifier']['run']\n",
    "render_HTML(f\"models_config['XGBClassifier']['run']: {run_xgbclf}\")\n",
    "\n",
    "if run_xgbclf:\n",
    "    trials = models_config['XGBClassifier']['trials']\n",
    "\n",
    "    render_HTML(f\"models_config['XGBClassifier']['trials']['run']: {trials['run']}\")\n",
    "    if trials['run']:\n",
    "        trials_list = trials['array']\n",
    "\n",
    "        best_parameters = {}\n",
    "        for i, trial in enumerate(trials_list):\n",
    "            render_HTML(f\"<p><br>trial[{i}]['gridsearch']['run']: {trial['gridsearch']['run']}<br>\")\n",
    "            params = trial['gridsearch']['last_best'] if not trial['gridsearch']['run'] else trial['gridsearch']['param_grid']\n",
    "            if trial['gridsearch']['run']:\n",
    "                params.update({'n_jobs': [-1]})\n",
    "            else:\n",
    "                params.update({'n_jobs':-1})\n",
    "            xgbclf, best_parameters, model_results = clf_run_trial(XGBClassifier(), params, best_parameters, run_trials_gridsearch=trial['gridsearch']['run']) # note that best_parameters will be set to those used in the last trial\n",
    "\n",
    "    else:\n",
    "        best_parameters = models_config['XGBClassifier']['params']"
   ]
  },
  {
   "cell_type": "markdown",
   "metadata": {},
   "source": [
    "<p><br>\n",
    "<h4>Build Final Vaildation Model with best params</h4>"
   ]
  },
  {
   "cell_type": "code",
   "execution_count": 55,
   "metadata": {
    "tags": []
   },
   "outputs": [
    {
     "data": {
      "text/html": [
       "<p><br>"
      ],
      "text/plain": [
       "<IPython.core.display.HTML object>"
      ]
     },
     "metadata": {},
     "output_type": "display_data"
    },
    {
     "data": {
      "text/html": [
       "Grid Search (previously) found the following optimal parameters: "
      ],
      "text/plain": [
       "<IPython.core.display.HTML object>"
      ]
     },
     "metadata": {},
     "output_type": "display_data"
    },
    {
     "data": {
      "text/html": [
       "<pre>{   'gamma': 0,\n",
       "    'learning_rate': 0.1,\n",
       "    'max_depth': 15,\n",
       "    'min_child_weight': 5,\n",
       "    'n_estimators': 250,\n",
       "    'n_jobs': -1,\n",
       "    'random_state': 42,\n",
       "    'verbosity': 1}</pre>"
      ],
      "text/plain": [
       "<IPython.core.display.HTML object>"
      ]
     },
     "metadata": {},
     "output_type": "display_data"
    },
    {
     "data": {
      "text/html": [
       "<p><br>"
      ],
      "text/plain": [
       "<IPython.core.display.HTML object>"
      ]
     },
     "metadata": {},
     "output_type": "display_data"
    },
    {
     "data": {
      "text/html": [
       "Fitting classifier..."
      ],
      "text/plain": [
       "<IPython.core.display.HTML object>"
      ]
     },
     "metadata": {},
     "output_type": "display_data"
    },
    {
     "name": "stdout",
     "output_type": "stream",
     "text": [
      "CPU times: user 5min, sys: 5.03 s, total: 5min 5s\n",
      "Wall time: 1min 20s\n"
     ]
    },
    {
     "data": {
      "text/html": [
       "<pre>\tALL DONE!</pre>"
      ],
      "text/plain": [
       "<IPython.core.display.HTML object>"
      ]
     },
     "metadata": {},
     "output_type": "display_data"
    },
    {
     "data": {
      "text/html": [
       "<p><br>"
      ],
      "text/plain": [
       "<IPython.core.display.HTML object>"
      ]
     },
     "metadata": {},
     "output_type": "display_data"
    },
    {
     "data": {
      "text/html": [
       "Predicting labels on training data..."
      ],
      "text/plain": [
       "<IPython.core.display.HTML object>"
      ]
     },
     "metadata": {},
     "output_type": "display_data"
    },
    {
     "data": {
      "text/html": [
       "<pre>\tALL DONE!</pre>"
      ],
      "text/plain": [
       "<IPython.core.display.HTML object>"
      ]
     },
     "metadata": {},
     "output_type": "display_data"
    },
    {
     "data": {
      "text/html": [
       "<p><br>"
      ],
      "text/plain": [
       "<IPython.core.display.HTML object>"
      ]
     },
     "metadata": {},
     "output_type": "display_data"
    },
    {
     "data": {
      "text/html": [
       "Training Accuracy: 93.541"
      ],
      "text/plain": [
       "<IPython.core.display.HTML object>"
      ]
     },
     "metadata": {},
     "output_type": "display_data"
    },
    {
     "data": {
      "text/html": [
       "<p><br>"
      ],
      "text/plain": [
       "<IPython.core.display.HTML object>"
      ]
     },
     "metadata": {},
     "output_type": "display_data"
    },
    {
     "data": {
      "text/html": [
       "<pre>                         precision    recall  f1-score   support\n",
       "\n",
       "             functional       0.92      0.98      0.95     28991\n",
       "functional needs repair       0.92      0.68      0.78      3885\n",
       "         non functional       0.97      0.92      0.94     20584\n",
       "\n",
       "               accuracy                           0.94     53460\n",
       "              macro avg       0.93      0.86      0.89     53460\n",
       "           weighted avg       0.94      0.94      0.93     53460\n",
       "</pre>"
      ],
      "text/plain": [
       "<IPython.core.display.HTML object>"
      ]
     },
     "metadata": {},
     "output_type": "display_data"
    },
    {
     "data": {
      "text/html": [
       "<p><br>"
      ],
      "text/plain": [
       "<IPython.core.display.HTML object>"
      ]
     },
     "metadata": {},
     "output_type": "display_data"
    },
    {
     "data": {
      "text/html": [
       "Computing cross-val score on training data..."
      ],
      "text/plain": [
       "<IPython.core.display.HTML object>"
      ]
     },
     "metadata": {},
     "output_type": "display_data"
    },
    {
     "data": {
      "text/html": [
       "<pre>\tALL DONE! scores: [0.80658436 0.80162738 0.8030303  0.80592967 0.80246914]</pre>"
      ],
      "text/plain": [
       "<IPython.core.display.HTML object>"
      ]
     },
     "metadata": {},
     "output_type": "display_data"
    },
    {
     "data": {
      "text/html": [
       "cross_val_score: 0.8039281705948372"
      ],
      "text/plain": [
       "<IPython.core.display.HTML object>"
      ]
     },
     "metadata": {},
     "output_type": "display_data"
    },
    {
     "data": {
      "text/html": [
       "<p><br>"
      ],
      "text/plain": [
       "<IPython.core.display.HTML object>"
      ]
     },
     "metadata": {},
     "output_type": "display_data"
    },
    {
     "data": {
      "text/html": [
       "Predicting labels on testing data..."
      ],
      "text/plain": [
       "<IPython.core.display.HTML object>"
      ]
     },
     "metadata": {},
     "output_type": "display_data"
    },
    {
     "data": {
      "text/html": [
       "<pre>\tALL DONE!</pre>"
      ],
      "text/plain": [
       "<IPython.core.display.HTML object>"
      ]
     },
     "metadata": {},
     "output_type": "display_data"
    },
    {
     "data": {
      "text/html": [
       "<p><br>"
      ],
      "text/plain": [
       "<IPython.core.display.HTML object>"
      ]
     },
     "metadata": {},
     "output_type": "display_data"
    },
    {
     "data": {
      "text/html": [
       "Testing Accuracy: 81.7003"
      ],
      "text/plain": [
       "<IPython.core.display.HTML object>"
      ]
     },
     "metadata": {},
     "output_type": "display_data"
    },
    {
     "data": {
      "text/html": [
       "<p><br>"
      ],
      "text/plain": [
       "<IPython.core.display.HTML object>"
      ]
     },
     "metadata": {},
     "output_type": "display_data"
    },
    {
     "data": {
      "text/html": [
       "<pre>                         precision    recall  f1-score   support\n",
       "\n",
       "             functional       0.81      0.90      0.85      3268\n",
       "functional needs repair       0.64      0.31      0.42       432\n",
       "         non functional       0.84      0.79      0.82      2240\n",
       "\n",
       "               accuracy                           0.82      5940\n",
       "              macro avg       0.77      0.67      0.70      5940\n",
       "           weighted avg       0.81      0.82      0.81      5940\n",
       "</pre>"
      ],
      "text/plain": [
       "<IPython.core.display.HTML object>"
      ]
     },
     "metadata": {},
     "output_type": "display_data"
    },
    {
     "data": {
      "text/html": [
       "<p><br>"
      ],
      "text/plain": [
       "<IPython.core.display.HTML object>"
      ]
     },
     "metadata": {},
     "output_type": "display_data"
    },
    {
     "data": {
      "text/html": [
       "Computing cross-val score on testing data..."
      ],
      "text/plain": [
       "<IPython.core.display.HTML object>"
      ]
     },
     "metadata": {},
     "output_type": "display_data"
    },
    {
     "data": {
      "text/html": [
       "<pre>\tALL DONE! scores: [0.7483165  0.76094276 0.74915825 0.76599327 0.75757576]</pre>"
      ],
      "text/plain": [
       "<IPython.core.display.HTML object>"
      ]
     },
     "metadata": {},
     "output_type": "display_data"
    },
    {
     "data": {
      "text/html": [
       "cross_val_score: 0.7563973063973064"
      ],
      "text/plain": [
       "<IPython.core.display.HTML object>"
      ]
     },
     "metadata": {},
     "output_type": "display_data"
    },
    {
     "data": {
      "text/html": [
       "<p><br>"
      ],
      "text/plain": [
       "<IPython.core.display.HTML object>"
      ]
     },
     "metadata": {},
     "output_type": "display_data"
    },
    {
     "data": {
      "text/html": [
       "Feature Importances:"
      ],
      "text/plain": [
       "<IPython.core.display.HTML object>"
      ]
     },
     "metadata": {},
     "output_type": "display_data"
    },
    {
     "data": {
      "text/html": [
       "<pre>[   ('quantity_target_encoded', 0.29202738),\n",
       "    ('waterpoint_type_target_encoded', 0.2191055),\n",
       "    ('region_code_target_encoded', 0.06949392),\n",
       "    ('extraction_type_target_encoded', 0.065464534),\n",
       "    ('management_target_encoded', 0.05055747),\n",
       "    ('source_target_encoded', 0.04882615),\n",
       "    ('amount_tsh', 0.04689818),\n",
       "    ('district_code_target_encoded', 0.04381281),\n",
       "    ('construction_year', 0.03356477),\n",
       "    ('longitude', 0.02878661),\n",
       "    ('latitude', 0.026879814),\n",
       "    ('water_quality_target_encoded', 0.026354488),\n",
       "    ('population', 0.02512701),\n",
       "    ('gps_height', 0.023101317)]</pre><p><br><br>"
      ],
      "text/plain": [
       "<IPython.core.display.HTML object>"
      ]
     },
     "metadata": {},
     "output_type": "display_data"
    }
   ],
   "source": [
    "if run_xgbclf:\n",
    "    best_parameters.update({'n_jobs':-1, 'verbosity':1, 'random_state': SEED})\n",
    "    xgbclf, _ , model_results = clf_run_trial(XGBClassifier(), best_parameters, best_parameters)"
   ]
  },
  {
   "cell_type": "markdown",
   "metadata": {},
   "source": [
    "<p><br><br>\n",
    "<h4>Build Final Model with ALL Labeled Data (Test + Validation)</h4>"
   ]
  },
  {
   "cell_type": "code",
   "execution_count": 56,
   "metadata": {},
   "outputs": [],
   "source": [
    "if run_xgbclf:\n",
    "    xgbclf = XGBClassifier()\n",
    "    del best_parameters['random_state']\n",
    "    xgbclf.set_params(**best_parameters)\n",
    "    xgbclf.fit(data_ALL_labeled, labels_encoded.status_group)"
   ]
  },
  {
   "cell_type": "markdown",
   "metadata": {},
   "source": [
    "<p><br><br>\n",
    "<h4>Make Predictions with Final Model on Unlabeled Predictors</h4>"
   ]
  },
  {
   "cell_type": "code",
   "execution_count": 57,
   "metadata": {},
   "outputs": [],
   "source": [
    "if run_xgbclf:\n",
    "    pred_unlabeled = xgbclf.predict(data_unlabeled)\n",
    "    pred_unlabeled"
   ]
  },
  {
   "cell_type": "markdown",
   "metadata": {},
   "source": [
    "<p><br><br>\n",
    "<h4>Save Validation Results to File</h4>"
   ]
  },
  {
   "cell_type": "code",
   "execution_count": 58,
   "metadata": {
    "tags": []
   },
   "outputs": [
    {
     "name": "stdout",
     "output_type": "stream",
     "text": [
      "updated model-results/models-results-3bf4b2d4e5a2fd6d3cd475979cf7b437.json\n"
     ]
    }
   ],
   "source": [
    "fm.save_json(model_results, f\"{model_results_fname}\")\n",
    "print(f\"updated {model_results_fname}\")"
   ]
  }
 ],
 "metadata": {
  "kernelspec": {
   "display_name": "Python 3.6.10 64-bit ('learn-env': conda)",
   "language": "python",
   "name": "python361064bitlearnenvconda6dc930ea082b425c82fd8a0b2d571658"
  },
  "language_info": {
   "codemirror_mode": {
    "name": "ipython",
    "version": 3
   },
   "file_extension": ".py",
   "mimetype": "text/x-python",
   "name": "python",
   "nbconvert_exporter": "python",
   "pygments_lexer": "ipython3",
   "version": "3.7.7"
  }
 },
 "nbformat": 4,
 "nbformat_minor": 4
}

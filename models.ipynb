{
 "cells": [
  {
   "cell_type": "markdown",
   "metadata": {},
   "source": [
    "<h2>Import Libraries</h2>"
   ]
  },
  {
   "cell_type": "code",
   "execution_count": 1,
   "metadata": {},
   "outputs": [],
   "source": [
    "from scjpnlib.utils.file_io import FileManager\n",
    "import os \n",
    "import scjpnlib.utils as scjpnutils\n",
    "import pickle\n",
    "import json\n",
    "from IPython.core.display import HTML, Markdown\n",
    "import html2text\n",
    "from bs4 import BeautifulSoup\n",
    "import pprint\n",
    "\n",
    "import pandas as pd\n",
    "import numpy as np\n",
    "\n",
    "from scjpnlib.utils.skl_transformers import LabelEncodingTransformer\n",
    "\n",
    "from sklearn.model_selection import GridSearchCV, cross_val_score\n",
    "import dask_ml.model_selection as dcv\n",
    "from dask.distributed import Client\n",
    "import joblib\n",
    "\n",
    "from sklearn.tree import DecisionTreeClassifier\n",
    "from sklearn.ensemble import RandomForestClassifier, VotingClassifier \n",
    "# import xgboost as xgb\n",
    "from xgboost import XGBClassifier\n",
    "from sklearn.metrics import classification_report\n",
    "from sklearn.metrics import accuracy_score\n",
    "\n",
    "%load_ext autoreload\n",
    "%autoreload 2\n",
    "\n",
    "n_jobs = 8\n",
    "\n",
    "LOG_MODEL_TRIALS = True"
   ]
  },
  {
   "cell_type": "markdown",
   "metadata": {},
   "source": [
    "## Read Configs for this Experiment"
   ]
  },
  {
   "cell_type": "code",
   "execution_count": 2,
   "metadata": {},
   "outputs": [
    {
     "data": {
      "text/plain": [
       "{'logging': {'dir': 'model-results'},\n",
       " 'cross_validation': {'k': {'grid_search': 3, 'score': 5}},\n",
       " 'dask': {'use': False,\n",
       "  'is_remote': False,\n",
       "  'local': {'n_workers': 1, 'n_jobs': 8, 'memory_limit': '16GB'},\n",
       "  'remote': {'scheduler_address': '35.230.13.87'}},\n",
       " 'SEED': 42,\n",
       " 'DecisionTreeClassifier': {'run': True,\n",
       "  'trials': {'run': True,\n",
       "   'array': [{'gridsearch': {'run': True,\n",
       "      'param_grid': {'criterion': ['entropy', 'gini'],\n",
       "       'splitter': ['best'],\n",
       "       'max_depth': [10, 50, 75, None],\n",
       "       'min_samples_split': [2],\n",
       "       'max_features': ['auto', 'sqrt', 'log2']},\n",
       "      'last_best': {'criterion': 'entropy',\n",
       "       'max_depth': 75,\n",
       "       'max_features': 'sqrt',\n",
       "       'min_samples_split': 2,\n",
       "       'splitter': 'best'}}}]},\n",
       "  'params': {'criterion': 'entropy',\n",
       "   'splitter': 'best',\n",
       "   'max_depth': None,\n",
       "   'min_samples_split': 2,\n",
       "   'max_features': 'sqrt'}},\n",
       " 'RandomForestClassifier': {'run': True,\n",
       "  'trials': {'run': True,\n",
       "   'array': [{'gridsearch': {'run': True,\n",
       "      'param_grid': {'bootstrap': [True, False],\n",
       "       'criterion': ['entropy', 'gini'],\n",
       "       'max_features': ['auto', 'sqrt', 'log2'],\n",
       "       'max_depth': [10, 50, 75, None],\n",
       "       'n_estimators': [100, 500, 1000]},\n",
       "      'last_best': {'bootstrap': False,\n",
       "       'criterion': 'gini',\n",
       "       'max_depth': 75,\n",
       "       'max_features': 'auto',\n",
       "       'n_estimators': 1000}}}]},\n",
       "  'params': {'bootstrap': False,\n",
       "   'criterion': 'gini',\n",
       "   'max_depth': 75,\n",
       "   'max_features': 'auto',\n",
       "   'n_estimators': 1000}},\n",
       " 'XGBClassifier': {'run': True,\n",
       "  'trials': {'run': True,\n",
       "   'array': [{'gridsearch': {'run': True,\n",
       "      'param_grid': {'n_estimators': [100, 1000],\n",
       "       'max_depth': [6, 10, 22],\n",
       "       'learning_rate': [0.1, 0.3],\n",
       "       'min_child_weight': [1, 3, 5],\n",
       "       'gamma': [0, 1, 2, 5]},\n",
       "      'last_best': {'n_estimators': 100}}}]},\n",
       "  'params': {'learning_rate': 0.1,\n",
       "   'max_depth': 5,\n",
       "   'min_child_weight': 1,\n",
       "   'subsample': 1.0,\n",
       "   'gamma': 0,\n",
       "   'n_estimators': 1000}}}"
      ]
     },
     "execution_count": 2,
     "metadata": {},
     "output_type": "execute_result"
    }
   ],
   "source": [
    "fm = FileManager()\n",
    "\n",
    "models_config = fm.load_json('models-config.txt')\n",
    "models_config"
   ]
  },
  {
   "cell_type": "code",
   "execution_count": 3,
   "metadata": {},
   "outputs": [],
   "source": [
    "is_data_cached = 'data_cached' in models_config\n",
    "data_config = models_config['data_cached'] if is_data_cached else fm.load_json('eda-config.txt')\n",
    "digest = data_config['digest'] if is_data_cached else scjpnutils.json_to_md5_hash_digest(data_config)"
   ]
  },
  {
   "cell_type": "code",
   "execution_count": 4,
   "metadata": {},
   "outputs": [
    {
     "name": "stdout",
     "output_type": "stream",
     "text": [
      "EDA description: (digest: d6a76cbd7fb874262adbd0e4a705fc31) 0.10 test_ratio\n"
     ]
    }
   ],
   "source": [
    "print(f\"EDA description: {'CACHED ' if is_data_cached else ''}(digest: {digest}) {data_config['eda_desc']['short']}\")"
   ]
  },
  {
   "cell_type": "code",
   "execution_count": 5,
   "metadata": {},
   "outputs": [],
   "source": [
    "if len(data_config['wrangled_data']['dir']) > 0:\n",
    "    WRANGLED_DATA_DIR = data_config['wrangled_data']['dir'] + \"/\"\n",
    "else:\n",
    "    WRANGLED_DATA_DIR = \"\"\n",
    "\n",
    "if len(data_config['labels']['dir']) > 0:\n",
    "    SAVE_LABELS_DIR = data_config['labels']['dir'] + \"/\"\n",
    "else:\n",
    "    SAVE_LABELS_DIR = \"\"\n",
    "    \n",
    "fname__train_predictors = WRANGLED_DATA_DIR + scjpnutils.get_data_fname(data_config, data_kwargs={'is_labels':False,'type':'train','is_cached':is_data_cached})\n",
    "fname__train_labels = SAVE_LABELS_DIR + scjpnutils.get_data_fname(data_config, data_kwargs={'is_labels':True,'type':'train','is_cached':is_data_cached})\n",
    "fname__validation_predictors = WRANGLED_DATA_DIR + scjpnutils.get_data_fname(data_config, data_kwargs={'is_labels':False,'type':'test','is_cached':is_data_cached})\n",
    "fname__validation_labels = SAVE_LABELS_DIR + scjpnutils.get_data_fname(data_config, data_kwargs={'is_labels':True,'type':'test','is_cached':is_data_cached})\n",
    "# fname__unlabeled_predictors = WRANGLED_DATA_DIR + scjpnutils.get_data_fname(eda_config, data_kwargs={'is_labels':False,'type':'unlabeled'})"
   ]
  },
  {
   "cell_type": "code",
   "execution_count": 6,
   "metadata": {},
   "outputs": [
    {
     "name": "stdout",
     "output_type": "stream",
     "text": [
      "modeling results will be saved to: model-results/models-results-d6a76cbd7fb874262adbd0e4a705fc31.json\n"
     ]
    }
   ],
   "source": [
    "if len(models_config['logging']['dir']) > 0:\n",
    "    MODEL_RESULTS_DIR = models_config['logging']['dir']\n",
    "    try:\n",
    "        os.makedirs(f\"{os.getcwd()}/{MODEL_RESULTS_DIR}\")\n",
    "    except FileExistsError:\n",
    "        pass\n",
    "    MODEL_RESULTS_DIR += \"/\"\n",
    "else:\n",
    "    MODEL_RESULTS_DIR = \"\"\n",
    "    \n",
    "model_results_fname = MODEL_RESULTS_DIR + scjpnutils.get_model_result_fname(data_config, data_kwargs={'is_cached':is_data_cached})\n",
    "print(f\"modeling results will be saved to: {model_results_fname}\")"
   ]
  },
  {
   "cell_type": "code",
   "execution_count": 7,
   "metadata": {},
   "outputs": [],
   "source": [
    "model_results = {}\n",
    "model_results['digest'] = digest\n",
    "model_results['modeling_results'] = {}"
   ]
  },
  {
   "cell_type": "code",
   "execution_count": 8,
   "metadata": {},
   "outputs": [],
   "source": [
    "SEED = models_config['SEED']\n",
    "model_results['seed'] = SEED"
   ]
  },
  {
   "cell_type": "code",
   "execution_count": 9,
   "metadata": {},
   "outputs": [],
   "source": [
    "K = models_config['cross_validation']['k']['grid_search'] # num folds for cross-val\n",
    "cross_val_score_K = models_config['cross_validation']['k']['score']"
   ]
  },
  {
   "cell_type": "markdown",
   "metadata": {},
   "source": [
    "<p><br>\n",
    "<h2>Load TEST/TRAIN Data</h2>"
   ]
  },
  {
   "cell_type": "code",
   "execution_count": 10,
   "metadata": {},
   "outputs": [
    {
     "name": "stdout",
     "output_type": "stream",
     "text": [
      "loaded preprocessing-results/wrangled-labeled-data-train-d6a76cbd7fb874262adbd0e4a705fc31.csv\n",
      "\n",
      "<class 'pandas.core.frame.DataFrame'>\n",
      "Int64Index: 53460 entries, 0 to 74247\n",
      "Data columns (total 21 columns):\n",
      " #   Column                            Non-Null Count  Dtype  \n",
      "---  ------                            --------------  -----  \n",
      " 0   amount_tsh                        53460 non-null  float64\n",
      " 1   gps_height                        53460 non-null  int64  \n",
      " 2   longitude                         53460 non-null  float64\n",
      " 3   latitude                          53460 non-null  float64\n",
      " 4   population                        53460 non-null  int64  \n",
      " 5   public_meeting                    53460 non-null  bool   \n",
      " 6   permit                            53460 non-null  bool   \n",
      " 7   pump_age                          53460 non-null  int64  \n",
      " 8   installer_target_encoded          53460 non-null  float64\n",
      " 9   basin_target_encoded              53460 non-null  float64\n",
      " 10  region_code_target_encoded        53460 non-null  float64\n",
      " 11  district_code_target_encoded      53460 non-null  float64\n",
      " 12  scheme_management_target_encoded  53460 non-null  float64\n",
      " 13  scheme_name_target_encoded        53460 non-null  float64\n",
      " 14  extraction_type_target_encoded    53460 non-null  float64\n",
      " 15  management_target_encoded         53460 non-null  float64\n",
      " 16  payment_type_target_encoded       53460 non-null  float64\n",
      " 17  water_quality_target_encoded      53460 non-null  float64\n",
      " 18  quantity_target_encoded           53460 non-null  float64\n",
      " 19  source_target_encoded             53460 non-null  float64\n",
      " 20  waterpoint_type_target_encoded    53460 non-null  float64\n",
      "dtypes: bool(2), float64(16), int64(3)\n",
      "memory usage: 8.3 MB\n"
     ]
    }
   ],
   "source": [
    "data_train = pd.read_csv(fname__train_predictors, index_col=0).sort_index()\n",
    "print(f\"loaded {fname__train_predictors}\\n\")\n",
    "\n",
    "data_train.info()"
   ]
  },
  {
   "cell_type": "code",
   "execution_count": 11,
   "metadata": {},
   "outputs": [
    {
     "data": {
      "text/plain": [
       "Int64Index([    0,     1,     2,     3,     5,     7,     8,     9,    11,\n",
       "               12,\n",
       "            ...\n",
       "            74235, 74236, 74237, 74238, 74239, 74240, 74242, 74243, 74246,\n",
       "            74247],\n",
       "           dtype='int64', name='id', length=53460)"
      ]
     },
     "execution_count": 11,
     "metadata": {},
     "output_type": "execute_result"
    }
   ],
   "source": [
    "data_train.index"
   ]
  },
  {
   "cell_type": "code",
   "execution_count": 12,
   "metadata": {},
   "outputs": [
    {
     "name": "stdout",
     "output_type": "stream",
     "text": [
      "loaded preprocessing-results/labels-train-d6a76cbd7fb874262adbd0e4a705fc31.csv\n",
      "\n",
      "<class 'pandas.core.frame.DataFrame'>\n",
      "Int64Index: 53460 entries, 0 to 74247\n",
      "Data columns (total 1 columns):\n",
      " #   Column        Non-Null Count  Dtype \n",
      "---  ------        --------------  ----- \n",
      " 0   status_group  53460 non-null  object\n",
      "dtypes: object(1)\n",
      "memory usage: 835.3+ KB\n"
     ]
    }
   ],
   "source": [
    "y_train = pd.read_csv(fname__train_labels, index_col=0).sort_index()\n",
    "print(f\"loaded {fname__train_labels}\\n\")\n",
    "\n",
    "y_train.info()"
   ]
  },
  {
   "cell_type": "code",
   "execution_count": 13,
   "metadata": {},
   "outputs": [
    {
     "data": {
      "text/plain": [
       "Int64Index([    0,     1,     2,     3,     5,     7,     8,     9,    11,\n",
       "               12,\n",
       "            ...\n",
       "            74235, 74236, 74237, 74238, 74239, 74240, 74242, 74243, 74246,\n",
       "            74247],\n",
       "           dtype='int64', name='id', length=53460)"
      ]
     },
     "execution_count": 13,
     "metadata": {},
     "output_type": "execute_result"
    }
   ],
   "source": [
    "y_train.index"
   ]
  },
  {
   "cell_type": "code",
   "execution_count": 14,
   "metadata": {},
   "outputs": [
    {
     "data": {
      "text/plain": [
       "array([2, 0, 1])"
      ]
     },
     "execution_count": 14,
     "metadata": {},
     "output_type": "execute_result"
    }
   ],
   "source": [
    "let_labels = LabelEncodingTransformer(['status_group'])\n",
    "y_train = let_labels.fit_transform(y_train)\n",
    "y_train.status_group.unique()"
   ]
  },
  {
   "cell_type": "code",
   "execution_count": 15,
   "metadata": {},
   "outputs": [
    {
     "data": {
      "text/plain": [
       "array(['functional', 'functional needs repair', 'non functional'],\n",
       "      dtype=object)"
      ]
     },
     "execution_count": 15,
     "metadata": {},
     "output_type": "execute_result"
    }
   ],
   "source": [
    "let_labels.labelencoder.classes_"
   ]
  },
  {
   "cell_type": "code",
   "execution_count": 16,
   "metadata": {},
   "outputs": [],
   "source": [
    "classes_train = list(let_labels.labelencoder.classes_)"
   ]
  },
  {
   "cell_type": "code",
   "execution_count": 17,
   "metadata": {},
   "outputs": [
    {
     "data": {
      "text/html": [
       "<div>\n",
       "<style scoped>\n",
       "    .dataframe tbody tr th:only-of-type {\n",
       "        vertical-align: middle;\n",
       "    }\n",
       "\n",
       "    .dataframe tbody tr th {\n",
       "        vertical-align: top;\n",
       "    }\n",
       "\n",
       "    .dataframe thead th {\n",
       "        text-align: right;\n",
       "    }\n",
       "</style>\n",
       "<table border=\"1\" class=\"dataframe\">\n",
       "  <thead>\n",
       "    <tr style=\"text-align: right;\">\n",
       "      <th></th>\n",
       "      <th>amount_tsh</th>\n",
       "      <th>gps_height</th>\n",
       "      <th>longitude</th>\n",
       "      <th>latitude</th>\n",
       "      <th>population</th>\n",
       "      <th>public_meeting</th>\n",
       "      <th>permit</th>\n",
       "      <th>pump_age</th>\n",
       "      <th>installer_target_encoded</th>\n",
       "      <th>basin_target_encoded</th>\n",
       "      <th>...</th>\n",
       "      <th>scheme_management_target_encoded</th>\n",
       "      <th>scheme_name_target_encoded</th>\n",
       "      <th>extraction_type_target_encoded</th>\n",
       "      <th>management_target_encoded</th>\n",
       "      <th>payment_type_target_encoded</th>\n",
       "      <th>water_quality_target_encoded</th>\n",
       "      <th>quantity_target_encoded</th>\n",
       "      <th>source_target_encoded</th>\n",
       "      <th>waterpoint_type_target_encoded</th>\n",
       "      <th>status_group</th>\n",
       "    </tr>\n",
       "    <tr>\n",
       "      <th>id</th>\n",
       "      <th></th>\n",
       "      <th></th>\n",
       "      <th></th>\n",
       "      <th></th>\n",
       "      <th></th>\n",
       "      <th></th>\n",
       "      <th></th>\n",
       "      <th></th>\n",
       "      <th></th>\n",
       "      <th></th>\n",
       "      <th></th>\n",
       "      <th></th>\n",
       "      <th></th>\n",
       "      <th></th>\n",
       "      <th></th>\n",
       "      <th></th>\n",
       "      <th></th>\n",
       "      <th></th>\n",
       "      <th></th>\n",
       "      <th></th>\n",
       "      <th></th>\n",
       "    </tr>\n",
       "  </thead>\n",
       "  <tbody>\n",
       "    <tr>\n",
       "      <th>0</th>\n",
       "      <td>0.0</td>\n",
       "      <td>0</td>\n",
       "      <td>33.125828</td>\n",
       "      <td>-5.118154</td>\n",
       "      <td>0</td>\n",
       "      <td>False</td>\n",
       "      <td>True</td>\n",
       "      <td>0</td>\n",
       "      <td>0.788043</td>\n",
       "      <td>0.922970</td>\n",
       "      <td>...</td>\n",
       "      <td>0.907233</td>\n",
       "      <td>0.898294</td>\n",
       "      <td>0.623434</td>\n",
       "      <td>0.924005</td>\n",
       "      <td>1.086092</td>\n",
       "      <td>0.885089</td>\n",
       "      <td>0.625598</td>\n",
       "      <td>0.953780</td>\n",
       "      <td>0.708085</td>\n",
       "      <td>2</td>\n",
       "    </tr>\n",
       "    <tr>\n",
       "      <th>1</th>\n",
       "      <td>0.0</td>\n",
       "      <td>1978</td>\n",
       "      <td>34.770717</td>\n",
       "      <td>-9.395642</td>\n",
       "      <td>20</td>\n",
       "      <td>True</td>\n",
       "      <td>False</td>\n",
       "      <td>3</td>\n",
       "      <td>0.490476</td>\n",
       "      <td>0.679928</td>\n",
       "      <td>...</td>\n",
       "      <td>0.983733</td>\n",
       "      <td>0.898294</td>\n",
       "      <td>0.665860</td>\n",
       "      <td>0.924005</td>\n",
       "      <td>1.028301</td>\n",
       "      <td>0.793384</td>\n",
       "      <td>0.625598</td>\n",
       "      <td>0.953780</td>\n",
       "      <td>0.708085</td>\n",
       "      <td>0</td>\n",
       "    </tr>\n",
       "    <tr>\n",
       "      <th>2</th>\n",
       "      <td>0.0</td>\n",
       "      <td>0</td>\n",
       "      <td>36.115056</td>\n",
       "      <td>-6.279268</td>\n",
       "      <td>0</td>\n",
       "      <td>True</td>\n",
       "      <td>True</td>\n",
       "      <td>0</td>\n",
       "      <td>1.140351</td>\n",
       "      <td>0.909414</td>\n",
       "      <td>...</td>\n",
       "      <td>0.907233</td>\n",
       "      <td>0.750000</td>\n",
       "      <td>1.206856</td>\n",
       "      <td>0.924005</td>\n",
       "      <td>0.602198</td>\n",
       "      <td>0.793384</td>\n",
       "      <td>0.861791</td>\n",
       "      <td>0.981335</td>\n",
       "      <td>1.162505</td>\n",
       "      <td>0</td>\n",
       "    </tr>\n",
       "    <tr>\n",
       "      <th>3</th>\n",
       "      <td>10.0</td>\n",
       "      <td>1639</td>\n",
       "      <td>37.147432</td>\n",
       "      <td>-3.187555</td>\n",
       "      <td>25</td>\n",
       "      <td>True</td>\n",
       "      <td>True</td>\n",
       "      <td>14</td>\n",
       "      <td>0.237132</td>\n",
       "      <td>0.746142</td>\n",
       "      <td>...</td>\n",
       "      <td>0.471044</td>\n",
       "      <td>0.103704</td>\n",
       "      <td>0.699696</td>\n",
       "      <td>0.435330</td>\n",
       "      <td>0.602198</td>\n",
       "      <td>0.793384</td>\n",
       "      <td>0.625598</td>\n",
       "      <td>0.677102</td>\n",
       "      <td>0.677651</td>\n",
       "      <td>0</td>\n",
       "    </tr>\n",
       "    <tr>\n",
       "      <th>5</th>\n",
       "      <td>50.0</td>\n",
       "      <td>28</td>\n",
       "      <td>39.286124</td>\n",
       "      <td>-6.972403</td>\n",
       "      <td>6922</td>\n",
       "      <td>True</td>\n",
       "      <td>False</td>\n",
       "      <td>0</td>\n",
       "      <td>0.441379</td>\n",
       "      <td>0.909414</td>\n",
       "      <td>...</td>\n",
       "      <td>0.614650</td>\n",
       "      <td>0.898294</td>\n",
       "      <td>0.854037</td>\n",
       "      <td>0.477028</td>\n",
       "      <td>0.602198</td>\n",
       "      <td>0.793384</td>\n",
       "      <td>0.625598</td>\n",
       "      <td>0.981335</td>\n",
       "      <td>1.162505</td>\n",
       "      <td>0</td>\n",
       "    </tr>\n",
       "    <tr>\n",
       "      <th>...</th>\n",
       "      <td>...</td>\n",
       "      <td>...</td>\n",
       "      <td>...</td>\n",
       "      <td>...</td>\n",
       "      <td>...</td>\n",
       "      <td>...</td>\n",
       "      <td>...</td>\n",
       "      <td>...</td>\n",
       "      <td>...</td>\n",
       "      <td>...</td>\n",
       "      <td>...</td>\n",
       "      <td>...</td>\n",
       "      <td>...</td>\n",
       "      <td>...</td>\n",
       "      <td>...</td>\n",
       "      <td>...</td>\n",
       "      <td>...</td>\n",
       "      <td>...</td>\n",
       "      <td>...</td>\n",
       "      <td>...</td>\n",
       "      <td>...</td>\n",
       "    </tr>\n",
       "    <tr>\n",
       "      <th>74240</th>\n",
       "      <td>0.0</td>\n",
       "      <td>1183</td>\n",
       "      <td>37.007726</td>\n",
       "      <td>-3.280868</td>\n",
       "      <td>350</td>\n",
       "      <td>True</td>\n",
       "      <td>False</td>\n",
       "      <td>1</td>\n",
       "      <td>0.619651</td>\n",
       "      <td>0.746142</td>\n",
       "      <td>...</td>\n",
       "      <td>0.528367</td>\n",
       "      <td>0.898294</td>\n",
       "      <td>0.699696</td>\n",
       "      <td>0.537719</td>\n",
       "      <td>1.086092</td>\n",
       "      <td>0.793384</td>\n",
       "      <td>0.861791</td>\n",
       "      <td>0.666342</td>\n",
       "      <td>0.677651</td>\n",
       "      <td>0</td>\n",
       "    </tr>\n",
       "    <tr>\n",
       "      <th>74242</th>\n",
       "      <td>0.0</td>\n",
       "      <td>0</td>\n",
       "      <td>33.724987</td>\n",
       "      <td>-8.940758</td>\n",
       "      <td>0</td>\n",
       "      <td>False</td>\n",
       "      <td>False</td>\n",
       "      <td>0</td>\n",
       "      <td>0.867585</td>\n",
       "      <td>0.679928</td>\n",
       "      <td>...</td>\n",
       "      <td>0.907233</td>\n",
       "      <td>0.898294</td>\n",
       "      <td>0.699696</td>\n",
       "      <td>0.704487</td>\n",
       "      <td>0.683778</td>\n",
       "      <td>0.793384</td>\n",
       "      <td>0.625598</td>\n",
       "      <td>0.735053</td>\n",
       "      <td>0.677651</td>\n",
       "      <td>0</td>\n",
       "    </tr>\n",
       "    <tr>\n",
       "      <th>74243</th>\n",
       "      <td>0.0</td>\n",
       "      <td>1188</td>\n",
       "      <td>33.963539</td>\n",
       "      <td>-1.429477</td>\n",
       "      <td>95</td>\n",
       "      <td>True</td>\n",
       "      <td>False</td>\n",
       "      <td>29</td>\n",
       "      <td>0.836638</td>\n",
       "      <td>0.914632</td>\n",
       "      <td>...</td>\n",
       "      <td>0.907233</td>\n",
       "      <td>2.000000</td>\n",
       "      <td>0.854037</td>\n",
       "      <td>0.924005</td>\n",
       "      <td>1.028301</td>\n",
       "      <td>0.793384</td>\n",
       "      <td>0.625598</td>\n",
       "      <td>1.588321</td>\n",
       "      <td>1.162505</td>\n",
       "      <td>2</td>\n",
       "    </tr>\n",
       "    <tr>\n",
       "      <th>74246</th>\n",
       "      <td>50.0</td>\n",
       "      <td>1428</td>\n",
       "      <td>35.630481</td>\n",
       "      <td>-7.710549</td>\n",
       "      <td>1</td>\n",
       "      <td>True</td>\n",
       "      <td>True</td>\n",
       "      <td>11</td>\n",
       "      <td>1.125000</td>\n",
       "      <td>0.679928</td>\n",
       "      <td>...</td>\n",
       "      <td>0.907233</td>\n",
       "      <td>0.962963</td>\n",
       "      <td>0.699696</td>\n",
       "      <td>0.924005</td>\n",
       "      <td>0.602198</td>\n",
       "      <td>0.793384</td>\n",
       "      <td>1.946499</td>\n",
       "      <td>0.677102</td>\n",
       "      <td>0.677651</td>\n",
       "      <td>2</td>\n",
       "    </tr>\n",
       "    <tr>\n",
       "      <th>74247</th>\n",
       "      <td>50.0</td>\n",
       "      <td>965</td>\n",
       "      <td>35.432998</td>\n",
       "      <td>-10.639270</td>\n",
       "      <td>900</td>\n",
       "      <td>True</td>\n",
       "      <td>True</td>\n",
       "      <td>4</td>\n",
       "      <td>0.825628</td>\n",
       "      <td>1.177415</td>\n",
       "      <td>...</td>\n",
       "      <td>0.907233</td>\n",
       "      <td>0.256410</td>\n",
       "      <td>1.645411</td>\n",
       "      <td>0.924005</td>\n",
       "      <td>0.602198</td>\n",
       "      <td>0.793384</td>\n",
       "      <td>1.946499</td>\n",
       "      <td>0.735053</td>\n",
       "      <td>0.677651</td>\n",
       "      <td>2</td>\n",
       "    </tr>\n",
       "  </tbody>\n",
       "</table>\n",
       "<p>53460 rows × 22 columns</p>\n",
       "</div>"
      ],
      "text/plain": [
       "       amount_tsh  gps_height  longitude   latitude  population  \\\n",
       "id                                                                \n",
       "0             0.0           0  33.125828  -5.118154           0   \n",
       "1             0.0        1978  34.770717  -9.395642          20   \n",
       "2             0.0           0  36.115056  -6.279268           0   \n",
       "3            10.0        1639  37.147432  -3.187555          25   \n",
       "5            50.0          28  39.286124  -6.972403        6922   \n",
       "...           ...         ...        ...        ...         ...   \n",
       "74240         0.0        1183  37.007726  -3.280868         350   \n",
       "74242         0.0           0  33.724987  -8.940758           0   \n",
       "74243         0.0        1188  33.963539  -1.429477          95   \n",
       "74246        50.0        1428  35.630481  -7.710549           1   \n",
       "74247        50.0         965  35.432998 -10.639270         900   \n",
       "\n",
       "       public_meeting  permit  pump_age  installer_target_encoded  \\\n",
       "id                                                                  \n",
       "0               False    True         0                  0.788043   \n",
       "1                True   False         3                  0.490476   \n",
       "2                True    True         0                  1.140351   \n",
       "3                True    True        14                  0.237132   \n",
       "5                True   False         0                  0.441379   \n",
       "...               ...     ...       ...                       ...   \n",
       "74240            True   False         1                  0.619651   \n",
       "74242           False   False         0                  0.867585   \n",
       "74243            True   False        29                  0.836638   \n",
       "74246            True    True        11                  1.125000   \n",
       "74247            True    True         4                  0.825628   \n",
       "\n",
       "       basin_target_encoded  ...  scheme_management_target_encoded  \\\n",
       "id                           ...                                     \n",
       "0                  0.922970  ...                          0.907233   \n",
       "1                  0.679928  ...                          0.983733   \n",
       "2                  0.909414  ...                          0.907233   \n",
       "3                  0.746142  ...                          0.471044   \n",
       "5                  0.909414  ...                          0.614650   \n",
       "...                     ...  ...                               ...   \n",
       "74240              0.746142  ...                          0.528367   \n",
       "74242              0.679928  ...                          0.907233   \n",
       "74243              0.914632  ...                          0.907233   \n",
       "74246              0.679928  ...                          0.907233   \n",
       "74247              1.177415  ...                          0.907233   \n",
       "\n",
       "       scheme_name_target_encoded  extraction_type_target_encoded  \\\n",
       "id                                                                  \n",
       "0                        0.898294                        0.623434   \n",
       "1                        0.898294                        0.665860   \n",
       "2                        0.750000                        1.206856   \n",
       "3                        0.103704                        0.699696   \n",
       "5                        0.898294                        0.854037   \n",
       "...                           ...                             ...   \n",
       "74240                    0.898294                        0.699696   \n",
       "74242                    0.898294                        0.699696   \n",
       "74243                    2.000000                        0.854037   \n",
       "74246                    0.962963                        0.699696   \n",
       "74247                    0.256410                        1.645411   \n",
       "\n",
       "       management_target_encoded  payment_type_target_encoded  \\\n",
       "id                                                              \n",
       "0                       0.924005                     1.086092   \n",
       "1                       0.924005                     1.028301   \n",
       "2                       0.924005                     0.602198   \n",
       "3                       0.435330                     0.602198   \n",
       "5                       0.477028                     0.602198   \n",
       "...                          ...                          ...   \n",
       "74240                   0.537719                     1.086092   \n",
       "74242                   0.704487                     0.683778   \n",
       "74243                   0.924005                     1.028301   \n",
       "74246                   0.924005                     0.602198   \n",
       "74247                   0.924005                     0.602198   \n",
       "\n",
       "       water_quality_target_encoded  quantity_target_encoded  \\\n",
       "id                                                             \n",
       "0                          0.885089                 0.625598   \n",
       "1                          0.793384                 0.625598   \n",
       "2                          0.793384                 0.861791   \n",
       "3                          0.793384                 0.625598   \n",
       "5                          0.793384                 0.625598   \n",
       "...                             ...                      ...   \n",
       "74240                      0.793384                 0.861791   \n",
       "74242                      0.793384                 0.625598   \n",
       "74243                      0.793384                 0.625598   \n",
       "74246                      0.793384                 1.946499   \n",
       "74247                      0.793384                 1.946499   \n",
       "\n",
       "       source_target_encoded  waterpoint_type_target_encoded  status_group  \n",
       "id                                                                          \n",
       "0                   0.953780                        0.708085             2  \n",
       "1                   0.953780                        0.708085             0  \n",
       "2                   0.981335                        1.162505             0  \n",
       "3                   0.677102                        0.677651             0  \n",
       "5                   0.981335                        1.162505             0  \n",
       "...                      ...                             ...           ...  \n",
       "74240               0.666342                        0.677651             0  \n",
       "74242               0.735053                        0.677651             0  \n",
       "74243               1.588321                        1.162505             2  \n",
       "74246               0.677102                        0.677651             2  \n",
       "74247               0.735053                        0.677651             2  \n",
       "\n",
       "[53460 rows x 22 columns]"
      ]
     },
     "execution_count": 17,
     "metadata": {},
     "output_type": "execute_result"
    }
   ],
   "source": [
    "data_train_with_target = pd.concat([data_train, y_train], axis=1, join='inner')\n",
    "data_train_with_target"
   ]
  },
  {
   "cell_type": "code",
   "execution_count": 18,
   "metadata": {},
   "outputs": [
    {
     "name": "stdout",
     "output_type": "stream",
     "text": [
      "loaded preprocessing-results/wrangled-labeled-data-test-d6a76cbd7fb874262adbd0e4a705fc31.csv\n",
      "\n",
      "<class 'pandas.core.frame.DataFrame'>\n",
      "Int64Index: 5940 entries, 4 to 74229\n",
      "Data columns (total 21 columns):\n",
      " #   Column                            Non-Null Count  Dtype  \n",
      "---  ------                            --------------  -----  \n",
      " 0   amount_tsh                        5940 non-null   float64\n",
      " 1   gps_height                        5940 non-null   int64  \n",
      " 2   longitude                         5940 non-null   float64\n",
      " 3   latitude                          5940 non-null   float64\n",
      " 4   population                        5940 non-null   int64  \n",
      " 5   public_meeting                    5940 non-null   bool   \n",
      " 6   permit                            5940 non-null   bool   \n",
      " 7   pump_age                          5940 non-null   int64  \n",
      " 8   installer_target_encoded          5940 non-null   float64\n",
      " 9   basin_target_encoded              5940 non-null   float64\n",
      " 10  region_code_target_encoded        5940 non-null   float64\n",
      " 11  district_code_target_encoded      5940 non-null   float64\n",
      " 12  scheme_management_target_encoded  5940 non-null   float64\n",
      " 13  scheme_name_target_encoded        5940 non-null   float64\n",
      " 14  extraction_type_target_encoded    5940 non-null   float64\n",
      " 15  management_target_encoded         5940 non-null   float64\n",
      " 16  payment_type_target_encoded       5940 non-null   float64\n",
      " 17  water_quality_target_encoded      5940 non-null   float64\n",
      " 18  quantity_target_encoded           5940 non-null   float64\n",
      " 19  source_target_encoded             5940 non-null   float64\n",
      " 20  waterpoint_type_target_encoded    5940 non-null   float64\n",
      "dtypes: bool(2), float64(16), int64(3)\n",
      "memory usage: 939.7 KB\n"
     ]
    }
   ],
   "source": [
    "data_test = pd.read_csv(fname__validation_predictors, index_col=0).sort_index()\n",
    "print(f\"loaded {fname__validation_predictors}\\n\")\n",
    "\n",
    "data_test.info()"
   ]
  },
  {
   "cell_type": "code",
   "execution_count": 19,
   "metadata": {},
   "outputs": [
    {
     "data": {
      "text/plain": [
       "Int64Index([    4,     6,    40,    41,    46,    66,    75,    84,    96,\n",
       "              105,\n",
       "            ...\n",
       "            74140, 74145, 74158, 74166, 74177, 74195, 74199, 74214, 74215,\n",
       "            74229],\n",
       "           dtype='int64', name='id', length=5940)"
      ]
     },
     "execution_count": 19,
     "metadata": {},
     "output_type": "execute_result"
    }
   ],
   "source": [
    "data_test.index"
   ]
  },
  {
   "cell_type": "code",
   "execution_count": 20,
   "metadata": {},
   "outputs": [
    {
     "name": "stdout",
     "output_type": "stream",
     "text": [
      "loaded preprocessing-results/labels-test-d6a76cbd7fb874262adbd0e4a705fc31.csv\n",
      "\n",
      "<class 'pandas.core.frame.DataFrame'>\n",
      "Int64Index: 5940 entries, 4 to 74229\n",
      "Data columns (total 1 columns):\n",
      " #   Column        Non-Null Count  Dtype \n",
      "---  ------        --------------  ----- \n",
      " 0   status_group  5940 non-null   object\n",
      "dtypes: object(1)\n",
      "memory usage: 92.8+ KB\n"
     ]
    }
   ],
   "source": [
    "y_test = pd.read_csv(fname__validation_labels, index_col=0).sort_index()\n",
    "print(f\"loaded {fname__validation_labels}\\n\")\n",
    "\n",
    "y_test.info()"
   ]
  },
  {
   "cell_type": "code",
   "execution_count": 21,
   "metadata": {},
   "outputs": [
    {
     "data": {
      "text/plain": [
       "Int64Index([    4,     6,    40,    41,    46,    66,    75,    84,    96,\n",
       "              105,\n",
       "            ...\n",
       "            74140, 74145, 74158, 74166, 74177, 74195, 74199, 74214, 74215,\n",
       "            74229],\n",
       "           dtype='int64', name='id', length=5940)"
      ]
     },
     "execution_count": 21,
     "metadata": {},
     "output_type": "execute_result"
    }
   ],
   "source": [
    "y_test.index"
   ]
  },
  {
   "cell_type": "code",
   "execution_count": 22,
   "metadata": {},
   "outputs": [
    {
     "data": {
      "text/plain": [
       "array([2, 0, 1])"
      ]
     },
     "execution_count": 22,
     "metadata": {},
     "output_type": "execute_result"
    }
   ],
   "source": [
    "y_test = let_labels.fit_transform(y_test)\n",
    "y_test.status_group.unique()"
   ]
  },
  {
   "cell_type": "code",
   "execution_count": 23,
   "metadata": {},
   "outputs": [
    {
     "data": {
      "text/plain": [
       "array(['functional', 'functional needs repair', 'non functional'],\n",
       "      dtype=object)"
      ]
     },
     "execution_count": 23,
     "metadata": {},
     "output_type": "execute_result"
    }
   ],
   "source": [
    "let_labels.labelencoder.classes_"
   ]
  },
  {
   "cell_type": "code",
   "execution_count": 24,
   "metadata": {},
   "outputs": [],
   "source": [
    "classes_test = list(let_labels.labelencoder.classes_)"
   ]
  },
  {
   "cell_type": "code",
   "execution_count": 25,
   "metadata": {},
   "outputs": [
    {
     "data": {
      "text/html": [
       "<div>\n",
       "<style scoped>\n",
       "    .dataframe tbody tr th:only-of-type {\n",
       "        vertical-align: middle;\n",
       "    }\n",
       "\n",
       "    .dataframe tbody tr th {\n",
       "        vertical-align: top;\n",
       "    }\n",
       "\n",
       "    .dataframe thead th {\n",
       "        text-align: right;\n",
       "    }\n",
       "</style>\n",
       "<table border=\"1\" class=\"dataframe\">\n",
       "  <thead>\n",
       "    <tr style=\"text-align: right;\">\n",
       "      <th></th>\n",
       "      <th>amount_tsh</th>\n",
       "      <th>gps_height</th>\n",
       "      <th>longitude</th>\n",
       "      <th>latitude</th>\n",
       "      <th>population</th>\n",
       "      <th>public_meeting</th>\n",
       "      <th>permit</th>\n",
       "      <th>pump_age</th>\n",
       "      <th>installer_target_encoded</th>\n",
       "      <th>basin_target_encoded</th>\n",
       "      <th>...</th>\n",
       "      <th>scheme_management_target_encoded</th>\n",
       "      <th>scheme_name_target_encoded</th>\n",
       "      <th>extraction_type_target_encoded</th>\n",
       "      <th>management_target_encoded</th>\n",
       "      <th>payment_type_target_encoded</th>\n",
       "      <th>water_quality_target_encoded</th>\n",
       "      <th>quantity_target_encoded</th>\n",
       "      <th>source_target_encoded</th>\n",
       "      <th>waterpoint_type_target_encoded</th>\n",
       "      <th>status_group</th>\n",
       "    </tr>\n",
       "    <tr>\n",
       "      <th>id</th>\n",
       "      <th></th>\n",
       "      <th></th>\n",
       "      <th></th>\n",
       "      <th></th>\n",
       "      <th></th>\n",
       "      <th></th>\n",
       "      <th></th>\n",
       "      <th></th>\n",
       "      <th></th>\n",
       "      <th></th>\n",
       "      <th></th>\n",
       "      <th></th>\n",
       "      <th></th>\n",
       "      <th></th>\n",
       "      <th></th>\n",
       "      <th></th>\n",
       "      <th></th>\n",
       "      <th></th>\n",
       "      <th></th>\n",
       "      <th></th>\n",
       "      <th></th>\n",
       "    </tr>\n",
       "  </thead>\n",
       "  <tbody>\n",
       "    <tr>\n",
       "      <th>4</th>\n",
       "      <td>0.0</td>\n",
       "      <td>0</td>\n",
       "      <td>36.164893</td>\n",
       "      <td>-6.099289</td>\n",
       "      <td>0</td>\n",
       "      <td>True</td>\n",
       "      <td>True</td>\n",
       "      <td>0</td>\n",
       "      <td>0.600000</td>\n",
       "      <td>0.909414</td>\n",
       "      <td>...</td>\n",
       "      <td>0.907233</td>\n",
       "      <td>0.898294</td>\n",
       "      <td>0.594223</td>\n",
       "      <td>0.924005</td>\n",
       "      <td>1.086092</td>\n",
       "      <td>0.793384</td>\n",
       "      <td>1.946499</td>\n",
       "      <td>0.953780</td>\n",
       "      <td>0.708085</td>\n",
       "      <td>2</td>\n",
       "    </tr>\n",
       "    <tr>\n",
       "      <th>6</th>\n",
       "      <td>0.0</td>\n",
       "      <td>0</td>\n",
       "      <td>33.229880</td>\n",
       "      <td>-3.852983</td>\n",
       "      <td>0</td>\n",
       "      <td>True</td>\n",
       "      <td>True</td>\n",
       "      <td>0</td>\n",
       "      <td>1.274706</td>\n",
       "      <td>0.776687</td>\n",
       "      <td>...</td>\n",
       "      <td>0.907233</td>\n",
       "      <td>0.898294</td>\n",
       "      <td>1.645411</td>\n",
       "      <td>0.924005</td>\n",
       "      <td>1.028301</td>\n",
       "      <td>0.793384</td>\n",
       "      <td>0.747809</td>\n",
       "      <td>0.953780</td>\n",
       "      <td>1.692281</td>\n",
       "      <td>2</td>\n",
       "    </tr>\n",
       "    <tr>\n",
       "      <th>40</th>\n",
       "      <td>0.0</td>\n",
       "      <td>1636</td>\n",
       "      <td>37.579079</td>\n",
       "      <td>-7.082958</td>\n",
       "      <td>560</td>\n",
       "      <td>True</td>\n",
       "      <td>True</td>\n",
       "      <td>7</td>\n",
       "      <td>0.000000</td>\n",
       "      <td>0.909414</td>\n",
       "      <td>...</td>\n",
       "      <td>0.907233</td>\n",
       "      <td>0.333333</td>\n",
       "      <td>0.699696</td>\n",
       "      <td>0.924005</td>\n",
       "      <td>1.028301</td>\n",
       "      <td>0.793384</td>\n",
       "      <td>0.625598</td>\n",
       "      <td>0.735053</td>\n",
       "      <td>0.677651</td>\n",
       "      <td>0</td>\n",
       "    </tr>\n",
       "    <tr>\n",
       "      <th>41</th>\n",
       "      <td>50.0</td>\n",
       "      <td>5</td>\n",
       "      <td>39.228066</td>\n",
       "      <td>-6.903605</td>\n",
       "      <td>200</td>\n",
       "      <td>False</td>\n",
       "      <td>False</td>\n",
       "      <td>3</td>\n",
       "      <td>0.860597</td>\n",
       "      <td>0.909414</td>\n",
       "      <td>...</td>\n",
       "      <td>0.614650</td>\n",
       "      <td>0.898294</td>\n",
       "      <td>0.854037</td>\n",
       "      <td>0.477028</td>\n",
       "      <td>0.602198</td>\n",
       "      <td>0.793384</td>\n",
       "      <td>0.625598</td>\n",
       "      <td>0.981335</td>\n",
       "      <td>0.677651</td>\n",
       "      <td>0</td>\n",
       "    </tr>\n",
       "    <tr>\n",
       "      <th>46</th>\n",
       "      <td>0.0</td>\n",
       "      <td>0</td>\n",
       "      <td>36.151647</td>\n",
       "      <td>-6.137493</td>\n",
       "      <td>0</td>\n",
       "      <td>True</td>\n",
       "      <td>True</td>\n",
       "      <td>0</td>\n",
       "      <td>1.000000</td>\n",
       "      <td>0.909414</td>\n",
       "      <td>...</td>\n",
       "      <td>0.907233</td>\n",
       "      <td>0.898294</td>\n",
       "      <td>0.594223</td>\n",
       "      <td>0.924005</td>\n",
       "      <td>1.028301</td>\n",
       "      <td>0.793384</td>\n",
       "      <td>0.861791</td>\n",
       "      <td>0.953780</td>\n",
       "      <td>0.708085</td>\n",
       "      <td>0</td>\n",
       "    </tr>\n",
       "    <tr>\n",
       "      <th>...</th>\n",
       "      <td>...</td>\n",
       "      <td>...</td>\n",
       "      <td>...</td>\n",
       "      <td>...</td>\n",
       "      <td>...</td>\n",
       "      <td>...</td>\n",
       "      <td>...</td>\n",
       "      <td>...</td>\n",
       "      <td>...</td>\n",
       "      <td>...</td>\n",
       "      <td>...</td>\n",
       "      <td>...</td>\n",
       "      <td>...</td>\n",
       "      <td>...</td>\n",
       "      <td>...</td>\n",
       "      <td>...</td>\n",
       "      <td>...</td>\n",
       "      <td>...</td>\n",
       "      <td>...</td>\n",
       "      <td>...</td>\n",
       "      <td>...</td>\n",
       "    </tr>\n",
       "    <tr>\n",
       "      <th>74195</th>\n",
       "      <td>0.0</td>\n",
       "      <td>305</td>\n",
       "      <td>39.013796</td>\n",
       "      <td>-10.500101</td>\n",
       "      <td>30</td>\n",
       "      <td>True</td>\n",
       "      <td>True</td>\n",
       "      <td>20</td>\n",
       "      <td>1.315508</td>\n",
       "      <td>1.177415</td>\n",
       "      <td>...</td>\n",
       "      <td>0.907233</td>\n",
       "      <td>0.898294</td>\n",
       "      <td>0.699696</td>\n",
       "      <td>0.924005</td>\n",
       "      <td>1.028301</td>\n",
       "      <td>0.793384</td>\n",
       "      <td>0.747809</td>\n",
       "      <td>0.677102</td>\n",
       "      <td>0.677651</td>\n",
       "      <td>1</td>\n",
       "    </tr>\n",
       "    <tr>\n",
       "      <th>74199</th>\n",
       "      <td>500.0</td>\n",
       "      <td>1267</td>\n",
       "      <td>30.123296</td>\n",
       "      <td>-4.248082</td>\n",
       "      <td>840</td>\n",
       "      <td>True</td>\n",
       "      <td>False</td>\n",
       "      <td>35</td>\n",
       "      <td>1.274706</td>\n",
       "      <td>0.922970</td>\n",
       "      <td>...</td>\n",
       "      <td>0.828901</td>\n",
       "      <td>0.898294</td>\n",
       "      <td>0.995249</td>\n",
       "      <td>0.924005</td>\n",
       "      <td>0.741799</td>\n",
       "      <td>0.793384</td>\n",
       "      <td>0.625598</td>\n",
       "      <td>0.981335</td>\n",
       "      <td>1.162505</td>\n",
       "      <td>2</td>\n",
       "    </tr>\n",
       "    <tr>\n",
       "      <th>74214</th>\n",
       "      <td>0.0</td>\n",
       "      <td>0</td>\n",
       "      <td>33.166752</td>\n",
       "      <td>-2.975367</td>\n",
       "      <td>0</td>\n",
       "      <td>False</td>\n",
       "      <td>True</td>\n",
       "      <td>0</td>\n",
       "      <td>0.836638</td>\n",
       "      <td>0.914632</td>\n",
       "      <td>...</td>\n",
       "      <td>0.907233</td>\n",
       "      <td>0.898294</td>\n",
       "      <td>0.623434</td>\n",
       "      <td>0.924005</td>\n",
       "      <td>1.028301</td>\n",
       "      <td>1.709233</td>\n",
       "      <td>1.439161</td>\n",
       "      <td>0.981335</td>\n",
       "      <td>0.708085</td>\n",
       "      <td>2</td>\n",
       "    </tr>\n",
       "    <tr>\n",
       "      <th>74215</th>\n",
       "      <td>0.0</td>\n",
       "      <td>0</td>\n",
       "      <td>32.933201</td>\n",
       "      <td>-4.350711</td>\n",
       "      <td>0</td>\n",
       "      <td>False</td>\n",
       "      <td>False</td>\n",
       "      <td>0</td>\n",
       "      <td>0.602210</td>\n",
       "      <td>0.922970</td>\n",
       "      <td>...</td>\n",
       "      <td>0.907233</td>\n",
       "      <td>0.898294</td>\n",
       "      <td>0.594223</td>\n",
       "      <td>0.924005</td>\n",
       "      <td>1.028301</td>\n",
       "      <td>0.793384</td>\n",
       "      <td>0.625598</td>\n",
       "      <td>0.953780</td>\n",
       "      <td>0.708085</td>\n",
       "      <td>0</td>\n",
       "    </tr>\n",
       "    <tr>\n",
       "      <th>74229</th>\n",
       "      <td>25.0</td>\n",
       "      <td>479</td>\n",
       "      <td>38.091272</td>\n",
       "      <td>-4.431236</td>\n",
       "      <td>210</td>\n",
       "      <td>True</td>\n",
       "      <td>True</td>\n",
       "      <td>2</td>\n",
       "      <td>1.500000</td>\n",
       "      <td>0.746142</td>\n",
       "      <td>...</td>\n",
       "      <td>0.828901</td>\n",
       "      <td>0.000000</td>\n",
       "      <td>0.699696</td>\n",
       "      <td>0.924005</td>\n",
       "      <td>0.602198</td>\n",
       "      <td>0.793384</td>\n",
       "      <td>0.625598</td>\n",
       "      <td>0.735053</td>\n",
       "      <td>0.677651</td>\n",
       "      <td>0</td>\n",
       "    </tr>\n",
       "  </tbody>\n",
       "</table>\n",
       "<p>5940 rows × 22 columns</p>\n",
       "</div>"
      ],
      "text/plain": [
       "       amount_tsh  gps_height  longitude   latitude  population  \\\n",
       "id                                                                \n",
       "4             0.0           0  36.164893  -6.099289           0   \n",
       "6             0.0           0  33.229880  -3.852983           0   \n",
       "40            0.0        1636  37.579079  -7.082958         560   \n",
       "41           50.0           5  39.228066  -6.903605         200   \n",
       "46            0.0           0  36.151647  -6.137493           0   \n",
       "...           ...         ...        ...        ...         ...   \n",
       "74195         0.0         305  39.013796 -10.500101          30   \n",
       "74199       500.0        1267  30.123296  -4.248082         840   \n",
       "74214         0.0           0  33.166752  -2.975367           0   \n",
       "74215         0.0           0  32.933201  -4.350711           0   \n",
       "74229        25.0         479  38.091272  -4.431236         210   \n",
       "\n",
       "       public_meeting  permit  pump_age  installer_target_encoded  \\\n",
       "id                                                                  \n",
       "4                True    True         0                  0.600000   \n",
       "6                True    True         0                  1.274706   \n",
       "40               True    True         7                  0.000000   \n",
       "41              False   False         3                  0.860597   \n",
       "46               True    True         0                  1.000000   \n",
       "...               ...     ...       ...                       ...   \n",
       "74195            True    True        20                  1.315508   \n",
       "74199            True   False        35                  1.274706   \n",
       "74214           False    True         0                  0.836638   \n",
       "74215           False   False         0                  0.602210   \n",
       "74229            True    True         2                  1.500000   \n",
       "\n",
       "       basin_target_encoded  ...  scheme_management_target_encoded  \\\n",
       "id                           ...                                     \n",
       "4                  0.909414  ...                          0.907233   \n",
       "6                  0.776687  ...                          0.907233   \n",
       "40                 0.909414  ...                          0.907233   \n",
       "41                 0.909414  ...                          0.614650   \n",
       "46                 0.909414  ...                          0.907233   \n",
       "...                     ...  ...                               ...   \n",
       "74195              1.177415  ...                          0.907233   \n",
       "74199              0.922970  ...                          0.828901   \n",
       "74214              0.914632  ...                          0.907233   \n",
       "74215              0.922970  ...                          0.907233   \n",
       "74229              0.746142  ...                          0.828901   \n",
       "\n",
       "       scheme_name_target_encoded  extraction_type_target_encoded  \\\n",
       "id                                                                  \n",
       "4                        0.898294                        0.594223   \n",
       "6                        0.898294                        1.645411   \n",
       "40                       0.333333                        0.699696   \n",
       "41                       0.898294                        0.854037   \n",
       "46                       0.898294                        0.594223   \n",
       "...                           ...                             ...   \n",
       "74195                    0.898294                        0.699696   \n",
       "74199                    0.898294                        0.995249   \n",
       "74214                    0.898294                        0.623434   \n",
       "74215                    0.898294                        0.594223   \n",
       "74229                    0.000000                        0.699696   \n",
       "\n",
       "       management_target_encoded  payment_type_target_encoded  \\\n",
       "id                                                              \n",
       "4                       0.924005                     1.086092   \n",
       "6                       0.924005                     1.028301   \n",
       "40                      0.924005                     1.028301   \n",
       "41                      0.477028                     0.602198   \n",
       "46                      0.924005                     1.028301   \n",
       "...                          ...                          ...   \n",
       "74195                   0.924005                     1.028301   \n",
       "74199                   0.924005                     0.741799   \n",
       "74214                   0.924005                     1.028301   \n",
       "74215                   0.924005                     1.028301   \n",
       "74229                   0.924005                     0.602198   \n",
       "\n",
       "       water_quality_target_encoded  quantity_target_encoded  \\\n",
       "id                                                             \n",
       "4                          0.793384                 1.946499   \n",
       "6                          0.793384                 0.747809   \n",
       "40                         0.793384                 0.625598   \n",
       "41                         0.793384                 0.625598   \n",
       "46                         0.793384                 0.861791   \n",
       "...                             ...                      ...   \n",
       "74195                      0.793384                 0.747809   \n",
       "74199                      0.793384                 0.625598   \n",
       "74214                      1.709233                 1.439161   \n",
       "74215                      0.793384                 0.625598   \n",
       "74229                      0.793384                 0.625598   \n",
       "\n",
       "       source_target_encoded  waterpoint_type_target_encoded  status_group  \n",
       "id                                                                          \n",
       "4                   0.953780                        0.708085             2  \n",
       "6                   0.953780                        1.692281             2  \n",
       "40                  0.735053                        0.677651             0  \n",
       "41                  0.981335                        0.677651             0  \n",
       "46                  0.953780                        0.708085             0  \n",
       "...                      ...                             ...           ...  \n",
       "74195               0.677102                        0.677651             1  \n",
       "74199               0.981335                        1.162505             2  \n",
       "74214               0.981335                        0.708085             2  \n",
       "74215               0.953780                        0.708085             0  \n",
       "74229               0.735053                        0.677651             0  \n",
       "\n",
       "[5940 rows x 22 columns]"
      ]
     },
     "execution_count": 25,
     "metadata": {},
     "output_type": "execute_result"
    }
   ],
   "source": [
    "data_test_with_target = pd.concat([data_test, y_test], axis=1, join='inner')\n",
    "data_test_with_target"
   ]
  },
  {
   "cell_type": "code",
   "execution_count": 26,
   "metadata": {},
   "outputs": [
    {
     "name": "stdout",
     "output_type": "stream",
     "text": [
      "<class 'pandas.core.frame.DataFrame'>\n",
      "Int64Index: 59400 entries, 0 to 74247\n",
      "Data columns (total 22 columns):\n",
      " #   Column                            Non-Null Count  Dtype  \n",
      "---  ------                            --------------  -----  \n",
      " 0   amount_tsh                        59400 non-null  float64\n",
      " 1   gps_height                        59400 non-null  int64  \n",
      " 2   longitude                         59400 non-null  float64\n",
      " 3   latitude                          59400 non-null  float64\n",
      " 4   population                        59400 non-null  int64  \n",
      " 5   public_meeting                    59400 non-null  bool   \n",
      " 6   permit                            59400 non-null  bool   \n",
      " 7   pump_age                          59400 non-null  int64  \n",
      " 8   installer_target_encoded          59400 non-null  float64\n",
      " 9   basin_target_encoded              59400 non-null  float64\n",
      " 10  region_code_target_encoded        59400 non-null  float64\n",
      " 11  district_code_target_encoded      59400 non-null  float64\n",
      " 12  scheme_management_target_encoded  59400 non-null  float64\n",
      " 13  scheme_name_target_encoded        59400 non-null  float64\n",
      " 14  extraction_type_target_encoded    59400 non-null  float64\n",
      " 15  management_target_encoded         59400 non-null  float64\n",
      " 16  payment_type_target_encoded       59400 non-null  float64\n",
      " 17  water_quality_target_encoded      59400 non-null  float64\n",
      " 18  quantity_target_encoded           59400 non-null  float64\n",
      " 19  source_target_encoded             59400 non-null  float64\n",
      " 20  waterpoint_type_target_encoded    59400 non-null  float64\n",
      " 21  status_group                      59400 non-null  int64  \n",
      "dtypes: bool(2), float64(16), int64(4)\n",
      "memory usage: 9.6 MB\n"
     ]
    }
   ],
   "source": [
    "data_ALL_labeled_with_target = pd.concat([data_train_with_target, data_test_with_target], axis=0).sort_index()\n",
    "data_ALL_labeled_with_target.info()"
   ]
  },
  {
   "cell_type": "code",
   "execution_count": 27,
   "metadata": {},
   "outputs": [
    {
     "data": {
      "text/plain": [
       "Int64Index([    0,     1,     2,     3,     4,     5,     6,     7,     8,\n",
       "                9,\n",
       "            ...\n",
       "            74235, 74236, 74237, 74238, 74239, 74240, 74242, 74243, 74246,\n",
       "            74247],\n",
       "           dtype='int64', name='id', length=59400)"
      ]
     },
     "execution_count": 27,
     "metadata": {},
     "output_type": "execute_result"
    }
   ],
   "source": [
    "data_ALL_labeled_with_target.index"
   ]
  },
  {
   "cell_type": "markdown",
   "metadata": {},
   "source": [
    "<p><br>\n",
    "<h2>Build Models (Run Trials)</h2>\n",
    "\n",
    "<h3>General functions for building Classifiers and running trials</h3>"
   ]
  },
  {
   "cell_type": "code",
   "execution_count": 28,
   "metadata": {},
   "outputs": [],
   "source": [
    "# utility function to render HTML and optionally log (append) it to file\n",
    "def render_HTML(the_html, fname=None):\n",
    "    display(HTML(the_html))\n",
    "    if fname is not None:\n",
    "        fm.append_text_file(BeautifulSoup(the_html).text + '\\n', fname)"
   ]
  },
  {
   "cell_type": "code",
   "execution_count": 29,
   "metadata": {},
   "outputs": [],
   "source": [
    "def get_trials_log_fname(clf):\n",
    "    return f\"{MODEL_RESULTS_DIR}{clf.__class__.__name__}-trials.log\" if LOG_MODEL_TRIALS else None"
   ]
  },
  {
   "cell_type": "code",
   "execution_count": 30,
   "metadata": {},
   "outputs": [],
   "source": [
    "def gs_find_best_params(clf, param_grid):\n",
    "    render_HTML(f\"<br><br>param_grid for {clf.__class__.__name__} GridSearch:<br><pre>{params}</pre>\", fname=get_trials_log_fname(clf))\n",
    "    grid_clf = GridSearchCV(\n",
    "        clf, \n",
    "        param_grid, \n",
    "        cv=K, \n",
    "        n_jobs=-1\n",
    "        , verbose=20\n",
    "    )\n",
    "    # with joblib.parallel_backend('dask'):\n",
    "    #     %time _ = grid_clf.fit(data_train, y_train)\n",
    "    %time _ = grid_clf.fit(data_train, y_train)\n",
    "    return grid_clf.best_params_"
   ]
  },
  {
   "cell_type": "code",
   "execution_count": 31,
   "metadata": {},
   "outputs": [],
   "source": [
    "def clf_fit(clf, data_train, y_train):\n",
    "    # with joblib.parallel_backend('dask'):\n",
    "    #     %time clf.fit(data_train, y_train)\n",
    "    %time clf.fit(data_train, y_train)\n",
    "    return clf"
   ]
  },
  {
   "cell_type": "code",
   "execution_count": 32,
   "metadata": {},
   "outputs": [],
   "source": [
    "def summarize_preds(clf, X, y, preds, dataset_name, classes):\n",
    "    render_HTML(\"<p><br>\", fname=get_trials_log_fname(clf))\n",
    "    _accuracy = accuracy_score(y, preds)\n",
    "    render_HTML(f\"{dataset_name} Accuracy: {round(_accuracy*100,4)}\", fname=get_trials_log_fname(clf))\n",
    "    render_HTML(\"<p><br>\", fname=get_trials_log_fname(clf))\n",
    "    render_HTML(f\"<pre>{classification_report(y, preds, target_names=classes)}</pre>\", fname=get_trials_log_fname(clf))\n",
    "    return _accuracy"
   ]
  },
  {
   "cell_type": "code",
   "execution_count": 33,
   "metadata": {},
   "outputs": [],
   "source": [
    "def get_feat_importances(clf):\n",
    "    feat_importances = {}\n",
    "    for i, feat in enumerate(list(data_train.columns)):\n",
    "        feat_importances[feat] = clf.feature_importances_[i]\n",
    "    return sorted(list(feat_importances.items()), key=lambda item: item[1], reverse=True)"
   ]
  },
  {
   "cell_type": "code",
   "execution_count": 34,
   "metadata": {},
   "outputs": [],
   "source": [
    "def clf_run_trial(clf, params_to_try, best_parameters_so_far, run_trials_gridsearch=False):\n",
    "    if run_trials_gridsearch:\n",
    "        for param_name, param_value in best_parameters_so_far.items():\n",
    "            params_to_try.update({param_name: [param_value]})\n",
    "        best_parameters = gs_find_best_params(clf, params_to_try)\n",
    "    else:\n",
    "        best_parameters = params_to_try\n",
    "    best_parameters_so_far.update(best_parameters)\n",
    "\n",
    "    render_HTML(\"<p><br>\", fname=get_trials_log_fname(clf))\n",
    "    render_HTML(f\"Grid Search {'(previously) ' if not run_trials_gridsearch else ''}found the following optimal parameters: \", fname=get_trials_log_fname(clf))\n",
    "    render_HTML(f\"<pre>{pprint.pformat(best_parameters_so_far, indent=4)}</pre>\", fname=get_trials_log_fname(clf))\n",
    "\n",
    "    _y_train = y_train.status_group.ravel()\n",
    "    _y_test = y_test.status_group.ravel()\n",
    "    \n",
    "    render_HTML(\"<p><br>\", fname=get_trials_log_fname(clf))\n",
    "    render_HTML(\"Fitting classifier...\", fname=get_trials_log_fname(clf))\n",
    "    clf = clf.set_params(**best_parameters_so_far)\n",
    "    clf = clf_fit(clf, data_train, _y_train)\n",
    "    s_all_done = \"\\tALL DONE!\"\n",
    "    render_HTML(f\"<pre>{s_all_done}</pre>\", fname=get_trials_log_fname(clf))\n",
    "\n",
    "    _class_name = clf.__class__.__name__\n",
    "    model_results['modeling_results'][_class_name] = {}\n",
    "\n",
    "    render_HTML(\"<p><br>\", fname=get_trials_log_fname(clf))\n",
    "    render_HTML(\"Predicting labels on training data...\", fname=get_trials_log_fname(clf))\n",
    "    pred_train = clf.predict(data_train)\n",
    "    render_HTML(f\"<pre>{s_all_done}</pre>\", fname=get_trials_log_fname(clf))\n",
    "    _accuracy_train = summarize_preds(clf, data_train, _y_train, pred_train, 'Training', classes_train)\n",
    "    model_results['modeling_results'][_class_name]['accuracy'] = {}\n",
    "    model_results['modeling_results'][_class_name]['accuracy']['train'] = _accuracy_train\n",
    "\n",
    "    if not run_trials_gridsearch:\n",
    "        render_HTML(\"<p><br>\")\n",
    "        render_HTML(\"Computing cross-val score on training data...\")\n",
    "        model_results['modeling_results'][_class_name]['cv_score'] = {}\n",
    "        cv_score_train = cross_val_score(clf, data_train, _y_train, cv=cross_val_score_K)\n",
    "        mean_cv_score_train = np.mean(cv_score_train)\n",
    "        model_results['modeling_results'][_class_name]['cv_score']['train'] = mean_cv_score_train\n",
    "        render_HTML(f\"<pre>{s_all_done} scores: {cv_score_train}</pre>\")\n",
    "        render_HTML(f\"cross_val_score: {mean_cv_score_train}\")\n",
    "\n",
    "    render_HTML(\"<p><br>\", fname=get_trials_log_fname(clf))\n",
    "    render_HTML(f\"Predicting labels on testing data...\", fname=get_trials_log_fname(clf))\n",
    "    pred_test = clf.predict(data_test)\n",
    "    render_HTML(f\"<pre>{s_all_done}</pre>\", fname=get_trials_log_fname(clf))\n",
    "    _accuracy_test = summarize_preds(clf, data_test, _y_test, pred_test, 'Testing', classes_test)\n",
    "    model_results['modeling_results'][_class_name]['accuracy']['test'] = _accuracy_test\n",
    "    model_results['modeling_results'][_class_name]['feature_importances'] = get_feat_importances(clf)\n",
    "    \n",
    "    if not run_trials_gridsearch:\n",
    "        render_HTML(\"<p><br>\")\n",
    "        render_HTML(f\"Computing cross-val score on testing data...\")\n",
    "        cv_score_test = cross_val_score(clf, data_test, _y_test, cv=cross_val_score_K)\n",
    "        mean_cv_score_test = np.mean(cv_score_test)\n",
    "        model_results['modeling_results'][_class_name]['cv_score']['test'] = mean_cv_score_test\n",
    "        render_HTML(f\"<pre>{s_all_done} scores: {cv_score_test}</pre>\")\n",
    "        render_HTML(f\"cross_val_score: {mean_cv_score_test}\")\n",
    "\n",
    "    render_HTML(\"<p><br>\", fname=get_trials_log_fname(clf))\n",
    "    render_HTML(\"Feature Importances:\", fname=get_trials_log_fname(clf))\n",
    "    render_HTML(f\"<pre>{pprint.pformat(model_results['modeling_results'][_class_name]['feature_importances'], indent=4)}</pre><p><br><br>\", fname=get_trials_log_fname(clf))\n",
    "\n",
    "    return clf, best_parameters_so_far, model_results"
   ]
  },
  {
   "cell_type": "code",
   "execution_count": 35,
   "metadata": {},
   "outputs": [],
   "source": [
    "def clf_build_final_model(clf, params):\n",
    "    render_HTML(\"Fitting classifier {} to ALL LABALED data...\")\n",
    "    clf = clf.set_params(**best_parameters_so_far)\n",
    "    clf = clf_fit(clf, data_ALL_labeled_with_target.drop('status_group', axis=1), data_ALL_labeled_with_target[['status_group']])\n",
    "    s_all_done = \"\\tALL DONE!\"\n",
    "    render_HTML(f\"<pre>{s_all_done}</pre>\")\n",
    "\n",
    "    render_HTML(\"<p><br>\", fname=get_trials_log_fname(clf))\n",
    "    render_HTML(\"Predicting labels of UNLABELED data...\", fname=get_trials_log_fname(clf))\n",
    "    pred_unlabeled = clf.predict(data_unlabeled)\n",
    "    render_HTML(f\"<pre>{s_all_done}</pre>\", fname=get_trials_log_fname(clf))\n",
    "\n",
    "    return "
   ]
  },
  {
   "cell_type": "markdown",
   "metadata": {},
   "source": [
    "<p><br>\n",
    "<h2>Initialize Dask-Client (to Dask backend for parallelization) <i>(DISABLED for now)</i></h2>"
   ]
  },
  {
   "cell_type": "code",
   "execution_count": 36,
   "metadata": {},
   "outputs": [],
   "source": [
    "if models_config['dask']['use']:\n",
    "    if models_config['dask']['is_remote']:\n",
    "        # for Kubernetes dask scheduler/worker cluster in GCP - but this costs money to run the cluster AND requires a lot more work for data parallelization!\n",
    "        dask_client = Client(f\"tcp://{models_config['dask']['remote']['scheduler_address']}:8786\")\n",
    "    else:\n",
    "        # local\n",
    "        dask_client = Client( #spawns a local cluster\n",
    "            n_workers=models_config['dask']['local']['n_workers'], \n",
    "            threads_per_worker=models_config['dask']['local']['n_jobs'], \n",
    "            memory_limit=models_config['dask']['local']['memory_limit'] # memory_limit is per worker\n",
    "        )\n",
    "\n",
    "    dask_client"
   ]
  },
  {
   "cell_type": "markdown",
   "metadata": {},
   "source": [
    "<p><br>\n",
    "<h3>Decision Tree Classifier</h3>\n",
    "<h4>Trials</h4>"
   ]
  },
  {
   "cell_type": "code",
   "execution_count": 37,
   "metadata": {},
   "outputs": [
    {
     "data": {
      "text/html": [
       "models_config['DecisionTreeClassifier']['run']: True"
      ],
      "text/plain": [
       "<IPython.core.display.HTML object>"
      ]
     },
     "metadata": {},
     "output_type": "display_data"
    },
    {
     "data": {
      "text/html": [
       "models_config['DecisionTreeClassifier']['trials']['run']: True"
      ],
      "text/plain": [
       "<IPython.core.display.HTML object>"
      ]
     },
     "metadata": {},
     "output_type": "display_data"
    },
    {
     "data": {
      "text/html": [
       "<p><br>trial[0]['gridsearch']['run']: True<br>"
      ],
      "text/plain": [
       "<IPython.core.display.HTML object>"
      ]
     },
     "metadata": {},
     "output_type": "display_data"
    },
    {
     "data": {
      "text/html": [
       "<br><br>param_grid for DecisionTreeClassifier GridSearch:<br><pre>{'criterion': ['entropy', 'gini'], 'splitter': ['best'], 'max_depth': [10, 50, 75, None], 'min_samples_split': [2], 'max_features': ['auto', 'sqrt', 'log2']}</pre>"
      ],
      "text/plain": [
       "<IPython.core.display.HTML object>"
      ]
     },
     "metadata": {},
     "output_type": "display_data"
    },
    {
     "name": "stdout",
     "output_type": "stream",
     "text": [
      "Fitting 3 folds for each of 24 candidates, totalling 72 fits\n"
     ]
    },
    {
     "name": "stderr",
     "output_type": "stream",
     "text": [
      "[Parallel(n_jobs=-1)]: Using backend LokyBackend with 8 concurrent workers.\n",
      "[Parallel(n_jobs=-1)]: Done   1 tasks      | elapsed:    2.1s\n",
      "[Parallel(n_jobs=-1)]: Done   2 tasks      | elapsed:    2.1s\n",
      "[Parallel(n_jobs=-1)]: Done   3 tasks      | elapsed:    2.1s\n",
      "[Parallel(n_jobs=-1)]: Done   4 tasks      | elapsed:    2.1s\n",
      "[Parallel(n_jobs=-1)]: Done   5 tasks      | elapsed:    2.1s\n",
      "[Parallel(n_jobs=-1)]: Done   6 tasks      | elapsed:    2.2s\n",
      "[Parallel(n_jobs=-1)]: Done   7 tasks      | elapsed:    2.2s\n",
      "[Parallel(n_jobs=-1)]: Done   8 tasks      | elapsed:    2.2s\n",
      "[Parallel(n_jobs=-1)]: Done   9 tasks      | elapsed:    2.5s\n",
      "[Parallel(n_jobs=-1)]: Done  10 tasks      | elapsed:    2.6s\n",
      "[Parallel(n_jobs=-1)]: Done  11 tasks      | elapsed:    2.6s\n",
      "[Parallel(n_jobs=-1)]: Done  12 tasks      | elapsed:    2.6s\n",
      "[Parallel(n_jobs=-1)]: Done  13 tasks      | elapsed:    2.6s\n",
      "[Parallel(n_jobs=-1)]: Done  14 tasks      | elapsed:    2.6s\n",
      "[Parallel(n_jobs=-1)]: Done  15 tasks      | elapsed:    2.6s\n",
      "[Parallel(n_jobs=-1)]: Done  16 tasks      | elapsed:    2.6s\n",
      "[Parallel(n_jobs=-1)]: Done  17 tasks      | elapsed:    2.9s\n",
      "[Parallel(n_jobs=-1)]: Done  18 tasks      | elapsed:    3.0s\n",
      "[Parallel(n_jobs=-1)]: Done  19 tasks      | elapsed:    3.0s\n",
      "[Parallel(n_jobs=-1)]: Done  20 tasks      | elapsed:    3.0s\n",
      "[Parallel(n_jobs=-1)]: Done  21 tasks      | elapsed:    3.0s\n",
      "[Parallel(n_jobs=-1)]: Done  22 tasks      | elapsed:    3.0s\n",
      "[Parallel(n_jobs=-1)]: Done  23 tasks      | elapsed:    3.0s\n",
      "[Parallel(n_jobs=-1)]: Done  24 tasks      | elapsed:    3.1s\n",
      "[Parallel(n_jobs=-1)]: Done  25 tasks      | elapsed:    3.4s\n",
      "[Parallel(n_jobs=-1)]: Done  26 tasks      | elapsed:    3.4s\n",
      "[Parallel(n_jobs=-1)]: Done  27 tasks      | elapsed:    3.4s\n",
      "[Parallel(n_jobs=-1)]: Done  28 tasks      | elapsed:    3.4s\n",
      "[Parallel(n_jobs=-1)]: Done  29 tasks      | elapsed:    3.5s\n",
      "[Parallel(n_jobs=-1)]: Done  30 tasks      | elapsed:    3.5s\n",
      "[Parallel(n_jobs=-1)]: Done  31 tasks      | elapsed:    3.5s\n",
      "[Parallel(n_jobs=-1)]: Done  32 tasks      | elapsed:    3.5s\n",
      "[Parallel(n_jobs=-1)]: Done  33 tasks      | elapsed:    4.0s\n",
      "[Parallel(n_jobs=-1)]: Done  34 tasks      | elapsed:    4.0s\n",
      "[Parallel(n_jobs=-1)]: Done  35 tasks      | elapsed:    4.0s\n",
      "[Parallel(n_jobs=-1)]: Done  36 tasks      | elapsed:    4.0s\n",
      "[Parallel(n_jobs=-1)]: Done  37 tasks      | elapsed:    4.1s\n",
      "[Parallel(n_jobs=-1)]: Done  38 tasks      | elapsed:    4.1s\n",
      "[Parallel(n_jobs=-1)]: Done  39 tasks      | elapsed:    4.1s\n",
      "[Parallel(n_jobs=-1)]: Done  40 tasks      | elapsed:    4.1s\n",
      "[Parallel(n_jobs=-1)]: Done  41 tasks      | elapsed:    4.3s\n",
      "[Parallel(n_jobs=-1)]: Done  42 tasks      | elapsed:    4.3s\n",
      "[Parallel(n_jobs=-1)]: Done  43 tasks      | elapsed:    4.3s\n",
      "[Parallel(n_jobs=-1)]: Done  44 tasks      | elapsed:    4.3s\n",
      "[Parallel(n_jobs=-1)]: Done  45 tasks      | elapsed:    4.4s\n",
      "[Parallel(n_jobs=-1)]: Done  46 tasks      | elapsed:    4.4s\n",
      "[Parallel(n_jobs=-1)]: Done  47 tasks      | elapsed:    4.5s\n",
      "[Parallel(n_jobs=-1)]: Done  48 tasks      | elapsed:    4.5s\n",
      "[Parallel(n_jobs=-1)]: Done  49 tasks      | elapsed:    4.9s\n",
      "[Parallel(n_jobs=-1)]: Done  50 tasks      | elapsed:    4.9s\n",
      "[Parallel(n_jobs=-1)]: Done  51 tasks      | elapsed:    4.9s\n",
      "[Parallel(n_jobs=-1)]: Done  52 tasks      | elapsed:    4.9s\n",
      "[Parallel(n_jobs=-1)]: Done  53 tasks      | elapsed:    4.9s\n",
      "[Parallel(n_jobs=-1)]: Done  54 tasks      | elapsed:    5.1s\n",
      "[Parallel(n_jobs=-1)]: Done  55 tasks      | elapsed:    5.1s\n",
      "[Parallel(n_jobs=-1)]: Done  56 tasks      | elapsed:    5.1s\n",
      "[Parallel(n_jobs=-1)]: Done  57 tasks      | elapsed:    5.4s\n",
      "[Parallel(n_jobs=-1)]: Done  61 out of  72 | elapsed:    5.5s remaining:    1.0s\n",
      "[Parallel(n_jobs=-1)]: Done  65 out of  72 | elapsed:    5.8s remaining:    0.6s\n",
      "[Parallel(n_jobs=-1)]: Done  69 out of  72 | elapsed:    6.0s remaining:    0.3s\n",
      "[Parallel(n_jobs=-1)]: Done  72 out of  72 | elapsed:    6.0s finished\n"
     ]
    },
    {
     "name": "stdout",
     "output_type": "stream",
     "text": [
      "CPU times: user 871 ms, sys: 221 ms, total: 1.09 s\n",
      "Wall time: 6.4 s\n"
     ]
    },
    {
     "data": {
      "text/html": [
       "<p><br>"
      ],
      "text/plain": [
       "<IPython.core.display.HTML object>"
      ]
     },
     "metadata": {},
     "output_type": "display_data"
    },
    {
     "data": {
      "text/html": [
       "Grid Search found the following optimal parameters: "
      ],
      "text/plain": [
       "<IPython.core.display.HTML object>"
      ]
     },
     "metadata": {},
     "output_type": "display_data"
    },
    {
     "data": {
      "text/html": [
       "<pre>{   'criterion': 'gini',\n",
       "    'max_depth': 10,\n",
       "    'max_features': 'auto',\n",
       "    'min_samples_split': 2,\n",
       "    'splitter': 'best'}</pre>"
      ],
      "text/plain": [
       "<IPython.core.display.HTML object>"
      ]
     },
     "metadata": {},
     "output_type": "display_data"
    },
    {
     "data": {
      "text/html": [
       "<p><br>"
      ],
      "text/plain": [
       "<IPython.core.display.HTML object>"
      ]
     },
     "metadata": {},
     "output_type": "display_data"
    },
    {
     "data": {
      "text/html": [
       "Fitting classifier..."
      ],
      "text/plain": [
       "<IPython.core.display.HTML object>"
      ]
     },
     "metadata": {},
     "output_type": "display_data"
    },
    {
     "name": "stdout",
     "output_type": "stream",
     "text": [
      "CPU times: user 143 ms, sys: 17.7 ms, total: 161 ms\n",
      "Wall time: 163 ms\n"
     ]
    },
    {
     "data": {
      "text/html": [
       "<pre>\tALL DONE!</pre>"
      ],
      "text/plain": [
       "<IPython.core.display.HTML object>"
      ]
     },
     "metadata": {},
     "output_type": "display_data"
    },
    {
     "data": {
      "text/html": [
       "<p><br>"
      ],
      "text/plain": [
       "<IPython.core.display.HTML object>"
      ]
     },
     "metadata": {},
     "output_type": "display_data"
    },
    {
     "data": {
      "text/html": [
       "Predicting labels on training data..."
      ],
      "text/plain": [
       "<IPython.core.display.HTML object>"
      ]
     },
     "metadata": {},
     "output_type": "display_data"
    },
    {
     "data": {
      "text/html": [
       "<pre>\tALL DONE!</pre>"
      ],
      "text/plain": [
       "<IPython.core.display.HTML object>"
      ]
     },
     "metadata": {},
     "output_type": "display_data"
    },
    {
     "data": {
      "text/html": [
       "<p><br>"
      ],
      "text/plain": [
       "<IPython.core.display.HTML object>"
      ]
     },
     "metadata": {},
     "output_type": "display_data"
    },
    {
     "data": {
      "text/html": [
       "Training Accuracy: 76.6947"
      ],
      "text/plain": [
       "<IPython.core.display.HTML object>"
      ]
     },
     "metadata": {},
     "output_type": "display_data"
    },
    {
     "data": {
      "text/html": [
       "<p><br>"
      ],
      "text/plain": [
       "<IPython.core.display.HTML object>"
      ]
     },
     "metadata": {},
     "output_type": "display_data"
    },
    {
     "data": {
      "text/html": [
       "<pre>                         precision    recall  f1-score   support\n",
       "\n",
       "             functional       0.74      0.93      0.82     28991\n",
       "functional needs repair       0.60      0.13      0.22      3885\n",
       "         non functional       0.84      0.66      0.74     20584\n",
       "\n",
       "               accuracy                           0.77     53460\n",
       "              macro avg       0.73      0.57      0.59     53460\n",
       "           weighted avg       0.77      0.77      0.75     53460\n",
       "</pre>"
      ],
      "text/plain": [
       "<IPython.core.display.HTML object>"
      ]
     },
     "metadata": {},
     "output_type": "display_data"
    },
    {
     "data": {
      "text/html": [
       "<p><br>"
      ],
      "text/plain": [
       "<IPython.core.display.HTML object>"
      ]
     },
     "metadata": {},
     "output_type": "display_data"
    },
    {
     "data": {
      "text/html": [
       "Predicting labels on testing data..."
      ],
      "text/plain": [
       "<IPython.core.display.HTML object>"
      ]
     },
     "metadata": {},
     "output_type": "display_data"
    },
    {
     "data": {
      "text/html": [
       "<pre>\tALL DONE!</pre>"
      ],
      "text/plain": [
       "<IPython.core.display.HTML object>"
      ]
     },
     "metadata": {},
     "output_type": "display_data"
    },
    {
     "data": {
      "text/html": [
       "<p><br>"
      ],
      "text/plain": [
       "<IPython.core.display.HTML object>"
      ]
     },
     "metadata": {},
     "output_type": "display_data"
    },
    {
     "data": {
      "text/html": [
       "Testing Accuracy: 75.3535"
      ],
      "text/plain": [
       "<IPython.core.display.HTML object>"
      ]
     },
     "metadata": {},
     "output_type": "display_data"
    },
    {
     "data": {
      "text/html": [
       "<p><br>"
      ],
      "text/plain": [
       "<IPython.core.display.HTML object>"
      ]
     },
     "metadata": {},
     "output_type": "display_data"
    },
    {
     "data": {
      "text/html": [
       "<pre>                         precision    recall  f1-score   support\n",
       "\n",
       "             functional       0.73      0.92      0.81      3268\n",
       "functional needs repair       0.54      0.10      0.17       432\n",
       "         non functional       0.82      0.63      0.71      2240\n",
       "\n",
       "               accuracy                           0.75      5940\n",
       "              macro avg       0.70      0.55      0.57      5940\n",
       "           weighted avg       0.75      0.75      0.73      5940\n",
       "</pre>"
      ],
      "text/plain": [
       "<IPython.core.display.HTML object>"
      ]
     },
     "metadata": {},
     "output_type": "display_data"
    },
    {
     "data": {
      "text/html": [
       "<p><br>"
      ],
      "text/plain": [
       "<IPython.core.display.HTML object>"
      ]
     },
     "metadata": {},
     "output_type": "display_data"
    },
    {
     "data": {
      "text/html": [
       "Feature Importances:"
      ],
      "text/plain": [
       "<IPython.core.display.HTML object>"
      ]
     },
     "metadata": {},
     "output_type": "display_data"
    },
    {
     "data": {
      "text/html": [
       "<pre>[   ('scheme_name_target_encoded', 0.21413268694088752),\n",
       "    ('extraction_type_target_encoded', 0.17767736095986955),\n",
       "    ('quantity_target_encoded', 0.16005148833955904),\n",
       "    ('installer_target_encoded', 0.13488096940429004),\n",
       "    ('region_code_target_encoded', 0.10222089550477659),\n",
       "    ('waterpoint_type_target_encoded', 0.03382650769229112),\n",
       "    ('source_target_encoded', 0.027284498134407698),\n",
       "    ('longitude', 0.02123848975668654),\n",
       "    ('latitude', 0.02085973626810348),\n",
       "    ('amount_tsh', 0.015882258952610643),\n",
       "    ('basin_target_encoded', 0.014630936697939544),\n",
       "    ('pump_age', 0.012490653132864153),\n",
       "    ('water_quality_target_encoded', 0.011852132244465742),\n",
       "    ('gps_height', 0.011747835775529446),\n",
       "    ('scheme_management_target_encoded', 0.011663149703415681),\n",
       "    ('payment_type_target_encoded', 0.010189189010698724),\n",
       "    ('management_target_encoded', 0.00859294540912031),\n",
       "    ('population', 0.005549357224133428),\n",
       "    ('district_code_target_encoded', 0.003964251295663166),\n",
       "    ('permit', 0.0010171919335428608),\n",
       "    ('public_meeting', 0.00024746561914461507)]</pre><p><br><br>"
      ],
      "text/plain": [
       "<IPython.core.display.HTML object>"
      ]
     },
     "metadata": {},
     "output_type": "display_data"
    }
   ],
   "source": [
    "run_dtclf = models_config['DecisionTreeClassifier']['run']\n",
    "render_HTML(f\"models_config['DecisionTreeClassifier']['run']: {run_dtclf}\")\n",
    "\n",
    "if run_dtclf:\n",
    "    trials = models_config['DecisionTreeClassifier']['trials']\n",
    "\n",
    "    display(HTML(f\"models_config['DecisionTreeClassifier']['trials']['run']: {trials['run']}\"))\n",
    "    if trials['run']:\n",
    "        trials_list = trials['array']\n",
    "\n",
    "        best_parameters = {}\n",
    "        for i, trial in enumerate(trials_list):\n",
    "            display(HTML(f\"<p><br>trial[{i}]['gridsearch']['run']: {trial['gridsearch']['run']}<br>\"))\n",
    "            params = trial['gridsearch']['last_best'] if not trial['gridsearch']['run'] else trial['gridsearch']['param_grid']\n",
    "            rfclf, best_parameters, model_results = clf_run_trial(DecisionTreeClassifier(), params, best_parameters, run_trials_gridsearch=trial['gridsearch']['run']) # note that best_parameters will be set to those used in the last trial\n",
    "\n",
    "    else:\n",
    "        best_parameters = models_config['DecisionTreeClassifier']['params']"
   ]
  },
  {
   "cell_type": "markdown",
   "metadata": {},
   "source": [
    "<p><br>\n",
    "<h4>Build Final Model with best params</h4>"
   ]
  },
  {
   "cell_type": "code",
   "execution_count": 38,
   "metadata": {},
   "outputs": [
    {
     "data": {
      "text/html": [
       "<p><br>"
      ],
      "text/plain": [
       "<IPython.core.display.HTML object>"
      ]
     },
     "metadata": {},
     "output_type": "display_data"
    },
    {
     "data": {
      "text/html": [
       "Grid Search (previously) found the following optimal parameters: "
      ],
      "text/plain": [
       "<IPython.core.display.HTML object>"
      ]
     },
     "metadata": {},
     "output_type": "display_data"
    },
    {
     "data": {
      "text/html": [
       "<pre>{   'criterion': 'gini',\n",
       "    'max_depth': 10,\n",
       "    'max_features': 'auto',\n",
       "    'min_samples_split': 2,\n",
       "    'random_state': 42,\n",
       "    'splitter': 'best'}</pre>"
      ],
      "text/plain": [
       "<IPython.core.display.HTML object>"
      ]
     },
     "metadata": {},
     "output_type": "display_data"
    },
    {
     "data": {
      "text/html": [
       "<p><br>"
      ],
      "text/plain": [
       "<IPython.core.display.HTML object>"
      ]
     },
     "metadata": {},
     "output_type": "display_data"
    },
    {
     "data": {
      "text/html": [
       "Fitting classifier..."
      ],
      "text/plain": [
       "<IPython.core.display.HTML object>"
      ]
     },
     "metadata": {},
     "output_type": "display_data"
    },
    {
     "name": "stdout",
     "output_type": "stream",
     "text": [
      "CPU times: user 130 ms, sys: 16.6 ms, total: 146 ms\n",
      "Wall time: 147 ms\n"
     ]
    },
    {
     "data": {
      "text/html": [
       "<pre>\tALL DONE!</pre>"
      ],
      "text/plain": [
       "<IPython.core.display.HTML object>"
      ]
     },
     "metadata": {},
     "output_type": "display_data"
    },
    {
     "data": {
      "text/html": [
       "<p><br>"
      ],
      "text/plain": [
       "<IPython.core.display.HTML object>"
      ]
     },
     "metadata": {},
     "output_type": "display_data"
    },
    {
     "data": {
      "text/html": [
       "Predicting labels on training data..."
      ],
      "text/plain": [
       "<IPython.core.display.HTML object>"
      ]
     },
     "metadata": {},
     "output_type": "display_data"
    },
    {
     "data": {
      "text/html": [
       "<pre>\tALL DONE!</pre>"
      ],
      "text/plain": [
       "<IPython.core.display.HTML object>"
      ]
     },
     "metadata": {},
     "output_type": "display_data"
    },
    {
     "data": {
      "text/html": [
       "<p><br>"
      ],
      "text/plain": [
       "<IPython.core.display.HTML object>"
      ]
     },
     "metadata": {},
     "output_type": "display_data"
    },
    {
     "data": {
      "text/html": [
       "Training Accuracy: 77.9966"
      ],
      "text/plain": [
       "<IPython.core.display.HTML object>"
      ]
     },
     "metadata": {},
     "output_type": "display_data"
    },
    {
     "data": {
      "text/html": [
       "<p><br>"
      ],
      "text/plain": [
       "<IPython.core.display.HTML object>"
      ]
     },
     "metadata": {},
     "output_type": "display_data"
    },
    {
     "data": {
      "text/html": [
       "<pre>                         precision    recall  f1-score   support\n",
       "\n",
       "             functional       0.75      0.93      0.83     28991\n",
       "functional needs repair       0.70      0.09      0.17      3885\n",
       "         non functional       0.86      0.70      0.77     20584\n",
       "\n",
       "               accuracy                           0.78     53460\n",
       "              macro avg       0.77      0.57      0.59     53460\n",
       "           weighted avg       0.79      0.78      0.76     53460\n",
       "</pre>"
      ],
      "text/plain": [
       "<IPython.core.display.HTML object>"
      ]
     },
     "metadata": {},
     "output_type": "display_data"
    },
    {
     "data": {
      "text/html": [
       "<p><br>"
      ],
      "text/plain": [
       "<IPython.core.display.HTML object>"
      ]
     },
     "metadata": {},
     "output_type": "display_data"
    },
    {
     "data": {
      "text/html": [
       "Computing cross-val score on training data..."
      ],
      "text/plain": [
       "<IPython.core.display.HTML object>"
      ]
     },
     "metadata": {},
     "output_type": "display_data"
    },
    {
     "data": {
      "text/html": [
       "<pre>\tALL DONE! scores: [0.76720913 0.76758324 0.76833146 0.75794987 0.76187804]</pre>"
      ],
      "text/plain": [
       "<IPython.core.display.HTML object>"
      ]
     },
     "metadata": {},
     "output_type": "display_data"
    },
    {
     "data": {
      "text/html": [
       "cross_val_score: 0.7645903479236813"
      ],
      "text/plain": [
       "<IPython.core.display.HTML object>"
      ]
     },
     "metadata": {},
     "output_type": "display_data"
    },
    {
     "data": {
      "text/html": [
       "<p><br>"
      ],
      "text/plain": [
       "<IPython.core.display.HTML object>"
      ]
     },
     "metadata": {},
     "output_type": "display_data"
    },
    {
     "data": {
      "text/html": [
       "Predicting labels on testing data..."
      ],
      "text/plain": [
       "<IPython.core.display.HTML object>"
      ]
     },
     "metadata": {},
     "output_type": "display_data"
    },
    {
     "data": {
      "text/html": [
       "<pre>\tALL DONE!</pre>"
      ],
      "text/plain": [
       "<IPython.core.display.HTML object>"
      ]
     },
     "metadata": {},
     "output_type": "display_data"
    },
    {
     "data": {
      "text/html": [
       "<p><br>"
      ],
      "text/plain": [
       "<IPython.core.display.HTML object>"
      ]
     },
     "metadata": {},
     "output_type": "display_data"
    },
    {
     "data": {
      "text/html": [
       "Testing Accuracy: 76.5488"
      ],
      "text/plain": [
       "<IPython.core.display.HTML object>"
      ]
     },
     "metadata": {},
     "output_type": "display_data"
    },
    {
     "data": {
      "text/html": [
       "<p><br>"
      ],
      "text/plain": [
       "<IPython.core.display.HTML object>"
      ]
     },
     "metadata": {},
     "output_type": "display_data"
    },
    {
     "data": {
      "text/html": [
       "<pre>                         precision    recall  f1-score   support\n",
       "\n",
       "             functional       0.74      0.92      0.82      3268\n",
       "functional needs repair       0.53      0.06      0.11       432\n",
       "         non functional       0.83      0.68      0.74      2240\n",
       "\n",
       "               accuracy                           0.77      5940\n",
       "              macro avg       0.70      0.55      0.56      5940\n",
       "           weighted avg       0.76      0.77      0.74      5940\n",
       "</pre>"
      ],
      "text/plain": [
       "<IPython.core.display.HTML object>"
      ]
     },
     "metadata": {},
     "output_type": "display_data"
    },
    {
     "data": {
      "text/html": [
       "<p><br>"
      ],
      "text/plain": [
       "<IPython.core.display.HTML object>"
      ]
     },
     "metadata": {},
     "output_type": "display_data"
    },
    {
     "data": {
      "text/html": [
       "Computing cross-val score on testing data..."
      ],
      "text/plain": [
       "<IPython.core.display.HTML object>"
      ]
     },
     "metadata": {},
     "output_type": "display_data"
    },
    {
     "data": {
      "text/html": [
       "<pre>\tALL DONE! scores: [0.73905724 0.73569024 0.74915825 0.73905724 0.72811448]</pre>"
      ],
      "text/plain": [
       "<IPython.core.display.HTML object>"
      ]
     },
     "metadata": {},
     "output_type": "display_data"
    },
    {
     "data": {
      "text/html": [
       "cross_val_score: 0.7382154882154882"
      ],
      "text/plain": [
       "<IPython.core.display.HTML object>"
      ]
     },
     "metadata": {},
     "output_type": "display_data"
    },
    {
     "data": {
      "text/html": [
       "<p><br>"
      ],
      "text/plain": [
       "<IPython.core.display.HTML object>"
      ]
     },
     "metadata": {},
     "output_type": "display_data"
    },
    {
     "data": {
      "text/html": [
       "Feature Importances:"
      ],
      "text/plain": [
       "<IPython.core.display.HTML object>"
      ]
     },
     "metadata": {},
     "output_type": "display_data"
    },
    {
     "data": {
      "text/html": [
       "<pre>[   ('quantity_target_encoded', 0.3376666251101103),\n",
       "    ('scheme_name_target_encoded', 0.17367798882169344),\n",
       "    ('extraction_type_target_encoded', 0.1318944247486092),\n",
       "    ('installer_target_encoded', 0.07607472184673032),\n",
       "    ('payment_type_target_encoded', 0.07142123951876596),\n",
       "    ('waterpoint_type_target_encoded', 0.050432068000282416),\n",
       "    ('longitude', 0.030689759303146685),\n",
       "    ('region_code_target_encoded', 0.029668067534645976),\n",
       "    ('latitude', 0.017394085073831812),\n",
       "    ('source_target_encoded', 0.013480111072802161),\n",
       "    ('pump_age', 0.013294875490658532),\n",
       "    ('basin_target_encoded', 0.00938484029282461),\n",
       "    ('population', 0.008697428249232243),\n",
       "    ('scheme_management_target_encoded', 0.00825868077618193),\n",
       "    ('management_target_encoded', 0.007371427736987655),\n",
       "    ('gps_height', 0.005674016995330937),\n",
       "    ('district_code_target_encoded', 0.004904130751246138),\n",
       "    ('permit', 0.004749613127049098),\n",
       "    ('public_meeting', 0.0021217256898615694),\n",
       "    ('amount_tsh', 0.0015966439604487284),\n",
       "    ('water_quality_target_encoded', 0.0015475258995600412)]</pre><p><br><br>"
      ],
      "text/plain": [
       "<IPython.core.display.HTML object>"
      ]
     },
     "metadata": {},
     "output_type": "display_data"
    }
   ],
   "source": [
    "if run_dtclf:\n",
    "    best_parameters.update({'random_state': SEED})\n",
    "    dtclf, _, model_results = clf_run_trial(DecisionTreeClassifier(), best_parameters, best_parameters)"
   ]
  },
  {
   "cell_type": "markdown",
   "metadata": {},
   "source": [
    "<p><br>\n",
    "<h3>Random Forest Classifier</h3>\n",
    "<h4>Trials</h4>"
   ]
  },
  {
   "cell_type": "code",
   "execution_count": 39,
   "metadata": {},
   "outputs": [
    {
     "data": {
      "text/html": [
       "models_config['RandomForestClassifier']['run']: True"
      ],
      "text/plain": [
       "<IPython.core.display.HTML object>"
      ]
     },
     "metadata": {},
     "output_type": "display_data"
    },
    {
     "data": {
      "text/html": [
       "models_config['RandomForestClassifier']['trials']['run']: True"
      ],
      "text/plain": [
       "<IPython.core.display.HTML object>"
      ]
     },
     "metadata": {},
     "output_type": "display_data"
    },
    {
     "data": {
      "text/html": [
       "<p><br>trial[0]['gridsearch']['run']: True<br>"
      ],
      "text/plain": [
       "<IPython.core.display.HTML object>"
      ]
     },
     "metadata": {},
     "output_type": "display_data"
    },
    {
     "data": {
      "text/html": [
       "<br><br>param_grid for RandomForestClassifier GridSearch:<br><pre>{'bootstrap': [True, False], 'criterion': ['entropy', 'gini'], 'max_features': ['auto', 'sqrt', 'log2'], 'max_depth': [10, 50, 75, None], 'n_estimators': [100, 500, 1000], 'n_jobs': [-1]}</pre>"
      ],
      "text/plain": [
       "<IPython.core.display.HTML object>"
      ]
     },
     "metadata": {},
     "output_type": "display_data"
    },
    {
     "name": "stdout",
     "output_type": "stream",
     "text": [
      "Fitting 3 folds for each of 144 candidates, totalling 432 fits\n"
     ]
    },
    {
     "name": "stderr",
     "output_type": "stream",
     "text": [
      "[Parallel(n_jobs=-1)]: Using backend LokyBackend with 8 concurrent workers.\n",
      "[Parallel(n_jobs=-1)]: Done   1 tasks      | elapsed:    6.2s\n",
      "[Parallel(n_jobs=-1)]: Done   2 tasks      | elapsed:    6.6s\n",
      "[Parallel(n_jobs=-1)]: Done   3 tasks      | elapsed:    6.6s\n",
      "[Parallel(n_jobs=-1)]: Done   4 tasks      | elapsed:   17.4s\n",
      "[Parallel(n_jobs=-1)]: Done   5 tasks      | elapsed:   17.4s\n",
      "[Parallel(n_jobs=-1)]: Done   6 tasks      | elapsed:   28.1s\n",
      "[Parallel(n_jobs=-1)]: Done   7 tasks      | elapsed:   44.6s\n",
      "[Parallel(n_jobs=-1)]: Done   8 tasks      | elapsed:   45.3s\n",
      "[Parallel(n_jobs=-1)]: Done   9 tasks      | elapsed:   45.5s\n",
      "[Parallel(n_jobs=-1)]: Done  10 tasks      | elapsed:  1.0min\n",
      "[Parallel(n_jobs=-1)]: Done  11 tasks      | elapsed:  1.2min\n",
      "[Parallel(n_jobs=-1)]: Done  12 tasks      | elapsed:  1.4min\n",
      "[Parallel(n_jobs=-1)]: Done  13 tasks      | elapsed:  1.4min\n",
      "[Parallel(n_jobs=-1)]: Done  14 tasks      | elapsed:  1.4min\n",
      "[Parallel(n_jobs=-1)]: Done  15 tasks      | elapsed:  1.5min\n",
      "[Parallel(n_jobs=-1)]: Done  16 tasks      | elapsed:  1.5min\n",
      "[Parallel(n_jobs=-1)]: Done  17 tasks      | elapsed:  1.6min\n",
      "[Parallel(n_jobs=-1)]: Done  18 tasks      | elapsed:  1.6min\n",
      "[Parallel(n_jobs=-1)]: Done  19 tasks      | elapsed:  2.1min\n",
      "[Parallel(n_jobs=-1)]: Done  20 tasks      | elapsed:  2.1min\n",
      "[Parallel(n_jobs=-1)]: Done  21 tasks      | elapsed:  2.1min\n",
      "[Parallel(n_jobs=-1)]: Done  22 tasks      | elapsed:  2.1min\n",
      "[Parallel(n_jobs=-1)]: Done  23 tasks      | elapsed:  2.1min\n",
      "[Parallel(n_jobs=-1)]: Done  24 tasks      | elapsed:  2.3min\n",
      "[Parallel(n_jobs=-1)]: Done  25 tasks      | elapsed:  2.3min\n",
      "[Parallel(n_jobs=-1)]: Done  26 tasks      | elapsed:  2.3min\n",
      "[Parallel(n_jobs=-1)]: Done  27 tasks      | elapsed:  2.3min\n",
      "[Parallel(n_jobs=-1)]: Done  28 tasks      | elapsed:  2.8min\n",
      "[Parallel(n_jobs=-1)]: Done  29 tasks      | elapsed:  2.8min\n",
      "[Parallel(n_jobs=-1)]: Done  30 tasks      | elapsed:  3.0min\n",
      "[Parallel(n_jobs=-1)]: Done  31 tasks      | elapsed:  3.2min\n",
      "[Parallel(n_jobs=-1)]: Done  32 tasks      | elapsed:  3.3min\n",
      "[Parallel(n_jobs=-1)]: Done  33 tasks      | elapsed:  3.4min\n",
      "[Parallel(n_jobs=-1)]: Done  34 tasks      | elapsed:  3.4min\n",
      "[Parallel(n_jobs=-1)]: Done  35 tasks      | elapsed:  3.4min\n",
      "[Parallel(n_jobs=-1)]: Done  36 tasks      | elapsed:  3.5min\n",
      "[Parallel(n_jobs=-1)]: Done  37 tasks      | elapsed:  4.5min\n",
      "[Parallel(n_jobs=-1)]: Done  38 tasks      | elapsed:  4.5min\n",
      "[Parallel(n_jobs=-1)]: Done  39 tasks      | elapsed:  4.6min\n",
      "[Parallel(n_jobs=-1)]: Done  40 tasks      | elapsed:  4.6min\n",
      "[Parallel(n_jobs=-1)]: Done  41 tasks      | elapsed:  4.6min\n",
      "[Parallel(n_jobs=-1)]: Done  42 tasks      | elapsed:  4.8min\n",
      "[Parallel(n_jobs=-1)]: Done  43 tasks      | elapsed:  4.8min\n",
      "[Parallel(n_jobs=-1)]: Done  44 tasks      | elapsed:  4.8min\n",
      "[Parallel(n_jobs=-1)]: Done  45 tasks      | elapsed:  5.0min\n",
      "[Parallel(n_jobs=-1)]: Done  46 tasks      | elapsed:  5.6min\n",
      "[Parallel(n_jobs=-1)]: Done  47 tasks      | elapsed:  5.7min\n",
      "[Parallel(n_jobs=-1)]: Done  48 tasks      | elapsed:  5.7min\n",
      "[Parallel(n_jobs=-1)]: Done  49 tasks      | elapsed:  5.9min\n",
      "[Parallel(n_jobs=-1)]: Done  50 tasks      | elapsed:  5.9min\n",
      "[Parallel(n_jobs=-1)]: Done  51 tasks      | elapsed:  5.9min\n",
      "[Parallel(n_jobs=-1)]: Done  52 tasks      | elapsed:  5.9min\n",
      "[Parallel(n_jobs=-1)]: Done  53 tasks      | elapsed:  6.1min\n",
      "[Parallel(n_jobs=-1)]: Done  54 tasks      | elapsed:  6.6min\n",
      "[Parallel(n_jobs=-1)]: Done  55 tasks      | elapsed:  7.0min\n",
      "[Parallel(n_jobs=-1)]: Done  56 tasks      | elapsed:  7.0min\n",
      "[Parallel(n_jobs=-1)]: Done  57 tasks      | elapsed:  7.0min\n",
      "[Parallel(n_jobs=-1)]: Done  58 tasks      | elapsed:  7.0min\n",
      "[Parallel(n_jobs=-1)]: Done  59 tasks      | elapsed:  7.2min\n",
      "[Parallel(n_jobs=-1)]: Done  60 tasks      | elapsed:  7.2min\n",
      "[Parallel(n_jobs=-1)]: Done  61 tasks      | elapsed:  7.2min\n",
      "[Parallel(n_jobs=-1)]: Done  62 tasks      | elapsed:  7.2min\n",
      "[Parallel(n_jobs=-1)]: Done  63 tasks      | elapsed:  7.8min\n",
      "[Parallel(n_jobs=-1)]: Done  64 tasks      | elapsed:  8.3min\n",
      "[Parallel(n_jobs=-1)]: Done  65 tasks      | elapsed:  8.3min\n",
      "[Parallel(n_jobs=-1)]: Done  66 tasks      | elapsed:  8.3min\n",
      "[Parallel(n_jobs=-1)]: Done  67 tasks      | elapsed:  8.3min\n",
      "[Parallel(n_jobs=-1)]: Done  68 tasks      | elapsed:  8.5min\n",
      "[Parallel(n_jobs=-1)]: Done  69 tasks      | elapsed:  8.5min\n",
      "[Parallel(n_jobs=-1)]: Done  70 tasks      | elapsed:  8.5min\n",
      "[Parallel(n_jobs=-1)]: Done  71 tasks      | elapsed:  8.8min\n",
      "[Parallel(n_jobs=-1)]: Done  72 tasks      | elapsed:  9.1min\n",
      "[Parallel(n_jobs=-1)]: Done  73 tasks      | elapsed:  9.4min\n",
      "[Parallel(n_jobs=-1)]: Done  74 tasks      | elapsed:  9.6min\n",
      "[Parallel(n_jobs=-1)]: Done  75 tasks      | elapsed:  9.6min\n",
      "[Parallel(n_jobs=-1)]: Done  76 tasks      | elapsed:  9.6min\n",
      "[Parallel(n_jobs=-1)]: Done  77 tasks      | elapsed:  9.8min\n",
      "[Parallel(n_jobs=-1)]: Done  78 tasks      | elapsed:  9.8min\n",
      "[Parallel(n_jobs=-1)]: Done  79 tasks      | elapsed:  9.8min\n",
      "[Parallel(n_jobs=-1)]: Done  80 tasks      | elapsed:  9.9min\n",
      "[Parallel(n_jobs=-1)]: Done  81 tasks      | elapsed: 10.4min\n",
      "[Parallel(n_jobs=-1)]: Done  82 tasks      | elapsed: 10.9min\n",
      "[Parallel(n_jobs=-1)]: Done  83 tasks      | elapsed: 10.9min\n",
      "[Parallel(n_jobs=-1)]: Done  84 tasks      | elapsed: 10.9min\n",
      "[Parallel(n_jobs=-1)]: Done  85 tasks      | elapsed: 11.0min\n",
      "[Parallel(n_jobs=-1)]: Done  86 tasks      | elapsed: 11.1min\n",
      "[Parallel(n_jobs=-1)]: Done  87 tasks      | elapsed: 11.1min\n",
      "[Parallel(n_jobs=-1)]: Done  88 tasks      | elapsed: 11.2min\n",
      "[Parallel(n_jobs=-1)]: Done  89 tasks      | elapsed: 11.2min\n",
      "[Parallel(n_jobs=-1)]: Done  90 tasks      | elapsed: 11.5min\n",
      "[Parallel(n_jobs=-1)]: Done  91 tasks      | elapsed: 12.1min\n",
      "[Parallel(n_jobs=-1)]: Done  92 tasks      | elapsed: 12.2min\n",
      "[Parallel(n_jobs=-1)]: Done  93 tasks      | elapsed: 12.2min\n",
      "[Parallel(n_jobs=-1)]: Done  94 tasks      | elapsed: 12.3min\n",
      "[Parallel(n_jobs=-1)]: Done  95 tasks      | elapsed: 12.5min\n",
      "[Parallel(n_jobs=-1)]: Done  96 tasks      | elapsed: 12.5min\n",
      "[Parallel(n_jobs=-1)]: Done  97 tasks      | elapsed: 12.5min\n",
      "[Parallel(n_jobs=-1)]: Done  98 tasks      | elapsed: 12.5min\n",
      "[Parallel(n_jobs=-1)]: Done  99 tasks      | elapsed: 13.0min\n",
      "[Parallel(n_jobs=-1)]: Done 100 tasks      | elapsed: 13.4min\n",
      "[Parallel(n_jobs=-1)]: Done 101 tasks      | elapsed: 13.6min\n",
      "[Parallel(n_jobs=-1)]: Done 102 tasks      | elapsed: 13.6min\n",
      "[Parallel(n_jobs=-1)]: Done 103 tasks      | elapsed: 13.6min\n",
      "[Parallel(n_jobs=-1)]: Done 104 tasks      | elapsed: 13.7min\n",
      "[Parallel(n_jobs=-1)]: Done 105 tasks      | elapsed: 13.7min\n",
      "[Parallel(n_jobs=-1)]: Done 106 tasks      | elapsed: 13.7min\n",
      "[Parallel(n_jobs=-1)]: Done 107 tasks      | elapsed: 13.7min\n",
      "[Parallel(n_jobs=-1)]: Done 108 tasks      | elapsed: 14.3min\n",
      "[Parallel(n_jobs=-1)]: Done 109 tasks      | elapsed: 14.3min\n",
      "[Parallel(n_jobs=-1)]: Done 110 tasks      | elapsed: 14.3min\n",
      "[Parallel(n_jobs=-1)]: Done 111 tasks      | elapsed: 14.3min\n",
      "[Parallel(n_jobs=-1)]: Done 112 tasks      | elapsed: 14.4min\n",
      "[Parallel(n_jobs=-1)]: Done 113 tasks      | elapsed: 14.4min\n",
      "[Parallel(n_jobs=-1)]: Done 114 tasks      | elapsed: 14.5min\n",
      "[Parallel(n_jobs=-1)]: Done 115 tasks      | elapsed: 14.7min\n",
      "[Parallel(n_jobs=-1)]: Done 116 tasks      | elapsed: 14.9min\n",
      "[Parallel(n_jobs=-1)]: Done 117 tasks      | elapsed: 15.0min\n",
      "[Parallel(n_jobs=-1)]: Done 118 tasks      | elapsed: 15.1min\n",
      "[Parallel(n_jobs=-1)]: Done 119 tasks      | elapsed: 15.2min\n",
      "[Parallel(n_jobs=-1)]: Done 120 tasks      | elapsed: 15.4min\n",
      "[Parallel(n_jobs=-1)]: Done 121 tasks      | elapsed: 15.4min\n",
      "[Parallel(n_jobs=-1)]: Done 122 tasks      | elapsed: 15.5min\n",
      "[Parallel(n_jobs=-1)]: Done 123 tasks      | elapsed: 15.5min\n",
      "[Parallel(n_jobs=-1)]: Done 124 tasks      | elapsed: 15.5min\n",
      "[Parallel(n_jobs=-1)]: Done 125 tasks      | elapsed: 15.5min\n",
      "[Parallel(n_jobs=-1)]: Done 126 tasks      | elapsed: 15.6min\n",
      "[Parallel(n_jobs=-1)]: Done 127 tasks      | elapsed: 16.1min\n",
      "[Parallel(n_jobs=-1)]: Done 128 tasks      | elapsed: 16.1min\n",
      "[Parallel(n_jobs=-1)]: Done 129 tasks      | elapsed: 16.1min\n",
      "[Parallel(n_jobs=-1)]: Done 130 tasks      | elapsed: 16.1min\n",
      "[Parallel(n_jobs=-1)]: Done 131 tasks      | elapsed: 16.2min\n",
      "[Parallel(n_jobs=-1)]: Done 132 tasks      | elapsed: 16.3min\n",
      "[Parallel(n_jobs=-1)]: Done 133 tasks      | elapsed: 16.3min\n",
      "[Parallel(n_jobs=-1)]: Done 134 tasks      | elapsed: 16.3min\n",
      "[Parallel(n_jobs=-1)]: Done 135 tasks      | elapsed: 16.4min\n",
      "[Parallel(n_jobs=-1)]: Done 136 tasks      | elapsed: 16.7min\n",
      "[Parallel(n_jobs=-1)]: Done 137 tasks      | elapsed: 16.9min\n",
      "[Parallel(n_jobs=-1)]: Done 138 tasks      | elapsed: 17.1min\n",
      "[Parallel(n_jobs=-1)]: Done 139 tasks      | elapsed: 17.2min\n",
      "[Parallel(n_jobs=-1)]: Done 140 tasks      | elapsed: 17.3min\n",
      "[Parallel(n_jobs=-1)]: Done 141 tasks      | elapsed: 17.3min\n",
      "[Parallel(n_jobs=-1)]: Done 142 tasks      | elapsed: 17.3min\n",
      "[Parallel(n_jobs=-1)]: Done 143 tasks      | elapsed: 17.3min\n",
      "[Parallel(n_jobs=-1)]: Done 144 tasks      | elapsed: 17.4min\n",
      "[Parallel(n_jobs=-1)]: Done 145 tasks      | elapsed: 18.3min\n",
      "[Parallel(n_jobs=-1)]: Done 146 tasks      | elapsed: 18.3min\n",
      "[Parallel(n_jobs=-1)]: Done 147 tasks      | elapsed: 18.3min\n",
      "[Parallel(n_jobs=-1)]: Done 148 tasks      | elapsed: 18.3min\n",
      "[Parallel(n_jobs=-1)]: Done 149 tasks      | elapsed: 18.3min\n",
      "[Parallel(n_jobs=-1)]: Done 150 tasks      | elapsed: 18.5min\n",
      "[Parallel(n_jobs=-1)]: Done 151 tasks      | elapsed: 18.5min\n",
      "[Parallel(n_jobs=-1)]: Done 152 tasks      | elapsed: 18.5min\n",
      "[Parallel(n_jobs=-1)]: Done 153 tasks      | elapsed: 18.7min\n",
      "[Parallel(n_jobs=-1)]: Done 154 tasks      | elapsed: 19.3min\n",
      "[Parallel(n_jobs=-1)]: Done 155 tasks      | elapsed: 19.3min\n",
      "[Parallel(n_jobs=-1)]: Done 156 tasks      | elapsed: 19.4min\n",
      "[Parallel(n_jobs=-1)]: Done 157 tasks      | elapsed: 19.4min\n",
      "[Parallel(n_jobs=-1)]: Done 158 tasks      | elapsed: 19.4min\n",
      "[Parallel(n_jobs=-1)]: Done 159 tasks      | elapsed: 19.5min\n",
      "[Parallel(n_jobs=-1)]: Done 160 tasks      | elapsed: 19.6min\n",
      "[Parallel(n_jobs=-1)]: Done 161 tasks      | elapsed: 19.6min\n",
      "[Parallel(n_jobs=-1)]: Done 162 tasks      | elapsed: 20.2min\n",
      "[Parallel(n_jobs=-1)]: Done 163 tasks      | elapsed: 20.5min\n",
      "[Parallel(n_jobs=-1)]: Done 164 tasks      | elapsed: 20.5min\n",
      "[Parallel(n_jobs=-1)]: Done 165 tasks      | elapsed: 20.5min\n",
      "[Parallel(n_jobs=-1)]: Done 166 tasks      | elapsed: 20.6min\n",
      "[Parallel(n_jobs=-1)]: Done 167 tasks      | elapsed: 20.7min\n",
      "[Parallel(n_jobs=-1)]: Done 168 tasks      | elapsed: 20.7min\n",
      "[Parallel(n_jobs=-1)]: Done 169 tasks      | elapsed: 20.7min\n",
      "[Parallel(n_jobs=-1)]: Done 170 tasks      | elapsed: 20.8min\n",
      "[Parallel(n_jobs=-1)]: Done 171 tasks      | elapsed: 21.2min\n",
      "[Parallel(n_jobs=-1)]: Done 172 tasks      | elapsed: 21.6min\n",
      "[Parallel(n_jobs=-1)]: Done 173 tasks      | elapsed: 21.7min\n",
      "[Parallel(n_jobs=-1)]: Done 174 tasks      | elapsed: 21.7min\n",
      "[Parallel(n_jobs=-1)]: Done 175 tasks      | elapsed: 21.7min\n",
      "[Parallel(n_jobs=-1)]: Done 176 tasks      | elapsed: 21.9min\n",
      "[Parallel(n_jobs=-1)]: Done 177 tasks      | elapsed: 21.9min\n",
      "[Parallel(n_jobs=-1)]: Done 178 tasks      | elapsed: 21.9min\n",
      "[Parallel(n_jobs=-1)]: Done 179 tasks      | elapsed: 22.2min\n",
      "[Parallel(n_jobs=-1)]: Done 180 tasks      | elapsed: 22.4min\n",
      "[Parallel(n_jobs=-1)]: Done 181 tasks      | elapsed: 22.7min\n",
      "[Parallel(n_jobs=-1)]: Done 182 tasks      | elapsed: 22.9min\n",
      "[Parallel(n_jobs=-1)]: Done 183 tasks      | elapsed: 22.9min\n",
      "[Parallel(n_jobs=-1)]: Done 184 tasks      | elapsed: 22.9min\n",
      "[Parallel(n_jobs=-1)]: Done 185 tasks      | elapsed: 23.1min\n",
      "[Parallel(n_jobs=-1)]: Done 186 tasks      | elapsed: 23.1min\n",
      "[Parallel(n_jobs=-1)]: Done 187 tasks      | elapsed: 23.1min\n",
      "[Parallel(n_jobs=-1)]: Done 188 tasks      | elapsed: 23.2min\n",
      "[Parallel(n_jobs=-1)]: Done 189 tasks      | elapsed: 23.6min\n",
      "[Parallel(n_jobs=-1)]: Done 190 tasks      | elapsed: 24.1min\n",
      "[Parallel(n_jobs=-1)]: Done 191 tasks      | elapsed: 24.1min\n",
      "[Parallel(n_jobs=-1)]: Done 192 tasks      | elapsed: 24.1min\n",
      "[Parallel(n_jobs=-1)]: Done 193 tasks      | elapsed: 24.2min\n",
      "[Parallel(n_jobs=-1)]: Done 194 tasks      | elapsed: 24.3min\n",
      "[Parallel(n_jobs=-1)]: Done 195 tasks      | elapsed: 24.3min\n",
      "[Parallel(n_jobs=-1)]: Done 196 tasks      | elapsed: 24.4min\n",
      "[Parallel(n_jobs=-1)]: Done 197 tasks      | elapsed: 24.4min\n",
      "[Parallel(n_jobs=-1)]: Done 198 tasks      | elapsed: 24.7min\n",
      "[Parallel(n_jobs=-1)]: Done 199 tasks      | elapsed: 25.2min\n",
      "[Parallel(n_jobs=-1)]: Done 200 tasks      | elapsed: 25.3min\n",
      "[Parallel(n_jobs=-1)]: Done 201 tasks      | elapsed: 25.3min\n",
      "[Parallel(n_jobs=-1)]: Done 202 tasks      | elapsed: 25.4min\n",
      "[Parallel(n_jobs=-1)]: Done 203 tasks      | elapsed: 25.5min\n",
      "[Parallel(n_jobs=-1)]: Done 204 tasks      | elapsed: 25.5min\n",
      "[Parallel(n_jobs=-1)]: Done 205 tasks      | elapsed: 25.5min\n",
      "[Parallel(n_jobs=-1)]: Done 206 tasks      | elapsed: 25.6min\n",
      "[Parallel(n_jobs=-1)]: Done 207 tasks      | elapsed: 26.0min\n",
      "[Parallel(n_jobs=-1)]: Done 208 tasks      | elapsed: 26.4min\n",
      "[Parallel(n_jobs=-1)]: Done 209 tasks      | elapsed: 26.5min\n",
      "[Parallel(n_jobs=-1)]: Done 210 tasks      | elapsed: 26.5min\n",
      "[Parallel(n_jobs=-1)]: Done 211 tasks      | elapsed: 26.5min\n",
      "[Parallel(n_jobs=-1)]: Done 212 tasks      | elapsed: 26.7min\n",
      "[Parallel(n_jobs=-1)]: Done 213 tasks      | elapsed: 26.7min\n",
      "[Parallel(n_jobs=-1)]: Done 214 tasks      | elapsed: 26.7min\n",
      "[Parallel(n_jobs=-1)]: Done 215 tasks      | elapsed: 26.7min\n",
      "[Parallel(n_jobs=-1)]: Done 216 tasks      | elapsed: 27.1min\n",
      "[Parallel(n_jobs=-1)]: Done 217 tasks      | elapsed: 27.4min\n",
      "[Parallel(n_jobs=-1)]: Done 218 tasks      | elapsed: 27.5min\n",
      "[Parallel(n_jobs=-1)]: Done 219 tasks      | elapsed: 27.5min\n",
      "[Parallel(n_jobs=-1)]: Done 220 tasks      | elapsed: 27.5min\n",
      "[Parallel(n_jobs=-1)]: Done 221 tasks      | elapsed: 27.6min\n",
      "[Parallel(n_jobs=-1)]: Done 222 tasks      | elapsed: 27.7min\n",
      "[Parallel(n_jobs=-1)]: Done 223 tasks      | elapsed: 27.7min\n",
      "[Parallel(n_jobs=-1)]: Done 224 tasks      | elapsed: 27.8min\n",
      "[Parallel(n_jobs=-1)]: Done 225 tasks      | elapsed: 28.1min\n",
      "[Parallel(n_jobs=-1)]: Done 226 tasks      | elapsed: 28.3min\n",
      "[Parallel(n_jobs=-1)]: Done 227 tasks      | elapsed: 28.5min\n",
      "[Parallel(n_jobs=-1)]: Done 228 tasks      | elapsed: 28.5min\n",
      "[Parallel(n_jobs=-1)]: Done 229 tasks      | elapsed: 28.5min\n",
      "[Parallel(n_jobs=-1)]: Done 230 tasks      | elapsed: 28.6min\n",
      "[Parallel(n_jobs=-1)]: Done 231 tasks      | elapsed: 28.6min\n",
      "[Parallel(n_jobs=-1)]: Done 232 tasks      | elapsed: 28.7min\n",
      "[Parallel(n_jobs=-1)]: Done 233 tasks      | elapsed: 28.7min\n",
      "[Parallel(n_jobs=-1)]: Done 234 tasks      | elapsed: 29.1min\n",
      "[Parallel(n_jobs=-1)]: Done 235 tasks      | elapsed: 29.4min\n",
      "[Parallel(n_jobs=-1)]: Done 236 tasks      | elapsed: 29.5min\n",
      "[Parallel(n_jobs=-1)]: Done 237 tasks      | elapsed: 29.5min\n",
      "[Parallel(n_jobs=-1)]: Done 238 tasks      | elapsed: 29.5min\n",
      "[Parallel(n_jobs=-1)]: Done 239 tasks      | elapsed: 29.8min\n",
      "[Parallel(n_jobs=-1)]: Done 240 tasks      | elapsed: 29.8min\n",
      "[Parallel(n_jobs=-1)]: Done 241 tasks      | elapsed: 29.8min\n",
      "[Parallel(n_jobs=-1)]: Done 242 tasks      | elapsed: 29.8min\n",
      "[Parallel(n_jobs=-1)]: Done 243 tasks      | elapsed: 30.0min\n",
      "[Parallel(n_jobs=-1)]: Done 244 tasks      | elapsed: 30.3min\n",
      "[Parallel(n_jobs=-1)]: Done 245 tasks      | elapsed: 30.7min\n",
      "[Parallel(n_jobs=-1)]: Done 246 tasks      | elapsed: 31.0min\n",
      "[Parallel(n_jobs=-1)]: Done 247 tasks      | elapsed: 31.1min\n",
      "[Parallel(n_jobs=-1)]: Done 248 tasks      | elapsed: 31.3min\n",
      "[Parallel(n_jobs=-1)]: Done 249 tasks      | elapsed: 31.3min\n",
      "[Parallel(n_jobs=-1)]: Done 250 tasks      | elapsed: 31.3min\n",
      "[Parallel(n_jobs=-1)]: Done 251 tasks      | elapsed: 31.3min\n",
      "[Parallel(n_jobs=-1)]: Done 252 tasks      | elapsed: 31.4min\n",
      "[Parallel(n_jobs=-1)]: Done 253 tasks      | elapsed: 32.9min\n",
      "[Parallel(n_jobs=-1)]: Done 254 tasks      | elapsed: 32.9min\n",
      "[Parallel(n_jobs=-1)]: Done 255 tasks      | elapsed: 32.9min\n",
      "[Parallel(n_jobs=-1)]: Done 256 tasks      | elapsed: 32.9min\n",
      "[Parallel(n_jobs=-1)]: Done 257 tasks      | elapsed: 33.1min\n",
      "[Parallel(n_jobs=-1)]: Done 258 tasks      | elapsed: 33.2min\n",
      "[Parallel(n_jobs=-1)]: Done 259 tasks      | elapsed: 33.2min\n",
      "[Parallel(n_jobs=-1)]: Done 260 tasks      | elapsed: 33.2min\n",
      "[Parallel(n_jobs=-1)]: Done 261 tasks      | elapsed: 33.4min\n",
      "[Parallel(n_jobs=-1)]: Done 262 tasks      | elapsed: 34.5min\n",
      "[Parallel(n_jobs=-1)]: Done 263 tasks      | elapsed: 34.5min\n",
      "[Parallel(n_jobs=-1)]: Done 264 tasks      | elapsed: 34.6min\n",
      "[Parallel(n_jobs=-1)]: Done 265 tasks      | elapsed: 34.7min\n",
      "[Parallel(n_jobs=-1)]: Done 266 tasks      | elapsed: 34.7min\n",
      "[Parallel(n_jobs=-1)]: Done 267 tasks      | elapsed: 34.9min\n",
      "[Parallel(n_jobs=-1)]: Done 268 tasks      | elapsed: 34.9min\n",
      "[Parallel(n_jobs=-1)]: Done 269 tasks      | elapsed: 35.0min\n",
      "[Parallel(n_jobs=-1)]: Done 270 tasks      | elapsed: 35.8min\n",
      "[Parallel(n_jobs=-1)]: Done 271 tasks      | elapsed: 36.2min\n",
      "[Parallel(n_jobs=-1)]: Done 272 tasks      | elapsed: 36.2min\n",
      "[Parallel(n_jobs=-1)]: Done 273 tasks      | elapsed: 36.4min\n",
      "[Parallel(n_jobs=-1)]: Done 274 tasks      | elapsed: 36.4min\n",
      "[Parallel(n_jobs=-1)]: Done 275 tasks      | elapsed: 36.4min\n",
      "[Parallel(n_jobs=-1)]: Done 276 tasks      | elapsed: 36.6min\n",
      "[Parallel(n_jobs=-1)]: Done 277 tasks      | elapsed: 36.7min\n",
      "[Parallel(n_jobs=-1)]: Done 278 tasks      | elapsed: 36.7min\n",
      "[Parallel(n_jobs=-1)]: Done 279 tasks      | elapsed: 37.5min\n",
      "[Parallel(n_jobs=-1)]: Done 280 tasks      | elapsed: 38.0min\n",
      "[Parallel(n_jobs=-1)]: Done 281 tasks      | elapsed: 38.0min\n",
      "[Parallel(n_jobs=-1)]: Done 282 tasks      | elapsed: 38.1min\n",
      "[Parallel(n_jobs=-1)]: Done 283 tasks      | elapsed: 38.2min\n",
      "[Parallel(n_jobs=-1)]: Done 284 tasks      | elapsed: 38.3min\n",
      "[Parallel(n_jobs=-1)]: Done 285 tasks      | elapsed: 38.4min\n",
      "[Parallel(n_jobs=-1)]: Done 286 tasks      | elapsed: 38.5min\n",
      "[Parallel(n_jobs=-1)]: Done 287 tasks      | elapsed: 38.8min\n",
      "[Parallel(n_jobs=-1)]: Done 288 tasks      | elapsed: 39.2min\n",
      "[Parallel(n_jobs=-1)]: Done 289 tasks      | elapsed: 39.8min\n",
      "[Parallel(n_jobs=-1)]: Done 290 tasks      | elapsed: 39.9min\n",
      "[Parallel(n_jobs=-1)]: Done 291 tasks      | elapsed: 39.9min\n",
      "[Parallel(n_jobs=-1)]: Done 292 tasks      | elapsed: 40.0min\n",
      "[Parallel(n_jobs=-1)]: Done 293 tasks      | elapsed: 40.2min\n",
      "[Parallel(n_jobs=-1)]: Done 294 tasks      | elapsed: 40.2min\n",
      "[Parallel(n_jobs=-1)]: Done 295 tasks      | elapsed: 40.3min\n",
      "[Parallel(n_jobs=-1)]: Done 296 tasks      | elapsed: 40.5min\n",
      "[Parallel(n_jobs=-1)]: Done 297 tasks      | elapsed: 40.9min\n",
      "[Parallel(n_jobs=-1)]: Done 298 tasks      | elapsed: 41.7min\n",
      "[Parallel(n_jobs=-1)]: Done 299 tasks      | elapsed: 41.8min\n",
      "[Parallel(n_jobs=-1)]: Done 300 tasks      | elapsed: 41.8min\n",
      "[Parallel(n_jobs=-1)]: Done 301 tasks      | elapsed: 41.9min\n",
      "[Parallel(n_jobs=-1)]: Done 302 tasks      | elapsed: 42.1min\n",
      "[Parallel(n_jobs=-1)]: Done 303 tasks      | elapsed: 42.1min\n",
      "[Parallel(n_jobs=-1)]: Done 304 tasks      | elapsed: 42.2min\n",
      "[Parallel(n_jobs=-1)]: Done 305 tasks      | elapsed: 42.2min\n",
      "[Parallel(n_jobs=-1)]: Done 306 tasks      | elapsed: 42.8min\n",
      "[Parallel(n_jobs=-1)]: Done 307 tasks      | elapsed: 43.6min\n",
      "[Parallel(n_jobs=-1)]: Done 308 tasks      | elapsed: 43.6min\n",
      "[Parallel(n_jobs=-1)]: Done 309 tasks      | elapsed: 43.7min\n",
      "[Parallel(n_jobs=-1)]: Done 310 tasks      | elapsed: 43.8min\n",
      "[Parallel(n_jobs=-1)]: Done 311 tasks      | elapsed: 44.0min\n",
      "[Parallel(n_jobs=-1)]: Done 312 tasks      | elapsed: 44.0min\n",
      "[Parallel(n_jobs=-1)]: Done 313 tasks      | elapsed: 44.0min\n",
      "[Parallel(n_jobs=-1)]: Done 314 tasks      | elapsed: 44.1min\n",
      "[Parallel(n_jobs=-1)]: Done 315 tasks      | elapsed: 44.7min\n",
      "[Parallel(n_jobs=-1)]: Done 316 tasks      | elapsed: 45.3min\n",
      "[Parallel(n_jobs=-1)]: Done 317 tasks      | elapsed: 45.5min\n",
      "[Parallel(n_jobs=-1)]: Done 318 tasks      | elapsed: 45.5min\n",
      "[Parallel(n_jobs=-1)]: Done 319 tasks      | elapsed: 45.5min\n",
      "[Parallel(n_jobs=-1)]: Done 320 tasks      | elapsed: 45.7min\n",
      "[Parallel(n_jobs=-1)]: Done 321 tasks      | elapsed: 45.7min\n",
      "[Parallel(n_jobs=-1)]: Done 322 tasks      | elapsed: 45.7min\n",
      "[Parallel(n_jobs=-1)]: Done 323 tasks      | elapsed: 45.8min\n",
      "[Parallel(n_jobs=-1)]: Done 324 tasks      | elapsed: 46.4min\n",
      "[Parallel(n_jobs=-1)]: Done 325 tasks      | elapsed: 46.4min\n",
      "[Parallel(n_jobs=-1)]: Done 326 tasks      | elapsed: 46.4min\n",
      "[Parallel(n_jobs=-1)]: Done 327 tasks      | elapsed: 46.5min\n",
      "[Parallel(n_jobs=-1)]: Done 328 tasks      | elapsed: 46.5min\n",
      "[Parallel(n_jobs=-1)]: Done 329 tasks      | elapsed: 46.7min\n",
      "[Parallel(n_jobs=-1)]: Done 330 tasks      | elapsed: 46.7min\n",
      "[Parallel(n_jobs=-1)]: Done 331 tasks      | elapsed: 47.1min\n",
      "[Parallel(n_jobs=-1)]: Done 332 tasks      | elapsed: 47.3min\n",
      "[Parallel(n_jobs=-1)]: Done 333 tasks      | elapsed: 47.4min\n",
      "[Parallel(n_jobs=-1)]: Done 334 tasks      | elapsed: 47.4min\n",
      "[Parallel(n_jobs=-1)]: Done 335 tasks      | elapsed: 47.7min\n",
      "[Parallel(n_jobs=-1)]: Done 336 tasks      | elapsed: 47.7min\n",
      "[Parallel(n_jobs=-1)]: Done 337 tasks      | elapsed: 47.8min\n",
      "[Parallel(n_jobs=-1)]: Done 338 tasks      | elapsed: 47.9min\n",
      "[Parallel(n_jobs=-1)]: Done 339 tasks      | elapsed: 47.9min\n",
      "[Parallel(n_jobs=-1)]: Done 340 tasks      | elapsed: 47.9min\n",
      "[Parallel(n_jobs=-1)]: Done 341 tasks      | elapsed: 47.9min\n",
      "[Parallel(n_jobs=-1)]: Done 342 tasks      | elapsed: 48.3min\n",
      "[Parallel(n_jobs=-1)]: Done 343 tasks      | elapsed: 48.6min\n",
      "[Parallel(n_jobs=-1)]: Done 344 tasks      | elapsed: 48.6min\n",
      "[Parallel(n_jobs=-1)]: Done 345 tasks      | elapsed: 48.6min\n",
      "[Parallel(n_jobs=-1)]: Done 346 tasks      | elapsed: 48.7min\n",
      "[Parallel(n_jobs=-1)]: Done 347 tasks      | elapsed: 48.8min\n",
      "[Parallel(n_jobs=-1)]: Done 348 tasks      | elapsed: 48.9min\n",
      "[Parallel(n_jobs=-1)]: Done 349 tasks      | elapsed: 48.9min\n",
      "[Parallel(n_jobs=-1)]: Done 350 tasks      | elapsed: 48.9min\n",
      "[Parallel(n_jobs=-1)]: Done 351 tasks      | elapsed: 48.9min\n",
      "[Parallel(n_jobs=-1)]: Done 352 tasks      | elapsed: 49.4min\n",
      "[Parallel(n_jobs=-1)]: Done 353 tasks      | elapsed: 49.7min\n",
      "[Parallel(n_jobs=-1)]: Done 354 tasks      | elapsed: 50.0min\n",
      "[Parallel(n_jobs=-1)]: Done 355 tasks      | elapsed: 50.0min\n",
      "[Parallel(n_jobs=-1)]: Done 356 tasks      | elapsed: 50.1min\n",
      "[Parallel(n_jobs=-1)]: Done 357 tasks      | elapsed: 50.1min\n",
      "[Parallel(n_jobs=-1)]: Done 358 tasks      | elapsed: 50.2min\n",
      "[Parallel(n_jobs=-1)]: Done 359 tasks      | elapsed: 50.3min\n",
      "[Parallel(n_jobs=-1)]: Done 360 tasks      | elapsed: 50.3min\n",
      "[Parallel(n_jobs=-1)]: Done 361 tasks      | elapsed: 51.5min\n",
      "[Parallel(n_jobs=-1)]: Done 362 tasks      | elapsed: 51.5min\n",
      "[Parallel(n_jobs=-1)]: Done 363 tasks      | elapsed: 51.5min\n",
      "[Parallel(n_jobs=-1)]: Done 364 tasks      | elapsed: 51.5min\n",
      "[Parallel(n_jobs=-1)]: Done 365 tasks      | elapsed: 51.6min\n",
      "[Parallel(n_jobs=-1)]: Done 366 tasks      | elapsed: 51.8min\n",
      "[Parallel(n_jobs=-1)]: Done 367 tasks      | elapsed: 51.8min\n",
      "[Parallel(n_jobs=-1)]: Done 368 tasks      | elapsed: 51.8min\n",
      "[Parallel(n_jobs=-1)]: Done 369 tasks      | elapsed: 52.0min\n",
      "[Parallel(n_jobs=-1)]: Done 370 tasks      | elapsed: 52.9min\n",
      "[Parallel(n_jobs=-1)]: Done 371 tasks      | elapsed: 53.0min\n",
      "[Parallel(n_jobs=-1)]: Done 372 tasks      | elapsed: 53.0min\n",
      "[Parallel(n_jobs=-1)]: Done 373 tasks      | elapsed: 53.1min\n",
      "[Parallel(n_jobs=-1)]: Done 374 tasks      | elapsed: 53.1min\n",
      "[Parallel(n_jobs=-1)]: Done 375 tasks      | elapsed: 53.3min\n",
      "[Parallel(n_jobs=-1)]: Done 376 tasks      | elapsed: 53.3min\n",
      "[Parallel(n_jobs=-1)]: Done 377 tasks      | elapsed: 53.4min\n",
      "[Parallel(n_jobs=-1)]: Done 378 tasks      | elapsed: 54.1min\n",
      "[Parallel(n_jobs=-1)]: Done 379 tasks      | elapsed: 54.4min\n",
      "[Parallel(n_jobs=-1)]: Done 380 tasks      | elapsed: 54.4min\n",
      "[Parallel(n_jobs=-1)]: Done 381 tasks      | elapsed: 54.5min\n",
      "[Parallel(n_jobs=-1)]: Done 382 tasks      | elapsed: 54.6min\n",
      "[Parallel(n_jobs=-1)]: Done 383 tasks      | elapsed: 54.6min\n",
      "[Parallel(n_jobs=-1)]: Done 384 tasks      | elapsed: 54.7min\n",
      "[Parallel(n_jobs=-1)]: Done 385 tasks      | elapsed: 54.8min\n",
      "[Parallel(n_jobs=-1)]: Done 386 tasks      | elapsed: 54.8min\n",
      "[Parallel(n_jobs=-1)]: Done 387 tasks      | elapsed: 55.4min\n",
      "[Parallel(n_jobs=-1)]: Done 388 tasks      | elapsed: 55.8min\n",
      "[Parallel(n_jobs=-1)]: Done 389 tasks      | elapsed: 55.9min\n",
      "[Parallel(n_jobs=-1)]: Done 390 tasks      | elapsed: 55.9min\n",
      "[Parallel(n_jobs=-1)]: Done 391 tasks      | elapsed: 56.0min\n",
      "[Parallel(n_jobs=-1)]: Done 392 tasks      | elapsed: 56.1min\n",
      "[Parallel(n_jobs=-1)]: Done 393 tasks      | elapsed: 56.2min\n",
      "[Parallel(n_jobs=-1)]: Done 394 tasks      | elapsed: 56.3min\n",
      "[Parallel(n_jobs=-1)]: Done 395 tasks      | elapsed: 56.5min\n",
      "[Parallel(n_jobs=-1)]: Done 396 tasks      | elapsed: 56.8min\n",
      "[Parallel(n_jobs=-1)]: Done 397 tasks      | elapsed: 57.2min\n",
      "[Parallel(n_jobs=-1)]: Done 398 tasks      | elapsed: 57.3min\n",
      "[Parallel(n_jobs=-1)]: Done 399 tasks      | elapsed: 57.4min\n",
      "[Parallel(n_jobs=-1)]: Done 400 tasks      | elapsed: 57.5min\n",
      "[Parallel(n_jobs=-1)]: Done 401 tasks      | elapsed: 57.6min\n",
      "[Parallel(n_jobs=-1)]: Done 402 tasks      | elapsed: 57.6min\n",
      "[Parallel(n_jobs=-1)]: Done 403 tasks      | elapsed: 57.7min\n",
      "[Parallel(n_jobs=-1)]: Done 404 tasks      | elapsed: 57.8min\n",
      "[Parallel(n_jobs=-1)]: Done 405 tasks      | elapsed: 58.2min\n",
      "[Parallel(n_jobs=-1)]: Done 406 tasks      | elapsed: 58.8min\n",
      "[Parallel(n_jobs=-1)]: Done 407 tasks      | elapsed: 58.9min\n",
      "[Parallel(n_jobs=-1)]: Done 408 tasks      | elapsed: 58.9min\n",
      "[Parallel(n_jobs=-1)]: Done 409 tasks      | elapsed: 59.0min\n",
      "[Parallel(n_jobs=-1)]: Done 410 tasks      | elapsed: 59.1min\n",
      "[Parallel(n_jobs=-1)]: Done 411 tasks      | elapsed: 59.2min\n",
      "[Parallel(n_jobs=-1)]: Done 412 tasks      | elapsed: 59.2min\n",
      "[Parallel(n_jobs=-1)]: Done 413 tasks      | elapsed: 59.3min\n",
      "[Parallel(n_jobs=-1)]: Done 414 tasks      | elapsed: 59.6min\n",
      "[Parallel(n_jobs=-1)]: Done 415 tasks      | elapsed: 60.3min\n",
      "[Parallel(n_jobs=-1)]: Done 416 tasks      | elapsed: 60.3min\n",
      "[Parallel(n_jobs=-1)]: Done 417 tasks      | elapsed: 60.4min\n",
      "[Parallel(n_jobs=-1)]: Done 432 out of 432 | elapsed: 62.7min finished\n",
      "/Users/stevencontreras/anaconda3/envs/learn-env/lib/python3.7/site-packages/sklearn/model_selection/_search.py:765: DataConversionWarning: A column-vector y was passed when a 1d array was expected. Please change the shape of y to (n_samples,), for example using ravel().\n",
      "  self.best_estimator_.fit(X, y, **fit_params)\n"
     ]
    },
    {
     "name": "stdout",
     "output_type": "stream",
     "text": [
      "CPU times: user 2min 38s, sys: 2.86 s, total: 2min 41s\n",
      "Wall time: 1h 3min 4s\n"
     ]
    },
    {
     "data": {
      "text/html": [
       "<p><br>"
      ],
      "text/plain": [
       "<IPython.core.display.HTML object>"
      ]
     },
     "metadata": {},
     "output_type": "display_data"
    },
    {
     "data": {
      "text/html": [
       "Grid Search found the following optimal parameters: "
      ],
      "text/plain": [
       "<IPython.core.display.HTML object>"
      ]
     },
     "metadata": {},
     "output_type": "display_data"
    },
    {
     "data": {
      "text/html": [
       "<pre>{   'bootstrap': True,\n",
       "    'criterion': 'gini',\n",
       "    'max_depth': 75,\n",
       "    'max_features': 'sqrt',\n",
       "    'n_estimators': 1000,\n",
       "    'n_jobs': -1}</pre>"
      ],
      "text/plain": [
       "<IPython.core.display.HTML object>"
      ]
     },
     "metadata": {},
     "output_type": "display_data"
    },
    {
     "data": {
      "text/html": [
       "<p><br>"
      ],
      "text/plain": [
       "<IPython.core.display.HTML object>"
      ]
     },
     "metadata": {},
     "output_type": "display_data"
    },
    {
     "data": {
      "text/html": [
       "Fitting classifier..."
      ],
      "text/plain": [
       "<IPython.core.display.HTML object>"
      ]
     },
     "metadata": {},
     "output_type": "display_data"
    },
    {
     "name": "stdout",
     "output_type": "stream",
     "text": [
      "CPU times: user 2min 34s, sys: 2.17 s, total: 2min 36s\n",
      "Wall time: 21.4 s\n"
     ]
    },
    {
     "data": {
      "text/html": [
       "<pre>\tALL DONE!</pre>"
      ],
      "text/plain": [
       "<IPython.core.display.HTML object>"
      ]
     },
     "metadata": {},
     "output_type": "display_data"
    },
    {
     "data": {
      "text/html": [
       "<p><br>"
      ],
      "text/plain": [
       "<IPython.core.display.HTML object>"
      ]
     },
     "metadata": {},
     "output_type": "display_data"
    },
    {
     "data": {
      "text/html": [
       "Predicting labels on training data..."
      ],
      "text/plain": [
       "<IPython.core.display.HTML object>"
      ]
     },
     "metadata": {},
     "output_type": "display_data"
    },
    {
     "data": {
      "text/html": [
       "<pre>\tALL DONE!</pre>"
      ],
      "text/plain": [
       "<IPython.core.display.HTML object>"
      ]
     },
     "metadata": {},
     "output_type": "display_data"
    },
    {
     "data": {
      "text/html": [
       "<p><br>"
      ],
      "text/plain": [
       "<IPython.core.display.HTML object>"
      ]
     },
     "metadata": {},
     "output_type": "display_data"
    },
    {
     "data": {
      "text/html": [
       "Training Accuracy: 99.566"
      ],
      "text/plain": [
       "<IPython.core.display.HTML object>"
      ]
     },
     "metadata": {},
     "output_type": "display_data"
    },
    {
     "data": {
      "text/html": [
       "<p><br>"
      ],
      "text/plain": [
       "<IPython.core.display.HTML object>"
      ]
     },
     "metadata": {},
     "output_type": "display_data"
    },
    {
     "data": {
      "text/html": [
       "<pre>                         precision    recall  f1-score   support\n",
       "\n",
       "             functional       1.00      1.00      1.00     28991\n",
       "functional needs repair       0.98      0.97      0.98      3885\n",
       "         non functional       1.00      1.00      1.00     20584\n",
       "\n",
       "               accuracy                           1.00     53460\n",
       "              macro avg       0.99      0.99      0.99     53460\n",
       "           weighted avg       1.00      1.00      1.00     53460\n",
       "</pre>"
      ],
      "text/plain": [
       "<IPython.core.display.HTML object>"
      ]
     },
     "metadata": {},
     "output_type": "display_data"
    },
    {
     "data": {
      "text/html": [
       "<p><br>"
      ],
      "text/plain": [
       "<IPython.core.display.HTML object>"
      ]
     },
     "metadata": {},
     "output_type": "display_data"
    },
    {
     "data": {
      "text/html": [
       "Predicting labels on testing data..."
      ],
      "text/plain": [
       "<IPython.core.display.HTML object>"
      ]
     },
     "metadata": {},
     "output_type": "display_data"
    },
    {
     "data": {
      "text/html": [
       "<pre>\tALL DONE!</pre>"
      ],
      "text/plain": [
       "<IPython.core.display.HTML object>"
      ]
     },
     "metadata": {},
     "output_type": "display_data"
    },
    {
     "data": {
      "text/html": [
       "<p><br>"
      ],
      "text/plain": [
       "<IPython.core.display.HTML object>"
      ]
     },
     "metadata": {},
     "output_type": "display_data"
    },
    {
     "data": {
      "text/html": [
       "Testing Accuracy: 81.6498"
      ],
      "text/plain": [
       "<IPython.core.display.HTML object>"
      ]
     },
     "metadata": {},
     "output_type": "display_data"
    },
    {
     "data": {
      "text/html": [
       "<p><br>"
      ],
      "text/plain": [
       "<IPython.core.display.HTML object>"
      ]
     },
     "metadata": {},
     "output_type": "display_data"
    },
    {
     "data": {
      "text/html": [
       "<pre>                         precision    recall  f1-score   support\n",
       "\n",
       "             functional       0.83      0.88      0.86      3268\n",
       "functional needs repair       0.56      0.36      0.44       432\n",
       "         non functional       0.83      0.80      0.82      2240\n",
       "\n",
       "               accuracy                           0.82      5940\n",
       "              macro avg       0.74      0.68      0.70      5940\n",
       "           weighted avg       0.81      0.82      0.81      5940\n",
       "</pre>"
      ],
      "text/plain": [
       "<IPython.core.display.HTML object>"
      ]
     },
     "metadata": {},
     "output_type": "display_data"
    },
    {
     "data": {
      "text/html": [
       "<p><br>"
      ],
      "text/plain": [
       "<IPython.core.display.HTML object>"
      ]
     },
     "metadata": {},
     "output_type": "display_data"
    },
    {
     "data": {
      "text/html": [
       "Feature Importances:"
      ],
      "text/plain": [
       "<IPython.core.display.HTML object>"
      ]
     },
     "metadata": {},
     "output_type": "display_data"
    },
    {
     "data": {
      "text/html": [
       "<pre>[   ('longitude', 0.12940984809444203),\n",
       "    ('latitude', 0.12677130236977874),\n",
       "    ('quantity_target_encoded', 0.11562598818962624),\n",
       "    ('scheme_name_target_encoded', 0.11485488445163959),\n",
       "    ('installer_target_encoded', 0.08107013970528933),\n",
       "    ('gps_height', 0.06052048832677161),\n",
       "    ('waterpoint_type_target_encoded', 0.05377843425032338),\n",
       "    ('extraction_type_target_encoded', 0.0529798333791195),\n",
       "    ('population', 0.042819217930748235),\n",
       "    ('pump_age', 0.04026566600602208),\n",
       "    ('payment_type_target_encoded', 0.02965575553811681),\n",
       "    ('source_target_encoded', 0.023339873813871898),\n",
       "    ('region_code_target_encoded', 0.019883628381739155),\n",
       "    ('district_code_target_encoded', 0.019617661721014423),\n",
       "    ('amount_tsh', 0.018663258485387278),\n",
       "    ('basin_target_encoded', 0.015750706927794383),\n",
       "    ('scheme_management_target_encoded', 0.01383604310943097),\n",
       "    ('management_target_encoded', 0.013724484742686227),\n",
       "    ('water_quality_target_encoded', 0.013237741369178503),\n",
       "    ('public_meeting', 0.007107113385831802),\n",
       "    ('permit', 0.007087929821187752)]</pre><p><br><br>"
      ],
      "text/plain": [
       "<IPython.core.display.HTML object>"
      ]
     },
     "metadata": {},
     "output_type": "display_data"
    }
   ],
   "source": [
    "run_rfclf = models_config['RandomForestClassifier']['run']\n",
    "render_HTML(f\"models_config['RandomForestClassifier']['run']: {run_rfclf}\")\n",
    "\n",
    "if run_rfclf:\n",
    "    trials = models_config['RandomForestClassifier']['trials']\n",
    "\n",
    "    render_HTML(f\"models_config['RandomForestClassifier']['trials']['run']: {trials['run']}\")\n",
    "    if trials['run']:\n",
    "        trials_list = trials['array']\n",
    "\n",
    "        best_parameters = {}\n",
    "        for i, trial in enumerate(trials_list):\n",
    "            render_HTML(f\"<p><br>trial[{i}]['gridsearch']['run']: {trial['gridsearch']['run']}<br>\")\n",
    "            params = trial['gridsearch']['last_best'] if not trial['gridsearch']['run'] else trial['gridsearch']['param_grid']\n",
    "            if trial['gridsearch']['run']:\n",
    "                params.update({'n_jobs': [-1]})\n",
    "            else:\n",
    "                params.update({'n_jobs':-1})\n",
    "            rfclf, best_parameters, model_results = clf_run_trial(RandomForestClassifier(), params, best_parameters, run_trials_gridsearch=trial['gridsearch']['run']) # note that best_parameters will be set to those used in the last trial\n",
    "\n",
    "    else:\n",
    "        best_parameters = models_config['RandomForestClassifier']['params']"
   ]
  },
  {
   "cell_type": "markdown",
   "metadata": {},
   "source": [
    "<p><br>\n",
    "<h4>Build Final Model with best params</h4>"
   ]
  },
  {
   "cell_type": "code",
   "execution_count": 40,
   "metadata": {},
   "outputs": [
    {
     "data": {
      "text/html": [
       "<p><br>"
      ],
      "text/plain": [
       "<IPython.core.display.HTML object>"
      ]
     },
     "metadata": {},
     "output_type": "display_data"
    },
    {
     "data": {
      "text/html": [
       "Grid Search (previously) found the following optimal parameters: "
      ],
      "text/plain": [
       "<IPython.core.display.HTML object>"
      ]
     },
     "metadata": {},
     "output_type": "display_data"
    },
    {
     "data": {
      "text/html": [
       "<pre>{   'bootstrap': True,\n",
       "    'criterion': 'gini',\n",
       "    'max_depth': 75,\n",
       "    'max_features': 'sqrt',\n",
       "    'n_estimators': 1000,\n",
       "    'n_jobs': -1,\n",
       "    'random_state': 42,\n",
       "    'verbose': 1}</pre>"
      ],
      "text/plain": [
       "<IPython.core.display.HTML object>"
      ]
     },
     "metadata": {},
     "output_type": "display_data"
    },
    {
     "data": {
      "text/html": [
       "<p><br>"
      ],
      "text/plain": [
       "<IPython.core.display.HTML object>"
      ]
     },
     "metadata": {},
     "output_type": "display_data"
    },
    {
     "data": {
      "text/html": [
       "Fitting classifier..."
      ],
      "text/plain": [
       "<IPython.core.display.HTML object>"
      ]
     },
     "metadata": {},
     "output_type": "display_data"
    },
    {
     "name": "stderr",
     "output_type": "stream",
     "text": [
      "[Parallel(n_jobs=-1)]: Using backend ThreadingBackend with 8 concurrent workers.\n",
      "[Parallel(n_jobs=-1)]: Done  34 tasks      | elapsed:    0.8s\n",
      "[Parallel(n_jobs=-1)]: Done 184 tasks      | elapsed:    3.9s\n",
      "[Parallel(n_jobs=-1)]: Done 434 tasks      | elapsed:    9.2s\n",
      "[Parallel(n_jobs=-1)]: Done 784 tasks      | elapsed:   16.4s\n"
     ]
    },
    {
     "name": "stdout",
     "output_type": "stream",
     "text": [
      "CPU times: user 2min 35s, sys: 2.1 s, total: 2min 37s\n",
      "Wall time: 21.3 s\n"
     ]
    },
    {
     "name": "stderr",
     "output_type": "stream",
     "text": [
      "[Parallel(n_jobs=-1)]: Done 1000 out of 1000 | elapsed:   20.9s finished\n"
     ]
    },
    {
     "data": {
      "text/html": [
       "<pre>\tALL DONE!</pre>"
      ],
      "text/plain": [
       "<IPython.core.display.HTML object>"
      ]
     },
     "metadata": {},
     "output_type": "display_data"
    },
    {
     "data": {
      "text/html": [
       "<p><br>"
      ],
      "text/plain": [
       "<IPython.core.display.HTML object>"
      ]
     },
     "metadata": {},
     "output_type": "display_data"
    },
    {
     "data": {
      "text/html": [
       "Predicting labels on training data..."
      ],
      "text/plain": [
       "<IPython.core.display.HTML object>"
      ]
     },
     "metadata": {},
     "output_type": "display_data"
    },
    {
     "name": "stderr",
     "output_type": "stream",
     "text": [
      "[Parallel(n_jobs=8)]: Using backend ThreadingBackend with 8 concurrent workers.\n",
      "[Parallel(n_jobs=8)]: Done  34 tasks      | elapsed:    0.1s\n",
      "[Parallel(n_jobs=8)]: Done 184 tasks      | elapsed:    0.5s\n",
      "[Parallel(n_jobs=8)]: Done 434 tasks      | elapsed:    1.3s\n",
      "[Parallel(n_jobs=8)]: Done 784 tasks      | elapsed:    2.3s\n",
      "[Parallel(n_jobs=8)]: Done 1000 out of 1000 | elapsed:    2.9s finished\n"
     ]
    },
    {
     "data": {
      "text/html": [
       "<pre>\tALL DONE!</pre>"
      ],
      "text/plain": [
       "<IPython.core.display.HTML object>"
      ]
     },
     "metadata": {},
     "output_type": "display_data"
    },
    {
     "data": {
      "text/html": [
       "<p><br>"
      ],
      "text/plain": [
       "<IPython.core.display.HTML object>"
      ]
     },
     "metadata": {},
     "output_type": "display_data"
    },
    {
     "data": {
      "text/html": [
       "Training Accuracy: 99.566"
      ],
      "text/plain": [
       "<IPython.core.display.HTML object>"
      ]
     },
     "metadata": {},
     "output_type": "display_data"
    },
    {
     "data": {
      "text/html": [
       "<p><br>"
      ],
      "text/plain": [
       "<IPython.core.display.HTML object>"
      ]
     },
     "metadata": {},
     "output_type": "display_data"
    },
    {
     "data": {
      "text/html": [
       "<pre>                         precision    recall  f1-score   support\n",
       "\n",
       "             functional       1.00      1.00      1.00     28991\n",
       "functional needs repair       0.98      0.97      0.98      3885\n",
       "         non functional       1.00      1.00      1.00     20584\n",
       "\n",
       "               accuracy                           1.00     53460\n",
       "              macro avg       0.99      0.99      0.99     53460\n",
       "           weighted avg       1.00      1.00      1.00     53460\n",
       "</pre>"
      ],
      "text/plain": [
       "<IPython.core.display.HTML object>"
      ]
     },
     "metadata": {},
     "output_type": "display_data"
    },
    {
     "data": {
      "text/html": [
       "<p><br>"
      ],
      "text/plain": [
       "<IPython.core.display.HTML object>"
      ]
     },
     "metadata": {},
     "output_type": "display_data"
    },
    {
     "data": {
      "text/html": [
       "Computing cross-val score on training data..."
      ],
      "text/plain": [
       "<IPython.core.display.HTML object>"
      ]
     },
     "metadata": {},
     "output_type": "display_data"
    },
    {
     "name": "stderr",
     "output_type": "stream",
     "text": [
      "[Parallel(n_jobs=-1)]: Using backend LokyBackend with 8 concurrent workers.\n",
      "[Parallel(n_jobs=-1)]: Done  52 tasks      | elapsed:    1.2s\n",
      "[Parallel(n_jobs=-1)]: Done 352 tasks      | elapsed:    6.3s\n",
      "[Parallel(n_jobs=-1)]: Done 852 tasks      | elapsed:   15.0s\n",
      "[Parallel(n_jobs=-1)]: Done 985 out of 1000 | elapsed:   17.5s remaining:    0.3s\n",
      "[Parallel(n_jobs=-1)]: Done 1000 out of 1000 | elapsed:   17.6s finished\n",
      "[Parallel(n_jobs=8)]: Using backend ThreadingBackend with 8 concurrent workers.\n",
      "[Parallel(n_jobs=8)]: Done  34 tasks      | elapsed:    0.0s\n",
      "[Parallel(n_jobs=8)]: Done 184 tasks      | elapsed:    0.1s\n",
      "[Parallel(n_jobs=8)]: Done 434 tasks      | elapsed:    0.3s\n",
      "[Parallel(n_jobs=8)]: Done 784 tasks      | elapsed:    0.5s\n",
      "[Parallel(n_jobs=8)]: Done 1000 out of 1000 | elapsed:    0.7s finished\n",
      "[Parallel(n_jobs=-1)]: Using backend LokyBackend with 8 concurrent workers.\n",
      "[Parallel(n_jobs=-1)]: Done  52 tasks      | elapsed:    1.1s\n",
      "[Parallel(n_jobs=-1)]: Done 352 tasks      | elapsed:    6.2s\n",
      "[Parallel(n_jobs=-1)]: Done 852 tasks      | elapsed:   15.0s\n",
      "[Parallel(n_jobs=-1)]: Done 985 out of 1000 | elapsed:   17.5s remaining:    0.3s\n",
      "[Parallel(n_jobs=-1)]: Done 1000 out of 1000 | elapsed:   17.7s finished\n",
      "[Parallel(n_jobs=8)]: Using backend ThreadingBackend with 8 concurrent workers.\n",
      "[Parallel(n_jobs=8)]: Done  34 tasks      | elapsed:    0.0s\n",
      "[Parallel(n_jobs=8)]: Done 184 tasks      | elapsed:    0.1s\n",
      "[Parallel(n_jobs=8)]: Done 434 tasks      | elapsed:    0.3s\n",
      "[Parallel(n_jobs=8)]: Done 784 tasks      | elapsed:    0.5s\n",
      "[Parallel(n_jobs=8)]: Done 1000 out of 1000 | elapsed:    0.6s finished\n",
      "[Parallel(n_jobs=-1)]: Using backend LokyBackend with 8 concurrent workers.\n",
      "[Parallel(n_jobs=-1)]: Done  52 tasks      | elapsed:    1.1s\n",
      "[Parallel(n_jobs=-1)]: Done 352 tasks      | elapsed:    6.2s\n",
      "[Parallel(n_jobs=-1)]: Done 852 tasks      | elapsed:   15.1s\n",
      "[Parallel(n_jobs=-1)]: Done 985 out of 1000 | elapsed:   17.4s remaining:    0.3s\n",
      "[Parallel(n_jobs=-1)]: Done 1000 out of 1000 | elapsed:   17.5s finished\n",
      "[Parallel(n_jobs=8)]: Using backend ThreadingBackend with 8 concurrent workers.\n",
      "[Parallel(n_jobs=8)]: Done  34 tasks      | elapsed:    0.0s\n",
      "[Parallel(n_jobs=8)]: Done 184 tasks      | elapsed:    0.1s\n",
      "[Parallel(n_jobs=8)]: Done 434 tasks      | elapsed:    0.3s\n",
      "[Parallel(n_jobs=8)]: Done 784 tasks      | elapsed:    0.5s\n",
      "[Parallel(n_jobs=8)]: Done 1000 out of 1000 | elapsed:    0.7s finished\n",
      "[Parallel(n_jobs=-1)]: Using backend LokyBackend with 8 concurrent workers.\n",
      "[Parallel(n_jobs=-1)]: Done  52 tasks      | elapsed:    1.1s\n",
      "[Parallel(n_jobs=-1)]: Done 352 tasks      | elapsed:    6.3s\n",
      "[Parallel(n_jobs=-1)]: Done 852 tasks      | elapsed:   15.2s\n",
      "[Parallel(n_jobs=-1)]: Done 985 out of 1000 | elapsed:   17.6s remaining:    0.3s\n",
      "[Parallel(n_jobs=-1)]: Done 1000 out of 1000 | elapsed:   17.7s finished\n",
      "[Parallel(n_jobs=8)]: Using backend ThreadingBackend with 8 concurrent workers.\n",
      "[Parallel(n_jobs=8)]: Done  34 tasks      | elapsed:    0.0s\n",
      "[Parallel(n_jobs=8)]: Done 184 tasks      | elapsed:    0.1s\n",
      "[Parallel(n_jobs=8)]: Done 434 tasks      | elapsed:    0.3s\n",
      "[Parallel(n_jobs=8)]: Done 784 tasks      | elapsed:    0.5s\n",
      "[Parallel(n_jobs=8)]: Done 1000 out of 1000 | elapsed:    0.7s finished\n",
      "[Parallel(n_jobs=-1)]: Using backend LokyBackend with 8 concurrent workers.\n",
      "[Parallel(n_jobs=-1)]: Done  52 tasks      | elapsed:    1.2s\n",
      "[Parallel(n_jobs=-1)]: Done 352 tasks      | elapsed:    6.3s\n",
      "[Parallel(n_jobs=-1)]: Done 852 tasks      | elapsed:   15.0s\n",
      "[Parallel(n_jobs=-1)]: Done 1000 out of 1000 | elapsed:   17.5s finished\n",
      "[Parallel(n_jobs=8)]: Using backend ThreadingBackend with 8 concurrent workers.\n",
      "[Parallel(n_jobs=8)]: Done  34 tasks      | elapsed:    0.0s\n",
      "[Parallel(n_jobs=8)]: Done 184 tasks      | elapsed:    0.1s\n",
      "[Parallel(n_jobs=8)]: Done 434 tasks      | elapsed:    0.3s\n",
      "[Parallel(n_jobs=8)]: Done 784 tasks      | elapsed:    0.5s\n",
      "[Parallel(n_jobs=8)]: Done 1000 out of 1000 | elapsed:    0.6s finished\n"
     ]
    },
    {
     "data": {
      "text/html": [
       "<pre>\tALL DONE! scores: [0.8191171  0.81238309 0.80995137 0.80845492 0.80658436]</pre>"
      ],
      "text/plain": [
       "<IPython.core.display.HTML object>"
      ]
     },
     "metadata": {},
     "output_type": "display_data"
    },
    {
     "data": {
      "text/html": [
       "cross_val_score: 0.8112981668537225"
      ],
      "text/plain": [
       "<IPython.core.display.HTML object>"
      ]
     },
     "metadata": {},
     "output_type": "display_data"
    },
    {
     "data": {
      "text/html": [
       "<p><br>"
      ],
      "text/plain": [
       "<IPython.core.display.HTML object>"
      ]
     },
     "metadata": {},
     "output_type": "display_data"
    },
    {
     "data": {
      "text/html": [
       "Predicting labels on testing data..."
      ],
      "text/plain": [
       "<IPython.core.display.HTML object>"
      ]
     },
     "metadata": {},
     "output_type": "display_data"
    },
    {
     "name": "stderr",
     "output_type": "stream",
     "text": [
      "[Parallel(n_jobs=8)]: Using backend ThreadingBackend with 8 concurrent workers.\n",
      "[Parallel(n_jobs=8)]: Done  34 tasks      | elapsed:    0.0s\n",
      "[Parallel(n_jobs=8)]: Done 184 tasks      | elapsed:    0.1s\n",
      "[Parallel(n_jobs=8)]: Done 434 tasks      | elapsed:    0.2s\n",
      "[Parallel(n_jobs=8)]: Done 784 tasks      | elapsed:    0.4s\n",
      "[Parallel(n_jobs=8)]: Done 1000 out of 1000 | elapsed:    0.5s finished\n"
     ]
    },
    {
     "data": {
      "text/html": [
       "<pre>\tALL DONE!</pre>"
      ],
      "text/plain": [
       "<IPython.core.display.HTML object>"
      ]
     },
     "metadata": {},
     "output_type": "display_data"
    },
    {
     "data": {
      "text/html": [
       "<p><br>"
      ],
      "text/plain": [
       "<IPython.core.display.HTML object>"
      ]
     },
     "metadata": {},
     "output_type": "display_data"
    },
    {
     "data": {
      "text/html": [
       "Testing Accuracy: 81.7172"
      ],
      "text/plain": [
       "<IPython.core.display.HTML object>"
      ]
     },
     "metadata": {},
     "output_type": "display_data"
    },
    {
     "data": {
      "text/html": [
       "<p><br>"
      ],
      "text/plain": [
       "<IPython.core.display.HTML object>"
      ]
     },
     "metadata": {},
     "output_type": "display_data"
    },
    {
     "data": {
      "text/html": [
       "<pre>                         precision    recall  f1-score   support\n",
       "\n",
       "             functional       0.83      0.89      0.86      3268\n",
       "functional needs repair       0.57      0.37      0.45       432\n",
       "         non functional       0.83      0.80      0.82      2240\n",
       "\n",
       "               accuracy                           0.82      5940\n",
       "              macro avg       0.74      0.69      0.71      5940\n",
       "           weighted avg       0.81      0.82      0.81      5940\n",
       "</pre>"
      ],
      "text/plain": [
       "<IPython.core.display.HTML object>"
      ]
     },
     "metadata": {},
     "output_type": "display_data"
    },
    {
     "data": {
      "text/html": [
       "<p><br>"
      ],
      "text/plain": [
       "<IPython.core.display.HTML object>"
      ]
     },
     "metadata": {},
     "output_type": "display_data"
    },
    {
     "data": {
      "text/html": [
       "Computing cross-val score on testing data..."
      ],
      "text/plain": [
       "<IPython.core.display.HTML object>"
      ]
     },
     "metadata": {},
     "output_type": "display_data"
    },
    {
     "name": "stderr",
     "output_type": "stream",
     "text": [
      "[Parallel(n_jobs=-1)]: Using backend LokyBackend with 8 concurrent workers.\n",
      "[Parallel(n_jobs=-1)]: Done  56 tasks      | elapsed:    0.2s\n",
      "[Parallel(n_jobs=-1)]: Done 960 tasks      | elapsed:    1.7s\n",
      "[Parallel(n_jobs=-1)]: Done 1000 out of 1000 | elapsed:    1.8s finished\n",
      "[Parallel(n_jobs=8)]: Using backend ThreadingBackend with 8 concurrent workers.\n",
      "[Parallel(n_jobs=8)]: Done  34 tasks      | elapsed:    0.0s\n",
      "[Parallel(n_jobs=8)]: Done 184 tasks      | elapsed:    0.0s\n",
      "[Parallel(n_jobs=8)]: Done 434 tasks      | elapsed:    0.1s\n",
      "[Parallel(n_jobs=8)]: Done 784 tasks      | elapsed:    0.1s\n",
      "[Parallel(n_jobs=8)]: Done 1000 out of 1000 | elapsed:    0.2s finished\n",
      "[Parallel(n_jobs=-1)]: Using backend LokyBackend with 8 concurrent workers.\n",
      "[Parallel(n_jobs=-1)]: Done  56 tasks      | elapsed:    0.2s\n",
      "[Parallel(n_jobs=-1)]: Done 960 tasks      | elapsed:    1.7s\n",
      "[Parallel(n_jobs=-1)]: Done 1000 out of 1000 | elapsed:    1.8s finished\n",
      "[Parallel(n_jobs=8)]: Using backend ThreadingBackend with 8 concurrent workers.\n",
      "[Parallel(n_jobs=8)]: Done  34 tasks      | elapsed:    0.0s\n",
      "[Parallel(n_jobs=8)]: Done 184 tasks      | elapsed:    0.0s\n",
      "[Parallel(n_jobs=8)]: Done 434 tasks      | elapsed:    0.1s\n",
      "[Parallel(n_jobs=8)]: Done 784 tasks      | elapsed:    0.1s\n",
      "[Parallel(n_jobs=8)]: Done 1000 out of 1000 | elapsed:    0.2s finished\n",
      "[Parallel(n_jobs=-1)]: Using backend LokyBackend with 8 concurrent workers.\n",
      "[Parallel(n_jobs=-1)]: Done  56 tasks      | elapsed:    0.2s\n",
      "[Parallel(n_jobs=-1)]: Done 960 tasks      | elapsed:    1.8s\n",
      "[Parallel(n_jobs=-1)]: Done 1000 out of 1000 | elapsed:    1.9s finished\n",
      "[Parallel(n_jobs=8)]: Using backend ThreadingBackend with 8 concurrent workers.\n",
      "[Parallel(n_jobs=8)]: Done  34 tasks      | elapsed:    0.0s\n",
      "[Parallel(n_jobs=8)]: Done 184 tasks      | elapsed:    0.0s\n",
      "[Parallel(n_jobs=8)]: Done 434 tasks      | elapsed:    0.1s\n",
      "[Parallel(n_jobs=8)]: Done 784 tasks      | elapsed:    0.1s\n",
      "[Parallel(n_jobs=8)]: Done 1000 out of 1000 | elapsed:    0.2s finished\n",
      "[Parallel(n_jobs=-1)]: Using backend LokyBackend with 8 concurrent workers.\n",
      "[Parallel(n_jobs=-1)]: Done  56 tasks      | elapsed:    0.2s\n",
      "[Parallel(n_jobs=-1)]: Done 960 tasks      | elapsed:    1.8s\n",
      "[Parallel(n_jobs=-1)]: Done 1000 out of 1000 | elapsed:    1.8s finished\n",
      "[Parallel(n_jobs=8)]: Using backend ThreadingBackend with 8 concurrent workers.\n",
      "[Parallel(n_jobs=8)]: Done  34 tasks      | elapsed:    0.0s\n",
      "[Parallel(n_jobs=8)]: Done 184 tasks      | elapsed:    0.0s\n",
      "[Parallel(n_jobs=8)]: Done 434 tasks      | elapsed:    0.1s\n",
      "[Parallel(n_jobs=8)]: Done 784 tasks      | elapsed:    0.1s\n",
      "[Parallel(n_jobs=8)]: Done 1000 out of 1000 | elapsed:    0.2s finished\n",
      "[Parallel(n_jobs=-1)]: Using backend LokyBackend with 8 concurrent workers.\n",
      "[Parallel(n_jobs=-1)]: Done  56 tasks      | elapsed:    0.2s\n",
      "[Parallel(n_jobs=-1)]: Done 960 tasks      | elapsed:    1.8s\n",
      "[Parallel(n_jobs=-1)]: Done 1000 out of 1000 | elapsed:    1.9s finished\n",
      "[Parallel(n_jobs=8)]: Using backend ThreadingBackend with 8 concurrent workers.\n",
      "[Parallel(n_jobs=8)]: Done  34 tasks      | elapsed:    0.0s\n",
      "[Parallel(n_jobs=8)]: Done 184 tasks      | elapsed:    0.0s\n",
      "[Parallel(n_jobs=8)]: Done 434 tasks      | elapsed:    0.1s\n",
      "[Parallel(n_jobs=8)]: Done 784 tasks      | elapsed:    0.1s\n",
      "[Parallel(n_jobs=8)]: Done 1000 out of 1000 | elapsed:    0.2s finished\n"
     ]
    },
    {
     "data": {
      "text/html": [
       "<pre>\tALL DONE! scores: [0.77693603 0.76851852 0.78114478 0.77525253 0.76010101]</pre>"
      ],
      "text/plain": [
       "<IPython.core.display.HTML object>"
      ]
     },
     "metadata": {},
     "output_type": "display_data"
    },
    {
     "data": {
      "text/html": [
       "cross_val_score: 0.7723905723905724"
      ],
      "text/plain": [
       "<IPython.core.display.HTML object>"
      ]
     },
     "metadata": {},
     "output_type": "display_data"
    },
    {
     "data": {
      "text/html": [
       "<p><br>"
      ],
      "text/plain": [
       "<IPython.core.display.HTML object>"
      ]
     },
     "metadata": {},
     "output_type": "display_data"
    },
    {
     "data": {
      "text/html": [
       "Feature Importances:"
      ],
      "text/plain": [
       "<IPython.core.display.HTML object>"
      ]
     },
     "metadata": {},
     "output_type": "display_data"
    },
    {
     "data": {
      "text/html": [
       "<pre>[   ('longitude', 0.12923446622617943),\n",
       "    ('latitude', 0.12662780520442782),\n",
       "    ('scheme_name_target_encoded', 0.11549583840152702),\n",
       "    ('quantity_target_encoded', 0.11547931539346086),\n",
       "    ('installer_target_encoded', 0.08161164792616672),\n",
       "    ('gps_height', 0.06049880441221739),\n",
       "    ('waterpoint_type_target_encoded', 0.05427007691401196),\n",
       "    ('extraction_type_target_encoded', 0.053422494832558676),\n",
       "    ('population', 0.04289508867755876),\n",
       "    ('pump_age', 0.04007634266092691),\n",
       "    ('payment_type_target_encoded', 0.028435148436189602),\n",
       "    ('source_target_encoded', 0.023227886416741145),\n",
       "    ('district_code_target_encoded', 0.019671004158471277),\n",
       "    ('region_code_target_encoded', 0.01960993409809892),\n",
       "    ('amount_tsh', 0.018398468166352145),\n",
       "    ('basin_target_encoded', 0.01572914365236767),\n",
       "    ('scheme_management_target_encoded', 0.013893698441941025),\n",
       "    ('management_target_encoded', 0.01382602762879793),\n",
       "    ('water_quality_target_encoded', 0.013512805931055662),\n",
       "    ('permit', 0.007063445681706518),\n",
       "    ('public_meeting', 0.007020556739242604)]</pre><p><br><br>"
      ],
      "text/plain": [
       "<IPython.core.display.HTML object>"
      ]
     },
     "metadata": {},
     "output_type": "display_data"
    }
   ],
   "source": [
    "if run_rfclf:\n",
    "    best_parameters.update({'n_jobs':-1, 'verbose':1, 'random_state': SEED})\n",
    "    rfclf, _ , model_results = clf_run_trial(RandomForestClassifier(), best_parameters, best_parameters)"
   ]
  },
  {
   "cell_type": "markdown",
   "metadata": {},
   "source": [
    "<p><br><br><br>\n",
    "<h3>XGBClassifier</h3>\n",
    "<h4>Trials</h4>"
   ]
  },
  {
   "cell_type": "code",
   "execution_count": 41,
   "metadata": {},
   "outputs": [
    {
     "data": {
      "text/html": [
       "models_config['XGBClassifier']['run']: True"
      ],
      "text/plain": [
       "<IPython.core.display.HTML object>"
      ]
     },
     "metadata": {},
     "output_type": "display_data"
    },
    {
     "data": {
      "text/html": [
       "models_config['XGBClassifier']['trials']['run']: True"
      ],
      "text/plain": [
       "<IPython.core.display.HTML object>"
      ]
     },
     "metadata": {},
     "output_type": "display_data"
    },
    {
     "data": {
      "text/html": [
       "<p><br>trial[0]['gridsearch']['run']: True<br>"
      ],
      "text/plain": [
       "<IPython.core.display.HTML object>"
      ]
     },
     "metadata": {},
     "output_type": "display_data"
    },
    {
     "data": {
      "text/html": [
       "<br><br>param_grid for XGBClassifier GridSearch:<br><pre>{'n_estimators': [100, 1000], 'max_depth': [6, 10, 22], 'learning_rate': [0.1, 0.3], 'min_child_weight': [1, 3, 5], 'gamma': [0, 1, 2, 5], 'n_jobs': [-1]}</pre>"
      ],
      "text/plain": [
       "<IPython.core.display.HTML object>"
      ]
     },
     "metadata": {},
     "output_type": "display_data"
    },
    {
     "name": "stdout",
     "output_type": "stream",
     "text": [
      "Fitting 3 folds for each of 144 candidates, totalling 432 fits\n"
     ]
    },
    {
     "name": "stderr",
     "output_type": "stream",
     "text": [
      "[Parallel(n_jobs=-1)]: Using backend LokyBackend with 8 concurrent workers.\n",
      "[Parallel(n_jobs=-1)]: Done   1 tasks      | elapsed:   40.7s\n",
      "[Parallel(n_jobs=-1)]: Done   2 tasks      | elapsed:   40.8s\n",
      "[Parallel(n_jobs=-1)]: Done   3 tasks      | elapsed:   40.8s\n",
      "[Parallel(n_jobs=-1)]: Done   4 tasks      | elapsed:   40.8s\n",
      "[Parallel(n_jobs=-1)]: Done   5 tasks      | elapsed:   40.9s\n",
      "[Parallel(n_jobs=-1)]: Done   6 tasks      | elapsed:  1.4min\n",
      "[Parallel(n_jobs=-1)]: Done   7 tasks      | elapsed:  1.4min\n",
      "[Parallel(n_jobs=-1)]: Done   8 tasks      | elapsed:  2.0min\n",
      "[Parallel(n_jobs=-1)]: Done   9 tasks      | elapsed:  2.0min\n",
      "[Parallel(n_jobs=-1)]: Done  10 tasks      | elapsed:  7.1min\n",
      "[Parallel(n_jobs=-1)]: Done  11 tasks      | elapsed:  7.2min\n",
      "[Parallel(n_jobs=-1)]: Done  12 tasks      | elapsed:  7.2min\n",
      "[Parallel(n_jobs=-1)]: Done  13 tasks      | elapsed:  7.8min\n",
      "[Parallel(n_jobs=-1)]: Done  14 tasks      | elapsed:  7.8min\n",
      "[Parallel(n_jobs=-1)]: Done  15 tasks      | elapsed:  7.8min\n",
      "[Parallel(n_jobs=-1)]: Done  16 tasks      | elapsed:  8.4min\n",
      "[Parallel(n_jobs=-1)]: Done  17 tasks      | elapsed:  8.4min\n",
      "[Parallel(n_jobs=-1)]: Done  18 tasks      | elapsed:  9.0min\n",
      "[Parallel(n_jobs=-1)]: Done  19 tasks      | elapsed:  9.2min\n",
      "[Parallel(n_jobs=-1)]: Done  20 tasks      | elapsed:  9.2min\n",
      "[Parallel(n_jobs=-1)]: Done  21 tasks      | elapsed:  9.6min\n",
      "[Parallel(n_jobs=-1)]: Done  22 tasks      | elapsed: 10.2min\n",
      "[Parallel(n_jobs=-1)]: Done  23 tasks      | elapsed: 10.4min\n",
      "[Parallel(n_jobs=-1)]: Done  24 tasks      | elapsed: 11.6min\n",
      "[Parallel(n_jobs=-1)]: Done  25 tasks      | elapsed: 12.8min\n",
      "[Parallel(n_jobs=-1)]: Done  26 tasks      | elapsed: 14.0min\n",
      "[Parallel(n_jobs=-1)]: Done  27 tasks      | elapsed: 14.3min\n",
      "[Parallel(n_jobs=-1)]: Done  28 tasks      | elapsed: 19.6min\n",
      "[Parallel(n_jobs=-1)]: Done  29 tasks      | elapsed: 19.6min\n",
      "[Parallel(n_jobs=-1)]: Done  30 tasks      | elapsed: 20.2min\n",
      "[Parallel(n_jobs=-1)]: Done  31 tasks      | elapsed: 20.8min\n",
      "[Parallel(n_jobs=-1)]: Done  32 tasks      | elapsed: 21.1min\n",
      "[Parallel(n_jobs=-1)]: Done  33 tasks      | elapsed: 21.8min\n",
      "[Parallel(n_jobs=-1)]: Done  34 tasks      | elapsed: 22.4min\n",
      "[Parallel(n_jobs=-1)]: Done  35 tasks      | elapsed: 22.9min\n",
      "[Parallel(n_jobs=-1)]: Done  36 tasks      | elapsed: 23.5min\n",
      "[Parallel(n_jobs=-1)]: Done  37 tasks      | elapsed: 25.3min\n",
      "[Parallel(n_jobs=-1)]: Done  38 tasks      | elapsed: 25.5min\n",
      "[Parallel(n_jobs=-1)]: Done  39 tasks      | elapsed: 25.6min\n",
      "[Parallel(n_jobs=-1)]: Done  40 tasks      | elapsed: 26.1min\n",
      "[Parallel(n_jobs=-1)]: Done  41 tasks      | elapsed: 28.0min\n",
      "[Parallel(n_jobs=-1)]: Done  42 tasks      | elapsed: 30.4min\n",
      "[Parallel(n_jobs=-1)]: Done  43 tasks      | elapsed: 31.0min\n",
      "[Parallel(n_jobs=-1)]: Done  44 tasks      | elapsed: 32.9min\n",
      "[Parallel(n_jobs=-1)]: Done  45 tasks      | elapsed: 33.4min\n",
      "[Parallel(n_jobs=-1)]: Done  46 tasks      | elapsed: 44.8min\n",
      "[Parallel(n_jobs=-1)]: Done  47 tasks      | elapsed: 45.4min\n",
      "[Parallel(n_jobs=-1)]: Done  48 tasks      | elapsed: 45.9min\n",
      "[Parallel(n_jobs=-1)]: Done  49 tasks      | elapsed: 46.2min\n",
      "[Parallel(n_jobs=-1)]: Done  50 tasks      | elapsed: 46.7min\n",
      "[Parallel(n_jobs=-1)]: Done  51 tasks      | elapsed: 46.9min\n",
      "[Parallel(n_jobs=-1)]: Done  52 tasks      | elapsed: 48.4min\n",
      "[Parallel(n_jobs=-1)]: Done  53 tasks      | elapsed: 48.5min\n",
      "[Parallel(n_jobs=-1)]: Done  54 tasks      | elapsed: 48.9min\n",
      "[Parallel(n_jobs=-1)]: Done  55 tasks      | elapsed: 49.2min\n",
      "[Parallel(n_jobs=-1)]: Done  56 tasks      | elapsed: 49.7min\n",
      "[Parallel(n_jobs=-1)]: Done  57 tasks      | elapsed: 49.9min\n",
      "[Parallel(n_jobs=-1)]: Done  58 tasks      | elapsed: 53.9min\n",
      "[Parallel(n_jobs=-1)]: Done  59 tasks      | elapsed: 54.2min\n",
      "[Parallel(n_jobs=-1)]: Done  60 tasks      | elapsed: 54.9min\n",
      "[Parallel(n_jobs=-1)]: Done  61 tasks      | elapsed: 55.3min\n",
      "[Parallel(n_jobs=-1)]: Done  62 tasks      | elapsed: 55.6min\n",
      "[Parallel(n_jobs=-1)]: Done  63 tasks      | elapsed: 55.7min\n",
      "[Parallel(n_jobs=-1)]: Done  64 tasks      | elapsed: 55.7min\n",
      "[Parallel(n_jobs=-1)]: Done  65 tasks      | elapsed: 56.0min\n",
      "[Parallel(n_jobs=-1)]: Done  66 tasks      | elapsed: 56.8min\n",
      "[Parallel(n_jobs=-1)]: Done  67 tasks      | elapsed: 57.1min\n",
      "[Parallel(n_jobs=-1)]: Done  68 tasks      | elapsed: 57.2min\n",
      "[Parallel(n_jobs=-1)]: Done  69 tasks      | elapsed: 58.1min\n",
      "[Parallel(n_jobs=-1)]: Done  70 tasks      | elapsed: 58.3min\n",
      "[Parallel(n_jobs=-1)]: Done  71 tasks      | elapsed: 61.2min\n",
      "[Parallel(n_jobs=-1)]: Done  72 tasks      | elapsed: 62.4min\n",
      "[Parallel(n_jobs=-1)]: Done  73 tasks      | elapsed: 62.8min\n",
      "[Parallel(n_jobs=-1)]: Done  74 tasks      | elapsed: 62.9min\n",
      "[Parallel(n_jobs=-1)]: Done  75 tasks      | elapsed: 63.0min\n",
      "[Parallel(n_jobs=-1)]: Done  76 tasks      | elapsed: 63.6min\n",
      "[Parallel(n_jobs=-1)]: Done  77 tasks      | elapsed: 64.0min\n",
      "[Parallel(n_jobs=-1)]: Done  78 tasks      | elapsed: 65.2min\n",
      "[Parallel(n_jobs=-1)]: Done  79 tasks      | elapsed: 66.3min\n",
      "[Parallel(n_jobs=-1)]: Done  80 tasks      | elapsed: 67.2min\n",
      "[Parallel(n_jobs=-1)]: Done  81 tasks      | elapsed: 67.5min\n",
      "[Parallel(n_jobs=-1)]: Done  82 tasks      | elapsed: 68.8min\n",
      "[Parallel(n_jobs=-1)]: Done  83 tasks      | elapsed: 69.6min\n",
      "[Parallel(n_jobs=-1)]: Done  84 tasks      | elapsed: 69.8min\n",
      "[Parallel(n_jobs=-1)]: Done  85 tasks      | elapsed: 72.2min\n",
      "[Parallel(n_jobs=-1)]: Done  86 tasks      | elapsed: 72.4min\n",
      "[Parallel(n_jobs=-1)]: Done  87 tasks      | elapsed: 74.2min\n",
      "[Parallel(n_jobs=-1)]: Done  88 tasks      | elapsed: 74.2min\n",
      "[Parallel(n_jobs=-1)]: Done  89 tasks      | elapsed: 74.8min\n",
      "[Parallel(n_jobs=-1)]: Done  90 tasks      | elapsed: 74.8min\n",
      "[Parallel(n_jobs=-1)]: Done  91 tasks      | elapsed: 77.2min\n",
      "[Parallel(n_jobs=-1)]: Done  92 tasks      | elapsed: 77.2min\n",
      "[Parallel(n_jobs=-1)]: Done  93 tasks      | elapsed: 78.3min\n",
      "[Parallel(n_jobs=-1)]: Done  94 tasks      | elapsed: 78.6min\n",
      "[Parallel(n_jobs=-1)]: Done  95 tasks      | elapsed: 79.6min\n",
      "[Parallel(n_jobs=-1)]: Done  96 tasks      | elapsed: 79.9min\n",
      "[Parallel(n_jobs=-1)]: Done  97 tasks      | elapsed: 82.0min\n",
      "[Parallel(n_jobs=-1)]: Done  98 tasks      | elapsed: 82.2min\n",
      "[Parallel(n_jobs=-1)]: Done  99 tasks      | elapsed: 84.3min\n",
      "[Parallel(n_jobs=-1)]: Done 100 tasks      | elapsed: 94.1min\n",
      "[Parallel(n_jobs=-1)]: Done 101 tasks      | elapsed: 95.9min\n",
      "[Parallel(n_jobs=-1)]: Done 102 tasks      | elapsed: 96.0min\n",
      "[Parallel(n_jobs=-1)]: Done 103 tasks      | elapsed: 96.7min\n",
      "[Parallel(n_jobs=-1)]: Done 104 tasks      | elapsed: 96.7min\n",
      "[Parallel(n_jobs=-1)]: Done 105 tasks      | elapsed: 97.5min\n",
      "[Parallel(n_jobs=-1)]: Done 106 tasks      | elapsed: 98.6min\n",
      "[Parallel(n_jobs=-1)]: Done 107 tasks      | elapsed: 99.6min\n",
      "[Parallel(n_jobs=-1)]: Done 108 tasks      | elapsed: 99.9min\n",
      "[Parallel(n_jobs=-1)]: Done 109 tasks      | elapsed: 100.3min\n",
      "[Parallel(n_jobs=-1)]: Done 110 tasks      | elapsed: 100.6min\n",
      "[Parallel(n_jobs=-1)]: Done 111 tasks      | elapsed: 101.1min\n",
      "[Parallel(n_jobs=-1)]: Done 112 tasks      | elapsed: 103.4min\n",
      "[Parallel(n_jobs=-1)]: Done 113 tasks      | elapsed: 103.6min\n",
      "[Parallel(n_jobs=-1)]: Done 114 tasks      | elapsed: 104.3min\n",
      "[Parallel(n_jobs=-1)]: Done 115 tasks      | elapsed: 104.4min\n",
      "[Parallel(n_jobs=-1)]: Done 116 tasks      | elapsed: 105.1min\n",
      "[Parallel(n_jobs=-1)]: Done 117 tasks      | elapsed: 105.2min\n",
      "[Parallel(n_jobs=-1)]: Done 118 tasks      | elapsed: 105.5min\n",
      "[Parallel(n_jobs=-1)]: Done 119 tasks      | elapsed: 105.5min\n",
      "[Parallel(n_jobs=-1)]: Done 120 tasks      | elapsed: 106.8min\n",
      "[Parallel(n_jobs=-1)]: Done 121 tasks      | elapsed: 107.6min\n",
      "[Parallel(n_jobs=-1)]: Done 122 tasks      | elapsed: 108.1min\n",
      "[Parallel(n_jobs=-1)]: Done 123 tasks      | elapsed: 108.1min\n",
      "[Parallel(n_jobs=-1)]: Done 124 tasks      | elapsed: 108.8min\n",
      "[Parallel(n_jobs=-1)]: Done 125 tasks      | elapsed: 110.3min\n",
      "[Parallel(n_jobs=-1)]: Done 126 tasks      | elapsed: 111.5min\n",
      "[Parallel(n_jobs=-1)]: Done 127 tasks      | elapsed: 111.9min\n",
      "[Parallel(n_jobs=-1)]: Done 128 tasks      | elapsed: 112.1min\n",
      "[Parallel(n_jobs=-1)]: Done 129 tasks      | elapsed: 112.3min\n",
      "[Parallel(n_jobs=-1)]: Done 130 tasks      | elapsed: 112.7min\n",
      "[Parallel(n_jobs=-1)]: Done 131 tasks      | elapsed: 113.1min\n",
      "[Parallel(n_jobs=-1)]: Done 132 tasks      | elapsed: 114.3min\n",
      "[Parallel(n_jobs=-1)]: Done 133 tasks      | elapsed: 115.4min\n",
      "[Parallel(n_jobs=-1)]: Done 134 tasks      | elapsed: 115.6min\n",
      "[Parallel(n_jobs=-1)]: Done 135 tasks      | elapsed: 116.6min\n",
      "[Parallel(n_jobs=-1)]: Done 136 tasks      | elapsed: 118.7min\n",
      "[Parallel(n_jobs=-1)]: Done 137 tasks      | elapsed: 118.9min\n",
      "[Parallel(n_jobs=-1)]: Done 138 tasks      | elapsed: 119.4min\n",
      "[Parallel(n_jobs=-1)]: Done 139 tasks      | elapsed: 121.6min\n",
      "[Parallel(n_jobs=-1)]: Done 140 tasks      | elapsed: 122.1min\n",
      "[Parallel(n_jobs=-1)]: Done 141 tasks      | elapsed: 122.5min\n",
      "[Parallel(n_jobs=-1)]: Done 142 tasks      | elapsed: 122.9min\n",
      "[Parallel(n_jobs=-1)]: Done 143 tasks      | elapsed: 123.0min\n",
      "[Parallel(n_jobs=-1)]: Done 144 tasks      | elapsed: 124.3min\n",
      "[Parallel(n_jobs=-1)]: Done 145 tasks      | elapsed: 125.6min\n",
      "[Parallel(n_jobs=-1)]: Done 146 tasks      | elapsed: 125.9min\n",
      "[Parallel(n_jobs=-1)]: Done 147 tasks      | elapsed: 126.9min\n",
      "[Parallel(n_jobs=-1)]: Done 148 tasks      | elapsed: 127.0min\n",
      "[Parallel(n_jobs=-1)]: Done 149 tasks      | elapsed: 128.2min\n",
      "[Parallel(n_jobs=-1)]: Done 150 tasks      | elapsed: 129.0min\n",
      "[Parallel(n_jobs=-1)]: Done 151 tasks      | elapsed: 130.7min\n",
      "[Parallel(n_jobs=-1)]: Done 152 tasks      | elapsed: 131.5min\n",
      "[Parallel(n_jobs=-1)]: Done 153 tasks      | elapsed: 133.2min\n",
      "[Parallel(n_jobs=-1)]: Done 154 tasks      | elapsed: 143.6min\n",
      "[Parallel(n_jobs=-1)]: Done 155 tasks      | elapsed: 143.8min\n",
      "[Parallel(n_jobs=-1)]: Done 156 tasks      | elapsed: 144.0min\n",
      "[Parallel(n_jobs=-1)]: Done 157 tasks      | elapsed: 144.6min\n",
      "[Parallel(n_jobs=-1)]: Done 158 tasks      | elapsed: 144.8min\n",
      "[Parallel(n_jobs=-1)]: Done 159 tasks      | elapsed: 145.3min\n",
      "[Parallel(n_jobs=-1)]: Done 160 tasks      | elapsed: 147.2min\n",
      "[Parallel(n_jobs=-1)]: Done 161 tasks      | elapsed: 147.6min\n",
      "[Parallel(n_jobs=-1)]: Done 162 tasks      | elapsed: 147.7min\n",
      "[Parallel(n_jobs=-1)]: Done 163 tasks      | elapsed: 148.3min\n",
      "[Parallel(n_jobs=-1)]: Done 164 tasks      | elapsed: 148.4min\n",
      "[Parallel(n_jobs=-1)]: Done 165 tasks      | elapsed: 149.0min\n",
      "[Parallel(n_jobs=-1)]: Done 166 tasks      | elapsed: 151.5min\n",
      "[Parallel(n_jobs=-1)]: Done 167 tasks      | elapsed: 152.1min\n",
      "[Parallel(n_jobs=-1)]: Done 168 tasks      | elapsed: 152.2min\n",
      "[Parallel(n_jobs=-1)]: Done 169 tasks      | elapsed: 152.9min\n",
      "[Parallel(n_jobs=-1)]: Done 170 tasks      | elapsed: 152.9min\n",
      "[Parallel(n_jobs=-1)]: Done 171 tasks      | elapsed: 153.6min\n",
      "[Parallel(n_jobs=-1)]: Done 172 tasks      | elapsed: 153.8min\n",
      "[Parallel(n_jobs=-1)]: Done 173 tasks      | elapsed: 153.9min\n",
      "[Parallel(n_jobs=-1)]: Done 174 tasks      | elapsed: 155.1min\n",
      "[Parallel(n_jobs=-1)]: Done 175 tasks      | elapsed: 155.1min\n",
      "[Parallel(n_jobs=-1)]: Done 176 tasks      | elapsed: 155.8min\n",
      "[Parallel(n_jobs=-1)]: Done 177 tasks      | elapsed: 156.3min\n",
      "[Parallel(n_jobs=-1)]: Done 178 tasks      | elapsed: 156.3min\n",
      "[Parallel(n_jobs=-1)]: Done 179 tasks      | elapsed: 158.3min\n",
      "[Parallel(n_jobs=-1)]: Done 180 tasks      | elapsed: 159.6min\n",
      "[Parallel(n_jobs=-1)]: Done 181 tasks      | elapsed: 159.9min\n",
      "[Parallel(n_jobs=-1)]: Done 182 tasks      | elapsed: 160.6min\n",
      "[Parallel(n_jobs=-1)]: Done 183 tasks      | elapsed: 160.8min\n",
      "[Parallel(n_jobs=-1)]: Done 184 tasks      | elapsed: 160.8min\n",
      "[Parallel(n_jobs=-1)]: Done 185 tasks      | elapsed: 161.1min\n",
      "[Parallel(n_jobs=-1)]: Done 186 tasks      | elapsed: 162.3min\n",
      "[Parallel(n_jobs=-1)]: Done 187 tasks      | elapsed: 163.5min\n",
      "[Parallel(n_jobs=-1)]: Done 188 tasks      | elapsed: 164.7min\n",
      "[Parallel(n_jobs=-1)]: Done 189 tasks      | elapsed: 164.8min\n",
      "[Parallel(n_jobs=-1)]: Done 190 tasks      | elapsed: 167.0min\n",
      "[Parallel(n_jobs=-1)]: Done 191 tasks      | elapsed: 167.4min\n",
      "[Parallel(n_jobs=-1)]: Done 192 tasks      | elapsed: 167.5min\n",
      "[Parallel(n_jobs=-1)]: Done 193 tasks      | elapsed: 170.0min\n",
      "[Parallel(n_jobs=-1)]: Done 194 tasks      | elapsed: 170.1min\n",
      "[Parallel(n_jobs=-1)]: Done 195 tasks      | elapsed: 171.5min\n",
      "[Parallel(n_jobs=-1)]: Done 196 tasks      | elapsed: 171.8min\n",
      "[Parallel(n_jobs=-1)]: Done 197 tasks      | elapsed: 171.8min\n",
      "[Parallel(n_jobs=-1)]: Done 198 tasks      | elapsed: 172.5min\n",
      "[Parallel(n_jobs=-1)]: Done 199 tasks      | elapsed: 174.4min\n",
      "[Parallel(n_jobs=-1)]: Done 200 tasks      | elapsed: 175.1min\n",
      "[Parallel(n_jobs=-1)]: Done 201 tasks      | elapsed: 175.9min\n",
      "[Parallel(n_jobs=-1)]: Done 202 tasks      | elapsed: 175.9min\n",
      "[Parallel(n_jobs=-1)]: Done 203 tasks      | elapsed: 176.9min\n",
      "[Parallel(n_jobs=-1)]: Done 204 tasks      | elapsed: 178.1min\n",
      "[Parallel(n_jobs=-1)]: Done 205 tasks      | elapsed: 179.4min\n",
      "[Parallel(n_jobs=-1)]: Done 206 tasks      | elapsed: 180.6min\n",
      "[Parallel(n_jobs=-1)]: Done 207 tasks      | elapsed: 182.0min\n",
      "[Parallel(n_jobs=-1)]: Done 208 tasks      | elapsed: 195.7min\n",
      "[Parallel(n_jobs=-1)]: Done 209 tasks      | elapsed: 197.6min\n",
      "[Parallel(n_jobs=-1)]: Done 210 tasks      | elapsed: 198.8min\n",
      "[Parallel(n_jobs=-1)]: Done 211 tasks      | elapsed: 199.8min\n",
      "[Parallel(n_jobs=-1)]: Done 212 tasks      | elapsed: 200.1min\n",
      "[Parallel(n_jobs=-1)]: Done 213 tasks      | elapsed: 201.1min\n",
      "[Parallel(n_jobs=-1)]: Done 214 tasks      | elapsed: 202.8min\n",
      "[Parallel(n_jobs=-1)]: Done 215 tasks      | elapsed: 203.1min\n",
      "[Parallel(n_jobs=-1)]: Done 216 tasks      | elapsed: 204.3min\n",
      "[Parallel(n_jobs=-1)]: Done 217 tasks      | elapsed: 204.3min\n",
      "[Parallel(n_jobs=-1)]: Done 218 tasks      | elapsed: 205.6min\n",
      "[Parallel(n_jobs=-1)]: Done 219 tasks      | elapsed: 205.6min\n",
      "[Parallel(n_jobs=-1)]: Done 220 tasks      | elapsed: 210.8min\n",
      "[Parallel(n_jobs=-1)]: Done 221 tasks      | elapsed: 211.7min\n",
      "[Parallel(n_jobs=-1)]: Done 222 tasks      | elapsed: 212.2min\n",
      "[Parallel(n_jobs=-1)]: Done 223 tasks      | elapsed: 212.8min\n",
      "[Parallel(n_jobs=-1)]: Done 224 tasks      | elapsed: 213.0min\n",
      "[Parallel(n_jobs=-1)]: Done 225 tasks      | elapsed: 213.5min\n",
      "[Parallel(n_jobs=-1)]: Done 226 tasks      | elapsed: 214.1min\n",
      "[Parallel(n_jobs=-1)]: Done 227 tasks      | elapsed: 214.5min\n",
      "[Parallel(n_jobs=-1)]: Done 228 tasks      | elapsed: 216.7min\n",
      "[Parallel(n_jobs=-1)]: Done 229 tasks      | elapsed: 217.3min\n",
      "[Parallel(n_jobs=-1)]: Done 230 tasks      | elapsed: 217.4min\n",
      "[Parallel(n_jobs=-1)]: Done 231 tasks      | elapsed: 218.9min\n",
      "[Parallel(n_jobs=-1)]: Done 232 tasks      | elapsed: 219.5min\n",
      "[Parallel(n_jobs=-1)]: Done 233 tasks      | elapsed: 222.8min\n",
      "[Parallel(n_jobs=-1)]: Done 234 tasks      | elapsed: 225.0min\n",
      "[Parallel(n_jobs=-1)]: Done 235 tasks      | elapsed: 225.1min\n",
      "[Parallel(n_jobs=-1)]: Done 236 tasks      | elapsed: 225.8min\n",
      "[Parallel(n_jobs=-1)]: Done 237 tasks      | elapsed: 226.1min\n",
      "[Parallel(n_jobs=-1)]: Done 238 tasks      | elapsed: 227.2min\n",
      "[Parallel(n_jobs=-1)]: Done 239 tasks      | elapsed: 227.3min\n",
      "[Parallel(n_jobs=-1)]: Done 240 tasks      | elapsed: 229.4min\n",
      "[Parallel(n_jobs=-1)]: Done 241 tasks      | elapsed: 230.9min\n",
      "[Parallel(n_jobs=-1)]: Done 242 tasks      | elapsed: 231.5min\n",
      "[Parallel(n_jobs=-1)]: Done 243 tasks      | elapsed: 233.1min\n",
      "[Parallel(n_jobs=-1)]: Done 244 tasks      | elapsed: 236.3min\n",
      "[Parallel(n_jobs=-1)]: Done 245 tasks      | elapsed: 239.4min\n",
      "[Parallel(n_jobs=-1)]: Done 246 tasks      | elapsed: 239.7min\n",
      "[Parallel(n_jobs=-1)]: Done 247 tasks      | elapsed: 243.8min\n",
      "[Parallel(n_jobs=-1)]: Done 248 tasks      | elapsed: 244.0min\n",
      "[Parallel(n_jobs=-1)]: Done 249 tasks      | elapsed: 245.0min\n",
      "[Parallel(n_jobs=-1)]: Done 250 tasks      | elapsed: 245.0min\n",
      "[Parallel(n_jobs=-1)]: Done 251 tasks      | elapsed: 245.3min\n",
      "[Parallel(n_jobs=-1)]: Done 252 tasks      | elapsed: 246.5min\n",
      "[Parallel(n_jobs=-1)]: Done 253 tasks      | elapsed: 248.1min\n",
      "[Parallel(n_jobs=-1)]: Done 254 tasks      | elapsed: 248.3min\n",
      "[Parallel(n_jobs=-1)]: Done 255 tasks      | elapsed: 249.2min\n",
      "[Parallel(n_jobs=-1)]: Done 256 tasks      | elapsed: 249.5min\n",
      "[Parallel(n_jobs=-1)]: Done 257 tasks      | elapsed: 251.1min\n",
      "[Parallel(n_jobs=-1)]: Done 258 tasks      | elapsed: 251.1min\n",
      "[Parallel(n_jobs=-1)]: Done 259 tasks      | elapsed: 254.0min\n",
      "[Parallel(n_jobs=-1)]: Done 260 tasks      | elapsed: 254.0min\n",
      "[Parallel(n_jobs=-1)]: Done 261 tasks      | elapsed: 256.9min\n",
      "[Parallel(n_jobs=-1)]: Done 262 tasks      | elapsed: 269.6min\n",
      "[Parallel(n_jobs=-1)]: Done 263 tasks      | elapsed: 270.1min\n",
      "[Parallel(n_jobs=-1)]: Done 264 tasks      | elapsed: 270.3min\n",
      "[Parallel(n_jobs=-1)]: Done 265 tasks      | elapsed: 271.0min\n",
      "[Parallel(n_jobs=-1)]: Done 266 tasks      | elapsed: 271.2min\n",
      "[Parallel(n_jobs=-1)]: Done 267 tasks      | elapsed: 271.9min\n",
      "[Parallel(n_jobs=-1)]: Done 268 tasks      | elapsed: 274.6min\n",
      "[Parallel(n_jobs=-1)]: Done 269 tasks      | elapsed: 275.2min\n",
      "[Parallel(n_jobs=-1)]: Done 270 tasks      | elapsed: 275.5min\n",
      "[Parallel(n_jobs=-1)]: Done 271 tasks      | elapsed: 276.1min\n",
      "[Parallel(n_jobs=-1)]: Done 272 tasks      | elapsed: 276.4min\n",
      "[Parallel(n_jobs=-1)]: Done 273 tasks      | elapsed: 277.0min\n",
      "[Parallel(n_jobs=-1)]: Done 274 tasks      | elapsed: 279.6min\n",
      "[Parallel(n_jobs=-1)]: Done 275 tasks      | elapsed: 280.3min\n",
      "[Parallel(n_jobs=-1)]: Done 276 tasks      | elapsed: 280.3min\n",
      "[Parallel(n_jobs=-1)]: Done 277 tasks      | elapsed: 281.2min\n",
      "[Parallel(n_jobs=-1)]: Done 278 tasks      | elapsed: 281.3min\n",
      "[Parallel(n_jobs=-1)]: Done 279 tasks      | elapsed: 282.2min\n",
      "[Parallel(n_jobs=-1)]: Done 280 tasks      | elapsed: 283.1min\n",
      "[Parallel(n_jobs=-1)]: Done 281 tasks      | elapsed: 284.2min\n",
      "[Parallel(n_jobs=-1)]: Done 282 tasks      | elapsed: 285.0min\n",
      "[Parallel(n_jobs=-1)]: Done 283 tasks      | elapsed: 285.5min\n",
      "[Parallel(n_jobs=-1)]: Done 284 tasks      | elapsed: 285.6min\n",
      "[Parallel(n_jobs=-1)]: Done 285 tasks      | elapsed: 286.4min\n",
      "[Parallel(n_jobs=-1)]: Done 286 tasks      | elapsed: 286.8min\n",
      "[Parallel(n_jobs=-1)]: Done 287 tasks      | elapsed: 288.3min\n",
      "[Parallel(n_jobs=-1)]: Done 288 tasks      | elapsed: 289.5min\n",
      "[Parallel(n_jobs=-1)]: Done 289 tasks      | elapsed: 289.6min\n",
      "[Parallel(n_jobs=-1)]: Done 290 tasks      | elapsed: 290.3min\n",
      "[Parallel(n_jobs=-1)]: Done 291 tasks      | elapsed: 290.8min\n",
      "[Parallel(n_jobs=-1)]: Done 292 tasks      | elapsed: 290.9min\n",
      "[Parallel(n_jobs=-1)]: Done 293 tasks      | elapsed: 291.2min\n",
      "[Parallel(n_jobs=-1)]: Done 294 tasks      | elapsed: 292.5min\n",
      "[Parallel(n_jobs=-1)]: Done 295 tasks      | elapsed: 293.9min\n",
      "[Parallel(n_jobs=-1)]: Done 296 tasks      | elapsed: 295.2min\n",
      "[Parallel(n_jobs=-1)]: Done 297 tasks      | elapsed: 296.0min\n",
      "[Parallel(n_jobs=-1)]: Done 298 tasks      | elapsed: 298.4min\n",
      "[Parallel(n_jobs=-1)]: Done 299 tasks      | elapsed: 298.6min\n",
      "[Parallel(n_jobs=-1)]: Done 300 tasks      | elapsed: 298.8min\n",
      "[Parallel(n_jobs=-1)]: Done 301 tasks      | elapsed: 301.5min\n",
      "[Parallel(n_jobs=-1)]: Done 302 tasks      | elapsed: 301.6min\n",
      "[Parallel(n_jobs=-1)]: Done 303 tasks      | elapsed: 302.4min\n",
      "[Parallel(n_jobs=-1)]: Done 304 tasks      | elapsed: 302.9min\n",
      "[Parallel(n_jobs=-1)]: Done 305 tasks      | elapsed: 303.0min\n",
      "[Parallel(n_jobs=-1)]: Done 306 tasks      | elapsed: 304.2min\n",
      "[Parallel(n_jobs=-1)]: Done 307 tasks      | elapsed: 305.6min\n",
      "[Parallel(n_jobs=-1)]: Done 308 tasks      | elapsed: 306.8min\n",
      "[Parallel(n_jobs=-1)]: Done 309 tasks      | elapsed: 307.2min\n",
      "[Parallel(n_jobs=-1)]: Done 310 tasks      | elapsed: 307.9min\n",
      "[Parallel(n_jobs=-1)]: Done 311 tasks      | elapsed: 308.2min\n",
      "[Parallel(n_jobs=-1)]: Done 312 tasks      | elapsed: 310.3min\n",
      "[Parallel(n_jobs=-1)]: Done 313 tasks      | elapsed: 310.8min\n",
      "[Parallel(n_jobs=-1)]: Done 314 tasks      | elapsed: 312.9min\n",
      "[Parallel(n_jobs=-1)]: Done 315 tasks      | elapsed: 313.4min\n",
      "[Parallel(n_jobs=-1)]: Done 316 tasks      | elapsed: 327.1min\n",
      "[Parallel(n_jobs=-1)]: Done 317 tasks      | elapsed: 327.1min\n",
      "[Parallel(n_jobs=-1)]: Done 318 tasks      | elapsed: 327.9min\n",
      "[Parallel(n_jobs=-1)]: Done 319 tasks      | elapsed: 327.9min\n",
      "[Parallel(n_jobs=-1)]: Done 320 tasks      | elapsed: 328.7min\n",
      "[Parallel(n_jobs=-1)]: Done 321 tasks      | elapsed: 328.8min\n",
      "[Parallel(n_jobs=-1)]: Done 322 tasks      | elapsed: 330.2min\n",
      "[Parallel(n_jobs=-1)]: Done 323 tasks      | elapsed: 331.0min\n",
      "[Parallel(n_jobs=-1)]: Done 324 tasks      | elapsed: 331.3min\n",
      "[Parallel(n_jobs=-1)]: Done 325 tasks      | elapsed: 331.9min\n",
      "[Parallel(n_jobs=-1)]: Done 326 tasks      | elapsed: 332.2min\n",
      "[Parallel(n_jobs=-1)]: Done 327 tasks      | elapsed: 332.7min\n",
      "[Parallel(n_jobs=-1)]: Done 328 tasks      | elapsed: 336.2min\n",
      "[Parallel(n_jobs=-1)]: Done 329 tasks      | elapsed: 336.5min\n",
      "[Parallel(n_jobs=-1)]: Done 330 tasks      | elapsed: 336.6min\n",
      "[Parallel(n_jobs=-1)]: Done 331 tasks      | elapsed: 336.7min\n",
      "[Parallel(n_jobs=-1)]: Done 332 tasks      | elapsed: 337.3min\n",
      "[Parallel(n_jobs=-1)]: Done 333 tasks      | elapsed: 337.4min\n",
      "[Parallel(n_jobs=-1)]: Done 334 tasks      | elapsed: 337.6min\n",
      "[Parallel(n_jobs=-1)]: Done 335 tasks      | elapsed: 337.9min\n",
      "[Parallel(n_jobs=-1)]: Done 336 tasks      | elapsed: 339.2min\n",
      "[Parallel(n_jobs=-1)]: Done 337 tasks      | elapsed: 339.7min\n",
      "[Parallel(n_jobs=-1)]: Done 338 tasks      | elapsed: 340.7min\n",
      "[Parallel(n_jobs=-1)]: Done 339 tasks      | elapsed: 340.7min\n",
      "[Parallel(n_jobs=-1)]: Done 340 tasks      | elapsed: 341.3min\n",
      "[Parallel(n_jobs=-1)]: Done 341 tasks      | elapsed: 343.8min\n",
      "[Parallel(n_jobs=-1)]: Done 342 tasks      | elapsed: 344.7min\n",
      "[Parallel(n_jobs=-1)]: Done 343 tasks      | elapsed: 344.8min\n",
      "[Parallel(n_jobs=-1)]: Done 344 tasks      | elapsed: 344.9min\n",
      "[Parallel(n_jobs=-1)]: Done 345 tasks      | elapsed: 345.0min\n",
      "[Parallel(n_jobs=-1)]: Done 346 tasks      | elapsed: 345.9min\n",
      "[Parallel(n_jobs=-1)]: Done 347 tasks      | elapsed: 346.0min\n",
      "[Parallel(n_jobs=-1)]: Done 348 tasks      | elapsed: 347.1min\n",
      "[Parallel(n_jobs=-1)]: Done 349 tasks      | elapsed: 348.3min\n",
      "[Parallel(n_jobs=-1)]: Done 350 tasks      | elapsed: 349.1min\n",
      "[Parallel(n_jobs=-1)]: Done 351 tasks      | elapsed: 349.4min\n",
      "[Parallel(n_jobs=-1)]: Done 352 tasks      | elapsed: 351.8min\n",
      "[Parallel(n_jobs=-1)]: Done 353 tasks      | elapsed: 352.0min\n",
      "[Parallel(n_jobs=-1)]: Done 354 tasks      | elapsed: 352.1min\n",
      "[Parallel(n_jobs=-1)]: Done 355 tasks      | elapsed: 354.9min\n",
      "[Parallel(n_jobs=-1)]: Done 356 tasks      | elapsed: 355.0min\n",
      "[Parallel(n_jobs=-1)]: Done 357 tasks      | elapsed: 356.2min\n",
      "[Parallel(n_jobs=-1)]: Done 358 tasks      | elapsed: 356.2min\n",
      "[Parallel(n_jobs=-1)]: Done 359 tasks      | elapsed: 357.0min\n",
      "[Parallel(n_jobs=-1)]: Done 360 tasks      | elapsed: 357.5min\n",
      "[Parallel(n_jobs=-1)]: Done 361 tasks      | elapsed: 359.4min\n",
      "[Parallel(n_jobs=-1)]: Done 362 tasks      | elapsed: 359.9min\n",
      "[Parallel(n_jobs=-1)]: Done 363 tasks      | elapsed: 360.4min\n",
      "[Parallel(n_jobs=-1)]: Done 364 tasks      | elapsed: 360.6min\n",
      "[Parallel(n_jobs=-1)]: Done 365 tasks      | elapsed: 362.0min\n",
      "[Parallel(n_jobs=-1)]: Done 366 tasks      | elapsed: 362.1min\n",
      "[Parallel(n_jobs=-1)]: Done 367 tasks      | elapsed: 364.6min\n",
      "[Parallel(n_jobs=-1)]: Done 368 tasks      | elapsed: 364.6min\n",
      "[Parallel(n_jobs=-1)]: Done 369 tasks      | elapsed: 367.1min\n",
      "[Parallel(n_jobs=-1)]: Done 370 tasks      | elapsed: 379.6min\n",
      "[Parallel(n_jobs=-1)]: Done 371 tasks      | elapsed: 380.4min\n",
      "[Parallel(n_jobs=-1)]: Done 372 tasks      | elapsed: 381.2min\n",
      "[Parallel(n_jobs=-1)]: Done 373 tasks      | elapsed: 381.9min\n",
      "[Parallel(n_jobs=-1)]: Done 374 tasks      | elapsed: 382.4min\n",
      "[Parallel(n_jobs=-1)]: Done 375 tasks      | elapsed: 382.6min\n",
      "[Parallel(n_jobs=-1)]: Done 376 tasks      | elapsed: 384.2min\n",
      "[Parallel(n_jobs=-1)]: Done 377 tasks      | elapsed: 384.5min\n",
      "[Parallel(n_jobs=-1)]: Done 378 tasks      | elapsed: 384.5min\n",
      "[Parallel(n_jobs=-1)]: Done 379 tasks      | elapsed: 385.2min\n",
      "[Parallel(n_jobs=-1)]: Done 380 tasks      | elapsed: 385.2min\n",
      "[Parallel(n_jobs=-1)]: Done 381 tasks      | elapsed: 385.9min\n",
      "[Parallel(n_jobs=-1)]: Done 382 tasks      | elapsed: 389.4min\n",
      "[Parallel(n_jobs=-1)]: Done 383 tasks      | elapsed: 389.7min\n",
      "[Parallel(n_jobs=-1)]: Done 384 tasks      | elapsed: 389.7min\n",
      "[Parallel(n_jobs=-1)]: Done 385 tasks      | elapsed: 390.4min\n",
      "[Parallel(n_jobs=-1)]: Done 386 tasks      | elapsed: 390.4min\n",
      "[Parallel(n_jobs=-1)]: Done 387 tasks      | elapsed: 390.5min\n",
      "[Parallel(n_jobs=-1)]: Done 388 tasks      | elapsed: 391.1min\n",
      "[Parallel(n_jobs=-1)]: Done 389 tasks      | elapsed: 391.3min\n",
      "[Parallel(n_jobs=-1)]: Done 390 tasks      | elapsed: 392.2min\n",
      "[Parallel(n_jobs=-1)]: Done 391 tasks      | elapsed: 392.4min\n",
      "[Parallel(n_jobs=-1)]: Done 392 tasks      | elapsed: 392.6min\n",
      "[Parallel(n_jobs=-1)]: Done 393 tasks      | elapsed: 393.4min\n",
      "[Parallel(n_jobs=-1)]: Done 394 tasks      | elapsed: 393.6min\n",
      "[Parallel(n_jobs=-1)]: Done 395 tasks      | elapsed: 396.2min\n",
      "[Parallel(n_jobs=-1)]: Done 396 tasks      | elapsed: 397.3min\n",
      "[Parallel(n_jobs=-1)]: Done 397 tasks      | elapsed: 397.4min\n",
      "[Parallel(n_jobs=-1)]: Done 398 tasks      | elapsed: 397.5min\n",
      "[Parallel(n_jobs=-1)]: Done 399 tasks      | elapsed: 397.9min\n",
      "[Parallel(n_jobs=-1)]: Done 400 tasks      | elapsed: 398.5min\n",
      "[Parallel(n_jobs=-1)]: Done 401 tasks      | elapsed: 398.5min\n",
      "[Parallel(n_jobs=-1)]: Done 402 tasks      | elapsed: 399.6min\n",
      "[Parallel(n_jobs=-1)]: Done 403 tasks      | elapsed: 400.8min\n",
      "[Parallel(n_jobs=-1)]: Done 404 tasks      | elapsed: 401.9min\n",
      "[Parallel(n_jobs=-1)]: Done 405 tasks      | elapsed: 402.6min\n",
      "[Parallel(n_jobs=-1)]: Done 406 tasks      | elapsed: 404.1min\n",
      "[Parallel(n_jobs=-1)]: Done 407 tasks      | elapsed: 404.5min\n",
      "[Parallel(n_jobs=-1)]: Done 408 tasks      | elapsed: 404.6min\n",
      "[Parallel(n_jobs=-1)]: Done 409 tasks      | elapsed: 407.2min\n",
      "[Parallel(n_jobs=-1)]: Done 410 tasks      | elapsed: 407.2min\n",
      "[Parallel(n_jobs=-1)]: Done 411 tasks      | elapsed: 408.6min\n",
      "[Parallel(n_jobs=-1)]: Done 412 tasks      | elapsed: 408.9min\n",
      "[Parallel(n_jobs=-1)]: Done 413 tasks      | elapsed: 409.4min\n",
      "[Parallel(n_jobs=-1)]: Done 414 tasks      | elapsed: 409.8min\n",
      "[Parallel(n_jobs=-1)]: Done 415 tasks      | elapsed: 411.9min\n",
      "[Parallel(n_jobs=-1)]: Done 416 tasks      | elapsed: 412.4min\n",
      "[Parallel(n_jobs=-1)]: Done 417 tasks      | elapsed: 412.6min\n",
      "[Parallel(n_jobs=-1)]: Done 432 out of 432 | elapsed: 447.4min finished\n",
      "/Users/stevencontreras/anaconda3/envs/learn-env/lib/python3.7/site-packages/sklearn/utils/validation.py:73: DataConversionWarning: A column-vector y was passed when a 1d array was expected. Please change the shape of y to (n_samples, ), for example using ravel().\n",
      "  return f(**kwargs)\n"
     ]
    },
    {
     "name": "stdout",
     "output_type": "stream",
     "text": [
      "CPU times: user 4min, sys: 2.08 s, total: 4min 2s\n",
      "Wall time: 7h 27min 53s\n"
     ]
    },
    {
     "data": {
      "text/html": [
       "<p><br>"
      ],
      "text/plain": [
       "<IPython.core.display.HTML object>"
      ]
     },
     "metadata": {},
     "output_type": "display_data"
    },
    {
     "data": {
      "text/html": [
       "Grid Search found the following optimal parameters: "
      ],
      "text/plain": [
       "<IPython.core.display.HTML object>"
      ]
     },
     "metadata": {},
     "output_type": "display_data"
    },
    {
     "data": {
      "text/html": [
       "<pre>{   'gamma': 2,\n",
       "    'learning_rate': 0.1,\n",
       "    'max_depth': 22,\n",
       "    'min_child_weight': 1,\n",
       "    'n_estimators': 100,\n",
       "    'n_jobs': -1}</pre>"
      ],
      "text/plain": [
       "<IPython.core.display.HTML object>"
      ]
     },
     "metadata": {},
     "output_type": "display_data"
    },
    {
     "data": {
      "text/html": [
       "<p><br>"
      ],
      "text/plain": [
       "<IPython.core.display.HTML object>"
      ]
     },
     "metadata": {},
     "output_type": "display_data"
    },
    {
     "data": {
      "text/html": [
       "Fitting classifier..."
      ],
      "text/plain": [
       "<IPython.core.display.HTML object>"
      ]
     },
     "metadata": {},
     "output_type": "display_data"
    },
    {
     "name": "stdout",
     "output_type": "stream",
     "text": [
      "CPU times: user 4min 9s, sys: 1.4 s, total: 4min 10s\n",
      "Wall time: 32.1 s\n"
     ]
    },
    {
     "data": {
      "text/html": [
       "<pre>\tALL DONE!</pre>"
      ],
      "text/plain": [
       "<IPython.core.display.HTML object>"
      ]
     },
     "metadata": {},
     "output_type": "display_data"
    },
    {
     "data": {
      "text/html": [
       "<p><br>"
      ],
      "text/plain": [
       "<IPython.core.display.HTML object>"
      ]
     },
     "metadata": {},
     "output_type": "display_data"
    },
    {
     "data": {
      "text/html": [
       "Predicting labels on training data..."
      ],
      "text/plain": [
       "<IPython.core.display.HTML object>"
      ]
     },
     "metadata": {},
     "output_type": "display_data"
    },
    {
     "data": {
      "text/html": [
       "<pre>\tALL DONE!</pre>"
      ],
      "text/plain": [
       "<IPython.core.display.HTML object>"
      ]
     },
     "metadata": {},
     "output_type": "display_data"
    },
    {
     "data": {
      "text/html": [
       "<p><br>"
      ],
      "text/plain": [
       "<IPython.core.display.HTML object>"
      ]
     },
     "metadata": {},
     "output_type": "display_data"
    },
    {
     "data": {
      "text/html": [
       "Training Accuracy: 90.3255"
      ],
      "text/plain": [
       "<IPython.core.display.HTML object>"
      ]
     },
     "metadata": {},
     "output_type": "display_data"
    },
    {
     "data": {
      "text/html": [
       "<p><br>"
      ],
      "text/plain": [
       "<IPython.core.display.HTML object>"
      ]
     },
     "metadata": {},
     "output_type": "display_data"
    },
    {
     "data": {
      "text/html": [
       "<pre>                         precision    recall  f1-score   support\n",
       "\n",
       "             functional       0.88      0.97      0.92     28991\n",
       "functional needs repair       0.87      0.54      0.66      3885\n",
       "         non functional       0.94      0.88      0.91     20584\n",
       "\n",
       "               accuracy                           0.90     53460\n",
       "              macro avg       0.90      0.80      0.83     53460\n",
       "           weighted avg       0.90      0.90      0.90     53460\n",
       "</pre>"
      ],
      "text/plain": [
       "<IPython.core.display.HTML object>"
      ]
     },
     "metadata": {},
     "output_type": "display_data"
    },
    {
     "data": {
      "text/html": [
       "<p><br>"
      ],
      "text/plain": [
       "<IPython.core.display.HTML object>"
      ]
     },
     "metadata": {},
     "output_type": "display_data"
    },
    {
     "data": {
      "text/html": [
       "Predicting labels on testing data..."
      ],
      "text/plain": [
       "<IPython.core.display.HTML object>"
      ]
     },
     "metadata": {},
     "output_type": "display_data"
    },
    {
     "data": {
      "text/html": [
       "<pre>\tALL DONE!</pre>"
      ],
      "text/plain": [
       "<IPython.core.display.HTML object>"
      ]
     },
     "metadata": {},
     "output_type": "display_data"
    },
    {
     "data": {
      "text/html": [
       "<p><br>"
      ],
      "text/plain": [
       "<IPython.core.display.HTML object>"
      ]
     },
     "metadata": {},
     "output_type": "display_data"
    },
    {
     "data": {
      "text/html": [
       "Testing Accuracy: 81.4141"
      ],
      "text/plain": [
       "<IPython.core.display.HTML object>"
      ]
     },
     "metadata": {},
     "output_type": "display_data"
    },
    {
     "data": {
      "text/html": [
       "<p><br>"
      ],
      "text/plain": [
       "<IPython.core.display.HTML object>"
      ]
     },
     "metadata": {},
     "output_type": "display_data"
    },
    {
     "data": {
      "text/html": [
       "<pre>                         precision    recall  f1-score   support\n",
       "\n",
       "             functional       0.81      0.90      0.85      3268\n",
       "functional needs repair       0.66      0.31      0.42       432\n",
       "         non functional       0.84      0.78      0.81      2240\n",
       "\n",
       "               accuracy                           0.81      5940\n",
       "              macro avg       0.77      0.67      0.70      5940\n",
       "           weighted avg       0.81      0.81      0.81      5940\n",
       "</pre>"
      ],
      "text/plain": [
       "<IPython.core.display.HTML object>"
      ]
     },
     "metadata": {},
     "output_type": "display_data"
    },
    {
     "data": {
      "text/html": [
       "<p><br>"
      ],
      "text/plain": [
       "<IPython.core.display.HTML object>"
      ]
     },
     "metadata": {},
     "output_type": "display_data"
    },
    {
     "data": {
      "text/html": [
       "Feature Importances:"
      ],
      "text/plain": [
       "<IPython.core.display.HTML object>"
      ]
     },
     "metadata": {},
     "output_type": "display_data"
    },
    {
     "data": {
      "text/html": [
       "<pre>[   ('quantity_target_encoded', 0.2779836),\n",
       "    ('scheme_name_target_encoded', 0.14239645),\n",
       "    ('waterpoint_type_target_encoded', 0.13903338),\n",
       "    ('extraction_type_target_encoded', 0.05729758),\n",
       "    ('installer_target_encoded', 0.049795274),\n",
       "    ('source_target_encoded', 0.037812322),\n",
       "    ('basin_target_encoded', 0.030148054),\n",
       "    ('region_code_target_encoded', 0.027671123),\n",
       "    ('payment_type_target_encoded', 0.025836403),\n",
       "    ('scheme_management_target_encoded', 0.020882895),\n",
       "    ('district_code_target_encoded', 0.019992894),\n",
       "    ('amount_tsh', 0.019020664),\n",
       "    ('permit', 0.018864213),\n",
       "    ('management_target_encoded', 0.018784013),\n",
       "    ('pump_age', 0.01836901),\n",
       "    ('longitude', 0.018020634),\n",
       "    ('public_meeting', 0.017073395),\n",
       "    ('latitude', 0.016352214),\n",
       "    ('water_quality_target_encoded', 0.01501579),\n",
       "    ('gps_height', 0.014890606),\n",
       "    ('population', 0.014759532)]</pre><p><br><br>"
      ],
      "text/plain": [
       "<IPython.core.display.HTML object>"
      ]
     },
     "metadata": {},
     "output_type": "display_data"
    }
   ],
   "source": [
    "run_xgbclf = models_config['XGBClassifier']['run']\n",
    "render_HTML(f\"models_config['XGBClassifier']['run']: {run_xgbclf}\")\n",
    "\n",
    "if run_xgbclf:\n",
    "    trials = models_config['XGBClassifier']['trials']\n",
    "\n",
    "    render_HTML(f\"models_config['XGBClassifier']['trials']['run']: {trials['run']}\")\n",
    "    if trials['run']:\n",
    "        trials_list = trials['array']\n",
    "\n",
    "        best_parameters = {}\n",
    "        for i, trial in enumerate(trials_list):\n",
    "            render_HTML(f\"<p><br>trial[{i}]['gridsearch']['run']: {trial['gridsearch']['run']}<br>\")\n",
    "            params = trial['gridsearch']['last_best'] if not trial['gridsearch']['run'] else trial['gridsearch']['param_grid']\n",
    "            if trial['gridsearch']['run']:\n",
    "                params.update({'n_jobs': [-1]})\n",
    "            else:\n",
    "                params.update({'n_jobs':-1})\n",
    "            xgbclf, best_parameters, model_results = clf_run_trial(XGBClassifier(), params, best_parameters, run_trials_gridsearch=trial['gridsearch']['run']) # note that best_parameters will be set to those used in the last trial\n",
    "\n",
    "    else:\n",
    "        best_parameters = models_config['XGBClassifier']['params']"
   ]
  },
  {
   "cell_type": "markdown",
   "metadata": {},
   "source": [
    "<p><br>\n",
    "<h4>Build Final Vaildation Model with best params</h4>"
   ]
  },
  {
   "cell_type": "code",
   "execution_count": 42,
   "metadata": {},
   "outputs": [
    {
     "data": {
      "text/html": [
       "<p><br>"
      ],
      "text/plain": [
       "<IPython.core.display.HTML object>"
      ]
     },
     "metadata": {},
     "output_type": "display_data"
    },
    {
     "data": {
      "text/html": [
       "Grid Search (previously) found the following optimal parameters: "
      ],
      "text/plain": [
       "<IPython.core.display.HTML object>"
      ]
     },
     "metadata": {},
     "output_type": "display_data"
    },
    {
     "data": {
      "text/html": [
       "<pre>{   'gamma': 2,\n",
       "    'learning_rate': 0.1,\n",
       "    'max_depth': 22,\n",
       "    'min_child_weight': 1,\n",
       "    'n_estimators': 100,\n",
       "    'n_jobs': -1,\n",
       "    'random_state': 42,\n",
       "    'verbosity': 1}</pre>"
      ],
      "text/plain": [
       "<IPython.core.display.HTML object>"
      ]
     },
     "metadata": {},
     "output_type": "display_data"
    },
    {
     "data": {
      "text/html": [
       "<p><br>"
      ],
      "text/plain": [
       "<IPython.core.display.HTML object>"
      ]
     },
     "metadata": {},
     "output_type": "display_data"
    },
    {
     "data": {
      "text/html": [
       "Fitting classifier..."
      ],
      "text/plain": [
       "<IPython.core.display.HTML object>"
      ]
     },
     "metadata": {},
     "output_type": "display_data"
    },
    {
     "name": "stdout",
     "output_type": "stream",
     "text": [
      "CPU times: user 3min 56s, sys: 1.35 s, total: 3min 57s\n",
      "Wall time: 30.6 s\n"
     ]
    },
    {
     "data": {
      "text/html": [
       "<pre>\tALL DONE!</pre>"
      ],
      "text/plain": [
       "<IPython.core.display.HTML object>"
      ]
     },
     "metadata": {},
     "output_type": "display_data"
    },
    {
     "data": {
      "text/html": [
       "<p><br>"
      ],
      "text/plain": [
       "<IPython.core.display.HTML object>"
      ]
     },
     "metadata": {},
     "output_type": "display_data"
    },
    {
     "data": {
      "text/html": [
       "Predicting labels on training data..."
      ],
      "text/plain": [
       "<IPython.core.display.HTML object>"
      ]
     },
     "metadata": {},
     "output_type": "display_data"
    },
    {
     "data": {
      "text/html": [
       "<pre>\tALL DONE!</pre>"
      ],
      "text/plain": [
       "<IPython.core.display.HTML object>"
      ]
     },
     "metadata": {},
     "output_type": "display_data"
    },
    {
     "data": {
      "text/html": [
       "<p><br>"
      ],
      "text/plain": [
       "<IPython.core.display.HTML object>"
      ]
     },
     "metadata": {},
     "output_type": "display_data"
    },
    {
     "data": {
      "text/html": [
       "Training Accuracy: 90.3255"
      ],
      "text/plain": [
       "<IPython.core.display.HTML object>"
      ]
     },
     "metadata": {},
     "output_type": "display_data"
    },
    {
     "data": {
      "text/html": [
       "<p><br>"
      ],
      "text/plain": [
       "<IPython.core.display.HTML object>"
      ]
     },
     "metadata": {},
     "output_type": "display_data"
    },
    {
     "data": {
      "text/html": [
       "<pre>                         precision    recall  f1-score   support\n",
       "\n",
       "             functional       0.88      0.97      0.92     28991\n",
       "functional needs repair       0.87      0.54      0.66      3885\n",
       "         non functional       0.94      0.88      0.91     20584\n",
       "\n",
       "               accuracy                           0.90     53460\n",
       "              macro avg       0.90      0.80      0.83     53460\n",
       "           weighted avg       0.90      0.90      0.90     53460\n",
       "</pre>"
      ],
      "text/plain": [
       "<IPython.core.display.HTML object>"
      ]
     },
     "metadata": {},
     "output_type": "display_data"
    },
    {
     "data": {
      "text/html": [
       "<p><br>"
      ],
      "text/plain": [
       "<IPython.core.display.HTML object>"
      ]
     },
     "metadata": {},
     "output_type": "display_data"
    },
    {
     "data": {
      "text/html": [
       "Computing cross-val score on training data..."
      ],
      "text/plain": [
       "<IPython.core.display.HTML object>"
      ]
     },
     "metadata": {},
     "output_type": "display_data"
    },
    {
     "data": {
      "text/html": [
       "<pre>\tALL DONE! scores: [0.81874299 0.82239057 0.81434718 0.8134119  0.81808829]</pre>"
      ],
      "text/plain": [
       "<IPython.core.display.HTML object>"
      ]
     },
     "metadata": {},
     "output_type": "display_data"
    },
    {
     "data": {
      "text/html": [
       "cross_val_score: 0.8173961840628508"
      ],
      "text/plain": [
       "<IPython.core.display.HTML object>"
      ]
     },
     "metadata": {},
     "output_type": "display_data"
    },
    {
     "data": {
      "text/html": [
       "<p><br>"
      ],
      "text/plain": [
       "<IPython.core.display.HTML object>"
      ]
     },
     "metadata": {},
     "output_type": "display_data"
    },
    {
     "data": {
      "text/html": [
       "Predicting labels on testing data..."
      ],
      "text/plain": [
       "<IPython.core.display.HTML object>"
      ]
     },
     "metadata": {},
     "output_type": "display_data"
    },
    {
     "data": {
      "text/html": [
       "<pre>\tALL DONE!</pre>"
      ],
      "text/plain": [
       "<IPython.core.display.HTML object>"
      ]
     },
     "metadata": {},
     "output_type": "display_data"
    },
    {
     "data": {
      "text/html": [
       "<p><br>"
      ],
      "text/plain": [
       "<IPython.core.display.HTML object>"
      ]
     },
     "metadata": {},
     "output_type": "display_data"
    },
    {
     "data": {
      "text/html": [
       "Testing Accuracy: 81.4141"
      ],
      "text/plain": [
       "<IPython.core.display.HTML object>"
      ]
     },
     "metadata": {},
     "output_type": "display_data"
    },
    {
     "data": {
      "text/html": [
       "<p><br>"
      ],
      "text/plain": [
       "<IPython.core.display.HTML object>"
      ]
     },
     "metadata": {},
     "output_type": "display_data"
    },
    {
     "data": {
      "text/html": [
       "<pre>                         precision    recall  f1-score   support\n",
       "\n",
       "             functional       0.81      0.90      0.85      3268\n",
       "functional needs repair       0.66      0.31      0.42       432\n",
       "         non functional       0.84      0.78      0.81      2240\n",
       "\n",
       "               accuracy                           0.81      5940\n",
       "              macro avg       0.77      0.67      0.70      5940\n",
       "           weighted avg       0.81      0.81      0.81      5940\n",
       "</pre>"
      ],
      "text/plain": [
       "<IPython.core.display.HTML object>"
      ]
     },
     "metadata": {},
     "output_type": "display_data"
    },
    {
     "data": {
      "text/html": [
       "<p><br>"
      ],
      "text/plain": [
       "<IPython.core.display.HTML object>"
      ]
     },
     "metadata": {},
     "output_type": "display_data"
    },
    {
     "data": {
      "text/html": [
       "Computing cross-val score on testing data..."
      ],
      "text/plain": [
       "<IPython.core.display.HTML object>"
      ]
     },
     "metadata": {},
     "output_type": "display_data"
    },
    {
     "data": {
      "text/html": [
       "<pre>\tALL DONE! scores: [0.77946128 0.76683502 0.78114478 0.76936027 0.76683502]</pre>"
      ],
      "text/plain": [
       "<IPython.core.display.HTML object>"
      ]
     },
     "metadata": {},
     "output_type": "display_data"
    },
    {
     "data": {
      "text/html": [
       "cross_val_score: 0.7727272727272727"
      ],
      "text/plain": [
       "<IPython.core.display.HTML object>"
      ]
     },
     "metadata": {},
     "output_type": "display_data"
    },
    {
     "data": {
      "text/html": [
       "<p><br>"
      ],
      "text/plain": [
       "<IPython.core.display.HTML object>"
      ]
     },
     "metadata": {},
     "output_type": "display_data"
    },
    {
     "data": {
      "text/html": [
       "Feature Importances:"
      ],
      "text/plain": [
       "<IPython.core.display.HTML object>"
      ]
     },
     "metadata": {},
     "output_type": "display_data"
    },
    {
     "data": {
      "text/html": [
       "<pre>[   ('quantity_target_encoded', 0.2779836),\n",
       "    ('scheme_name_target_encoded', 0.14239645),\n",
       "    ('waterpoint_type_target_encoded', 0.13903338),\n",
       "    ('extraction_type_target_encoded', 0.05729758),\n",
       "    ('installer_target_encoded', 0.049795274),\n",
       "    ('source_target_encoded', 0.037812322),\n",
       "    ('basin_target_encoded', 0.030148054),\n",
       "    ('region_code_target_encoded', 0.027671123),\n",
       "    ('payment_type_target_encoded', 0.025836403),\n",
       "    ('scheme_management_target_encoded', 0.020882895),\n",
       "    ('district_code_target_encoded', 0.019992894),\n",
       "    ('amount_tsh', 0.019020664),\n",
       "    ('permit', 0.018864213),\n",
       "    ('management_target_encoded', 0.018784013),\n",
       "    ('pump_age', 0.01836901),\n",
       "    ('longitude', 0.018020634),\n",
       "    ('public_meeting', 0.017073395),\n",
       "    ('latitude', 0.016352214),\n",
       "    ('water_quality_target_encoded', 0.01501579),\n",
       "    ('gps_height', 0.014890606),\n",
       "    ('population', 0.014759532)]</pre><p><br><br>"
      ],
      "text/plain": [
       "<IPython.core.display.HTML object>"
      ]
     },
     "metadata": {},
     "output_type": "display_data"
    }
   ],
   "source": [
    "if run_xgbclf:\n",
    "    best_parameters.update({'n_jobs':-1, 'verbosity':1, 'random_state': SEED})\n",
    "    xgbclf, _ , model_results = clf_run_trial(XGBClassifier(), best_parameters, best_parameters)"
   ]
  },
  {
   "cell_type": "markdown",
   "metadata": {},
   "source": [
    "<p><br><br>\n",
    "<h4>Save Validation Results to File</h4>"
   ]
  },
  {
   "cell_type": "code",
   "execution_count": 43,
   "metadata": {},
   "outputs": [
    {
     "name": "stdout",
     "output_type": "stream",
     "text": [
      "updated model-results/models-results-d6a76cbd7fb874262adbd0e4a705fc31.json\n"
     ]
    }
   ],
   "source": [
    "fm.save_json(model_results, f\"{model_results_fname}\")\n",
    "print(f\"updated {model_results_fname}\")"
   ]
  },
  {
   "cell_type": "markdown",
   "metadata": {},
   "source": [
    "<p><br><br>\n",
    "<h4>Build Final Model with ALL Labeled Data (Test + Validation)</h4>"
   ]
  },
  {
   "cell_type": "code",
   "execution_count": null,
   "metadata": {},
   "outputs": [],
   "source": []
  }
 ],
 "metadata": {
  "kernelspec": {
   "display_name": "Python 3.6.10 64-bit ('learn-env': conda)",
   "language": "python",
   "name": "python361064bitlearnenvconda6dc930ea082b425c82fd8a0b2d571658"
  },
  "language_info": {
   "codemirror_mode": {
    "name": "ipython",
    "version": 3
   },
   "file_extension": ".py",
   "mimetype": "text/x-python",
   "name": "python",
   "nbconvert_exporter": "python",
   "pygments_lexer": "ipython3",
   "version": "3.7.7"
  }
 },
 "nbformat": 4,
 "nbformat_minor": 4
}

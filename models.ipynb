{
 "cells": [
  {
   "cell_type": "markdown",
   "metadata": {},
   "source": [
    "<h2>Import Libraries</h2>"
   ]
  },
  {
   "cell_type": "code",
   "execution_count": 1,
   "metadata": {},
   "outputs": [],
   "source": [
    "import pandas as pd\n",
    "\n",
    "from sklearn.ensemble import BaggingClassifier, RandomForestClassifier\n",
    "from sklearn.multioutput import MultiOutputClassifier\n",
    "import xgboost as xgb\n",
    "from xgboost import XGBClassifier\n",
    "from sklearn.metrics import classification_report\n",
    "from sklearn.metrics import accuracy_score\n",
    "\n",
    "%load_ext autoreload\n",
    "%autoreload 2"
   ]
  },
  {
   "cell_type": "markdown",
   "metadata": {},
   "source": [
    "<p><br>\n",
    "<h2>Load TEST/TRAIN Data</h2>"
   ]
  },
  {
   "cell_type": "code",
   "execution_count": 2,
   "metadata": {},
   "outputs": [],
   "source": [
    "SEED = 42"
   ]
  },
  {
   "cell_type": "code",
   "execution_count": 3,
   "metadata": {},
   "outputs": [
    {
     "output_type": "stream",
     "name": "stdout",
     "text": "<class 'pandas.core.frame.DataFrame'>\nInt64Index: 47520 entries, 3607 to 56422\nColumns: 1017 entries, installer_cvsmiss to construction_year\ndtypes: float64(1017)\nmemory usage: 369.1 MB\n"
    }
   ],
   "source": [
    "data_train = pd.read_csv('data-train-final.csv', index_col=0)\n",
    "\n",
    "data_train.info()"
   ]
  },
  {
   "cell_type": "code",
   "execution_count": 4,
   "metadata": {},
   "outputs": [
    {
     "output_type": "execute_result",
     "data": {
      "text/plain": "       installer_cvsmiss  installer_mzeeomari  installer_jaic  \\\n3607                 0.0                  0.0             0.0   \n50870                0.0                  0.0             0.0   \n20413                0.0                  0.0             0.0   \n52806                0.0                  0.0             0.0   \n50091                0.0                  0.0             0.0   \n\n       installer_government  installer_thomas  installer_mahiti  \\\n3607                    0.0               0.0               0.0   \n50870                   0.0               0.0               0.0   \n20413                   0.0               0.0               0.0   \n52806                   0.0               0.0               0.0   \n50091                   0.0               0.0               0.0   \n\n       installer_farm17secondary  installer_laurianrafaeli  \\\n3607                         0.0                       0.0   \n50870                        0.0                       0.0   \n20413                        0.0                       0.0   \n52806                        0.0                       0.0   \n50091                        0.0                       0.0   \n\n       installer_scholasticapankrasi  installer_commun  ...  \\\n3607                             0.0               0.0  ...   \n50870                            0.0               0.0  ...   \n20413                            0.0               0.0  ...   \n52806                            0.0               0.0  ...   \n50091                            0.0               0.0  ...   \n\n       waterpoint_type_communalstandpipemultiple  waterpoint_type_other  \\\n3607                                         0.0                    0.0   \n50870                                        0.0                    0.0   \n20413                                        0.0                    1.0   \n52806                                        0.0                    0.0   \n50091                                        0.0                    1.0   \n\n       waterpoint_type_handpump  waterpoint_type_dam  \\\n3607                        0.0                  0.0   \n50870                       1.0                  0.0   \n20413                       0.0                  0.0   \n52806                       0.0                  0.0   \n50091                       0.0                  0.0   \n\n       waterpoint_type_improvedspring  gps_height  longitude  latitude  \\\n3607                              0.0    0.760678   0.878073  0.637112   \n50870                             0.0    0.022238   0.880156  0.508598   \n20413                             0.0    0.022238   0.805545  0.220458   \n52806                             0.0    0.022238   0.844227  0.242006   \n50091                             0.0    0.383339   0.917896  0.481453   \n\n       population  construction_year  \n3607     0.300752           0.992548  \n50870    0.000000           0.000000  \n20413    0.000000           0.000000  \n52806    0.000000           0.000000  \n50091    0.225564           0.992052  \n\n[5 rows x 1017 columns]",
      "text/html": "<div>\n<style scoped>\n    .dataframe tbody tr th:only-of-type {\n        vertical-align: middle;\n    }\n\n    .dataframe tbody tr th {\n        vertical-align: top;\n    }\n\n    .dataframe thead th {\n        text-align: right;\n    }\n</style>\n<table border=\"1\" class=\"dataframe\">\n  <thead>\n    <tr style=\"text-align: right;\">\n      <th></th>\n      <th>installer_cvsmiss</th>\n      <th>installer_mzeeomari</th>\n      <th>installer_jaic</th>\n      <th>installer_government</th>\n      <th>installer_thomas</th>\n      <th>installer_mahiti</th>\n      <th>installer_farm17secondary</th>\n      <th>installer_laurianrafaeli</th>\n      <th>installer_scholasticapankrasi</th>\n      <th>installer_commun</th>\n      <th>...</th>\n      <th>waterpoint_type_communalstandpipemultiple</th>\n      <th>waterpoint_type_other</th>\n      <th>waterpoint_type_handpump</th>\n      <th>waterpoint_type_dam</th>\n      <th>waterpoint_type_improvedspring</th>\n      <th>gps_height</th>\n      <th>longitude</th>\n      <th>latitude</th>\n      <th>population</th>\n      <th>construction_year</th>\n    </tr>\n  </thead>\n  <tbody>\n    <tr>\n      <th>3607</th>\n      <td>0.0</td>\n      <td>0.0</td>\n      <td>0.0</td>\n      <td>0.0</td>\n      <td>0.0</td>\n      <td>0.0</td>\n      <td>0.0</td>\n      <td>0.0</td>\n      <td>0.0</td>\n      <td>0.0</td>\n      <td>...</td>\n      <td>0.0</td>\n      <td>0.0</td>\n      <td>0.0</td>\n      <td>0.0</td>\n      <td>0.0</td>\n      <td>0.760678</td>\n      <td>0.878073</td>\n      <td>0.637112</td>\n      <td>0.300752</td>\n      <td>0.992548</td>\n    </tr>\n    <tr>\n      <th>50870</th>\n      <td>0.0</td>\n      <td>0.0</td>\n      <td>0.0</td>\n      <td>0.0</td>\n      <td>0.0</td>\n      <td>0.0</td>\n      <td>0.0</td>\n      <td>0.0</td>\n      <td>0.0</td>\n      <td>0.0</td>\n      <td>...</td>\n      <td>0.0</td>\n      <td>0.0</td>\n      <td>1.0</td>\n      <td>0.0</td>\n      <td>0.0</td>\n      <td>0.022238</td>\n      <td>0.880156</td>\n      <td>0.508598</td>\n      <td>0.000000</td>\n      <td>0.000000</td>\n    </tr>\n    <tr>\n      <th>20413</th>\n      <td>0.0</td>\n      <td>0.0</td>\n      <td>0.0</td>\n      <td>0.0</td>\n      <td>0.0</td>\n      <td>0.0</td>\n      <td>0.0</td>\n      <td>0.0</td>\n      <td>0.0</td>\n      <td>0.0</td>\n      <td>...</td>\n      <td>0.0</td>\n      <td>1.0</td>\n      <td>0.0</td>\n      <td>0.0</td>\n      <td>0.0</td>\n      <td>0.022238</td>\n      <td>0.805545</td>\n      <td>0.220458</td>\n      <td>0.000000</td>\n      <td>0.000000</td>\n    </tr>\n    <tr>\n      <th>52806</th>\n      <td>0.0</td>\n      <td>0.0</td>\n      <td>0.0</td>\n      <td>0.0</td>\n      <td>0.0</td>\n      <td>0.0</td>\n      <td>0.0</td>\n      <td>0.0</td>\n      <td>0.0</td>\n      <td>0.0</td>\n      <td>...</td>\n      <td>0.0</td>\n      <td>0.0</td>\n      <td>0.0</td>\n      <td>0.0</td>\n      <td>0.0</td>\n      <td>0.022238</td>\n      <td>0.844227</td>\n      <td>0.242006</td>\n      <td>0.000000</td>\n      <td>0.000000</td>\n    </tr>\n    <tr>\n      <th>50091</th>\n      <td>0.0</td>\n      <td>0.0</td>\n      <td>0.0</td>\n      <td>0.0</td>\n      <td>0.0</td>\n      <td>0.0</td>\n      <td>0.0</td>\n      <td>0.0</td>\n      <td>0.0</td>\n      <td>0.0</td>\n      <td>...</td>\n      <td>0.0</td>\n      <td>1.0</td>\n      <td>0.0</td>\n      <td>0.0</td>\n      <td>0.0</td>\n      <td>0.383339</td>\n      <td>0.917896</td>\n      <td>0.481453</td>\n      <td>0.225564</td>\n      <td>0.992052</td>\n    </tr>\n  </tbody>\n</table>\n<p>5 rows × 1017 columns</p>\n</div>"
     },
     "metadata": {},
     "execution_count": 4
    }
   ],
   "source": [
    "data_train.head()"
   ]
  },
  {
   "cell_type": "code",
   "execution_count": 5,
   "metadata": {},
   "outputs": [
    {
     "output_type": "stream",
     "name": "stdout",
     "text": "<class 'pandas.core.frame.DataFrame'>\nInt64Index: 47520 entries, 3607 to 56422\nData columns (total 1 columns):\n #   Column        Non-Null Count  Dtype \n---  ------        --------------  ----- \n 0   status_group  47520 non-null  object\ndtypes: object(1)\nmemory usage: 742.5+ KB\n"
    }
   ],
   "source": [
    "y_train = pd.read_csv('labels-train-final.csv', index_col=0)\n",
    "\n",
    "y_train.info()"
   ]
  },
  {
   "cell_type": "code",
   "execution_count": 6,
   "metadata": {},
   "outputs": [
    {
     "output_type": "execute_result",
     "data": {
      "text/plain": "         status_group\n3607       functional\n50870      functional\n20413  non functional\n52806  non functional\n50091  non functional",
      "text/html": "<div>\n<style scoped>\n    .dataframe tbody tr th:only-of-type {\n        vertical-align: middle;\n    }\n\n    .dataframe tbody tr th {\n        vertical-align: top;\n    }\n\n    .dataframe thead th {\n        text-align: right;\n    }\n</style>\n<table border=\"1\" class=\"dataframe\">\n  <thead>\n    <tr style=\"text-align: right;\">\n      <th></th>\n      <th>status_group</th>\n    </tr>\n  </thead>\n  <tbody>\n    <tr>\n      <th>3607</th>\n      <td>functional</td>\n    </tr>\n    <tr>\n      <th>50870</th>\n      <td>functional</td>\n    </tr>\n    <tr>\n      <th>20413</th>\n      <td>non functional</td>\n    </tr>\n    <tr>\n      <th>52806</th>\n      <td>non functional</td>\n    </tr>\n    <tr>\n      <th>50091</th>\n      <td>non functional</td>\n    </tr>\n  </tbody>\n</table>\n</div>"
     },
     "metadata": {},
     "execution_count": 6
    }
   ],
   "source": [
    "y_train.head()"
   ]
  },
  {
   "cell_type": "code",
   "execution_count": 7,
   "metadata": {},
   "outputs": [],
   "source": [
    "classes = y_train.status_group.unique()"
   ]
  },
  {
   "cell_type": "code",
   "execution_count": 8,
   "metadata": {},
   "outputs": [
    {
     "output_type": "stream",
     "name": "stdout",
     "text": "<class 'pandas.core.frame.DataFrame'>\nInt64Index: 11880 entries, 2980 to 41264\nColumns: 1017 entries, installer_cvsmiss to construction_year\ndtypes: float64(1017)\nmemory usage: 92.3 MB\n"
    }
   ],
   "source": [
    "data_test = pd.read_csv('data-test-final.csv', index_col=0)\n",
    "\n",
    "data_test.info()"
   ]
  },
  {
   "cell_type": "code",
   "execution_count": 9,
   "metadata": {},
   "outputs": [
    {
     "output_type": "execute_result",
     "data": {
      "text/plain": "       installer_cvsmiss  installer_mzeeomari  installer_jaic  \\\n2980                 0.0                  0.0             0.0   \n5246                 0.0                  0.0             0.0   \n22659                0.0                  0.0             0.0   \n39888                0.0                  0.0             0.0   \n13361                0.0                  0.0             0.0   \n\n       installer_government  installer_thomas  installer_mahiti  \\\n2980                    0.0               0.0               0.0   \n5246                    0.0               0.0               0.0   \n22659                   0.0               0.0               0.0   \n39888                   0.0               0.0               0.0   \n13361                   0.0               0.0               0.0   \n\n       installer_farm17secondary  installer_laurianrafaeli  \\\n2980                         0.0                       0.0   \n5246                         0.0                       0.0   \n22659                        0.0                       0.0   \n39888                        0.0                       0.0   \n13361                        0.0                       0.0   \n\n       installer_scholasticapankrasi  installer_commun  ...  \\\n2980                             0.0               0.0  ...   \n5246                             0.0               0.0  ...   \n22659                            0.0               0.0  ...   \n39888                            0.0               0.0  ...   \n13361                            0.0               0.0  ...   \n\n       waterpoint_type_communalstandpipemultiple  waterpoint_type_other  \\\n2980                                         0.0                    1.0   \n5246                                         0.0                    0.0   \n22659                                        0.0                    0.0   \n39888                                        0.0                    0.0   \n13361                                        1.0                    0.0   \n\n       waterpoint_type_handpump  waterpoint_type_dam  \\\n2980                        0.0                  0.0   \n5246                        1.0                  0.0   \n22659                       0.0                  0.0   \n39888                       1.0                  0.0   \n13361                       0.0                  0.0   \n\n       waterpoint_type_improvedspring  gps_height  longitude  latitude  \\\n2980                              0.0    0.022238   0.792800  0.691285   \n5246                              0.0    0.022238   0.813797  0.575521   \n22659                             0.0    0.613484   0.879616  0.635858   \n39888                             0.0    0.022238   0.821432  0.222333   \n13361                             0.0    0.413696   0.848108  0.619679   \n\n       population  construction_year  \n2980     0.000000           0.000000  \n5246     0.000000           0.000000  \n22659    0.278195           0.997516  \n39888    0.000000           0.000000  \n13361    0.441729           0.999006  \n\n[5 rows x 1017 columns]",
      "text/html": "<div>\n<style scoped>\n    .dataframe tbody tr th:only-of-type {\n        vertical-align: middle;\n    }\n\n    .dataframe tbody tr th {\n        vertical-align: top;\n    }\n\n    .dataframe thead th {\n        text-align: right;\n    }\n</style>\n<table border=\"1\" class=\"dataframe\">\n  <thead>\n    <tr style=\"text-align: right;\">\n      <th></th>\n      <th>installer_cvsmiss</th>\n      <th>installer_mzeeomari</th>\n      <th>installer_jaic</th>\n      <th>installer_government</th>\n      <th>installer_thomas</th>\n      <th>installer_mahiti</th>\n      <th>installer_farm17secondary</th>\n      <th>installer_laurianrafaeli</th>\n      <th>installer_scholasticapankrasi</th>\n      <th>installer_commun</th>\n      <th>...</th>\n      <th>waterpoint_type_communalstandpipemultiple</th>\n      <th>waterpoint_type_other</th>\n      <th>waterpoint_type_handpump</th>\n      <th>waterpoint_type_dam</th>\n      <th>waterpoint_type_improvedspring</th>\n      <th>gps_height</th>\n      <th>longitude</th>\n      <th>latitude</th>\n      <th>population</th>\n      <th>construction_year</th>\n    </tr>\n  </thead>\n  <tbody>\n    <tr>\n      <th>2980</th>\n      <td>0.0</td>\n      <td>0.0</td>\n      <td>0.0</td>\n      <td>0.0</td>\n      <td>0.0</td>\n      <td>0.0</td>\n      <td>0.0</td>\n      <td>0.0</td>\n      <td>0.0</td>\n      <td>0.0</td>\n      <td>...</td>\n      <td>0.0</td>\n      <td>1.0</td>\n      <td>0.0</td>\n      <td>0.0</td>\n      <td>0.0</td>\n      <td>0.022238</td>\n      <td>0.792800</td>\n      <td>0.691285</td>\n      <td>0.000000</td>\n      <td>0.000000</td>\n    </tr>\n    <tr>\n      <th>5246</th>\n      <td>0.0</td>\n      <td>0.0</td>\n      <td>0.0</td>\n      <td>0.0</td>\n      <td>0.0</td>\n      <td>0.0</td>\n      <td>0.0</td>\n      <td>0.0</td>\n      <td>0.0</td>\n      <td>0.0</td>\n      <td>...</td>\n      <td>0.0</td>\n      <td>0.0</td>\n      <td>1.0</td>\n      <td>0.0</td>\n      <td>0.0</td>\n      <td>0.022238</td>\n      <td>0.813797</td>\n      <td>0.575521</td>\n      <td>0.000000</td>\n      <td>0.000000</td>\n    </tr>\n    <tr>\n      <th>22659</th>\n      <td>0.0</td>\n      <td>0.0</td>\n      <td>0.0</td>\n      <td>0.0</td>\n      <td>0.0</td>\n      <td>0.0</td>\n      <td>0.0</td>\n      <td>0.0</td>\n      <td>0.0</td>\n      <td>0.0</td>\n      <td>...</td>\n      <td>0.0</td>\n      <td>0.0</td>\n      <td>0.0</td>\n      <td>0.0</td>\n      <td>0.0</td>\n      <td>0.613484</td>\n      <td>0.879616</td>\n      <td>0.635858</td>\n      <td>0.278195</td>\n      <td>0.997516</td>\n    </tr>\n    <tr>\n      <th>39888</th>\n      <td>0.0</td>\n      <td>0.0</td>\n      <td>0.0</td>\n      <td>0.0</td>\n      <td>0.0</td>\n      <td>0.0</td>\n      <td>0.0</td>\n      <td>0.0</td>\n      <td>0.0</td>\n      <td>0.0</td>\n      <td>...</td>\n      <td>0.0</td>\n      <td>0.0</td>\n      <td>1.0</td>\n      <td>0.0</td>\n      <td>0.0</td>\n      <td>0.022238</td>\n      <td>0.821432</td>\n      <td>0.222333</td>\n      <td>0.000000</td>\n      <td>0.000000</td>\n    </tr>\n    <tr>\n      <th>13361</th>\n      <td>0.0</td>\n      <td>0.0</td>\n      <td>0.0</td>\n      <td>0.0</td>\n      <td>0.0</td>\n      <td>0.0</td>\n      <td>0.0</td>\n      <td>0.0</td>\n      <td>0.0</td>\n      <td>0.0</td>\n      <td>...</td>\n      <td>1.0</td>\n      <td>0.0</td>\n      <td>0.0</td>\n      <td>0.0</td>\n      <td>0.0</td>\n      <td>0.413696</td>\n      <td>0.848108</td>\n      <td>0.619679</td>\n      <td>0.441729</td>\n      <td>0.999006</td>\n    </tr>\n  </tbody>\n</table>\n<p>5 rows × 1017 columns</p>\n</div>"
     },
     "metadata": {},
     "execution_count": 9
    }
   ],
   "source": [
    "data_test.head()"
   ]
  },
  {
   "cell_type": "code",
   "execution_count": 10,
   "metadata": {},
   "outputs": [
    {
     "output_type": "stream",
     "name": "stdout",
     "text": "<class 'pandas.core.frame.DataFrame'>\nInt64Index: 11880 entries, 2980 to 41264\nData columns (total 1 columns):\n #   Column        Non-Null Count  Dtype \n---  ------        --------------  ----- \n 0   status_group  11880 non-null  object\ndtypes: object(1)\nmemory usage: 185.6+ KB\n"
    }
   ],
   "source": [
    "y_test = pd.read_csv('labels-test-final.csv', index_col=0)\n",
    "\n",
    "y_test.info()"
   ]
  },
  {
   "cell_type": "code",
   "execution_count": 11,
   "metadata": {},
   "outputs": [
    {
     "output_type": "execute_result",
     "data": {
      "text/plain": "         status_group\n2980   non functional\n5246       functional\n22659      functional\n39888  non functional\n13361      functional",
      "text/html": "<div>\n<style scoped>\n    .dataframe tbody tr th:only-of-type {\n        vertical-align: middle;\n    }\n\n    .dataframe tbody tr th {\n        vertical-align: top;\n    }\n\n    .dataframe thead th {\n        text-align: right;\n    }\n</style>\n<table border=\"1\" class=\"dataframe\">\n  <thead>\n    <tr style=\"text-align: right;\">\n      <th></th>\n      <th>status_group</th>\n    </tr>\n  </thead>\n  <tbody>\n    <tr>\n      <th>2980</th>\n      <td>non functional</td>\n    </tr>\n    <tr>\n      <th>5246</th>\n      <td>functional</td>\n    </tr>\n    <tr>\n      <th>22659</th>\n      <td>functional</td>\n    </tr>\n    <tr>\n      <th>39888</th>\n      <td>non functional</td>\n    </tr>\n    <tr>\n      <th>13361</th>\n      <td>functional</td>\n    </tr>\n  </tbody>\n</table>\n</div>"
     },
     "metadata": {},
     "execution_count": 11
    }
   ],
   "source": [
    "y_test.head()"
   ]
  },
  {
   "cell_type": "markdown",
   "metadata": {},
   "source": [
    "<p><br>\n",
    "<h2>Models</h2>\n",
    "\n",
    "<h3>Random Forest Classifier</h3>\n",
    "<h4>Build/Train</h4>"
   ]
  },
  {
   "cell_type": "code",
   "execution_count": 12,
   "metadata": {},
   "outputs": [
    {
     "output_type": "stream",
     "name": "stdout",
     "text": "Grid Search found the following optimal parameters: \n\tbootstrap: True\n\tclass_weight: None\n\tcriterion: 'gini'\n\tmax_depth: 50\n\tmax_features: 'auto'\n\tmin_samples_leaf: 1\n\tn_estimators: 2000\n"
    }
   ],
   "source": [
    "# # GridSearchCV hyperparameters TUNING\n",
    "# param_grid = {\n",
    "#     'criterion': ['entropy', 'gini'],\n",
    "#     'bootstrap': [True, False],\n",
    "#     'max_features': ['auto', 'sqrt'],\n",
    "#     'max_depth': [50, 100, None],\n",
    "#     'n_estimators': [100, 500, 1000, 5000, 10000], # 100 is default\n",
    "#     'class_weight': ['balanced', 'balanced_subsample', None]\n",
    "#     'min_samples_leaf': [1, 2, 5, 10]\n",
    "#     'n_jobs': [-1],\n",
    "#     'random_state': [SEED],\n",
    "#     'verbose': [1]\n",
    "# }\n",
    "\n",
    "# K = 5\n",
    "\n",
    "# clf = RandomForestClassifier()\n",
    "\n",
    "# # print(clf.get_params().keys())\n",
    "\n",
    "# grid_clf = GridSearchCV(\n",
    "#     clf, \n",
    "#     param_grid, \n",
    "#     cv=K, \n",
    "#     n_jobs=-1, \n",
    "#     verbose=20\n",
    "# )\n",
    "# grid_clf.fit(data_train, y_train)\n",
    "\n",
    "# best_parameters = grid_clf.best_params_\n",
    "\n",
    "\n",
    "# Grid Search found the following optimal parameters: \n",
    "# bootstrap: True\n",
    "# criterion: 'gini'\n",
    "# max_depth: 50\n",
    "# max_features: 'auto'\n",
    "# n_estimators: 1000\n",
    "# # according to the prior GridSearch...\n",
    "# best_parameters = {}\n",
    "# best_parameters['criterion'] = 'gini'\n",
    "# best_parameters['bootstrap'] = True\n",
    "# best_parameters['max_depth'] = 50\n",
    "# best_parameters['max_features'] = 'auto'\n",
    "# best_parameters['n_estimators'] = 1000\n",
    "\n",
    "\n",
    "\n",
    "# finished 5/26/2020 @ 10:30 AM PST\n",
    "# Grid Search found the following optimal parameters: \n",
    "# \tbootstrap: True\n",
    "# \tcriterion: 'entropy'\n",
    "# \tmax_depth: 50\n",
    "# \tmax_features: 'auto'\n",
    "# \tn_estimators: 1000\n",
    "# \tn_jobs: -1\n",
    "# \trandom_state: 42\n",
    "# \tverbose: 1\n",
    "\n",
    "best_parameters = {}\n",
    "best_parameters['bootstrap'] = True\n",
    "best_parameters['criterion'] = 'gini'\n",
    "best_parameters['max_depth'] = 50\n",
    "best_parameters['max_features'] = 'auto'\n",
    "best_parameters['n_estimators'] = 2000\n",
    "best_parameters['class_weight'] = None\n",
    "best_parameters['min_samples_leaf'] = 1\n",
    "\n",
    "\n",
    "\n",
    "print(\"Grid Search found the following optimal parameters: \")\n",
    "for param_name in sorted(best_parameters.keys()):\n",
    "    print(\"\\t%s: %r\" % (param_name, best_parameters[param_name]))# # GridSearchCV hyperparameters TUNING"
   ]
  },
  {
   "cell_type": "code",
   "execution_count": 13,
   "metadata": {},
   "outputs": [
    {
     "output_type": "stream",
     "name": "stderr",
     "text": "[Parallel(n_jobs=-1)]: Using backend ThreadingBackend with 8 concurrent workers.\n[Parallel(n_jobs=-1)]: Done  34 tasks      | elapsed:    6.4s\n[Parallel(n_jobs=-1)]: Done 184 tasks      | elapsed:   29.1s\n[Parallel(n_jobs=-1)]: Done 434 tasks      | elapsed:  1.1min\n[Parallel(n_jobs=-1)]: Done 784 tasks      | elapsed:  2.1min\n[Parallel(n_jobs=-1)]: Done 1234 tasks      | elapsed:  3.4min\n[Parallel(n_jobs=-1)]: Done 1784 tasks      | elapsed:  4.9min\n[Parallel(n_jobs=-1)]: Done 2000 out of 2000 | elapsed:  5.5min finished\n"
    },
    {
     "output_type": "execute_result",
     "data": {
      "text/plain": "RandomForestClassifier(bootstrap=True, ccp_alpha=0.0, class_weight=None,\n                       criterion='gini', max_depth=50, max_features='auto',\n                       max_leaf_nodes=None, max_samples=None,\n                       min_impurity_decrease=0.0, min_impurity_split=None,\n                       min_samples_leaf=1, min_samples_split=2,\n                       min_weight_fraction_leaf=0.0, n_estimators=2000,\n                       n_jobs=-1, oob_score=True, random_state=42, verbose=1,\n                       warm_start=False)"
     },
     "metadata": {},
     "execution_count": 13
    }
   ],
   "source": [
    "clf = RandomForestClassifier(\n",
    "    oob_score = True,\n",
    "\n",
    "    bootstrap=best_parameters['bootstrap'],\n",
    "    criterion=best_parameters['criterion'],\n",
    "    max_depth=best_parameters['max_depth'],\n",
    "    max_features=best_parameters['max_features'],\n",
    "    n_estimators=best_parameters['n_estimators'],\n",
    "\n",
    "    class_weight=best_parameters['class_weight'],\n",
    "\n",
    "    min_samples_leaf=best_parameters['min_samples_leaf'], \n",
    "    #     # 1: 0.99375,               0.8017676767676768\n",
    "    #     # 2: 0.8430345117845118,    0.7627104377104377\n",
    "    #     # 3: 0.781439393939394,     0.7323232323232324 \n",
    "    #     # 4: 0.75681818181818189,   0.7214646464646465 <-- closest together\n",
    "    #     # 5: 0.7405723905723905,    0.7095959595959596\n",
    "\n",
    "    random_state=SEED, \n",
    "    n_jobs=-1,\n",
    "    verbose=1\n",
    ")\n",
    "\n",
    "clf.fit(data_train, y_train)"
   ]
  },
  {
   "cell_type": "markdown",
   "metadata": {},
   "source": [
    "<h4>Predict</h4>\n",
    "<h5>Training Data</h5>"
   ]
  },
  {
   "cell_type": "code",
   "execution_count": 14,
   "metadata": {},
   "outputs": [
    {
     "output_type": "stream",
     "name": "stderr",
     "text": "[Parallel(n_jobs=8)]: Using backend ThreadingBackend with 8 concurrent workers.\n[Parallel(n_jobs=8)]: Done  34 tasks      | elapsed:    0.2s\n[Parallel(n_jobs=8)]: Done 184 tasks      | elapsed:    0.9s\n[Parallel(n_jobs=8)]: Done 434 tasks      | elapsed:    2.1s\n[Parallel(n_jobs=8)]: Done 784 tasks      | elapsed:    4.0s\n[Parallel(n_jobs=8)]: Done 1234 tasks      | elapsed:    6.2s\n[Parallel(n_jobs=8)]: Done 1784 tasks      | elapsed:   10.0s\n[Parallel(n_jobs=8)]: Done 2000 out of 2000 | elapsed:   11.7s finished\n[Parallel(n_jobs=8)]: Using backend ThreadingBackend with 8 concurrent workers.\n[Parallel(n_jobs=8)]: Done  34 tasks      | elapsed:    0.2s\n[Parallel(n_jobs=8)]: Done 184 tasks      | elapsed:    1.3s\n[Parallel(n_jobs=8)]: Done 434 tasks      | elapsed:    3.6s\n[Parallel(n_jobs=8)]: Done 784 tasks      | elapsed:    6.2s\n[Parallel(n_jobs=8)]: Done 1234 tasks      | elapsed:    9.2s\n[Parallel(n_jobs=8)]: Done 1784 tasks      | elapsed:   13.3s\n[Parallel(n_jobs=8)]: Done 2000 out of 2000 | elapsed:   14.7s finished\n\nscore:  0.9949074074074075 \n\n\noob score:  0.8027356902356902 \n\n                         precision    recall  f1-score   support\n\n             functional       0.99      1.00      1.00     25802\n         non functional       0.98      0.97      0.97      3466\nfunctional needs repair       1.00      1.00      1.00     18252\n\n               accuracy                           0.99     47520\n              macro avg       0.99      0.99      0.99     47520\n           weighted avg       0.99      0.99      0.99     47520\n\n"
    }
   ],
   "source": [
    "pred_train = clf.predict(data_train)\n",
    "print(\"\\nscore: \", clf.score(data_train, y_train), \"\\n\")\n",
    "print(\"\\noob score: \", clf.oob_score_, \"\\n\")\n",
    "print(classification_report(y_train, pred_train, target_names=classes))"
   ]
  },
  {
   "cell_type": "markdown",
   "metadata": {},
   "source": [
    "<h5>Testing Data</h5>"
   ]
  },
  {
   "cell_type": "code",
   "execution_count": 15,
   "metadata": {},
   "outputs": [
    {
     "output_type": "stream",
     "name": "stderr",
     "text": "[Parallel(n_jobs=8)]: Using backend ThreadingBackend with 8 concurrent workers.\n[Parallel(n_jobs=8)]: Done  34 tasks      | elapsed:    0.0s\n[Parallel(n_jobs=8)]: Done 184 tasks      | elapsed:    0.3s\n[Parallel(n_jobs=8)]: Done 434 tasks      | elapsed:    0.7s\n[Parallel(n_jobs=8)]: Done 784 tasks      | elapsed:    1.4s\n[Parallel(n_jobs=8)]: Done 1234 tasks      | elapsed:    2.1s\n[Parallel(n_jobs=8)]: Done 1784 tasks      | elapsed:    3.0s\n[Parallel(n_jobs=8)]: Done 2000 out of 2000 | elapsed:    3.4s finished\n[Parallel(n_jobs=8)]: Using backend ThreadingBackend with 8 concurrent workers.\n[Parallel(n_jobs=8)]: Done  34 tasks      | elapsed:    0.1s\n[Parallel(n_jobs=8)]: Done 184 tasks      | elapsed:    0.3s\n[Parallel(n_jobs=8)]: Done 434 tasks      | elapsed:    0.8s\n[Parallel(n_jobs=8)]: Done 784 tasks      | elapsed:    1.4s\n[Parallel(n_jobs=8)]: Done 1234 tasks      | elapsed:    2.1s\n[Parallel(n_jobs=8)]: Done 1784 tasks      | elapsed:    3.2s\n[Parallel(n_jobs=8)]: Done 2000 out of 2000 | elapsed:    3.6s finished\n\nscore:  0.8031986531986532 \n\n                         precision    recall  f1-score   support\n\n             functional       0.81      0.88      0.84      6457\n         non functional       0.50      0.36      0.42       851\nfunctional needs repair       0.83      0.78      0.81      4572\n\n               accuracy                           0.80     11880\n              macro avg       0.72      0.67      0.69     11880\n           weighted avg       0.80      0.80      0.80     11880\n\n"
    }
   ],
   "source": [
    "pred_test = clf.predict(data_test)\n",
    "print(\"\\nscore: \", clf.score(data_test, y_test), \"\\n\")\n",
    "print(classification_report(y_test, pred_test, target_names=classes))"
   ]
  },
  {
   "cell_type": "code",
   "execution_count": 16,
   "metadata": {},
   "outputs": [],
   "source": [
    "# placeholder"
   ]
  }
 ],
 "metadata": {
  "language_info": {
   "codemirror_mode": {
    "name": "ipython",
    "version": 3
   },
   "file_extension": ".py",
   "mimetype": "text/x-python",
   "name": "python",
   "nbconvert_exporter": "python",
   "pygments_lexer": "ipython3",
   "version": "3.7.7-final"
  },
  "orig_nbformat": 2,
  "kernelspec": {
   "name": "python37664bitlearnenvconda70f0b4d48d474c1cba77a4611cdb5f3c",
   "display_name": "Python 3.7.6 64-bit ('learn-env': conda)"
  }
 },
 "nbformat": 4,
 "nbformat_minor": 2
}
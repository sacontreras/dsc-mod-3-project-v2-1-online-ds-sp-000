{
 "cells": [
  {
   "cell_type": "markdown",
   "metadata": {},
   "source": [
    "<h2>Import Libraries</h2>"
   ]
  },
  {
   "cell_type": "code",
   "execution_count": 1,
   "metadata": {},
   "outputs": [],
   "source": [
    "from scjpnlib.utils.file_io import FileManager\n",
    "import scjpnlib.utils as scjpnutils\n",
    "import pickle\n",
    "import json\n",
    "from IPython.core.display import HTML, Markdown\n",
    "import html2text\n",
    "from bs4 import BeautifulSoup\n",
    "import pprint\n",
    "\n",
    "import pandas as pd\n",
    "import numpy as np\n",
    "\n",
    "from scjpnlib.utils.skl_transformers import LabelEncodingTransformer\n",
    "\n",
    "from sklearn.model_selection import GridSearchCV, cross_val_score\n",
    "import dask_ml.model_selection as dcv\n",
    "from dask.distributed import Client\n",
    "import joblib\n",
    "\n",
    "from sklearn.tree import DecisionTreeClassifier\n",
    "from sklearn.ensemble import RandomForestClassifier, VotingClassifier \n",
    "# import xgboost as xgb\n",
    "from xgboost import XGBClassifier\n",
    "from sklearn.metrics import classification_report\n",
    "from sklearn.metrics import accuracy_score\n",
    "\n",
    "%load_ext autoreload\n",
    "%autoreload 2\n",
    "\n",
    "K = 3 # num folds for cross-val\n",
    "n_jobs = 8\n",
    "\n",
    "LOG_MODEL_TRIALS = True"
   ]
  },
  {
   "cell_type": "markdown",
   "metadata": {},
   "source": [
    "## Read Configs for this Experiment"
   ]
  },
  {
   "cell_type": "code",
   "execution_count": 2,
   "metadata": {},
   "outputs": [
    {
     "output_type": "execute_result",
     "data": {
      "text/plain": "{'SEED': 42,\n 'DecisionTreeClassifier': {'trials': {'run': False,\n   'array': [{'gridsearch': {'run': False,\n      'param_grid': {'criterion': ['entropy', 'gini'],\n       'splitter': ['best'],\n       'max_depth': [10, 50, 75, None],\n       'min_samples_split': [2],\n       'max_features': ['auto', 'sqrt', 'log2']},\n      'last_best': {'criterion': 'entropy',\n       'splitter': 'best',\n       'max_depth': None,\n       'min_samples_split': 2,\n       'max_features': 'sqrt'}}}]},\n  'params': {'criterion': 'entropy',\n   'splitter': 'best',\n   'max_depth': None,\n   'min_samples_split': 2,\n   'max_features': 'sqrt'}},\n 'RandomForestClassifier': {'trials': {'run': False,\n   'array': [{'gridsearch': {'run': False,\n      'param_grid': {'bootstrap': [True, False],\n       'criterion': ['entropy', 'gini'],\n       'max_features': ['auto', 'sqrt', 'log2'],\n       'max_depth': [10, 50, 75, None],\n       'n_estimators': [100, 500, 1000]},\n      'last_best': {'bootstrap': True,\n       'criterion': 'entropy',\n       'max_depth': 75,\n       'max_features': 'auto',\n       'n_estimators': 1000}}}]},\n  'params': {'bootstrap': True,\n   'criterion': 'entropy',\n   'max_depth': 75,\n   'max_features': 'auto',\n   'n_estimators': 1000}},\n 'XGBClassifier': {'trials': {'run': False,\n   'array': [{'gridsearch': {'run': True,\n      'param_grid': {'n_estimators': [100, 500, 750, 1000]},\n      'last_best': {'n_estimators': 100}}},\n    {'gridsearch': {'run': True,\n      'param_grid': {'max_depth': [3, 5, 10, 22, 50]},\n      'last_best': {'max_depth': 3}}},\n    {'gridsearch': {'run': True,\n      'param_grid': {'learning_rate': [0.1, 0.3, 0.6, 1.0]},\n      'last_best': {'learning_rate': 0.1}}},\n    {'gridsearch': {'run': True,\n      'param_grid': {'min_child_weight': [1, 3, 5]},\n      'last_best': {'min_child_weight': 1}}},\n    {'gridsearch': {'run': True,\n      'param_grid': {'subsample': [0.1, 0.25, 0.5, 1.0]},\n      'last_best': {'subsample': 1.0}}},\n    {'gridsearch': {'run': True,\n      'param_grid': {'gamma': [0, 1, 2, 5, 10]},\n      'last_best': {'gamma': 5}}}]},\n  'params': {'learning_rate': 0.1,\n   'max_depth': 3,\n   'min_child_weight': 1,\n   'subsample': 1.0,\n   'gamma': 5,\n   'n_estimators': 100}}}"
     },
     "metadata": {},
     "execution_count": 2
    }
   ],
   "source": [
    "fm = FileManager()\n",
    "\n",
    "models_config = fm.load_json('models-config.txt')\n",
    "models_config"
   ]
  },
  {
   "cell_type": "code",
   "execution_count": 3,
   "metadata": {},
   "outputs": [],
   "source": [
    "is_data_cached = 'data_cached' in models_config\n",
    "data_config = models_config['data_cached'] if is_data_cached else fm.load_json('eda-config.txt')\n",
    "digest = data_config['digest'] if is_data_cached else scjpnutils.json_to_md5_hash_digest(data_config)"
   ]
  },
  {
   "cell_type": "code",
   "execution_count": 4,
   "metadata": {},
   "outputs": [
    {
     "output_type": "stream",
     "name": "stdout",
     "text": "EDA description: (digest: 2d7d3126b4f539a5c747b7bed497626b) 0.10 test_ratio, flat insig cat hat handling with threshold 10; location based on ward\n"
    }
   ],
   "source": [
    "print(f\"EDA description: {'CACHED ' if is_data_cached else ''}(digest: {digest}) {data_config['eda_desc']['short']}\")"
   ]
  },
  {
   "cell_type": "code",
   "execution_count": 5,
   "metadata": {},
   "outputs": [
    {
     "output_type": "stream",
     "name": "stdout",
     "text": "modeling results will be saved to: models-results-2d7d3126b4f539a5c747b7bed497626b.json\n"
    }
   ],
   "source": [
    "model_results_fname = scjpnutils.get_model_result_fname(data_config, data_kwargs={'is_cached':is_data_cached})\n",
    "print(f\"modeling results will be saved to: {model_results_fname}\")"
   ]
  },
  {
   "cell_type": "code",
   "execution_count": 6,
   "metadata": {},
   "outputs": [],
   "source": [
    "model_results = {}\n",
    "model_results['digest'] = 'db63dd93529739a8ff24e61570c22f0a'\n",
    "model_results['modeling_results'] = {}"
   ]
  },
  {
   "cell_type": "markdown",
   "metadata": {},
   "source": [
    "<p><br>\n",
    "<h2>Load TEST/TRAIN Data</h2>"
   ]
  },
  {
   "cell_type": "code",
   "execution_count": 7,
   "metadata": {},
   "outputs": [],
   "source": [
    "SEED = models_config['SEED']\n",
    "model_results['seed'] = SEED"
   ]
  },
  {
   "cell_type": "code",
   "execution_count": 8,
   "metadata": {},
   "outputs": [
    {
     "output_type": "stream",
     "name": "stdout",
     "text": "loaded wrangled-labeled-data-train-2d7d3126b4f539a5c747b7bed497626b.csv\n\n<class 'pandas.core.frame.DataFrame'>\nInt64Index: 53460 entries, 0 to 74247\nData columns (total 22 columns):\n #   Column             Non-Null Count  Dtype  \n---  ------             --------------  -----  \n 0   amount_tsh         53460 non-null  float64\n 1   funder             52583 non-null  float64\n 2   gps_height         53460 non-null  int64  \n 3   installer          52582 non-null  float64\n 4   longitude          53460 non-null  float64\n 5   latitude           53460 non-null  float64\n 6   basin              53460 non-null  float64\n 7   region_code        53459 non-null  float64\n 8   district_code      53460 non-null  float64\n 9   population         53460 non-null  int64  \n 10  public_meeting     53460 non-null  bool   \n 11  scheme_management  53460 non-null  float64\n 12  scheme_name        52880 non-null  float64\n 13  permit             53460 non-null  bool   \n 14  extraction_type    53460 non-null  float64\n 15  management         53460 non-null  float64\n 16  payment_type       53460 non-null  float64\n 17  water_quality      53460 non-null  float64\n 18  quantity           53460 non-null  float64\n 19  source             53460 non-null  float64\n 20  waterpoint_type    53460 non-null  float64\n 21  pump_age           53460 non-null  int64  \ndtypes: bool(2), float64(17), int64(3)\nmemory usage: 8.7 MB\n"
    }
   ],
   "source": [
    "fname = scjpnutils.get_data_fname(data_config, data_kwargs={'is_labels':False,'type':'train','is_cached':is_data_cached})\n",
    "data_train = pd.read_csv(fname, index_col=0).sort_index()\n",
    "print(f\"loaded {fname}\\n\")\n",
    "\n",
    "data_train.info()"
   ]
  },
  {
   "cell_type": "code",
   "execution_count": 9,
   "metadata": {},
   "outputs": [
    {
     "output_type": "execute_result",
     "data": {
      "text/plain": "    amount_tsh    funder  gps_height  installer  longitude  latitude  \\\nid                                                                     \n0          0.0  0.801370           0   0.773171  33.125828 -5.118154   \n1          0.0  0.429167        1978   0.469828  34.770717 -9.395642   \n2          0.0  1.006849           0   1.135593  36.115056 -6.279268   \n3         10.0  0.234811        1639   0.234811  37.147432 -3.187555   \n5         50.0  0.391156          28   0.440994  39.286124 -6.972403   \n7          0.0  0.982818           0   1.054902  36.313619 -6.719257   \n8          0.0  0.979381           0   0.605263  35.939445 -6.014358   \n9          0.0  0.944162           0   0.884615  31.693371 -2.530703   \n11        30.0       NaN          64        NaN  38.663639 -5.805746   \n12         0.0  1.119436        1332   1.236842  36.756231 -3.373772   \n\n       basin  region_code  district_code  population  ...  scheme_name  \\\nid                                                    ...                \n0   0.918364     1.104651       0.938982           0  ...     0.894985   \n1   0.674483     0.413474       0.700044          20  ...     0.894985   \n2   0.907618     0.988636       0.700044           0  ...     0.857143   \n3   0.744938     0.720877       0.817451          25  ...     0.092715   \n5   0.907618     1.025391       1.142857        6922  ...     0.895054   \n7   0.674483     0.988636       0.819784           0  ...     0.000000   \n8   0.907284     0.987727       0.816992           0  ...     1.777778   \n9   0.908071     0.867890       0.818618           0  ...     2.000000   \n11  0.744714     0.849920       0.816992         150  ...     1.619048   \n12  0.744714     0.633807       0.730700         350  ...     0.895054   \n\n    permit  extraction_type  management  payment_type  water_quality  \\\nid                                                                     \n0     True         0.620690    0.922653      1.081903       0.894147   \n1    False         0.664444    0.922604      1.026985       0.791310   \n2     True         1.200070    0.922604      0.598954       0.791310   \n3     True         0.700661    0.430082      0.598954       0.791310   \n5    False         0.849675    0.480203      0.598731       0.791271   \n7     True         1.647846    0.922653      1.026985       0.891656   \n8    False         1.199372    0.480203      0.598954       0.791310   \n9     True         1.199372    0.922653      1.026907       0.791271   \n11   False         0.850094    0.479188      0.598731       1.039135   \n12   False         0.700624    0.537885      1.082148       0.791271   \n\n    quantity    source  waterpoint_type  pump_age  \nid                                                 \n0   0.623053  0.953635         0.705496         0  \n1   0.622992  0.953516         0.705496         3  \n2   0.857747  0.976612         1.161586         0  \n3   0.622992  0.680494         0.677816        14  \n5   0.623053  0.976431         1.161259         0  \n7   0.857747  0.680494         0.455939         0  \n8   1.943795  0.976612         1.161586         0  \n9   0.857615  0.976431         1.161259         0  \n11  0.857615  0.976431         0.677746         4  \n12  0.857615  0.655623         0.677781         3  \n\n[10 rows x 22 columns]",
      "text/html": "<div>\n<style scoped>\n    .dataframe tbody tr th:only-of-type {\n        vertical-align: middle;\n    }\n\n    .dataframe tbody tr th {\n        vertical-align: top;\n    }\n\n    .dataframe thead th {\n        text-align: right;\n    }\n</style>\n<table border=\"1\" class=\"dataframe\">\n  <thead>\n    <tr style=\"text-align: right;\">\n      <th></th>\n      <th>amount_tsh</th>\n      <th>funder</th>\n      <th>gps_height</th>\n      <th>installer</th>\n      <th>longitude</th>\n      <th>latitude</th>\n      <th>basin</th>\n      <th>region_code</th>\n      <th>district_code</th>\n      <th>population</th>\n      <th>...</th>\n      <th>scheme_name</th>\n      <th>permit</th>\n      <th>extraction_type</th>\n      <th>management</th>\n      <th>payment_type</th>\n      <th>water_quality</th>\n      <th>quantity</th>\n      <th>source</th>\n      <th>waterpoint_type</th>\n      <th>pump_age</th>\n    </tr>\n    <tr>\n      <th>id</th>\n      <th></th>\n      <th></th>\n      <th></th>\n      <th></th>\n      <th></th>\n      <th></th>\n      <th></th>\n      <th></th>\n      <th></th>\n      <th></th>\n      <th></th>\n      <th></th>\n      <th></th>\n      <th></th>\n      <th></th>\n      <th></th>\n      <th></th>\n      <th></th>\n      <th></th>\n      <th></th>\n      <th></th>\n    </tr>\n  </thead>\n  <tbody>\n    <tr>\n      <th>0</th>\n      <td>0.0</td>\n      <td>0.801370</td>\n      <td>0</td>\n      <td>0.773171</td>\n      <td>33.125828</td>\n      <td>-5.118154</td>\n      <td>0.918364</td>\n      <td>1.104651</td>\n      <td>0.938982</td>\n      <td>0</td>\n      <td>...</td>\n      <td>0.894985</td>\n      <td>True</td>\n      <td>0.620690</td>\n      <td>0.922653</td>\n      <td>1.081903</td>\n      <td>0.894147</td>\n      <td>0.623053</td>\n      <td>0.953635</td>\n      <td>0.705496</td>\n      <td>0</td>\n    </tr>\n    <tr>\n      <th>1</th>\n      <td>0.0</td>\n      <td>0.429167</td>\n      <td>1978</td>\n      <td>0.469828</td>\n      <td>34.770717</td>\n      <td>-9.395642</td>\n      <td>0.674483</td>\n      <td>0.413474</td>\n      <td>0.700044</td>\n      <td>20</td>\n      <td>...</td>\n      <td>0.894985</td>\n      <td>False</td>\n      <td>0.664444</td>\n      <td>0.922604</td>\n      <td>1.026985</td>\n      <td>0.791310</td>\n      <td>0.622992</td>\n      <td>0.953516</td>\n      <td>0.705496</td>\n      <td>3</td>\n    </tr>\n    <tr>\n      <th>2</th>\n      <td>0.0</td>\n      <td>1.006849</td>\n      <td>0</td>\n      <td>1.135593</td>\n      <td>36.115056</td>\n      <td>-6.279268</td>\n      <td>0.907618</td>\n      <td>0.988636</td>\n      <td>0.700044</td>\n      <td>0</td>\n      <td>...</td>\n      <td>0.857143</td>\n      <td>True</td>\n      <td>1.200070</td>\n      <td>0.922604</td>\n      <td>0.598954</td>\n      <td>0.791310</td>\n      <td>0.857747</td>\n      <td>0.976612</td>\n      <td>1.161586</td>\n      <td>0</td>\n    </tr>\n    <tr>\n      <th>3</th>\n      <td>10.0</td>\n      <td>0.234811</td>\n      <td>1639</td>\n      <td>0.234811</td>\n      <td>37.147432</td>\n      <td>-3.187555</td>\n      <td>0.744938</td>\n      <td>0.720877</td>\n      <td>0.817451</td>\n      <td>25</td>\n      <td>...</td>\n      <td>0.092715</td>\n      <td>True</td>\n      <td>0.700661</td>\n      <td>0.430082</td>\n      <td>0.598954</td>\n      <td>0.791310</td>\n      <td>0.622992</td>\n      <td>0.680494</td>\n      <td>0.677816</td>\n      <td>14</td>\n    </tr>\n    <tr>\n      <th>5</th>\n      <td>50.0</td>\n      <td>0.391156</td>\n      <td>28</td>\n      <td>0.440994</td>\n      <td>39.286124</td>\n      <td>-6.972403</td>\n      <td>0.907618</td>\n      <td>1.025391</td>\n      <td>1.142857</td>\n      <td>6922</td>\n      <td>...</td>\n      <td>0.895054</td>\n      <td>False</td>\n      <td>0.849675</td>\n      <td>0.480203</td>\n      <td>0.598731</td>\n      <td>0.791271</td>\n      <td>0.623053</td>\n      <td>0.976431</td>\n      <td>1.161259</td>\n      <td>0</td>\n    </tr>\n    <tr>\n      <th>7</th>\n      <td>0.0</td>\n      <td>0.982818</td>\n      <td>0</td>\n      <td>1.054902</td>\n      <td>36.313619</td>\n      <td>-6.719257</td>\n      <td>0.674483</td>\n      <td>0.988636</td>\n      <td>0.819784</td>\n      <td>0</td>\n      <td>...</td>\n      <td>0.000000</td>\n      <td>True</td>\n      <td>1.647846</td>\n      <td>0.922653</td>\n      <td>1.026985</td>\n      <td>0.891656</td>\n      <td>0.857747</td>\n      <td>0.680494</td>\n      <td>0.455939</td>\n      <td>0</td>\n    </tr>\n    <tr>\n      <th>8</th>\n      <td>0.0</td>\n      <td>0.979381</td>\n      <td>0</td>\n      <td>0.605263</td>\n      <td>35.939445</td>\n      <td>-6.014358</td>\n      <td>0.907284</td>\n      <td>0.987727</td>\n      <td>0.816992</td>\n      <td>0</td>\n      <td>...</td>\n      <td>1.777778</td>\n      <td>False</td>\n      <td>1.199372</td>\n      <td>0.480203</td>\n      <td>0.598954</td>\n      <td>0.791310</td>\n      <td>1.943795</td>\n      <td>0.976612</td>\n      <td>1.161586</td>\n      <td>0</td>\n    </tr>\n    <tr>\n      <th>9</th>\n      <td>0.0</td>\n      <td>0.944162</td>\n      <td>0</td>\n      <td>0.884615</td>\n      <td>31.693371</td>\n      <td>-2.530703</td>\n      <td>0.908071</td>\n      <td>0.867890</td>\n      <td>0.818618</td>\n      <td>0</td>\n      <td>...</td>\n      <td>2.000000</td>\n      <td>True</td>\n      <td>1.199372</td>\n      <td>0.922653</td>\n      <td>1.026907</td>\n      <td>0.791271</td>\n      <td>0.857615</td>\n      <td>0.976431</td>\n      <td>1.161259</td>\n      <td>0</td>\n    </tr>\n    <tr>\n      <th>11</th>\n      <td>30.0</td>\n      <td>NaN</td>\n      <td>64</td>\n      <td>NaN</td>\n      <td>38.663639</td>\n      <td>-5.805746</td>\n      <td>0.744714</td>\n      <td>0.849920</td>\n      <td>0.816992</td>\n      <td>150</td>\n      <td>...</td>\n      <td>1.619048</td>\n      <td>False</td>\n      <td>0.850094</td>\n      <td>0.479188</td>\n      <td>0.598731</td>\n      <td>1.039135</td>\n      <td>0.857615</td>\n      <td>0.976431</td>\n      <td>0.677746</td>\n      <td>4</td>\n    </tr>\n    <tr>\n      <th>12</th>\n      <td>0.0</td>\n      <td>1.119436</td>\n      <td>1332</td>\n      <td>1.236842</td>\n      <td>36.756231</td>\n      <td>-3.373772</td>\n      <td>0.744714</td>\n      <td>0.633807</td>\n      <td>0.730700</td>\n      <td>350</td>\n      <td>...</td>\n      <td>0.895054</td>\n      <td>False</td>\n      <td>0.700624</td>\n      <td>0.537885</td>\n      <td>1.082148</td>\n      <td>0.791271</td>\n      <td>0.857615</td>\n      <td>0.655623</td>\n      <td>0.677781</td>\n      <td>3</td>\n    </tr>\n  </tbody>\n</table>\n<p>10 rows × 22 columns</p>\n</div>"
     },
     "metadata": {},
     "execution_count": 9
    }
   ],
   "source": [
    "data_train.head(10)"
   ]
  },
  {
   "cell_type": "code",
   "execution_count": 10,
   "metadata": {},
   "outputs": [
    {
     "output_type": "stream",
     "name": "stdout",
     "text": "loaded labels-train-2d7d3126b4f539a5c747b7bed497626b.csv\n\n<class 'pandas.core.frame.DataFrame'>\nInt64Index: 53460 entries, 0 to 74247\nData columns (total 1 columns):\n #   Column        Non-Null Count  Dtype \n---  ------        --------------  ----- \n 0   status_group  53460 non-null  object\ndtypes: object(1)\nmemory usage: 835.3+ KB\n"
    }
   ],
   "source": [
    "fname = scjpnutils.get_data_fname(data_config, data_kwargs={'is_labels':True,'type':'train','is_cached':is_data_cached})\n",
    "y_train = pd.read_csv(fname, index_col=0).sort_index()\n",
    "print(f\"loaded {fname}\\n\")\n",
    "\n",
    "y_train.info()"
   ]
  },
  {
   "cell_type": "code",
   "execution_count": 11,
   "metadata": {},
   "outputs": [
    {
     "output_type": "execute_result",
     "data": {
      "text/plain": "         status_group\nid                   \n0      non functional\n1          functional\n2          functional\n3          functional\n5          functional\n...               ...\n74240      functional\n74242      functional\n74243  non functional\n74246  non functional\n74247  non functional\n\n[53460 rows x 1 columns]",
      "text/html": "<div>\n<style scoped>\n    .dataframe tbody tr th:only-of-type {\n        vertical-align: middle;\n    }\n\n    .dataframe tbody tr th {\n        vertical-align: top;\n    }\n\n    .dataframe thead th {\n        text-align: right;\n    }\n</style>\n<table border=\"1\" class=\"dataframe\">\n  <thead>\n    <tr style=\"text-align: right;\">\n      <th></th>\n      <th>status_group</th>\n    </tr>\n    <tr>\n      <th>id</th>\n      <th></th>\n    </tr>\n  </thead>\n  <tbody>\n    <tr>\n      <th>0</th>\n      <td>non functional</td>\n    </tr>\n    <tr>\n      <th>1</th>\n      <td>functional</td>\n    </tr>\n    <tr>\n      <th>2</th>\n      <td>functional</td>\n    </tr>\n    <tr>\n      <th>3</th>\n      <td>functional</td>\n    </tr>\n    <tr>\n      <th>5</th>\n      <td>functional</td>\n    </tr>\n    <tr>\n      <th>...</th>\n      <td>...</td>\n    </tr>\n    <tr>\n      <th>74240</th>\n      <td>functional</td>\n    </tr>\n    <tr>\n      <th>74242</th>\n      <td>functional</td>\n    </tr>\n    <tr>\n      <th>74243</th>\n      <td>non functional</td>\n    </tr>\n    <tr>\n      <th>74246</th>\n      <td>non functional</td>\n    </tr>\n    <tr>\n      <th>74247</th>\n      <td>non functional</td>\n    </tr>\n  </tbody>\n</table>\n<p>53460 rows × 1 columns</p>\n</div>"
     },
     "metadata": {},
     "execution_count": 11
    }
   ],
   "source": [
    "y_train"
   ]
  },
  {
   "cell_type": "code",
   "execution_count": 12,
   "metadata": {},
   "outputs": [
    {
     "output_type": "execute_result",
     "data": {
      "text/plain": "array([2, 0, 1])"
     },
     "metadata": {},
     "execution_count": 12
    }
   ],
   "source": [
    "let_labels = LabelEncodingTransformer(['status_group'])\n",
    "y_train = let_labels.fit_transform(y_train)\n",
    "y_train.status_group.unique()"
   ]
  },
  {
   "cell_type": "code",
   "execution_count": 13,
   "metadata": {},
   "outputs": [
    {
     "output_type": "execute_result",
     "data": {
      "text/plain": "array(['functional', 'functional needs repair', 'non functional'],\n      dtype=object)"
     },
     "metadata": {},
     "execution_count": 13
    }
   ],
   "source": [
    "let_labels.labelencoder.classes_"
   ]
  },
  {
   "cell_type": "code",
   "execution_count": 14,
   "metadata": {},
   "outputs": [],
   "source": [
    "classes_train = list(let_labels.labelencoder.classes_)"
   ]
  },
  {
   "cell_type": "code",
   "execution_count": 15,
   "metadata": {},
   "outputs": [
    {
     "output_type": "execute_result",
     "data": {
      "text/plain": "       amount_tsh    funder  gps_height  installer  longitude   latitude  \\\nid                                                                         \n0             0.0  0.801370           0   0.773171  33.125828  -5.118154   \n1             0.0  0.429167        1978   0.469828  34.770717  -9.395642   \n2             0.0  1.006849           0   1.135593  36.115056  -6.279268   \n3            10.0  0.234811        1639   0.234811  37.147432  -3.187555   \n5            50.0  0.391156          28   0.440994  39.286124  -6.972403   \n...           ...       ...         ...        ...        ...        ...   \n74240         0.0  0.702811        1183   0.623209  37.007726  -3.280868   \n74242         0.0  0.849020           0   0.889418  33.724987  -8.940758   \n74243         0.0  1.315789        1188   0.835007  33.963539  -1.429477   \n74246        50.0  1.066667        1428   1.066667  35.630481  -7.710549   \n74247        50.0  0.463333         965   0.822742  35.432998 -10.639270   \n\n          basin  region_code  district_code  population  ...  permit  \\\nid                                                       ...           \n0      0.918364     1.104651       0.938982           0  ...    True   \n1      0.674483     0.413474       0.700044          20  ...   False   \n2      0.907618     0.988636       0.700044           0  ...    True   \n3      0.744938     0.720877       0.817451          25  ...    True   \n5      0.907618     1.025391       1.142857        6922  ...   False   \n...         ...          ...            ...         ...  ...     ...   \n74240  0.744714     0.633807       0.731299         350  ...   False   \n74242  0.674232     0.891332       0.814178           0  ...   False   \n74243  0.908266     1.070122       0.934446          95  ...   False   \n74246  0.674232     0.413474       0.819620           1  ...    True   \n74247  1.183882     0.816976       0.813999         900  ...    True   \n\n       extraction_type  management  payment_type  water_quality  quantity  \\\nid                                                                          \n0             0.620690    0.922653      1.081903       0.894147  0.623053   \n1             0.664444    0.922604      1.026985       0.791310  0.622992   \n2             1.200070    0.922604      0.598954       0.791310  0.857747   \n3             0.700661    0.430082      0.598954       0.791310  0.622992   \n5             0.849675    0.480203      0.598731       0.791271  0.623053   \n...                ...         ...           ...            ...       ...   \n74240         0.700661    0.537885      1.081903       0.791310  0.857615   \n74242         0.700661    0.702026      0.688219       0.791271  0.623053   \n74243         0.849885    0.922653      1.026907       0.791290  0.623053   \n74246         0.700586    0.922604      0.598731       0.791310  1.943795   \n74247         1.647846    0.922629      0.598731       0.791271  1.943795   \n\n         source  waterpoint_type  pump_age  status_group  \nid                                                        \n0      0.953635         0.705496         0             2  \n1      0.953516         0.705496         3             0  \n2      0.976612         1.161586         0             0  \n3      0.680494         0.677816        14             0  \n5      0.976431         1.161259         0             0  \n...         ...              ...       ...           ...  \n74240  0.655623         0.677816         1             0  \n74242  0.735928         0.677816         0             0  \n74243  1.560209         1.161586        29             2  \n74246  0.680494         0.677781        11             2  \n74247  0.735719         0.677816         4             2  \n\n[53460 rows x 23 columns]",
      "text/html": "<div>\n<style scoped>\n    .dataframe tbody tr th:only-of-type {\n        vertical-align: middle;\n    }\n\n    .dataframe tbody tr th {\n        vertical-align: top;\n    }\n\n    .dataframe thead th {\n        text-align: right;\n    }\n</style>\n<table border=\"1\" class=\"dataframe\">\n  <thead>\n    <tr style=\"text-align: right;\">\n      <th></th>\n      <th>amount_tsh</th>\n      <th>funder</th>\n      <th>gps_height</th>\n      <th>installer</th>\n      <th>longitude</th>\n      <th>latitude</th>\n      <th>basin</th>\n      <th>region_code</th>\n      <th>district_code</th>\n      <th>population</th>\n      <th>...</th>\n      <th>permit</th>\n      <th>extraction_type</th>\n      <th>management</th>\n      <th>payment_type</th>\n      <th>water_quality</th>\n      <th>quantity</th>\n      <th>source</th>\n      <th>waterpoint_type</th>\n      <th>pump_age</th>\n      <th>status_group</th>\n    </tr>\n    <tr>\n      <th>id</th>\n      <th></th>\n      <th></th>\n      <th></th>\n      <th></th>\n      <th></th>\n      <th></th>\n      <th></th>\n      <th></th>\n      <th></th>\n      <th></th>\n      <th></th>\n      <th></th>\n      <th></th>\n      <th></th>\n      <th></th>\n      <th></th>\n      <th></th>\n      <th></th>\n      <th></th>\n      <th></th>\n      <th></th>\n    </tr>\n  </thead>\n  <tbody>\n    <tr>\n      <th>0</th>\n      <td>0.0</td>\n      <td>0.801370</td>\n      <td>0</td>\n      <td>0.773171</td>\n      <td>33.125828</td>\n      <td>-5.118154</td>\n      <td>0.918364</td>\n      <td>1.104651</td>\n      <td>0.938982</td>\n      <td>0</td>\n      <td>...</td>\n      <td>True</td>\n      <td>0.620690</td>\n      <td>0.922653</td>\n      <td>1.081903</td>\n      <td>0.894147</td>\n      <td>0.623053</td>\n      <td>0.953635</td>\n      <td>0.705496</td>\n      <td>0</td>\n      <td>2</td>\n    </tr>\n    <tr>\n      <th>1</th>\n      <td>0.0</td>\n      <td>0.429167</td>\n      <td>1978</td>\n      <td>0.469828</td>\n      <td>34.770717</td>\n      <td>-9.395642</td>\n      <td>0.674483</td>\n      <td>0.413474</td>\n      <td>0.700044</td>\n      <td>20</td>\n      <td>...</td>\n      <td>False</td>\n      <td>0.664444</td>\n      <td>0.922604</td>\n      <td>1.026985</td>\n      <td>0.791310</td>\n      <td>0.622992</td>\n      <td>0.953516</td>\n      <td>0.705496</td>\n      <td>3</td>\n      <td>0</td>\n    </tr>\n    <tr>\n      <th>2</th>\n      <td>0.0</td>\n      <td>1.006849</td>\n      <td>0</td>\n      <td>1.135593</td>\n      <td>36.115056</td>\n      <td>-6.279268</td>\n      <td>0.907618</td>\n      <td>0.988636</td>\n      <td>0.700044</td>\n      <td>0</td>\n      <td>...</td>\n      <td>True</td>\n      <td>1.200070</td>\n      <td>0.922604</td>\n      <td>0.598954</td>\n      <td>0.791310</td>\n      <td>0.857747</td>\n      <td>0.976612</td>\n      <td>1.161586</td>\n      <td>0</td>\n      <td>0</td>\n    </tr>\n    <tr>\n      <th>3</th>\n      <td>10.0</td>\n      <td>0.234811</td>\n      <td>1639</td>\n      <td>0.234811</td>\n      <td>37.147432</td>\n      <td>-3.187555</td>\n      <td>0.744938</td>\n      <td>0.720877</td>\n      <td>0.817451</td>\n      <td>25</td>\n      <td>...</td>\n      <td>True</td>\n      <td>0.700661</td>\n      <td>0.430082</td>\n      <td>0.598954</td>\n      <td>0.791310</td>\n      <td>0.622992</td>\n      <td>0.680494</td>\n      <td>0.677816</td>\n      <td>14</td>\n      <td>0</td>\n    </tr>\n    <tr>\n      <th>5</th>\n      <td>50.0</td>\n      <td>0.391156</td>\n      <td>28</td>\n      <td>0.440994</td>\n      <td>39.286124</td>\n      <td>-6.972403</td>\n      <td>0.907618</td>\n      <td>1.025391</td>\n      <td>1.142857</td>\n      <td>6922</td>\n      <td>...</td>\n      <td>False</td>\n      <td>0.849675</td>\n      <td>0.480203</td>\n      <td>0.598731</td>\n      <td>0.791271</td>\n      <td>0.623053</td>\n      <td>0.976431</td>\n      <td>1.161259</td>\n      <td>0</td>\n      <td>0</td>\n    </tr>\n    <tr>\n      <th>...</th>\n      <td>...</td>\n      <td>...</td>\n      <td>...</td>\n      <td>...</td>\n      <td>...</td>\n      <td>...</td>\n      <td>...</td>\n      <td>...</td>\n      <td>...</td>\n      <td>...</td>\n      <td>...</td>\n      <td>...</td>\n      <td>...</td>\n      <td>...</td>\n      <td>...</td>\n      <td>...</td>\n      <td>...</td>\n      <td>...</td>\n      <td>...</td>\n      <td>...</td>\n      <td>...</td>\n    </tr>\n    <tr>\n      <th>74240</th>\n      <td>0.0</td>\n      <td>0.702811</td>\n      <td>1183</td>\n      <td>0.623209</td>\n      <td>37.007726</td>\n      <td>-3.280868</td>\n      <td>0.744714</td>\n      <td>0.633807</td>\n      <td>0.731299</td>\n      <td>350</td>\n      <td>...</td>\n      <td>False</td>\n      <td>0.700661</td>\n      <td>0.537885</td>\n      <td>1.081903</td>\n      <td>0.791310</td>\n      <td>0.857615</td>\n      <td>0.655623</td>\n      <td>0.677816</td>\n      <td>1</td>\n      <td>0</td>\n    </tr>\n    <tr>\n      <th>74242</th>\n      <td>0.0</td>\n      <td>0.849020</td>\n      <td>0</td>\n      <td>0.889418</td>\n      <td>33.724987</td>\n      <td>-8.940758</td>\n      <td>0.674232</td>\n      <td>0.891332</td>\n      <td>0.814178</td>\n      <td>0</td>\n      <td>...</td>\n      <td>False</td>\n      <td>0.700661</td>\n      <td>0.702026</td>\n      <td>0.688219</td>\n      <td>0.791271</td>\n      <td>0.623053</td>\n      <td>0.735928</td>\n      <td>0.677816</td>\n      <td>0</td>\n      <td>0</td>\n    </tr>\n    <tr>\n      <th>74243</th>\n      <td>0.0</td>\n      <td>1.315789</td>\n      <td>1188</td>\n      <td>0.835007</td>\n      <td>33.963539</td>\n      <td>-1.429477</td>\n      <td>0.908266</td>\n      <td>1.070122</td>\n      <td>0.934446</td>\n      <td>95</td>\n      <td>...</td>\n      <td>False</td>\n      <td>0.849885</td>\n      <td>0.922653</td>\n      <td>1.026907</td>\n      <td>0.791290</td>\n      <td>0.623053</td>\n      <td>1.560209</td>\n      <td>1.161586</td>\n      <td>29</td>\n      <td>2</td>\n    </tr>\n    <tr>\n      <th>74246</th>\n      <td>50.0</td>\n      <td>1.066667</td>\n      <td>1428</td>\n      <td>1.066667</td>\n      <td>35.630481</td>\n      <td>-7.710549</td>\n      <td>0.674232</td>\n      <td>0.413474</td>\n      <td>0.819620</td>\n      <td>1</td>\n      <td>...</td>\n      <td>True</td>\n      <td>0.700586</td>\n      <td>0.922604</td>\n      <td>0.598731</td>\n      <td>0.791310</td>\n      <td>1.943795</td>\n      <td>0.680494</td>\n      <td>0.677781</td>\n      <td>11</td>\n      <td>2</td>\n    </tr>\n    <tr>\n      <th>74247</th>\n      <td>50.0</td>\n      <td>0.463333</td>\n      <td>965</td>\n      <td>0.822742</td>\n      <td>35.432998</td>\n      <td>-10.639270</td>\n      <td>1.183882</td>\n      <td>0.816976</td>\n      <td>0.813999</td>\n      <td>900</td>\n      <td>...</td>\n      <td>True</td>\n      <td>1.647846</td>\n      <td>0.922629</td>\n      <td>0.598731</td>\n      <td>0.791271</td>\n      <td>1.943795</td>\n      <td>0.735719</td>\n      <td>0.677816</td>\n      <td>4</td>\n      <td>2</td>\n    </tr>\n  </tbody>\n</table>\n<p>53460 rows × 23 columns</p>\n</div>"
     },
     "metadata": {},
     "execution_count": 15
    }
   ],
   "source": [
    "data_train_with_target = pd.concat([data_train, y_train], axis=1, join='inner')\n",
    "data_train_with_target.columns = list(data_train.columns) + ['status_group']\n",
    "data_train_with_target"
   ]
  },
  {
   "cell_type": "code",
   "execution_count": 16,
   "metadata": {},
   "outputs": [
    {
     "output_type": "stream",
     "name": "stdout",
     "text": "loaded wrangled-labeled-data-test-2d7d3126b4f539a5c747b7bed497626b.csv\n\n<class 'pandas.core.frame.DataFrame'>\nInt64Index: 5940 entries, 4 to 74229\nData columns (total 22 columns):\n #   Column             Non-Null Count  Dtype  \n---  ------             --------------  -----  \n 0   amount_tsh         5940 non-null   float64\n 1   funder             5843 non-null   float64\n 2   gps_height         5940 non-null   int64  \n 3   installer          5844 non-null   float64\n 4   longitude          5940 non-null   float64\n 5   latitude           5940 non-null   float64\n 6   basin              5940 non-null   float64\n 7   region_code        5940 non-null   float64\n 8   district_code      5940 non-null   float64\n 9   population         5940 non-null   int64  \n 10  public_meeting     5940 non-null   bool   \n 11  scheme_management  5940 non-null   float64\n 12  scheme_name        5891 non-null   float64\n 13  permit             5940 non-null   bool   \n 14  extraction_type    5940 non-null   float64\n 15  management         5940 non-null   float64\n 16  payment_type       5940 non-null   float64\n 17  water_quality      5940 non-null   float64\n 18  quantity           5940 non-null   float64\n 19  source             5940 non-null   float64\n 20  waterpoint_type    5940 non-null   float64\n 21  pump_age           5940 non-null   int64  \ndtypes: bool(2), float64(17), int64(3)\nmemory usage: 986.1 KB\n"
    }
   ],
   "source": [
    "fname = scjpnutils.get_data_fname(data_config, data_kwargs={'is_labels':False,'type':'test','is_cached':is_data_cached})\n",
    "data_test = pd.read_csv(fname, index_col=0).sort_index()\n",
    "print(f\"loaded {fname}\\n\")\n",
    "\n",
    "data_test.info()"
   ]
  },
  {
   "cell_type": "code",
   "execution_count": 17,
   "metadata": {},
   "outputs": [
    {
     "output_type": "execute_result",
     "data": {
      "text/plain": "Int64Index([    4,     6,    40,    41,    46,    66,    75,    84,    96,\n              105,\n            ...\n            74140, 74145, 74158, 74166, 74177, 74195, 74199, 74214, 74215,\n            74229],\n           dtype='int64', name='id', length=5940)"
     },
     "metadata": {},
     "execution_count": 17
    }
   ],
   "source": [
    "data_test.index"
   ]
  },
  {
   "cell_type": "code",
   "execution_count": 18,
   "metadata": {},
   "outputs": [
    {
     "output_type": "stream",
     "name": "stdout",
     "text": "loaded labels-test-2d7d3126b4f539a5c747b7bed497626b.csv\n\n<class 'pandas.core.frame.DataFrame'>\nInt64Index: 5940 entries, 4 to 74229\nData columns (total 1 columns):\n #   Column        Non-Null Count  Dtype \n---  ------        --------------  ----- \n 0   status_group  5940 non-null   object\ndtypes: object(1)\nmemory usage: 92.8+ KB\n"
    }
   ],
   "source": [
    "fname = scjpnutils.get_data_fname(data_config, data_kwargs={'is_labels':True,'type':'test','is_cached':is_data_cached})\n",
    "y_test = pd.read_csv(fname, index_col=0).sort_index()\n",
    "print(f\"loaded {fname}\\n\")\n",
    "\n",
    "y_test.info()"
   ]
  },
  {
   "cell_type": "code",
   "execution_count": 19,
   "metadata": {},
   "outputs": [
    {
     "output_type": "execute_result",
     "data": {
      "text/plain": "Int64Index([    4,     6,    40,    41,    46,    66,    75,    84,    96,\n              105,\n            ...\n            74140, 74145, 74158, 74166, 74177, 74195, 74199, 74214, 74215,\n            74229],\n           dtype='int64', name='id', length=5940)"
     },
     "metadata": {},
     "execution_count": 19
    }
   ],
   "source": [
    "y_test.index"
   ]
  },
  {
   "cell_type": "code",
   "execution_count": 20,
   "metadata": {},
   "outputs": [
    {
     "output_type": "execute_result",
     "data": {
      "text/plain": "array([2, 0, 1])"
     },
     "metadata": {},
     "execution_count": 20
    }
   ],
   "source": [
    "y_test = let_labels.fit_transform(y_test)\n",
    "y_test.status_group.unique()"
   ]
  },
  {
   "cell_type": "code",
   "execution_count": 21,
   "metadata": {},
   "outputs": [
    {
     "output_type": "execute_result",
     "data": {
      "text/plain": "array(['functional', 'functional needs repair', 'non functional'],\n      dtype=object)"
     },
     "metadata": {},
     "execution_count": 21
    }
   ],
   "source": [
    "let_labels.labelencoder.classes_"
   ]
  },
  {
   "cell_type": "code",
   "execution_count": 22,
   "metadata": {},
   "outputs": [],
   "source": [
    "classes_test = list(let_labels.labelencoder.classes_)"
   ]
  },
  {
   "cell_type": "markdown",
   "metadata": {},
   "source": [
    "<p><br>\n",
    "<h2>Build Models (Run Trials)</h2>\n",
    "\n",
    "<h3>General functions for building Classifiers and running trials</h3>"
   ]
  },
  {
   "cell_type": "code",
   "execution_count": 23,
   "metadata": {},
   "outputs": [],
   "source": [
    "# utility function to render HTML and optionally log (append) it to file\n",
    "def render_HTML(the_html, fname=None):\n",
    "    display(HTML(the_html))\n",
    "    if fname is not None:\n",
    "        fm.append_text_file(BeautifulSoup(the_html).text + '\\n', fname)"
   ]
  },
  {
   "cell_type": "code",
   "execution_count": 24,
   "metadata": {},
   "outputs": [],
   "source": [
    "def get_trials_log_fname(clf):\n",
    "    return f\"{clf.__class__.__name__}-trials.log\" if LOG_MODEL_TRIALS else None"
   ]
  },
  {
   "cell_type": "code",
   "execution_count": 25,
   "metadata": {},
   "outputs": [],
   "source": [
    "def gs_find_best_params(clf, param_grid):\n",
    "    render_HTML(f\"<br><br>param_grid for {clf.__class__.__name__} GridSearch:<br><pre>{params}</pre>\", fname=get_trials_log_fname(clf))\n",
    "    grid_clf = GridSearchCV(\n",
    "        clf, \n",
    "        param_grid, \n",
    "        cv=K, \n",
    "        n_jobs=-1\n",
    "        , verbose=20\n",
    "    )\n",
    "    # with joblib.parallel_backend('dask'):\n",
    "    #     %time _ = grid_clf.fit(data_train, y_train)\n",
    "    %time _ = grid_clf.fit(data_train, y_train)\n",
    "    return grid_clf.best_params_"
   ]
  },
  {
   "cell_type": "code",
   "execution_count": 26,
   "metadata": {},
   "outputs": [],
   "source": [
    "def clf_fit(clf, data_train, y_train):\n",
    "    # with joblib.parallel_backend('dask'):\n",
    "    #     %time clf.fit(data_train, y_train)\n",
    "    %time clf.fit(data_train, y_train)\n",
    "    return clf"
   ]
  },
  {
   "cell_type": "code",
   "execution_count": 27,
   "metadata": {},
   "outputs": [],
   "source": [
    "def summarize_preds(clf, X, y, preds, dataset_name, classes):\n",
    "    render_HTML(\"<p><br>\", fname=get_trials_log_fname(clf))\n",
    "    _accuracy = accuracy_score(y, preds)\n",
    "    render_HTML(f\"{dataset_name} Accuracy: {round(_accuracy*100,4)}\", fname=get_trials_log_fname(clf))\n",
    "    render_HTML(\"<p><br>\", fname=get_trials_log_fname(clf))\n",
    "    render_HTML(f\"<pre>{classification_report(y, preds, target_names=classes)}</pre>\", fname=get_trials_log_fname(clf))\n",
    "    return _accuracy"
   ]
  },
  {
   "cell_type": "code",
   "execution_count": 28,
   "metadata": {},
   "outputs": [],
   "source": [
    "def clf_run_trial(clf, params_to_try, best_parameters_so_far, run_trials_gridsearch=False):\n",
    "    if run_trials_gridsearch:\n",
    "        for param_name, param_value in best_parameters_so_far.items():\n",
    "            params_to_try.update({param_name: [param_value]})\n",
    "        best_parameters = gs_find_best_params(clf, params_to_try)\n",
    "    else:\n",
    "        best_parameters = params_to_try\n",
    "    best_parameters_so_far.update(best_parameters)\n",
    "\n",
    "    render_HTML(\"<p><br>\", fname=get_trials_log_fname(clf))\n",
    "    render_HTML(f\"Grid Search {'(previously) ' if not run_trials_gridsearch else ''}found the following optimal parameters: \", fname=get_trials_log_fname(clf))\n",
    "    render_HTML(f\"<pre>{pprint.pformat(best_parameters_so_far, indent=4)}</pre>\", fname=get_trials_log_fname(clf))\n",
    "\n",
    "    render_HTML(\"<p><br>\", fname=get_trials_log_fname(clf))\n",
    "    render_HTML(\"Fitting classifier...\", fname=get_trials_log_fname(clf))\n",
    "    clf = clf.set_params(**best_parameters_so_far)\n",
    "    clf = clf_fit(clf, data_train, y_train)\n",
    "    s_all_done = \"\\tALL DONE!\"\n",
    "    render_HTML(f\"<pre>{s_all_done}</pre>\", fname=get_trials_log_fname(clf))\n",
    "\n",
    "    render_HTML(\"<p><br>\", fname=get_trials_log_fname(clf))\n",
    "    render_HTML(\"Predicting labels on training data...\", fname=get_trials_log_fname(clf))\n",
    "    pred_train = clf.predict(data_train)\n",
    "    render_HTML(f\"<pre>{s_all_done}</pre>\", fname=get_trials_log_fname(clf))\n",
    "    _accuracy_train = summarize_preds(clf, data_train, y_train, pred_train, 'Training', classes_train)\n",
    "\n",
    "    # display(HTML(\"<p><br>\"))\n",
    "    # display(HTML(\"Computing cross-val score on training data...\"))\n",
    "    # cv_score_train = cross_val_score(clf, data_train, y_train, cv=K)\n",
    "    # display(HTML(f\"<pre>{s_all_done}</pre>\"))\n",
    "    # display(HTML(f\"cross_val_score: {np.mean(cv_score_train)}\"))\n",
    "\n",
    "    render_HTML(\"<p><br>\", fname=get_trials_log_fname(clf))\n",
    "    render_HTML(f\"Predicting labels on testing data...\", fname=get_trials_log_fname(clf))\n",
    "    pred_test = clf.predict(data_test)\n",
    "    render_HTML(f\"<pre>{s_all_done}</pre>\", fname=get_trials_log_fname(clf))\n",
    "    _accuracy_test = summarize_preds(clf, data_test, y_test, pred_test, 'Testing', classes_test)\n",
    "    \n",
    "    # display(HTML(\"<p><br>\"))\n",
    "    # display(HTML(f\"Computing cross-val score on testing data...\"))\n",
    "    # cv_score_test = cross_val_score(clf, data_test, y_test, cv=K)\n",
    "    # display(HTML(f\"<pre>{s_all_done}</pre>\"))\n",
    "    # display(HTML(f\"cross_val_score: {np.mean(cv_score_test)}\"))\n",
    "\n",
    "    _class_name = clf.__class__.__name__\n",
    "    model_results['modeling_results'][_class_name] = {}\n",
    "    model_results['modeling_results'][_class_name]['accuracy'] = {}\n",
    "    model_results['modeling_results'][_class_name]['accuracy']['train'] = _accuracy_train\n",
    "    model_results['modeling_results'][_class_name]['accuracy']['test'] = _accuracy_test\n",
    "    model_results['modeling_results'][_class_name]['feature_importances'] = get_feat_importances(clf)\n",
    "    render_HTML(\"<p><br>\", fname=get_trials_log_fname(clf))\n",
    "    render_HTML(\"Feature Importances:\", fname=get_trials_log_fname(clf))\n",
    "    render_HTML(f\"<pre>{pprint.pformat(model_results['modeling_results'][_class_name]['feature_importances'], indent=4)}</pre><p><br><br>\", fname=get_trials_log_fname(clf))\n",
    "\n",
    "    return clf, best_parameters_so_far, model_results"
   ]
  },
  {
   "cell_type": "code",
   "execution_count": 29,
   "metadata": {},
   "outputs": [],
   "source": [
    "def get_feat_importances(clf):\n",
    "    feat_importances = {}\n",
    "    for i, feat in enumerate(list(data_train.columns)):\n",
    "        feat_importances[feat] = clf.feature_importances_[i]\n",
    "    return sorted(list(feat_importances.items()), key=lambda item: item[1], reverse=True)"
   ]
  },
  {
   "cell_type": "markdown",
   "metadata": {},
   "source": [
    "<p><br>\n",
    "<h2>Initialize Dask-Client (to Dask backend for parallelization) <i>(DISABLED for now)</i></h2>"
   ]
  },
  {
   "cell_type": "code",
   "execution_count": 30,
   "metadata": {},
   "outputs": [],
   "source": [
    "# # local\n",
    "# # dask_client = Client(n_workers=2, threads_per_worker=8, memory_limit='8GB') #spawns a local cluster; memory_limit is per worker\n",
    "# dask_client = Client(n_workers=1, threads_per_worker=n_jobs, memory_limit='16GB') #spawns a local cluster; memory_limit is per worker\n",
    "\n",
    "# # for Kubernetes dask scheduler/worker cluster in GCP - but this costs money to run the cluster AND requires a lot more work for data parallelization!\n",
    "# # scheduler_address = '35.230.13.87'\n",
    "# # dask_client = Client(f'tcp://{scheduler_address}:8786')\n",
    "\n",
    "# dask_client"
   ]
  },
  {
   "cell_type": "markdown",
   "metadata": {},
   "source": [
    "<p><br>\n",
    "<h3>Decision Tree Classifier</h3>\n",
    "<h4>Trials</h4>"
   ]
  },
  {
   "cell_type": "code",
   "execution_count": 31,
   "metadata": {},
   "outputs": [
    {
     "output_type": "display_data",
     "data": {
      "text/plain": "<IPython.core.display.HTML object>",
      "text/html": "models_config['DecisionTreeClassifier']['trials']['run']: False"
     },
     "metadata": {}
    }
   ],
   "source": [
    "trials = models_config['DecisionTreeClassifier']['trials']\n",
    "\n",
    "display(HTML(f\"models_config['DecisionTreeClassifier']['trials']['run']: {trials['run']}\"))\n",
    "if trials['run']:\n",
    "    trials_list = trials['array']\n",
    "\n",
    "    best_parameters = {}\n",
    "    for i, trial in enumerate(trials_list):\n",
    "        display(HTML(f\"<p><br>trial[{i}]['gridsearch']['run']: {trial['gridsearch']['run']}<br>\"))\n",
    "        params = trial['gridsearch']['last_best'] if not trial['gridsearch']['run'] else trial['gridsearch']['param_grid']\n",
    "        rfclf, best_parameters, model_results = clf_run_trial(DecisionTreeClassifier(), params, best_parameters, run_trials_gridsearch=trial['gridsearch']['run']) # note that best_parameters will be set to those used in the last trial\n",
    "\n",
    "else:\n",
    "    best_parameters = models_config['DecisionTreeClassifier']['params']"
   ]
  },
  {
   "cell_type": "markdown",
   "metadata": {},
   "source": [
    "<p><br>\n",
    "<h4>Build Final Model with best params</h4>"
   ]
  },
  {
   "cell_type": "code",
   "execution_count": 32,
   "metadata": {},
   "outputs": [],
   "source": [
    "# best_parameters.update({'random_state': SEED})\n",
    "# dtclf, _, model_results = clf_run_trial(DecisionTreeClassifier(), best_parameters)"
   ]
  },
  {
   "cell_type": "markdown",
   "metadata": {},
   "source": [
    "<p><br>\n",
    "<h3>Random Forest Classifier</h3>\n",
    "<h4>Trials</h4>"
   ]
  },
  {
   "cell_type": "code",
   "execution_count": 33,
   "metadata": {},
   "outputs": [
    {
     "output_type": "display_data",
     "data": {
      "text/plain": "<IPython.core.display.HTML object>",
      "text/html": "models_config['RandomForestClassifier']['trials']['run']: False"
     },
     "metadata": {}
    }
   ],
   "source": [
    "trials = models_config['RandomForestClassifier']['trials']\n",
    "\n",
    "render_HTML(f\"models_config['RandomForestClassifier']['trials']['run']: {trials['run']}\")\n",
    "if trials['run']:\n",
    "    trials_list = trials['array']\n",
    "\n",
    "    for i, trial in enumerate(trials_list):\n",
    "        render_HTML(f\"<p><br>trial[{i}]['gridsearch']['run']: {trial['gridsearch']['run']}<br>\")\n",
    "        params = trial['gridsearch']['last_best'] if not trial['gridsearch']['run'] else trial['gridsearch']['param_grid']\n",
    "        if trial['gridsearch']['run']:\n",
    "            params.update({'n_jobs': [-1]})\n",
    "        else:\n",
    "            params.update({'n_jobs':-1})\n",
    "        rfclf, best_parameters, model_results = clf_run_trial(RandomForestClassifier(), params, run_trials_gridsearch=trial['gridsearch']['run']) # note that best_parameters will be set to those used in the last trial\n",
    "\n",
    "else:\n",
    "    best_parameters = models_config['RandomForestClassifier']['params']"
   ]
  },
  {
   "cell_type": "markdown",
   "metadata": {},
   "source": [
    "<p><br>\n",
    "<h4>Build Final Model with best params</h4>"
   ]
  },
  {
   "cell_type": "code",
   "execution_count": 34,
   "metadata": {},
   "outputs": [],
   "source": [
    "# best_parameters.update({'n_jobs':-1, 'verbose':1, 'random_state': SEED})\n",
    "# rfclf, _ , model_results = clf_run_trial(RandomForestClassifier(), best_parameters)"
   ]
  },
  {
   "cell_type": "markdown",
   "metadata": {},
   "source": [
    "<p><br><br><br>\n",
    "<h3>XGBClassifier</h3>\n",
    "<h4>Trials</h4>"
   ]
  },
  {
   "cell_type": "code",
   "execution_count": 35,
   "metadata": {},
   "outputs": [
    {
     "output_type": "display_data",
     "data": {
      "text/plain": "<IPython.core.display.HTML object>",
      "text/html": "models_config['XGBClassifier']['trials']['run']: False"
     },
     "metadata": {}
    }
   ],
   "source": [
    "trials = models_config['XGBClassifier']['trials']\n",
    "\n",
    "render_HTML(f\"models_config['XGBClassifier']['trials']['run']: {trials['run']}\")\n",
    "if trials['run']:\n",
    "    trials_list = trials['array']\n",
    "\n",
    "    best_parameters = {}\n",
    "    for i, trial in enumerate(trials_list):\n",
    "        render_HTML(f\"<p><br>trial[{i}]['gridsearch']['run']: {trial['gridsearch']['run']}<br>\")\n",
    "        params = trial['gridsearch']['last_best'] if not trial['gridsearch']['run'] else trial['gridsearch']['param_grid']\n",
    "        if trial['gridsearch']['run']:\n",
    "            params.update({'n_jobs': [-1]})\n",
    "        else:\n",
    "            params.update({'n_jobs':-1})\n",
    "        xgbclf, best_parameters, model_results = clf_run_trial(XGBClassifier(), params, best_parameters, run_trials_gridsearch=trial['gridsearch']['run']) # note that best_parameters will be set to those used in the last trial\n",
    "\n",
    "else:\n",
    "    best_parameters = models_config['XGBClassifier']['params']"
   ]
  },
  {
   "cell_type": "markdown",
   "metadata": {},
   "source": [
    "<p><br>\n",
    "<h4>Build Final Model with best params</h4>"
   ]
  },
  {
   "cell_type": "code",
   "execution_count": 36,
   "metadata": {},
   "outputs": [
    {
     "output_type": "display_data",
     "data": {
      "text/plain": "<IPython.core.display.HTML object>",
      "text/html": "<p><br>"
     },
     "metadata": {}
    },
    {
     "output_type": "display_data",
     "data": {
      "text/plain": "<IPython.core.display.HTML object>",
      "text/html": "Grid Search (previously) found the following optimal parameters: "
     },
     "metadata": {}
    },
    {
     "output_type": "display_data",
     "data": {
      "text/plain": "<IPython.core.display.HTML object>",
      "text/html": "<pre>{   'gamma': 5,\n    'learning_rate': 0.1,\n    'max_depth': 3,\n    'min_child_weight': 1,\n    'n_estimators': 100,\n    'n_jobs': -1,\n    'random_state': 42,\n    'subsample': 1.0,\n    'verbosity': 1}</pre>"
     },
     "metadata": {}
    },
    {
     "output_type": "display_data",
     "data": {
      "text/plain": "<IPython.core.display.HTML object>",
      "text/html": "<p><br>"
     },
     "metadata": {}
    },
    {
     "output_type": "display_data",
     "data": {
      "text/plain": "<IPython.core.display.HTML object>",
      "text/html": "Fitting classifier..."
     },
     "metadata": {}
    },
    {
     "output_type": "stream",
     "name": "stdout",
     "text": "CPU times: user 47.5 s, sys: 672 ms, total: 48.2 s\nWall time: 7.26 s\n"
    },
    {
     "output_type": "display_data",
     "data": {
      "text/plain": "<IPython.core.display.HTML object>",
      "text/html": "<pre>\tALL DONE!</pre>"
     },
     "metadata": {}
    },
    {
     "output_type": "display_data",
     "data": {
      "text/plain": "<IPython.core.display.HTML object>",
      "text/html": "<p><br>"
     },
     "metadata": {}
    },
    {
     "output_type": "display_data",
     "data": {
      "text/plain": "<IPython.core.display.HTML object>",
      "text/html": "Predicting labels on training data..."
     },
     "metadata": {}
    },
    {
     "output_type": "display_data",
     "data": {
      "text/plain": "<IPython.core.display.HTML object>",
      "text/html": "<pre>\tALL DONE!</pre>"
     },
     "metadata": {}
    },
    {
     "output_type": "display_data",
     "data": {
      "text/plain": "<IPython.core.display.HTML object>",
      "text/html": "<p><br>"
     },
     "metadata": {}
    },
    {
     "output_type": "display_data",
     "data": {
      "text/plain": "<IPython.core.display.HTML object>",
      "text/html": "Training Accuracy: 82.2297"
     },
     "metadata": {}
    },
    {
     "output_type": "display_data",
     "data": {
      "text/plain": "<IPython.core.display.HTML object>",
      "text/html": "<p><br>"
     },
     "metadata": {}
    },
    {
     "output_type": "display_data",
     "data": {
      "text/plain": "<IPython.core.display.HTML object>",
      "text/html": "<pre>                         precision    recall  f1-score   support\n\n             functional       0.78      0.95      0.86     28991\nfunctional needs repair       0.92      0.29      0.44      3885\n         non functional       0.89      0.74      0.81     20584\n\n               accuracy                           0.82     53460\n              macro avg       0.86      0.66      0.70     53460\n           weighted avg       0.84      0.82      0.81     53460\n</pre>"
     },
     "metadata": {}
    },
    {
     "output_type": "display_data",
     "data": {
      "text/plain": "<IPython.core.display.HTML object>",
      "text/html": "<p><br>"
     },
     "metadata": {}
    },
    {
     "output_type": "display_data",
     "data": {
      "text/plain": "<IPython.core.display.HTML object>",
      "text/html": "Predicting labels on testing data..."
     },
     "metadata": {}
    },
    {
     "output_type": "display_data",
     "data": {
      "text/plain": "<IPython.core.display.HTML object>",
      "text/html": "<pre>\tALL DONE!</pre>"
     },
     "metadata": {}
    },
    {
     "output_type": "display_data",
     "data": {
      "text/plain": "<IPython.core.display.HTML object>",
      "text/html": "<p><br>"
     },
     "metadata": {}
    },
    {
     "output_type": "display_data",
     "data": {
      "text/plain": "<IPython.core.display.HTML object>",
      "text/html": "Testing Accuracy: 82.9293"
     },
     "metadata": {}
    },
    {
     "output_type": "display_data",
     "data": {
      "text/plain": "<IPython.core.display.HTML object>",
      "text/html": "<p><br>"
     },
     "metadata": {}
    },
    {
     "output_type": "display_data",
     "data": {
      "text/plain": "<IPython.core.display.HTML object>",
      "text/html": "<pre>                         precision    recall  f1-score   support\n\n             functional       0.80      0.95      0.87      3268\nfunctional needs repair       0.95      0.28      0.44       432\n         non functional       0.89      0.76      0.82      2240\n\n               accuracy                           0.83      5940\n              macro avg       0.88      0.66      0.71      5940\n           weighted avg       0.84      0.83      0.82      5940\n</pre>"
     },
     "metadata": {}
    },
    {
     "output_type": "display_data",
     "data": {
      "text/plain": "<IPython.core.display.HTML object>",
      "text/html": "<p><br>"
     },
     "metadata": {}
    },
    {
     "output_type": "display_data",
     "data": {
      "text/plain": "<IPython.core.display.HTML object>",
      "text/html": "Feature Importances:"
     },
     "metadata": {}
    },
    {
     "output_type": "display_data",
     "data": {
      "text/plain": "<IPython.core.display.HTML object>",
      "text/html": "<pre>[   ('quantity', 0.20258383),\n    ('waterpoint_type', 0.20075141),\n    ('scheme_name', 0.124105364),\n    ('funder', 0.08868023),\n    ('extraction_type', 0.07048088),\n    ('payment_type', 0.04651533),\n    ('installer', 0.045880813),\n    ('longitude', 0.031007323),\n    ('source', 0.030276958),\n    ('amount_tsh', 0.023966435),\n    ('pump_age', 0.021740302),\n    ('region_code', 0.019587832),\n    ('basin', 0.016780742),\n    ('management', 0.013430909),\n    ('district_code', 0.010639493),\n    ('population', 0.0104600135),\n    ('latitude', 0.01043017),\n    ('permit', 0.0077403514),\n    ('water_quality', 0.0075842673),\n    ('scheme_management', 0.0069437725),\n    ('public_meeting', 0.006027292),\n    ('gps_height', 0.004386266)]</pre><p><br><br>"
     },
     "metadata": {}
    }
   ],
   "source": [
    "best_parameters.update({'n_jobs':-1, 'verbosity':1, 'random_state': SEED})\n",
    "xgbclf, _ , model_results = clf_run_trial(XGBClassifier(), best_parameters, best_parameters)"
   ]
  },
  {
   "cell_type": "markdown",
   "metadata": {},
   "source": [
    "<p><br><br>\n",
    "<h2>Save Results to File</h2>"
   ]
  },
  {
   "cell_type": "code",
   "execution_count": 37,
   "metadata": {},
   "outputs": [
    {
     "output_type": "stream",
     "name": "stdout",
     "text": "updated models-results-2d7d3126b4f539a5c747b7bed497626b.json\n"
    }
   ],
   "source": [
    "fm.save_json(model_results, model_results_fname)\n",
    "print(f\"updated {model_results_fname}\")"
   ]
  }
 ],
 "metadata": {
  "kernelspec": {
   "display_name": "Python 3.7.6 64-bit ('learn-env': conda)",
   "language": "python",
   "name": "python37664bitlearnenvconda70f0b4d48d474c1cba77a4611cdb5f3c"
  },
  "language_info": {
   "codemirror_mode": {
    "name": "ipython",
    "version": 3
   },
   "file_extension": ".py",
   "mimetype": "text/x-python",
   "name": "python",
   "nbconvert_exporter": "python",
   "pygments_lexer": "ipython3",
   "version": "3.7.7-final"
  }
 },
 "nbformat": 4,
 "nbformat_minor": 4
}
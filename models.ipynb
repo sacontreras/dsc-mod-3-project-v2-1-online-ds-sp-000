{
 "cells": [
  {
   "cell_type": "markdown",
   "metadata": {},
   "source": [
    "<h2>Import Libraries</h2>"
   ]
  },
  {
   "cell_type": "code",
   "execution_count": 1,
   "metadata": {},
   "outputs": [],
   "source": [
    "from scjpnlib.utils.file_io import FileManager\n",
    "import scjpnlib.utils as scjpnutils\n",
    "from IPython.core.display import HTML, Markdown\n",
    "\n",
    "import pandas as pd\n",
    "import numpy as np\n",
    "\n",
    "from sklearn.model_selection import GridSearchCV, cross_val_score\n",
    "import dask_ml.model_selection as dcv\n",
    "from dask.distributed import Client\n",
    "import joblib\n",
    "\n",
    "from sklearn.ensemble import BaggingClassifier, RandomForestClassifier\n",
    "from sklearn.multioutput import MultiOutputClassifier\n",
    "import xgboost as xgb\n",
    "from xgboost import XGBClassifier\n",
    "from sklearn.metrics import classification_report\n",
    "from sklearn.metrics import accuracy_score\n",
    "\n",
    "%load_ext autoreload\n",
    "%autoreload 2\n",
    "\n",
    "K = 3 # num folds for cross-val\n",
    "n_jobs = 8"
   ]
  },
  {
   "cell_type": "markdown",
   "metadata": {},
   "source": [
    "## Read Configs for this Experiment"
   ]
  },
  {
   "cell_type": "code",
   "execution_count": 2,
   "metadata": {},
   "outputs": [
    {
     "output_type": "execute_result",
     "data": {
      "text/plain": "{'official_data': {'unlabeled_predictors': {'url': 'https://s3.amazonaws.com/drivendata-prod/data/7/public/702ddfc5-68cd-4d1d-a0de-f5f566f76d91.csv',\n   'local_fname': 'Taarifa-Unlabeled-Predictors.csv'},\n  'labeled_predictors': {'url': 'https://s3.amazonaws.com/drivendata-prod/data/7/public/4910797b-ee55-40a7-8668-10efd5c1b960.csv',\n   'local_fname': 'Taarifa-Labeled-Predictors.csv'},\n  'labels': {'url': 'https://s3.amazonaws.com/drivendata-prod/data/7/public/0bf8bc6e-30d0-4c50-956a-603fc693d966.csv',\n   'local_fname': 'Taarifa-Labels.csv'}},\n 'test_ratio': 0.1,\n 'SEED': 42,\n 'insig_cat_handling': {'installer': {'strategy': 'flat',\n   'threshold': 10,\n   'map_to': 'other'},\n  'scheme_name': {'strategy': 'flat', 'threshold': 10, 'map_to': 'other'}},\n 'wrangled_data': {'fname_ext': 'csv',\n  'train': {'fname_prefix': 'wrangled-labeled-data-train'},\n  'test': {'fname_prefix': 'wrangled-labeled-data-test'},\n  'unlabeled': {'fname_prefix': 'wrangled-unlabeled-data'}},\n 'labels': {'fname_ext': 'csv',\n  'train': {'fname_prefix': 'labels-train'},\n  'test': {'fname_prefix': 'labels-test'}}}"
     },
     "metadata": {},
     "execution_count": 2
    }
   ],
   "source": [
    "fm = FileManager()\n",
    "\n",
    "eda_config = fm.load_json('eda-config.txt')"
   ]
  },
  {
   "cell_type": "code",
   "execution_count": 3,
   "metadata": {},
   "outputs": [
    {
     "output_type": "execute_result",
     "data": {
      "text/plain": "{'SEED': 42,\n 'RandomForestClassifier': {'trials': {'run': False,\n   'array': [{'gridsearch': {'run': False,\n      'param_grid': {'bootstrap': [True, False],\n       'criterion': ['entropy', 'gini'],\n       'max_features': ['auto', 'sqrt', 'log2'],\n       'max_depth': [10, 50, 75, None],\n       'n_estimators': [100, 500, 1000]},\n      'last_best': {'bootstrap': True,\n       'criterion': 'entropy',\n       'max_depth': 75,\n       'max_features': 'auto',\n       'n_estimators': 1000}}}]},\n  'params': {'bootstrap': True,\n   'criterion': 'entropy',\n   'max_depth': 75,\n   'max_features': 'auto',\n   'n_estimators': 1000}},\n 'XGBClassifier': {'trials': {'run': True,\n   'array': [{'gridsearch': {'run': False,\n      'param_grid': {'learning_rate': [0.1],\n       'max_depth': [3],\n       'min_child_weight': [1],\n       'subsample': [1],\n       'gamma': [0, 1, 2, 5, 10],\n       'n_estimators': [100]},\n      'last_best': {'learning_rate': 0.1,\n       'max_depth': 3,\n       'min_child_weight': 1,\n       'subsample': 1,\n       'gamma': 1,\n       'n_estimators': 100}}},\n    {'gridsearch': {'run': False,\n      'param_grid': {'learning_rate': [0.1, 0.3, 0.6, 1.0],\n       'max_depth': [3],\n       'min_child_weight': [1],\n       'subsample': [1],\n       'gamma': [1],\n       'n_estimators': [100]},\n      'last_best': {'learning_rate': 0.3,\n       'max_depth': 3,\n       'min_child_weight': 1,\n       'subsample': 1,\n       'gamma': 1,\n       'n_estimators': 100}}},\n    {'gridsearch': {'run': False,\n      'param_grid': {'learning_rate': [0.3],\n       'max_depth': [3, 5, 10, 25, 50],\n       'min_child_weight': [1],\n       'subsample': [1],\n       'gamma': [1],\n       'n_estimators': [100]},\n      'last_best': {'learning_rate': 0.3,\n       'max_depth': 10,\n       'min_child_weight': 1,\n       'subsample': 1,\n       'gamma': 1,\n       'n_estimators': 100}}},\n    {'gridsearch': {'run': False,\n      'param_grid': {'learning_rate': [0.3],\n       'max_depth': [10],\n       'min_child_weight': [1, 3, 5],\n       'subsample': [1],\n       'gamma': [1],\n       'n_estimators': [100]},\n      'last_best': {'learning_rate': 0.3,\n       'max_depth': 10,\n       'min_child_weight': 1,\n       'subsample': 1,\n       'gamma': 1,\n       'n_estimators': 100}}},\n    {'gridsearch': {'run': True,\n      'param_grid': {'learning_rate': [0.3],\n       'max_depth': [10],\n       'min_child_weight': [1],\n       'subsample': [0.1, 0.25, 0.5, 1.0],\n       'gamma': [1],\n       'n_estimators': [100]},\n      'last_best': {'learning_rate': 0.3,\n       'max_depth': 10,\n       'min_child_weight': 1,\n       'subsample': 1,\n       'gamma': 1,\n       'n_estimators': 100}}},\n    {'gridsearch': {'run': False,\n      'param_grid': {'learning_rate': [0.3],\n       'max_depth': [10],\n       'min_child_weight': [1],\n       'subsample': [1.0],\n       'gamma': [1],\n       'n_estimators': [100, 500, 750, 1000]},\n      'last_best': {'learning_rate': 0.3,\n       'max_depth': 10,\n       'min_child_weight': 1,\n       'subsample': 1,\n       'gamma': 1,\n       'n_estimators': 100}}}]},\n  'params': {'learning_rate': 0.3,\n   'max_depth': 10,\n   'min_child_weight': 1,\n   'subsample': 1,\n   'gamma': 1,\n   'n_estimators': 100}}}"
     },
     "metadata": {},
     "execution_count": 3
    }
   ],
   "source": [
    "models_config = fm.load_json('models-config.txt')\n",
    "models_config"
   ]
  },
  {
   "cell_type": "markdown",
   "metadata": {},
   "source": [
    "<p><br>\n",
    "<h2>Load TEST/TRAIN Data</h2>"
   ]
  },
  {
   "cell_type": "code",
   "execution_count": 4,
   "metadata": {},
   "outputs": [],
   "source": [
    "SEED = models_config['SEED']"
   ]
  },
  {
   "cell_type": "code",
   "execution_count": 5,
   "metadata": {},
   "outputs": [
    {
     "output_type": "stream",
     "name": "stdout",
     "text": "loaded wrangled-labeled-data-train-1d7f80e43261a7589d64368eab8a2853.csv\n\n<class 'pandas.core.frame.DataFrame'>\nInt64Index: 53460 entries, 44928 to 56422\nData columns (total 89 columns):\n #   Column                                     Non-Null Count  Dtype  \n---  ------                                     --------------  -----  \n 0   installer_rwe                              53460 non-null  float64\n 1   installer_other                            53460 non-null  float64\n 2   installer_distr                            53460 non-null  float64\n 3   installer_danid                            53460 non-null  float64\n 4   installer_hesaw                            53460 non-null  float64\n 5   installer_world                            53460 non-null  float64\n 6   installer_gover                            53460 non-null  float64\n 7   installer_none                             53460 non-null  float64\n 8   installer_commu                            53460 non-null  float64\n 9   installer_dwe                              53460 non-null  float64\n 10  basin_lakenyasa                            53460 non-null  float64\n 11  basin_lakevictoria                         53460 non-null  float64\n 12  basin_pangani                              53460 non-null  float64\n 13  basin_wami_ruvu                            53460 non-null  float64\n 14  basin_lakerukwa                            53460 non-null  float64\n 15  basin_internal                             53460 non-null  float64\n 16  basin_laketanganyika                       53460 non-null  float64\n 17  basin_rufiji                               53460 non-null  float64\n 18  public_meeting_True                        53460 non-null  float64\n 19  scheme_management_swc                      53460 non-null  float64\n 20  scheme_management_other                    53460 non-null  float64\n 21  scheme_management_wug                      53460 non-null  float64\n 22  scheme_management_waterauthority           53460 non-null  float64\n 23  scheme_management_trust                    53460 non-null  float64\n 24  scheme_management_none                     53460 non-null  float64\n 25  scheme_management_privateoperator          53460 non-null  float64\n 26  scheme_management_waterboard               53460 non-null  float64\n 27  scheme_management_company                  53460 non-null  float64\n 28  scheme_management_parastatal               53460 non-null  float64\n 29  scheme_management_wua                      53460 non-null  float64\n 30  scheme_name_danid                          53460 non-null  float64\n 31  scheme_name_mkong                          53460 non-null  float64\n 32  scheme_name_gover                          53460 non-null  float64\n 33  scheme_name_k                              53460 non-null  float64\n 34  scheme_name_m                              53460 non-null  float64\n 35  scheme_name_none                           53460 non-null  float64\n 36  scheme_name_wangi                          53460 non-null  float64\n 37  scheme_name_boreh                          53460 non-null  float64\n 38  scheme_name_i                              53460 non-null  float64\n 39  scheme_name_mradi                          53460 non-null  float64\n 40  scheme_name_chali                          53460 non-null  float64\n 41  scheme_name_bagam                          53460 non-null  float64\n 42  permit_True                                53460 non-null  float64\n 43  extraction_type_class_wind_powered         53460 non-null  float64\n 44  extraction_type_class_motorpump            53460 non-null  float64\n 45  extraction_type_class_submersible          53460 non-null  float64\n 46  extraction_type_class_handpump             53460 non-null  float64\n 47  extraction_type_class_ropepump             53460 non-null  float64\n 48  extraction_type_class_gravity              53460 non-null  float64\n 49  management_group_commercial                53460 non-null  float64\n 50  management_group_unknown                   53460 non-null  float64\n 51  management_group_user_group                53460 non-null  float64\n 52  management_group_parastatal                53460 non-null  float64\n 53  payment_type_other                         53460 non-null  float64\n 54  payment_type_annually                      53460 non-null  float64\n 55  payment_type_neverpay                      53460 non-null  float64\n 56  payment_type_unknown                       53460 non-null  float64\n 57  payment_type_perbucket                     53460 non-null  float64\n 58  payment_type_onfailure                     53460 non-null  float64\n 59  quality_group_colored                      53460 non-null  float64\n 60  quality_group_fluoride                     53460 non-null  float64\n 61  quality_group_salty                        53460 non-null  float64\n 62  quality_group_unknown                      53460 non-null  float64\n 63  quality_group_good                         53460 non-null  float64\n 64  quantity_seasonal                          53460 non-null  float64\n 65  quantity_dry                               53460 non-null  float64\n 66  quantity_unknown                           53460 non-null  float64\n 67  quantity_enough                            53460 non-null  float64\n 68  source_dam                                 53460 non-null  float64\n 69  source_other                               53460 non-null  float64\n 70  source_spring                              53460 non-null  float64\n 71  source_rainwaterharvesting                 53460 non-null  float64\n 72  source_machinedbh                          53460 non-null  float64\n 73  source_river                               53460 non-null  float64\n 74  source_handdtw                             53460 non-null  float64\n 75  source_lake                                53460 non-null  float64\n 76  source_unknown                             53460 non-null  float64\n 77  waterpoint_type_dam                        53460 non-null  float64\n 78  waterpoint_type_other                      53460 non-null  float64\n 79  waterpoint_type_improvedspring             53460 non-null  float64\n 80  waterpoint_type_communalstandpipe          53460 non-null  float64\n 81  waterpoint_type_handpump                   53460 non-null  float64\n 82  waterpoint_type_communalstandpipemultiple  53460 non-null  float64\n 83  amount_tsh                                 53460 non-null  float64\n 84  gps_height                                 53460 non-null  float64\n 85  longitude                                  53460 non-null  float64\n 86  latitude                                   53460 non-null  float64\n 87  population                                 53460 non-null  float64\n 88  pump_age                                   53460 non-null  float64\ndtypes: float64(89)\nmemory usage: 36.7 MB\n"
    }
   ],
   "source": [
    "fname = scjpnutils.get_data_fname(eda_config, data_kwargs={'is_labels':False,'type':'train'})\n",
    "data_train = pd.read_csv(fname, index_col=0)\n",
    "print(f\"loaded {fname}\\n\")\n",
    "data_train.info()"
   ]
  },
  {
   "cell_type": "code",
   "execution_count": 6,
   "metadata": {},
   "outputs": [
    {
     "output_type": "stream",
     "name": "stdout",
     "text": "loaded labels-train-1d7f80e43261a7589d64368eab8a2853.csv\n\n<class 'pandas.core.frame.DataFrame'>\nInt64Index: 53460 entries, 44928 to 56422\nData columns (total 1 columns):\n #   Column        Non-Null Count  Dtype \n---  ------        --------------  ----- \n 0   status_group  53460 non-null  object\ndtypes: object(1)\nmemory usage: 835.3+ KB\n"
    }
   ],
   "source": [
    "fname = scjpnutils.get_data_fname(eda_config, data_kwargs={'is_labels':True,'type':'train'})\n",
    "y_train = pd.read_csv(fname, index_col=0)\n",
    "print(f\"loaded {fname}\\n\")\n",
    "y_train.info()"
   ]
  },
  {
   "cell_type": "code",
   "execution_count": 7,
   "metadata": {},
   "outputs": [],
   "source": [
    "classes = y_train.status_group.unique()"
   ]
  },
  {
   "cell_type": "code",
   "execution_count": 8,
   "metadata": {},
   "outputs": [
    {
     "output_type": "stream",
     "name": "stdout",
     "text": "loaded wrangled-labeled-data-test-1d7f80e43261a7589d64368eab8a2853.csv\n\n<class 'pandas.core.frame.DataFrame'>\nInt64Index: 5940 entries, 2980 to 26085\nData columns (total 89 columns):\n #   Column                                     Non-Null Count  Dtype  \n---  ------                                     --------------  -----  \n 0   installer_rwe                              5940 non-null   float64\n 1   installer_other                            5940 non-null   float64\n 2   installer_distr                            5940 non-null   float64\n 3   installer_danid                            5940 non-null   float64\n 4   installer_hesaw                            5940 non-null   float64\n 5   installer_world                            5940 non-null   float64\n 6   installer_gover                            5940 non-null   float64\n 7   installer_none                             5940 non-null   float64\n 8   installer_commu                            5940 non-null   float64\n 9   installer_dwe                              5940 non-null   float64\n 10  basin_lakenyasa                            5940 non-null   float64\n 11  basin_lakevictoria                         5940 non-null   float64\n 12  basin_pangani                              5940 non-null   float64\n 13  basin_wami_ruvu                            5940 non-null   float64\n 14  basin_lakerukwa                            5940 non-null   float64\n 15  basin_internal                             5940 non-null   float64\n 16  basin_laketanganyika                       5940 non-null   float64\n 17  basin_rufiji                               5940 non-null   float64\n 18  public_meeting_True                        5940 non-null   float64\n 19  scheme_management_swc                      5940 non-null   float64\n 20  scheme_management_other                    5940 non-null   float64\n 21  scheme_management_wug                      5940 non-null   float64\n 22  scheme_management_waterauthority           5940 non-null   float64\n 23  scheme_management_trust                    5940 non-null   float64\n 24  scheme_management_none                     5940 non-null   float64\n 25  scheme_management_privateoperator          5940 non-null   float64\n 26  scheme_management_waterboard               5940 non-null   float64\n 27  scheme_management_company                  5940 non-null   float64\n 28  scheme_management_parastatal               5940 non-null   float64\n 29  scheme_management_wua                      5940 non-null   float64\n 30  scheme_name_danid                          5940 non-null   float64\n 31  scheme_name_mkong                          5940 non-null   float64\n 32  scheme_name_gover                          5940 non-null   float64\n 33  scheme_name_k                              5940 non-null   float64\n 34  scheme_name_m                              5940 non-null   float64\n 35  scheme_name_none                           5940 non-null   float64\n 36  scheme_name_wangi                          5940 non-null   float64\n 37  scheme_name_boreh                          5940 non-null   float64\n 38  scheme_name_i                              5940 non-null   float64\n 39  scheme_name_mradi                          5940 non-null   float64\n 40  scheme_name_chali                          5940 non-null   float64\n 41  scheme_name_bagam                          5940 non-null   float64\n 42  permit_True                                5940 non-null   float64\n 43  extraction_type_class_wind_powered         5940 non-null   float64\n 44  extraction_type_class_motorpump            5940 non-null   float64\n 45  extraction_type_class_submersible          5940 non-null   float64\n 46  extraction_type_class_handpump             5940 non-null   float64\n 47  extraction_type_class_ropepump             5940 non-null   float64\n 48  extraction_type_class_gravity              5940 non-null   float64\n 49  management_group_commercial                5940 non-null   float64\n 50  management_group_unknown                   5940 non-null   float64\n 51  management_group_user_group                5940 non-null   float64\n 52  management_group_parastatal                5940 non-null   float64\n 53  payment_type_other                         5940 non-null   float64\n 54  payment_type_annually                      5940 non-null   float64\n 55  payment_type_neverpay                      5940 non-null   float64\n 56  payment_type_unknown                       5940 non-null   float64\n 57  payment_type_perbucket                     5940 non-null   float64\n 58  payment_type_onfailure                     5940 non-null   float64\n 59  quality_group_colored                      5940 non-null   float64\n 60  quality_group_fluoride                     5940 non-null   float64\n 61  quality_group_salty                        5940 non-null   float64\n 62  quality_group_unknown                      5940 non-null   float64\n 63  quality_group_good                         5940 non-null   float64\n 64  quantity_seasonal                          5940 non-null   float64\n 65  quantity_dry                               5940 non-null   float64\n 66  quantity_unknown                           5940 non-null   float64\n 67  quantity_enough                            5940 non-null   float64\n 68  source_dam                                 5940 non-null   float64\n 69  source_other                               5940 non-null   float64\n 70  source_spring                              5940 non-null   float64\n 71  source_rainwaterharvesting                 5940 non-null   float64\n 72  source_machinedbh                          5940 non-null   float64\n 73  source_river                               5940 non-null   float64\n 74  source_handdtw                             5940 non-null   float64\n 75  source_lake                                5940 non-null   float64\n 76  source_unknown                             5940 non-null   float64\n 77  waterpoint_type_dam                        5940 non-null   float64\n 78  waterpoint_type_other                      5940 non-null   float64\n 79  waterpoint_type_improvedspring             5940 non-null   float64\n 80  waterpoint_type_communalstandpipe          5940 non-null   float64\n 81  waterpoint_type_handpump                   5940 non-null   float64\n 82  waterpoint_type_communalstandpipemultiple  5940 non-null   float64\n 83  amount_tsh                                 5940 non-null   float64\n 84  gps_height                                 5940 non-null   float64\n 85  longitude                                  5940 non-null   float64\n 86  latitude                                   5940 non-null   float64\n 87  population                                 5940 non-null   float64\n 88  pump_age                                   5940 non-null   float64\ndtypes: float64(89)\nmemory usage: 4.1 MB\n"
    }
   ],
   "source": [
    "fname = scjpnutils.get_data_fname(eda_config, data_kwargs={'is_labels':False,'type':'test'})\n",
    "data_test = pd.read_csv(fname, index_col=0)\n",
    "print(f\"loaded {fname}\\n\")\n",
    "data_test.info()"
   ]
  },
  {
   "cell_type": "code",
   "execution_count": 9,
   "metadata": {},
   "outputs": [
    {
     "output_type": "stream",
     "name": "stdout",
     "text": "loaded labels-test-1d7f80e43261a7589d64368eab8a2853.csv\n\n<class 'pandas.core.frame.DataFrame'>\nInt64Index: 5940 entries, 2980 to 26085\nData columns (total 1 columns):\n #   Column        Non-Null Count  Dtype \n---  ------        --------------  ----- \n 0   status_group  5940 non-null   object\ndtypes: object(1)\nmemory usage: 92.8+ KB\n"
    }
   ],
   "source": [
    "fname = scjpnutils.get_data_fname(eda_config, data_kwargs={'is_labels':True,'type':'test'})\n",
    "y_test = pd.read_csv(fname, index_col=0)\n",
    "print(f\"loaded {fname}\\n\")\n",
    "y_test.info()"
   ]
  },
  {
   "cell_type": "markdown",
   "metadata": {},
   "source": [
    "<p><br>\n",
    "<h2>Models</h2>\n",
    "\n",
    "<h3>General functions for building Classifiers and running trials</h3>"
   ]
  },
  {
   "cell_type": "code",
   "execution_count": 10,
   "metadata": {},
   "outputs": [],
   "source": [
    "def gs_find_best_params(clf, param_grid):\n",
    "    display(HTML(f\"param_grid for {type(clf)} GridSearch:<br><pre>{params}</pre>\"))\n",
    "    grid_clf = GridSearchCV(\n",
    "        clf, \n",
    "        param_grid, \n",
    "        cv=K, \n",
    "        n_jobs=-1\n",
    "        , verbose=20\n",
    "    )\n",
    "    # with joblib.parallel_backend('dask'):\n",
    "    #     %time _ = grid_clf.fit(data_train, y_train)\n",
    "    %time _ = grid_clf.fit(data_train, y_train)\n",
    "    return grid_clf.best_params_"
   ]
  },
  {
   "cell_type": "code",
   "execution_count": 11,
   "metadata": {},
   "outputs": [],
   "source": [
    "def clf_fit(clf, data_train, y_train):\n",
    "    # with joblib.parallel_backend('dask'):\n",
    "    #     %time clf.fit(data_train, y_train)\n",
    "    %time clf.fit(data_train, y_train)\n",
    "    return clf"
   ]
  },
  {
   "cell_type": "code",
   "execution_count": 12,
   "metadata": {},
   "outputs": [],
   "source": [
    "def summarize_preds(X, y, preds, dataset_name, classes):\n",
    "    display(HTML(\"<p><br>\"))\n",
    "    _accuracy = accuracy_score(y, preds)\n",
    "    display(HTML(f\"{dataset_name} Accuracy: {round(_accuracy*100,4)}\"))\n",
    "    display(HTML(\"<p><br>\"))\n",
    "    display(HTML(f\"<pre>{classification_report(y, preds, target_names=classes)}</pre>\"))"
   ]
  },
  {
   "cell_type": "code",
   "execution_count": 13,
   "metadata": {},
   "outputs": [],
   "source": [
    "def clf_run_trial(clf, params, run_trials_gridsearch):\n",
    "    best_parameters = gs_find_best_params(clf, params) if run_trials_gridsearch else params\n",
    "\n",
    "    display(HTML(\"<p><br>\"))\n",
    "    display(HTML(f\"Grid Search {'(previously) ' if not run_trials_gridsearch else ''}found the following optimal parameters: \"))\n",
    "    s_best_params = \"\"\n",
    "    for param_name in list(best_parameters.keys()):\n",
    "        s_best_params += f\"\\t{param_name}: {best_parameters[param_name]}\\n\"\n",
    "    display(HTML(f\"<pre>{s_best_params}</pre>\"))\n",
    "\n",
    "    display(HTML(\"<p><br>\"))\n",
    "    display(HTML(\"Fitting classifer...\"))\n",
    "    clf = clf.set_params(**best_parameters)\n",
    "    clf = clf_fit(clf, data_train, y_train)\n",
    "    s_all_done = \"\\tALL DONE!\"\n",
    "    display(HTML(f\"<pre>{s_all_done}</pre>\"))\n",
    "\n",
    "    display(HTML(\"<p><br>\"))\n",
    "    display(HTML(\"Predicting labels on training data...\"))\n",
    "    pred_train = clf.predict(data_train)\n",
    "    display(HTML(f\"<pre>{s_all_done}</pre>\"))\n",
    "    summarize_preds(data_train, y_train, pred_train, 'Training', classes)\n",
    "    display(HTML(\"<p><br>\"))\n",
    "    display(HTML(\"Computing cross-val score on training data...\"))\n",
    "    cv_score_train = cross_val_score(clf, data_train, y_train, cv=K)\n",
    "    display(HTML(f\"<pre>{s_all_done}</pre>\"))\n",
    "    display(HTML(f\"cross_val_score: {np.mean(cv_score_train)}\"))\n",
    "\n",
    "    display(HTML(\"<p><br>\"))\n",
    "    display(HTML(f\"Predicting labels on testing data...\"))\n",
    "    pred_test = clf.predict(data_test)\n",
    "    display(HTML(f\"<pre>{s_all_done}</pre>\"))\n",
    "    summarize_preds(data_test, y_test, pred_test, 'Testing', classes)\n",
    "    display(HTML(\"<p><br>\"))\n",
    "    display(HTML(f\"Computing cross-val score on testing data...\"))\n",
    "    cv_score_test = cross_val_score(clf, data_test, y_test, cv=K)\n",
    "    display(HTML(f\"<pre>{s_all_done}</pre>\"))\n",
    "    display(HTML(f\"cross_val_score: {np.mean(cv_score_test)}\"))\n",
    "\n",
    "    return best_parameters"
   ]
  },
  {
   "cell_type": "markdown",
   "metadata": {},
   "source": [
    "<p><br>\n",
    "<h2>Initialize Dask-Client (to Dask backend for parallelization) <i>(DISABLED for now)</i></h2>"
   ]
  },
  {
   "cell_type": "code",
   "execution_count": 14,
   "metadata": {},
   "outputs": [],
   "source": [
    "# # local\n",
    "# # dask_client = Client(n_workers=2, threads_per_worker=8, memory_limit='8GB') #spawns a local cluster; memory_limit is per worker\n",
    "# dask_client = Client(n_workers=1, threads_per_worker=n_jobs, memory_limit='16GB') #spawns a local cluster; memory_limit is per worker\n",
    "\n",
    "# # for Kubernetes dask scheduler/worker cluster in GCP - but this costs money to run the cluster AND requires a lot more work for data parallelization!\n",
    "# # scheduler_address = '35.230.13.87'\n",
    "# # dask_client = Client(f'tcp://{scheduler_address}:8786')\n",
    "\n",
    "# dask_client"
   ]
  },
  {
   "cell_type": "markdown",
   "metadata": {},
   "source": [
    "<p><br>\n",
    "<h3>Random Forest Classifier</h3>\n",
    "<h4>Trials</h4>"
   ]
  },
  {
   "cell_type": "code",
   "execution_count": 15,
   "metadata": {},
   "outputs": [
    {
     "output_type": "display_data",
     "data": {
      "text/plain": "<IPython.core.display.HTML object>",
      "text/html": "models_config['RandomForestClassifier']['trials']['run']: False"
     },
     "metadata": {}
    }
   ],
   "source": [
    "trials = models_config['RandomForestClassifier']['trials']\n",
    "\n",
    "display(HTML(f\"models_config['RandomForestClassifier']['trials']['run']: {trials['run']}\"))\n",
    "if trials['run']:\n",
    "    trials_list = trials['array']\n",
    "\n",
    "    for i, trial in enumerate(trials_list):\n",
    "        display(HTML(f\"trial[{i}]['gridsearch']['run']: {trial['gridsearch']['run']}\"))\n",
    "        params = trial['gridsearch']['last_best'] if not trial['gridsearch']['run'] else trial['gridsearch']['param_grid']\n",
    "        if trial['gridsearch']['run']:\n",
    "            params.update({'n_jobs': [-1]})\n",
    "        else:\n",
    "            params.update({'n_jobs':-1})\n",
    "        best_parameters = clf_run_trial(RandomForestClassifier(), params, trial['gridsearch']['run']) # note that best_parameters will be set to those used in the last trial\n",
    "\n",
    "else:\n",
    "    best_parameters = models_config['RandomForestClassifier']['params']"
   ]
  },
  {
   "cell_type": "markdown",
   "metadata": {},
   "source": [
    "<p><br>\n",
    "<h4>Build Final Model with best params</h4>"
   ]
  },
  {
   "cell_type": "code",
   "execution_count": 16,
   "metadata": {},
   "outputs": [
    {
     "output_type": "display_data",
     "data": {
      "text/plain": "<IPython.core.display.HTML object>",
      "text/html": "<p><br>"
     },
     "metadata": {}
    },
    {
     "output_type": "display_data",
     "data": {
      "text/plain": "<IPython.core.display.HTML object>",
      "text/html": "Grid Search (previously) found the following optimal parameters: "
     },
     "metadata": {}
    },
    {
     "output_type": "display_data",
     "data": {
      "text/plain": "<IPython.core.display.HTML object>",
      "text/html": "<pre>\tbootstrap: True\n\tcriterion: entropy\n\tmax_depth: 75\n\tmax_features: auto\n\tn_estimators: 1000\n\tn_jobs: -1\n\tverbose: 1\n</pre>"
     },
     "metadata": {}
    },
    {
     "output_type": "display_data",
     "data": {
      "text/plain": "<IPython.core.display.HTML object>",
      "text/html": "<p><br>"
     },
     "metadata": {}
    },
    {
     "output_type": "display_data",
     "data": {
      "text/plain": "<IPython.core.display.HTML object>",
      "text/html": "Fitting classifer..."
     },
     "metadata": {}
    },
    {
     "output_type": "stream",
     "name": "stderr",
     "text": "[Parallel(n_jobs=-1)]: Using backend ThreadingBackend with 8 concurrent workers.\n[Parallel(n_jobs=-1)]: Done  34 tasks      | elapsed:    1.6s\n[Parallel(n_jobs=-1)]: Done 184 tasks      | elapsed:    7.2s\n[Parallel(n_jobs=-1)]: Done 434 tasks      | elapsed:   16.0s\n[Parallel(n_jobs=-1)]: Done 784 tasks      | elapsed:   29.0s\nCPU times: user 3min 49s, sys: 4.07 s, total: 3min 53s\nWall time: 39.3 s\n[Parallel(n_jobs=-1)]: Done 1000 out of 1000 | elapsed:   38.6s finished\n"
    },
    {
     "output_type": "display_data",
     "data": {
      "text/plain": "<IPython.core.display.HTML object>",
      "text/html": "<pre>\tALL DONE!</pre>"
     },
     "metadata": {}
    },
    {
     "output_type": "display_data",
     "data": {
      "text/plain": "<IPython.core.display.HTML object>",
      "text/html": "<p><br>"
     },
     "metadata": {}
    },
    {
     "output_type": "display_data",
     "data": {
      "text/plain": "<IPython.core.display.HTML object>",
      "text/html": "Predicting labels on training data..."
     },
     "metadata": {}
    },
    {
     "output_type": "stream",
     "name": "stderr",
     "text": "[Parallel(n_jobs=8)]: Using backend ThreadingBackend with 8 concurrent workers.\n[Parallel(n_jobs=8)]: Done  34 tasks      | elapsed:    0.2s\n[Parallel(n_jobs=8)]: Done 184 tasks      | elapsed:    1.2s\n[Parallel(n_jobs=8)]: Done 434 tasks      | elapsed:    2.8s\n[Parallel(n_jobs=8)]: Done 784 tasks      | elapsed:    4.9s\n[Parallel(n_jobs=8)]: Done 1000 out of 1000 | elapsed:    6.0s finished\n"
    },
    {
     "output_type": "display_data",
     "data": {
      "text/plain": "<IPython.core.display.HTML object>",
      "text/html": "<pre>\tALL DONE!</pre>"
     },
     "metadata": {}
    },
    {
     "output_type": "display_data",
     "data": {
      "text/plain": "<IPython.core.display.HTML object>",
      "text/html": "<p><br>"
     },
     "metadata": {}
    },
    {
     "output_type": "display_data",
     "data": {
      "text/plain": "<IPython.core.display.HTML object>",
      "text/html": "Training Accuracy: 99.7662"
     },
     "metadata": {}
    },
    {
     "output_type": "display_data",
     "data": {
      "text/plain": "<IPython.core.display.HTML object>",
      "text/html": "<p><br>"
     },
     "metadata": {}
    },
    {
     "output_type": "display_data",
     "data": {
      "text/plain": "<IPython.core.display.HTML object>",
      "text/html": "<pre>                         precision    recall  f1-score   support\n\n             functional       1.00      1.00      1.00     29062\n         non functional       0.99      0.99      0.99      3892\nfunctional needs repair       1.00      1.00      1.00     20506\n\n               accuracy                           1.00     53460\n              macro avg       1.00      0.99      1.00     53460\n           weighted avg       1.00      1.00      1.00     53460\n</pre>"
     },
     "metadata": {}
    },
    {
     "output_type": "display_data",
     "data": {
      "text/plain": "<IPython.core.display.HTML object>",
      "text/html": "<p><br>"
     },
     "metadata": {}
    },
    {
     "output_type": "display_data",
     "data": {
      "text/plain": "<IPython.core.display.HTML object>",
      "text/html": "Computing cross-val score on training data..."
     },
     "metadata": {}
    },
    {
     "output_type": "stream",
     "name": "stderr",
     "text": "[Parallel(n_jobs=-1)]: Using backend LokyBackend with 8 concurrent workers.\n[Parallel(n_jobs=-1)]: Done  34 tasks      | elapsed:    3.3s\n[Parallel(n_jobs=-1)]: Done 184 tasks      | elapsed:    8.3s\n[Parallel(n_jobs=-1)]: Done 434 tasks      | elapsed:   15.6s\n[Parallel(n_jobs=-1)]: Done 784 tasks      | elapsed:   25.1s\n[Parallel(n_jobs=-1)]: Done 1000 out of 1000 | elapsed:   31.0s finished\n[Parallel(n_jobs=8)]: Using backend ThreadingBackend with 8 concurrent workers.\n[Parallel(n_jobs=8)]: Done  34 tasks      | elapsed:    0.1s\n[Parallel(n_jobs=8)]: Done 184 tasks      | elapsed:    0.3s\n[Parallel(n_jobs=8)]: Done 434 tasks      | elapsed:    0.7s\n[Parallel(n_jobs=8)]: Done 784 tasks      | elapsed:    1.2s\n[Parallel(n_jobs=8)]: Done 1000 out of 1000 | elapsed:    1.5s finished\n[Parallel(n_jobs=-1)]: Using backend LokyBackend with 8 concurrent workers.\n[Parallel(n_jobs=-1)]: Done  34 tasks      | elapsed:    1.6s\n[Parallel(n_jobs=-1)]: Done 184 tasks      | elapsed:    5.6s\n[Parallel(n_jobs=-1)]: Done 434 tasks      | elapsed:   12.3s\n[Parallel(n_jobs=-1)]: Done 784 tasks      | elapsed:   23.6s\n[Parallel(n_jobs=-1)]: Done 1000 out of 1000 | elapsed:   32.0s finished\n[Parallel(n_jobs=8)]: Using backend ThreadingBackend with 8 concurrent workers.\n[Parallel(n_jobs=8)]: Done  34 tasks      | elapsed:    0.1s\n[Parallel(n_jobs=8)]: Done 184 tasks      | elapsed:    0.3s\n[Parallel(n_jobs=8)]: Done 434 tasks      | elapsed:    0.7s\n[Parallel(n_jobs=8)]: Done 784 tasks      | elapsed:    1.7s\n[Parallel(n_jobs=8)]: Done 1000 out of 1000 | elapsed:    2.2s finished\n[Parallel(n_jobs=-1)]: Using backend LokyBackend with 8 concurrent workers.\n[Parallel(n_jobs=-1)]: Done  34 tasks      | elapsed:    1.8s\n[Parallel(n_jobs=-1)]: Done 184 tasks      | elapsed:    7.2s\n[Parallel(n_jobs=-1)]: Done 434 tasks      | elapsed:   14.3s\n[Parallel(n_jobs=-1)]: Done 784 tasks      | elapsed:   23.5s\n[Parallel(n_jobs=-1)]: Done 1000 out of 1000 | elapsed:   28.5s finished\n[Parallel(n_jobs=8)]: Using backend ThreadingBackend with 8 concurrent workers.\n[Parallel(n_jobs=8)]: Done  34 tasks      | elapsed:    0.1s\n[Parallel(n_jobs=8)]: Done 184 tasks      | elapsed:    0.3s\n[Parallel(n_jobs=8)]: Done 434 tasks      | elapsed:    0.6s\n[Parallel(n_jobs=8)]: Done 784 tasks      | elapsed:    1.1s\n[Parallel(n_jobs=8)]: Done 1000 out of 1000 | elapsed:    1.5s finished\n"
    },
    {
     "output_type": "display_data",
     "data": {
      "text/plain": "<IPython.core.display.HTML object>",
      "text/html": "<pre>\tALL DONE!</pre>"
     },
     "metadata": {}
    },
    {
     "output_type": "display_data",
     "data": {
      "text/plain": "<IPython.core.display.HTML object>",
      "text/html": "cross_val_score: 0.7984848484848485"
     },
     "metadata": {}
    },
    {
     "output_type": "display_data",
     "data": {
      "text/plain": "<IPython.core.display.HTML object>",
      "text/html": "<p><br>"
     },
     "metadata": {}
    },
    {
     "output_type": "display_data",
     "data": {
      "text/plain": "<IPython.core.display.HTML object>",
      "text/html": "Predicting labels on testing data..."
     },
     "metadata": {}
    },
    {
     "output_type": "stream",
     "name": "stderr",
     "text": "[Parallel(n_jobs=8)]: Using backend ThreadingBackend with 8 concurrent workers.\n[Parallel(n_jobs=8)]: Done  34 tasks      | elapsed:    0.1s\n[Parallel(n_jobs=8)]: Done 184 tasks      | elapsed:    0.2s\n[Parallel(n_jobs=8)]: Done 434 tasks      | elapsed:    0.4s\n[Parallel(n_jobs=8)]: Done 784 tasks      | elapsed:    0.7s\n[Parallel(n_jobs=8)]: Done 1000 out of 1000 | elapsed:    0.8s finished\n"
    },
    {
     "output_type": "display_data",
     "data": {
      "text/plain": "<IPython.core.display.HTML object>",
      "text/html": "<pre>\tALL DONE!</pre>"
     },
     "metadata": {}
    },
    {
     "output_type": "display_data",
     "data": {
      "text/plain": "<IPython.core.display.HTML object>",
      "text/html": "<p><br>"
     },
     "metadata": {}
    },
    {
     "output_type": "display_data",
     "data": {
      "text/plain": "<IPython.core.display.HTML object>",
      "text/html": "Testing Accuracy: 80.4714"
     },
     "metadata": {}
    },
    {
     "output_type": "display_data",
     "data": {
      "text/plain": "<IPython.core.display.HTML object>",
      "text/html": "<p><br>"
     },
     "metadata": {}
    },
    {
     "output_type": "display_data",
     "data": {
      "text/plain": "<IPython.core.display.HTML object>",
      "text/html": "<pre>                         precision    recall  f1-score   support\n\n             functional       0.80      0.89      0.84      3197\n         non functional       0.55      0.32      0.41       425\nfunctional needs repair       0.84      0.78      0.81      2318\n\n               accuracy                           0.80      5940\n              macro avg       0.73      0.66      0.69      5940\n           weighted avg       0.80      0.80      0.80      5940\n</pre>"
     },
     "metadata": {}
    },
    {
     "output_type": "display_data",
     "data": {
      "text/plain": "<IPython.core.display.HTML object>",
      "text/html": "<p><br>"
     },
     "metadata": {}
    },
    {
     "output_type": "display_data",
     "data": {
      "text/plain": "<IPython.core.display.HTML object>",
      "text/html": "Computing cross-val score on testing data..."
     },
     "metadata": {}
    },
    {
     "output_type": "stream",
     "name": "stderr",
     "text": "[Parallel(n_jobs=-1)]: Using backend LokyBackend with 8 concurrent workers.\n[Parallel(n_jobs=-1)]: Done  56 tasks      | elapsed:    0.2s\n[Parallel(n_jobs=-1)]: Done 960 tasks      | elapsed:    2.0s\n[Parallel(n_jobs=-1)]: Done 1000 out of 1000 | elapsed:    2.1s finished\n[Parallel(n_jobs=8)]: Using backend ThreadingBackend with 8 concurrent workers.\n[Parallel(n_jobs=8)]: Done  34 tasks      | elapsed:    0.0s\n[Parallel(n_jobs=8)]: Done 184 tasks      | elapsed:    0.0s\n[Parallel(n_jobs=8)]: Done 434 tasks      | elapsed:    0.1s\n[Parallel(n_jobs=8)]: Done 784 tasks      | elapsed:    0.2s\n[Parallel(n_jobs=8)]: Done 1000 out of 1000 | elapsed:    0.2s finished\n[Parallel(n_jobs=-1)]: Using backend LokyBackend with 8 concurrent workers.\n[Parallel(n_jobs=-1)]: Done  56 tasks      | elapsed:    0.2s\n[Parallel(n_jobs=-1)]: Done 960 tasks      | elapsed:    2.2s\n[Parallel(n_jobs=-1)]: Done 1000 out of 1000 | elapsed:    2.3s finished\n[Parallel(n_jobs=8)]: Using backend ThreadingBackend with 8 concurrent workers.\n[Parallel(n_jobs=8)]: Done  34 tasks      | elapsed:    0.0s\n[Parallel(n_jobs=8)]: Done 184 tasks      | elapsed:    0.1s\n[Parallel(n_jobs=8)]: Done 434 tasks      | elapsed:    0.1s\n[Parallel(n_jobs=8)]: Done 784 tasks      | elapsed:    0.2s\n[Parallel(n_jobs=8)]: Done 1000 out of 1000 | elapsed:    0.3s finished\n[Parallel(n_jobs=-1)]: Using backend LokyBackend with 8 concurrent workers.\n[Parallel(n_jobs=-1)]: Done  56 tasks      | elapsed:    0.2s\n[Parallel(n_jobs=-1)]: Done 976 tasks      | elapsed:    2.1s\n[Parallel(n_jobs=-1)]: Done 1000 out of 1000 | elapsed:    2.2s finished\n[Parallel(n_jobs=8)]: Using backend ThreadingBackend with 8 concurrent workers.\n[Parallel(n_jobs=8)]: Done  34 tasks      | elapsed:    0.0s\n[Parallel(n_jobs=8)]: Done 184 tasks      | elapsed:    0.0s\n[Parallel(n_jobs=8)]: Done 434 tasks      | elapsed:    0.1s\n[Parallel(n_jobs=8)]: Done 784 tasks      | elapsed:    0.2s\n[Parallel(n_jobs=8)]: Done 1000 out of 1000 | elapsed:    0.3s finished\n"
    },
    {
     "output_type": "display_data",
     "data": {
      "text/plain": "<IPython.core.display.HTML object>",
      "text/html": "<pre>\tALL DONE!</pre>"
     },
     "metadata": {}
    },
    {
     "output_type": "display_data",
     "data": {
      "text/plain": "<IPython.core.display.HTML object>",
      "text/html": "cross_val_score: 0.754040404040404"
     },
     "metadata": {}
    }
   ],
   "source": [
    "best_parameters.update({'n_jobs':-1, 'verbose':1})\n",
    "clf_run_trial(RandomForestClassifier(), best_parameters, run_trials_gridsearch=False);"
   ]
  },
  {
   "cell_type": "markdown",
   "metadata": {},
   "source": [
    "<p><br><br><br>\n",
    "<h3>XGBClassifier</h3>\n",
    "<h4>Trials</h4>"
   ]
  },
  {
   "cell_type": "code",
   "execution_count": 17,
   "metadata": {},
   "outputs": [
    {
     "output_type": "display_data",
     "data": {
      "text/plain": "<IPython.core.display.HTML object>",
      "text/html": "models_config['XGBClassifier']['trials']['run']: True"
     },
     "metadata": {}
    },
    {
     "output_type": "display_data",
     "data": {
      "text/plain": "<IPython.core.display.HTML object>",
      "text/html": "trial[0]['gridsearch']['run']: False"
     },
     "metadata": {}
    },
    {
     "output_type": "display_data",
     "data": {
      "text/plain": "<IPython.core.display.HTML object>",
      "text/html": "<p><br>"
     },
     "metadata": {}
    },
    {
     "output_type": "display_data",
     "data": {
      "text/plain": "<IPython.core.display.HTML object>",
      "text/html": "Grid Search (previously) found the following optimal parameters: "
     },
     "metadata": {}
    },
    {
     "output_type": "display_data",
     "data": {
      "text/plain": "<IPython.core.display.HTML object>",
      "text/html": "<pre>\tlearning_rate: 0.1\n\tmax_depth: 3\n\tmin_child_weight: 1\n\tsubsample: 1\n\tgamma: 1\n\tn_estimators: 100\n\tn_jobs: -1\n</pre>"
     },
     "metadata": {}
    },
    {
     "output_type": "display_data",
     "data": {
      "text/plain": "<IPython.core.display.HTML object>",
      "text/html": "<p><br>"
     },
     "metadata": {}
    },
    {
     "output_type": "display_data",
     "data": {
      "text/plain": "<IPython.core.display.HTML object>",
      "text/html": "Fitting classifer..."
     },
     "metadata": {}
    },
    {
     "output_type": "stream",
     "name": "stdout",
     "text": "CPU times: user 2min 1s, sys: 1.14 s, total: 2min 2s\nWall time: 19.5 s\n"
    },
    {
     "output_type": "display_data",
     "data": {
      "text/plain": "<IPython.core.display.HTML object>",
      "text/html": "<pre>\tALL DONE!</pre>"
     },
     "metadata": {}
    },
    {
     "output_type": "display_data",
     "data": {
      "text/plain": "<IPython.core.display.HTML object>",
      "text/html": "<p><br>"
     },
     "metadata": {}
    },
    {
     "output_type": "display_data",
     "data": {
      "text/plain": "<IPython.core.display.HTML object>",
      "text/html": "Predicting labels on training data..."
     },
     "metadata": {}
    },
    {
     "output_type": "display_data",
     "data": {
      "text/plain": "<IPython.core.display.HTML object>",
      "text/html": "<pre>\tALL DONE!</pre>"
     },
     "metadata": {}
    },
    {
     "output_type": "display_data",
     "data": {
      "text/plain": "<IPython.core.display.HTML object>",
      "text/html": "<p><br>"
     },
     "metadata": {}
    },
    {
     "output_type": "display_data",
     "data": {
      "text/plain": "<IPython.core.display.HTML object>",
      "text/html": "Training Accuracy: 74.4126"
     },
     "metadata": {}
    },
    {
     "output_type": "display_data",
     "data": {
      "text/plain": "<IPython.core.display.HTML object>",
      "text/html": "<p><br>"
     },
     "metadata": {}
    },
    {
     "output_type": "display_data",
     "data": {
      "text/plain": "<IPython.core.display.HTML object>",
      "text/html": "<pre>                         precision    recall  f1-score   support\n\n             functional       0.71      0.94      0.81     29062\n         non functional       0.65      0.09      0.15      3892\nfunctional needs repair       0.84      0.59      0.70     20506\n\n               accuracy                           0.74     53460\n              macro avg       0.74      0.54      0.55     53460\n           weighted avg       0.76      0.74      0.72     53460\n</pre>"
     },
     "metadata": {}
    },
    {
     "output_type": "display_data",
     "data": {
      "text/plain": "<IPython.core.display.HTML object>",
      "text/html": "<p><br>"
     },
     "metadata": {}
    },
    {
     "output_type": "display_data",
     "data": {
      "text/plain": "<IPython.core.display.HTML object>",
      "text/html": "Computing cross-val score on training data..."
     },
     "metadata": {}
    },
    {
     "output_type": "display_data",
     "data": {
      "text/plain": "<IPython.core.display.HTML object>",
      "text/html": "<pre>\tALL DONE!</pre>"
     },
     "metadata": {}
    },
    {
     "output_type": "display_data",
     "data": {
      "text/plain": "<IPython.core.display.HTML object>",
      "text/html": "cross_val_score: 0.7410213243546576"
     },
     "metadata": {}
    },
    {
     "output_type": "display_data",
     "data": {
      "text/plain": "<IPython.core.display.HTML object>",
      "text/html": "<p><br>"
     },
     "metadata": {}
    },
    {
     "output_type": "display_data",
     "data": {
      "text/plain": "<IPython.core.display.HTML object>",
      "text/html": "Predicting labels on testing data..."
     },
     "metadata": {}
    },
    {
     "output_type": "display_data",
     "data": {
      "text/plain": "<IPython.core.display.HTML object>",
      "text/html": "<pre>\tALL DONE!</pre>"
     },
     "metadata": {}
    },
    {
     "output_type": "display_data",
     "data": {
      "text/plain": "<IPython.core.display.HTML object>",
      "text/html": "<p><br>"
     },
     "metadata": {}
    },
    {
     "output_type": "display_data",
     "data": {
      "text/plain": "<IPython.core.display.HTML object>",
      "text/html": "Testing Accuracy: 74.7475"
     },
     "metadata": {}
    },
    {
     "output_type": "display_data",
     "data": {
      "text/plain": "<IPython.core.display.HTML object>",
      "text/html": "<p><br>"
     },
     "metadata": {}
    },
    {
     "output_type": "display_data",
     "data": {
      "text/plain": "<IPython.core.display.HTML object>",
      "text/html": "<pre>                         precision    recall  f1-score   support\n\n             functional       0.71      0.93      0.81      3197\n         non functional       0.58      0.11      0.18       425\nfunctional needs repair       0.84      0.62      0.71      2318\n\n               accuracy                           0.75      5940\n              macro avg       0.71      0.55      0.57      5940\n           weighted avg       0.75      0.75      0.72      5940\n</pre>"
     },
     "metadata": {}
    },
    {
     "output_type": "display_data",
     "data": {
      "text/plain": "<IPython.core.display.HTML object>",
      "text/html": "<p><br>"
     },
     "metadata": {}
    },
    {
     "output_type": "display_data",
     "data": {
      "text/plain": "<IPython.core.display.HTML object>",
      "text/html": "Computing cross-val score on testing data..."
     },
     "metadata": {}
    },
    {
     "output_type": "display_data",
     "data": {
      "text/plain": "<IPython.core.display.HTML object>",
      "text/html": "<pre>\tALL DONE!</pre>"
     },
     "metadata": {}
    },
    {
     "output_type": "display_data",
     "data": {
      "text/plain": "<IPython.core.display.HTML object>",
      "text/html": "cross_val_score: 0.7412457912457913"
     },
     "metadata": {}
    },
    {
     "output_type": "display_data",
     "data": {
      "text/plain": "<IPython.core.display.HTML object>",
      "text/html": "trial[1]['gridsearch']['run']: False"
     },
     "metadata": {}
    },
    {
     "output_type": "display_data",
     "data": {
      "text/plain": "<IPython.core.display.HTML object>",
      "text/html": "<p><br>"
     },
     "metadata": {}
    },
    {
     "output_type": "display_data",
     "data": {
      "text/plain": "<IPython.core.display.HTML object>",
      "text/html": "Grid Search (previously) found the following optimal parameters: "
     },
     "metadata": {}
    },
    {
     "output_type": "display_data",
     "data": {
      "text/plain": "<IPython.core.display.HTML object>",
      "text/html": "<pre>\tlearning_rate: 0.3\n\tmax_depth: 3\n\tmin_child_weight: 1\n\tsubsample: 1\n\tgamma: 1\n\tn_estimators: 100\n\tn_jobs: -1\n</pre>"
     },
     "metadata": {}
    },
    {
     "output_type": "display_data",
     "data": {
      "text/plain": "<IPython.core.display.HTML object>",
      "text/html": "<p><br>"
     },
     "metadata": {}
    },
    {
     "output_type": "display_data",
     "data": {
      "text/plain": "<IPython.core.display.HTML object>",
      "text/html": "Fitting classifer..."
     },
     "metadata": {}
    },
    {
     "output_type": "stream",
     "name": "stdout",
     "text": "CPU times: user 2min 5s, sys: 1.1 s, total: 2min 6s\nWall time: 19.3 s\n"
    },
    {
     "output_type": "display_data",
     "data": {
      "text/plain": "<IPython.core.display.HTML object>",
      "text/html": "<pre>\tALL DONE!</pre>"
     },
     "metadata": {}
    },
    {
     "output_type": "display_data",
     "data": {
      "text/plain": "<IPython.core.display.HTML object>",
      "text/html": "<p><br>"
     },
     "metadata": {}
    },
    {
     "output_type": "display_data",
     "data": {
      "text/plain": "<IPython.core.display.HTML object>",
      "text/html": "Predicting labels on training data..."
     },
     "metadata": {}
    },
    {
     "output_type": "display_data",
     "data": {
      "text/plain": "<IPython.core.display.HTML object>",
      "text/html": "<pre>\tALL DONE!</pre>"
     },
     "metadata": {}
    },
    {
     "output_type": "display_data",
     "data": {
      "text/plain": "<IPython.core.display.HTML object>",
      "text/html": "<p><br>"
     },
     "metadata": {}
    },
    {
     "output_type": "display_data",
     "data": {
      "text/plain": "<IPython.core.display.HTML object>",
      "text/html": "Training Accuracy: 76.7695"
     },
     "metadata": {}
    },
    {
     "output_type": "display_data",
     "data": {
      "text/plain": "<IPython.core.display.HTML object>",
      "text/html": "<p><br>"
     },
     "metadata": {}
    },
    {
     "output_type": "display_data",
     "data": {
      "text/plain": "<IPython.core.display.HTML object>",
      "text/html": "<pre>                         precision    recall  f1-score   support\n\n             functional       0.74      0.92      0.82     29062\n         non functional       0.66      0.17      0.27      3892\nfunctional needs repair       0.83      0.67      0.74     20506\n\n               accuracy                           0.77     53460\n              macro avg       0.74      0.59      0.61     53460\n           weighted avg       0.77      0.77      0.75     53460\n</pre>"
     },
     "metadata": {}
    },
    {
     "output_type": "display_data",
     "data": {
      "text/plain": "<IPython.core.display.HTML object>",
      "text/html": "<p><br>"
     },
     "metadata": {}
    },
    {
     "output_type": "display_data",
     "data": {
      "text/plain": "<IPython.core.display.HTML object>",
      "text/html": "Computing cross-val score on training data..."
     },
     "metadata": {}
    },
    {
     "output_type": "display_data",
     "data": {
      "text/plain": "<IPython.core.display.HTML object>",
      "text/html": "<pre>\tALL DONE!</pre>"
     },
     "metadata": {}
    },
    {
     "output_type": "display_data",
     "data": {
      "text/plain": "<IPython.core.display.HTML object>",
      "text/html": "cross_val_score: 0.7607557052001496"
     },
     "metadata": {}
    },
    {
     "output_type": "display_data",
     "data": {
      "text/plain": "<IPython.core.display.HTML object>",
      "text/html": "<p><br>"
     },
     "metadata": {}
    },
    {
     "output_type": "display_data",
     "data": {
      "text/plain": "<IPython.core.display.HTML object>",
      "text/html": "Predicting labels on testing data..."
     },
     "metadata": {}
    },
    {
     "output_type": "display_data",
     "data": {
      "text/plain": "<IPython.core.display.HTML object>",
      "text/html": "<pre>\tALL DONE!</pre>"
     },
     "metadata": {}
    },
    {
     "output_type": "display_data",
     "data": {
      "text/plain": "<IPython.core.display.HTML object>",
      "text/html": "<p><br>"
     },
     "metadata": {}
    },
    {
     "output_type": "display_data",
     "data": {
      "text/plain": "<IPython.core.display.HTML object>",
      "text/html": "Testing Accuracy: 76.0269"
     },
     "metadata": {}
    },
    {
     "output_type": "display_data",
     "data": {
      "text/plain": "<IPython.core.display.HTML object>",
      "text/html": "<p><br>"
     },
     "metadata": {}
    },
    {
     "output_type": "display_data",
     "data": {
      "text/plain": "<IPython.core.display.HTML object>",
      "text/html": "<pre>                         precision    recall  f1-score   support\n\n             functional       0.74      0.90      0.81      3197\n         non functional       0.56      0.16      0.25       425\nfunctional needs repair       0.81      0.68      0.74      2318\n\n               accuracy                           0.76      5940\n              macro avg       0.70      0.58      0.60      5940\n           weighted avg       0.76      0.76      0.74      5940\n</pre>"
     },
     "metadata": {}
    },
    {
     "output_type": "display_data",
     "data": {
      "text/plain": "<IPython.core.display.HTML object>",
      "text/html": "<p><br>"
     },
     "metadata": {}
    },
    {
     "output_type": "display_data",
     "data": {
      "text/plain": "<IPython.core.display.HTML object>",
      "text/html": "Computing cross-val score on testing data..."
     },
     "metadata": {}
    },
    {
     "output_type": "display_data",
     "data": {
      "text/plain": "<IPython.core.display.HTML object>",
      "text/html": "<pre>\tALL DONE!</pre>"
     },
     "metadata": {}
    },
    {
     "output_type": "display_data",
     "data": {
      "text/plain": "<IPython.core.display.HTML object>",
      "text/html": "cross_val_score: 0.7483164983164983"
     },
     "metadata": {}
    },
    {
     "output_type": "display_data",
     "data": {
      "text/plain": "<IPython.core.display.HTML object>",
      "text/html": "trial[2]['gridsearch']['run']: False"
     },
     "metadata": {}
    },
    {
     "output_type": "display_data",
     "data": {
      "text/plain": "<IPython.core.display.HTML object>",
      "text/html": "<p><br>"
     },
     "metadata": {}
    },
    {
     "output_type": "display_data",
     "data": {
      "text/plain": "<IPython.core.display.HTML object>",
      "text/html": "Grid Search (previously) found the following optimal parameters: "
     },
     "metadata": {}
    },
    {
     "output_type": "display_data",
     "data": {
      "text/plain": "<IPython.core.display.HTML object>",
      "text/html": "<pre>\tlearning_rate: 0.3\n\tmax_depth: 10\n\tmin_child_weight: 1\n\tsubsample: 1\n\tgamma: 1\n\tn_estimators: 100\n\tn_jobs: -1\n</pre>"
     },
     "metadata": {}
    },
    {
     "output_type": "display_data",
     "data": {
      "text/plain": "<IPython.core.display.HTML object>",
      "text/html": "<p><br>"
     },
     "metadata": {}
    },
    {
     "output_type": "display_data",
     "data": {
      "text/plain": "<IPython.core.display.HTML object>",
      "text/html": "Fitting classifer..."
     },
     "metadata": {}
    },
    {
     "output_type": "stream",
     "name": "stdout",
     "text": "CPU times: user 5min 12s, sys: 3.11 s, total: 5min 15s\nWall time: 48.3 s\n"
    },
    {
     "output_type": "display_data",
     "data": {
      "text/plain": "<IPython.core.display.HTML object>",
      "text/html": "<pre>\tALL DONE!</pre>"
     },
     "metadata": {}
    },
    {
     "output_type": "display_data",
     "data": {
      "text/plain": "<IPython.core.display.HTML object>",
      "text/html": "<p><br>"
     },
     "metadata": {}
    },
    {
     "output_type": "display_data",
     "data": {
      "text/plain": "<IPython.core.display.HTML object>",
      "text/html": "Predicting labels on training data..."
     },
     "metadata": {}
    },
    {
     "output_type": "display_data",
     "data": {
      "text/plain": "<IPython.core.display.HTML object>",
      "text/html": "<pre>\tALL DONE!</pre>"
     },
     "metadata": {}
    },
    {
     "output_type": "display_data",
     "data": {
      "text/plain": "<IPython.core.display.HTML object>",
      "text/html": "<p><br>"
     },
     "metadata": {}
    },
    {
     "output_type": "display_data",
     "data": {
      "text/plain": "<IPython.core.display.HTML object>",
      "text/html": "Training Accuracy: 89.8709"
     },
     "metadata": {}
    },
    {
     "output_type": "display_data",
     "data": {
      "text/plain": "<IPython.core.display.HTML object>",
      "text/html": "<p><br>"
     },
     "metadata": {}
    },
    {
     "output_type": "display_data",
     "data": {
      "text/plain": "<IPython.core.display.HTML object>",
      "text/html": "<pre>                         precision    recall  f1-score   support\n\n             functional       0.87      0.97      0.92     29062\n         non functional       0.89      0.56      0.69      3892\nfunctional needs repair       0.94      0.86      0.90     20506\n\n               accuracy                           0.90     53460\n              macro avg       0.90      0.80      0.84     53460\n           weighted avg       0.90      0.90      0.90     53460\n</pre>"
     },
     "metadata": {}
    },
    {
     "output_type": "display_data",
     "data": {
      "text/plain": "<IPython.core.display.HTML object>",
      "text/html": "<p><br>"
     },
     "metadata": {}
    },
    {
     "output_type": "display_data",
     "data": {
      "text/plain": "<IPython.core.display.HTML object>",
      "text/html": "Computing cross-val score on training data..."
     },
     "metadata": {}
    },
    {
     "output_type": "display_data",
     "data": {
      "text/plain": "<IPython.core.display.HTML object>",
      "text/html": "<pre>\tALL DONE!</pre>"
     },
     "metadata": {}
    },
    {
     "output_type": "display_data",
     "data": {
      "text/plain": "<IPython.core.display.HTML object>",
      "text/html": "cross_val_score: 0.8010288065843622"
     },
     "metadata": {}
    },
    {
     "output_type": "display_data",
     "data": {
      "text/plain": "<IPython.core.display.HTML object>",
      "text/html": "<p><br>"
     },
     "metadata": {}
    },
    {
     "output_type": "display_data",
     "data": {
      "text/plain": "<IPython.core.display.HTML object>",
      "text/html": "Predicting labels on testing data..."
     },
     "metadata": {}
    },
    {
     "output_type": "display_data",
     "data": {
      "text/plain": "<IPython.core.display.HTML object>",
      "text/html": "<pre>\tALL DONE!</pre>"
     },
     "metadata": {}
    },
    {
     "output_type": "display_data",
     "data": {
      "text/plain": "<IPython.core.display.HTML object>",
      "text/html": "<p><br>"
     },
     "metadata": {}
    },
    {
     "output_type": "display_data",
     "data": {
      "text/plain": "<IPython.core.display.HTML object>",
      "text/html": "Testing Accuracy: 79.6128"
     },
     "metadata": {}
    },
    {
     "output_type": "display_data",
     "data": {
      "text/plain": "<IPython.core.display.HTML object>",
      "text/html": "<p><br>"
     },
     "metadata": {}
    },
    {
     "output_type": "display_data",
     "data": {
      "text/plain": "<IPython.core.display.HTML object>",
      "text/html": "<pre>                         precision    recall  f1-score   support\n\n             functional       0.79      0.88      0.84      3197\n         non functional       0.56      0.28      0.37       425\nfunctional needs repair       0.83      0.77      0.80      2318\n\n               accuracy                           0.80      5940\n              macro avg       0.73      0.64      0.67      5940\n           weighted avg       0.79      0.80      0.79      5940\n</pre>"
     },
     "metadata": {}
    },
    {
     "output_type": "display_data",
     "data": {
      "text/plain": "<IPython.core.display.HTML object>",
      "text/html": "<p><br>"
     },
     "metadata": {}
    },
    {
     "output_type": "display_data",
     "data": {
      "text/plain": "<IPython.core.display.HTML object>",
      "text/html": "Computing cross-val score on testing data..."
     },
     "metadata": {}
    },
    {
     "output_type": "display_data",
     "data": {
      "text/plain": "<IPython.core.display.HTML object>",
      "text/html": "<pre>\tALL DONE!</pre>"
     },
     "metadata": {}
    },
    {
     "output_type": "display_data",
     "data": {
      "text/plain": "<IPython.core.display.HTML object>",
      "text/html": "cross_val_score: 0.7602693602693602"
     },
     "metadata": {}
    },
    {
     "output_type": "display_data",
     "data": {
      "text/plain": "<IPython.core.display.HTML object>",
      "text/html": "trial[3]['gridsearch']['run']: False"
     },
     "metadata": {}
    },
    {
     "output_type": "display_data",
     "data": {
      "text/plain": "<IPython.core.display.HTML object>",
      "text/html": "<p><br>"
     },
     "metadata": {}
    },
    {
     "output_type": "display_data",
     "data": {
      "text/plain": "<IPython.core.display.HTML object>",
      "text/html": "Grid Search (previously) found the following optimal parameters: "
     },
     "metadata": {}
    },
    {
     "output_type": "display_data",
     "data": {
      "text/plain": "<IPython.core.display.HTML object>",
      "text/html": "<pre>\tlearning_rate: 0.3\n\tmax_depth: 10\n\tmin_child_weight: 1\n\tsubsample: 1\n\tgamma: 1\n\tn_estimators: 100\n\tn_jobs: -1\n</pre>"
     },
     "metadata": {}
    },
    {
     "output_type": "display_data",
     "data": {
      "text/plain": "<IPython.core.display.HTML object>",
      "text/html": "<p><br>"
     },
     "metadata": {}
    },
    {
     "output_type": "display_data",
     "data": {
      "text/plain": "<IPython.core.display.HTML object>",
      "text/html": "Fitting classifer..."
     },
     "metadata": {}
    },
    {
     "output_type": "stream",
     "name": "stdout",
     "text": "CPU times: user 5min 14s, sys: 3.3 s, total: 5min 18s\nWall time: 51.6 s\n"
    },
    {
     "output_type": "display_data",
     "data": {
      "text/plain": "<IPython.core.display.HTML object>",
      "text/html": "<pre>\tALL DONE!</pre>"
     },
     "metadata": {}
    },
    {
     "output_type": "display_data",
     "data": {
      "text/plain": "<IPython.core.display.HTML object>",
      "text/html": "<p><br>"
     },
     "metadata": {}
    },
    {
     "output_type": "display_data",
     "data": {
      "text/plain": "<IPython.core.display.HTML object>",
      "text/html": "Predicting labels on training data..."
     },
     "metadata": {}
    },
    {
     "output_type": "display_data",
     "data": {
      "text/plain": "<IPython.core.display.HTML object>",
      "text/html": "<pre>\tALL DONE!</pre>"
     },
     "metadata": {}
    },
    {
     "output_type": "display_data",
     "data": {
      "text/plain": "<IPython.core.display.HTML object>",
      "text/html": "<p><br>"
     },
     "metadata": {}
    },
    {
     "output_type": "display_data",
     "data": {
      "text/plain": "<IPython.core.display.HTML object>",
      "text/html": "Training Accuracy: 89.8709"
     },
     "metadata": {}
    },
    {
     "output_type": "display_data",
     "data": {
      "text/plain": "<IPython.core.display.HTML object>",
      "text/html": "<p><br>"
     },
     "metadata": {}
    },
    {
     "output_type": "display_data",
     "data": {
      "text/plain": "<IPython.core.display.HTML object>",
      "text/html": "<pre>                         precision    recall  f1-score   support\n\n             functional       0.87      0.97      0.92     29062\n         non functional       0.89      0.56      0.69      3892\nfunctional needs repair       0.94      0.86      0.90     20506\n\n               accuracy                           0.90     53460\n              macro avg       0.90      0.80      0.84     53460\n           weighted avg       0.90      0.90      0.90     53460\n</pre>"
     },
     "metadata": {}
    },
    {
     "output_type": "display_data",
     "data": {
      "text/plain": "<IPython.core.display.HTML object>",
      "text/html": "<p><br>"
     },
     "metadata": {}
    },
    {
     "output_type": "display_data",
     "data": {
      "text/plain": "<IPython.core.display.HTML object>",
      "text/html": "Computing cross-val score on training data..."
     },
     "metadata": {}
    },
    {
     "output_type": "display_data",
     "data": {
      "text/plain": "<IPython.core.display.HTML object>",
      "text/html": "<pre>\tALL DONE!</pre>"
     },
     "metadata": {}
    },
    {
     "output_type": "display_data",
     "data": {
      "text/plain": "<IPython.core.display.HTML object>",
      "text/html": "cross_val_score: 0.8010288065843622"
     },
     "metadata": {}
    },
    {
     "output_type": "display_data",
     "data": {
      "text/plain": "<IPython.core.display.HTML object>",
      "text/html": "<p><br>"
     },
     "metadata": {}
    },
    {
     "output_type": "display_data",
     "data": {
      "text/plain": "<IPython.core.display.HTML object>",
      "text/html": "Predicting labels on testing data..."
     },
     "metadata": {}
    },
    {
     "output_type": "display_data",
     "data": {
      "text/plain": "<IPython.core.display.HTML object>",
      "text/html": "<pre>\tALL DONE!</pre>"
     },
     "metadata": {}
    },
    {
     "output_type": "display_data",
     "data": {
      "text/plain": "<IPython.core.display.HTML object>",
      "text/html": "<p><br>"
     },
     "metadata": {}
    },
    {
     "output_type": "display_data",
     "data": {
      "text/plain": "<IPython.core.display.HTML object>",
      "text/html": "Testing Accuracy: 79.6128"
     },
     "metadata": {}
    },
    {
     "output_type": "display_data",
     "data": {
      "text/plain": "<IPython.core.display.HTML object>",
      "text/html": "<p><br>"
     },
     "metadata": {}
    },
    {
     "output_type": "display_data",
     "data": {
      "text/plain": "<IPython.core.display.HTML object>",
      "text/html": "<pre>                         precision    recall  f1-score   support\n\n             functional       0.79      0.88      0.84      3197\n         non functional       0.56      0.28      0.37       425\nfunctional needs repair       0.83      0.77      0.80      2318\n\n               accuracy                           0.80      5940\n              macro avg       0.73      0.64      0.67      5940\n           weighted avg       0.79      0.80      0.79      5940\n</pre>"
     },
     "metadata": {}
    },
    {
     "output_type": "display_data",
     "data": {
      "text/plain": "<IPython.core.display.HTML object>",
      "text/html": "<p><br>"
     },
     "metadata": {}
    },
    {
     "output_type": "display_data",
     "data": {
      "text/plain": "<IPython.core.display.HTML object>",
      "text/html": "Computing cross-val score on testing data..."
     },
     "metadata": {}
    },
    {
     "output_type": "display_data",
     "data": {
      "text/plain": "<IPython.core.display.HTML object>",
      "text/html": "<pre>\tALL DONE!</pre>"
     },
     "metadata": {}
    },
    {
     "output_type": "display_data",
     "data": {
      "text/plain": "<IPython.core.display.HTML object>",
      "text/html": "cross_val_score: 0.7602693602693602"
     },
     "metadata": {}
    },
    {
     "output_type": "display_data",
     "data": {
      "text/plain": "<IPython.core.display.HTML object>",
      "text/html": "trial[4]['gridsearch']['run']: True"
     },
     "metadata": {}
    },
    {
     "output_type": "display_data",
     "data": {
      "text/plain": "<IPython.core.display.HTML object>",
      "text/html": "param_grid for <class 'xgboost.sklearn.XGBClassifier'> GridSearch:<br><pre>{'learning_rate': [0.3], 'max_depth': [10], 'min_child_weight': [1], 'subsample': [0.1, 0.25, 0.5, 1.0], 'gamma': [1], 'n_estimators': [100], 'n_jobs': [-1]}</pre>"
     },
     "metadata": {}
    },
    {
     "output_type": "stream",
     "name": "stdout",
     "text": "Fitting 3 folds for each of 4 candidates, totalling 12 fits\n[Parallel(n_jobs=-1)]: Using backend LokyBackend with 8 concurrent workers.\n[Parallel(n_jobs=-1)]: Done   1 tasks      | elapsed:  2.9min\n[Parallel(n_jobs=-1)]: Done   2 out of  12 | elapsed:  3.0min remaining: 14.8min\n[Parallel(n_jobs=-1)]: Done   3 out of  12 | elapsed:  3.0min remaining:  8.9min\n[Parallel(n_jobs=-1)]: Done   4 out of  12 | elapsed:  3.7min remaining:  7.5min\n[Parallel(n_jobs=-1)]: Done   5 out of  12 | elapsed:  3.7min remaining:  5.2min\n[Parallel(n_jobs=-1)]: Done   6 out of  12 | elapsed:  3.7min remaining:  3.7min\n[Parallel(n_jobs=-1)]: Done   7 out of  12 | elapsed:  4.5min remaining:  3.2min\n[Parallel(n_jobs=-1)]: Done   8 out of  12 | elapsed:  4.5min remaining:  2.3min\n[Parallel(n_jobs=-1)]: Done   9 out of  12 | elapsed:  5.8min remaining:  1.9min\n[Parallel(n_jobs=-1)]: Done  10 out of  12 | elapsed:  5.9min remaining:  1.2min\n[Parallel(n_jobs=-1)]: Done  12 out of  12 | elapsed:  6.3min remaining:    0.0s\n[Parallel(n_jobs=-1)]: Done  12 out of  12 | elapsed:  6.3min finished\nCPU times: user 5min 11s, sys: 2.89 s, total: 5min 14s\nWall time: 7min 6s\n"
    },
    {
     "output_type": "display_data",
     "data": {
      "text/plain": "<IPython.core.display.HTML object>",
      "text/html": "<p><br>"
     },
     "metadata": {}
    },
    {
     "output_type": "display_data",
     "data": {
      "text/plain": "<IPython.core.display.HTML object>",
      "text/html": "Grid Search found the following optimal parameters: "
     },
     "metadata": {}
    },
    {
     "output_type": "display_data",
     "data": {
      "text/plain": "<IPython.core.display.HTML object>",
      "text/html": "<pre>\tgamma: 1\n\tlearning_rate: 0.3\n\tmax_depth: 10\n\tmin_child_weight: 1\n\tn_estimators: 100\n\tn_jobs: -1\n\tsubsample: 1.0\n</pre>"
     },
     "metadata": {}
    },
    {
     "output_type": "display_data",
     "data": {
      "text/plain": "<IPython.core.display.HTML object>",
      "text/html": "<p><br>"
     },
     "metadata": {}
    },
    {
     "output_type": "display_data",
     "data": {
      "text/plain": "<IPython.core.display.HTML object>",
      "text/html": "Fitting classifer..."
     },
     "metadata": {}
    },
    {
     "output_type": "stream",
     "name": "stdout",
     "text": "CPU times: user 5min 12s, sys: 2.37 s, total: 5min 14s\nWall time: 46.1 s\n"
    },
    {
     "output_type": "display_data",
     "data": {
      "text/plain": "<IPython.core.display.HTML object>",
      "text/html": "<pre>\tALL DONE!</pre>"
     },
     "metadata": {}
    },
    {
     "output_type": "display_data",
     "data": {
      "text/plain": "<IPython.core.display.HTML object>",
      "text/html": "<p><br>"
     },
     "metadata": {}
    },
    {
     "output_type": "display_data",
     "data": {
      "text/plain": "<IPython.core.display.HTML object>",
      "text/html": "Predicting labels on training data..."
     },
     "metadata": {}
    },
    {
     "output_type": "display_data",
     "data": {
      "text/plain": "<IPython.core.display.HTML object>",
      "text/html": "<pre>\tALL DONE!</pre>"
     },
     "metadata": {}
    },
    {
     "output_type": "display_data",
     "data": {
      "text/plain": "<IPython.core.display.HTML object>",
      "text/html": "<p><br>"
     },
     "metadata": {}
    },
    {
     "output_type": "display_data",
     "data": {
      "text/plain": "<IPython.core.display.HTML object>",
      "text/html": "Training Accuracy: 89.8709"
     },
     "metadata": {}
    },
    {
     "output_type": "display_data",
     "data": {
      "text/plain": "<IPython.core.display.HTML object>",
      "text/html": "<p><br>"
     },
     "metadata": {}
    },
    {
     "output_type": "display_data",
     "data": {
      "text/plain": "<IPython.core.display.HTML object>",
      "text/html": "<pre>                         precision    recall  f1-score   support\n\n             functional       0.87      0.97      0.92     29062\n         non functional       0.89      0.56      0.69      3892\nfunctional needs repair       0.94      0.86      0.90     20506\n\n               accuracy                           0.90     53460\n              macro avg       0.90      0.80      0.84     53460\n           weighted avg       0.90      0.90      0.90     53460\n</pre>"
     },
     "metadata": {}
    },
    {
     "output_type": "display_data",
     "data": {
      "text/plain": "<IPython.core.display.HTML object>",
      "text/html": "<p><br>"
     },
     "metadata": {}
    },
    {
     "output_type": "display_data",
     "data": {
      "text/plain": "<IPython.core.display.HTML object>",
      "text/html": "Computing cross-val score on training data..."
     },
     "metadata": {}
    },
    {
     "output_type": "display_data",
     "data": {
      "text/plain": "<IPython.core.display.HTML object>",
      "text/html": "<pre>\tALL DONE!</pre>"
     },
     "metadata": {}
    },
    {
     "output_type": "display_data",
     "data": {
      "text/plain": "<IPython.core.display.HTML object>",
      "text/html": "cross_val_score: 0.8010288065843622"
     },
     "metadata": {}
    },
    {
     "output_type": "display_data",
     "data": {
      "text/plain": "<IPython.core.display.HTML object>",
      "text/html": "<p><br>"
     },
     "metadata": {}
    },
    {
     "output_type": "display_data",
     "data": {
      "text/plain": "<IPython.core.display.HTML object>",
      "text/html": "Predicting labels on testing data..."
     },
     "metadata": {}
    },
    {
     "output_type": "display_data",
     "data": {
      "text/plain": "<IPython.core.display.HTML object>",
      "text/html": "<pre>\tALL DONE!</pre>"
     },
     "metadata": {}
    },
    {
     "output_type": "display_data",
     "data": {
      "text/plain": "<IPython.core.display.HTML object>",
      "text/html": "<p><br>"
     },
     "metadata": {}
    },
    {
     "output_type": "display_data",
     "data": {
      "text/plain": "<IPython.core.display.HTML object>",
      "text/html": "Testing Accuracy: 79.6128"
     },
     "metadata": {}
    },
    {
     "output_type": "display_data",
     "data": {
      "text/plain": "<IPython.core.display.HTML object>",
      "text/html": "<p><br>"
     },
     "metadata": {}
    },
    {
     "output_type": "display_data",
     "data": {
      "text/plain": "<IPython.core.display.HTML object>",
      "text/html": "<pre>                         precision    recall  f1-score   support\n\n             functional       0.79      0.88      0.84      3197\n         non functional       0.56      0.28      0.37       425\nfunctional needs repair       0.83      0.77      0.80      2318\n\n               accuracy                           0.80      5940\n              macro avg       0.73      0.64      0.67      5940\n           weighted avg       0.79      0.80      0.79      5940\n</pre>"
     },
     "metadata": {}
    },
    {
     "output_type": "display_data",
     "data": {
      "text/plain": "<IPython.core.display.HTML object>",
      "text/html": "<p><br>"
     },
     "metadata": {}
    },
    {
     "output_type": "display_data",
     "data": {
      "text/plain": "<IPython.core.display.HTML object>",
      "text/html": "Computing cross-val score on testing data..."
     },
     "metadata": {}
    },
    {
     "output_type": "display_data",
     "data": {
      "text/plain": "<IPython.core.display.HTML object>",
      "text/html": "<pre>\tALL DONE!</pre>"
     },
     "metadata": {}
    },
    {
     "output_type": "display_data",
     "data": {
      "text/plain": "<IPython.core.display.HTML object>",
      "text/html": "cross_val_score: 0.7602693602693602"
     },
     "metadata": {}
    },
    {
     "output_type": "display_data",
     "data": {
      "text/plain": "<IPython.core.display.HTML object>",
      "text/html": "trial[5]['gridsearch']['run']: False"
     },
     "metadata": {}
    },
    {
     "output_type": "display_data",
     "data": {
      "text/plain": "<IPython.core.display.HTML object>",
      "text/html": "<p><br>"
     },
     "metadata": {}
    },
    {
     "output_type": "display_data",
     "data": {
      "text/plain": "<IPython.core.display.HTML object>",
      "text/html": "Grid Search (previously) found the following optimal parameters: "
     },
     "metadata": {}
    },
    {
     "output_type": "display_data",
     "data": {
      "text/plain": "<IPython.core.display.HTML object>",
      "text/html": "<pre>\tlearning_rate: 0.3\n\tmax_depth: 10\n\tmin_child_weight: 1\n\tsubsample: 1\n\tgamma: 1\n\tn_estimators: 100\n\tn_jobs: -1\n</pre>"
     },
     "metadata": {}
    },
    {
     "output_type": "display_data",
     "data": {
      "text/plain": "<IPython.core.display.HTML object>",
      "text/html": "<p><br>"
     },
     "metadata": {}
    },
    {
     "output_type": "display_data",
     "data": {
      "text/plain": "<IPython.core.display.HTML object>",
      "text/html": "Fitting classifer..."
     },
     "metadata": {}
    },
    {
     "output_type": "stream",
     "name": "stdout",
     "text": "CPU times: user 5min 8s, sys: 3.39 s, total: 5min 11s\nWall time: 57.5 s\n"
    },
    {
     "output_type": "display_data",
     "data": {
      "text/plain": "<IPython.core.display.HTML object>",
      "text/html": "<pre>\tALL DONE!</pre>"
     },
     "metadata": {}
    },
    {
     "output_type": "display_data",
     "data": {
      "text/plain": "<IPython.core.display.HTML object>",
      "text/html": "<p><br>"
     },
     "metadata": {}
    },
    {
     "output_type": "display_data",
     "data": {
      "text/plain": "<IPython.core.display.HTML object>",
      "text/html": "Predicting labels on training data..."
     },
     "metadata": {}
    },
    {
     "output_type": "display_data",
     "data": {
      "text/plain": "<IPython.core.display.HTML object>",
      "text/html": "<pre>\tALL DONE!</pre>"
     },
     "metadata": {}
    },
    {
     "output_type": "display_data",
     "data": {
      "text/plain": "<IPython.core.display.HTML object>",
      "text/html": "<p><br>"
     },
     "metadata": {}
    },
    {
     "output_type": "display_data",
     "data": {
      "text/plain": "<IPython.core.display.HTML object>",
      "text/html": "Training Accuracy: 89.8709"
     },
     "metadata": {}
    },
    {
     "output_type": "display_data",
     "data": {
      "text/plain": "<IPython.core.display.HTML object>",
      "text/html": "<p><br>"
     },
     "metadata": {}
    },
    {
     "output_type": "display_data",
     "data": {
      "text/plain": "<IPython.core.display.HTML object>",
      "text/html": "<pre>                         precision    recall  f1-score   support\n\n             functional       0.87      0.97      0.92     29062\n         non functional       0.89      0.56      0.69      3892\nfunctional needs repair       0.94      0.86      0.90     20506\n\n               accuracy                           0.90     53460\n              macro avg       0.90      0.80      0.84     53460\n           weighted avg       0.90      0.90      0.90     53460\n</pre>"
     },
     "metadata": {}
    },
    {
     "output_type": "display_data",
     "data": {
      "text/plain": "<IPython.core.display.HTML object>",
      "text/html": "<p><br>"
     },
     "metadata": {}
    },
    {
     "output_type": "display_data",
     "data": {
      "text/plain": "<IPython.core.display.HTML object>",
      "text/html": "Computing cross-val score on training data..."
     },
     "metadata": {}
    },
    {
     "output_type": "display_data",
     "data": {
      "text/plain": "<IPython.core.display.HTML object>",
      "text/html": "<pre>\tALL DONE!</pre>"
     },
     "metadata": {}
    },
    {
     "output_type": "display_data",
     "data": {
      "text/plain": "<IPython.core.display.HTML object>",
      "text/html": "cross_val_score: 0.8010288065843622"
     },
     "metadata": {}
    },
    {
     "output_type": "display_data",
     "data": {
      "text/plain": "<IPython.core.display.HTML object>",
      "text/html": "<p><br>"
     },
     "metadata": {}
    },
    {
     "output_type": "display_data",
     "data": {
      "text/plain": "<IPython.core.display.HTML object>",
      "text/html": "Predicting labels on testing data..."
     },
     "metadata": {}
    },
    {
     "output_type": "display_data",
     "data": {
      "text/plain": "<IPython.core.display.HTML object>",
      "text/html": "<pre>\tALL DONE!</pre>"
     },
     "metadata": {}
    },
    {
     "output_type": "display_data",
     "data": {
      "text/plain": "<IPython.core.display.HTML object>",
      "text/html": "<p><br>"
     },
     "metadata": {}
    },
    {
     "output_type": "display_data",
     "data": {
      "text/plain": "<IPython.core.display.HTML object>",
      "text/html": "Testing Accuracy: 79.6128"
     },
     "metadata": {}
    },
    {
     "output_type": "display_data",
     "data": {
      "text/plain": "<IPython.core.display.HTML object>",
      "text/html": "<p><br>"
     },
     "metadata": {}
    },
    {
     "output_type": "display_data",
     "data": {
      "text/plain": "<IPython.core.display.HTML object>",
      "text/html": "<pre>                         precision    recall  f1-score   support\n\n             functional       0.79      0.88      0.84      3197\n         non functional       0.56      0.28      0.37       425\nfunctional needs repair       0.83      0.77      0.80      2318\n\n               accuracy                           0.80      5940\n              macro avg       0.73      0.64      0.67      5940\n           weighted avg       0.79      0.80      0.79      5940\n</pre>"
     },
     "metadata": {}
    },
    {
     "output_type": "display_data",
     "data": {
      "text/plain": "<IPython.core.display.HTML object>",
      "text/html": "<p><br>"
     },
     "metadata": {}
    },
    {
     "output_type": "display_data",
     "data": {
      "text/plain": "<IPython.core.display.HTML object>",
      "text/html": "Computing cross-val score on testing data..."
     },
     "metadata": {}
    },
    {
     "output_type": "display_data",
     "data": {
      "text/plain": "<IPython.core.display.HTML object>",
      "text/html": "<pre>\tALL DONE!</pre>"
     },
     "metadata": {}
    },
    {
     "output_type": "display_data",
     "data": {
      "text/plain": "<IPython.core.display.HTML object>",
      "text/html": "cross_val_score: 0.7602693602693602"
     },
     "metadata": {}
    }
   ],
   "source": [
    "trials = models_config['XGBClassifier']['trials']\n",
    "\n",
    "display(HTML(f\"models_config['XGBClassifier']['trials']['run']: {trials['run']}\"))\n",
    "if trials['run']:\n",
    "    trials_list = trials['array']\n",
    "\n",
    "    for i, trial in enumerate(trials_list):\n",
    "        display(HTML(f\"trial[{i}]['gridsearch']['run']: {trial['gridsearch']['run']}\"))\n",
    "        params = trial['gridsearch']['last_best'] if not trial['gridsearch']['run'] else trial['gridsearch']['param_grid']\n",
    "        if trial['gridsearch']['run']:\n",
    "            params.update({'n_jobs': [-1]})\n",
    "        else:\n",
    "            params.update({'n_jobs':-1})\n",
    "        best_parameters = clf_run_trial(XGBClassifier(), params, trial['gridsearch']['run']) # note that best_parameters will be set to those used in the last trial\n",
    "\n",
    "else:\n",
    "    best_parameters = models_config['RandomForestClassifier']['params']"
   ]
  },
  {
   "cell_type": "markdown",
   "metadata": {},
   "source": [
    "<p><br>\n",
    "<h4>Build Final Model with best params</h4>"
   ]
  },
  {
   "cell_type": "code",
   "execution_count": 18,
   "metadata": {},
   "outputs": [
    {
     "output_type": "display_data",
     "data": {
      "text/plain": "<IPython.core.display.HTML object>",
      "text/html": "<p><br>"
     },
     "metadata": {}
    },
    {
     "output_type": "display_data",
     "data": {
      "text/plain": "<IPython.core.display.HTML object>",
      "text/html": "Grid Search (previously) found the following optimal parameters: "
     },
     "metadata": {}
    },
    {
     "output_type": "display_data",
     "data": {
      "text/plain": "<IPython.core.display.HTML object>",
      "text/html": "<pre>\tlearning_rate: 0.3\n\tmax_depth: 10\n\tmin_child_weight: 1\n\tsubsample: 1\n\tgamma: 1\n\tn_estimators: 100\n\tn_jobs: -1\n\tverbose: 1\n</pre>"
     },
     "metadata": {}
    },
    {
     "output_type": "display_data",
     "data": {
      "text/plain": "<IPython.core.display.HTML object>",
      "text/html": "<p><br>"
     },
     "metadata": {}
    },
    {
     "output_type": "display_data",
     "data": {
      "text/plain": "<IPython.core.display.HTML object>",
      "text/html": "Fitting classifer..."
     },
     "metadata": {}
    },
    {
     "output_type": "stream",
     "name": "stdout",
     "text": "CPU times: user 5min 17s, sys: 4.5 s, total: 5min 22s\nWall time: 1min 10s\n"
    },
    {
     "output_type": "display_data",
     "data": {
      "text/plain": "<IPython.core.display.HTML object>",
      "text/html": "<pre>\tALL DONE!</pre>"
     },
     "metadata": {}
    },
    {
     "output_type": "display_data",
     "data": {
      "text/plain": "<IPython.core.display.HTML object>",
      "text/html": "<p><br>"
     },
     "metadata": {}
    },
    {
     "output_type": "display_data",
     "data": {
      "text/plain": "<IPython.core.display.HTML object>",
      "text/html": "Predicting labels on training data..."
     },
     "metadata": {}
    },
    {
     "output_type": "display_data",
     "data": {
      "text/plain": "<IPython.core.display.HTML object>",
      "text/html": "<pre>\tALL DONE!</pre>"
     },
     "metadata": {}
    },
    {
     "output_type": "display_data",
     "data": {
      "text/plain": "<IPython.core.display.HTML object>",
      "text/html": "<p><br>"
     },
     "metadata": {}
    },
    {
     "output_type": "display_data",
     "data": {
      "text/plain": "<IPython.core.display.HTML object>",
      "text/html": "Training Accuracy: 89.8709"
     },
     "metadata": {}
    },
    {
     "output_type": "display_data",
     "data": {
      "text/plain": "<IPython.core.display.HTML object>",
      "text/html": "<p><br>"
     },
     "metadata": {}
    },
    {
     "output_type": "display_data",
     "data": {
      "text/plain": "<IPython.core.display.HTML object>",
      "text/html": "<pre>                         precision    recall  f1-score   support\n\n             functional       0.87      0.97      0.92     29062\n         non functional       0.89      0.56      0.69      3892\nfunctional needs repair       0.94      0.86      0.90     20506\n\n               accuracy                           0.90     53460\n              macro avg       0.90      0.80      0.84     53460\n           weighted avg       0.90      0.90      0.90     53460\n</pre>"
     },
     "metadata": {}
    },
    {
     "output_type": "display_data",
     "data": {
      "text/plain": "<IPython.core.display.HTML object>",
      "text/html": "<p><br>"
     },
     "metadata": {}
    },
    {
     "output_type": "display_data",
     "data": {
      "text/plain": "<IPython.core.display.HTML object>",
      "text/html": "Computing cross-val score on training data..."
     },
     "metadata": {}
    },
    {
     "output_type": "display_data",
     "data": {
      "text/plain": "<IPython.core.display.HTML object>",
      "text/html": "<pre>\tALL DONE!</pre>"
     },
     "metadata": {}
    },
    {
     "output_type": "display_data",
     "data": {
      "text/plain": "<IPython.core.display.HTML object>",
      "text/html": "cross_val_score: 0.8010288065843622"
     },
     "metadata": {}
    },
    {
     "output_type": "display_data",
     "data": {
      "text/plain": "<IPython.core.display.HTML object>",
      "text/html": "<p><br>"
     },
     "metadata": {}
    },
    {
     "output_type": "display_data",
     "data": {
      "text/plain": "<IPython.core.display.HTML object>",
      "text/html": "Predicting labels on testing data..."
     },
     "metadata": {}
    },
    {
     "output_type": "display_data",
     "data": {
      "text/plain": "<IPython.core.display.HTML object>",
      "text/html": "<pre>\tALL DONE!</pre>"
     },
     "metadata": {}
    },
    {
     "output_type": "display_data",
     "data": {
      "text/plain": "<IPython.core.display.HTML object>",
      "text/html": "<p><br>"
     },
     "metadata": {}
    },
    {
     "output_type": "display_data",
     "data": {
      "text/plain": "<IPython.core.display.HTML object>",
      "text/html": "Testing Accuracy: 79.6128"
     },
     "metadata": {}
    },
    {
     "output_type": "display_data",
     "data": {
      "text/plain": "<IPython.core.display.HTML object>",
      "text/html": "<p><br>"
     },
     "metadata": {}
    },
    {
     "output_type": "display_data",
     "data": {
      "text/plain": "<IPython.core.display.HTML object>",
      "text/html": "<pre>                         precision    recall  f1-score   support\n\n             functional       0.79      0.88      0.84      3197\n         non functional       0.56      0.28      0.37       425\nfunctional needs repair       0.83      0.77      0.80      2318\n\n               accuracy                           0.80      5940\n              macro avg       0.73      0.64      0.67      5940\n           weighted avg       0.79      0.80      0.79      5940\n</pre>"
     },
     "metadata": {}
    },
    {
     "output_type": "display_data",
     "data": {
      "text/plain": "<IPython.core.display.HTML object>",
      "text/html": "<p><br>"
     },
     "metadata": {}
    },
    {
     "output_type": "display_data",
     "data": {
      "text/plain": "<IPython.core.display.HTML object>",
      "text/html": "Computing cross-val score on testing data..."
     },
     "metadata": {}
    },
    {
     "output_type": "display_data",
     "data": {
      "text/plain": "<IPython.core.display.HTML object>",
      "text/html": "<pre>\tALL DONE!</pre>"
     },
     "metadata": {}
    },
    {
     "output_type": "display_data",
     "data": {
      "text/plain": "<IPython.core.display.HTML object>",
      "text/html": "cross_val_score: 0.7602693602693602"
     },
     "metadata": {}
    }
   ],
   "source": [
    "best_parameters.update({'n_jobs':-1, 'verbose':1})\n",
    "clf_run_trial(XGBClassifier(), best_parameters, run_trials_gridsearch=False);"
   ]
  }
 ],
 "metadata": {
  "language_info": {
   "codemirror_mode": {
    "name": "ipython",
    "version": 3
   },
   "file_extension": ".py",
   "mimetype": "text/x-python",
   "name": "python",
   "nbconvert_exporter": "python",
   "pygments_lexer": "ipython3",
   "version": "3.7.7-final"
  },
  "orig_nbformat": 2,
  "kernelspec": {
   "name": "python361064bitlearnenvconda6dc930ea082b425c82fd8a0b2d571658",
   "display_name": "Python 3.6.10 64-bit ('learn-env': conda)"
  }
 },
 "nbformat": 4,
 "nbformat_minor": 2
}
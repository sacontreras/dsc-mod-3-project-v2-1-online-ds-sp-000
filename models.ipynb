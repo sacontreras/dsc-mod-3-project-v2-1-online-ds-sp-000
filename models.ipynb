{
 "cells": [
  {
   "cell_type": "markdown",
   "metadata": {},
   "source": [
    "<h2>Import Libraries</h2>"
   ]
  },
  {
   "cell_type": "code",
   "execution_count": 1,
   "metadata": {},
   "outputs": [],
   "source": [
    "import pandas as pd\n",
    "\n",
    "from sklearn.model_selection import GridSearchCV, cross_val_score\n",
    "import dask_ml.model_selection as dcv\n",
    "from dask.distributed import Client\n",
    "import joblib\n",
    "\n",
    "from sklearn.ensemble import BaggingClassifier, RandomForestClassifier\n",
    "from sklearn.multioutput import MultiOutputClassifier\n",
    "import xgboost as xgb\n",
    "from xgboost import XGBClassifier\n",
    "from sklearn.metrics import classification_report\n",
    "from sklearn.metrics import accuracy_score\n",
    "\n",
    "%load_ext autoreload\n",
    "%autoreload 2"
   ]
  },
  {
   "cell_type": "markdown",
   "metadata": {},
   "source": [
    "<p><br>\n",
    "<h2>Load TEST/TRAIN Data</h2>"
   ]
  },
  {
   "cell_type": "code",
   "execution_count": 2,
   "metadata": {},
   "outputs": [],
   "source": [
    "SEED = 42"
   ]
  },
  {
   "cell_type": "code",
   "execution_count": 3,
   "metadata": {},
   "outputs": [
    {
     "output_type": "stream",
     "name": "stdout",
     "text": "<class 'pandas.core.frame.DataFrame'>\nInt64Index: 47520 entries, 3607 to 56422\nColumns: 1017 entries, installer_cvsmiss to construction_year\ndtypes: float64(1017)\nmemory usage: 369.1 MB\n"
    }
   ],
   "source": [
    "data_train = pd.read_csv('data-train-final.csv', index_col=0)\n",
    "data_train.info()"
   ]
  },
  {
   "cell_type": "code",
   "execution_count": 4,
   "metadata": {},
   "outputs": [
    {
     "output_type": "stream",
     "name": "stdout",
     "text": "<class 'pandas.core.frame.DataFrame'>\nInt64Index: 47520 entries, 3607 to 56422\nData columns (total 1 columns):\n #   Column        Non-Null Count  Dtype \n---  ------        --------------  ----- \n 0   status_group  47520 non-null  object\ndtypes: object(1)\nmemory usage: 742.5+ KB\n"
    }
   ],
   "source": [
    "y_train = pd.read_csv('labels-train-final.csv', index_col=0)\n",
    "y_train.info()"
   ]
  },
  {
   "cell_type": "code",
   "execution_count": 5,
   "metadata": {},
   "outputs": [],
   "source": [
    "classes = y_train.status_group.unique()"
   ]
  },
  {
   "cell_type": "code",
   "execution_count": 6,
   "metadata": {},
   "outputs": [
    {
     "output_type": "stream",
     "name": "stdout",
     "text": "<class 'pandas.core.frame.DataFrame'>\nInt64Index: 11880 entries, 2980 to 41264\nColumns: 1017 entries, installer_cvsmiss to construction_year\ndtypes: float64(1017)\nmemory usage: 92.3 MB\n"
    }
   ],
   "source": [
    "data_test = pd.read_csv('data-test-final.csv', index_col=0)\n",
    "data_test.info()"
   ]
  },
  {
   "cell_type": "code",
   "execution_count": 7,
   "metadata": {},
   "outputs": [
    {
     "output_type": "stream",
     "name": "stdout",
     "text": "<class 'pandas.core.frame.DataFrame'>\nInt64Index: 11880 entries, 2980 to 41264\nData columns (total 1 columns):\n #   Column        Non-Null Count  Dtype \n---  ------        --------------  ----- \n 0   status_group  11880 non-null  object\ndtypes: object(1)\nmemory usage: 185.6+ KB\n"
    }
   ],
   "source": [
    "y_test = pd.read_csv('labels-test-final.csv', index_col=0)\n",
    "y_test.info()"
   ]
  },
  {
   "cell_type": "markdown",
   "metadata": {},
   "source": [
    "<p><br>\n",
    "<h2>Models</h2>\n",
    "\n",
    "<h3>Random Forest Classifier</h3>\n",
    "<h4>Build/Train</h4>"
   ]
  },
  {
   "cell_type": "code",
   "execution_count": 8,
   "metadata": {},
   "outputs": [],
   "source": [
    "# GridSearchCV hyperparameters TUNING\n",
    "param_grid = {\n",
    "  'bootstrap': [True, False],\n",
    "  'criterion': ['entropy', 'gini'],\n",
    "  'max_features': ['auto', 'sqrt', 'log2'],\n",
    "  'max_depth': [50, 100, None],\n",
    "  'n_estimators': [100, 500, 1000], # 100 is default\n",
    "}\n",
    "\n",
    "K = 3\n",
    "\n",
    "clf = RandomForestClassifier()"
   ]
  },
  {
   "cell_type": "code",
   "execution_count": 9,
   "metadata": {},
   "outputs": [
    {
     "output_type": "execute_result",
     "data": {
      "text/plain": "<Client: 'tcp://127.0.0.1:49957' processes=2 threads=16, memory=16.00 GB>",
      "text/html": "<table style=\"border: 2px solid white;\">\n<tr>\n<td style=\"vertical-align: top; border: 0px solid white\">\n<h3 style=\"text-align: left;\">Client</h3>\n<ul style=\"text-align: left; list-style: none; margin: 0; padding: 0;\">\n  <li><b>Scheduler: </b>tcp://127.0.0.1:49957</li>\n  <li><b>Dashboard: </b><a href='http://127.0.0.1:49955/status' target='_blank'>http://127.0.0.1:49955/status</a></li>\n</ul>\n</td>\n<td style=\"vertical-align: top; border: 0px solid white\">\n<h3 style=\"text-align: left;\">Cluster</h3>\n<ul style=\"text-align: left; list-style:none; margin: 0; padding: 0;\">\n  <li><b>Workers: </b>2</li>\n  <li><b>Cores: </b>16</li>\n  <li><b>Memory: </b>16.00 GB</li>\n</ul>\n</td>\n</tr>\n</table>"
     },
     "metadata": {},
     "execution_count": 9
    }
   ],
   "source": [
    "dask_client = Client(n_workers=2, threads_per_worker=8, memory_limit='8GB') #spawns a local cluster; memory_limit is per worker\n",
    "dask_client"
   ]
  },
  {
   "cell_type": "code",
   "execution_count": 10,
   "metadata": {},
   "outputs": [
    {
     "output_type": "stream",
     "name": "stdout",
     "text": "Fitting 3 folds for each of 108 candidates, totalling 324 fits\n[Parallel(n_jobs=-1)]: Using backend DaskDistributedBackend with 16 concurrent workers.\n[Parallel(n_jobs=-1)]: Done   1 tasks      | elapsed:  6.6min\n[Parallel(n_jobs=-1)]: Done   2 tasks      | elapsed:  6.6min\n[Parallel(n_jobs=-1)]: Done   3 tasks      | elapsed:  7.0min\n[Parallel(n_jobs=-1)]: Done   4 tasks      | elapsed:  7.0min\n[Parallel(n_jobs=-1)]: Done   5 tasks      | elapsed:  7.0min\n[Parallel(n_jobs=-1)]: Done   6 tasks      | elapsed:  7.0min\n[Parallel(n_jobs=-1)]: Done   7 tasks      | elapsed:  7.1min\n[Parallel(n_jobs=-1)]: Done   8 tasks      | elapsed:  7.2min\n[Parallel(n_jobs=-1)]: Done   9 tasks      | elapsed:  7.3min\n[Parallel(n_jobs=-1)]: Done  10 tasks      | elapsed:  7.3min\n[Parallel(n_jobs=-1)]: Done  11 tasks      | elapsed:  7.3min\n[Parallel(n_jobs=-1)]: Done  12 tasks      | elapsed:  7.5min\n[Parallel(n_jobs=-1)]: Done  13 tasks      | elapsed: 13.1min\n[Parallel(n_jobs=-1)]: Done  14 tasks      | elapsed: 13.3min\n[Parallel(n_jobs=-1)]: Done  15 tasks      | elapsed: 13.5min\n[Parallel(n_jobs=-1)]: Done  16 tasks      | elapsed: 19.9min\n[Parallel(n_jobs=-1)]: Done  17 tasks      | elapsed: 20.1min\n[Parallel(n_jobs=-1)]: Done  18 tasks      | elapsed: 26.4min\n[Parallel(n_jobs=-1)]: Done  19 tasks      | elapsed: 26.5min\n[Parallel(n_jobs=-1)]: Done  20 tasks      | elapsed: 27.0min\n[Parallel(n_jobs=-1)]: Done  21 tasks      | elapsed: 27.1min\n[Parallel(n_jobs=-1)]: Done  22 tasks      | elapsed: 27.2min\n[Parallel(n_jobs=-1)]: Done  23 tasks      | elapsed: 27.3min\n[Parallel(n_jobs=-1)]: Done  24 tasks      | elapsed: 27.4min\n[Parallel(n_jobs=-1)]: Done  25 tasks      | elapsed: 27.7min\n[Parallel(n_jobs=-1)]: Done  26 tasks      | elapsed: 28.0min\n[Parallel(n_jobs=-1)]: Done  27 tasks      | elapsed: 28.3min\n[Parallel(n_jobs=-1)]: Done  28 tasks      | elapsed: 28.6min\n[Parallel(n_jobs=-1)]: Done  29 tasks      | elapsed: 28.6min\n[Parallel(n_jobs=-1)]: Done  30 tasks      | elapsed: 33.5min\n[Parallel(n_jobs=-1)]: Done  31 tasks      | elapsed: 33.8min\n[Parallel(n_jobs=-1)]: Done  32 tasks      | elapsed: 33.9min\n[Parallel(n_jobs=-1)]: Done  33 tasks      | elapsed: 34.6min\n[Parallel(n_jobs=-1)]: Done  34 tasks      | elapsed: 34.8min\n[Parallel(n_jobs=-1)]: Done  35 tasks      | elapsed: 35.2min\n[Parallel(n_jobs=-1)]: Done  36 tasks      | elapsed: 35.7min\n[Parallel(n_jobs=-1)]: Done  37 tasks      | elapsed: 41.1min\n[Parallel(n_jobs=-1)]: Done  38 tasks      | elapsed: 41.6min\n[Parallel(n_jobs=-1)]: Done  39 tasks      | elapsed: 41.8min\n[Parallel(n_jobs=-1)]: Done  40 tasks      | elapsed: 48.6min\n[Parallel(n_jobs=-1)]: Done  41 tasks      | elapsed: 56.7min\n[Parallel(n_jobs=-1)]: Done  42 tasks      | elapsed: 57.0min\n[Parallel(n_jobs=-1)]: Done  43 tasks      | elapsed: 57.2min\n[Parallel(n_jobs=-1)]: Done  44 tasks      | elapsed: 57.2min\n[Parallel(n_jobs=-1)]: Done  45 tasks      | elapsed: 58.5min\n[Parallel(n_jobs=-1)]: Done  46 tasks      | elapsed: 58.5min\n[Parallel(n_jobs=-1)]: Done  47 tasks      | elapsed: 58.9min\n[Parallel(n_jobs=-1)]: Done  48 tasks      | elapsed: 58.9min\n[Parallel(n_jobs=-1)]: Done  49 tasks      | elapsed: 59.1min\n[Parallel(n_jobs=-1)]: Done  50 tasks      | elapsed: 59.2min\n[Parallel(n_jobs=-1)]: Done  51 tasks      | elapsed: 59.3min\n[Parallel(n_jobs=-1)]: Done  52 tasks      | elapsed: 60.3min\n[Parallel(n_jobs=-1)]: Done  53 tasks      | elapsed: 60.8min\n[Parallel(n_jobs=-1)]: Done  54 tasks      | elapsed: 61.0min\n[Parallel(n_jobs=-1)]: Done  55 tasks      | elapsed: 65.9min\n[Parallel(n_jobs=-1)]: Done  56 tasks      | elapsed: 66.0min\n[Parallel(n_jobs=-1)]: Done  57 tasks      | elapsed: 66.1min\n[Parallel(n_jobs=-1)]: Done  58 tasks      | elapsed: 66.1min\n[Parallel(n_jobs=-1)]: Done  59 tasks      | elapsed: 66.9min\n[Parallel(n_jobs=-1)]: Done  60 tasks      | elapsed: 67.1min\n[Parallel(n_jobs=-1)]: Done  61 tasks      | elapsed: 67.3min\n[Parallel(n_jobs=-1)]: Done  62 tasks      | elapsed: 67.4min\n[Parallel(n_jobs=-1)]: Done  63 tasks      | elapsed: 67.6min\n[Parallel(n_jobs=-1)]: Done  64 tasks      | elapsed: 67.9min\n[Parallel(n_jobs=-1)]: Done  65 tasks      | elapsed: 68.8min\n[Parallel(n_jobs=-1)]: Done  66 tasks      | elapsed: 68.8min\n[Parallel(n_jobs=-1)]: Done  67 tasks      | elapsed: 69.5min\n[Parallel(n_jobs=-1)]: Done  68 tasks      | elapsed: 75.0min\n[Parallel(n_jobs=-1)]: Done  69 tasks      | elapsed: 75.4min\n[Parallel(n_jobs=-1)]: Done  70 tasks      | elapsed: 75.4min\n[Parallel(n_jobs=-1)]: Done  71 tasks      | elapsed: 75.5min\n[Parallel(n_jobs=-1)]: Done  72 tasks      | elapsed: 75.6min\n[Parallel(n_jobs=-1)]: Done  73 tasks      | elapsed: 81.6min\n[Parallel(n_jobs=-1)]: Done  74 tasks      | elapsed: 81.8min\n[Parallel(n_jobs=-1)]: Done  75 tasks      | elapsed: 84.5min\n[Parallel(n_jobs=-1)]: Done  76 tasks      | elapsed: 91.3min\n[Parallel(n_jobs=-1)]: Done  77 tasks      | elapsed: 91.9min\n[Parallel(n_jobs=-1)]: Done  78 tasks      | elapsed: 91.9min\n[Parallel(n_jobs=-1)]: Done  79 tasks      | elapsed: 92.1min\n[Parallel(n_jobs=-1)]: Done  80 tasks      | elapsed: 92.5min\n[Parallel(n_jobs=-1)]: Done  81 tasks      | elapsed: 92.7min\n[Parallel(n_jobs=-1)]: Done  82 tasks      | elapsed: 93.4min\n[Parallel(n_jobs=-1)]: Done  83 tasks      | elapsed: 94.5min\n[Parallel(n_jobs=-1)]: Done  84 tasks      | elapsed: 95.6min\n[Parallel(n_jobs=-1)]: Done  85 tasks      | elapsed: 97.2min\n[Parallel(n_jobs=-1)]: Done  86 tasks      | elapsed: 99.4min\n[Parallel(n_jobs=-1)]: Done  87 tasks      | elapsed: 102.3min\n[Parallel(n_jobs=-1)]: Done  88 tasks      | elapsed: 105.9min\n[Parallel(n_jobs=-1)]: Done  89 tasks      | elapsed: 106.9min\n[Parallel(n_jobs=-1)]: Done  90 tasks      | elapsed: 107.4min\n[Parallel(n_jobs=-1)]: Done  91 tasks      | elapsed: 107.7min\n[Parallel(n_jobs=-1)]: Done  92 tasks      | elapsed: 108.1min\n[Parallel(n_jobs=-1)]: Done  93 tasks      | elapsed: 110.3min\n[Parallel(n_jobs=-1)]: Done  94 tasks      | elapsed: 111.3min\n[Parallel(n_jobs=-1)]: Done  95 tasks      | elapsed: 113.1min\n[Parallel(n_jobs=-1)]: Done  96 tasks      | elapsed: 113.1min\n[Parallel(n_jobs=-1)]: Done  97 tasks      | elapsed: 113.2min\n[Parallel(n_jobs=-1)]: Done  98 tasks      | elapsed: 114.3min\n[Parallel(n_jobs=-1)]: Done  99 tasks      | elapsed: 115.4min\n[Parallel(n_jobs=-1)]: Done 100 tasks      | elapsed: 115.8min\n[Parallel(n_jobs=-1)]: Done 101 tasks      | elapsed: 118.4min\n[Parallel(n_jobs=-1)]: Done 102 tasks      | elapsed: 120.5min\n[Parallel(n_jobs=-1)]: Done 103 tasks      | elapsed: 121.0min\n[Parallel(n_jobs=-1)]: Done 104 tasks      | elapsed: 121.6min\n[Parallel(n_jobs=-1)]: Done 105 tasks      | elapsed: 124.1min\n[Parallel(n_jobs=-1)]: Done 106 tasks      | elapsed: 131.2min\n[Parallel(n_jobs=-1)]: Done 107 tasks      | elapsed: 131.5min\n[Parallel(n_jobs=-1)]: Done 108 tasks      | elapsed: 133.6min\n[Parallel(n_jobs=-1)]: Done 109 tasks      | elapsed: 133.7min\n[Parallel(n_jobs=-1)]: Done 110 tasks      | elapsed: 135.3min\n[Parallel(n_jobs=-1)]: Done 111 tasks      | elapsed: 135.7min\n[Parallel(n_jobs=-1)]: Done 112 tasks      | elapsed: 137.1min\n[Parallel(n_jobs=-1)]: Done 113 tasks      | elapsed: 138.7min\n[Parallel(n_jobs=-1)]: Done 114 tasks      | elapsed: 139.2min\n[Parallel(n_jobs=-1)]: Done 115 tasks      | elapsed: 141.1min\n[Parallel(n_jobs=-1)]: Done 116 tasks      | elapsed: 142.0min\n[Parallel(n_jobs=-1)]: Done 117 tasks      | elapsed: 142.0min\n[Parallel(n_jobs=-1)]: Done 118 tasks      | elapsed: 142.6min\n[Parallel(n_jobs=-1)]: Done 119 tasks      | elapsed: 143.0min\n[Parallel(n_jobs=-1)]: Done 120 tasks      | elapsed: 143.5min\n[Parallel(n_jobs=-1)]: Done 121 tasks      | elapsed: 143.7min\n[Parallel(n_jobs=-1)]: Done 122 tasks      | elapsed: 144.0min\n[Parallel(n_jobs=-1)]: Done 123 tasks      | elapsed: 145.7min\n[Parallel(n_jobs=-1)]: Done 124 tasks      | elapsed: 147.0min\n[Parallel(n_jobs=-1)]: Done 125 tasks      | elapsed: 147.3min\n[Parallel(n_jobs=-1)]: Done 126 tasks      | elapsed: 147.6min\n[Parallel(n_jobs=-1)]: Done 127 tasks      | elapsed: 149.1min\n[Parallel(n_jobs=-1)]: Done 128 tasks      | elapsed: 149.3min\n[Parallel(n_jobs=-1)]: Done 129 tasks      | elapsed: 151.1min\n[Parallel(n_jobs=-1)]: Done 130 tasks      | elapsed: 151.6min\n[Parallel(n_jobs=-1)]: Done 131 tasks      | elapsed: 153.4min\n[Parallel(n_jobs=-1)]: Done 132 tasks      | elapsed: 153.6min\n[Parallel(n_jobs=-1)]: Done 133 tasks      | elapsed: 153.9min\n[Parallel(n_jobs=-1)]: Done 134 tasks      | elapsed: 157.0min\n[Parallel(n_jobs=-1)]: Done 135 tasks      | elapsed: 159.8min\n[Parallel(n_jobs=-1)]: Done 136 tasks      | elapsed: 160.8min\n[Parallel(n_jobs=-1)]: Done 137 tasks      | elapsed: 161.0min\n[Parallel(n_jobs=-1)]: Done 138 tasks      | elapsed: 161.8min\n[Parallel(n_jobs=-1)]: Done 139 tasks      | elapsed: 162.1min\n[Parallel(n_jobs=-1)]: Done 140 tasks      | elapsed: 163.0min\n[Parallel(n_jobs=-1)]: Done 141 tasks      | elapsed: 163.3min\n[Parallel(n_jobs=-1)]: Done 142 tasks      | elapsed: 164.1min\n[Parallel(n_jobs=-1)]: Done 143 tasks      | elapsed: 164.4min\n[Parallel(n_jobs=-1)]: Done 144 tasks      | elapsed: 165.8min\n[Parallel(n_jobs=-1)]: Done 145 tasks      | elapsed: 170.8min\n[Parallel(n_jobs=-1)]: Done 146 tasks      | elapsed: 170.9min\n[Parallel(n_jobs=-1)]: Done 147 tasks      | elapsed: 171.1min\n[Parallel(n_jobs=-1)]: Done 148 tasks      | elapsed: 171.2min\n[Parallel(n_jobs=-1)]: Done 149 tasks      | elapsed: 171.5min\n[Parallel(n_jobs=-1)]: Done 150 tasks      | elapsed: 172.1min\n[Parallel(n_jobs=-1)]: Done 151 tasks      | elapsed: 172.8min\n[Parallel(n_jobs=-1)]: Done 152 tasks      | elapsed: 173.2min\n[Parallel(n_jobs=-1)]: Done 153 tasks      | elapsed: 176.5min\n[Parallel(n_jobs=-1)]: Done 154 tasks      | elapsed: 178.1min\n[Parallel(n_jobs=-1)]: Done 155 tasks      | elapsed: 180.0min\n[Parallel(n_jobs=-1)]: Done 156 tasks      | elapsed: 181.2min\n[Parallel(n_jobs=-1)]: Done 157 tasks      | elapsed: 182.0min\n[Parallel(n_jobs=-1)]: Done 158 tasks      | elapsed: 182.4min\n[Parallel(n_jobs=-1)]: Done 159 tasks      | elapsed: 183.0min\n[Parallel(n_jobs=-1)]: Done 160 tasks      | elapsed: 184.3min\n[Parallel(n_jobs=-1)]: Done 161 tasks      | elapsed: 187.6min\n[Parallel(n_jobs=-1)]: Done 162 tasks      | elapsed: 187.7min\n[Parallel(n_jobs=-1)]: Done 163 tasks      | elapsed: 191.9min\n[Parallel(n_jobs=-1)]: Done 164 tasks      | elapsed: 192.7min\n[Parallel(n_jobs=-1)]: Done 165 tasks      | elapsed: 193.2min\n[Parallel(n_jobs=-1)]: Done 166 tasks      | elapsed: 194.9min\n[Parallel(n_jobs=-1)]: Done 167 tasks      | elapsed: 197.3min\n[Parallel(n_jobs=-1)]: Done 168 tasks      | elapsed: 198.8min\n[Parallel(n_jobs=-1)]: Done 169 tasks      | elapsed: 203.1min\n[Parallel(n_jobs=-1)]: Done 170 tasks      | elapsed: 203.8min\n[Parallel(n_jobs=-1)]: Done 171 tasks      | elapsed: 204.7min\n[Parallel(n_jobs=-1)]: Done 172 tasks      | elapsed: 206.2min\n[Parallel(n_jobs=-1)]: Done 173 tasks      | elapsed: 206.3min\n[Parallel(n_jobs=-1)]: Done 174 tasks      | elapsed: 208.1min\n[Parallel(n_jobs=-1)]: Done 175 tasks      | elapsed: 210.2min\n[Parallel(n_jobs=-1)]: Done 176 tasks      | elapsed: 213.0min\n[Parallel(n_jobs=-1)]: Done 177 tasks      | elapsed: 213.8min\n[Parallel(n_jobs=-1)]: Done 178 tasks      | elapsed: 214.3min\n[Parallel(n_jobs=-1)]: Done 179 tasks      | elapsed: 214.8min\n[Parallel(n_jobs=-1)]: Done 180 tasks      | elapsed: 214.8min\n[Parallel(n_jobs=-1)]: Done 181 tasks      | elapsed: 215.9min\n[Parallel(n_jobs=-1)]: Done 182 tasks      | elapsed: 220.5min\n[Parallel(n_jobs=-1)]: Done 183 tasks      | elapsed: 221.9min\n[Parallel(n_jobs=-1)]: Done 184 tasks      | elapsed: 223.7min\n[Parallel(n_jobs=-1)]: Done 185 tasks      | elapsed: 224.9min\n[Parallel(n_jobs=-1)]: Done 186 tasks      | elapsed: 226.6min\n[Parallel(n_jobs=-1)]: Done 187 tasks      | elapsed: 227.3min\n[Parallel(n_jobs=-1)]: Done 188 tasks      | elapsed: 227.9min\n[Parallel(n_jobs=-1)]: Done 189 tasks      | elapsed: 229.2min\n[Parallel(n_jobs=-1)]: Done 190 tasks      | elapsed: 231.1min\n[Parallel(n_jobs=-1)]: Done 191 tasks      | elapsed: 231.1min\n[Parallel(n_jobs=-1)]: Done 192 tasks      | elapsed: 233.3min\n[Parallel(n_jobs=-1)]: Done 193 tasks      | elapsed: 236.5min\n[Parallel(n_jobs=-1)]: Done 194 tasks      | elapsed: 238.9min\n[Parallel(n_jobs=-1)]: Done 195 tasks      | elapsed: 240.9min\n[Parallel(n_jobs=-1)]: Done 196 tasks      | elapsed: 246.4min\n[Parallel(n_jobs=-1)]: Done 197 tasks      | elapsed: 246.7min\n[Parallel(n_jobs=-1)]: Done 198 tasks      | elapsed: 247.8min\n[Parallel(n_jobs=-1)]: Done 199 tasks      | elapsed: 248.8min\n[Parallel(n_jobs=-1)]: Done 200 tasks      | elapsed: 249.5min\n[Parallel(n_jobs=-1)]: Done 201 tasks      | elapsed: 253.1min\n[Parallel(n_jobs=-1)]: Done 202 tasks      | elapsed: 253.2min\n[Parallel(n_jobs=-1)]: Done 203 tasks      | elapsed: 256.9min\n[Parallel(n_jobs=-1)]: Done 204 tasks      | elapsed: 259.0min\n[Parallel(n_jobs=-1)]: Done 205 tasks      | elapsed: 261.8min\n[Parallel(n_jobs=-1)]: Done 206 tasks      | elapsed: 261.9min\n[Parallel(n_jobs=-1)]: Done 207 tasks      | elapsed: 262.0min\n[Parallel(n_jobs=-1)]: Done 208 tasks      | elapsed: 262.6min\n[Parallel(n_jobs=-1)]: Done 209 tasks      | elapsed: 264.2min\n[Parallel(n_jobs=-1)]: Done 210 tasks      | elapsed: 266.2min\n[Parallel(n_jobs=-1)]: Done 211 tasks      | elapsed: 267.5min\n[Parallel(n_jobs=-1)]: Done 212 tasks      | elapsed: 267.6min\n[Parallel(n_jobs=-1)]: Done 213 tasks      | elapsed: 271.9min\n[Parallel(n_jobs=-1)]: Done 214 tasks      | elapsed: 274.2min\n[Parallel(n_jobs=-1)]: Done 215 tasks      | elapsed: 275.2min\n[Parallel(n_jobs=-1)]: Done 216 tasks      | elapsed: 280.1min\n[Parallel(n_jobs=-1)]: Done 217 tasks      | elapsed: 280.6min\n[Parallel(n_jobs=-1)]: Done 218 tasks      | elapsed: 282.0min\n[Parallel(n_jobs=-1)]: Done 219 tasks      | elapsed: 284.8min\n[Parallel(n_jobs=-1)]: Done 220 tasks      | elapsed: 290.8min\n[Parallel(n_jobs=-1)]: Done 221 tasks      | elapsed: 292.7min\n[Parallel(n_jobs=-1)]: Done 222 tasks      | elapsed: 295.7min\n[Parallel(n_jobs=-1)]: Done 223 tasks      | elapsed: 297.1min\n[Parallel(n_jobs=-1)]: Done 224 tasks      | elapsed: 298.6min\n[Parallel(n_jobs=-1)]: Done 225 tasks      | elapsed: 299.0min\n[Parallel(n_jobs=-1)]: Done 226 tasks      | elapsed: 301.1min\n[Parallel(n_jobs=-1)]: Done 227 tasks      | elapsed: 303.1min\n[Parallel(n_jobs=-1)]: Done 228 tasks      | elapsed: 306.2min\n[Parallel(n_jobs=-1)]: Done 229 tasks      | elapsed: 308.1min\n[Parallel(n_jobs=-1)]: Done 230 tasks      | elapsed: 308.5min\n[Parallel(n_jobs=-1)]: Done 231 tasks      | elapsed: 310.1min\n[Parallel(n_jobs=-1)]: Done 232 tasks      | elapsed: 312.9min\n[Parallel(n_jobs=-1)]: Done 233 tasks      | elapsed: 319.3min\n[Parallel(n_jobs=-1)]: Done 234 tasks      | elapsed: 319.5min\n[Parallel(n_jobs=-1)]: Done 235 tasks      | elapsed: 320.4min\n[Parallel(n_jobs=-1)]: Done 236 tasks      | elapsed: 324.7min\n[Parallel(n_jobs=-1)]: Done 237 tasks      | elapsed: 326.2min\n[Parallel(n_jobs=-1)]: Done 238 tasks      | elapsed: 327.3min\n[Parallel(n_jobs=-1)]: Done 239 tasks      | elapsed: 327.7min\n[Parallel(n_jobs=-1)]: Done 240 tasks      | elapsed: 327.8min\n[Parallel(n_jobs=-1)]: Done 241 tasks      | elapsed: 328.2min\n[Parallel(n_jobs=-1)]: Done 242 tasks      | elapsed: 328.7min\n[Parallel(n_jobs=-1)]: Done 243 tasks      | elapsed: 332.4min\n[Parallel(n_jobs=-1)]: Done 244 tasks      | elapsed: 334.0min\n[Parallel(n_jobs=-1)]: Done 245 tasks      | elapsed: 334.6min\n[Parallel(n_jobs=-1)]: Done 246 tasks      | elapsed: 336.6min\n[Parallel(n_jobs=-1)]: Done 247 tasks      | elapsed: 337.0min\n[Parallel(n_jobs=-1)]: Done 248 tasks      | elapsed: 337.3min\n[Parallel(n_jobs=-1)]: Done 249 tasks      | elapsed: 338.6min\n[Parallel(n_jobs=-1)]: Done 250 tasks      | elapsed: 338.9min\n[Parallel(n_jobs=-1)]: Done 251 tasks      | elapsed: 339.2min\n[Parallel(n_jobs=-1)]: Done 252 tasks      | elapsed: 341.3min\n[Parallel(n_jobs=-1)]: Done 253 tasks      | elapsed: 344.7min\n[Parallel(n_jobs=-1)]: Done 254 tasks      | elapsed: 345.1min\n[Parallel(n_jobs=-1)]: Done 255 tasks      | elapsed: 348.4min\n[Parallel(n_jobs=-1)]: Done 256 tasks      | elapsed: 349.4min\n[Parallel(n_jobs=-1)]: Done 257 tasks      | elapsed: 349.6min\n[Parallel(n_jobs=-1)]: Done 258 tasks      | elapsed: 349.8min\n[Parallel(n_jobs=-1)]: Done 259 tasks      | elapsed: 356.5min\n[Parallel(n_jobs=-1)]: Done 260 tasks      | elapsed: 359.4min\n[Parallel(n_jobs=-1)]: Done 261 tasks      | elapsed: 361.5min\n[Parallel(n_jobs=-1)]: Done 262 tasks      | elapsed: 362.2min\n[Parallel(n_jobs=-1)]: Done 263 tasks      | elapsed: 363.6min\n[Parallel(n_jobs=-1)]: Done 264 tasks      | elapsed: 363.9min\n[Parallel(n_jobs=-1)]: Done 265 tasks      | elapsed: 372.6min\n[Parallel(n_jobs=-1)]: Done 266 tasks      | elapsed: 373.0min\n[Parallel(n_jobs=-1)]: Done 267 tasks      | elapsed: 376.9min\n[Parallel(n_jobs=-1)]: Done 268 tasks      | elapsed: 381.7min\n[Parallel(n_jobs=-1)]: Done 269 tasks      | elapsed: 384.0min\n[Parallel(n_jobs=-1)]: Done 270 tasks      | elapsed: 386.8min\n[Parallel(n_jobs=-1)]: Done 271 tasks      | elapsed: 387.8min\n[Parallel(n_jobs=-1)]: Done 272 tasks      | elapsed: 389.5min\n[Parallel(n_jobs=-1)]: Done 273 tasks      | elapsed: 390.8min\n[Parallel(n_jobs=-1)]: Done 274 tasks      | elapsed: 391.4min\n[Parallel(n_jobs=-1)]: Done 275 tasks      | elapsed: 391.9min\n[Parallel(n_jobs=-1)]: Done 276 tasks      | elapsed: 393.0min\n[Parallel(n_jobs=-1)]: Done 277 tasks      | elapsed: 393.5min\n[Parallel(n_jobs=-1)]: Done 278 tasks      | elapsed: 396.6min\n[Parallel(n_jobs=-1)]: Done 279 tasks      | elapsed: 396.8min\n[Parallel(n_jobs=-1)]: Done 280 tasks      | elapsed: 396.9min\n[Parallel(n_jobs=-1)]: Done 281 tasks      | elapsed: 402.8min\n[Parallel(n_jobs=-1)]: Done 282 tasks      | elapsed: 405.0min\n[Parallel(n_jobs=-1)]: Done 283 tasks      | elapsed: 405.5min\n[Parallel(n_jobs=-1)]: Done 284 tasks      | elapsed: 405.6min\n[Parallel(n_jobs=-1)]: Done 285 tasks      | elapsed: 409.0min\n[Parallel(n_jobs=-1)]: Done 286 tasks      | elapsed: 411.0min\n[Parallel(n_jobs=-1)]: Done 287 tasks      | elapsed: 417.6min\n[Parallel(n_jobs=-1)]: Done 288 tasks      | elapsed: 418.1min\n[Parallel(n_jobs=-1)]: Done 289 tasks      | elapsed: 420.8min\n[Parallel(n_jobs=-1)]: Done 290 tasks      | elapsed: 421.5min\n[Parallel(n_jobs=-1)]: Done 291 tasks      | elapsed: 422.7min\n[Parallel(n_jobs=-1)]: Done 292 tasks      | elapsed: 423.8min\n[Parallel(n_jobs=-1)]: Done 293 tasks      | elapsed: 423.8min\n[Parallel(n_jobs=-1)]: Done 310 out of 324 | elapsed: 459.2min remaining: 20.7min\n[Parallel(n_jobs=-1)]: Done 324 out of 324 | elapsed: 472.6min finished\nCPU times: user 1h 47min 6s, sys: 18min 41s, total: 2h 5min 48s\nWall time: 7h 55min 8s\n"
    }
   ],
   "source": [
    "# # Dask Grid Search\n",
    "# grid_clf = dcv.GridSearchCV(\n",
    "#     clf, \n",
    "#     param_grid,\n",
    "#     cv=K\n",
    "# )\n",
    "# with joblib.parallel_backend('dask', scatter=[data_train, y_train]):\n",
    "#     %time _ = grid_clf.fit(data_train, y_train)\n",
    "#     best_parameters = grid_clf.best_params_\n",
    "\n",
    "# with dask backend, sklearn GridSearch CV appears to perform \"better\" (faster) than dask's GridSearchCV; dask's GridSearchCV also appears to use more memory and is sensitive to the local cluster's workers' memory_limit setting\n",
    "# COMMENT OUT EVERYTHING BELOW TO GO WITH LAST GridSearchCV RESULT\n",
    "grid_clf = GridSearchCV(\n",
    "    clf, \n",
    "    param_grid, \n",
    "    cv=K, \n",
    "    n_jobs=-1, \n",
    "    verbose=20\n",
    ")\n",
    "with joblib.parallel_backend('dask', scatter=[data_train, y_train]):\n",
    "    %time _ = grid_clf.fit(data_train, y_train)\n",
    "    best_parameters = grid_clf.best_params_\n",
    "# COMMENT OUT EVERYTHING ABOVE TO GO WITH LAST GridSearchCV RESULT\n",
    "\n",
    "# last run:\n",
    "# Grid Search found the following optimal parameters: \n",
    "# \tbootstrap: True\n",
    "# \tcriterion: 'gini'\n",
    "# \tmax_depth: 50\n",
    "# \tmax_features: 'log2'\n",
    "# \tn_estimators: 1000\n",
    "\n",
    "# # UNCOMMENT OUT EVERYTHING BELOW TO GO WITH LAST GridSearchCV RESULT\n",
    "# best_parameters = {}\n",
    "# best_parameters['bootstrap'] = True\n",
    "# best_parameters['criterion'] = 'gini'\n",
    "# best_parameters['max_depth'] = 50\n",
    "# best_parameters['max_features'] = 'log2'\n",
    "# best_parameters['n_estimators'] = 1000\n",
    "# # UNCOMMENT OUT EVERYTHING ABOVE TO GO WITH LAST GridSearchCV RESULT"
   ]
  },
  {
   "cell_type": "code",
   "execution_count": 11,
   "metadata": {},
   "outputs": [
    {
     "output_type": "stream",
     "name": "stdout",
     "text": "Grid Search found the following optimal parameters: \n\tbootstrap: True\n\tcriterion: 'gini'\n\tmax_depth: 50\n\tmax_features: 'log2'\n\tn_estimators: 1000\n"
    }
   ],
   "source": [
    "print(\"Grid Search found the following optimal parameters: \")\n",
    "for param_name in sorted(best_parameters.keys()):\n",
    "    print(\"\\t%s: %r\" % (param_name, best_parameters[param_name]))# # GridSearchCV hyperparameters TUNING"
   ]
  },
  {
   "cell_type": "code",
   "execution_count": 12,
   "metadata": {},
   "outputs": [
    {
     "output_type": "stream",
     "name": "stderr",
     "text": "[Parallel(n_jobs=-1)]: Using backend DaskDistributedBackend with 16 concurrent workers.\n[Parallel(n_jobs=-1)]: Done  18 tasks      | elapsed:    5.4s\n[Parallel(n_jobs=-1)]: Done 168 tasks      | elapsed:   29.4s\n[Parallel(n_jobs=-1)]: Done 418 tasks      | elapsed:  1.0min\n[Parallel(n_jobs=-1)]: Done 768 tasks      | elapsed:  1.8min\n[Parallel(n_jobs=-1)]: Done 1000 out of 1000 | elapsed:  2.3min finished\nCPU times: user 2min 19s, sys: 20.9 s, total: 2min 40s\nWall time: 4min 3s\n"
    }
   ],
   "source": [
    "clf = RandomForestClassifier(\n",
    "    oob_score = True,\n",
    "    bootstrap=best_parameters['bootstrap'],\n",
    "    criterion=best_parameters['criterion'],\n",
    "    max_depth=best_parameters['max_depth'],\n",
    "    max_features=best_parameters['max_features'],\n",
    "    n_estimators=best_parameters['n_estimators'],\n",
    "    random_state=SEED,\n",
    "    n_jobs=-1,\n",
    "    verbose=1\n",
    ")\n",
    "with joblib.parallel_backend('dask', scatter=[data_train, y_train]):\n",
    "    %time clf.fit(data_train, y_train)"
   ]
  },
  {
   "cell_type": "markdown",
   "metadata": {},
   "source": [
    "<h4>Predict</h4>\n",
    "<h5>Training Data</h5>"
   ]
  },
  {
   "cell_type": "code",
   "execution_count": 13,
   "metadata": {},
   "outputs": [
    {
     "output_type": "stream",
     "name": "stderr",
     "text": "[Parallel(n_jobs=16)]: Using backend ThreadingBackend with 16 concurrent workers.\n[Parallel(n_jobs=16)]: Done  18 tasks      | elapsed:    0.2s\n[Parallel(n_jobs=16)]: Done 168 tasks      | elapsed:    1.0s\n[Parallel(n_jobs=16)]: Done 418 tasks      | elapsed:    2.6s\n[Parallel(n_jobs=16)]: Done 768 tasks      | elapsed:    4.8s\n[Parallel(n_jobs=16)]: Done 1000 out of 1000 | elapsed:    6.2s finished\n[Parallel(n_jobs=16)]: Using backend ThreadingBackend with 16 concurrent workers.\n[Parallel(n_jobs=16)]: Done  18 tasks      | elapsed:    0.2s\n[Parallel(n_jobs=16)]: Done 168 tasks      | elapsed:    1.4s\n[Parallel(n_jobs=16)]: Done 418 tasks      | elapsed:    3.5s\n[Parallel(n_jobs=16)]: Done 768 tasks      | elapsed:    6.4s\n[Parallel(n_jobs=16)]: Done 1000 out of 1000 | elapsed:    8.3s finished\n\nscore:  0.9826809764309764 \n\n\noob score:  0.804776936026936 \n\n                         precision    recall  f1-score   support\n\n             functional       0.97      1.00      0.98     25802\n         non functional       0.98      0.88      0.93      3466\nfunctional needs repair       1.00      0.98      0.99     18252\n\n               accuracy                           0.98     47520\n              macro avg       0.98      0.95      0.97     47520\n           weighted avg       0.98      0.98      0.98     47520\n\n"
    }
   ],
   "source": [
    "with joblib.parallel_backend('dask', scatter=[data_train, y_train]):\n",
    "    pred_train = clf.predict(data_train)\n",
    "    print(\"\\nscore: \", clf.score(data_train, y_train), \"\\n\")\n",
    "    print(\"\\noob score: \", clf.oob_score_, \"\\n\")\n",
    "    print(classification_report(y_train, pred_train, target_names=classes))"
   ]
  },
  {
   "cell_type": "markdown",
   "metadata": {},
   "source": [
    "<h5>Testing Data</h5>"
   ]
  },
  {
   "cell_type": "code",
   "execution_count": 14,
   "metadata": {},
   "outputs": [
    {
     "output_type": "stream",
     "name": "stderr",
     "text": "[Parallel(n_jobs=16)]: Using backend ThreadingBackend with 16 concurrent workers.\n[Parallel(n_jobs=16)]: Done  18 tasks      | elapsed:    0.1s\n[Parallel(n_jobs=16)]: Done 168 tasks      | elapsed:    0.5s\n[Parallel(n_jobs=16)]: Done 418 tasks      | elapsed:    1.2s\n[Parallel(n_jobs=16)]: Done 768 tasks      | elapsed:    2.2s\n[Parallel(n_jobs=16)]: Done 1000 out of 1000 | elapsed:    2.9s finished\n[Parallel(n_jobs=16)]: Using backend ThreadingBackend with 16 concurrent workers.\n[Parallel(n_jobs=16)]: Done  18 tasks      | elapsed:    0.1s\n[Parallel(n_jobs=16)]: Done 168 tasks      | elapsed:    0.4s\n[Parallel(n_jobs=16)]: Done 418 tasks      | elapsed:    1.1s\n[Parallel(n_jobs=16)]: Done 768 tasks      | elapsed:    2.1s\n[Parallel(n_jobs=16)]: Done 1000 out of 1000 | elapsed:    2.7s finished\n\nscore:  0.8056397306397306 \n\n                         precision    recall  f1-score   support\n\n             functional       0.80      0.90      0.84      6457\n         non functional       0.56      0.32      0.41       851\nfunctional needs repair       0.85      0.77      0.80      4572\n\n               accuracy                           0.81     11880\n              macro avg       0.74      0.66      0.69     11880\n           weighted avg       0.80      0.81      0.80     11880\n\n"
    }
   ],
   "source": [
    "with joblib.parallel_backend('dask', scatter=[data_train, y_train]):\n",
    "    pred_test = clf.predict(data_test)\n",
    "    print(\"\\nscore: \", clf.score(data_test, y_test), \"\\n\")\n",
    "    print(classification_report(y_test, pred_test, target_names=classes))"
   ]
  },
  {
   "cell_type": "code",
   "execution_count": 15,
   "metadata": {},
   "outputs": [],
   "source": [
    "# placeholder"
   ]
  }
 ],
 "metadata": {
  "language_info": {
   "codemirror_mode": {
    "name": "ipython",
    "version": 3
   },
   "file_extension": ".py",
   "mimetype": "text/x-python",
   "name": "python",
   "nbconvert_exporter": "python",
   "pygments_lexer": "ipython3",
   "version": "3.7.7-final"
  },
  "orig_nbformat": 2,
  "kernelspec": {
   "name": "python361064bitlearnenvconda6dc930ea082b425c82fd8a0b2d571658",
   "display_name": "Python 3.6.10 64-bit ('learn-env': conda)"
  }
 },
 "nbformat": 4,
 "nbformat_minor": 2
}
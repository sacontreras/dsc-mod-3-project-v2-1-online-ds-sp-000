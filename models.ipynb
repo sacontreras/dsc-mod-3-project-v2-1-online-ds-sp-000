{
 "cells": [
  {
   "cell_type": "markdown",
   "metadata": {},
   "source": [
    "<h2>Import Libraries</h2>"
   ]
  },
  {
   "cell_type": "code",
   "execution_count": 1,
   "metadata": {
    "tags": []
   },
   "outputs": [],
   "source": [
    "from scjpnlib.utils.file_io import FileManager\n",
    "import os \n",
    "import scjpnlib.utils as scjpnutils\n",
    "import pickle\n",
    "import json\n",
    "from IPython.core.display import HTML, Markdown\n",
    "import html2text\n",
    "from bs4 import BeautifulSoup\n",
    "import pprint\n",
    "\n",
    "import pandas as pd\n",
    "import numpy as np\n",
    "\n",
    "from scjpnlib.utils.skl_transformers import LabelEncodingTransformer\n",
    "from sklearn.pipeline import Pipeline\n",
    "from sklearn.model_selection import train_test_split\n",
    "import scjpnlib.utils.preprocessing_strategy_transformers as scjpnpreprocessing\n",
    "\n",
    "from sklearn.model_selection import GridSearchCV, cross_val_score\n",
    "import dask_ml.model_selection as dcv\n",
    "from dask.distributed import Client\n",
    "import joblib\n",
    "\n",
    "from sklearn.tree import DecisionTreeClassifier\n",
    "from sklearn.ensemble import RandomForestClassifier, VotingClassifier, BaggingClassifier, AdaBoostClassifier \n",
    "from xgboost import XGBClassifier\n",
    "from sklearn import svm\n",
    "from catboost import CatBoostClassifier\n",
    "\n",
    "from sklearn.metrics import classification_report\n",
    "from sklearn.metrics import accuracy_score\n",
    "\n",
    "%load_ext autoreload\n",
    "%autoreload 2\n",
    "\n",
    "n_jobs = 8\n",
    "\n",
    "LOG_MODEL_TRIALS = True"
   ]
  },
  {
   "cell_type": "markdown",
   "metadata": {},
   "source": [
    "## Read Configs for this Experiment"
   ]
  },
  {
   "cell_type": "code",
   "execution_count": 2,
   "metadata": {},
   "outputs": [
    {
     "data": {
      "text/plain": [
       "{'logging': {'dir': 'model-results'},\n",
       " 'cross_validation': {'k': {'grid_search': 3, 'score': 5}},\n",
       " 'dask': {'use': False,\n",
       "  'is_remote': False,\n",
       "  'local': {'n_workers': 1, 'n_jobs': 8, 'memory_limit': '16GB'},\n",
       "  'remote': {'scheduler_address': '35.230.13.87'}},\n",
       " 'SEED': 42,\n",
       " 'DecisionTreeClassifier': {'run': True,\n",
       "  'trials': {'run': True,\n",
       "   'array': [{'gridsearch': {'run': True,\n",
       "      'param_grid': {'criterion': ['entropy', 'gini'],\n",
       "       'splitter': ['best'],\n",
       "       'max_depth': [10, 50, 75, None],\n",
       "       'min_samples_split': [2],\n",
       "       'max_features': ['auto', 'sqrt', 'log2']},\n",
       "      'last_best': {'criterion': 'gini',\n",
       "       'max_depth': 10,\n",
       "       'max_features': 'auto',\n",
       "       'min_samples_split': 2,\n",
       "       'random_state': 42,\n",
       "       'splitter': 'best'}}}]},\n",
       "  'params': {'criterion': 'gini',\n",
       "   'max_depth': 10,\n",
       "   'max_features': 'auto',\n",
       "   'min_samples_split': 2,\n",
       "   'random_state': 42,\n",
       "   'splitter': 'best'}},\n",
       " 'RandomForestClassifier': {'run': True,\n",
       "  'trials': {'run': False,\n",
       "   'array': [{'gridsearch': {'run': True,\n",
       "      'param_grid': {'bootstrap': [True, False],\n",
       "       'criterion': ['entropy', 'gini'],\n",
       "       'max_features': ['auto', 'sqrt', 'log2'],\n",
       "       'max_depth': [10, 50, 75, None],\n",
       "       'n_estimators': [100, 500, 1000]},\n",
       "      'last_best': {'bootstrap': False,\n",
       "       'criterion': 'gini',\n",
       "       'max_depth': 75,\n",
       "       'max_features': 'auto',\n",
       "       'n_estimators': 1000}}}]},\n",
       "  'params': {'bootstrap': True,\n",
       "   'criterion': 'gini',\n",
       "   'max_depth': 75,\n",
       "   'max_features': 'auto',\n",
       "   'n_estimators': 1000}},\n",
       " 'XGBClassifier': {'run': True,\n",
       "  'trials': {'run': True,\n",
       "   'array': [{'gridsearch': {'run': True,\n",
       "      'param_grid': {'max_depth': [10, 15, 20]},\n",
       "      'last_best': {}}},\n",
       "    {'gridsearch': {'run': True,\n",
       "      'param_grid': {'learning_rate': [0.1, 0.3, 0.6, 0.9, 1.0]},\n",
       "      'last_best': {}}},\n",
       "    {'gridsearch': {'run': True,\n",
       "      'param_grid': {'min_child_weight': [1, 2, 3, 4, 5]},\n",
       "      'last_best': {}}},\n",
       "    {'gridsearch': {'run': True,\n",
       "      'param_grid': {'gamma': [0, 1, 2, 3, 4, 5]},\n",
       "      'last_best': {}}},\n",
       "    {'gridsearch': {'run': True,\n",
       "      'param_grid': {'n_estimators': [100, 250, 313, 375, 500, 1000]},\n",
       "      'last_best': {}}}]},\n",
       "  'params': {'gamma': 0,\n",
       "   'learning_rate': 0.1,\n",
       "   'max_depth': 15,\n",
       "   'min_child_weight': 1,\n",
       "   'n_estimators': 375}},\n",
       " 'Catboost': {'run': True,\n",
       "  'trials': {'run': False,\n",
       "   'array': [{'gridsearch': {'run': True,\n",
       "      'param_grid': {'max_depth': [6, 10, 16]},\n",
       "      'last_best': {}}},\n",
       "    {'gridsearch': {'run': True,\n",
       "      'param_grid': {'n_estimators': [100, 500, 1000]},\n",
       "      'last_best': {}}},\n",
       "    {'gridsearch': {'run': True,\n",
       "      'param_grid': {'loss_function': ['MultiClass', 'MultiClassOneVsAll']},\n",
       "      'last_best': {}}},\n",
       "    {'gridsearch': {'run': True,\n",
       "      'param_grid': {'grow_policy': ['SymmetricTree',\n",
       "        'Depthwise',\n",
       "        'Lossguide']},\n",
       "      'last_best': {}}},\n",
       "    {'gridsearch': {'run': True,\n",
       "      'param_grid': {'min_data_in_leaf': [1, 2, 5]},\n",
       "      'last_best': {}}},\n",
       "    {'gridsearch': {'run': True,\n",
       "      'param_grid': {'max_leaves': [15, 23, 31]},\n",
       "      'last_best': {}}},\n",
       "    {'gridsearch': {'run': True,\n",
       "      'param_grid': {'nan_mode': ['Min', 'Max']},\n",
       "      'last_best': {}}}]}}}"
      ]
     },
     "execution_count": 2,
     "metadata": {},
     "output_type": "execute_result"
    }
   ],
   "source": [
    "fm = FileManager()\n",
    "\n",
    "preprocessing_config = fm.load_json('preprocessing-config.txt')\n",
    "models_config = fm.load_json('models-config.txt')\n",
    "models_config"
   ]
  },
  {
   "cell_type": "code",
   "execution_count": 3,
   "metadata": {},
   "outputs": [],
   "source": [
    "is_data_cached = 'data_cached' in models_config\n",
    "data_config = models_config['data_cached'] if is_data_cached else fm.load_json('preprocessing-config.txt')"
   ]
  },
  {
   "cell_type": "code",
   "execution_count": 4,
   "metadata": {},
   "outputs": [],
   "source": [
    "if len(data_config['wrangled_data']['dir']) > 0:\n",
    "    WRANGLED_DATA_DIR = data_config['wrangled_data']['dir'] + \"/\"\n",
    "else:\n",
    "    WRANGLED_DATA_DIR = \"\"\n",
    "\n",
    "if len(data_config['labels']['dir']) > 0:\n",
    "    SAVE_LABELS_DIR = data_config['labels']['dir'] + \"/\"\n",
    "else:\n",
    "    SAVE_LABELS_DIR = \"\""
   ]
  },
  {
   "cell_type": "code",
   "execution_count": 5,
   "metadata": {},
   "outputs": [],
   "source": [
    "preprocessing_spec = fm.load_json(WRANGLED_DATA_DIR + \"preprocessing-spec-last.json\")"
   ]
  },
  {
   "cell_type": "code",
   "execution_count": 6,
   "metadata": {
    "tags": []
   },
   "outputs": [
    {
     "name": "stdout",
     "output_type": "stream",
     "text": [
      "digest for last preprocessing spec: 8a48b1bceea8e4f07957e8a9efbe76d8\n"
     ]
    }
   ],
   "source": [
    "digest = data_config['digest'] if is_data_cached else scjpnutils.json_to_md5_hash_digest(preprocessing_spec)\n",
    "print(f\"digest for last preprocessing spec: {digest}\")                                                                                      "
   ]
  },
  {
   "cell_type": "code",
   "execution_count": 7,
   "metadata": {},
   "outputs": [],
   "source": [
    "fname__train_predictors = WRANGLED_DATA_DIR + scjpnutils.get_data_fname(data_config, preprocessing_config, data_kwargs={'is_labels':False,'type':'train','is_cached':is_data_cached})\n",
    "fname__train_labels = SAVE_LABELS_DIR + scjpnutils.get_data_fname(data_config, preprocessing_config, data_kwargs={'is_labels':True,'type':'train','is_cached':is_data_cached})\n",
    "fname__validation_predictors = WRANGLED_DATA_DIR + scjpnutils.get_data_fname(data_config, preprocessing_config, data_kwargs={'is_labels':False,'type':'test','is_cached':is_data_cached})\n",
    "fname__validation_labels = SAVE_LABELS_DIR + scjpnutils.get_data_fname(data_config, preprocessing_config, data_kwargs={'is_labels':True,'type':'test','is_cached':is_data_cached})\n",
    "fname__unlabeled_predictors = WRANGLED_DATA_DIR + scjpnutils.get_data_fname(data_config, preprocessing_config, data_kwargs={'is_labels':False,'type':'unlabeled'})"
   ]
  },
  {
   "cell_type": "code",
   "execution_count": 8,
   "metadata": {
    "tags": []
   },
   "outputs": [
    {
     "name": "stdout",
     "output_type": "stream",
     "text": [
      "modeling results will be saved to: model-results/models-results-8a48b1bceea8e4f07957e8a9efbe76d8.json\n"
     ]
    }
   ],
   "source": [
    "if len(models_config['logging']['dir']) > 0:\n",
    "    MODEL_RESULTS_DIR = models_config['logging']['dir']\n",
    "    try:\n",
    "        os.makedirs(f\"{os.getcwd()}/{MODEL_RESULTS_DIR}\")\n",
    "    except FileExistsError:\n",
    "        pass\n",
    "    MODEL_RESULTS_DIR += \"/\"\n",
    "else:\n",
    "    MODEL_RESULTS_DIR = \"\"\n",
    "    \n",
    "model_results_fname = MODEL_RESULTS_DIR + scjpnutils.get_model_result_fname(data_config, preprocessing_spec, data_kwargs={'is_cached':is_data_cached})\n",
    "print(f\"modeling results will be saved to: {model_results_fname}\")"
   ]
  },
  {
   "cell_type": "code",
   "execution_count": 9,
   "metadata": {},
   "outputs": [],
   "source": [
    "model_results = {}\n",
    "model_results['digest'] = digest\n",
    "model_results['modeling_results'] = {}"
   ]
  },
  {
   "cell_type": "code",
   "execution_count": 10,
   "metadata": {},
   "outputs": [],
   "source": [
    "SEED = models_config['SEED']\n",
    "model_results['seed'] = SEED"
   ]
  },
  {
   "cell_type": "code",
   "execution_count": 11,
   "metadata": {},
   "outputs": [],
   "source": [
    "K = models_config['cross_validation']['k']['grid_search'] # num folds for cross-val\n",
    "cross_val_score_K = models_config['cross_validation']['k']['score']"
   ]
  },
  {
   "cell_type": "markdown",
   "metadata": {},
   "source": [
    "<p><br>\n",
    "\n",
    "## Load Data"
   ]
  },
  {
   "cell_type": "code",
   "execution_count": 12,
   "metadata": {},
   "outputs": [
    {
     "data": {
      "text/html": [
       "Required download-file Taarifa-Unlabeled-Predictors.csv exists locally."
      ],
      "text/plain": [
       "<IPython.core.display.HTML object>"
      ]
     },
     "metadata": {},
     "output_type": "display_data"
    },
    {
     "data": {
      "text/html": [
       "Required download-file Taarifa-Labeled-Predictors.csv exists locally."
      ],
      "text/plain": [
       "<IPython.core.display.HTML object>"
      ]
     },
     "metadata": {},
     "output_type": "display_data"
    },
    {
     "data": {
      "text/html": [
       "Required download-file Taarifa-Labels.csv exists locally."
      ],
      "text/plain": [
       "<IPython.core.display.HTML object>"
      ]
     },
     "metadata": {},
     "output_type": "display_data"
    }
   ],
   "source": [
    "fname_unlabeled_predictors = preprocessing_config['official_data']['unlabeled_predictors']['local_fname']\n",
    "fname_labeled_predictors = preprocessing_config['official_data']['labeled_predictors']['local_fname']\n",
    "fname_labels = preprocessing_config['official_data']['labels']['local_fname']\n",
    "\n",
    "ds_map = {\n",
    "    fname_unlabeled_predictors: preprocessing_config['official_data']['unlabeled_predictors']['url'], \n",
    "    fname_labeled_predictors: preprocessing_config['official_data']['unlabeled_predictors']['url'],\n",
    "    fname_labels: preprocessing_config['official_data']['unlabeled_predictors']['url']\n",
    "}\n",
    "\n",
    "fm.validate_download(ds_map)"
   ]
  },
  {
   "cell_type": "code",
   "execution_count": 13,
   "metadata": {},
   "outputs": [],
   "source": [
    "labeled_with_target = pd.concat(\n",
    "    [\n",
    "        pd.read_csv(fname_labeled_predictors, index_col=0), \n",
    "        pd.read_csv(fname_labels, index_col=0)\n",
    "    ], \n",
    "    axis=1\n",
    "    ,\n",
    "    join='inner'\n",
    ").sort_index()"
   ]
  },
  {
   "cell_type": "code",
   "execution_count": 14,
   "metadata": {},
   "outputs": [],
   "source": [
    "labels = labeled_with_target[['status_group']]"
   ]
  },
  {
   "cell_type": "code",
   "execution_count": 15,
   "metadata": {},
   "outputs": [
    {
     "data": {
      "text/plain": [
       "['functional', 'functional needs repair', 'non functional']"
      ]
     },
     "execution_count": 15,
     "metadata": {},
     "output_type": "execute_result"
    }
   ],
   "source": [
    "let_labels = LabelEncodingTransformer(['status_group'])\n",
    "labels_encoded = let_labels.fit_transform(labels)\n",
    "classes = list(let_labels.labelencoder.classes_)\n",
    "classes"
   ]
  },
  {
   "cell_type": "code",
   "execution_count": 16,
   "metadata": {},
   "outputs": [],
   "source": [
    "labeled_with_target['status_group_encoded'] = labels_encoded.status_group"
   ]
  },
  {
   "cell_type": "code",
   "execution_count": 17,
   "metadata": {
    "tags": []
   },
   "outputs": [],
   "source": [
    "X_labeled = labeled_with_target.drop(['status_group', 'status_group_encoded'], axis=1)"
   ]
  },
  {
   "cell_type": "code",
   "execution_count": 18,
   "metadata": {
    "tags": []
   },
   "outputs": [],
   "source": [
    "data_unlabeled = pd.read_csv(fname_unlabeled_predictors, index_col=0)"
   ]
  },
  {
   "cell_type": "markdown",
   "metadata": {},
   "source": [
    "## Prepare Test/Train Data"
   ]
  },
  {
   "cell_type": "code",
   "execution_count": 19,
   "metadata": {},
   "outputs": [],
   "source": [
    "data_train, data_test, y_train, y_test = train_test_split(X_labeled, labels, test_size=preprocessing_config['test_ratio'], random_state=SEED)"
   ]
  },
  {
   "cell_type": "code",
   "execution_count": 20,
   "metadata": {},
   "outputs": [],
   "source": [
    "y_train_encoded = labels_encoded.loc[y_train.index]"
   ]
  },
  {
   "cell_type": "code",
   "execution_count": 21,
   "metadata": {},
   "outputs": [],
   "source": [
    "data_train_with_target = pd.concat([data_train, y_train_encoded], axis=1, join='inner')"
   ]
  },
  {
   "cell_type": "code",
   "execution_count": 22,
   "metadata": {},
   "outputs": [],
   "source": [
    "y_test_encoded = labels_encoded.loc[y_test.index]"
   ]
  },
  {
   "cell_type": "code",
   "execution_count": 23,
   "metadata": {},
   "outputs": [],
   "source": [
    "data_test_with_target = pd.concat([data_test, y_test_encoded], axis=1, join='inner')"
   ]
  },
  {
   "cell_type": "code",
   "execution_count": 24,
   "metadata": {},
   "outputs": [],
   "source": [
    "data_ALL_labeled_with_target = pd.concat([data_train_with_target, data_test_with_target], axis=0).sort_index()"
   ]
  },
  {
   "cell_type": "markdown",
   "metadata": {},
   "source": [
    "<p><br>\n",
    "\n",
    "## Apply Preprocessing Transformations to Training Data"
   ]
  },
  {
   "cell_type": "code",
   "execution_count": 25,
   "metadata": {},
   "outputs": [
    {
     "data": {
      "text/html": [
       "<h3>data_train BEFORE preprocessing Feature-Value Analysis (out of 53460 total observations)</h3>"
      ],
      "text/plain": [
       "<IPython.core.display.HTML object>"
      ]
     },
     "metadata": {},
     "output_type": "display_data"
    },
    {
     "data": {
      "text/html": [
       "<div>\n",
       "<style scoped>\n",
       "    .dataframe tbody tr th:only-of-type {\n",
       "        vertical-align: middle;\n",
       "    }\n",
       "\n",
       "    .dataframe tbody tr th {\n",
       "        vertical-align: top;\n",
       "    }\n",
       "\n",
       "    .dataframe thead th {\n",
       "        text-align: right;\n",
       "    }\n",
       "</style>\n",
       "<table border=\"1\" class=\"dataframe\">\n",
       "  <thead>\n",
       "    <tr style=\"text-align: left;\">\n",
       "      <th></th>\n",
       "      <th>feature</th>\n",
       "      <th>dtype</th>\n",
       "      <th>n_unique</th>\n",
       "      <th>unique_vals</th>\n",
       "      <th>n_unique_ratio</th>\n",
       "      <th>p_cat</th>\n",
       "      <th>n_null</th>\n",
       "      <th>n_null_ratio</th>\n",
       "      <th>null_index</th>\n",
       "    </tr>\n",
       "  </thead>\n",
       "  <tbody>\n",
       "    <tr>\n",
       "      <th>0</th>\n",
       "      <td>amount_tsh</td>\n",
       "      <td>float64</td>\n",
       "      <td>96</td>\n",
       "      <td>[0.0, 1000.0, 250.0, 5000.0, 3000.0, 2400.0, 5...</td>\n",
       "      <td>0.001796</td>\n",
       "      <td>99.82</td>\n",
       "      <td>0</td>\n",
       "      <td>0.000000</td>\n",
       "      <td>None</td>\n",
       "    </tr>\n",
       "    <tr>\n",
       "      <th>1</th>\n",
       "      <td>date_recorded</td>\n",
       "      <td>object</td>\n",
       "      <td>352</td>\n",
       "      <td>[2013-03-06, 2013-02-05, 2011-07-24, 2012-11-0...</td>\n",
       "      <td>0.006584</td>\n",
       "      <td>99.34</td>\n",
       "      <td>0</td>\n",
       "      <td>0.000000</td>\n",
       "      <td>None</td>\n",
       "    </tr>\n",
       "    <tr>\n",
       "      <th>2</th>\n",
       "      <td>funder</td>\n",
       "      <td>object</td>\n",
       "      <td>1799</td>\n",
       "      <td>[Kiliwater, Unicef, Danida, Tasaf/tlc, Dhv, Am...</td>\n",
       "      <td>0.033651</td>\n",
       "      <td>96.63</td>\n",
       "      <td>3269</td>\n",
       "      <td>0.061149</td>\n",
       "      <td>Int64Index([  569, 35243,  7826,  7576, 71341,...</td>\n",
       "    </tr>\n",
       "    <tr>\n",
       "      <th>3</th>\n",
       "      <td>gps_height</td>\n",
       "      <td>int64</td>\n",
       "      <td>2415</td>\n",
       "      <td>[1424, 1358, 0, 299, -14, 1490, 1421, 915, 891...</td>\n",
       "      <td>0.045174</td>\n",
       "      <td>95.48</td>\n",
       "      <td>0</td>\n",
       "      <td>0.000000</td>\n",
       "      <td>None</td>\n",
       "    </tr>\n",
       "    <tr>\n",
       "      <th>4</th>\n",
       "      <td>installer</td>\n",
       "      <td>object</td>\n",
       "      <td>2035</td>\n",
       "      <td>[Kiliwater, TWESA, Central government, TASAF/T...</td>\n",
       "      <td>0.038066</td>\n",
       "      <td>96.19</td>\n",
       "      <td>3287</td>\n",
       "      <td>0.061485</td>\n",
       "      <td>Int64Index([  569, 35243,  7826,  7576, 71341,...</td>\n",
       "    </tr>\n",
       "    <tr>\n",
       "      <th>5</th>\n",
       "      <td>longitude</td>\n",
       "      <td>float64</td>\n",
       "      <td>51753</td>\n",
       "      <td>[37.61840909, 30.6557619, 33.81319755, 33.1151...</td>\n",
       "      <td>0.968070</td>\n",
       "      <td>3.19</td>\n",
       "      <td>0</td>\n",
       "      <td>0.000000</td>\n",
       "      <td>None</td>\n",
       "    </tr>\n",
       "    <tr>\n",
       "      <th>6</th>\n",
       "      <td>latitude</td>\n",
       "      <td>float64</td>\n",
       "      <td>51755</td>\n",
       "      <td>[-3.26320247, -3.53625, -9.47660713, -4.835553...</td>\n",
       "      <td>0.968107</td>\n",
       "      <td>3.19</td>\n",
       "      <td>0</td>\n",
       "      <td>0.000000</td>\n",
       "      <td>None</td>\n",
       "    </tr>\n",
       "    <tr>\n",
       "      <th>7</th>\n",
       "      <td>wpt_name</td>\n",
       "      <td>object</td>\n",
       "      <td>34085</td>\n",
       "      <td>[Kwa Moris Assenga, Bavunja Primary School, Za...</td>\n",
       "      <td>0.637579</td>\n",
       "      <td>36.24</td>\n",
       "      <td>0</td>\n",
       "      <td>0.000000</td>\n",
       "      <td>None</td>\n",
       "    </tr>\n",
       "    <tr>\n",
       "      <th>8</th>\n",
       "      <td>num_private</td>\n",
       "      <td>int64</td>\n",
       "      <td>61</td>\n",
       "      <td>[0, 34, 65, 32, 1, 8, 41, 6, 15, 3, 698, 1402,...</td>\n",
       "      <td>0.001141</td>\n",
       "      <td>99.89</td>\n",
       "      <td>0</td>\n",
       "      <td>0.000000</td>\n",
       "      <td>None</td>\n",
       "    </tr>\n",
       "    <tr>\n",
       "      <th>9</th>\n",
       "      <td>basin</td>\n",
       "      <td>object</td>\n",
       "      <td>9</td>\n",
       "      <td>[Pangani, Lake Tanganyika, Lake Nyasa, Rufiji,...</td>\n",
       "      <td>0.000168</td>\n",
       "      <td>99.98</td>\n",
       "      <td>0</td>\n",
       "      <td>0.000000</td>\n",
       "      <td>None</td>\n",
       "    </tr>\n",
       "    <tr>\n",
       "      <th>10</th>\n",
       "      <td>subvillage</td>\n",
       "      <td>object</td>\n",
       "      <td>18331</td>\n",
       "      <td>[Usesi, Uwanja Wa Ndege, Ilindi, Pemba, Namhan...</td>\n",
       "      <td>0.342892</td>\n",
       "      <td>65.71</td>\n",
       "      <td>335</td>\n",
       "      <td>0.006266</td>\n",
       "      <td>Int64Index([57269, 21287, 33378,  6502,  7898,...</td>\n",
       "    </tr>\n",
       "    <tr>\n",
       "      <th>11</th>\n",
       "      <td>region</td>\n",
       "      <td>object</td>\n",
       "      <td>21</td>\n",
       "      <td>[Kilimanjaro, Kigoma, Mbeya, Tabora, Morogoro,...</td>\n",
       "      <td>0.000393</td>\n",
       "      <td>99.96</td>\n",
       "      <td>0</td>\n",
       "      <td>0.000000</td>\n",
       "      <td>None</td>\n",
       "    </tr>\n",
       "    <tr>\n",
       "      <th>12</th>\n",
       "      <td>region_code</td>\n",
       "      <td>int64</td>\n",
       "      <td>27</td>\n",
       "      <td>[3, 16, 12, 14, 5, 6, 20, 15, 11, 19, 8, 4, 90...</td>\n",
       "      <td>0.000505</td>\n",
       "      <td>99.95</td>\n",
       "      <td>0</td>\n",
       "      <td>0.000000</td>\n",
       "      <td>None</td>\n",
       "    </tr>\n",
       "    <tr>\n",
       "      <th>13</th>\n",
       "      <td>district_code</td>\n",
       "      <td>int64</td>\n",
       "      <td>20</td>\n",
       "      <td>[1, 3, 4, 2, 7, 33, 5, 6, 13, 23, 30, 63, 8, 5...</td>\n",
       "      <td>0.000374</td>\n",
       "      <td>99.96</td>\n",
       "      <td>0</td>\n",
       "      <td>0.000000</td>\n",
       "      <td>None</td>\n",
       "    </tr>\n",
       "    <tr>\n",
       "      <th>14</th>\n",
       "      <td>lga</td>\n",
       "      <td>object</td>\n",
       "      <td>124</td>\n",
       "      <td>[Rombo, Kibondo, Kyela, Uyui, Ulanga, Mkuranga...</td>\n",
       "      <td>0.002319</td>\n",
       "      <td>99.77</td>\n",
       "      <td>0</td>\n",
       "      <td>0.000000</td>\n",
       "      <td>None</td>\n",
       "    </tr>\n",
       "    <tr>\n",
       "      <th>15</th>\n",
       "      <td>ward</td>\n",
       "      <td>object</td>\n",
       "      <td>2087</td>\n",
       "      <td>[Mengwe Manda, Bunyambo, Ipande, Isikizya, Ira...</td>\n",
       "      <td>0.039039</td>\n",
       "      <td>96.10</td>\n",
       "      <td>0</td>\n",
       "      <td>0.000000</td>\n",
       "      <td>None</td>\n",
       "    </tr>\n",
       "    <tr>\n",
       "      <th>16</th>\n",
       "      <td>population</td>\n",
       "      <td>int64</td>\n",
       "      <td>1019</td>\n",
       "      <td>[1, 500, 0, 263, 400, 520, 350, 60, 300, 40, 1...</td>\n",
       "      <td>0.019061</td>\n",
       "      <td>98.09</td>\n",
       "      <td>0</td>\n",
       "      <td>0.000000</td>\n",
       "      <td>None</td>\n",
       "    </tr>\n",
       "    <tr>\n",
       "      <th>17</th>\n",
       "      <td>public_meeting</td>\n",
       "      <td>object</td>\n",
       "      <td>3</td>\n",
       "      <td>[True, False, nan]</td>\n",
       "      <td>0.000056</td>\n",
       "      <td>99.99</td>\n",
       "      <td>3006</td>\n",
       "      <td>0.056229</td>\n",
       "      <td>Int64Index([32908, 12197, 64825, 50761, 52163,...</td>\n",
       "    </tr>\n",
       "    <tr>\n",
       "      <th>18</th>\n",
       "      <td>recorded_by</td>\n",
       "      <td>object</td>\n",
       "      <td>1</td>\n",
       "      <td>[GeoData Consultants Ltd]</td>\n",
       "      <td>0.000019</td>\n",
       "      <td>100.00</td>\n",
       "      <td>0</td>\n",
       "      <td>0.000000</td>\n",
       "      <td>None</td>\n",
       "    </tr>\n",
       "    <tr>\n",
       "      <th>19</th>\n",
       "      <td>scheme_management</td>\n",
       "      <td>object</td>\n",
       "      <td>13</td>\n",
       "      <td>[Company, VWC, nan, Water authority, Water Boa...</td>\n",
       "      <td>0.000243</td>\n",
       "      <td>99.98</td>\n",
       "      <td>3503</td>\n",
       "      <td>0.065526</td>\n",
       "      <td>Int64Index([36420,  7651, 41429, 14391, 64446,...</td>\n",
       "    </tr>\n",
       "    <tr>\n",
       "      <th>20</th>\n",
       "      <td>scheme_name</td>\n",
       "      <td>object</td>\n",
       "      <td>2636</td>\n",
       "      <td>[Kitukuni water supply, nan, Sinyanga  water s...</td>\n",
       "      <td>0.049308</td>\n",
       "      <td>95.07</td>\n",
       "      <td>25363</td>\n",
       "      <td>0.474429</td>\n",
       "      <td>Int64Index([38945,  1186, 36420, 57631, 51349,...</td>\n",
       "    </tr>\n",
       "    <tr>\n",
       "      <th>21</th>\n",
       "      <td>permit</td>\n",
       "      <td>object</td>\n",
       "      <td>3</td>\n",
       "      <td>[True, False, nan]</td>\n",
       "      <td>0.000056</td>\n",
       "      <td>99.99</td>\n",
       "      <td>2733</td>\n",
       "      <td>0.051122</td>\n",
       "      <td>Int64Index([  569, 54872,  7826,  7576, 71341,...</td>\n",
       "    </tr>\n",
       "    <tr>\n",
       "      <th>22</th>\n",
       "      <td>construction_year</td>\n",
       "      <td>int64</td>\n",
       "      <td>55</td>\n",
       "      <td>[2012, 2009, 0, 1996, 2000, 2001, 1998, 2013, ...</td>\n",
       "      <td>0.001029</td>\n",
       "      <td>99.90</td>\n",
       "      <td>0</td>\n",
       "      <td>0.000000</td>\n",
       "      <td>None</td>\n",
       "    </tr>\n",
       "    <tr>\n",
       "      <th>23</th>\n",
       "      <td>extraction_type</td>\n",
       "      <td>object</td>\n",
       "      <td>18</td>\n",
       "      <td>[gravity, afridev, swn 80, other, mono, submer...</td>\n",
       "      <td>0.000337</td>\n",
       "      <td>99.97</td>\n",
       "      <td>0</td>\n",
       "      <td>0.000000</td>\n",
       "      <td>None</td>\n",
       "    </tr>\n",
       "    <tr>\n",
       "      <th>24</th>\n",
       "      <td>extraction_type_group</td>\n",
       "      <td>object</td>\n",
       "      <td>13</td>\n",
       "      <td>[gravity, afridev, swn 80, other, mono, submer...</td>\n",
       "      <td>0.000243</td>\n",
       "      <td>99.98</td>\n",
       "      <td>0</td>\n",
       "      <td>0.000000</td>\n",
       "      <td>None</td>\n",
       "    </tr>\n",
       "    <tr>\n",
       "      <th>25</th>\n",
       "      <td>extraction_type_class</td>\n",
       "      <td>object</td>\n",
       "      <td>7</td>\n",
       "      <td>[gravity, handpump, other, motorpump, submersi...</td>\n",
       "      <td>0.000131</td>\n",
       "      <td>99.99</td>\n",
       "      <td>0</td>\n",
       "      <td>0.000000</td>\n",
       "      <td>None</td>\n",
       "    </tr>\n",
       "    <tr>\n",
       "      <th>26</th>\n",
       "      <td>management</td>\n",
       "      <td>object</td>\n",
       "      <td>12</td>\n",
       "      <td>[company, vwc, water board, wug, water authori...</td>\n",
       "      <td>0.000224</td>\n",
       "      <td>99.98</td>\n",
       "      <td>0</td>\n",
       "      <td>0.000000</td>\n",
       "      <td>None</td>\n",
       "    </tr>\n",
       "    <tr>\n",
       "      <th>27</th>\n",
       "      <td>management_group</td>\n",
       "      <td>object</td>\n",
       "      <td>5</td>\n",
       "      <td>[commercial, user-group, unknown, parastatal, ...</td>\n",
       "      <td>0.000094</td>\n",
       "      <td>99.99</td>\n",
       "      <td>0</td>\n",
       "      <td>0.000000</td>\n",
       "      <td>None</td>\n",
       "    </tr>\n",
       "    <tr>\n",
       "      <th>28</th>\n",
       "      <td>payment</td>\n",
       "      <td>object</td>\n",
       "      <td>7</td>\n",
       "      <td>[pay monthly, unknown, never pay, pay annually...</td>\n",
       "      <td>0.000131</td>\n",
       "      <td>99.99</td>\n",
       "      <td>0</td>\n",
       "      <td>0.000000</td>\n",
       "      <td>None</td>\n",
       "    </tr>\n",
       "    <tr>\n",
       "      <th>29</th>\n",
       "      <td>payment_type</td>\n",
       "      <td>object</td>\n",
       "      <td>7</td>\n",
       "      <td>[monthly, unknown, never pay, annually, per bu...</td>\n",
       "      <td>0.000131</td>\n",
       "      <td>99.99</td>\n",
       "      <td>0</td>\n",
       "      <td>0.000000</td>\n",
       "      <td>None</td>\n",
       "    </tr>\n",
       "    <tr>\n",
       "      <th>30</th>\n",
       "      <td>water_quality</td>\n",
       "      <td>object</td>\n",
       "      <td>8</td>\n",
       "      <td>[soft, unknown, salty, fluoride, milky, salty ...</td>\n",
       "      <td>0.000150</td>\n",
       "      <td>99.99</td>\n",
       "      <td>0</td>\n",
       "      <td>0.000000</td>\n",
       "      <td>None</td>\n",
       "    </tr>\n",
       "    <tr>\n",
       "      <th>31</th>\n",
       "      <td>quality_group</td>\n",
       "      <td>object</td>\n",
       "      <td>6</td>\n",
       "      <td>[good, unknown, salty, fluoride, milky, colored]</td>\n",
       "      <td>0.000112</td>\n",
       "      <td>99.99</td>\n",
       "      <td>0</td>\n",
       "      <td>0.000000</td>\n",
       "      <td>None</td>\n",
       "    </tr>\n",
       "    <tr>\n",
       "      <th>32</th>\n",
       "      <td>quantity</td>\n",
       "      <td>object</td>\n",
       "      <td>5</td>\n",
       "      <td>[insufficient, dry, enough, seasonal, unknown]</td>\n",
       "      <td>0.000094</td>\n",
       "      <td>99.99</td>\n",
       "      <td>0</td>\n",
       "      <td>0.000000</td>\n",
       "      <td>None</td>\n",
       "    </tr>\n",
       "    <tr>\n",
       "      <th>33</th>\n",
       "      <td>quantity_group</td>\n",
       "      <td>object</td>\n",
       "      <td>5</td>\n",
       "      <td>[insufficient, dry, enough, seasonal, unknown]</td>\n",
       "      <td>0.000094</td>\n",
       "      <td>99.99</td>\n",
       "      <td>0</td>\n",
       "      <td>0.000000</td>\n",
       "      <td>None</td>\n",
       "    </tr>\n",
       "    <tr>\n",
       "      <th>34</th>\n",
       "      <td>source</td>\n",
       "      <td>object</td>\n",
       "      <td>10</td>\n",
       "      <td>[spring, rainwater harvesting, shallow well, r...</td>\n",
       "      <td>0.000187</td>\n",
       "      <td>99.98</td>\n",
       "      <td>0</td>\n",
       "      <td>0.000000</td>\n",
       "      <td>None</td>\n",
       "    </tr>\n",
       "    <tr>\n",
       "      <th>35</th>\n",
       "      <td>source_type</td>\n",
       "      <td>object</td>\n",
       "      <td>7</td>\n",
       "      <td>[spring, rainwater harvesting, shallow well, r...</td>\n",
       "      <td>0.000131</td>\n",
       "      <td>99.99</td>\n",
       "      <td>0</td>\n",
       "      <td>0.000000</td>\n",
       "      <td>None</td>\n",
       "    </tr>\n",
       "    <tr>\n",
       "      <th>36</th>\n",
       "      <td>source_class</td>\n",
       "      <td>object</td>\n",
       "      <td>3</td>\n",
       "      <td>[groundwater, surface, unknown]</td>\n",
       "      <td>0.000056</td>\n",
       "      <td>99.99</td>\n",
       "      <td>0</td>\n",
       "      <td>0.000000</td>\n",
       "      <td>None</td>\n",
       "    </tr>\n",
       "    <tr>\n",
       "      <th>37</th>\n",
       "      <td>waterpoint_type</td>\n",
       "      <td>object</td>\n",
       "      <td>7</td>\n",
       "      <td>[communal standpipe, hand pump, communal stand...</td>\n",
       "      <td>0.000131</td>\n",
       "      <td>99.99</td>\n",
       "      <td>0</td>\n",
       "      <td>0.000000</td>\n",
       "      <td>None</td>\n",
       "    </tr>\n",
       "    <tr>\n",
       "      <th>38</th>\n",
       "      <td>waterpoint_type_group</td>\n",
       "      <td>object</td>\n",
       "      <td>6</td>\n",
       "      <td>[communal standpipe, hand pump, other, cattle ...</td>\n",
       "      <td>0.000112</td>\n",
       "      <td>99.99</td>\n",
       "      <td>0</td>\n",
       "      <td>0.000000</td>\n",
       "      <td>None</td>\n",
       "    </tr>\n",
       "  </tbody>\n",
       "</table>\n",
       "</div>"
      ],
      "text/plain": [
       "<IPython.core.display.HTML object>"
      ]
     },
     "metadata": {},
     "output_type": "display_data"
    }
   ],
   "source": [
    "pipeline_data_preprocessor = Pipeline(steps=[('passthrough', None)], verbose=True)\n",
    "\n",
    "scjpnutils.analyze_values(data_train, 'data_train BEFORE preprocessing');"
   ]
  },
  {
   "cell_type": "code",
   "execution_count": null,
   "metadata": {
    "tags": []
   },
   "outputs": [
    {
     "data": {
      "text/html": [
       "<b>(composite) strategy name/description: <i><font color='red'>amount_tsh</font></i></b><ol><li><b>strategy description</b>: <i><font color='blue' style='font-size: x-large;'>replace \"amount_tsh\" outliers with mean</font></i></li></ol>"
      ],
      "text/plain": [
       "<IPython.core.display.HTML object>"
      ]
     },
     "metadata": {},
     "output_type": "display_data"
    },
    {
     "name": "stdout",
     "output_type": "stream",
     "text": [
      "strategy appended step ['replace \"amount_tsh\" outliers with mean', <scjpnlib.utils.skl_transformers.SimpleValueTransformer object at 0x7faf82fca910>] to pipeline\n",
      "strategy \"replace \"amount_tsh\" outliers with mean\" transformation is COMPLETE!\n"
     ]
    },
    {
     "data": {
      "text/html": [
       "<p><br><br>"
      ],
      "text/plain": [
       "<IPython.core.display.HTML object>"
      ]
     },
     "metadata": {},
     "output_type": "display_data"
    },
    {
     "data": {
      "text/html": [
       "<b>(composite) strategy name/description: <i><font color='red'>pump_age</font></i></b><ol><li><b>strategy description</b>: <i><font color='blue' style='font-size: x-large;'>drop feature: date_recorded</font></i></li><li><b>strategy description</b>: <i><font color='blue' style='font-size: x-large;'>leave feature as is (do nothing): construction_year</font></i></li></ol>"
      ],
      "text/plain": [
       "<IPython.core.display.HTML object>"
      ]
     },
     "metadata": {},
     "output_type": "display_data"
    },
    {
     "name": "stdout",
     "output_type": "stream",
     "text": [
      "strategy appended step ['drop feature: date_recorded', <scjpnlib.utils.skl_transformers.DropColumnsTransformer object at 0x7faf831291d0>] to pipeline\n",
      "strategy \"drop feature: date_recorded\" transformation is COMPLETE!\n",
      "strategy appended step ['leave feature as is (do nothing): construction_year', FunctionTransformer(func=<function C__leave_it_as_is__StrategyTransformer.get_transformer.<locals>.<lambda> at 0x7faf831359e0>)] to pipeline\n",
      "strategy \"leave feature as is (do nothing): construction_year\" transformation is COMPLETE!\n"
     ]
    },
    {
     "data": {
      "text/html": [
       "<p><br><br>"
      ],
      "text/plain": [
       "<IPython.core.display.HTML object>"
      ]
     },
     "metadata": {},
     "output_type": "display_data"
    },
    {
     "data": {
      "text/html": [
       "<b>(composite) strategy name/description: <i><font color='red'>gps_height</font></i></b><ol><li><b>strategy description</b>: <i><font color='blue' style='font-size: x-large;'>leave feature as is (do nothing): gps_height</font></i></li></ol>"
      ],
      "text/plain": [
       "<IPython.core.display.HTML object>"
      ]
     },
     "metadata": {},
     "output_type": "display_data"
    },
    {
     "name": "stdout",
     "output_type": "stream",
     "text": [
      "strategy appended step ['leave feature as is (do nothing): gps_height', FunctionTransformer(func=<function C__leave_it_as_is__StrategyTransformer.get_transformer.<locals>.<lambda> at 0x7faf7d8a17a0>)] to pipeline\n",
      "strategy \"leave feature as is (do nothing): gps_height\" transformation is COMPLETE!\n"
     ]
    },
    {
     "data": {
      "text/html": [
       "<p><br><br>"
      ],
      "text/plain": [
       "<IPython.core.display.HTML object>"
      ]
     },
     "metadata": {},
     "output_type": "display_data"
    },
    {
     "data": {
      "text/html": [
       "<b>(composite) strategy name/description: <i><font color='red'>latitude</font></i></b><ol><li><b>strategy description</b>: <i><font color='blue' style='font-size: x-large;'>leave feature as is (do nothing): latitude</font></i></li></ol>"
      ],
      "text/plain": [
       "<IPython.core.display.HTML object>"
      ]
     },
     "metadata": {},
     "output_type": "display_data"
    },
    {
     "name": "stdout",
     "output_type": "stream",
     "text": [
      "strategy appended step ['leave feature as is (do nothing): latitude', FunctionTransformer(func=<function C__leave_it_as_is__StrategyTransformer.get_transformer.<locals>.<lambda> at 0x7faf7d8a18c0>)] to pipeline\n",
      "strategy \"leave feature as is (do nothing): latitude\" transformation is COMPLETE!\n"
     ]
    },
    {
     "data": {
      "text/html": [
       "<p><br><br>"
      ],
      "text/plain": [
       "<IPython.core.display.HTML object>"
      ]
     },
     "metadata": {},
     "output_type": "display_data"
    },
    {
     "data": {
      "text/html": [
       "<b>(composite) strategy name/description: <i><font color='red'>longitude</font></i></b><ol><li><b>strategy description</b>: <i><font color='blue' style='font-size: x-large;'>leave feature as is (do nothing): longitude</font></i></li></ol>"
      ],
      "text/plain": [
       "<IPython.core.display.HTML object>"
      ]
     },
     "metadata": {},
     "output_type": "display_data"
    },
    {
     "name": "stdout",
     "output_type": "stream",
     "text": [
      "strategy appended step ['leave feature as is (do nothing): longitude', FunctionTransformer(func=<function C__leave_it_as_is__StrategyTransformer.get_transformer.<locals>.<lambda> at 0x7faf831357a0>)] to pipeline\n",
      "strategy \"leave feature as is (do nothing): longitude\" transformation is COMPLETE!\n"
     ]
    },
    {
     "data": {
      "text/html": [
       "<p><br><br>"
      ],
      "text/plain": [
       "<IPython.core.display.HTML object>"
      ]
     },
     "metadata": {},
     "output_type": "display_data"
    },
    {
     "data": {
      "text/html": [
       "<b>(composite) strategy name/description: <i><font color='red'>num_private</font></i></b><ol><li><b>strategy description</b>: <i><font color='blue' style='font-size: x-large;'>leave feature as is (do nothing): num_private</font></i></li></ol>"
      ],
      "text/plain": [
       "<IPython.core.display.HTML object>"
      ]
     },
     "metadata": {},
     "output_type": "display_data"
    },
    {
     "name": "stdout",
     "output_type": "stream",
     "text": [
      "strategy appended step ['leave feature as is (do nothing): num_private', FunctionTransformer(func=<function C__leave_it_as_is__StrategyTransformer.get_transformer.<locals>.<lambda> at 0x7faf83135680>)] to pipeline\n",
      "strategy \"leave feature as is (do nothing): num_private\" transformation is COMPLETE!\n"
     ]
    },
    {
     "data": {
      "text/html": [
       "<p><br><br>"
      ],
      "text/plain": [
       "<IPython.core.display.HTML object>"
      ]
     },
     "metadata": {},
     "output_type": "display_data"
    },
    {
     "data": {
      "text/html": [
       "<b>(composite) strategy name/description: <i><font color='red'>region_code</font></i></b><ol><li><b>strategy description</b>: <i><font color='blue' style='font-size: x-large;'>(prefit) target-encoder (LOO==False, post_encode_null_to_global_mean==True) transform: region_code</font></i></li></ol>"
      ],
      "text/plain": [
       "<IPython.core.display.HTML object>"
      ]
     },
     "metadata": {},
     "output_type": "display_data"
    },
    {
     "name": "stdout",
     "output_type": "stream",
     "text": [
      "** TargetEncoderLOOTransformer FIT INFO **: transformer has been fit to X\n",
      "strategy appended step ['(prefit) target-encoder (LOO==False, post_encode_null_to_global_mean==True) transform: region_code', FunctionTransformer(func=<function C__target_encode__StrategyTransformer.get_transformer.<locals>.<lambda> at 0x7faf6959ce60>)] to pipeline\n",
      "** TargetEncoderLOOTransformer TRANSFORM INFO **: NOT using Leave-One-Out\n",
      "** TargetEncoderLOOTransformer TRANSFORM INFO **: unique categories of 'region_code' in X match those that were previously fit\n",
      "added new feature: region_code_target_encoded\n",
      "strategy appended step ['drop after target encoding: region_code', <scjpnlib.utils.skl_transformers.DropColumnsTransformer object at 0x7faf695a0210>] to pipeline\n",
      "strategy \"(prefit) target-encoder (LOO==False, post_encode_null_to_global_mean==True) transform: region_code\" dropped feature 'region_code' after target encoding\n",
      "strategy transformation of feature 'region_code' to 'region_code_target_encoded' is COMPLETE!\n"
     ]
    },
    {
     "data": {
      "text/html": [
       "<p><br><br>"
      ],
      "text/plain": [
       "<IPython.core.display.HTML object>"
      ]
     },
     "metadata": {},
     "output_type": "display_data"
    },
    {
     "data": {
      "text/html": [
       "<b>(composite) strategy name/description: <i><font color='red'>district_code</font></i></b><ol><li><b>(composite) strategy name/description: <i><font color='red'>required preprocessing to OneHot-Encode district_code</font></i></b><ol><li><b>strategy description</b>: <i><font color='blue' style='font-size: x-large;'>OneHot Encode: district_code</font></i></li></ol></li></ol>"
      ],
      "text/plain": [
       "<IPython.core.display.HTML object>"
      ]
     },
     "metadata": {},
     "output_type": "display_data"
    },
    {
     "name": "stdout",
     "output_type": "stream",
     "text": [
      "strategy appended step ['OneHot Encode: district_code', <scjpnlib.utils.skl_transformers.OneHotEncodingTransformer object at 0x7faf83129390>] to pipeline\n",
      "strategy \"OneHot Encode: district_code\" transformation is COMPLETE!\n"
     ]
    },
    {
     "data": {
      "text/html": [
       "<p><br><br>"
      ],
      "text/plain": [
       "<IPython.core.display.HTML object>"
      ]
     },
     "metadata": {},
     "output_type": "display_data"
    },
    {
     "data": {
      "text/html": [
       "<b>(composite) strategy name/description: <i><font color='red'>ward</font></i></b><ol><li><b>strategy description</b>: <i><font color='blue' style='font-size: x-large;'>tfidf normalize string-categorical: ward</font></i></li><li><b>strategy description</b>: <i><font color='blue' style='font-size: x-large;'>(prefit) target-encoder (LOO==False, post_encode_null_to_global_mean==True) transform: ward</font></i></li></ol>"
      ],
      "text/plain": [
       "<IPython.core.display.HTML object>"
      ]
     },
     "metadata": {},
     "output_type": "display_data"
    },
    {
     "data": {
      "text/html": [
       "there are 2087 unique documents in the <i>ward</i> corpus"
      ],
      "text/plain": [
       "<IPython.core.display.HTML object>"
      ]
     },
     "metadata": {},
     "output_type": "display_data"
    },
    {
     "data": {
      "text/html": [
       "<p><br>fitting the <code>TfidfVectorizer</code> model to the corpus..."
      ],
      "text/plain": [
       "<IPython.core.display.HTML object>"
      ]
     },
     "metadata": {},
     "output_type": "display_data"
    },
    {
     "data": {
      "text/html": [
       "<pre>\tALL DONE!</pre>"
      ],
      "text/plain": [
       "<IPython.core.display.HTML object>"
      ]
     },
     "metadata": {},
     "output_type": "display_data"
    },
    {
     "data": {
      "text/html": [
       "there are 2121 terms in the vocabulary after fitting <code>TF-IDF</code> model to the corpus"
      ],
      "text/plain": [
       "<IPython.core.display.HTML object>"
      ]
     },
     "metadata": {},
     "output_type": "display_data"
    },
    {
     "data": {
      "text/html": [
       "<p><br>building the idx term map..."
      ],
      "text/plain": [
       "<IPython.core.display.HTML object>"
      ]
     },
     "metadata": {},
     "output_type": "display_data"
    },
    {
     "data": {
      "text/html": [
       "<pre>\tALL DONE!</pre>"
      ],
      "text/plain": [
       "<IPython.core.display.HTML object>"
      ]
     },
     "metadata": {},
     "output_type": "display_data"
    },
    {
     "name": "stdout",
     "output_type": "stream",
     "text": [
      "strategy appended step ['tfidf normalize string-categorical: ward', FunctionTransformer(func=<function C__tfidf_normalize__StrategyTransformer.get_transformer.<locals>.<lambda> at 0x7faf7d8a1a70>)] to pipeline\n"
     ]
    },
    {
     "data": {
      "text/html": [
       "<p><br>mapping DIRTY <i>ward</i> documents to <code>TF-IDF</code> vectors..."
      ],
      "text/plain": [
       "<IPython.core.display.HTML object>"
      ]
     },
     "metadata": {},
     "output_type": "display_data"
    }
   ],
   "source": [
    "data_train_preprocessed = data_train.copy()\n",
    "\n",
    "for group_name, preprocessing_option in preprocessing_spec.items():\n",
    "    composite_transformer = scjpnpreprocessing.instantiate_strategy_transformer(\n",
    "        preprocessing_option, \n",
    "        group_name,\n",
    "        pipeline_data_preprocessor,\n",
    "        verbose=True\n",
    "    )\n",
    "    scjpnpreprocessing.html_prettify_strategy_transformer_description(composite_transformer)\n",
    "    data_train_preprocessed = composite_transformer.fit_transform(data_train_preprocessed, y_train_encoded.status_group)\n",
    "    display(HTML(\"<p><br><br>\"))"
   ]
  },
  {
   "cell_type": "code",
   "execution_count": null,
   "metadata": {},
   "outputs": [],
   "source": [
    "scjpnutils.analyze_values(data_train_preprocessed, 'data_train AFTER preprocessing');"
   ]
  },
  {
   "cell_type": "code",
   "execution_count": null,
   "metadata": {},
   "outputs": [],
   "source": [
    "data_train = data_train_preprocessed\n",
    "null_labeled = data_train.isnull().values.any()"
   ]
  },
  {
   "cell_type": "markdown",
   "metadata": {},
   "source": [
    "<p><br>\n",
    "\n",
    "## Apply Preprocessing Transformations (using the `Pipeline`) to Testing Data"
   ]
  },
  {
   "cell_type": "code",
   "execution_count": null,
   "metadata": {},
   "outputs": [],
   "source": [
    "scjpnutils.analyze_values(data_test, 'data_test BEFORE preprocessing');"
   ]
  },
  {
   "cell_type": "code",
   "execution_count": null,
   "metadata": {
    "tags": []
   },
   "outputs": [],
   "source": [
    "data_test_preprocessed = pipeline_data_preprocessor.transform(data_test)"
   ]
  },
  {
   "cell_type": "code",
   "execution_count": null,
   "metadata": {},
   "outputs": [],
   "source": [
    "scjpnutils.analyze_values(data_test_preprocessed, 'data_test AFTER preprocessing');"
   ]
  },
  {
   "cell_type": "code",
   "execution_count": null,
   "metadata": {},
   "outputs": [],
   "source": [
    "data_test = data_test_preprocessed\n",
    "null_labeled = null_labeled and data_test.isnull().values.any()\n",
    "data_ALL_labeled = pd.concat([data_train, data_test], axis=0).sort_index()"
   ]
  },
  {
   "cell_type": "markdown",
   "metadata": {},
   "source": [
    "<p><br>\n",
    "\n",
    "## Apply Preprocessing Transformations (using the `Pipeline`) to Unlabeled Data"
   ]
  },
  {
   "cell_type": "code",
   "execution_count": null,
   "metadata": {},
   "outputs": [],
   "source": [
    "scjpnutils.analyze_values(data_unlabeled, 'data_unlabeled BEFORE preprocessing');"
   ]
  },
  {
   "cell_type": "code",
   "execution_count": null,
   "metadata": {
    "tags": []
   },
   "outputs": [],
   "source": [
    "data_unlabeled_preprocessed = pipeline_data_preprocessor.transform(data_unlabeled)"
   ]
  },
  {
   "cell_type": "code",
   "execution_count": null,
   "metadata": {},
   "outputs": [],
   "source": [
    "scjpnutils.analyze_values(data_unlabeled_preprocessed, 'data_unlabeled AFTER preprocessing');"
   ]
  },
  {
   "cell_type": "code",
   "execution_count": null,
   "metadata": {},
   "outputs": [],
   "source": [
    "data_unlabeled = data_unlabeled_preprocessed\n",
    "null_unlabeled = data_unlabeled.isnull().values.any()"
   ]
  },
  {
   "cell_type": "markdown",
   "metadata": {},
   "source": [
    "<p><br>\n",
    "<h2>Build Models (Run Trials)</h2>\n",
    "\n",
    "<h3>General functions for building Classifiers and running trials</h3>"
   ]
  },
  {
   "cell_type": "code",
   "execution_count": null,
   "metadata": {},
   "outputs": [],
   "source": [
    "# utility function to render HTML and optionally log (append) it to file\n",
    "def render_HTML(the_html, fname=None):\n",
    "    display(HTML(the_html))\n",
    "    if fname is not None:\n",
    "        fm.append_text_file(BeautifulSoup(the_html).text + '\\n', fname)"
   ]
  },
  {
   "cell_type": "code",
   "execution_count": null,
   "metadata": {},
   "outputs": [],
   "source": [
    "def get_trials_log_fname(clf):\n",
    "    return f\"{MODEL_RESULTS_DIR}{clf.__class__.__name__}-{digest}-trials.log\" if LOG_MODEL_TRIALS else None"
   ]
  },
  {
   "cell_type": "code",
   "execution_count": null,
   "metadata": {},
   "outputs": [],
   "source": [
    "def gs_find_best_params(clf, param_grid):\n",
    "    render_HTML(f\"<br><br>param_grid for {clf.__class__.__name__} GridSearch:<br><pre>{params}</pre>\", fname=get_trials_log_fname(clf))\n",
    "    grid_clf = GridSearchCV(\n",
    "        clf, \n",
    "        param_grid, \n",
    "        cv=K, \n",
    "        n_jobs=-1\n",
    "        , verbose=20\n",
    "    )\n",
    "    # with joblib.parallel_backend('dask'):\n",
    "    #     %time _ = grid_clf.fit(data_train, y_train)\n",
    "    %time _ = grid_clf.fit(data_train, y_train)\n",
    "    return grid_clf.best_params_"
   ]
  },
  {
   "cell_type": "code",
   "execution_count": null,
   "metadata": {},
   "outputs": [],
   "source": [
    "def clf_fit(clf, data_train, y_train):\n",
    "    # with joblib.parallel_backend('dask'):\n",
    "    #     %time clf.fit(data_train, y_train)\n",
    "    %time clf.fit(data_train, y_train)\n",
    "    return clf"
   ]
  },
  {
   "cell_type": "code",
   "execution_count": null,
   "metadata": {},
   "outputs": [],
   "source": [
    "def summarize_preds(clf, X, y, preds, dataset_name, classes):\n",
    "    render_HTML(\"<p><br>\", fname=get_trials_log_fname(clf))\n",
    "    _accuracy = accuracy_score(y, preds)\n",
    "    render_HTML(f\"{dataset_name} Accuracy: {round(_accuracy*100,4)}\", fname=get_trials_log_fname(clf))\n",
    "    render_HTML(\"<p><br>\", fname=get_trials_log_fname(clf))\n",
    "    render_HTML(f\"<pre>{classification_report(y, preds, target_names=classes)}</pre>\", fname=get_trials_log_fname(clf))\n",
    "    return _accuracy"
   ]
  },
  {
   "cell_type": "code",
   "execution_count": null,
   "metadata": {},
   "outputs": [],
   "source": [
    "def get_feat_importances(clf):\n",
    "    if hasattr(clf, 'feature_importances_'):\n",
    "        feat_importances = {}\n",
    "        for i, feat in enumerate(list(data_train.columns)):\n",
    "            feat_importances[feat] = clf.feature_importances_[i]\n",
    "        return sorted(list(feat_importances.items()), key=lambda item: item[1], reverse=True)\n",
    "    else:\n",
    "        return None"
   ]
  },
  {
   "cell_type": "code",
   "execution_count": null,
   "metadata": {},
   "outputs": [],
   "source": [
    "def clf_run_trial(clf, params_to_try, best_parameters_so_far, run_trials_gridsearch=False):\n",
    "    if run_trials_gridsearch:\n",
    "        for param_name, param_value in best_parameters_so_far.items():\n",
    "            params_to_try.update({param_name: [param_value]})\n",
    "        best_parameters = gs_find_best_params(clf, params_to_try)\n",
    "    else:\n",
    "        best_parameters = params_to_try\n",
    "    best_parameters_so_far.update(best_parameters)\n",
    "\n",
    "    render_HTML(\"<p><br>\", fname=get_trials_log_fname(clf))\n",
    "    render_HTML(f\"Grid Search {'(previously) ' if not run_trials_gridsearch else ''}found the following optimal parameters: \", fname=get_trials_log_fname(clf))\n",
    "    render_HTML(f\"<pre>{pprint.pformat(best_parameters_so_far, indent=4)}</pre>\", fname=get_trials_log_fname(clf))\n",
    "\n",
    "    _y_train = y_train_encoded.status_group.ravel()\n",
    "    _y_test = y_test_encoded.status_group.ravel()\n",
    "    \n",
    "    render_HTML(\"<p><br>\", fname=get_trials_log_fname(clf))\n",
    "    render_HTML(\"Fitting classifier...\", fname=get_trials_log_fname(clf))\n",
    "    clf = clf.set_params(**best_parameters_so_far)\n",
    "    clf = clf_fit(clf, data_train, _y_train)\n",
    "    s_all_done = \"\\tALL DONE!\"\n",
    "    render_HTML(f\"<pre>{s_all_done}</pre>\", fname=get_trials_log_fname(clf))\n",
    "\n",
    "    _class_name = clf.__class__.__name__\n",
    "    model_results['modeling_results'][_class_name] = {}\n",
    "\n",
    "    render_HTML(\"<p><br>\", fname=get_trials_log_fname(clf))\n",
    "    render_HTML(\"Predicting labels on training data...\", fname=get_trials_log_fname(clf))\n",
    "    pred_train = clf.predict(data_train)\n",
    "    render_HTML(f\"<pre>{s_all_done}</pre>\", fname=get_trials_log_fname(clf))\n",
    "    _accuracy_train = summarize_preds(clf, data_train, _y_train, pred_train, 'Training', classes)\n",
    "    model_results['modeling_results'][_class_name]['accuracy'] = {}\n",
    "    model_results['modeling_results'][_class_name]['accuracy']['train'] = _accuracy_train\n",
    "\n",
    "    if not run_trials_gridsearch:\n",
    "        render_HTML(\"<p><br>\")\n",
    "        render_HTML(\"Computing cross-val score on training data...\")\n",
    "        model_results['modeling_results'][_class_name]['cv_score'] = {}\n",
    "        cv_score_train = cross_val_score(clf, data_train, _y_train, cv=cross_val_score_K)\n",
    "        mean_cv_score_train = np.mean(cv_score_train)\n",
    "        model_results['modeling_results'][_class_name]['cv_score']['train'] = mean_cv_score_train\n",
    "        render_HTML(f\"<pre>{s_all_done} scores: {cv_score_train}</pre>\")\n",
    "        render_HTML(f\"cross_val_score: {mean_cv_score_train}\")\n",
    "\n",
    "    render_HTML(\"<p><br>\", fname=get_trials_log_fname(clf))\n",
    "    render_HTML(f\"Predicting labels on testing data...\", fname=get_trials_log_fname(clf))\n",
    "    pred_test = clf.predict(data_test)\n",
    "    render_HTML(f\"<pre>{s_all_done}</pre>\", fname=get_trials_log_fname(clf))\n",
    "    _accuracy_test = summarize_preds(clf, data_test, _y_test, pred_test, 'Testing', classes)\n",
    "    model_results['modeling_results'][_class_name]['accuracy']['test'] = _accuracy_test\n",
    "    model_results['modeling_results'][_class_name]['feature_importances'] = get_feat_importances(clf)\n",
    "    \n",
    "    if not run_trials_gridsearch:\n",
    "        render_HTML(\"<p><br>\")\n",
    "        render_HTML(f\"Computing cross-val score on testing data...\")\n",
    "        cv_score_test = cross_val_score(clf, data_test, _y_test, cv=cross_val_score_K)\n",
    "        mean_cv_score_test = np.mean(cv_score_test)\n",
    "        model_results['modeling_results'][_class_name]['cv_score']['test'] = mean_cv_score_test\n",
    "        render_HTML(f\"<pre>{s_all_done} scores: {cv_score_test}</pre>\")\n",
    "        render_HTML(f\"cross_val_score: {mean_cv_score_test}\")\n",
    "\n",
    "    if hasattr(clf, 'feature_importances_'):\n",
    "        render_HTML(\"<p><br>\", fname=get_trials_log_fname(clf))\n",
    "        render_HTML(\"Feature Importances:\", fname=get_trials_log_fname(clf))\n",
    "        render_HTML(f\"<pre>{pprint.pformat(model_results['modeling_results'][_class_name]['feature_importances'], indent=4)}</pre><p><br><br>\", fname=get_trials_log_fname(clf))\n",
    "\n",
    "    return clf, best_parameters_so_far, model_results"
   ]
  },
  {
   "cell_type": "code",
   "execution_count": null,
   "metadata": {},
   "outputs": [],
   "source": [
    "def clf_build_final_model(clf, params):\n",
    "    render_HTML(\"Fitting classifier {} to ALL LABALED data...\")\n",
    "    clf = clf.set_params(**best_parameters_so_far)\n",
    "    clf = clf_fit(clf, data_ALL_labeled_with_target.drop('status_group', axis=1), data_ALL_labeled_with_target[['status_group']])\n",
    "    s_all_done = \"\\tALL DONE!\"\n",
    "    render_HTML(f\"<pre>{s_all_done}</pre>\")\n",
    "\n",
    "    render_HTML(\"<p><br>\", fname=get_trials_log_fname(clf))\n",
    "    render_HTML(\"Predicting labels of UNLABELED data...\", fname=get_trials_log_fname(clf))\n",
    "    pred_unlabeled = clf.predict(data_unlabeled)\n",
    "    render_HTML(f\"<pre>{s_all_done}</pre>\", fname=get_trials_log_fname(clf))\n",
    "\n",
    "    return "
   ]
  },
  {
   "cell_type": "markdown",
   "metadata": {},
   "source": [
    "<p><br>\n",
    "<h2>Initialize Dask-Client (to Dask backend for parallelization) <i>(DISABLED for now)</i></h2>"
   ]
  },
  {
   "cell_type": "code",
   "execution_count": null,
   "metadata": {},
   "outputs": [],
   "source": [
    "if models_config['dask']['use']:\n",
    "    if models_config['dask']['is_remote']:\n",
    "        # for Kubernetes dask scheduler/worker cluster in GCP - but this costs money to run the cluster AND requires a lot more work for data parallelization!\n",
    "        dask_client = Client(f\"tcp://{models_config['dask']['remote']['scheduler_address']}:8786\")\n",
    "    else:\n",
    "        # local\n",
    "        dask_client = Client( #spawns a local cluster\n",
    "            n_workers=models_config['dask']['local']['n_workers'], \n",
    "            threads_per_worker=models_config['dask']['local']['n_jobs'], \n",
    "            memory_limit=models_config['dask']['local']['memory_limit'] # memory_limit is per worker\n",
    "        )\n",
    "\n",
    "    dask_client"
   ]
  },
  {
   "cell_type": "markdown",
   "metadata": {},
   "source": [
    "<p><br>\n",
    "<h3>Decision Tree Classifier</h3>\n",
    "<h4>Trials</h4>"
   ]
  },
  {
   "cell_type": "code",
   "execution_count": null,
   "metadata": {
    "tags": []
   },
   "outputs": [],
   "source": [
    "run_dtclf = models_config['DecisionTreeClassifier']['run'] and not null_labeled and not null_unlabeled\n",
    "render_HTML(f\"models_config['DecisionTreeClassifier']['run']: {models_config['DecisionTreeClassifier']['run']}; data_ALL_labeled_with_target.isnull().values.any(): {null_labeled}; data_unlabeled.isnull().values.any(): {null_unlabeled}\")\n",
    "\n",
    "if run_dtclf:\n",
    "    trials = models_config['DecisionTreeClassifier']['trials']\n",
    "\n",
    "    display(HTML(f\"models_config['DecisionTreeClassifier']['trials']['run']: {trials['run']}\"))\n",
    "    if trials['run']:\n",
    "        trials_list = trials['array']\n",
    "\n",
    "        best_parameters = {}\n",
    "        for i, trial in enumerate(trials_list):\n",
    "            display(HTML(f\"<p><br>trial[{i}]['gridsearch']['run']: {trial['gridsearch']['run']}<br>\"))\n",
    "            params = trial['gridsearch']['last_best'] if not trial['gridsearch']['run'] else trial['gridsearch']['param_grid']\n",
    "            rfclf, best_parameters, model_results = clf_run_trial(DecisionTreeClassifier(), params, best_parameters, run_trials_gridsearch=trial['gridsearch']['run']) # note that best_parameters will be set to those used in the last trial\n",
    "\n",
    "    else:\n",
    "        best_parameters = models_config['DecisionTreeClassifier']['params']"
   ]
  },
  {
   "cell_type": "markdown",
   "metadata": {},
   "source": [
    "<p><br>\n",
    "<h4>Build Validation Final Model with best params</h4>"
   ]
  },
  {
   "cell_type": "code",
   "execution_count": null,
   "metadata": {
    "tags": []
   },
   "outputs": [],
   "source": [
    "if run_dtclf:\n",
    "    best_parameters.update({'random_state': SEED})\n",
    "    dtclf, _, model_results = clf_run_trial(DecisionTreeClassifier(), best_parameters, best_parameters)\n",
    "    \n",
    "    pred_unlabeled = dtclf.predict(data_unlabeled)\n",
    "    pred_unlabeled"
   ]
  },
  {
   "cell_type": "code",
   "execution_count": null,
   "metadata": {},
   "outputs": [],
   "source": [
    "if run_dtclf:\n",
    "    bagging_dtclf, _, model_results = clf_run_trial(BaggingClassifier(base_estimator=dtclf, n_estimators=500, random_state=SEED), {}, {})\n",
    "    pred_unlabeled = bagging_dtclf.predict(data_unlabeled)"
   ]
  },
  {
   "cell_type": "markdown",
   "metadata": {},
   "source": [
    "<p><br><br>\n",
    "<h4>Build Final Model with ALL Labeled Data (Test + Validation)</h4>"
   ]
  },
  {
   "cell_type": "code",
   "execution_count": null,
   "metadata": {},
   "outputs": [],
   "source": [
    "if run_dtclf:\n",
    "    dtclf = DecisionTreeClassifier()\n",
    "    del best_parameters['random_state']\n",
    "    dtclf.set_params(**best_parameters)\n",
    "    dtclf.fit(data_ALL_labeled, labels_encoded.status_group)"
   ]
  },
  {
   "cell_type": "markdown",
   "metadata": {},
   "source": [
    "<p><br><br>\n",
    "<h4>Make Predictions with Final Model on Unlabeled Predictors</h4>"
   ]
  },
  {
   "cell_type": "code",
   "execution_count": null,
   "metadata": {
    "tags": []
   },
   "outputs": [],
   "source": [
    "if run_dtclf:\n",
    "    pred_unlabeled = dtclf.predict(data_unlabeled)\n",
    "    df_pred_unlabeled = pd.concat([data_unlabeled.reset_index()[['id']], pd.DataFrame(pred_unlabeled, columns=['status_group'])], axis=1).set_index('id')\n",
    "    df_pred_unlabeled.info()\n",
    "    fname__preds_unlabeled = f\"{MODEL_RESULTS_DIR}DecisionTreeClassifier-preds-{digest}.csv\"\n",
    "    df_pred_unlabeled.to_csv(fname__preds_unlabeled, sep=',')\n",
    "    print(f\"updated {fname__preds_unlabeled}\")"
   ]
  },
  {
   "cell_type": "markdown",
   "metadata": {},
   "source": [
    "<p><br>\n",
    "<h3>Random Forest Classifier</h3>\n",
    "<h4>Trials</h4>"
   ]
  },
  {
   "cell_type": "code",
   "execution_count": null,
   "metadata": {},
   "outputs": [],
   "source": [
    "run_rfclf = models_config['RandomForestClassifier']['run'] and not null_labeled and not null_unlabeled\n",
    "render_HTML(f\"models_config['RandomForestClassifier']['run']: {models_config['RandomForestClassifier']['run']}; data_ALL_labeled_with_target.isnull().values.any(): {null_labeled}; data_unlabeled.isnull().values.any(): {null_unlabeled}\")\n",
    "\n",
    "if run_rfclf:\n",
    "    trials = models_config['RandomForestClassifier']['trials']\n",
    "\n",
    "    render_HTML(f\"models_config['RandomForestClassifier']['trials']['run']: {trials['run']}\")\n",
    "    if trials['run']:\n",
    "        trials_list = trials['array']\n",
    "\n",
    "        best_parameters = {}\n",
    "        for i, trial in enumerate(trials_list):\n",
    "            render_HTML(f\"<p><br>trial[{i}]['gridsearch']['run']: {trial['gridsearch']['run']}<br>\")\n",
    "            params = trial['gridsearch']['last_best'] if not trial['gridsearch']['run'] else trial['gridsearch']['param_grid']\n",
    "            if trial['gridsearch']['run']:\n",
    "                params.update({'n_jobs': [-1]})\n",
    "            else:\n",
    "                params.update({'n_jobs':-1})\n",
    "            rfclf, best_parameters, model_results = clf_run_trial(RandomForestClassifier(), params, best_parameters, run_trials_gridsearch=trial['gridsearch']['run']) # note that best_parameters will be set to those used in the last trial\n",
    "\n",
    "    else:\n",
    "        best_parameters = models_config['RandomForestClassifier']['params']"
   ]
  },
  {
   "cell_type": "markdown",
   "metadata": {},
   "source": [
    "<p><br>\n",
    "<h4>Build Final Vaildation Model with best params</h4>"
   ]
  },
  {
   "cell_type": "code",
   "execution_count": null,
   "metadata": {
    "tags": []
   },
   "outputs": [],
   "source": [
    "if run_rfclf:\n",
    "    best_parameters.update({'n_jobs':-1, 'verbose':1, 'random_state': SEED})\n",
    "    rfclf, _ , model_results = clf_run_trial(RandomForestClassifier(), best_parameters, best_parameters)"
   ]
  },
  {
   "cell_type": "markdown",
   "metadata": {},
   "source": [
    "<p><br><br>\n",
    "<h4>Build Final Model with ALL Labeled Data (Test + Validation)</h4>"
   ]
  },
  {
   "cell_type": "code",
   "execution_count": null,
   "metadata": {
    "tags": []
   },
   "outputs": [],
   "source": [
    "if run_rfclf:\n",
    "    rfclf = RandomForestClassifier()\n",
    "    del best_parameters['random_state']\n",
    "    rfclf.set_params(**best_parameters)\n",
    "    rfclf.fit(data_ALL_labeled, labels_encoded.status_group)"
   ]
  },
  {
   "cell_type": "markdown",
   "metadata": {},
   "source": [
    "<p><br><br>\n",
    "<h4>Make Predictions with Final Model on Unlabeled Predictors</h4>"
   ]
  },
  {
   "cell_type": "code",
   "execution_count": null,
   "metadata": {
    "tags": []
   },
   "outputs": [],
   "source": [
    "if run_rfclf:\n",
    "    pred_unlabeled = rfclf.predict(data_unlabeled)\n",
    "    df_pred_unlabeled = pd.concat([data_unlabeled.reset_index()[['id']], pd.DataFrame(pred_unlabeled, columns=['status_group'])], axis=1).set_index('id')\n",
    "    df_pred_unlabeled.info()\n",
    "    fname__preds_unlabeled = f\"{MODEL_RESULTS_DIR}RandomForestClassifier-preds-{digest}.csv\"\n",
    "    df_pred_unlabeled.to_csv(fname__preds_unlabeled, sep=',')\n",
    "    print(f\"updated {fname__preds_unlabeled}\")"
   ]
  },
  {
   "cell_type": "markdown",
   "metadata": {},
   "source": [
    "<p><br><br><br>\n",
    "<h3>XGBClassifier</h3>\n",
    "<h4>Trials</h4>"
   ]
  },
  {
   "cell_type": "code",
   "execution_count": null,
   "metadata": {},
   "outputs": [],
   "source": [
    "run_xgbclf = models_config['XGBClassifier']['run']\n",
    "render_HTML(f\"models_config['XGBClassifier']['run']: {run_xgbclf}\")\n",
    "\n",
    "if run_xgbclf:\n",
    "    trials = models_config['XGBClassifier']['trials']\n",
    "\n",
    "    render_HTML(f\"models_config['XGBClassifier']['trials']['run']: {trials['run']}\")\n",
    "    if trials['run']:\n",
    "        trials_list = trials['array']\n",
    "\n",
    "        best_parameters = {}\n",
    "        for i, trial in enumerate(trials_list):\n",
    "            render_HTML(f\"<p><br>trial[{i}]['gridsearch']['run']: {trial['gridsearch']['run']}<br>\")\n",
    "            params = trial['gridsearch']['last_best'] if not trial['gridsearch']['run'] else trial['gridsearch']['param_grid']\n",
    "            if trial['gridsearch']['run']:\n",
    "                params.update({'n_jobs': [-1]})\n",
    "            else:\n",
    "                params.update({'n_jobs':-1})\n",
    "            xgbclf, best_parameters, model_results = clf_run_trial(XGBClassifier(), params, best_parameters, run_trials_gridsearch=trial['gridsearch']['run']) # note that best_parameters will be set to those used in the last trial\n",
    "\n",
    "    else:\n",
    "        best_parameters = models_config['XGBClassifier']['params']"
   ]
  },
  {
   "cell_type": "markdown",
   "metadata": {},
   "source": [
    "<p><br>\n",
    "<h4>Build Final Vaildation Model with best params</h4>"
   ]
  },
  {
   "cell_type": "code",
   "execution_count": null,
   "metadata": {
    "tags": []
   },
   "outputs": [],
   "source": [
    "if run_xgbclf:\n",
    "    best_parameters.update({'n_jobs':-1, 'verbosity':1, 'random_state': SEED})\n",
    "    xgbclf, _ , model_results = clf_run_trial(XGBClassifier(), best_parameters, best_parameters)"
   ]
  },
  {
   "cell_type": "markdown",
   "metadata": {},
   "source": [
    "<p><br><br>\n",
    "<h4>Build Final Model with ALL Labeled Data (Test + Validation)</h4>"
   ]
  },
  {
   "cell_type": "code",
   "execution_count": null,
   "metadata": {},
   "outputs": [],
   "source": [
    "if run_xgbclf:\n",
    "    xgbclf = XGBClassifier()\n",
    "    del best_parameters['random_state']\n",
    "    xgbclf.set_params(**best_parameters)\n",
    "    xgbclf.fit(data_ALL_labeled, labels_encoded.status_group)"
   ]
  },
  {
   "cell_type": "markdown",
   "metadata": {},
   "source": [
    "<p><br><br>\n",
    "<h4>Make Predictions with Final Model on Unlabeled Predictors</h4>"
   ]
  },
  {
   "cell_type": "code",
   "execution_count": null,
   "metadata": {},
   "outputs": [],
   "source": [
    "if run_xgbclf:\n",
    "    pred_unlabeled = xgbclf.predict(data_unlabeled)\n",
    "    df_pred_unlabeled = pd.concat([data_unlabeled.reset_index()[['id']], pd.DataFrame(pred_unlabeled, columns=['status_group_encoded'])], axis=1).set_index('id')\n",
    "    df_pred_unlabeled['status_group'] = df_pred_unlabeled['status_group_encoded'].apply(lambda sg_encoded: classes[sg_encoded])\n",
    "    df_pred_unlabeled = df_pred_unlabeled.drop('status_group_encoded', axis=1)\n",
    "    df_pred_unlabeled.info()\n",
    "    fname__preds_unlabeled = f\"{MODEL_RESULTS_DIR}XGBClassifier-preds-{digest}.csv\"\n",
    "    df_pred_unlabeled.to_csv(fname__preds_unlabeled, sep=',')\n",
    "    print(f\"updated {fname__preds_unlabeled}\")"
   ]
  },
  {
   "cell_type": "markdown",
   "metadata": {},
   "source": [
    "<p><br><br><br>\n",
    "<h3>Trying out a different clf</h3>\n",
    "<h4>Trials</h4>"
   ]
  },
  {
   "cell_type": "code",
   "execution_count": null,
   "metadata": {},
   "outputs": [],
   "source": [
    "params = {\n",
    "    'max_depth': [10], \n",
    "    'n_estimators': [1000], \n",
    "    'loss_function': ['MultiClass'], \n",
    "    'grow_policy': ['Depthwise'], \n",
    "    'nan_mode': ['Min'],\n",
    "    'random_state': [SEED]\n",
    "}\n",
    "best_parameters = {}\n",
    "cbclf, best_parameters , model_results = clf_run_trial(\n",
    "    CatBoostClassifier(verbose=False), \n",
    "    params, \n",
    "    best_parameters,\n",
    "    run_trials_gridsearch=True\n",
    ")"
   ]
  },
  {
   "cell_type": "code",
   "execution_count": null,
   "metadata": {},
   "outputs": [],
   "source": [
    "params = {   \n",
    "    'max_depth': 10,\n",
    "    'grow_policy': 'Depthwise',\n",
    "    'loss_function': 'MultiClass',\n",
    "    'n_estimators': 1000,\n",
    "    'nan_mode': 'Min'\n",
    "}\n",
    "cbclf, _ , model_results = clf_run_trial(\n",
    "    CatBoostClassifier(random_state=SEED, verbose=False), \n",
    "    params, \n",
    "    params,\n",
    "    run_trials_gridsearch=False\n",
    ")"
   ]
  },
  {
   "cell_type": "code",
   "execution_count": null,
   "metadata": {},
   "outputs": [],
   "source": [
    "params = {   \n",
    "    'grow_policy': 'Depthwise',\n",
    "    'loss_function': 'MultiClass',\n",
    "    'max_depth': 10,\n",
    "    'n_estimators': 1000,\n",
    "    'nan_mode': 'Min'\n",
    "}\n",
    "cbclf, _ , model_results = clf_run_trial(\n",
    "    CatBoostClassifier(), \n",
    "    params, \n",
    "    params,\n",
    "    run_trials_gridsearch=False\n",
    ")"
   ]
  },
  {
   "cell_type": "code",
   "execution_count": null,
   "metadata": {},
   "outputs": [],
   "source": [
    "# params = {'kernel': ['poly', 'rbf', 'sigmoid'], 'break_ties': [False, True], 'random_state': [SEED]}\n",
    "# best_parameters = {}\n",
    "# svmclf, best_parameters , model_results = clf_run_trial(\n",
    "#     svm.SVC(), \n",
    "#     params, \n",
    "#     best_parameters,\n",
    "#     run_trials_gridsearch=True\n",
    "# )\n",
    "\n",
    "# BaggingClassifier(base_estimator=dtclf, n_estimators=500, random_state=SEED), {}, {}\n",
    "bagging_dtclf, _, model_results = clf_run_trial(BaggingClassifier(base_estimator=svm.SVC(), n_estimators=100, random_state=SEED), {}, {})\n",
    "pred_unlabeled = bagging_dtclf.predict(data_unlabeled)"
   ]
  },
  {
   "cell_type": "code",
   "execution_count": null,
   "metadata": {},
   "outputs": [],
   "source": [
    "# params = {'estimators': [('rf', rfclf), ('xgb', xgbclf)], 'voting': 'hard'}\n",
    "params = {\n",
    "    'estimators': [\n",
    "        ('rf', rfclf),\n",
    "        ('cb', cbclf), \n",
    "        ('xgb', xgbclf)\n",
    "    ], \n",
    "    'voting': 'hard'\n",
    "}\n",
    "vclf, _ , model_results = clf_run_trial(VotingClassifier(estimators=params['estimators'], voting=params['voting']), params, params)"
   ]
  },
  {
   "cell_type": "markdown",
   "metadata": {},
   "source": [
    "<p><br><br>\n",
    "<h4>Save All Model Results to File</h4>"
   ]
  },
  {
   "cell_type": "code",
   "execution_count": null,
   "metadata": {
    "tags": []
   },
   "outputs": [],
   "source": [
    "fm.save_json(model_results, f\"{model_results_fname}\")\n",
    "print(f\"updated {model_results_fname}\")"
   ]
  }
 ],
 "metadata": {
  "kernelspec": {
   "display_name": "Python 3.6.10 64-bit ('learn-env': conda)",
   "language": "python",
   "name": "python361064bitlearnenvconda6dc930ea082b425c82fd8a0b2d571658"
  },
  "language_info": {
   "codemirror_mode": {
    "name": "ipython",
    "version": 3
   },
   "file_extension": ".py",
   "mimetype": "text/x-python",
   "name": "python",
   "nbconvert_exporter": "python",
   "pygments_lexer": "ipython3",
   "version": "3.7.7"
  }
 },
 "nbformat": 4,
 "nbformat_minor": 4
}

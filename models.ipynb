{
 "cells": [
  {
   "cell_type": "markdown",
   "metadata": {},
   "source": [
    "<h2>Import Libraries</h2>"
   ]
  },
  {
   "cell_type": "code",
   "execution_count": 1,
   "metadata": {
    "tags": []
   },
   "outputs": [],
   "source": [
    "from scjpnlib.utils.file_io import FileManager\n",
    "import os \n",
    "import scjpnlib.utils as scjpnutils\n",
    "import pickle\n",
    "import json\n",
    "from IPython.core.display import HTML, Markdown\n",
    "import html2text\n",
    "from bs4 import BeautifulSoup\n",
    "import pprint\n",
    "\n",
    "import pandas as pd\n",
    "import numpy as np\n",
    "\n",
    "from scjpnlib.utils.skl_transformers import LabelEncodingTransformer\n",
    "from sklearn.pipeline import Pipeline\n",
    "from sklearn.model_selection import train_test_split\n",
    "import scjpnlib.utils.preprocessing_strategy_transformers as scjpnpreprocessing\n",
    "\n",
    "from sklearn.model_selection import GridSearchCV, cross_val_score, RandomizedSearchCV\n",
    "from scipy.stats import reciprocal, uniform\n",
    "import dask_ml.model_selection as dcv\n",
    "from dask.distributed import Client\n",
    "import joblib\n",
    "\n",
    "from sklearn.tree import DecisionTreeClassifier\n",
    "from sklearn.ensemble import RandomForestClassifier, VotingClassifier, BaggingClassifier, AdaBoostClassifier\n",
    "from sklearn.multiclass import OneVsRestClassifier\n",
    "from xgboost import XGBClassifier\n",
    "from sklearn import svm\n",
    "from catboost import CatBoostClassifier\n",
    "\n",
    "\n",
    "from sklearn.metrics import classification_report\n",
    "from sklearn.metrics import accuracy_score\n",
    "\n",
    "from sklearn.preprocessing import StandardScaler\n",
    "\n",
    "%load_ext autoreload\n",
    "%autoreload 2\n",
    "\n",
    "n_jobs = 8\n",
    "\n",
    "LOG_MODEL_TRIALS = True"
   ]
  },
  {
   "cell_type": "markdown",
   "metadata": {},
   "source": [
    "## Read Configs for this Experiment"
   ]
  },
  {
   "cell_type": "code",
   "execution_count": 2,
   "metadata": {},
   "outputs": [
    {
     "data": {
      "text/plain": [
       "{'logging': {'dir': 'model-results'},\n",
       " 'cross_validation': {'k': {'grid_search': 3, 'score': 5}},\n",
       " 'dask': {'use': False,\n",
       "  'is_remote': False,\n",
       "  'local': {'n_workers': 1, 'n_jobs': 8, 'memory_limit': '16GB'},\n",
       "  'remote': {'scheduler_address': '35.230.13.87'}},\n",
       " 'SEED': 42,\n",
       " 'DecisionTreeClassifier': {'run': False,\n",
       "  'trials': {'run': True,\n",
       "   'array': [{'gridsearch': {'run': True,\n",
       "      'param_grid': {'criterion': ['entropy', 'gini'],\n",
       "       'splitter': ['best'],\n",
       "       'max_depth': [10, 50, 75, None],\n",
       "       'min_samples_split': [2],\n",
       "       'max_features': ['auto', 'sqrt', 'log2']},\n",
       "      'last_best': {'criterion': 'gini',\n",
       "       'max_depth': 10,\n",
       "       'max_features': 'auto',\n",
       "       'min_samples_split': 2,\n",
       "       'random_state': 42,\n",
       "       'splitter': 'best'}}}]},\n",
       "  'params': {'criterion': 'gini',\n",
       "   'max_depth': 10,\n",
       "   'max_features': 'auto',\n",
       "   'min_samples_split': 2,\n",
       "   'random_state': 42,\n",
       "   'splitter': 'best'}},\n",
       " 'RandomForestClassifier': {'run': True,\n",
       "  'trials': {'run': False,\n",
       "   'array': [{'gridsearch': {'run': True,\n",
       "      'param_grid': {'bootstrap': [True, False],\n",
       "       'criterion': ['entropy', 'gini'],\n",
       "       'max_features': ['auto', 'sqrt', 'log2'],\n",
       "       'max_depth': [10, 50, 75, None],\n",
       "       'n_estimators': [100, 500, 1000]},\n",
       "      'last_best': {'bootstrap': False,\n",
       "       'criterion': 'gini',\n",
       "       'max_depth': 75,\n",
       "       'max_features': 'auto',\n",
       "       'n_estimators': 1000}}}]},\n",
       "  'params': {'bootstrap': True,\n",
       "   'criterion': 'gini',\n",
       "   'max_depth': 75,\n",
       "   'max_features': 'auto',\n",
       "   'n_estimators': 1000}},\n",
       " 'XGBClassifier': {'run': False,\n",
       "  'trials': {'run': False,\n",
       "   'array': [{'gridsearch': {'run': True,\n",
       "      'param_grid': {'max_depth': [10, 15, 20]},\n",
       "      'last_best': {}}},\n",
       "    {'gridsearch': {'run': True,\n",
       "      'param_grid': {'n_estimators': [365, 368]},\n",
       "      'last_best': {}}},\n",
       "    {'gridsearch': {'run': True,\n",
       "      'param_grid': {'gamma': [0, 1, 2, 3, 4, 5]},\n",
       "      'last_best': {}}},\n",
       "    {'gridsearch': {'run': True,\n",
       "      'param_grid': {'learning_rate': [0.1, 0.3, 0.6, 0.9, 1.0]},\n",
       "      'last_best': {}}},\n",
       "    {'gridsearch': {'run': True,\n",
       "      'param_grid': {'min_child_weight': [1, 2, 3, 4, 5]},\n",
       "      'last_best': {}}}]},\n",
       "  'params': {'gamma': 0,\n",
       "   'learning_rate': 0.1,\n",
       "   'max_depth': 10,\n",
       "   'min_child_weight': 1,\n",
       "   'n_estimators': 368}},\n",
       " 'CatBoostClassifier': {'run': True,\n",
       "  'trials': {'run': False,\n",
       "   'array': [{'gridsearch': {'run': True,\n",
       "      'param_grid': {'loss_function': ['MultiClass', 'MultiClassOneVsAll']},\n",
       "      'last_best': {}}},\n",
       "    {'gridsearch': {'run': True,\n",
       "      'param_grid': {'grow_policy': ['SymmetricTree',\n",
       "        'Depthwise',\n",
       "        'Lossguide']},\n",
       "      'last_best': {}}},\n",
       "    {'gridsearch': {'run': True,\n",
       "      'param_grid': {'max_depth': [6, 10, 16]},\n",
       "      'last_best': {}}},\n",
       "    {'gridsearch': {'run': True,\n",
       "      'param_grid': {'n_estimators': [100, 500, 1000]},\n",
       "      'last_best': {}}},\n",
       "    {'gridsearch': {'run': True,\n",
       "      'param_grid': {'min_data_in_leaf': [1, 2, 5]},\n",
       "      'last_best': {}}},\n",
       "    {'gridsearch': {'run': True,\n",
       "      'param_grid': {'max_leaves': [15, 23, 31]},\n",
       "      'last_best': {}}},\n",
       "    {'gridsearch': {'run': True,\n",
       "      'param_grid': {'nan_mode': ['Min', 'Max']},\n",
       "      'last_best': {}}}]},\n",
       "  'params': {'grow_policy': 'Depthwise',\n",
       "   'loss_function': 'MultiClass',\n",
       "   'max_depth': 10,\n",
       "   'n_estimators': 1000,\n",
       "   'nan_mode': 'Min'}},\n",
       " 'SVM_RBF': {'run': True,\n",
       "  'trials': {'run': True,\n",
       "   'array': [{'gridsearch': {'run': True,\n",
       "      'param_grid': {'C': [1, 10]},\n",
       "      'last_best': {}}},\n",
       "    {'gridsearch': {'run': True,\n",
       "      'param_grid': {'gamma': [1, 100]},\n",
       "      'last_best': {}}}]},\n",
       "  'params': {}},\n",
       " 'SVM_Poly': {'run': False,\n",
       "  'trials': {'run': True,\n",
       "   'array': [{'gridsearch': {'run': True,\n",
       "      'param_grid': {'degree': [3, 4]},\n",
       "      'last_best': {}}},\n",
       "    {'gridsearch': {'run': True,\n",
       "      'param_grid': {'coef0': [0.1, 2]},\n",
       "      'last_best': {}}},\n",
       "    {'gridsearch': {'run': True,\n",
       "      'param_grid': {'gamma': [0.1, 1]},\n",
       "      'last_best': {}}}]},\n",
       "  'params': {}}}"
      ]
     },
     "execution_count": 2,
     "metadata": {},
     "output_type": "execute_result"
    }
   ],
   "source": [
    "fm = FileManager()\n",
    "\n",
    "preprocessing_config = fm.load_json('preprocessing-config.txt')\n",
    "models_config = fm.load_json('models-config.txt')\n",
    "models_config"
   ]
  },
  {
   "cell_type": "code",
   "execution_count": 3,
   "metadata": {},
   "outputs": [],
   "source": [
    "is_data_cached = 'data_cached' in models_config\n",
    "data_config = models_config['data_cached'] if is_data_cached else fm.load_json('preprocessing-config.txt')"
   ]
  },
  {
   "cell_type": "code",
   "execution_count": 4,
   "metadata": {},
   "outputs": [],
   "source": [
    "if len(data_config['wrangled_data']['dir']) > 0:\n",
    "    WRANGLED_DATA_DIR = data_config['wrangled_data']['dir'] + \"/\"\n",
    "else:\n",
    "    WRANGLED_DATA_DIR = \"\"\n",
    "\n",
    "if len(data_config['labels']['dir']) > 0:\n",
    "    SAVE_LABELS_DIR = data_config['labels']['dir'] + \"/\"\n",
    "else:\n",
    "    SAVE_LABELS_DIR = \"\""
   ]
  },
  {
   "cell_type": "code",
   "execution_count": 5,
   "metadata": {},
   "outputs": [],
   "source": [
    "preprocessing_spec = fm.load_json(WRANGLED_DATA_DIR + \"preprocessing-spec-last.json\")"
   ]
  },
  {
   "cell_type": "code",
   "execution_count": 6,
   "metadata": {
    "tags": []
   },
   "outputs": [
    {
     "name": "stdout",
     "output_type": "stream",
     "text": [
      "digest for last preprocessing spec: 8a48b1bceea8e4f07957e8a9efbe76d8\n"
     ]
    }
   ],
   "source": [
    "digest = data_config['digest'] if is_data_cached else scjpnutils.json_to_md5_hash_digest(preprocessing_spec)\n",
    "print(f\"digest for last preprocessing spec: {digest}\")                                                                                      "
   ]
  },
  {
   "cell_type": "code",
   "execution_count": 7,
   "metadata": {},
   "outputs": [],
   "source": [
    "fname__train_predictors = WRANGLED_DATA_DIR + scjpnutils.get_data_fname(data_config, preprocessing_config, data_kwargs={'is_labels':False,'type':'train','is_cached':is_data_cached})\n",
    "fname__train_labels = SAVE_LABELS_DIR + scjpnutils.get_data_fname(data_config, preprocessing_config, data_kwargs={'is_labels':True,'type':'train','is_cached':is_data_cached})\n",
    "fname__validation_predictors = WRANGLED_DATA_DIR + scjpnutils.get_data_fname(data_config, preprocessing_config, data_kwargs={'is_labels':False,'type':'test','is_cached':is_data_cached})\n",
    "fname__validation_labels = SAVE_LABELS_DIR + scjpnutils.get_data_fname(data_config, preprocessing_config, data_kwargs={'is_labels':True,'type':'test','is_cached':is_data_cached})\n",
    "fname__unlabeled_predictors = WRANGLED_DATA_DIR + scjpnutils.get_data_fname(data_config, preprocessing_config, data_kwargs={'is_labels':False,'type':'unlabeled'})"
   ]
  },
  {
   "cell_type": "code",
   "execution_count": 8,
   "metadata": {
    "tags": []
   },
   "outputs": [
    {
     "name": "stdout",
     "output_type": "stream",
     "text": [
      "modeling results will be saved to: model-results/models-results-8a48b1bceea8e4f07957e8a9efbe76d8.json\n"
     ]
    }
   ],
   "source": [
    "if len(models_config['logging']['dir']) > 0:\n",
    "    MODEL_RESULTS_DIR = models_config['logging']['dir']\n",
    "    try:\n",
    "        os.makedirs(f\"{os.getcwd()}/{MODEL_RESULTS_DIR}\")\n",
    "    except FileExistsError:\n",
    "        pass\n",
    "    MODEL_RESULTS_DIR += \"/\"\n",
    "else:\n",
    "    MODEL_RESULTS_DIR = \"\"\n",
    "    \n",
    "model_results_fname = MODEL_RESULTS_DIR + scjpnutils.get_model_result_fname(data_config, preprocessing_spec, data_kwargs={'is_cached':is_data_cached})\n",
    "print(f\"modeling results will be saved to: {model_results_fname}\")"
   ]
  },
  {
   "cell_type": "code",
   "execution_count": 9,
   "metadata": {},
   "outputs": [],
   "source": [
    "model_results = {}\n",
    "model_results['digest'] = digest\n",
    "model_results['modeling_results'] = {}"
   ]
  },
  {
   "cell_type": "code",
   "execution_count": 10,
   "metadata": {},
   "outputs": [],
   "source": [
    "SEED = models_config['SEED']\n",
    "model_results['seed'] = SEED"
   ]
  },
  {
   "cell_type": "code",
   "execution_count": 11,
   "metadata": {},
   "outputs": [],
   "source": [
    "K = models_config['cross_validation']['k']['grid_search'] # num folds for cross-val\n",
    "cross_val_score_K = models_config['cross_validation']['k']['score']"
   ]
  },
  {
   "cell_type": "markdown",
   "metadata": {},
   "source": [
    "<p><br>\n",
    "\n",
    "## Load Data"
   ]
  },
  {
   "cell_type": "code",
   "execution_count": 12,
   "metadata": {},
   "outputs": [
    {
     "data": {
      "text/html": [
       "Required download-file Taarifa-Unlabeled-Predictors.csv exists locally."
      ],
      "text/plain": [
       "<IPython.core.display.HTML object>"
      ]
     },
     "metadata": {},
     "output_type": "display_data"
    },
    {
     "data": {
      "text/html": [
       "Required download-file Taarifa-Labeled-Predictors.csv exists locally."
      ],
      "text/plain": [
       "<IPython.core.display.HTML object>"
      ]
     },
     "metadata": {},
     "output_type": "display_data"
    },
    {
     "data": {
      "text/html": [
       "Required download-file Taarifa-Labels.csv exists locally."
      ],
      "text/plain": [
       "<IPython.core.display.HTML object>"
      ]
     },
     "metadata": {},
     "output_type": "display_data"
    }
   ],
   "source": [
    "fname_unlabeled_predictors = preprocessing_config['official_data']['unlabeled_predictors']['local_fname']\n",
    "fname_labeled_predictors = preprocessing_config['official_data']['labeled_predictors']['local_fname']\n",
    "fname_labels = preprocessing_config['official_data']['labels']['local_fname']\n",
    "\n",
    "ds_map = {\n",
    "    fname_unlabeled_predictors: preprocessing_config['official_data']['unlabeled_predictors']['url'], \n",
    "    fname_labeled_predictors: preprocessing_config['official_data']['unlabeled_predictors']['url'],\n",
    "    fname_labels: preprocessing_config['official_data']['unlabeled_predictors']['url']\n",
    "}\n",
    "\n",
    "fm.validate_download(ds_map)"
   ]
  },
  {
   "cell_type": "code",
   "execution_count": 13,
   "metadata": {},
   "outputs": [],
   "source": [
    "labeled_with_target = pd.concat(\n",
    "    [\n",
    "        pd.read_csv(fname_labeled_predictors, index_col=0), \n",
    "        pd.read_csv(fname_labels, index_col=0)\n",
    "    ], \n",
    "    axis=1\n",
    "    ,\n",
    "    join='inner'\n",
    ").sort_index()"
   ]
  },
  {
   "cell_type": "code",
   "execution_count": 14,
   "metadata": {},
   "outputs": [],
   "source": [
    "labels = labeled_with_target[['status_group']]"
   ]
  },
  {
   "cell_type": "code",
   "execution_count": 15,
   "metadata": {},
   "outputs": [
    {
     "data": {
      "text/plain": [
       "['functional', 'functional needs repair', 'non functional']"
      ]
     },
     "execution_count": 15,
     "metadata": {},
     "output_type": "execute_result"
    }
   ],
   "source": [
    "let_labels = LabelEncodingTransformer(['status_group'])\n",
    "labels_encoded = let_labels.fit_transform(labels)\n",
    "classes = list(let_labels.labelencoder.classes_)\n",
    "classes"
   ]
  },
  {
   "cell_type": "code",
   "execution_count": 16,
   "metadata": {},
   "outputs": [],
   "source": [
    "labeled_with_target['status_group_encoded'] = labels_encoded.status_group"
   ]
  },
  {
   "cell_type": "code",
   "execution_count": 17,
   "metadata": {
    "tags": []
   },
   "outputs": [],
   "source": [
    "X_labeled = labeled_with_target.drop(['status_group', 'status_group_encoded'], axis=1)"
   ]
  },
  {
   "cell_type": "code",
   "execution_count": 18,
   "metadata": {
    "tags": []
   },
   "outputs": [],
   "source": [
    "data_unlabeled = pd.read_csv(fname_unlabeled_predictors, index_col=0)"
   ]
  },
  {
   "cell_type": "markdown",
   "metadata": {},
   "source": [
    "## Prepare Test/Train Data"
   ]
  },
  {
   "cell_type": "code",
   "execution_count": 19,
   "metadata": {},
   "outputs": [],
   "source": [
    "data_train, data_test, y_train, y_test = train_test_split(X_labeled, labels, test_size=preprocessing_config['test_ratio'], random_state=SEED)"
   ]
  },
  {
   "cell_type": "code",
   "execution_count": 20,
   "metadata": {},
   "outputs": [],
   "source": [
    "y_train_encoded = labels_encoded.loc[y_train.index]"
   ]
  },
  {
   "cell_type": "code",
   "execution_count": 21,
   "metadata": {},
   "outputs": [],
   "source": [
    "data_train_with_target = pd.concat([data_train, y_train_encoded], axis=1, join='inner')"
   ]
  },
  {
   "cell_type": "code",
   "execution_count": 22,
   "metadata": {},
   "outputs": [],
   "source": [
    "y_test_encoded = labels_encoded.loc[y_test.index]"
   ]
  },
  {
   "cell_type": "code",
   "execution_count": 23,
   "metadata": {},
   "outputs": [],
   "source": [
    "data_test_with_target = pd.concat([data_test, y_test_encoded], axis=1, join='inner')"
   ]
  },
  {
   "cell_type": "code",
   "execution_count": 24,
   "metadata": {},
   "outputs": [],
   "source": [
    "data_ALL_labeled_with_target = pd.concat([data_train_with_target, data_test_with_target], axis=0)"
   ]
  },
  {
   "cell_type": "markdown",
   "metadata": {},
   "source": [
    "<p><br>\n",
    "\n",
    "## Apply Preprocessing Transformations to Training Data"
   ]
  },
  {
   "cell_type": "code",
   "execution_count": 25,
   "metadata": {},
   "outputs": [
    {
     "data": {
      "text/html": [
       "<h3>data_train BEFORE preprocessing Feature-Value Analysis (out of 53460 total observations)</h3>"
      ],
      "text/plain": [
       "<IPython.core.display.HTML object>"
      ]
     },
     "metadata": {},
     "output_type": "display_data"
    },
    {
     "data": {
      "text/html": [
       "<div>\n",
       "<style scoped>\n",
       "    .dataframe tbody tr th:only-of-type {\n",
       "        vertical-align: middle;\n",
       "    }\n",
       "\n",
       "    .dataframe tbody tr th {\n",
       "        vertical-align: top;\n",
       "    }\n",
       "\n",
       "    .dataframe thead th {\n",
       "        text-align: right;\n",
       "    }\n",
       "</style>\n",
       "<table border=\"1\" class=\"dataframe\">\n",
       "  <thead>\n",
       "    <tr style=\"text-align: left;\">\n",
       "      <th></th>\n",
       "      <th>feature</th>\n",
       "      <th>dtype</th>\n",
       "      <th>n_unique</th>\n",
       "      <th>unique_vals</th>\n",
       "      <th>n_unique_ratio</th>\n",
       "      <th>p_cat</th>\n",
       "      <th>n_null</th>\n",
       "      <th>n_null_ratio</th>\n",
       "      <th>null_index</th>\n",
       "    </tr>\n",
       "  </thead>\n",
       "  <tbody>\n",
       "    <tr>\n",
       "      <th>0</th>\n",
       "      <td>amount_tsh</td>\n",
       "      <td>float64</td>\n",
       "      <td>96</td>\n",
       "      <td>[0.0, 1000.0, 250.0, 5000.0, 3000.0, 2400.0, 5...</td>\n",
       "      <td>0.001796</td>\n",
       "      <td>99.82</td>\n",
       "      <td>0</td>\n",
       "      <td>0.000000</td>\n",
       "      <td>None</td>\n",
       "    </tr>\n",
       "    <tr>\n",
       "      <th>1</th>\n",
       "      <td>date_recorded</td>\n",
       "      <td>object</td>\n",
       "      <td>352</td>\n",
       "      <td>[2013-03-06, 2013-02-05, 2011-07-24, 2012-11-0...</td>\n",
       "      <td>0.006584</td>\n",
       "      <td>99.34</td>\n",
       "      <td>0</td>\n",
       "      <td>0.000000</td>\n",
       "      <td>None</td>\n",
       "    </tr>\n",
       "    <tr>\n",
       "      <th>2</th>\n",
       "      <td>funder</td>\n",
       "      <td>object</td>\n",
       "      <td>1799</td>\n",
       "      <td>[Kiliwater, Unicef, Danida, Tasaf/tlc, Dhv, Am...</td>\n",
       "      <td>0.033651</td>\n",
       "      <td>96.63</td>\n",
       "      <td>3269</td>\n",
       "      <td>0.061149</td>\n",
       "      <td>Int64Index([  569, 35243,  7826,  7576, 71341,...</td>\n",
       "    </tr>\n",
       "    <tr>\n",
       "      <th>3</th>\n",
       "      <td>gps_height</td>\n",
       "      <td>int64</td>\n",
       "      <td>2415</td>\n",
       "      <td>[1424, 1358, 0, 299, -14, 1490, 1421, 915, 891...</td>\n",
       "      <td>0.045174</td>\n",
       "      <td>95.48</td>\n",
       "      <td>0</td>\n",
       "      <td>0.000000</td>\n",
       "      <td>None</td>\n",
       "    </tr>\n",
       "    <tr>\n",
       "      <th>4</th>\n",
       "      <td>installer</td>\n",
       "      <td>object</td>\n",
       "      <td>2035</td>\n",
       "      <td>[Kiliwater, TWESA, Central government, TASAF/T...</td>\n",
       "      <td>0.038066</td>\n",
       "      <td>96.19</td>\n",
       "      <td>3287</td>\n",
       "      <td>0.061485</td>\n",
       "      <td>Int64Index([  569, 35243,  7826,  7576, 71341,...</td>\n",
       "    </tr>\n",
       "    <tr>\n",
       "      <th>5</th>\n",
       "      <td>longitude</td>\n",
       "      <td>float64</td>\n",
       "      <td>51753</td>\n",
       "      <td>[37.61840909, 30.6557619, 33.81319755, 33.1151...</td>\n",
       "      <td>0.968070</td>\n",
       "      <td>3.19</td>\n",
       "      <td>0</td>\n",
       "      <td>0.000000</td>\n",
       "      <td>None</td>\n",
       "    </tr>\n",
       "    <tr>\n",
       "      <th>6</th>\n",
       "      <td>latitude</td>\n",
       "      <td>float64</td>\n",
       "      <td>51755</td>\n",
       "      <td>[-3.26320247, -3.53625, -9.47660713, -4.835553...</td>\n",
       "      <td>0.968107</td>\n",
       "      <td>3.19</td>\n",
       "      <td>0</td>\n",
       "      <td>0.000000</td>\n",
       "      <td>None</td>\n",
       "    </tr>\n",
       "    <tr>\n",
       "      <th>7</th>\n",
       "      <td>wpt_name</td>\n",
       "      <td>object</td>\n",
       "      <td>34085</td>\n",
       "      <td>[Kwa Moris Assenga, Bavunja Primary School, Za...</td>\n",
       "      <td>0.637579</td>\n",
       "      <td>36.24</td>\n",
       "      <td>0</td>\n",
       "      <td>0.000000</td>\n",
       "      <td>None</td>\n",
       "    </tr>\n",
       "    <tr>\n",
       "      <th>8</th>\n",
       "      <td>num_private</td>\n",
       "      <td>int64</td>\n",
       "      <td>61</td>\n",
       "      <td>[0, 34, 65, 32, 1, 8, 41, 6, 15, 3, 698, 1402,...</td>\n",
       "      <td>0.001141</td>\n",
       "      <td>99.89</td>\n",
       "      <td>0</td>\n",
       "      <td>0.000000</td>\n",
       "      <td>None</td>\n",
       "    </tr>\n",
       "    <tr>\n",
       "      <th>9</th>\n",
       "      <td>basin</td>\n",
       "      <td>object</td>\n",
       "      <td>9</td>\n",
       "      <td>[Pangani, Lake Tanganyika, Lake Nyasa, Rufiji,...</td>\n",
       "      <td>0.000168</td>\n",
       "      <td>99.98</td>\n",
       "      <td>0</td>\n",
       "      <td>0.000000</td>\n",
       "      <td>None</td>\n",
       "    </tr>\n",
       "    <tr>\n",
       "      <th>10</th>\n",
       "      <td>subvillage</td>\n",
       "      <td>object</td>\n",
       "      <td>18331</td>\n",
       "      <td>[Usesi, Uwanja Wa Ndege, Ilindi, Pemba, Namhan...</td>\n",
       "      <td>0.342892</td>\n",
       "      <td>65.71</td>\n",
       "      <td>335</td>\n",
       "      <td>0.006266</td>\n",
       "      <td>Int64Index([57269, 21287, 33378,  6502,  7898,...</td>\n",
       "    </tr>\n",
       "    <tr>\n",
       "      <th>11</th>\n",
       "      <td>region</td>\n",
       "      <td>object</td>\n",
       "      <td>21</td>\n",
       "      <td>[Kilimanjaro, Kigoma, Mbeya, Tabora, Morogoro,...</td>\n",
       "      <td>0.000393</td>\n",
       "      <td>99.96</td>\n",
       "      <td>0</td>\n",
       "      <td>0.000000</td>\n",
       "      <td>None</td>\n",
       "    </tr>\n",
       "    <tr>\n",
       "      <th>12</th>\n",
       "      <td>region_code</td>\n",
       "      <td>int64</td>\n",
       "      <td>27</td>\n",
       "      <td>[3, 16, 12, 14, 5, 6, 20, 15, 11, 19, 8, 4, 90...</td>\n",
       "      <td>0.000505</td>\n",
       "      <td>99.95</td>\n",
       "      <td>0</td>\n",
       "      <td>0.000000</td>\n",
       "      <td>None</td>\n",
       "    </tr>\n",
       "    <tr>\n",
       "      <th>13</th>\n",
       "      <td>district_code</td>\n",
       "      <td>int64</td>\n",
       "      <td>20</td>\n",
       "      <td>[1, 3, 4, 2, 7, 33, 5, 6, 13, 23, 30, 63, 8, 5...</td>\n",
       "      <td>0.000374</td>\n",
       "      <td>99.96</td>\n",
       "      <td>0</td>\n",
       "      <td>0.000000</td>\n",
       "      <td>None</td>\n",
       "    </tr>\n",
       "    <tr>\n",
       "      <th>14</th>\n",
       "      <td>lga</td>\n",
       "      <td>object</td>\n",
       "      <td>124</td>\n",
       "      <td>[Rombo, Kibondo, Kyela, Uyui, Ulanga, Mkuranga...</td>\n",
       "      <td>0.002319</td>\n",
       "      <td>99.77</td>\n",
       "      <td>0</td>\n",
       "      <td>0.000000</td>\n",
       "      <td>None</td>\n",
       "    </tr>\n",
       "    <tr>\n",
       "      <th>15</th>\n",
       "      <td>ward</td>\n",
       "      <td>object</td>\n",
       "      <td>2087</td>\n",
       "      <td>[Mengwe Manda, Bunyambo, Ipande, Isikizya, Ira...</td>\n",
       "      <td>0.039039</td>\n",
       "      <td>96.10</td>\n",
       "      <td>0</td>\n",
       "      <td>0.000000</td>\n",
       "      <td>None</td>\n",
       "    </tr>\n",
       "    <tr>\n",
       "      <th>16</th>\n",
       "      <td>population</td>\n",
       "      <td>int64</td>\n",
       "      <td>1019</td>\n",
       "      <td>[1, 500, 0, 263, 400, 520, 350, 60, 300, 40, 1...</td>\n",
       "      <td>0.019061</td>\n",
       "      <td>98.09</td>\n",
       "      <td>0</td>\n",
       "      <td>0.000000</td>\n",
       "      <td>None</td>\n",
       "    </tr>\n",
       "    <tr>\n",
       "      <th>17</th>\n",
       "      <td>public_meeting</td>\n",
       "      <td>object</td>\n",
       "      <td>3</td>\n",
       "      <td>[True, False, nan]</td>\n",
       "      <td>0.000056</td>\n",
       "      <td>99.99</td>\n",
       "      <td>3006</td>\n",
       "      <td>0.056229</td>\n",
       "      <td>Int64Index([32908, 12197, 64825, 50761, 52163,...</td>\n",
       "    </tr>\n",
       "    <tr>\n",
       "      <th>18</th>\n",
       "      <td>recorded_by</td>\n",
       "      <td>object</td>\n",
       "      <td>1</td>\n",
       "      <td>[GeoData Consultants Ltd]</td>\n",
       "      <td>0.000019</td>\n",
       "      <td>100.00</td>\n",
       "      <td>0</td>\n",
       "      <td>0.000000</td>\n",
       "      <td>None</td>\n",
       "    </tr>\n",
       "    <tr>\n",
       "      <th>19</th>\n",
       "      <td>scheme_management</td>\n",
       "      <td>object</td>\n",
       "      <td>13</td>\n",
       "      <td>[Company, VWC, nan, Water authority, Water Boa...</td>\n",
       "      <td>0.000243</td>\n",
       "      <td>99.98</td>\n",
       "      <td>3503</td>\n",
       "      <td>0.065526</td>\n",
       "      <td>Int64Index([36420,  7651, 41429, 14391, 64446,...</td>\n",
       "    </tr>\n",
       "    <tr>\n",
       "      <th>20</th>\n",
       "      <td>scheme_name</td>\n",
       "      <td>object</td>\n",
       "      <td>2636</td>\n",
       "      <td>[Kitukuni water supply, nan, Sinyanga  water s...</td>\n",
       "      <td>0.049308</td>\n",
       "      <td>95.07</td>\n",
       "      <td>25363</td>\n",
       "      <td>0.474429</td>\n",
       "      <td>Int64Index([38945,  1186, 36420, 57631, 51349,...</td>\n",
       "    </tr>\n",
       "    <tr>\n",
       "      <th>21</th>\n",
       "      <td>permit</td>\n",
       "      <td>object</td>\n",
       "      <td>3</td>\n",
       "      <td>[True, False, nan]</td>\n",
       "      <td>0.000056</td>\n",
       "      <td>99.99</td>\n",
       "      <td>2733</td>\n",
       "      <td>0.051122</td>\n",
       "      <td>Int64Index([  569, 54872,  7826,  7576, 71341,...</td>\n",
       "    </tr>\n",
       "    <tr>\n",
       "      <th>22</th>\n",
       "      <td>construction_year</td>\n",
       "      <td>int64</td>\n",
       "      <td>55</td>\n",
       "      <td>[2012, 2009, 0, 1996, 2000, 2001, 1998, 2013, ...</td>\n",
       "      <td>0.001029</td>\n",
       "      <td>99.90</td>\n",
       "      <td>0</td>\n",
       "      <td>0.000000</td>\n",
       "      <td>None</td>\n",
       "    </tr>\n",
       "    <tr>\n",
       "      <th>23</th>\n",
       "      <td>extraction_type</td>\n",
       "      <td>object</td>\n",
       "      <td>18</td>\n",
       "      <td>[gravity, afridev, swn 80, other, mono, submer...</td>\n",
       "      <td>0.000337</td>\n",
       "      <td>99.97</td>\n",
       "      <td>0</td>\n",
       "      <td>0.000000</td>\n",
       "      <td>None</td>\n",
       "    </tr>\n",
       "    <tr>\n",
       "      <th>24</th>\n",
       "      <td>extraction_type_group</td>\n",
       "      <td>object</td>\n",
       "      <td>13</td>\n",
       "      <td>[gravity, afridev, swn 80, other, mono, submer...</td>\n",
       "      <td>0.000243</td>\n",
       "      <td>99.98</td>\n",
       "      <td>0</td>\n",
       "      <td>0.000000</td>\n",
       "      <td>None</td>\n",
       "    </tr>\n",
       "    <tr>\n",
       "      <th>25</th>\n",
       "      <td>extraction_type_class</td>\n",
       "      <td>object</td>\n",
       "      <td>7</td>\n",
       "      <td>[gravity, handpump, other, motorpump, submersi...</td>\n",
       "      <td>0.000131</td>\n",
       "      <td>99.99</td>\n",
       "      <td>0</td>\n",
       "      <td>0.000000</td>\n",
       "      <td>None</td>\n",
       "    </tr>\n",
       "    <tr>\n",
       "      <th>26</th>\n",
       "      <td>management</td>\n",
       "      <td>object</td>\n",
       "      <td>12</td>\n",
       "      <td>[company, vwc, water board, wug, water authori...</td>\n",
       "      <td>0.000224</td>\n",
       "      <td>99.98</td>\n",
       "      <td>0</td>\n",
       "      <td>0.000000</td>\n",
       "      <td>None</td>\n",
       "    </tr>\n",
       "    <tr>\n",
       "      <th>27</th>\n",
       "      <td>management_group</td>\n",
       "      <td>object</td>\n",
       "      <td>5</td>\n",
       "      <td>[commercial, user-group, unknown, parastatal, ...</td>\n",
       "      <td>0.000094</td>\n",
       "      <td>99.99</td>\n",
       "      <td>0</td>\n",
       "      <td>0.000000</td>\n",
       "      <td>None</td>\n",
       "    </tr>\n",
       "    <tr>\n",
       "      <th>28</th>\n",
       "      <td>payment</td>\n",
       "      <td>object</td>\n",
       "      <td>7</td>\n",
       "      <td>[pay monthly, unknown, never pay, pay annually...</td>\n",
       "      <td>0.000131</td>\n",
       "      <td>99.99</td>\n",
       "      <td>0</td>\n",
       "      <td>0.000000</td>\n",
       "      <td>None</td>\n",
       "    </tr>\n",
       "    <tr>\n",
       "      <th>29</th>\n",
       "      <td>payment_type</td>\n",
       "      <td>object</td>\n",
       "      <td>7</td>\n",
       "      <td>[monthly, unknown, never pay, annually, per bu...</td>\n",
       "      <td>0.000131</td>\n",
       "      <td>99.99</td>\n",
       "      <td>0</td>\n",
       "      <td>0.000000</td>\n",
       "      <td>None</td>\n",
       "    </tr>\n",
       "    <tr>\n",
       "      <th>30</th>\n",
       "      <td>water_quality</td>\n",
       "      <td>object</td>\n",
       "      <td>8</td>\n",
       "      <td>[soft, unknown, salty, fluoride, milky, salty ...</td>\n",
       "      <td>0.000150</td>\n",
       "      <td>99.99</td>\n",
       "      <td>0</td>\n",
       "      <td>0.000000</td>\n",
       "      <td>None</td>\n",
       "    </tr>\n",
       "    <tr>\n",
       "      <th>31</th>\n",
       "      <td>quality_group</td>\n",
       "      <td>object</td>\n",
       "      <td>6</td>\n",
       "      <td>[good, unknown, salty, fluoride, milky, colored]</td>\n",
       "      <td>0.000112</td>\n",
       "      <td>99.99</td>\n",
       "      <td>0</td>\n",
       "      <td>0.000000</td>\n",
       "      <td>None</td>\n",
       "    </tr>\n",
       "    <tr>\n",
       "      <th>32</th>\n",
       "      <td>quantity</td>\n",
       "      <td>object</td>\n",
       "      <td>5</td>\n",
       "      <td>[insufficient, dry, enough, seasonal, unknown]</td>\n",
       "      <td>0.000094</td>\n",
       "      <td>99.99</td>\n",
       "      <td>0</td>\n",
       "      <td>0.000000</td>\n",
       "      <td>None</td>\n",
       "    </tr>\n",
       "    <tr>\n",
       "      <th>33</th>\n",
       "      <td>quantity_group</td>\n",
       "      <td>object</td>\n",
       "      <td>5</td>\n",
       "      <td>[insufficient, dry, enough, seasonal, unknown]</td>\n",
       "      <td>0.000094</td>\n",
       "      <td>99.99</td>\n",
       "      <td>0</td>\n",
       "      <td>0.000000</td>\n",
       "      <td>None</td>\n",
       "    </tr>\n",
       "    <tr>\n",
       "      <th>34</th>\n",
       "      <td>source</td>\n",
       "      <td>object</td>\n",
       "      <td>10</td>\n",
       "      <td>[spring, rainwater harvesting, shallow well, r...</td>\n",
       "      <td>0.000187</td>\n",
       "      <td>99.98</td>\n",
       "      <td>0</td>\n",
       "      <td>0.000000</td>\n",
       "      <td>None</td>\n",
       "    </tr>\n",
       "    <tr>\n",
       "      <th>35</th>\n",
       "      <td>source_type</td>\n",
       "      <td>object</td>\n",
       "      <td>7</td>\n",
       "      <td>[spring, rainwater harvesting, shallow well, r...</td>\n",
       "      <td>0.000131</td>\n",
       "      <td>99.99</td>\n",
       "      <td>0</td>\n",
       "      <td>0.000000</td>\n",
       "      <td>None</td>\n",
       "    </tr>\n",
       "    <tr>\n",
       "      <th>36</th>\n",
       "      <td>source_class</td>\n",
       "      <td>object</td>\n",
       "      <td>3</td>\n",
       "      <td>[groundwater, surface, unknown]</td>\n",
       "      <td>0.000056</td>\n",
       "      <td>99.99</td>\n",
       "      <td>0</td>\n",
       "      <td>0.000000</td>\n",
       "      <td>None</td>\n",
       "    </tr>\n",
       "    <tr>\n",
       "      <th>37</th>\n",
       "      <td>waterpoint_type</td>\n",
       "      <td>object</td>\n",
       "      <td>7</td>\n",
       "      <td>[communal standpipe, hand pump, communal stand...</td>\n",
       "      <td>0.000131</td>\n",
       "      <td>99.99</td>\n",
       "      <td>0</td>\n",
       "      <td>0.000000</td>\n",
       "      <td>None</td>\n",
       "    </tr>\n",
       "    <tr>\n",
       "      <th>38</th>\n",
       "      <td>waterpoint_type_group</td>\n",
       "      <td>object</td>\n",
       "      <td>6</td>\n",
       "      <td>[communal standpipe, hand pump, other, cattle ...</td>\n",
       "      <td>0.000112</td>\n",
       "      <td>99.99</td>\n",
       "      <td>0</td>\n",
       "      <td>0.000000</td>\n",
       "      <td>None</td>\n",
       "    </tr>\n",
       "  </tbody>\n",
       "</table>\n",
       "</div>"
      ],
      "text/plain": [
       "<IPython.core.display.HTML object>"
      ]
     },
     "metadata": {},
     "output_type": "display_data"
    }
   ],
   "source": [
    "pipeline_data_preprocessor = Pipeline(steps=[('passthrough', None)], verbose=True)\n",
    "\n",
    "scjpnutils.analyze_values(data_train, 'data_train BEFORE preprocessing');"
   ]
  },
  {
   "cell_type": "code",
   "execution_count": 26,
   "metadata": {
    "tags": []
   },
   "outputs": [
    {
     "data": {
      "text/html": [
       "<b>(composite) strategy name/description: <i><font color='red'>amount_tsh</font></i></b><ol><li><b>strategy description</b>: <i><font color='blue' style='font-size: x-large;'>replace \"amount_tsh\" outliers with mean</font></i></li></ol>"
      ],
      "text/plain": [
       "<IPython.core.display.HTML object>"
      ]
     },
     "metadata": {},
     "output_type": "display_data"
    },
    {
     "name": "stdout",
     "output_type": "stream",
     "text": [
      "strategy appended step ['replace \"amount_tsh\" outliers with mean', <scjpnlib.utils.skl_transformers.SimpleValueTransformer object at 0x7fe61a69ff90>] to pipeline\n",
      "strategy \"replace \"amount_tsh\" outliers with mean\" transformation is COMPLETE!\n"
     ]
    },
    {
     "data": {
      "text/html": [
       "<p><br><br>"
      ],
      "text/plain": [
       "<IPython.core.display.HTML object>"
      ]
     },
     "metadata": {},
     "output_type": "display_data"
    },
    {
     "data": {
      "text/html": [
       "<b>(composite) strategy name/description: <i><font color='red'>pump_age</font></i></b><ol><li><b>strategy description</b>: <i><font color='blue' style='font-size: x-large;'>drop feature: date_recorded</font></i></li><li><b>strategy description</b>: <i><font color='blue' style='font-size: x-large;'>leave feature as is (do nothing): construction_year</font></i></li></ol>"
      ],
      "text/plain": [
       "<IPython.core.display.HTML object>"
      ]
     },
     "metadata": {},
     "output_type": "display_data"
    },
    {
     "name": "stdout",
     "output_type": "stream",
     "text": [
      "strategy appended step ['drop feature: date_recorded', <scjpnlib.utils.skl_transformers.DropColumnsTransformer object at 0x7fe606802ad0>] to pipeline\n",
      "strategy \"drop feature: date_recorded\" transformation is COMPLETE!\n",
      "strategy appended step ['leave feature as is (do nothing): construction_year', FunctionTransformer(func=<function C__leave_it_as_is__StrategyTransformer.get_transformer.<locals>.<lambda> at 0x7fe6067fb680>)] to pipeline\n",
      "strategy \"leave feature as is (do nothing): construction_year\" transformation is COMPLETE!\n"
     ]
    },
    {
     "data": {
      "text/html": [
       "<p><br><br>"
      ],
      "text/plain": [
       "<IPython.core.display.HTML object>"
      ]
     },
     "metadata": {},
     "output_type": "display_data"
    },
    {
     "data": {
      "text/html": [
       "<b>(composite) strategy name/description: <i><font color='red'>gps_height</font></i></b><ol><li><b>strategy description</b>: <i><font color='blue' style='font-size: x-large;'>leave feature as is (do nothing): gps_height</font></i></li></ol>"
      ],
      "text/plain": [
       "<IPython.core.display.HTML object>"
      ]
     },
     "metadata": {},
     "output_type": "display_data"
    },
    {
     "name": "stdout",
     "output_type": "stream",
     "text": [
      "strategy appended step ['leave feature as is (do nothing): gps_height', FunctionTransformer(func=<function C__leave_it_as_is__StrategyTransformer.get_transformer.<locals>.<lambda> at 0x7fe6067fb8c0>)] to pipeline\n",
      "strategy \"leave feature as is (do nothing): gps_height\" transformation is COMPLETE!\n"
     ]
    },
    {
     "data": {
      "text/html": [
       "<p><br><br>"
      ],
      "text/plain": [
       "<IPython.core.display.HTML object>"
      ]
     },
     "metadata": {},
     "output_type": "display_data"
    },
    {
     "data": {
      "text/html": [
       "<b>(composite) strategy name/description: <i><font color='red'>latitude</font></i></b><ol><li><b>strategy description</b>: <i><font color='blue' style='font-size: x-large;'>leave feature as is (do nothing): latitude</font></i></li></ol>"
      ],
      "text/plain": [
       "<IPython.core.display.HTML object>"
      ]
     },
     "metadata": {},
     "output_type": "display_data"
    },
    {
     "name": "stdout",
     "output_type": "stream",
     "text": [
      "strategy appended step ['leave feature as is (do nothing): latitude', FunctionTransformer(func=<function C__leave_it_as_is__StrategyTransformer.get_transformer.<locals>.<lambda> at 0x7fe608ec0ef0>)] to pipeline\n",
      "strategy \"leave feature as is (do nothing): latitude\" transformation is COMPLETE!\n"
     ]
    },
    {
     "data": {
      "text/html": [
       "<p><br><br>"
      ],
      "text/plain": [
       "<IPython.core.display.HTML object>"
      ]
     },
     "metadata": {},
     "output_type": "display_data"
    },
    {
     "data": {
      "text/html": [
       "<b>(composite) strategy name/description: <i><font color='red'>longitude</font></i></b><ol><li><b>strategy description</b>: <i><font color='blue' style='font-size: x-large;'>leave feature as is (do nothing): longitude</font></i></li></ol>"
      ],
      "text/plain": [
       "<IPython.core.display.HTML object>"
      ]
     },
     "metadata": {},
     "output_type": "display_data"
    },
    {
     "name": "stdout",
     "output_type": "stream",
     "text": [
      "strategy appended step ['leave feature as is (do nothing): longitude', FunctionTransformer(func=<function C__leave_it_as_is__StrategyTransformer.get_transformer.<locals>.<lambda> at 0x7fe6067fb7a0>)] to pipeline\n",
      "strategy \"leave feature as is (do nothing): longitude\" transformation is COMPLETE!\n"
     ]
    },
    {
     "data": {
      "text/html": [
       "<p><br><br>"
      ],
      "text/plain": [
       "<IPython.core.display.HTML object>"
      ]
     },
     "metadata": {},
     "output_type": "display_data"
    },
    {
     "data": {
      "text/html": [
       "<b>(composite) strategy name/description: <i><font color='red'>num_private</font></i></b><ol><li><b>strategy description</b>: <i><font color='blue' style='font-size: x-large;'>leave feature as is (do nothing): num_private</font></i></li></ol>"
      ],
      "text/plain": [
       "<IPython.core.display.HTML object>"
      ]
     },
     "metadata": {},
     "output_type": "display_data"
    },
    {
     "name": "stdout",
     "output_type": "stream",
     "text": [
      "strategy appended step ['leave feature as is (do nothing): num_private', FunctionTransformer(func=<function C__leave_it_as_is__StrategyTransformer.get_transformer.<locals>.<lambda> at 0x7fe608ec07a0>)] to pipeline\n",
      "strategy \"leave feature as is (do nothing): num_private\" transformation is COMPLETE!\n"
     ]
    },
    {
     "data": {
      "text/html": [
       "<p><br><br>"
      ],
      "text/plain": [
       "<IPython.core.display.HTML object>"
      ]
     },
     "metadata": {},
     "output_type": "display_data"
    },
    {
     "data": {
      "text/html": [
       "<b>(composite) strategy name/description: <i><font color='red'>region_code</font></i></b><ol><li><b>strategy description</b>: <i><font color='blue' style='font-size: x-large;'>(prefit) target-encoder (LOO==False, post_encode_null_to_global_mean==True) transform: region_code</font></i></li></ol>"
      ],
      "text/plain": [
       "<IPython.core.display.HTML object>"
      ]
     },
     "metadata": {},
     "output_type": "display_data"
    },
    {
     "name": "stdout",
     "output_type": "stream",
     "text": [
      "** TargetEncoderLOOTransformer FIT INFO **: transformer has been fit to X\n",
      "strategy appended step ['(prefit) target-encoder (LOO==False, post_encode_null_to_global_mean==True) transform: region_code', FunctionTransformer(func=<function C__target_encode__StrategyTransformer.get_transformer.<locals>.<lambda> at 0x7fe608ece0e0>)] to pipeline\n",
      "** TargetEncoderLOOTransformer TRANSFORM INFO **: NOT using Leave-One-Out\n",
      "** TargetEncoderLOOTransformer TRANSFORM INFO **: unique categories of 'region_code' in X match those that were previously fit\n",
      "added new feature: region_code_target_encoded\n",
      "strategy appended step ['drop after target encoding: region_code', <scjpnlib.utils.skl_transformers.DropColumnsTransformer object at 0x7fe608ecd210>] to pipeline\n",
      "strategy \"(prefit) target-encoder (LOO==False, post_encode_null_to_global_mean==True) transform: region_code\" dropped feature 'region_code' after target encoding\n",
      "strategy transformation of feature 'region_code' to 'region_code_target_encoded' is COMPLETE!\n"
     ]
    },
    {
     "data": {
      "text/html": [
       "<p><br><br>"
      ],
      "text/plain": [
       "<IPython.core.display.HTML object>"
      ]
     },
     "metadata": {},
     "output_type": "display_data"
    },
    {
     "data": {
      "text/html": [
       "<b>(composite) strategy name/description: <i><font color='red'>district_code</font></i></b><ol><li><b>(composite) strategy name/description: <i><font color='red'>required preprocessing to OneHot-Encode district_code</font></i></b><ol><li><b>strategy description</b>: <i><font color='blue' style='font-size: x-large;'>OneHot Encode: district_code</font></i></li></ol></li></ol>"
      ],
      "text/plain": [
       "<IPython.core.display.HTML object>"
      ]
     },
     "metadata": {},
     "output_type": "display_data"
    },
    {
     "name": "stdout",
     "output_type": "stream",
     "text": [
      "strategy appended step ['OneHot Encode: district_code', <scjpnlib.utils.skl_transformers.OneHotEncodingTransformer object at 0x7fe608ecd750>] to pipeline\n",
      "strategy \"OneHot Encode: district_code\" transformation is COMPLETE!\n"
     ]
    },
    {
     "data": {
      "text/html": [
       "<p><br><br>"
      ],
      "text/plain": [
       "<IPython.core.display.HTML object>"
      ]
     },
     "metadata": {},
     "output_type": "display_data"
    },
    {
     "data": {
      "text/html": [
       "<b>(composite) strategy name/description: <i><font color='red'>ward</font></i></b><ol><li><b>strategy description</b>: <i><font color='blue' style='font-size: x-large;'>tfidf normalize string-categorical: ward</font></i></li><li><b>strategy description</b>: <i><font color='blue' style='font-size: x-large;'>(prefit) target-encoder (LOO==False, post_encode_null_to_global_mean==True) transform: ward</font></i></li></ol>"
      ],
      "text/plain": [
       "<IPython.core.display.HTML object>"
      ]
     },
     "metadata": {},
     "output_type": "display_data"
    },
    {
     "data": {
      "text/html": [
       "there are 2087 unique documents in the <i>ward</i> corpus"
      ],
      "text/plain": [
       "<IPython.core.display.HTML object>"
      ]
     },
     "metadata": {},
     "output_type": "display_data"
    },
    {
     "data": {
      "text/html": [
       "<p><br>fitting the <code>TfidfVectorizer</code> model to the corpus..."
      ],
      "text/plain": [
       "<IPython.core.display.HTML object>"
      ]
     },
     "metadata": {},
     "output_type": "display_data"
    },
    {
     "data": {
      "text/html": [
       "<pre>\tALL DONE!</pre>"
      ],
      "text/plain": [
       "<IPython.core.display.HTML object>"
      ]
     },
     "metadata": {},
     "output_type": "display_data"
    },
    {
     "data": {
      "text/html": [
       "there are 2121 terms in the vocabulary after fitting <code>TF-IDF</code> model to the corpus"
      ],
      "text/plain": [
       "<IPython.core.display.HTML object>"
      ]
     },
     "metadata": {},
     "output_type": "display_data"
    },
    {
     "data": {
      "text/html": [
       "<p><br>building the idx term map..."
      ],
      "text/plain": [
       "<IPython.core.display.HTML object>"
      ]
     },
     "metadata": {},
     "output_type": "display_data"
    },
    {
     "data": {
      "text/html": [
       "<pre>\tALL DONE!</pre>"
      ],
      "text/plain": [
       "<IPython.core.display.HTML object>"
      ]
     },
     "metadata": {},
     "output_type": "display_data"
    },
    {
     "name": "stdout",
     "output_type": "stream",
     "text": [
      "strategy appended step ['tfidf normalize string-categorical: ward', FunctionTransformer(func=<function C__tfidf_normalize__StrategyTransformer.get_transformer.<locals>.<lambda> at 0x7fe608ec0f80>)] to pipeline\n"
     ]
    },
    {
     "data": {
      "text/html": [
       "<p><br>mapping DIRTY <i>ward</i> documents to <code>TF-IDF</code> vectors..."
      ],
      "text/plain": [
       "<IPython.core.display.HTML object>"
      ]
     },
     "metadata": {},
     "output_type": "display_data"
    },
    {
     "name": "stdout",
     "output_type": "stream",
     "text": [
      "strategy \"tfidf normalize string-categorical: ward\" transformation is COMPLETE!\n",
      "** TargetEncoderLOOTransformer FIT INFO **: transformer has been fit to X\n",
      "strategy appended step ['(prefit) target-encoder (LOO==False, post_encode_null_to_global_mean==True) transform: ward', FunctionTransformer(func=<function C__target_encode__StrategyTransformer.get_transformer.<locals>.<lambda> at 0x7fe608ece050>)] to pipeline\n",
      "** TargetEncoderLOOTransformer TRANSFORM INFO **: NOT using Leave-One-Out\n",
      "** TargetEncoderLOOTransformer TRANSFORM INFO **: unique categories of 'ward' in X match those that were previously fit\n",
      "added new feature: ward_target_encoded\n",
      "strategy appended step ['drop after target encoding: ward', <scjpnlib.utils.skl_transformers.DropColumnsTransformer object at 0x7fe60b4461d0>] to pipeline\n",
      "strategy \"(prefit) target-encoder (LOO==False, post_encode_null_to_global_mean==True) transform: ward\" dropped feature 'ward' after target encoding\n",
      "strategy transformation of feature 'ward' to 'ward_target_encoded' is COMPLETE!\n"
     ]
    },
    {
     "data": {
      "text/html": [
       "<p><br><br>"
      ],
      "text/plain": [
       "<IPython.core.display.HTML object>"
      ]
     },
     "metadata": {},
     "output_type": "display_data"
    },
    {
     "data": {
      "text/html": [
       "<b>(composite) strategy name/description: <i><font color='red'>lga</font></i></b><ol><li><b>strategy description</b>: <i><font color='blue' style='font-size: x-large;'>(prefit) target-encoder (LOO==False, post_encode_null_to_global_mean==True) transform: lga</font></i></li></ol>"
      ],
      "text/plain": [
       "<IPython.core.display.HTML object>"
      ]
     },
     "metadata": {},
     "output_type": "display_data"
    },
    {
     "name": "stdout",
     "output_type": "stream",
     "text": [
      "** TargetEncoderLOOTransformer FIT INFO **: transformer has been fit to X\n",
      "strategy appended step ['(prefit) target-encoder (LOO==False, post_encode_null_to_global_mean==True) transform: lga', FunctionTransformer(func=<function C__target_encode__StrategyTransformer.get_transformer.<locals>.<lambda> at 0x7fe608ece560>)] to pipeline\n",
      "** TargetEncoderLOOTransformer TRANSFORM INFO **: NOT using Leave-One-Out\n",
      "** TargetEncoderLOOTransformer TRANSFORM INFO **: unique categories of 'lga' in X match those that were previously fit\n",
      "added new feature: lga_target_encoded\n",
      "strategy appended step ['drop after target encoding: lga', <scjpnlib.utils.skl_transformers.DropColumnsTransformer object at 0x7fe611c70f50>] to pipeline\n",
      "strategy \"(prefit) target-encoder (LOO==False, post_encode_null_to_global_mean==True) transform: lga\" dropped feature 'lga' after target encoding\n",
      "strategy transformation of feature 'lga' to 'lga_target_encoded' is COMPLETE!\n"
     ]
    },
    {
     "data": {
      "text/html": [
       "<p><br><br>"
      ],
      "text/plain": [
       "<IPython.core.display.HTML object>"
      ]
     },
     "metadata": {},
     "output_type": "display_data"
    },
    {
     "data": {
      "text/html": [
       "<b>(composite) strategy name/description: <i><font color='red'>region</font></i></b><ol><li><b>strategy description</b>: <i><font color='blue' style='font-size: x-large;'>drop feature: region</font></i></li></ol>"
      ],
      "text/plain": [
       "<IPython.core.display.HTML object>"
      ]
     },
     "metadata": {},
     "output_type": "display_data"
    },
    {
     "name": "stdout",
     "output_type": "stream",
     "text": [
      "strategy appended step ['drop feature: region', <scjpnlib.utils.skl_transformers.DropColumnsTransformer object at 0x7fe611c9e890>] to pipeline\n",
      "strategy \"drop feature: region\" transformation is COMPLETE!\n"
     ]
    },
    {
     "data": {
      "text/html": [
       "<p><br><br>"
      ],
      "text/plain": [
       "<IPython.core.display.HTML object>"
      ]
     },
     "metadata": {},
     "output_type": "display_data"
    },
    {
     "data": {
      "text/html": [
       "<b>(composite) strategy name/description: <i><font color='red'>population</font></i></b><ol><li><b>strategy description</b>: <i><font color='blue' style='font-size: x-large;'>replace \"population\" outliers with mean</font></i></li></ol>"
      ],
      "text/plain": [
       "<IPython.core.display.HTML object>"
      ]
     },
     "metadata": {},
     "output_type": "display_data"
    },
    {
     "name": "stdout",
     "output_type": "stream",
     "text": [
      "strategy appended step ['replace \"population\" outliers with mean', <scjpnlib.utils.skl_transformers.SimpleValueTransformer object at 0x7fe608ecda90>] to pipeline\n",
      "strategy \"replace \"population\" outliers with mean\" transformation is COMPLETE!\n"
     ]
    },
    {
     "data": {
      "text/html": [
       "<p><br><br>"
      ],
      "text/plain": [
       "<IPython.core.display.HTML object>"
      ]
     },
     "metadata": {},
     "output_type": "display_data"
    },
    {
     "data": {
      "text/html": [
       "<b>(composite) strategy name/description: <i><font color='red'>funder</font></i></b><ol><li><b>strategy description</b>: <i><font color='blue' style='font-size: x-large;'>drop feature: funder</font></i></li></ol>"
      ],
      "text/plain": [
       "<IPython.core.display.HTML object>"
      ]
     },
     "metadata": {},
     "output_type": "display_data"
    },
    {
     "name": "stdout",
     "output_type": "stream",
     "text": [
      "strategy appended step ['drop feature: funder', <scjpnlib.utils.skl_transformers.DropColumnsTransformer object at 0x7fe611c70410>] to pipeline\n",
      "strategy \"drop feature: funder\" transformation is COMPLETE!\n"
     ]
    },
    {
     "data": {
      "text/html": [
       "<p><br><br>"
      ],
      "text/plain": [
       "<IPython.core.display.HTML object>"
      ]
     },
     "metadata": {},
     "output_type": "display_data"
    },
    {
     "data": {
      "text/html": [
       "<b>(composite) strategy name/description: <i><font color='red'>installer</font></i></b><ol><li><b>strategy description</b>: <i><font color='blue' style='font-size: x-large;'>drop feature: installer</font></i></li></ol>"
      ],
      "text/plain": [
       "<IPython.core.display.HTML object>"
      ]
     },
     "metadata": {},
     "output_type": "display_data"
    },
    {
     "name": "stdout",
     "output_type": "stream",
     "text": [
      "strategy appended step ['drop feature: installer', <scjpnlib.utils.skl_transformers.DropColumnsTransformer object at 0x7fe611c63bd0>] to pipeline\n",
      "strategy \"drop feature: installer\" transformation is COMPLETE!\n"
     ]
    },
    {
     "data": {
      "text/html": [
       "<p><br><br>"
      ],
      "text/plain": [
       "<IPython.core.display.HTML object>"
      ]
     },
     "metadata": {},
     "output_type": "display_data"
    },
    {
     "data": {
      "text/html": [
       "<b>(composite) strategy name/description: <i><font color='red'>wpt_name</font></i></b><ol><li><b>strategy description</b>: <i><font color='blue' style='font-size: x-large;'>drop feature: wpt_name</font></i></li></ol>"
      ],
      "text/plain": [
       "<IPython.core.display.HTML object>"
      ]
     },
     "metadata": {},
     "output_type": "display_data"
    },
    {
     "name": "stdout",
     "output_type": "stream",
     "text": [
      "strategy appended step ['drop feature: wpt_name', <scjpnlib.utils.skl_transformers.DropColumnsTransformer object at 0x7fe611c70250>] to pipeline\n",
      "strategy \"drop feature: wpt_name\" transformation is COMPLETE!\n"
     ]
    },
    {
     "data": {
      "text/html": [
       "<p><br><br>"
      ],
      "text/plain": [
       "<IPython.core.display.HTML object>"
      ]
     },
     "metadata": {},
     "output_type": "display_data"
    },
    {
     "data": {
      "text/html": [
       "<b>(composite) strategy name/description: <i><font color='red'>basin</font></i></b><ol><li><b>strategy description</b>: <i><font color='blue' style='font-size: x-large;'>drop feature: basin</font></i></li></ol>"
      ],
      "text/plain": [
       "<IPython.core.display.HTML object>"
      ]
     },
     "metadata": {},
     "output_type": "display_data"
    },
    {
     "name": "stdout",
     "output_type": "stream",
     "text": [
      "strategy appended step ['drop feature: basin', <scjpnlib.utils.skl_transformers.DropColumnsTransformer object at 0x7fe611c70f90>] to pipeline\n",
      "strategy \"drop feature: basin\" transformation is COMPLETE!\n"
     ]
    },
    {
     "data": {
      "text/html": [
       "<p><br><br>"
      ],
      "text/plain": [
       "<IPython.core.display.HTML object>"
      ]
     },
     "metadata": {},
     "output_type": "display_data"
    },
    {
     "data": {
      "text/html": [
       "<b>(composite) strategy name/description: <i><font color='red'>subvillage</font></i></b><ol><li><b>strategy description</b>: <i><font color='blue' style='font-size: x-large;'>drop feature: subvillage</font></i></li></ol>"
      ],
      "text/plain": [
       "<IPython.core.display.HTML object>"
      ]
     },
     "metadata": {},
     "output_type": "display_data"
    },
    {
     "name": "stdout",
     "output_type": "stream",
     "text": [
      "strategy appended step ['drop feature: subvillage', <scjpnlib.utils.skl_transformers.DropColumnsTransformer object at 0x7fe611c70c10>] to pipeline\n",
      "strategy \"drop feature: subvillage\" transformation is COMPLETE!\n"
     ]
    },
    {
     "data": {
      "text/html": [
       "<p><br><br>"
      ],
      "text/plain": [
       "<IPython.core.display.HTML object>"
      ]
     },
     "metadata": {},
     "output_type": "display_data"
    },
    {
     "data": {
      "text/html": [
       "<b>(composite) strategy name/description: <i><font color='red'>public_meeting</font></i></b><ol><li><b>strategy description</b>: <i><font color='blue' style='font-size: x-large;'>drop feature: public_meeting</font></i></li></ol>"
      ],
      "text/plain": [
       "<IPython.core.display.HTML object>"
      ]
     },
     "metadata": {},
     "output_type": "display_data"
    },
    {
     "name": "stdout",
     "output_type": "stream",
     "text": [
      "strategy appended step ['drop feature: public_meeting', <scjpnlib.utils.skl_transformers.DropColumnsTransformer object at 0x7fe611c70510>] to pipeline\n",
      "strategy \"drop feature: public_meeting\" transformation is COMPLETE!\n"
     ]
    },
    {
     "data": {
      "text/html": [
       "<p><br><br>"
      ],
      "text/plain": [
       "<IPython.core.display.HTML object>"
      ]
     },
     "metadata": {},
     "output_type": "display_data"
    },
    {
     "data": {
      "text/html": [
       "<b>(composite) strategy name/description: <i><font color='red'>recorded_by</font></i></b><ol><li><b>strategy description</b>: <i><font color='blue' style='font-size: x-large;'>drop feature: recorded_by</font></i></li></ol>"
      ],
      "text/plain": [
       "<IPython.core.display.HTML object>"
      ]
     },
     "metadata": {},
     "output_type": "display_data"
    },
    {
     "name": "stdout",
     "output_type": "stream",
     "text": [
      "strategy appended step ['drop feature: recorded_by', <scjpnlib.utils.skl_transformers.DropColumnsTransformer object at 0x7fe611c9e690>] to pipeline\n",
      "strategy \"drop feature: recorded_by\" transformation is COMPLETE!\n"
     ]
    },
    {
     "data": {
      "text/html": [
       "<p><br><br>"
      ],
      "text/plain": [
       "<IPython.core.display.HTML object>"
      ]
     },
     "metadata": {},
     "output_type": "display_data"
    },
    {
     "data": {
      "text/html": [
       "<b>(composite) strategy name/description: <i><font color='red'>scheme_management</font></i></b><ol><li><b>strategy description</b>: <i><font color='blue' style='font-size: x-large;'>drop feature: scheme_management</font></i></li></ol>"
      ],
      "text/plain": [
       "<IPython.core.display.HTML object>"
      ]
     },
     "metadata": {},
     "output_type": "display_data"
    },
    {
     "name": "stdout",
     "output_type": "stream",
     "text": [
      "strategy appended step ['drop feature: scheme_management', <scjpnlib.utils.skl_transformers.DropColumnsTransformer object at 0x7fe611c704d0>] to pipeline\n",
      "strategy \"drop feature: scheme_management\" transformation is COMPLETE!\n"
     ]
    },
    {
     "data": {
      "text/html": [
       "<p><br><br>"
      ],
      "text/plain": [
       "<IPython.core.display.HTML object>"
      ]
     },
     "metadata": {},
     "output_type": "display_data"
    },
    {
     "data": {
      "text/html": [
       "<b>(composite) strategy name/description: <i><font color='red'>scheme_name</font></i></b><ol><li><b>strategy description</b>: <i><font color='blue' style='font-size: x-large;'>drop feature: scheme_name</font></i></li></ol>"
      ],
      "text/plain": [
       "<IPython.core.display.HTML object>"
      ]
     },
     "metadata": {},
     "output_type": "display_data"
    },
    {
     "name": "stdout",
     "output_type": "stream",
     "text": [
      "strategy appended step ['drop feature: scheme_name', <scjpnlib.utils.skl_transformers.DropColumnsTransformer object at 0x7fe611c702d0>] to pipeline\n",
      "strategy \"drop feature: scheme_name\" transformation is COMPLETE!\n"
     ]
    },
    {
     "data": {
      "text/html": [
       "<p><br><br>"
      ],
      "text/plain": [
       "<IPython.core.display.HTML object>"
      ]
     },
     "metadata": {},
     "output_type": "display_data"
    },
    {
     "data": {
      "text/html": [
       "<b>(composite) strategy name/description: <i><font color='red'>permit</font></i></b><ol><li><b>strategy description</b>: <i><font color='blue' style='font-size: x-large;'>drop feature: permit</font></i></li></ol>"
      ],
      "text/plain": [
       "<IPython.core.display.HTML object>"
      ]
     },
     "metadata": {},
     "output_type": "display_data"
    },
    {
     "name": "stdout",
     "output_type": "stream",
     "text": [
      "strategy appended step ['drop feature: permit', <scjpnlib.utils.skl_transformers.DropColumnsTransformer object at 0x7fe606843950>] to pipeline\n",
      "strategy \"drop feature: permit\" transformation is COMPLETE!\n"
     ]
    },
    {
     "data": {
      "text/html": [
       "<p><br><br>"
      ],
      "text/plain": [
       "<IPython.core.display.HTML object>"
      ]
     },
     "metadata": {},
     "output_type": "display_data"
    },
    {
     "data": {
      "text/html": [
       "<b>(composite) strategy name/description: <i><font color='red'>extraction_type</font></i></b><ol><li><b>(composite) strategy name/description: <i><font color='red'>required preprocessing to OneHot-Encode extraction_type</font></i></b><ol><li><b>strategy description</b>: <i><font color='blue' style='font-size: x-large;'>strip non-alphanumeric: extraction_type</font></i></li><li><b>strategy description</b>: <i><font color='blue' style='font-size: x-large;'>OneHot Encode: extraction_type</font></i></li></ol></li></ol>"
      ],
      "text/plain": [
       "<IPython.core.display.HTML object>"
      ]
     },
     "metadata": {},
     "output_type": "display_data"
    },
    {
     "name": "stdout",
     "output_type": "stream",
     "text": [
      "strategy appended step ['strip non-alphanumeric: extraction_type', FunctionTransformer(func=<function C__strip_nonalphanumeric__StrategyTransformer.get_transformer.<locals>.<lambda> at 0x7fe6067fb0e0>)] to pipeline\n",
      "strategy \"strip non-alphanumeric: extraction_type\" transformation is COMPLETE!\n",
      "strategy appended step ['OneHot Encode: extraction_type', <scjpnlib.utils.skl_transformers.OneHotEncodingTransformer object at 0x7fe60945d190>] to pipeline\n",
      "strategy \"OneHot Encode: extraction_type\" transformation is COMPLETE!\n"
     ]
    },
    {
     "data": {
      "text/html": [
       "<p><br><br>"
      ],
      "text/plain": [
       "<IPython.core.display.HTML object>"
      ]
     },
     "metadata": {},
     "output_type": "display_data"
    },
    {
     "data": {
      "text/html": [
       "<b>(composite) strategy name/description: <i><font color='red'>extraction_type_group</font></i></b><ol><li><b>strategy description</b>: <i><font color='blue' style='font-size: x-large;'>drop feature: extraction_type_group</font></i></li></ol>"
      ],
      "text/plain": [
       "<IPython.core.display.HTML object>"
      ]
     },
     "metadata": {},
     "output_type": "display_data"
    },
    {
     "name": "stdout",
     "output_type": "stream",
     "text": [
      "strategy appended step ['drop feature: extraction_type_group', <scjpnlib.utils.skl_transformers.DropColumnsTransformer object at 0x7fe62114bd10>] to pipeline\n",
      "strategy \"drop feature: extraction_type_group\" transformation is COMPLETE!\n"
     ]
    },
    {
     "data": {
      "text/html": [
       "<p><br><br>"
      ],
      "text/plain": [
       "<IPython.core.display.HTML object>"
      ]
     },
     "metadata": {},
     "output_type": "display_data"
    },
    {
     "data": {
      "text/html": [
       "<b>(composite) strategy name/description: <i><font color='red'>extraction_type_class</font></i></b><ol><li><b>strategy description</b>: <i><font color='blue' style='font-size: x-large;'>drop feature: extraction_type_class</font></i></li></ol>"
      ],
      "text/plain": [
       "<IPython.core.display.HTML object>"
      ]
     },
     "metadata": {},
     "output_type": "display_data"
    },
    {
     "name": "stdout",
     "output_type": "stream",
     "text": [
      "strategy appended step ['drop feature: extraction_type_class', <scjpnlib.utils.skl_transformers.DropColumnsTransformer object at 0x7fe6059b4e10>] to pipeline\n",
      "strategy \"drop feature: extraction_type_class\" transformation is COMPLETE!\n"
     ]
    },
    {
     "data": {
      "text/html": [
       "<p><br><br>"
      ],
      "text/plain": [
       "<IPython.core.display.HTML object>"
      ]
     },
     "metadata": {},
     "output_type": "display_data"
    },
    {
     "data": {
      "text/html": [
       "<b>(composite) strategy name/description: <i><font color='red'>management</font></i></b><ol><li><b>strategy description</b>: <i><font color='blue' style='font-size: x-large;'>strip non-alphanumeric: management</font></i></li><li><b>strategy description</b>: <i><font color='blue' style='font-size: x-large;'>(prefit) target-encoder (LOO==False, post_encode_null_to_global_mean==True) transform: management</font></i></li></ol>"
      ],
      "text/plain": [
       "<IPython.core.display.HTML object>"
      ]
     },
     "metadata": {},
     "output_type": "display_data"
    },
    {
     "name": "stdout",
     "output_type": "stream",
     "text": [
      "strategy appended step ['strip non-alphanumeric: management', FunctionTransformer(func=<function C__strip_nonalphanumeric__StrategyTransformer.get_transformer.<locals>.<lambda> at 0x7fe608ece290>)] to pipeline\n",
      "strategy \"strip non-alphanumeric: management\" transformation is COMPLETE!\n",
      "** TargetEncoderLOOTransformer FIT INFO **: transformer has been fit to X\n",
      "strategy appended step ['(prefit) target-encoder (LOO==False, post_encode_null_to_global_mean==True) transform: management', FunctionTransformer(func=<function C__target_encode__StrategyTransformer.get_transformer.<locals>.<lambda> at 0x7fe608ece170>)] to pipeline\n",
      "** TargetEncoderLOOTransformer TRANSFORM INFO **: NOT using Leave-One-Out\n",
      "** TargetEncoderLOOTransformer TRANSFORM INFO **: unique categories of 'management' in X match those that were previously fit\n",
      "added new feature: management_target_encoded\n",
      "strategy appended step ['drop after target encoding: management', <scjpnlib.utils.skl_transformers.DropColumnsTransformer object at 0x7fe6059b4950>] to pipeline\n",
      "strategy \"(prefit) target-encoder (LOO==False, post_encode_null_to_global_mean==True) transform: management\" dropped feature 'management' after target encoding\n",
      "strategy transformation of feature 'management' to 'management_target_encoded' is COMPLETE!\n"
     ]
    },
    {
     "data": {
      "text/html": [
       "<p><br><br>"
      ],
      "text/plain": [
       "<IPython.core.display.HTML object>"
      ]
     },
     "metadata": {},
     "output_type": "display_data"
    },
    {
     "data": {
      "text/html": [
       "<b>(composite) strategy name/description: <i><font color='red'>management_group</font></i></b><ol><li><b>strategy description</b>: <i><font color='blue' style='font-size: x-large;'>drop feature: management_group</font></i></li></ol>"
      ],
      "text/plain": [
       "<IPython.core.display.HTML object>"
      ]
     },
     "metadata": {},
     "output_type": "display_data"
    },
    {
     "name": "stdout",
     "output_type": "stream",
     "text": [
      "strategy appended step ['drop feature: management_group', <scjpnlib.utils.skl_transformers.DropColumnsTransformer object at 0x7fe6094850d0>] to pipeline\n",
      "strategy \"drop feature: management_group\" transformation is COMPLETE!\n"
     ]
    },
    {
     "data": {
      "text/html": [
       "<p><br><br>"
      ],
      "text/plain": [
       "<IPython.core.display.HTML object>"
      ]
     },
     "metadata": {},
     "output_type": "display_data"
    },
    {
     "data": {
      "text/html": [
       "<b>(composite) strategy name/description: <i><font color='red'>payment_type</font></i></b><ol><li><b>(composite) strategy name/description: <i><font color='red'>required preprocessing to OneHot-Encode payment_type</font></i></b><ol><li><b>strategy description</b>: <i><font color='blue' style='font-size: x-large;'>strip non-alphanumeric: payment_type</font></i></li><li><b>strategy description</b>: <i><font color='blue' style='font-size: x-large;'>OneHot Encode: payment_type</font></i></li></ol></li></ol>"
      ],
      "text/plain": [
       "<IPython.core.display.HTML object>"
      ]
     },
     "metadata": {},
     "output_type": "display_data"
    },
    {
     "name": "stdout",
     "output_type": "stream",
     "text": [
      "strategy appended step ['strip non-alphanumeric: payment_type', FunctionTransformer(func=<function C__strip_nonalphanumeric__StrategyTransformer.get_transformer.<locals>.<lambda> at 0x7fe608ece950>)] to pipeline\n",
      "strategy \"strip non-alphanumeric: payment_type\" transformation is COMPLETE!\n",
      "strategy appended step ['OneHot Encode: payment_type', <scjpnlib.utils.skl_transformers.OneHotEncodingTransformer object at 0x7fe609485310>] to pipeline\n",
      "strategy \"OneHot Encode: payment_type\" transformation is COMPLETE!\n"
     ]
    },
    {
     "data": {
      "text/html": [
       "<p><br><br>"
      ],
      "text/plain": [
       "<IPython.core.display.HTML object>"
      ]
     },
     "metadata": {},
     "output_type": "display_data"
    },
    {
     "data": {
      "text/html": [
       "<b>(composite) strategy name/description: <i><font color='red'>payment</font></i></b><ol><li><b>strategy description</b>: <i><font color='blue' style='font-size: x-large;'>drop feature: payment</font></i></li></ol>"
      ],
      "text/plain": [
       "<IPython.core.display.HTML object>"
      ]
     },
     "metadata": {},
     "output_type": "display_data"
    },
    {
     "name": "stdout",
     "output_type": "stream",
     "text": [
      "strategy appended step ['drop feature: payment', <scjpnlib.utils.skl_transformers.DropColumnsTransformer object at 0x7fe608fc9510>] to pipeline\n",
      "strategy \"drop feature: payment\" transformation is COMPLETE!\n"
     ]
    },
    {
     "data": {
      "text/html": [
       "<p><br><br>"
      ],
      "text/plain": [
       "<IPython.core.display.HTML object>"
      ]
     },
     "metadata": {},
     "output_type": "display_data"
    },
    {
     "data": {
      "text/html": [
       "<b>(composite) strategy name/description: <i><font color='red'>water_quality</font></i></b><ol><li><b>(composite) strategy name/description: <i><font color='red'>required preprocessing to OneHot-Encode water_quality</font></i></b><ol><li><b>strategy description</b>: <i><font color='blue' style='font-size: x-large;'>strip non-alphanumeric: water_quality</font></i></li><li><b>strategy description</b>: <i><font color='blue' style='font-size: x-large;'>OneHot Encode: water_quality</font></i></li></ol></li></ol>"
      ],
      "text/plain": [
       "<IPython.core.display.HTML object>"
      ]
     },
     "metadata": {},
     "output_type": "display_data"
    },
    {
     "name": "stdout",
     "output_type": "stream",
     "text": [
      "strategy appended step ['strip non-alphanumeric: water_quality', FunctionTransformer(func=<function C__strip_nonalphanumeric__StrategyTransformer.get_transformer.<locals>.<lambda> at 0x7fe608ece7a0>)] to pipeline\n",
      "strategy \"strip non-alphanumeric: water_quality\" transformation is COMPLETE!\n",
      "strategy appended step ['OneHot Encode: water_quality', <scjpnlib.utils.skl_transformers.OneHotEncodingTransformer object at 0x7fe6059b4590>] to pipeline\n",
      "strategy \"OneHot Encode: water_quality\" transformation is COMPLETE!\n"
     ]
    },
    {
     "data": {
      "text/html": [
       "<p><br><br>"
      ],
      "text/plain": [
       "<IPython.core.display.HTML object>"
      ]
     },
     "metadata": {},
     "output_type": "display_data"
    },
    {
     "data": {
      "text/html": [
       "<b>(composite) strategy name/description: <i><font color='red'>quality_group</font></i></b><ol><li><b>strategy description</b>: <i><font color='blue' style='font-size: x-large;'>drop feature: quality_group</font></i></li></ol>"
      ],
      "text/plain": [
       "<IPython.core.display.HTML object>"
      ]
     },
     "metadata": {},
     "output_type": "display_data"
    },
    {
     "name": "stdout",
     "output_type": "stream",
     "text": [
      "strategy appended step ['drop feature: quality_group', <scjpnlib.utils.skl_transformers.DropColumnsTransformer object at 0x7fe611c9e7d0>] to pipeline\n",
      "strategy \"drop feature: quality_group\" transformation is COMPLETE!\n"
     ]
    },
    {
     "data": {
      "text/html": [
       "<p><br><br>"
      ],
      "text/plain": [
       "<IPython.core.display.HTML object>"
      ]
     },
     "metadata": {},
     "output_type": "display_data"
    },
    {
     "data": {
      "text/html": [
       "<b>(composite) strategy name/description: <i><font color='red'>quantity</font></i></b><ol><li><b>(composite) strategy name/description: <i><font color='red'>required preprocessing to OneHot-Encode quantity</font></i></b><ol><li><b>strategy description</b>: <i><font color='blue' style='font-size: x-large;'>strip non-alphanumeric: quantity</font></i></li><li><b>strategy description</b>: <i><font color='blue' style='font-size: x-large;'>OneHot Encode: quantity</font></i></li></ol></li></ol>"
      ],
      "text/plain": [
       "<IPython.core.display.HTML object>"
      ]
     },
     "metadata": {},
     "output_type": "display_data"
    },
    {
     "name": "stdout",
     "output_type": "stream",
     "text": [
      "strategy appended step ['strip non-alphanumeric: quantity', FunctionTransformer(func=<function C__strip_nonalphanumeric__StrategyTransformer.get_transformer.<locals>.<lambda> at 0x7fe608ecea70>)] to pipeline\n",
      "strategy \"strip non-alphanumeric: quantity\" transformation is COMPLETE!\n",
      "strategy appended step ['OneHot Encode: quantity', <scjpnlib.utils.skl_transformers.OneHotEncodingTransformer object at 0x7fe60945d5d0>] to pipeline\n",
      "strategy \"OneHot Encode: quantity\" transformation is COMPLETE!\n"
     ]
    },
    {
     "data": {
      "text/html": [
       "<p><br><br>"
      ],
      "text/plain": [
       "<IPython.core.display.HTML object>"
      ]
     },
     "metadata": {},
     "output_type": "display_data"
    },
    {
     "data": {
      "text/html": [
       "<b>(composite) strategy name/description: <i><font color='red'>quantity_group</font></i></b><ol><li><b>strategy description</b>: <i><font color='blue' style='font-size: x-large;'>drop feature: quantity_group</font></i></li></ol>"
      ],
      "text/plain": [
       "<IPython.core.display.HTML object>"
      ]
     },
     "metadata": {},
     "output_type": "display_data"
    },
    {
     "name": "stdout",
     "output_type": "stream",
     "text": [
      "strategy appended step ['drop feature: quantity_group', <scjpnlib.utils.skl_transformers.DropColumnsTransformer object at 0x7fe611c63e50>] to pipeline\n",
      "strategy \"drop feature: quantity_group\" transformation is COMPLETE!\n"
     ]
    },
    {
     "data": {
      "text/html": [
       "<p><br><br>"
      ],
      "text/plain": [
       "<IPython.core.display.HTML object>"
      ]
     },
     "metadata": {},
     "output_type": "display_data"
    },
    {
     "data": {
      "text/html": [
       "<b>(composite) strategy name/description: <i><font color='red'>source</font></i></b><ol><li><b>(composite) strategy name/description: <i><font color='red'>required preprocessing to OneHot-Encode source</font></i></b><ol><li><b>strategy description</b>: <i><font color='blue' style='font-size: x-large;'>strip non-alphanumeric: source</font></i></li><li><b>strategy description</b>: <i><font color='blue' style='font-size: x-large;'>OneHot Encode: source</font></i></li></ol></li></ol>"
      ],
      "text/plain": [
       "<IPython.core.display.HTML object>"
      ]
     },
     "metadata": {},
     "output_type": "display_data"
    },
    {
     "name": "stdout",
     "output_type": "stream",
     "text": [
      "strategy appended step ['strip non-alphanumeric: source', FunctionTransformer(func=<function C__strip_nonalphanumeric__StrategyTransformer.get_transformer.<locals>.<lambda> at 0x7fe608eced40>)] to pipeline\n",
      "strategy \"strip non-alphanumeric: source\" transformation is COMPLETE!\n",
      "strategy appended step ['OneHot Encode: source', <scjpnlib.utils.skl_transformers.OneHotEncodingTransformer object at 0x7fe60945d790>] to pipeline\n",
      "strategy \"OneHot Encode: source\" transformation is COMPLETE!\n"
     ]
    },
    {
     "data": {
      "text/html": [
       "<p><br><br>"
      ],
      "text/plain": [
       "<IPython.core.display.HTML object>"
      ]
     },
     "metadata": {},
     "output_type": "display_data"
    },
    {
     "data": {
      "text/html": [
       "<b>(composite) strategy name/description: <i><font color='red'>source_type</font></i></b><ol><li><b>strategy description</b>: <i><font color='blue' style='font-size: x-large;'>drop feature: source_type</font></i></li></ol>"
      ],
      "text/plain": [
       "<IPython.core.display.HTML object>"
      ]
     },
     "metadata": {},
     "output_type": "display_data"
    },
    {
     "name": "stdout",
     "output_type": "stream",
     "text": [
      "strategy appended step ['drop feature: source_type', <scjpnlib.utils.skl_transformers.DropColumnsTransformer object at 0x7fe5f4fcbd50>] to pipeline\n",
      "strategy \"drop feature: source_type\" transformation is COMPLETE!\n"
     ]
    },
    {
     "data": {
      "text/html": [
       "<p><br><br>"
      ],
      "text/plain": [
       "<IPython.core.display.HTML object>"
      ]
     },
     "metadata": {},
     "output_type": "display_data"
    },
    {
     "data": {
      "text/html": [
       "<b>(composite) strategy name/description: <i><font color='red'>source_class</font></i></b><ol><li><b>strategy description</b>: <i><font color='blue' style='font-size: x-large;'>drop feature: source_class</font></i></li></ol>"
      ],
      "text/plain": [
       "<IPython.core.display.HTML object>"
      ]
     },
     "metadata": {},
     "output_type": "display_data"
    },
    {
     "name": "stdout",
     "output_type": "stream",
     "text": [
      "strategy appended step ['drop feature: source_class', <scjpnlib.utils.skl_transformers.DropColumnsTransformer object at 0x7fe5f4fcbc90>] to pipeline\n",
      "strategy \"drop feature: source_class\" transformation is COMPLETE!\n"
     ]
    },
    {
     "data": {
      "text/html": [
       "<p><br><br>"
      ],
      "text/plain": [
       "<IPython.core.display.HTML object>"
      ]
     },
     "metadata": {},
     "output_type": "display_data"
    },
    {
     "data": {
      "text/html": [
       "<b>(composite) strategy name/description: <i><font color='red'>waterpoint_type</font></i></b><ol><li><b>strategy description</b>: <i><font color='blue' style='font-size: x-large;'>strip non-alphanumeric: waterpoint_type</font></i></li><li><b>strategy description</b>: <i><font color='blue' style='font-size: x-large;'>(prefit) target-encoder (LOO==False, post_encode_null_to_global_mean==True) transform: waterpoint_type</font></i></li></ol>"
      ],
      "text/plain": [
       "<IPython.core.display.HTML object>"
      ]
     },
     "metadata": {},
     "output_type": "display_data"
    },
    {
     "name": "stdout",
     "output_type": "stream",
     "text": [
      "strategy appended step ['strip non-alphanumeric: waterpoint_type', FunctionTransformer(func=<function C__strip_nonalphanumeric__StrategyTransformer.get_transformer.<locals>.<lambda> at 0x7fe608eceb00>)] to pipeline\n",
      "strategy \"strip non-alphanumeric: waterpoint_type\" transformation is COMPLETE!\n",
      "** TargetEncoderLOOTransformer FIT INFO **: transformer has been fit to X\n",
      "strategy appended step ['(prefit) target-encoder (LOO==False, post_encode_null_to_global_mean==True) transform: waterpoint_type', FunctionTransformer(func=<function C__target_encode__StrategyTransformer.get_transformer.<locals>.<lambda> at 0x7fe608ece5f0>)] to pipeline\n",
      "** TargetEncoderLOOTransformer TRANSFORM INFO **: NOT using Leave-One-Out\n",
      "** TargetEncoderLOOTransformer TRANSFORM INFO **: unique categories of 'waterpoint_type' in X match those that were previously fit\n",
      "added new feature: waterpoint_type_target_encoded\n",
      "strategy appended step ['drop after target encoding: waterpoint_type', <scjpnlib.utils.skl_transformers.DropColumnsTransformer object at 0x7fe5f4fcba50>] to pipeline\n",
      "strategy \"(prefit) target-encoder (LOO==False, post_encode_null_to_global_mean==True) transform: waterpoint_type\" dropped feature 'waterpoint_type' after target encoding\n",
      "strategy transformation of feature 'waterpoint_type' to 'waterpoint_type_target_encoded' is COMPLETE!\n"
     ]
    },
    {
     "data": {
      "text/html": [
       "<p><br><br>"
      ],
      "text/plain": [
       "<IPython.core.display.HTML object>"
      ]
     },
     "metadata": {},
     "output_type": "display_data"
    },
    {
     "data": {
      "text/html": [
       "<b>(composite) strategy name/description: <i><font color='red'>waterpoint_type_group</font></i></b><ol><li><b>strategy description</b>: <i><font color='blue' style='font-size: x-large;'>drop feature: waterpoint_type_group</font></i></li></ol>"
      ],
      "text/plain": [
       "<IPython.core.display.HTML object>"
      ]
     },
     "metadata": {},
     "output_type": "display_data"
    },
    {
     "name": "stdout",
     "output_type": "stream",
     "text": [
      "strategy appended step ['drop feature: waterpoint_type_group', <scjpnlib.utils.skl_transformers.DropColumnsTransformer object at 0x7fe60945d2d0>] to pipeline\n",
      "strategy \"drop feature: waterpoint_type_group\" transformation is COMPLETE!\n"
     ]
    },
    {
     "data": {
      "text/html": [
       "<p><br><br>"
      ],
      "text/plain": [
       "<IPython.core.display.HTML object>"
      ]
     },
     "metadata": {},
     "output_type": "display_data"
    }
   ],
   "source": [
    "data_train_preprocessed = data_train.copy()\n",
    "\n",
    "for group_name, preprocessing_option in preprocessing_spec.items():\n",
    "    composite_transformer = scjpnpreprocessing.instantiate_strategy_transformer(\n",
    "        preprocessing_option, \n",
    "        group_name,\n",
    "        pipeline_data_preprocessor,\n",
    "        verbose=True\n",
    "    )\n",
    "    scjpnpreprocessing.html_prettify_strategy_transformer_description(composite_transformer)\n",
    "    data_train_preprocessed = composite_transformer.fit_transform(data_train_preprocessed, y_train_encoded.status_group)\n",
    "    display(HTML(\"<p><br><br>\"))"
   ]
  },
  {
   "cell_type": "code",
   "execution_count": 27,
   "metadata": {},
   "outputs": [
    {
     "data": {
      "text/html": [
       "<h3>data_train AFTER preprocessing Feature-Value Analysis (out of 53460 total observations)</h3>"
      ],
      "text/plain": [
       "<IPython.core.display.HTML object>"
      ]
     },
     "metadata": {},
     "output_type": "display_data"
    },
    {
     "data": {
      "text/html": [
       "<div>\n",
       "<style scoped>\n",
       "    .dataframe tbody tr th:only-of-type {\n",
       "        vertical-align: middle;\n",
       "    }\n",
       "\n",
       "    .dataframe tbody tr th {\n",
       "        vertical-align: top;\n",
       "    }\n",
       "\n",
       "    .dataframe thead th {\n",
       "        text-align: right;\n",
       "    }\n",
       "</style>\n",
       "<table border=\"1\" class=\"dataframe\">\n",
       "  <thead>\n",
       "    <tr style=\"text-align: left;\">\n",
       "      <th></th>\n",
       "      <th>feature</th>\n",
       "      <th>dtype</th>\n",
       "      <th>n_unique</th>\n",
       "      <th>unique_vals</th>\n",
       "      <th>n_unique_ratio</th>\n",
       "      <th>p_cat</th>\n",
       "      <th>n_null</th>\n",
       "      <th>n_null_ratio</th>\n",
       "      <th>null_index</th>\n",
       "    </tr>\n",
       "  </thead>\n",
       "  <tbody>\n",
       "    <tr>\n",
       "      <th>0</th>\n",
       "      <td>amount_tsh</td>\n",
       "      <td>float64</td>\n",
       "      <td>21</td>\n",
       "      <td>[0.0, 316.0523728020951, 5.0, 10.0, 20.0, 50.0...</td>\n",
       "      <td>0.000393</td>\n",
       "      <td>99.96</td>\n",
       "      <td>0</td>\n",
       "      <td>0.0</td>\n",
       "      <td>None</td>\n",
       "    </tr>\n",
       "    <tr>\n",
       "      <th>1</th>\n",
       "      <td>gps_height</td>\n",
       "      <td>int64</td>\n",
       "      <td>2415</td>\n",
       "      <td>[1424, 1358, 0, 299, -14, 1490, 1421, 915, 891...</td>\n",
       "      <td>0.045174</td>\n",
       "      <td>95.48</td>\n",
       "      <td>0</td>\n",
       "      <td>0.0</td>\n",
       "      <td>None</td>\n",
       "    </tr>\n",
       "    <tr>\n",
       "      <th>2</th>\n",
       "      <td>longitude</td>\n",
       "      <td>float64</td>\n",
       "      <td>51753</td>\n",
       "      <td>[37.61840909, 30.6557619, 33.81319755, 33.1151...</td>\n",
       "      <td>0.968070</td>\n",
       "      <td>3.19</td>\n",
       "      <td>0</td>\n",
       "      <td>0.0</td>\n",
       "      <td>None</td>\n",
       "    </tr>\n",
       "    <tr>\n",
       "      <th>3</th>\n",
       "      <td>latitude</td>\n",
       "      <td>float64</td>\n",
       "      <td>51755</td>\n",
       "      <td>[-3.26320247, -3.53625, -9.47660713, -4.835553...</td>\n",
       "      <td>0.968107</td>\n",
       "      <td>3.19</td>\n",
       "      <td>0</td>\n",
       "      <td>0.0</td>\n",
       "      <td>None</td>\n",
       "    </tr>\n",
       "    <tr>\n",
       "      <th>4</th>\n",
       "      <td>num_private</td>\n",
       "      <td>int64</td>\n",
       "      <td>61</td>\n",
       "      <td>[0, 34, 65, 32, 1, 8, 41, 6, 15, 3, 698, 1402,...</td>\n",
       "      <td>0.001141</td>\n",
       "      <td>99.89</td>\n",
       "      <td>0</td>\n",
       "      <td>0.0</td>\n",
       "      <td>None</td>\n",
       "    </tr>\n",
       "    <tr>\n",
       "      <th>5</th>\n",
       "      <td>population</td>\n",
       "      <td>float64</td>\n",
       "      <td>496</td>\n",
       "      <td>[1.0, 500.0, 0.0, 263.0, 400.0, 520.0, 350.0, ...</td>\n",
       "      <td>0.009278</td>\n",
       "      <td>99.07</td>\n",
       "      <td>0</td>\n",
       "      <td>0.0</td>\n",
       "      <td>None</td>\n",
       "    </tr>\n",
       "    <tr>\n",
       "      <th>6</th>\n",
       "      <td>construction_year</td>\n",
       "      <td>int64</td>\n",
       "      <td>55</td>\n",
       "      <td>[2012, 2009, 0, 1996, 2000, 2001, 1998, 2013, ...</td>\n",
       "      <td>0.001029</td>\n",
       "      <td>99.90</td>\n",
       "      <td>0</td>\n",
       "      <td>0.0</td>\n",
       "      <td>None</td>\n",
       "    </tr>\n",
       "    <tr>\n",
       "      <th>7</th>\n",
       "      <td>region_code_target_encoded</td>\n",
       "      <td>float64</td>\n",
       "      <td>27</td>\n",
       "      <td>[0.7233282286881062, 0.815005954743946, 0.8911...</td>\n",
       "      <td>0.000505</td>\n",
       "      <td>99.95</td>\n",
       "      <td>0</td>\n",
       "      <td>0.0</td>\n",
       "      <td>None</td>\n",
       "    </tr>\n",
       "    <tr>\n",
       "      <th>8</th>\n",
       "      <td>district_code_1</td>\n",
       "      <td>float64</td>\n",
       "      <td>2</td>\n",
       "      <td>[1.0, 0.0]</td>\n",
       "      <td>0.000037</td>\n",
       "      <td>100.00</td>\n",
       "      <td>0</td>\n",
       "      <td>0.0</td>\n",
       "      <td>None</td>\n",
       "    </tr>\n",
       "    <tr>\n",
       "      <th>9</th>\n",
       "      <td>district_code_2</td>\n",
       "      <td>float64</td>\n",
       "      <td>2</td>\n",
       "      <td>[0.0, 1.0]</td>\n",
       "      <td>0.000037</td>\n",
       "      <td>100.00</td>\n",
       "      <td>0</td>\n",
       "      <td>0.0</td>\n",
       "      <td>None</td>\n",
       "    </tr>\n",
       "    <tr>\n",
       "      <th>10</th>\n",
       "      <td>district_code_3</td>\n",
       "      <td>float64</td>\n",
       "      <td>2</td>\n",
       "      <td>[0.0, 1.0]</td>\n",
       "      <td>0.000037</td>\n",
       "      <td>100.00</td>\n",
       "      <td>0</td>\n",
       "      <td>0.0</td>\n",
       "      <td>None</td>\n",
       "    </tr>\n",
       "    <tr>\n",
       "      <th>11</th>\n",
       "      <td>district_code_4</td>\n",
       "      <td>float64</td>\n",
       "      <td>2</td>\n",
       "      <td>[0.0, 1.0]</td>\n",
       "      <td>0.000037</td>\n",
       "      <td>100.00</td>\n",
       "      <td>0</td>\n",
       "      <td>0.0</td>\n",
       "      <td>None</td>\n",
       "    </tr>\n",
       "    <tr>\n",
       "      <th>12</th>\n",
       "      <td>district_code_5</td>\n",
       "      <td>float64</td>\n",
       "      <td>2</td>\n",
       "      <td>[0.0, 1.0]</td>\n",
       "      <td>0.000037</td>\n",
       "      <td>100.00</td>\n",
       "      <td>0</td>\n",
       "      <td>0.0</td>\n",
       "      <td>None</td>\n",
       "    </tr>\n",
       "    <tr>\n",
       "      <th>13</th>\n",
       "      <td>district_code_6</td>\n",
       "      <td>float64</td>\n",
       "      <td>2</td>\n",
       "      <td>[0.0, 1.0]</td>\n",
       "      <td>0.000037</td>\n",
       "      <td>100.00</td>\n",
       "      <td>0</td>\n",
       "      <td>0.0</td>\n",
       "      <td>None</td>\n",
       "    </tr>\n",
       "    <tr>\n",
       "      <th>14</th>\n",
       "      <td>district_code_7</td>\n",
       "      <td>float64</td>\n",
       "      <td>2</td>\n",
       "      <td>[0.0, 1.0]</td>\n",
       "      <td>0.000037</td>\n",
       "      <td>100.00</td>\n",
       "      <td>0</td>\n",
       "      <td>0.0</td>\n",
       "      <td>None</td>\n",
       "    </tr>\n",
       "    <tr>\n",
       "      <th>15</th>\n",
       "      <td>district_code_8</td>\n",
       "      <td>float64</td>\n",
       "      <td>2</td>\n",
       "      <td>[0.0, 1.0]</td>\n",
       "      <td>0.000037</td>\n",
       "      <td>100.00</td>\n",
       "      <td>0</td>\n",
       "      <td>0.0</td>\n",
       "      <td>None</td>\n",
       "    </tr>\n",
       "    <tr>\n",
       "      <th>16</th>\n",
       "      <td>district_code_13</td>\n",
       "      <td>float64</td>\n",
       "      <td>2</td>\n",
       "      <td>[0.0, 1.0]</td>\n",
       "      <td>0.000037</td>\n",
       "      <td>100.00</td>\n",
       "      <td>0</td>\n",
       "      <td>0.0</td>\n",
       "      <td>None</td>\n",
       "    </tr>\n",
       "    <tr>\n",
       "      <th>17</th>\n",
       "      <td>district_code_23</td>\n",
       "      <td>float64</td>\n",
       "      <td>2</td>\n",
       "      <td>[0.0, 1.0]</td>\n",
       "      <td>0.000037</td>\n",
       "      <td>100.00</td>\n",
       "      <td>0</td>\n",
       "      <td>0.0</td>\n",
       "      <td>None</td>\n",
       "    </tr>\n",
       "    <tr>\n",
       "      <th>18</th>\n",
       "      <td>district_code_30</td>\n",
       "      <td>float64</td>\n",
       "      <td>2</td>\n",
       "      <td>[0.0, 1.0]</td>\n",
       "      <td>0.000037</td>\n",
       "      <td>100.00</td>\n",
       "      <td>0</td>\n",
       "      <td>0.0</td>\n",
       "      <td>None</td>\n",
       "    </tr>\n",
       "    <tr>\n",
       "      <th>19</th>\n",
       "      <td>district_code_33</td>\n",
       "      <td>float64</td>\n",
       "      <td>2</td>\n",
       "      <td>[0.0, 1.0]</td>\n",
       "      <td>0.000037</td>\n",
       "      <td>100.00</td>\n",
       "      <td>0</td>\n",
       "      <td>0.0</td>\n",
       "      <td>None</td>\n",
       "    </tr>\n",
       "    <tr>\n",
       "      <th>20</th>\n",
       "      <td>district_code_43</td>\n",
       "      <td>float64</td>\n",
       "      <td>2</td>\n",
       "      <td>[0.0, 1.0]</td>\n",
       "      <td>0.000037</td>\n",
       "      <td>100.00</td>\n",
       "      <td>0</td>\n",
       "      <td>0.0</td>\n",
       "      <td>None</td>\n",
       "    </tr>\n",
       "    <tr>\n",
       "      <th>21</th>\n",
       "      <td>district_code_53</td>\n",
       "      <td>float64</td>\n",
       "      <td>2</td>\n",
       "      <td>[0.0, 1.0]</td>\n",
       "      <td>0.000037</td>\n",
       "      <td>100.00</td>\n",
       "      <td>0</td>\n",
       "      <td>0.0</td>\n",
       "      <td>None</td>\n",
       "    </tr>\n",
       "    <tr>\n",
       "      <th>22</th>\n",
       "      <td>district_code_60</td>\n",
       "      <td>float64</td>\n",
       "      <td>2</td>\n",
       "      <td>[0.0, 1.0]</td>\n",
       "      <td>0.000037</td>\n",
       "      <td>100.00</td>\n",
       "      <td>0</td>\n",
       "      <td>0.0</td>\n",
       "      <td>None</td>\n",
       "    </tr>\n",
       "    <tr>\n",
       "      <th>23</th>\n",
       "      <td>district_code_62</td>\n",
       "      <td>float64</td>\n",
       "      <td>2</td>\n",
       "      <td>[0.0, 1.0]</td>\n",
       "      <td>0.000037</td>\n",
       "      <td>100.00</td>\n",
       "      <td>0</td>\n",
       "      <td>0.0</td>\n",
       "      <td>None</td>\n",
       "    </tr>\n",
       "    <tr>\n",
       "      <th>24</th>\n",
       "      <td>district_code_63</td>\n",
       "      <td>float64</td>\n",
       "      <td>2</td>\n",
       "      <td>[0.0, 1.0]</td>\n",
       "      <td>0.000037</td>\n",
       "      <td>100.00</td>\n",
       "      <td>0</td>\n",
       "      <td>0.0</td>\n",
       "      <td>None</td>\n",
       "    </tr>\n",
       "    <tr>\n",
       "      <th>25</th>\n",
       "      <td>district_code_67</td>\n",
       "      <td>float64</td>\n",
       "      <td>2</td>\n",
       "      <td>[0.0, 1.0]</td>\n",
       "      <td>0.000037</td>\n",
       "      <td>100.00</td>\n",
       "      <td>0</td>\n",
       "      <td>0.0</td>\n",
       "      <td>None</td>\n",
       "    </tr>\n",
       "    <tr>\n",
       "      <th>26</th>\n",
       "      <td>district_code_80</td>\n",
       "      <td>float64</td>\n",
       "      <td>2</td>\n",
       "      <td>[0.0, 1.0]</td>\n",
       "      <td>0.000037</td>\n",
       "      <td>100.00</td>\n",
       "      <td>0</td>\n",
       "      <td>0.0</td>\n",
       "      <td>None</td>\n",
       "    </tr>\n",
       "    <tr>\n",
       "      <th>27</th>\n",
       "      <td>ward_target_encoded</td>\n",
       "      <td>float64</td>\n",
       "      <td>700</td>\n",
       "      <td>[1.125, 0.7272727272727273, 1.6538461538461537...</td>\n",
       "      <td>0.013094</td>\n",
       "      <td>98.69</td>\n",
       "      <td>0</td>\n",
       "      <td>0.0</td>\n",
       "      <td>None</td>\n",
       "    </tr>\n",
       "    <tr>\n",
       "      <th>28</th>\n",
       "      <td>lga_target_encoded</td>\n",
       "      <td>float64</td>\n",
       "      <td>124</td>\n",
       "      <td>[1.246212121212121, 0.883183568677792, 1.14322...</td>\n",
       "      <td>0.002319</td>\n",
       "      <td>99.77</td>\n",
       "      <td>0</td>\n",
       "      <td>0.0</td>\n",
       "      <td>None</td>\n",
       "    </tr>\n",
       "    <tr>\n",
       "      <th>29</th>\n",
       "      <td>extraction_type_cemo</td>\n",
       "      <td>float64</td>\n",
       "      <td>2</td>\n",
       "      <td>[0.0, 1.0]</td>\n",
       "      <td>0.000037</td>\n",
       "      <td>100.00</td>\n",
       "      <td>0</td>\n",
       "      <td>0.0</td>\n",
       "      <td>None</td>\n",
       "    </tr>\n",
       "    <tr>\n",
       "      <th>30</th>\n",
       "      <td>extraction_type_climax</td>\n",
       "      <td>float64</td>\n",
       "      <td>2</td>\n",
       "      <td>[0.0, 1.0]</td>\n",
       "      <td>0.000037</td>\n",
       "      <td>100.00</td>\n",
       "      <td>0</td>\n",
       "      <td>0.0</td>\n",
       "      <td>None</td>\n",
       "    </tr>\n",
       "    <tr>\n",
       "      <th>31</th>\n",
       "      <td>extraction_type_gravity</td>\n",
       "      <td>float64</td>\n",
       "      <td>2</td>\n",
       "      <td>[1.0, 0.0]</td>\n",
       "      <td>0.000037</td>\n",
       "      <td>100.00</td>\n",
       "      <td>0</td>\n",
       "      <td>0.0</td>\n",
       "      <td>None</td>\n",
       "    </tr>\n",
       "    <tr>\n",
       "      <th>32</th>\n",
       "      <td>extraction_type_indiamarkii</td>\n",
       "      <td>float64</td>\n",
       "      <td>2</td>\n",
       "      <td>[0.0, 1.0]</td>\n",
       "      <td>0.000037</td>\n",
       "      <td>100.00</td>\n",
       "      <td>0</td>\n",
       "      <td>0.0</td>\n",
       "      <td>None</td>\n",
       "    </tr>\n",
       "    <tr>\n",
       "      <th>33</th>\n",
       "      <td>extraction_type_indiamarkiii</td>\n",
       "      <td>float64</td>\n",
       "      <td>2</td>\n",
       "      <td>[0.0, 1.0]</td>\n",
       "      <td>0.000037</td>\n",
       "      <td>100.00</td>\n",
       "      <td>0</td>\n",
       "      <td>0.0</td>\n",
       "      <td>None</td>\n",
       "    </tr>\n",
       "    <tr>\n",
       "      <th>34</th>\n",
       "      <td>extraction_type_ksb</td>\n",
       "      <td>float64</td>\n",
       "      <td>2</td>\n",
       "      <td>[0.0, 1.0]</td>\n",
       "      <td>0.000037</td>\n",
       "      <td>100.00</td>\n",
       "      <td>0</td>\n",
       "      <td>0.0</td>\n",
       "      <td>None</td>\n",
       "    </tr>\n",
       "    <tr>\n",
       "      <th>35</th>\n",
       "      <td>extraction_type_mono</td>\n",
       "      <td>float64</td>\n",
       "      <td>2</td>\n",
       "      <td>[0.0, 1.0]</td>\n",
       "      <td>0.000037</td>\n",
       "      <td>100.00</td>\n",
       "      <td>0</td>\n",
       "      <td>0.0</td>\n",
       "      <td>None</td>\n",
       "    </tr>\n",
       "    <tr>\n",
       "      <th>36</th>\n",
       "      <td>extraction_type_niratanira</td>\n",
       "      <td>float64</td>\n",
       "      <td>2</td>\n",
       "      <td>[0.0, 1.0]</td>\n",
       "      <td>0.000037</td>\n",
       "      <td>100.00</td>\n",
       "      <td>0</td>\n",
       "      <td>0.0</td>\n",
       "      <td>None</td>\n",
       "    </tr>\n",
       "    <tr>\n",
       "      <th>37</th>\n",
       "      <td>extraction_type_other</td>\n",
       "      <td>float64</td>\n",
       "      <td>2</td>\n",
       "      <td>[0.0, 1.0]</td>\n",
       "      <td>0.000037</td>\n",
       "      <td>100.00</td>\n",
       "      <td>0</td>\n",
       "      <td>0.0</td>\n",
       "      <td>None</td>\n",
       "    </tr>\n",
       "    <tr>\n",
       "      <th>38</th>\n",
       "      <td>extraction_type_othermkulimashinyanga</td>\n",
       "      <td>float64</td>\n",
       "      <td>2</td>\n",
       "      <td>[0.0, 1.0]</td>\n",
       "      <td>0.000037</td>\n",
       "      <td>100.00</td>\n",
       "      <td>0</td>\n",
       "      <td>0.0</td>\n",
       "      <td>None</td>\n",
       "    </tr>\n",
       "    <tr>\n",
       "      <th>39</th>\n",
       "      <td>extraction_type_otherplaypump</td>\n",
       "      <td>float64</td>\n",
       "      <td>2</td>\n",
       "      <td>[0.0, 1.0]</td>\n",
       "      <td>0.000037</td>\n",
       "      <td>100.00</td>\n",
       "      <td>0</td>\n",
       "      <td>0.0</td>\n",
       "      <td>None</td>\n",
       "    </tr>\n",
       "    <tr>\n",
       "      <th>40</th>\n",
       "      <td>extraction_type_otherropepump</td>\n",
       "      <td>float64</td>\n",
       "      <td>2</td>\n",
       "      <td>[0.0, 1.0]</td>\n",
       "      <td>0.000037</td>\n",
       "      <td>100.00</td>\n",
       "      <td>0</td>\n",
       "      <td>0.0</td>\n",
       "      <td>None</td>\n",
       "    </tr>\n",
       "    <tr>\n",
       "      <th>41</th>\n",
       "      <td>extraction_type_otherswn81</td>\n",
       "      <td>float64</td>\n",
       "      <td>2</td>\n",
       "      <td>[0.0, 1.0]</td>\n",
       "      <td>0.000037</td>\n",
       "      <td>100.00</td>\n",
       "      <td>0</td>\n",
       "      <td>0.0</td>\n",
       "      <td>None</td>\n",
       "    </tr>\n",
       "    <tr>\n",
       "      <th>42</th>\n",
       "      <td>extraction_type_submersible</td>\n",
       "      <td>float64</td>\n",
       "      <td>2</td>\n",
       "      <td>[0.0, 1.0]</td>\n",
       "      <td>0.000037</td>\n",
       "      <td>100.00</td>\n",
       "      <td>0</td>\n",
       "      <td>0.0</td>\n",
       "      <td>None</td>\n",
       "    </tr>\n",
       "    <tr>\n",
       "      <th>43</th>\n",
       "      <td>extraction_type_swn80</td>\n",
       "      <td>float64</td>\n",
       "      <td>2</td>\n",
       "      <td>[0.0, 1.0]</td>\n",
       "      <td>0.000037</td>\n",
       "      <td>100.00</td>\n",
       "      <td>0</td>\n",
       "      <td>0.0</td>\n",
       "      <td>None</td>\n",
       "    </tr>\n",
       "    <tr>\n",
       "      <th>44</th>\n",
       "      <td>extraction_type_walimi</td>\n",
       "      <td>float64</td>\n",
       "      <td>2</td>\n",
       "      <td>[0.0, 1.0]</td>\n",
       "      <td>0.000037</td>\n",
       "      <td>100.00</td>\n",
       "      <td>0</td>\n",
       "      <td>0.0</td>\n",
       "      <td>None</td>\n",
       "    </tr>\n",
       "    <tr>\n",
       "      <th>45</th>\n",
       "      <td>extraction_type_windmill</td>\n",
       "      <td>float64</td>\n",
       "      <td>2</td>\n",
       "      <td>[0.0, 1.0]</td>\n",
       "      <td>0.000037</td>\n",
       "      <td>100.00</td>\n",
       "      <td>0</td>\n",
       "      <td>0.0</td>\n",
       "      <td>None</td>\n",
       "    </tr>\n",
       "    <tr>\n",
       "      <th>46</th>\n",
       "      <td>management_target_encoded</td>\n",
       "      <td>float64</td>\n",
       "      <td>12</td>\n",
       "      <td>[1.1726973684210527, 0.9240048250904704, 0.435...</td>\n",
       "      <td>0.000224</td>\n",
       "      <td>99.98</td>\n",
       "      <td>0</td>\n",
       "      <td>0.0</td>\n",
       "      <td>None</td>\n",
       "    </tr>\n",
       "    <tr>\n",
       "      <th>47</th>\n",
       "      <td>payment_type_monthly</td>\n",
       "      <td>float64</td>\n",
       "      <td>2</td>\n",
       "      <td>[1.0, 0.0]</td>\n",
       "      <td>0.000037</td>\n",
       "      <td>100.00</td>\n",
       "      <td>0</td>\n",
       "      <td>0.0</td>\n",
       "      <td>None</td>\n",
       "    </tr>\n",
       "    <tr>\n",
       "      <th>48</th>\n",
       "      <td>payment_type_neverpay</td>\n",
       "      <td>float64</td>\n",
       "      <td>2</td>\n",
       "      <td>[0.0, 1.0]</td>\n",
       "      <td>0.000037</td>\n",
       "      <td>100.00</td>\n",
       "      <td>0</td>\n",
       "      <td>0.0</td>\n",
       "      <td>None</td>\n",
       "    </tr>\n",
       "    <tr>\n",
       "      <th>49</th>\n",
       "      <td>payment_type_onfailure</td>\n",
       "      <td>float64</td>\n",
       "      <td>2</td>\n",
       "      <td>[0.0, 1.0]</td>\n",
       "      <td>0.000037</td>\n",
       "      <td>100.00</td>\n",
       "      <td>0</td>\n",
       "      <td>0.0</td>\n",
       "      <td>None</td>\n",
       "    </tr>\n",
       "    <tr>\n",
       "      <th>50</th>\n",
       "      <td>payment_type_other</td>\n",
       "      <td>float64</td>\n",
       "      <td>2</td>\n",
       "      <td>[0.0, 1.0]</td>\n",
       "      <td>0.000037</td>\n",
       "      <td>100.00</td>\n",
       "      <td>0</td>\n",
       "      <td>0.0</td>\n",
       "      <td>None</td>\n",
       "    </tr>\n",
       "    <tr>\n",
       "      <th>51</th>\n",
       "      <td>payment_type_perbucket</td>\n",
       "      <td>float64</td>\n",
       "      <td>2</td>\n",
       "      <td>[0.0, 1.0]</td>\n",
       "      <td>0.000037</td>\n",
       "      <td>100.00</td>\n",
       "      <td>0</td>\n",
       "      <td>0.0</td>\n",
       "      <td>None</td>\n",
       "    </tr>\n",
       "    <tr>\n",
       "      <th>52</th>\n",
       "      <td>payment_type_unknown</td>\n",
       "      <td>float64</td>\n",
       "      <td>2</td>\n",
       "      <td>[0.0, 1.0]</td>\n",
       "      <td>0.000037</td>\n",
       "      <td>100.00</td>\n",
       "      <td>0</td>\n",
       "      <td>0.0</td>\n",
       "      <td>None</td>\n",
       "    </tr>\n",
       "    <tr>\n",
       "      <th>53</th>\n",
       "      <td>water_quality_fluoride</td>\n",
       "      <td>float64</td>\n",
       "      <td>2</td>\n",
       "      <td>[0.0, 1.0]</td>\n",
       "      <td>0.000037</td>\n",
       "      <td>100.00</td>\n",
       "      <td>0</td>\n",
       "      <td>0.0</td>\n",
       "      <td>None</td>\n",
       "    </tr>\n",
       "    <tr>\n",
       "      <th>54</th>\n",
       "      <td>water_quality_fluorideabandoned</td>\n",
       "      <td>float64</td>\n",
       "      <td>2</td>\n",
       "      <td>[0.0, 1.0]</td>\n",
       "      <td>0.000037</td>\n",
       "      <td>100.00</td>\n",
       "      <td>0</td>\n",
       "      <td>0.0</td>\n",
       "      <td>None</td>\n",
       "    </tr>\n",
       "    <tr>\n",
       "      <th>55</th>\n",
       "      <td>water_quality_milky</td>\n",
       "      <td>float64</td>\n",
       "      <td>2</td>\n",
       "      <td>[0.0, 1.0]</td>\n",
       "      <td>0.000037</td>\n",
       "      <td>100.00</td>\n",
       "      <td>0</td>\n",
       "      <td>0.0</td>\n",
       "      <td>None</td>\n",
       "    </tr>\n",
       "    <tr>\n",
       "      <th>56</th>\n",
       "      <td>water_quality_salty</td>\n",
       "      <td>float64</td>\n",
       "      <td>2</td>\n",
       "      <td>[0.0, 1.0]</td>\n",
       "      <td>0.000037</td>\n",
       "      <td>100.00</td>\n",
       "      <td>0</td>\n",
       "      <td>0.0</td>\n",
       "      <td>None</td>\n",
       "    </tr>\n",
       "    <tr>\n",
       "      <th>57</th>\n",
       "      <td>water_quality_saltyabandoned</td>\n",
       "      <td>float64</td>\n",
       "      <td>2</td>\n",
       "      <td>[0.0, 1.0]</td>\n",
       "      <td>0.000037</td>\n",
       "      <td>100.00</td>\n",
       "      <td>0</td>\n",
       "      <td>0.0</td>\n",
       "      <td>None</td>\n",
       "    </tr>\n",
       "    <tr>\n",
       "      <th>58</th>\n",
       "      <td>water_quality_soft</td>\n",
       "      <td>float64</td>\n",
       "      <td>2</td>\n",
       "      <td>[1.0, 0.0]</td>\n",
       "      <td>0.000037</td>\n",
       "      <td>100.00</td>\n",
       "      <td>0</td>\n",
       "      <td>0.0</td>\n",
       "      <td>None</td>\n",
       "    </tr>\n",
       "    <tr>\n",
       "      <th>59</th>\n",
       "      <td>water_quality_unknown</td>\n",
       "      <td>float64</td>\n",
       "      <td>2</td>\n",
       "      <td>[0.0, 1.0]</td>\n",
       "      <td>0.000037</td>\n",
       "      <td>100.00</td>\n",
       "      <td>0</td>\n",
       "      <td>0.0</td>\n",
       "      <td>None</td>\n",
       "    </tr>\n",
       "    <tr>\n",
       "      <th>60</th>\n",
       "      <td>quantity_enough</td>\n",
       "      <td>float64</td>\n",
       "      <td>2</td>\n",
       "      <td>[0.0, 1.0]</td>\n",
       "      <td>0.000037</td>\n",
       "      <td>100.00</td>\n",
       "      <td>0</td>\n",
       "      <td>0.0</td>\n",
       "      <td>None</td>\n",
       "    </tr>\n",
       "    <tr>\n",
       "      <th>61</th>\n",
       "      <td>quantity_insufficient</td>\n",
       "      <td>float64</td>\n",
       "      <td>2</td>\n",
       "      <td>[1.0, 0.0]</td>\n",
       "      <td>0.000037</td>\n",
       "      <td>100.00</td>\n",
       "      <td>0</td>\n",
       "      <td>0.0</td>\n",
       "      <td>None</td>\n",
       "    </tr>\n",
       "    <tr>\n",
       "      <th>62</th>\n",
       "      <td>quantity_seasonal</td>\n",
       "      <td>float64</td>\n",
       "      <td>2</td>\n",
       "      <td>[0.0, 1.0]</td>\n",
       "      <td>0.000037</td>\n",
       "      <td>100.00</td>\n",
       "      <td>0</td>\n",
       "      <td>0.0</td>\n",
       "      <td>None</td>\n",
       "    </tr>\n",
       "    <tr>\n",
       "      <th>63</th>\n",
       "      <td>quantity_unknown</td>\n",
       "      <td>float64</td>\n",
       "      <td>2</td>\n",
       "      <td>[0.0, 1.0]</td>\n",
       "      <td>0.000037</td>\n",
       "      <td>100.00</td>\n",
       "      <td>0</td>\n",
       "      <td>0.0</td>\n",
       "      <td>None</td>\n",
       "    </tr>\n",
       "    <tr>\n",
       "      <th>64</th>\n",
       "      <td>source_handdtw</td>\n",
       "      <td>float64</td>\n",
       "      <td>2</td>\n",
       "      <td>[0.0, 1.0]</td>\n",
       "      <td>0.000037</td>\n",
       "      <td>100.00</td>\n",
       "      <td>0</td>\n",
       "      <td>0.0</td>\n",
       "      <td>None</td>\n",
       "    </tr>\n",
       "    <tr>\n",
       "      <th>65</th>\n",
       "      <td>source_lake</td>\n",
       "      <td>float64</td>\n",
       "      <td>2</td>\n",
       "      <td>[0.0, 1.0]</td>\n",
       "      <td>0.000037</td>\n",
       "      <td>100.00</td>\n",
       "      <td>0</td>\n",
       "      <td>0.0</td>\n",
       "      <td>None</td>\n",
       "    </tr>\n",
       "    <tr>\n",
       "      <th>66</th>\n",
       "      <td>source_machinedbh</td>\n",
       "      <td>float64</td>\n",
       "      <td>2</td>\n",
       "      <td>[0.0, 1.0]</td>\n",
       "      <td>0.000037</td>\n",
       "      <td>100.00</td>\n",
       "      <td>0</td>\n",
       "      <td>0.0</td>\n",
       "      <td>None</td>\n",
       "    </tr>\n",
       "    <tr>\n",
       "      <th>67</th>\n",
       "      <td>source_other</td>\n",
       "      <td>float64</td>\n",
       "      <td>2</td>\n",
       "      <td>[0.0, 1.0]</td>\n",
       "      <td>0.000037</td>\n",
       "      <td>100.00</td>\n",
       "      <td>0</td>\n",
       "      <td>0.0</td>\n",
       "      <td>None</td>\n",
       "    </tr>\n",
       "    <tr>\n",
       "      <th>68</th>\n",
       "      <td>source_rainwaterharvesting</td>\n",
       "      <td>float64</td>\n",
       "      <td>2</td>\n",
       "      <td>[0.0, 1.0]</td>\n",
       "      <td>0.000037</td>\n",
       "      <td>100.00</td>\n",
       "      <td>0</td>\n",
       "      <td>0.0</td>\n",
       "      <td>None</td>\n",
       "    </tr>\n",
       "    <tr>\n",
       "      <th>69</th>\n",
       "      <td>source_river</td>\n",
       "      <td>float64</td>\n",
       "      <td>2</td>\n",
       "      <td>[0.0, 1.0]</td>\n",
       "      <td>0.000037</td>\n",
       "      <td>100.00</td>\n",
       "      <td>0</td>\n",
       "      <td>0.0</td>\n",
       "      <td>None</td>\n",
       "    </tr>\n",
       "    <tr>\n",
       "      <th>70</th>\n",
       "      <td>source_shallowwell</td>\n",
       "      <td>float64</td>\n",
       "      <td>2</td>\n",
       "      <td>[0.0, 1.0]</td>\n",
       "      <td>0.000037</td>\n",
       "      <td>100.00</td>\n",
       "      <td>0</td>\n",
       "      <td>0.0</td>\n",
       "      <td>None</td>\n",
       "    </tr>\n",
       "    <tr>\n",
       "      <th>71</th>\n",
       "      <td>source_spring</td>\n",
       "      <td>float64</td>\n",
       "      <td>2</td>\n",
       "      <td>[1.0, 0.0]</td>\n",
       "      <td>0.000037</td>\n",
       "      <td>100.00</td>\n",
       "      <td>0</td>\n",
       "      <td>0.0</td>\n",
       "      <td>None</td>\n",
       "    </tr>\n",
       "    <tr>\n",
       "      <th>72</th>\n",
       "      <td>source_unknown</td>\n",
       "      <td>float64</td>\n",
       "      <td>2</td>\n",
       "      <td>[0.0, 1.0]</td>\n",
       "      <td>0.000037</td>\n",
       "      <td>100.00</td>\n",
       "      <td>0</td>\n",
       "      <td>0.0</td>\n",
       "      <td>None</td>\n",
       "    </tr>\n",
       "    <tr>\n",
       "      <th>73</th>\n",
       "      <td>waterpoint_type_target_encoded</td>\n",
       "      <td>float64</td>\n",
       "      <td>7</td>\n",
       "      <td>[0.6776513818849927, 0.7080847823327834, 1.162...</td>\n",
       "      <td>0.000131</td>\n",
       "      <td>99.99</td>\n",
       "      <td>0</td>\n",
       "      <td>0.0</td>\n",
       "      <td>None</td>\n",
       "    </tr>\n",
       "  </tbody>\n",
       "</table>\n",
       "</div>"
      ],
      "text/plain": [
       "<IPython.core.display.HTML object>"
      ]
     },
     "metadata": {},
     "output_type": "display_data"
    }
   ],
   "source": [
    "scjpnutils.analyze_values(data_train_preprocessed, 'data_train AFTER preprocessing');"
   ]
  },
  {
   "cell_type": "code",
   "execution_count": 28,
   "metadata": {},
   "outputs": [],
   "source": [
    "data_train = data_train_preprocessed\n",
    "null_labeled = data_train.isnull().values.any()"
   ]
  },
  {
   "cell_type": "markdown",
   "metadata": {},
   "source": [
    "<p><br>\n",
    "\n",
    "## Apply Preprocessing Transformations (using the `Pipeline`) to Testing Data"
   ]
  },
  {
   "cell_type": "code",
   "execution_count": 29,
   "metadata": {},
   "outputs": [
    {
     "data": {
      "text/html": [
       "<h3>data_test BEFORE preprocessing Feature-Value Analysis (out of 5940 total observations)</h3>"
      ],
      "text/plain": [
       "<IPython.core.display.HTML object>"
      ]
     },
     "metadata": {},
     "output_type": "display_data"
    },
    {
     "data": {
      "text/html": [
       "<div>\n",
       "<style scoped>\n",
       "    .dataframe tbody tr th:only-of-type {\n",
       "        vertical-align: middle;\n",
       "    }\n",
       "\n",
       "    .dataframe tbody tr th {\n",
       "        vertical-align: top;\n",
       "    }\n",
       "\n",
       "    .dataframe thead th {\n",
       "        text-align: right;\n",
       "    }\n",
       "</style>\n",
       "<table border=\"1\" class=\"dataframe\">\n",
       "  <thead>\n",
       "    <tr style=\"text-align: left;\">\n",
       "      <th></th>\n",
       "      <th>feature</th>\n",
       "      <th>dtype</th>\n",
       "      <th>n_unique</th>\n",
       "      <th>unique_vals</th>\n",
       "      <th>n_unique_ratio</th>\n",
       "      <th>p_cat</th>\n",
       "      <th>n_null</th>\n",
       "      <th>n_null_ratio</th>\n",
       "      <th>null_index</th>\n",
       "    </tr>\n",
       "  </thead>\n",
       "  <tbody>\n",
       "    <tr>\n",
       "      <th>0</th>\n",
       "      <td>amount_tsh</td>\n",
       "      <td>float64</td>\n",
       "      <td>56</td>\n",
       "      <td>[0.0, 5000.0, 30.0, 8000.0, 50.0, 500.0, 1500....</td>\n",
       "      <td>0.009428</td>\n",
       "      <td>99.06</td>\n",
       "      <td>0</td>\n",
       "      <td>0.000000</td>\n",
       "      <td>None</td>\n",
       "    </tr>\n",
       "    <tr>\n",
       "      <th>1</th>\n",
       "      <td>date_recorded</td>\n",
       "      <td>object</td>\n",
       "      <td>310</td>\n",
       "      <td>[2013-03-13, 2011-03-15, 2013-02-19, 2013-01-1...</td>\n",
       "      <td>0.052189</td>\n",
       "      <td>94.78</td>\n",
       "      <td>0</td>\n",
       "      <td>0.000000</td>\n",
       "      <td>None</td>\n",
       "    </tr>\n",
       "    <tr>\n",
       "      <th>2</th>\n",
       "      <td>funder</td>\n",
       "      <td>object</td>\n",
       "      <td>622</td>\n",
       "      <td>[Danida, Kalitasi, Wateraid, Gaica, Lga, W.B, ...</td>\n",
       "      <td>0.104714</td>\n",
       "      <td>89.53</td>\n",
       "      <td>366</td>\n",
       "      <td>0.061616</td>\n",
       "      <td>Int64Index([11582, 19363, 56691,  5592, 33874,...</td>\n",
       "    </tr>\n",
       "    <tr>\n",
       "      <th>3</th>\n",
       "      <td>gps_height</td>\n",
       "      <td>int64</td>\n",
       "      <td>1717</td>\n",
       "      <td>[1435, 1271, 1384, 1538, 0, 919, 78, 1266, 324...</td>\n",
       "      <td>0.289057</td>\n",
       "      <td>71.09</td>\n",
       "      <td>0</td>\n",
       "      <td>0.000000</td>\n",
       "      <td>None</td>\n",
       "    </tr>\n",
       "    <tr>\n",
       "      <th>4</th>\n",
       "      <td>installer</td>\n",
       "      <td>object</td>\n",
       "      <td>681</td>\n",
       "      <td>[DANIDA, DANID, Kalitasi, SEMA, GAICA, DWE, Ca...</td>\n",
       "      <td>0.114646</td>\n",
       "      <td>88.54</td>\n",
       "      <td>368</td>\n",
       "      <td>0.061953</td>\n",
       "      <td>Int64Index([11582, 19363, 56691,  5592, 33874,...</td>\n",
       "    </tr>\n",
       "    <tr>\n",
       "      <th>5</th>\n",
       "      <td>longitude</td>\n",
       "      <td>float64</td>\n",
       "      <td>5782</td>\n",
       "      <td>[34.90829229, 35.81058308, 37.99252752, 34.758...</td>\n",
       "      <td>0.973401</td>\n",
       "      <td>2.66</td>\n",
       "      <td>0</td>\n",
       "      <td>0.000000</td>\n",
       "      <td>None</td>\n",
       "    </tr>\n",
       "    <tr>\n",
       "      <th>6</th>\n",
       "      <td>latitude</td>\n",
       "      <td>float64</td>\n",
       "      <td>5782</td>\n",
       "      <td>[-11.16992903, -7.50962812, -4.23701933, -4.30...</td>\n",
       "      <td>0.973401</td>\n",
       "      <td>2.66</td>\n",
       "      <td>0</td>\n",
       "      <td>0.000000</td>\n",
       "      <td>None</td>\n",
       "    </tr>\n",
       "    <tr>\n",
       "      <th>7</th>\n",
       "      <td>wpt_name</td>\n",
       "      <td>object</td>\n",
       "      <td>4588</td>\n",
       "      <td>[Kanisani, none, Kwa Mzee Tadei, Kulumbe, Shul...</td>\n",
       "      <td>0.772391</td>\n",
       "      <td>22.76</td>\n",
       "      <td>0</td>\n",
       "      <td>0.000000</td>\n",
       "      <td>None</td>\n",
       "    </tr>\n",
       "    <tr>\n",
       "      <th>8</th>\n",
       "      <td>num_private</td>\n",
       "      <td>int64</td>\n",
       "      <td>33</td>\n",
       "      <td>[0, 6, 120, 17, 7, 32, 180, 93, 5, 8, 1, 15, 3...</td>\n",
       "      <td>0.005556</td>\n",
       "      <td>99.44</td>\n",
       "      <td>0</td>\n",
       "      <td>0.000000</td>\n",
       "      <td>None</td>\n",
       "    </tr>\n",
       "    <tr>\n",
       "      <th>9</th>\n",
       "      <td>basin</td>\n",
       "      <td>object</td>\n",
       "      <td>9</td>\n",
       "      <td>[Lake Nyasa, Rufiji, Pangani, Internal, Lake R...</td>\n",
       "      <td>0.001515</td>\n",
       "      <td>99.85</td>\n",
       "      <td>0</td>\n",
       "      <td>0.000000</td>\n",
       "      <td>None</td>\n",
       "    </tr>\n",
       "    <tr>\n",
       "      <th>10</th>\n",
       "      <td>subvillage</td>\n",
       "      <td>object</td>\n",
       "      <td>4216</td>\n",
       "      <td>[Toronto, Ubena, Mvango, Kituluguta, Mwamapala...</td>\n",
       "      <td>0.709764</td>\n",
       "      <td>29.02</td>\n",
       "      <td>36</td>\n",
       "      <td>0.006061</td>\n",
       "      <td>Int64Index([18732, 24843, 22039, 71464, 47823,...</td>\n",
       "    </tr>\n",
       "    <tr>\n",
       "      <th>11</th>\n",
       "      <td>region</td>\n",
       "      <td>object</td>\n",
       "      <td>21</td>\n",
       "      <td>[Ruvuma, Iringa, Kilimanjaro, Singida, Shinyan...</td>\n",
       "      <td>0.003535</td>\n",
       "      <td>99.65</td>\n",
       "      <td>0</td>\n",
       "      <td>0.000000</td>\n",
       "      <td>None</td>\n",
       "    </tr>\n",
       "    <tr>\n",
       "      <th>12</th>\n",
       "      <td>region_code</td>\n",
       "      <td>int64</td>\n",
       "      <td>26</td>\n",
       "      <td>[10, 11, 3, 13, 17, 15, 60, 2, 80, 4, 14, 18, ...</td>\n",
       "      <td>0.004377</td>\n",
       "      <td>99.56</td>\n",
       "      <td>0</td>\n",
       "      <td>0.000000</td>\n",
       "      <td>None</td>\n",
       "    </tr>\n",
       "    <tr>\n",
       "      <th>13</th>\n",
       "      <td>district_code</td>\n",
       "      <td>int64</td>\n",
       "      <td>19</td>\n",
       "      <td>[3, 1, 7, 53, 4, 2, 30, 6, 8, 5, 63, 23, 33, 4...</td>\n",
       "      <td>0.003199</td>\n",
       "      <td>99.68</td>\n",
       "      <td>0</td>\n",
       "      <td>0.000000</td>\n",
       "      <td>None</td>\n",
       "    </tr>\n",
       "    <tr>\n",
       "      <th>14</th>\n",
       "      <td>lga</td>\n",
       "      <td>object</td>\n",
       "      <td>125</td>\n",
       "      <td>[Mbinga, Iringa Rural, Same, Iramba, Shinyanga...</td>\n",
       "      <td>0.021044</td>\n",
       "      <td>97.90</td>\n",
       "      <td>0</td>\n",
       "      <td>0.000000</td>\n",
       "      <td>None</td>\n",
       "    </tr>\n",
       "    <tr>\n",
       "      <th>15</th>\n",
       "      <td>ward</td>\n",
       "      <td>object</td>\n",
       "      <td>1632</td>\n",
       "      <td>[Mpapa, Nduli, Vuje, Nduguti, Chibe, Mamba, Bu...</td>\n",
       "      <td>0.274747</td>\n",
       "      <td>72.53</td>\n",
       "      <td>0</td>\n",
       "      <td>0.000000</td>\n",
       "      <td>None</td>\n",
       "    </tr>\n",
       "    <tr>\n",
       "      <th>16</th>\n",
       "      <td>population</td>\n",
       "      <td>int64</td>\n",
       "      <td>388</td>\n",
       "      <td>[60, 1, 15, 189, 0, 200, 454, 168, 260, 270, 7...</td>\n",
       "      <td>0.065320</td>\n",
       "      <td>93.47</td>\n",
       "      <td>0</td>\n",
       "      <td>0.000000</td>\n",
       "      <td>None</td>\n",
       "    </tr>\n",
       "    <tr>\n",
       "      <th>17</th>\n",
       "      <td>public_meeting</td>\n",
       "      <td>object</td>\n",
       "      <td>3</td>\n",
       "      <td>[nan, True, False]</td>\n",
       "      <td>0.000505</td>\n",
       "      <td>99.95</td>\n",
       "      <td>328</td>\n",
       "      <td>0.055219</td>\n",
       "      <td>Int64Index([ 3746, 16680, 70311, 74214, 43963,...</td>\n",
       "    </tr>\n",
       "    <tr>\n",
       "      <th>18</th>\n",
       "      <td>recorded_by</td>\n",
       "      <td>object</td>\n",
       "      <td>1</td>\n",
       "      <td>[GeoData Consultants Ltd]</td>\n",
       "      <td>0.000168</td>\n",
       "      <td>99.98</td>\n",
       "      <td>0</td>\n",
       "      <td>0.000000</td>\n",
       "      <td>None</td>\n",
       "    </tr>\n",
       "    <tr>\n",
       "      <th>19</th>\n",
       "      <td>scheme_management</td>\n",
       "      <td>object</td>\n",
       "      <td>12</td>\n",
       "      <td>[VWC, WUG, Parastatal, WUA, nan, Water authori...</td>\n",
       "      <td>0.002020</td>\n",
       "      <td>99.80</td>\n",
       "      <td>374</td>\n",
       "      <td>0.062963</td>\n",
       "      <td>Int64Index([ 8649, 25311, 70311, 37230, 19565,...</td>\n",
       "    </tr>\n",
       "    <tr>\n",
       "      <th>20</th>\n",
       "      <td>scheme_name</td>\n",
       "      <td>object</td>\n",
       "      <td>1171</td>\n",
       "      <td>[Government, Kihoro, Mvango Water Supply, Mwan...</td>\n",
       "      <td>0.197138</td>\n",
       "      <td>80.29</td>\n",
       "      <td>2803</td>\n",
       "      <td>0.471886</td>\n",
       "      <td>Int64Index([16680, 61612, 10609,  7097,  8649,...</td>\n",
       "    </tr>\n",
       "    <tr>\n",
       "      <th>21</th>\n",
       "      <td>permit</td>\n",
       "      <td>object</td>\n",
       "      <td>3</td>\n",
       "      <td>[True, False, nan]</td>\n",
       "      <td>0.000505</td>\n",
       "      <td>99.95</td>\n",
       "      <td>323</td>\n",
       "      <td>0.054377</td>\n",
       "      <td>Int64Index([26755, 67770,  7973, 36535, 52273,...</td>\n",
       "    </tr>\n",
       "    <tr>\n",
       "      <th>22</th>\n",
       "      <td>construction_year</td>\n",
       "      <td>int64</td>\n",
       "      <td>54</td>\n",
       "      <td>[1995, 1990, 2002, 2006, 0, 2009, 2005, 2011, ...</td>\n",
       "      <td>0.009091</td>\n",
       "      <td>99.09</td>\n",
       "      <td>0</td>\n",
       "      <td>0.000000</td>\n",
       "      <td>None</td>\n",
       "    </tr>\n",
       "    <tr>\n",
       "      <th>23</th>\n",
       "      <td>extraction_type</td>\n",
       "      <td>object</td>\n",
       "      <td>17</td>\n",
       "      <td>[gravity, mono, submersible, ksb, other, nira/...</td>\n",
       "      <td>0.002862</td>\n",
       "      <td>99.71</td>\n",
       "      <td>0</td>\n",
       "      <td>0.000000</td>\n",
       "      <td>None</td>\n",
       "    </tr>\n",
       "    <tr>\n",
       "      <th>24</th>\n",
       "      <td>extraction_type_group</td>\n",
       "      <td>object</td>\n",
       "      <td>13</td>\n",
       "      <td>[gravity, mono, submersible, other, nira/tanir...</td>\n",
       "      <td>0.002189</td>\n",
       "      <td>99.78</td>\n",
       "      <td>0</td>\n",
       "      <td>0.000000</td>\n",
       "      <td>None</td>\n",
       "    </tr>\n",
       "    <tr>\n",
       "      <th>25</th>\n",
       "      <td>extraction_type_class</td>\n",
       "      <td>object</td>\n",
       "      <td>7</td>\n",
       "      <td>[gravity, motorpump, submersible, other, handp...</td>\n",
       "      <td>0.001178</td>\n",
       "      <td>99.88</td>\n",
       "      <td>0</td>\n",
       "      <td>0.000000</td>\n",
       "      <td>None</td>\n",
       "    </tr>\n",
       "    <tr>\n",
       "      <th>26</th>\n",
       "      <td>management</td>\n",
       "      <td>object</td>\n",
       "      <td>12</td>\n",
       "      <td>[vwc, wug, parastatal, wua, other, unknown, co...</td>\n",
       "      <td>0.002020</td>\n",
       "      <td>99.80</td>\n",
       "      <td>0</td>\n",
       "      <td>0.000000</td>\n",
       "      <td>None</td>\n",
       "    </tr>\n",
       "    <tr>\n",
       "      <th>27</th>\n",
       "      <td>management_group</td>\n",
       "      <td>object</td>\n",
       "      <td>5</td>\n",
       "      <td>[user-group, parastatal, other, unknown, comme...</td>\n",
       "      <td>0.000842</td>\n",
       "      <td>99.92</td>\n",
       "      <td>0</td>\n",
       "      <td>0.000000</td>\n",
       "      <td>None</td>\n",
       "    </tr>\n",
       "    <tr>\n",
       "      <th>28</th>\n",
       "      <td>payment</td>\n",
       "      <td>object</td>\n",
       "      <td>7</td>\n",
       "      <td>[unknown, pay annually, never pay, pay per buc...</td>\n",
       "      <td>0.001178</td>\n",
       "      <td>99.88</td>\n",
       "      <td>0</td>\n",
       "      <td>0.000000</td>\n",
       "      <td>None</td>\n",
       "    </tr>\n",
       "    <tr>\n",
       "      <th>29</th>\n",
       "      <td>payment_type</td>\n",
       "      <td>object</td>\n",
       "      <td>7</td>\n",
       "      <td>[unknown, annually, never pay, per bucket, mon...</td>\n",
       "      <td>0.001178</td>\n",
       "      <td>99.88</td>\n",
       "      <td>0</td>\n",
       "      <td>0.000000</td>\n",
       "      <td>None</td>\n",
       "    </tr>\n",
       "    <tr>\n",
       "      <th>30</th>\n",
       "      <td>water_quality</td>\n",
       "      <td>object</td>\n",
       "      <td>8</td>\n",
       "      <td>[soft, unknown, salty, milky, coloured, salty ...</td>\n",
       "      <td>0.001347</td>\n",
       "      <td>99.87</td>\n",
       "      <td>0</td>\n",
       "      <td>0.000000</td>\n",
       "      <td>None</td>\n",
       "    </tr>\n",
       "    <tr>\n",
       "      <th>31</th>\n",
       "      <td>quality_group</td>\n",
       "      <td>object</td>\n",
       "      <td>6</td>\n",
       "      <td>[good, unknown, salty, milky, colored, fluoride]</td>\n",
       "      <td>0.001010</td>\n",
       "      <td>99.90</td>\n",
       "      <td>0</td>\n",
       "      <td>0.000000</td>\n",
       "      <td>None</td>\n",
       "    </tr>\n",
       "    <tr>\n",
       "      <th>32</th>\n",
       "      <td>quantity</td>\n",
       "      <td>object</td>\n",
       "      <td>5</td>\n",
       "      <td>[dry, enough, insufficient, seasonal, unknown]</td>\n",
       "      <td>0.000842</td>\n",
       "      <td>99.92</td>\n",
       "      <td>0</td>\n",
       "      <td>0.000000</td>\n",
       "      <td>None</td>\n",
       "    </tr>\n",
       "    <tr>\n",
       "      <th>33</th>\n",
       "      <td>quantity_group</td>\n",
       "      <td>object</td>\n",
       "      <td>5</td>\n",
       "      <td>[dry, enough, insufficient, seasonal, unknown]</td>\n",
       "      <td>0.000842</td>\n",
       "      <td>99.92</td>\n",
       "      <td>0</td>\n",
       "      <td>0.000000</td>\n",
       "      <td>None</td>\n",
       "    </tr>\n",
       "    <tr>\n",
       "      <th>34</th>\n",
       "      <td>source</td>\n",
       "      <td>object</td>\n",
       "      <td>10</td>\n",
       "      <td>[spring, machine dbh, rainwater harvesting, sh...</td>\n",
       "      <td>0.001684</td>\n",
       "      <td>99.83</td>\n",
       "      <td>0</td>\n",
       "      <td>0.000000</td>\n",
       "      <td>None</td>\n",
       "    </tr>\n",
       "    <tr>\n",
       "      <th>35</th>\n",
       "      <td>source_type</td>\n",
       "      <td>object</td>\n",
       "      <td>7</td>\n",
       "      <td>[spring, borehole, rainwater harvesting, shall...</td>\n",
       "      <td>0.001178</td>\n",
       "      <td>99.88</td>\n",
       "      <td>0</td>\n",
       "      <td>0.000000</td>\n",
       "      <td>None</td>\n",
       "    </tr>\n",
       "    <tr>\n",
       "      <th>36</th>\n",
       "      <td>source_class</td>\n",
       "      <td>object</td>\n",
       "      <td>3</td>\n",
       "      <td>[groundwater, surface, unknown]</td>\n",
       "      <td>0.000505</td>\n",
       "      <td>99.95</td>\n",
       "      <td>0</td>\n",
       "      <td>0.000000</td>\n",
       "      <td>None</td>\n",
       "    </tr>\n",
       "    <tr>\n",
       "      <th>37</th>\n",
       "      <td>waterpoint_type</td>\n",
       "      <td>object</td>\n",
       "      <td>6</td>\n",
       "      <td>[communal standpipe, communal standpipe multip...</td>\n",
       "      <td>0.001010</td>\n",
       "      <td>99.90</td>\n",
       "      <td>0</td>\n",
       "      <td>0.000000</td>\n",
       "      <td>None</td>\n",
       "    </tr>\n",
       "    <tr>\n",
       "      <th>38</th>\n",
       "      <td>waterpoint_type_group</td>\n",
       "      <td>object</td>\n",
       "      <td>5</td>\n",
       "      <td>[communal standpipe, other, hand pump, cattle ...</td>\n",
       "      <td>0.000842</td>\n",
       "      <td>99.92</td>\n",
       "      <td>0</td>\n",
       "      <td>0.000000</td>\n",
       "      <td>None</td>\n",
       "    </tr>\n",
       "  </tbody>\n",
       "</table>\n",
       "</div>"
      ],
      "text/plain": [
       "<IPython.core.display.HTML object>"
      ]
     },
     "metadata": {},
     "output_type": "display_data"
    }
   ],
   "source": [
    "scjpnutils.analyze_values(data_test, 'data_test BEFORE preprocessing');"
   ]
  },
  {
   "cell_type": "code",
   "execution_count": 30,
   "metadata": {
    "tags": []
   },
   "outputs": [
    {
     "name": "stdout",
     "output_type": "stream",
     "text": [
      "** TargetEncoderLOOTransformer TRANSFORM INFO **: NOT using Leave-One-Out\n",
      "** TargetEncoderLOOTransformer TRANSFORM INFO **: unique categories of 'region_code' in X match those that were previously fit\n",
      "added new feature: region_code_target_encoded\n"
     ]
    },
    {
     "data": {
      "text/html": [
       "<p><br>mapping DIRTY <i>ward</i> documents to <code>TF-IDF</code> vectors..."
      ],
      "text/plain": [
       "<IPython.core.display.HTML object>"
      ]
     },
     "metadata": {},
     "output_type": "display_data"
    },
    {
     "name": "stdout",
     "output_type": "stream",
     "text": [
      "** TargetEncoderLOOTransformer TRANSFORM INFO **: NOT using Leave-One-Out\n",
      "** TargetEncoderLOOTransformer TRANSFORM WARNING!! **: 1 categories of 'ward' occur in X (out of 1626 unique) that do not exist in the set of fit categories - modeled accuracy on X will drop as a result\n",
      "** TargetEncoderLOOTransformer TRANSFORM WARNING!! **: feat 'ward' has 7 nan values after target encoding; replacing these with last fit target global mean: 0.8427422371866816\n",
      "added new feature: ward_target_encoded\n",
      "** TargetEncoderLOOTransformer TRANSFORM INFO **: NOT using Leave-One-Out\n",
      "** TargetEncoderLOOTransformer TRANSFORM WARNING!! **: 1 categories of 'lga' occur in X (out of 125 unique) that do not exist in the set of fit categories - modeled accuracy on X will drop as a result\n",
      "** TargetEncoderLOOTransformer TRANSFORM WARNING!! **: feat 'lga' has 1 nan values after target encoding; replacing these with last fit target global mean: 0.8427422371866816\n",
      "added new feature: lga_target_encoded\n",
      "** TargetEncoderLOOTransformer TRANSFORM INFO **: NOT using Leave-One-Out\n",
      "** TargetEncoderLOOTransformer TRANSFORM INFO **: unique categories of 'management' in X match those that were previously fit\n",
      "added new feature: management_target_encoded\n",
      "** TargetEncoderLOOTransformer TRANSFORM INFO **: NOT using Leave-One-Out\n",
      "** TargetEncoderLOOTransformer TRANSFORM INFO **: unique categories of 'waterpoint_type' in X match those that were previously fit\n",
      "added new feature: waterpoint_type_target_encoded\n"
     ]
    }
   ],
   "source": [
    "data_test_preprocessed = pipeline_data_preprocessor.transform(data_test)"
   ]
  },
  {
   "cell_type": "code",
   "execution_count": 31,
   "metadata": {},
   "outputs": [
    {
     "data": {
      "text/html": [
       "<h3>data_test AFTER preprocessing Feature-Value Analysis (out of 5940 total observations)</h3>"
      ],
      "text/plain": [
       "<IPython.core.display.HTML object>"
      ]
     },
     "metadata": {},
     "output_type": "display_data"
    },
    {
     "data": {
      "text/html": [
       "<div>\n",
       "<style scoped>\n",
       "    .dataframe tbody tr th:only-of-type {\n",
       "        vertical-align: middle;\n",
       "    }\n",
       "\n",
       "    .dataframe tbody tr th {\n",
       "        vertical-align: top;\n",
       "    }\n",
       "\n",
       "    .dataframe thead th {\n",
       "        text-align: right;\n",
       "    }\n",
       "</style>\n",
       "<table border=\"1\" class=\"dataframe\">\n",
       "  <thead>\n",
       "    <tr style=\"text-align: left;\">\n",
       "      <th></th>\n",
       "      <th>feature</th>\n",
       "      <th>dtype</th>\n",
       "      <th>n_unique</th>\n",
       "      <th>unique_vals</th>\n",
       "      <th>n_unique_ratio</th>\n",
       "      <th>p_cat</th>\n",
       "      <th>n_null</th>\n",
       "      <th>n_null_ratio</th>\n",
       "      <th>null_index</th>\n",
       "    </tr>\n",
       "  </thead>\n",
       "  <tbody>\n",
       "    <tr>\n",
       "      <th>0</th>\n",
       "      <td>amount_tsh</td>\n",
       "      <td>float64</td>\n",
       "      <td>17</td>\n",
       "      <td>[0.0, 316.0523728020951, 30.0, 50.0, 20.0, 10....</td>\n",
       "      <td>0.002862</td>\n",
       "      <td>99.71</td>\n",
       "      <td>0</td>\n",
       "      <td>0.0</td>\n",
       "      <td>None</td>\n",
       "    </tr>\n",
       "    <tr>\n",
       "      <th>1</th>\n",
       "      <td>gps_height</td>\n",
       "      <td>int64</td>\n",
       "      <td>1717</td>\n",
       "      <td>[1435, 1271, 1384, 1538, 0, 919, 78, 1266, 324...</td>\n",
       "      <td>0.289057</td>\n",
       "      <td>71.09</td>\n",
       "      <td>0</td>\n",
       "      <td>0.0</td>\n",
       "      <td>None</td>\n",
       "    </tr>\n",
       "    <tr>\n",
       "      <th>2</th>\n",
       "      <td>longitude</td>\n",
       "      <td>float64</td>\n",
       "      <td>5782</td>\n",
       "      <td>[34.90829229, 35.81058308, 37.99252752, 34.758...</td>\n",
       "      <td>0.973401</td>\n",
       "      <td>2.66</td>\n",
       "      <td>0</td>\n",
       "      <td>0.0</td>\n",
       "      <td>None</td>\n",
       "    </tr>\n",
       "    <tr>\n",
       "      <th>3</th>\n",
       "      <td>latitude</td>\n",
       "      <td>float64</td>\n",
       "      <td>5782</td>\n",
       "      <td>[-11.16992903, -7.50962812, -4.23701933, -4.30...</td>\n",
       "      <td>0.973401</td>\n",
       "      <td>2.66</td>\n",
       "      <td>0</td>\n",
       "      <td>0.0</td>\n",
       "      <td>None</td>\n",
       "    </tr>\n",
       "    <tr>\n",
       "      <th>4</th>\n",
       "      <td>num_private</td>\n",
       "      <td>int64</td>\n",
       "      <td>33</td>\n",
       "      <td>[0, 6, 120, 17, 7, 32, 180, 93, 5, 8, 1, 15, 3...</td>\n",
       "      <td>0.005556</td>\n",
       "      <td>99.44</td>\n",
       "      <td>0</td>\n",
       "      <td>0.0</td>\n",
       "      <td>None</td>\n",
       "    </tr>\n",
       "    <tr>\n",
       "      <th>5</th>\n",
       "      <td>population</td>\n",
       "      <td>float64</td>\n",
       "      <td>289</td>\n",
       "      <td>[60.0, 1.0, 15.0, 189.0, 0.0, 200.0, 454.0, 16...</td>\n",
       "      <td>0.048653</td>\n",
       "      <td>95.13</td>\n",
       "      <td>0</td>\n",
       "      <td>0.0</td>\n",
       "      <td>None</td>\n",
       "    </tr>\n",
       "    <tr>\n",
       "      <th>6</th>\n",
       "      <td>construction_year</td>\n",
       "      <td>int64</td>\n",
       "      <td>54</td>\n",
       "      <td>[1995, 1990, 2002, 2006, 0, 2009, 2005, 2011, ...</td>\n",
       "      <td>0.009091</td>\n",
       "      <td>99.09</td>\n",
       "      <td>0</td>\n",
       "      <td>0.0</td>\n",
       "      <td>None</td>\n",
       "    </tr>\n",
       "    <tr>\n",
       "      <th>7</th>\n",
       "      <td>region_code_target_encoded</td>\n",
       "      <td>float64</td>\n",
       "      <td>26</td>\n",
       "      <td>[0.8034439311213776, 0.4130343671416597, 0.723...</td>\n",
       "      <td>0.004377</td>\n",
       "      <td>99.56</td>\n",
       "      <td>0</td>\n",
       "      <td>0.0</td>\n",
       "      <td>None</td>\n",
       "    </tr>\n",
       "    <tr>\n",
       "      <th>8</th>\n",
       "      <td>district_code_1</td>\n",
       "      <td>float64</td>\n",
       "      <td>2</td>\n",
       "      <td>[0.0, 1.0]</td>\n",
       "      <td>0.000337</td>\n",
       "      <td>99.97</td>\n",
       "      <td>0</td>\n",
       "      <td>0.0</td>\n",
       "      <td>None</td>\n",
       "    </tr>\n",
       "    <tr>\n",
       "      <th>9</th>\n",
       "      <td>district_code_2</td>\n",
       "      <td>float64</td>\n",
       "      <td>2</td>\n",
       "      <td>[0.0, 1.0]</td>\n",
       "      <td>0.000337</td>\n",
       "      <td>99.97</td>\n",
       "      <td>0</td>\n",
       "      <td>0.0</td>\n",
       "      <td>None</td>\n",
       "    </tr>\n",
       "    <tr>\n",
       "      <th>10</th>\n",
       "      <td>district_code_3</td>\n",
       "      <td>float64</td>\n",
       "      <td>2</td>\n",
       "      <td>[1.0, 0.0]</td>\n",
       "      <td>0.000337</td>\n",
       "      <td>99.97</td>\n",
       "      <td>0</td>\n",
       "      <td>0.0</td>\n",
       "      <td>None</td>\n",
       "    </tr>\n",
       "    <tr>\n",
       "      <th>11</th>\n",
       "      <td>district_code_4</td>\n",
       "      <td>float64</td>\n",
       "      <td>2</td>\n",
       "      <td>[0.0, 1.0]</td>\n",
       "      <td>0.000337</td>\n",
       "      <td>99.97</td>\n",
       "      <td>0</td>\n",
       "      <td>0.0</td>\n",
       "      <td>None</td>\n",
       "    </tr>\n",
       "    <tr>\n",
       "      <th>12</th>\n",
       "      <td>district_code_5</td>\n",
       "      <td>float64</td>\n",
       "      <td>2</td>\n",
       "      <td>[0.0, 1.0]</td>\n",
       "      <td>0.000337</td>\n",
       "      <td>99.97</td>\n",
       "      <td>0</td>\n",
       "      <td>0.0</td>\n",
       "      <td>None</td>\n",
       "    </tr>\n",
       "    <tr>\n",
       "      <th>13</th>\n",
       "      <td>district_code_6</td>\n",
       "      <td>float64</td>\n",
       "      <td>2</td>\n",
       "      <td>[0.0, 1.0]</td>\n",
       "      <td>0.000337</td>\n",
       "      <td>99.97</td>\n",
       "      <td>0</td>\n",
       "      <td>0.0</td>\n",
       "      <td>None</td>\n",
       "    </tr>\n",
       "    <tr>\n",
       "      <th>14</th>\n",
       "      <td>district_code_7</td>\n",
       "      <td>float64</td>\n",
       "      <td>2</td>\n",
       "      <td>[0.0, 1.0]</td>\n",
       "      <td>0.000337</td>\n",
       "      <td>99.97</td>\n",
       "      <td>0</td>\n",
       "      <td>0.0</td>\n",
       "      <td>None</td>\n",
       "    </tr>\n",
       "    <tr>\n",
       "      <th>15</th>\n",
       "      <td>district_code_8</td>\n",
       "      <td>float64</td>\n",
       "      <td>2</td>\n",
       "      <td>[0.0, 1.0]</td>\n",
       "      <td>0.000337</td>\n",
       "      <td>99.97</td>\n",
       "      <td>0</td>\n",
       "      <td>0.0</td>\n",
       "      <td>None</td>\n",
       "    </tr>\n",
       "    <tr>\n",
       "      <th>16</th>\n",
       "      <td>district_code_13</td>\n",
       "      <td>float64</td>\n",
       "      <td>2</td>\n",
       "      <td>[0.0, 1.0]</td>\n",
       "      <td>0.000337</td>\n",
       "      <td>99.97</td>\n",
       "      <td>0</td>\n",
       "      <td>0.0</td>\n",
       "      <td>None</td>\n",
       "    </tr>\n",
       "    <tr>\n",
       "      <th>17</th>\n",
       "      <td>district_code_23</td>\n",
       "      <td>float64</td>\n",
       "      <td>2</td>\n",
       "      <td>[0.0, 1.0]</td>\n",
       "      <td>0.000337</td>\n",
       "      <td>99.97</td>\n",
       "      <td>0</td>\n",
       "      <td>0.0</td>\n",
       "      <td>None</td>\n",
       "    </tr>\n",
       "    <tr>\n",
       "      <th>18</th>\n",
       "      <td>district_code_30</td>\n",
       "      <td>float64</td>\n",
       "      <td>2</td>\n",
       "      <td>[0.0, 1.0]</td>\n",
       "      <td>0.000337</td>\n",
       "      <td>99.97</td>\n",
       "      <td>0</td>\n",
       "      <td>0.0</td>\n",
       "      <td>None</td>\n",
       "    </tr>\n",
       "    <tr>\n",
       "      <th>19</th>\n",
       "      <td>district_code_33</td>\n",
       "      <td>float64</td>\n",
       "      <td>2</td>\n",
       "      <td>[0.0, 1.0]</td>\n",
       "      <td>0.000337</td>\n",
       "      <td>99.97</td>\n",
       "      <td>0</td>\n",
       "      <td>0.0</td>\n",
       "      <td>None</td>\n",
       "    </tr>\n",
       "    <tr>\n",
       "      <th>20</th>\n",
       "      <td>district_code_43</td>\n",
       "      <td>float64</td>\n",
       "      <td>2</td>\n",
       "      <td>[0.0, 1.0]</td>\n",
       "      <td>0.000337</td>\n",
       "      <td>99.97</td>\n",
       "      <td>0</td>\n",
       "      <td>0.0</td>\n",
       "      <td>None</td>\n",
       "    </tr>\n",
       "    <tr>\n",
       "      <th>21</th>\n",
       "      <td>district_code_53</td>\n",
       "      <td>float64</td>\n",
       "      <td>2</td>\n",
       "      <td>[0.0, 1.0]</td>\n",
       "      <td>0.000337</td>\n",
       "      <td>99.97</td>\n",
       "      <td>0</td>\n",
       "      <td>0.0</td>\n",
       "      <td>None</td>\n",
       "    </tr>\n",
       "    <tr>\n",
       "      <th>22</th>\n",
       "      <td>district_code_60</td>\n",
       "      <td>float64</td>\n",
       "      <td>2</td>\n",
       "      <td>[0.0, 1.0]</td>\n",
       "      <td>0.000337</td>\n",
       "      <td>99.97</td>\n",
       "      <td>0</td>\n",
       "      <td>0.0</td>\n",
       "      <td>None</td>\n",
       "    </tr>\n",
       "    <tr>\n",
       "      <th>23</th>\n",
       "      <td>district_code_62</td>\n",
       "      <td>float64</td>\n",
       "      <td>2</td>\n",
       "      <td>[0.0, 1.0]</td>\n",
       "      <td>0.000337</td>\n",
       "      <td>99.97</td>\n",
       "      <td>0</td>\n",
       "      <td>0.0</td>\n",
       "      <td>None</td>\n",
       "    </tr>\n",
       "    <tr>\n",
       "      <th>24</th>\n",
       "      <td>district_code_63</td>\n",
       "      <td>float64</td>\n",
       "      <td>2</td>\n",
       "      <td>[0.0, 1.0]</td>\n",
       "      <td>0.000337</td>\n",
       "      <td>99.97</td>\n",
       "      <td>0</td>\n",
       "      <td>0.0</td>\n",
       "      <td>None</td>\n",
       "    </tr>\n",
       "    <tr>\n",
       "      <th>25</th>\n",
       "      <td>district_code_67</td>\n",
       "      <td>float64</td>\n",
       "      <td>1</td>\n",
       "      <td>[0.0]</td>\n",
       "      <td>0.000168</td>\n",
       "      <td>99.98</td>\n",
       "      <td>0</td>\n",
       "      <td>0.0</td>\n",
       "      <td>None</td>\n",
       "    </tr>\n",
       "    <tr>\n",
       "      <th>26</th>\n",
       "      <td>district_code_80</td>\n",
       "      <td>float64</td>\n",
       "      <td>2</td>\n",
       "      <td>[0.0, 1.0]</td>\n",
       "      <td>0.000337</td>\n",
       "      <td>99.97</td>\n",
       "      <td>0</td>\n",
       "      <td>0.0</td>\n",
       "      <td>None</td>\n",
       "    </tr>\n",
       "    <tr>\n",
       "      <th>27</th>\n",
       "      <td>ward_target_encoded</td>\n",
       "      <td>float64</td>\n",
       "      <td>688</td>\n",
       "      <td>[0.8571428571428571, 0.2727272727272727, 0.545...</td>\n",
       "      <td>0.115825</td>\n",
       "      <td>88.42</td>\n",
       "      <td>0</td>\n",
       "      <td>0.0</td>\n",
       "      <td>None</td>\n",
       "    </tr>\n",
       "    <tr>\n",
       "      <th>28</th>\n",
       "      <td>lga_target_encoded</td>\n",
       "      <td>float64</td>\n",
       "      <td>125</td>\n",
       "      <td>[0.8571428571428571, 0.48338368580060426, 0.81...</td>\n",
       "      <td>0.021044</td>\n",
       "      <td>97.90</td>\n",
       "      <td>0</td>\n",
       "      <td>0.0</td>\n",
       "      <td>None</td>\n",
       "    </tr>\n",
       "    <tr>\n",
       "      <th>29</th>\n",
       "      <td>extraction_type_cemo</td>\n",
       "      <td>float64</td>\n",
       "      <td>2</td>\n",
       "      <td>[0.0, 1.0]</td>\n",
       "      <td>0.000337</td>\n",
       "      <td>99.97</td>\n",
       "      <td>0</td>\n",
       "      <td>0.0</td>\n",
       "      <td>None</td>\n",
       "    </tr>\n",
       "    <tr>\n",
       "      <th>30</th>\n",
       "      <td>extraction_type_climax</td>\n",
       "      <td>float64</td>\n",
       "      <td>2</td>\n",
       "      <td>[0.0, 1.0]</td>\n",
       "      <td>0.000337</td>\n",
       "      <td>99.97</td>\n",
       "      <td>0</td>\n",
       "      <td>0.0</td>\n",
       "      <td>None</td>\n",
       "    </tr>\n",
       "    <tr>\n",
       "      <th>31</th>\n",
       "      <td>extraction_type_gravity</td>\n",
       "      <td>float64</td>\n",
       "      <td>2</td>\n",
       "      <td>[1.0, 0.0]</td>\n",
       "      <td>0.000337</td>\n",
       "      <td>99.97</td>\n",
       "      <td>0</td>\n",
       "      <td>0.0</td>\n",
       "      <td>None</td>\n",
       "    </tr>\n",
       "    <tr>\n",
       "      <th>32</th>\n",
       "      <td>extraction_type_indiamarkii</td>\n",
       "      <td>float64</td>\n",
       "      <td>2</td>\n",
       "      <td>[0.0, 1.0]</td>\n",
       "      <td>0.000337</td>\n",
       "      <td>99.97</td>\n",
       "      <td>0</td>\n",
       "      <td>0.0</td>\n",
       "      <td>None</td>\n",
       "    </tr>\n",
       "    <tr>\n",
       "      <th>33</th>\n",
       "      <td>extraction_type_indiamarkiii</td>\n",
       "      <td>float64</td>\n",
       "      <td>2</td>\n",
       "      <td>[0.0, 1.0]</td>\n",
       "      <td>0.000337</td>\n",
       "      <td>99.97</td>\n",
       "      <td>0</td>\n",
       "      <td>0.0</td>\n",
       "      <td>None</td>\n",
       "    </tr>\n",
       "    <tr>\n",
       "      <th>34</th>\n",
       "      <td>extraction_type_ksb</td>\n",
       "      <td>float64</td>\n",
       "      <td>2</td>\n",
       "      <td>[0.0, 1.0]</td>\n",
       "      <td>0.000337</td>\n",
       "      <td>99.97</td>\n",
       "      <td>0</td>\n",
       "      <td>0.0</td>\n",
       "      <td>None</td>\n",
       "    </tr>\n",
       "    <tr>\n",
       "      <th>35</th>\n",
       "      <td>extraction_type_mono</td>\n",
       "      <td>float64</td>\n",
       "      <td>2</td>\n",
       "      <td>[0.0, 1.0]</td>\n",
       "      <td>0.000337</td>\n",
       "      <td>99.97</td>\n",
       "      <td>0</td>\n",
       "      <td>0.0</td>\n",
       "      <td>None</td>\n",
       "    </tr>\n",
       "    <tr>\n",
       "      <th>36</th>\n",
       "      <td>extraction_type_niratanira</td>\n",
       "      <td>float64</td>\n",
       "      <td>2</td>\n",
       "      <td>[0.0, 1.0]</td>\n",
       "      <td>0.000337</td>\n",
       "      <td>99.97</td>\n",
       "      <td>0</td>\n",
       "      <td>0.0</td>\n",
       "      <td>None</td>\n",
       "    </tr>\n",
       "    <tr>\n",
       "      <th>37</th>\n",
       "      <td>extraction_type_other</td>\n",
       "      <td>float64</td>\n",
       "      <td>2</td>\n",
       "      <td>[0.0, 1.0]</td>\n",
       "      <td>0.000337</td>\n",
       "      <td>99.97</td>\n",
       "      <td>0</td>\n",
       "      <td>0.0</td>\n",
       "      <td>None</td>\n",
       "    </tr>\n",
       "    <tr>\n",
       "      <th>38</th>\n",
       "      <td>extraction_type_othermkulimashinyanga</td>\n",
       "      <td>float64</td>\n",
       "      <td>1</td>\n",
       "      <td>[0.0]</td>\n",
       "      <td>0.000168</td>\n",
       "      <td>99.98</td>\n",
       "      <td>0</td>\n",
       "      <td>0.0</td>\n",
       "      <td>None</td>\n",
       "    </tr>\n",
       "    <tr>\n",
       "      <th>39</th>\n",
       "      <td>extraction_type_otherplaypump</td>\n",
       "      <td>float64</td>\n",
       "      <td>2</td>\n",
       "      <td>[0.0, 1.0]</td>\n",
       "      <td>0.000337</td>\n",
       "      <td>99.97</td>\n",
       "      <td>0</td>\n",
       "      <td>0.0</td>\n",
       "      <td>None</td>\n",
       "    </tr>\n",
       "    <tr>\n",
       "      <th>40</th>\n",
       "      <td>extraction_type_otherropepump</td>\n",
       "      <td>float64</td>\n",
       "      <td>2</td>\n",
       "      <td>[0.0, 1.0]</td>\n",
       "      <td>0.000337</td>\n",
       "      <td>99.97</td>\n",
       "      <td>0</td>\n",
       "      <td>0.0</td>\n",
       "      <td>None</td>\n",
       "    </tr>\n",
       "    <tr>\n",
       "      <th>41</th>\n",
       "      <td>extraction_type_otherswn81</td>\n",
       "      <td>float64</td>\n",
       "      <td>2</td>\n",
       "      <td>[0.0, 1.0]</td>\n",
       "      <td>0.000337</td>\n",
       "      <td>99.97</td>\n",
       "      <td>0</td>\n",
       "      <td>0.0</td>\n",
       "      <td>None</td>\n",
       "    </tr>\n",
       "    <tr>\n",
       "      <th>42</th>\n",
       "      <td>extraction_type_submersible</td>\n",
       "      <td>float64</td>\n",
       "      <td>2</td>\n",
       "      <td>[0.0, 1.0]</td>\n",
       "      <td>0.000337</td>\n",
       "      <td>99.97</td>\n",
       "      <td>0</td>\n",
       "      <td>0.0</td>\n",
       "      <td>None</td>\n",
       "    </tr>\n",
       "    <tr>\n",
       "      <th>43</th>\n",
       "      <td>extraction_type_swn80</td>\n",
       "      <td>float64</td>\n",
       "      <td>2</td>\n",
       "      <td>[0.0, 1.0]</td>\n",
       "      <td>0.000337</td>\n",
       "      <td>99.97</td>\n",
       "      <td>0</td>\n",
       "      <td>0.0</td>\n",
       "      <td>None</td>\n",
       "    </tr>\n",
       "    <tr>\n",
       "      <th>44</th>\n",
       "      <td>extraction_type_walimi</td>\n",
       "      <td>float64</td>\n",
       "      <td>2</td>\n",
       "      <td>[0.0, 1.0]</td>\n",
       "      <td>0.000337</td>\n",
       "      <td>99.97</td>\n",
       "      <td>0</td>\n",
       "      <td>0.0</td>\n",
       "      <td>None</td>\n",
       "    </tr>\n",
       "    <tr>\n",
       "      <th>45</th>\n",
       "      <td>extraction_type_windmill</td>\n",
       "      <td>float64</td>\n",
       "      <td>2</td>\n",
       "      <td>[0.0, 1.0]</td>\n",
       "      <td>0.000337</td>\n",
       "      <td>99.97</td>\n",
       "      <td>0</td>\n",
       "      <td>0.0</td>\n",
       "      <td>None</td>\n",
       "    </tr>\n",
       "    <tr>\n",
       "      <th>46</th>\n",
       "      <td>management_target_encoded</td>\n",
       "      <td>float64</td>\n",
       "      <td>12</td>\n",
       "      <td>[0.9240048250904704, 0.7044872888585566, 0.728...</td>\n",
       "      <td>0.002020</td>\n",
       "      <td>99.80</td>\n",
       "      <td>0</td>\n",
       "      <td>0.0</td>\n",
       "      <td>None</td>\n",
       "    </tr>\n",
       "    <tr>\n",
       "      <th>47</th>\n",
       "      <td>payment_type_monthly</td>\n",
       "      <td>float64</td>\n",
       "      <td>2</td>\n",
       "      <td>[0.0, 1.0]</td>\n",
       "      <td>0.000337</td>\n",
       "      <td>99.97</td>\n",
       "      <td>0</td>\n",
       "      <td>0.0</td>\n",
       "      <td>None</td>\n",
       "    </tr>\n",
       "    <tr>\n",
       "      <th>48</th>\n",
       "      <td>payment_type_neverpay</td>\n",
       "      <td>float64</td>\n",
       "      <td>2</td>\n",
       "      <td>[0.0, 1.0]</td>\n",
       "      <td>0.000337</td>\n",
       "      <td>99.97</td>\n",
       "      <td>0</td>\n",
       "      <td>0.0</td>\n",
       "      <td>None</td>\n",
       "    </tr>\n",
       "    <tr>\n",
       "      <th>49</th>\n",
       "      <td>payment_type_onfailure</td>\n",
       "      <td>float64</td>\n",
       "      <td>2</td>\n",
       "      <td>[0.0, 1.0]</td>\n",
       "      <td>0.000337</td>\n",
       "      <td>99.97</td>\n",
       "      <td>0</td>\n",
       "      <td>0.0</td>\n",
       "      <td>None</td>\n",
       "    </tr>\n",
       "    <tr>\n",
       "      <th>50</th>\n",
       "      <td>payment_type_other</td>\n",
       "      <td>float64</td>\n",
       "      <td>2</td>\n",
       "      <td>[0.0, 1.0]</td>\n",
       "      <td>0.000337</td>\n",
       "      <td>99.97</td>\n",
       "      <td>0</td>\n",
       "      <td>0.0</td>\n",
       "      <td>None</td>\n",
       "    </tr>\n",
       "    <tr>\n",
       "      <th>51</th>\n",
       "      <td>payment_type_perbucket</td>\n",
       "      <td>float64</td>\n",
       "      <td>2</td>\n",
       "      <td>[0.0, 1.0]</td>\n",
       "      <td>0.000337</td>\n",
       "      <td>99.97</td>\n",
       "      <td>0</td>\n",
       "      <td>0.0</td>\n",
       "      <td>None</td>\n",
       "    </tr>\n",
       "    <tr>\n",
       "      <th>52</th>\n",
       "      <td>payment_type_unknown</td>\n",
       "      <td>float64</td>\n",
       "      <td>2</td>\n",
       "      <td>[1.0, 0.0]</td>\n",
       "      <td>0.000337</td>\n",
       "      <td>99.97</td>\n",
       "      <td>0</td>\n",
       "      <td>0.0</td>\n",
       "      <td>None</td>\n",
       "    </tr>\n",
       "    <tr>\n",
       "      <th>53</th>\n",
       "      <td>water_quality_fluoride</td>\n",
       "      <td>float64</td>\n",
       "      <td>2</td>\n",
       "      <td>[0.0, 1.0]</td>\n",
       "      <td>0.000337</td>\n",
       "      <td>99.97</td>\n",
       "      <td>0</td>\n",
       "      <td>0.0</td>\n",
       "      <td>None</td>\n",
       "    </tr>\n",
       "    <tr>\n",
       "      <th>54</th>\n",
       "      <td>water_quality_fluorideabandoned</td>\n",
       "      <td>float64</td>\n",
       "      <td>2</td>\n",
       "      <td>[0.0, 1.0]</td>\n",
       "      <td>0.000337</td>\n",
       "      <td>99.97</td>\n",
       "      <td>0</td>\n",
       "      <td>0.0</td>\n",
       "      <td>None</td>\n",
       "    </tr>\n",
       "    <tr>\n",
       "      <th>55</th>\n",
       "      <td>water_quality_milky</td>\n",
       "      <td>float64</td>\n",
       "      <td>2</td>\n",
       "      <td>[0.0, 1.0]</td>\n",
       "      <td>0.000337</td>\n",
       "      <td>99.97</td>\n",
       "      <td>0</td>\n",
       "      <td>0.0</td>\n",
       "      <td>None</td>\n",
       "    </tr>\n",
       "    <tr>\n",
       "      <th>56</th>\n",
       "      <td>water_quality_salty</td>\n",
       "      <td>float64</td>\n",
       "      <td>2</td>\n",
       "      <td>[0.0, 1.0]</td>\n",
       "      <td>0.000337</td>\n",
       "      <td>99.97</td>\n",
       "      <td>0</td>\n",
       "      <td>0.0</td>\n",
       "      <td>None</td>\n",
       "    </tr>\n",
       "    <tr>\n",
       "      <th>57</th>\n",
       "      <td>water_quality_saltyabandoned</td>\n",
       "      <td>float64</td>\n",
       "      <td>2</td>\n",
       "      <td>[0.0, 1.0]</td>\n",
       "      <td>0.000337</td>\n",
       "      <td>99.97</td>\n",
       "      <td>0</td>\n",
       "      <td>0.0</td>\n",
       "      <td>None</td>\n",
       "    </tr>\n",
       "    <tr>\n",
       "      <th>58</th>\n",
       "      <td>water_quality_soft</td>\n",
       "      <td>float64</td>\n",
       "      <td>2</td>\n",
       "      <td>[1.0, 0.0]</td>\n",
       "      <td>0.000337</td>\n",
       "      <td>99.97</td>\n",
       "      <td>0</td>\n",
       "      <td>0.0</td>\n",
       "      <td>None</td>\n",
       "    </tr>\n",
       "    <tr>\n",
       "      <th>59</th>\n",
       "      <td>water_quality_unknown</td>\n",
       "      <td>float64</td>\n",
       "      <td>2</td>\n",
       "      <td>[0.0, 1.0]</td>\n",
       "      <td>0.000337</td>\n",
       "      <td>99.97</td>\n",
       "      <td>0</td>\n",
       "      <td>0.0</td>\n",
       "      <td>None</td>\n",
       "    </tr>\n",
       "    <tr>\n",
       "      <th>60</th>\n",
       "      <td>quantity_enough</td>\n",
       "      <td>float64</td>\n",
       "      <td>2</td>\n",
       "      <td>[0.0, 1.0]</td>\n",
       "      <td>0.000337</td>\n",
       "      <td>99.97</td>\n",
       "      <td>0</td>\n",
       "      <td>0.0</td>\n",
       "      <td>None</td>\n",
       "    </tr>\n",
       "    <tr>\n",
       "      <th>61</th>\n",
       "      <td>quantity_insufficient</td>\n",
       "      <td>float64</td>\n",
       "      <td>2</td>\n",
       "      <td>[0.0, 1.0]</td>\n",
       "      <td>0.000337</td>\n",
       "      <td>99.97</td>\n",
       "      <td>0</td>\n",
       "      <td>0.0</td>\n",
       "      <td>None</td>\n",
       "    </tr>\n",
       "    <tr>\n",
       "      <th>62</th>\n",
       "      <td>quantity_seasonal</td>\n",
       "      <td>float64</td>\n",
       "      <td>2</td>\n",
       "      <td>[0.0, 1.0]</td>\n",
       "      <td>0.000337</td>\n",
       "      <td>99.97</td>\n",
       "      <td>0</td>\n",
       "      <td>0.0</td>\n",
       "      <td>None</td>\n",
       "    </tr>\n",
       "    <tr>\n",
       "      <th>63</th>\n",
       "      <td>quantity_unknown</td>\n",
       "      <td>float64</td>\n",
       "      <td>2</td>\n",
       "      <td>[0.0, 1.0]</td>\n",
       "      <td>0.000337</td>\n",
       "      <td>99.97</td>\n",
       "      <td>0</td>\n",
       "      <td>0.0</td>\n",
       "      <td>None</td>\n",
       "    </tr>\n",
       "    <tr>\n",
       "      <th>64</th>\n",
       "      <td>source_handdtw</td>\n",
       "      <td>float64</td>\n",
       "      <td>2</td>\n",
       "      <td>[0.0, 1.0]</td>\n",
       "      <td>0.000337</td>\n",
       "      <td>99.97</td>\n",
       "      <td>0</td>\n",
       "      <td>0.0</td>\n",
       "      <td>None</td>\n",
       "    </tr>\n",
       "    <tr>\n",
       "      <th>65</th>\n",
       "      <td>source_lake</td>\n",
       "      <td>float64</td>\n",
       "      <td>2</td>\n",
       "      <td>[0.0, 1.0]</td>\n",
       "      <td>0.000337</td>\n",
       "      <td>99.97</td>\n",
       "      <td>0</td>\n",
       "      <td>0.0</td>\n",
       "      <td>None</td>\n",
       "    </tr>\n",
       "    <tr>\n",
       "      <th>66</th>\n",
       "      <td>source_machinedbh</td>\n",
       "      <td>float64</td>\n",
       "      <td>2</td>\n",
       "      <td>[0.0, 1.0]</td>\n",
       "      <td>0.000337</td>\n",
       "      <td>99.97</td>\n",
       "      <td>0</td>\n",
       "      <td>0.0</td>\n",
       "      <td>None</td>\n",
       "    </tr>\n",
       "    <tr>\n",
       "      <th>67</th>\n",
       "      <td>source_other</td>\n",
       "      <td>float64</td>\n",
       "      <td>2</td>\n",
       "      <td>[0.0, 1.0]</td>\n",
       "      <td>0.000337</td>\n",
       "      <td>99.97</td>\n",
       "      <td>0</td>\n",
       "      <td>0.0</td>\n",
       "      <td>None</td>\n",
       "    </tr>\n",
       "    <tr>\n",
       "      <th>68</th>\n",
       "      <td>source_rainwaterharvesting</td>\n",
       "      <td>float64</td>\n",
       "      <td>2</td>\n",
       "      <td>[0.0, 1.0]</td>\n",
       "      <td>0.000337</td>\n",
       "      <td>99.97</td>\n",
       "      <td>0</td>\n",
       "      <td>0.0</td>\n",
       "      <td>None</td>\n",
       "    </tr>\n",
       "    <tr>\n",
       "      <th>69</th>\n",
       "      <td>source_river</td>\n",
       "      <td>float64</td>\n",
       "      <td>2</td>\n",
       "      <td>[0.0, 1.0]</td>\n",
       "      <td>0.000337</td>\n",
       "      <td>99.97</td>\n",
       "      <td>0</td>\n",
       "      <td>0.0</td>\n",
       "      <td>None</td>\n",
       "    </tr>\n",
       "    <tr>\n",
       "      <th>70</th>\n",
       "      <td>source_shallowwell</td>\n",
       "      <td>float64</td>\n",
       "      <td>2</td>\n",
       "      <td>[0.0, 1.0]</td>\n",
       "      <td>0.000337</td>\n",
       "      <td>99.97</td>\n",
       "      <td>0</td>\n",
       "      <td>0.0</td>\n",
       "      <td>None</td>\n",
       "    </tr>\n",
       "    <tr>\n",
       "      <th>71</th>\n",
       "      <td>source_spring</td>\n",
       "      <td>float64</td>\n",
       "      <td>2</td>\n",
       "      <td>[1.0, 0.0]</td>\n",
       "      <td>0.000337</td>\n",
       "      <td>99.97</td>\n",
       "      <td>0</td>\n",
       "      <td>0.0</td>\n",
       "      <td>None</td>\n",
       "    </tr>\n",
       "    <tr>\n",
       "      <th>72</th>\n",
       "      <td>source_unknown</td>\n",
       "      <td>float64</td>\n",
       "      <td>2</td>\n",
       "      <td>[0.0, 1.0]</td>\n",
       "      <td>0.000337</td>\n",
       "      <td>99.97</td>\n",
       "      <td>0</td>\n",
       "      <td>0.0</td>\n",
       "      <td>None</td>\n",
       "    </tr>\n",
       "    <tr>\n",
       "      <th>73</th>\n",
       "      <td>waterpoint_type_target_encoded</td>\n",
       "      <td>float64</td>\n",
       "      <td>6</td>\n",
       "      <td>[0.6776513818849927, 1.162504524068042, 1.6922...</td>\n",
       "      <td>0.001010</td>\n",
       "      <td>99.90</td>\n",
       "      <td>0</td>\n",
       "      <td>0.0</td>\n",
       "      <td>None</td>\n",
       "    </tr>\n",
       "  </tbody>\n",
       "</table>\n",
       "</div>"
      ],
      "text/plain": [
       "<IPython.core.display.HTML object>"
      ]
     },
     "metadata": {},
     "output_type": "display_data"
    }
   ],
   "source": [
    "scjpnutils.analyze_values(data_test_preprocessed, 'data_test AFTER preprocessing');"
   ]
  },
  {
   "cell_type": "code",
   "execution_count": 32,
   "metadata": {},
   "outputs": [],
   "source": [
    "data_test = data_test_preprocessed\n",
    "null_labeled = null_labeled and data_test.isnull().values.any()\n",
    "data_ALL_labeled = pd.concat([data_train, data_test], axis=0).sort_index()"
   ]
  },
  {
   "cell_type": "markdown",
   "metadata": {},
   "source": [
    "<p><br>\n",
    "\n",
    "## Apply Preprocessing Transformations (using the `Pipeline`) to Unlabeled Data"
   ]
  },
  {
   "cell_type": "code",
   "execution_count": 33,
   "metadata": {},
   "outputs": [
    {
     "data": {
      "text/html": [
       "<h3>data_unlabeled BEFORE preprocessing Feature-Value Analysis (out of 14850 total observations)</h3>"
      ],
      "text/plain": [
       "<IPython.core.display.HTML object>"
      ]
     },
     "metadata": {},
     "output_type": "display_data"
    },
    {
     "data": {
      "text/html": [
       "<div>\n",
       "<style scoped>\n",
       "    .dataframe tbody tr th:only-of-type {\n",
       "        vertical-align: middle;\n",
       "    }\n",
       "\n",
       "    .dataframe tbody tr th {\n",
       "        vertical-align: top;\n",
       "    }\n",
       "\n",
       "    .dataframe thead th {\n",
       "        text-align: right;\n",
       "    }\n",
       "</style>\n",
       "<table border=\"1\" class=\"dataframe\">\n",
       "  <thead>\n",
       "    <tr style=\"text-align: left;\">\n",
       "      <th></th>\n",
       "      <th>feature</th>\n",
       "      <th>dtype</th>\n",
       "      <th>n_unique</th>\n",
       "      <th>unique_vals</th>\n",
       "      <th>n_unique_ratio</th>\n",
       "      <th>p_cat</th>\n",
       "      <th>n_null</th>\n",
       "      <th>n_null_ratio</th>\n",
       "      <th>null_index</th>\n",
       "    </tr>\n",
       "  </thead>\n",
       "  <tbody>\n",
       "    <tr>\n",
       "      <th>0</th>\n",
       "      <td>amount_tsh</td>\n",
       "      <td>float64</td>\n",
       "      <td>68</td>\n",
       "      <td>[0.0, 500.0, 30.0, 5.0, 1000.0, 1200.0, 200.0,...</td>\n",
       "      <td>0.004579</td>\n",
       "      <td>99.54</td>\n",
       "      <td>0</td>\n",
       "      <td>0.000000</td>\n",
       "      <td>None</td>\n",
       "    </tr>\n",
       "    <tr>\n",
       "      <th>1</th>\n",
       "      <td>date_recorded</td>\n",
       "      <td>object</td>\n",
       "      <td>331</td>\n",
       "      <td>[2013-02-04, 2013-02-01, 2013-01-22, 2013-03-2...</td>\n",
       "      <td>0.022290</td>\n",
       "      <td>97.77</td>\n",
       "      <td>0</td>\n",
       "      <td>0.000000</td>\n",
       "      <td>None</td>\n",
       "    </tr>\n",
       "    <tr>\n",
       "      <th>2</th>\n",
       "      <td>funder</td>\n",
       "      <td>object</td>\n",
       "      <td>981</td>\n",
       "      <td>[Dmdd, Government Of Tanzania, nan, Finn Water...</td>\n",
       "      <td>0.066061</td>\n",
       "      <td>93.39</td>\n",
       "      <td>869</td>\n",
       "      <td>0.058519</td>\n",
       "      <td>Int64Index([17168, 27714, 30331, 15266, 51897,...</td>\n",
       "    </tr>\n",
       "    <tr>\n",
       "      <th>3</th>\n",
       "      <td>gps_height</td>\n",
       "      <td>int64</td>\n",
       "      <td>2157</td>\n",
       "      <td>[1996, 1569, 1567, 267, 1260, 1685, 550, 234, ...</td>\n",
       "      <td>0.145253</td>\n",
       "      <td>85.47</td>\n",
       "      <td>0</td>\n",
       "      <td>0.000000</td>\n",
       "      <td>None</td>\n",
       "    </tr>\n",
       "    <tr>\n",
       "      <th>4</th>\n",
       "      <td>installer</td>\n",
       "      <td>object</td>\n",
       "      <td>1092</td>\n",
       "      <td>[DMDD, DWE, nan, FINN WATER, BRUDER, Gover, Fi...</td>\n",
       "      <td>0.073535</td>\n",
       "      <td>92.65</td>\n",
       "      <td>877</td>\n",
       "      <td>0.059057</td>\n",
       "      <td>Int64Index([17168, 27714, 30331, 15266, 51897,...</td>\n",
       "    </tr>\n",
       "    <tr>\n",
       "      <th>5</th>\n",
       "      <td>longitude</td>\n",
       "      <td>float64</td>\n",
       "      <td>14390</td>\n",
       "      <td>[35.2907992, 36.65670893, 34.76786315, 38.0580...</td>\n",
       "      <td>0.969024</td>\n",
       "      <td>3.10</td>\n",
       "      <td>0</td>\n",
       "      <td>0.000000</td>\n",
       "      <td>None</td>\n",
       "    </tr>\n",
       "    <tr>\n",
       "      <th>6</th>\n",
       "      <td>latitude</td>\n",
       "      <td>float64</td>\n",
       "      <td>14390</td>\n",
       "      <td>[-4.05969643, -3.30921425, -5.00434437, -9.418...</td>\n",
       "      <td>0.969024</td>\n",
       "      <td>3.10</td>\n",
       "      <td>0</td>\n",
       "      <td>0.000000</td>\n",
       "      <td>None</td>\n",
       "    </tr>\n",
       "    <tr>\n",
       "      <th>7</th>\n",
       "      <td>wpt_name</td>\n",
       "      <td>object</td>\n",
       "      <td>10840</td>\n",
       "      <td>[Dinamu Secondary School, Kimnyak, Puma Second...</td>\n",
       "      <td>0.729966</td>\n",
       "      <td>27.00</td>\n",
       "      <td>0</td>\n",
       "      <td>0.000000</td>\n",
       "      <td>None</td>\n",
       "    </tr>\n",
       "    <tr>\n",
       "      <th>8</th>\n",
       "      <td>num_private</td>\n",
       "      <td>int64</td>\n",
       "      <td>36</td>\n",
       "      <td>[0, 3, 93, 1, 22, 102, 6, 5, 16, 669, 11, 7, 2...</td>\n",
       "      <td>0.002424</td>\n",
       "      <td>99.76</td>\n",
       "      <td>0</td>\n",
       "      <td>0.000000</td>\n",
       "      <td>None</td>\n",
       "    </tr>\n",
       "    <tr>\n",
       "      <th>9</th>\n",
       "      <td>basin</td>\n",
       "      <td>object</td>\n",
       "      <td>9</td>\n",
       "      <td>[Internal, Pangani, Ruvuma / Southern Coast, R...</td>\n",
       "      <td>0.000606</td>\n",
       "      <td>99.94</td>\n",
       "      <td>0</td>\n",
       "      <td>0.000000</td>\n",
       "      <td>None</td>\n",
       "    </tr>\n",
       "    <tr>\n",
       "      <th>10</th>\n",
       "      <td>subvillage</td>\n",
       "      <td>object</td>\n",
       "      <td>8444</td>\n",
       "      <td>[Magoma, Kimnyak, Msatu, Kipindimbi, Losonga, ...</td>\n",
       "      <td>0.568620</td>\n",
       "      <td>43.14</td>\n",
       "      <td>99</td>\n",
       "      <td>0.006667</td>\n",
       "      <td>Int64Index([ 9392, 42091, 25064, 55843, 17332,...</td>\n",
       "    </tr>\n",
       "    <tr>\n",
       "      <th>11</th>\n",
       "      <td>region</td>\n",
       "      <td>object</td>\n",
       "      <td>21</td>\n",
       "      <td>[Manyara, Arusha, Singida, Lindi, Ruvuma, Irin...</td>\n",
       "      <td>0.001414</td>\n",
       "      <td>99.86</td>\n",
       "      <td>0</td>\n",
       "      <td>0.000000</td>\n",
       "      <td>None</td>\n",
       "    </tr>\n",
       "    <tr>\n",
       "      <th>12</th>\n",
       "      <td>region_code</td>\n",
       "      <td>int64</td>\n",
       "      <td>26</td>\n",
       "      <td>[21, 2, 13, 80, 10, 11, 9, 90, 3, 14, 19, 6, 4...</td>\n",
       "      <td>0.001751</td>\n",
       "      <td>99.82</td>\n",
       "      <td>0</td>\n",
       "      <td>0.000000</td>\n",
       "      <td>None</td>\n",
       "    </tr>\n",
       "    <tr>\n",
       "      <th>13</th>\n",
       "      <td>district_code</td>\n",
       "      <td>int64</td>\n",
       "      <td>20</td>\n",
       "      <td>[3, 2, 43, 7, 4, 33, 5, 1, 6, 30, 8, 13, 63, 5...</td>\n",
       "      <td>0.001347</td>\n",
       "      <td>99.87</td>\n",
       "      <td>0</td>\n",
       "      <td>0.000000</td>\n",
       "      <td>None</td>\n",
       "    </tr>\n",
       "    <tr>\n",
       "      <th>14</th>\n",
       "      <td>lga</td>\n",
       "      <td>object</td>\n",
       "      <td>125</td>\n",
       "      <td>[Mbulu, Arusha Rural, Singida Rural, Liwale, M...</td>\n",
       "      <td>0.008418</td>\n",
       "      <td>99.16</td>\n",
       "      <td>0</td>\n",
       "      <td>0.000000</td>\n",
       "      <td>None</td>\n",
       "    </tr>\n",
       "    <tr>\n",
       "      <th>15</th>\n",
       "      <td>ward</td>\n",
       "      <td>object</td>\n",
       "      <td>1959</td>\n",
       "      <td>[Bashay, Kimnyaki, Puma, Mkutano, Mbinga Urban...</td>\n",
       "      <td>0.131919</td>\n",
       "      <td>86.81</td>\n",
       "      <td>0</td>\n",
       "      <td>0.000000</td>\n",
       "      <td>None</td>\n",
       "    </tr>\n",
       "    <tr>\n",
       "      <th>16</th>\n",
       "      <td>population</td>\n",
       "      <td>int64</td>\n",
       "      <td>637</td>\n",
       "      <td>[321, 300, 500, 250, 60, 200, 600, 1, 40, 75, ...</td>\n",
       "      <td>0.042896</td>\n",
       "      <td>95.71</td>\n",
       "      <td>0</td>\n",
       "      <td>0.000000</td>\n",
       "      <td>None</td>\n",
       "    </tr>\n",
       "    <tr>\n",
       "      <th>17</th>\n",
       "      <td>public_meeting</td>\n",
       "      <td>object</td>\n",
       "      <td>3</td>\n",
       "      <td>[True, nan, False]</td>\n",
       "      <td>0.000202</td>\n",
       "      <td>99.98</td>\n",
       "      <td>821</td>\n",
       "      <td>0.055286</td>\n",
       "      <td>Int64Index([45559, 49871, 51359, 45374, 33092,...</td>\n",
       "    </tr>\n",
       "    <tr>\n",
       "      <th>18</th>\n",
       "      <td>recorded_by</td>\n",
       "      <td>object</td>\n",
       "      <td>1</td>\n",
       "      <td>[GeoData Consultants Ltd]</td>\n",
       "      <td>0.000067</td>\n",
       "      <td>99.99</td>\n",
       "      <td>0</td>\n",
       "      <td>0.000000</td>\n",
       "      <td>None</td>\n",
       "    </tr>\n",
       "    <tr>\n",
       "      <th>19</th>\n",
       "      <td>scheme_management</td>\n",
       "      <td>object</td>\n",
       "      <td>12</td>\n",
       "      <td>[Parastatal, VWC, Water Board, nan, Other, SWC...</td>\n",
       "      <td>0.000808</td>\n",
       "      <td>99.92</td>\n",
       "      <td>969</td>\n",
       "      <td>0.065253</td>\n",
       "      <td>Int64Index([45750, 17853, 26804, 23387, 17873,...</td>\n",
       "    </tr>\n",
       "    <tr>\n",
       "      <th>20</th>\n",
       "      <td>scheme_name</td>\n",
       "      <td>object</td>\n",
       "      <td>1790</td>\n",
       "      <td>[nan, TPRI pipe line, P, BRUDER, Timbolo samba...</td>\n",
       "      <td>0.120539</td>\n",
       "      <td>87.95</td>\n",
       "      <td>7092</td>\n",
       "      <td>0.477576</td>\n",
       "      <td>Int64Index([50785, 45559, 24806, 45750, 27714,...</td>\n",
       "    </tr>\n",
       "    <tr>\n",
       "      <th>21</th>\n",
       "      <td>permit</td>\n",
       "      <td>object</td>\n",
       "      <td>3</td>\n",
       "      <td>[True, nan, False]</td>\n",
       "      <td>0.000202</td>\n",
       "      <td>99.98</td>\n",
       "      <td>737</td>\n",
       "      <td>0.049630</td>\n",
       "      <td>Int64Index([17168, 30331, 15266, 51897, 33261,...</td>\n",
       "    </tr>\n",
       "    <tr>\n",
       "      <th>22</th>\n",
       "      <td>construction_year</td>\n",
       "      <td>int64</td>\n",
       "      <td>55</td>\n",
       "      <td>[2012, 2000, 2010, 1987, 1990, 2007, 1982, 199...</td>\n",
       "      <td>0.003704</td>\n",
       "      <td>99.63</td>\n",
       "      <td>0</td>\n",
       "      <td>0.000000</td>\n",
       "      <td>None</td>\n",
       "    </tr>\n",
       "    <tr>\n",
       "      <th>23</th>\n",
       "      <td>extraction_type</td>\n",
       "      <td>object</td>\n",
       "      <td>17</td>\n",
       "      <td>[other, gravity, india mark ii, submersible, m...</td>\n",
       "      <td>0.001145</td>\n",
       "      <td>99.89</td>\n",
       "      <td>0</td>\n",
       "      <td>0.000000</td>\n",
       "      <td>None</td>\n",
       "    </tr>\n",
       "    <tr>\n",
       "      <th>24</th>\n",
       "      <td>extraction_type_group</td>\n",
       "      <td>object</td>\n",
       "      <td>13</td>\n",
       "      <td>[other, gravity, india mark ii, submersible, m...</td>\n",
       "      <td>0.000875</td>\n",
       "      <td>99.91</td>\n",
       "      <td>0</td>\n",
       "      <td>0.000000</td>\n",
       "      <td>None</td>\n",
       "    </tr>\n",
       "    <tr>\n",
       "      <th>25</th>\n",
       "      <td>extraction_type_class</td>\n",
       "      <td>object</td>\n",
       "      <td>7</td>\n",
       "      <td>[other, gravity, handpump, submersible, motorp...</td>\n",
       "      <td>0.000471</td>\n",
       "      <td>99.95</td>\n",
       "      <td>0</td>\n",
       "      <td>0.000000</td>\n",
       "      <td>None</td>\n",
       "    </tr>\n",
       "    <tr>\n",
       "      <th>26</th>\n",
       "      <td>management</td>\n",
       "      <td>object</td>\n",
       "      <td>12</td>\n",
       "      <td>[parastatal, vwc, water board, other - school,...</td>\n",
       "      <td>0.000808</td>\n",
       "      <td>99.92</td>\n",
       "      <td>0</td>\n",
       "      <td>0.000000</td>\n",
       "      <td>None</td>\n",
       "    </tr>\n",
       "    <tr>\n",
       "      <th>27</th>\n",
       "      <td>management_group</td>\n",
       "      <td>object</td>\n",
       "      <td>5</td>\n",
       "      <td>[parastatal, user-group, other, commercial, un...</td>\n",
       "      <td>0.000337</td>\n",
       "      <td>99.97</td>\n",
       "      <td>0</td>\n",
       "      <td>0.000000</td>\n",
       "      <td>None</td>\n",
       "    </tr>\n",
       "    <tr>\n",
       "      <th>28</th>\n",
       "      <td>payment</td>\n",
       "      <td>object</td>\n",
       "      <td>7</td>\n",
       "      <td>[never pay, unknown, pay monthly, pay per buck...</td>\n",
       "      <td>0.000471</td>\n",
       "      <td>99.95</td>\n",
       "      <td>0</td>\n",
       "      <td>0.000000</td>\n",
       "      <td>None</td>\n",
       "    </tr>\n",
       "    <tr>\n",
       "      <th>29</th>\n",
       "      <td>payment_type</td>\n",
       "      <td>object</td>\n",
       "      <td>7</td>\n",
       "      <td>[never pay, unknown, monthly, per bucket, annu...</td>\n",
       "      <td>0.000471</td>\n",
       "      <td>99.95</td>\n",
       "      <td>0</td>\n",
       "      <td>0.000000</td>\n",
       "      <td>None</td>\n",
       "    </tr>\n",
       "    <tr>\n",
       "      <th>30</th>\n",
       "      <td>water_quality</td>\n",
       "      <td>object</td>\n",
       "      <td>8</td>\n",
       "      <td>[soft, salty, milky, unknown, salty abandoned,...</td>\n",
       "      <td>0.000539</td>\n",
       "      <td>99.95</td>\n",
       "      <td>0</td>\n",
       "      <td>0.000000</td>\n",
       "      <td>None</td>\n",
       "    </tr>\n",
       "    <tr>\n",
       "      <th>31</th>\n",
       "      <td>quality_group</td>\n",
       "      <td>object</td>\n",
       "      <td>6</td>\n",
       "      <td>[good, salty, milky, unknown, colored, fluoride]</td>\n",
       "      <td>0.000404</td>\n",
       "      <td>99.96</td>\n",
       "      <td>0</td>\n",
       "      <td>0.000000</td>\n",
       "      <td>None</td>\n",
       "    </tr>\n",
       "    <tr>\n",
       "      <th>32</th>\n",
       "      <td>quantity</td>\n",
       "      <td>object</td>\n",
       "      <td>5</td>\n",
       "      <td>[seasonal, insufficient, dry, enough, unknown]</td>\n",
       "      <td>0.000337</td>\n",
       "      <td>99.97</td>\n",
       "      <td>0</td>\n",
       "      <td>0.000000</td>\n",
       "      <td>None</td>\n",
       "    </tr>\n",
       "    <tr>\n",
       "      <th>33</th>\n",
       "      <td>quantity_group</td>\n",
       "      <td>object</td>\n",
       "      <td>5</td>\n",
       "      <td>[seasonal, insufficient, dry, enough, unknown]</td>\n",
       "      <td>0.000337</td>\n",
       "      <td>99.97</td>\n",
       "      <td>0</td>\n",
       "      <td>0.000000</td>\n",
       "      <td>None</td>\n",
       "    </tr>\n",
       "    <tr>\n",
       "      <th>34</th>\n",
       "      <td>source</td>\n",
       "      <td>object</td>\n",
       "      <td>10</td>\n",
       "      <td>[rainwater harvesting, spring, shallow well, m...</td>\n",
       "      <td>0.000673</td>\n",
       "      <td>99.93</td>\n",
       "      <td>0</td>\n",
       "      <td>0.000000</td>\n",
       "      <td>None</td>\n",
       "    </tr>\n",
       "    <tr>\n",
       "      <th>35</th>\n",
       "      <td>source_type</td>\n",
       "      <td>object</td>\n",
       "      <td>7</td>\n",
       "      <td>[rainwater harvesting, spring, shallow well, b...</td>\n",
       "      <td>0.000471</td>\n",
       "      <td>99.95</td>\n",
       "      <td>0</td>\n",
       "      <td>0.000000</td>\n",
       "      <td>None</td>\n",
       "    </tr>\n",
       "    <tr>\n",
       "      <th>36</th>\n",
       "      <td>source_class</td>\n",
       "      <td>object</td>\n",
       "      <td>3</td>\n",
       "      <td>[surface, groundwater, unknown]</td>\n",
       "      <td>0.000202</td>\n",
       "      <td>99.98</td>\n",
       "      <td>0</td>\n",
       "      <td>0.000000</td>\n",
       "      <td>None</td>\n",
       "    </tr>\n",
       "    <tr>\n",
       "      <th>37</th>\n",
       "      <td>waterpoint_type</td>\n",
       "      <td>object</td>\n",
       "      <td>7</td>\n",
       "      <td>[other, communal standpipe, hand pump, communa...</td>\n",
       "      <td>0.000471</td>\n",
       "      <td>99.95</td>\n",
       "      <td>0</td>\n",
       "      <td>0.000000</td>\n",
       "      <td>None</td>\n",
       "    </tr>\n",
       "    <tr>\n",
       "      <th>38</th>\n",
       "      <td>waterpoint_type_group</td>\n",
       "      <td>object</td>\n",
       "      <td>6</td>\n",
       "      <td>[other, communal standpipe, hand pump, improve...</td>\n",
       "      <td>0.000404</td>\n",
       "      <td>99.96</td>\n",
       "      <td>0</td>\n",
       "      <td>0.000000</td>\n",
       "      <td>None</td>\n",
       "    </tr>\n",
       "  </tbody>\n",
       "</table>\n",
       "</div>"
      ],
      "text/plain": [
       "<IPython.core.display.HTML object>"
      ]
     },
     "metadata": {},
     "output_type": "display_data"
    }
   ],
   "source": [
    "scjpnutils.analyze_values(data_unlabeled, 'data_unlabeled BEFORE preprocessing');"
   ]
  },
  {
   "cell_type": "code",
   "execution_count": 34,
   "metadata": {
    "tags": []
   },
   "outputs": [
    {
     "name": "stdout",
     "output_type": "stream",
     "text": [
      "** TargetEncoderLOOTransformer TRANSFORM INFO **: NOT using Leave-One-Out\n",
      "** TargetEncoderLOOTransformer TRANSFORM INFO **: unique categories of 'region_code' in X match those that were previously fit\n",
      "added new feature: region_code_target_encoded\n"
     ]
    },
    {
     "data": {
      "text/html": [
       "<p><br>mapping DIRTY <i>ward</i> documents to <code>TF-IDF</code> vectors..."
      ],
      "text/plain": [
       "<IPython.core.display.HTML object>"
      ]
     },
     "metadata": {},
     "output_type": "display_data"
    },
    {
     "name": "stdout",
     "output_type": "stream",
     "text": [
      "** TargetEncoderLOOTransformer TRANSFORM INFO **: NOT using Leave-One-Out\n",
      "** TargetEncoderLOOTransformer TRANSFORM WARNING!! **: 1 categories of 'ward' occur in X (out of 1949 unique) that do not exist in the set of fit categories - modeled accuracy on X will drop as a result\n",
      "** TargetEncoderLOOTransformer TRANSFORM WARNING!! **: feat 'ward' has 14 nan values after target encoding; replacing these with last fit target global mean: 0.8427422371866816\n",
      "added new feature: ward_target_encoded\n",
      "** TargetEncoderLOOTransformer TRANSFORM INFO **: NOT using Leave-One-Out\n",
      "** TargetEncoderLOOTransformer TRANSFORM WARNING!! **: 1 categories of 'lga' occur in X (out of 125 unique) that do not exist in the set of fit categories - modeled accuracy on X will drop as a result\n",
      "** TargetEncoderLOOTransformer TRANSFORM WARNING!! **: feat 'lga' has 1 nan values after target encoding; replacing these with last fit target global mean: 0.8427422371866816\n",
      "added new feature: lga_target_encoded\n",
      "** TargetEncoderLOOTransformer TRANSFORM INFO **: NOT using Leave-One-Out\n",
      "** TargetEncoderLOOTransformer TRANSFORM INFO **: unique categories of 'management' in X match those that were previously fit\n",
      "added new feature: management_target_encoded\n",
      "** TargetEncoderLOOTransformer TRANSFORM INFO **: NOT using Leave-One-Out\n",
      "** TargetEncoderLOOTransformer TRANSFORM INFO **: unique categories of 'waterpoint_type' in X match those that were previously fit\n",
      "added new feature: waterpoint_type_target_encoded\n"
     ]
    }
   ],
   "source": [
    "data_unlabeled_preprocessed = pipeline_data_preprocessor.transform(data_unlabeled)"
   ]
  },
  {
   "cell_type": "code",
   "execution_count": 35,
   "metadata": {},
   "outputs": [
    {
     "data": {
      "text/html": [
       "<h3>data_unlabeled AFTER preprocessing Feature-Value Analysis (out of 14850 total observations)</h3>"
      ],
      "text/plain": [
       "<IPython.core.display.HTML object>"
      ]
     },
     "metadata": {},
     "output_type": "display_data"
    },
    {
     "data": {
      "text/html": [
       "<div>\n",
       "<style scoped>\n",
       "    .dataframe tbody tr th:only-of-type {\n",
       "        vertical-align: middle;\n",
       "    }\n",
       "\n",
       "    .dataframe tbody tr th {\n",
       "        vertical-align: top;\n",
       "    }\n",
       "\n",
       "    .dataframe thead th {\n",
       "        text-align: right;\n",
       "    }\n",
       "</style>\n",
       "<table border=\"1\" class=\"dataframe\">\n",
       "  <thead>\n",
       "    <tr style=\"text-align: left;\">\n",
       "      <th></th>\n",
       "      <th>feature</th>\n",
       "      <th>dtype</th>\n",
       "      <th>n_unique</th>\n",
       "      <th>unique_vals</th>\n",
       "      <th>n_unique_ratio</th>\n",
       "      <th>p_cat</th>\n",
       "      <th>n_null</th>\n",
       "      <th>n_null_ratio</th>\n",
       "      <th>null_index</th>\n",
       "    </tr>\n",
       "  </thead>\n",
       "  <tbody>\n",
       "    <tr>\n",
       "      <th>0</th>\n",
       "      <td>amount_tsh</td>\n",
       "      <td>float64</td>\n",
       "      <td>20</td>\n",
       "      <td>[0.0, 316.0523728020951, 30.0, 5.0, 20.0, 50.0...</td>\n",
       "      <td>0.001347</td>\n",
       "      <td>99.87</td>\n",
       "      <td>0</td>\n",
       "      <td>0.0</td>\n",
       "      <td>None</td>\n",
       "    </tr>\n",
       "    <tr>\n",
       "      <th>1</th>\n",
       "      <td>gps_height</td>\n",
       "      <td>int64</td>\n",
       "      <td>2157</td>\n",
       "      <td>[1996, 1569, 1567, 267, 1260, 1685, 550, 234, ...</td>\n",
       "      <td>0.145253</td>\n",
       "      <td>85.47</td>\n",
       "      <td>0</td>\n",
       "      <td>0.0</td>\n",
       "      <td>None</td>\n",
       "    </tr>\n",
       "    <tr>\n",
       "      <th>2</th>\n",
       "      <td>longitude</td>\n",
       "      <td>float64</td>\n",
       "      <td>14390</td>\n",
       "      <td>[35.2907992, 36.65670893, 34.76786315, 38.0580...</td>\n",
       "      <td>0.969024</td>\n",
       "      <td>3.10</td>\n",
       "      <td>0</td>\n",
       "      <td>0.0</td>\n",
       "      <td>None</td>\n",
       "    </tr>\n",
       "    <tr>\n",
       "      <th>3</th>\n",
       "      <td>latitude</td>\n",
       "      <td>float64</td>\n",
       "      <td>14390</td>\n",
       "      <td>[-4.05969643, -3.30921425, -5.00434437, -9.418...</td>\n",
       "      <td>0.969024</td>\n",
       "      <td>3.10</td>\n",
       "      <td>0</td>\n",
       "      <td>0.0</td>\n",
       "      <td>None</td>\n",
       "    </tr>\n",
       "    <tr>\n",
       "      <th>4</th>\n",
       "      <td>num_private</td>\n",
       "      <td>int64</td>\n",
       "      <td>36</td>\n",
       "      <td>[0, 3, 93, 1, 22, 102, 6, 5, 16, 669, 11, 7, 2...</td>\n",
       "      <td>0.002424</td>\n",
       "      <td>99.76</td>\n",
       "      <td>0</td>\n",
       "      <td>0.0</td>\n",
       "      <td>None</td>\n",
       "    </tr>\n",
       "    <tr>\n",
       "      <th>5</th>\n",
       "      <td>population</td>\n",
       "      <td>float64</td>\n",
       "      <td>446</td>\n",
       "      <td>[321.0, 300.0, 500.0, 250.0, 60.0, 200.0, 179....</td>\n",
       "      <td>0.030034</td>\n",
       "      <td>97.00</td>\n",
       "      <td>0</td>\n",
       "      <td>0.0</td>\n",
       "      <td>None</td>\n",
       "    </tr>\n",
       "    <tr>\n",
       "      <th>6</th>\n",
       "      <td>construction_year</td>\n",
       "      <td>int64</td>\n",
       "      <td>55</td>\n",
       "      <td>[2012, 2000, 2010, 1987, 1990, 2007, 1982, 199...</td>\n",
       "      <td>0.003704</td>\n",
       "      <td>99.63</td>\n",
       "      <td>0</td>\n",
       "      <td>0.0</td>\n",
       "      <td>None</td>\n",
       "    </tr>\n",
       "    <tr>\n",
       "      <th>7</th>\n",
       "      <td>region_code_target_encoded</td>\n",
       "      <td>float64</td>\n",
       "      <td>26</td>\n",
       "      <td>[0.6803621169916435, 0.6278043398308202, 0.971...</td>\n",
       "      <td>0.001751</td>\n",
       "      <td>99.82</td>\n",
       "      <td>0</td>\n",
       "      <td>0.0</td>\n",
       "      <td>None</td>\n",
       "    </tr>\n",
       "    <tr>\n",
       "      <th>8</th>\n",
       "      <td>district_code_1</td>\n",
       "      <td>float64</td>\n",
       "      <td>2</td>\n",
       "      <td>[0.0, 1.0]</td>\n",
       "      <td>0.000135</td>\n",
       "      <td>99.99</td>\n",
       "      <td>0</td>\n",
       "      <td>0.0</td>\n",
       "      <td>None</td>\n",
       "    </tr>\n",
       "    <tr>\n",
       "      <th>9</th>\n",
       "      <td>district_code_2</td>\n",
       "      <td>float64</td>\n",
       "      <td>2</td>\n",
       "      <td>[0.0, 1.0]</td>\n",
       "      <td>0.000135</td>\n",
       "      <td>99.99</td>\n",
       "      <td>0</td>\n",
       "      <td>0.0</td>\n",
       "      <td>None</td>\n",
       "    </tr>\n",
       "    <tr>\n",
       "      <th>10</th>\n",
       "      <td>district_code_3</td>\n",
       "      <td>float64</td>\n",
       "      <td>2</td>\n",
       "      <td>[1.0, 0.0]</td>\n",
       "      <td>0.000135</td>\n",
       "      <td>99.99</td>\n",
       "      <td>0</td>\n",
       "      <td>0.0</td>\n",
       "      <td>None</td>\n",
       "    </tr>\n",
       "    <tr>\n",
       "      <th>11</th>\n",
       "      <td>district_code_4</td>\n",
       "      <td>float64</td>\n",
       "      <td>2</td>\n",
       "      <td>[0.0, 1.0]</td>\n",
       "      <td>0.000135</td>\n",
       "      <td>99.99</td>\n",
       "      <td>0</td>\n",
       "      <td>0.0</td>\n",
       "      <td>None</td>\n",
       "    </tr>\n",
       "    <tr>\n",
       "      <th>12</th>\n",
       "      <td>district_code_5</td>\n",
       "      <td>float64</td>\n",
       "      <td>2</td>\n",
       "      <td>[0.0, 1.0]</td>\n",
       "      <td>0.000135</td>\n",
       "      <td>99.99</td>\n",
       "      <td>0</td>\n",
       "      <td>0.0</td>\n",
       "      <td>None</td>\n",
       "    </tr>\n",
       "    <tr>\n",
       "      <th>13</th>\n",
       "      <td>district_code_6</td>\n",
       "      <td>float64</td>\n",
       "      <td>2</td>\n",
       "      <td>[0.0, 1.0]</td>\n",
       "      <td>0.000135</td>\n",
       "      <td>99.99</td>\n",
       "      <td>0</td>\n",
       "      <td>0.0</td>\n",
       "      <td>None</td>\n",
       "    </tr>\n",
       "    <tr>\n",
       "      <th>14</th>\n",
       "      <td>district_code_7</td>\n",
       "      <td>float64</td>\n",
       "      <td>2</td>\n",
       "      <td>[0.0, 1.0]</td>\n",
       "      <td>0.000135</td>\n",
       "      <td>99.99</td>\n",
       "      <td>0</td>\n",
       "      <td>0.0</td>\n",
       "      <td>None</td>\n",
       "    </tr>\n",
       "    <tr>\n",
       "      <th>15</th>\n",
       "      <td>district_code_8</td>\n",
       "      <td>float64</td>\n",
       "      <td>2</td>\n",
       "      <td>[0.0, 1.0]</td>\n",
       "      <td>0.000135</td>\n",
       "      <td>99.99</td>\n",
       "      <td>0</td>\n",
       "      <td>0.0</td>\n",
       "      <td>None</td>\n",
       "    </tr>\n",
       "    <tr>\n",
       "      <th>16</th>\n",
       "      <td>district_code_13</td>\n",
       "      <td>float64</td>\n",
       "      <td>2</td>\n",
       "      <td>[0.0, 1.0]</td>\n",
       "      <td>0.000135</td>\n",
       "      <td>99.99</td>\n",
       "      <td>0</td>\n",
       "      <td>0.0</td>\n",
       "      <td>None</td>\n",
       "    </tr>\n",
       "    <tr>\n",
       "      <th>17</th>\n",
       "      <td>district_code_23</td>\n",
       "      <td>float64</td>\n",
       "      <td>2</td>\n",
       "      <td>[0.0, 1.0]</td>\n",
       "      <td>0.000135</td>\n",
       "      <td>99.99</td>\n",
       "      <td>0</td>\n",
       "      <td>0.0</td>\n",
       "      <td>None</td>\n",
       "    </tr>\n",
       "    <tr>\n",
       "      <th>18</th>\n",
       "      <td>district_code_30</td>\n",
       "      <td>float64</td>\n",
       "      <td>2</td>\n",
       "      <td>[0.0, 1.0]</td>\n",
       "      <td>0.000135</td>\n",
       "      <td>99.99</td>\n",
       "      <td>0</td>\n",
       "      <td>0.0</td>\n",
       "      <td>None</td>\n",
       "    </tr>\n",
       "    <tr>\n",
       "      <th>19</th>\n",
       "      <td>district_code_33</td>\n",
       "      <td>float64</td>\n",
       "      <td>2</td>\n",
       "      <td>[0.0, 1.0]</td>\n",
       "      <td>0.000135</td>\n",
       "      <td>99.99</td>\n",
       "      <td>0</td>\n",
       "      <td>0.0</td>\n",
       "      <td>None</td>\n",
       "    </tr>\n",
       "    <tr>\n",
       "      <th>20</th>\n",
       "      <td>district_code_43</td>\n",
       "      <td>float64</td>\n",
       "      <td>2</td>\n",
       "      <td>[0.0, 1.0]</td>\n",
       "      <td>0.000135</td>\n",
       "      <td>99.99</td>\n",
       "      <td>0</td>\n",
       "      <td>0.0</td>\n",
       "      <td>None</td>\n",
       "    </tr>\n",
       "    <tr>\n",
       "      <th>21</th>\n",
       "      <td>district_code_53</td>\n",
       "      <td>float64</td>\n",
       "      <td>2</td>\n",
       "      <td>[0.0, 1.0]</td>\n",
       "      <td>0.000135</td>\n",
       "      <td>99.99</td>\n",
       "      <td>0</td>\n",
       "      <td>0.0</td>\n",
       "      <td>None</td>\n",
       "    </tr>\n",
       "    <tr>\n",
       "      <th>22</th>\n",
       "      <td>district_code_60</td>\n",
       "      <td>float64</td>\n",
       "      <td>2</td>\n",
       "      <td>[0.0, 1.0]</td>\n",
       "      <td>0.000135</td>\n",
       "      <td>99.99</td>\n",
       "      <td>0</td>\n",
       "      <td>0.0</td>\n",
       "      <td>None</td>\n",
       "    </tr>\n",
       "    <tr>\n",
       "      <th>23</th>\n",
       "      <td>district_code_62</td>\n",
       "      <td>float64</td>\n",
       "      <td>2</td>\n",
       "      <td>[0.0, 1.0]</td>\n",
       "      <td>0.000135</td>\n",
       "      <td>99.99</td>\n",
       "      <td>0</td>\n",
       "      <td>0.0</td>\n",
       "      <td>None</td>\n",
       "    </tr>\n",
       "    <tr>\n",
       "      <th>24</th>\n",
       "      <td>district_code_63</td>\n",
       "      <td>float64</td>\n",
       "      <td>2</td>\n",
       "      <td>[0.0, 1.0]</td>\n",
       "      <td>0.000135</td>\n",
       "      <td>99.99</td>\n",
       "      <td>0</td>\n",
       "      <td>0.0</td>\n",
       "      <td>None</td>\n",
       "    </tr>\n",
       "    <tr>\n",
       "      <th>25</th>\n",
       "      <td>district_code_67</td>\n",
       "      <td>float64</td>\n",
       "      <td>2</td>\n",
       "      <td>[0.0, 1.0]</td>\n",
       "      <td>0.000135</td>\n",
       "      <td>99.99</td>\n",
       "      <td>0</td>\n",
       "      <td>0.0</td>\n",
       "      <td>None</td>\n",
       "    </tr>\n",
       "    <tr>\n",
       "      <th>26</th>\n",
       "      <td>district_code_80</td>\n",
       "      <td>float64</td>\n",
       "      <td>2</td>\n",
       "      <td>[0.0, 1.0]</td>\n",
       "      <td>0.000135</td>\n",
       "      <td>99.99</td>\n",
       "      <td>0</td>\n",
       "      <td>0.0</td>\n",
       "      <td>None</td>\n",
       "    </tr>\n",
       "    <tr>\n",
       "      <th>27</th>\n",
       "      <td>ward_target_encoded</td>\n",
       "      <td>float64</td>\n",
       "      <td>700</td>\n",
       "      <td>[0.5652173913043478, 0.8, 1.2564102564102564, ...</td>\n",
       "      <td>0.047138</td>\n",
       "      <td>95.29</td>\n",
       "      <td>0</td>\n",
       "      <td>0.0</td>\n",
       "      <td>None</td>\n",
       "    </tr>\n",
       "    <tr>\n",
       "      <th>28</th>\n",
       "      <td>lga_target_encoded</td>\n",
       "      <td>float64</td>\n",
       "      <td>125</td>\n",
       "      <td>[0.6507352941176471, 0.5472370766488414, 1.055...</td>\n",
       "      <td>0.008418</td>\n",
       "      <td>99.16</td>\n",
       "      <td>0</td>\n",
       "      <td>0.0</td>\n",
       "      <td>None</td>\n",
       "    </tr>\n",
       "    <tr>\n",
       "      <th>29</th>\n",
       "      <td>extraction_type_cemo</td>\n",
       "      <td>float64</td>\n",
       "      <td>2</td>\n",
       "      <td>[0.0, 1.0]</td>\n",
       "      <td>0.000135</td>\n",
       "      <td>99.99</td>\n",
       "      <td>0</td>\n",
       "      <td>0.0</td>\n",
       "      <td>None</td>\n",
       "    </tr>\n",
       "    <tr>\n",
       "      <th>30</th>\n",
       "      <td>extraction_type_climax</td>\n",
       "      <td>float64</td>\n",
       "      <td>2</td>\n",
       "      <td>[0.0, 1.0]</td>\n",
       "      <td>0.000135</td>\n",
       "      <td>99.99</td>\n",
       "      <td>0</td>\n",
       "      <td>0.0</td>\n",
       "      <td>None</td>\n",
       "    </tr>\n",
       "    <tr>\n",
       "      <th>31</th>\n",
       "      <td>extraction_type_gravity</td>\n",
       "      <td>float64</td>\n",
       "      <td>2</td>\n",
       "      <td>[0.0, 1.0]</td>\n",
       "      <td>0.000135</td>\n",
       "      <td>99.99</td>\n",
       "      <td>0</td>\n",
       "      <td>0.0</td>\n",
       "      <td>None</td>\n",
       "    </tr>\n",
       "    <tr>\n",
       "      <th>32</th>\n",
       "      <td>extraction_type_indiamarkii</td>\n",
       "      <td>float64</td>\n",
       "      <td>2</td>\n",
       "      <td>[0.0, 1.0]</td>\n",
       "      <td>0.000135</td>\n",
       "      <td>99.99</td>\n",
       "      <td>0</td>\n",
       "      <td>0.0</td>\n",
       "      <td>None</td>\n",
       "    </tr>\n",
       "    <tr>\n",
       "      <th>33</th>\n",
       "      <td>extraction_type_indiamarkiii</td>\n",
       "      <td>float64</td>\n",
       "      <td>2</td>\n",
       "      <td>[0.0, 1.0]</td>\n",
       "      <td>0.000135</td>\n",
       "      <td>99.99</td>\n",
       "      <td>0</td>\n",
       "      <td>0.0</td>\n",
       "      <td>None</td>\n",
       "    </tr>\n",
       "    <tr>\n",
       "      <th>34</th>\n",
       "      <td>extraction_type_ksb</td>\n",
       "      <td>float64</td>\n",
       "      <td>2</td>\n",
       "      <td>[0.0, 1.0]</td>\n",
       "      <td>0.000135</td>\n",
       "      <td>99.99</td>\n",
       "      <td>0</td>\n",
       "      <td>0.0</td>\n",
       "      <td>None</td>\n",
       "    </tr>\n",
       "    <tr>\n",
       "      <th>35</th>\n",
       "      <td>extraction_type_mono</td>\n",
       "      <td>float64</td>\n",
       "      <td>2</td>\n",
       "      <td>[0.0, 1.0]</td>\n",
       "      <td>0.000135</td>\n",
       "      <td>99.99</td>\n",
       "      <td>0</td>\n",
       "      <td>0.0</td>\n",
       "      <td>None</td>\n",
       "    </tr>\n",
       "    <tr>\n",
       "      <th>36</th>\n",
       "      <td>extraction_type_niratanira</td>\n",
       "      <td>float64</td>\n",
       "      <td>2</td>\n",
       "      <td>[0.0, 1.0]</td>\n",
       "      <td>0.000135</td>\n",
       "      <td>99.99</td>\n",
       "      <td>0</td>\n",
       "      <td>0.0</td>\n",
       "      <td>None</td>\n",
       "    </tr>\n",
       "    <tr>\n",
       "      <th>37</th>\n",
       "      <td>extraction_type_other</td>\n",
       "      <td>float64</td>\n",
       "      <td>2</td>\n",
       "      <td>[1.0, 0.0]</td>\n",
       "      <td>0.000135</td>\n",
       "      <td>99.99</td>\n",
       "      <td>0</td>\n",
       "      <td>0.0</td>\n",
       "      <td>None</td>\n",
       "    </tr>\n",
       "    <tr>\n",
       "      <th>38</th>\n",
       "      <td>extraction_type_othermkulimashinyanga</td>\n",
       "      <td>float64</td>\n",
       "      <td>1</td>\n",
       "      <td>[0.0]</td>\n",
       "      <td>0.000067</td>\n",
       "      <td>99.99</td>\n",
       "      <td>0</td>\n",
       "      <td>0.0</td>\n",
       "      <td>None</td>\n",
       "    </tr>\n",
       "    <tr>\n",
       "      <th>39</th>\n",
       "      <td>extraction_type_otherplaypump</td>\n",
       "      <td>float64</td>\n",
       "      <td>2</td>\n",
       "      <td>[0.0, 1.0]</td>\n",
       "      <td>0.000135</td>\n",
       "      <td>99.99</td>\n",
       "      <td>0</td>\n",
       "      <td>0.0</td>\n",
       "      <td>None</td>\n",
       "    </tr>\n",
       "    <tr>\n",
       "      <th>40</th>\n",
       "      <td>extraction_type_otherropepump</td>\n",
       "      <td>float64</td>\n",
       "      <td>2</td>\n",
       "      <td>[0.0, 1.0]</td>\n",
       "      <td>0.000135</td>\n",
       "      <td>99.99</td>\n",
       "      <td>0</td>\n",
       "      <td>0.0</td>\n",
       "      <td>None</td>\n",
       "    </tr>\n",
       "    <tr>\n",
       "      <th>41</th>\n",
       "      <td>extraction_type_otherswn81</td>\n",
       "      <td>float64</td>\n",
       "      <td>2</td>\n",
       "      <td>[0.0, 1.0]</td>\n",
       "      <td>0.000135</td>\n",
       "      <td>99.99</td>\n",
       "      <td>0</td>\n",
       "      <td>0.0</td>\n",
       "      <td>None</td>\n",
       "    </tr>\n",
       "    <tr>\n",
       "      <th>42</th>\n",
       "      <td>extraction_type_submersible</td>\n",
       "      <td>float64</td>\n",
       "      <td>2</td>\n",
       "      <td>[0.0, 1.0]</td>\n",
       "      <td>0.000135</td>\n",
       "      <td>99.99</td>\n",
       "      <td>0</td>\n",
       "      <td>0.0</td>\n",
       "      <td>None</td>\n",
       "    </tr>\n",
       "    <tr>\n",
       "      <th>43</th>\n",
       "      <td>extraction_type_swn80</td>\n",
       "      <td>float64</td>\n",
       "      <td>2</td>\n",
       "      <td>[0.0, 1.0]</td>\n",
       "      <td>0.000135</td>\n",
       "      <td>99.99</td>\n",
       "      <td>0</td>\n",
       "      <td>0.0</td>\n",
       "      <td>None</td>\n",
       "    </tr>\n",
       "    <tr>\n",
       "      <th>44</th>\n",
       "      <td>extraction_type_walimi</td>\n",
       "      <td>float64</td>\n",
       "      <td>2</td>\n",
       "      <td>[0.0, 1.0]</td>\n",
       "      <td>0.000135</td>\n",
       "      <td>99.99</td>\n",
       "      <td>0</td>\n",
       "      <td>0.0</td>\n",
       "      <td>None</td>\n",
       "    </tr>\n",
       "    <tr>\n",
       "      <th>45</th>\n",
       "      <td>extraction_type_windmill</td>\n",
       "      <td>float64</td>\n",
       "      <td>2</td>\n",
       "      <td>[0.0, 1.0]</td>\n",
       "      <td>0.000135</td>\n",
       "      <td>99.99</td>\n",
       "      <td>0</td>\n",
       "      <td>0.0</td>\n",
       "      <td>None</td>\n",
       "    </tr>\n",
       "    <tr>\n",
       "      <th>46</th>\n",
       "      <td>management_target_encoded</td>\n",
       "      <td>float64</td>\n",
       "      <td>12</td>\n",
       "      <td>[0.7289308176100628, 0.9240048250904704, 0.435...</td>\n",
       "      <td>0.000808</td>\n",
       "      <td>99.92</td>\n",
       "      <td>0</td>\n",
       "      <td>0.0</td>\n",
       "      <td>None</td>\n",
       "    </tr>\n",
       "    <tr>\n",
       "      <th>47</th>\n",
       "      <td>payment_type_monthly</td>\n",
       "      <td>float64</td>\n",
       "      <td>2</td>\n",
       "      <td>[0.0, 1.0]</td>\n",
       "      <td>0.000135</td>\n",
       "      <td>99.99</td>\n",
       "      <td>0</td>\n",
       "      <td>0.0</td>\n",
       "      <td>None</td>\n",
       "    </tr>\n",
       "    <tr>\n",
       "      <th>48</th>\n",
       "      <td>payment_type_neverpay</td>\n",
       "      <td>float64</td>\n",
       "      <td>2</td>\n",
       "      <td>[1.0, 0.0]</td>\n",
       "      <td>0.000135</td>\n",
       "      <td>99.99</td>\n",
       "      <td>0</td>\n",
       "      <td>0.0</td>\n",
       "      <td>None</td>\n",
       "    </tr>\n",
       "    <tr>\n",
       "      <th>49</th>\n",
       "      <td>payment_type_onfailure</td>\n",
       "      <td>float64</td>\n",
       "      <td>2</td>\n",
       "      <td>[0.0, 1.0]</td>\n",
       "      <td>0.000135</td>\n",
       "      <td>99.99</td>\n",
       "      <td>0</td>\n",
       "      <td>0.0</td>\n",
       "      <td>None</td>\n",
       "    </tr>\n",
       "    <tr>\n",
       "      <th>50</th>\n",
       "      <td>payment_type_other</td>\n",
       "      <td>float64</td>\n",
       "      <td>2</td>\n",
       "      <td>[0.0, 1.0]</td>\n",
       "      <td>0.000135</td>\n",
       "      <td>99.99</td>\n",
       "      <td>0</td>\n",
       "      <td>0.0</td>\n",
       "      <td>None</td>\n",
       "    </tr>\n",
       "    <tr>\n",
       "      <th>51</th>\n",
       "      <td>payment_type_perbucket</td>\n",
       "      <td>float64</td>\n",
       "      <td>2</td>\n",
       "      <td>[0.0, 1.0]</td>\n",
       "      <td>0.000135</td>\n",
       "      <td>99.99</td>\n",
       "      <td>0</td>\n",
       "      <td>0.0</td>\n",
       "      <td>None</td>\n",
       "    </tr>\n",
       "    <tr>\n",
       "      <th>52</th>\n",
       "      <td>payment_type_unknown</td>\n",
       "      <td>float64</td>\n",
       "      <td>2</td>\n",
       "      <td>[0.0, 1.0]</td>\n",
       "      <td>0.000135</td>\n",
       "      <td>99.99</td>\n",
       "      <td>0</td>\n",
       "      <td>0.0</td>\n",
       "      <td>None</td>\n",
       "    </tr>\n",
       "    <tr>\n",
       "      <th>53</th>\n",
       "      <td>water_quality_fluoride</td>\n",
       "      <td>float64</td>\n",
       "      <td>2</td>\n",
       "      <td>[0.0, 1.0]</td>\n",
       "      <td>0.000135</td>\n",
       "      <td>99.99</td>\n",
       "      <td>0</td>\n",
       "      <td>0.0</td>\n",
       "      <td>None</td>\n",
       "    </tr>\n",
       "    <tr>\n",
       "      <th>54</th>\n",
       "      <td>water_quality_fluorideabandoned</td>\n",
       "      <td>float64</td>\n",
       "      <td>2</td>\n",
       "      <td>[0.0, 1.0]</td>\n",
       "      <td>0.000135</td>\n",
       "      <td>99.99</td>\n",
       "      <td>0</td>\n",
       "      <td>0.0</td>\n",
       "      <td>None</td>\n",
       "    </tr>\n",
       "    <tr>\n",
       "      <th>55</th>\n",
       "      <td>water_quality_milky</td>\n",
       "      <td>float64</td>\n",
       "      <td>2</td>\n",
       "      <td>[0.0, 1.0]</td>\n",
       "      <td>0.000135</td>\n",
       "      <td>99.99</td>\n",
       "      <td>0</td>\n",
       "      <td>0.0</td>\n",
       "      <td>None</td>\n",
       "    </tr>\n",
       "    <tr>\n",
       "      <th>56</th>\n",
       "      <td>water_quality_salty</td>\n",
       "      <td>float64</td>\n",
       "      <td>2</td>\n",
       "      <td>[0.0, 1.0]</td>\n",
       "      <td>0.000135</td>\n",
       "      <td>99.99</td>\n",
       "      <td>0</td>\n",
       "      <td>0.0</td>\n",
       "      <td>None</td>\n",
       "    </tr>\n",
       "    <tr>\n",
       "      <th>57</th>\n",
       "      <td>water_quality_saltyabandoned</td>\n",
       "      <td>float64</td>\n",
       "      <td>2</td>\n",
       "      <td>[0.0, 1.0]</td>\n",
       "      <td>0.000135</td>\n",
       "      <td>99.99</td>\n",
       "      <td>0</td>\n",
       "      <td>0.0</td>\n",
       "      <td>None</td>\n",
       "    </tr>\n",
       "    <tr>\n",
       "      <th>58</th>\n",
       "      <td>water_quality_soft</td>\n",
       "      <td>float64</td>\n",
       "      <td>2</td>\n",
       "      <td>[1.0, 0.0]</td>\n",
       "      <td>0.000135</td>\n",
       "      <td>99.99</td>\n",
       "      <td>0</td>\n",
       "      <td>0.0</td>\n",
       "      <td>None</td>\n",
       "    </tr>\n",
       "    <tr>\n",
       "      <th>59</th>\n",
       "      <td>water_quality_unknown</td>\n",
       "      <td>float64</td>\n",
       "      <td>2</td>\n",
       "      <td>[0.0, 1.0]</td>\n",
       "      <td>0.000135</td>\n",
       "      <td>99.99</td>\n",
       "      <td>0</td>\n",
       "      <td>0.0</td>\n",
       "      <td>None</td>\n",
       "    </tr>\n",
       "    <tr>\n",
       "      <th>60</th>\n",
       "      <td>quantity_enough</td>\n",
       "      <td>float64</td>\n",
       "      <td>2</td>\n",
       "      <td>[0.0, 1.0]</td>\n",
       "      <td>0.000135</td>\n",
       "      <td>99.99</td>\n",
       "      <td>0</td>\n",
       "      <td>0.0</td>\n",
       "      <td>None</td>\n",
       "    </tr>\n",
       "    <tr>\n",
       "      <th>61</th>\n",
       "      <td>quantity_insufficient</td>\n",
       "      <td>float64</td>\n",
       "      <td>2</td>\n",
       "      <td>[0.0, 1.0]</td>\n",
       "      <td>0.000135</td>\n",
       "      <td>99.99</td>\n",
       "      <td>0</td>\n",
       "      <td>0.0</td>\n",
       "      <td>None</td>\n",
       "    </tr>\n",
       "    <tr>\n",
       "      <th>62</th>\n",
       "      <td>quantity_seasonal</td>\n",
       "      <td>float64</td>\n",
       "      <td>2</td>\n",
       "      <td>[1.0, 0.0]</td>\n",
       "      <td>0.000135</td>\n",
       "      <td>99.99</td>\n",
       "      <td>0</td>\n",
       "      <td>0.0</td>\n",
       "      <td>None</td>\n",
       "    </tr>\n",
       "    <tr>\n",
       "      <th>63</th>\n",
       "      <td>quantity_unknown</td>\n",
       "      <td>float64</td>\n",
       "      <td>2</td>\n",
       "      <td>[0.0, 1.0]</td>\n",
       "      <td>0.000135</td>\n",
       "      <td>99.99</td>\n",
       "      <td>0</td>\n",
       "      <td>0.0</td>\n",
       "      <td>None</td>\n",
       "    </tr>\n",
       "    <tr>\n",
       "      <th>64</th>\n",
       "      <td>source_handdtw</td>\n",
       "      <td>float64</td>\n",
       "      <td>2</td>\n",
       "      <td>[0.0, 1.0]</td>\n",
       "      <td>0.000135</td>\n",
       "      <td>99.99</td>\n",
       "      <td>0</td>\n",
       "      <td>0.0</td>\n",
       "      <td>None</td>\n",
       "    </tr>\n",
       "    <tr>\n",
       "      <th>65</th>\n",
       "      <td>source_lake</td>\n",
       "      <td>float64</td>\n",
       "      <td>2</td>\n",
       "      <td>[0.0, 1.0]</td>\n",
       "      <td>0.000135</td>\n",
       "      <td>99.99</td>\n",
       "      <td>0</td>\n",
       "      <td>0.0</td>\n",
       "      <td>None</td>\n",
       "    </tr>\n",
       "    <tr>\n",
       "      <th>66</th>\n",
       "      <td>source_machinedbh</td>\n",
       "      <td>float64</td>\n",
       "      <td>2</td>\n",
       "      <td>[0.0, 1.0]</td>\n",
       "      <td>0.000135</td>\n",
       "      <td>99.99</td>\n",
       "      <td>0</td>\n",
       "      <td>0.0</td>\n",
       "      <td>None</td>\n",
       "    </tr>\n",
       "    <tr>\n",
       "      <th>67</th>\n",
       "      <td>source_other</td>\n",
       "      <td>float64</td>\n",
       "      <td>2</td>\n",
       "      <td>[0.0, 1.0]</td>\n",
       "      <td>0.000135</td>\n",
       "      <td>99.99</td>\n",
       "      <td>0</td>\n",
       "      <td>0.0</td>\n",
       "      <td>None</td>\n",
       "    </tr>\n",
       "    <tr>\n",
       "      <th>68</th>\n",
       "      <td>source_rainwaterharvesting</td>\n",
       "      <td>float64</td>\n",
       "      <td>2</td>\n",
       "      <td>[1.0, 0.0]</td>\n",
       "      <td>0.000135</td>\n",
       "      <td>99.99</td>\n",
       "      <td>0</td>\n",
       "      <td>0.0</td>\n",
       "      <td>None</td>\n",
       "    </tr>\n",
       "    <tr>\n",
       "      <th>69</th>\n",
       "      <td>source_river</td>\n",
       "      <td>float64</td>\n",
       "      <td>2</td>\n",
       "      <td>[0.0, 1.0]</td>\n",
       "      <td>0.000135</td>\n",
       "      <td>99.99</td>\n",
       "      <td>0</td>\n",
       "      <td>0.0</td>\n",
       "      <td>None</td>\n",
       "    </tr>\n",
       "    <tr>\n",
       "      <th>70</th>\n",
       "      <td>source_shallowwell</td>\n",
       "      <td>float64</td>\n",
       "      <td>2</td>\n",
       "      <td>[0.0, 1.0]</td>\n",
       "      <td>0.000135</td>\n",
       "      <td>99.99</td>\n",
       "      <td>0</td>\n",
       "      <td>0.0</td>\n",
       "      <td>None</td>\n",
       "    </tr>\n",
       "    <tr>\n",
       "      <th>71</th>\n",
       "      <td>source_spring</td>\n",
       "      <td>float64</td>\n",
       "      <td>2</td>\n",
       "      <td>[0.0, 1.0]</td>\n",
       "      <td>0.000135</td>\n",
       "      <td>99.99</td>\n",
       "      <td>0</td>\n",
       "      <td>0.0</td>\n",
       "      <td>None</td>\n",
       "    </tr>\n",
       "    <tr>\n",
       "      <th>72</th>\n",
       "      <td>source_unknown</td>\n",
       "      <td>float64</td>\n",
       "      <td>2</td>\n",
       "      <td>[0.0, 1.0]</td>\n",
       "      <td>0.000135</td>\n",
       "      <td>99.99</td>\n",
       "      <td>0</td>\n",
       "      <td>0.0</td>\n",
       "      <td>None</td>\n",
       "    </tr>\n",
       "    <tr>\n",
       "      <th>73</th>\n",
       "      <td>waterpoint_type_target_encoded</td>\n",
       "      <td>float64</td>\n",
       "      <td>7</td>\n",
       "      <td>[1.6922810060711189, 0.6776513818849927, 0.708...</td>\n",
       "      <td>0.000471</td>\n",
       "      <td>99.95</td>\n",
       "      <td>0</td>\n",
       "      <td>0.0</td>\n",
       "      <td>None</td>\n",
       "    </tr>\n",
       "  </tbody>\n",
       "</table>\n",
       "</div>"
      ],
      "text/plain": [
       "<IPython.core.display.HTML object>"
      ]
     },
     "metadata": {},
     "output_type": "display_data"
    }
   ],
   "source": [
    "scjpnutils.analyze_values(data_unlabeled_preprocessed, 'data_unlabeled AFTER preprocessing');"
   ]
  },
  {
   "cell_type": "code",
   "execution_count": 36,
   "metadata": {},
   "outputs": [],
   "source": [
    "data_unlabeled = data_unlabeled_preprocessed\n",
    "null_unlabeled = data_unlabeled.isnull().values.any()"
   ]
  },
  {
   "cell_type": "markdown",
   "metadata": {},
   "source": [
    "<p><br>\n",
    "<h2>Build Models (Run Trials)</h2>\n",
    "\n",
    "<h3>General functions for building Classifiers and running trials</h3>"
   ]
  },
  {
   "cell_type": "code",
   "execution_count": 37,
   "metadata": {},
   "outputs": [],
   "source": [
    "# utility function to render HTML and optionally log (append) it to file\n",
    "def render_HTML(the_html, fname=None):\n",
    "    display(HTML(the_html))\n",
    "    if fname is not None:\n",
    "        fm.append_text_file(BeautifulSoup(the_html).text + '\\n', fname)"
   ]
  },
  {
   "cell_type": "code",
   "execution_count": 38,
   "metadata": {},
   "outputs": [],
   "source": [
    "def get_trials_log_fname(clf):\n",
    "    return f\"{MODEL_RESULTS_DIR}{clf.__class__.__name__}-{digest}-trials.log\" if LOG_MODEL_TRIALS else None"
   ]
  },
  {
   "cell_type": "code",
   "execution_count": 39,
   "metadata": {},
   "outputs": [],
   "source": [
    "def gs_find_best_params(clf, param_grid):\n",
    "    render_HTML(f\"<br><br>param_grid for {clf.__class__.__name__} GridSearch:<br><pre>{param_grid}</pre>\", fname=get_trials_log_fname(clf))\n",
    "    grid_clf = GridSearchCV(\n",
    "        clf, \n",
    "        param_grid, \n",
    "        cv=K, \n",
    "        n_jobs=-1\n",
    "        , verbose=20\n",
    "    )\n",
    "    # with joblib.parallel_backend('dask'):\n",
    "    #     %time _ = grid_clf.fit(data_train, y_train)\n",
    "    %time _ = grid_clf.fit(data_train, y_train)\n",
    "    return grid_clf.best_params_"
   ]
  },
  {
   "cell_type": "code",
   "execution_count": 40,
   "metadata": {},
   "outputs": [],
   "source": [
    "def clf_fit(clf, data_train, y_train):\n",
    "    # with joblib.parallel_backend('dask'):\n",
    "    #     %time clf.fit(data_train, y_train)\n",
    "    %time clf.fit(data_train, y_train)\n",
    "    return clf"
   ]
  },
  {
   "cell_type": "code",
   "execution_count": 41,
   "metadata": {},
   "outputs": [],
   "source": [
    "def summarize_preds(clf, X, y, preds, dataset_name, classes):\n",
    "    render_HTML(\"<p><br>\", fname=get_trials_log_fname(clf))\n",
    "    _accuracy = accuracy_score(y, preds)\n",
    "    render_HTML(f\"{dataset_name} Accuracy: {round(_accuracy*100,4)}\", fname=get_trials_log_fname(clf))\n",
    "    render_HTML(\"<p><br>\", fname=get_trials_log_fname(clf))\n",
    "    render_HTML(f\"<pre>{classification_report(y, preds, target_names=classes)}</pre>\", fname=get_trials_log_fname(clf))\n",
    "    return _accuracy"
   ]
  },
  {
   "cell_type": "code",
   "execution_count": 42,
   "metadata": {},
   "outputs": [],
   "source": [
    "def get_feat_importances(clf):\n",
    "    if hasattr(clf, 'feature_importances_'):\n",
    "        feat_importances = {}\n",
    "        for i, feat in enumerate(list(data_train.columns)):\n",
    "            feat_importances[feat] = clf.feature_importances_[i]\n",
    "        return sorted(list(feat_importances.items()), key=lambda item: item[1], reverse=True)\n",
    "    else:\n",
    "        return None"
   ]
  },
  {
   "cell_type": "code",
   "execution_count": 43,
   "metadata": {},
   "outputs": [],
   "source": [
    "def clf_run_trial(clf, params_to_try, best_parameters_so_far, run_trials_gridsearch=False):\n",
    "    if run_trials_gridsearch:\n",
    "        for param_name, param_value in best_parameters_so_far.items():\n",
    "            params_to_try.update({param_name: [param_value]})\n",
    "        best_parameters = gs_find_best_params(clf, params_to_try)\n",
    "    else:\n",
    "        best_parameters = params_to_try\n",
    "    best_parameters_so_far.update(best_parameters)\n",
    "\n",
    "    render_HTML(\"<p><br>\", fname=get_trials_log_fname(clf))\n",
    "    render_HTML(f\"Grid Search {'(previously) ' if not run_trials_gridsearch else ''}found the following optimal parameters: \", fname=get_trials_log_fname(clf))\n",
    "    render_HTML(f\"<pre>{pprint.pformat(best_parameters_so_far, indent=4)}</pre>\", fname=get_trials_log_fname(clf))\n",
    "\n",
    "    _y_train = y_train_encoded.status_group.ravel()\n",
    "    _y_test = y_test_encoded.status_group.ravel()\n",
    "    \n",
    "    render_HTML(\"<p><br>\", fname=get_trials_log_fname(clf))\n",
    "    render_HTML(\"Fitting classifier...\", fname=get_trials_log_fname(clf))\n",
    "    clf = clf.set_params(**best_parameters_so_far)\n",
    "    clf = clf_fit(clf, data_train, _y_train)\n",
    "    s_all_done = \"\\tALL DONE!\"\n",
    "    render_HTML(f\"<pre>{s_all_done}</pre>\", fname=get_trials_log_fname(clf))\n",
    "\n",
    "    _class_name = clf.__class__.__name__\n",
    "    model_results['modeling_results'][_class_name] = {}\n",
    "\n",
    "    render_HTML(\"<p><br>\", fname=get_trials_log_fname(clf))\n",
    "    render_HTML(\"Predicting labels on training data...\", fname=get_trials_log_fname(clf))\n",
    "    pred_train = clf.predict(data_train)\n",
    "    render_HTML(f\"<pre>{s_all_done}</pre>\", fname=get_trials_log_fname(clf))\n",
    "    _accuracy_train = summarize_preds(clf, data_train, _y_train, pred_train, 'Training', classes)\n",
    "    model_results['modeling_results'][_class_name]['accuracy'] = {}\n",
    "    model_results['modeling_results'][_class_name]['accuracy']['train'] = _accuracy_train\n",
    "\n",
    "    if not run_trials_gridsearch:\n",
    "        render_HTML(\"<p><br>\")\n",
    "        render_HTML(\"Computing cross-val score on training data...\")\n",
    "        model_results['modeling_results'][_class_name]['cv_score'] = {}\n",
    "        cv_score_train = cross_val_score(clf, data_train, _y_train, cv=cross_val_score_K)\n",
    "        mean_cv_score_train = np.mean(cv_score_train)\n",
    "        model_results['modeling_results'][_class_name]['cv_score']['train'] = mean_cv_score_train\n",
    "        render_HTML(f\"<pre>{s_all_done} scores: {cv_score_train}</pre>\")\n",
    "        render_HTML(f\"cross_val_score: {mean_cv_score_train}\")\n",
    "\n",
    "    render_HTML(\"<p><br>\", fname=get_trials_log_fname(clf))\n",
    "    render_HTML(f\"Predicting labels on testing data...\", fname=get_trials_log_fname(clf))\n",
    "    pred_test = clf.predict(data_test)\n",
    "    render_HTML(f\"<pre>{s_all_done}</pre>\", fname=get_trials_log_fname(clf))\n",
    "    _accuracy_test = summarize_preds(clf, data_test, _y_test, pred_test, 'Testing', classes)\n",
    "    model_results['modeling_results'][_class_name]['accuracy']['test'] = _accuracy_test\n",
    "    model_results['modeling_results'][_class_name]['feature_importances'] = get_feat_importances(clf)\n",
    "    \n",
    "    if not run_trials_gridsearch:\n",
    "        render_HTML(\"<p><br>\")\n",
    "        render_HTML(f\"Computing cross-val score on testing data...\")\n",
    "        cv_score_test = cross_val_score(clf, data_test, _y_test, cv=cross_val_score_K)\n",
    "        mean_cv_score_test = np.mean(cv_score_test)\n",
    "        model_results['modeling_results'][_class_name]['cv_score']['test'] = mean_cv_score_test\n",
    "        render_HTML(f\"<pre>{s_all_done} scores: {cv_score_test}</pre>\")\n",
    "        render_HTML(f\"cross_val_score: {mean_cv_score_test}\")\n",
    "\n",
    "    if hasattr(clf, 'feature_importances_'):\n",
    "        render_HTML(\"<p><br>\", fname=get_trials_log_fname(clf))\n",
    "        render_HTML(\"Feature Importances:\", fname=get_trials_log_fname(clf))\n",
    "        render_HTML(f\"<pre>{pprint.pformat(model_results['modeling_results'][_class_name]['feature_importances'], indent=4)}</pre><p><br><br>\", fname=get_trials_log_fname(clf))\n",
    "\n",
    "    return clf, best_parameters_so_far, model_results"
   ]
  },
  {
   "cell_type": "code",
   "execution_count": 44,
   "metadata": {},
   "outputs": [],
   "source": [
    "def clf_build_final_model(clf, params):\n",
    "    render_HTML(\"Fitting classifier {} to ALL LABALED data...\")\n",
    "    clf = clf.set_params(**best_parameters_so_far)\n",
    "    clf = clf_fit(clf, data_ALL_labeled_with_target.drop('status_group', axis=1), data_ALL_labeled_with_target[['status_group']])\n",
    "    s_all_done = \"\\tALL DONE!\"\n",
    "    render_HTML(f\"<pre>{s_all_done}</pre>\")\n",
    "\n",
    "    render_HTML(\"<p><br>\", fname=get_trials_log_fname(clf))\n",
    "    render_HTML(\"Predicting labels of UNLABELED data...\", fname=get_trials_log_fname(clf))\n",
    "    pred_unlabeled = clf.predict(data_unlabeled)\n",
    "    render_HTML(f\"<pre>{s_all_done}</pre>\", fname=get_trials_log_fname(clf))\n",
    "\n",
    "    return "
   ]
  },
  {
   "cell_type": "markdown",
   "metadata": {},
   "source": [
    "<p><br>\n",
    "<h2>Initialize Dask-Client (to Dask backend for parallelization) <i>(DISABLED for now)</i></h2>"
   ]
  },
  {
   "cell_type": "code",
   "execution_count": 45,
   "metadata": {},
   "outputs": [],
   "source": [
    "if models_config['dask']['use']:\n",
    "    if models_config['dask']['is_remote']:\n",
    "        # for Kubernetes dask scheduler/worker cluster in GCP - but this costs money to run the cluster AND requires a lot more work for data parallelization!\n",
    "        dask_client = Client(f\"tcp://{models_config['dask']['remote']['scheduler_address']}:8786\")\n",
    "    else:\n",
    "        # local\n",
    "        dask_client = Client( #spawns a local cluster\n",
    "            n_workers=models_config['dask']['local']['n_workers'], \n",
    "            threads_per_worker=models_config['dask']['local']['n_jobs'], \n",
    "            memory_limit=models_config['dask']['local']['memory_limit'] # memory_limit is per worker\n",
    "        )\n",
    "\n",
    "    dask_client"
   ]
  },
  {
   "cell_type": "markdown",
   "metadata": {},
   "source": [
    "<p><br>\n",
    "<h3>Decision Tree Classifier</h3>\n",
    "<h4>Trials</h4>"
   ]
  },
  {
   "cell_type": "code",
   "execution_count": 46,
   "metadata": {
    "tags": []
   },
   "outputs": [
    {
     "data": {
      "text/html": [
       "models_config['DecisionTreeClassifier']['run']: False; data_ALL_labeled_with_target.isnull().values.any(): False; data_unlabeled.isnull().values.any(): False"
      ],
      "text/plain": [
       "<IPython.core.display.HTML object>"
      ]
     },
     "metadata": {},
     "output_type": "display_data"
    }
   ],
   "source": [
    "run_dtclf = models_config['DecisionTreeClassifier']['run'] and not null_labeled and not null_unlabeled\n",
    "render_HTML(f\"models_config['DecisionTreeClassifier']['run']: {models_config['DecisionTreeClassifier']['run']}; data_ALL_labeled_with_target.isnull().values.any(): {null_labeled}; data_unlabeled.isnull().values.any(): {null_unlabeled}\")\n",
    "\n",
    "if run_dtclf:\n",
    "    trials = models_config['DecisionTreeClassifier']['trials']\n",
    "\n",
    "    display(HTML(f\"models_config['DecisionTreeClassifier']['trials']['run']: {trials['run']}\"))\n",
    "    if trials['run']:\n",
    "        trials_list = trials['array']\n",
    "\n",
    "        best_parameters = {}\n",
    "        for i, trial in enumerate(trials_list):\n",
    "            display(HTML(f\"<p><br>trial[{i}]['gridsearch']['run']: {trial['gridsearch']['run']}<br>\"))\n",
    "            params = trial['gridsearch']['last_best'] if not trial['gridsearch']['run'] else trial['gridsearch']['param_grid']\n",
    "            rfclf, best_parameters, model_results = clf_run_trial(DecisionTreeClassifier(), params, best_parameters, run_trials_gridsearch=trial['gridsearch']['run']) # note that best_parameters will be set to those used in the last trial\n",
    "\n",
    "    else:\n",
    "        best_parameters = models_config['DecisionTreeClassifier']['params']"
   ]
  },
  {
   "cell_type": "markdown",
   "metadata": {},
   "source": [
    "<p><br>\n",
    "<h4>Build Validation Final Model with best params</h4>"
   ]
  },
  {
   "cell_type": "code",
   "execution_count": 47,
   "metadata": {
    "tags": []
   },
   "outputs": [],
   "source": [
    "if run_dtclf:\n",
    "    best_parameters.update({'random_state': SEED})\n",
    "    dtclf, _, model_results = clf_run_trial(DecisionTreeClassifier(), best_parameters, best_parameters)\n",
    "    \n",
    "    pred_unlabeled = dtclf.predict(data_unlabeled)\n",
    "    pred_unlabeled"
   ]
  },
  {
   "cell_type": "markdown",
   "metadata": {},
   "source": [
    "<h4>Supplemental: Wrap within `BaggingClassifier`</h4>"
   ]
  },
  {
   "cell_type": "code",
   "execution_count": 48,
   "metadata": {},
   "outputs": [],
   "source": [
    "if run_dtclf:\n",
    "    bagging_dtclf, _, model_results = clf_run_trial(BaggingClassifier(base_estimator=dtclf, n_estimators=500, random_state=SEED), {}, {})\n",
    "    pred_unlabeled = bagging_dtclf.predict(data_unlabeled)"
   ]
  },
  {
   "cell_type": "markdown",
   "metadata": {},
   "source": [
    "<p><br><br>\n",
    "<h4>Build Final Model with ALL Labeled Data (Test + Validation)</h4>"
   ]
  },
  {
   "cell_type": "code",
   "execution_count": 49,
   "metadata": {},
   "outputs": [],
   "source": [
    "if run_dtclf:\n",
    "    dtclf = DecisionTreeClassifier()\n",
    "    del best_parameters['random_state']\n",
    "    dtclf.set_params(**best_parameters)\n",
    "    dtclf.fit(data_ALL_labeled, labels_encoded.status_group)"
   ]
  },
  {
   "cell_type": "markdown",
   "metadata": {},
   "source": [
    "<p><br><br>\n",
    "<h4>Make Predictions with Final Model on Unlabeled Predictors</h4>"
   ]
  },
  {
   "cell_type": "code",
   "execution_count": 50,
   "metadata": {
    "tags": []
   },
   "outputs": [],
   "source": [
    "if run_dtclf:\n",
    "    pred_unlabeled = dtclf.predict(data_unlabeled)\n",
    "    df_pred_unlabeled = pd.concat([data_unlabeled.reset_index()[['id']], pd.DataFrame(pred_unlabeled, columns=['status_group'])], axis=1).set_index('id')\n",
    "    df_pred_unlabeled.info()\n",
    "    fname__preds_unlabeled = f\"{MODEL_RESULTS_DIR}DecisionTreeClassifier-preds-{digest}.csv\"\n",
    "    df_pred_unlabeled.to_csv(fname__preds_unlabeled, sep=',')\n",
    "    print(f\"updated {fname__preds_unlabeled}\")"
   ]
  },
  {
   "cell_type": "markdown",
   "metadata": {},
   "source": [
    "<p><br>\n",
    "<h3>Random Forest Classifier</h3>\n",
    "<h4>Trials</h4>"
   ]
  },
  {
   "cell_type": "code",
   "execution_count": 51,
   "metadata": {},
   "outputs": [
    {
     "data": {
      "text/html": [
       "models_config['RandomForestClassifier']['run']: True; data_ALL_labeled_with_target.isnull().values.any(): False; data_unlabeled.isnull().values.any(): False"
      ],
      "text/plain": [
       "<IPython.core.display.HTML object>"
      ]
     },
     "metadata": {},
     "output_type": "display_data"
    },
    {
     "data": {
      "text/html": [
       "models_config['RandomForestClassifier']['trials']['run']: False"
      ],
      "text/plain": [
       "<IPython.core.display.HTML object>"
      ]
     },
     "metadata": {},
     "output_type": "display_data"
    }
   ],
   "source": [
    "run_rfclf = models_config['RandomForestClassifier']['run'] and not null_labeled and not null_unlabeled\n",
    "render_HTML(f\"models_config['RandomForestClassifier']['run']: {models_config['RandomForestClassifier']['run']}; data_ALL_labeled_with_target.isnull().values.any(): {null_labeled}; data_unlabeled.isnull().values.any(): {null_unlabeled}\")\n",
    "\n",
    "if run_rfclf:\n",
    "    trials = models_config['RandomForestClassifier']['trials']\n",
    "\n",
    "    render_HTML(f\"models_config['RandomForestClassifier']['trials']['run']: {trials['run']}\")\n",
    "    if trials['run']:\n",
    "        trials_list = trials['array']\n",
    "\n",
    "        best_parameters = {}\n",
    "        for i, trial in enumerate(trials_list):\n",
    "            render_HTML(f\"<p><br>trial[{i}]['gridsearch']['run']: {trial['gridsearch']['run']}<br>\")\n",
    "            params = trial['gridsearch']['last_best'] if not trial['gridsearch']['run'] else trial['gridsearch']['param_grid']\n",
    "            if trial['gridsearch']['run']:\n",
    "                params.update({'n_jobs': [-1]})\n",
    "            else:\n",
    "                params.update({'n_jobs':-1})\n",
    "            rfclf, best_parameters, model_results = clf_run_trial(RandomForestClassifier(), params, best_parameters, run_trials_gridsearch=trial['gridsearch']['run']) # note that best_parameters will be set to those used in the last trial\n",
    "\n",
    "    else:\n",
    "        best_parameters = models_config['RandomForestClassifier']['params']"
   ]
  },
  {
   "cell_type": "markdown",
   "metadata": {},
   "source": [
    "<p><br>\n",
    "<h4>Build Final Vaildation Model with best params</h4>"
   ]
  },
  {
   "cell_type": "code",
   "execution_count": 52,
   "metadata": {
    "tags": []
   },
   "outputs": [
    {
     "data": {
      "text/html": [
       "<p><br>"
      ],
      "text/plain": [
       "<IPython.core.display.HTML object>"
      ]
     },
     "metadata": {},
     "output_type": "display_data"
    },
    {
     "data": {
      "text/html": [
       "Grid Search (previously) found the following optimal parameters: "
      ],
      "text/plain": [
       "<IPython.core.display.HTML object>"
      ]
     },
     "metadata": {},
     "output_type": "display_data"
    },
    {
     "data": {
      "text/html": [
       "<pre>{   'bootstrap': True,\n",
       "    'criterion': 'gini',\n",
       "    'max_depth': 75,\n",
       "    'max_features': 'auto',\n",
       "    'n_estimators': 1000,\n",
       "    'n_jobs': -1,\n",
       "    'random_state': 42,\n",
       "    'verbose': 1}</pre>"
      ],
      "text/plain": [
       "<IPython.core.display.HTML object>"
      ]
     },
     "metadata": {},
     "output_type": "display_data"
    },
    {
     "data": {
      "text/html": [
       "<p><br>"
      ],
      "text/plain": [
       "<IPython.core.display.HTML object>"
      ]
     },
     "metadata": {},
     "output_type": "display_data"
    },
    {
     "data": {
      "text/html": [
       "Fitting classifier..."
      ],
      "text/plain": [
       "<IPython.core.display.HTML object>"
      ]
     },
     "metadata": {},
     "output_type": "display_data"
    },
    {
     "name": "stderr",
     "output_type": "stream",
     "text": [
      "[Parallel(n_jobs=-1)]: Using backend ThreadingBackend with 8 concurrent workers.\n",
      "[Parallel(n_jobs=-1)]: Done  34 tasks      | elapsed:    1.2s\n",
      "[Parallel(n_jobs=-1)]: Done 184 tasks      | elapsed:    5.8s\n",
      "[Parallel(n_jobs=-1)]: Done 434 tasks      | elapsed:   13.9s\n",
      "[Parallel(n_jobs=-1)]: Done 784 tasks      | elapsed:   24.9s\n"
     ]
    },
    {
     "name": "stdout",
     "output_type": "stream",
     "text": [
      "CPU times: user 3min 11s, sys: 4 s, total: 3min 15s\n",
      "Wall time: 32.4 s\n"
     ]
    },
    {
     "name": "stderr",
     "output_type": "stream",
     "text": [
      "[Parallel(n_jobs=-1)]: Done 1000 out of 1000 | elapsed:   31.9s finished\n"
     ]
    },
    {
     "data": {
      "text/html": [
       "<pre>\tALL DONE!</pre>"
      ],
      "text/plain": [
       "<IPython.core.display.HTML object>"
      ]
     },
     "metadata": {},
     "output_type": "display_data"
    },
    {
     "data": {
      "text/html": [
       "<p><br>"
      ],
      "text/plain": [
       "<IPython.core.display.HTML object>"
      ]
     },
     "metadata": {},
     "output_type": "display_data"
    },
    {
     "data": {
      "text/html": [
       "Predicting labels on training data..."
      ],
      "text/plain": [
       "<IPython.core.display.HTML object>"
      ]
     },
     "metadata": {},
     "output_type": "display_data"
    },
    {
     "name": "stderr",
     "output_type": "stream",
     "text": [
      "[Parallel(n_jobs=8)]: Using backend ThreadingBackend with 8 concurrent workers.\n",
      "[Parallel(n_jobs=8)]: Done  34 tasks      | elapsed:    0.2s\n",
      "[Parallel(n_jobs=8)]: Done 184 tasks      | elapsed:    0.9s\n",
      "[Parallel(n_jobs=8)]: Done 434 tasks      | elapsed:    2.2s\n",
      "[Parallel(n_jobs=8)]: Done 784 tasks      | elapsed:    3.9s\n",
      "[Parallel(n_jobs=8)]: Done 1000 out of 1000 | elapsed:    5.0s finished\n"
     ]
    },
    {
     "data": {
      "text/html": [
       "<pre>\tALL DONE!</pre>"
      ],
      "text/plain": [
       "<IPython.core.display.HTML object>"
      ]
     },
     "metadata": {},
     "output_type": "display_data"
    },
    {
     "data": {
      "text/html": [
       "<p><br>"
      ],
      "text/plain": [
       "<IPython.core.display.HTML object>"
      ]
     },
     "metadata": {},
     "output_type": "display_data"
    },
    {
     "data": {
      "text/html": [
       "Training Accuracy: 99.6951"
      ],
      "text/plain": [
       "<IPython.core.display.HTML object>"
      ]
     },
     "metadata": {},
     "output_type": "display_data"
    },
    {
     "data": {
      "text/html": [
       "<p><br>"
      ],
      "text/plain": [
       "<IPython.core.display.HTML object>"
      ]
     },
     "metadata": {},
     "output_type": "display_data"
    },
    {
     "data": {
      "text/html": [
       "<pre>                         precision    recall  f1-score   support\n",
       "\n",
       "             functional       1.00      1.00      1.00     28991\n",
       "functional needs repair       0.99      0.98      0.98      3885\n",
       "         non functional       1.00      1.00      1.00     20584\n",
       "\n",
       "               accuracy                           1.00     53460\n",
       "              macro avg       0.99      0.99      0.99     53460\n",
       "           weighted avg       1.00      1.00      1.00     53460\n",
       "</pre>"
      ],
      "text/plain": [
       "<IPython.core.display.HTML object>"
      ]
     },
     "metadata": {},
     "output_type": "display_data"
    },
    {
     "data": {
      "text/html": [
       "<p><br>"
      ],
      "text/plain": [
       "<IPython.core.display.HTML object>"
      ]
     },
     "metadata": {},
     "output_type": "display_data"
    },
    {
     "data": {
      "text/html": [
       "Computing cross-val score on training data..."
      ],
      "text/plain": [
       "<IPython.core.display.HTML object>"
      ]
     },
     "metadata": {},
     "output_type": "display_data"
    },
    {
     "name": "stderr",
     "output_type": "stream",
     "text": [
      "[Parallel(n_jobs=-1)]: Using backend LokyBackend with 8 concurrent workers.\n",
      "[Parallel(n_jobs=-1)]: Done  34 tasks      | elapsed:    2.7s\n",
      "[Parallel(n_jobs=-1)]: Done 184 tasks      | elapsed:    7.3s\n",
      "[Parallel(n_jobs=-1)]: Done 434 tasks      | elapsed:   15.1s\n",
      "[Parallel(n_jobs=-1)]: Done 784 tasks      | elapsed:   26.0s\n",
      "[Parallel(n_jobs=-1)]: Done 1000 out of 1000 | elapsed:   32.7s finished\n",
      "[Parallel(n_jobs=8)]: Using backend ThreadingBackend with 8 concurrent workers.\n",
      "[Parallel(n_jobs=8)]: Done  34 tasks      | elapsed:    0.0s\n",
      "[Parallel(n_jobs=8)]: Done 184 tasks      | elapsed:    0.2s\n",
      "[Parallel(n_jobs=8)]: Done 434 tasks      | elapsed:    0.4s\n",
      "[Parallel(n_jobs=8)]: Done 784 tasks      | elapsed:    0.7s\n",
      "[Parallel(n_jobs=8)]: Done 1000 out of 1000 | elapsed:    0.9s finished\n",
      "[Parallel(n_jobs=-1)]: Using backend LokyBackend with 8 concurrent workers.\n",
      "[Parallel(n_jobs=-1)]: Done  52 tasks      | elapsed:    1.7s\n",
      "[Parallel(n_jobs=-1)]: Done 352 tasks      | elapsed:   10.2s\n",
      "[Parallel(n_jobs=-1)]: Done 852 tasks      | elapsed:   24.8s\n",
      "[Parallel(n_jobs=-1)]: Done 1000 out of 1000 | elapsed:   29.0s finished\n",
      "[Parallel(n_jobs=8)]: Using backend ThreadingBackend with 8 concurrent workers.\n",
      "[Parallel(n_jobs=8)]: Done  34 tasks      | elapsed:    0.0s\n",
      "[Parallel(n_jobs=8)]: Done 184 tasks      | elapsed:    0.2s\n",
      "[Parallel(n_jobs=8)]: Done 434 tasks      | elapsed:    0.4s\n",
      "[Parallel(n_jobs=8)]: Done 784 tasks      | elapsed:    0.8s\n",
      "[Parallel(n_jobs=8)]: Done 1000 out of 1000 | elapsed:    1.0s finished\n",
      "[Parallel(n_jobs=-1)]: Using backend LokyBackend with 8 concurrent workers.\n",
      "[Parallel(n_jobs=-1)]: Done  34 tasks      | elapsed:    1.2s\n",
      "[Parallel(n_jobs=-1)]: Done 184 tasks      | elapsed:    5.0s\n",
      "[Parallel(n_jobs=-1)]: Done 434 tasks      | elapsed:   12.0s\n",
      "[Parallel(n_jobs=-1)]: Done 784 tasks      | elapsed:   22.5s\n",
      "[Parallel(n_jobs=-1)]: Done 1000 out of 1000 | elapsed:   28.9s finished\n",
      "[Parallel(n_jobs=8)]: Using backend ThreadingBackend with 8 concurrent workers.\n",
      "[Parallel(n_jobs=8)]: Done  34 tasks      | elapsed:    0.0s\n",
      "[Parallel(n_jobs=8)]: Done 184 tasks      | elapsed:    0.2s\n",
      "[Parallel(n_jobs=8)]: Done 434 tasks      | elapsed:    0.4s\n",
      "[Parallel(n_jobs=8)]: Done 784 tasks      | elapsed:    0.8s\n",
      "[Parallel(n_jobs=8)]: Done 1000 out of 1000 | elapsed:    1.1s finished\n",
      "[Parallel(n_jobs=-1)]: Using backend LokyBackend with 8 concurrent workers.\n",
      "[Parallel(n_jobs=-1)]: Done  34 tasks      | elapsed:    1.2s\n",
      "[Parallel(n_jobs=-1)]: Done 184 tasks      | elapsed:    5.6s\n",
      "[Parallel(n_jobs=-1)]: Done 434 tasks      | elapsed:   13.2s\n",
      "[Parallel(n_jobs=-1)]: Done 784 tasks      | elapsed:   24.1s\n",
      "[Parallel(n_jobs=-1)]: Done 1000 out of 1000 | elapsed:   30.5s finished\n",
      "[Parallel(n_jobs=8)]: Using backend ThreadingBackend with 8 concurrent workers.\n",
      "[Parallel(n_jobs=8)]: Done  34 tasks      | elapsed:    0.0s\n",
      "[Parallel(n_jobs=8)]: Done 184 tasks      | elapsed:    0.2s\n",
      "[Parallel(n_jobs=8)]: Done 434 tasks      | elapsed:    0.4s\n",
      "[Parallel(n_jobs=8)]: Done 784 tasks      | elapsed:    0.8s\n",
      "[Parallel(n_jobs=8)]: Done 1000 out of 1000 | elapsed:    1.0s finished\n",
      "[Parallel(n_jobs=-1)]: Using backend LokyBackend with 8 concurrent workers.\n",
      "[Parallel(n_jobs=-1)]: Done  34 tasks      | elapsed:    1.2s\n",
      "[Parallel(n_jobs=-1)]: Done 184 tasks      | elapsed:    5.6s\n",
      "[Parallel(n_jobs=-1)]: Done 434 tasks      | elapsed:   12.8s\n",
      "[Parallel(n_jobs=-1)]: Done 784 tasks      | elapsed:   23.1s\n",
      "[Parallel(n_jobs=-1)]: Done 1000 out of 1000 | elapsed:   29.6s finished\n",
      "[Parallel(n_jobs=8)]: Using backend ThreadingBackend with 8 concurrent workers.\n",
      "[Parallel(n_jobs=8)]: Done  34 tasks      | elapsed:    0.0s\n",
      "[Parallel(n_jobs=8)]: Done 184 tasks      | elapsed:    0.2s\n",
      "[Parallel(n_jobs=8)]: Done 434 tasks      | elapsed:    0.5s\n",
      "[Parallel(n_jobs=8)]: Done 784 tasks      | elapsed:    0.8s\n",
      "[Parallel(n_jobs=8)]: Done 1000 out of 1000 | elapsed:    1.0s finished\n"
     ]
    },
    {
     "data": {
      "text/html": [
       "<pre>\tALL DONE! scores: [0.80714553 0.79863449 0.80359147 0.80246914 0.80003741]</pre>"
      ],
      "text/plain": [
       "<IPython.core.display.HTML object>"
      ]
     },
     "metadata": {},
     "output_type": "display_data"
    },
    {
     "data": {
      "text/html": [
       "cross_val_score: 0.8023756079311635"
      ],
      "text/plain": [
       "<IPython.core.display.HTML object>"
      ]
     },
     "metadata": {},
     "output_type": "display_data"
    },
    {
     "data": {
      "text/html": [
       "<p><br>"
      ],
      "text/plain": [
       "<IPython.core.display.HTML object>"
      ]
     },
     "metadata": {},
     "output_type": "display_data"
    },
    {
     "data": {
      "text/html": [
       "Predicting labels on testing data..."
      ],
      "text/plain": [
       "<IPython.core.display.HTML object>"
      ]
     },
     "metadata": {},
     "output_type": "display_data"
    },
    {
     "name": "stderr",
     "output_type": "stream",
     "text": [
      "[Parallel(n_jobs=8)]: Using backend ThreadingBackend with 8 concurrent workers.\n",
      "[Parallel(n_jobs=8)]: Done  34 tasks      | elapsed:    0.0s\n",
      "[Parallel(n_jobs=8)]: Done 184 tasks      | elapsed:    0.1s\n",
      "[Parallel(n_jobs=8)]: Done 434 tasks      | elapsed:    0.3s\n",
      "[Parallel(n_jobs=8)]: Done 784 tasks      | elapsed:    0.5s\n",
      "[Parallel(n_jobs=8)]: Done 1000 out of 1000 | elapsed:    0.7s finished\n"
     ]
    },
    {
     "data": {
      "text/html": [
       "<pre>\tALL DONE!</pre>"
      ],
      "text/plain": [
       "<IPython.core.display.HTML object>"
      ]
     },
     "metadata": {},
     "output_type": "display_data"
    },
    {
     "data": {
      "text/html": [
       "<p><br>"
      ],
      "text/plain": [
       "<IPython.core.display.HTML object>"
      ]
     },
     "metadata": {},
     "output_type": "display_data"
    },
    {
     "data": {
      "text/html": [
       "Testing Accuracy: 81.0101"
      ],
      "text/plain": [
       "<IPython.core.display.HTML object>"
      ]
     },
     "metadata": {},
     "output_type": "display_data"
    },
    {
     "data": {
      "text/html": [
       "<p><br>"
      ],
      "text/plain": [
       "<IPython.core.display.HTML object>"
      ]
     },
     "metadata": {},
     "output_type": "display_data"
    },
    {
     "data": {
      "text/html": [
       "<pre>                         precision    recall  f1-score   support\n",
       "\n",
       "             functional       0.83      0.87      0.85      3268\n",
       "functional needs repair       0.53      0.35      0.42       432\n",
       "         non functional       0.82      0.81      0.81      2240\n",
       "\n",
       "               accuracy                           0.81      5940\n",
       "              macro avg       0.73      0.68      0.69      5940\n",
       "           weighted avg       0.80      0.81      0.80      5940\n",
       "</pre>"
      ],
      "text/plain": [
       "<IPython.core.display.HTML object>"
      ]
     },
     "metadata": {},
     "output_type": "display_data"
    },
    {
     "data": {
      "text/html": [
       "<p><br>"
      ],
      "text/plain": [
       "<IPython.core.display.HTML object>"
      ]
     },
     "metadata": {},
     "output_type": "display_data"
    },
    {
     "data": {
      "text/html": [
       "Computing cross-val score on testing data..."
      ],
      "text/plain": [
       "<IPython.core.display.HTML object>"
      ]
     },
     "metadata": {},
     "output_type": "display_data"
    },
    {
     "name": "stderr",
     "output_type": "stream",
     "text": [
      "[Parallel(n_jobs=-1)]: Using backend LokyBackend with 8 concurrent workers.\n",
      "[Parallel(n_jobs=-1)]: Done  56 tasks      | elapsed:    0.2s\n",
      "[Parallel(n_jobs=-1)]: Done 960 tasks      | elapsed:    2.2s\n",
      "[Parallel(n_jobs=-1)]: Done 1000 out of 1000 | elapsed:    2.3s finished\n",
      "[Parallel(n_jobs=8)]: Using backend ThreadingBackend with 8 concurrent workers.\n",
      "[Parallel(n_jobs=8)]: Done  34 tasks      | elapsed:    0.0s\n",
      "[Parallel(n_jobs=8)]: Done 184 tasks      | elapsed:    0.1s\n",
      "[Parallel(n_jobs=8)]: Done 434 tasks      | elapsed:    0.1s\n",
      "[Parallel(n_jobs=8)]: Done 784 tasks      | elapsed:    0.2s\n",
      "[Parallel(n_jobs=8)]: Done 1000 out of 1000 | elapsed:    0.3s finished\n",
      "[Parallel(n_jobs=-1)]: Using backend LokyBackend with 8 concurrent workers.\n",
      "[Parallel(n_jobs=-1)]: Done  56 tasks      | elapsed:    0.2s\n",
      "[Parallel(n_jobs=-1)]: Done 960 tasks      | elapsed:    2.2s\n",
      "[Parallel(n_jobs=-1)]: Done 1000 out of 1000 | elapsed:    2.3s finished\n",
      "[Parallel(n_jobs=8)]: Using backend ThreadingBackend with 8 concurrent workers.\n",
      "[Parallel(n_jobs=8)]: Done  34 tasks      | elapsed:    0.0s\n",
      "[Parallel(n_jobs=8)]: Done 184 tasks      | elapsed:    0.1s\n",
      "[Parallel(n_jobs=8)]: Done 434 tasks      | elapsed:    0.1s\n",
      "[Parallel(n_jobs=8)]: Done 784 tasks      | elapsed:    0.2s\n",
      "[Parallel(n_jobs=8)]: Done 1000 out of 1000 | elapsed:    0.2s finished\n",
      "[Parallel(n_jobs=-1)]: Using backend LokyBackend with 8 concurrent workers.\n",
      "[Parallel(n_jobs=-1)]: Done  56 tasks      | elapsed:    0.2s\n",
      "[Parallel(n_jobs=-1)]: Done 976 tasks      | elapsed:    2.4s\n",
      "[Parallel(n_jobs=-1)]: Done 1000 out of 1000 | elapsed:    2.5s finished\n",
      "[Parallel(n_jobs=8)]: Using backend ThreadingBackend with 8 concurrent workers.\n",
      "[Parallel(n_jobs=8)]: Done  34 tasks      | elapsed:    0.0s\n",
      "[Parallel(n_jobs=8)]: Done 184 tasks      | elapsed:    0.0s\n",
      "[Parallel(n_jobs=8)]: Done 434 tasks      | elapsed:    0.1s\n",
      "[Parallel(n_jobs=8)]: Done 784 tasks      | elapsed:    0.2s\n",
      "[Parallel(n_jobs=8)]: Done 1000 out of 1000 | elapsed:    0.2s finished\n",
      "[Parallel(n_jobs=-1)]: Using backend LokyBackend with 8 concurrent workers.\n",
      "[Parallel(n_jobs=-1)]: Done  56 tasks      | elapsed:    0.2s\n",
      "[Parallel(n_jobs=-1)]: Done 960 tasks      | elapsed:    2.2s\n",
      "[Parallel(n_jobs=-1)]: Done 1000 out of 1000 | elapsed:    2.3s finished\n",
      "[Parallel(n_jobs=8)]: Using backend ThreadingBackend with 8 concurrent workers.\n",
      "[Parallel(n_jobs=8)]: Done  34 tasks      | elapsed:    0.0s\n",
      "[Parallel(n_jobs=8)]: Done 184 tasks      | elapsed:    0.0s\n",
      "[Parallel(n_jobs=8)]: Done 434 tasks      | elapsed:    0.1s\n",
      "[Parallel(n_jobs=8)]: Done 784 tasks      | elapsed:    0.2s\n",
      "[Parallel(n_jobs=8)]: Done 1000 out of 1000 | elapsed:    0.3s finished\n",
      "[Parallel(n_jobs=-1)]: Using backend LokyBackend with 8 concurrent workers.\n",
      "[Parallel(n_jobs=-1)]: Done  56 tasks      | elapsed:    0.2s\n",
      "[Parallel(n_jobs=-1)]: Done 960 tasks      | elapsed:    2.2s\n",
      "[Parallel(n_jobs=-1)]: Done 1000 out of 1000 | elapsed:    2.4s finished\n",
      "[Parallel(n_jobs=8)]: Using backend ThreadingBackend with 8 concurrent workers.\n",
      "[Parallel(n_jobs=8)]: Done  34 tasks      | elapsed:    0.0s\n",
      "[Parallel(n_jobs=8)]: Done 184 tasks      | elapsed:    0.0s\n",
      "[Parallel(n_jobs=8)]: Done 434 tasks      | elapsed:    0.1s\n",
      "[Parallel(n_jobs=8)]: Done 784 tasks      | elapsed:    0.2s\n",
      "[Parallel(n_jobs=8)]: Done 1000 out of 1000 | elapsed:    0.2s finished\n"
     ]
    },
    {
     "data": {
      "text/html": [
       "<pre>\tALL DONE! scores: [0.76936027 0.76262626 0.75252525 0.77188552 0.76851852]</pre>"
      ],
      "text/plain": [
       "<IPython.core.display.HTML object>"
      ]
     },
     "metadata": {},
     "output_type": "display_data"
    },
    {
     "data": {
      "text/html": [
       "cross_val_score: 0.764983164983165"
      ],
      "text/plain": [
       "<IPython.core.display.HTML object>"
      ]
     },
     "metadata": {},
     "output_type": "display_data"
    },
    {
     "data": {
      "text/html": [
       "<p><br>"
      ],
      "text/plain": [
       "<IPython.core.display.HTML object>"
      ]
     },
     "metadata": {},
     "output_type": "display_data"
    },
    {
     "data": {
      "text/html": [
       "Feature Importances:"
      ],
      "text/plain": [
       "<IPython.core.display.HTML object>"
      ]
     },
     "metadata": {},
     "output_type": "display_data"
    },
    {
     "data": {
      "text/html": [
       "<pre>[   ('ward_target_encoded', 0.14380148030496387),\n",
       "    ('longitude', 0.13673934185433773),\n",
       "    ('latitude', 0.13605957486631642),\n",
       "    ('gps_height', 0.06804684441043139),\n",
       "    ('waterpoint_type_target_encoded', 0.05283961514894488),\n",
       "    ('construction_year', 0.04978224178541651),\n",
       "    ('population', 0.04532413958530388),\n",
       "    ('lga_target_encoded', 0.04400607990473404),\n",
       "    ('quantity_enough', 0.03638436379075953),\n",
       "    ('extraction_type_other', 0.026530324493264992),\n",
       "    ('region_code_target_encoded', 0.024448053550182848),\n",
       "    ('quantity_insufficient', 0.021564991852719022),\n",
       "    ('management_target_encoded', 0.020288465682848856),\n",
       "    ('amount_tsh', 0.017774595993447776),\n",
       "    ('quantity_seasonal', 0.011451212755519408),\n",
       "    ('payment_type_neverpay', 0.011312137667598794),\n",
       "    ('extraction_type_niratanira', 0.008602275531804184),\n",
       "    ('extraction_type_gravity', 0.00771121581662268),\n",
       "    ('source_spring', 0.007230288116638447),\n",
       "    ('source_shallowwell', 0.007130229580015621),\n",
       "    ('water_quality_soft', 0.0070320439934848135),\n",
       "    ('water_quality_unknown', 0.006461248132969373),\n",
       "    ('district_code_1', 0.006458966705824366),\n",
       "    ('payment_type_perbucket', 0.00632951994203093),\n",
       "    ('payment_type_unknown', 0.00623304325857419),\n",
       "    ('district_code_2', 0.005736365735232105),\n",
       "    ('district_code_3', 0.005686307926238287),\n",
       "    ('payment_type_monthly', 0.0056612931870742775),\n",
       "    ('source_machinedbh', 0.005615346340947013),\n",
       "    ('source_rainwaterharvesting', 0.005438383124265228),\n",
       "    ('source_river', 0.005172866845258407),\n",
       "    ('district_code_4', 0.004636152152785351),\n",
       "    ('extraction_type_swn80', 0.004295468815293622),\n",
       "    ('water_quality_salty', 0.004282526451705014),\n",
       "    ('extraction_type_submersible', 0.003633905640186355),\n",
       "    ('extraction_type_indiamarkii', 0.0034093513068537006),\n",
       "    ('payment_type_onfailure', 0.003289736964524409),\n",
       "    ('extraction_type_mono', 0.0031857001400308095),\n",
       "    ('district_code_5', 0.003171344890742024),\n",
       "    ('district_code_6', 0.002999839630305439),\n",
       "    ('extraction_type_ksb', 0.002683460451151686),\n",
       "    ('district_code_7', 0.002649795733958006),\n",
       "    ('quantity_unknown', 0.0015580539218893916),\n",
       "    ('num_private', 0.0015180203993327673),\n",
       "    ('payment_type_other', 0.001424959072650562),\n",
       "    ('source_lake', 0.001358694199943418),\n",
       "    ('water_quality_milky', 0.0012559426007117949),\n",
       "    ('district_code_8', 0.0012138955482546784),\n",
       "    ('source_handdtw', 0.001093782391193837),\n",
       "    ('district_code_30', 0.0009880180836190744),\n",
       "    ('extraction_type_otherropepump', 0.0009396509521890791),\n",
       "    ('district_code_33', 0.0009316785912262412),\n",
       "    ('water_quality_saltyabandoned', 0.0009283355868682291),\n",
       "    ('district_code_53', 0.000735929862053854),\n",
       "    ('extraction_type_otherswn81', 0.000635698783562173),\n",
       "    ('district_code_43', 0.0006065450687509252),\n",
       "    ('water_quality_fluoride', 0.00042309433982821396),\n",
       "    ('district_code_13', 0.0003810967803528363),\n",
       "    ('extraction_type_windmill', 0.00037946226026853183),\n",
       "    ('district_code_23', 0.0003482625221185658),\n",
       "    ('extraction_type_indiamarkiii', 0.0003322421959214465),\n",
       "    ('extraction_type_otherplaypump', 0.00032408506170325974),\n",
       "    ('source_other', 0.00027467531628052493),\n",
       "    ('source_unknown', 0.0002638554595215255),\n",
       "    ('extraction_type_walimi', 0.0002463061350652824),\n",
       "    ('extraction_type_cemo', 0.00024232944248841427),\n",
       "    ('district_code_63', 0.00016353880762164503),\n",
       "    ('district_code_62', 0.00011902958563384855),\n",
       "    ('district_code_60', 9.076493141074476e-05),\n",
       "    ('extraction_type_climax', 3.6039389433655244e-05),\n",
       "    ('water_quality_fluorideabandoned', 3.271766284513304e-05),\n",
       "    ('district_code_80', 3.184832920344949e-05),\n",
       "    ('extraction_type_othermkulimashinyanga', 1.5747637644127417e-05),\n",
       "    ('district_code_67', 1.5559019106514732e-05)]</pre><p><br><br>"
      ],
      "text/plain": [
       "<IPython.core.display.HTML object>"
      ]
     },
     "metadata": {},
     "output_type": "display_data"
    }
   ],
   "source": [
    "if run_rfclf:\n",
    "    best_parameters.update({'n_jobs':-1, 'verbose':1, 'random_state': SEED})\n",
    "    rfclf, _ , model_results = clf_run_trial(RandomForestClassifier(), best_parameters, best_parameters)"
   ]
  },
  {
   "cell_type": "markdown",
   "metadata": {},
   "source": [
    "<p><br><br>\n",
    "<h4>Build Final Model with ALL Labeled Data (Test + Validation)</h4>"
   ]
  },
  {
   "cell_type": "code",
   "execution_count": 53,
   "metadata": {
    "tags": []
   },
   "outputs": [
    {
     "name": "stderr",
     "output_type": "stream",
     "text": [
      "[Parallel(n_jobs=-1)]: Using backend ThreadingBackend with 8 concurrent workers.\n",
      "[Parallel(n_jobs=-1)]: Done  34 tasks      | elapsed:    1.4s\n",
      "[Parallel(n_jobs=-1)]: Done 184 tasks      | elapsed:    6.8s\n",
      "[Parallel(n_jobs=-1)]: Done 434 tasks      | elapsed:   15.8s\n",
      "[Parallel(n_jobs=-1)]: Done 784 tasks      | elapsed:   28.7s\n",
      "[Parallel(n_jobs=-1)]: Done 1000 out of 1000 | elapsed:   36.5s finished\n"
     ]
    }
   ],
   "source": [
    "if run_rfclf:\n",
    "    rfclf = RandomForestClassifier()\n",
    "    del best_parameters['random_state']\n",
    "    rfclf.set_params(**best_parameters)\n",
    "    rfclf.fit(data_ALL_labeled, labels_encoded.status_group)"
   ]
  },
  {
   "cell_type": "markdown",
   "metadata": {},
   "source": [
    "<p><br><br>\n",
    "<h4>Make Predictions with Final Model on Unlabeled Predictors</h4>"
   ]
  },
  {
   "cell_type": "code",
   "execution_count": 54,
   "metadata": {
    "tags": []
   },
   "outputs": [
    {
     "name": "stderr",
     "output_type": "stream",
     "text": [
      "[Parallel(n_jobs=8)]: Using backend ThreadingBackend with 8 concurrent workers.\n",
      "[Parallel(n_jobs=8)]: Done  34 tasks      | elapsed:    0.1s\n",
      "[Parallel(n_jobs=8)]: Done 184 tasks      | elapsed:    0.3s\n",
      "[Parallel(n_jobs=8)]: Done 434 tasks      | elapsed:    0.7s\n",
      "[Parallel(n_jobs=8)]: Done 784 tasks      | elapsed:    1.4s\n"
     ]
    },
    {
     "name": "stdout",
     "output_type": "stream",
     "text": [
      "<class 'pandas.core.frame.DataFrame'>\n",
      "Int64Index: 14850 entries, 50785 to 68707\n",
      "Data columns (total 1 columns):\n",
      " #   Column        Non-Null Count  Dtype\n",
      "---  ------        --------------  -----\n",
      " 0   status_group  14850 non-null  int64\n",
      "dtypes: int64(1)\n",
      "memory usage: 232.0 KB\n",
      "updated model-results/RandomForestClassifier-preds-8a48b1bceea8e4f07957e8a9efbe76d8.csv\n"
     ]
    },
    {
     "name": "stderr",
     "output_type": "stream",
     "text": [
      "[Parallel(n_jobs=8)]: Done 1000 out of 1000 | elapsed:    1.8s finished\n"
     ]
    }
   ],
   "source": [
    "if run_rfclf:\n",
    "    pred_unlabeled = rfclf.predict(data_unlabeled)\n",
    "    df_pred_unlabeled = pd.concat([data_unlabeled.reset_index()[['id']], pd.DataFrame(pred_unlabeled, columns=['status_group'])], axis=1).set_index('id')\n",
    "    df_pred_unlabeled.info()\n",
    "    fname__preds_unlabeled = f\"{MODEL_RESULTS_DIR}RandomForestClassifier-preds-{digest}.csv\"\n",
    "    df_pred_unlabeled.to_csv(fname__preds_unlabeled, sep=',')\n",
    "    print(f\"updated {fname__preds_unlabeled}\")"
   ]
  },
  {
   "cell_type": "markdown",
   "metadata": {},
   "source": [
    "<p><br><br><br>\n",
    "<h3>XGBClassifier</h3>\n",
    "<h4>Trials</h4>"
   ]
  },
  {
   "cell_type": "code",
   "execution_count": 55,
   "metadata": {},
   "outputs": [
    {
     "data": {
      "text/html": [
       "models_config['XGBClassifier']['run']: False"
      ],
      "text/plain": [
       "<IPython.core.display.HTML object>"
      ]
     },
     "metadata": {},
     "output_type": "display_data"
    }
   ],
   "source": [
    "run_xgbclf = models_config['XGBClassifier']['run']\n",
    "render_HTML(f\"models_config['XGBClassifier']['run']: {run_xgbclf}\")\n",
    "\n",
    "if run_xgbclf:\n",
    "    trials = models_config['XGBClassifier']['trials']\n",
    "\n",
    "    render_HTML(f\"models_config['XGBClassifier']['trials']['run']: {trials['run']}\")\n",
    "    if trials['run']:\n",
    "        trials_list = trials['array']\n",
    "\n",
    "        best_parameters = {}\n",
    "        for i, trial in enumerate(trials_list):\n",
    "            render_HTML(f\"<p><br>trial[{i}]['gridsearch']['run']: {trial['gridsearch']['run']}<br>\")\n",
    "            params = trial['gridsearch']['last_best'] if not trial['gridsearch']['run'] else trial['gridsearch']['param_grid']\n",
    "            if trial['gridsearch']['run']:\n",
    "                params.update({'n_jobs': [-1]})\n",
    "            else:\n",
    "                params.update({'n_jobs':-1})\n",
    "            xgbclf, best_parameters, model_results = clf_run_trial(XGBClassifier(), params, best_parameters, run_trials_gridsearch=trial['gridsearch']['run']) # note that best_parameters will be set to those used in the last trial\n",
    "\n",
    "    else:\n",
    "        best_parameters = models_config['XGBClassifier']['params']"
   ]
  },
  {
   "cell_type": "markdown",
   "metadata": {},
   "source": [
    "<p><br>\n",
    "<h4>Build Final Vaildation Model with best params</h4>"
   ]
  },
  {
   "cell_type": "code",
   "execution_count": 56,
   "metadata": {
    "tags": []
   },
   "outputs": [],
   "source": [
    "if run_xgbclf:\n",
    "    best_parameters.update({'n_jobs':-1, 'verbosity':1, 'random_state': SEED})\n",
    "    xgbclf, _ , model_results = clf_run_trial(XGBClassifier(), best_parameters, best_parameters)"
   ]
  },
  {
   "cell_type": "markdown",
   "metadata": {},
   "source": [
    "<p><br><br>\n",
    "<h4>Build Final Model with ALL Labeled Data (Test + Validation)</h4>"
   ]
  },
  {
   "cell_type": "code",
   "execution_count": 57,
   "metadata": {},
   "outputs": [],
   "source": [
    "if run_xgbclf:\n",
    "    xgbclf = XGBClassifier()\n",
    "    del best_parameters['random_state']\n",
    "    xgbclf.set_params(**best_parameters)\n",
    "    xgbclf.fit(data_ALL_labeled, labels_encoded.status_group)"
   ]
  },
  {
   "cell_type": "markdown",
   "metadata": {},
   "source": [
    "<p><br><br>\n",
    "<h4>Make Predictions with Final Model on Unlabeled Predictors</h4>"
   ]
  },
  {
   "cell_type": "code",
   "execution_count": 58,
   "metadata": {},
   "outputs": [],
   "source": [
    "if run_xgbclf:\n",
    "    pred_unlabeled = xgbclf.predict(data_unlabeled)\n",
    "    df_pred_unlabeled = pd.concat([data_unlabeled.reset_index()[['id']], pd.DataFrame(pred_unlabeled, columns=['status_group_encoded'])], axis=1).set_index('id')\n",
    "    df_pred_unlabeled['status_group'] = df_pred_unlabeled['status_group_encoded'].apply(lambda sg_encoded: classes[sg_encoded])\n",
    "    df_pred_unlabeled = df_pred_unlabeled.drop('status_group_encoded', axis=1)\n",
    "    df_pred_unlabeled.info()\n",
    "    fname__preds_unlabeled = f\"{MODEL_RESULTS_DIR}XGBClassifier-preds-{digest}.csv\"\n",
    "    df_pred_unlabeled.to_csv(fname__preds_unlabeled, sep=',')\n",
    "    print(f\"updated {fname__preds_unlabeled}\")"
   ]
  },
  {
   "cell_type": "markdown",
   "metadata": {},
   "source": [
    "<p><br><br><br>\n",
    "<h3>CatBoostClassifier</h3>\n",
    "<h4>Trials</h4>"
   ]
  },
  {
   "cell_type": "code",
   "execution_count": 59,
   "metadata": {},
   "outputs": [
    {
     "data": {
      "text/html": [
       "models_config['CatBoostClassifier']['run']: True"
      ],
      "text/plain": [
       "<IPython.core.display.HTML object>"
      ]
     },
     "metadata": {},
     "output_type": "display_data"
    },
    {
     "data": {
      "text/html": [
       "models_config['CatBoostClassifier']['trials']['run']: False"
      ],
      "text/plain": [
       "<IPython.core.display.HTML object>"
      ]
     },
     "metadata": {},
     "output_type": "display_data"
    }
   ],
   "source": [
    "run_cbclf = models_config['CatBoostClassifier']['run']\n",
    "render_HTML(f\"models_config['CatBoostClassifier']['run']: {run_cbclf}\")\n",
    "\n",
    "if run_cbclf:\n",
    "    trials = models_config['CatBoostClassifier']['trials']\n",
    "\n",
    "    render_HTML(f\"models_config['CatBoostClassifier']['trials']['run']: {trials['run']}\")\n",
    "    if trials['run']:\n",
    "        trials_list = trials['array']\n",
    "\n",
    "        best_parameters = {}\n",
    "        for i, trial in enumerate(trials_list):\n",
    "            render_HTML(f\"<p><br>trial[{i}]['gridsearch']['run']: {trial['gridsearch']['run']}<br>\")\n",
    "            params = trial['gridsearch']['last_best'] if not trial['gridsearch']['run'] else trial['gridsearch']['param_grid']\n",
    "            if trial['gridsearch']['run']:\n",
    "                params.update({'n_jobs': [-1]})\n",
    "            else:\n",
    "                params.update({'n_jobs':-1})\n",
    "            cbclf, best_parameters, model_results = clf_run_trial(CatBoostClassifier(verbose=False), params, best_parameters, run_trials_gridsearch=trial['gridsearch']['run']) # note that best_parameters will be set to those used in the last trial\n",
    "\n",
    "    else:\n",
    "        best_parameters = models_config['CatBoostClassifier']['params']"
   ]
  },
  {
   "cell_type": "markdown",
   "metadata": {},
   "source": [
    "<p><br>\n",
    "<h4>Build Final Vaildation Model with best params</h4>"
   ]
  },
  {
   "cell_type": "code",
   "execution_count": 60,
   "metadata": {},
   "outputs": [
    {
     "data": {
      "text/html": [
       "<p><br>"
      ],
      "text/plain": [
       "<IPython.core.display.HTML object>"
      ]
     },
     "metadata": {},
     "output_type": "display_data"
    },
    {
     "data": {
      "text/html": [
       "Grid Search (previously) found the following optimal parameters: "
      ],
      "text/plain": [
       "<IPython.core.display.HTML object>"
      ]
     },
     "metadata": {},
     "output_type": "display_data"
    },
    {
     "data": {
      "text/html": [
       "<pre>{   'grow_policy': 'Depthwise',\n",
       "    'loss_function': 'MultiClass',\n",
       "    'max_depth': 10,\n",
       "    'n_estimators': 1000,\n",
       "    'nan_mode': 'Min',\n",
       "    'random_state': 42,\n",
       "    'verbose': False}</pre>"
      ],
      "text/plain": [
       "<IPython.core.display.HTML object>"
      ]
     },
     "metadata": {},
     "output_type": "display_data"
    },
    {
     "data": {
      "text/html": [
       "<p><br>"
      ],
      "text/plain": [
       "<IPython.core.display.HTML object>"
      ]
     },
     "metadata": {},
     "output_type": "display_data"
    },
    {
     "data": {
      "text/html": [
       "Fitting classifier..."
      ],
      "text/plain": [
       "<IPython.core.display.HTML object>"
      ]
     },
     "metadata": {},
     "output_type": "display_data"
    },
    {
     "name": "stdout",
     "output_type": "stream",
     "text": [
      "CPU times: user 11min 41s, sys: 1min 33s, total: 13min 14s\n",
      "Wall time: 2min 17s\n"
     ]
    },
    {
     "data": {
      "text/html": [
       "<pre>\tALL DONE!</pre>"
      ],
      "text/plain": [
       "<IPython.core.display.HTML object>"
      ]
     },
     "metadata": {},
     "output_type": "display_data"
    },
    {
     "data": {
      "text/html": [
       "<p><br>"
      ],
      "text/plain": [
       "<IPython.core.display.HTML object>"
      ]
     },
     "metadata": {},
     "output_type": "display_data"
    },
    {
     "data": {
      "text/html": [
       "Predicting labels on training data..."
      ],
      "text/plain": [
       "<IPython.core.display.HTML object>"
      ]
     },
     "metadata": {},
     "output_type": "display_data"
    },
    {
     "data": {
      "text/html": [
       "<pre>\tALL DONE!</pre>"
      ],
      "text/plain": [
       "<IPython.core.display.HTML object>"
      ]
     },
     "metadata": {},
     "output_type": "display_data"
    },
    {
     "data": {
      "text/html": [
       "<p><br>"
      ],
      "text/plain": [
       "<IPython.core.display.HTML object>"
      ]
     },
     "metadata": {},
     "output_type": "display_data"
    },
    {
     "data": {
      "text/html": [
       "Training Accuracy: 93.8964"
      ],
      "text/plain": [
       "<IPython.core.display.HTML object>"
      ]
     },
     "metadata": {},
     "output_type": "display_data"
    },
    {
     "data": {
      "text/html": [
       "<p><br>"
      ],
      "text/plain": [
       "<IPython.core.display.HTML object>"
      ]
     },
     "metadata": {},
     "output_type": "display_data"
    },
    {
     "data": {
      "text/html": [
       "<pre>                         precision    recall  f1-score   support\n",
       "\n",
       "             functional       0.93      0.98      0.95     28991\n",
       "functional needs repair       0.91      0.71      0.80      3885\n",
       "         non functional       0.96      0.93      0.95     20584\n",
       "\n",
       "               accuracy                           0.94     53460\n",
       "              macro avg       0.93      0.87      0.90     53460\n",
       "           weighted avg       0.94      0.94      0.94     53460\n",
       "</pre>"
      ],
      "text/plain": [
       "<IPython.core.display.HTML object>"
      ]
     },
     "metadata": {},
     "output_type": "display_data"
    },
    {
     "data": {
      "text/html": [
       "<p><br>"
      ],
      "text/plain": [
       "<IPython.core.display.HTML object>"
      ]
     },
     "metadata": {},
     "output_type": "display_data"
    },
    {
     "data": {
      "text/html": [
       "Computing cross-val score on training data..."
      ],
      "text/plain": [
       "<IPython.core.display.HTML object>"
      ]
     },
     "metadata": {},
     "output_type": "display_data"
    },
    {
     "data": {
      "text/html": [
       "<pre>\tALL DONE! scores: [0.81098017 0.80695847 0.80929667 0.80695847 0.80518144]</pre>"
      ],
      "text/plain": [
       "<IPython.core.display.HTML object>"
      ]
     },
     "metadata": {},
     "output_type": "display_data"
    },
    {
     "data": {
      "text/html": [
       "cross_val_score: 0.8078750467639356"
      ],
      "text/plain": [
       "<IPython.core.display.HTML object>"
      ]
     },
     "metadata": {},
     "output_type": "display_data"
    },
    {
     "data": {
      "text/html": [
       "<p><br>"
      ],
      "text/plain": [
       "<IPython.core.display.HTML object>"
      ]
     },
     "metadata": {},
     "output_type": "display_data"
    },
    {
     "data": {
      "text/html": [
       "Predicting labels on testing data..."
      ],
      "text/plain": [
       "<IPython.core.display.HTML object>"
      ]
     },
     "metadata": {},
     "output_type": "display_data"
    },
    {
     "data": {
      "text/html": [
       "<pre>\tALL DONE!</pre>"
      ],
      "text/plain": [
       "<IPython.core.display.HTML object>"
      ]
     },
     "metadata": {},
     "output_type": "display_data"
    },
    {
     "data": {
      "text/html": [
       "<p><br>"
      ],
      "text/plain": [
       "<IPython.core.display.HTML object>"
      ]
     },
     "metadata": {},
     "output_type": "display_data"
    },
    {
     "data": {
      "text/html": [
       "Testing Accuracy: 81.9024"
      ],
      "text/plain": [
       "<IPython.core.display.HTML object>"
      ]
     },
     "metadata": {},
     "output_type": "display_data"
    },
    {
     "data": {
      "text/html": [
       "<p><br>"
      ],
      "text/plain": [
       "<IPython.core.display.HTML object>"
      ]
     },
     "metadata": {},
     "output_type": "display_data"
    },
    {
     "data": {
      "text/html": [
       "<pre>                         precision    recall  f1-score   support\n",
       "\n",
       "             functional       0.83      0.89      0.86      3268\n",
       "functional needs repair       0.60      0.34      0.43       432\n",
       "         non functional       0.83      0.81      0.82      2240\n",
       "\n",
       "               accuracy                           0.82      5940\n",
       "              macro avg       0.75      0.68      0.70      5940\n",
       "           weighted avg       0.81      0.82      0.81      5940\n",
       "</pre>"
      ],
      "text/plain": [
       "<IPython.core.display.HTML object>"
      ]
     },
     "metadata": {},
     "output_type": "display_data"
    },
    {
     "data": {
      "text/html": [
       "<p><br>"
      ],
      "text/plain": [
       "<IPython.core.display.HTML object>"
      ]
     },
     "metadata": {},
     "output_type": "display_data"
    },
    {
     "data": {
      "text/html": [
       "Computing cross-val score on testing data..."
      ],
      "text/plain": [
       "<IPython.core.display.HTML object>"
      ]
     },
     "metadata": {},
     "output_type": "display_data"
    },
    {
     "data": {
      "text/html": [
       "<pre>\tALL DONE! scores: [0.76599327 0.77441077 0.746633   0.78198653 0.76262626]</pre>"
      ],
      "text/plain": [
       "<IPython.core.display.HTML object>"
      ]
     },
     "metadata": {},
     "output_type": "display_data"
    },
    {
     "data": {
      "text/html": [
       "cross_val_score: 0.7663299663299663"
      ],
      "text/plain": [
       "<IPython.core.display.HTML object>"
      ]
     },
     "metadata": {},
     "output_type": "display_data"
    },
    {
     "data": {
      "text/html": [
       "<p><br>"
      ],
      "text/plain": [
       "<IPython.core.display.HTML object>"
      ]
     },
     "metadata": {},
     "output_type": "display_data"
    },
    {
     "data": {
      "text/html": [
       "Feature Importances:"
      ],
      "text/plain": [
       "<IPython.core.display.HTML object>"
      ]
     },
     "metadata": {},
     "output_type": "display_data"
    },
    {
     "data": {
      "text/html": [
       "<pre>[   ('ward_target_encoded', 22.41649207493856),\n",
       "    ('longitude', 7.689541298355761),\n",
       "    ('latitude', 7.5612363143697205),\n",
       "    ('waterpoint_type_target_encoded', 6.783655095530763),\n",
       "    ('gps_height', 5.963876290835135),\n",
       "    ('construction_year', 5.590341595095007),\n",
       "    ('population', 4.475029132086664),\n",
       "    ('quantity_enough', 4.085805641935429),\n",
       "    ('quantity_seasonal', 4.032185134327176),\n",
       "    ('lga_target_encoded', 3.9554054760800943),\n",
       "    ('quantity_insufficient', 3.7031852130628846),\n",
       "    ('region_code_target_encoded', 2.488859587057985),\n",
       "    ('management_target_encoded', 2.196357543701259),\n",
       "    ('amount_tsh', 1.8572530354537147),\n",
       "    ('extraction_type_other', 1.5301967595962584),\n",
       "    ('extraction_type_gravity', 1.5142337085113833),\n",
       "    ('payment_type_neverpay', 0.9527071389657573),\n",
       "    ('extraction_type_niratanira', 0.9014337867130451),\n",
       "    ('district_code_3', 0.7094992759037716),\n",
       "    ('payment_type_perbucket', 0.7024602966261447),\n",
       "    ('source_shallowwell', 0.6942367747388832),\n",
       "    ('payment_type_unknown', 0.6763558667409881),\n",
       "    ('source_river', 0.6370864411655937),\n",
       "    ('source_spring', 0.6351633422978047),\n",
       "    ('district_code_1', 0.6231117441896664),\n",
       "    ('source_machinedbh', 0.6082831367321258),\n",
       "    ('source_rainwaterharvesting', 0.5945533708429229),\n",
       "    ('payment_type_monthly', 0.5193863912922413),\n",
       "    ('district_code_2', 0.43188327960242795),\n",
       "    ('quantity_unknown', 0.4040617622008309),\n",
       "    ('district_code_4', 0.385448933480653),\n",
       "    ('extraction_type_ksb', 0.36251905145921787),\n",
       "    ('extraction_type_swn80', 0.3431674060406237),\n",
       "    ('water_quality_soft', 0.32995881758499407),\n",
       "    ('extraction_type_indiamarkii', 0.3261944042638706),\n",
       "    ('water_quality_salty', 0.3067571026024476),\n",
       "    ('water_quality_unknown', 0.3053567061435224),\n",
       "    ('extraction_type_submersible', 0.3023365170641628),\n",
       "    ('payment_type_onfailure', 0.263985947910462),\n",
       "    ('district_code_5', 0.25997883981746167),\n",
       "    ('extraction_type_mono', 0.2522403489560859),\n",
       "    ('district_code_7', 0.21350930177887398),\n",
       "    ('district_code_6', 0.18533495528437813),\n",
       "    ('water_quality_milky', 0.14655175076778487),\n",
       "    ('source_handdtw', 0.13410435087902486),\n",
       "    ('payment_type_other', 0.11513155010528979),\n",
       "    ('num_private', 0.11290344997860988),\n",
       "    ('district_code_30', 0.09944314335527868),\n",
       "    ('district_code_8', 0.09813113697245397),\n",
       "    ('source_lake', 0.0711653132579574),\n",
       "    ('extraction_type_otherropepump', 0.06620255241651041),\n",
       "    ('water_quality_saltyabandoned', 0.06500549343324871),\n",
       "    ('district_code_53', 0.055409936932123746),\n",
       "    ('district_code_43', 0.04851619567979274),\n",
       "    ('district_code_33', 0.04477683289721381),\n",
       "    ('water_quality_fluoride', 0.026806476225635107),\n",
       "    ('district_code_13', 0.021369654969442434),\n",
       "    ('extraction_type_otherswn81', 0.020730375077931178),\n",
       "    ('district_code_23', 0.019784227745232166),\n",
       "    ('extraction_type_indiamarkiii', 0.013779341277240564),\n",
       "    ('extraction_type_cemo', 0.012673737060842979),\n",
       "    ('extraction_type_otherplaypump', 0.012516577986759665),\n",
       "    ('extraction_type_windmill', 0.011030360094134661),\n",
       "    ('source_other', 0.008855646246298247),\n",
       "    ('source_unknown', 0.008418355132943919),\n",
       "    ('district_code_62', 0.005014119582136194),\n",
       "    ('extraction_type_walimi', 0.004138983070618583),\n",
       "    ('district_code_60', 0.002701113943775002),\n",
       "    ('district_code_63', 0.002660457207634995),\n",
       "    ('district_code_67', 0.0005072859723358054),\n",
       "    ('extraction_type_climax', 0.00030576027162026613),\n",
       "    ('water_quality_fluorideabandoned', 0.00026938633245629647),\n",
       "    ('district_code_80', 0.00025622883391523195),\n",
       "    ('extraction_type_othermkulimashinyanga', 0.0001753649569739171)]</pre><p><br><br>"
      ],
      "text/plain": [
       "<IPython.core.display.HTML object>"
      ]
     },
     "metadata": {},
     "output_type": "display_data"
    }
   ],
   "source": [
    "if run_cbclf:\n",
    "    best_parameters.update({'verbose':False, 'random_state': SEED})\n",
    "    cbclf, _ , model_results = clf_run_trial(CatBoostClassifier(verbose=False), best_parameters, best_parameters)"
   ]
  },
  {
   "cell_type": "markdown",
   "metadata": {},
   "source": [
    "<p><br><br>\n",
    "<h4>Build Final Model with ALL Labeled Data (Test + Validation)</h4>"
   ]
  },
  {
   "cell_type": "code",
   "execution_count": 61,
   "metadata": {},
   "outputs": [],
   "source": [
    "if run_cbclf:\n",
    "    cbclf = CatBoostClassifier(verbose=False)\n",
    "    del best_parameters['random_state']\n",
    "    cbclf.set_params(**best_parameters)\n",
    "    cbclf.fit(data_ALL_labeled, labels_encoded.status_group)"
   ]
  },
  {
   "cell_type": "markdown",
   "metadata": {},
   "source": [
    "<p><br><br>\n",
    "<h4>Make Predictions with Final Model on Unlabeled Predictors</h4>"
   ]
  },
  {
   "cell_type": "code",
   "execution_count": 62,
   "metadata": {},
   "outputs": [
    {
     "name": "stdout",
     "output_type": "stream",
     "text": [
      "<class 'pandas.core.frame.DataFrame'>\n",
      "Int64Index: 14850 entries, 50785 to 68707\n",
      "Data columns (total 1 columns):\n",
      " #   Column        Non-Null Count  Dtype \n",
      "---  ------        --------------  ----- \n",
      " 0   status_group  14850 non-null  object\n",
      "dtypes: object(1)\n",
      "memory usage: 232.0+ KB\n",
      "updated model-results/CatBoostClassifier-preds-8a48b1bceea8e4f07957e8a9efbe76d8.csv\n"
     ]
    }
   ],
   "source": [
    "if run_cbclf:\n",
    "    pred_unlabeled = cbclf.predict(data_unlabeled)\n",
    "    df_pred_unlabeled = pd.concat([data_unlabeled.reset_index()[['id']], pd.DataFrame(pred_unlabeled, columns=['status_group_encoded'])], axis=1).set_index('id')\n",
    "    df_pred_unlabeled['status_group'] = df_pred_unlabeled['status_group_encoded'].apply(lambda sg_encoded: classes[sg_encoded])\n",
    "    df_pred_unlabeled = df_pred_unlabeled.drop('status_group_encoded', axis=1)\n",
    "    df_pred_unlabeled.info()\n",
    "    fname__preds_unlabeled = f\"{MODEL_RESULTS_DIR}CatBoostClassifier-preds-{digest}.csv\"\n",
    "    df_pred_unlabeled.to_csv(fname__preds_unlabeled, sep=',')\n",
    "    print(f\"updated {fname__preds_unlabeled}\")"
   ]
  },
  {
   "cell_type": "markdown",
   "metadata": {},
   "source": [
    "<p><br><br><br>\n",
    "<h3>Ensemble: Voting Classifier: RandomForestClassifier + CatBoostClassifier + SVM(RBF Kernel)</h3>\n",
    "<h4>Trials</h4>"
   ]
  },
  {
   "cell_type": "code",
   "execution_count": 63,
   "metadata": {},
   "outputs": [
    {
     "data": {
      "text/html": [
       "models_config['SVM_RBF']['run']: True"
      ],
      "text/plain": [
       "<IPython.core.display.HTML object>"
      ]
     },
     "metadata": {},
     "output_type": "display_data"
    },
    {
     "data": {
      "text/html": [
       "models_config['SVM_RBF']['trials']['run']: True"
      ],
      "text/plain": [
       "<IPython.core.display.HTML object>"
      ]
     },
     "metadata": {},
     "output_type": "display_data"
    },
    {
     "name": "stdout",
     "output_type": "stream",
     "text": [
      "Fitting 3 folds for each of 100 candidates, totalling 300 fits\n"
     ]
    },
    {
     "name": "stderr",
     "output_type": "stream",
     "text": [
      "[Parallel(n_jobs=1)]: Using backend SequentialBackend with 1 concurrent workers.\n",
      "[Parallel(n_jobs=1)]: Done 300 out of 300 | elapsed:  1.4min finished\n"
     ]
    }
   ],
   "source": [
    "run_svmclf = models_config['SVM_RBF']['run']\n",
    "render_HTML(f\"models_config['SVM_RBF']['run']: {run_svmclf}\")\n",
    "\n",
    "if run_svmclf:\n",
    "    trials = models_config['SVM_RBF']['trials']\n",
    "\n",
    "    render_HTML(f\"models_config['SVM_RBF']['trials']['run']: {trials['run']}\")\n",
    "    if trials['run']:\n",
    "        trials_list = trials['array']\n",
    "\n",
    "        best_parameters = {}            \n",
    "        scaler = StandardScaler()\n",
    "        data_train_scaled = scaler.fit_transform(data_train.astype(np.float32))\n",
    "        data_test_scaled = scaler.transform(data_test.astype(np.float32))\n",
    "\n",
    "        _y_train = y_train_encoded.status_group.ravel()\n",
    "        _y_test = y_test_encoded.status_group.ravel()\n",
    "\n",
    "        n_iter = 100\n",
    "        svmclf = svm.SVC(\n",
    "            kernel='rbf', \n",
    "#             probability=False, \n",
    "            probability=True, # so that this can be used in a \"soft\" VotingClassifier\n",
    "            gamma='scale', \n",
    "            decision_function_shape='ovr',\n",
    "            break_ties=True\n",
    "#             , class_weight='balanced'\n",
    "        )\n",
    "        param_distributions = {'gamma': reciprocal(0.0001, 1), 'C': uniform(1, 1000)}\n",
    "        rnd_search_cv = RandomizedSearchCV(svmclf, param_distributions, n_iter=n_iter, verbose=1, cv=3)\n",
    "        len_rs_ds = 1000\n",
    "        rnd_search_cv.fit(data_train_scaled[:len_rs_ds], _y_train[:len_rs_ds])\n",
    "        best_parameters =rnd_search_cv.best_params_\n",
    "\n",
    "    else:\n",
    "        best_parameters = models_config['SVM_RBF']['params']\n",
    "        "
   ]
  },
  {
   "cell_type": "markdown",
   "metadata": {},
   "source": [
    "<p><br>\n",
    "<h4>Build Final Vaildation Model with best params</h4>"
   ]
  },
  {
   "cell_type": "code",
   "execution_count": 64,
   "metadata": {},
   "outputs": [
    {
     "data": {
      "text/html": [
       "<p><br>"
      ],
      "text/plain": [
       "<IPython.core.display.HTML object>"
      ]
     },
     "metadata": {},
     "output_type": "display_data"
    },
    {
     "data": {
      "text/html": [
       "Training Accuracy: 76.8556"
      ],
      "text/plain": [
       "<IPython.core.display.HTML object>"
      ]
     },
     "metadata": {},
     "output_type": "display_data"
    },
    {
     "data": {
      "text/html": [
       "<p><br>"
      ],
      "text/plain": [
       "<IPython.core.display.HTML object>"
      ]
     },
     "metadata": {},
     "output_type": "display_data"
    },
    {
     "data": {
      "text/html": [
       "<pre>                         precision    recall  f1-score   support\n",
       "\n",
       "             functional       0.74      0.93      0.82     28991\n",
       "functional needs repair       0.74      0.02      0.04      3885\n",
       "         non functional       0.83      0.69      0.75     20584\n",
       "\n",
       "               accuracy                           0.77     53460\n",
       "              macro avg       0.77      0.55      0.54     53460\n",
       "           weighted avg       0.77      0.77      0.74     53460\n",
       "</pre>"
      ],
      "text/plain": [
       "<IPython.core.display.HTML object>"
      ]
     },
     "metadata": {},
     "output_type": "display_data"
    },
    {
     "data": {
      "text/html": [
       "<p><br>"
      ],
      "text/plain": [
       "<IPython.core.display.HTML object>"
      ]
     },
     "metadata": {},
     "output_type": "display_data"
    },
    {
     "data": {
      "text/html": [
       "Testing Accuracy: 76.33"
      ],
      "text/plain": [
       "<IPython.core.display.HTML object>"
      ]
     },
     "metadata": {},
     "output_type": "display_data"
    },
    {
     "data": {
      "text/html": [
       "<p><br>"
      ],
      "text/plain": [
       "<IPython.core.display.HTML object>"
      ]
     },
     "metadata": {},
     "output_type": "display_data"
    },
    {
     "data": {
      "text/html": [
       "<pre>                         precision    recall  f1-score   support\n",
       "\n",
       "             functional       0.74      0.92      0.82      3268\n",
       "functional needs repair       0.73      0.02      0.04       432\n",
       "         non functional       0.82      0.68      0.74      2240\n",
       "\n",
       "               accuracy                           0.76      5940\n",
       "              macro avg       0.76      0.54      0.53      5940\n",
       "           weighted avg       0.77      0.76      0.73      5940\n",
       "</pre>"
      ],
      "text/plain": [
       "<IPython.core.display.HTML object>"
      ]
     },
     "metadata": {},
     "output_type": "display_data"
    }
   ],
   "source": [
    "if run_svmclf:\n",
    "    n_estimators = 4\n",
    "    svmclf = OneVsRestClassifier(\n",
    "        BaggingClassifier(\n",
    "            rnd_search_cv.best_estimator_, \n",
    "            max_samples=1.0/n_estimators, \n",
    "            n_estimators=n_estimators\n",
    "        )\n",
    "        , n_jobs=-1\n",
    "    )\n",
    "    svmclf.fit(data_train_scaled, _y_train)\n",
    "    \n",
    "    pred_train = svmclf.predict(data_train_scaled)\n",
    "    _accuracy_train = summarize_preds(svmclf, data_train_scaled, _y_train, pred_train, 'Training', classes)\n",
    "\n",
    "    pred_test = svmclf.predict(data_test_scaled)\n",
    "    _accuracy_test = summarize_preds(svmclf, data_test_scaled, _y_test, pred_test, 'Testing', classes)"
   ]
  },
  {
   "cell_type": "markdown",
   "metadata": {},
   "source": [
    "<p><br><br>\n",
    "<h4>Build Final Model with ALL Labeled Data (Test + Validation)</h4>"
   ]
  },
  {
   "cell_type": "code",
   "execution_count": 65,
   "metadata": {},
   "outputs": [
    {
     "name": "stderr",
     "output_type": "stream",
     "text": [
      "[Parallel(n_jobs=-1)]: Using backend LokyBackend with 8 concurrent workers.\n",
      "[Parallel(n_jobs=-1)]: Done  34 tasks      | elapsed:    3.9s\n",
      "[Parallel(n_jobs=-1)]: Done 184 tasks      | elapsed:   13.1s\n",
      "[Parallel(n_jobs=-1)]: Done 434 tasks      | elapsed:   30.8s\n",
      "[Parallel(n_jobs=-1)]: Done 784 tasks      | elapsed:   56.0s\n",
      "[Parallel(n_jobs=-1)]: Done 1000 out of 1000 | elapsed:  1.1min finished\n",
      "[Parallel(n_jobs=8)]: Using backend ThreadingBackend with 8 concurrent workers.\n",
      "[Parallel(n_jobs=8)]: Done  34 tasks      | elapsed:    0.2s\n",
      "[Parallel(n_jobs=8)]: Done 184 tasks      | elapsed:    0.9s\n",
      "[Parallel(n_jobs=8)]: Done 434 tasks      | elapsed:    2.0s\n",
      "[Parallel(n_jobs=8)]: Done 784 tasks      | elapsed:    3.8s\n",
      "[Parallel(n_jobs=8)]: Done 1000 out of 1000 | elapsed:    5.0s finished\n"
     ]
    },
    {
     "data": {
      "text/html": [
       "<p><br>"
      ],
      "text/plain": [
       "<IPython.core.display.HTML object>"
      ]
     },
     "metadata": {},
     "output_type": "display_data"
    },
    {
     "data": {
      "text/html": [
       "ALL Labeled Accuracy: 95.5067"
      ],
      "text/plain": [
       "<IPython.core.display.HTML object>"
      ]
     },
     "metadata": {},
     "output_type": "display_data"
    },
    {
     "data": {
      "text/html": [
       "<p><br>"
      ],
      "text/plain": [
       "<IPython.core.display.HTML object>"
      ]
     },
     "metadata": {},
     "output_type": "display_data"
    },
    {
     "data": {
      "text/html": [
       "<pre>                         precision    recall  f1-score   support\n",
       "\n",
       "             functional       0.93      0.99      0.96     32259\n",
       "functional needs repair       0.99      0.68      0.81      4317\n",
       "         non functional       0.98      0.95      0.97     22824\n",
       "\n",
       "               accuracy                           0.96     59400\n",
       "              macro avg       0.97      0.88      0.91     59400\n",
       "           weighted avg       0.96      0.96      0.95     59400\n",
       "</pre>"
      ],
      "text/plain": [
       "<IPython.core.display.HTML object>"
      ]
     },
     "metadata": {},
     "output_type": "display_data"
    }
   ],
   "source": [
    "if run_svmclf and run_cbclf and run_rfclf:\n",
    "    params = {\n",
    "        'estimators': [\n",
    "            ('rf', rfclf),\n",
    "            ('cb', cbclf), \n",
    "            ('svm', svmclf)\n",
    "        ], \n",
    "        'voting': 'soft'\n",
    "    }\n",
    "    \n",
    "    vclf = VotingClassifier(estimators=params['estimators'], voting=params['voting'])\n",
    "    vclf.fit(data_ALL_labeled, labels_encoded.status_group)\n",
    "    \n",
    "    pred_ALL = vclf.predict(data_ALL_labeled)\n",
    "    _accuracy_ALL = summarize_preds(vclf, data_ALL_labeled, labels_encoded.status_group.ravel(), pred_ALL, 'ALL Labeled', classes)\n",
    "    "
   ]
  },
  {
   "cell_type": "markdown",
   "metadata": {},
   "source": [
    "<p><br><br>\n",
    "<h4>Make Predictions with Final Model on Unlabeled Predictors</h4>"
   ]
  },
  {
   "cell_type": "code",
   "execution_count": 66,
   "metadata": {},
   "outputs": [
    {
     "name": "stderr",
     "output_type": "stream",
     "text": [
      "[Parallel(n_jobs=8)]: Using backend ThreadingBackend with 8 concurrent workers.\n",
      "[Parallel(n_jobs=8)]: Done  34 tasks      | elapsed:    0.1s\n",
      "[Parallel(n_jobs=8)]: Done 184 tasks      | elapsed:    0.3s\n",
      "[Parallel(n_jobs=8)]: Done 434 tasks      | elapsed:    0.6s\n",
      "[Parallel(n_jobs=8)]: Done 784 tasks      | elapsed:    1.0s\n",
      "[Parallel(n_jobs=8)]: Done 1000 out of 1000 | elapsed:    1.2s finished\n"
     ]
    },
    {
     "name": "stdout",
     "output_type": "stream",
     "text": [
      "<class 'pandas.core.frame.DataFrame'>\n",
      "Int64Index: 14850 entries, 50785 to 68707\n",
      "Data columns (total 1 columns):\n",
      " #   Column        Non-Null Count  Dtype \n",
      "---  ------        --------------  ----- \n",
      " 0   status_group  14850 non-null  object\n",
      "dtypes: object(1)\n",
      "memory usage: 232.0+ KB\n",
      "updated model-results/VC_ENSEMBLE-RF-CB-SVM-preds-8a48b1bceea8e4f07957e8a9efbe76d8.csv\n"
     ]
    }
   ],
   "source": [
    "if run_svmclf and run_cbclf and run_rfclf:\n",
    "    pred_unlabeled = vclf.predict(data_unlabeled)\n",
    "    df_pred_unlabeled = pd.concat([data_unlabeled.reset_index()[['id']], pd.DataFrame(pred_unlabeled, columns=['status_group_encoded'])], axis=1).set_index('id')\n",
    "    df_pred_unlabeled['status_group'] = df_pred_unlabeled['status_group_encoded'].apply(lambda sg_encoded: classes[sg_encoded])\n",
    "    df_pred_unlabeled = df_pred_unlabeled.drop('status_group_encoded', axis=1)\n",
    "    df_pred_unlabeled.info()\n",
    "    fname__preds_unlabeled = f\"{MODEL_RESULTS_DIR}VC_ENSEMBLE-RF-CB-SVM-preds-{digest}.csv\"\n",
    "    df_pred_unlabeled.to_csv(fname__preds_unlabeled, sep=',')\n",
    "    print(f\"updated {fname__preds_unlabeled}\")  \n",
    "    "
   ]
  },
  {
   "cell_type": "markdown",
   "metadata": {},
   "source": [
    "<p><br><br>\n",
    "<h4>Save All Model Results to File</h4>"
   ]
  },
  {
   "cell_type": "code",
   "execution_count": 67,
   "metadata": {
    "tags": []
   },
   "outputs": [
    {
     "name": "stdout",
     "output_type": "stream",
     "text": [
      "updated model-results/models-results-8a48b1bceea8e4f07957e8a9efbe76d8.json\n"
     ]
    }
   ],
   "source": [
    "fm.save_json(model_results, f\"{model_results_fname}\")\n",
    "print(f\"updated {model_results_fname}\")"
   ]
  }
 ],
 "metadata": {
  "kernelspec": {
   "display_name": "Python 3.6.10 64-bit ('learn-env': conda)",
   "language": "python",
   "name": "python361064bitlearnenvconda6dc930ea082b425c82fd8a0b2d571658"
  },
  "language_info": {
   "codemirror_mode": {
    "name": "ipython",
    "version": 3
   },
   "file_extension": ".py",
   "mimetype": "text/x-python",
   "name": "python",
   "nbconvert_exporter": "python",
   "pygments_lexer": "ipython3",
   "version": "3.7.7"
  }
 },
 "nbformat": 4,
 "nbformat_minor": 4
}

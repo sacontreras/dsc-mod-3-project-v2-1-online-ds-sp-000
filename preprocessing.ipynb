{
 "cells": [
  {
   "cell_type": "markdown",
   "metadata": {},
   "source": [
    "# Intro"
   ]
  },
  {
   "cell_type": "code",
   "execution_count": null,
   "metadata": {},
   "outputs": [],
   "source": [
    "import scjpnlib.utils as scjpnutils\n",
    "import os\n",
    "import pandas as pd\n",
    "import numpy as np\n",
    "from scjpnlib.utils.file_io import FileManager\n",
    "from IPython.core.display import HTML, Markdown\n",
    "import matplotlib.pyplot as plt\n",
    "\n",
    "from sklearn.pipeline import Pipeline\n",
    "from sklearn.model_selection import train_test_split\n",
    "\n",
    "import scjpnlib.utils.skl_transformers as scjpnskltransformers\n",
    "import scjpnlib.utils.strategy_transformers as scjpnstrattransformers\n",
    "from sklearn.preprocessing import FunctionTransformer\n",
    "from sklearn.model_selection import StratifiedKFold\n",
    "\n",
    "from scjpnlib.utils import submodels as scjpnsubmodels\n",
    "\n",
    "# leave these in until port is complete \n",
    "from scjpnlib.utils.skl_transformers import DropColumnsTransformer, LambdaTransformer, SimpleValueTransformer, OneHotEncodingTransformer, LabelEncodingTransformer, TargetEncoderLOOTransformer\n",
    "from sklearn.preprocessing import FunctionTransformer"
   ]
  },
  {
   "cell_type": "code",
   "execution_count": null,
   "metadata": {},
   "outputs": [],
   "source": [
    "fm = FileManager()\n",
    "eda_config = fm.load_json('eda-config.txt')\n",
    "eda_config"
   ]
  },
  {
   "cell_type": "code",
   "execution_count": null,
   "metadata": {
    "tags": []
   },
   "outputs": [],
   "source": [
    "if len(eda_config['wrangled_data']['dir']) > 0:\n",
    "    WRANGLED_DATA_DIR = eda_config['wrangled_data']['dir']\n",
    "    try:\n",
    "        os.makedirs(f\"{os.getcwd()}/{WRANGLED_DATA_DIR}\")\n",
    "    except FileExistsError:\n",
    "        pass\n",
    "    WRANGLED_DATA_DIR += \"/\"\n",
    "else:\n",
    "    WRANGLED_DATA_DIR = \"\"\n",
    "\n",
    "if len(eda_config['labels']['dir']) > 0:\n",
    "    SAVE_LABELS_DIR = eda_config['labels']['dir']\n",
    "    try:\n",
    "        os.makedirs(f\"{os.getcwd()}/{SAVE_LABELS_DIR}\")\n",
    "    except FileExistsError:\n",
    "        pass\n",
    "    SAVE_LABELS_DIR += \"/\"\n",
    "else:\n",
    "    SAVE_LABELS_DIR = \"\"\n",
    "\n",
    "    \n",
    "fname__train_predictors = WRANGLED_DATA_DIR + scjpnutils.get_data_fname(eda_config, data_kwargs={'is_labels':False,'type':'train'})\n",
    "print(f\"wrangled/preprocessed training predictors will be saved to: {fname__train_predictors}\")\n",
    "fname__train_labels = SAVE_LABELS_DIR + scjpnutils.get_data_fname(eda_config, data_kwargs={'is_labels':True,'type':'train'})\n",
    "print(f\"training labels will be saved to: {fname__train_labels}\")\n",
    "\n",
    "fname__validation_predictors = WRANGLED_DATA_DIR + scjpnutils.get_data_fname(eda_config, data_kwargs={'is_labels':False,'type':'test'})\n",
    "print(f\"wrangled/preprocessed validation predictors will be saved to: {fname__validation_predictors}\")\n",
    "fname__validation_labels = SAVE_LABELS_DIR + scjpnutils.get_data_fname(eda_config, data_kwargs={'is_labels':True,'type':'test'})\n",
    "print(f\"validation labels will be saved to: {fname__validation_labels}\")\n",
    "\n",
    "fname__unlabeled_predictors = WRANGLED_DATA_DIR + scjpnutils.get_data_fname(eda_config, data_kwargs={'is_labels':False,'type':'unlabeled'})\n",
    "print(f\"wrangled/preprocessed unlabeled predictors will be saved to: {fname__unlabeled_predictors}\")"
   ]
  },
  {
   "cell_type": "code",
   "execution_count": null,
   "metadata": {},
   "outputs": [],
   "source": [
    "display(HTML(f\"<b>NOTE: <i>for the above EDA configuration, wrangled/preprocessed and partitioned label output files will be identified (filename suffix) by: hash digest: {scjpnutils.json_to_md5_hash_digest(eda_config)}</i></b>\"))"
   ]
  },
  {
   "cell_type": "code",
   "execution_count": null,
   "metadata": {},
   "outputs": [],
   "source": [
    "fname_unlabeled_predictors = eda_config['official_data']['unlabeled_predictors']['local_fname']\n",
    "fname_labeled_predictors = eda_config['official_data']['labeled_predictors']['local_fname']\n",
    "fname_labels = eda_config['official_data']['labels']['local_fname']\n",
    "\n",
    "ds_map = {\n",
    "    fname_unlabeled_predictors: eda_config['official_data']['unlabeled_predictors']['url'], \n",
    "    fname_labeled_predictors: eda_config['official_data']['unlabeled_predictors']['url'],\n",
    "    fname_labels: eda_config['official_data']['unlabeled_predictors']['url']\n",
    "}\n",
    "\n",
    "fm.validate_download(ds_map)"
   ]
  },
  {
   "cell_type": "code",
   "execution_count": null,
   "metadata": {},
   "outputs": [],
   "source": [
    "SEED = eda_config['SEED'] # for random_state reproducability\n",
    "\n",
    "pipeline_data_preprocessor = Pipeline(steps=[('passthrough', None)], verbose=True)"
   ]
  },
  {
   "cell_type": "code",
   "execution_count": null,
   "metadata": {},
   "outputs": [],
   "source": [
    "labeled_with_target = pd.concat(\n",
    "    [\n",
    "        pd.read_csv(fname_labeled_predictors, index_col=0), \n",
    "        pd.read_csv(fname_labels, index_col=0)\n",
    "    ], \n",
    "    axis=1\n",
    "    ,\n",
    "    join='inner'\n",
    ").sort_index()"
   ]
  },
  {
   "cell_type": "code",
   "execution_count": null,
   "metadata": {},
   "outputs": [],
   "source": [
    "labels = labeled_with_target[['status_group']]"
   ]
  },
  {
   "cell_type": "code",
   "execution_count": null,
   "metadata": {},
   "outputs": [],
   "source": [
    "let_labels = scjpnskltransformers.LabelEncodingTransformer(['status_group'])\n",
    "labels_encoded = let_labels.fit_transform(labels)"
   ]
  },
  {
   "cell_type": "code",
   "execution_count": null,
   "metadata": {},
   "outputs": [],
   "source": [
    "classes = list(let_labels.labelencoder.classes_)"
   ]
  },
  {
   "cell_type": "code",
   "execution_count": null,
   "metadata": {},
   "outputs": [],
   "source": [
    "labeled_with_target['status_group_encoded'] = labels_encoded.status_group"
   ]
  },
  {
   "cell_type": "code",
   "execution_count": null,
   "metadata": {},
   "outputs": [],
   "source": [
    "X_labeled = labeled_with_target.drop(['status_group', 'status_group_encoded'], axis=1)\n",
    "X_unlabeled = pd.read_csv(fname_unlabeled_predictors, index_col=0).sort_index()"
   ]
  },
  {
   "cell_type": "code",
   "execution_count": null,
   "metadata": {},
   "outputs": [],
   "source": [
    "X_train, X_validation, y_train, y_validation = train_test_split(X_labeled.sort_index(), labels.sort_index(), test_size=eda_config['test_ratio'], random_state=SEED)"
   ]
  },
  {
   "cell_type": "code",
   "execution_count": null,
   "metadata": {},
   "outputs": [],
   "source": [
    "y_train_encoded = labels_encoded.loc[y_train.index]"
   ]
  },
  {
   "cell_type": "code",
   "execution_count": null,
   "metadata": {},
   "outputs": [],
   "source": [
    "data_train = pd.concat([X_train, y_train, y_train_encoded], axis=1, join='inner').sort_index()\n",
    "data_train.columns = list(X_train.columns) + ['status_group', 'status_group_encoded']"
   ]
  },
  {
   "cell_type": "code",
   "execution_count": null,
   "metadata": {},
   "outputs": [],
   "source": [
    "y_validation_encoded = labels_encoded.loc[y_validation.index]"
   ]
  },
  {
   "cell_type": "code",
   "execution_count": null,
   "metadata": {},
   "outputs": [],
   "source": [
    "data_validation = pd.concat([X_validation, y_validation, y_validation_encoded], axis=1, join='inner').sort_index()\n",
    "data_validation.columns = list(X_validation.columns) + ['status_group', 'status_group_encoded']"
   ]
  },
  {
   "cell_type": "code",
   "execution_count": null,
   "metadata": {
    "tags": []
   },
   "outputs": [],
   "source": [
    "amount_tsh_strat_transformer = scjpnstrattransformers.instantiate_strategy_transformer(\n",
    "    eda_config['variable_transformation_strategies']['amount_tsh'], \n",
    "    'amount_tsh',\n",
    "    pipeline_data_preprocessor\n",
    ")\n",
    "scjpnstrattransformers.html_prettify_strategy_transformer_description(amount_tsh_strat_transformer)\n",
    "\n",
    "X_train = amount_tsh_strat_transformer.fit_transform(X_train, y_train_encoded.status_group)"
   ]
  }
 ],
 "metadata": {
  "language_info": {
   "codemirror_mode": {
    "name": "ipython",
    "version": 3
   },
   "file_extension": ".py",
   "mimetype": "text/x-python",
   "name": "python",
   "nbconvert_exporter": "python",
   "pygments_lexer": "ipython3",
   "version": "3.7.7-final"
  },
  "orig_nbformat": 2,
  "kernelspec": {
   "name": "python361064bitlearnenvconda6dc930ea082b425c82fd8a0b2d571658",
   "display_name": "Python 3.6.10 64-bit ('learn-env': conda)"
  }
 },
 "nbformat": 4,
 "nbformat_minor": 2
}
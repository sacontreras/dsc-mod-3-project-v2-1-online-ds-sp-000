{
 "cells": [
  {
   "cell_type": "markdown",
   "metadata": {},
   "source": [
    "# Intro"
   ]
  },
  {
   "cell_type": "code",
   "execution_count": 182,
   "metadata": {
    "tags": []
   },
   "outputs": [
    {
     "output_type": "stream",
     "name": "stdout",
     "text": "The autoreload extension is already loaded. To reload it, use:\n  %reload_ext autoreload\n"
    }
   ],
   "source": [
    "import scjpnlib.utils as scjpnutils\n",
    "import os\n",
    "import pandas as pd\n",
    "import numpy as np\n",
    "from scjpnlib.utils.file_io import FileManager\n",
    "from IPython.core.display import HTML, Markdown\n",
    "import matplotlib.pyplot as plt\n",
    "import itertools\n",
    "\n",
    "import json\n",
    "from json_minify import json_minify\n",
    "import pprint\n",
    "\n",
    "from sklearn.pipeline import Pipeline\n",
    "from sklearn.model_selection import train_test_split\n",
    "\n",
    "import scjpnlib.utils.skl_transformers as scjpnskltransformers\n",
    "import scjpnlib.utils.strategy_transformers as scjpnstrattransformers\n",
    "from sklearn.preprocessing import FunctionTransformer\n",
    "from sklearn.model_selection import StratifiedKFold\n",
    "\n",
    "from scjpnlib.utils import submodels as scjpnsubmodels\n",
    "\n",
    "# leave these in until port is complete \n",
    "from scjpnlib.utils.skl_transformers import DropColumnsTransformer, LambdaTransformer, SimpleValueTransformer, OneHotEncodingTransformer, LabelEncodingTransformer, TargetEncoderLOOTransformer\n",
    "from sklearn.preprocessing import FunctionTransformer\n",
    "\n",
    "from sklearn.tree import DecisionTreeClassifier\n",
    "from xgboost import XGBClassifier\n",
    "from sklearn.metrics import classification_report\n",
    "from sklearn.metrics import accuracy_score\n",
    "\n",
    "from copy import deepcopy\n",
    "\n",
    "%load_ext autoreload\n",
    "%autoreload 2"
   ]
  },
  {
   "cell_type": "code",
   "execution_count": 183,
   "metadata": {},
   "outputs": [],
   "source": [
    "fm = FileManager()\n",
    "eda_config = fm.load_json('eda-config-new.txt')"
   ]
  },
  {
   "cell_type": "code",
   "execution_count": 184,
   "metadata": {
    "tags": []
   },
   "outputs": [
    {
     "output_type": "stream",
     "name": "stdout",
     "text": "wrangled/preprocessed training predictors will be saved to: preprocessing-results/wrangled-labeled-data-train-e8d7a8a060a2e2a35e63f5df535a2f2e.csv\ntraining labels will be saved to: preprocessing-results/labels-train-e8d7a8a060a2e2a35e63f5df535a2f2e.csv\nwrangled/preprocessed validation predictors will be saved to: preprocessing-results/wrangled-labeled-data-test-e8d7a8a060a2e2a35e63f5df535a2f2e.csv\nvalidation labels will be saved to: preprocessing-results/labels-test-e8d7a8a060a2e2a35e63f5df535a2f2e.csv\nwrangled/preprocessed unlabeled predictors will be saved to: preprocessing-results/wrangled-unlabeled-data-e8d7a8a060a2e2a35e63f5df535a2f2e.csv\n"
    }
   ],
   "source": [
    "if len(eda_config['wrangled_data']['dir']) > 0:\n",
    "    WRANGLED_DATA_DIR = eda_config['wrangled_data']['dir']\n",
    "    try:\n",
    "        os.makedirs(f\"{os.getcwd()}/{WRANGLED_DATA_DIR}\")\n",
    "    except FileExistsError:\n",
    "        pass\n",
    "    WRANGLED_DATA_DIR += \"/\"\n",
    "else:\n",
    "    WRANGLED_DATA_DIR = \"\"\n",
    "\n",
    "if len(eda_config['labels']['dir']) > 0:\n",
    "    SAVE_LABELS_DIR = eda_config['labels']['dir']\n",
    "    try:\n",
    "        os.makedirs(f\"{os.getcwd()}/{SAVE_LABELS_DIR}\")\n",
    "    except FileExistsError:\n",
    "        pass\n",
    "    SAVE_LABELS_DIR += \"/\"\n",
    "else:\n",
    "    SAVE_LABELS_DIR = \"\"\n",
    "\n",
    "    \n",
    "fname__train_predictors = WRANGLED_DATA_DIR + scjpnutils.get_data_fname(eda_config, data_kwargs={'is_labels':False,'type':'train'})\n",
    "print(f\"wrangled/preprocessed training predictors will be saved to: {fname__train_predictors}\")\n",
    "fname__train_labels = SAVE_LABELS_DIR + scjpnutils.get_data_fname(eda_config, data_kwargs={'is_labels':True,'type':'train'})\n",
    "print(f\"training labels will be saved to: {fname__train_labels}\")\n",
    "\n",
    "fname__validation_predictors = WRANGLED_DATA_DIR + scjpnutils.get_data_fname(eda_config, data_kwargs={'is_labels':False,'type':'test'})\n",
    "print(f\"wrangled/preprocessed validation predictors will be saved to: {fname__validation_predictors}\")\n",
    "fname__validation_labels = SAVE_LABELS_DIR + scjpnutils.get_data_fname(eda_config, data_kwargs={'is_labels':True,'type':'test'})\n",
    "print(f\"validation labels will be saved to: {fname__validation_labels}\")\n",
    "\n",
    "fname__unlabeled_predictors = WRANGLED_DATA_DIR + scjpnutils.get_data_fname(eda_config, data_kwargs={'is_labels':False,'type':'unlabeled'})\n",
    "print(f\"wrangled/preprocessed unlabeled predictors will be saved to: {fname__unlabeled_predictors}\")"
   ]
  },
  {
   "cell_type": "code",
   "execution_count": 185,
   "metadata": {},
   "outputs": [
    {
     "output_type": "display_data",
     "data": {
      "text/plain": "<IPython.core.display.HTML object>",
      "text/html": "<b>NOTE: <i>for the above EDA configuration, wrangled/preprocessed and partitioned label output files will be identified (filename suffix) by: hash digest: e8d7a8a060a2e2a35e63f5df535a2f2e</i></b>"
     },
     "metadata": {}
    }
   ],
   "source": [
    "display(HTML(f\"<b>NOTE: <i>for the above EDA configuration, wrangled/preprocessed and partitioned label output files will be identified (filename suffix) by: hash digest: {scjpnutils.json_to_md5_hash_digest(eda_config)}</i></b>\"))"
   ]
  },
  {
   "cell_type": "code",
   "execution_count": 186,
   "metadata": {},
   "outputs": [
    {
     "output_type": "display_data",
     "data": {
      "text/plain": "<IPython.core.display.HTML object>",
      "text/html": "Required download-file Taarifa-Unlabeled-Predictors.csv exists locally."
     },
     "metadata": {}
    },
    {
     "output_type": "display_data",
     "data": {
      "text/plain": "<IPython.core.display.HTML object>",
      "text/html": "Required download-file Taarifa-Labeled-Predictors.csv exists locally."
     },
     "metadata": {}
    },
    {
     "output_type": "display_data",
     "data": {
      "text/plain": "<IPython.core.display.HTML object>",
      "text/html": "Required download-file Taarifa-Labels.csv exists locally."
     },
     "metadata": {}
    }
   ],
   "source": [
    "fname_unlabeled_predictors = eda_config['official_data']['unlabeled_predictors']['local_fname']\n",
    "fname_labeled_predictors = eda_config['official_data']['labeled_predictors']['local_fname']\n",
    "fname_labels = eda_config['official_data']['labels']['local_fname']\n",
    "\n",
    "ds_map = {\n",
    "    fname_unlabeled_predictors: eda_config['official_data']['unlabeled_predictors']['url'], \n",
    "    fname_labeled_predictors: eda_config['official_data']['unlabeled_predictors']['url'],\n",
    "    fname_labels: eda_config['official_data']['unlabeled_predictors']['url']\n",
    "}\n",
    "\n",
    "fm.validate_download(ds_map)"
   ]
  },
  {
   "cell_type": "code",
   "execution_count": 187,
   "metadata": {},
   "outputs": [],
   "source": [
    "SEED = eda_config['SEED'] # for random_state reproducability\n",
    "\n",
    "pipeline_data_preprocessor = Pipeline(steps=[('passthrough', None)], verbose=True)"
   ]
  },
  {
   "cell_type": "code",
   "execution_count": 188,
   "metadata": {},
   "outputs": [],
   "source": [
    "# scjpnutils.display_pretty_feature_groupings(eda_config['feature_groupings'], include_preprocessing=True)"
   ]
  },
  {
   "cell_type": "code",
   "execution_count": 189,
   "metadata": {},
   "outputs": [],
   "source": [
    "labeled_with_target = pd.concat(\n",
    "    [\n",
    "        pd.read_csv(fname_labeled_predictors, index_col=0), \n",
    "        pd.read_csv(fname_labels, index_col=0)\n",
    "    ], \n",
    "    axis=1\n",
    "    ,\n",
    "    join='inner'\n",
    ").sort_index()"
   ]
  },
  {
   "cell_type": "code",
   "execution_count": 190,
   "metadata": {},
   "outputs": [],
   "source": [
    "labels = labeled_with_target[['status_group']]"
   ]
  },
  {
   "cell_type": "code",
   "execution_count": 191,
   "metadata": {},
   "outputs": [],
   "source": [
    "let_labels = scjpnskltransformers.LabelEncodingTransformer(['status_group'])\n",
    "labels_encoded = let_labels.fit_transform(labels)"
   ]
  },
  {
   "cell_type": "code",
   "execution_count": 192,
   "metadata": {},
   "outputs": [],
   "source": [
    "classes = list(let_labels.labelencoder.classes_)"
   ]
  },
  {
   "cell_type": "code",
   "execution_count": 193,
   "metadata": {},
   "outputs": [],
   "source": [
    "labeled_with_target['status_group_encoded'] = labels_encoded.status_group"
   ]
  },
  {
   "cell_type": "code",
   "execution_count": 194,
   "metadata": {},
   "outputs": [],
   "source": [
    "X_labeled = labeled_with_target.drop(['status_group', 'status_group_encoded'], axis=1)\n",
    "X_unlabeled = pd.read_csv(fname_unlabeled_predictors, index_col=0).sort_index()"
   ]
  },
  {
   "cell_type": "code",
   "execution_count": 195,
   "metadata": {},
   "outputs": [],
   "source": [
    "X_train, X_validation, y_train, y_validation = train_test_split(X_labeled.sort_index(), labels.sort_index(), test_size=eda_config['test_ratio'], random_state=SEED)"
   ]
  },
  {
   "cell_type": "code",
   "execution_count": 196,
   "metadata": {},
   "outputs": [],
   "source": [
    "y_train_encoded = labels_encoded.loc[y_train.index]"
   ]
  },
  {
   "cell_type": "code",
   "execution_count": 197,
   "metadata": {},
   "outputs": [],
   "source": [
    "data_train = pd.concat([X_train, y_train, y_train_encoded], axis=1, join='inner').sort_index()\n",
    "data_train.columns = list(X_train.columns) + ['status_group', 'status_group_encoded']"
   ]
  },
  {
   "cell_type": "code",
   "execution_count": 198,
   "metadata": {},
   "outputs": [],
   "source": [
    "y_validation_encoded = labels_encoded.loc[y_validation.index]"
   ]
  },
  {
   "cell_type": "code",
   "execution_count": 199,
   "metadata": {},
   "outputs": [],
   "source": [
    "data_validation = pd.concat([X_validation, y_validation, y_validation_encoded], axis=1, join='inner').sort_index()\n",
    "data_validation.columns = list(X_validation.columns) + ['status_group', 'status_group_encoded']"
   ]
  },
  {
   "cell_type": "markdown",
   "metadata": {},
   "source": [
    "## Execute Minimal Set of Transformations Required to Build Models\n",
    "\n",
    "Before we get into a systematic search for which preprocessing options we have available (that we found in EDA) are \"best\", let's execute the so-called minimal \"required\" transformations (again, that we found in EDA)."
   ]
  },
  {
   "cell_type": "code",
   "execution_count": 200,
   "metadata": {},
   "outputs": [],
   "source": [
    "def exec_preprocessing_option(preprocessing_group_name, option_strategy_composition, X, y, pipeline):\n",
    "    strat_transformer = scjpnstrattransformers.instantiate_strategy_transformer(\n",
    "        option_strategy_composition, \n",
    "        preprocessing_group_name,\n",
    "        pipeline\n",
    "    )\n",
    "    scjpnstrattransformers.html_prettify_strategy_transformer_description(strat_transformer)\n",
    "    return strat_transformer.fit_transform(X, y), strat_transformer"
   ]
  },
  {
   "cell_type": "code",
   "execution_count": 201,
   "metadata": {
    "tags": []
   },
   "outputs": [],
   "source": [
    "# X_train_augmented_baseline = X_train.copy()\n",
    "\n",
    "# transformed_feat_names = []\n",
    "# for idx, preprocessing_option in enumerate(eda_config['feature_groupings']['minimal_required__group']['preprocessing_options']['all_required']):\n",
    "#     X_train_augmented_baseline, composite_transformer = exec_preprocessing_option(\n",
    "#         'all_required', \n",
    "#         preprocessing_option, \n",
    "#         X_train_augmented_baseline, \n",
    "#         y_train_encoded.status_group, \n",
    "#         pipeline_data_preprocessor\n",
    "#     )\n",
    "#     scjpnstrattransformers.colaesce_transformed_feat_names(composite_transformer, transformed_feat_names)\n",
    "# transformed_feat_names = list(set(transformed_feat_names))"
   ]
  },
  {
   "cell_type": "markdown",
   "metadata": {},
   "source": [
    "<p><br>\n",
    "\n",
    "## Summary of Preprocessing Options and Brute-force (Bad) Complexity"
   ]
  },
  {
   "cell_type": "code",
   "execution_count": 202,
   "metadata": {
    "tags": []
   },
   "outputs": [
    {
     "output_type": "display_data",
     "data": {
      "text/plain": "<IPython.core.display.HTML object>",
      "text/html": "<b>amount_tsh__group</b> feature-group has 1 features (['amount_tsh']) handled across 1 preprocessing groups:"
     },
     "metadata": {}
    },
    {
     "output_type": "display_data",
     "data": {
      "text/plain": "<IPython.core.display.HTML object>",
      "text/html": "&nbsp;&nbsp;&nbsp;&nbsp;preprocessing group <b>amount_tsh</b> has 5 preprocessing options"
     },
     "metadata": {}
    },
    {
     "output_type": "display_data",
     "data": {
      "text/plain": "<IPython.core.display.HTML object>",
      "text/html": "&nbsp;&nbsp;&nbsp;&nbsp;&nbsp;&nbsp;&nbsp;&nbsp;option 1: [['amount_tsh', 'C__leave_it_as_is__StrategyTransformer']]"
     },
     "metadata": {}
    },
    {
     "output_type": "display_data",
     "data": {
      "text/plain": "<IPython.core.display.HTML object>",
      "text/html": "&nbsp;&nbsp;&nbsp;&nbsp;&nbsp;&nbsp;&nbsp;&nbsp;option 2: [['amount_tsh', 'C__target_encode__not_LOO__post_encode_null_to_global_mean__StrategyTransformer']]"
     },
     "metadata": {}
    },
    {
     "output_type": "display_data",
     "data": {
      "text/plain": "<IPython.core.display.HTML object>",
      "text/html": "&nbsp;&nbsp;&nbsp;&nbsp;&nbsp;&nbsp;&nbsp;&nbsp;option 3: [['amount_tsh', 'C__replace_0_with_nan__StrategyTransformer']]"
     },
     "metadata": {}
    },
    {
     "output_type": "display_data",
     "data": {
      "text/plain": "<IPython.core.display.HTML object>",
      "text/html": "&nbsp;&nbsp;&nbsp;&nbsp;&nbsp;&nbsp;&nbsp;&nbsp;option 4: [['amount_tsh', 'C__replace_outliers_with_mean__StrategyTransformer']]"
     },
     "metadata": {}
    },
    {
     "output_type": "display_data",
     "data": {
      "text/plain": "<IPython.core.display.HTML object>",
      "text/html": "&nbsp;&nbsp;&nbsp;&nbsp;&nbsp;&nbsp;&nbsp;&nbsp;option 5: [['amount_tsh', 'C__drop_it__StrategyTransformer']]"
     },
     "metadata": {}
    },
    {
     "output_type": "display_data",
     "data": {
      "text/plain": "<IPython.core.display.HTML object>",
      "text/html": "<p>"
     },
     "metadata": {}
    },
    {
     "output_type": "display_data",
     "data": {
      "text/plain": "<IPython.core.display.HTML object>",
      "text/html": "<p><br>"
     },
     "metadata": {}
    },
    {
     "output_type": "display_data",
     "data": {
      "text/plain": "<IPython.core.display.HTML object>",
      "text/html": "<b>pump_age_at_observation_date__group</b> feature-group has 2 features (['date_recorded', 'construction_year']) handled across 1 preprocessing groups:"
     },
     "metadata": {}
    },
    {
     "output_type": "display_data",
     "data": {
      "text/plain": "<IPython.core.display.HTML object>",
      "text/html": "&nbsp;&nbsp;&nbsp;&nbsp;preprocessing group <b>pump_age</b> has 2 preprocessing options"
     },
     "metadata": {}
    },
    {
     "output_type": "display_data",
     "data": {
      "text/plain": "<IPython.core.display.HTML object>",
      "text/html": "&nbsp;&nbsp;&nbsp;&nbsp;&nbsp;&nbsp;&nbsp;&nbsp;option 1: [['pump_age', 'C__required_proprocessing__pump_age__StrategyTransformer'], ['pump_age', 'C__leave_it_as_is__StrategyTransformer']]"
     },
     "metadata": {}
    },
    {
     "output_type": "display_data",
     "data": {
      "text/plain": "<IPython.core.display.HTML object>",
      "text/html": "&nbsp;&nbsp;&nbsp;&nbsp;&nbsp;&nbsp;&nbsp;&nbsp;option 2: [['pump_age', 'C__drop_it__StrategyTransformer']]"
     },
     "metadata": {}
    },
    {
     "output_type": "display_data",
     "data": {
      "text/plain": "<IPython.core.display.HTML object>",
      "text/html": "<p>"
     },
     "metadata": {}
    },
    {
     "output_type": "display_data",
     "data": {
      "text/plain": "<IPython.core.display.HTML object>",
      "text/html": "<p><br>"
     },
     "metadata": {}
    },
    {
     "output_type": "display_data",
     "data": {
      "text/plain": "<IPython.core.display.HTML object>",
      "text/html": "<b>funder__group</b> feature-group has 1 features (['funder']) handled across 1 preprocessing groups:"
     },
     "metadata": {}
    },
    {
     "output_type": "display_data",
     "data": {
      "text/plain": "<IPython.core.display.HTML object>",
      "text/html": "&nbsp;&nbsp;&nbsp;&nbsp;preprocessing group <b>funder</b> has 3 preprocessing options"
     },
     "metadata": {}
    },
    {
     "output_type": "display_data",
     "data": {
      "text/plain": "<IPython.core.display.HTML object>",
      "text/html": "&nbsp;&nbsp;&nbsp;&nbsp;&nbsp;&nbsp;&nbsp;&nbsp;option 1: [['funder', 'C__required_proprocessing__funder__StrategyTransformer'], ['funder', 'C__target_encode__not_LOO__post_encode_null_to_global_mean__StrategyTransformer']]"
     },
     "metadata": {}
    },
    {
     "output_type": "display_data",
     "data": {
      "text/plain": "<IPython.core.display.HTML object>",
      "text/html": "&nbsp;&nbsp;&nbsp;&nbsp;&nbsp;&nbsp;&nbsp;&nbsp;option 2: [['funder', 'C__required_proprocessing__funder__StrategyTransformer'], ['funder', 'C__tfidf_kmeans_classify__funder__StrategyTransformer'], ['funder_tfidf_kmeans_class', 'C__target_encode__not_LOO__post_encode_null_to_global_mean__StrategyTransformer'], ['funder', 'C__drop_it__StrategyTransformer']]"
     },
     "metadata": {}
    },
    {
     "output_type": "display_data",
     "data": {
      "text/plain": "<IPython.core.display.HTML object>",
      "text/html": "&nbsp;&nbsp;&nbsp;&nbsp;&nbsp;&nbsp;&nbsp;&nbsp;option 3: [['funder', 'C__drop_it__StrategyTransformer']]"
     },
     "metadata": {}
    },
    {
     "output_type": "display_data",
     "data": {
      "text/plain": "<IPython.core.display.HTML object>",
      "text/html": "<p>"
     },
     "metadata": {}
    },
    {
     "output_type": "display_data",
     "data": {
      "text/plain": "<IPython.core.display.HTML object>",
      "text/html": "<p><br>"
     },
     "metadata": {}
    },
    {
     "output_type": "display_data",
     "data": {
      "text/plain": "<IPython.core.display.HTML object>",
      "text/html": "<b>gps_height__group</b> feature-group has 1 features (['gps_height']) handled across 1 preprocessing groups:"
     },
     "metadata": {}
    },
    {
     "output_type": "display_data",
     "data": {
      "text/plain": "<IPython.core.display.HTML object>",
      "text/html": "&nbsp;&nbsp;&nbsp;&nbsp;preprocessing group <b>gps_height</b> has 3 preprocessing options"
     },
     "metadata": {}
    },
    {
     "output_type": "display_data",
     "data": {
      "text/plain": "<IPython.core.display.HTML object>",
      "text/html": "&nbsp;&nbsp;&nbsp;&nbsp;&nbsp;&nbsp;&nbsp;&nbsp;option 1: [['gps_height', 'C__leave_it_as_is__StrategyTransformer']]"
     },
     "metadata": {}
    },
    {
     "output_type": "display_data",
     "data": {
      "text/plain": "<IPython.core.display.HTML object>",
      "text/html": "&nbsp;&nbsp;&nbsp;&nbsp;&nbsp;&nbsp;&nbsp;&nbsp;option 2: [['gps_height', 'C__target_encode__not_LOO__post_encode_null_to_global_mean__StrategyTransformer']]"
     },
     "metadata": {}
    },
    {
     "output_type": "display_data",
     "data": {
      "text/plain": "<IPython.core.display.HTML object>",
      "text/html": "&nbsp;&nbsp;&nbsp;&nbsp;&nbsp;&nbsp;&nbsp;&nbsp;option 3: [['gps_height', 'C__drop_it__StrategyTransformer']]"
     },
     "metadata": {}
    },
    {
     "output_type": "display_data",
     "data": {
      "text/plain": "<IPython.core.display.HTML object>",
      "text/html": "<p>"
     },
     "metadata": {}
    },
    {
     "output_type": "display_data",
     "data": {
      "text/plain": "<IPython.core.display.HTML object>",
      "text/html": "<p><br>"
     },
     "metadata": {}
    },
    {
     "output_type": "display_data",
     "data": {
      "text/plain": "<IPython.core.display.HTML object>",
      "text/html": "<b>installer__group</b> feature-group has 1 features (['installer']) handled across 1 preprocessing groups:"
     },
     "metadata": {}
    },
    {
     "output_type": "display_data",
     "data": {
      "text/plain": "<IPython.core.display.HTML object>",
      "text/html": "&nbsp;&nbsp;&nbsp;&nbsp;preprocessing group <b>installer</b> has 3 preprocessing options"
     },
     "metadata": {}
    },
    {
     "output_type": "display_data",
     "data": {
      "text/plain": "<IPython.core.display.HTML object>",
      "text/html": "&nbsp;&nbsp;&nbsp;&nbsp;&nbsp;&nbsp;&nbsp;&nbsp;option 1: [['installer', 'C__required_proprocessing__installer__StrategyTransformer'], ['installer', 'C__target_encode__not_LOO__post_encode_null_to_global_mean__StrategyTransformer']]"
     },
     "metadata": {}
    },
    {
     "output_type": "display_data",
     "data": {
      "text/plain": "<IPython.core.display.HTML object>",
      "text/html": "&nbsp;&nbsp;&nbsp;&nbsp;&nbsp;&nbsp;&nbsp;&nbsp;option 2: [['installer', 'C__required_proprocessing__installer__StrategyTransformer'], ['installer', 'C__tfidf_kmeans_classify__installer__StrategyTransformer'], ['installer_tfidf_kmeans_class', 'C__target_encode__not_LOO__post_encode_null_to_global_mean__StrategyTransformer'], ['installer', 'C__drop_it__StrategyTransformer']]"
     },
     "metadata": {}
    },
    {
     "output_type": "display_data",
     "data": {
      "text/plain": "<IPython.core.display.HTML object>",
      "text/html": "&nbsp;&nbsp;&nbsp;&nbsp;&nbsp;&nbsp;&nbsp;&nbsp;option 3: [['installer', 'C__drop_it__StrategyTransformer']]"
     },
     "metadata": {}
    },
    {
     "output_type": "display_data",
     "data": {
      "text/plain": "<IPython.core.display.HTML object>",
      "text/html": "<p>"
     },
     "metadata": {}
    },
    {
     "output_type": "display_data",
     "data": {
      "text/plain": "<IPython.core.display.HTML object>",
      "text/html": "<p><br>"
     },
     "metadata": {}
    },
    {
     "output_type": "display_data",
     "data": {
      "text/plain": "<IPython.core.display.HTML object>",
      "text/html": "<b>gps_coordinates__group</b> feature-group has 2 features (['latitude', 'longitude']) handled across 1 preprocessing groups:"
     },
     "metadata": {}
    },
    {
     "output_type": "display_data",
     "data": {
      "text/plain": "<IPython.core.display.HTML object>",
      "text/html": "&nbsp;&nbsp;&nbsp;&nbsp;preprocessing group <b>gps_coordinates</b> has 2 preprocessing options"
     },
     "metadata": {}
    },
    {
     "output_type": "display_data",
     "data": {
      "text/plain": "<IPython.core.display.HTML object>",
      "text/html": "&nbsp;&nbsp;&nbsp;&nbsp;&nbsp;&nbsp;&nbsp;&nbsp;option 1: [['gps_coordinates', 'C__required_proprocessing__gps_coordinates__StrategyTransformer'], [['gps_height', 'C__leave_it_as_is__StrategyTransformer']]]"
     },
     "metadata": {}
    },
    {
     "output_type": "display_data",
     "data": {
      "text/plain": "<IPython.core.display.HTML object>",
      "text/html": "&nbsp;&nbsp;&nbsp;&nbsp;&nbsp;&nbsp;&nbsp;&nbsp;option 2: [['latitude', 'C__drop_it__StrategyTransformer'], ['longitude', 'C__drop_it__StrategyTransformer']]"
     },
     "metadata": {}
    },
    {
     "output_type": "display_data",
     "data": {
      "text/plain": "<IPython.core.display.HTML object>",
      "text/html": "<p>"
     },
     "metadata": {}
    },
    {
     "output_type": "display_data",
     "data": {
      "text/plain": "<IPython.core.display.HTML object>",
      "text/html": "<p><br>"
     },
     "metadata": {}
    },
    {
     "output_type": "display_data",
     "data": {
      "text/plain": "<IPython.core.display.HTML object>",
      "text/html": "<b>wpt_name__group</b> feature-group has 1 features (['wpt_name']) handled across 1 preprocessing groups:"
     },
     "metadata": {}
    },
    {
     "output_type": "display_data",
     "data": {
      "text/plain": "<IPython.core.display.HTML object>",
      "text/html": "&nbsp;&nbsp;&nbsp;&nbsp;preprocessing group <b>wpt_name</b> has 1 preprocessing options"
     },
     "metadata": {}
    },
    {
     "output_type": "display_data",
     "data": {
      "text/plain": "<IPython.core.display.HTML object>",
      "text/html": "&nbsp;&nbsp;&nbsp;&nbsp;&nbsp;&nbsp;&nbsp;&nbsp;option 1: [['wpt_name', 'C__drop_it__StrategyTransformer']]"
     },
     "metadata": {}
    },
    {
     "output_type": "display_data",
     "data": {
      "text/plain": "<IPython.core.display.HTML object>",
      "text/html": "<p>"
     },
     "metadata": {}
    },
    {
     "output_type": "display_data",
     "data": {
      "text/plain": "<IPython.core.display.HTML object>",
      "text/html": "<p><br>"
     },
     "metadata": {}
    },
    {
     "output_type": "display_data",
     "data": {
      "text/plain": "<IPython.core.display.HTML object>",
      "text/html": "<b>num_private__group</b> feature-group has 1 features (['num_private']) handled across 1 preprocessing groups:"
     },
     "metadata": {}
    },
    {
     "output_type": "display_data",
     "data": {
      "text/plain": "<IPython.core.display.HTML object>",
      "text/html": "&nbsp;&nbsp;&nbsp;&nbsp;preprocessing group <b>num_private</b> has 1 preprocessing options"
     },
     "metadata": {}
    },
    {
     "output_type": "display_data",
     "data": {
      "text/plain": "<IPython.core.display.HTML object>",
      "text/html": "&nbsp;&nbsp;&nbsp;&nbsp;&nbsp;&nbsp;&nbsp;&nbsp;option 1: [['num_private', 'C__drop_it__StrategyTransformer']]"
     },
     "metadata": {}
    },
    {
     "output_type": "display_data",
     "data": {
      "text/plain": "<IPython.core.display.HTML object>",
      "text/html": "<p>"
     },
     "metadata": {}
    },
    {
     "output_type": "display_data",
     "data": {
      "text/plain": "<IPython.core.display.HTML object>",
      "text/html": "<p><br>"
     },
     "metadata": {}
    },
    {
     "output_type": "display_data",
     "data": {
      "text/plain": "<IPython.core.display.HTML object>",
      "text/html": "<b>basin__group</b> feature-group has 1 features (['basin']) handled across 1 preprocessing groups:"
     },
     "metadata": {}
    },
    {
     "output_type": "display_data",
     "data": {
      "text/plain": "<IPython.core.display.HTML object>",
      "text/html": "&nbsp;&nbsp;&nbsp;&nbsp;preprocessing group <b>basin</b> has 2 preprocessing options"
     },
     "metadata": {}
    },
    {
     "output_type": "display_data",
     "data": {
      "text/plain": "<IPython.core.display.HTML object>",
      "text/html": "&nbsp;&nbsp;&nbsp;&nbsp;&nbsp;&nbsp;&nbsp;&nbsp;option 1: [['basin', 'C__required_proprocessing__basin__StrategyTransformer'], ['basin', 'C__target_encode__not_LOO__post_encode_null_to_global_mean__StrategyTransformer']]"
     },
     "metadata": {}
    },
    {
     "output_type": "display_data",
     "data": {
      "text/plain": "<IPython.core.display.HTML object>",
      "text/html": "&nbsp;&nbsp;&nbsp;&nbsp;&nbsp;&nbsp;&nbsp;&nbsp;option 2: [['basin', 'C__drop_it__StrategyTransformer']]"
     },
     "metadata": {}
    },
    {
     "output_type": "display_data",
     "data": {
      "text/plain": "<IPython.core.display.HTML object>",
      "text/html": "<p>"
     },
     "metadata": {}
    },
    {
     "output_type": "display_data",
     "data": {
      "text/plain": "<IPython.core.display.HTML object>",
      "text/html": "<p><br>"
     },
     "metadata": {}
    },
    {
     "output_type": "display_data",
     "data": {
      "text/plain": "<IPython.core.display.HTML object>",
      "text/html": "<b>geographic_location__group</b> feature-group has 6 features (['region_code', 'district_code', 'subvillage', 'region', 'lga', 'ward']) handled across 6 preprocessing groups:"
     },
     "metadata": {}
    },
    {
     "output_type": "display_data",
     "data": {
      "text/plain": "<IPython.core.display.HTML object>",
      "text/html": "&nbsp;&nbsp;&nbsp;&nbsp;preprocessing group <b>region_code</b> has 2 preprocessing options"
     },
     "metadata": {}
    },
    {
     "output_type": "display_data",
     "data": {
      "text/plain": "<IPython.core.display.HTML object>",
      "text/html": "&nbsp;&nbsp;&nbsp;&nbsp;&nbsp;&nbsp;&nbsp;&nbsp;option 1: [['region_code', 'C__target_encode__not_LOO__post_encode_null_to_global_mean__StrategyTransformer']]"
     },
     "metadata": {}
    },
    {
     "output_type": "display_data",
     "data": {
      "text/plain": "<IPython.core.display.HTML object>",
      "text/html": "&nbsp;&nbsp;&nbsp;&nbsp;&nbsp;&nbsp;&nbsp;&nbsp;option 2: [['region_code', 'C__drop_it__StrategyTransformer']]"
     },
     "metadata": {}
    },
    {
     "output_type": "display_data",
     "data": {
      "text/plain": "<IPython.core.display.HTML object>",
      "text/html": "<p>"
     },
     "metadata": {}
    },
    {
     "output_type": "display_data",
     "data": {
      "text/plain": "<IPython.core.display.HTML object>",
      "text/html": "&nbsp;&nbsp;&nbsp;&nbsp;preprocessing group <b>district_code</b> has 2 preprocessing options"
     },
     "metadata": {}
    },
    {
     "output_type": "display_data",
     "data": {
      "text/plain": "<IPython.core.display.HTML object>",
      "text/html": "&nbsp;&nbsp;&nbsp;&nbsp;&nbsp;&nbsp;&nbsp;&nbsp;option 1: [['district_code', 'C__target_encode__not_LOO__post_encode_null_to_global_mean__StrategyTransformer']]"
     },
     "metadata": {}
    },
    {
     "output_type": "display_data",
     "data": {
      "text/plain": "<IPython.core.display.HTML object>",
      "text/html": "&nbsp;&nbsp;&nbsp;&nbsp;&nbsp;&nbsp;&nbsp;&nbsp;option 2: [['district_code', 'C__drop_it__StrategyTransformer']]"
     },
     "metadata": {}
    },
    {
     "output_type": "display_data",
     "data": {
      "text/plain": "<IPython.core.display.HTML object>",
      "text/html": "<p>"
     },
     "metadata": {}
    },
    {
     "output_type": "display_data",
     "data": {
      "text/plain": "<IPython.core.display.HTML object>",
      "text/html": "&nbsp;&nbsp;&nbsp;&nbsp;preprocessing group <b>subvillage</b> has 1 preprocessing options"
     },
     "metadata": {}
    },
    {
     "output_type": "display_data",
     "data": {
      "text/plain": "<IPython.core.display.HTML object>",
      "text/html": "&nbsp;&nbsp;&nbsp;&nbsp;&nbsp;&nbsp;&nbsp;&nbsp;option 1: [['subvillage', 'C__drop_it__StrategyTransformer']]"
     },
     "metadata": {}
    },
    {
     "output_type": "display_data",
     "data": {
      "text/plain": "<IPython.core.display.HTML object>",
      "text/html": "<p>"
     },
     "metadata": {}
    },
    {
     "output_type": "display_data",
     "data": {
      "text/plain": "<IPython.core.display.HTML object>",
      "text/html": "&nbsp;&nbsp;&nbsp;&nbsp;preprocessing group <b>region</b> has 1 preprocessing options"
     },
     "metadata": {}
    },
    {
     "output_type": "display_data",
     "data": {
      "text/plain": "<IPython.core.display.HTML object>",
      "text/html": "&nbsp;&nbsp;&nbsp;&nbsp;&nbsp;&nbsp;&nbsp;&nbsp;option 1: [['region', 'C__drop_it__StrategyTransformer']]"
     },
     "metadata": {}
    },
    {
     "output_type": "display_data",
     "data": {
      "text/plain": "<IPython.core.display.HTML object>",
      "text/html": "<p>"
     },
     "metadata": {}
    },
    {
     "output_type": "display_data",
     "data": {
      "text/plain": "<IPython.core.display.HTML object>",
      "text/html": "&nbsp;&nbsp;&nbsp;&nbsp;preprocessing group <b>lga</b> has 1 preprocessing options"
     },
     "metadata": {}
    },
    {
     "output_type": "display_data",
     "data": {
      "text/plain": "<IPython.core.display.HTML object>",
      "text/html": "&nbsp;&nbsp;&nbsp;&nbsp;&nbsp;&nbsp;&nbsp;&nbsp;option 1: [['lga', 'C__drop_it__StrategyTransformer']]"
     },
     "metadata": {}
    },
    {
     "output_type": "display_data",
     "data": {
      "text/plain": "<IPython.core.display.HTML object>",
      "text/html": "<p>"
     },
     "metadata": {}
    },
    {
     "output_type": "display_data",
     "data": {
      "text/plain": "<IPython.core.display.HTML object>",
      "text/html": "&nbsp;&nbsp;&nbsp;&nbsp;preprocessing group <b>ward</b> has 1 preprocessing options"
     },
     "metadata": {}
    },
    {
     "output_type": "display_data",
     "data": {
      "text/plain": "<IPython.core.display.HTML object>",
      "text/html": "&nbsp;&nbsp;&nbsp;&nbsp;&nbsp;&nbsp;&nbsp;&nbsp;option 1: [['ward', 'C__drop_it__StrategyTransformer']]"
     },
     "metadata": {}
    },
    {
     "output_type": "display_data",
     "data": {
      "text/plain": "<IPython.core.display.HTML object>",
      "text/html": "<p>"
     },
     "metadata": {}
    },
    {
     "output_type": "display_data",
     "data": {
      "text/plain": "<IPython.core.display.HTML object>",
      "text/html": "<p><br>"
     },
     "metadata": {}
    },
    {
     "output_type": "display_data",
     "data": {
      "text/plain": "<IPython.core.display.HTML object>",
      "text/html": "<b>population__group</b> feature-group has 1 features (['population']) handled across 1 preprocessing groups:"
     },
     "metadata": {}
    },
    {
     "output_type": "display_data",
     "data": {
      "text/plain": "<IPython.core.display.HTML object>",
      "text/html": "&nbsp;&nbsp;&nbsp;&nbsp;preprocessing group <b>population</b> has 7 preprocessing options"
     },
     "metadata": {}
    },
    {
     "output_type": "display_data",
     "data": {
      "text/plain": "<IPython.core.display.HTML object>",
      "text/html": "&nbsp;&nbsp;&nbsp;&nbsp;&nbsp;&nbsp;&nbsp;&nbsp;option 1: [['population', 'C__leave_it_as_is__StrategyTransformer']]"
     },
     "metadata": {}
    },
    {
     "output_type": "display_data",
     "data": {
      "text/plain": "<IPython.core.display.HTML object>",
      "text/html": "&nbsp;&nbsp;&nbsp;&nbsp;&nbsp;&nbsp;&nbsp;&nbsp;option 2: [['population', 'C__target_encode__not_LOO__post_encode_null_to_global_mean__StrategyTransformer']]"
     },
     "metadata": {}
    },
    {
     "output_type": "display_data",
     "data": {
      "text/plain": "<IPython.core.display.HTML object>",
      "text/html": "&nbsp;&nbsp;&nbsp;&nbsp;&nbsp;&nbsp;&nbsp;&nbsp;option 3: [['population', 'C__replace_0_with_nan__StrategyTransformer']]"
     },
     "metadata": {}
    },
    {
     "output_type": "display_data",
     "data": {
      "text/plain": "<IPython.core.display.HTML object>",
      "text/html": "&nbsp;&nbsp;&nbsp;&nbsp;&nbsp;&nbsp;&nbsp;&nbsp;option 4: [['population', 'C__replace_outliers_with_mean__StrategyTransformer']]"
     },
     "metadata": {}
    },
    {
     "output_type": "display_data",
     "data": {
      "text/plain": "<IPython.core.display.HTML object>",
      "text/html": "&nbsp;&nbsp;&nbsp;&nbsp;&nbsp;&nbsp;&nbsp;&nbsp;option 5: [['population', 'C__replace_outliers_with_mean__StrategyTransformer'], ['population', 'C__replace_outliers_with_mean__StrategyTransformer']]"
     },
     "metadata": {}
    },
    {
     "output_type": "display_data",
     "data": {
      "text/plain": "<IPython.core.display.HTML object>",
      "text/html": "&nbsp;&nbsp;&nbsp;&nbsp;&nbsp;&nbsp;&nbsp;&nbsp;option 6: [['population', 'C__replace_outliers_with_median__StrategyTransformer']]"
     },
     "metadata": {}
    },
    {
     "output_type": "display_data",
     "data": {
      "text/plain": "<IPython.core.display.HTML object>",
      "text/html": "&nbsp;&nbsp;&nbsp;&nbsp;&nbsp;&nbsp;&nbsp;&nbsp;option 7: [['population', 'C__leave_it_as_is__StrategyTransformer']]"
     },
     "metadata": {}
    },
    {
     "output_type": "display_data",
     "data": {
      "text/plain": "<IPython.core.display.HTML object>",
      "text/html": "<p>"
     },
     "metadata": {}
    },
    {
     "output_type": "display_data",
     "data": {
      "text/plain": "<IPython.core.display.HTML object>",
      "text/html": "<p><br>"
     },
     "metadata": {}
    },
    {
     "output_type": "display_data",
     "data": {
      "text/plain": "<IPython.core.display.HTML object>",
      "text/html": "<b>public_meeting__group</b> feature-group has 1 features (['public_meeting']) handled across 1 preprocessing groups:"
     },
     "metadata": {}
    },
    {
     "output_type": "display_data",
     "data": {
      "text/plain": "<IPython.core.display.HTML object>",
      "text/html": "&nbsp;&nbsp;&nbsp;&nbsp;preprocessing group <b>public_meeting</b> has 2 preprocessing options"
     },
     "metadata": {}
    },
    {
     "output_type": "display_data",
     "data": {
      "text/plain": "<IPython.core.display.HTML object>",
      "text/html": "&nbsp;&nbsp;&nbsp;&nbsp;&nbsp;&nbsp;&nbsp;&nbsp;option 1: [['public_meeting', 'C__required_proprocessing__public_meeting__StrategyTransformer'], ['public_meeting', 'C__leave_it_as_is__StrategyTransformer']]"
     },
     "metadata": {}
    },
    {
     "output_type": "display_data",
     "data": {
      "text/plain": "<IPython.core.display.HTML object>",
      "text/html": "&nbsp;&nbsp;&nbsp;&nbsp;&nbsp;&nbsp;&nbsp;&nbsp;option 2: [['public_meeting', 'C__drop_it__StrategyTransformer']]"
     },
     "metadata": {}
    },
    {
     "output_type": "display_data",
     "data": {
      "text/plain": "<IPython.core.display.HTML object>",
      "text/html": "<p>"
     },
     "metadata": {}
    },
    {
     "output_type": "display_data",
     "data": {
      "text/plain": "<IPython.core.display.HTML object>",
      "text/html": "<p><br>"
     },
     "metadata": {}
    },
    {
     "output_type": "display_data",
     "data": {
      "text/plain": "<IPython.core.display.HTML object>",
      "text/html": "<b>recorded_by__group</b> feature-group has 1 features (['recorded_by']) handled across 1 preprocessing groups:"
     },
     "metadata": {}
    },
    {
     "output_type": "display_data",
     "data": {
      "text/plain": "<IPython.core.display.HTML object>",
      "text/html": "&nbsp;&nbsp;&nbsp;&nbsp;preprocessing group <b>recorded_by</b> has 1 preprocessing options"
     },
     "metadata": {}
    },
    {
     "output_type": "display_data",
     "data": {
      "text/plain": "<IPython.core.display.HTML object>",
      "text/html": "&nbsp;&nbsp;&nbsp;&nbsp;&nbsp;&nbsp;&nbsp;&nbsp;option 1: [['recorded_by', 'C__drop_it__StrategyTransformer']]"
     },
     "metadata": {}
    },
    {
     "output_type": "display_data",
     "data": {
      "text/plain": "<IPython.core.display.HTML object>",
      "text/html": "<p>"
     },
     "metadata": {}
    },
    {
     "output_type": "display_data",
     "data": {
      "text/plain": "<IPython.core.display.HTML object>",
      "text/html": "<p><br>"
     },
     "metadata": {}
    },
    {
     "output_type": "display_data",
     "data": {
      "text/plain": "<IPython.core.display.HTML object>",
      "text/html": "<b>wpt_operator__group</b> feature-group has 2 features (['scheme_management', 'scheme_name']) handled across 2 preprocessing groups:"
     },
     "metadata": {}
    },
    {
     "output_type": "display_data",
     "data": {
      "text/plain": "<IPython.core.display.HTML object>",
      "text/html": "&nbsp;&nbsp;&nbsp;&nbsp;preprocessing group <b>scheme_management</b> has 2 preprocessing options"
     },
     "metadata": {}
    },
    {
     "output_type": "display_data",
     "data": {
      "text/plain": "<IPython.core.display.HTML object>",
      "text/html": "&nbsp;&nbsp;&nbsp;&nbsp;&nbsp;&nbsp;&nbsp;&nbsp;option 1: [['scheme_management', 'C__required_proprocessing__scheme_management__StrategyTransformer'], ['scheme_management', 'C__target_encode__not_LOO__post_encode_null_to_global_mean__StrategyTransformer']]"
     },
     "metadata": {}
    },
    {
     "output_type": "display_data",
     "data": {
      "text/plain": "<IPython.core.display.HTML object>",
      "text/html": "&nbsp;&nbsp;&nbsp;&nbsp;&nbsp;&nbsp;&nbsp;&nbsp;option 2: [['scheme_management', 'C__drop_it__StrategyTransformer']]"
     },
     "metadata": {}
    },
    {
     "output_type": "display_data",
     "data": {
      "text/plain": "<IPython.core.display.HTML object>",
      "text/html": "<p>"
     },
     "metadata": {}
    },
    {
     "output_type": "display_data",
     "data": {
      "text/plain": "<IPython.core.display.HTML object>",
      "text/html": "&nbsp;&nbsp;&nbsp;&nbsp;preprocessing group <b>scheme_name</b> has 3 preprocessing options"
     },
     "metadata": {}
    },
    {
     "output_type": "display_data",
     "data": {
      "text/plain": "<IPython.core.display.HTML object>",
      "text/html": "&nbsp;&nbsp;&nbsp;&nbsp;&nbsp;&nbsp;&nbsp;&nbsp;option 1: [['scheme_name', 'C__required_proprocessing__scheme_name__StrategyTransformer'], ['scheme_name', 'C__target_encode__not_LOO__post_encode_null_to_global_mean__StrategyTransformer']]"
     },
     "metadata": {}
    },
    {
     "output_type": "display_data",
     "data": {
      "text/plain": "<IPython.core.display.HTML object>",
      "text/html": "&nbsp;&nbsp;&nbsp;&nbsp;&nbsp;&nbsp;&nbsp;&nbsp;option 2: [['scheme_name', 'C__required_proprocessing__scheme_name__StrategyTransformer'], ['scheme_name', 'C__tfidf_kmeans_classify__scheme_name__StrategyTransformer'], ['scheme_name_tfidf_kmeans_class', 'C__target_encode__not_LOO__post_encode_null_to_global_mean__StrategyTransformer'], ['scheme_name', 'C__drop_it__StrategyTransformer']]"
     },
     "metadata": {}
    },
    {
     "output_type": "display_data",
     "data": {
      "text/plain": "<IPython.core.display.HTML object>",
      "text/html": "&nbsp;&nbsp;&nbsp;&nbsp;&nbsp;&nbsp;&nbsp;&nbsp;option 3: [['scheme_name', 'C__drop_it__StrategyTransformer']]"
     },
     "metadata": {}
    },
    {
     "output_type": "display_data",
     "data": {
      "text/plain": "<IPython.core.display.HTML object>",
      "text/html": "<p>"
     },
     "metadata": {}
    },
    {
     "output_type": "display_data",
     "data": {
      "text/plain": "<IPython.core.display.HTML object>",
      "text/html": "<p><br>"
     },
     "metadata": {}
    },
    {
     "output_type": "display_data",
     "data": {
      "text/plain": "<IPython.core.display.HTML object>",
      "text/html": "<b>permit__group</b> feature-group has 1 features (['permit']) handled across 1 preprocessing groups:"
     },
     "metadata": {}
    },
    {
     "output_type": "display_data",
     "data": {
      "text/plain": "<IPython.core.display.HTML object>",
      "text/html": "&nbsp;&nbsp;&nbsp;&nbsp;preprocessing group <b>permit</b> has 2 preprocessing options"
     },
     "metadata": {}
    },
    {
     "output_type": "display_data",
     "data": {
      "text/plain": "<IPython.core.display.HTML object>",
      "text/html": "&nbsp;&nbsp;&nbsp;&nbsp;&nbsp;&nbsp;&nbsp;&nbsp;option 1: [['permit', 'C__required_proprocessing__permit__StrategyTransformer'], ['permit', 'C__leave_it_as_is__StrategyTransformer']]"
     },
     "metadata": {}
    },
    {
     "output_type": "display_data",
     "data": {
      "text/plain": "<IPython.core.display.HTML object>",
      "text/html": "&nbsp;&nbsp;&nbsp;&nbsp;&nbsp;&nbsp;&nbsp;&nbsp;option 2: [['permit', 'C__drop_it__StrategyTransformer']]"
     },
     "metadata": {}
    },
    {
     "output_type": "display_data",
     "data": {
      "text/plain": "<IPython.core.display.HTML object>",
      "text/html": "<p>"
     },
     "metadata": {}
    },
    {
     "output_type": "display_data",
     "data": {
      "text/plain": "<IPython.core.display.HTML object>",
      "text/html": "<p><br>"
     },
     "metadata": {}
    },
    {
     "output_type": "display_data",
     "data": {
      "text/plain": "<IPython.core.display.HTML object>",
      "text/html": "<b>wpt_extraction_type_class__group</b> feature-group has 3 features (['extraction_type', 'extraction_type_group', 'extraction_type_class']) handled across 3 preprocessing groups:"
     },
     "metadata": {}
    },
    {
     "output_type": "display_data",
     "data": {
      "text/plain": "<IPython.core.display.HTML object>",
      "text/html": "&nbsp;&nbsp;&nbsp;&nbsp;preprocessing group <b>extraction_type</b> has 2 preprocessing options"
     },
     "metadata": {}
    },
    {
     "output_type": "display_data",
     "data": {
      "text/plain": "<IPython.core.display.HTML object>",
      "text/html": "&nbsp;&nbsp;&nbsp;&nbsp;&nbsp;&nbsp;&nbsp;&nbsp;option 1: [['extraction_type', 'C__target_encode__not_LOO__post_encode_null_to_global_mean__StrategyTransformer']]"
     },
     "metadata": {}
    },
    {
     "output_type": "display_data",
     "data": {
      "text/plain": "<IPython.core.display.HTML object>",
      "text/html": "&nbsp;&nbsp;&nbsp;&nbsp;&nbsp;&nbsp;&nbsp;&nbsp;option 2: [['extraction_type', 'C__drop_it__StrategyTransformer']]"
     },
     "metadata": {}
    },
    {
     "output_type": "display_data",
     "data": {
      "text/plain": "<IPython.core.display.HTML object>",
      "text/html": "<p>"
     },
     "metadata": {}
    },
    {
     "output_type": "display_data",
     "data": {
      "text/plain": "<IPython.core.display.HTML object>",
      "text/html": "&nbsp;&nbsp;&nbsp;&nbsp;preprocessing group <b>extraction_type_group</b> has 1 preprocessing options"
     },
     "metadata": {}
    },
    {
     "output_type": "display_data",
     "data": {
      "text/plain": "<IPython.core.display.HTML object>",
      "text/html": "&nbsp;&nbsp;&nbsp;&nbsp;&nbsp;&nbsp;&nbsp;&nbsp;option 1: [['extraction_type_group', 'C__drop_it__StrategyTransformer']]"
     },
     "metadata": {}
    },
    {
     "output_type": "display_data",
     "data": {
      "text/plain": "<IPython.core.display.HTML object>",
      "text/html": "<p>"
     },
     "metadata": {}
    },
    {
     "output_type": "display_data",
     "data": {
      "text/plain": "<IPython.core.display.HTML object>",
      "text/html": "&nbsp;&nbsp;&nbsp;&nbsp;preprocessing group <b>extraction_type_class</b> has 1 preprocessing options"
     },
     "metadata": {}
    },
    {
     "output_type": "display_data",
     "data": {
      "text/plain": "<IPython.core.display.HTML object>",
      "text/html": "&nbsp;&nbsp;&nbsp;&nbsp;&nbsp;&nbsp;&nbsp;&nbsp;option 1: [['extraction_type_class', 'C__drop_it__StrategyTransformer']]"
     },
     "metadata": {}
    },
    {
     "output_type": "display_data",
     "data": {
      "text/plain": "<IPython.core.display.HTML object>",
      "text/html": "<p>"
     },
     "metadata": {}
    },
    {
     "output_type": "display_data",
     "data": {
      "text/plain": "<IPython.core.display.HTML object>",
      "text/html": "<p><br>"
     },
     "metadata": {}
    },
    {
     "output_type": "display_data",
     "data": {
      "text/plain": "<IPython.core.display.HTML object>",
      "text/html": "<b>wpt_management__group</b> feature-group has 2 features (['management', 'management_group']) handled across 2 preprocessing groups:"
     },
     "metadata": {}
    },
    {
     "output_type": "display_data",
     "data": {
      "text/plain": "<IPython.core.display.HTML object>",
      "text/html": "&nbsp;&nbsp;&nbsp;&nbsp;preprocessing group <b>management</b> has 2 preprocessing options"
     },
     "metadata": {}
    },
    {
     "output_type": "display_data",
     "data": {
      "text/plain": "<IPython.core.display.HTML object>",
      "text/html": "&nbsp;&nbsp;&nbsp;&nbsp;&nbsp;&nbsp;&nbsp;&nbsp;option 1: [['management', 'C__target_encode__not_LOO__post_encode_null_to_global_mean__StrategyTransformer']]"
     },
     "metadata": {}
    },
    {
     "output_type": "display_data",
     "data": {
      "text/plain": "<IPython.core.display.HTML object>",
      "text/html": "&nbsp;&nbsp;&nbsp;&nbsp;&nbsp;&nbsp;&nbsp;&nbsp;option 2: [['management', 'C__drop_it__StrategyTransformer']]"
     },
     "metadata": {}
    },
    {
     "output_type": "display_data",
     "data": {
      "text/plain": "<IPython.core.display.HTML object>",
      "text/html": "<p>"
     },
     "metadata": {}
    },
    {
     "output_type": "display_data",
     "data": {
      "text/plain": "<IPython.core.display.HTML object>",
      "text/html": "&nbsp;&nbsp;&nbsp;&nbsp;preprocessing group <b>management_group</b> has 1 preprocessing options"
     },
     "metadata": {}
    },
    {
     "output_type": "display_data",
     "data": {
      "text/plain": "<IPython.core.display.HTML object>",
      "text/html": "&nbsp;&nbsp;&nbsp;&nbsp;&nbsp;&nbsp;&nbsp;&nbsp;option 1: [['management_group', 'C__drop_it__StrategyTransformer']]"
     },
     "metadata": {}
    },
    {
     "output_type": "display_data",
     "data": {
      "text/plain": "<IPython.core.display.HTML object>",
      "text/html": "<p>"
     },
     "metadata": {}
    },
    {
     "output_type": "display_data",
     "data": {
      "text/plain": "<IPython.core.display.HTML object>",
      "text/html": "<p><br>"
     },
     "metadata": {}
    },
    {
     "output_type": "display_data",
     "data": {
      "text/plain": "<IPython.core.display.HTML object>",
      "text/html": "<b>payment_frequency_class__group</b> feature-group has 2 features (['payment', 'payment_type']) handled across 2 preprocessing groups:"
     },
     "metadata": {}
    },
    {
     "output_type": "display_data",
     "data": {
      "text/plain": "<IPython.core.display.HTML object>",
      "text/html": "&nbsp;&nbsp;&nbsp;&nbsp;preprocessing group <b>payment_type</b> has 2 preprocessing options"
     },
     "metadata": {}
    },
    {
     "output_type": "display_data",
     "data": {
      "text/plain": "<IPython.core.display.HTML object>",
      "text/html": "&nbsp;&nbsp;&nbsp;&nbsp;&nbsp;&nbsp;&nbsp;&nbsp;option 1: [['payment_type', 'C__target_encode__not_LOO__post_encode_null_to_global_mean__StrategyTransformer']]"
     },
     "metadata": {}
    },
    {
     "output_type": "display_data",
     "data": {
      "text/plain": "<IPython.core.display.HTML object>",
      "text/html": "&nbsp;&nbsp;&nbsp;&nbsp;&nbsp;&nbsp;&nbsp;&nbsp;option 2: [['payment_type', 'C__drop_it__StrategyTransformer']]"
     },
     "metadata": {}
    },
    {
     "output_type": "display_data",
     "data": {
      "text/plain": "<IPython.core.display.HTML object>",
      "text/html": "<p>"
     },
     "metadata": {}
    },
    {
     "output_type": "display_data",
     "data": {
      "text/plain": "<IPython.core.display.HTML object>",
      "text/html": "&nbsp;&nbsp;&nbsp;&nbsp;preprocessing group <b>payment</b> has 1 preprocessing options"
     },
     "metadata": {}
    },
    {
     "output_type": "display_data",
     "data": {
      "text/plain": "<IPython.core.display.HTML object>",
      "text/html": "&nbsp;&nbsp;&nbsp;&nbsp;&nbsp;&nbsp;&nbsp;&nbsp;option 1: [['payment', 'C__drop_it__StrategyTransformer']]"
     },
     "metadata": {}
    },
    {
     "output_type": "display_data",
     "data": {
      "text/plain": "<IPython.core.display.HTML object>",
      "text/html": "<p>"
     },
     "metadata": {}
    },
    {
     "output_type": "display_data",
     "data": {
      "text/plain": "<IPython.core.display.HTML object>",
      "text/html": "<p><br>"
     },
     "metadata": {}
    },
    {
     "output_type": "display_data",
     "data": {
      "text/plain": "<IPython.core.display.HTML object>",
      "text/html": "<b>water_quality_class__group</b> feature-group has 2 features (['water_quality', 'quality_group']) handled across 2 preprocessing groups:"
     },
     "metadata": {}
    },
    {
     "output_type": "display_data",
     "data": {
      "text/plain": "<IPython.core.display.HTML object>",
      "text/html": "&nbsp;&nbsp;&nbsp;&nbsp;preprocessing group <b>water_quality</b> has 2 preprocessing options"
     },
     "metadata": {}
    },
    {
     "output_type": "display_data",
     "data": {
      "text/plain": "<IPython.core.display.HTML object>",
      "text/html": "&nbsp;&nbsp;&nbsp;&nbsp;&nbsp;&nbsp;&nbsp;&nbsp;option 1: [['water_quality', 'C__target_encode__not_LOO__post_encode_null_to_global_mean__StrategyTransformer']]"
     },
     "metadata": {}
    },
    {
     "output_type": "display_data",
     "data": {
      "text/plain": "<IPython.core.display.HTML object>",
      "text/html": "&nbsp;&nbsp;&nbsp;&nbsp;&nbsp;&nbsp;&nbsp;&nbsp;option 2: [['water_quality', 'C__drop_it__StrategyTransformer']]"
     },
     "metadata": {}
    },
    {
     "output_type": "display_data",
     "data": {
      "text/plain": "<IPython.core.display.HTML object>",
      "text/html": "<p>"
     },
     "metadata": {}
    },
    {
     "output_type": "display_data",
     "data": {
      "text/plain": "<IPython.core.display.HTML object>",
      "text/html": "&nbsp;&nbsp;&nbsp;&nbsp;preprocessing group <b>quality_group</b> has 1 preprocessing options"
     },
     "metadata": {}
    },
    {
     "output_type": "display_data",
     "data": {
      "text/plain": "<IPython.core.display.HTML object>",
      "text/html": "&nbsp;&nbsp;&nbsp;&nbsp;&nbsp;&nbsp;&nbsp;&nbsp;option 1: [['quality_group', 'C__drop_it__StrategyTransformer']]"
     },
     "metadata": {}
    },
    {
     "output_type": "display_data",
     "data": {
      "text/plain": "<IPython.core.display.HTML object>",
      "text/html": "<p>"
     },
     "metadata": {}
    },
    {
     "output_type": "display_data",
     "data": {
      "text/plain": "<IPython.core.display.HTML object>",
      "text/html": "<p><br>"
     },
     "metadata": {}
    },
    {
     "output_type": "display_data",
     "data": {
      "text/plain": "<IPython.core.display.HTML object>",
      "text/html": "<b>water_quantity_class__group</b> feature-group has 2 features (['quantity', 'quantity_group']) handled across 2 preprocessing groups:"
     },
     "metadata": {}
    },
    {
     "output_type": "display_data",
     "data": {
      "text/plain": "<IPython.core.display.HTML object>",
      "text/html": "&nbsp;&nbsp;&nbsp;&nbsp;preprocessing group <b>water_quality</b> has 2 preprocessing options"
     },
     "metadata": {}
    },
    {
     "output_type": "display_data",
     "data": {
      "text/plain": "<IPython.core.display.HTML object>",
      "text/html": "&nbsp;&nbsp;&nbsp;&nbsp;&nbsp;&nbsp;&nbsp;&nbsp;option 1: [['quantity', 'C__target_encode__not_LOO__post_encode_null_to_global_mean__StrategyTransformer']]"
     },
     "metadata": {}
    },
    {
     "output_type": "display_data",
     "data": {
      "text/plain": "<IPython.core.display.HTML object>",
      "text/html": "&nbsp;&nbsp;&nbsp;&nbsp;&nbsp;&nbsp;&nbsp;&nbsp;option 2: [['quantity', 'C__drop_it__StrategyTransformer']]"
     },
     "metadata": {}
    },
    {
     "output_type": "display_data",
     "data": {
      "text/plain": "<IPython.core.display.HTML object>",
      "text/html": "<p>"
     },
     "metadata": {}
    },
    {
     "output_type": "display_data",
     "data": {
      "text/plain": "<IPython.core.display.HTML object>",
      "text/html": "&nbsp;&nbsp;&nbsp;&nbsp;preprocessing group <b>quantity_group</b> has 1 preprocessing options"
     },
     "metadata": {}
    },
    {
     "output_type": "display_data",
     "data": {
      "text/plain": "<IPython.core.display.HTML object>",
      "text/html": "&nbsp;&nbsp;&nbsp;&nbsp;&nbsp;&nbsp;&nbsp;&nbsp;option 1: [['quantity_group', 'C__drop_it__StrategyTransformer']]"
     },
     "metadata": {}
    },
    {
     "output_type": "display_data",
     "data": {
      "text/plain": "<IPython.core.display.HTML object>",
      "text/html": "<p>"
     },
     "metadata": {}
    },
    {
     "output_type": "display_data",
     "data": {
      "text/plain": "<IPython.core.display.HTML object>",
      "text/html": "<p><br>"
     },
     "metadata": {}
    },
    {
     "output_type": "display_data",
     "data": {
      "text/plain": "<IPython.core.display.HTML object>",
      "text/html": "<b>water_source_type_class__group</b> feature-group has 3 features (['source', 'source_type', 'source_class']) handled across 3 preprocessing groups:"
     },
     "metadata": {}
    },
    {
     "output_type": "display_data",
     "data": {
      "text/plain": "<IPython.core.display.HTML object>",
      "text/html": "&nbsp;&nbsp;&nbsp;&nbsp;preprocessing group <b>source</b> has 2 preprocessing options"
     },
     "metadata": {}
    },
    {
     "output_type": "display_data",
     "data": {
      "text/plain": "<IPython.core.display.HTML object>",
      "text/html": "&nbsp;&nbsp;&nbsp;&nbsp;&nbsp;&nbsp;&nbsp;&nbsp;option 1: [['source', 'C__target_encode__not_LOO__post_encode_null_to_global_mean__StrategyTransformer']]"
     },
     "metadata": {}
    },
    {
     "output_type": "display_data",
     "data": {
      "text/plain": "<IPython.core.display.HTML object>",
      "text/html": "&nbsp;&nbsp;&nbsp;&nbsp;&nbsp;&nbsp;&nbsp;&nbsp;option 2: [['source', 'C__drop_it__StrategyTransformer']]"
     },
     "metadata": {}
    },
    {
     "output_type": "display_data",
     "data": {
      "text/plain": "<IPython.core.display.HTML object>",
      "text/html": "<p>"
     },
     "metadata": {}
    },
    {
     "output_type": "display_data",
     "data": {
      "text/plain": "<IPython.core.display.HTML object>",
      "text/html": "&nbsp;&nbsp;&nbsp;&nbsp;preprocessing group <b>source_type</b> has 1 preprocessing options"
     },
     "metadata": {}
    },
    {
     "output_type": "display_data",
     "data": {
      "text/plain": "<IPython.core.display.HTML object>",
      "text/html": "&nbsp;&nbsp;&nbsp;&nbsp;&nbsp;&nbsp;&nbsp;&nbsp;option 1: [['source_type', 'C__drop_it__StrategyTransformer']]"
     },
     "metadata": {}
    },
    {
     "output_type": "display_data",
     "data": {
      "text/plain": "<IPython.core.display.HTML object>",
      "text/html": "<p>"
     },
     "metadata": {}
    },
    {
     "output_type": "display_data",
     "data": {
      "text/plain": "<IPython.core.display.HTML object>",
      "text/html": "&nbsp;&nbsp;&nbsp;&nbsp;preprocessing group <b>source_class</b> has 1 preprocessing options"
     },
     "metadata": {}
    },
    {
     "output_type": "display_data",
     "data": {
      "text/plain": "<IPython.core.display.HTML object>",
      "text/html": "&nbsp;&nbsp;&nbsp;&nbsp;&nbsp;&nbsp;&nbsp;&nbsp;option 1: [['source_class', 'C__drop_it__StrategyTransformer']]"
     },
     "metadata": {}
    },
    {
     "output_type": "display_data",
     "data": {
      "text/plain": "<IPython.core.display.HTML object>",
      "text/html": "<p>"
     },
     "metadata": {}
    },
    {
     "output_type": "display_data",
     "data": {
      "text/plain": "<IPython.core.display.HTML object>",
      "text/html": "<p><br>"
     },
     "metadata": {}
    },
    {
     "output_type": "display_data",
     "data": {
      "text/plain": "<IPython.core.display.HTML object>",
      "text/html": "<b>wpt_type_class__group</b> feature-group has 2 features (['waterpoint_type', 'waterpoint_type_group']) handled across 2 preprocessing groups:"
     },
     "metadata": {}
    },
    {
     "output_type": "display_data",
     "data": {
      "text/plain": "<IPython.core.display.HTML object>",
      "text/html": "&nbsp;&nbsp;&nbsp;&nbsp;preprocessing group <b>waterpoint_type</b> has 2 preprocessing options"
     },
     "metadata": {}
    },
    {
     "output_type": "display_data",
     "data": {
      "text/plain": "<IPython.core.display.HTML object>",
      "text/html": "&nbsp;&nbsp;&nbsp;&nbsp;&nbsp;&nbsp;&nbsp;&nbsp;option 1: [['waterpoint_type', 'C__target_encode__not_LOO__post_encode_null_to_global_mean__StrategyTransformer']]"
     },
     "metadata": {}
    },
    {
     "output_type": "display_data",
     "data": {
      "text/plain": "<IPython.core.display.HTML object>",
      "text/html": "&nbsp;&nbsp;&nbsp;&nbsp;&nbsp;&nbsp;&nbsp;&nbsp;option 2: [['waterpoint_type', 'C__drop_it__StrategyTransformer']]"
     },
     "metadata": {}
    },
    {
     "output_type": "display_data",
     "data": {
      "text/plain": "<IPython.core.display.HTML object>",
      "text/html": "<p>"
     },
     "metadata": {}
    },
    {
     "output_type": "display_data",
     "data": {
      "text/plain": "<IPython.core.display.HTML object>",
      "text/html": "&nbsp;&nbsp;&nbsp;&nbsp;preprocessing group <b>waterpoint_type_group</b> has 1 preprocessing options"
     },
     "metadata": {}
    },
    {
     "output_type": "display_data",
     "data": {
      "text/plain": "<IPython.core.display.HTML object>",
      "text/html": "&nbsp;&nbsp;&nbsp;&nbsp;&nbsp;&nbsp;&nbsp;&nbsp;option 1: [['waterpoint_type_group', 'C__drop_it__StrategyTransformer']]"
     },
     "metadata": {}
    },
    {
     "output_type": "display_data",
     "data": {
      "text/plain": "<IPython.core.display.HTML object>",
      "text/html": "<p>"
     },
     "metadata": {}
    },
    {
     "output_type": "display_data",
     "data": {
      "text/plain": "<IPython.core.display.HTML object>",
      "text/html": "<p><br>"
     },
     "metadata": {}
    },
    {
     "output_type": "display_data",
     "data": {
      "text/plain": "<IPython.core.display.Markdown object>",
      "text/markdown": "brute-force complexity: $O(|amount_tsh|\\times |pump_age|\\times |funder|\\times |gps_height|\\times |installer|\\times |gps_coordinates|\\times |wpt_name|\\times |num_private|\\times |basin|\\times |region_code|\\times |district_code|\\times |subvillage|\\times |region|\\times |lga|\\times |ward|\\times |population|\\times |public_meeting|\\times |recorded_by|\\times |scheme_management|\\times |scheme_name|\\times |permit|\\times |extraction_type|\\times |extraction_type_group|\\times |extraction_type_class|\\times |management|\\times |management_group|\\times |payment_type|\\times |payment|\\times |water_quality|\\times |quality_group|\\times |water_quality|\\times |quantity_group|\\times |source|\\times |source_type|\\times |source_class|\\times |waterpoint_type|\\times |waterpoint_type_group|)$"
     },
     "metadata": {}
    },
    {
     "output_type": "display_data",
     "data": {
      "text/plain": "<IPython.core.display.Markdown object>",
      "text/markdown": "$= 92897280$ (brute-force iterations!)"
     },
     "metadata": {}
    }
   ],
   "source": [
    "cartesian_prod = 1\n",
    "brute_force_complexity = []\n",
    "for feat_group_name in eda_config['feature_groupings']:\n",
    "    preprocessing_options = eda_config['feature_groupings'][feat_group_name]['preprocessing_options']\n",
    "\n",
    "    features = eda_config['feature_groupings'][feat_group_name]['features']\n",
    "\n",
    "    display(HTML(f\"<b>{feat_group_name}</b> feature-group has {len(features)} features ({features}) handled across {len(preprocessing_options)} preprocessing groups:\"))\n",
    "\n",
    "    # print(eda_config['feature_groupings'][feat_group_name]['preprocessing_options'])\n",
    "    for preprocessing_group_name, opts_for_group in preprocessing_options.items():\n",
    "        brute_force_complexity.append((preprocessing_group_name, opts_for_group))\n",
    "\n",
    "        display(HTML(f\"{scjpnutils.helper__HTML_tabs(1)}preprocessing group <b>{preprocessing_group_name}</b> has {len(opts_for_group)} preprocessing options\"))\n",
    "        cartesian_prod *= len(opts_for_group)\n",
    "\n",
    "        for idx, preprocessing_option in enumerate(opts_for_group):\n",
    "            display(HTML(f\"{scjpnutils.helper__HTML_tabs(2)}option {idx+1}: {preprocessing_option}\"))\n",
    "\n",
    "        display(HTML(\"<p>\"))\n",
    "\n",
    "    display(HTML(\"<p><br>\"))\n",
    "\n",
    "s_brute_force_complexity = '\\\\times '.join(['|'+t_ppg_ofg[0]+'|' for t_ppg_ofg in brute_force_complexity])\n",
    "s_brute_force_complexity = f\"$O({s_brute_force_complexity})$\"\n",
    "display(Markdown(f\"brute-force complexity: {s_brute_force_complexity}\"))\n",
    "\n",
    "# s_list_of_preprocessing_groups = pprint.pformat(list_of_preprocessing_groups, indent=4)\n",
    "# print(f\"\\nlist of feat-preprocessing-options:\\n{s_list_of_preprocessing_groups}\")\n",
    "\n",
    "display(Markdown(f\"$= {cartesian_prod}$ (brute-force iterations!)\"))\n",
    "# cartesian_prod = list(itertools.product(*list_of_preprocessing_groups)) # DO NOT UNCOMMENT THIS!  THIS TAKES A VERY LONG TIME TO COMPUTE.  IT IS ONLY HERE FOR REFERENCE.\n",
    "# print(f\"\\n\\nsize of cartesian-product (itertools): {len(cartesian_prod)}\")"
   ]
  },
  {
   "cell_type": "markdown",
   "metadata": {},
   "source": [
    "You read that correctly: if we do this using brute-force, that would be building (transforming) more than 46 million data sets!\n",
    "\n",
    "That is obviously intractible.  \n",
    "\n",
    "Consider the case when transforming both X_train and X_validation take, on average, 1 minute apiece.\n",
    "\n",
    "There are 525600 minutes in one year.\n",
    "\n",
    "**Doing the brute-force way would require 93 million minutes, which is about 177 years!**  LOL!\n",
    "\n",
    "Instead, we will use a Greedy Algorithm to make this a linear problem."
   ]
  },
  {
   "cell_type": "markdown",
   "metadata": {},
   "source": [
    "## Baselining the Greedy Way\n",
    "\n",
    "The idea goes like this:\n",
    "\n",
    "1. Build a baseline model using the most features possible - since a lot of features contains `nan` values, this precludes the use of `DecisionTreeClassifier` and `RandomForestClassifier` for baselining; thus, we will baseline using `XGBClassifier` since it allows `nan`s.\n",
    "2. From there, we will try out each option for each feature-group (specified in the config) - to be clear, we will include the baseline features plus those involved in the particular preprocessing option.\n",
    "3. Build a model (with `XGBClassifier`) and compare its validation accuracy to the validation accuracy of the baseline model - if it goes down or stays the same, this obviously is not a good preprocessing option to keep; if it goes up from the baseline, then we will obviously keep this preprocessing option; we will keep the option that garners the best improvement on a per-feature-group basis."
   ]
  },
  {
   "cell_type": "markdown",
   "metadata": {},
   "source": [
    "### Build Baseline Model\n",
    "\n",
    "We use this as a basis for comparison to demonstrate iterative permformance when examine available preprocessing options for a given feature-group.\n",
    "\n",
    "The idea is to use a classifier that is flexible enough to deal with as many of the features from the untouched training data set.  As we have seen, there are plenty of null/missing values in the raw data set.  So we want a classifier that can readily handle nulls.  That rules out using `DecisionTreeClassifier` or `RandomForestClassifier` for our baseline model.  `XGBClassifier`, on the other hand, can handle `nan`s just fine.  So we will use it to build our baseline and inspect various preprocessing options using it.\n",
    "\n",
    "However, for `XGBClassifier`, values it models must be an `int`, `float`, or `bool`.\n",
    "\n",
    "Thus, we need to filter out any features that are not of that type."
   ]
  },
  {
   "cell_type": "code",
   "execution_count": 203,
   "metadata": {},
   "outputs": [
    {
     "output_type": "execute_result",
     "data": {
      "text/plain": "['amount_tsh',\n 'gps_height',\n 'longitude',\n 'latitude',\n 'num_private',\n 'region_code',\n 'district_code',\n 'population',\n 'construction_year']"
     },
     "metadata": {},
     "execution_count": 203
    }
   ],
   "source": [
    "X_train_baseline = X_train.select_dtypes(['number', 'bool'])\n",
    "baseline_cols = list(X_train_baseline.columns)\n",
    "baseline_cols"
   ]
  },
  {
   "cell_type": "code",
   "execution_count": 204,
   "metadata": {
    "tags": []
   },
   "outputs": [
    {
     "output_type": "stream",
     "name": "stdout",
     "text": "<class 'pandas.core.frame.DataFrame'>\nInt64Index: 53460 entries, 56146 to 70556\nData columns (total 9 columns):\n #   Column             Non-Null Count  Dtype  \n---  ------             --------------  -----  \n 0   amount_tsh         53460 non-null  float64\n 1   gps_height         53460 non-null  int64  \n 2   longitude          53460 non-null  float64\n 3   latitude           53460 non-null  float64\n 4   num_private        53460 non-null  int64  \n 5   region_code        53460 non-null  int64  \n 6   district_code      53460 non-null  int64  \n 7   population         53460 non-null  int64  \n 8   construction_year  53460 non-null  int64  \ndtypes: float64(3), int64(6)\nmemory usage: 4.1 MB\n"
    }
   ],
   "source": [
    "X_train_baseline.info()"
   ]
  },
  {
   "cell_type": "code",
   "execution_count": 205,
   "metadata": {},
   "outputs": [],
   "source": [
    "X_validation_baseline = X_validation[baseline_cols]"
   ]
  },
  {
   "cell_type": "code",
   "execution_count": 206,
   "metadata": {},
   "outputs": [],
   "source": [
    "def summarize_preds(clf, X, y, preds, dataset_name, classes):\n",
    "    display(HTML(\"<p><br>\"))\n",
    "    _accuracy = accuracy_score(y, preds)\n",
    "    display(HTML(f\"{dataset_name} Accuracy: {round(_accuracy*100,4)}\"))\n",
    "    display(HTML(\"<p><br>\"))\n",
    "    display(HTML(f\"<pre>{classification_report(y, preds, target_names=classes)}</pre>\"))\n",
    "    return _accuracy"
   ]
  },
  {
   "cell_type": "code",
   "execution_count": 207,
   "metadata": {},
   "outputs": [
    {
     "output_type": "display_data",
     "data": {
      "text/plain": "<IPython.core.display.HTML object>",
      "text/html": "<p><br>"
     },
     "metadata": {}
    },
    {
     "output_type": "display_data",
     "data": {
      "text/plain": "<IPython.core.display.HTML object>",
      "text/html": "Validation Accuracy: 71.8182"
     },
     "metadata": {}
    },
    {
     "output_type": "display_data",
     "data": {
      "text/plain": "<IPython.core.display.HTML object>",
      "text/html": "<p><br>"
     },
     "metadata": {}
    },
    {
     "output_type": "display_data",
     "data": {
      "text/plain": "<IPython.core.display.HTML object>",
      "text/html": "<pre>                         precision    recall  f1-score   support\n\n             functional       0.72      0.84      0.78      3268\nfunctional needs repair       0.64      0.18      0.28       432\n         non functional       0.71      0.65      0.68      2240\n\n               accuracy                           0.72      5940\n              macro avg       0.69      0.55      0.58      5940\n           weighted avg       0.71      0.72      0.70      5940\n</pre>"
     },
     "metadata": {}
    }
   ],
   "source": [
    "clf = XGBClassifier(max_depth=10, n_jobs=-1)\n",
    "clf.fit(X_train_baseline, y_train_encoded.status_group)\n",
    "\n",
    "pred_validation_baseline = clf.predict(X_validation_baseline)\n",
    "_accuracy_validation_baseline = summarize_preds(clf, X_validation_baseline, y_validation_encoded.status_group, pred_validation_baseline, 'Validation', classes)"
   ]
  },
  {
   "cell_type": "code",
   "execution_count": 208,
   "metadata": {},
   "outputs": [],
   "source": [
    "# X_train_minimum_req_preprocessing = X_train.copy()\n",
    "\n",
    "# transformed_feat_names = []\n",
    "# for idx, preprocessing_option in enumerate(eda_config['feature_groupings']['minimal_required__group']['preprocessing_options']['all_required']):\n",
    "#     X_train_minimum_req_preprocessing, composite_transformer = exec_preprocessing_option(\n",
    "#         'all_required', \n",
    "#         preprocessing_option, \n",
    "#         X_train_augmented_baseline, \n",
    "#         y_train_encoded.status_group, \n",
    "#         pipeline_data_preprocessor\n",
    "#     )\n",
    "#     scjpnstrattransformers.colaesce_transformed_feat_names(composite_transformer, transformed_feat_names)\n",
    "\n",
    "# X_train_minimum_req_preprocessing.info()"
   ]
  },
  {
   "cell_type": "code",
   "execution_count": 209,
   "metadata": {},
   "outputs": [],
   "source": [
    "def render_HTML(s_html, not_used=None):\n",
    "    display(HTML(s_html))\n",
    "\n",
    "def find_best_option(feature_group_name, preprocessing_group_name, best_options):\n",
    "    display(HTML(f\"<h3>Finding best option for feature group <i>{feature_group_name}</i>, preprocessing group <i>{preprocessing_group_name}</i> after baseline...</h3>\"))\n",
    "\n",
    "    best = None\n",
    "    preprocessing__group_options = eda_config['feature_groupings'][feature_group_name]['preprocessing_options'][preprocessing_group_name]\n",
    "\n",
    "    X_train_priors_transformed = X_train.copy()\n",
    "\n",
    "    pipeline_priors = deepcopy(pipeline_data_preprocessor)\n",
    "\n",
    "    cols_priors = []\n",
    "    # apply best options already found preceding this one\n",
    "    if len(best_options) > 0:\n",
    "        display(HTML(f\"<h4>Transforming X with prior best options...</h4>\"))\n",
    "        for prior_best_option in best_options:\n",
    "            composite_transformer = scjpnstrattransformers.instantiate_strategy_transformer(\n",
    "                prior_best_option[1], \n",
    "                prior_best_option[0],\n",
    "                pipeline_priors\n",
    "            )\n",
    "            scjpnstrattransformers.html_prettify_strategy_transformer_description(composite_transformer)\n",
    "            X_train_priors_transformed = composite_transformer.fit_transform(X_train_priors_transformed, y_validation_encoded.status_group)\n",
    "\n",
    "            # get list of cols transformed by this option\n",
    "            transformed_cols = []\n",
    "            scjpnstrattransformers.colaesce_transformed_feat_names(composite_transformer, transformed_cols)\n",
    "            transformed_cols = set(transformed_cols)\n",
    "            # filter out any columns that were dropped\n",
    "            filtered_transformed_feat_names = list(filter(lambda feat_name: feat_name in list(X_train_priors_transformed.columns), transformed_cols))\n",
    "            filtered_baseline_cols = list(filter(lambda feat_name: feat_name in list(X_train_priors_transformed.columns), baseline_cols))\n",
    "            baseline_plus_transformed_cols = list(set(filtered_baseline_cols + filtered_transformed_feat_names))\n",
    "            cols_priors.extend(baseline_plus_transformed_cols)\n",
    "\n",
    "        display(HTML(f\"<h5>cols_priors: {cols_priors}</h5>\"))\n",
    "    \n",
    "    X_acc = []\n",
    "    y_acc = []\n",
    "    for idx, preprocessing_option in enumerate(preprocessing__group_options):\n",
    "        pipeline_temp = deepcopy(pipeline_priors)\n",
    "        cols_in_model = cols_priors.copy()\n",
    "\n",
    "        X_train_transformed, composite_transformer = exec_preprocessing_option(\n",
    "            preprocessing_group_name, \n",
    "            preprocessing_option, \n",
    "            X_train_priors_transformed.copy(), \n",
    "            y_train_encoded.status_group, \n",
    "            pipeline=pipeline_temp\n",
    "        )\n",
    "        display(HTML(f\"<h4>Building model on X transformed with current option...</h4>\"))\n",
    "        \n",
    "        # get list of cols transformed by this option\n",
    "        transformed_cols = []\n",
    "        scjpnstrattransformers.colaesce_transformed_feat_names(composite_transformer, transformed_cols)\n",
    "        transformed_cols = set(transformed_cols)\n",
    "        # filter out any columns that were dropped\n",
    "        filtered_transformed_feat_names = list(filter(lambda feat_name: feat_name in list(X_train_transformed.columns), transformed_cols))\n",
    "        filtered_baseline_cols = list(filter(lambda feat_name: feat_name in list(X_train_transformed.columns), baseline_cols))\n",
    "        baseline_plus_transformed_cols = list(set(filtered_baseline_cols + filtered_transformed_feat_names))\n",
    "\n",
    "        cols_in_model.extend(baseline_plus_transformed_cols)\n",
    "        display(HTML(f\"<h5>cols_in_model: {cols_in_model}</h5>\"))\n",
    "\n",
    "        if len(cols_in_model) > 0:\n",
    "            X_acc.append(idx)\n",
    "\n",
    "            X_train_transformed = X_train_transformed[cols_in_model]\n",
    "            clf = XGBClassifier(max_depth=10)\n",
    "            clf.fit(X_train_transformed, y_train_encoded.status_group)\n",
    "\n",
    "            X_validation_transformed = pipeline_temp.transform(X_validation) \n",
    "            X_validation_transformed = X_validation_transformed[cols_in_model]\n",
    "            pred_validation = clf.predict(X_validation_transformed)\n",
    "            _accuracy_validation = summarize_preds(clf, X_validation_transformed, y_validation_encoded.status_group, pred_validation, 'Validation', classes)\n",
    "            y_acc.append(_accuracy_validation)\n",
    "\n",
    "            if best is None or _accuracy_validation > best[2]:\n",
    "                best = (preprocessing_group_name, preprocessing_option, _accuracy_validation)\n",
    "                display(HTML(f\"<h5>Option {idx+1}, {best} yields new BEST validation accuracy!</h5>\"))\n",
    "\n",
    "            display(HTML(\"<p><br><br><br><br>\"))\n",
    "\n",
    "    plt.figure()\n",
    "    plt.plot(X_acc, y_acc)\n",
    "    plt.axhline(y=_accuracy_validation_baseline, color=\"red\" if best[2] < _accuracy_validation_baseline else \"green\")\n",
    "    plt.show()\n",
    "\n",
    "    if best[2] < _accuracy_validation_baseline:\n",
    "        display(HTML(f\"<h2><font color='red'>NO OPTION INCREASES ACCURACY BEYOND BASELINE ({_accuracy_validation_baseline})!</font></h2>\"))\n",
    "\n",
    "    return best"
   ]
  },
  {
   "cell_type": "code",
   "execution_count": 210,
   "metadata": {
    "tags": []
   },
   "outputs": [],
   "source": [
    "# best_options = []\n",
    "# find_best_option('amount_tsh__group', 'amount_tsh', best_options)"
   ]
  },
  {
   "cell_type": "code",
   "execution_count": 211,
   "metadata": {
    "tags": []
   },
   "outputs": [
    {
     "output_type": "display_data",
     "data": {
      "text/plain": "<IPython.core.display.HTML object>",
      "text/html": "<h3>Finding best option for feature group <i>amount_tsh__group</i>, preprocessing group <i>amount_tsh</i> after baseline...</h3>"
     },
     "metadata": {}
    },
    {
     "output_type": "display_data",
     "data": {
      "text/plain": "<IPython.core.display.HTML object>",
      "text/html": "<b>(composite) strategy name/description: <i><font color='red'>amount_tsh</font></i></b><ol><li><b>strategy description</b>: <i><font color='blue'>leave feature as is (do nothing): amount_tsh</font></i></li></ol>"
     },
     "metadata": {}
    },
    {
     "output_type": "stream",
     "name": "stdout",
     "text": "strategy \"leave feature as is (do nothing): amount_tsh\" appended step ['leave feature as is (do nothing): amount_tsh', FunctionTransformer(func=<function C__leave_it_as_is__StrategyTransformer.get_transformer.<locals>.<lambda> at 0x7fa9ceff29e0>)] to pipeline\nstrategy \"leave feature as is (do nothing): amount_tsh\" transformation of feature \"amount_tsh\" is COMPLETE!\n"
    },
    {
     "output_type": "display_data",
     "data": {
      "text/plain": "<IPython.core.display.HTML object>",
      "text/html": "<h4>Building model on X transformed with current option...</h4>"
     },
     "metadata": {}
    },
    {
     "output_type": "display_data",
     "data": {
      "text/plain": "<IPython.core.display.HTML object>",
      "text/html": "<h5>cols_in_model: ['latitude', 'district_code', 'population', 'region_code', 'construction_year', 'gps_height', 'amount_tsh', 'longitude', 'num_private']</h5>"
     },
     "metadata": {}
    },
    {
     "output_type": "display_data",
     "data": {
      "text/plain": "<IPython.core.display.HTML object>",
      "text/html": "<p><br>"
     },
     "metadata": {}
    },
    {
     "output_type": "display_data",
     "data": {
      "text/plain": "<IPython.core.display.HTML object>",
      "text/html": "Validation Accuracy: 71.8182"
     },
     "metadata": {}
    },
    {
     "output_type": "display_data",
     "data": {
      "text/plain": "<IPython.core.display.HTML object>",
      "text/html": "<p><br>"
     },
     "metadata": {}
    },
    {
     "output_type": "display_data",
     "data": {
      "text/plain": "<IPython.core.display.HTML object>",
      "text/html": "<pre>                         precision    recall  f1-score   support\n\n             functional       0.72      0.84      0.78      3268\nfunctional needs repair       0.64      0.19      0.29       432\n         non functional       0.71      0.65      0.68      2240\n\n               accuracy                           0.72      5940\n              macro avg       0.69      0.56      0.58      5940\n           weighted avg       0.71      0.72      0.70      5940\n</pre>"
     },
     "metadata": {}
    },
    {
     "output_type": "display_data",
     "data": {
      "text/plain": "<IPython.core.display.HTML object>",
      "text/html": "<h5>Option 1, ('amount_tsh', [['amount_tsh', 'C__leave_it_as_is__StrategyTransformer']], 0.7181818181818181) yields new BEST validation accuracy!</h5>"
     },
     "metadata": {}
    },
    {
     "output_type": "display_data",
     "data": {
      "text/plain": "<IPython.core.display.HTML object>",
      "text/html": "<p><br><br><br><br>"
     },
     "metadata": {}
    },
    {
     "output_type": "display_data",
     "data": {
      "text/plain": "<IPython.core.display.HTML object>",
      "text/html": "<b>(composite) strategy name/description: <i><font color='red'>amount_tsh</font></i></b><ol><li><b>strategy description</b>: <i><font color='blue'>(prefit) target-encoder (LOO==False, post_encode_null_to_global_mean==True) transform: amount_tsh</font></i></li></ol>"
     },
     "metadata": {}
    },
    {
     "output_type": "stream",
     "name": "stdout",
     "text": "** TargetEncoderLOOTransformer FIT INFO **: transformer has been fit to X\nstrategy \"(prefit) target-encoder (LOO==False, post_encode_null_to_global_mean==True) transform: amount_tsh\" appended step ['(prefit) target-encoder (LOO==False, post_encode_null_to_global_mean==True) transform: amount_tsh', FunctionTransformer(func=<function C__target_encode__StrategyTransformer.get_transformer.<locals>.<lambda> at 0x7fa9ceff2dd0>)] to pipeline\n** TargetEncoderLOOTransformer TRANSFORM INFO **: NOT using Leave-One-Out\n** TargetEncoderLOOTransformer TRANSFORM INFO **: unique categories of 'amount_tsh' in X match those that were previously fit\nadded new feature: amount_tsh_target_encoded\nstrategy '(prefit) target-encoder (LOO==False, post_encode_null_to_global_mean==True) transform: amount_tsh' appended step ['drop after target encoding: amount_tsh', <scjpnlib.utils.skl_transformers.DropColumnsTransformer object at 0x7fa9dde15bd0>] to pipeline\nstrategy '(prefit) target-encoder (LOO==False, post_encode_null_to_global_mean==True) transform: amount_tsh' dropped feature 'amount_tsh' after target encoding\nstrategy '(prefit) target-encoder (LOO==False, post_encode_null_to_global_mean==True) transform: amount_tsh' transformation of feature 'amount_tsh' to 'amount_tsh_target_encoded' is COMPLETE!\n"
    },
    {
     "output_type": "display_data",
     "data": {
      "text/plain": "<IPython.core.display.HTML object>",
      "text/html": "<h4>Building model on X transformed with current option...</h4>"
     },
     "metadata": {}
    },
    {
     "output_type": "display_data",
     "data": {
      "text/plain": "<IPython.core.display.HTML object>",
      "text/html": "<h5>cols_in_model: ['latitude', 'district_code', 'population', 'region_code', 'construction_year', 'gps_height', 'amount_tsh_target_encoded', 'longitude', 'num_private']</h5>"
     },
     "metadata": {}
    },
    {
     "output_type": "stream",
     "name": "stdout",
     "text": "** TargetEncoderLOOTransformer TRANSFORM INFO **: NOT using Leave-One-Out\n** TargetEncoderLOOTransformer TRANSFORM WARNING!! **: 2 categories of 'amount_tsh' occur in X (out of 56 unique) that do not exist in the set of fit categories - modeled accuracy on X will drop as a result\n** TargetEncoderLOOTransformer TRANSFORM WARNING!! **: feat 'amount_tsh' has 2 nan values after target encoding; replacing these with last fit target global mean: 0.8427422371866816\nadded new feature: amount_tsh_target_encoded\n"
    },
    {
     "output_type": "display_data",
     "data": {
      "text/plain": "<IPython.core.display.HTML object>",
      "text/html": "<p><br>"
     },
     "metadata": {}
    },
    {
     "output_type": "display_data",
     "data": {
      "text/plain": "<IPython.core.display.HTML object>",
      "text/html": "Validation Accuracy: 71.2626"
     },
     "metadata": {}
    },
    {
     "output_type": "display_data",
     "data": {
      "text/plain": "<IPython.core.display.HTML object>",
      "text/html": "<p><br>"
     },
     "metadata": {}
    },
    {
     "output_type": "display_data",
     "data": {
      "text/plain": "<IPython.core.display.HTML object>",
      "text/html": "<pre>                         precision    recall  f1-score   support\n\n             functional       0.72      0.84      0.77      3268\nfunctional needs repair       0.62      0.18      0.28       432\n         non functional       0.71      0.64      0.67      2240\n\n               accuracy                           0.71      5940\n              macro avg       0.68      0.55      0.57      5940\n           weighted avg       0.71      0.71      0.70      5940\n</pre>"
     },
     "metadata": {}
    },
    {
     "output_type": "display_data",
     "data": {
      "text/plain": "<IPython.core.display.HTML object>",
      "text/html": "<p><br><br><br><br>"
     },
     "metadata": {}
    },
    {
     "output_type": "display_data",
     "data": {
      "text/plain": "<IPython.core.display.HTML object>",
      "text/html": "<b>(composite) strategy name/description: <i><font color='red'>amount_tsh</font></i></b><ol><li><b>strategy description</b>: <i><font color='blue'>replace \"amount_tsh\" values (0) with nan</font></i></li></ol>"
     },
     "metadata": {}
    },
    {
     "output_type": "stream",
     "name": "stdout",
     "text": "strategy \"replace \"amount_tsh\" values (0) with nan\" appended step ['replace \"amount_tsh\" values (0) with nan', FunctionTransformer(func=<function C__replace_0_with_nan__StrategyTransformer.get_transformer.<locals>.<lambda> at 0x7fa9ceff2cb0>)] to pipeline\nstrategy \"replace \"amount_tsh\" values (0) with nan\" transformation of feature \"amount_tsh\" is COMPLETE!\n"
    },
    {
     "output_type": "display_data",
     "data": {
      "text/plain": "<IPython.core.display.HTML object>",
      "text/html": "<h4>Building model on X transformed with current option...</h4>"
     },
     "metadata": {}
    },
    {
     "output_type": "display_data",
     "data": {
      "text/plain": "<IPython.core.display.HTML object>",
      "text/html": "<h5>cols_in_model: ['latitude', 'district_code', 'population', 'region_code', 'construction_year', 'gps_height', 'amount_tsh', 'longitude', 'num_private']</h5>"
     },
     "metadata": {}
    },
    {
     "output_type": "display_data",
     "data": {
      "text/plain": "<IPython.core.display.HTML object>",
      "text/html": "<p><br>"
     },
     "metadata": {}
    },
    {
     "output_type": "display_data",
     "data": {
      "text/plain": "<IPython.core.display.HTML object>",
      "text/html": "Validation Accuracy: 71.3805"
     },
     "metadata": {}
    },
    {
     "output_type": "display_data",
     "data": {
      "text/plain": "<IPython.core.display.HTML object>",
      "text/html": "<p><br>"
     },
     "metadata": {}
    },
    {
     "output_type": "display_data",
     "data": {
      "text/plain": "<IPython.core.display.HTML object>",
      "text/html": "<pre>                         precision    recall  f1-score   support\n\n             functional       0.72      0.83      0.77      3268\nfunctional needs repair       0.63      0.19      0.29       432\n         non functional       0.71      0.65      0.68      2240\n\n               accuracy                           0.71      5940\n              macro avg       0.68      0.56      0.58      5940\n           weighted avg       0.71      0.71      0.70      5940\n</pre>"
     },
     "metadata": {}
    },
    {
     "output_type": "display_data",
     "data": {
      "text/plain": "<IPython.core.display.HTML object>",
      "text/html": "<p><br><br><br><br>"
     },
     "metadata": {}
    },
    {
     "output_type": "display_data",
     "data": {
      "text/plain": "<IPython.core.display.HTML object>",
      "text/html": "<b>(composite) strategy name/description: <i><font color='red'>amount_tsh</font></i></b><ol><li><b>strategy description</b>: <i><font color='blue'>replace \"amount_tsh\" outliers with mean</font></i></li></ol>"
     },
     "metadata": {}
    },
    {
     "output_type": "stream",
     "name": "stdout",
     "text": "strategy \"replace \"amount_tsh\" outliers with mean\" appended step ['replace \"amount_tsh\" outliers with mean', <scjpnlib.utils.skl_transformers.SimpleValueTransformer object at 0x7fa9eb38f9d0>] to pipeline\nstrategy \"replace \"amount_tsh\" outliers with mean\" transformation of feature \"amount_tsh\" is COMPLETE!\n"
    },
    {
     "output_type": "display_data",
     "data": {
      "text/plain": "<IPython.core.display.HTML object>",
      "text/html": "<h4>Building model on X transformed with current option...</h4>"
     },
     "metadata": {}
    },
    {
     "output_type": "display_data",
     "data": {
      "text/plain": "<IPython.core.display.HTML object>",
      "text/html": "<h5>cols_in_model: ['latitude', 'district_code', 'population', 'region_code', 'construction_year', 'gps_height', 'amount_tsh', 'longitude', 'num_private']</h5>"
     },
     "metadata": {}
    },
    {
     "output_type": "display_data",
     "data": {
      "text/plain": "<IPython.core.display.HTML object>",
      "text/html": "<p><br>"
     },
     "metadata": {}
    },
    {
     "output_type": "display_data",
     "data": {
      "text/plain": "<IPython.core.display.HTML object>",
      "text/html": "Validation Accuracy: 71.8519"
     },
     "metadata": {}
    },
    {
     "output_type": "display_data",
     "data": {
      "text/plain": "<IPython.core.display.HTML object>",
      "text/html": "<p><br>"
     },
     "metadata": {}
    },
    {
     "output_type": "display_data",
     "data": {
      "text/plain": "<IPython.core.display.HTML object>",
      "text/html": "<pre>                         precision    recall  f1-score   support\n\n             functional       0.72      0.84      0.78      3268\nfunctional needs repair       0.63      0.19      0.29       432\n         non functional       0.72      0.64      0.68      2240\n\n               accuracy                           0.72      5940\n              macro avg       0.69      0.56      0.58      5940\n           weighted avg       0.71      0.72      0.70      5940\n</pre>"
     },
     "metadata": {}
    },
    {
     "output_type": "display_data",
     "data": {
      "text/plain": "<IPython.core.display.HTML object>",
      "text/html": "<h5>Option 4, ('amount_tsh', [['amount_tsh', 'C__replace_outliers_with_mean__StrategyTransformer']], 0.7185185185185186) yields new BEST validation accuracy!</h5>"
     },
     "metadata": {}
    },
    {
     "output_type": "display_data",
     "data": {
      "text/plain": "<IPython.core.display.HTML object>",
      "text/html": "<p><br><br><br><br>"
     },
     "metadata": {}
    },
    {
     "output_type": "display_data",
     "data": {
      "text/plain": "<IPython.core.display.HTML object>",
      "text/html": "<b>(composite) strategy name/description: <i><font color='red'>amount_tsh</font></i></b><ol><li><b>strategy description</b>: <i><font color='blue'>drop feature: amount_tsh</font></i></li></ol>"
     },
     "metadata": {}
    },
    {
     "output_type": "stream",
     "name": "stdout",
     "text": "strategy \"drop feature: amount_tsh\" appended step ['drop feature: amount_tsh', <scjpnlib.utils.skl_transformers.DropColumnsTransformer object at 0x7fa9ea6f4990>] to pipeline\nstrategy \"drop feature: amount_tsh\" transformation of feature \"amount_tsh\" is COMPLETE!\n"
    },
    {
     "output_type": "display_data",
     "data": {
      "text/plain": "<IPython.core.display.HTML object>",
      "text/html": "<h4>Building model on X transformed with current option...</h4>"
     },
     "metadata": {}
    },
    {
     "output_type": "display_data",
     "data": {
      "text/plain": "<IPython.core.display.HTML object>",
      "text/html": "<h5>cols_in_model: ['latitude', 'district_code', 'population', 'region_code', 'construction_year', 'gps_height', 'longitude', 'num_private']</h5>"
     },
     "metadata": {}
    },
    {
     "output_type": "display_data",
     "data": {
      "text/plain": "<IPython.core.display.HTML object>",
      "text/html": "<p><br>"
     },
     "metadata": {}
    },
    {
     "output_type": "display_data",
     "data": {
      "text/plain": "<IPython.core.display.HTML object>",
      "text/html": "Validation Accuracy: 71.0269"
     },
     "metadata": {}
    },
    {
     "output_type": "display_data",
     "data": {
      "text/plain": "<IPython.core.display.HTML object>",
      "text/html": "<p><br>"
     },
     "metadata": {}
    },
    {
     "output_type": "display_data",
     "data": {
      "text/plain": "<IPython.core.display.HTML object>",
      "text/html": "<pre>                         precision    recall  f1-score   support\n\n             functional       0.72      0.84      0.77      3268\nfunctional needs repair       0.65      0.19      0.29       432\n         non functional       0.70      0.63      0.66      2240\n\n               accuracy                           0.71      5940\n              macro avg       0.69      0.55      0.58      5940\n           weighted avg       0.71      0.71      0.70      5940\n</pre>"
     },
     "metadata": {}
    },
    {
     "output_type": "display_data",
     "data": {
      "text/plain": "<IPython.core.display.HTML object>",
      "text/html": "<p><br><br><br><br>"
     },
     "metadata": {}
    },
    {
     "output_type": "display_data",
     "data": {
      "text/plain": "<Figure size 432x288 with 1 Axes>",
      "image/svg+xml": "<?xml version=\"1.0\" encoding=\"utf-8\" standalone=\"no\"?>\n<!DOCTYPE svg PUBLIC \"-//W3C//DTD SVG 1.1//EN\"\n  \"http://www.w3.org/Graphics/SVG/1.1/DTD/svg11.dtd\">\n<!-- Created with matplotlib (https://matplotlib.org/) -->\n<svg height=\"247.985312pt\" version=\"1.1\" viewBox=\"0 0 381.221875 247.985312\" width=\"381.221875pt\" xmlns=\"http://www.w3.org/2000/svg\" xmlns:xlink=\"http://www.w3.org/1999/xlink\">\n <defs>\n  <style type=\"text/css\">\n*{stroke-linecap:butt;stroke-linejoin:round;}\n  </style>\n </defs>\n <g id=\"figure_1\">\n  <g id=\"patch_1\">\n   <path d=\"M 0 247.985312 \nL 381.221875 247.985312 \nL 381.221875 0 \nL 0 0 \nz\n\" style=\"fill:#ffffff;\"/>\n  </g>\n  <g id=\"axes_1\">\n   <g id=\"patch_2\">\n    <path d=\"M 39.221875 224.64 \nL 374.021875 224.64 \nL 374.021875 7.2 \nL 39.221875 7.2 \nz\n\" style=\"fill:#ffffff;\"/>\n   </g>\n   <g id=\"matplotlib.axis_1\">\n    <g id=\"xtick_1\">\n     <g id=\"line2d_1\">\n      <path clip-path=\"url(#p4a4d715825)\" d=\"M 54.440057 224.64 \nL 54.440057 7.2 \n\" style=\"fill:none;stroke:#cccccc;stroke-linecap:round;stroke-width:0.8;\"/>\n     </g>\n     <g id=\"text_1\">\n      <!-- 0.0 -->\n      <defs>\n       <path d=\"M 4.15625 35.296875 \nQ 4.15625 48 6.765625 55.734375 \nQ 9.375 63.484375 14.515625 67.671875 \nQ 19.671875 71.875 27.484375 71.875 \nQ 33.25 71.875 37.59375 69.546875 \nQ 41.9375 67.234375 44.765625 62.859375 \nQ 47.609375 58.5 49.21875 52.21875 \nQ 50.828125 45.953125 50.828125 35.296875 \nQ 50.828125 22.703125 48.234375 14.96875 \nQ 45.65625 7.234375 40.5 3 \nQ 35.359375 -1.21875 27.484375 -1.21875 \nQ 17.140625 -1.21875 11.234375 6.203125 \nQ 4.15625 15.140625 4.15625 35.296875 \nz\nM 13.1875 35.296875 \nQ 13.1875 17.671875 17.3125 11.828125 \nQ 21.4375 6 27.484375 6 \nQ 33.546875 6 37.671875 11.859375 \nQ 41.796875 17.71875 41.796875 35.296875 \nQ 41.796875 52.984375 37.671875 58.78125 \nQ 33.546875 64.59375 27.390625 64.59375 \nQ 21.34375 64.59375 17.71875 59.46875 \nQ 13.1875 52.9375 13.1875 35.296875 \nz\n\" id=\"ArialMT-48\"/>\n       <path d=\"M 9.078125 0 \nL 9.078125 10.015625 \nL 19.09375 10.015625 \nL 19.09375 0 \nz\n\" id=\"ArialMT-46\"/>\n      </defs>\n      <g style=\"fill:#262626;\" transform=\"translate(47.490057 238.797812)scale(0.1 -0.1)\">\n       <use xlink:href=\"#ArialMT-48\"/>\n       <use x=\"55.615234\" xlink:href=\"#ArialMT-46\"/>\n       <use x=\"83.398438\" xlink:href=\"#ArialMT-48\"/>\n      </g>\n     </g>\n    </g>\n    <g id=\"xtick_2\">\n     <g id=\"line2d_2\">\n      <path clip-path=\"url(#p4a4d715825)\" d=\"M 92.485511 224.64 \nL 92.485511 7.2 \n\" style=\"fill:none;stroke:#cccccc;stroke-linecap:round;stroke-width:0.8;\"/>\n     </g>\n     <g id=\"text_2\">\n      <!-- 0.5 -->\n      <defs>\n       <path d=\"M 4.15625 18.75 \nL 13.375 19.53125 \nQ 14.40625 12.796875 18.140625 9.390625 \nQ 21.875 6 27.15625 6 \nQ 33.5 6 37.890625 10.78125 \nQ 42.28125 15.578125 42.28125 23.484375 \nQ 42.28125 31 38.0625 35.34375 \nQ 33.84375 39.703125 27 39.703125 \nQ 22.75 39.703125 19.328125 37.765625 \nQ 15.921875 35.84375 13.96875 32.765625 \nL 5.71875 33.84375 \nL 12.640625 70.609375 \nL 48.25 70.609375 \nL 48.25 62.203125 \nL 19.671875 62.203125 \nL 15.828125 42.96875 \nQ 22.265625 47.46875 29.34375 47.46875 \nQ 38.71875 47.46875 45.15625 40.96875 \nQ 51.609375 34.46875 51.609375 24.265625 \nQ 51.609375 14.546875 45.953125 7.46875 \nQ 39.0625 -1.21875 27.15625 -1.21875 \nQ 17.390625 -1.21875 11.203125 4.25 \nQ 5.03125 9.71875 4.15625 18.75 \nz\n\" id=\"ArialMT-53\"/>\n      </defs>\n      <g style=\"fill:#262626;\" transform=\"translate(85.535511 238.797812)scale(0.1 -0.1)\">\n       <use xlink:href=\"#ArialMT-48\"/>\n       <use x=\"55.615234\" xlink:href=\"#ArialMT-46\"/>\n       <use x=\"83.398438\" xlink:href=\"#ArialMT-53\"/>\n      </g>\n     </g>\n    </g>\n    <g id=\"xtick_3\">\n     <g id=\"line2d_3\">\n      <path clip-path=\"url(#p4a4d715825)\" d=\"M 130.530966 224.64 \nL 130.530966 7.2 \n\" style=\"fill:none;stroke:#cccccc;stroke-linecap:round;stroke-width:0.8;\"/>\n     </g>\n     <g id=\"text_3\">\n      <!-- 1.0 -->\n      <defs>\n       <path d=\"M 37.25 0 \nL 28.46875 0 \nL 28.46875 56 \nQ 25.296875 52.984375 20.140625 49.953125 \nQ 14.984375 46.921875 10.890625 45.40625 \nL 10.890625 53.90625 \nQ 18.265625 57.375 23.78125 62.296875 \nQ 29.296875 67.234375 31.59375 71.875 \nL 37.25 71.875 \nz\n\" id=\"ArialMT-49\"/>\n      </defs>\n      <g style=\"fill:#262626;\" transform=\"translate(123.580966 238.797812)scale(0.1 -0.1)\">\n       <use xlink:href=\"#ArialMT-49\"/>\n       <use x=\"55.615234\" xlink:href=\"#ArialMT-46\"/>\n       <use x=\"83.398438\" xlink:href=\"#ArialMT-48\"/>\n      </g>\n     </g>\n    </g>\n    <g id=\"xtick_4\">\n     <g id=\"line2d_4\">\n      <path clip-path=\"url(#p4a4d715825)\" d=\"M 168.57642 224.64 \nL 168.57642 7.2 \n\" style=\"fill:none;stroke:#cccccc;stroke-linecap:round;stroke-width:0.8;\"/>\n     </g>\n     <g id=\"text_4\">\n      <!-- 1.5 -->\n      <g style=\"fill:#262626;\" transform=\"translate(161.62642 238.797812)scale(0.1 -0.1)\">\n       <use xlink:href=\"#ArialMT-49\"/>\n       <use x=\"55.615234\" xlink:href=\"#ArialMT-46\"/>\n       <use x=\"83.398438\" xlink:href=\"#ArialMT-53\"/>\n      </g>\n     </g>\n    </g>\n    <g id=\"xtick_5\">\n     <g id=\"line2d_5\">\n      <path clip-path=\"url(#p4a4d715825)\" d=\"M 206.621875 224.64 \nL 206.621875 7.2 \n\" style=\"fill:none;stroke:#cccccc;stroke-linecap:round;stroke-width:0.8;\"/>\n     </g>\n     <g id=\"text_5\">\n      <!-- 2.0 -->\n      <defs>\n       <path d=\"M 50.34375 8.453125 \nL 50.34375 0 \nL 3.03125 0 \nQ 2.9375 3.171875 4.046875 6.109375 \nQ 5.859375 10.9375 9.828125 15.625 \nQ 13.8125 20.3125 21.34375 26.46875 \nQ 33.015625 36.03125 37.109375 41.625 \nQ 41.21875 47.21875 41.21875 52.203125 \nQ 41.21875 57.421875 37.46875 61 \nQ 33.734375 64.59375 27.734375 64.59375 \nQ 21.390625 64.59375 17.578125 60.78125 \nQ 13.765625 56.984375 13.71875 50.25 \nL 4.6875 51.171875 \nQ 5.609375 61.28125 11.65625 66.578125 \nQ 17.71875 71.875 27.9375 71.875 \nQ 38.234375 71.875 44.234375 66.15625 \nQ 50.25 60.453125 50.25 52 \nQ 50.25 47.703125 48.484375 43.546875 \nQ 46.734375 39.40625 42.65625 34.8125 \nQ 38.578125 30.21875 29.109375 22.21875 \nQ 21.1875 15.578125 18.9375 13.203125 \nQ 16.703125 10.84375 15.234375 8.453125 \nz\n\" id=\"ArialMT-50\"/>\n      </defs>\n      <g style=\"fill:#262626;\" transform=\"translate(199.671875 238.797812)scale(0.1 -0.1)\">\n       <use xlink:href=\"#ArialMT-50\"/>\n       <use x=\"55.615234\" xlink:href=\"#ArialMT-46\"/>\n       <use x=\"83.398438\" xlink:href=\"#ArialMT-48\"/>\n      </g>\n     </g>\n    </g>\n    <g id=\"xtick_6\">\n     <g id=\"line2d_6\">\n      <path clip-path=\"url(#p4a4d715825)\" d=\"M 244.66733 224.64 \nL 244.66733 7.2 \n\" style=\"fill:none;stroke:#cccccc;stroke-linecap:round;stroke-width:0.8;\"/>\n     </g>\n     <g id=\"text_6\">\n      <!-- 2.5 -->\n      <g style=\"fill:#262626;\" transform=\"translate(237.71733 238.797812)scale(0.1 -0.1)\">\n       <use xlink:href=\"#ArialMT-50\"/>\n       <use x=\"55.615234\" xlink:href=\"#ArialMT-46\"/>\n       <use x=\"83.398438\" xlink:href=\"#ArialMT-53\"/>\n      </g>\n     </g>\n    </g>\n    <g id=\"xtick_7\">\n     <g id=\"line2d_7\">\n      <path clip-path=\"url(#p4a4d715825)\" d=\"M 282.712784 224.64 \nL 282.712784 7.2 \n\" style=\"fill:none;stroke:#cccccc;stroke-linecap:round;stroke-width:0.8;\"/>\n     </g>\n     <g id=\"text_7\">\n      <!-- 3.0 -->\n      <defs>\n       <path d=\"M 4.203125 18.890625 \nL 12.984375 20.0625 \nQ 14.5 12.59375 18.140625 9.296875 \nQ 21.78125 6 27 6 \nQ 33.203125 6 37.46875 10.296875 \nQ 41.75 14.59375 41.75 20.953125 \nQ 41.75 27 37.796875 30.921875 \nQ 33.84375 34.859375 27.734375 34.859375 \nQ 25.25 34.859375 21.53125 33.890625 \nL 22.515625 41.609375 \nQ 23.390625 41.5 23.921875 41.5 \nQ 29.546875 41.5 34.03125 44.421875 \nQ 38.53125 47.359375 38.53125 53.46875 \nQ 38.53125 58.296875 35.25 61.46875 \nQ 31.984375 64.65625 26.8125 64.65625 \nQ 21.6875 64.65625 18.265625 61.421875 \nQ 14.84375 58.203125 13.875 51.765625 \nL 5.078125 53.328125 \nQ 6.6875 62.15625 12.390625 67.015625 \nQ 18.109375 71.875 26.609375 71.875 \nQ 32.46875 71.875 37.390625 69.359375 \nQ 42.328125 66.84375 44.9375 62.5 \nQ 47.5625 58.15625 47.5625 53.265625 \nQ 47.5625 48.640625 45.0625 44.828125 \nQ 42.578125 41.015625 37.703125 38.765625 \nQ 44.046875 37.3125 47.5625 32.6875 \nQ 51.078125 28.078125 51.078125 21.140625 \nQ 51.078125 11.765625 44.234375 5.25 \nQ 37.40625 -1.265625 26.953125 -1.265625 \nQ 17.53125 -1.265625 11.296875 4.34375 \nQ 5.078125 9.96875 4.203125 18.890625 \nz\n\" id=\"ArialMT-51\"/>\n      </defs>\n      <g style=\"fill:#262626;\" transform=\"translate(275.762784 238.797812)scale(0.1 -0.1)\">\n       <use xlink:href=\"#ArialMT-51\"/>\n       <use x=\"55.615234\" xlink:href=\"#ArialMT-46\"/>\n       <use x=\"83.398438\" xlink:href=\"#ArialMT-48\"/>\n      </g>\n     </g>\n    </g>\n    <g id=\"xtick_8\">\n     <g id=\"line2d_8\">\n      <path clip-path=\"url(#p4a4d715825)\" d=\"M 320.758239 224.64 \nL 320.758239 7.2 \n\" style=\"fill:none;stroke:#cccccc;stroke-linecap:round;stroke-width:0.8;\"/>\n     </g>\n     <g id=\"text_8\">\n      <!-- 3.5 -->\n      <g style=\"fill:#262626;\" transform=\"translate(313.808239 238.797812)scale(0.1 -0.1)\">\n       <use xlink:href=\"#ArialMT-51\"/>\n       <use x=\"55.615234\" xlink:href=\"#ArialMT-46\"/>\n       <use x=\"83.398438\" xlink:href=\"#ArialMT-53\"/>\n      </g>\n     </g>\n    </g>\n    <g id=\"xtick_9\">\n     <g id=\"line2d_9\">\n      <path clip-path=\"url(#p4a4d715825)\" d=\"M 358.803693 224.64 \nL 358.803693 7.2 \n\" style=\"fill:none;stroke:#cccccc;stroke-linecap:round;stroke-width:0.8;\"/>\n     </g>\n     <g id=\"text_9\">\n      <!-- 4.0 -->\n      <defs>\n       <path d=\"M 32.328125 0 \nL 32.328125 17.140625 \nL 1.265625 17.140625 \nL 1.265625 25.203125 \nL 33.9375 71.578125 \nL 41.109375 71.578125 \nL 41.109375 25.203125 \nL 50.78125 25.203125 \nL 50.78125 17.140625 \nL 41.109375 17.140625 \nL 41.109375 0 \nz\nM 32.328125 25.203125 \nL 32.328125 57.46875 \nL 9.90625 25.203125 \nz\n\" id=\"ArialMT-52\"/>\n      </defs>\n      <g style=\"fill:#262626;\" transform=\"translate(351.853693 238.797812)scale(0.1 -0.1)\">\n       <use xlink:href=\"#ArialMT-52\"/>\n       <use x=\"55.615234\" xlink:href=\"#ArialMT-46\"/>\n       <use x=\"83.398438\" xlink:href=\"#ArialMT-48\"/>\n      </g>\n     </g>\n    </g>\n   </g>\n   <g id=\"matplotlib.axis_2\">\n    <g id=\"ytick_1\">\n     <g id=\"line2d_10\">\n      <path clip-path=\"url(#p4a4d715825)\" d=\"M 39.221875 221.210983 \nL 374.021875 221.210983 \n\" style=\"fill:none;stroke:#cccccc;stroke-linecap:round;stroke-width:0.8;\"/>\n     </g>\n     <g id=\"text_10\">\n      <!-- 0.710 -->\n      <defs>\n       <path d=\"M 4.734375 62.203125 \nL 4.734375 70.65625 \nL 51.078125 70.65625 \nL 51.078125 63.8125 \nQ 44.234375 56.546875 37.515625 44.484375 \nQ 30.8125 32.421875 27.15625 19.671875 \nQ 24.515625 10.6875 23.78125 0 \nL 14.75 0 \nQ 14.890625 8.453125 18.0625 20.40625 \nQ 21.234375 32.375 27.171875 43.484375 \nQ 33.109375 54.59375 39.796875 62.203125 \nz\n\" id=\"ArialMT-55\"/>\n      </defs>\n      <g style=\"fill:#262626;\" transform=\"translate(7.2 224.78989)scale(0.1 -0.1)\">\n       <use xlink:href=\"#ArialMT-48\"/>\n       <use x=\"55.615234\" xlink:href=\"#ArialMT-46\"/>\n       <use x=\"83.398438\" xlink:href=\"#ArialMT-55\"/>\n       <use x=\"139.013672\" xlink:href=\"#ArialMT-49\"/>\n       <use x=\"194.628906\" xlink:href=\"#ArialMT-48\"/>\n      </g>\n     </g>\n    </g>\n    <g id=\"ytick_2\">\n     <g id=\"line2d_11\">\n      <path clip-path=\"url(#p4a4d715825)\" d=\"M 39.221875 173.285432 \nL 374.021875 173.285432 \n\" style=\"fill:none;stroke:#cccccc;stroke-linecap:round;stroke-width:0.8;\"/>\n     </g>\n     <g id=\"text_11\">\n      <!-- 0.712 -->\n      <g style=\"fill:#262626;\" transform=\"translate(7.2 176.864339)scale(0.1 -0.1)\">\n       <use xlink:href=\"#ArialMT-48\"/>\n       <use x=\"55.615234\" xlink:href=\"#ArialMT-46\"/>\n       <use x=\"83.398438\" xlink:href=\"#ArialMT-55\"/>\n       <use x=\"139.013672\" xlink:href=\"#ArialMT-49\"/>\n       <use x=\"194.628906\" xlink:href=\"#ArialMT-50\"/>\n      </g>\n     </g>\n    </g>\n    <g id=\"ytick_3\">\n     <g id=\"line2d_12\">\n      <path clip-path=\"url(#p4a4d715825)\" d=\"M 39.221875 125.359881 \nL 374.021875 125.359881 \n\" style=\"fill:none;stroke:#cccccc;stroke-linecap:round;stroke-width:0.8;\"/>\n     </g>\n     <g id=\"text_12\">\n      <!-- 0.714 -->\n      <g style=\"fill:#262626;\" transform=\"translate(7.2 128.938788)scale(0.1 -0.1)\">\n       <use xlink:href=\"#ArialMT-48\"/>\n       <use x=\"55.615234\" xlink:href=\"#ArialMT-46\"/>\n       <use x=\"83.398438\" xlink:href=\"#ArialMT-55\"/>\n       <use x=\"139.013672\" xlink:href=\"#ArialMT-49\"/>\n       <use x=\"194.628906\" xlink:href=\"#ArialMT-52\"/>\n      </g>\n     </g>\n    </g>\n    <g id=\"ytick_4\">\n     <g id=\"line2d_13\">\n      <path clip-path=\"url(#p4a4d715825)\" d=\"M 39.221875 77.43433 \nL 374.021875 77.43433 \n\" style=\"fill:none;stroke:#cccccc;stroke-linecap:round;stroke-width:0.8;\"/>\n     </g>\n     <g id=\"text_13\">\n      <!-- 0.716 -->\n      <defs>\n       <path d=\"M 49.75 54.046875 \nL 41.015625 53.375 \nQ 39.84375 58.546875 37.703125 60.890625 \nQ 34.125 64.65625 28.90625 64.65625 \nQ 24.703125 64.65625 21.53125 62.3125 \nQ 17.390625 59.28125 14.984375 53.46875 \nQ 12.59375 47.65625 12.5 36.921875 \nQ 15.671875 41.75 20.265625 44.09375 \nQ 24.859375 46.4375 29.890625 46.4375 \nQ 38.671875 46.4375 44.84375 39.96875 \nQ 51.03125 33.5 51.03125 23.25 \nQ 51.03125 16.5 48.125 10.71875 \nQ 45.21875 4.9375 40.140625 1.859375 \nQ 35.0625 -1.21875 28.609375 -1.21875 \nQ 17.625 -1.21875 10.6875 6.859375 \nQ 3.765625 14.9375 3.765625 33.5 \nQ 3.765625 54.25 11.421875 63.671875 \nQ 18.109375 71.875 29.4375 71.875 \nQ 37.890625 71.875 43.28125 67.140625 \nQ 48.6875 62.40625 49.75 54.046875 \nz\nM 13.875 23.1875 \nQ 13.875 18.65625 15.796875 14.5 \nQ 17.71875 10.359375 21.1875 8.171875 \nQ 24.65625 6 28.46875 6 \nQ 34.03125 6 38.03125 10.484375 \nQ 42.046875 14.984375 42.046875 22.703125 \nQ 42.046875 30.125 38.078125 34.390625 \nQ 34.125 38.671875 28.125 38.671875 \nQ 22.171875 38.671875 18.015625 34.390625 \nQ 13.875 30.125 13.875 23.1875 \nz\n\" id=\"ArialMT-54\"/>\n      </defs>\n      <g style=\"fill:#262626;\" transform=\"translate(7.2 81.013236)scale(0.1 -0.1)\">\n       <use xlink:href=\"#ArialMT-48\"/>\n       <use x=\"55.615234\" xlink:href=\"#ArialMT-46\"/>\n       <use x=\"83.398438\" xlink:href=\"#ArialMT-55\"/>\n       <use x=\"139.013672\" xlink:href=\"#ArialMT-49\"/>\n       <use x=\"194.628906\" xlink:href=\"#ArialMT-54\"/>\n      </g>\n     </g>\n    </g>\n    <g id=\"ytick_5\">\n     <g id=\"line2d_14\">\n      <path clip-path=\"url(#p4a4d715825)\" d=\"M 39.221875 29.508779 \nL 374.021875 29.508779 \n\" style=\"fill:none;stroke:#cccccc;stroke-linecap:round;stroke-width:0.8;\"/>\n     </g>\n     <g id=\"text_14\">\n      <!-- 0.718 -->\n      <defs>\n       <path d=\"M 17.671875 38.8125 \nQ 12.203125 40.828125 9.5625 44.53125 \nQ 6.9375 48.25 6.9375 53.421875 \nQ 6.9375 61.234375 12.546875 66.546875 \nQ 18.171875 71.875 27.484375 71.875 \nQ 36.859375 71.875 42.578125 66.421875 \nQ 48.296875 60.984375 48.296875 53.171875 \nQ 48.296875 48.1875 45.671875 44.5 \nQ 43.0625 40.828125 37.75 38.8125 \nQ 44.34375 36.671875 47.78125 31.875 \nQ 51.21875 27.09375 51.21875 20.453125 \nQ 51.21875 11.28125 44.71875 5.03125 \nQ 38.234375 -1.21875 27.640625 -1.21875 \nQ 17.046875 -1.21875 10.546875 5.046875 \nQ 4.046875 11.328125 4.046875 20.703125 \nQ 4.046875 27.6875 7.59375 32.390625 \nQ 11.140625 37.109375 17.671875 38.8125 \nz\nM 15.921875 53.71875 \nQ 15.921875 48.640625 19.1875 45.40625 \nQ 22.46875 42.1875 27.6875 42.1875 \nQ 32.765625 42.1875 36.015625 45.375 \nQ 39.265625 48.578125 39.265625 53.21875 \nQ 39.265625 58.0625 35.90625 61.359375 \nQ 32.5625 64.65625 27.59375 64.65625 \nQ 22.5625 64.65625 19.234375 61.421875 \nQ 15.921875 58.203125 15.921875 53.71875 \nz\nM 13.09375 20.65625 \nQ 13.09375 16.890625 14.875 13.375 \nQ 16.65625 9.859375 20.171875 7.921875 \nQ 23.6875 6 27.734375 6 \nQ 34.03125 6 38.125 10.046875 \nQ 42.234375 14.109375 42.234375 20.359375 \nQ 42.234375 26.703125 38.015625 30.859375 \nQ 33.796875 35.015625 27.4375 35.015625 \nQ 21.234375 35.015625 17.15625 30.90625 \nQ 13.09375 26.8125 13.09375 20.65625 \nz\n\" id=\"ArialMT-56\"/>\n      </defs>\n      <g style=\"fill:#262626;\" transform=\"translate(7.2 33.087685)scale(0.1 -0.1)\">\n       <use xlink:href=\"#ArialMT-48\"/>\n       <use x=\"55.615234\" xlink:href=\"#ArialMT-46\"/>\n       <use x=\"83.398438\" xlink:href=\"#ArialMT-55\"/>\n       <use x=\"139.013672\" xlink:href=\"#ArialMT-49\"/>\n       <use x=\"194.628906\" xlink:href=\"#ArialMT-56\"/>\n      </g>\n     </g>\n    </g>\n   </g>\n   <g id=\"line2d_15\">\n    <path clip-path=\"url(#p4a4d715825)\" d=\"M 54.440057 25.151911 \nL 130.530966 158.278442 \nL 206.621875 130.039481 \nL 282.712784 17.083636 \nL 358.803693 214.756364 \n\" style=\"fill:none;stroke:#1f77b4;stroke-linecap:round;stroke-width:1.5;\"/>\n   </g>\n   <g id=\"line2d_16\">\n    <path clip-path=\"url(#p4a4d715825)\" d=\"M 39.221875 25.151911 \nL 374.021875 25.151911 \n\" style=\"fill:none;stroke:#008000;stroke-linecap:round;stroke-width:1.5;\"/>\n   </g>\n   <g id=\"patch_3\">\n    <path d=\"M 39.221875 224.64 \nL 39.221875 7.2 \n\" style=\"fill:none;stroke:#cccccc;stroke-linecap:square;stroke-linejoin:miter;stroke-width:0.8;\"/>\n   </g>\n   <g id=\"patch_4\">\n    <path d=\"M 374.021875 224.64 \nL 374.021875 7.2 \n\" style=\"fill:none;stroke:#cccccc;stroke-linecap:square;stroke-linejoin:miter;stroke-width:0.8;\"/>\n   </g>\n   <g id=\"patch_5\">\n    <path d=\"M 39.221875 224.64 \nL 374.021875 224.64 \n\" style=\"fill:none;stroke:#cccccc;stroke-linecap:square;stroke-linejoin:miter;stroke-width:0.8;\"/>\n   </g>\n   <g id=\"patch_6\">\n    <path d=\"M 39.221875 7.2 \nL 374.021875 7.2 \n\" style=\"fill:none;stroke:#cccccc;stroke-linecap:square;stroke-linejoin:miter;stroke-width:0.8;\"/>\n   </g>\n  </g>\n </g>\n <defs>\n  <clipPath id=\"p4a4d715825\">\n   <rect height=\"217.44\" width=\"334.8\" x=\"39.221875\" y=\"7.2\"/>\n  </clipPath>\n </defs>\n</svg>\n",
      "image/png": "[encoded data removed]"
     },
     "metadata": {}
    },
    {
     "output_type": "display_data",
     "data": {
      "text/plain": "<IPython.core.display.HTML object>",
      "text/html": "<h3>Finding best option for feature group <i>pump_age_at_observation_date__group</i>, preprocessing group <i>pump_age</i> after baseline...</h3>"
     },
     "metadata": {}
    },
    {
     "output_type": "display_data",
     "data": {
      "text/plain": "<IPython.core.display.HTML object>",
      "text/html": "<h4>Transforming X with prior best options...</h4>"
     },
     "metadata": {}
    },
    {
     "output_type": "display_data",
     "data": {
      "text/plain": "<IPython.core.display.HTML object>",
      "text/html": "<b>(composite) strategy name/description: <i><font color='red'>amount_tsh</font></i></b><ol><li><b>strategy description</b>: <i><font color='blue'>replace \"amount_tsh\" outliers with mean</font></i></li></ol>"
     },
     "metadata": {}
    },
    {
     "output_type": "stream",
     "name": "stdout",
     "text": "strategy \"replace \"amount_tsh\" outliers with mean\" appended step ['replace \"amount_tsh\" outliers with mean', <scjpnlib.utils.skl_transformers.SimpleValueTransformer object at 0x7fa9dde0c5d0>] to pipeline\nstrategy \"replace \"amount_tsh\" outliers with mean\" transformation of feature \"amount_tsh\" is COMPLETE!\n"
    },
    {
     "output_type": "error",
     "ename": "NameError",
     "evalue": "free variable 'X_train_transformed' referenced before assignment in enclosing scope",
     "traceback": [
      "\u001b[0;31m---------------------------------------------------------------------------\u001b[0m",
      "\u001b[0;31mNameError\u001b[0m                                 Traceback (most recent call last)",
      "\u001b[0;32m<ipython-input-211-c1132494669b>\u001b[0m in \u001b[0;36m<module>\u001b[0;34m\u001b[0m\n\u001b[1;32m      8\u001b[0m \u001b[0;34m\u001b[0m\u001b[0m\n\u001b[1;32m      9\u001b[0m     \u001b[0;32mfor\u001b[0m \u001b[0mpreprocessing_group_name\u001b[0m\u001b[0;34m,\u001b[0m \u001b[0mopts_for_group\u001b[0m \u001b[0;32min\u001b[0m \u001b[0mpreprocessing_options\u001b[0m\u001b[0;34m.\u001b[0m\u001b[0mitems\u001b[0m\u001b[0;34m(\u001b[0m\u001b[0;34m)\u001b[0m\u001b[0;34m:\u001b[0m\u001b[0;34m\u001b[0m\u001b[0;34m\u001b[0m\u001b[0m\n\u001b[0;32m---> 10\u001b[0;31m         \u001b[0mbest_option\u001b[0m \u001b[0;34m=\u001b[0m \u001b[0mfind_best_option\u001b[0m\u001b[0;34m(\u001b[0m\u001b[0mfeat_group_name\u001b[0m\u001b[0;34m,\u001b[0m \u001b[0mpreprocessing_group_name\u001b[0m\u001b[0;34m,\u001b[0m \u001b[0mbest_options\u001b[0m\u001b[0;34m)\u001b[0m\u001b[0;34m\u001b[0m\u001b[0;34m\u001b[0m\u001b[0m\n\u001b[0m\u001b[1;32m     11\u001b[0m         \u001b[0mbest_options\u001b[0m\u001b[0;34m.\u001b[0m\u001b[0mappend\u001b[0m\u001b[0;34m(\u001b[0m\u001b[0;34m(\u001b[0m\u001b[0mpreprocessing_group_name\u001b[0m\u001b[0;34m,\u001b[0m \u001b[0mbest_option\u001b[0m\u001b[0;34m[\u001b[0m\u001b[0;36m1\u001b[0m\u001b[0;34m]\u001b[0m\u001b[0;34m)\u001b[0m\u001b[0;34m)\u001b[0m\u001b[0;34m\u001b[0m\u001b[0;34m\u001b[0m\u001b[0m\n",
      "\u001b[0;32m<ipython-input-209-adfa7f64f47d>\u001b[0m in \u001b[0;36mfind_best_option\u001b[0;34m(feature_group_name, preprocessing_group_name, best_options)\u001b[0m\n\u001b[1;32m     30\u001b[0m             \u001b[0mtransformed_cols\u001b[0m \u001b[0;34m=\u001b[0m \u001b[0mset\u001b[0m\u001b[0;34m(\u001b[0m\u001b[0mtransformed_cols\u001b[0m\u001b[0;34m)\u001b[0m\u001b[0;34m\u001b[0m\u001b[0;34m\u001b[0m\u001b[0m\n\u001b[1;32m     31\u001b[0m             \u001b[0;31m# filter out any columns that were dropped\u001b[0m\u001b[0;34m\u001b[0m\u001b[0;34m\u001b[0m\u001b[0;34m\u001b[0m\u001b[0m\n\u001b[0;32m---> 32\u001b[0;31m             \u001b[0mfiltered_transformed_feat_names\u001b[0m \u001b[0;34m=\u001b[0m \u001b[0mlist\u001b[0m\u001b[0;34m(\u001b[0m\u001b[0mfilter\u001b[0m\u001b[0;34m(\u001b[0m\u001b[0;32mlambda\u001b[0m \u001b[0mfeat_name\u001b[0m\u001b[0;34m:\u001b[0m \u001b[0mfeat_name\u001b[0m \u001b[0;32min\u001b[0m \u001b[0mlist\u001b[0m\u001b[0;34m(\u001b[0m\u001b[0mX_train_transformed\u001b[0m\u001b[0;34m.\u001b[0m\u001b[0mcolumns\u001b[0m\u001b[0;34m)\u001b[0m\u001b[0;34m,\u001b[0m \u001b[0mtransformed_cols\u001b[0m\u001b[0;34m)\u001b[0m\u001b[0;34m)\u001b[0m\u001b[0;34m\u001b[0m\u001b[0;34m\u001b[0m\u001b[0m\n\u001b[0m\u001b[1;32m     33\u001b[0m             \u001b[0mfiltered_baseline_cols\u001b[0m \u001b[0;34m=\u001b[0m \u001b[0mlist\u001b[0m\u001b[0;34m(\u001b[0m\u001b[0mfilter\u001b[0m\u001b[0;34m(\u001b[0m\u001b[0;32mlambda\u001b[0m \u001b[0mfeat_name\u001b[0m\u001b[0;34m:\u001b[0m \u001b[0mfeat_name\u001b[0m \u001b[0;32min\u001b[0m \u001b[0mlist\u001b[0m\u001b[0;34m(\u001b[0m\u001b[0mX_train_transformed\u001b[0m\u001b[0;34m.\u001b[0m\u001b[0mcolumns\u001b[0m\u001b[0;34m)\u001b[0m\u001b[0;34m,\u001b[0m \u001b[0mbaseline_cols\u001b[0m\u001b[0;34m)\u001b[0m\u001b[0;34m)\u001b[0m\u001b[0;34m\u001b[0m\u001b[0;34m\u001b[0m\u001b[0m\n\u001b[1;32m     34\u001b[0m             \u001b[0mbaseline_plus_transformed_cols\u001b[0m \u001b[0;34m=\u001b[0m \u001b[0mlist\u001b[0m\u001b[0;34m(\u001b[0m\u001b[0mset\u001b[0m\u001b[0;34m(\u001b[0m\u001b[0mfiltered_baseline_cols\u001b[0m \u001b[0;34m+\u001b[0m \u001b[0mfiltered_transformed_feat_names\u001b[0m\u001b[0;34m)\u001b[0m\u001b[0;34m)\u001b[0m\u001b[0;34m\u001b[0m\u001b[0;34m\u001b[0m\u001b[0m\n",
      "\u001b[0;32m<ipython-input-209-adfa7f64f47d>\u001b[0m in \u001b[0;36m<lambda>\u001b[0;34m(feat_name)\u001b[0m\n\u001b[1;32m     30\u001b[0m             \u001b[0mtransformed_cols\u001b[0m \u001b[0;34m=\u001b[0m \u001b[0mset\u001b[0m\u001b[0;34m(\u001b[0m\u001b[0mtransformed_cols\u001b[0m\u001b[0;34m)\u001b[0m\u001b[0;34m\u001b[0m\u001b[0;34m\u001b[0m\u001b[0m\n\u001b[1;32m     31\u001b[0m             \u001b[0;31m# filter out any columns that were dropped\u001b[0m\u001b[0;34m\u001b[0m\u001b[0;34m\u001b[0m\u001b[0;34m\u001b[0m\u001b[0m\n\u001b[0;32m---> 32\u001b[0;31m             \u001b[0mfiltered_transformed_feat_names\u001b[0m \u001b[0;34m=\u001b[0m \u001b[0mlist\u001b[0m\u001b[0;34m(\u001b[0m\u001b[0mfilter\u001b[0m\u001b[0;34m(\u001b[0m\u001b[0;32mlambda\u001b[0m \u001b[0mfeat_name\u001b[0m\u001b[0;34m:\u001b[0m \u001b[0mfeat_name\u001b[0m \u001b[0;32min\u001b[0m \u001b[0mlist\u001b[0m\u001b[0;34m(\u001b[0m\u001b[0mX_train_transformed\u001b[0m\u001b[0;34m.\u001b[0m\u001b[0mcolumns\u001b[0m\u001b[0;34m)\u001b[0m\u001b[0;34m,\u001b[0m \u001b[0mtransformed_cols\u001b[0m\u001b[0;34m)\u001b[0m\u001b[0;34m)\u001b[0m\u001b[0;34m\u001b[0m\u001b[0;34m\u001b[0m\u001b[0m\n\u001b[0m\u001b[1;32m     33\u001b[0m             \u001b[0mfiltered_baseline_cols\u001b[0m \u001b[0;34m=\u001b[0m \u001b[0mlist\u001b[0m\u001b[0;34m(\u001b[0m\u001b[0mfilter\u001b[0m\u001b[0;34m(\u001b[0m\u001b[0;32mlambda\u001b[0m \u001b[0mfeat_name\u001b[0m\u001b[0;34m:\u001b[0m \u001b[0mfeat_name\u001b[0m \u001b[0;32min\u001b[0m \u001b[0mlist\u001b[0m\u001b[0;34m(\u001b[0m\u001b[0mX_train_transformed\u001b[0m\u001b[0;34m.\u001b[0m\u001b[0mcolumns\u001b[0m\u001b[0;34m)\u001b[0m\u001b[0;34m,\u001b[0m \u001b[0mbaseline_cols\u001b[0m\u001b[0;34m)\u001b[0m\u001b[0;34m)\u001b[0m\u001b[0;34m\u001b[0m\u001b[0;34m\u001b[0m\u001b[0m\n\u001b[1;32m     34\u001b[0m             \u001b[0mbaseline_plus_transformed_cols\u001b[0m \u001b[0;34m=\u001b[0m \u001b[0mlist\u001b[0m\u001b[0;34m(\u001b[0m\u001b[0mset\u001b[0m\u001b[0;34m(\u001b[0m\u001b[0mfiltered_baseline_cols\u001b[0m \u001b[0;34m+\u001b[0m \u001b[0mfiltered_transformed_feat_names\u001b[0m\u001b[0;34m)\u001b[0m\u001b[0;34m)\u001b[0m\u001b[0;34m\u001b[0m\u001b[0;34m\u001b[0m\u001b[0m\n",
      "\u001b[0;31mNameError\u001b[0m: free variable 'X_train_transformed' referenced before assignment in enclosing scope"
     ]
    }
   ],
   "source": [
    "best_options = []\n",
    "for feat_group_name in eda_config['feature_groupings']:\n",
    "    # if feat_group_name == 'minimal_required__group':\n",
    "    #     continue\n",
    "\n",
    "    preprocessing_options = eda_config['feature_groupings'][feat_group_name]['preprocessing_options']\n",
    "    # print(f\"{eda_config['feature_groupings'][feat_group_name]['preprocessing_options']}\\n\\n\")\n",
    "\n",
    "    for preprocessing_group_name, opts_for_group in preprocessing_options.items():\n",
    "        best_option = find_best_option(feat_group_name, preprocessing_group_name, best_options)\n",
    "        best_options.append((preprocessing_group_name, best_option[1]))"
   ]
  },
  {
   "cell_type": "code",
   "execution_count": null,
   "metadata": {},
   "outputs": [],
   "source": [
    "scjpnutils.analyze_values(X_train, 'X_train BEFORE preprocessing');"
   ]
  },
  {
   "cell_type": "code",
   "execution_count": null,
   "metadata": {
    "tags": []
   },
   "outputs": [],
   "source": [
    "X_train_preprocessed = X_train.copy()\n",
    "\n",
    "for feat_group in eda_config['feature_groupings']:\n",
    "    strat_transformer = scjpnstrattransformers.instantiate_strategy_transformer(\n",
    "        eda_config['feature_groupings'][feat_group]['preprocessing_strategy'], \n",
    "        feat_group,\n",
    "        pipeline_data_preprocessor\n",
    "    )\n",
    "    scjpnstrattransformers.html_prettify_strategy_transformer_description(strat_transformer)\n",
    "    X_train_preprocessed = strat_transformer.fit_transform(X_train_preprocessed, y_train_encoded.status_group)\n",
    "    display(HTML(\"<p><br><br>\"))"
   ]
  },
  {
   "cell_type": "code",
   "execution_count": null,
   "metadata": {},
   "outputs": [],
   "source": [
    "scjpnutils.analyze_values(X_train_preprocessed, 'X_train AFTER preprocessing');"
   ]
  },
  {
   "cell_type": "code",
   "execution_count": null,
   "metadata": {},
   "outputs": [],
   "source": [
    "scjpnutils.analyze_values(X_validation, 'X_validation BEFORE preprocessing');"
   ]
  },
  {
   "cell_type": "code",
   "execution_count": null,
   "metadata": {
    "tags": []
   },
   "outputs": [],
   "source": [
    "X_validation_preprocessed = pipeline_data_preprocessor.transform(X_validation)"
   ]
  },
  {
   "cell_type": "code",
   "execution_count": null,
   "metadata": {},
   "outputs": [],
   "source": [
    "scjpnutils.analyze_values(X_validation_preprocessed, 'X_validation AFTER preprocessing');"
   ]
  }
 ],
 "metadata": {
  "language_info": {
   "codemirror_mode": {
    "name": "ipython",
    "version": 3
   },
   "file_extension": ".py",
   "mimetype": "text/x-python",
   "name": "python",
   "nbconvert_exporter": "python",
   "pygments_lexer": "ipython3",
   "version": "3.7.7-final"
  },
  "orig_nbformat": 2,
  "kernelspec": {
   "name": "python361064bitlearnenvconda6dc930ea082b425c82fd8a0b2d571658",
   "display_name": "Python 3.6.10 64-bit ('learn-env': conda)"
  }
 },
 "nbformat": 4,
 "nbformat_minor": 2
}
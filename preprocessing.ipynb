{
 "cells": [
  {
   "cell_type": "markdown",
   "metadata": {},
   "source": [
    "# Intro"
   ]
  },
  {
   "cell_type": "code",
   "execution_count": 1,
   "metadata": {},
   "outputs": [],
   "source": [
    "import scjpnlib.utils as scjpnutils\n",
    "import os\n",
    "import pandas as pd\n",
    "import numpy as np\n",
    "from scjpnlib.utils.file_io import FileManager\n",
    "from IPython.core.display import HTML, Markdown\n",
    "import matplotlib.pyplot as plt\n",
    "\n",
    "from sklearn.pipeline import Pipeline\n",
    "from sklearn.model_selection import train_test_split\n",
    "\n",
    "import scjpnlib.utils.skl_transformers as scjpnskltransformers\n",
    "import scjpnlib.utils.strategy_transformers as scjpnstrattransformers\n",
    "from sklearn.preprocessing import FunctionTransformer\n",
    "from sklearn.model_selection import StratifiedKFold\n",
    "\n",
    "from scjpnlib.utils import submodels as scjpnsubmodels\n",
    "\n",
    "# leave these in until port is complete \n",
    "from scjpnlib.utils.skl_transformers import DropColumnsTransformer, LambdaTransformer, SimpleValueTransformer, OneHotEncodingTransformer, LabelEncodingTransformer, TargetEncoderLOOTransformer\n",
    "from sklearn.preprocessing import FunctionTransformer"
   ]
  },
  {
   "cell_type": "code",
   "execution_count": 2,
   "metadata": {},
   "outputs": [
    {
     "output_type": "execute_result",
     "data": {
      "text/plain": "{'official_data': {'unlabeled_predictors': {'url': 'https://s3.amazonaws.com/drivendata-prod/data/7/public/702ddfc5-68cd-4d1d-a0de-f5f566f76d91.csv',\n   'local_fname': 'Taarifa-Unlabeled-Predictors.csv'},\n  'labeled_predictors': {'url': 'https://s3.amazonaws.com/drivendata-prod/data/7/public/4910797b-ee55-40a7-8668-10efd5c1b960.csv',\n   'local_fname': 'Taarifa-Labeled-Predictors.csv'},\n  'labels': {'url': 'https://s3.amazonaws.com/drivendata-prod/data/7/public/0bf8bc6e-30d0-4c50-956a-603fc693d966.csv',\n   'local_fname': 'Taarifa-Labels.csv'}},\n 'eda_desc': {'short': '0.10 test_ratio'},\n 'test_ratio': 0.1,\n 'SEED': 42,\n 'missing_string_value_replacement': 'none',\n 'feature_groupings': {'amount_tsh': {'description': {'type': 'provided',\n    'description': \"'Total static head (amount water available to waterpoint)'\"},\n   'features': ['amount_tsh'],\n   'preprocessing_strategy': [['amount_tsh',\n     'C__drop_it__StrategyTransformer']]},\n  'pump_age_at_observation_date': {'description': {'type': 'engineered',\n    'description': \"'The date the row was entered' - 'Year the waterpoint was constructed'\"},\n   'features': ['date_recorded', 'construction_year'],\n   'preprocessing_strategy': [['pump_age',\n     'C__required_proprocessing__pump_age__StrategyTransformer']]},\n  'funder': {'description': {'type': 'provided',\n    'description': \"'Who funded the well'\"},\n   'features': ['funder'],\n   'preprocessing_strategy': [['funder', 'C__drop_it__StrategyTransformer']]},\n  'gps_height': {'description': {'type': 'provided',\n    'description': \"'Altitude of the well'\"},\n   'features': ['gps_height'],\n   'preprocessing_strategy': [['gps_height',\n     'C__leave_it_as_is__StrategyTransformer']]},\n  'installer': {'description': {'type': 'provided',\n    'description': \"'Organization that installed the well'\"},\n   'features': ['installer'],\n   'preprocessing_strategy': [['installer',\n     'C__required_proprocessing__installer__StrategyTransformer'],\n    ['installer',\n     'C__target_encode__not_LOO__post_encode_null_to_global_mean__StrategyTransformer']]},\n  'gps_coordinates': {'description': {'type': 'provided',\n    'description': \"('GPS coordinate' (latitude), 'GPS coordinate' (longitude))\"},\n   'features': ['latitude', 'longitude'],\n   'preprocessing_strategy': [['gps_coordinates',\n     'C__required_proprocessing__gps_coordinates__StrategyTransformer']]},\n  'wpt_name': {'description': {'type': 'provided',\n    'description': \"'Name of the waterpoint if there is one'\"},\n   'features': ['wpt_name'],\n   'preprocessing_strategy': [['wpt_name',\n     'C__drop_it__StrategyTransformer']]},\n  'num_private': {'description': {'type': 'provided', 'description': ''},\n   'features': ['num_private'],\n   'preprocessing_strategy': [['num_private',\n     'C__drop_it__StrategyTransformer']]},\n  'basin': {'description': {'type': 'provided',\n    'description': \"'Geographic water basin'\"},\n   'features': ['basin'],\n   'preprocessing_strategy': [['basin',\n     'C__required_proprocessing__basin__StrategyTransformer'],\n    ['basin',\n     'C__target_encode__not_LOO__post_encode_null_to_global_mean__StrategyTransformer']]},\n  'geographic_location': {'description': {'type': 'provided',\n    'description': \"'Geographic location'\"},\n   'features': ['region_code',\n    'district_code',\n    'subvillage',\n    'region',\n    'lga',\n    'ward'],\n   'preprocessing_strategy': [['region_code',\n     'C__target_encode__not_LOO__post_encode_null_to_global_mean__StrategyTransformer'],\n    ['district_code',\n     'C__target_encode__not_LOO__post_encode_null_to_global_mean__StrategyTransformer'],\n    ['subvillage', 'C__drop_it__StrategyTransformer'],\n    ['region', 'C__drop_it__StrategyTransformer'],\n    ['lga', 'C__drop_it__StrategyTransformer'],\n    ['ward', 'C__drop_it__StrategyTransformer']]}},\n 'wrangled_data': {'dir': 'preprocessing-results',\n  'fname_ext': 'csv',\n  'train': {'fname_prefix': 'wrangled-labeled-data-train'},\n  'test': {'fname_prefix': 'wrangled-labeled-data-test'},\n  'unlabeled': {'fname_prefix': 'wrangled-unlabeled-data'}},\n 'labels': {'dir': 'preprocessing-results',\n  'fname_ext': 'csv',\n  'train': {'fname_prefix': 'labels-train'},\n  'test': {'fname_prefix': 'labels-test'}}}"
     },
     "metadata": {},
     "execution_count": 2
    }
   ],
   "source": [
    "fm = FileManager()\n",
    "eda_config = fm.load_json('eda-config.txt')\n",
    "eda_config"
   ]
  },
  {
   "cell_type": "code",
   "execution_count": 3,
   "metadata": {
    "tags": []
   },
   "outputs": [
    {
     "output_type": "stream",
     "name": "stdout",
     "text": "wrangled/preprocessed training predictors will be saved to: preprocessing-results/wrangled-labeled-data-train-7359ee5d2cafabcb07b89ffc61b02a2f.csv\ntraining labels will be saved to: preprocessing-results/labels-train-7359ee5d2cafabcb07b89ffc61b02a2f.csv\nwrangled/preprocessed validation predictors will be saved to: preprocessing-results/wrangled-labeled-data-test-7359ee5d2cafabcb07b89ffc61b02a2f.csv\nvalidation labels will be saved to: preprocessing-results/labels-test-7359ee5d2cafabcb07b89ffc61b02a2f.csv\nwrangled/preprocessed unlabeled predictors will be saved to: preprocessing-results/wrangled-unlabeled-data-7359ee5d2cafabcb07b89ffc61b02a2f.csv\n"
    }
   ],
   "source": [
    "if len(eda_config['wrangled_data']['dir']) > 0:\n",
    "    WRANGLED_DATA_DIR = eda_config['wrangled_data']['dir']\n",
    "    try:\n",
    "        os.makedirs(f\"{os.getcwd()}/{WRANGLED_DATA_DIR}\")\n",
    "    except FileExistsError:\n",
    "        pass\n",
    "    WRANGLED_DATA_DIR += \"/\"\n",
    "else:\n",
    "    WRANGLED_DATA_DIR = \"\"\n",
    "\n",
    "if len(eda_config['labels']['dir']) > 0:\n",
    "    SAVE_LABELS_DIR = eda_config['labels']['dir']\n",
    "    try:\n",
    "        os.makedirs(f\"{os.getcwd()}/{SAVE_LABELS_DIR}\")\n",
    "    except FileExistsError:\n",
    "        pass\n",
    "    SAVE_LABELS_DIR += \"/\"\n",
    "else:\n",
    "    SAVE_LABELS_DIR = \"\"\n",
    "\n",
    "    \n",
    "fname__train_predictors = WRANGLED_DATA_DIR + scjpnutils.get_data_fname(eda_config, data_kwargs={'is_labels':False,'type':'train'})\n",
    "print(f\"wrangled/preprocessed training predictors will be saved to: {fname__train_predictors}\")\n",
    "fname__train_labels = SAVE_LABELS_DIR + scjpnutils.get_data_fname(eda_config, data_kwargs={'is_labels':True,'type':'train'})\n",
    "print(f\"training labels will be saved to: {fname__train_labels}\")\n",
    "\n",
    "fname__validation_predictors = WRANGLED_DATA_DIR + scjpnutils.get_data_fname(eda_config, data_kwargs={'is_labels':False,'type':'test'})\n",
    "print(f\"wrangled/preprocessed validation predictors will be saved to: {fname__validation_predictors}\")\n",
    "fname__validation_labels = SAVE_LABELS_DIR + scjpnutils.get_data_fname(eda_config, data_kwargs={'is_labels':True,'type':'test'})\n",
    "print(f\"validation labels will be saved to: {fname__validation_labels}\")\n",
    "\n",
    "fname__unlabeled_predictors = WRANGLED_DATA_DIR + scjpnutils.get_data_fname(eda_config, data_kwargs={'is_labels':False,'type':'unlabeled'})\n",
    "print(f\"wrangled/preprocessed unlabeled predictors will be saved to: {fname__unlabeled_predictors}\")"
   ]
  },
  {
   "cell_type": "code",
   "execution_count": 4,
   "metadata": {},
   "outputs": [
    {
     "output_type": "display_data",
     "data": {
      "text/plain": "<IPython.core.display.HTML object>",
      "text/html": "<b>NOTE: <i>for the above EDA configuration, wrangled/preprocessed and partitioned label output files will be identified (filename suffix) by: hash digest: 7359ee5d2cafabcb07b89ffc61b02a2f</i></b>"
     },
     "metadata": {}
    }
   ],
   "source": [
    "display(HTML(f\"<b>NOTE: <i>for the above EDA configuration, wrangled/preprocessed and partitioned label output files will be identified (filename suffix) by: hash digest: {scjpnutils.json_to_md5_hash_digest(eda_config)}</i></b>\"))"
   ]
  },
  {
   "cell_type": "code",
   "execution_count": 5,
   "metadata": {},
   "outputs": [
    {
     "output_type": "display_data",
     "data": {
      "text/plain": "<IPython.core.display.HTML object>",
      "text/html": "Required download-file Taarifa-Unlabeled-Predictors.csv exists locally."
     },
     "metadata": {}
    },
    {
     "output_type": "display_data",
     "data": {
      "text/plain": "<IPython.core.display.HTML object>",
      "text/html": "Required download-file Taarifa-Labeled-Predictors.csv exists locally."
     },
     "metadata": {}
    },
    {
     "output_type": "display_data",
     "data": {
      "text/plain": "<IPython.core.display.HTML object>",
      "text/html": "Required download-file Taarifa-Labels.csv exists locally."
     },
     "metadata": {}
    }
   ],
   "source": [
    "fname_unlabeled_predictors = eda_config['official_data']['unlabeled_predictors']['local_fname']\n",
    "fname_labeled_predictors = eda_config['official_data']['labeled_predictors']['local_fname']\n",
    "fname_labels = eda_config['official_data']['labels']['local_fname']\n",
    "\n",
    "ds_map = {\n",
    "    fname_unlabeled_predictors: eda_config['official_data']['unlabeled_predictors']['url'], \n",
    "    fname_labeled_predictors: eda_config['official_data']['unlabeled_predictors']['url'],\n",
    "    fname_labels: eda_config['official_data']['unlabeled_predictors']['url']\n",
    "}\n",
    "\n",
    "fm.validate_download(ds_map)"
   ]
  },
  {
   "cell_type": "code",
   "execution_count": 6,
   "metadata": {},
   "outputs": [],
   "source": [
    "SEED = eda_config['SEED'] # for random_state reproducability\n",
    "\n",
    "pipeline_data_preprocessor = Pipeline(steps=[('passthrough', None)], verbose=True)"
   ]
  },
  {
   "cell_type": "code",
   "execution_count": 7,
   "metadata": {},
   "outputs": [
    {
     "output_type": "display_data",
     "data": {
      "text/plain": "<IPython.core.display.HTML object>",
      "text/html": "<pre>{\n    \"amount_tsh\": {\n        \"description\": {\n            \"type\": \"provided\",\n            \"description\": \"'Total static head (amount water available to waterpoint)'\"\n        },\n        \"features\": [\n            \"amount_tsh\"\n        ],\n        \"preprocessing_strategy\": [\n            [\n                \"amount_tsh\",\n                \"C__drop_it__StrategyTransformer\"\n            ]\n        ]\n    },\n    \"pump_age_at_observation_date\": {\n        \"description\": {\n            \"type\": \"engineered\",\n            \"description\": \"'The date the row was entered' - 'Year the waterpoint was constructed'\"\n        },\n        \"features\": [\n            \"date_recorded\",\n            \"construction_year\"\n        ],\n        \"preprocessing_strategy\": [\n            [\n                \"pump_age\",\n                \"C__required_proprocessing__pump_age__StrategyTransformer\"\n            ]\n        ]\n    },\n    \"funder\": {\n        \"description\": {\n            \"type\": \"provided\",\n            \"description\": \"'Who funded the well'\"\n        },\n        \"features\": [\n            \"funder\"\n        ],\n        \"preprocessing_strategy\": [\n            [\n                \"funder\",\n                \"C__drop_it__StrategyTransformer\"\n            ]\n        ]\n    },\n    \"gps_height\": {\n        \"description\": {\n            \"type\": \"provided\",\n            \"description\": \"'Altitude of the well'\"\n        },\n        \"features\": [\n            \"gps_height\"\n        ],\n        \"preprocessing_strategy\": [\n            [\n                \"gps_height\",\n                \"C__leave_it_as_is__StrategyTransformer\"\n            ]\n        ]\n    },\n    \"installer\": {\n        \"description\": {\n            \"type\": \"provided\",\n            \"description\": \"'Organization that installed the well'\"\n        },\n        \"features\": [\n            \"installer\"\n        ],\n        \"preprocessing_strategy\": [\n            [\n                \"installer\",\n                \"C__required_proprocessing__installer__StrategyTransformer\"\n            ],\n            [\n                \"installer\",\n                \"C__target_encode__not_LOO__post_encode_null_to_global_mean__StrategyTransformer\"\n            ]\n        ]\n    },\n    \"gps_coordinates\": {\n        \"description\": {\n            \"type\": \"provided\",\n            \"description\": \"('GPS coordinate' (latitude), 'GPS coordinate' (longitude))\"\n        },\n        \"features\": [\n            \"latitude\",\n            \"longitude\"\n        ],\n        \"preprocessing_strategy\": [\n            [\n                \"gps_coordinates\",\n                \"C__required_proprocessing__gps_coordinates__StrategyTransformer\"\n            ]\n        ]\n    },\n    \"wpt_name\": {\n        \"description\": {\n            \"type\": \"provided\",\n            \"description\": \"'Name of the waterpoint if there is one'\"\n        },\n        \"features\": [\n            \"wpt_name\"\n        ],\n        \"preprocessing_strategy\": [\n            [\n                \"wpt_name\",\n                \"C__drop_it__StrategyTransformer\"\n            ]\n        ]\n    },\n    \"num_private\": {\n        \"description\": {\n            \"type\": \"provided\",\n            \"description\": \"\"\n        },\n        \"features\": [\n            \"num_private\"\n        ],\n        \"preprocessing_strategy\": [\n            [\n                \"num_private\",\n                \"C__drop_it__StrategyTransformer\"\n            ]\n        ]\n    },\n    \"basin\": {\n        \"description\": {\n            \"type\": \"provided\",\n            \"description\": \"'Geographic water basin'\"\n        },\n        \"features\": [\n            \"basin\"\n        ],\n        \"preprocessing_strategy\": [\n            [\n                \"basin\",\n                \"C__required_proprocessing__basin__StrategyTransformer\"\n            ],\n            [\n                \"basin\",\n                \"C__target_encode__not_LOO__post_encode_null_to_global_mean__StrategyTransformer\"\n            ]\n        ]\n    },\n    \"geographic_location\": {\n        \"description\": {\n            \"type\": \"provided\",\n            \"description\": \"'Geographic location'\"\n        },\n        \"features\": [\n            \"region_code\",\n            \"district_code\",\n            \"subvillage\",\n            \"region\",\n            \"lga\",\n            \"ward\"\n        ],\n        \"preprocessing_strategy\": [\n            [\n                \"region_code\",\n                \"C__target_encode__not_LOO__post_encode_null_to_global_mean__StrategyTransformer\"\n            ],\n            [\n                \"district_code\",\n                \"C__target_encode__not_LOO__post_encode_null_to_global_mean__StrategyTransformer\"\n            ],\n            [\n                \"subvillage\",\n                \"C__drop_it__StrategyTransformer\"\n            ],\n            [\n                \"region\",\n                \"C__drop_it__StrategyTransformer\"\n            ],\n            [\n                \"lga\",\n                \"C__drop_it__StrategyTransformer\"\n            ],\n            [\n                \"ward\",\n                \"C__drop_it__StrategyTransformer\"\n            ]\n        ]\n    }\n}</pre>"
     },
     "metadata": {}
    }
   ],
   "source": [
    "scjpnutils.display_pretty_feature_groupings(eda_config['feature_groupings'], include_preprocessing=True)"
   ]
  },
  {
   "cell_type": "code",
   "execution_count": 8,
   "metadata": {},
   "outputs": [],
   "source": [
    "labeled_with_target = pd.concat(\n",
    "    [\n",
    "        pd.read_csv(fname_labeled_predictors, index_col=0), \n",
    "        pd.read_csv(fname_labels, index_col=0)\n",
    "    ], \n",
    "    axis=1\n",
    "    ,\n",
    "    join='inner'\n",
    ").sort_index()"
   ]
  },
  {
   "cell_type": "code",
   "execution_count": 9,
   "metadata": {},
   "outputs": [],
   "source": [
    "labels = labeled_with_target[['status_group']]"
   ]
  },
  {
   "cell_type": "code",
   "execution_count": 10,
   "metadata": {},
   "outputs": [],
   "source": [
    "let_labels = scjpnskltransformers.LabelEncodingTransformer(['status_group'])\n",
    "labels_encoded = let_labels.fit_transform(labels)"
   ]
  },
  {
   "cell_type": "code",
   "execution_count": 11,
   "metadata": {},
   "outputs": [],
   "source": [
    "classes = list(let_labels.labelencoder.classes_)"
   ]
  },
  {
   "cell_type": "code",
   "execution_count": 12,
   "metadata": {},
   "outputs": [],
   "source": [
    "labeled_with_target['status_group_encoded'] = labels_encoded.status_group"
   ]
  },
  {
   "cell_type": "code",
   "execution_count": 13,
   "metadata": {},
   "outputs": [],
   "source": [
    "X_labeled = labeled_with_target.drop(['status_group', 'status_group_encoded'], axis=1)\n",
    "X_unlabeled = pd.read_csv(fname_unlabeled_predictors, index_col=0).sort_index()"
   ]
  },
  {
   "cell_type": "code",
   "execution_count": 14,
   "metadata": {},
   "outputs": [],
   "source": [
    "X_train, X_validation, y_train, y_validation = train_test_split(X_labeled.sort_index(), labels.sort_index(), test_size=eda_config['test_ratio'], random_state=SEED)"
   ]
  },
  {
   "cell_type": "code",
   "execution_count": 15,
   "metadata": {},
   "outputs": [],
   "source": [
    "y_train_encoded = labels_encoded.loc[y_train.index]"
   ]
  },
  {
   "cell_type": "code",
   "execution_count": 16,
   "metadata": {},
   "outputs": [],
   "source": [
    "data_train = pd.concat([X_train, y_train, y_train_encoded], axis=1, join='inner').sort_index()\n",
    "data_train.columns = list(X_train.columns) + ['status_group', 'status_group_encoded']"
   ]
  },
  {
   "cell_type": "code",
   "execution_count": 17,
   "metadata": {},
   "outputs": [],
   "source": [
    "y_validation_encoded = labels_encoded.loc[y_validation.index]"
   ]
  },
  {
   "cell_type": "code",
   "execution_count": 18,
   "metadata": {},
   "outputs": [],
   "source": [
    "data_validation = pd.concat([X_validation, y_validation, y_validation_encoded], axis=1, join='inner').sort_index()\n",
    "data_validation.columns = list(X_validation.columns) + ['status_group', 'status_group_encoded']"
   ]
  },
  {
   "cell_type": "code",
   "execution_count": 19,
   "metadata": {},
   "outputs": [
    {
     "output_type": "display_data",
     "data": {
      "text/plain": "<IPython.core.display.HTML object>",
      "text/html": "<h3>X_train BEFORE preprocessing Feature-Value Analysis (out of 53460 total observations)</h3>"
     },
     "metadata": {}
    },
    {
     "output_type": "display_data",
     "data": {
      "text/plain": "<IPython.core.display.HTML object>",
      "text/html": "<div>\n<style scoped>\n    .dataframe tbody tr th:only-of-type {\n        vertical-align: middle;\n    }\n\n    .dataframe tbody tr th {\n        vertical-align: top;\n    }\n\n    .dataframe thead th {\n        text-align: right;\n    }\n</style>\n<table border=\"1\" class=\"dataframe\">\n  <thead>\n    <tr style=\"text-align: left;\">\n      <th></th>\n      <th>feature</th>\n      <th>dtype</th>\n      <th>n_unique</th>\n      <th>unique_vals</th>\n      <th>n_unique_ratio</th>\n      <th>p_cat</th>\n      <th>n_null</th>\n      <th>n_null_ratio</th>\n      <th>null_index</th>\n    </tr>\n  </thead>\n  <tbody>\n    <tr>\n      <th>0</th>\n      <td>amount_tsh</td>\n      <td>float64</td>\n      <td>96</td>\n      <td>[0.0, 1000.0, 250.0, 5000.0, 3000.0, 2400.0, 5...</td>\n      <td>0.001796</td>\n      <td>99.82</td>\n      <td>0</td>\n      <td>0.000000</td>\n      <td>None</td>\n    </tr>\n    <tr>\n      <th>1</th>\n      <td>date_recorded</td>\n      <td>object</td>\n      <td>352</td>\n      <td>[2013-03-06, 2013-02-05, 2011-07-24, 2012-11-0...</td>\n      <td>0.006584</td>\n      <td>99.34</td>\n      <td>0</td>\n      <td>0.000000</td>\n      <td>None</td>\n    </tr>\n    <tr>\n      <th>2</th>\n      <td>funder</td>\n      <td>object</td>\n      <td>1799</td>\n      <td>[Kiliwater, Unicef, Danida, Tasaf/tlc, Dhv, Am...</td>\n      <td>0.033651</td>\n      <td>96.63</td>\n      <td>3269</td>\n      <td>0.061149</td>\n      <td>Int64Index([  569, 35243,  7826,  7576, 71341,...</td>\n    </tr>\n    <tr>\n      <th>3</th>\n      <td>gps_height</td>\n      <td>int64</td>\n      <td>2415</td>\n      <td>[1424, 1358, 0, 299, -14, 1490, 1421, 915, 891...</td>\n      <td>0.045174</td>\n      <td>95.48</td>\n      <td>0</td>\n      <td>0.000000</td>\n      <td>None</td>\n    </tr>\n    <tr>\n      <th>4</th>\n      <td>installer</td>\n      <td>object</td>\n      <td>2035</td>\n      <td>[Kiliwater, TWESA, Central government, TASAF/T...</td>\n      <td>0.038066</td>\n      <td>96.19</td>\n      <td>3287</td>\n      <td>0.061485</td>\n      <td>Int64Index([  569, 35243,  7826,  7576, 71341,...</td>\n    </tr>\n    <tr>\n      <th>5</th>\n      <td>longitude</td>\n      <td>float64</td>\n      <td>51753</td>\n      <td>[37.61840909, 30.6557619, 33.81319755, 33.1151...</td>\n      <td>0.968070</td>\n      <td>3.19</td>\n      <td>0</td>\n      <td>0.000000</td>\n      <td>None</td>\n    </tr>\n    <tr>\n      <th>6</th>\n      <td>latitude</td>\n      <td>float64</td>\n      <td>51755</td>\n      <td>[-3.26320247, -3.53625, -9.47660713, -4.835553...</td>\n      <td>0.968107</td>\n      <td>3.19</td>\n      <td>0</td>\n      <td>0.000000</td>\n      <td>None</td>\n    </tr>\n    <tr>\n      <th>7</th>\n      <td>wpt_name</td>\n      <td>object</td>\n      <td>34085</td>\n      <td>[Kwa Moris Assenga, Bavunja Primary School, Za...</td>\n      <td>0.637579</td>\n      <td>36.24</td>\n      <td>0</td>\n      <td>0.000000</td>\n      <td>None</td>\n    </tr>\n    <tr>\n      <th>8</th>\n      <td>num_private</td>\n      <td>int64</td>\n      <td>61</td>\n      <td>[0, 34, 65, 32, 1, 8, 41, 6, 15, 3, 698, 1402,...</td>\n      <td>0.001141</td>\n      <td>99.89</td>\n      <td>0</td>\n      <td>0.000000</td>\n      <td>None</td>\n    </tr>\n    <tr>\n      <th>9</th>\n      <td>basin</td>\n      <td>object</td>\n      <td>9</td>\n      <td>[Pangani, Lake Tanganyika, Lake Nyasa, Rufiji,...</td>\n      <td>0.000168</td>\n      <td>99.98</td>\n      <td>0</td>\n      <td>0.000000</td>\n      <td>None</td>\n    </tr>\n    <tr>\n      <th>10</th>\n      <td>subvillage</td>\n      <td>object</td>\n      <td>18331</td>\n      <td>[Usesi, Uwanja Wa Ndege, Ilindi, Pemba, Namhan...</td>\n      <td>0.342892</td>\n      <td>65.71</td>\n      <td>335</td>\n      <td>0.006266</td>\n      <td>Int64Index([57269, 21287, 33378,  6502,  7898,...</td>\n    </tr>\n    <tr>\n      <th>11</th>\n      <td>region</td>\n      <td>object</td>\n      <td>21</td>\n      <td>[Kilimanjaro, Kigoma, Mbeya, Tabora, Morogoro,...</td>\n      <td>0.000393</td>\n      <td>99.96</td>\n      <td>0</td>\n      <td>0.000000</td>\n      <td>None</td>\n    </tr>\n    <tr>\n      <th>12</th>\n      <td>region_code</td>\n      <td>int64</td>\n      <td>27</td>\n      <td>[3, 16, 12, 14, 5, 6, 20, 15, 11, 19, 8, 4, 90...</td>\n      <td>0.000505</td>\n      <td>99.95</td>\n      <td>0</td>\n      <td>0.000000</td>\n      <td>None</td>\n    </tr>\n    <tr>\n      <th>13</th>\n      <td>district_code</td>\n      <td>int64</td>\n      <td>20</td>\n      <td>[1, 3, 4, 2, 7, 33, 5, 6, 13, 23, 30, 63, 8, 5...</td>\n      <td>0.000374</td>\n      <td>99.96</td>\n      <td>0</td>\n      <td>0.000000</td>\n      <td>None</td>\n    </tr>\n    <tr>\n      <th>14</th>\n      <td>lga</td>\n      <td>object</td>\n      <td>124</td>\n      <td>[Rombo, Kibondo, Kyela, Uyui, Ulanga, Mkuranga...</td>\n      <td>0.002319</td>\n      <td>99.77</td>\n      <td>0</td>\n      <td>0.000000</td>\n      <td>None</td>\n    </tr>\n    <tr>\n      <th>15</th>\n      <td>ward</td>\n      <td>object</td>\n      <td>2087</td>\n      <td>[Mengwe Manda, Bunyambo, Ipande, Isikizya, Ira...</td>\n      <td>0.039039</td>\n      <td>96.10</td>\n      <td>0</td>\n      <td>0.000000</td>\n      <td>None</td>\n    </tr>\n    <tr>\n      <th>16</th>\n      <td>population</td>\n      <td>int64</td>\n      <td>1019</td>\n      <td>[1, 500, 0, 263, 400, 520, 350, 60, 300, 40, 1...</td>\n      <td>0.019061</td>\n      <td>98.09</td>\n      <td>0</td>\n      <td>0.000000</td>\n      <td>None</td>\n    </tr>\n    <tr>\n      <th>17</th>\n      <td>public_meeting</td>\n      <td>object</td>\n      <td>3</td>\n      <td>[True, False, nan]</td>\n      <td>0.000056</td>\n      <td>99.99</td>\n      <td>3006</td>\n      <td>0.056229</td>\n      <td>Int64Index([32908, 12197, 64825, 50761, 52163,...</td>\n    </tr>\n    <tr>\n      <th>18</th>\n      <td>recorded_by</td>\n      <td>object</td>\n      <td>1</td>\n      <td>[GeoData Consultants Ltd]</td>\n      <td>0.000019</td>\n      <td>100.00</td>\n      <td>0</td>\n      <td>0.000000</td>\n      <td>None</td>\n    </tr>\n    <tr>\n      <th>19</th>\n      <td>scheme_management</td>\n      <td>object</td>\n      <td>13</td>\n      <td>[Company, VWC, nan, Water authority, Water Boa...</td>\n      <td>0.000243</td>\n      <td>99.98</td>\n      <td>3503</td>\n      <td>0.065526</td>\n      <td>Int64Index([36420,  7651, 41429, 14391, 64446,...</td>\n    </tr>\n    <tr>\n      <th>20</th>\n      <td>scheme_name</td>\n      <td>object</td>\n      <td>2636</td>\n      <td>[Kitukuni water supply, nan, Sinyanga  water s...</td>\n      <td>0.049308</td>\n      <td>95.07</td>\n      <td>25363</td>\n      <td>0.474429</td>\n      <td>Int64Index([38945,  1186, 36420, 57631, 51349,...</td>\n    </tr>\n    <tr>\n      <th>21</th>\n      <td>permit</td>\n      <td>object</td>\n      <td>3</td>\n      <td>[True, False, nan]</td>\n      <td>0.000056</td>\n      <td>99.99</td>\n      <td>2733</td>\n      <td>0.051122</td>\n      <td>Int64Index([  569, 54872,  7826,  7576, 71341,...</td>\n    </tr>\n    <tr>\n      <th>22</th>\n      <td>construction_year</td>\n      <td>int64</td>\n      <td>55</td>\n      <td>[2012, 2009, 0, 1996, 2000, 2001, 1998, 2013, ...</td>\n      <td>0.001029</td>\n      <td>99.90</td>\n      <td>0</td>\n      <td>0.000000</td>\n      <td>None</td>\n    </tr>\n    <tr>\n      <th>23</th>\n      <td>extraction_type</td>\n      <td>object</td>\n      <td>18</td>\n      <td>[gravity, afridev, swn 80, other, mono, submer...</td>\n      <td>0.000337</td>\n      <td>99.97</td>\n      <td>0</td>\n      <td>0.000000</td>\n      <td>None</td>\n    </tr>\n    <tr>\n      <th>24</th>\n      <td>extraction_type_group</td>\n      <td>object</td>\n      <td>13</td>\n      <td>[gravity, afridev, swn 80, other, mono, submer...</td>\n      <td>0.000243</td>\n      <td>99.98</td>\n      <td>0</td>\n      <td>0.000000</td>\n      <td>None</td>\n    </tr>\n    <tr>\n      <th>25</th>\n      <td>extraction_type_class</td>\n      <td>object</td>\n      <td>7</td>\n      <td>[gravity, handpump, other, motorpump, submersi...</td>\n      <td>0.000131</td>\n      <td>99.99</td>\n      <td>0</td>\n      <td>0.000000</td>\n      <td>None</td>\n    </tr>\n    <tr>\n      <th>26</th>\n      <td>management</td>\n      <td>object</td>\n      <td>12</td>\n      <td>[company, vwc, water board, wug, water authori...</td>\n      <td>0.000224</td>\n      <td>99.98</td>\n      <td>0</td>\n      <td>0.000000</td>\n      <td>None</td>\n    </tr>\n    <tr>\n      <th>27</th>\n      <td>management_group</td>\n      <td>object</td>\n      <td>5</td>\n      <td>[commercial, user-group, unknown, parastatal, ...</td>\n      <td>0.000094</td>\n      <td>99.99</td>\n      <td>0</td>\n      <td>0.000000</td>\n      <td>None</td>\n    </tr>\n    <tr>\n      <th>28</th>\n      <td>payment</td>\n      <td>object</td>\n      <td>7</td>\n      <td>[pay monthly, unknown, never pay, pay annually...</td>\n      <td>0.000131</td>\n      <td>99.99</td>\n      <td>0</td>\n      <td>0.000000</td>\n      <td>None</td>\n    </tr>\n    <tr>\n      <th>29</th>\n      <td>payment_type</td>\n      <td>object</td>\n      <td>7</td>\n      <td>[monthly, unknown, never pay, annually, per bu...</td>\n      <td>0.000131</td>\n      <td>99.99</td>\n      <td>0</td>\n      <td>0.000000</td>\n      <td>None</td>\n    </tr>\n    <tr>\n      <th>30</th>\n      <td>water_quality</td>\n      <td>object</td>\n      <td>8</td>\n      <td>[soft, unknown, salty, fluoride, milky, salty ...</td>\n      <td>0.000150</td>\n      <td>99.99</td>\n      <td>0</td>\n      <td>0.000000</td>\n      <td>None</td>\n    </tr>\n    <tr>\n      <th>31</th>\n      <td>quality_group</td>\n      <td>object</td>\n      <td>6</td>\n      <td>[good, unknown, salty, fluoride, milky, colored]</td>\n      <td>0.000112</td>\n      <td>99.99</td>\n      <td>0</td>\n      <td>0.000000</td>\n      <td>None</td>\n    </tr>\n    <tr>\n      <th>32</th>\n      <td>quantity</td>\n      <td>object</td>\n      <td>5</td>\n      <td>[insufficient, dry, enough, seasonal, unknown]</td>\n      <td>0.000094</td>\n      <td>99.99</td>\n      <td>0</td>\n      <td>0.000000</td>\n      <td>None</td>\n    </tr>\n    <tr>\n      <th>33</th>\n      <td>quantity_group</td>\n      <td>object</td>\n      <td>5</td>\n      <td>[insufficient, dry, enough, seasonal, unknown]</td>\n      <td>0.000094</td>\n      <td>99.99</td>\n      <td>0</td>\n      <td>0.000000</td>\n      <td>None</td>\n    </tr>\n    <tr>\n      <th>34</th>\n      <td>source</td>\n      <td>object</td>\n      <td>10</td>\n      <td>[spring, rainwater harvesting, shallow well, r...</td>\n      <td>0.000187</td>\n      <td>99.98</td>\n      <td>0</td>\n      <td>0.000000</td>\n      <td>None</td>\n    </tr>\n    <tr>\n      <th>35</th>\n      <td>source_type</td>\n      <td>object</td>\n      <td>7</td>\n      <td>[spring, rainwater harvesting, shallow well, r...</td>\n      <td>0.000131</td>\n      <td>99.99</td>\n      <td>0</td>\n      <td>0.000000</td>\n      <td>None</td>\n    </tr>\n    <tr>\n      <th>36</th>\n      <td>source_class</td>\n      <td>object</td>\n      <td>3</td>\n      <td>[groundwater, surface, unknown]</td>\n      <td>0.000056</td>\n      <td>99.99</td>\n      <td>0</td>\n      <td>0.000000</td>\n      <td>None</td>\n    </tr>\n    <tr>\n      <th>37</th>\n      <td>waterpoint_type</td>\n      <td>object</td>\n      <td>7</td>\n      <td>[communal standpipe, hand pump, communal stand...</td>\n      <td>0.000131</td>\n      <td>99.99</td>\n      <td>0</td>\n      <td>0.000000</td>\n      <td>None</td>\n    </tr>\n    <tr>\n      <th>38</th>\n      <td>waterpoint_type_group</td>\n      <td>object</td>\n      <td>6</td>\n      <td>[communal standpipe, hand pump, other, cattle ...</td>\n      <td>0.000112</td>\n      <td>99.99</td>\n      <td>0</td>\n      <td>0.000000</td>\n      <td>None</td>\n    </tr>\n  </tbody>\n</table>\n</div>"
     },
     "metadata": {}
    }
   ],
   "source": [
    "scjpnutils.analyze_values(X_train, 'X_train BEFORE preprocessing');"
   ]
  },
  {
   "cell_type": "code",
   "execution_count": 20,
   "metadata": {
    "tags": []
   },
   "outputs": [
    {
     "output_type": "display_data",
     "data": {
      "text/plain": "<IPython.core.display.HTML object>",
      "text/html": "<b>(composite) strategy name/description: <i><font color='red'>amount_tsh</font></i></b><ol><li><b>strategy description</b>: <i><font color='blue'>drop feature: amount_tsh</font></i></li></ol>"
     },
     "metadata": {}
    },
    {
     "output_type": "stream",
     "name": "stdout",
     "text": "strategy \"drop feature: amount_tsh\" appended step ['drop feature: amount_tsh', <scjpnlib.utils.skl_transformers.DropColumnsTransformer object at 0x7fdba61e2b90>] to pipeline\nstrategy \"drop feature: amount_tsh\" transformation for feature \"amount_tsh\" is COMPLETE!\n"
    },
    {
     "output_type": "display_data",
     "data": {
      "text/plain": "<IPython.core.display.HTML object>",
      "text/html": "<p><br><br>"
     },
     "metadata": {}
    },
    {
     "output_type": "display_data",
     "data": {
      "text/plain": "<IPython.core.display.HTML object>",
      "text/html": "<b>(composite) strategy name/description: <i><font color='red'>pump_age_at_observation_date</font></i></b><ol><li><b>(composite) strategy name/description: <i><font color='red'>required preprocessing for pump_age</font></i></b><ol><li><b>strategy description</b>: <i><font color='blue'>convert (from string date format '%Y-%m-%d') to datetime type: date_recorded</font></i></li><li><b>strategy description</b>: <i><font color='blue'>replace 0 with date_recorded value: construction_year</font></i></li><li><b>strategy description</b>: <i><font color='blue'>convert (from string date format '%Y') to datetime type: construction_year</font></i></li><li><b>strategy description</b>: <i><font color='blue'>create feature from date_recorded and construction_year: pump_age</font></i></li><li><b>strategy description</b>: <i><font color='blue'>drop feature: date_recorded</font></i></li><li><b>strategy description</b>: <i><font color='blue'>drop feature: construction_year</font></i></li></ol></li></ol>"
     },
     "metadata": {}
    },
    {
     "output_type": "stream",
     "name": "stdout",
     "text": "strategy \"convert (from string date format '%Y-%m-%d') to datetime type: date_recorded\" appended step [\"convert (from string date format '%Y-%m-%d') to datetime type: date_recorded\", FunctionTransformer(func=<function C__convert_string_date_to_datetime__StrategyTransformer.get_transformer.<locals>.<lambda> at 0x7fdbb5495830>)] to pipeline\nstrategy \"convert (from string date format '%Y-%m-%d') to datetime type: date_recorded\" transformation for feature \"date_recorded\" is COMPLETE!\nstrategy \"replace 0 with date_recorded value: construction_year\" appended step ['replace 0 with date_recorded value: construction_year', FunctionTransformer(func=<function C__replace_0_construction_year_with_date_recorded__StrategyTransformer.get_transformer.<locals>.<lambda> at 0x7fdbb5495560>)] to pipeline\nstrategy \"replace 0 with date_recorded value: construction_year\" transformation for feature \"construction_year\" is COMPLETE!\nstrategy \"convert (from string date format '%Y') to datetime type: construction_year\" appended step [\"convert (from string date format '%Y') to datetime type: construction_year\", FunctionTransformer(func=<function C__convert_string_date_to_datetime__StrategyTransformer.get_transformer.<locals>.<lambda> at 0x7fdbb5fed5f0>)] to pipeline\nstrategy \"convert (from string date format '%Y') to datetime type: construction_year\" transformation for feature \"construction_year\" is COMPLETE!\nstrategy \"create feature from date_recorded and construction_year: pump_age\" appended step ['create feature from date_recorded and construction_year: pump_age', FunctionTransformer(func=<function C__create_pump_age_feature_from_date_recorded_and_construction_year__StrategyTransformer.get_transformer.<locals>.<lambda> at 0x7fdba3ceee60>)] to pipeline\nstrategy \"create feature from date_recorded and construction_year: pump_age\" transformation for feature \"pump_age\" is COMPLETE!\nstrategy \"drop feature: date_recorded\" appended step ['drop feature: date_recorded', <scjpnlib.utils.skl_transformers.DropColumnsTransformer object at 0x7fdba61e7c90>] to pipeline\nstrategy \"drop feature: date_recorded\" transformation for feature \"date_recorded\" is COMPLETE!\nstrategy \"drop feature: construction_year\" appended step ['drop feature: construction_year', <scjpnlib.utils.skl_transformers.DropColumnsTransformer object at 0x7fdba3ce0b50>] to pipeline\nstrategy \"drop feature: construction_year\" transformation for feature \"construction_year\" is COMPLETE!\n"
    },
    {
     "output_type": "display_data",
     "data": {
      "text/plain": "<IPython.core.display.HTML object>",
      "text/html": "<p><br><br>"
     },
     "metadata": {}
    },
    {
     "output_type": "display_data",
     "data": {
      "text/plain": "<IPython.core.display.HTML object>",
      "text/html": "<b>(composite) strategy name/description: <i><font color='red'>funder</font></i></b><ol><li><b>strategy description</b>: <i><font color='blue'>drop feature: funder</font></i></li></ol>"
     },
     "metadata": {}
    },
    {
     "output_type": "stream",
     "name": "stdout",
     "text": "strategy \"drop feature: funder\" appended step ['drop feature: funder', <scjpnlib.utils.skl_transformers.DropColumnsTransformer object at 0x7fdba3ce0a10>] to pipeline\nstrategy \"drop feature: funder\" transformation for feature \"funder\" is COMPLETE!\n"
    },
    {
     "output_type": "display_data",
     "data": {
      "text/plain": "<IPython.core.display.HTML object>",
      "text/html": "<p><br><br>"
     },
     "metadata": {}
    },
    {
     "output_type": "display_data",
     "data": {
      "text/plain": "<IPython.core.display.HTML object>",
      "text/html": "<b>(composite) strategy name/description: <i><font color='red'>gps_height</font></i></b><ol><li><b>strategy description</b>: <i><font color='blue'>leave feature as is (do nothing): gps_height</font></i></li></ol>"
     },
     "metadata": {}
    },
    {
     "output_type": "stream",
     "name": "stdout",
     "text": "strategy \"leave feature as is (do nothing): gps_height\" appended step ['leave feature as is (do nothing): gps_height', FunctionTransformer(func=<function C__leave_it_as_is__StrategyTransformer.get_transformer.<locals>.<lambda> at 0x7fdba38839e0>)] to pipeline\nstrategy \"leave feature as is (do nothing): gps_height\" transformation for feature \"gps_height\" is COMPLETE!\n"
    },
    {
     "output_type": "display_data",
     "data": {
      "text/plain": "<IPython.core.display.HTML object>",
      "text/html": "<p><br><br>"
     },
     "metadata": {}
    },
    {
     "output_type": "display_data",
     "data": {
      "text/plain": "<IPython.core.display.HTML object>",
      "text/html": "<b>(composite) strategy name/description: <i><font color='red'>installer</font></i></b><ol><li><b>(composite) strategy name/description: <i><font color='red'>required preprocessing for funder</font></i></b><ol><li><b>strategy description</b>: <i><font color='blue'>impute lower-case transform: installer</font></i></li><li><b>strategy description</b>: <i><font color='blue'>replace values for feature: installer</font></i></li><li><b>strategy description</b>: <i><font color='blue'>replace values for feature: installer</font></i></li></ol></li><li><b>strategy description</b>: <i><font color='blue'>(prefit) target-encoder (LOO==False, post_encode_null_to_global_mean==True) transform: installer</font></i></li></ol>"
     },
     "metadata": {}
    },
    {
     "output_type": "stream",
     "name": "stdout",
     "text": "strategy \"impute lower-case transform: installer\" appended step ['impute lower-case transform: installer', FunctionTransformer(func=<function C__impute_lcase__StrategyTransformer.get_transformer.<locals>.<lambda> at 0x7fdba3cee830>)] to pipeline\nstrategy \"impute lower-case transform: installer\" transformation for feature \"installer\" is COMPLETE!\nstrategy \"replace values for feature: installer\" replacement_rules:\n{\n    \"installer\": [\n        {\n            \"missing_values\": NaN,\n            \"strategy\": \"constant\",\n            \"fill_value\": \"none\"\n        },\n        {\n            \"missing_values\": \"0\",\n            \"strategy\": \"constant\",\n            \"fill_value\": \"none\"\n        },\n        {\n            \"missing_values\": \"-\",\n            \"strategy\": \"constant\",\n            \"fill_value\": \"none\"\n        }\n    ]\n}\nstrategy \"replace values for feature: installer\" appended step ['replace values for feature: installer', <scjpnlib.utils.skl_transformers.SimpleValueTransformer object at 0x7fdba3882ed0>] to pipeline\nstrategy \"replace values for feature: installer\" transformation for feature \"installer\" is COMPLETE!\nstrategy \"replace values for feature: installer\" replacement_rules:\n{\n    \"installer\": [\n        {\n            \"missing_values\": \"not known\",\n            \"strategy\": \"constant\",\n            \"fill_value\": \"unknown\"\n        }\n    ]\n}\nstrategy \"replace values for feature: installer\" appended step ['replace values for feature: installer', <scjpnlib.utils.skl_transformers.SimpleValueTransformer object at 0x7fdba4136dd0>] to pipeline\nstrategy \"replace values for feature: installer\" transformation for feature \"installer\" is COMPLETE!\n** TargetEncoderLOOTransformer FIT INFO **: transformer has been fit to X\nstrategy \"(prefit) target-encoder (LOO==False, post_encode_null_to_global_mean==True) transform: installer\" appended step ['(prefit) target-encoder (LOO==False, post_encode_null_to_global_mean==True) transform: installer', FunctionTransformer(func=<function C__target_encode__StrategyTransformer.get_transformer.<locals>.<lambda> at 0x7fdba38865f0>)] to pipeline\n** TargetEncoderLOOTransformer TRANSFORM INFO **: NOT using Leave-One-Out\n** TargetEncoderLOOTransformer TRANSFORM INFO **: unique categories of 'installer' in X match those that were previously fit\nadded new feature: installer_target_encoded\nstrategy '(prefit) target-encoder (LOO==False, post_encode_null_to_global_mean==True) transform: installer' appended step ['drop after target encoding: installer', <scjpnlib.utils.skl_transformers.DropColumnsTransformer object at 0x7fdba3d14210>] to pipeline\nstrategy '(prefit) target-encoder (LOO==False, post_encode_null_to_global_mean==True) transform: installer' dropped feature 'installer' after target encoding\nstrategy '(prefit) target-encoder (LOO==False, post_encode_null_to_global_mean==True) transform: installer' transformation for feature 'installer' is COMPLETE!\n"
    },
    {
     "output_type": "display_data",
     "data": {
      "text/plain": "<IPython.core.display.HTML object>",
      "text/html": "<p><br><br>"
     },
     "metadata": {}
    },
    {
     "output_type": "display_data",
     "data": {
      "text/plain": "<IPython.core.display.HTML object>",
      "text/html": "<b>(composite) strategy name/description: <i><font color='red'>gps_coordinates</font></i></b><ol><li><b>(composite) strategy name/description: <i><font color='red'>required preprocessing for gps_coordinates</font></i></b><ol><li><b>strategy description</b>: <i><font color='blue'>replace values for feature: latitude</font></i></li></ol></li></ol>"
     },
     "metadata": {}
    },
    {
     "output_type": "stream",
     "name": "stdout",
     "text": "strategy \"replace values for feature: latitude\" replacement_rules:\n{\n    \"latitude\": [\n        {\n            \"missing_values\": -2e-08,\n            \"strategy\": \"constant\",\n            \"fill_value\": 0.0\n        }\n    ]\n}\nstrategy \"replace values for feature: latitude\" appended step ['replace values for feature: latitude', <scjpnlib.utils.skl_transformers.SimpleValueTransformer object at 0x7fdba41357d0>] to pipeline\nstrategy \"replace values for feature: latitude\" transformation for feature \"latitude\" is COMPLETE!\n"
    },
    {
     "output_type": "display_data",
     "data": {
      "text/plain": "<IPython.core.display.HTML object>",
      "text/html": "<p><br><br>"
     },
     "metadata": {}
    },
    {
     "output_type": "display_data",
     "data": {
      "text/plain": "<IPython.core.display.HTML object>",
      "text/html": "<b>(composite) strategy name/description: <i><font color='red'>wpt_name</font></i></b><ol><li><b>strategy description</b>: <i><font color='blue'>drop feature: wpt_name</font></i></li></ol>"
     },
     "metadata": {}
    },
    {
     "output_type": "stream",
     "name": "stdout",
     "text": "strategy \"drop feature: wpt_name\" appended step ['drop feature: wpt_name', <scjpnlib.utils.skl_transformers.DropColumnsTransformer object at 0x7fdba61e2650>] to pipeline\nstrategy \"drop feature: wpt_name\" transformation for feature \"wpt_name\" is COMPLETE!\n"
    },
    {
     "output_type": "display_data",
     "data": {
      "text/plain": "<IPython.core.display.HTML object>",
      "text/html": "<p><br><br>"
     },
     "metadata": {}
    },
    {
     "output_type": "display_data",
     "data": {
      "text/plain": "<IPython.core.display.HTML object>",
      "text/html": "<b>(composite) strategy name/description: <i><font color='red'>num_private</font></i></b><ol><li><b>strategy description</b>: <i><font color='blue'>drop feature: num_private</font></i></li></ol>"
     },
     "metadata": {}
    },
    {
     "output_type": "stream",
     "name": "stdout",
     "text": "strategy \"drop feature: num_private\" appended step ['drop feature: num_private', <scjpnlib.utils.skl_transformers.DropColumnsTransformer object at 0x7fdba61e2250>] to pipeline\nstrategy \"drop feature: num_private\" transformation for feature \"num_private\" is COMPLETE!\n"
    },
    {
     "output_type": "display_data",
     "data": {
      "text/plain": "<IPython.core.display.HTML object>",
      "text/html": "<p><br><br>"
     },
     "metadata": {}
    },
    {
     "output_type": "display_data",
     "data": {
      "text/plain": "<IPython.core.display.HTML object>",
      "text/html": "<b>(composite) strategy name/description: <i><font color='red'>basin</font></i></b><ol><li><b>(composite) strategy name/description: <i><font color='red'>required preprocessing for basin</font></i></b><ol><li><b>strategy description</b>: <i><font color='blue'>impute lower-case transform: basin</font></i></li></ol></li><li><b>strategy description</b>: <i><font color='blue'>(prefit) target-encoder (LOO==False, post_encode_null_to_global_mean==True) transform: basin</font></i></li></ol>"
     },
     "metadata": {}
    },
    {
     "output_type": "stream",
     "name": "stdout",
     "text": "strategy \"impute lower-case transform: basin\" appended step ['impute lower-case transform: basin', FunctionTransformer(func=<function C__impute_lcase__StrategyTransformer.get_transformer.<locals>.<lambda> at 0x7fdba3cee710>)] to pipeline\nstrategy \"impute lower-case transform: basin\" transformation for feature \"basin\" is COMPLETE!\n** TargetEncoderLOOTransformer FIT INFO **: transformer has been fit to X\nstrategy \"(prefit) target-encoder (LOO==False, post_encode_null_to_global_mean==True) transform: basin\" appended step ['(prefit) target-encoder (LOO==False, post_encode_null_to_global_mean==True) transform: basin', FunctionTransformer(func=<function C__target_encode__StrategyTransformer.get_transformer.<locals>.<lambda> at 0x7fdba3886680>)] to pipeline\n** TargetEncoderLOOTransformer TRANSFORM INFO **: NOT using Leave-One-Out\n** TargetEncoderLOOTransformer TRANSFORM INFO **: unique categories of 'basin' in X match those that were previously fit\nadded new feature: basin_target_encoded\nstrategy '(prefit) target-encoder (LOO==False, post_encode_null_to_global_mean==True) transform: basin' appended step ['drop after target encoding: basin', <scjpnlib.utils.skl_transformers.DropColumnsTransformer object at 0x7fdba3a525d0>] to pipeline\nstrategy '(prefit) target-encoder (LOO==False, post_encode_null_to_global_mean==True) transform: basin' dropped feature 'basin' after target encoding\nstrategy '(prefit) target-encoder (LOO==False, post_encode_null_to_global_mean==True) transform: basin' transformation for feature 'basin' is COMPLETE!\n"
    },
    {
     "output_type": "display_data",
     "data": {
      "text/plain": "<IPython.core.display.HTML object>",
      "text/html": "<p><br><br>"
     },
     "metadata": {}
    },
    {
     "output_type": "display_data",
     "data": {
      "text/plain": "<IPython.core.display.HTML object>",
      "text/html": "<b>(composite) strategy name/description: <i><font color='red'>geographic_location</font></i></b><ol><li><b>strategy description</b>: <i><font color='blue'>(prefit) target-encoder (LOO==False, post_encode_null_to_global_mean==True) transform: region_code</font></i></li><li><b>strategy description</b>: <i><font color='blue'>(prefit) target-encoder (LOO==False, post_encode_null_to_global_mean==True) transform: district_code</font></i></li><li><b>strategy description</b>: <i><font color='blue'>drop feature: subvillage</font></i></li><li><b>strategy description</b>: <i><font color='blue'>drop feature: region</font></i></li><li><b>strategy description</b>: <i><font color='blue'>drop feature: lga</font></i></li><li><b>strategy description</b>: <i><font color='blue'>drop feature: ward</font></i></li></ol>"
     },
     "metadata": {}
    },
    {
     "output_type": "stream",
     "name": "stdout",
     "text": "** TargetEncoderLOOTransformer FIT INFO **: transformer has been fit to X\nstrategy \"(prefit) target-encoder (LOO==False, post_encode_null_to_global_mean==True) transform: region_code\" appended step ['(prefit) target-encoder (LOO==False, post_encode_null_to_global_mean==True) transform: region_code', FunctionTransformer(func=<function C__target_encode__StrategyTransformer.get_transformer.<locals>.<lambda> at 0x7fdba38867a0>)] to pipeline\n** TargetEncoderLOOTransformer TRANSFORM INFO **: NOT using Leave-One-Out\n** TargetEncoderLOOTransformer TRANSFORM INFO **: unique categories of 'region_code' in X match those that were previously fit\nadded new feature: region_code_target_encoded\nstrategy '(prefit) target-encoder (LOO==False, post_encode_null_to_global_mean==True) transform: region_code' appended step ['drop after target encoding: region_code', <scjpnlib.utils.skl_transformers.DropColumnsTransformer object at 0x7fdba3885b10>] to pipeline\nstrategy '(prefit) target-encoder (LOO==False, post_encode_null_to_global_mean==True) transform: region_code' dropped feature 'region_code' after target encoding\nstrategy '(prefit) target-encoder (LOO==False, post_encode_null_to_global_mean==True) transform: region_code' transformation for feature 'region_code' is COMPLETE!\n** TargetEncoderLOOTransformer FIT INFO **: transformer has been fit to X\nstrategy \"(prefit) target-encoder (LOO==False, post_encode_null_to_global_mean==True) transform: district_code\" appended step ['(prefit) target-encoder (LOO==False, post_encode_null_to_global_mean==True) transform: district_code', FunctionTransformer(func=<function C__target_encode__StrategyTransformer.get_transformer.<locals>.<lambda> at 0x7fdba3886290>)] to pipeline\n** TargetEncoderLOOTransformer TRANSFORM INFO **: NOT using Leave-One-Out\n** TargetEncoderLOOTransformer TRANSFORM INFO **: unique categories of 'district_code' in X match those that were previously fit\nadded new feature: district_code_target_encoded\nstrategy '(prefit) target-encoder (LOO==False, post_encode_null_to_global_mean==True) transform: district_code' appended step ['drop after target encoding: district_code', <scjpnlib.utils.skl_transformers.DropColumnsTransformer object at 0x7fdba388ee50>] to pipeline\nstrategy '(prefit) target-encoder (LOO==False, post_encode_null_to_global_mean==True) transform: district_code' dropped feature 'district_code' after target encoding\nstrategy '(prefit) target-encoder (LOO==False, post_encode_null_to_global_mean==True) transform: district_code' transformation for feature 'district_code' is COMPLETE!\nstrategy \"drop feature: subvillage\" appended step ['drop feature: subvillage', <scjpnlib.utils.skl_transformers.DropColumnsTransformer object at 0x7fdba4136610>] to pipeline\nstrategy \"drop feature: subvillage\" transformation for feature \"subvillage\" is COMPLETE!\nstrategy \"drop feature: region\" appended step ['drop feature: region', <scjpnlib.utils.skl_transformers.DropColumnsTransformer object at 0x7fdba3885a10>] to pipeline\nstrategy \"drop feature: region\" transformation for feature \"region\" is COMPLETE!\nstrategy \"drop feature: lga\" appended step ['drop feature: lga', <scjpnlib.utils.skl_transformers.DropColumnsTransformer object at 0x7fdba3885cd0>] to pipeline\nstrategy \"drop feature: lga\" transformation for feature \"lga\" is COMPLETE!\nstrategy \"drop feature: ward\" appended step ['drop feature: ward', <scjpnlib.utils.skl_transformers.DropColumnsTransformer object at 0x7fdba3d14c90>] to pipeline\nstrategy \"drop feature: ward\" transformation for feature \"ward\" is COMPLETE!\n"
    },
    {
     "output_type": "display_data",
     "data": {
      "text/plain": "<IPython.core.display.HTML object>",
      "text/html": "<p><br><br>"
     },
     "metadata": {}
    }
   ],
   "source": [
    "X_train_preprocessed = X_train.copy()\n",
    "\n",
    "for feat_group in eda_config['feature_groupings']:\n",
    "    strat_transformer = scjpnstrattransformers.instantiate_strategy_transformer(\n",
    "        eda_config['feature_groupings'][feat_group]['preprocessing_strategy'], \n",
    "        feat_group,\n",
    "        pipeline_data_preprocessor\n",
    "    )\n",
    "    scjpnstrattransformers.html_prettify_strategy_transformer_description(strat_transformer)\n",
    "    X_train_preprocessed = strat_transformer.fit_transform(X_train_preprocessed, y_train_encoded.status_group)\n",
    "    display(HTML(\"<p><br><br>\"))"
   ]
  },
  {
   "cell_type": "code",
   "execution_count": 21,
   "metadata": {},
   "outputs": [
    {
     "output_type": "display_data",
     "data": {
      "text/plain": "<IPython.core.display.HTML object>",
      "text/html": "<h3>X_train AFTER preprocessing Feature-Value Analysis (out of 53460 total observations)</h3>"
     },
     "metadata": {}
    },
    {
     "output_type": "display_data",
     "data": {
      "text/plain": "<IPython.core.display.HTML object>",
      "text/html": "<div>\n<style scoped>\n    .dataframe tbody tr th:only-of-type {\n        vertical-align: middle;\n    }\n\n    .dataframe tbody tr th {\n        vertical-align: top;\n    }\n\n    .dataframe thead th {\n        text-align: right;\n    }\n</style>\n<table border=\"1\" class=\"dataframe\">\n  <thead>\n    <tr style=\"text-align: left;\">\n      <th></th>\n      <th>feature</th>\n      <th>dtype</th>\n      <th>n_unique</th>\n      <th>unique_vals</th>\n      <th>n_unique_ratio</th>\n      <th>p_cat</th>\n      <th>n_null</th>\n      <th>n_null_ratio</th>\n      <th>null_index</th>\n    </tr>\n  </thead>\n  <tbody>\n    <tr>\n      <th>0</th>\n      <td>gps_height</td>\n      <td>int64</td>\n      <td>2415</td>\n      <td>[1424, 1358, 0, 299, -14, 1490, 1421, 915, 891...</td>\n      <td>0.045174</td>\n      <td>95.48</td>\n      <td>0</td>\n      <td>0.000000</td>\n      <td>None</td>\n    </tr>\n    <tr>\n      <th>1</th>\n      <td>longitude</td>\n      <td>float64</td>\n      <td>51753</td>\n      <td>[37.61840909, 30.6557619, 33.81319755, 33.1151...</td>\n      <td>0.968070</td>\n      <td>3.19</td>\n      <td>0</td>\n      <td>0.000000</td>\n      <td>None</td>\n    </tr>\n    <tr>\n      <th>2</th>\n      <td>latitude</td>\n      <td>float64</td>\n      <td>51755</td>\n      <td>[-3.26320247, -3.53625, -9.47660713, -4.835553...</td>\n      <td>0.968107</td>\n      <td>3.19</td>\n      <td>0</td>\n      <td>0.000000</td>\n      <td>None</td>\n    </tr>\n    <tr>\n      <th>3</th>\n      <td>population</td>\n      <td>int64</td>\n      <td>1019</td>\n      <td>[1, 500, 0, 263, 400, 520, 350, 60, 300, 40, 1...</td>\n      <td>0.019061</td>\n      <td>98.09</td>\n      <td>0</td>\n      <td>0.000000</td>\n      <td>None</td>\n    </tr>\n    <tr>\n      <th>4</th>\n      <td>public_meeting</td>\n      <td>object</td>\n      <td>3</td>\n      <td>[True, False, nan]</td>\n      <td>0.000056</td>\n      <td>99.99</td>\n      <td>3006</td>\n      <td>0.056229</td>\n      <td>Int64Index([32908, 12197, 64825, 50761, 52163,...</td>\n    </tr>\n    <tr>\n      <th>5</th>\n      <td>recorded_by</td>\n      <td>object</td>\n      <td>1</td>\n      <td>[GeoData Consultants Ltd]</td>\n      <td>0.000019</td>\n      <td>100.00</td>\n      <td>0</td>\n      <td>0.000000</td>\n      <td>None</td>\n    </tr>\n    <tr>\n      <th>6</th>\n      <td>scheme_management</td>\n      <td>object</td>\n      <td>13</td>\n      <td>[Company, VWC, nan, Water authority, Water Boa...</td>\n      <td>0.000243</td>\n      <td>99.98</td>\n      <td>3503</td>\n      <td>0.065526</td>\n      <td>Int64Index([36420,  7651, 41429, 14391, 64446,...</td>\n    </tr>\n    <tr>\n      <th>7</th>\n      <td>scheme_name</td>\n      <td>object</td>\n      <td>2636</td>\n      <td>[Kitukuni water supply, nan, Sinyanga  water s...</td>\n      <td>0.049308</td>\n      <td>95.07</td>\n      <td>25363</td>\n      <td>0.474429</td>\n      <td>Int64Index([38945,  1186, 36420, 57631, 51349,...</td>\n    </tr>\n    <tr>\n      <th>8</th>\n      <td>permit</td>\n      <td>object</td>\n      <td>3</td>\n      <td>[True, False, nan]</td>\n      <td>0.000056</td>\n      <td>99.99</td>\n      <td>2733</td>\n      <td>0.051122</td>\n      <td>Int64Index([54872, 29018, 63991, 60976, 61749,...</td>\n    </tr>\n    <tr>\n      <th>9</th>\n      <td>extraction_type</td>\n      <td>object</td>\n      <td>18</td>\n      <td>[gravity, afridev, swn 80, other, mono, submer...</td>\n      <td>0.000337</td>\n      <td>99.97</td>\n      <td>0</td>\n      <td>0.000000</td>\n      <td>None</td>\n    </tr>\n    <tr>\n      <th>10</th>\n      <td>extraction_type_group</td>\n      <td>object</td>\n      <td>13</td>\n      <td>[gravity, afridev, swn 80, other, mono, submer...</td>\n      <td>0.000243</td>\n      <td>99.98</td>\n      <td>0</td>\n      <td>0.000000</td>\n      <td>None</td>\n    </tr>\n    <tr>\n      <th>11</th>\n      <td>extraction_type_class</td>\n      <td>object</td>\n      <td>7</td>\n      <td>[gravity, handpump, other, motorpump, submersi...</td>\n      <td>0.000131</td>\n      <td>99.99</td>\n      <td>0</td>\n      <td>0.000000</td>\n      <td>None</td>\n    </tr>\n    <tr>\n      <th>12</th>\n      <td>management</td>\n      <td>object</td>\n      <td>12</td>\n      <td>[company, vwc, water board, wug, unknown, wate...</td>\n      <td>0.000224</td>\n      <td>99.98</td>\n      <td>0</td>\n      <td>0.000000</td>\n      <td>None</td>\n    </tr>\n    <tr>\n      <th>13</th>\n      <td>management_group</td>\n      <td>object</td>\n      <td>5</td>\n      <td>[commercial, user-group, unknown, parastatal, ...</td>\n      <td>0.000094</td>\n      <td>99.99</td>\n      <td>0</td>\n      <td>0.000000</td>\n      <td>None</td>\n    </tr>\n    <tr>\n      <th>14</th>\n      <td>payment</td>\n      <td>object</td>\n      <td>7</td>\n      <td>[pay monthly, unknown, never pay, pay annually...</td>\n      <td>0.000131</td>\n      <td>99.99</td>\n      <td>0</td>\n      <td>0.000000</td>\n      <td>None</td>\n    </tr>\n    <tr>\n      <th>15</th>\n      <td>payment_type</td>\n      <td>object</td>\n      <td>7</td>\n      <td>[monthly, unknown, never pay, annually, per bu...</td>\n      <td>0.000131</td>\n      <td>99.99</td>\n      <td>0</td>\n      <td>0.000000</td>\n      <td>None</td>\n    </tr>\n    <tr>\n      <th>16</th>\n      <td>water_quality</td>\n      <td>object</td>\n      <td>8</td>\n      <td>[soft, unknown, salty, fluoride, milky, salty ...</td>\n      <td>0.000150</td>\n      <td>99.99</td>\n      <td>0</td>\n      <td>0.000000</td>\n      <td>None</td>\n    </tr>\n    <tr>\n      <th>17</th>\n      <td>quality_group</td>\n      <td>object</td>\n      <td>6</td>\n      <td>[good, unknown, salty, fluoride, milky, colored]</td>\n      <td>0.000112</td>\n      <td>99.99</td>\n      <td>0</td>\n      <td>0.000000</td>\n      <td>None</td>\n    </tr>\n    <tr>\n      <th>18</th>\n      <td>quantity</td>\n      <td>object</td>\n      <td>5</td>\n      <td>[insufficient, dry, enough, seasonal, unknown]</td>\n      <td>0.000094</td>\n      <td>99.99</td>\n      <td>0</td>\n      <td>0.000000</td>\n      <td>None</td>\n    </tr>\n    <tr>\n      <th>19</th>\n      <td>quantity_group</td>\n      <td>object</td>\n      <td>5</td>\n      <td>[insufficient, dry, enough, seasonal, unknown]</td>\n      <td>0.000094</td>\n      <td>99.99</td>\n      <td>0</td>\n      <td>0.000000</td>\n      <td>None</td>\n    </tr>\n    <tr>\n      <th>20</th>\n      <td>source</td>\n      <td>object</td>\n      <td>10</td>\n      <td>[spring, rainwater harvesting, shallow well, r...</td>\n      <td>0.000187</td>\n      <td>99.98</td>\n      <td>0</td>\n      <td>0.000000</td>\n      <td>None</td>\n    </tr>\n    <tr>\n      <th>21</th>\n      <td>source_type</td>\n      <td>object</td>\n      <td>7</td>\n      <td>[spring, rainwater harvesting, shallow well, r...</td>\n      <td>0.000131</td>\n      <td>99.99</td>\n      <td>0</td>\n      <td>0.000000</td>\n      <td>None</td>\n    </tr>\n    <tr>\n      <th>22</th>\n      <td>source_class</td>\n      <td>object</td>\n      <td>3</td>\n      <td>[groundwater, surface, unknown]</td>\n      <td>0.000056</td>\n      <td>99.99</td>\n      <td>0</td>\n      <td>0.000000</td>\n      <td>None</td>\n    </tr>\n    <tr>\n      <th>23</th>\n      <td>waterpoint_type</td>\n      <td>object</td>\n      <td>7</td>\n      <td>[communal standpipe, hand pump, communal stand...</td>\n      <td>0.000131</td>\n      <td>99.99</td>\n      <td>0</td>\n      <td>0.000000</td>\n      <td>None</td>\n    </tr>\n    <tr>\n      <th>24</th>\n      <td>waterpoint_type_group</td>\n      <td>object</td>\n      <td>6</td>\n      <td>[communal standpipe, hand pump, other, cattle ...</td>\n      <td>0.000112</td>\n      <td>99.99</td>\n      <td>0</td>\n      <td>0.000000</td>\n      <td>None</td>\n    </tr>\n    <tr>\n      <th>25</th>\n      <td>pump_age</td>\n      <td>int64</td>\n      <td>60</td>\n      <td>[1, 4, 0, 15, 11, 12, 14, 24, 26, 6, 13, 10, 3...</td>\n      <td>0.001122</td>\n      <td>99.89</td>\n      <td>0</td>\n      <td>0.000000</td>\n      <td>None</td>\n    </tr>\n    <tr>\n      <th>26</th>\n      <td>installer_target_encoded</td>\n      <td>float64</td>\n      <td>280</td>\n      <td>[0.8817204301075269, 0.6453900709219859, 1.400...</td>\n      <td>0.005238</td>\n      <td>99.48</td>\n      <td>0</td>\n      <td>0.000000</td>\n      <td>None</td>\n    </tr>\n    <tr>\n      <th>27</th>\n      <td>basin_target_encoded</td>\n      <td>float64</td>\n      <td>9</td>\n      <td>[0.7461423593827775, 0.922970159611381, 0.6347...</td>\n      <td>0.000168</td>\n      <td>99.98</td>\n      <td>0</td>\n      <td>0.000000</td>\n      <td>None</td>\n    </tr>\n    <tr>\n      <th>28</th>\n      <td>region_code_target_encoded</td>\n      <td>float64</td>\n      <td>27</td>\n      <td>[0.7233282286881062, 0.815005954743946, 0.8911...</td>\n      <td>0.000505</td>\n      <td>99.95</td>\n      <td>0</td>\n      <td>0.000000</td>\n      <td>None</td>\n    </tr>\n    <tr>\n      <th>29</th>\n      <td>district_code_target_encoded</td>\n      <td>float64</td>\n      <td>20</td>\n      <td>[0.8183805446762, 0.9350188511865158, 0.700631...</td>\n      <td>0.000374</td>\n      <td>99.96</td>\n      <td>0</td>\n      <td>0.000000</td>\n      <td>None</td>\n    </tr>\n  </tbody>\n</table>\n</div>"
     },
     "metadata": {}
    }
   ],
   "source": [
    "scjpnutils.analyze_values(X_train_preprocessed, 'X_train AFTER preprocessing');"
   ]
  },
  {
   "cell_type": "code",
   "execution_count": 22,
   "metadata": {},
   "outputs": [
    {
     "output_type": "display_data",
     "data": {
      "text/plain": "<IPython.core.display.HTML object>",
      "text/html": "<h3>X_validation BEFORE preprocessing Feature-Value Analysis (out of 5940 total observations)</h3>"
     },
     "metadata": {}
    },
    {
     "output_type": "display_data",
     "data": {
      "text/plain": "<IPython.core.display.HTML object>",
      "text/html": "<div>\n<style scoped>\n    .dataframe tbody tr th:only-of-type {\n        vertical-align: middle;\n    }\n\n    .dataframe tbody tr th {\n        vertical-align: top;\n    }\n\n    .dataframe thead th {\n        text-align: right;\n    }\n</style>\n<table border=\"1\" class=\"dataframe\">\n  <thead>\n    <tr style=\"text-align: left;\">\n      <th></th>\n      <th>feature</th>\n      <th>dtype</th>\n      <th>n_unique</th>\n      <th>unique_vals</th>\n      <th>n_unique_ratio</th>\n      <th>p_cat</th>\n      <th>n_null</th>\n      <th>n_null_ratio</th>\n      <th>null_index</th>\n    </tr>\n  </thead>\n  <tbody>\n    <tr>\n      <th>0</th>\n      <td>amount_tsh</td>\n      <td>float64</td>\n      <td>56</td>\n      <td>[0.0, 5000.0, 30.0, 8000.0, 50.0, 500.0, 1500....</td>\n      <td>0.009428</td>\n      <td>99.06</td>\n      <td>0</td>\n      <td>0.000000</td>\n      <td>None</td>\n    </tr>\n    <tr>\n      <th>1</th>\n      <td>date_recorded</td>\n      <td>object</td>\n      <td>310</td>\n      <td>[2013-03-13, 2011-03-15, 2013-02-19, 2013-01-1...</td>\n      <td>0.052189</td>\n      <td>94.78</td>\n      <td>0</td>\n      <td>0.000000</td>\n      <td>None</td>\n    </tr>\n    <tr>\n      <th>2</th>\n      <td>funder</td>\n      <td>object</td>\n      <td>622</td>\n      <td>[Danida, Kalitasi, Wateraid, Gaica, Lga, W.B, ...</td>\n      <td>0.104714</td>\n      <td>89.53</td>\n      <td>366</td>\n      <td>0.061616</td>\n      <td>Int64Index([11582, 19363, 56691,  5592, 33874,...</td>\n    </tr>\n    <tr>\n      <th>3</th>\n      <td>gps_height</td>\n      <td>int64</td>\n      <td>1717</td>\n      <td>[1435, 1271, 1384, 1538, 0, 919, 78, 1266, 324...</td>\n      <td>0.289057</td>\n      <td>71.09</td>\n      <td>0</td>\n      <td>0.000000</td>\n      <td>None</td>\n    </tr>\n    <tr>\n      <th>4</th>\n      <td>installer</td>\n      <td>object</td>\n      <td>681</td>\n      <td>[DANIDA, DANID, Kalitasi, SEMA, GAICA, DWE, Ca...</td>\n      <td>0.114646</td>\n      <td>88.54</td>\n      <td>368</td>\n      <td>0.061953</td>\n      <td>Int64Index([11582, 19363, 56691,  5592, 33874,...</td>\n    </tr>\n    <tr>\n      <th>5</th>\n      <td>longitude</td>\n      <td>float64</td>\n      <td>5782</td>\n      <td>[34.90829229, 35.81058308, 37.99252752, 34.758...</td>\n      <td>0.973401</td>\n      <td>2.66</td>\n      <td>0</td>\n      <td>0.000000</td>\n      <td>None</td>\n    </tr>\n    <tr>\n      <th>6</th>\n      <td>latitude</td>\n      <td>float64</td>\n      <td>5782</td>\n      <td>[-11.16992903, -7.50962812, -4.23701933, -4.30...</td>\n      <td>0.973401</td>\n      <td>2.66</td>\n      <td>0</td>\n      <td>0.000000</td>\n      <td>None</td>\n    </tr>\n    <tr>\n      <th>7</th>\n      <td>wpt_name</td>\n      <td>object</td>\n      <td>4588</td>\n      <td>[Kanisani, none, Kwa Mzee Tadei, Kulumbe, Shul...</td>\n      <td>0.772391</td>\n      <td>22.76</td>\n      <td>0</td>\n      <td>0.000000</td>\n      <td>None</td>\n    </tr>\n    <tr>\n      <th>8</th>\n      <td>num_private</td>\n      <td>int64</td>\n      <td>33</td>\n      <td>[0, 6, 120, 17, 7, 32, 180, 93, 5, 8, 1, 15, 3...</td>\n      <td>0.005556</td>\n      <td>99.44</td>\n      <td>0</td>\n      <td>0.000000</td>\n      <td>None</td>\n    </tr>\n    <tr>\n      <th>9</th>\n      <td>basin</td>\n      <td>object</td>\n      <td>9</td>\n      <td>[Lake Nyasa, Rufiji, Pangani, Internal, Lake R...</td>\n      <td>0.001515</td>\n      <td>99.85</td>\n      <td>0</td>\n      <td>0.000000</td>\n      <td>None</td>\n    </tr>\n    <tr>\n      <th>10</th>\n      <td>subvillage</td>\n      <td>object</td>\n      <td>4216</td>\n      <td>[Toronto, Ubena, Mvango, Kituluguta, Mwamapala...</td>\n      <td>0.709764</td>\n      <td>29.02</td>\n      <td>36</td>\n      <td>0.006061</td>\n      <td>Int64Index([18732, 24843, 22039, 71464, 47823,...</td>\n    </tr>\n    <tr>\n      <th>11</th>\n      <td>region</td>\n      <td>object</td>\n      <td>21</td>\n      <td>[Ruvuma, Iringa, Kilimanjaro, Singida, Shinyan...</td>\n      <td>0.003535</td>\n      <td>99.65</td>\n      <td>0</td>\n      <td>0.000000</td>\n      <td>None</td>\n    </tr>\n    <tr>\n      <th>12</th>\n      <td>region_code</td>\n      <td>int64</td>\n      <td>26</td>\n      <td>[10, 11, 3, 13, 17, 15, 60, 2, 80, 4, 14, 18, ...</td>\n      <td>0.004377</td>\n      <td>99.56</td>\n      <td>0</td>\n      <td>0.000000</td>\n      <td>None</td>\n    </tr>\n    <tr>\n      <th>13</th>\n      <td>district_code</td>\n      <td>int64</td>\n      <td>19</td>\n      <td>[3, 1, 7, 53, 4, 2, 30, 6, 8, 5, 63, 23, 33, 4...</td>\n      <td>0.003199</td>\n      <td>99.68</td>\n      <td>0</td>\n      <td>0.000000</td>\n      <td>None</td>\n    </tr>\n    <tr>\n      <th>14</th>\n      <td>lga</td>\n      <td>object</td>\n      <td>125</td>\n      <td>[Mbinga, Iringa Rural, Same, Iramba, Shinyanga...</td>\n      <td>0.021044</td>\n      <td>97.90</td>\n      <td>0</td>\n      <td>0.000000</td>\n      <td>None</td>\n    </tr>\n    <tr>\n      <th>15</th>\n      <td>ward</td>\n      <td>object</td>\n      <td>1632</td>\n      <td>[Mpapa, Nduli, Vuje, Nduguti, Chibe, Mamba, Bu...</td>\n      <td>0.274747</td>\n      <td>72.53</td>\n      <td>0</td>\n      <td>0.000000</td>\n      <td>None</td>\n    </tr>\n    <tr>\n      <th>16</th>\n      <td>population</td>\n      <td>int64</td>\n      <td>388</td>\n      <td>[60, 1, 15, 189, 0, 200, 454, 168, 260, 270, 7...</td>\n      <td>0.065320</td>\n      <td>93.47</td>\n      <td>0</td>\n      <td>0.000000</td>\n      <td>None</td>\n    </tr>\n    <tr>\n      <th>17</th>\n      <td>public_meeting</td>\n      <td>object</td>\n      <td>3</td>\n      <td>[nan, True, False]</td>\n      <td>0.000505</td>\n      <td>99.95</td>\n      <td>328</td>\n      <td>0.055219</td>\n      <td>Int64Index([ 3746, 16680, 70311, 74214, 43963,...</td>\n    </tr>\n    <tr>\n      <th>18</th>\n      <td>recorded_by</td>\n      <td>object</td>\n      <td>1</td>\n      <td>[GeoData Consultants Ltd]</td>\n      <td>0.000168</td>\n      <td>99.98</td>\n      <td>0</td>\n      <td>0.000000</td>\n      <td>None</td>\n    </tr>\n    <tr>\n      <th>19</th>\n      <td>scheme_management</td>\n      <td>object</td>\n      <td>12</td>\n      <td>[VWC, WUG, Parastatal, WUA, nan, Water authori...</td>\n      <td>0.002020</td>\n      <td>99.80</td>\n      <td>374</td>\n      <td>0.062963</td>\n      <td>Int64Index([ 8649, 25311, 70311, 37230, 19565,...</td>\n    </tr>\n    <tr>\n      <th>20</th>\n      <td>scheme_name</td>\n      <td>object</td>\n      <td>1171</td>\n      <td>[Government, Kihoro, Mvango Water Supply, Mwan...</td>\n      <td>0.197138</td>\n      <td>80.29</td>\n      <td>2803</td>\n      <td>0.471886</td>\n      <td>Int64Index([16680, 61612, 10609,  7097,  8649,...</td>\n    </tr>\n    <tr>\n      <th>21</th>\n      <td>permit</td>\n      <td>object</td>\n      <td>3</td>\n      <td>[True, False, nan]</td>\n      <td>0.000505</td>\n      <td>99.95</td>\n      <td>323</td>\n      <td>0.054377</td>\n      <td>Int64Index([26755, 67770,  7973, 36535, 52273,...</td>\n    </tr>\n    <tr>\n      <th>22</th>\n      <td>construction_year</td>\n      <td>int64</td>\n      <td>54</td>\n      <td>[1995, 1990, 2002, 2006, 0, 2009, 2005, 2011, ...</td>\n      <td>0.009091</td>\n      <td>99.09</td>\n      <td>0</td>\n      <td>0.000000</td>\n      <td>None</td>\n    </tr>\n    <tr>\n      <th>23</th>\n      <td>extraction_type</td>\n      <td>object</td>\n      <td>17</td>\n      <td>[gravity, mono, submersible, ksb, other, nira/...</td>\n      <td>0.002862</td>\n      <td>99.71</td>\n      <td>0</td>\n      <td>0.000000</td>\n      <td>None</td>\n    </tr>\n    <tr>\n      <th>24</th>\n      <td>extraction_type_group</td>\n      <td>object</td>\n      <td>13</td>\n      <td>[gravity, mono, submersible, other, nira/tanir...</td>\n      <td>0.002189</td>\n      <td>99.78</td>\n      <td>0</td>\n      <td>0.000000</td>\n      <td>None</td>\n    </tr>\n    <tr>\n      <th>25</th>\n      <td>extraction_type_class</td>\n      <td>object</td>\n      <td>7</td>\n      <td>[gravity, motorpump, submersible, other, handp...</td>\n      <td>0.001178</td>\n      <td>99.88</td>\n      <td>0</td>\n      <td>0.000000</td>\n      <td>None</td>\n    </tr>\n    <tr>\n      <th>26</th>\n      <td>management</td>\n      <td>object</td>\n      <td>12</td>\n      <td>[vwc, wug, parastatal, wua, other, unknown, co...</td>\n      <td>0.002020</td>\n      <td>99.80</td>\n      <td>0</td>\n      <td>0.000000</td>\n      <td>None</td>\n    </tr>\n    <tr>\n      <th>27</th>\n      <td>management_group</td>\n      <td>object</td>\n      <td>5</td>\n      <td>[user-group, parastatal, other, unknown, comme...</td>\n      <td>0.000842</td>\n      <td>99.92</td>\n      <td>0</td>\n      <td>0.000000</td>\n      <td>None</td>\n    </tr>\n    <tr>\n      <th>28</th>\n      <td>payment</td>\n      <td>object</td>\n      <td>7</td>\n      <td>[unknown, pay annually, never pay, pay per buc...</td>\n      <td>0.001178</td>\n      <td>99.88</td>\n      <td>0</td>\n      <td>0.000000</td>\n      <td>None</td>\n    </tr>\n    <tr>\n      <th>29</th>\n      <td>payment_type</td>\n      <td>object</td>\n      <td>7</td>\n      <td>[unknown, annually, never pay, per bucket, mon...</td>\n      <td>0.001178</td>\n      <td>99.88</td>\n      <td>0</td>\n      <td>0.000000</td>\n      <td>None</td>\n    </tr>\n    <tr>\n      <th>30</th>\n      <td>water_quality</td>\n      <td>object</td>\n      <td>8</td>\n      <td>[soft, unknown, salty, milky, coloured, salty ...</td>\n      <td>0.001347</td>\n      <td>99.87</td>\n      <td>0</td>\n      <td>0.000000</td>\n      <td>None</td>\n    </tr>\n    <tr>\n      <th>31</th>\n      <td>quality_group</td>\n      <td>object</td>\n      <td>6</td>\n      <td>[good, unknown, salty, milky, colored, fluoride]</td>\n      <td>0.001010</td>\n      <td>99.90</td>\n      <td>0</td>\n      <td>0.000000</td>\n      <td>None</td>\n    </tr>\n    <tr>\n      <th>32</th>\n      <td>quantity</td>\n      <td>object</td>\n      <td>5</td>\n      <td>[dry, enough, insufficient, seasonal, unknown]</td>\n      <td>0.000842</td>\n      <td>99.92</td>\n      <td>0</td>\n      <td>0.000000</td>\n      <td>None</td>\n    </tr>\n    <tr>\n      <th>33</th>\n      <td>quantity_group</td>\n      <td>object</td>\n      <td>5</td>\n      <td>[dry, enough, insufficient, seasonal, unknown]</td>\n      <td>0.000842</td>\n      <td>99.92</td>\n      <td>0</td>\n      <td>0.000000</td>\n      <td>None</td>\n    </tr>\n    <tr>\n      <th>34</th>\n      <td>source</td>\n      <td>object</td>\n      <td>10</td>\n      <td>[spring, machine dbh, rainwater harvesting, sh...</td>\n      <td>0.001684</td>\n      <td>99.83</td>\n      <td>0</td>\n      <td>0.000000</td>\n      <td>None</td>\n    </tr>\n    <tr>\n      <th>35</th>\n      <td>source_type</td>\n      <td>object</td>\n      <td>7</td>\n      <td>[spring, borehole, rainwater harvesting, shall...</td>\n      <td>0.001178</td>\n      <td>99.88</td>\n      <td>0</td>\n      <td>0.000000</td>\n      <td>None</td>\n    </tr>\n    <tr>\n      <th>36</th>\n      <td>source_class</td>\n      <td>object</td>\n      <td>3</td>\n      <td>[groundwater, surface, unknown]</td>\n      <td>0.000505</td>\n      <td>99.95</td>\n      <td>0</td>\n      <td>0.000000</td>\n      <td>None</td>\n    </tr>\n    <tr>\n      <th>37</th>\n      <td>waterpoint_type</td>\n      <td>object</td>\n      <td>6</td>\n      <td>[communal standpipe, communal standpipe multip...</td>\n      <td>0.001010</td>\n      <td>99.90</td>\n      <td>0</td>\n      <td>0.000000</td>\n      <td>None</td>\n    </tr>\n    <tr>\n      <th>38</th>\n      <td>waterpoint_type_group</td>\n      <td>object</td>\n      <td>5</td>\n      <td>[communal standpipe, other, hand pump, cattle ...</td>\n      <td>0.000842</td>\n      <td>99.92</td>\n      <td>0</td>\n      <td>0.000000</td>\n      <td>None</td>\n    </tr>\n  </tbody>\n</table>\n</div>"
     },
     "metadata": {}
    }
   ],
   "source": [
    "scjpnutils.analyze_values(X_validation, 'X_validation BEFORE preprocessing');"
   ]
  },
  {
   "cell_type": "code",
   "execution_count": 23,
   "metadata": {
    "tags": []
   },
   "outputs": [
    {
     "output_type": "stream",
     "name": "stdout",
     "text": "** TargetEncoderLOOTransformer TRANSFORM INFO **: NOT using Leave-One-Out\n** TargetEncoderLOOTransformer TRANSFORM WARNING!! **: 99 categories of 'installer' occur in X (out of 613 unique) that do not exist in the set of fit categories - modeled accuracy on X will drop as a result\n** TargetEncoderLOOTransformer TRANSFORM WARNING!! **: feat 'installer' has 102 nan values after target encoding; replacing these with last fit target global mean: 0.8427422371866816\nadded new feature: installer_target_encoded\n** TargetEncoderLOOTransformer TRANSFORM INFO **: NOT using Leave-One-Out\n** TargetEncoderLOOTransformer TRANSFORM INFO **: unique categories of 'basin' in X match those that were previously fit\nadded new feature: basin_target_encoded\n** TargetEncoderLOOTransformer TRANSFORM INFO **: NOT using Leave-One-Out\n** TargetEncoderLOOTransformer TRANSFORM INFO **: unique categories of 'region_code' in X match those that were previously fit\nadded new feature: region_code_target_encoded\n** TargetEncoderLOOTransformer TRANSFORM INFO **: NOT using Leave-One-Out\n** TargetEncoderLOOTransformer TRANSFORM INFO **: unique categories of 'district_code' in X match those that were previously fit\nadded new feature: district_code_target_encoded\n"
    }
   ],
   "source": [
    "X_validation_preprocessed = pipeline_data_preprocessor.transform(X_validation)"
   ]
  },
  {
   "cell_type": "code",
   "execution_count": 24,
   "metadata": {},
   "outputs": [
    {
     "output_type": "display_data",
     "data": {
      "text/plain": "<IPython.core.display.HTML object>",
      "text/html": "<h3>X_validation AFTER preprocessing Feature-Value Analysis (out of 5940 total observations)</h3>"
     },
     "metadata": {}
    },
    {
     "output_type": "display_data",
     "data": {
      "text/plain": "<IPython.core.display.HTML object>",
      "text/html": "<div>\n<style scoped>\n    .dataframe tbody tr th:only-of-type {\n        vertical-align: middle;\n    }\n\n    .dataframe tbody tr th {\n        vertical-align: top;\n    }\n\n    .dataframe thead th {\n        text-align: right;\n    }\n</style>\n<table border=\"1\" class=\"dataframe\">\n  <thead>\n    <tr style=\"text-align: left;\">\n      <th></th>\n      <th>feature</th>\n      <th>dtype</th>\n      <th>n_unique</th>\n      <th>unique_vals</th>\n      <th>n_unique_ratio</th>\n      <th>p_cat</th>\n      <th>n_null</th>\n      <th>n_null_ratio</th>\n      <th>null_index</th>\n    </tr>\n  </thead>\n  <tbody>\n    <tr>\n      <th>0</th>\n      <td>gps_height</td>\n      <td>int64</td>\n      <td>1717</td>\n      <td>[1435, 1271, 1384, 1538, 0, 919, 78, 1266, 324...</td>\n      <td>0.289057</td>\n      <td>71.09</td>\n      <td>0</td>\n      <td>0.000000</td>\n      <td>None</td>\n    </tr>\n    <tr>\n      <th>1</th>\n      <td>longitude</td>\n      <td>float64</td>\n      <td>5782</td>\n      <td>[34.90829229, 35.81058308, 37.99252752, 34.758...</td>\n      <td>0.973401</td>\n      <td>2.66</td>\n      <td>0</td>\n      <td>0.000000</td>\n      <td>None</td>\n    </tr>\n    <tr>\n      <th>2</th>\n      <td>latitude</td>\n      <td>float64</td>\n      <td>5782</td>\n      <td>[-11.16992903, -7.50962812, -4.23701933, -4.30...</td>\n      <td>0.973401</td>\n      <td>2.66</td>\n      <td>0</td>\n      <td>0.000000</td>\n      <td>None</td>\n    </tr>\n    <tr>\n      <th>3</th>\n      <td>population</td>\n      <td>int64</td>\n      <td>388</td>\n      <td>[60, 1, 15, 189, 0, 200, 454, 168, 260, 270, 7...</td>\n      <td>0.065320</td>\n      <td>93.47</td>\n      <td>0</td>\n      <td>0.000000</td>\n      <td>None</td>\n    </tr>\n    <tr>\n      <th>4</th>\n      <td>public_meeting</td>\n      <td>object</td>\n      <td>3</td>\n      <td>[nan, True, False]</td>\n      <td>0.000505</td>\n      <td>99.95</td>\n      <td>328</td>\n      <td>0.055219</td>\n      <td>Int64Index([ 3746, 16680, 70311, 74214, 43963,...</td>\n    </tr>\n    <tr>\n      <th>5</th>\n      <td>recorded_by</td>\n      <td>object</td>\n      <td>1</td>\n      <td>[GeoData Consultants Ltd]</td>\n      <td>0.000168</td>\n      <td>99.98</td>\n      <td>0</td>\n      <td>0.000000</td>\n      <td>None</td>\n    </tr>\n    <tr>\n      <th>6</th>\n      <td>scheme_management</td>\n      <td>object</td>\n      <td>12</td>\n      <td>[VWC, WUG, Parastatal, WUA, nan, Water authori...</td>\n      <td>0.002020</td>\n      <td>99.80</td>\n      <td>374</td>\n      <td>0.062963</td>\n      <td>Int64Index([ 8649, 25311, 70311, 37230, 19565,...</td>\n    </tr>\n    <tr>\n      <th>7</th>\n      <td>scheme_name</td>\n      <td>object</td>\n      <td>1171</td>\n      <td>[Government, Kihoro, Mvango Water Supply, Mwan...</td>\n      <td>0.197138</td>\n      <td>80.29</td>\n      <td>2803</td>\n      <td>0.471886</td>\n      <td>Int64Index([16680, 61612, 10609,  7097,  8649,...</td>\n    </tr>\n    <tr>\n      <th>8</th>\n      <td>permit</td>\n      <td>object</td>\n      <td>3</td>\n      <td>[True, False, nan]</td>\n      <td>0.000505</td>\n      <td>99.95</td>\n      <td>323</td>\n      <td>0.054377</td>\n      <td>Int64Index([26755, 10610, 49966, 56721, 42625,...</td>\n    </tr>\n    <tr>\n      <th>9</th>\n      <td>extraction_type</td>\n      <td>object</td>\n      <td>17</td>\n      <td>[gravity, mono, submersible, ksb, other, nira/...</td>\n      <td>0.002862</td>\n      <td>99.71</td>\n      <td>0</td>\n      <td>0.000000</td>\n      <td>None</td>\n    </tr>\n    <tr>\n      <th>10</th>\n      <td>extraction_type_group</td>\n      <td>object</td>\n      <td>13</td>\n      <td>[gravity, mono, submersible, other, nira/tanir...</td>\n      <td>0.002189</td>\n      <td>99.78</td>\n      <td>0</td>\n      <td>0.000000</td>\n      <td>None</td>\n    </tr>\n    <tr>\n      <th>11</th>\n      <td>extraction_type_class</td>\n      <td>object</td>\n      <td>7</td>\n      <td>[gravity, motorpump, submersible, other, handp...</td>\n      <td>0.001178</td>\n      <td>99.88</td>\n      <td>0</td>\n      <td>0.000000</td>\n      <td>None</td>\n    </tr>\n    <tr>\n      <th>12</th>\n      <td>management</td>\n      <td>object</td>\n      <td>12</td>\n      <td>[vwc, wug, parastatal, wua, other, unknown, co...</td>\n      <td>0.002020</td>\n      <td>99.80</td>\n      <td>0</td>\n      <td>0.000000</td>\n      <td>None</td>\n    </tr>\n    <tr>\n      <th>13</th>\n      <td>management_group</td>\n      <td>object</td>\n      <td>5</td>\n      <td>[user-group, parastatal, other, unknown, comme...</td>\n      <td>0.000842</td>\n      <td>99.92</td>\n      <td>0</td>\n      <td>0.000000</td>\n      <td>None</td>\n    </tr>\n    <tr>\n      <th>14</th>\n      <td>payment</td>\n      <td>object</td>\n      <td>7</td>\n      <td>[unknown, pay annually, never pay, pay per buc...</td>\n      <td>0.001178</td>\n      <td>99.88</td>\n      <td>0</td>\n      <td>0.000000</td>\n      <td>None</td>\n    </tr>\n    <tr>\n      <th>15</th>\n      <td>payment_type</td>\n      <td>object</td>\n      <td>7</td>\n      <td>[unknown, annually, never pay, per bucket, mon...</td>\n      <td>0.001178</td>\n      <td>99.88</td>\n      <td>0</td>\n      <td>0.000000</td>\n      <td>None</td>\n    </tr>\n    <tr>\n      <th>16</th>\n      <td>water_quality</td>\n      <td>object</td>\n      <td>8</td>\n      <td>[soft, unknown, salty, milky, coloured, fluori...</td>\n      <td>0.001347</td>\n      <td>99.87</td>\n      <td>0</td>\n      <td>0.000000</td>\n      <td>None</td>\n    </tr>\n    <tr>\n      <th>17</th>\n      <td>quality_group</td>\n      <td>object</td>\n      <td>6</td>\n      <td>[good, unknown, salty, milky, colored, fluoride]</td>\n      <td>0.001010</td>\n      <td>99.90</td>\n      <td>0</td>\n      <td>0.000000</td>\n      <td>None</td>\n    </tr>\n    <tr>\n      <th>18</th>\n      <td>quantity</td>\n      <td>object</td>\n      <td>5</td>\n      <td>[dry, enough, insufficient, seasonal, unknown]</td>\n      <td>0.000842</td>\n      <td>99.92</td>\n      <td>0</td>\n      <td>0.000000</td>\n      <td>None</td>\n    </tr>\n    <tr>\n      <th>19</th>\n      <td>quantity_group</td>\n      <td>object</td>\n      <td>5</td>\n      <td>[dry, enough, insufficient, seasonal, unknown]</td>\n      <td>0.000842</td>\n      <td>99.92</td>\n      <td>0</td>\n      <td>0.000000</td>\n      <td>None</td>\n    </tr>\n    <tr>\n      <th>20</th>\n      <td>source</td>\n      <td>object</td>\n      <td>10</td>\n      <td>[spring, machine dbh, rainwater harvesting, sh...</td>\n      <td>0.001684</td>\n      <td>99.83</td>\n      <td>0</td>\n      <td>0.000000</td>\n      <td>None</td>\n    </tr>\n    <tr>\n      <th>21</th>\n      <td>source_type</td>\n      <td>object</td>\n      <td>7</td>\n      <td>[spring, borehole, rainwater harvesting, shall...</td>\n      <td>0.001178</td>\n      <td>99.88</td>\n      <td>0</td>\n      <td>0.000000</td>\n      <td>None</td>\n    </tr>\n    <tr>\n      <th>22</th>\n      <td>source_class</td>\n      <td>object</td>\n      <td>3</td>\n      <td>[groundwater, surface, unknown]</td>\n      <td>0.000505</td>\n      <td>99.95</td>\n      <td>0</td>\n      <td>0.000000</td>\n      <td>None</td>\n    </tr>\n    <tr>\n      <th>23</th>\n      <td>waterpoint_type</td>\n      <td>object</td>\n      <td>6</td>\n      <td>[communal standpipe, communal standpipe multip...</td>\n      <td>0.001010</td>\n      <td>99.90</td>\n      <td>0</td>\n      <td>0.000000</td>\n      <td>None</td>\n    </tr>\n    <tr>\n      <th>24</th>\n      <td>waterpoint_type_group</td>\n      <td>object</td>\n      <td>5</td>\n      <td>[communal standpipe, other, hand pump, cattle ...</td>\n      <td>0.000842</td>\n      <td>99.92</td>\n      <td>0</td>\n      <td>0.000000</td>\n      <td>None</td>\n    </tr>\n    <tr>\n      <th>25</th>\n      <td>pump_age</td>\n      <td>int64</td>\n      <td>54</td>\n      <td>[18, 21, 11, 7, 0, 2, 6, 15, 23, 10, 13, 17, 3...</td>\n      <td>0.009091</td>\n      <td>99.09</td>\n      <td>0</td>\n      <td>0.000000</td>\n      <td>None</td>\n    </tr>\n    <tr>\n      <th>26</th>\n      <td>installer_target_encoded</td>\n      <td>float64</td>\n      <td>267</td>\n      <td>[0.8675847457627118, 0.3807829181494662, 0.571...</td>\n      <td>0.044949</td>\n      <td>95.51</td>\n      <td>0</td>\n      <td>0.000000</td>\n      <td>None</td>\n    </tr>\n    <tr>\n      <th>27</th>\n      <td>basin_target_encoded</td>\n      <td>float64</td>\n      <td>9</td>\n      <td>[0.6347463211069625, 0.6799276672694394, 0.746...</td>\n      <td>0.001515</td>\n      <td>99.85</td>\n      <td>0</td>\n      <td>0.000000</td>\n      <td>None</td>\n    </tr>\n    <tr>\n      <th>28</th>\n      <td>region_code_target_encoded</td>\n      <td>float64</td>\n      <td>26</td>\n      <td>[0.8034439311213776, 0.4130343671416597, 0.723...</td>\n      <td>0.004377</td>\n      <td>99.56</td>\n      <td>0</td>\n      <td>0.000000</td>\n      <td>None</td>\n    </tr>\n    <tr>\n      <th>29</th>\n      <td>district_code_target_encoded</td>\n      <td>float64</td>\n      <td>19</td>\n      <td>[0.9350188511865158, 0.8183805446762, 0.739880...</td>\n      <td>0.003199</td>\n      <td>99.68</td>\n      <td>0</td>\n      <td>0.000000</td>\n      <td>None</td>\n    </tr>\n  </tbody>\n</table>\n</div>"
     },
     "metadata": {}
    }
   ],
   "source": [
    "scjpnutils.analyze_values(X_validation_preprocessed, 'X_validation AFTER preprocessing');"
   ]
  }
 ],
 "metadata": {
  "language_info": {
   "codemirror_mode": {
    "name": "ipython",
    "version": 3
   },
   "file_extension": ".py",
   "mimetype": "text/x-python",
   "name": "python",
   "nbconvert_exporter": "python",
   "pygments_lexer": "ipython3",
   "version": "3.7.7-final"
  },
  "orig_nbformat": 2,
  "kernelspec": {
   "name": "python361064bitlearnenvconda6dc930ea082b425c82fd8a0b2d571658",
   "display_name": "Python 3.6.10 64-bit ('learn-env': conda)"
  }
 },
 "nbformat": 4,
 "nbformat_minor": 2
}
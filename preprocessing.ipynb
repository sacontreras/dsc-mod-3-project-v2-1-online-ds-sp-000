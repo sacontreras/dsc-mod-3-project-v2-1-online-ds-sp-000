{
 "cells": [
  {
   "cell_type": "markdown",
   "metadata": {},
   "source": [
    "# Intro"
   ]
  },
  {
   "cell_type": "code",
   "execution_count": 1,
   "metadata": {
    "tags": []
   },
   "outputs": [],
   "source": [
    "import scjpnlib.utils as scjpnutils\n",
    "import os\n",
    "import pandas as pd\n",
    "import numpy as np\n",
    "from scjpnlib.utils.file_io import FileManager\n",
    "from IPython.core.display import HTML, Markdown\n",
    "import matplotlib.pyplot as plt\n",
    "import itertools\n",
    "\n",
    "import json\n",
    "from json_minify import json_minify\n",
    "import pprint\n",
    "\n",
    "from sklearn.pipeline import Pipeline\n",
    "from sklearn.model_selection import train_test_split\n",
    "\n",
    "import scjpnlib.utils.skl_transformers as scjpnskltransformers\n",
    "import scjpnlib.utils.preprocessing_strategy_transformers as scjpnpreprocessing\n",
    "from sklearn.preprocessing import FunctionTransformer\n",
    "from sklearn.model_selection import StratifiedKFold\n",
    "\n",
    "from scjpnlib.utils import submodels as scjpnsubmodels\n",
    "\n",
    "# leave these in until port is complete \n",
    "from scjpnlib.utils.skl_transformers import LabelEncodingTransformer\n",
    "from sklearn.preprocessing import FunctionTransformer\n",
    "\n",
    "from sklearn.tree import DecisionTreeClassifier\n",
    "from xgboost import XGBClassifier\n",
    "from sklearn.metrics import classification_report\n",
    "from sklearn.metrics import accuracy_score\n",
    "\n",
    "from copy import deepcopy\n",
    "import io\n",
    "\n",
    "%load_ext autoreload\n",
    "%autoreload 2"
   ]
  },
  {
   "cell_type": "code",
   "execution_count": 2,
   "metadata": {},
   "outputs": [],
   "source": [
    "fm = FileManager()\n",
    "preprocessing_config = fm.load_json('preprocessing-config.txt')"
   ]
  },
  {
   "cell_type": "code",
   "execution_count": 3,
   "metadata": {},
   "outputs": [
    {
     "output_type": "display_data",
     "data": {
      "text/plain": "<IPython.core.display.HTML object>",
      "text/html": "Required download-file Taarifa-Unlabeled-Predictors.csv exists locally."
     },
     "metadata": {}
    },
    {
     "output_type": "display_data",
     "data": {
      "text/plain": "<IPython.core.display.HTML object>",
      "text/html": "Required download-file Taarifa-Labeled-Predictors.csv exists locally."
     },
     "metadata": {}
    },
    {
     "output_type": "display_data",
     "data": {
      "text/plain": "<IPython.core.display.HTML object>",
      "text/html": "Required download-file Taarifa-Labels.csv exists locally."
     },
     "metadata": {}
    }
   ],
   "source": [
    "fname_unlabeled_predictors = preprocessing_config['official_data']['unlabeled_predictors']['local_fname']\n",
    "fname_labeled_predictors = preprocessing_config['official_data']['labeled_predictors']['local_fname']\n",
    "fname_labels = preprocessing_config['official_data']['labels']['local_fname']\n",
    "\n",
    "ds_map = {\n",
    "    fname_unlabeled_predictors: preprocessing_config['official_data']['unlabeled_predictors']['url'], \n",
    "    fname_labeled_predictors: preprocessing_config['official_data']['unlabeled_predictors']['url'],\n",
    "    fname_labels: preprocessing_config['official_data']['unlabeled_predictors']['url']\n",
    "}\n",
    "\n",
    "fm.validate_download(ds_map)"
   ]
  },
  {
   "cell_type": "code",
   "execution_count": 4,
   "metadata": {},
   "outputs": [],
   "source": [
    "SEED = preprocessing_config['SEED'] # for random_state reproducability\n",
    "\n",
    "pipeline_data_preprocessor = Pipeline(steps=[('passthrough', None)], verbose=True)"
   ]
  },
  {
   "cell_type": "code",
   "execution_count": 5,
   "metadata": {},
   "outputs": [],
   "source": [
    "labeled_with_target = pd.concat(\n",
    "    [\n",
    "        pd.read_csv(fname_labeled_predictors, index_col=0), \n",
    "        pd.read_csv(fname_labels, index_col=0)\n",
    "    ], \n",
    "    axis=1\n",
    "    ,\n",
    "    join='inner'\n",
    ").sort_index()"
   ]
  },
  {
   "cell_type": "code",
   "execution_count": 6,
   "metadata": {},
   "outputs": [],
   "source": [
    "labels = labeled_with_target[['status_group']]"
   ]
  },
  {
   "cell_type": "code",
   "execution_count": 7,
   "metadata": {},
   "outputs": [],
   "source": [
    "let_labels = scjpnskltransformers.LabelEncodingTransformer(['status_group'])\n",
    "labels_encoded = let_labels.fit_transform(labels)"
   ]
  },
  {
   "cell_type": "code",
   "execution_count": 8,
   "metadata": {},
   "outputs": [],
   "source": [
    "classes = list(let_labels.labelencoder.classes_)"
   ]
  },
  {
   "cell_type": "code",
   "execution_count": 9,
   "metadata": {},
   "outputs": [],
   "source": [
    "labeled_with_target['status_group_encoded'] = labels_encoded.status_group"
   ]
  },
  {
   "cell_type": "code",
   "execution_count": 10,
   "metadata": {},
   "outputs": [],
   "source": [
    "X_labeled = labeled_with_target.drop(['status_group', 'status_group_encoded'], axis=1)\n",
    "X_unlabeled = pd.read_csv(fname_unlabeled_predictors, index_col=0).sort_index()"
   ]
  },
  {
   "cell_type": "code",
   "execution_count": 11,
   "metadata": {},
   "outputs": [],
   "source": [
    "X_train, X_validation, y_train, y_validation = train_test_split(X_labeled.sort_index(), labels.sort_index(), test_size=preprocessing_config['test_ratio'], random_state=SEED)"
   ]
  },
  {
   "cell_type": "code",
   "execution_count": 12,
   "metadata": {},
   "outputs": [],
   "source": [
    "y_train_encoded = labels_encoded.loc[y_train.index]"
   ]
  },
  {
   "cell_type": "code",
   "execution_count": 13,
   "metadata": {},
   "outputs": [],
   "source": [
    "data_train = pd.concat([X_train, y_train, y_train_encoded], axis=1, join='inner').sort_index()\n",
    "data_train.columns = list(X_train.columns) + ['status_group', 'status_group_encoded']"
   ]
  },
  {
   "cell_type": "code",
   "execution_count": 14,
   "metadata": {},
   "outputs": [],
   "source": [
    "y_validation_encoded = labels_encoded.loc[y_validation.index]"
   ]
  },
  {
   "cell_type": "code",
   "execution_count": 15,
   "metadata": {},
   "outputs": [],
   "source": [
    "data_validation = pd.concat([X_validation, y_validation, y_validation_encoded], axis=1, join='inner').sort_index()\n",
    "data_validation.columns = list(X_validation.columns) + ['status_group', 'status_group_encoded']"
   ]
  },
  {
   "cell_type": "markdown",
   "metadata": {},
   "source": [
    "<p><br>\n",
    "\n",
    "## Summary of Preprocessing Options and Brute-force (Bad) Complexity"
   ]
  },
  {
   "cell_type": "code",
   "execution_count": 16,
   "metadata": {
    "tags": []
   },
   "outputs": [
    {
     "output_type": "display_data",
     "data": {
      "text/plain": "<IPython.core.display.HTML object>",
      "text/html": "<b>amount_tsh__group</b> feature-group has 1 features (['amount_tsh']) handled across 1 preprocessing groups:"
     },
     "metadata": {}
    },
    {
     "output_type": "display_data",
     "data": {
      "text/plain": "<IPython.core.display.HTML object>",
      "text/html": "&nbsp;&nbsp;&nbsp;&nbsp;preprocessing group <b>amount_tsh</b> has 6 preprocessing options"
     },
     "metadata": {}
    },
    {
     "output_type": "display_data",
     "data": {
      "text/plain": "<IPython.core.display.HTML object>",
      "text/html": "&nbsp;&nbsp;&nbsp;&nbsp;&nbsp;&nbsp;&nbsp;&nbsp;option 1: [['amount_tsh', 'C__drop_it__StrategyTransformer']]"
     },
     "metadata": {}
    },
    {
     "output_type": "display_data",
     "data": {
      "text/plain": "<IPython.core.display.HTML object>",
      "text/html": "&nbsp;&nbsp;&nbsp;&nbsp;&nbsp;&nbsp;&nbsp;&nbsp;option 2: [['amount_tsh', 'C__leave_it_as_is__StrategyTransformer']]"
     },
     "metadata": {}
    },
    {
     "output_type": "display_data",
     "data": {
      "text/plain": "<IPython.core.display.HTML object>",
      "text/html": "&nbsp;&nbsp;&nbsp;&nbsp;&nbsp;&nbsp;&nbsp;&nbsp;option 3: [['amount_tsh', 'C__target_encode__not_LOO__post_encode_null_to_global_mean__StrategyTransformer']]"
     },
     "metadata": {}
    },
    {
     "output_type": "display_data",
     "data": {
      "text/plain": "<IPython.core.display.HTML object>",
      "text/html": "&nbsp;&nbsp;&nbsp;&nbsp;&nbsp;&nbsp;&nbsp;&nbsp;option 4: [['amount_tsh', 'C__replace_outliers_with_mean__StrategyTransformer']]"
     },
     "metadata": {}
    },
    {
     "output_type": "display_data",
     "data": {
      "text/plain": "<IPython.core.display.HTML object>",
      "text/html": "&nbsp;&nbsp;&nbsp;&nbsp;&nbsp;&nbsp;&nbsp;&nbsp;option 5: [['amount_tsh', 'C__replace_outliers_with_median__StrategyTransformer']]"
     },
     "metadata": {}
    },
    {
     "output_type": "display_data",
     "data": {
      "text/plain": "<IPython.core.display.HTML object>",
      "text/html": "&nbsp;&nbsp;&nbsp;&nbsp;&nbsp;&nbsp;&nbsp;&nbsp;option 6: [['amount_tsh', 'C__replace_0_with_nan__StrategyTransformer']]"
     },
     "metadata": {}
    },
    {
     "output_type": "display_data",
     "data": {
      "text/plain": "<IPython.core.display.HTML object>",
      "text/html": "<p>"
     },
     "metadata": {}
    },
    {
     "output_type": "display_data",
     "data": {
      "text/plain": "<IPython.core.display.HTML object>",
      "text/html": "<p><br>"
     },
     "metadata": {}
    },
    {
     "output_type": "display_data",
     "data": {
      "text/plain": "<IPython.core.display.HTML object>",
      "text/html": "<b>pump_age_at_observation_date__group</b> feature-group has 2 features (['date_recorded', 'construction_year']) handled across 1 preprocessing groups:"
     },
     "metadata": {}
    },
    {
     "output_type": "display_data",
     "data": {
      "text/plain": "<IPython.core.display.HTML object>",
      "text/html": "&nbsp;&nbsp;&nbsp;&nbsp;preprocessing group <b>pump_age</b> has 8 preprocessing options"
     },
     "metadata": {}
    },
    {
     "output_type": "display_data",
     "data": {
      "text/plain": "<IPython.core.display.HTML object>",
      "text/html": "&nbsp;&nbsp;&nbsp;&nbsp;&nbsp;&nbsp;&nbsp;&nbsp;option 1: [['date_recorded', 'C__drop_it__StrategyTransformer'], ['construction_year', 'C__drop_it__StrategyTransformer']]"
     },
     "metadata": {}
    },
    {
     "output_type": "display_data",
     "data": {
      "text/plain": "<IPython.core.display.HTML object>",
      "text/html": "&nbsp;&nbsp;&nbsp;&nbsp;&nbsp;&nbsp;&nbsp;&nbsp;option 2: [['date_recorded', 'C__drop_it__StrategyTransformer'], ['construction_year', 'C__leave_it_as_is__StrategyTransformer']]"
     },
     "metadata": {}
    },
    {
     "output_type": "display_data",
     "data": {
      "text/plain": "<IPython.core.display.HTML object>",
      "text/html": "&nbsp;&nbsp;&nbsp;&nbsp;&nbsp;&nbsp;&nbsp;&nbsp;option 3: [['date_recorded', 'C__required_proprocessing__date_recorded__StrategyTransformer'], ['construction_year', 'C__required_proprocessing__construction_year__StrategyTransformer'], ['construction_year', 'C__convert_to_int__construction_year__StrategyTransformer'], ['date_recorded', 'C__drop_it__StrategyTransformer']]"
     },
     "metadata": {}
    },
    {
     "output_type": "display_data",
     "data": {
      "text/plain": "<IPython.core.display.HTML object>",
      "text/html": "&nbsp;&nbsp;&nbsp;&nbsp;&nbsp;&nbsp;&nbsp;&nbsp;option 4: [['date_recorded', 'C__drop_it__StrategyTransformer'], ['construction_year', 'C__target_encode__not_LOO__post_encode_null_to_global_mean__StrategyTransformer']]"
     },
     "metadata": {}
    },
    {
     "output_type": "display_data",
     "data": {
      "text/plain": "<IPython.core.display.HTML object>",
      "text/html": "&nbsp;&nbsp;&nbsp;&nbsp;&nbsp;&nbsp;&nbsp;&nbsp;option 5: [['date_recorded', 'C__drop_it__StrategyTransformer'], ['construction_year', 'C__replace_outliers_with_mean__StrategyTransformer']]"
     },
     "metadata": {}
    },
    {
     "output_type": "display_data",
     "data": {
      "text/plain": "<IPython.core.display.HTML object>",
      "text/html": "&nbsp;&nbsp;&nbsp;&nbsp;&nbsp;&nbsp;&nbsp;&nbsp;option 6: [['date_recorded', 'C__drop_it__StrategyTransformer'], ['construction_year', 'C__replace_outliers_with_median__StrategyTransformer']]"
     },
     "metadata": {}
    },
    {
     "output_type": "display_data",
     "data": {
      "text/plain": "<IPython.core.display.HTML object>",
      "text/html": "&nbsp;&nbsp;&nbsp;&nbsp;&nbsp;&nbsp;&nbsp;&nbsp;option 7: [['date_recorded', 'C__drop_it__StrategyTransformer'], ['construction_year', 'C__replace_0_with_nan__StrategyTransformer']]"
     },
     "metadata": {}
    },
    {
     "output_type": "display_data",
     "data": {
      "text/plain": "<IPython.core.display.HTML object>",
      "text/html": "&nbsp;&nbsp;&nbsp;&nbsp;&nbsp;&nbsp;&nbsp;&nbsp;option 8: [['pump_age', 'C__required_proprocessing__pump_age__StrategyTransformer']]"
     },
     "metadata": {}
    },
    {
     "output_type": "display_data",
     "data": {
      "text/plain": "<IPython.core.display.HTML object>",
      "text/html": "<p>"
     },
     "metadata": {}
    },
    {
     "output_type": "display_data",
     "data": {
      "text/plain": "<IPython.core.display.HTML object>",
      "text/html": "<p><br>"
     },
     "metadata": {}
    },
    {
     "output_type": "display_data",
     "data": {
      "text/plain": "<IPython.core.display.HTML object>",
      "text/html": "<b>funder__group</b> feature-group has 1 features (['funder']) handled across 1 preprocessing groups:"
     },
     "metadata": {}
    },
    {
     "output_type": "display_data",
     "data": {
      "text/plain": "<IPython.core.display.HTML object>",
      "text/html": "&nbsp;&nbsp;&nbsp;&nbsp;preprocessing group <b>funder</b> has 4 preprocessing options"
     },
     "metadata": {}
    },
    {
     "output_type": "display_data",
     "data": {
      "text/plain": "<IPython.core.display.HTML object>",
      "text/html": "&nbsp;&nbsp;&nbsp;&nbsp;&nbsp;&nbsp;&nbsp;&nbsp;option 1: [['funder', 'C__drop_it__StrategyTransformer']]"
     },
     "metadata": {}
    },
    {
     "output_type": "display_data",
     "data": {
      "text/plain": "<IPython.core.display.HTML object>",
      "text/html": "&nbsp;&nbsp;&nbsp;&nbsp;&nbsp;&nbsp;&nbsp;&nbsp;option 2: [['funder', 'C__required_proprocessing__funder__StrategyTransformer'], ['funder', 'C__strip_nonalphanumeric__funder__StrategyTransformer'], ['funder', 'C__target_encode__not_LOO__post_encode_null_to_global_mean__StrategyTransformer']]"
     },
     "metadata": {}
    },
    {
     "output_type": "display_data",
     "data": {
      "text/plain": "<IPython.core.display.HTML object>",
      "text/html": "&nbsp;&nbsp;&nbsp;&nbsp;&nbsp;&nbsp;&nbsp;&nbsp;option 3: [['funder', 'C__required_proprocessing__funder__StrategyTransformer'], ['funder', 'C__tfidf_normalize__funder__StrategyTransformer'], ['funder', 'C__target_encode__not_LOO__post_encode_null_to_global_mean__StrategyTransformer']]"
     },
     "metadata": {}
    },
    {
     "output_type": "display_data",
     "data": {
      "text/plain": "<IPython.core.display.HTML object>",
      "text/html": "&nbsp;&nbsp;&nbsp;&nbsp;&nbsp;&nbsp;&nbsp;&nbsp;option 4: [['funder', 'C__required_proprocessing__funder__StrategyTransformer'], ['funder', 'C__strip_nonalphanumeric__funder__StrategyTransformer'], ['funder', 'C__top_n_significance__funder__StrategyTransformer'], ['funder', 'C__target_encode__not_LOO__post_encode_null_to_global_mean__StrategyTransformer']]"
     },
     "metadata": {}
    },
    {
     "output_type": "display_data",
     "data": {
      "text/plain": "<IPython.core.display.HTML object>",
      "text/html": "<p>"
     },
     "metadata": {}
    },
    {
     "output_type": "display_data",
     "data": {
      "text/plain": "<IPython.core.display.HTML object>",
      "text/html": "<p><br>"
     },
     "metadata": {}
    },
    {
     "output_type": "display_data",
     "data": {
      "text/plain": "<IPython.core.display.HTML object>",
      "text/html": "<b>gps_height__group</b> feature-group has 1 features (['gps_height']) handled across 1 preprocessing groups:"
     },
     "metadata": {}
    },
    {
     "output_type": "display_data",
     "data": {
      "text/plain": "<IPython.core.display.HTML object>",
      "text/html": "&nbsp;&nbsp;&nbsp;&nbsp;preprocessing group <b>gps_height</b> has 6 preprocessing options"
     },
     "metadata": {}
    },
    {
     "output_type": "display_data",
     "data": {
      "text/plain": "<IPython.core.display.HTML object>",
      "text/html": "&nbsp;&nbsp;&nbsp;&nbsp;&nbsp;&nbsp;&nbsp;&nbsp;option 1: [['gps_height', 'C__drop_it__StrategyTransformer']]"
     },
     "metadata": {}
    },
    {
     "output_type": "display_data",
     "data": {
      "text/plain": "<IPython.core.display.HTML object>",
      "text/html": "&nbsp;&nbsp;&nbsp;&nbsp;&nbsp;&nbsp;&nbsp;&nbsp;option 2: [['gps_height', 'C__leave_it_as_is__StrategyTransformer']]"
     },
     "metadata": {}
    },
    {
     "output_type": "display_data",
     "data": {
      "text/plain": "<IPython.core.display.HTML object>",
      "text/html": "&nbsp;&nbsp;&nbsp;&nbsp;&nbsp;&nbsp;&nbsp;&nbsp;option 3: [['gps_height', 'C__target_encode__not_LOO__post_encode_null_to_global_mean__StrategyTransformer']]"
     },
     "metadata": {}
    },
    {
     "output_type": "display_data",
     "data": {
      "text/plain": "<IPython.core.display.HTML object>",
      "text/html": "&nbsp;&nbsp;&nbsp;&nbsp;&nbsp;&nbsp;&nbsp;&nbsp;option 4: [['gps_height', 'C__replace_outliers_with_mean__StrategyTransformer']]"
     },
     "metadata": {}
    },
    {
     "output_type": "display_data",
     "data": {
      "text/plain": "<IPython.core.display.HTML object>",
      "text/html": "&nbsp;&nbsp;&nbsp;&nbsp;&nbsp;&nbsp;&nbsp;&nbsp;option 5: [['gps_height', 'C__replace_outliers_with_median__StrategyTransformer']]"
     },
     "metadata": {}
    },
    {
     "output_type": "display_data",
     "data": {
      "text/plain": "<IPython.core.display.HTML object>",
      "text/html": "&nbsp;&nbsp;&nbsp;&nbsp;&nbsp;&nbsp;&nbsp;&nbsp;option 6: [['gps_height', 'C__replace_0_with_nan__StrategyTransformer']]"
     },
     "metadata": {}
    },
    {
     "output_type": "display_data",
     "data": {
      "text/plain": "<IPython.core.display.HTML object>",
      "text/html": "<p>"
     },
     "metadata": {}
    },
    {
     "output_type": "display_data",
     "data": {
      "text/plain": "<IPython.core.display.HTML object>",
      "text/html": "<p><br>"
     },
     "metadata": {}
    },
    {
     "output_type": "display_data",
     "data": {
      "text/plain": "<IPython.core.display.HTML object>",
      "text/html": "<b>installer__group</b> feature-group has 1 features (['installer']) handled across 1 preprocessing groups:"
     },
     "metadata": {}
    },
    {
     "output_type": "display_data",
     "data": {
      "text/plain": "<IPython.core.display.HTML object>",
      "text/html": "&nbsp;&nbsp;&nbsp;&nbsp;preprocessing group <b>installer</b> has 4 preprocessing options"
     },
     "metadata": {}
    },
    {
     "output_type": "display_data",
     "data": {
      "text/plain": "<IPython.core.display.HTML object>",
      "text/html": "&nbsp;&nbsp;&nbsp;&nbsp;&nbsp;&nbsp;&nbsp;&nbsp;option 1: [['installer', 'C__drop_it__StrategyTransformer']]"
     },
     "metadata": {}
    },
    {
     "output_type": "display_data",
     "data": {
      "text/plain": "<IPython.core.display.HTML object>",
      "text/html": "&nbsp;&nbsp;&nbsp;&nbsp;&nbsp;&nbsp;&nbsp;&nbsp;option 2: [['installer', 'C__required_proprocessing__installer__StrategyTransformer'], ['installer', 'C__strip_nonalphanumeric__installer__StrategyTransformer'], ['installer', 'C__target_encode__not_LOO__post_encode_null_to_global_mean__StrategyTransformer']]"
     },
     "metadata": {}
    },
    {
     "output_type": "display_data",
     "data": {
      "text/plain": "<IPython.core.display.HTML object>",
      "text/html": "&nbsp;&nbsp;&nbsp;&nbsp;&nbsp;&nbsp;&nbsp;&nbsp;option 3: [['installer', 'C__required_proprocessing__installer__StrategyTransformer'], ['installer', 'C__tfidf_normalize__installer__StrategyTransformer'], ['installer', 'C__target_encode__not_LOO__post_encode_null_to_global_mean__StrategyTransformer']]"
     },
     "metadata": {}
    },
    {
     "output_type": "display_data",
     "data": {
      "text/plain": "<IPython.core.display.HTML object>",
      "text/html": "&nbsp;&nbsp;&nbsp;&nbsp;&nbsp;&nbsp;&nbsp;&nbsp;option 4: [['installer', 'C__required_proprocessing__installer__StrategyTransformer'], ['installer', 'C__strip_nonalphanumeric__installer__StrategyTransformer'], ['installer', 'C__top_n_significance__installer__StrategyTransformer'], ['installer', 'C__target_encode__not_LOO__post_encode_null_to_global_mean__StrategyTransformer']]"
     },
     "metadata": {}
    },
    {
     "output_type": "display_data",
     "data": {
      "text/plain": "<IPython.core.display.HTML object>",
      "text/html": "<p>"
     },
     "metadata": {}
    },
    {
     "output_type": "display_data",
     "data": {
      "text/plain": "<IPython.core.display.HTML object>",
      "text/html": "<p><br>"
     },
     "metadata": {}
    },
    {
     "output_type": "display_data",
     "data": {
      "text/plain": "<IPython.core.display.HTML object>",
      "text/html": "<b>gps_coordinates__group</b> feature-group has 2 features (['latitude', 'longitude']) handled across 2 preprocessing groups:"
     },
     "metadata": {}
    },
    {
     "output_type": "display_data",
     "data": {
      "text/plain": "<IPython.core.display.HTML object>",
      "text/html": "&nbsp;&nbsp;&nbsp;&nbsp;preprocessing group <b>latitude</b> has 3 preprocessing options"
     },
     "metadata": {}
    },
    {
     "output_type": "display_data",
     "data": {
      "text/plain": "<IPython.core.display.HTML object>",
      "text/html": "&nbsp;&nbsp;&nbsp;&nbsp;&nbsp;&nbsp;&nbsp;&nbsp;option 1: [['latitude', 'C__drop_it__StrategyTransformer']]"
     },
     "metadata": {}
    },
    {
     "output_type": "display_data",
     "data": {
      "text/plain": "<IPython.core.display.HTML object>",
      "text/html": "&nbsp;&nbsp;&nbsp;&nbsp;&nbsp;&nbsp;&nbsp;&nbsp;option 2: [['latitude', 'C__leave_it_as_is__StrategyTransformer']]"
     },
     "metadata": {}
    },
    {
     "output_type": "display_data",
     "data": {
      "text/plain": "<IPython.core.display.HTML object>",
      "text/html": "&nbsp;&nbsp;&nbsp;&nbsp;&nbsp;&nbsp;&nbsp;&nbsp;option 3: [['latitude', 'C__required_proprocessing__latitude__StrategyTransformer'], ['latitude', 'C__leave_it_as_is__StrategyTransformer']]"
     },
     "metadata": {}
    },
    {
     "output_type": "display_data",
     "data": {
      "text/plain": "<IPython.core.display.HTML object>",
      "text/html": "<p>"
     },
     "metadata": {}
    },
    {
     "output_type": "display_data",
     "data": {
      "text/plain": "<IPython.core.display.HTML object>",
      "text/html": "&nbsp;&nbsp;&nbsp;&nbsp;preprocessing group <b>longitude</b> has 2 preprocessing options"
     },
     "metadata": {}
    },
    {
     "output_type": "display_data",
     "data": {
      "text/plain": "<IPython.core.display.HTML object>",
      "text/html": "&nbsp;&nbsp;&nbsp;&nbsp;&nbsp;&nbsp;&nbsp;&nbsp;option 1: [['longitude', 'C__drop_it__StrategyTransformer']]"
     },
     "metadata": {}
    },
    {
     "output_type": "display_data",
     "data": {
      "text/plain": "<IPython.core.display.HTML object>",
      "text/html": "&nbsp;&nbsp;&nbsp;&nbsp;&nbsp;&nbsp;&nbsp;&nbsp;option 2: [['longitude', 'C__leave_it_as_is__StrategyTransformer']]"
     },
     "metadata": {}
    },
    {
     "output_type": "display_data",
     "data": {
      "text/plain": "<IPython.core.display.HTML object>",
      "text/html": "<p>"
     },
     "metadata": {}
    },
    {
     "output_type": "display_data",
     "data": {
      "text/plain": "<IPython.core.display.HTML object>",
      "text/html": "<p><br>"
     },
     "metadata": {}
    },
    {
     "output_type": "display_data",
     "data": {
      "text/plain": "<IPython.core.display.HTML object>",
      "text/html": "<b>wpt_name__group</b> feature-group has 1 features (['wpt_name']) handled across 1 preprocessing groups:"
     },
     "metadata": {}
    },
    {
     "output_type": "display_data",
     "data": {
      "text/plain": "<IPython.core.display.HTML object>",
      "text/html": "&nbsp;&nbsp;&nbsp;&nbsp;preprocessing group <b>wpt_name</b> has 1 preprocessing options"
     },
     "metadata": {}
    },
    {
     "output_type": "display_data",
     "data": {
      "text/plain": "<IPython.core.display.HTML object>",
      "text/html": "&nbsp;&nbsp;&nbsp;&nbsp;&nbsp;&nbsp;&nbsp;&nbsp;option 1: [['wpt_name', 'C__drop_it__StrategyTransformer']]"
     },
     "metadata": {}
    },
    {
     "output_type": "display_data",
     "data": {
      "text/plain": "<IPython.core.display.HTML object>",
      "text/html": "<p>"
     },
     "metadata": {}
    },
    {
     "output_type": "display_data",
     "data": {
      "text/plain": "<IPython.core.display.HTML object>",
      "text/html": "<p><br>"
     },
     "metadata": {}
    },
    {
     "output_type": "display_data",
     "data": {
      "text/plain": "<IPython.core.display.HTML object>",
      "text/html": "<b>num_private__group</b> feature-group has 1 features (['num_private']) handled across 1 preprocessing groups:"
     },
     "metadata": {}
    },
    {
     "output_type": "display_data",
     "data": {
      "text/plain": "<IPython.core.display.HTML object>",
      "text/html": "&nbsp;&nbsp;&nbsp;&nbsp;preprocessing group <b>num_private</b> has 4 preprocessing options"
     },
     "metadata": {}
    },
    {
     "output_type": "display_data",
     "data": {
      "text/plain": "<IPython.core.display.HTML object>",
      "text/html": "&nbsp;&nbsp;&nbsp;&nbsp;&nbsp;&nbsp;&nbsp;&nbsp;option 1: [['num_private', 'C__drop_it__StrategyTransformer']]"
     },
     "metadata": {}
    },
    {
     "output_type": "display_data",
     "data": {
      "text/plain": "<IPython.core.display.HTML object>",
      "text/html": "&nbsp;&nbsp;&nbsp;&nbsp;&nbsp;&nbsp;&nbsp;&nbsp;option 2: [['num_private', 'C__replace_outliers_with_mean__StrategyTransformer']]"
     },
     "metadata": {}
    },
    {
     "output_type": "display_data",
     "data": {
      "text/plain": "<IPython.core.display.HTML object>",
      "text/html": "&nbsp;&nbsp;&nbsp;&nbsp;&nbsp;&nbsp;&nbsp;&nbsp;option 3: [['num_private', 'C__replace_outliers_with_median__StrategyTransformer']]"
     },
     "metadata": {}
    },
    {
     "output_type": "display_data",
     "data": {
      "text/plain": "<IPython.core.display.HTML object>",
      "text/html": "&nbsp;&nbsp;&nbsp;&nbsp;&nbsp;&nbsp;&nbsp;&nbsp;option 4: [['num_private', 'C__replace_0_with_nan__StrategyTransformer']]"
     },
     "metadata": {}
    },
    {
     "output_type": "display_data",
     "data": {
      "text/plain": "<IPython.core.display.HTML object>",
      "text/html": "<p>"
     },
     "metadata": {}
    },
    {
     "output_type": "display_data",
     "data": {
      "text/plain": "<IPython.core.display.HTML object>",
      "text/html": "<p><br>"
     },
     "metadata": {}
    },
    {
     "output_type": "display_data",
     "data": {
      "text/plain": "<IPython.core.display.HTML object>",
      "text/html": "<b>basin__group</b> feature-group has 1 features (['basin']) handled across 1 preprocessing groups:"
     },
     "metadata": {}
    },
    {
     "output_type": "display_data",
     "data": {
      "text/plain": "<IPython.core.display.HTML object>",
      "text/html": "&nbsp;&nbsp;&nbsp;&nbsp;preprocessing group <b>basin</b> has 3 preprocessing options"
     },
     "metadata": {}
    },
    {
     "output_type": "display_data",
     "data": {
      "text/plain": "<IPython.core.display.HTML object>",
      "text/html": "&nbsp;&nbsp;&nbsp;&nbsp;&nbsp;&nbsp;&nbsp;&nbsp;option 1: [['basin', 'C__drop_it__StrategyTransformer']]"
     },
     "metadata": {}
    },
    {
     "output_type": "display_data",
     "data": {
      "text/plain": "<IPython.core.display.HTML object>",
      "text/html": "&nbsp;&nbsp;&nbsp;&nbsp;&nbsp;&nbsp;&nbsp;&nbsp;option 2: [['basin', 'C__required_proprocessing__basin__StrategyTransformer'], ['basin', 'C__strip_nonalphanumeric__basin__StrategyTransformer'], ['basin', 'C__target_encode__not_LOO__post_encode_null_to_global_mean__StrategyTransformer']]"
     },
     "metadata": {}
    },
    {
     "output_type": "display_data",
     "data": {
      "text/plain": "<IPython.core.display.HTML object>",
      "text/html": "&nbsp;&nbsp;&nbsp;&nbsp;&nbsp;&nbsp;&nbsp;&nbsp;option 3: [['basin', 'C__required_proprocessing__basin__StrategyTransformer'], ['basin', 'C__OneHotEncode__basin__StrategyTransformer']]"
     },
     "metadata": {}
    },
    {
     "output_type": "display_data",
     "data": {
      "text/plain": "<IPython.core.display.HTML object>",
      "text/html": "<p>"
     },
     "metadata": {}
    },
    {
     "output_type": "display_data",
     "data": {
      "text/plain": "<IPython.core.display.HTML object>",
      "text/html": "<p><br>"
     },
     "metadata": {}
    },
    {
     "output_type": "display_data",
     "data": {
      "text/plain": "<IPython.core.display.HTML object>",
      "text/html": "<b>geographic_location__group</b> feature-group has 6 features (['region_code', 'district_code', 'subvillage', 'region', 'lga', 'ward']) handled across 6 preprocessing groups:"
     },
     "metadata": {}
    },
    {
     "output_type": "display_data",
     "data": {
      "text/plain": "<IPython.core.display.HTML object>",
      "text/html": "&nbsp;&nbsp;&nbsp;&nbsp;preprocessing group <b>region_code</b> has 3 preprocessing options"
     },
     "metadata": {}
    },
    {
     "output_type": "display_data",
     "data": {
      "text/plain": "<IPython.core.display.HTML object>",
      "text/html": "&nbsp;&nbsp;&nbsp;&nbsp;&nbsp;&nbsp;&nbsp;&nbsp;option 1: [['region_code', 'C__drop_it__StrategyTransformer']]"
     },
     "metadata": {}
    },
    {
     "output_type": "display_data",
     "data": {
      "text/plain": "<IPython.core.display.HTML object>",
      "text/html": "&nbsp;&nbsp;&nbsp;&nbsp;&nbsp;&nbsp;&nbsp;&nbsp;option 2: [['region_code', 'C__target_encode__not_LOO__post_encode_null_to_global_mean__StrategyTransformer']]"
     },
     "metadata": {}
    },
    {
     "output_type": "display_data",
     "data": {
      "text/plain": "<IPython.core.display.HTML object>",
      "text/html": "&nbsp;&nbsp;&nbsp;&nbsp;&nbsp;&nbsp;&nbsp;&nbsp;option 3: [['region_code', 'C__OneHotEncode__region_code__StrategyTransformer']]"
     },
     "metadata": {}
    },
    {
     "output_type": "display_data",
     "data": {
      "text/plain": "<IPython.core.display.HTML object>",
      "text/html": "<p>"
     },
     "metadata": {}
    },
    {
     "output_type": "display_data",
     "data": {
      "text/plain": "<IPython.core.display.HTML object>",
      "text/html": "&nbsp;&nbsp;&nbsp;&nbsp;preprocessing group <b>district_code</b> has 3 preprocessing options"
     },
     "metadata": {}
    },
    {
     "output_type": "display_data",
     "data": {
      "text/plain": "<IPython.core.display.HTML object>",
      "text/html": "&nbsp;&nbsp;&nbsp;&nbsp;&nbsp;&nbsp;&nbsp;&nbsp;option 1: [['district_code', 'C__drop_it__StrategyTransformer']]"
     },
     "metadata": {}
    },
    {
     "output_type": "display_data",
     "data": {
      "text/plain": "<IPython.core.display.HTML object>",
      "text/html": "&nbsp;&nbsp;&nbsp;&nbsp;&nbsp;&nbsp;&nbsp;&nbsp;option 2: [['district_code', 'C__target_encode__not_LOO__post_encode_null_to_global_mean__StrategyTransformer']]"
     },
     "metadata": {}
    },
    {
     "output_type": "display_data",
     "data": {
      "text/plain": "<IPython.core.display.HTML object>",
      "text/html": "&nbsp;&nbsp;&nbsp;&nbsp;&nbsp;&nbsp;&nbsp;&nbsp;option 3: [['district_code', 'C__OneHotEncode__district_code__StrategyTransformer']]"
     },
     "metadata": {}
    },
    {
     "output_type": "display_data",
     "data": {
      "text/plain": "<IPython.core.display.HTML object>",
      "text/html": "<p>"
     },
     "metadata": {}
    },
    {
     "output_type": "display_data",
     "data": {
      "text/plain": "<IPython.core.display.HTML object>",
      "text/html": "&nbsp;&nbsp;&nbsp;&nbsp;preprocessing group <b>subvillage</b> has 2 preprocessing options"
     },
     "metadata": {}
    },
    {
     "output_type": "display_data",
     "data": {
      "text/plain": "<IPython.core.display.HTML object>",
      "text/html": "&nbsp;&nbsp;&nbsp;&nbsp;&nbsp;&nbsp;&nbsp;&nbsp;option 1: [['subvillage', 'C__drop_it__StrategyTransformer']]"
     },
     "metadata": {}
    },
    {
     "output_type": "display_data",
     "data": {
      "text/plain": "<IPython.core.display.HTML object>",
      "text/html": "&nbsp;&nbsp;&nbsp;&nbsp;&nbsp;&nbsp;&nbsp;&nbsp;option 2: [['subvillage', 'C__required_proprocessing__subvillage__StrategyTransformer'], ['subvillage', 'C__target_encode__not_LOO__post_encode_null_to_global_mean__StrategyTransformer']]"
     },
     "metadata": {}
    },
    {
     "output_type": "display_data",
     "data": {
      "text/plain": "<IPython.core.display.HTML object>",
      "text/html": "<p>"
     },
     "metadata": {}
    },
    {
     "output_type": "display_data",
     "data": {
      "text/plain": "<IPython.core.display.HTML object>",
      "text/html": "&nbsp;&nbsp;&nbsp;&nbsp;preprocessing group <b>region</b> has 3 preprocessing options"
     },
     "metadata": {}
    },
    {
     "output_type": "display_data",
     "data": {
      "text/plain": "<IPython.core.display.HTML object>",
      "text/html": "&nbsp;&nbsp;&nbsp;&nbsp;&nbsp;&nbsp;&nbsp;&nbsp;option 1: [['region', 'C__drop_it__StrategyTransformer']]"
     },
     "metadata": {}
    },
    {
     "output_type": "display_data",
     "data": {
      "text/plain": "<IPython.core.display.HTML object>",
      "text/html": "&nbsp;&nbsp;&nbsp;&nbsp;&nbsp;&nbsp;&nbsp;&nbsp;option 2: [['region', 'C__strip_nonalphanumeric__region__StrategyTransformer'], ['region', 'C__target_encode__not_LOO__post_encode_null_to_global_mean__StrategyTransformer']]"
     },
     "metadata": {}
    },
    {
     "output_type": "display_data",
     "data": {
      "text/plain": "<IPython.core.display.HTML object>",
      "text/html": "&nbsp;&nbsp;&nbsp;&nbsp;&nbsp;&nbsp;&nbsp;&nbsp;option 3: [['region', 'C__OneHotEncode__region__StrategyTransformer']]"
     },
     "metadata": {}
    },
    {
     "output_type": "display_data",
     "data": {
      "text/plain": "<IPython.core.display.HTML object>",
      "text/html": "<p>"
     },
     "metadata": {}
    },
    {
     "output_type": "display_data",
     "data": {
      "text/plain": "<IPython.core.display.HTML object>",
      "text/html": "&nbsp;&nbsp;&nbsp;&nbsp;preprocessing group <b>lga</b> has 3 preprocessing options"
     },
     "metadata": {}
    },
    {
     "output_type": "display_data",
     "data": {
      "text/plain": "<IPython.core.display.HTML object>",
      "text/html": "&nbsp;&nbsp;&nbsp;&nbsp;&nbsp;&nbsp;&nbsp;&nbsp;option 1: [['lga', 'C__drop_it__StrategyTransformer']]"
     },
     "metadata": {}
    },
    {
     "output_type": "display_data",
     "data": {
      "text/plain": "<IPython.core.display.HTML object>",
      "text/html": "&nbsp;&nbsp;&nbsp;&nbsp;&nbsp;&nbsp;&nbsp;&nbsp;option 2: [['lga', 'C__strip_nonalphanumeric__lga__StrategyTransformer'], ['lga', 'C__target_encode__not_LOO__post_encode_null_to_global_mean__StrategyTransformer']]"
     },
     "metadata": {}
    },
    {
     "output_type": "display_data",
     "data": {
      "text/plain": "<IPython.core.display.HTML object>",
      "text/html": "&nbsp;&nbsp;&nbsp;&nbsp;&nbsp;&nbsp;&nbsp;&nbsp;option 3: [['lga', 'C__OneHotEncode__lga__StrategyTransformer']]"
     },
     "metadata": {}
    },
    {
     "output_type": "display_data",
     "data": {
      "text/plain": "<IPython.core.display.HTML object>",
      "text/html": "<p>"
     },
     "metadata": {}
    },
    {
     "output_type": "display_data",
     "data": {
      "text/plain": "<IPython.core.display.HTML object>",
      "text/html": "&nbsp;&nbsp;&nbsp;&nbsp;preprocessing group <b>ward</b> has 4 preprocessing options"
     },
     "metadata": {}
    },
    {
     "output_type": "display_data",
     "data": {
      "text/plain": "<IPython.core.display.HTML object>",
      "text/html": "&nbsp;&nbsp;&nbsp;&nbsp;&nbsp;&nbsp;&nbsp;&nbsp;option 1: [['ward', 'C__drop_it__StrategyTransformer']]"
     },
     "metadata": {}
    },
    {
     "output_type": "display_data",
     "data": {
      "text/plain": "<IPython.core.display.HTML object>",
      "text/html": "&nbsp;&nbsp;&nbsp;&nbsp;&nbsp;&nbsp;&nbsp;&nbsp;option 2: [['ward', 'C__target_encode__not_LOO__post_encode_null_to_global_mean__StrategyTransformer']]"
     },
     "metadata": {}
    },
    {
     "output_type": "display_data",
     "data": {
      "text/plain": "<IPython.core.display.HTML object>",
      "text/html": "&nbsp;&nbsp;&nbsp;&nbsp;&nbsp;&nbsp;&nbsp;&nbsp;option 3: [['ward', 'C__tfidf_normalize__ward__StrategyTransformer'], ['ward', 'C__target_encode__not_LOO__post_encode_null_to_global_mean__StrategyTransformer']]"
     },
     "metadata": {}
    },
    {
     "output_type": "display_data",
     "data": {
      "text/plain": "<IPython.core.display.HTML object>",
      "text/html": "&nbsp;&nbsp;&nbsp;&nbsp;&nbsp;&nbsp;&nbsp;&nbsp;option 4: [['ward', 'C__top_n_significance__ward__StrategyTransformer'], ['ward', 'C__target_encode__not_LOO__post_encode_null_to_global_mean__StrategyTransformer']]"
     },
     "metadata": {}
    },
    {
     "output_type": "display_data",
     "data": {
      "text/plain": "<IPython.core.display.HTML object>",
      "text/html": "<p>"
     },
     "metadata": {}
    },
    {
     "output_type": "display_data",
     "data": {
      "text/plain": "<IPython.core.display.HTML object>",
      "text/html": "<p><br>"
     },
     "metadata": {}
    },
    {
     "output_type": "display_data",
     "data": {
      "text/plain": "<IPython.core.display.HTML object>",
      "text/html": "<b>payment_frequency_class__group</b> feature-group has 2 features (['payment', 'payment_type']) handled across 2 preprocessing groups:"
     },
     "metadata": {}
    },
    {
     "output_type": "display_data",
     "data": {
      "text/plain": "<IPython.core.display.HTML object>",
      "text/html": "&nbsp;&nbsp;&nbsp;&nbsp;preprocessing group <b>payment_type</b> has 2 preprocessing options"
     },
     "metadata": {}
    },
    {
     "output_type": "display_data",
     "data": {
      "text/plain": "<IPython.core.display.HTML object>",
      "text/html": "&nbsp;&nbsp;&nbsp;&nbsp;&nbsp;&nbsp;&nbsp;&nbsp;option 1: [['payment_type', 'C__drop_it__StrategyTransformer']]"
     },
     "metadata": {}
    },
    {
     "output_type": "display_data",
     "data": {
      "text/plain": "<IPython.core.display.HTML object>",
      "text/html": "&nbsp;&nbsp;&nbsp;&nbsp;&nbsp;&nbsp;&nbsp;&nbsp;option 2: [['payment_type', 'C__target_encode__not_LOO__post_encode_null_to_global_mean__StrategyTransformer']]"
     },
     "metadata": {}
    },
    {
     "output_type": "display_data",
     "data": {
      "text/plain": "<IPython.core.display.HTML object>",
      "text/html": "<p>"
     },
     "metadata": {}
    },
    {
     "output_type": "display_data",
     "data": {
      "text/plain": "<IPython.core.display.HTML object>",
      "text/html": "&nbsp;&nbsp;&nbsp;&nbsp;preprocessing group <b>payment</b> has 1 preprocessing options"
     },
     "metadata": {}
    },
    {
     "output_type": "display_data",
     "data": {
      "text/plain": "<IPython.core.display.HTML object>",
      "text/html": "&nbsp;&nbsp;&nbsp;&nbsp;&nbsp;&nbsp;&nbsp;&nbsp;option 1: [['payment', 'C__drop_it__StrategyTransformer']]"
     },
     "metadata": {}
    },
    {
     "output_type": "display_data",
     "data": {
      "text/plain": "<IPython.core.display.HTML object>",
      "text/html": "<p>"
     },
     "metadata": {}
    },
    {
     "output_type": "display_data",
     "data": {
      "text/plain": "<IPython.core.display.HTML object>",
      "text/html": "<p><br>"
     },
     "metadata": {}
    },
    {
     "output_type": "display_data",
     "data": {
      "text/plain": "<IPython.core.display.HTML object>",
      "text/html": "<b>wpt_extraction_type_class__group</b> feature-group has 3 features (['extraction_type', 'extraction_type_group', 'extraction_type_class']) handled across 3 preprocessing groups:"
     },
     "metadata": {}
    },
    {
     "output_type": "display_data",
     "data": {
      "text/plain": "<IPython.core.display.HTML object>",
      "text/html": "&nbsp;&nbsp;&nbsp;&nbsp;preprocessing group <b>extraction_type</b> has 3 preprocessing options"
     },
     "metadata": {}
    },
    {
     "output_type": "display_data",
     "data": {
      "text/plain": "<IPython.core.display.HTML object>",
      "text/html": "&nbsp;&nbsp;&nbsp;&nbsp;&nbsp;&nbsp;&nbsp;&nbsp;option 1: [['extraction_type', 'C__drop_it__StrategyTransformer']]"
     },
     "metadata": {}
    },
    {
     "output_type": "display_data",
     "data": {
      "text/plain": "<IPython.core.display.HTML object>",
      "text/html": "&nbsp;&nbsp;&nbsp;&nbsp;&nbsp;&nbsp;&nbsp;&nbsp;option 2: [['extraction_type', 'C__strip_nonalphanumeric__extraction_type__StrategyTransformer'], ['extraction_type', 'C__target_encode__not_LOO__post_encode_null_to_global_mean__StrategyTransformer']]"
     },
     "metadata": {}
    },
    {
     "output_type": "display_data",
     "data": {
      "text/plain": "<IPython.core.display.HTML object>",
      "text/html": "&nbsp;&nbsp;&nbsp;&nbsp;&nbsp;&nbsp;&nbsp;&nbsp;option 3: [['extraction_type', 'C__OneHotEncode__extraction_type__StrategyTransformer']]"
     },
     "metadata": {}
    },
    {
     "output_type": "display_data",
     "data": {
      "text/plain": "<IPython.core.display.HTML object>",
      "text/html": "<p>"
     },
     "metadata": {}
    },
    {
     "output_type": "display_data",
     "data": {
      "text/plain": "<IPython.core.display.HTML object>",
      "text/html": "&nbsp;&nbsp;&nbsp;&nbsp;preprocessing group <b>extraction_type_group</b> has 1 preprocessing options"
     },
     "metadata": {}
    },
    {
     "output_type": "display_data",
     "data": {
      "text/plain": "<IPython.core.display.HTML object>",
      "text/html": "&nbsp;&nbsp;&nbsp;&nbsp;&nbsp;&nbsp;&nbsp;&nbsp;option 1: [['extraction_type_group', 'C__drop_it__StrategyTransformer']]"
     },
     "metadata": {}
    },
    {
     "output_type": "display_data",
     "data": {
      "text/plain": "<IPython.core.display.HTML object>",
      "text/html": "<p>"
     },
     "metadata": {}
    },
    {
     "output_type": "display_data",
     "data": {
      "text/plain": "<IPython.core.display.HTML object>",
      "text/html": "&nbsp;&nbsp;&nbsp;&nbsp;preprocessing group <b>extraction_type_class</b> has 1 preprocessing options"
     },
     "metadata": {}
    },
    {
     "output_type": "display_data",
     "data": {
      "text/plain": "<IPython.core.display.HTML object>",
      "text/html": "&nbsp;&nbsp;&nbsp;&nbsp;&nbsp;&nbsp;&nbsp;&nbsp;option 1: [['extraction_type_class', 'C__drop_it__StrategyTransformer']]"
     },
     "metadata": {}
    },
    {
     "output_type": "display_data",
     "data": {
      "text/plain": "<IPython.core.display.HTML object>",
      "text/html": "<p>"
     },
     "metadata": {}
    },
    {
     "output_type": "display_data",
     "data": {
      "text/plain": "<IPython.core.display.HTML object>",
      "text/html": "<p><br>"
     },
     "metadata": {}
    },
    {
     "output_type": "display_data",
     "data": {
      "text/plain": "<IPython.core.display.HTML object>",
      "text/html": "<b>water_source_type_class__group</b> feature-group has 3 features (['source', 'source_type', 'source_class']) handled across 3 preprocessing groups:"
     },
     "metadata": {}
    },
    {
     "output_type": "display_data",
     "data": {
      "text/plain": "<IPython.core.display.HTML object>",
      "text/html": "&nbsp;&nbsp;&nbsp;&nbsp;preprocessing group <b>source</b> has 2 preprocessing options"
     },
     "metadata": {}
    },
    {
     "output_type": "display_data",
     "data": {
      "text/plain": "<IPython.core.display.HTML object>",
      "text/html": "&nbsp;&nbsp;&nbsp;&nbsp;&nbsp;&nbsp;&nbsp;&nbsp;option 1: [['source', 'C__drop_it__StrategyTransformer']]"
     },
     "metadata": {}
    },
    {
     "output_type": "display_data",
     "data": {
      "text/plain": "<IPython.core.display.HTML object>",
      "text/html": "&nbsp;&nbsp;&nbsp;&nbsp;&nbsp;&nbsp;&nbsp;&nbsp;option 2: [['source', 'C__strip_nonalphanumeric__source__StrategyTransformer'], ['source', 'C__target_encode__not_LOO__post_encode_null_to_global_mean__StrategyTransformer']]"
     },
     "metadata": {}
    },
    {
     "output_type": "display_data",
     "data": {
      "text/plain": "<IPython.core.display.HTML object>",
      "text/html": "<p>"
     },
     "metadata": {}
    },
    {
     "output_type": "display_data",
     "data": {
      "text/plain": "<IPython.core.display.HTML object>",
      "text/html": "&nbsp;&nbsp;&nbsp;&nbsp;preprocessing group <b>source_type</b> has 1 preprocessing options"
     },
     "metadata": {}
    },
    {
     "output_type": "display_data",
     "data": {
      "text/plain": "<IPython.core.display.HTML object>",
      "text/html": "&nbsp;&nbsp;&nbsp;&nbsp;&nbsp;&nbsp;&nbsp;&nbsp;option 1: [['source_type', 'C__drop_it__StrategyTransformer']]"
     },
     "metadata": {}
    },
    {
     "output_type": "display_data",
     "data": {
      "text/plain": "<IPython.core.display.HTML object>",
      "text/html": "<p>"
     },
     "metadata": {}
    },
    {
     "output_type": "display_data",
     "data": {
      "text/plain": "<IPython.core.display.HTML object>",
      "text/html": "&nbsp;&nbsp;&nbsp;&nbsp;preprocessing group <b>source_class</b> has 1 preprocessing options"
     },
     "metadata": {}
    },
    {
     "output_type": "display_data",
     "data": {
      "text/plain": "<IPython.core.display.HTML object>",
      "text/html": "&nbsp;&nbsp;&nbsp;&nbsp;&nbsp;&nbsp;&nbsp;&nbsp;option 1: [['source_class', 'C__drop_it__StrategyTransformer']]"
     },
     "metadata": {}
    },
    {
     "output_type": "display_data",
     "data": {
      "text/plain": "<IPython.core.display.HTML object>",
      "text/html": "<p>"
     },
     "metadata": {}
    },
    {
     "output_type": "display_data",
     "data": {
      "text/plain": "<IPython.core.display.HTML object>",
      "text/html": "<p><br>"
     },
     "metadata": {}
    },
    {
     "output_type": "display_data",
     "data": {
      "text/plain": "<IPython.core.display.HTML object>",
      "text/html": "<b>water_quantity_class__group</b> feature-group has 2 features (['quantity', 'quantity_group']) handled across 2 preprocessing groups:"
     },
     "metadata": {}
    },
    {
     "output_type": "display_data",
     "data": {
      "text/plain": "<IPython.core.display.HTML object>",
      "text/html": "&nbsp;&nbsp;&nbsp;&nbsp;preprocessing group <b>quantity</b> has 2 preprocessing options"
     },
     "metadata": {}
    },
    {
     "output_type": "display_data",
     "data": {
      "text/plain": "<IPython.core.display.HTML object>",
      "text/html": "&nbsp;&nbsp;&nbsp;&nbsp;&nbsp;&nbsp;&nbsp;&nbsp;option 1: [['quantity', 'C__drop_it__StrategyTransformer']]"
     },
     "metadata": {}
    },
    {
     "output_type": "display_data",
     "data": {
      "text/plain": "<IPython.core.display.HTML object>",
      "text/html": "&nbsp;&nbsp;&nbsp;&nbsp;&nbsp;&nbsp;&nbsp;&nbsp;option 2: [['quantity', 'C__target_encode__not_LOO__post_encode_null_to_global_mean__StrategyTransformer']]"
     },
     "metadata": {}
    },
    {
     "output_type": "display_data",
     "data": {
      "text/plain": "<IPython.core.display.HTML object>",
      "text/html": "<p>"
     },
     "metadata": {}
    },
    {
     "output_type": "display_data",
     "data": {
      "text/plain": "<IPython.core.display.HTML object>",
      "text/html": "&nbsp;&nbsp;&nbsp;&nbsp;preprocessing group <b>quantity_group</b> has 1 preprocessing options"
     },
     "metadata": {}
    },
    {
     "output_type": "display_data",
     "data": {
      "text/plain": "<IPython.core.display.HTML object>",
      "text/html": "&nbsp;&nbsp;&nbsp;&nbsp;&nbsp;&nbsp;&nbsp;&nbsp;option 1: [['quantity_group', 'C__drop_it__StrategyTransformer']]"
     },
     "metadata": {}
    },
    {
     "output_type": "display_data",
     "data": {
      "text/plain": "<IPython.core.display.HTML object>",
      "text/html": "<p>"
     },
     "metadata": {}
    },
    {
     "output_type": "display_data",
     "data": {
      "text/plain": "<IPython.core.display.HTML object>",
      "text/html": "<p><br>"
     },
     "metadata": {}
    },
    {
     "output_type": "display_data",
     "data": {
      "text/plain": "<IPython.core.display.HTML object>",
      "text/html": "<b>water_quality_class__group</b> feature-group has 2 features (['water_quality', 'quality_group']) handled across 2 preprocessing groups:"
     },
     "metadata": {}
    },
    {
     "output_type": "display_data",
     "data": {
      "text/plain": "<IPython.core.display.HTML object>",
      "text/html": "&nbsp;&nbsp;&nbsp;&nbsp;preprocessing group <b>water_quality</b> has 2 preprocessing options"
     },
     "metadata": {}
    },
    {
     "output_type": "display_data",
     "data": {
      "text/plain": "<IPython.core.display.HTML object>",
      "text/html": "&nbsp;&nbsp;&nbsp;&nbsp;&nbsp;&nbsp;&nbsp;&nbsp;option 1: [['water_quality', 'C__drop_it__StrategyTransformer']]"
     },
     "metadata": {}
    },
    {
     "output_type": "display_data",
     "data": {
      "text/plain": "<IPython.core.display.HTML object>",
      "text/html": "&nbsp;&nbsp;&nbsp;&nbsp;&nbsp;&nbsp;&nbsp;&nbsp;option 2: [['water_quality', 'C__target_encode__not_LOO__post_encode_null_to_global_mean__StrategyTransformer']]"
     },
     "metadata": {}
    },
    {
     "output_type": "display_data",
     "data": {
      "text/plain": "<IPython.core.display.HTML object>",
      "text/html": "<p>"
     },
     "metadata": {}
    },
    {
     "output_type": "display_data",
     "data": {
      "text/plain": "<IPython.core.display.HTML object>",
      "text/html": "&nbsp;&nbsp;&nbsp;&nbsp;preprocessing group <b>quality_group</b> has 1 preprocessing options"
     },
     "metadata": {}
    },
    {
     "output_type": "display_data",
     "data": {
      "text/plain": "<IPython.core.display.HTML object>",
      "text/html": "&nbsp;&nbsp;&nbsp;&nbsp;&nbsp;&nbsp;&nbsp;&nbsp;option 1: [['quality_group', 'C__drop_it__StrategyTransformer']]"
     },
     "metadata": {}
    },
    {
     "output_type": "display_data",
     "data": {
      "text/plain": "<IPython.core.display.HTML object>",
      "text/html": "<p>"
     },
     "metadata": {}
    },
    {
     "output_type": "display_data",
     "data": {
      "text/plain": "<IPython.core.display.HTML object>",
      "text/html": "<p><br>"
     },
     "metadata": {}
    },
    {
     "output_type": "display_data",
     "data": {
      "text/plain": "<IPython.core.display.HTML object>",
      "text/html": "<b>wpt_type_class__group</b> feature-group has 2 features (['waterpoint_type', 'waterpoint_type_group']) handled across 2 preprocessing groups:"
     },
     "metadata": {}
    },
    {
     "output_type": "display_data",
     "data": {
      "text/plain": "<IPython.core.display.HTML object>",
      "text/html": "&nbsp;&nbsp;&nbsp;&nbsp;preprocessing group <b>waterpoint_type</b> has 2 preprocessing options"
     },
     "metadata": {}
    },
    {
     "output_type": "display_data",
     "data": {
      "text/plain": "<IPython.core.display.HTML object>",
      "text/html": "&nbsp;&nbsp;&nbsp;&nbsp;&nbsp;&nbsp;&nbsp;&nbsp;option 1: [['waterpoint_type', 'C__drop_it__StrategyTransformer']]"
     },
     "metadata": {}
    },
    {
     "output_type": "display_data",
     "data": {
      "text/plain": "<IPython.core.display.HTML object>",
      "text/html": "&nbsp;&nbsp;&nbsp;&nbsp;&nbsp;&nbsp;&nbsp;&nbsp;option 2: [['waterpoint_type', 'C__target_encode__not_LOO__post_encode_null_to_global_mean__StrategyTransformer']]"
     },
     "metadata": {}
    },
    {
     "output_type": "display_data",
     "data": {
      "text/plain": "<IPython.core.display.HTML object>",
      "text/html": "<p>"
     },
     "metadata": {}
    },
    {
     "output_type": "display_data",
     "data": {
      "text/plain": "<IPython.core.display.HTML object>",
      "text/html": "&nbsp;&nbsp;&nbsp;&nbsp;preprocessing group <b>waterpoint_type_group</b> has 1 preprocessing options"
     },
     "metadata": {}
    },
    {
     "output_type": "display_data",
     "data": {
      "text/plain": "<IPython.core.display.HTML object>",
      "text/html": "&nbsp;&nbsp;&nbsp;&nbsp;&nbsp;&nbsp;&nbsp;&nbsp;option 1: [['waterpoint_type_group', 'C__drop_it__StrategyTransformer']]"
     },
     "metadata": {}
    },
    {
     "output_type": "display_data",
     "data": {
      "text/plain": "<IPython.core.display.HTML object>",
      "text/html": "<p>"
     },
     "metadata": {}
    },
    {
     "output_type": "display_data",
     "data": {
      "text/plain": "<IPython.core.display.HTML object>",
      "text/html": "<p><br>"
     },
     "metadata": {}
    },
    {
     "output_type": "display_data",
     "data": {
      "text/plain": "<IPython.core.display.HTML object>",
      "text/html": "<b>population__group</b> feature-group has 1 features (['population']) handled across 1 preprocessing groups:"
     },
     "metadata": {}
    },
    {
     "output_type": "display_data",
     "data": {
      "text/plain": "<IPython.core.display.HTML object>",
      "text/html": "&nbsp;&nbsp;&nbsp;&nbsp;preprocessing group <b>population</b> has 7 preprocessing options"
     },
     "metadata": {}
    },
    {
     "output_type": "display_data",
     "data": {
      "text/plain": "<IPython.core.display.HTML object>",
      "text/html": "&nbsp;&nbsp;&nbsp;&nbsp;&nbsp;&nbsp;&nbsp;&nbsp;option 1: [['population', 'C__drop_it__StrategyTransformer']]"
     },
     "metadata": {}
    },
    {
     "output_type": "display_data",
     "data": {
      "text/plain": "<IPython.core.display.HTML object>",
      "text/html": "&nbsp;&nbsp;&nbsp;&nbsp;&nbsp;&nbsp;&nbsp;&nbsp;option 2: [['population', 'C__leave_it_as_is__StrategyTransformer']]"
     },
     "metadata": {}
    },
    {
     "output_type": "display_data",
     "data": {
      "text/plain": "<IPython.core.display.HTML object>",
      "text/html": "&nbsp;&nbsp;&nbsp;&nbsp;&nbsp;&nbsp;&nbsp;&nbsp;option 3: [['population', 'C__target_encode__not_LOO__post_encode_null_to_global_mean__StrategyTransformer']]"
     },
     "metadata": {}
    },
    {
     "output_type": "display_data",
     "data": {
      "text/plain": "<IPython.core.display.HTML object>",
      "text/html": "&nbsp;&nbsp;&nbsp;&nbsp;&nbsp;&nbsp;&nbsp;&nbsp;option 4: [['population', 'C__replace_outliers_with_mean__StrategyTransformer']]"
     },
     "metadata": {}
    },
    {
     "output_type": "display_data",
     "data": {
      "text/plain": "<IPython.core.display.HTML object>",
      "text/html": "&nbsp;&nbsp;&nbsp;&nbsp;&nbsp;&nbsp;&nbsp;&nbsp;option 5: [['population', 'C__replace_outliers_with_mean__StrategyTransformer'], ['population', 'C__replace_outliers_with_mean__StrategyTransformer']]"
     },
     "metadata": {}
    },
    {
     "output_type": "display_data",
     "data": {
      "text/plain": "<IPython.core.display.HTML object>",
      "text/html": "&nbsp;&nbsp;&nbsp;&nbsp;&nbsp;&nbsp;&nbsp;&nbsp;option 6: [['population', 'C__replace_outliers_with_median__StrategyTransformer']]"
     },
     "metadata": {}
    },
    {
     "output_type": "display_data",
     "data": {
      "text/plain": "<IPython.core.display.HTML object>",
      "text/html": "&nbsp;&nbsp;&nbsp;&nbsp;&nbsp;&nbsp;&nbsp;&nbsp;option 7: [['population', 'C__replace_0_with_nan__StrategyTransformer']]"
     },
     "metadata": {}
    },
    {
     "output_type": "display_data",
     "data": {
      "text/plain": "<IPython.core.display.HTML object>",
      "text/html": "<p>"
     },
     "metadata": {}
    },
    {
     "output_type": "display_data",
     "data": {
      "text/plain": "<IPython.core.display.HTML object>",
      "text/html": "<p><br>"
     },
     "metadata": {}
    },
    {
     "output_type": "display_data",
     "data": {
      "text/plain": "<IPython.core.display.HTML object>",
      "text/html": "<b>wpt_operator__group</b> feature-group has 2 features (['scheme_management', 'scheme_name']) handled across 1 preprocessing groups:"
     },
     "metadata": {}
    },
    {
     "output_type": "display_data",
     "data": {
      "text/plain": "<IPython.core.display.HTML object>",
      "text/html": "&nbsp;&nbsp;&nbsp;&nbsp;preprocessing group <b>wpt_operator</b> has 8 preprocessing options"
     },
     "metadata": {}
    },
    {
     "output_type": "display_data",
     "data": {
      "text/plain": "<IPython.core.display.HTML object>",
      "text/html": "&nbsp;&nbsp;&nbsp;&nbsp;&nbsp;&nbsp;&nbsp;&nbsp;option 1: [['scheme_management', 'C__drop_it__StrategyTransformer'], ['scheme_name', 'C__drop_it__StrategyTransformer']]"
     },
     "metadata": {}
    },
    {
     "output_type": "display_data",
     "data": {
      "text/plain": "<IPython.core.display.HTML object>",
      "text/html": "&nbsp;&nbsp;&nbsp;&nbsp;&nbsp;&nbsp;&nbsp;&nbsp;option 2: [['scheme_management', 'C__required_proprocessing__scheme_management__StrategyTransformer'], ['scheme_management', 'C__target_encode__not_LOO__post_encode_null_to_global_mean__StrategyTransformer'], ['scheme_name', 'C__drop_it__StrategyTransformer']]"
     },
     "metadata": {}
    },
    {
     "output_type": "display_data",
     "data": {
      "text/plain": "<IPython.core.display.HTML object>",
      "text/html": "&nbsp;&nbsp;&nbsp;&nbsp;&nbsp;&nbsp;&nbsp;&nbsp;option 3: [['scheme_management', 'C__drop_it__StrategyTransformer'], ['scheme_name', 'C__required_proprocessing__scheme_name__StrategyTransformer'], ['scheme_name', 'C__target_encode__not_LOO__post_encode_null_to_global_mean__StrategyTransformer']]"
     },
     "metadata": {}
    },
    {
     "output_type": "display_data",
     "data": {
      "text/plain": "<IPython.core.display.HTML object>",
      "text/html": "&nbsp;&nbsp;&nbsp;&nbsp;&nbsp;&nbsp;&nbsp;&nbsp;option 4: [['scheme_management', 'C__drop_it__StrategyTransformer'], ['scheme_name', 'C__required_proprocessing__scheme_name__StrategyTransformer'], ['scheme_name', 'C__tfidf_normalize__scheme_name__StrategyTransformer'], ['scheme_name', 'C__target_encode__not_LOO__post_encode_null_to_global_mean__StrategyTransformer']]"
     },
     "metadata": {}
    },
    {
     "output_type": "display_data",
     "data": {
      "text/plain": "<IPython.core.display.HTML object>",
      "text/html": "&nbsp;&nbsp;&nbsp;&nbsp;&nbsp;&nbsp;&nbsp;&nbsp;option 5: [['scheme_management', 'C__drop_it__StrategyTransformer'], ['scheme_name', 'C__required_proprocessing__scheme_name__StrategyTransformer'], ['scheme_name', 'C__top_n_significance__scheme_name__StrategyTransformer'], ['scheme_name', 'C__target_encode__not_LOO__post_encode_null_to_global_mean__StrategyTransformer']]"
     },
     "metadata": {}
    },
    {
     "output_type": "display_data",
     "data": {
      "text/plain": "<IPython.core.display.HTML object>",
      "text/html": "&nbsp;&nbsp;&nbsp;&nbsp;&nbsp;&nbsp;&nbsp;&nbsp;option 6: [['scheme_management', 'C__required_proprocessing__scheme_management__StrategyTransformer'], ['scheme_management', 'C__target_encode__not_LOO__post_encode_null_to_global_mean__StrategyTransformer'], ['scheme_name', 'C__required_proprocessing__scheme_name__StrategyTransformer'], ['scheme_name', 'C__target_encode__not_LOO__post_encode_null_to_global_mean__StrategyTransformer']]"
     },
     "metadata": {}
    },
    {
     "output_type": "display_data",
     "data": {
      "text/plain": "<IPython.core.display.HTML object>",
      "text/html": "&nbsp;&nbsp;&nbsp;&nbsp;&nbsp;&nbsp;&nbsp;&nbsp;option 7: [['scheme_management', 'C__required_proprocessing__scheme_management__StrategyTransformer'], ['scheme_management', 'C__target_encode__not_LOO__post_encode_null_to_global_mean__StrategyTransformer'], ['scheme_name', 'C__required_proprocessing__scheme_name__StrategyTransformer'], ['scheme_name', 'C__tfidf_normalize__scheme_name__StrategyTransformer'], ['scheme_name', 'C__target_encode__not_LOO__post_encode_null_to_global_mean__StrategyTransformer']]"
     },
     "metadata": {}
    },
    {
     "output_type": "display_data",
     "data": {
      "text/plain": "<IPython.core.display.HTML object>",
      "text/html": "&nbsp;&nbsp;&nbsp;&nbsp;&nbsp;&nbsp;&nbsp;&nbsp;option 8: [['scheme_management', 'C__required_proprocessing__scheme_management__StrategyTransformer'], ['scheme_management', 'C__target_encode__not_LOO__post_encode_null_to_global_mean__StrategyTransformer'], ['scheme_name', 'C__required_proprocessing__scheme_name__StrategyTransformer'], ['scheme_name', 'C__top_n_significance__scheme_name__StrategyTransformer'], ['scheme_name', 'C__target_encode__not_LOO__post_encode_null_to_global_mean__StrategyTransformer']]"
     },
     "metadata": {}
    },
    {
     "output_type": "display_data",
     "data": {
      "text/plain": "<IPython.core.display.HTML object>",
      "text/html": "<p>"
     },
     "metadata": {}
    },
    {
     "output_type": "display_data",
     "data": {
      "text/plain": "<IPython.core.display.HTML object>",
      "text/html": "<p><br>"
     },
     "metadata": {}
    },
    {
     "output_type": "display_data",
     "data": {
      "text/plain": "<IPython.core.display.HTML object>",
      "text/html": "<b>public_meeting__group</b> feature-group has 1 features (['public_meeting']) handled across 1 preprocessing groups:"
     },
     "metadata": {}
    },
    {
     "output_type": "display_data",
     "data": {
      "text/plain": "<IPython.core.display.HTML object>",
      "text/html": "&nbsp;&nbsp;&nbsp;&nbsp;preprocessing group <b>public_meeting</b> has 2 preprocessing options"
     },
     "metadata": {}
    },
    {
     "output_type": "display_data",
     "data": {
      "text/plain": "<IPython.core.display.HTML object>",
      "text/html": "&nbsp;&nbsp;&nbsp;&nbsp;&nbsp;&nbsp;&nbsp;&nbsp;option 1: [['public_meeting', 'C__drop_it__StrategyTransformer']]"
     },
     "metadata": {}
    },
    {
     "output_type": "display_data",
     "data": {
      "text/plain": "<IPython.core.display.HTML object>",
      "text/html": "&nbsp;&nbsp;&nbsp;&nbsp;&nbsp;&nbsp;&nbsp;&nbsp;option 2: [['public_meeting', 'C__required_proprocessing__public_meeting__StrategyTransformer']]"
     },
     "metadata": {}
    },
    {
     "output_type": "display_data",
     "data": {
      "text/plain": "<IPython.core.display.HTML object>",
      "text/html": "<p>"
     },
     "metadata": {}
    },
    {
     "output_type": "display_data",
     "data": {
      "text/plain": "<IPython.core.display.HTML object>",
      "text/html": "<p><br>"
     },
     "metadata": {}
    },
    {
     "output_type": "display_data",
     "data": {
      "text/plain": "<IPython.core.display.HTML object>",
      "text/html": "<b>recorded_by__group</b> feature-group has 1 features (['recorded_by']) handled across 1 preprocessing groups:"
     },
     "metadata": {}
    },
    {
     "output_type": "display_data",
     "data": {
      "text/plain": "<IPython.core.display.HTML object>",
      "text/html": "&nbsp;&nbsp;&nbsp;&nbsp;preprocessing group <b>recorded_by</b> has 1 preprocessing options"
     },
     "metadata": {}
    },
    {
     "output_type": "display_data",
     "data": {
      "text/plain": "<IPython.core.display.HTML object>",
      "text/html": "&nbsp;&nbsp;&nbsp;&nbsp;&nbsp;&nbsp;&nbsp;&nbsp;option 1: [['recorded_by', 'C__drop_it__StrategyTransformer']]"
     },
     "metadata": {}
    },
    {
     "output_type": "display_data",
     "data": {
      "text/plain": "<IPython.core.display.HTML object>",
      "text/html": "<p>"
     },
     "metadata": {}
    },
    {
     "output_type": "display_data",
     "data": {
      "text/plain": "<IPython.core.display.HTML object>",
      "text/html": "<p><br>"
     },
     "metadata": {}
    },
    {
     "output_type": "display_data",
     "data": {
      "text/plain": "<IPython.core.display.HTML object>",
      "text/html": "<b>permit__group</b> feature-group has 1 features (['permit']) handled across 1 preprocessing groups:"
     },
     "metadata": {}
    },
    {
     "output_type": "display_data",
     "data": {
      "text/plain": "<IPython.core.display.HTML object>",
      "text/html": "&nbsp;&nbsp;&nbsp;&nbsp;preprocessing group <b>permit</b> has 2 preprocessing options"
     },
     "metadata": {}
    },
    {
     "output_type": "display_data",
     "data": {
      "text/plain": "<IPython.core.display.HTML object>",
      "text/html": "&nbsp;&nbsp;&nbsp;&nbsp;&nbsp;&nbsp;&nbsp;&nbsp;option 1: [['permit', 'C__drop_it__StrategyTransformer']]"
     },
     "metadata": {}
    },
    {
     "output_type": "display_data",
     "data": {
      "text/plain": "<IPython.core.display.HTML object>",
      "text/html": "&nbsp;&nbsp;&nbsp;&nbsp;&nbsp;&nbsp;&nbsp;&nbsp;option 2: [['permit', 'C__required_proprocessing__permit__StrategyTransformer']]"
     },
     "metadata": {}
    },
    {
     "output_type": "display_data",
     "data": {
      "text/plain": "<IPython.core.display.HTML object>",
      "text/html": "<p>"
     },
     "metadata": {}
    },
    {
     "output_type": "display_data",
     "data": {
      "text/plain": "<IPython.core.display.HTML object>",
      "text/html": "<p><br>"
     },
     "metadata": {}
    },
    {
     "output_type": "display_data",
     "data": {
      "text/plain": "<IPython.core.display.HTML object>",
      "text/html": "<b>wpt_management__group</b> feature-group has 2 features (['management', 'management_group']) handled across 2 preprocessing groups:"
     },
     "metadata": {}
    },
    {
     "output_type": "display_data",
     "data": {
      "text/plain": "<IPython.core.display.HTML object>",
      "text/html": "&nbsp;&nbsp;&nbsp;&nbsp;preprocessing group <b>management</b> has 2 preprocessing options"
     },
     "metadata": {}
    },
    {
     "output_type": "display_data",
     "data": {
      "text/plain": "<IPython.core.display.HTML object>",
      "text/html": "&nbsp;&nbsp;&nbsp;&nbsp;&nbsp;&nbsp;&nbsp;&nbsp;option 1: [['management', 'C__drop_it__StrategyTransformer']]"
     },
     "metadata": {}
    },
    {
     "output_type": "display_data",
     "data": {
      "text/plain": "<IPython.core.display.HTML object>",
      "text/html": "&nbsp;&nbsp;&nbsp;&nbsp;&nbsp;&nbsp;&nbsp;&nbsp;option 2: [['management', 'C__target_encode__not_LOO__post_encode_null_to_global_mean__StrategyTransformer']]"
     },
     "metadata": {}
    },
    {
     "output_type": "display_data",
     "data": {
      "text/plain": "<IPython.core.display.HTML object>",
      "text/html": "<p>"
     },
     "metadata": {}
    },
    {
     "output_type": "display_data",
     "data": {
      "text/plain": "<IPython.core.display.HTML object>",
      "text/html": "&nbsp;&nbsp;&nbsp;&nbsp;preprocessing group <b>management_group</b> has 1 preprocessing options"
     },
     "metadata": {}
    },
    {
     "output_type": "display_data",
     "data": {
      "text/plain": "<IPython.core.display.HTML object>",
      "text/html": "&nbsp;&nbsp;&nbsp;&nbsp;&nbsp;&nbsp;&nbsp;&nbsp;option 1: [['management_group', 'C__drop_it__StrategyTransformer']]"
     },
     "metadata": {}
    },
    {
     "output_type": "display_data",
     "data": {
      "text/plain": "<IPython.core.display.HTML object>",
      "text/html": "<p>"
     },
     "metadata": {}
    },
    {
     "output_type": "display_data",
     "data": {
      "text/plain": "<IPython.core.display.HTML object>",
      "text/html": "<p><br>"
     },
     "metadata": {}
    },
    {
     "output_type": "display_data",
     "data": {
      "text/plain": "<IPython.core.display.Markdown object>",
      "text/markdown": "brute-force complexity: $O(|amount_tsh|\\times |pump_age|\\times |funder|\\times |gps_height|\\times |installer|\\times |latitude|\\times |longitude|\\times |wpt_name|\\times |num_private|\\times |basin|\\times |region_code|\\times |district_code|\\times |subvillage|\\times |region|\\times |lga|\\times |ward|\\times |payment_type|\\times |payment|\\times |extraction_type|\\times |extraction_type_group|\\times |extraction_type_class|\\times |source|\\times |source_type|\\times |source_class|\\times |quantity|\\times |quantity_group|\\times |water_quality|\\times |quality_group|\\times |waterpoint_type|\\times |waterpoint_type_group|\\times |population|\\times |wpt_operator|\\times |public_meeting|\\times |recorded_by|\\times |permit|\\times |management|\\times |management_group|) \\in O(n^{37})$"
     },
     "metadata": {}
    },
    {
     "output_type": "display_data",
     "data": {
      "text/plain": "<IPython.core.display.Markdown object>",
      "text/markdown": "In our case, this would amount to 9246326390784 iterations doing it the brute-force way!)"
     },
     "metadata": {}
    }
   ],
   "source": [
    "cartesian_prod = 1\n",
    "brute_force_complexity = []\n",
    "n_exp = 0\n",
    "for feat_group_name in preprocessing_config['feature_groupings']:\n",
    "    preprocessing_options = preprocessing_config['feature_groupings'][feat_group_name]['preprocessing_options']\n",
    "\n",
    "    features = preprocessing_config['feature_groupings'][feat_group_name]['features']\n",
    "\n",
    "    display(HTML(f\"<b>{feat_group_name}</b> feature-group has {len(features)} features ({features}) handled across {len(preprocessing_options)} preprocessing groups:\"))\n",
    "\n",
    "    # print(eda_config['feature_groupings'][feat_group_name]['preprocessing_options'])\n",
    "    for preprocessing_group_name, opts_for_group in preprocessing_options.items():\n",
    "        n_exp += 1\n",
    "        brute_force_complexity.append((preprocessing_group_name, opts_for_group))\n",
    "\n",
    "        display(HTML(f\"{scjpnutils.helper__HTML_tabs(1)}preprocessing group <b>{preprocessing_group_name}</b> has {len(opts_for_group)} preprocessing options\"))\n",
    "        cartesian_prod *= len(opts_for_group)\n",
    "\n",
    "        for idx, preprocessing_option in enumerate(opts_for_group):\n",
    "            display(HTML(f\"{scjpnutils.helper__HTML_tabs(2)}option {idx+1}: {preprocessing_option}\"))\n",
    "\n",
    "        display(HTML(\"<p>\"))\n",
    "\n",
    "    display(HTML(\"<p><br>\"))\n",
    "\n",
    "s_brute_force_complexity = '\\\\times '.join(['|'+t_ppg_ofg[0]+'|' for t_ppg_ofg in brute_force_complexity])\n",
    "s_brute_force_complexity = f\"$O({s_brute_force_complexity}) \\\\in O(n^\" + \"{\" + f\"{n_exp}\" + \"})$\"\n",
    "display(Markdown(f\"brute-force complexity: {s_brute_force_complexity}\"))\n",
    "\n",
    "# s_list_of_preprocessing_groups = pprint.pformat(list_of_preprocessing_groups, indent=4)\n",
    "# print(f\"\\nlist of feat-preprocessing-options:\\n{s_list_of_preprocessing_groups}\")\n",
    "\n",
    "display(Markdown(f\"In our case, this would amount to {cartesian_prod} iterations doing it the brute-force way!)\"))\n",
    "# cartesian_prod = list(itertools.product(*list_of_preprocessing_groups)) # DO NOT UNCOMMENT THIS!  THIS TAKES A VERY LONG TIME TO COMPUTE.  IT IS ONLY HERE FOR REFERENCE.\n",
    "# print(f\"\\n\\nsize of cartesian-product (itertools): {len(cartesian_prod)}\")"
   ]
  },
  {
   "cell_type": "markdown",
   "metadata": {},
   "source": [
    "You read that correctly: if we do this using brute-force, that would require building (transforming) a virtually uncountable number of data sets.\n",
    "\n",
    "That is obviously intractible.  \n",
    "\n",
    "Consider the case when transforming and building a model on X_train and predicting on X_validation takes, on average, 1 minute.\n",
    "\n",
    "There are 525600 minutes in one year."
   ]
  },
  {
   "cell_type": "code",
   "execution_count": 17,
   "metadata": {},
   "outputs": [
    {
     "output_type": "display_data",
     "data": {
      "text/plain": "<IPython.core.display.HTML object>",
      "text/html": "Doing it the brute-force way (the space of all possible combinations of preprocessing options) would require about 175919 CENTURIES!!! LOL!"
     },
     "metadata": {}
    }
   ],
   "source": [
    "display(HTML(f\"Doing it the brute-force way (the space of all possible combinations of preprocessing options) would require about {int((cartesian_prod/525600)/100)} CENTURIES!!! LOL!\"))"
   ]
  },
  {
   "cell_type": "markdown",
   "metadata": {},
   "source": [
    "Instead, we will use a Greedy Algorithm to turn this into a linear problem."
   ]
  },
  {
   "cell_type": "markdown",
   "metadata": {},
   "source": [
    "## Baselining the Greedy Way - Another Exercise in Dynamic Programming\n",
    "\n",
    "The idea goes like this:\n",
    "\n",
    "1. Build a baseline model using the most features possible - since a lot of features contains `nan` values, this precludes the use of `DecisionTreeClassifier` and `RandomForestClassifier` for baselining; thus, we will baseline using `XGBClassifier` since it allows `nan`s.\n",
    "2. From there, we will try out each option for each feature-group (specified in the config) - to be clear, we will include the baseline features plus those involved in the particular preprocessing option.\n",
    "3. Build a model (with `XGBClassifier`) and compare its validation accuracy to the validation accuracy of the baseline model - if it goes down or stays the same, this obviously is not a good preprocessing option to keep; if it goes up from the baseline, then we will obviously keep this preprocessing option; we will keep the option that garners the best improvement on a per-feature-group basis."
   ]
  },
  {
   "cell_type": "markdown",
   "metadata": {},
   "source": [
    "### Build Baseline Model\n",
    "\n",
    "We use this as a basis for comparison to demonstrate iterative permformance when examine available preprocessing options for a given feature-group.\n",
    "\n",
    "The idea is to use a classifier that is flexible enough to deal with as many of the features from the untouched training data set.  As we have seen, there are plenty of null/missing values in the raw data set.  So we want a classifier that can readily handle nulls.  That rules out using `DecisionTreeClassifier` or `RandomForestClassifier` for our baseline model.  `XGBClassifier`, on the other hand, can handle `nan`s just fine.  So we will use it to build our baseline and inspect various preprocessing options using it.\n",
    "\n",
    "However, for `XGBClassifier`, values it models must be an `int`, `float`, or `bool`.\n",
    "\n",
    "Thus, we need to filter out any features that are not of that type."
   ]
  },
  {
   "cell_type": "code",
   "execution_count": 18,
   "metadata": {},
   "outputs": [
    {
     "output_type": "execute_result",
     "data": {
      "text/plain": "['amount_tsh',\n 'construction_year',\n 'district_code',\n 'gps_height',\n 'latitude',\n 'longitude',\n 'num_private',\n 'population',\n 'region_code']"
     },
     "metadata": {},
     "execution_count": 18
    }
   ],
   "source": [
    "X_train_baseline = X_train.select_dtypes(['number', 'bool'])\n",
    "baseline_cols = sorted(list(X_train_baseline.columns))\n",
    "baseline_cols"
   ]
  },
  {
   "cell_type": "code",
   "execution_count": 19,
   "metadata": {
    "tags": []
   },
   "outputs": [
    {
     "output_type": "stream",
     "name": "stdout",
     "text": "<class 'pandas.core.frame.DataFrame'>\nInt64Index: 53460 entries, 56146 to 70556\nData columns (total 9 columns):\n #   Column             Non-Null Count  Dtype  \n---  ------             --------------  -----  \n 0   amount_tsh         53460 non-null  float64\n 1   construction_year  53460 non-null  int64  \n 2   district_code      53460 non-null  int64  \n 3   gps_height         53460 non-null  int64  \n 4   latitude           53460 non-null  float64\n 5   longitude          53460 non-null  float64\n 6   num_private        53460 non-null  int64  \n 7   population         53460 non-null  int64  \n 8   region_code        53460 non-null  int64  \ndtypes: float64(3), int64(6)\nmemory usage: 4.1 MB\n"
    }
   ],
   "source": [
    "X_train_baseline = X_train_baseline[baseline_cols]\n",
    "X_train_baseline.info()"
   ]
  },
  {
   "cell_type": "code",
   "execution_count": 20,
   "metadata": {
    "tags": []
   },
   "outputs": [],
   "source": [
    "X_validation_baseline = X_validation[baseline_cols]"
   ]
  },
  {
   "cell_type": "code",
   "execution_count": 21,
   "metadata": {},
   "outputs": [],
   "source": [
    "def summarize_preds(clf, X, y, preds, dataset_name, classes):\n",
    "    display(HTML(\"<p><br>\"))\n",
    "    _accuracy = accuracy_score(y, preds)\n",
    "    display(HTML(f\"{dataset_name} Accuracy: {round(_accuracy*100,4)}\"))\n",
    "    display(HTML(\"<p><br>\"))\n",
    "    display(HTML(f\"<pre>{classification_report(y, preds, target_names=classes)}</pre>\"))\n",
    "    return _accuracy"
   ]
  },
  {
   "cell_type": "code",
   "execution_count": 22,
   "metadata": {},
   "outputs": [
    {
     "output_type": "display_data",
     "data": {
      "text/plain": "<IPython.core.display.HTML object>",
      "text/html": "<p><br>"
     },
     "metadata": {}
    },
    {
     "output_type": "display_data",
     "data": {
      "text/plain": "<IPython.core.display.HTML object>",
      "text/html": "Validation Accuracy: 72.6936"
     },
     "metadata": {}
    },
    {
     "output_type": "display_data",
     "data": {
      "text/plain": "<IPython.core.display.HTML object>",
      "text/html": "<p><br>"
     },
     "metadata": {}
    },
    {
     "output_type": "display_data",
     "data": {
      "text/plain": "<IPython.core.display.HTML object>",
      "text/html": "<pre>                         precision    recall  f1-score   support\n\n             functional       0.75      0.81      0.78      3268\nfunctional needs repair       0.52      0.25      0.33       432\n         non functional       0.71      0.69      0.70      2240\n\n               accuracy                           0.73      5940\n              macro avg       0.66      0.58      0.60      5940\n           weighted avg       0.72      0.73      0.72      5940\n</pre>"
     },
     "metadata": {}
    }
   ],
   "source": [
    "clf = XGBClassifier(max_depth=20, gamma=1, random_state=SEED, n_jobs=-1)\n",
    "clf.fit(X_train_baseline, y_train_encoded.status_group)\n",
    "\n",
    "pred_validation_baseline = clf.predict(X_validation_baseline)\n",
    "_accuracy_validation_baseline = summarize_preds(clf, X_validation_baseline, y_validation_encoded.status_group, pred_validation_baseline, 'Validation', classes)"
   ]
  },
  {
   "cell_type": "markdown",
   "metadata": {},
   "source": [
    "### \"Inner\" Algorithm:\n",
    "#### Iterate each preprocessing option (from config file), apply, compare results to Baseline - Keep the options that increase accuracy over Baseline"
   ]
  },
  {
   "cell_type": "code",
   "execution_count": 23,
   "metadata": {},
   "outputs": [],
   "source": [
    "# the key, the heart of the algo...\n",
    "def find_best_option(feature_group_name, preprocessing_group_name, best_options, y_acc, i_ordering=None, debug=False):\n",
    "    display(HTML(f\"<h2 style='background-color: yellow;'>Finding best option for feature group <i><font color='red'>{feature_group_name}</font></i>{' (ORDERING '+str(i_ordering+1)+')' if i_ordering is not None else ''}, preprocessing group <i><font color='red'>{preprocessing_group_name}</font></i> after baseline...</h2>\"))\n",
    "\n",
    "    best = None\n",
    "    preprocessing__group_options = preprocessing_config['feature_groupings'][feature_group_name]['preprocessing_options'][preprocessing_group_name]\n",
    "\n",
    "    X_train_priors_transformed = X_train.copy()\n",
    "\n",
    "    pipeline_priors = deepcopy(pipeline_data_preprocessor)\n",
    "    \n",
    "    cols_prior = []\n",
    "    \n",
    "    _y_acc = []\n",
    "\n",
    "    # apply best options already found preceding this one\n",
    "    if len(best_options) > 0:\n",
    "        display(HTML(f\"<h3 style='background-color: yellow;'>Transforming X with PRIOR best options...</h3>\"))\n",
    "        \n",
    "        # re-apply (best) results found previously before executing current preprocessing option transformation\n",
    "        for prior_best_option in best_options:\n",
    "            composite_transformer = scjpnpreprocessing.instantiate_strategy_transformer(\n",
    "                prior_best_option[1], \n",
    "                prior_best_option[0],\n",
    "                pipeline_priors,\n",
    "                debug\n",
    "            )\n",
    "            scjpnpreprocessing.html_prettify_strategy_transformer_description(composite_transformer)\n",
    "            X_train_priors_transformed = composite_transformer.fit_transform(X_train_priors_transformed, y_train_encoded.status_group)\n",
    "\n",
    "            # get list of cols transformed by this option\n",
    "            transformed_cols = []\n",
    "            cols_prior = scjpnpreprocessing.get_features_affected_by_transformation(\n",
    "                X_train_priors_transformed, \n",
    "                composite_transformer, \n",
    "                baseline_cols, \n",
    "                cols_prior, \n",
    "                inclusion_desc=\"included in (prior best)\", \n",
    "                debug=debug\n",
    "            )\n",
    "            \n",
    "        display(HTML(f\"<h4>terminal features in prior best models:</h4>\"))\n",
    "        buffer = io.StringIO()\n",
    "        X_train_priors_transformed[cols_prior].info(buf=buffer)\n",
    "        s_info = buffer.getvalue()\n",
    "        display(HTML(f\"<pre>{s_info}</pre>\"))\n",
    "    \n",
    "    # iterate through options to find best result\n",
    "    for idx, preprocessing_option in enumerate(preprocessing__group_options):\n",
    "        pipeline_temp = deepcopy(pipeline_priors)\n",
    "        cols_in_model = []\n",
    "\n",
    "        display(HTML(f\"<h3 style='background-color: yellow;'>Transforming X with FEATURE-GROUP <font color='red'>{feature_group_name}</font>, {'PREPROCESSING-GROUP ORDERING '+str(i_ordering+1)+', ' if i_ordering is not None else ''}<i><font color='red'>{preprocessing_group_name}</font></i> <font color='red'>OPTION {idx+1}</font>:</h3>\"))\n",
    "        composite_transformer = scjpnpreprocessing.instantiate_strategy_transformer(\n",
    "            preprocessing_option, \n",
    "            preprocessing_group_name,\n",
    "            pipeline_temp,\n",
    "            debug\n",
    "        )\n",
    "        scjpnpreprocessing.html_prettify_strategy_transformer_description(composite_transformer)\n",
    "        X_train_transformed = composite_transformer.fit_transform(X_train_priors_transformed.copy(), y_train_encoded.status_group)\n",
    "        \n",
    "        # get list of cols transformed by this option\n",
    "        transformed_cols = []\n",
    "        cols_in_model = scjpnpreprocessing.get_features_affected_by_transformation(\n",
    "            X_train_transformed, \n",
    "            composite_transformer, \n",
    "            baseline_cols, \n",
    "            cols_prior, \n",
    "            inclusion_desc=\"to be included in\", \n",
    "            debug=debug\n",
    "        )\n",
    "\n",
    "        if len(cols_in_model) > 0:\n",
    "            display(HTML(f\"<h4>Building model on X transformed with current option...</h4>\"))\n",
    "            X_train_transformed = X_train_transformed[cols_in_model]\n",
    "            clf = XGBClassifier(max_depth=20, gamma=1, random_state=SEED, n_jobs=-1)\n",
    "            clf.fit(X_train_transformed, y_train_encoded.status_group)\n",
    "\n",
    "            display(HTML(f\"<h4>Transforming validation set with current option...</h4>\"))\n",
    "            X_validation_transformed = pipeline_temp.transform(X_validation) \n",
    "            X_validation_transformed = X_validation_transformed[cols_in_model]\n",
    "\n",
    "            display(HTML(f\"<h4>Using model to predict y's on validation set...</h4>\"))\n",
    "            pred_validation = clf.predict(X_validation_transformed)\n",
    "            _accuracy_validation = summarize_preds(clf, X_validation_transformed, y_validation_encoded.status_group, pred_validation, 'Validation', classes)\n",
    "            \n",
    "            _y_acc.append(_accuracy_validation)\n",
    "\n",
    "            if best is None or _accuracy_validation > best[3]:\n",
    "                best = (preprocessing_group_name, preprocessing_option, cols_in_model, _accuracy_validation)\n",
    "                display(HTML(f\"<h4 style='background-color: yellow;'><i>Option {idx+1}</i> yields new BEST-IN-GROUP validation accuracy.</h4>\"))\n",
    "        else:\n",
    "            display(HTML(f\"<h4><font color='red'>COULD NOT BUILD MODEL AS THERE ARE NO FEATURES TO BE INCLUDED!</font></h4>\"))\n",
    "        \n",
    "        \n",
    "        display(HTML(\"<p><br><br><br><br>\"))\n",
    "        \n",
    "    y_acc.append({'ppgn': preprocessing_group_name, 'acc': _y_acc})\n",
    "\n",
    "    if best[3] < _accuracy_validation_baseline:\n",
    "        display(HTML(f\"<h2><font color='red'>WARNING!!! You must reconfigure preprocessing config for feature-group <i>{feature_group_name}</i>, preprocessing-group <i>{preprocessing_group_name}</i> as EVERY PREPROCESSING OPTION FOR IT DECREASES ACCURACY BELOW BASELINE ACCURACY ({_accuracy_validation_baseline})!</font></h2>\"))\n",
    "    elif best[3] > _accuracy_validation_baseline:\n",
    "        display(HTML(f\"<h2><font color='green'>Best option INCREASES accuracy to {best[3]} ABOVE BASELINE ({_accuracy_validation_baseline}):</font></h2>\"))\n",
    "        display(HTML(f\"<pre>{(best[0], best[1], best[3])}</pre>\"))\n",
    "    else:\n",
    "        display(HTML(f\"<h2><font color='green'>Best option RETAINS BASELINE ACCURACY ({_accuracy_validation_baseline}):</font></h2>\"))\n",
    "        display(HTML(f\"<pre>{(best[0], best[1], best[3])}</pre>\"))\n",
    "\n",
    "    display(HTML(\"<p><br><br><br><br>\"))\n",
    "\n",
    "    return best, y_acc"
   ]
  },
  {
   "cell_type": "code",
   "execution_count": 53,
   "metadata": {
    "tags": []
   },
   "outputs": [
    {
     "output_type": "display_data",
     "data": {
      "text/plain": "<IPython.core.display.HTML object>",
      "text/html": "<h2 style='background-color: yellow;'>Finding best option for feature group <i><font color='red'>wpt_type_class__group</font></i>, preprocessing group <i><font color='red'>waterpoint_type_group</font></i> after baseline...</h2>"
     },
     "metadata": {}
    },
    {
     "output_type": "display_data",
     "data": {
      "text/plain": "<IPython.core.display.HTML object>",
      "text/html": "<h3 style='background-color: yellow;'>Transforming X with FEATURE-GROUP <font color='red'>wpt_type_class__group</font>, <i><font color='red'>waterpoint_type_group</font></i> <font color='red'>OPTION 1</font>:</h3>"
     },
     "metadata": {}
    },
    {
     "output_type": "display_data",
     "data": {
      "text/plain": "<IPython.core.display.HTML object>",
      "text/html": "<b>(composite) strategy name/description: <i><font color='red'>waterpoint_type_group</font></i></b><ol><li><b>strategy description</b>: <i><font color='blue' style='font-size: x-large;'>drop feature: waterpoint_type_group</font></i></li></ol>"
     },
     "metadata": {}
    },
    {
     "output_type": "display_data",
     "data": {
      "text/plain": "<IPython.core.display.HTML object>",
      "text/html": "<h4>baseline features in X after this transformation:</h4>"
     },
     "metadata": {}
    },
    {
     "output_type": "display_data",
     "data": {
      "text/plain": "<IPython.core.display.HTML object>",
      "text/html": "<pre>['amount_tsh', 'construction_year', 'district_code', 'gps_height', 'latitude', 'longitude', 'num_private', 'population', 'region_code']</pre>"
     },
     "metadata": {}
    },
    {
     "output_type": "display_data",
     "data": {
      "text/plain": "<IPython.core.display.HTML object>",
      "text/html": "<h4>features (not in baseline) in X after transformation (including best priors):</h4>"
     },
     "metadata": {}
    },
    {
     "output_type": "display_data",
     "data": {
      "text/plain": "<IPython.core.display.HTML object>",
      "text/html": "<pre>[]</pre>"
     },
     "metadata": {}
    },
    {
     "output_type": "display_data",
     "data": {
      "text/plain": "<IPython.core.display.HTML object>",
      "text/html": "<h4>features to be included in model:</h4>"
     },
     "metadata": {}
    },
    {
     "output_type": "display_data",
     "data": {
      "text/plain": "<IPython.core.display.HTML object>",
      "text/html": "<pre><class 'pandas.core.frame.DataFrame'>\nInt64Index: 53460 entries, 56146 to 70556\nData columns (total 9 columns):\n #   Column             Non-Null Count  Dtype  \n---  ------             --------------  -----  \n 0   amount_tsh         53460 non-null  float64\n 1   construction_year  53460 non-null  int64  \n 2   district_code      53460 non-null  int64  \n 3   gps_height         53460 non-null  int64  \n 4   latitude           53460 non-null  float64\n 5   longitude          53460 non-null  float64\n 6   num_private        53460 non-null  int64  \n 7   population         53460 non-null  int64  \n 8   region_code        53460 non-null  int64  \ndtypes: float64(3), int64(6)\nmemory usage: 4.1 MB\n</pre>"
     },
     "metadata": {}
    },
    {
     "output_type": "display_data",
     "data": {
      "text/plain": "<IPython.core.display.HTML object>",
      "text/html": "<h4>Building model on X transformed with current option...</h4>"
     },
     "metadata": {}
    },
    {
     "output_type": "display_data",
     "data": {
      "text/plain": "<IPython.core.display.HTML object>",
      "text/html": "<h4>Transforming validation set with current option...</h4>"
     },
     "metadata": {}
    },
    {
     "output_type": "display_data",
     "data": {
      "text/plain": "<IPython.core.display.HTML object>",
      "text/html": "<h4>Using model to predict y's on validation set...</h4>"
     },
     "metadata": {}
    },
    {
     "output_type": "display_data",
     "data": {
      "text/plain": "<IPython.core.display.HTML object>",
      "text/html": "<p><br>"
     },
     "metadata": {}
    },
    {
     "output_type": "display_data",
     "data": {
      "text/plain": "<IPython.core.display.HTML object>",
      "text/html": "Validation Accuracy: 72.6936"
     },
     "metadata": {}
    },
    {
     "output_type": "display_data",
     "data": {
      "text/plain": "<IPython.core.display.HTML object>",
      "text/html": "<p><br>"
     },
     "metadata": {}
    },
    {
     "output_type": "display_data",
     "data": {
      "text/plain": "<IPython.core.display.HTML object>",
      "text/html": "<pre>                         precision    recall  f1-score   support\n\n             functional       0.75      0.81      0.78      3268\nfunctional needs repair       0.52      0.25      0.33       432\n         non functional       0.71      0.69      0.70      2240\n\n               accuracy                           0.73      5940\n              macro avg       0.66      0.58      0.60      5940\n           weighted avg       0.72      0.73      0.72      5940\n</pre>"
     },
     "metadata": {}
    },
    {
     "output_type": "display_data",
     "data": {
      "text/plain": "<IPython.core.display.HTML object>",
      "text/html": "<h4 style='background-color: yellow;'><i>Option 1</i> yields new BEST-IN-GROUP validation accuracy.</h4>"
     },
     "metadata": {}
    },
    {
     "output_type": "display_data",
     "data": {
      "text/plain": "<IPython.core.display.HTML object>",
      "text/html": "<p><br><br><br><br>"
     },
     "metadata": {}
    },
    {
     "output_type": "display_data",
     "data": {
      "text/plain": "<IPython.core.display.HTML object>",
      "text/html": "<h2><font color='green'>Best option RETAINS BASELINE ACCURACY (0.726936026936027):</font></h2>"
     },
     "metadata": {}
    },
    {
     "output_type": "display_data",
     "data": {
      "text/plain": "<IPython.core.display.HTML object>",
      "text/html": "<pre>('waterpoint_type_group', [['waterpoint_type_group', 'C__drop_it__StrategyTransformer']], 0.726936026936027)</pre>"
     },
     "metadata": {}
    },
    {
     "output_type": "display_data",
     "data": {
      "text/plain": "<IPython.core.display.HTML object>",
      "text/html": "<p><br><br><br><br>"
     },
     "metadata": {}
    },
    {
     "output_type": "execute_result",
     "data": {
      "text/plain": "(('waterpoint_type_group',\n  [['waterpoint_type_group', 'C__drop_it__StrategyTransformer']],\n  ['amount_tsh',\n   'construction_year',\n   'district_code',\n   'gps_height',\n   'latitude',\n   'longitude',\n   'num_private',\n   'population',\n   'region_code'],\n  0.726936026936027),\n [{'ppgn': 'waterpoint_type_group', 'acc': [0.726936026936027]}])"
     },
     "metadata": {},
     "execution_count": 53
    }
   ],
   "source": [
    "# # test out individual preprocessing groups here, for example...\n",
    "best_options = []\n",
    "y_acc = []\n",
    "\n",
    "# reload config in case any changes were made while testing this\n",
    "# preprocessing_config = fm.load_json('preprocessing-config.txt')\n",
    "\n",
    "# uncomment to test one, some, or all... but note that each evaluation in this case is independent - i.e. does not consider the prior models built (if multiple are uncommented below)\n",
    "# find_best_option('amount_tsh__group', 'amount_tsh', best_options, y_acc)\n",
    "# find_best_option('pump_age_at_observation_date__group', 'pump_age', best_options, y_acc)\n",
    "# find_best_option('funder__group', 'funder', best_options, y_acc)\n",
    "# find_best_option('gps_height__group', 'gps_height', best_options, y_acc)\n",
    "# find_best_option('installer__group', 'installer', best_options, y_acc)\n",
    "# find_best_option('gps_coordinates__group', 'gps_coordinates', best_options, y_acc)\n",
    "# find_best_option('wpt_name__group', 'wpt_name', best_options, y_acc)\n",
    "# find_best_option('num_private__group', 'num_private', best_options, y_acc)\n",
    "# find_best_option('basin__group', 'basin', best_options, y_acc)\n",
    "# find_best_option('geographic_location__group', 'region_code', best_options, y_acc)\n",
    "# find_best_option('geographic_location__group', 'district_code', best_options, y_acc)\n",
    "# find_best_option('geographic_location__group', 'subvillage', best_options, y_acc)\n",
    "# find_best_option('geographic_location__group', 'region', best_options, y_acc)\n",
    "# find_best_option('geographic_location__group', 'lga', best_options, y_acc)\n",
    "# find_best_option('geographic_location__group', 'ward', best_options, y_acc)\n",
    "# find_best_option('population__group', 'population', best_options, y_acc)\n",
    "# find_best_option('public_meeting__group', 'public_meeting', best_options, y_acc)\n",
    "# find_best_option('recorded_by__group', 'recorded_by', best_options, y_acc)\n",
    "# find_best_option('wpt_operator__group', 'scheme_management', best_options, y_acc)\n",
    "# find_best_option('wpt_operator__group', 'scheme_name', best_options, y_acc)\n",
    "# find_best_option('permit__group', 'permit', best_options, y_acc)\n",
    "# find_best_option('wpt_extraction_type_class__group', 'extraction_type', best_options, y_acc)\n",
    "# find_best_option('wpt_extraction_type_class__group', 'extraction_type_group', best_options, y_acc)\n",
    "# find_best_option('wpt_extraction_type_class__group', 'extraction_type_class', best_options, y_acc)\n",
    "# find_best_option('wpt_management__group', 'management', best_options, y_acc)\n",
    "# find_best_option('wpt_management__group', 'management_group', best_options, y_acc)\n",
    "# find_best_option('payment_frequency_class__group', 'payment_type', best_options, y_acc)\n",
    "# find_best_option('payment_frequency_class__group', 'payment', best_options, y_acc)\n",
    "# find_best_option('water_quality_class__group', 'water_quality', best_options, y_acc)\n",
    "# find_best_option('water_quality_class__group', 'quality_group', best_options, y_acc)\n",
    "# find_best_option('water_quantity_class__group', 'quantity', best_options, y_acc)\n",
    "# find_best_option('water_quantity_class__group', 'quantity_group', best_options, y_acc)\n",
    "# find_best_option('water_source_type_class__group', 'source', best_options, y_acc)\n",
    "# find_best_option('water_source_type_class__group', 'source_type', best_options, y_acc)\n",
    "# find_best_option('water_source_type_class__group', 'source_class', best_options, y_acc)\n",
    "# find_best_option('wpt_type_class__group', 'waterpoint_type', best_options, y_acc)\n",
    "# find_best_option('wpt_type_class__group', 'waterpoint_type_group', best_options, y_acc)"
   ]
  },
  {
   "cell_type": "markdown",
   "metadata": {},
   "source": [
    "### \"Outer\" Algorthm:\n",
    "#### Iterate each feature-group, compute different preprocessing-group orderings, then harness the \"inner\" algorthm (the `find_best_option` function) to generate the list of best options that maximize validation accuracy"
   ]
  },
  {
   "cell_type": "code",
   "execution_count": null,
   "metadata": {
    "tags": []
   },
   "outputs": [],
   "source": [
    "def get_cmap(n, name='hsv'):\n",
    "    # from https://stackoverflow.com/a/25628397\n",
    "    '''Returns a function that maps each index in 0, 1, ..., n-1 to a distinct \n",
    "    RGB color; the keyword argument name must be a standard mpl colormap name.'''\n",
    "    return plt.cm.get_cmap(name, n)\n",
    "\n",
    "best_options = []\n",
    "y_acc = []\n",
    "for feat_group_name in preprocessing_config['feature_groupings']:\n",
    "    preprocessing_options = preprocessing_config['feature_groupings'][feat_group_name]['preprocessing_options']\n",
    "\n",
    "    # the order of the group can matter, so we need to permute all different orderings and take the best permutation\n",
    "    orderings = list(itertools.permutations(preprocessing_options.keys(), len(preprocessing_options)))\n",
    "    # print(f\"{feat_group_name} Permutations of Preprocessing Groups:\\n{orderings}\")\n",
    "\n",
    "    best_option = None      # (preprocessing_group_name, preprocessing_option, cols_in_model, _accuracy_validation)\n",
    "    for i_ordering, ordering in enumerate(orderings):\n",
    "        _best_options = best_options.copy()\n",
    "        _y_acc = y_acc.copy()\n",
    "\n",
    "        for preprocessing_group_name in ordering:\n",
    "            opts_for_group = preprocessing_options[preprocessing_group_name]\n",
    "            _best_option, _y_acc = find_best_option(feat_group_name, preprocessing_group_name, _best_options, _y_acc, i_ordering=i_ordering if len(orderings)>1 else None)\n",
    "            _best_options.append(_best_option)\n",
    "\n",
    "            if best_option is None or _best_option[3] > best_option[3]:\n",
    "                best_option = _best_option\n",
    "                y_acc = _y_acc\n",
    "\n",
    "\n",
    "    # use the best option of all orderings for this feature-group\n",
    "    best_options.append(best_option)\n",
    "\n",
    "    display(HTML(\"<p><br>\"))\n",
    "    plt.figure(figsize=(20,10))\n",
    "    x_offset = 0\n",
    "    cmap = get_cmap(sum(list(map(lambda y_acc_item: len(y_acc_item['acc']), y_acc))))\n",
    "    for i, y_acc_item in enumerate(y_acc):\n",
    "        xs = list(range(x_offset, x_offset+len(y_acc_item['acc'])))\n",
    "        ys = y_acc_item['acc']\n",
    "        if i > 0: # prepend acc of last item from last list so we don't have any discontinuity in plot\n",
    "            xs = [x_offset-1] + xs\n",
    "            ys = [y_acc[i-1]['acc'][-1]] + ys\n",
    "        plt.plot(xs, ys, c=cmap(i), label=y_acc_item['ppgn'])\n",
    "        x_offset += len(y_acc_item['acc'])\n",
    "        \n",
    "    plt.axhline(y=_accuracy_validation_baseline, linestyle='--', color=\"red\" if best_option[3] < _accuracy_validation_baseline else \"green\", label='** BASELINE **')\n",
    "    \n",
    "    plt.xlabel('preprocessing group/option sequence')\n",
    "    plt.ylabel('accuracy')\n",
    "    plt.legend()\n",
    "    plt.title('Model/Accuracy Evolution via Preprocessing Options')\n",
    "    plt.show()\n",
    "\n",
    "    display(HTML(\"<p><br><br><br><br>\"))"
   ]
  },
  {
   "cell_type": "markdown",
   "metadata": {},
   "source": [
    "<p><br><br><br><br>\n",
    "\n",
    "## Test Best Preprocessing Options Transformations on `X_train`"
   ]
  },
  {
   "cell_type": "code",
   "execution_count": null,
   "metadata": {},
   "outputs": [],
   "source": [
    "scjpnutils.analyze_values(X_train, 'X_train BEFORE preprocessing');"
   ]
  },
  {
   "cell_type": "code",
   "execution_count": null,
   "metadata": {
    "tags": []
   },
   "outputs": [],
   "source": [
    "X_train_preprocessed = X_train.copy()\n",
    "\n",
    "for best_preprocessing_option in best_options:\n",
    "    composite_transformer = scjpnpreprocessing.instantiate_strategy_transformer(\n",
    "        best_preprocessing_option[1], \n",
    "        best_preprocessing_option[0],\n",
    "        pipeline_data_preprocessor\n",
    "    )\n",
    "    scjpnpreprocessing.html_prettify_strategy_transformer_description(composite_transformer)\n",
    "    X_train_preprocessed = composite_transformer.fit_transform(X_train_preprocessed, y_train_encoded.status_group)\n",
    "    display(HTML(\"<p><br><br>\"))"
   ]
  },
  {
   "cell_type": "code",
   "execution_count": null,
   "metadata": {},
   "outputs": [],
   "source": [
    "scjpnutils.analyze_values(X_train_preprocessed, 'X_train AFTER preprocessing');"
   ]
  },
  {
   "cell_type": "markdown",
   "metadata": {},
   "source": [
    "## Save Transformed Training Data to CSV for Final Model Building\n",
    "\n",
    "### Save Configuration First"
   ]
  },
  {
   "cell_type": "code",
   "execution_count": null,
   "metadata": {},
   "outputs": [],
   "source": [
    "best_preprocessing_config = {}\n",
    "\n",
    "for best_preprocessing_option in best_options:\n",
    "    best_preprocessing_config.update({best_preprocessing_option[0]: best_preprocessing_option[1]})\n",
    "\n",
    "best_preprocessing_config"
   ]
  },
  {
   "cell_type": "markdown",
   "metadata": {},
   "source": [
    "## Test Best Preprocessing Options Transformations (using the `Pipeline`) on `X_validation`"
   ]
  },
  {
   "cell_type": "code",
   "execution_count": null,
   "metadata": {},
   "outputs": [],
   "source": [
    "scjpnutils.analyze_values(X_validation, 'X_validation BEFORE preprocessing');"
   ]
  },
  {
   "cell_type": "code",
   "execution_count": null,
   "metadata": {
    "tags": []
   },
   "outputs": [],
   "source": [
    "X_validation_preprocessed = pipeline_data_preprocessor.transform(X_validation)"
   ]
  },
  {
   "cell_type": "code",
   "execution_count": null,
   "metadata": {},
   "outputs": [],
   "source": [
    "scjpnutils.analyze_values(X_validation_preprocessed, 'X_validation AFTER preprocessing');"
   ]
  },
  {
   "cell_type": "markdown",
   "metadata": {},
   "source": [
    "## Test Best Preprocessing Options Transformations (using the `Pipeline`) on `X_unlabeled`"
   ]
  },
  {
   "cell_type": "code",
   "execution_count": null,
   "metadata": {},
   "outputs": [],
   "source": [
    "scjpnutils.analyze_values(X_unlabeled, 'X_unlabeled BEFORE preprocessing');"
   ]
  },
  {
   "cell_type": "code",
   "execution_count": null,
   "metadata": {},
   "outputs": [],
   "source": [
    "X_unlabeled_preprocessed = pipeline_data_preprocessor.transform(X_unlabeled)"
   ]
  },
  {
   "cell_type": "code",
   "execution_count": null,
   "metadata": {},
   "outputs": [],
   "source": [
    "scjpnutils.analyze_values(X_unlabeled_preprocessed, 'X_unlabeled AFTER preprocessing');"
   ]
  },
  {
   "cell_type": "markdown",
   "metadata": {},
   "source": [
    "## Save Best Preprocessing Options (as Preprocessing Spec) to File"
   ]
  },
  {
   "cell_type": "code",
   "execution_count": null,
   "metadata": {},
   "outputs": [],
   "source": [
    "# used at the end of this process\n",
    "if len(preprocessing_config['wrangled_data']['dir']) > 0:\n",
    "    WRANGLED_DATA_DIR = preprocessing_config['wrangled_data']['dir']\n",
    "    try:\n",
    "        os.makedirs(f\"{os.getcwd()}/{WRANGLED_DATA_DIR}\")\n",
    "    except FileExistsError:\n",
    "        pass\n",
    "    WRANGLED_DATA_DIR += \"/\"\n",
    "else:\n",
    "    WRANGLED_DATA_DIR = \"\"\n",
    "\n",
    "if len(preprocessing_config['labels']['dir']) > 0:\n",
    "    SAVE_LABELS_DIR = preprocessing_config['labels']['dir']\n",
    "    try:\n",
    "        os.makedirs(f\"{os.getcwd()}/{SAVE_LABELS_DIR}\")\n",
    "    except FileExistsError:\n",
    "        pass\n",
    "    SAVE_LABELS_DIR += \"/\"\n",
    "else:\n",
    "    SAVE_LABELS_DIR = \"\""
   ]
  },
  {
   "cell_type": "code",
   "execution_count": null,
   "metadata": {},
   "outputs": [],
   "source": [
    "fname__best_options_cfg, fname__last_preprocessing_spec = scjpnutils.get_preprocessing_options_fname(preprocessing_config, best_preprocessing_config)\n",
    "fname__best_options_cfg = WRANGLED_DATA_DIR + fname__best_options_cfg\n",
    "fname__last_preprocessing_spec = WRANGLED_DATA_DIR + fname__last_preprocessing_spec\n",
    "print(f\"best preprocessing options config will be saved to: {fname__best_options_cfg}\")\n",
    "print(f\"best preprocessing options config will be saved as last preprocessing spec to: {fname__last_preprocessing_spec}\")"
   ]
  },
  {
   "cell_type": "code",
   "execution_count": null,
   "metadata": {},
   "outputs": [],
   "source": [
    "fm.save_json(best_preprocessing_config, f\"{fname__best_options_cfg}\")\n",
    "print(f\"updated {fname__best_options_cfg}\")\n",
    "\n",
    "# also save canonical for model building\n",
    "fm.save_json(best_preprocessing_config, f\"{fname__last_preprocessing_spec}\")\n",
    "print(f\"updated {fname__last_preprocessing_spec}\")"
   ]
  },
  {
   "cell_type": "markdown",
   "metadata": {},
   "source": [
    "# Conclusion\n",
    "\n",
    "We're now ready to move on to the final model building stage."
   ]
  }
 ],
 "metadata": {
  "kernelspec": {
   "display_name": "Python 3.6.10 64-bit ('learn-env': conda)",
   "language": "python",
   "name": "python361064bitlearnenvconda6dc930ea082b425c82fd8a0b2d571658"
  },
  "language_info": {
   "codemirror_mode": {
    "name": "ipython",
    "version": 3
   },
   "file_extension": ".py",
   "mimetype": "text/x-python",
   "name": "python",
   "nbconvert_exporter": "python",
   "pygments_lexer": "ipython3",
   "version": "3.7.7-final"
  }
 },
 "nbformat": 4,
 "nbformat_minor": 4
}
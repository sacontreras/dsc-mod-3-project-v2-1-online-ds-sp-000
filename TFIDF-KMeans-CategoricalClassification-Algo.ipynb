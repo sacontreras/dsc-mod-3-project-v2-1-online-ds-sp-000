{
 "cells": [
  {
   "cell_type": "markdown",
   "metadata": {},
   "source": [
    "# High Cardinality Text-based Categorical Variable Classification"
   ]
  },
  {
   "cell_type": "markdown",
   "metadata": {},
   "source": [
    "# Introduction\n",
    "\n",
    "This notebook was written to research a viable method to deal with text-based categorical features with high cardinality - e.g. from our test/train split, <b>installer</b> has 2146 unique categories in the training data set.  For tree-based models, this rules out the use of One-Hot Encoding, since doing so on will render not only GridSearch intractible, but also relegates building the model itself to a very long time.  Additionally, it has been show that better models can be built using, for example, Label or Target/Mean Encoding.\n",
    "\n",
    "So, we accept this as a base premise - that we will use techniques that capture the basic idea behind Label Encoding.  Our ultimate goal is to boost predictive accuracy - i.e. to build the best model - as possible.\n",
    "\n",
    "Having said that, in line with this goal, inspecting the space of categories in, for example, <b>installer</b> shows that there are many categories that appear to duplicate one another that may only differ by whitespace, case (upper/lower), misspellings, and even word-omission.  Thus, these so-called \"unique\" categories are not truly unique since their \"meaning\" has been duplicated but represented in slightly different values.  This is rather easy for a human being to detect.  But out of the box, without additional processing, each category taken as is will be considered unique unto itself.  Finally, by implementing some Natural Language analysis and techniques, we can deal with such errors in order to correct for a better predictive accuracy.\n",
    "\n",
    "The specific techniques we explore in developing such a preprocessing procedure are <code>TF-IDF</code> combined with <code>KMeans</code> Clustering.\n",
    "\n",
    "In developing an \"algorithm\" for this sort of preprocessing, we will use the <b>installer</b> categorical variable from our training data set but the intent is to develop a procedure that can be applied to any categorical variable meeting the criteria above.\n",
    "\n",
    "<p><br>\n",
    "<h1>Plan of Attack: Use TF-IDF to reduce similar <i>installer</i> categories to their truly unique representation</h1>\n",
    "\n",
    "This must be done since there are MANY categories in, for example, <b>installer</b> AND there may be many categories that differ by:\n",
    "<ol>\n",
    "    <li>case (upper-lower)</li>\n",
    "    <li>whitespace</li>\n",
    "    <li>spelling errors</li>\n",
    "    <li>word ommission</li>\n",
    "</ol>\n",
    "\n",
    "<h3>High-level Overview of <i>The Plan</i></h3>\n",
    "<ol>\n",
    "    <li>Use TF-IDF to vectorize corpus of DIRTY <b>installer</b> categories\n",
    "        <ol>\n",
    "            <li>create CORPUS of DIRTY <b>installer</b>s</li>\n",
    "            <li>TF-IDF will first preprocess corpus by, for each <b>installer</b>:\n",
    "                <ol>\n",
    "                    <li>Tokenizing all words</li>\n",
    "                    <li>convert words to lowercase</li>\n",
    "                    <li>filter (remove) stop words e.g. \"the\", \"and\", \"a\", etc.</li>\n",
    "                    <li>filter (remove) single-letter words</li>\n",
    "                </ol>\n",
    "            </li>\n",
    "            <li>TF-IDF fits and creates a <b>vocabulary</b> after the above preprocessing, where:\n",
    "                <ol>\n",
    "                    <li>each \"document\" (<b>installer</b>) consists of a <b>vector</b></li>\n",
    "                    <li>in each of these vectors, a component of the vector corresponds to a word in the <b>vocabulary</b> - thus, all vectors have the same number of dimensions, corresponding to the size of the <b>vocabulary</b>\n",
    "                    <li>the value of each component is the <b>Inverse Document Frequency</b> of the corresponding word (should it occur in the document (<b>installer</b>))</li>\n",
    "                </ol>\n",
    "            </li>\n",
    "        </ol>              \n",
    "    </li>\n",
    "    <li>Use <code>KMeans</code> to create clusters of size <code>n_target_cluster_size</code> (hyper-parameter) from the space of TF-IDF vectors created from the <b>corpus</b></li>\n",
    "    <li>Use the <code>centroid</code> (a TF-IDF vector) of each of the <code>K-Means</code> clusters as the \"master\" for that category of <b>installer</b></li>\n",
    "    <li>Replace all category values in a cluster with the corresponding \"master\"</li>\n",
    "</ol>"
   ]
  },
  {
   "cell_type": "code",
   "execution_count": 38,
   "metadata": {},
   "outputs": [
    {
     "output_type": "stream",
     "name": "stdout",
     "text": "The autoreload extension is already loaded. To reload it, use:\n  %reload_ext autoreload\n"
    }
   ],
   "source": [
    "import pandas as pd\n",
    "from scjpnlib.utils.file_io import FileManager\n",
    "from IPython.core.display import HTML, Markdown\n",
    "import scjpnlib.utils as scjpnutils\n",
    "import numpy as np\n",
    "import matplotlib.pyplot as plt\n",
    "from scjpnlib.utils.skl_transformers import SimpleValueTransformer\n",
    "\n",
    "from sklearn.feature_extraction.text import TfidfVectorizer\n",
    "from scipy.stats import entropy\n",
    "import math\n",
    "from sklearn.cluster import KMeans\n",
    "from scjpnlib.utils import submodels as scjpnsubmodels\n",
    "\n",
    "\n",
    "%load_ext autoreload\n",
    "%autoreload 2\n",
    "\n",
    "pd.set_option('display.max_rows', 50)\n",
    "pd.set_option('display.min_rows', 50)"
   ]
  },
  {
   "cell_type": "markdown",
   "metadata": {},
   "source": [
    "# Implementation\n",
    "\n",
    "## Read Config for this Experiment\n",
    "\n",
    "The following reads properties from the `experiment-config.txt` file as JSON.  (see the `experiment-config.txt` file for documentation on different experiment configs)"
   ]
  },
  {
   "cell_type": "code",
   "execution_count": 2,
   "metadata": {},
   "outputs": [
    {
     "output_type": "execute_result",
     "data": {
      "text/plain": "{'official_data': {'unlabeled_predictors': {'url': 'https://s3.amazonaws.com/drivendata-prod/data/7/public/702ddfc5-68cd-4d1d-a0de-f5f566f76d91.csv',\n   'local_fname': 'Taarifa-Unlabeled-Predictors.csv'},\n  'labeled_predictors': {'url': 'https://s3.amazonaws.com/drivendata-prod/data/7/public/4910797b-ee55-40a7-8668-10efd5c1b960.csv',\n   'local_fname': 'Taarifa-Labeled-Predictors.csv'},\n  'labels': {'url': 'https://s3.amazonaws.com/drivendata-prod/data/7/public/0bf8bc6e-30d0-4c50-956a-603fc693d966.csv',\n   'local_fname': 'Taarifa-Labels.csv'}},\n 'eda_desc': {'short': '0.10 test_ratio, flat insig cat hat handling with threshold 10; location based on ward'},\n 'test_ratio': 0.1,\n 'SEED': 42,\n 'insig_cat_handling': {'installer': {'strategy': 'flat',\n   'threshold': 10,\n   'map_to': 'other'},\n  'scheme_name': {'strategy': 'flat', 'threshold': 10, 'map_to': 'other'},\n  'ward': {'strategy': 'flat', 'threshold': 10, 'map_to': 'other'}},\n 'wrangled_data': {'fname_ext': 'csv',\n  'train': {'fname_prefix': 'wrangled-labeled-data-train'},\n  'test': {'fname_prefix': 'wrangled-labeled-data-test'},\n  'unlabeled': {'fname_prefix': 'wrangled-unlabeled-data'}},\n 'labels': {'fname_ext': 'csv',\n  'train': {'fname_prefix': 'labels-train'},\n  'test': {'fname_prefix': 'labels-test'}}}"
     },
     "metadata": {},
     "execution_count": 2
    }
   ],
   "source": [
    "fm = FileManager()\n",
    "eda_config = fm.load_json('eda-config.txt')\n",
    "eda_config"
   ]
  },
  {
   "cell_type": "code",
   "execution_count": 3,
   "metadata": {},
   "outputs": [
    {
     "output_type": "display_data",
     "data": {
      "text/plain": "<IPython.core.display.HTML object>",
      "text/html": "<b>NOTE: <i>for the above experiement configuration, wrangled and partitioned label files will be identified (filename suffix) by: hash digest: db63dd93529739a8ff24e61570c22f0a</i></b>"
     },
     "metadata": {}
    }
   ],
   "source": [
    "display(HTML(f\"<b>NOTE: <i>for the above experiement configuration, wrangled and partitioned label files will be identified (filename suffix) by: hash digest: {scjpnutils.json_to_md5_hash_digest(eda_config)}</i></b>\"))"
   ]
  },
  {
   "cell_type": "code",
   "execution_count": 4,
   "metadata": {},
   "outputs": [
    {
     "output_type": "display_data",
     "data": {
      "text/plain": "<IPython.core.display.HTML object>",
      "text/html": "Required download-file Taarifa-Unlabeled-Predictors.csv exists locally."
     },
     "metadata": {}
    },
    {
     "output_type": "display_data",
     "data": {
      "text/plain": "<IPython.core.display.HTML object>",
      "text/html": "Required download-file Taarifa-Labeled-Predictors.csv exists locally."
     },
     "metadata": {}
    },
    {
     "output_type": "display_data",
     "data": {
      "text/plain": "<IPython.core.display.HTML object>",
      "text/html": "Required download-file Taarifa-Labels.csv exists locally."
     },
     "metadata": {}
    }
   ],
   "source": [
    "fname_unlabeled_predictors = eda_config['official_data']['unlabeled_predictors']['local_fname']\n",
    "fname_labeled_predictors = eda_config['official_data']['labeled_predictors']['local_fname']\n",
    "fname_labels = eda_config['official_data']['labels']['local_fname']\n",
    "\n",
    "ds_map = {\n",
    "    fname_unlabeled_predictors: eda_config['official_data']['unlabeled_predictors']['url'], \n",
    "    fname_labeled_predictors: eda_config['official_data']['unlabeled_predictors']['url'],\n",
    "    fname_labels: eda_config['official_data']['unlabeled_predictors']['url']\n",
    "}\n",
    "\n",
    "fm.validate_download(ds_map)"
   ]
  },
  {
   "cell_type": "code",
   "execution_count": 5,
   "metadata": {},
   "outputs": [],
   "source": [
    "SEED = eda_config['SEED'] # for random_state reproducability"
   ]
  },
  {
   "cell_type": "code",
   "execution_count": 6,
   "metadata": {},
   "outputs": [
    {
     "output_type": "stream",
     "name": "stdout",
     "text": "<class 'pandas.core.frame.DataFrame'>\nRangeIndex: 59400 entries, 0 to 59399\nData columns (total 2 columns):\n #   Column        Non-Null Count  Dtype \n---  ------        --------------  ----- \n 0   id            59400 non-null  int64 \n 1   status_group  59400 non-null  object\ndtypes: int64(1), object(1)\nmemory usage: 928.2+ KB\n"
    }
   ],
   "source": [
    "labels = pd.read_csv(fname_labels)\n",
    "labels.info()"
   ]
  },
  {
   "cell_type": "code",
   "execution_count": 7,
   "metadata": {},
   "outputs": [],
   "source": [
    "classes = labels.status_group.unique()"
   ]
  },
  {
   "cell_type": "code",
   "execution_count": 8,
   "metadata": {},
   "outputs": [
    {
     "output_type": "stream",
     "name": "stdout",
     "text": "<class 'pandas.core.frame.DataFrame'>\nRangeIndex: 59400 entries, 0 to 59399\nData columns (total 40 columns):\n #   Column                 Non-Null Count  Dtype  \n---  ------                 --------------  -----  \n 0   id                     59400 non-null  int64  \n 1   amount_tsh             59400 non-null  float64\n 2   date_recorded          59400 non-null  object \n 3   funder                 55765 non-null  object \n 4   gps_height             59400 non-null  int64  \n 5   installer              55745 non-null  object \n 6   longitude              59400 non-null  float64\n 7   latitude               59400 non-null  float64\n 8   wpt_name               59400 non-null  object \n 9   num_private            59400 non-null  int64  \n 10  basin                  59400 non-null  object \n 11  subvillage             59029 non-null  object \n 12  region                 59400 non-null  object \n 13  region_code            59400 non-null  int64  \n 14  district_code          59400 non-null  int64  \n 15  lga                    59400 non-null  object \n 16  ward                   59400 non-null  object \n 17  population             59400 non-null  int64  \n 18  public_meeting         56066 non-null  object \n 19  recorded_by            59400 non-null  object \n 20  scheme_management      55523 non-null  object \n 21  scheme_name            31234 non-null  object \n 22  permit                 56344 non-null  object \n 23  construction_year      59400 non-null  int64  \n 24  extraction_type        59400 non-null  object \n 25  extraction_type_group  59400 non-null  object \n 26  extraction_type_class  59400 non-null  object \n 27  management             59400 non-null  object \n 28  management_group       59400 non-null  object \n 29  payment                59400 non-null  object \n 30  payment_type           59400 non-null  object \n 31  water_quality          59400 non-null  object \n 32  quality_group          59400 non-null  object \n 33  quantity               59400 non-null  object \n 34  quantity_group         59400 non-null  object \n 35  source                 59400 non-null  object \n 36  source_type            59400 non-null  object \n 37  source_class           59400 non-null  object \n 38  waterpoint_type        59400 non-null  object \n 39  waterpoint_type_group  59400 non-null  object \ndtypes: float64(3), int64(7), object(30)\nmemory usage: 18.1+ MB\n"
    }
   ],
   "source": [
    "X_unlabeled = pd.read_csv(fname_unlabeled_predictors)\n",
    "\n",
    "X_labeled = pd.read_csv(fname_labeled_predictors)\n",
    "X_labeled.info()"
   ]
  },
  {
   "cell_type": "markdown",
   "metadata": {},
   "source": [
    "<p><br>\n",
    "<h1><i>installer</i> Classification</h1>"
   ]
  },
  {
   "cell_type": "code",
   "execution_count": 9,
   "metadata": {
    "scrolled": false
   },
   "outputs": [
    {
     "output_type": "display_data",
     "data": {
      "text/plain": "<IPython.core.display.HTML object>",
      "text/html": "<h3>X_labeled <i>installer</i> Feature-Value Analysis (out of 59400 total observations)</h3>"
     },
     "metadata": {}
    },
    {
     "output_type": "display_data",
     "data": {
      "text/plain": "<IPython.core.display.HTML object>",
      "text/html": "<div>\n<style scoped>\n    .dataframe tbody tr th:only-of-type {\n        vertical-align: middle;\n    }\n\n    .dataframe tbody tr th {\n        vertical-align: top;\n    }\n\n    .dataframe thead th {\n        text-align: right;\n    }\n</style>\n<table border=\"1\" class=\"dataframe\">\n  <thead>\n    <tr style=\"text-align: left;\">\n      <th></th>\n      <th>feature</th>\n      <th>dtype</th>\n      <th>n_unique</th>\n      <th>unique_vals</th>\n      <th>n_unique_ratio</th>\n      <th>p_cat</th>\n      <th>n_null</th>\n      <th>n_null_ratio</th>\n      <th>null_index</th>\n    </tr>\n  </thead>\n  <tbody>\n    <tr>\n      <th>0</th>\n      <td>installer</td>\n      <td>object</td>\n      <td>2146</td>\n      <td>[Roman, GRUMETI, World vision, UNICEF, Artisan...</td>\n      <td>0.036128</td>\n      <td>96.39</td>\n      <td>3655</td>\n      <td>0.061532</td>\n      <td>Int64Index([   34,    43,    47,    65,    71,...</td>\n    </tr>\n  </tbody>\n</table>\n</div>"
     },
     "metadata": {}
    }
   ],
   "source": [
    "scjpnutils.analyze_values(X_labeled[['installer']], 'X_labeled <i>installer</i>');"
   ]
  },
  {
   "cell_type": "markdown",
   "metadata": {},
   "source": []
  },
  {
   "cell_type": "markdown",
   "metadata": {},
   "source": [
    "<h2>First replace null/missing values</h2>\n",
    "None of this can be done until we first execute this."
   ]
  },
  {
   "cell_type": "code",
   "execution_count": 10,
   "metadata": {},
   "outputs": [],
   "source": [
    "replace_null_rules = {}\n",
    "replace_null_rules['installer'] = [\n",
    "    {\n",
    "        'missing_values': np.nan,\n",
    "        'strategy': 'constant', \n",
    "        'fill_value': 'None'\n",
    "    }\n",
    "]\n",
    "svt_null_predictors = SimpleValueTransformer(replace_null_rules)\n",
    "X_labeled_installer_clean = svt_null_predictors.fit_transform(X_labeled)[['installer']].copy()"
   ]
  },
  {
   "cell_type": "markdown",
   "metadata": {},
   "source": [
    "<p><br>\n",
    "<h2>Create <i>installer</i> corpus and fit it with <code>TF-IDF</code></h2>"
   ]
  },
  {
   "cell_type": "markdown",
   "metadata": {},
   "source": [
    "<h3>Pre-processing Semantics: convert to lower-case, tokenize, remove stop-words, etc.</h3>"
   ]
  },
  {
   "cell_type": "code",
   "execution_count": 11,
   "metadata": {},
   "outputs": [
    {
     "output_type": "display_data",
     "data": {
      "text/plain": "<IPython.core.display.HTML object>",
      "text/html": "<code class='python'><pre>def preprocess__lcase_strip(doc):\n    preprocessed_doc = doc.lower()\n    preprocessed_doc = re.sub(r\"[^a-z]\", \" \", preprocessed_doc)\n    preprocessed_doc = preprocessed_doc.replace(r\"\\s+\", \" \")\n    return preprocessed_doc\n</pre></code>"
     },
     "metadata": {}
    },
    {
     "output_type": "display_data",
     "data": {
      "text/plain": "<IPython.core.display.HTML object>",
      "text/html": "<code class='python'><pre>def preprocess__tokenize(doc):\n    return nltk.word_tokenize(doc)\n</pre></code>"
     },
     "metadata": {}
    },
    {
     "output_type": "display_data",
     "data": {
      "text/plain": "<IPython.core.display.HTML object>",
      "text/html": "<code class='python'><pre>def get_stopwords():\n    english_stopwords = stopwords.words('english') # comment out to not filter stop words\n    if 'not' in english_stopwords:\n        english_stopwords.remove('not')\n    return english_stopwords\n</pre></code>"
     },
     "metadata": {}
    },
    {
     "output_type": "display_data",
     "data": {
      "text/plain": "<IPython.core.display.HTML object>",
      "text/html": "<code class='python'><pre>def preprocess__filter_stopwords(doc, is_list=False):\n    tokenized_doc = preprocess__tokenize(doc) if not is_list else doc\n    tokenized_doc = [word for word in tokenized_doc if word not in english_stopwords]\n    return tokenized_doc, ' '.join(tokenized_doc)\n</pre></code>"
     },
     "metadata": {}
    },
    {
     "output_type": "display_data",
     "data": {
      "text/plain": "<IPython.core.display.HTML object>",
      "text/html": "<code class='python'><pre>def preprocess_all(doc):\n    preprocessed_doc = preprocess__lcase_strip(doc)\n    tokenized_doc = preprocess__tokenize(preprocessed_doc)\n    return preprocess__filter_stopwords(tokenized_doc, is_list=True)[1]\n</pre></code>"
     },
     "metadata": {}
    }
   ],
   "source": [
    "scjpnutils.display_sourcecode(scjpnsubmodels.preprocess__lcase_strip)\n",
    "scjpnutils.display_sourcecode(scjpnsubmodels.preprocess__tokenize)\n",
    "scjpnutils.display_sourcecode(scjpnsubmodels.get_stopwords)\n",
    "scjpnutils.display_sourcecode(scjpnsubmodels.preprocess__filter_stopwords)\n",
    "scjpnutils.display_sourcecode(scjpnsubmodels.preprocess_all)"
   ]
  },
  {
   "cell_type": "markdown",
   "metadata": {},
   "source": [
    "<h3>Fit <code>TF-IDF</code> to the corpus</h3>"
   ]
  },
  {
   "cell_type": "code",
   "execution_count": 12,
   "metadata": {},
   "outputs": [
    {
     "output_type": "stream",
     "name": "stdout",
     "text": "there are 1883 words in the vocabulary after fitting corpus to TF-IDF model\n"
    }
   ],
   "source": [
    "# note that we use the raw (un-preprocessed) feature since we pass in the preprocessor (preprocess_all) to the TfidfVectorizer\n",
    "corpus = list(X_labeled_installer_clean.installer.unique())\n",
    "\n",
    "tfidf_vectorizer = TfidfVectorizer(preprocessor=scjpnsubmodels.preprocess_all)\n",
    "tfidf = tfidf_vectorizer.fit_transform(corpus)\n",
    "\n",
    "print(f\"there are {len(tfidf_vectorizer.vocabulary_)} words in the vocabulary after fitting corpus to TF-IDF model\")"
   ]
  },
  {
   "cell_type": "markdown",
   "metadata": {},
   "source": [
    "<h3>Utility Functions used to Manipulate the TF-IDF model - e.g. to fit a document (<i>installer</i>) instance</h3>\n",
    "\n",
    "We will use these to relate DIRTY categories to their pre-processed (cleaned) counterparts within the <code>TF-IDF</code> model"
   ]
  },
  {
   "cell_type": "code",
   "execution_count": 13,
   "metadata": {},
   "outputs": [
    {
     "output_type": "display_data",
     "data": {
      "text/plain": "<IPython.core.display.HTML object>",
      "text/html": "<code class='python'><pre>def tfidf_vocab_to_idx_map(tfidf_vocab):\n    idx_map = {}\n    for term, feat_idx in tfidf_vocab.items():\n        if feat_idx in idx_map:\n            current_mapping = idx_map[feat_idx]\n            print(f\"***WARNING!!!*** feature index {feat_idx} is currently mapped to term '{current_mapping}' but will be replace with {term}\")\n        idx_map[feat_idx] = term\n    return idx_map\n</pre></code>"
     },
     "metadata": {}
    },
    {
     "output_type": "display_data",
     "data": {
      "text/plain": "<IPython.core.display.HTML object>",
      "text/html": "<code class='python'><pre>def tfidf_vec_to_doc(tfidf_vec, idx_term_map, suppress_output=True):\n    idf_doc = []\n    for vocab_word_index, idf in enumerate(tfidf_vec):\n        if idf > 0:\n            word = idx_term_map[vocab_word_index]\n            if not suppress_output:\n                print(f\"\\tidf of '{word}': {idf}\")\n            idf_doc.append((word, idf))\n    return ' '.join([word_idf[0] for word_idf in idf_doc]), idf_doc\n</pre></code>"
     },
     "metadata": {}
    },
    {
     "output_type": "display_data",
     "data": {
      "text/plain": "<IPython.core.display.HTML object>",
      "text/html": "<code class='python'><pre>def doc_to_tfidf_fit(doc, tfidf_vectorizer, idx_term_map=None, suppress_output=True):\n    if idx_term_map is None:\n        idx_term_map = tfidf_vocab_to_idx_map(tfidf_vectorizer.vocabulary_)\n    tfidf_vector = tfidf_vectorizer.transform([doc]).toarray()[0]\n    if not suppress_output:\n        print(f\"fitted doc '{doc}' has idf vector: {tfidf_vector}\")\n    fitted_doc = tfidf_vec_to_doc(tfidf_vector, idx_term_map, suppress_output)\n    return fitted_doc, tfidf_vector\n</pre></code>"
     },
     "metadata": {}
    }
   ],
   "source": [
    "scjpnutils.display_sourcecode(scjpnsubmodels.tfidf_vocab_to_idx_map)\n",
    "scjpnutils.display_sourcecode(scjpnsubmodels.tfidf_vec_to_doc)\n",
    "scjpnutils.display_sourcecode(scjpnsubmodels.doc_to_tfidf_fit)"
   ]
  },
  {
   "cell_type": "markdown",
   "metadata": {},
   "source": [
    "<h3>Usage Example</h3>\n",
    "\n",
    "In order to demonstrate their usage, let's first conduct a search of some <b>installer</b> categories that are not <i>alphanumeric</i>.  Note that, by definition, this subset will implicitly include those categories of <b>installer</b> with whitespace.\n",
    "\n",
    "<h4>\"Helper\" code to set up example - observing the \"evolution\"</h4>\n",
    "\n",
    "We will first add some columns to show the evolution of a category from DIRTY to CLEAN (after fitting the corpus the TF-IDF model)."
   ]
  },
  {
   "cell_type": "code",
   "execution_count": 14,
   "metadata": {},
   "outputs": [],
   "source": [
    "# add the result of the first step of preprocessing: coverting to lower-case\n",
    "X_labeled_installer_clean['installer_stripped_lcase'] = X_labeled_installer_clean.installer.apply(scjpnsubmodels.preprocess__lcase_strip)\n",
    "\n",
    "# add the result of the next step of preprocessing: tokenization\n",
    "X_labeled_installer_clean['installer_word_tokenized'] = X_labeled_installer_clean.installer_stripped_lcase.apply(scjpnsubmodels.preprocess__tokenize)\n",
    "\n",
    "# add the result of the next step of preprocessing: remove stop-words\n",
    "X_labeled_installer_clean['installer_word_tokenized_no_stopwords'] = X_labeled_installer_clean.installer_word_tokenized.apply(\n",
    "    lambda installer_tokenized: scjpnsubmodels.preprocess__filter_stopwords(installer_tokenized, is_list=True)[0]\n",
    ")\n",
    "\n",
    "# do this beforehand to avoid recomputing it every time, should we pass in more than one document (installer)... which we do below\n",
    "idx_term_map = scjpnsubmodels.tfidf_vocab_to_idx_map(tfidf_vectorizer.vocabulary_)\n",
    "\n",
    "X_labeled_installer_clean['installer_after_tfidf'] = X_labeled_installer_clean.installer.apply(\n",
    "    lambda installer: scjpnsubmodels.doc_to_tfidf_fit(installer, tfidf_vectorizer, idx_term_map)[0][0]\n",
    ")"
   ]
  },
  {
   "cell_type": "markdown",
   "metadata": {},
   "source": [
    "<h5>Let's have a look at the first few observations with these added columns</h5>"
   ]
  },
  {
   "cell_type": "code",
   "execution_count": 15,
   "metadata": {},
   "outputs": [
    {
     "output_type": "execute_result",
     "data": {
      "text/plain": "      installer installer_stripped_lcase installer_word_tokenized  \\\n0         Roman                    roman                  [roman]   \n1       GRUMETI                  grumeti                [grumeti]   \n2  World vision             world vision          [world, vision]   \n3        UNICEF                   unicef                 [unicef]   \n4       Artisan                  artisan                [artisan]   \n5           DWE                      dwe                    [dwe]   \n6          DWSP                     dwsp                   [dwsp]   \n7           DWE                      dwe                    [dwe]   \n8     Water Aid                water aid             [water, aid]   \n9       Artisan                  artisan                [artisan]   \n\n  installer_word_tokenized_no_stopwords installer_after_tfidf  \n0                               [roman]                 roman  \n1                             [grumeti]               grumeti  \n2                       [world, vision]          vision world  \n3                              [unicef]                unicef  \n4                             [artisan]               artisan  \n5                                 [dwe]                   dwe  \n6                                [dwsp]                  dwsp  \n7                                 [dwe]                   dwe  \n8                          [water, aid]             aid water  \n9                             [artisan]               artisan  ",
      "text/html": "<div>\n<style scoped>\n    .dataframe tbody tr th:only-of-type {\n        vertical-align: middle;\n    }\n\n    .dataframe tbody tr th {\n        vertical-align: top;\n    }\n\n    .dataframe thead th {\n        text-align: right;\n    }\n</style>\n<table border=\"1\" class=\"dataframe\">\n  <thead>\n    <tr style=\"text-align: right;\">\n      <th></th>\n      <th>installer</th>\n      <th>installer_stripped_lcase</th>\n      <th>installer_word_tokenized</th>\n      <th>installer_word_tokenized_no_stopwords</th>\n      <th>installer_after_tfidf</th>\n    </tr>\n  </thead>\n  <tbody>\n    <tr>\n      <th>0</th>\n      <td>Roman</td>\n      <td>roman</td>\n      <td>[roman]</td>\n      <td>[roman]</td>\n      <td>roman</td>\n    </tr>\n    <tr>\n      <th>1</th>\n      <td>GRUMETI</td>\n      <td>grumeti</td>\n      <td>[grumeti]</td>\n      <td>[grumeti]</td>\n      <td>grumeti</td>\n    </tr>\n    <tr>\n      <th>2</th>\n      <td>World vision</td>\n      <td>world vision</td>\n      <td>[world, vision]</td>\n      <td>[world, vision]</td>\n      <td>vision world</td>\n    </tr>\n    <tr>\n      <th>3</th>\n      <td>UNICEF</td>\n      <td>unicef</td>\n      <td>[unicef]</td>\n      <td>[unicef]</td>\n      <td>unicef</td>\n    </tr>\n    <tr>\n      <th>4</th>\n      <td>Artisan</td>\n      <td>artisan</td>\n      <td>[artisan]</td>\n      <td>[artisan]</td>\n      <td>artisan</td>\n    </tr>\n    <tr>\n      <th>5</th>\n      <td>DWE</td>\n      <td>dwe</td>\n      <td>[dwe]</td>\n      <td>[dwe]</td>\n      <td>dwe</td>\n    </tr>\n    <tr>\n      <th>6</th>\n      <td>DWSP</td>\n      <td>dwsp</td>\n      <td>[dwsp]</td>\n      <td>[dwsp]</td>\n      <td>dwsp</td>\n    </tr>\n    <tr>\n      <th>7</th>\n      <td>DWE</td>\n      <td>dwe</td>\n      <td>[dwe]</td>\n      <td>[dwe]</td>\n      <td>dwe</td>\n    </tr>\n    <tr>\n      <th>8</th>\n      <td>Water Aid</td>\n      <td>water aid</td>\n      <td>[water, aid]</td>\n      <td>[water, aid]</td>\n      <td>aid water</td>\n    </tr>\n    <tr>\n      <th>9</th>\n      <td>Artisan</td>\n      <td>artisan</td>\n      <td>[artisan]</td>\n      <td>[artisan]</td>\n      <td>artisan</td>\n    </tr>\n  </tbody>\n</table>\n</div>"
     },
     "metadata": {},
     "execution_count": 15
    }
   ],
   "source": [
    "X_labeled_installer_clean.head(10)"
   ]
  },
  {
   "cell_type": "markdown",
   "metadata": {},
   "source": [
    "The above is not very interesting since we can't see the transformation of particularly dirty categories in this subset.  In order to do so, we will subset to non-alphanumeric dirty categories of <b>installer</b>.\n",
    "\n",
    "One thing to note is that the order of the words in the <code>installer_after_tfidf</code> feature has changed!  This is due to the <b>Inverse Document Frequency</b> result applied by the <code>TF-IDF</code> model: <i>the words in the mapped (cleaned) document are ordered by \"<u>importance</u>\"</i> - e.g. the (dirty) \"Water Aid\" category maps to cleaned (by <code>TF-IDF</code>) category \"aid water\" since, apparently, the word \"aid\" is more important than \"water\" in the <code>TF-IDF</code> model.\n",
    "\n",
    "Let's now look at more interesting results by finding dirty <b>installer</b>s with non-alphanumeric categories and then inspect their corresponding mappings in the <code>TF-IDF</code> model."
   ]
  },
  {
   "cell_type": "code",
   "execution_count": 16,
   "metadata": {},
   "outputs": [
    {
     "output_type": "display_data",
     "data": {
      "text/plain": "<IPython.core.display.HTML object>",
      "text/html": "<h3>X_labeled DataFrame Non-Alphanumeric-String Value Analysis (out of 59400 total observations)</h3>"
     },
     "metadata": {}
    },
    {
     "output_type": "display_data",
     "data": {
      "text/plain": "<IPython.core.display.HTML object>",
      "text/html": "<div>\n<style scoped>\n    .dataframe tbody tr th:only-of-type {\n        vertical-align: middle;\n    }\n\n    .dataframe tbody tr th {\n        vertical-align: top;\n    }\n\n    .dataframe thead th {\n        text-align: right;\n    }\n</style>\n<table border=\"1\" class=\"dataframe\">\n  <thead>\n    <tr style=\"text-align: right;\">\n      <th></th>\n      <th>feature</th>\n      <th>n_unique</th>\n      <th>n_non_alphanumeric_str</th>\n      <th>non_alphanumeric_str_index</th>\n    </tr>\n  </thead>\n  <tbody>\n    <tr>\n      <th>0</th>\n      <td>installer</td>\n      <td>2146</td>\n      <td>9584</td>\n      <td>Int64Index([    2,     8,    12,    13,    26,...</td>\n    </tr>\n  </tbody>\n</table>\n</div>"
     },
     "metadata": {}
    },
    {
     "output_type": "display_data",
     "data": {
      "text/plain": "<IPython.core.display.HTML object>",
      "text/html": "<p><br>"
     },
     "metadata": {}
    },
    {
     "output_type": "display_data",
     "data": {
      "text/plain": "<IPython.core.display.HTML object>",
      "text/html": "in X_labeled, string-type feature <b>installer</b> has, occurring in 9584 observations, 1036 unique non-alphanumeric values:"
     },
     "metadata": {}
    },
    {
     "output_type": "display_data",
     "data": {
      "text/plain": "<IPython.core.display.HTML object>",
      "text/html": "&nbsp;&nbsp;&nbsp;&nbsp;'-'"
     },
     "metadata": {}
    },
    {
     "output_type": "display_data",
     "data": {
      "text/plain": "<IPython.core.display.HTML object>",
      "text/html": "&nbsp;&nbsp;&nbsp;&nbsp;'A.D.B'"
     },
     "metadata": {}
    },
    {
     "output_type": "display_data",
     "data": {
      "text/plain": "<IPython.core.display.HTML object>",
      "text/html": "&nbsp;&nbsp;&nbsp;&nbsp;'ACT MARA'"
     },
     "metadata": {}
    },
    {
     "output_type": "display_data",
     "data": {
      "text/plain": "<IPython.core.display.HTML object>",
      "text/html": "&nbsp;&nbsp;&nbsp;&nbsp;'ACTION AID'"
     },
     "metadata": {}
    },
    {
     "output_type": "display_data",
     "data": {
      "text/plain": "<IPython.core.display.HTML object>",
      "text/html": "&nbsp;&nbsp;&nbsp;&nbsp;'ACTIVE TANK CO'"
     },
     "metadata": {}
    },
    {
     "output_type": "display_data",
     "data": {
      "text/plain": "<IPython.core.display.HTML object>",
      "text/html": "&nbsp;&nbsp;&nbsp;&nbsp;'ACTIVE TANK CO LTD'"
     },
     "metadata": {}
    },
    {
     "output_type": "display_data",
     "data": {
      "text/plain": "<IPython.core.display.HTML object>",
      "text/html": "&nbsp;&nbsp;&nbsp;&nbsp;'ADP Busangi'"
     },
     "metadata": {}
    },
    {
     "output_type": "display_data",
     "data": {
      "text/plain": "<IPython.core.display.HTML object>",
      "text/html": "&nbsp;&nbsp;&nbsp;&nbsp;'ADRA /Government'"
     },
     "metadata": {}
    },
    {
     "output_type": "display_data",
     "data": {
      "text/plain": "<IPython.core.display.HTML object>",
      "text/html": "&nbsp;&nbsp;&nbsp;&nbsp;'ADRA/Government'"
     },
     "metadata": {}
    },
    {
     "output_type": "display_data",
     "data": {
      "text/plain": "<IPython.core.display.HTML object>",
      "text/html": "&nbsp;&nbsp;&nbsp;&nbsp;'AFRICA MUSLIM'"
     },
     "metadata": {}
    },
    {
     "output_type": "display_data",
     "data": {
      "text/plain": "<IPython.core.display.HTML object>",
      "text/html": "&nbsp;&nbsp;&nbsp;&nbsp;'AFRICAN DEVELOPMENT FOUNDATION'"
     },
     "metadata": {}
    },
    {
     "output_type": "display_data",
     "data": {
      "text/plain": "<IPython.core.display.HTML object>",
      "text/html": "&nbsp;&nbsp;&nbsp;&nbsp;'AFRICAN REFLECTIONS FOUNDATION'"
     },
     "metadata": {}
    },
    {
     "output_type": "display_data",
     "data": {
      "text/plain": "<IPython.core.display.HTML object>",
      "text/html": "&nbsp;&nbsp;&nbsp;&nbsp;'AIC KI'"
     },
     "metadata": {}
    },
    {
     "output_type": "display_data",
     "data": {
      "text/plain": "<IPython.core.display.HTML object>",
      "text/html": "&nbsp;&nbsp;&nbsp;&nbsp;'AMP Contract'"
     },
     "metadata": {}
    },
    {
     "output_type": "display_data",
     "data": {
      "text/plain": "<IPython.core.display.HTML object>",
      "text/html": "&nbsp;&nbsp;&nbsp;&nbsp;'AMP Contracts'"
     },
     "metadata": {}
    },
    {
     "output_type": "display_data",
     "data": {
      "text/plain": "<IPython.core.display.HTML object>",
      "text/html": "&nbsp;&nbsp;&nbsp;&nbsp;'AMP contractor'"
     },
     "metadata": {}
    },
    {
     "output_type": "display_data",
     "data": {
      "text/plain": "<IPython.core.display.HTML object>",
      "text/html": "&nbsp;&nbsp;&nbsp;&nbsp;'ANGLIKANA CHURCH'"
     },
     "metadata": {}
    },
    {
     "output_type": "display_data",
     "data": {
      "text/plain": "<IPython.core.display.HTML object>",
      "text/html": "&nbsp;&nbsp;&nbsp;&nbsp;'AQUA BLUES ANGELS'"
     },
     "metadata": {}
    },
    {
     "output_type": "display_data",
     "data": {
      "text/plain": "<IPython.core.display.HTML object>",
      "text/html": "&nbsp;&nbsp;&nbsp;&nbsp;'AQUA WEL'"
     },
     "metadata": {}
    },
    {
     "output_type": "display_data",
     "data": {
      "text/plain": "<IPython.core.display.HTML object>",
      "text/html": "&nbsp;&nbsp;&nbsp;&nbsp;'AQUA Wat'"
     },
     "metadata": {}
    },
    {
     "output_type": "display_data",
     "data": {
      "text/plain": "<IPython.core.display.HTML object>",
      "text/html": "&nbsp;&nbsp;&nbsp;&nbsp;'AQUA Wel'"
     },
     "metadata": {}
    },
    {
     "output_type": "display_data",
     "data": {
      "text/plain": "<IPython.core.display.HTML object>",
      "text/html": "&nbsp;&nbsp;&nbsp;&nbsp;'AQUARMAN DRILLERS'"
     },
     "metadata": {}
    },
    {
     "output_type": "display_data",
     "data": {
      "text/plain": "<IPython.core.display.HTML object>",
      "text/html": "&nbsp;&nbsp;&nbsp;&nbsp;'ATIGH BUILDINGS'"
     },
     "metadata": {}
    },
    {
     "output_type": "display_data",
     "data": {
      "text/plain": "<IPython.core.display.HTML object>",
      "text/html": "&nbsp;&nbsp;&nbsp;&nbsp;'Abdallah Ally Wazir'"
     },
     "metadata": {}
    },
    {
     "output_type": "display_data",
     "data": {
      "text/plain": "<IPython.core.display.HTML object>",
      "text/html": "&nbsp;&nbsp;&nbsp;&nbsp;'Action Aid'"
     },
     "metadata": {}
    },
    {
     "output_type": "display_data",
     "data": {
      "text/plain": "<IPython.core.display.HTML object>",
      "text/html": "&nbsp;&nbsp;&nbsp;&nbsp;'Action Contre La Faim'"
     },
     "metadata": {}
    },
    {
     "output_type": "display_data",
     "data": {
      "text/plain": "<IPython.core.display.HTML object>",
      "text/html": "&nbsp;&nbsp;&nbsp;&nbsp;'Action Contre la Faim'"
     },
     "metadata": {}
    },
    {
     "output_type": "display_data",
     "data": {
      "text/plain": "<IPython.core.display.HTML object>",
      "text/html": "&nbsp;&nbsp;&nbsp;&nbsp;'Active KMK'"
     },
     "metadata": {}
    },
    {
     "output_type": "display_data",
     "data": {
      "text/plain": "<IPython.core.display.HTML object>",
      "text/html": "&nbsp;&nbsp;&nbsp;&nbsp;'Active MKM'"
     },
     "metadata": {}
    },
    {
     "output_type": "display_data",
     "data": {
      "text/plain": "<IPython.core.display.HTML object>",
      "text/html": "&nbsp;&nbsp;&nbsp;&nbsp;'Adam Kea'"
     },
     "metadata": {}
    },
    {
     "output_type": "display_data",
     "data": {
      "text/plain": "<IPython.core.display.HTML object>",
      "text/html": "&nbsp;&nbsp;&nbsp;&nbsp;'Adam mualuaka'"
     },
     "metadata": {}
    },
    {
     "output_type": "display_data",
     "data": {
      "text/plain": "<IPython.core.display.HTML object>",
      "text/html": "&nbsp;&nbsp;&nbsp;&nbsp;'Adra /Community'"
     },
     "metadata": {}
    },
    {
     "output_type": "display_data",
     "data": {
      "text/plain": "<IPython.core.display.HTML object>",
      "text/html": "&nbsp;&nbsp;&nbsp;&nbsp;'Adra/ Community'"
     },
     "metadata": {}
    },
    {
     "output_type": "display_data",
     "data": {
      "text/plain": "<IPython.core.display.HTML object>",
      "text/html": "&nbsp;&nbsp;&nbsp;&nbsp;'Adra/Community'"
     },
     "metadata": {}
    },
    {
     "output_type": "display_data",
     "data": {
      "text/plain": "<IPython.core.display.HTML object>",
      "text/html": "&nbsp;&nbsp;&nbsp;&nbsp;'Africa Amini Alama'"
     },
     "metadata": {}
    },
    {
     "output_type": "display_data",
     "data": {
      "text/plain": "<IPython.core.display.HTML object>",
      "text/html": "&nbsp;&nbsp;&nbsp;&nbsp;'Africa Islamic Agency Tanzania'"
     },
     "metadata": {}
    },
    {
     "output_type": "display_data",
     "data": {
      "text/plain": "<IPython.core.display.HTML object>",
      "text/html": "&nbsp;&nbsp;&nbsp;&nbsp;'Africa M'"
     },
     "metadata": {}
    },
    {
     "output_type": "display_data",
     "data": {
      "text/plain": "<IPython.core.display.HTML object>",
      "text/html": "&nbsp;&nbsp;&nbsp;&nbsp;'Africa Muslim Agenc'"
     },
     "metadata": {}
    },
    {
     "output_type": "display_data",
     "data": {
      "text/plain": "<IPython.core.display.HTML object>",
      "text/html": "&nbsp;&nbsp;&nbsp;&nbsp;'African Muslims Age'"
     },
     "metadata": {}
    },
    {
     "output_type": "display_data",
     "data": {
      "text/plain": "<IPython.core.display.HTML object>",
      "text/html": "&nbsp;&nbsp;&nbsp;&nbsp;'African Realief Committe of Ku'"
     },
     "metadata": {}
    },
    {
     "output_type": "display_data",
     "data": {
      "text/plain": "<IPython.core.display.HTML object>",
      "text/html": "&nbsp;&nbsp;&nbsp;&nbsp;'Africaone Ltd'"
     },
     "metadata": {}
    },
    {
     "output_type": "display_data",
     "data": {
      "text/plain": "<IPython.core.display.HTML object>",
      "text/html": "&nbsp;&nbsp;&nbsp;&nbsp;'Afroz Ismail'"
     },
     "metadata": {}
    },
    {
     "output_type": "display_data",
     "data": {
      "text/plain": "<IPython.core.display.HTML object>",
      "text/html": "&nbsp;&nbsp;&nbsp;&nbsp;'Al Ha'"
     },
     "metadata": {}
    },
    {
     "output_type": "display_data",
     "data": {
      "text/plain": "<IPython.core.display.HTML object>",
      "text/html": "&nbsp;&nbsp;&nbsp;&nbsp;'Alex moyela'"
     },
     "metadata": {}
    },
    {
     "output_type": "display_data",
     "data": {
      "text/plain": "<IPython.core.display.HTML object>",
      "text/html": "&nbsp;&nbsp;&nbsp;&nbsp;'Altai Co. ltd'"
     },
     "metadata": {}
    },
    {
     "output_type": "display_data",
     "data": {
      "text/plain": "<IPython.core.display.HTML object>",
      "text/html": "&nbsp;&nbsp;&nbsp;&nbsp;'Amboni Plantation'"
     },
     "metadata": {}
    },
    {
     "output_type": "display_data",
     "data": {
      "text/plain": "<IPython.core.display.HTML object>",
      "text/html": "&nbsp;&nbsp;&nbsp;&nbsp;'Amboni plantation'"
     },
     "metadata": {}
    },
    {
     "output_type": "display_data",
     "data": {
      "text/plain": "<IPython.core.display.HTML object>",
      "text/html": "&nbsp;&nbsp;&nbsp;&nbsp;'Anglica Church'"
     },
     "metadata": {}
    },
    {
     "output_type": "display_data",
     "data": {
      "text/plain": "<IPython.core.display.HTML object>",
      "text/html": "&nbsp;&nbsp;&nbsp;&nbsp;'Anglican Church'"
     },
     "metadata": {}
    },
    {
     "output_type": "display_data",
     "data": {
      "text/plain": "<IPython.core.display.HTML object>",
      "text/html": "&nbsp;&nbsp;&nbsp;&nbsp;'Anglican Uganda'"
     },
     "metadata": {}
    },
    {
     "output_type": "display_data",
     "data": {
      "text/plain": "<IPython.core.display.HTML object>",
      "text/html": "*** TRUNCATED since <b>installer</b> has 1036 unique non-alphanumeric values***"
     },
     "metadata": {}
    },
    {
     "output_type": "display_data",
     "data": {
      "text/plain": "<IPython.core.display.HTML object>",
      "text/html": "<p><br>"
     },
     "metadata": {}
    }
   ],
   "source": [
    "# now find all qualifying non-alphanumeric observations of installer\n",
    "(\n",
    "    str_feat_unique_nonalphanumeric_string_vals, \n",
    "    df_analysis\n",
    ") = scjpnutils.analyze_non_alphanumeric_strings(X_labeled[['installer']], 'X_labeled')\n",
    "\n",
    "# store the index of qualifying observations so we can inspect the before/after results\n",
    "non_alphanumeric_index = df_analysis[df_analysis.feature=='installer'].non_alphanumeric_str_index.values[0]"
   ]
  },
  {
   "cell_type": "markdown",
   "metadata": {},
   "source": [
    "<h5>Let's focus on a few interesting non-alphanmeric categories: \"Adra /Community\", \"Adra/ Community\", and \"Adra/Community\"</h5>\n",
    "\n",
    "Note the whitespace and \"/\" placement in these examples.  Without <code>TF-IDF</code>, each of these is considered unique!"
   ]
  },
  {
   "cell_type": "code",
   "execution_count": 17,
   "metadata": {},
   "outputs": [
    {
     "output_type": "stream",
     "name": "stdout",
     "text": "DIRTY category-value 'Adra /Community' maps to 'adra community' in the TD-IDF model\nDIRTY category-value 'Adra/ Community' maps to 'adra community' in the TD-IDF model\nDIRTY category-value 'Adra/Community' maps to 'adra community' in the TD-IDF model\n"
    }
   ],
   "source": [
    "dirty_category = 'Adra /Community'\n",
    "fitted_doc = scjpnsubmodels.doc_to_tfidf_fit(dirty_category, tfidf_vectorizer, idx_term_map)\n",
    "print(f\"DIRTY category-value '{dirty_category}' maps to '{fitted_doc[0][0]}' in the TD-IDF model\")\n",
    "\n",
    "dirty_category = 'Adra/ Community'\n",
    "fitted_doc = scjpnsubmodels.doc_to_tfidf_fit(dirty_category, tfidf_vectorizer, idx_term_map)\n",
    "print(f\"DIRTY category-value '{dirty_category}' maps to '{fitted_doc[0][0]}' in the TD-IDF model\")\n",
    "\n",
    "dirty_category = 'Adra/Community'\n",
    "fitted_doc = scjpnsubmodels.doc_to_tfidf_fit(dirty_category, tfidf_vectorizer, idx_term_map)\n",
    "fitted_doc\n",
    "print(f\"DIRTY category-value '{dirty_category}' maps to '{fitted_doc[0][0]}' in the TD-IDF model\")"
   ]
  },
  {
   "cell_type": "markdown",
   "metadata": {},
   "source": [
    "<h5>Now let's demonstrate why wording is re-ordered by <code>TF-IDF</code></h5>\n",
    "\n",
    "For this, we will use dirty categories \"World vision\" and \"Water Aid\", for demonstration, which map to \"vision world\" and \"aid water\", respectively, in the <code>TF-IDF</code> model."
   ]
  },
  {
   "cell_type": "code",
   "execution_count": 18,
   "metadata": {},
   "outputs": [
    {
     "output_type": "stream",
     "name": "stdout",
     "text": "(('vision world', [('vision', 0.7624555241955246), ('world', 0.6470406274908304)]), array([0., 0., 0., ..., 0., 0., 0.]))\n(('aid water', [('aid', 0.8157909307194062), ('water', 0.5783469178235197)]), array([0., 0., 0., ..., 0., 0., 0.]))\n"
    }
   ],
   "source": [
    "dirty_category = 'World vision'\n",
    "fitted_doc = scjpnsubmodels.doc_to_tfidf_fit(dirty_category, tfidf_vectorizer, idx_term_map)\n",
    "print(fitted_doc)\n",
    "\n",
    "dirty_category = 'Water Aid'\n",
    "fitted_doc = scjpnsubmodels.doc_to_tfidf_fit(dirty_category, tfidf_vectorizer, idx_term_map)\n",
    "print(fitted_doc)"
   ]
  },
  {
   "cell_type": "markdown",
   "metadata": {},
   "source": [
    "This shows (maybe not entirely) clearly that in the \"World vision\" dirty category case, the `TF-IDF` model assigns <b>IDF</b> (<b>Inverse Document Frequency</b> - i.e. importance) values of `0.7624555241955246` to \"vision\" and `0.6470406274908304` to \"world\", and `0.8157909307194062` to \"aid\" and `0.5783469178235197` to \"water\" in the \"Water Aid\" case."
   ]
  },
  {
   "cell_type": "markdown",
   "metadata": {},
   "source": [
    "<h5>Example Wrap-up: inspecting <code>TF-IDF</code> mappings of dirty, non-alphanumeric <u>installer</u> categories</h5>"
   ]
  },
  {
   "cell_type": "code",
   "execution_count": 19,
   "metadata": {
    "scrolled": false
   },
   "outputs": [
    {
     "output_type": "execute_result",
     "data": {
      "text/plain": "                        installer    installer_stripped_lcase  \\\n2                    World vision                world vision   \n8                       Water Aid                   water aid   \n12                   World vision                world vision   \n13           Lawatefuka water sup        lawatefuka water sup   \n26                    Kilolo Star                 kilolo star   \n28               District council            district council   \n29           Lawatefuka water sup        lawatefuka water sup   \n35                      Not known                   not known   \n36             Central government          central government   \n45                   World Vision                world vision   \n52           KKKT _ Konde and DWE        kkkt   konde and dwe   \n57      Olgilai village community   olgilai village community   \n63                Adra /Community             adra  community   \n79                   World vision                world vision   \n85     Sengerema Water Department  sengerema water department   \n90                 ISF and TACARE              isf and tacare   \n105               District Counci             district counci   \n110                Adra/Community              adra community   \n112            Tulawaka Gold Mine          tulawaka gold mine   \n114                         KKT C                       kkt c   \n119                   Water board                 water board   \n121                LOCAL CONTRACT              local contract   \n140            Central government          central government   \n148                    Fini water                  fini water   \n156         VILLAGE COUNCIL Orpha       village council orpha   \n...                           ...                         ...   \n59228            District council            district council   \n59232                   RC Church                   rc church   \n59241             Adra/ Community             adra  community   \n59252          Central government          central government   \n59253                  Fini water                  fini water   \n59257            Mileniam project            mileniam project   \n59264          Central government          central government   \n59273                   Water Aid                   water aid   \n59275                World Vision                world vision   \n59281        Lawatefuka water sup        lawatefuka water sup   \n59292                    ML appro                    ml appro   \n59293        Sangea District Coun        sangea district coun   \n59297          Finland Government          finland government   \n59300           Village community           village community   \n59302        MANYARA CONSTRUCTION        manyara construction   \n59320                  Fini water                  fini water   \n59324                World Vision                world vision   \n59327                Central govt                central govt   \n59331     RC church/Central Gover     rc church central gover   \n59352        KKKT _ Konde and DWE        kkkt   konde and dwe   \n59363                SINGIDA YETU                singida yetu   \n59369                   RC Church                   rc church   \n59383                  World bank                  world bank   \n59385                    JAICA CO                    jaica co   \n59394                    ML appro                    ml appro   \n\n             installer_word_tokenized installer_word_tokenized_no_stopwords  \\\n2                     [world, vision]                       [world, vision]   \n8                        [water, aid]                          [water, aid]   \n12                    [world, vision]                       [world, vision]   \n13           [lawatefuka, water, sup]              [lawatefuka, water, sup]   \n26                     [kilolo, star]                        [kilolo, star]   \n28                [district, council]                   [district, council]   \n29           [lawatefuka, water, sup]              [lawatefuka, water, sup]   \n35                       [not, known]                          [not, known]   \n36              [central, government]                 [central, government]   \n45                    [world, vision]                       [world, vision]   \n52            [kkkt, konde, and, dwe]                    [kkkt, konde, dwe]   \n57      [olgilai, village, community]         [olgilai, village, community]   \n63                  [adra, community]                     [adra, community]   \n79                    [world, vision]                       [world, vision]   \n85     [sengerema, water, department]        [sengerema, water, department]   \n90                 [isf, and, tacare]                         [isf, tacare]   \n105                [district, counci]                    [district, counci]   \n110                 [adra, community]                     [adra, community]   \n112            [tulawaka, gold, mine]                [tulawaka, gold, mine]   \n114                          [kkt, c]                              [kkt, c]   \n119                    [water, board]                        [water, board]   \n121                 [local, contract]                     [local, contract]   \n140             [central, government]                 [central, government]   \n148                     [fini, water]                         [fini, water]   \n156         [village, council, orpha]             [village, council, orpha]   \n...                               ...                                   ...   \n59228             [district, council]                   [district, council]   \n59232                    [rc, church]                          [rc, church]   \n59241               [adra, community]                     [adra, community]   \n59252           [central, government]                 [central, government]   \n59253                   [fini, water]                         [fini, water]   \n59257             [mileniam, project]                   [mileniam, project]   \n59264           [central, government]                 [central, government]   \n59273                    [water, aid]                          [water, aid]   \n59275                 [world, vision]                       [world, vision]   \n59281        [lawatefuka, water, sup]              [lawatefuka, water, sup]   \n59292                     [ml, appro]                           [ml, appro]   \n59293        [sangea, district, coun]              [sangea, district, coun]   \n59297           [finland, government]                 [finland, government]   \n59300            [village, community]                  [village, community]   \n59302         [manyara, construction]               [manyara, construction]   \n59320                   [fini, water]                         [fini, water]   \n59324                 [world, vision]                       [world, vision]   \n59327                 [central, govt]                       [central, govt]   \n59331    [rc, church, central, gover]          [rc, church, central, gover]   \n59352         [kkkt, konde, and, dwe]                    [kkkt, konde, dwe]   \n59363                 [singida, yetu]                       [singida, yetu]   \n59369                    [rc, church]                          [rc, church]   \n59383                   [world, bank]                         [world, bank]   \n59385                     [jaica, co]                           [jaica, co]   \n59394                     [ml, appro]                           [ml, appro]   \n\n            installer_after_tfidf  \n2                    vision world  \n8                       aid water  \n12                   vision world  \n13           lawatefuka sup water  \n26                    kilolo star  \n28               council district  \n29           lawatefuka sup water  \n35                      known not  \n36             central government  \n45                   vision world  \n52                 dwe kkkt konde  \n57      community olgilai village  \n63                 adra community  \n79                   vision world  \n85     department sengerema water  \n90                     isf tacare  \n105               counci district  \n110                adra community  \n112            gold mine tulawaka  \n114                           kkt  \n119                   board water  \n121                contract local  \n140            central government  \n148                    fini water  \n156         council orpha village  \n...                           ...  \n59228            council district  \n59232                   church rc  \n59241              adra community  \n59252          central government  \n59253                  fini water  \n59257            mileniam project  \n59264          central government  \n59273                   aid water  \n59275                vision world  \n59281        lawatefuka sup water  \n59292                    appro ml  \n59293        coun district sangea  \n59297          finland government  \n59300           community village  \n59302        construction manyara  \n59320                  fini water  \n59324                vision world  \n59327                central govt  \n59331     central church gover rc  \n59352              dwe kkkt konde  \n59363                singida yetu  \n59369                   church rc  \n59383                  bank world  \n59385                    co jaica  \n59394                    appro ml  \n\n[9584 rows x 5 columns]",
      "text/html": "<div>\n<style scoped>\n    .dataframe tbody tr th:only-of-type {\n        vertical-align: middle;\n    }\n\n    .dataframe tbody tr th {\n        vertical-align: top;\n    }\n\n    .dataframe thead th {\n        text-align: right;\n    }\n</style>\n<table border=\"1\" class=\"dataframe\">\n  <thead>\n    <tr style=\"text-align: right;\">\n      <th></th>\n      <th>installer</th>\n      <th>installer_stripped_lcase</th>\n      <th>installer_word_tokenized</th>\n      <th>installer_word_tokenized_no_stopwords</th>\n      <th>installer_after_tfidf</th>\n    </tr>\n  </thead>\n  <tbody>\n    <tr>\n      <th>2</th>\n      <td>World vision</td>\n      <td>world vision</td>\n      <td>[world, vision]</td>\n      <td>[world, vision]</td>\n      <td>vision world</td>\n    </tr>\n    <tr>\n      <th>8</th>\n      <td>Water Aid</td>\n      <td>water aid</td>\n      <td>[water, aid]</td>\n      <td>[water, aid]</td>\n      <td>aid water</td>\n    </tr>\n    <tr>\n      <th>12</th>\n      <td>World vision</td>\n      <td>world vision</td>\n      <td>[world, vision]</td>\n      <td>[world, vision]</td>\n      <td>vision world</td>\n    </tr>\n    <tr>\n      <th>13</th>\n      <td>Lawatefuka water sup</td>\n      <td>lawatefuka water sup</td>\n      <td>[lawatefuka, water, sup]</td>\n      <td>[lawatefuka, water, sup]</td>\n      <td>lawatefuka sup water</td>\n    </tr>\n    <tr>\n      <th>26</th>\n      <td>Kilolo Star</td>\n      <td>kilolo star</td>\n      <td>[kilolo, star]</td>\n      <td>[kilolo, star]</td>\n      <td>kilolo star</td>\n    </tr>\n    <tr>\n      <th>28</th>\n      <td>District council</td>\n      <td>district council</td>\n      <td>[district, council]</td>\n      <td>[district, council]</td>\n      <td>council district</td>\n    </tr>\n    <tr>\n      <th>29</th>\n      <td>Lawatefuka water sup</td>\n      <td>lawatefuka water sup</td>\n      <td>[lawatefuka, water, sup]</td>\n      <td>[lawatefuka, water, sup]</td>\n      <td>lawatefuka sup water</td>\n    </tr>\n    <tr>\n      <th>35</th>\n      <td>Not known</td>\n      <td>not known</td>\n      <td>[not, known]</td>\n      <td>[not, known]</td>\n      <td>known not</td>\n    </tr>\n    <tr>\n      <th>36</th>\n      <td>Central government</td>\n      <td>central government</td>\n      <td>[central, government]</td>\n      <td>[central, government]</td>\n      <td>central government</td>\n    </tr>\n    <tr>\n      <th>45</th>\n      <td>World Vision</td>\n      <td>world vision</td>\n      <td>[world, vision]</td>\n      <td>[world, vision]</td>\n      <td>vision world</td>\n    </tr>\n    <tr>\n      <th>52</th>\n      <td>KKKT _ Konde and DWE</td>\n      <td>kkkt   konde and dwe</td>\n      <td>[kkkt, konde, and, dwe]</td>\n      <td>[kkkt, konde, dwe]</td>\n      <td>dwe kkkt konde</td>\n    </tr>\n    <tr>\n      <th>57</th>\n      <td>Olgilai village community</td>\n      <td>olgilai village community</td>\n      <td>[olgilai, village, community]</td>\n      <td>[olgilai, village, community]</td>\n      <td>community olgilai village</td>\n    </tr>\n    <tr>\n      <th>63</th>\n      <td>Adra /Community</td>\n      <td>adra  community</td>\n      <td>[adra, community]</td>\n      <td>[adra, community]</td>\n      <td>adra community</td>\n    </tr>\n    <tr>\n      <th>79</th>\n      <td>World vision</td>\n      <td>world vision</td>\n      <td>[world, vision]</td>\n      <td>[world, vision]</td>\n      <td>vision world</td>\n    </tr>\n    <tr>\n      <th>85</th>\n      <td>Sengerema Water Department</td>\n      <td>sengerema water department</td>\n      <td>[sengerema, water, department]</td>\n      <td>[sengerema, water, department]</td>\n      <td>department sengerema water</td>\n    </tr>\n    <tr>\n      <th>90</th>\n      <td>ISF and TACARE</td>\n      <td>isf and tacare</td>\n      <td>[isf, and, tacare]</td>\n      <td>[isf, tacare]</td>\n      <td>isf tacare</td>\n    </tr>\n    <tr>\n      <th>105</th>\n      <td>District Counci</td>\n      <td>district counci</td>\n      <td>[district, counci]</td>\n      <td>[district, counci]</td>\n      <td>counci district</td>\n    </tr>\n    <tr>\n      <th>110</th>\n      <td>Adra/Community</td>\n      <td>adra community</td>\n      <td>[adra, community]</td>\n      <td>[adra, community]</td>\n      <td>adra community</td>\n    </tr>\n    <tr>\n      <th>112</th>\n      <td>Tulawaka Gold Mine</td>\n      <td>tulawaka gold mine</td>\n      <td>[tulawaka, gold, mine]</td>\n      <td>[tulawaka, gold, mine]</td>\n      <td>gold mine tulawaka</td>\n    </tr>\n    <tr>\n      <th>114</th>\n      <td>KKT C</td>\n      <td>kkt c</td>\n      <td>[kkt, c]</td>\n      <td>[kkt, c]</td>\n      <td>kkt</td>\n    </tr>\n    <tr>\n      <th>119</th>\n      <td>Water board</td>\n      <td>water board</td>\n      <td>[water, board]</td>\n      <td>[water, board]</td>\n      <td>board water</td>\n    </tr>\n    <tr>\n      <th>121</th>\n      <td>LOCAL CONTRACT</td>\n      <td>local contract</td>\n      <td>[local, contract]</td>\n      <td>[local, contract]</td>\n      <td>contract local</td>\n    </tr>\n    <tr>\n      <th>140</th>\n      <td>Central government</td>\n      <td>central government</td>\n      <td>[central, government]</td>\n      <td>[central, government]</td>\n      <td>central government</td>\n    </tr>\n    <tr>\n      <th>148</th>\n      <td>Fini water</td>\n      <td>fini water</td>\n      <td>[fini, water]</td>\n      <td>[fini, water]</td>\n      <td>fini water</td>\n    </tr>\n    <tr>\n      <th>156</th>\n      <td>VILLAGE COUNCIL Orpha</td>\n      <td>village council orpha</td>\n      <td>[village, council, orpha]</td>\n      <td>[village, council, orpha]</td>\n      <td>council orpha village</td>\n    </tr>\n    <tr>\n      <th>...</th>\n      <td>...</td>\n      <td>...</td>\n      <td>...</td>\n      <td>...</td>\n      <td>...</td>\n    </tr>\n    <tr>\n      <th>59228</th>\n      <td>District council</td>\n      <td>district council</td>\n      <td>[district, council]</td>\n      <td>[district, council]</td>\n      <td>council district</td>\n    </tr>\n    <tr>\n      <th>59232</th>\n      <td>RC Church</td>\n      <td>rc church</td>\n      <td>[rc, church]</td>\n      <td>[rc, church]</td>\n      <td>church rc</td>\n    </tr>\n    <tr>\n      <th>59241</th>\n      <td>Adra/ Community</td>\n      <td>adra  community</td>\n      <td>[adra, community]</td>\n      <td>[adra, community]</td>\n      <td>adra community</td>\n    </tr>\n    <tr>\n      <th>59252</th>\n      <td>Central government</td>\n      <td>central government</td>\n      <td>[central, government]</td>\n      <td>[central, government]</td>\n      <td>central government</td>\n    </tr>\n    <tr>\n      <th>59253</th>\n      <td>Fini water</td>\n      <td>fini water</td>\n      <td>[fini, water]</td>\n      <td>[fini, water]</td>\n      <td>fini water</td>\n    </tr>\n    <tr>\n      <th>59257</th>\n      <td>Mileniam project</td>\n      <td>mileniam project</td>\n      <td>[mileniam, project]</td>\n      <td>[mileniam, project]</td>\n      <td>mileniam project</td>\n    </tr>\n    <tr>\n      <th>59264</th>\n      <td>Central government</td>\n      <td>central government</td>\n      <td>[central, government]</td>\n      <td>[central, government]</td>\n      <td>central government</td>\n    </tr>\n    <tr>\n      <th>59273</th>\n      <td>Water Aid</td>\n      <td>water aid</td>\n      <td>[water, aid]</td>\n      <td>[water, aid]</td>\n      <td>aid water</td>\n    </tr>\n    <tr>\n      <th>59275</th>\n      <td>World Vision</td>\n      <td>world vision</td>\n      <td>[world, vision]</td>\n      <td>[world, vision]</td>\n      <td>vision world</td>\n    </tr>\n    <tr>\n      <th>59281</th>\n      <td>Lawatefuka water sup</td>\n      <td>lawatefuka water sup</td>\n      <td>[lawatefuka, water, sup]</td>\n      <td>[lawatefuka, water, sup]</td>\n      <td>lawatefuka sup water</td>\n    </tr>\n    <tr>\n      <th>59292</th>\n      <td>ML appro</td>\n      <td>ml appro</td>\n      <td>[ml, appro]</td>\n      <td>[ml, appro]</td>\n      <td>appro ml</td>\n    </tr>\n    <tr>\n      <th>59293</th>\n      <td>Sangea District Coun</td>\n      <td>sangea district coun</td>\n      <td>[sangea, district, coun]</td>\n      <td>[sangea, district, coun]</td>\n      <td>coun district sangea</td>\n    </tr>\n    <tr>\n      <th>59297</th>\n      <td>Finland Government</td>\n      <td>finland government</td>\n      <td>[finland, government]</td>\n      <td>[finland, government]</td>\n      <td>finland government</td>\n    </tr>\n    <tr>\n      <th>59300</th>\n      <td>Village community</td>\n      <td>village community</td>\n      <td>[village, community]</td>\n      <td>[village, community]</td>\n      <td>community village</td>\n    </tr>\n    <tr>\n      <th>59302</th>\n      <td>MANYARA CONSTRUCTION</td>\n      <td>manyara construction</td>\n      <td>[manyara, construction]</td>\n      <td>[manyara, construction]</td>\n      <td>construction manyara</td>\n    </tr>\n    <tr>\n      <th>59320</th>\n      <td>Fini water</td>\n      <td>fini water</td>\n      <td>[fini, water]</td>\n      <td>[fini, water]</td>\n      <td>fini water</td>\n    </tr>\n    <tr>\n      <th>59324</th>\n      <td>World Vision</td>\n      <td>world vision</td>\n      <td>[world, vision]</td>\n      <td>[world, vision]</td>\n      <td>vision world</td>\n    </tr>\n    <tr>\n      <th>59327</th>\n      <td>Central govt</td>\n      <td>central govt</td>\n      <td>[central, govt]</td>\n      <td>[central, govt]</td>\n      <td>central govt</td>\n    </tr>\n    <tr>\n      <th>59331</th>\n      <td>RC church/Central Gover</td>\n      <td>rc church central gover</td>\n      <td>[rc, church, central, gover]</td>\n      <td>[rc, church, central, gover]</td>\n      <td>central church gover rc</td>\n    </tr>\n    <tr>\n      <th>59352</th>\n      <td>KKKT _ Konde and DWE</td>\n      <td>kkkt   konde and dwe</td>\n      <td>[kkkt, konde, and, dwe]</td>\n      <td>[kkkt, konde, dwe]</td>\n      <td>dwe kkkt konde</td>\n    </tr>\n    <tr>\n      <th>59363</th>\n      <td>SINGIDA YETU</td>\n      <td>singida yetu</td>\n      <td>[singida, yetu]</td>\n      <td>[singida, yetu]</td>\n      <td>singida yetu</td>\n    </tr>\n    <tr>\n      <th>59369</th>\n      <td>RC Church</td>\n      <td>rc church</td>\n      <td>[rc, church]</td>\n      <td>[rc, church]</td>\n      <td>church rc</td>\n    </tr>\n    <tr>\n      <th>59383</th>\n      <td>World bank</td>\n      <td>world bank</td>\n      <td>[world, bank]</td>\n      <td>[world, bank]</td>\n      <td>bank world</td>\n    </tr>\n    <tr>\n      <th>59385</th>\n      <td>JAICA CO</td>\n      <td>jaica co</td>\n      <td>[jaica, co]</td>\n      <td>[jaica, co]</td>\n      <td>co jaica</td>\n    </tr>\n    <tr>\n      <th>59394</th>\n      <td>ML appro</td>\n      <td>ml appro</td>\n      <td>[ml, appro]</td>\n      <td>[ml, appro]</td>\n      <td>appro ml</td>\n    </tr>\n  </tbody>\n</table>\n<p>9584 rows × 5 columns</p>\n</div>"
     },
     "metadata": {},
     "execution_count": 19
    }
   ],
   "source": [
    "X_labeled_installer_clean__nonalphanumeric = X_labeled_installer_clean.loc[non_alphanumeric_index]\n",
    "X_labeled_installer_clean__nonalphanumeric"
   ]
  },
  {
   "cell_type": "markdown",
   "metadata": {},
   "source": [
    "There is not much to say here other than to point out mappings of a few additional particularly interesting dirty categories:\n",
    "<ul>\n",
    "    <li>dirty category \"<b>KKKT _ Konde and DWE</b>\" maps to \"<b>dwe kkkt konde</b>\" <code>TF-IDF</code> cleaned category</li>\n",
    "    <li>dirty category \"<b>District Council</b>\" and \"<b>DISTRICT COUNCIL</b>\" (and other variants with that spelling) both map to \"<b>council district</b>\" <code>TF-IDF</code> cleaned category, while:\n",
    "        <ul>\n",
    "            <li>\"<b>District counci</b>\" maps to \"<b>counci district</b>\" <code>TF-IDF</code> cleaned category - note the ommission of the \"l\"</li>\n",
    "        </ul>\n",
    "    </li>\n",
    "</ul>\n",
    "\n",
    "In the first case, we see that stop words and weird punctuation are nicely cleaned by `TF-IDF`.\n",
    "\n",
    "In the latter case, there is not much else to be done with overt spelling errors, without implementing much more sophisticated spelling-error correction techniques.  We could spend the time to meticulously go over these results and fix them by hand but doing such would tailor the end result toward the training dataset if we inject too much \"human knowledge\" into the machine learning process.\n",
    "\n",
    "Let's see compare the count of unique DIRTY <b>installer</b> categories to the count of corresponding <code>TF-IDF</code> cleaned categories."
   ]
  },
  {
   "cell_type": "code",
   "execution_count": 20,
   "metadata": {},
   "outputs": [
    {
     "output_type": "execute_result",
     "data": {
      "text/plain": "2146"
     },
     "metadata": {},
     "execution_count": 20
    }
   ],
   "source": [
    "len(X_labeled_installer_clean.installer.unique())"
   ]
  },
  {
   "cell_type": "code",
   "execution_count": 21,
   "metadata": {},
   "outputs": [
    {
     "output_type": "execute_result",
     "data": {
      "text/plain": "1808"
     },
     "metadata": {},
     "execution_count": 21
    }
   ],
   "source": [
    "len(X_labeled_installer_clean.installer_after_tfidf.unique())"
   ]
  },
  {
   "cell_type": "markdown",
   "metadata": {},
   "source": [
    "We could, in theory label-encode the <code>TF-IDF</code> cleaned categories and create a tree-based model to predict pump failure.  But let's first leverage the <code>TF-IDF</code> we created in a <code>KMeans</code> model to for a further SUBSTANTIAL reduction.  The idea is to classify categories by similarity according to the <code>TF-IDF</code> model, wherein similar categories should belong to the same cluster.  The trick will be to find the best granularity (read: cluster-size) to get high enough resolution while garnoring a decent reduction - remember, we started from 2146 unique dirty categories of <b>installer</b>.  Also note that <b><code>KMeans</code> Clustering can also handle misspellings whereas <code>TF-IDF</code> <i>alone</i> cannot</b>.  Finally, we will apply the same preprocessing to other categorical variables that also have high cardinality in categories."
   ]
  },
  {
   "cell_type": "markdown",
   "metadata": {},
   "source": [
    "<p><br>\n",
    "<h2>Create <code>KMeans</code> model using the <code>TF-IDF</code> model</h2>\n",
    "\n",
    "The first thing to note here is that we will be using a \"synthetic\" hyper-parameter: <code>n_target_cluster_size</code>.  This hyper-parameter does exactly what its name suggests: tunes the target size we want for each cluster <code>KMeans</code> will create.  The details of the search for tuning this hyper-parameter have been ommitted, but for this study the optimal result is <code>n_target_cluster_size=10</code>."
   ]
  },
  {
   "cell_type": "code",
   "execution_count": 22,
   "metadata": {},
   "outputs": [
    {
     "output_type": "execute_result",
     "data": {
      "text/plain": "dwe                           0.293367\nnone                          0.061532\ngovernment                    0.031835\nhesawa                        0.023485\n                              0.023148\nrwe                           0.020303\ncommu                         0.017929\ndanida                        0.017677\ncouncil district              0.016246\nkkkt                          0.015320\ncentral government            0.012845\ntcrs                          0.011919\nvision world                  0.011768\ndanid                         0.010505\nces                           0.010269\ncommunity                     0.009343\ngover                         0.008603\namref                         0.007458\ntasaf                         0.007020\nlga                           0.006953\nwedeco                        0.006700\nfini water                    0.006549\ndmdd                          0.006330\nnorad                         0.006162\ntwesa                         0.005320\n                                ...   \nprima                         0.000017\nally mohamed                  0.000017\nkas mr                        0.000017\ncontractor lindi              0.000017\nmi rc                         0.000017\ninter mara product            0.000017\ntechnicians wananchi          0.000017\naid international services    0.000017\nchi mr                        0.000017\ncommunity marumbo             0.000017\nmambe                         0.000017\nheesaw                        0.000017\nmsufi rc                      0.000017\nmis rc                        0.000017\nanglikana                     0.000017\nrajabu swalehe                0.000017\ncoew                          0.000017\nkando                         0.000017\nluwassa                       0.000017\ndwe lwi                       0.000017\nmaliasili                     0.000017\nadp kisiriri                  0.000017\nef                            0.000017\nzinduka                       0.000017\nkagera mine                   0.000017\nName: installer_after_tfidf, Length: 1808, dtype: float64"
     },
     "metadata": {},
     "execution_count": 22
    }
   ],
   "source": [
    "dist_normalized = X_labeled_installer_clean.installer_after_tfidf.value_counts(normalize=True)\n",
    "dist_normalized"
   ]
  },
  {
   "cell_type": "code",
   "execution_count": 23,
   "metadata": {},
   "outputs": [
    {
     "output_type": "execute_result",
     "data": {
      "text/plain": "6.128975304278281"
     },
     "metadata": {},
     "execution_count": 23
    }
   ],
   "source": [
    "entropy(dist_normalized, base=2) # entropy is a measure of disorder and in information theory is basically equivalent to the \"number of questions we need to ask to get the right answer\" (given a probability distribution)"
   ]
  },
  {
   "cell_type": "code",
   "execution_count": 24,
   "metadata": {},
   "outputs": [
    {
     "output_type": "execute_result",
     "data": {
      "text/plain": "7"
     },
     "metadata": {},
     "execution_count": 24
    }
   ],
   "source": [
    "math.ceil(entropy(dist_normalized, base=2)) # so we will set n_target_cluster_size to this"
   ]
  },
  {
   "cell_type": "code",
   "execution_count": 25,
   "metadata": {},
   "outputs": [],
   "source": [
    "# hyper-param\n",
    "n_target_cluster_size = math.ceil(entropy(dist_normalized, base=2)) \n",
    "\n",
    "n_clusters = int(len(corpus)/n_target_cluster_size) # 8 is default but we want n_clusters to be related to entropy"
   ]
  },
  {
   "cell_type": "markdown",
   "metadata": {},
   "source": [
    "Note: for explanation of why we use *entropy* (ceiling) as the target mean cluster size, see https://www.youtube.com/watch?v=2s3aJfRr9gE for a friendly explanation."
   ]
  },
  {
   "cell_type": "markdown",
   "metadata": {},
   "source": [
    "Building the <code>KMeans</code> model using the <code>TF-IDF</code> model is straightforward."
   ]
  },
  {
   "cell_type": "code",
   "execution_count": 26,
   "metadata": {},
   "outputs": [
    {
     "output_type": "display_data",
     "data": {
      "text/plain": "<IPython.core.display.HTML object>",
      "text/html": "this kmeans model has 306 clusters for <b>installer</b>"
     },
     "metadata": {}
    }
   ],
   "source": [
    "kmeans = KMeans(n_clusters=n_clusters).fit(tfidf)\n",
    "\n",
    "display(HTML(f\"this kmeans model has {len(kmeans.cluster_centers_)} clusters for <b>installer</b>\"))"
   ]
  },
  {
   "cell_type": "markdown",
   "metadata": {},
   "source": [
    "<b>Each cluster in `kmeans.cluster_centers_` is uniquely identified by its index, which can then be used to represent the dirty <i>installer</i> category</b>."
   ]
  },
  {
   "cell_type": "code",
   "execution_count": 27,
   "metadata": {},
   "outputs": [
    {
     "output_type": "execute_result",
     "data": {
      "text/plain": "                                                   tfidf_vector  \\\ncentroid_idx                                                      \n0             [0.0, 0.0, 0.0, 0.0, 0.0, 0.0, 0.0, 0.0, 0.0, ...   \n1             [0.0, 0.0, 0.0, 0.0, 0.0, 0.0, 0.0, 0.0, 0.0, ...   \n2             [0.0, 0.0, 0.0, 0.0, 0.0, 0.0, 0.0, 0.0, 0.0, ...   \n3             [0.0, 0.0, 0.0, 0.0, 0.0, 0.0, 0.0, 0.0, 0.0, ...   \n4             [0.0, 0.0, 0.0, 0.0, 0.0, 0.0, 0.0, 0.0, 0.0, ...   \n5             [0.0008453085376162299, 0.0008453085376162299,...   \n6             [0.0, 0.0, 0.0, 0.0, 0.0, 0.0, 0.0, 0.0, 0.0, ...   \n7             [0.0, 0.0, 0.0, 0.0, 0.0, 0.0, 0.0, 0.0, 0.0, ...   \n8             [0.0, 0.0, 0.0, 0.0, 0.0, 0.0, 0.0, 0.0, 0.0, ...   \n9             [0.0, 0.0, 0.0, 0.0, 0.0, 0.0, 0.0, 0.0, 0.0, ...   \n10            [0.0, 0.0, 0.0, 0.0, 0.0, 0.0, 0.0, 0.0, 0.0, ...   \n11            [0.0, 0.0, 0.0, 0.0, 0.0, 0.0, 0.0, 0.0, 0.0, ...   \n12            [0.0, 0.0, 0.0, 0.0, 0.0, 0.0, 0.0, 0.0, 0.0, ...   \n13            [0.0, 0.0, 0.0, 0.0, 0.0, 0.0, 0.0, 0.0, 0.0, ...   \n14            [0.0, 0.0, 0.0, 0.0, 0.0, 0.0, 0.0, 0.0, 0.0, ...   \n15            [0.0, 0.0, 0.0, 0.0, 0.0, 0.0, 0.0, 0.0, 0.0, ...   \n16            [0.0, 0.0, 0.0, 0.0, 0.0, 0.0, 0.0, 0.0, 0.0, ...   \n17            [0.0, 0.0, 0.0, 0.0, 0.0, 0.0, 0.0, 0.0, 0.0, ...   \n18            [0.0, 0.0, 0.0, 0.0, 0.0, 0.0, 0.0, 0.0, 0.0, ...   \n19            [0.0, 0.0, 0.0, 0.0, 0.0, 0.0, 0.0, 0.0, 0.0, ...   \n20            [0.0, 0.0, 0.0, 0.0, 0.0, 0.0, 0.0, 0.0, 0.0, ...   \n21            [0.0, 0.0, 0.0, 0.0, 0.0, 0.0, 0.0, 0.0, 0.0, ...   \n22            [0.0, 0.0, 0.0, 0.0, 0.0, 0.0, 0.0, 0.0, 0.0, ...   \n23            [0.0, 0.0, 0.0, 0.0, 0.0, 0.0, 0.0, 0.0, 0.0, ...   \n24            [0.0, 0.0, 0.0, 0.0, 0.0, 0.0, 0.0, 0.0, 0.0, ...   \n...                                                         ...   \n281           [0.0, 0.0, 0.0, 0.0, 0.0, 0.0, 0.0, 0.0, 0.0, ...   \n282           [0.0, 0.0, 0.0, 0.0, 0.0, 0.0, 0.0, 0.0, 0.0, ...   \n283           [0.0, 0.0, 0.0, 0.0, 0.0, 0.0, 0.0, 0.0, 0.0, ...   \n284           [0.0, 0.0, 0.0, 0.0, 0.0, 0.0, 0.0, 0.0, 0.0, ...   \n285           [0.0, 0.0, 0.0, 0.0, 0.0, 0.0, 0.0, 0.0, 0.0, ...   \n286           [0.0, 0.0, 0.0, 0.0, 0.0, 0.0, 0.0, 0.0, 0.0, ...   \n287           [0.0, 0.0, 0.0, 0.0, 0.0, 0.0, 0.0, 0.0, 0.0, ...   \n288           [0.0, 0.0, 0.0, 0.0, 0.0, 0.0, 0.0, 0.0, 0.0, ...   \n289           [0.0, 0.0, 0.0, 0.0, 0.0, 0.0, 0.0, 0.0, 0.0, ...   \n290           [0.0, 0.0, 0.0, 0.0, 0.0, 0.0, 0.0, 0.0, 0.0, ...   \n291           [0.0, 0.0, 0.0, 0.0, 0.0, 0.0, 0.0, 0.0, 0.0, ...   \n292           [0.0, 0.0, 0.0, 0.0, 0.0, 0.0, 0.0, 0.0, 0.0, ...   \n293           [0.0, 0.0, 0.0, 0.0, 0.0, 0.0, 0.0, 0.0, 0.0, ...   \n294           [0.0, 0.0, 0.0, 0.0, 0.0, 0.0, 0.0, 0.0, 0.0, ...   \n295           [0.0, 0.0, 0.0, 0.0, 0.0, 0.0, 0.0, 0.0, 0.0, ...   \n296           [0.0, 0.0, 0.0, 0.0, 0.0, 0.0, 0.0, 0.0, 0.0, ...   \n297           [0.0, 0.0, 0.0, 0.0, 0.0, 0.0, 0.0, 0.0, 0.0, ...   \n298           [0.0, 0.0, 0.0, 0.0, 0.0, 0.0, 0.0, 0.0, 0.0, ...   \n299           [0.0, 0.0, 0.0, 0.0, 0.0, 0.0, 0.0, 0.0, 0.0, ...   \n300           [0.0, 0.0, 0.0, 0.0, 0.0, 0.0, 0.0, 0.0, 0.0, ...   \n301           [0.0, 0.0, 0.0, 0.0, 0.0, 0.0, 0.0, 0.0, 0.0, ...   \n302           [0.0, 0.0, 0.0, 0.0, 0.0, 0.0, 0.0, 0.0, 0.0, ...   \n303           [0.0, 0.0, 0.0, 0.0, 0.0, 0.0, 0.0, 0.0, 0.0, ...   \n304           [0.0, 0.0, 0.0, 0.0, 0.0, 0.0, 0.0, 0.0, 0.0, ...   \n305           [0.0, 0.0, 0.0, 0.0, 0.0, 0.0, 0.0, 0.0, 0.0, ...   \n\n                                                            doc  \ncentroid_idx                                                     \n0                                                 batist church  \n1                               council district mbozi mbulu wb  \n2                                dwe japani marekani ubalozi wa  \n3                   department distric lindi region rural water  \n4                                              co jandu plumber  \n5             aar aartisa abasia abd abdala abdalkah abdalla...  \n6                                               council villege  \n7                                                    singasinga  \n8                                                 atlas company  \n9                                           individuals private  \n10                                                 africa oikos  \n11                     embassy embasy government japan tanzania  \n12                                          heri mission neemia  \n13                                                     hu water  \n14                                    adra community government  \n15              australia chico club kitchener moshi rotary usa  \n16                                                   fini water  \n17                                         central govt village  \n18                                                    fin water  \n19                                                 singida yetu  \n20                                                         desk  \n21            bhoke kichere lucas machoa mahiti mbusi mgaya ...  \n22            attendant committee counil government nduku of...  \n23                       company construction kilwa masu msukwa  \n24                                 basin central government lwi  \n...                                                         ...  \n281                                       friend habitat one un  \n282                                                kilinga kkkt  \n283                                                  msf tacare  \n284           church dioces dme dwe juu katiti kkkt konde le...  \n285                                               drilling spar  \n286                                                 kalage mama  \n287                              catholic diocese roman rulenge  \n288                                            kigoma municipal  \n289                                                    wateraid  \n290                                                dmdd solider  \n291                              coporation corporation ltd pet  \n292                                               company maswi  \n293                                              kitana samweli  \n294                                   co company drill victoria  \n295                                                  block maji  \n296                                                      hesawz  \n297                                                judge mchome  \n298                                      centra government govt  \n299                              haydom hospital lutheran mbozi  \n300                                 church gasper magreth ph st  \n301                                            government misri  \n302                                 companies contractors wasso  \n303                                                      villag  \n304                                                        elct  \n305                                                  mission rc  \n\n[306 rows x 2 columns]",
      "text/html": "<div>\n<style scoped>\n    .dataframe tbody tr th:only-of-type {\n        vertical-align: middle;\n    }\n\n    .dataframe tbody tr th {\n        vertical-align: top;\n    }\n\n    .dataframe thead th {\n        text-align: right;\n    }\n</style>\n<table border=\"1\" class=\"dataframe\">\n  <thead>\n    <tr style=\"text-align: right;\">\n      <th></th>\n      <th>tfidf_vector</th>\n      <th>doc</th>\n    </tr>\n    <tr>\n      <th>centroid_idx</th>\n      <th></th>\n      <th></th>\n    </tr>\n  </thead>\n  <tbody>\n    <tr>\n      <th>0</th>\n      <td>[0.0, 0.0, 0.0, 0.0, 0.0, 0.0, 0.0, 0.0, 0.0, ...</td>\n      <td>batist church</td>\n    </tr>\n    <tr>\n      <th>1</th>\n      <td>[0.0, 0.0, 0.0, 0.0, 0.0, 0.0, 0.0, 0.0, 0.0, ...</td>\n      <td>council district mbozi mbulu wb</td>\n    </tr>\n    <tr>\n      <th>2</th>\n      <td>[0.0, 0.0, 0.0, 0.0, 0.0, 0.0, 0.0, 0.0, 0.0, ...</td>\n      <td>dwe japani marekani ubalozi wa</td>\n    </tr>\n    <tr>\n      <th>3</th>\n      <td>[0.0, 0.0, 0.0, 0.0, 0.0, 0.0, 0.0, 0.0, 0.0, ...</td>\n      <td>department distric lindi region rural water</td>\n    </tr>\n    <tr>\n      <th>4</th>\n      <td>[0.0, 0.0, 0.0, 0.0, 0.0, 0.0, 0.0, 0.0, 0.0, ...</td>\n      <td>co jandu plumber</td>\n    </tr>\n    <tr>\n      <th>5</th>\n      <td>[0.0008453085376162299, 0.0008453085376162299,...</td>\n      <td>aar aartisa abasia abd abdala abdalkah abdalla...</td>\n    </tr>\n    <tr>\n      <th>6</th>\n      <td>[0.0, 0.0, 0.0, 0.0, 0.0, 0.0, 0.0, 0.0, 0.0, ...</td>\n      <td>council villege</td>\n    </tr>\n    <tr>\n      <th>7</th>\n      <td>[0.0, 0.0, 0.0, 0.0, 0.0, 0.0, 0.0, 0.0, 0.0, ...</td>\n      <td>singasinga</td>\n    </tr>\n    <tr>\n      <th>8</th>\n      <td>[0.0, 0.0, 0.0, 0.0, 0.0, 0.0, 0.0, 0.0, 0.0, ...</td>\n      <td>atlas company</td>\n    </tr>\n    <tr>\n      <th>9</th>\n      <td>[0.0, 0.0, 0.0, 0.0, 0.0, 0.0, 0.0, 0.0, 0.0, ...</td>\n      <td>individuals private</td>\n    </tr>\n    <tr>\n      <th>10</th>\n      <td>[0.0, 0.0, 0.0, 0.0, 0.0, 0.0, 0.0, 0.0, 0.0, ...</td>\n      <td>africa oikos</td>\n    </tr>\n    <tr>\n      <th>11</th>\n      <td>[0.0, 0.0, 0.0, 0.0, 0.0, 0.0, 0.0, 0.0, 0.0, ...</td>\n      <td>embassy embasy government japan tanzania</td>\n    </tr>\n    <tr>\n      <th>12</th>\n      <td>[0.0, 0.0, 0.0, 0.0, 0.0, 0.0, 0.0, 0.0, 0.0, ...</td>\n      <td>heri mission neemia</td>\n    </tr>\n    <tr>\n      <th>13</th>\n      <td>[0.0, 0.0, 0.0, 0.0, 0.0, 0.0, 0.0, 0.0, 0.0, ...</td>\n      <td>hu water</td>\n    </tr>\n    <tr>\n      <th>14</th>\n      <td>[0.0, 0.0, 0.0, 0.0, 0.0, 0.0, 0.0, 0.0, 0.0, ...</td>\n      <td>adra community government</td>\n    </tr>\n    <tr>\n      <th>15</th>\n      <td>[0.0, 0.0, 0.0, 0.0, 0.0, 0.0, 0.0, 0.0, 0.0, ...</td>\n      <td>australia chico club kitchener moshi rotary usa</td>\n    </tr>\n    <tr>\n      <th>16</th>\n      <td>[0.0, 0.0, 0.0, 0.0, 0.0, 0.0, 0.0, 0.0, 0.0, ...</td>\n      <td>fini water</td>\n    </tr>\n    <tr>\n      <th>17</th>\n      <td>[0.0, 0.0, 0.0, 0.0, 0.0, 0.0, 0.0, 0.0, 0.0, ...</td>\n      <td>central govt village</td>\n    </tr>\n    <tr>\n      <th>18</th>\n      <td>[0.0, 0.0, 0.0, 0.0, 0.0, 0.0, 0.0, 0.0, 0.0, ...</td>\n      <td>fin water</td>\n    </tr>\n    <tr>\n      <th>19</th>\n      <td>[0.0, 0.0, 0.0, 0.0, 0.0, 0.0, 0.0, 0.0, 0.0, ...</td>\n      <td>singida yetu</td>\n    </tr>\n    <tr>\n      <th>20</th>\n      <td>[0.0, 0.0, 0.0, 0.0, 0.0, 0.0, 0.0, 0.0, 0.0, ...</td>\n      <td>desk</td>\n    </tr>\n    <tr>\n      <th>21</th>\n      <td>[0.0, 0.0, 0.0, 0.0, 0.0, 0.0, 0.0, 0.0, 0.0, ...</td>\n      <td>bhoke kichere lucas machoa mahiti mbusi mgaya ...</td>\n    </tr>\n    <tr>\n      <th>22</th>\n      <td>[0.0, 0.0, 0.0, 0.0, 0.0, 0.0, 0.0, 0.0, 0.0, ...</td>\n      <td>attendant committee counil government nduku of...</td>\n    </tr>\n    <tr>\n      <th>23</th>\n      <td>[0.0, 0.0, 0.0, 0.0, 0.0, 0.0, 0.0, 0.0, 0.0, ...</td>\n      <td>company construction kilwa masu msukwa</td>\n    </tr>\n    <tr>\n      <th>24</th>\n      <td>[0.0, 0.0, 0.0, 0.0, 0.0, 0.0, 0.0, 0.0, 0.0, ...</td>\n      <td>basin central government lwi</td>\n    </tr>\n    <tr>\n      <th>...</th>\n      <td>...</td>\n      <td>...</td>\n    </tr>\n    <tr>\n      <th>281</th>\n      <td>[0.0, 0.0, 0.0, 0.0, 0.0, 0.0, 0.0, 0.0, 0.0, ...</td>\n      <td>friend habitat one un</td>\n    </tr>\n    <tr>\n      <th>282</th>\n      <td>[0.0, 0.0, 0.0, 0.0, 0.0, 0.0, 0.0, 0.0, 0.0, ...</td>\n      <td>kilinga kkkt</td>\n    </tr>\n    <tr>\n      <th>283</th>\n      <td>[0.0, 0.0, 0.0, 0.0, 0.0, 0.0, 0.0, 0.0, 0.0, ...</td>\n      <td>msf tacare</td>\n    </tr>\n    <tr>\n      <th>284</th>\n      <td>[0.0, 0.0, 0.0, 0.0, 0.0, 0.0, 0.0, 0.0, 0.0, ...</td>\n      <td>church dioces dme dwe juu katiti kkkt konde le...</td>\n    </tr>\n    <tr>\n      <th>285</th>\n      <td>[0.0, 0.0, 0.0, 0.0, 0.0, 0.0, 0.0, 0.0, 0.0, ...</td>\n      <td>drilling spar</td>\n    </tr>\n    <tr>\n      <th>286</th>\n      <td>[0.0, 0.0, 0.0, 0.0, 0.0, 0.0, 0.0, 0.0, 0.0, ...</td>\n      <td>kalage mama</td>\n    </tr>\n    <tr>\n      <th>287</th>\n      <td>[0.0, 0.0, 0.0, 0.0, 0.0, 0.0, 0.0, 0.0, 0.0, ...</td>\n      <td>catholic diocese roman rulenge</td>\n    </tr>\n    <tr>\n      <th>288</th>\n      <td>[0.0, 0.0, 0.0, 0.0, 0.0, 0.0, 0.0, 0.0, 0.0, ...</td>\n      <td>kigoma municipal</td>\n    </tr>\n    <tr>\n      <th>289</th>\n      <td>[0.0, 0.0, 0.0, 0.0, 0.0, 0.0, 0.0, 0.0, 0.0, ...</td>\n      <td>wateraid</td>\n    </tr>\n    <tr>\n      <th>290</th>\n      <td>[0.0, 0.0, 0.0, 0.0, 0.0, 0.0, 0.0, 0.0, 0.0, ...</td>\n      <td>dmdd solider</td>\n    </tr>\n    <tr>\n      <th>291</th>\n      <td>[0.0, 0.0, 0.0, 0.0, 0.0, 0.0, 0.0, 0.0, 0.0, ...</td>\n      <td>coporation corporation ltd pet</td>\n    </tr>\n    <tr>\n      <th>292</th>\n      <td>[0.0, 0.0, 0.0, 0.0, 0.0, 0.0, 0.0, 0.0, 0.0, ...</td>\n      <td>company maswi</td>\n    </tr>\n    <tr>\n      <th>293</th>\n      <td>[0.0, 0.0, 0.0, 0.0, 0.0, 0.0, 0.0, 0.0, 0.0, ...</td>\n      <td>kitana samweli</td>\n    </tr>\n    <tr>\n      <th>294</th>\n      <td>[0.0, 0.0, 0.0, 0.0, 0.0, 0.0, 0.0, 0.0, 0.0, ...</td>\n      <td>co company drill victoria</td>\n    </tr>\n    <tr>\n      <th>295</th>\n      <td>[0.0, 0.0, 0.0, 0.0, 0.0, 0.0, 0.0, 0.0, 0.0, ...</td>\n      <td>block maji</td>\n    </tr>\n    <tr>\n      <th>296</th>\n      <td>[0.0, 0.0, 0.0, 0.0, 0.0, 0.0, 0.0, 0.0, 0.0, ...</td>\n      <td>hesawz</td>\n    </tr>\n    <tr>\n      <th>297</th>\n      <td>[0.0, 0.0, 0.0, 0.0, 0.0, 0.0, 0.0, 0.0, 0.0, ...</td>\n      <td>judge mchome</td>\n    </tr>\n    <tr>\n      <th>298</th>\n      <td>[0.0, 0.0, 0.0, 0.0, 0.0, 0.0, 0.0, 0.0, 0.0, ...</td>\n      <td>centra government govt</td>\n    </tr>\n    <tr>\n      <th>299</th>\n      <td>[0.0, 0.0, 0.0, 0.0, 0.0, 0.0, 0.0, 0.0, 0.0, ...</td>\n      <td>haydom hospital lutheran mbozi</td>\n    </tr>\n    <tr>\n      <th>300</th>\n      <td>[0.0, 0.0, 0.0, 0.0, 0.0, 0.0, 0.0, 0.0, 0.0, ...</td>\n      <td>church gasper magreth ph st</td>\n    </tr>\n    <tr>\n      <th>301</th>\n      <td>[0.0, 0.0, 0.0, 0.0, 0.0, 0.0, 0.0, 0.0, 0.0, ...</td>\n      <td>government misri</td>\n    </tr>\n    <tr>\n      <th>302</th>\n      <td>[0.0, 0.0, 0.0, 0.0, 0.0, 0.0, 0.0, 0.0, 0.0, ...</td>\n      <td>companies contractors wasso</td>\n    </tr>\n    <tr>\n      <th>303</th>\n      <td>[0.0, 0.0, 0.0, 0.0, 0.0, 0.0, 0.0, 0.0, 0.0, ...</td>\n      <td>villag</td>\n    </tr>\n    <tr>\n      <th>304</th>\n      <td>[0.0, 0.0, 0.0, 0.0, 0.0, 0.0, 0.0, 0.0, 0.0, ...</td>\n      <td>elct</td>\n    </tr>\n    <tr>\n      <th>305</th>\n      <td>[0.0, 0.0, 0.0, 0.0, 0.0, 0.0, 0.0, 0.0, 0.0, ...</td>\n      <td>mission rc</td>\n    </tr>\n  </tbody>\n</table>\n<p>306 rows × 2 columns</p>\n</div>"
     },
     "metadata": {},
     "execution_count": 27
    }
   ],
   "source": [
    "df_kmeans_clusters = scjpnsubmodels.kmeans_centroids_to_docs(kmeans, idx_term_map)\n",
    "df_kmeans_clusters"
   ]
  },
  {
   "cell_type": "markdown",
   "metadata": {},
   "source": [
    "Now, we can look up the associated centroid by <code>TF-IDF</code> vector for a given dirty <b>installer</b> category.  Even if it is misspelled, by virtue of <code>TF-IDF</code> similarity and if we've hyper-tuned this submodel correctly, misspellings should belong to the same cluster (class) of <b>installer</b>.\n",
    "\n",
    "Finally, <b>with this approach, we have reduced the total count of unique DIRTY <i>installer</i>s all the way from 2146 down to 214 very accurate class membership representations</b>.\n",
    "\n",
    "Let's wrap this up by taking a look at a few examples."
   ]
  },
  {
   "cell_type": "code",
   "execution_count": 28,
   "metadata": {},
   "outputs": [
    {
     "output_type": "display_data",
     "data": {
      "text/plain": "<IPython.core.display.HTML object>",
      "text/html": "<code class='python'><pre>def predict_kmeans_cluster_membership(doc, kmeans, tfidf_vectorizer, idx_term_map, suppress_output=True):\n    centroid_idx = kmeans.predict(tfidf_vectorizer.transform([doc]))[0]\n    if not suppress_output:\n        display(HTML(f\"predicted centroid idx: {centroid_idx}\"))\n    centroid_vector = kmeans.cluster_centers_[centroid_idx]\n    cluster_doc = tfidf_vec_to_doc(centroid_vector, idx_term_map)[0]\n    if not suppress_output:\n        display(HTML(f\"for doc '<b>{doc}</b>', cluster membership is: '<b>{cluster_doc}</b>'<p><br>\"))\n    return centroid_idx, centroid_vector, cluster_doc\n</pre></code>"
     },
     "metadata": {}
    }
   ],
   "source": [
    "scjpnutils.display_sourcecode(scjpnsubmodels.predict_kmeans_cluster_membership)"
   ]
  },
  {
   "cell_type": "code",
   "execution_count": 29,
   "metadata": {
    "scrolled": false
   },
   "outputs": [
    {
     "output_type": "display_data",
     "data": {
      "text/plain": "<IPython.core.display.HTML object>",
      "text/html": "predicted centroid idx: 14"
     },
     "metadata": {}
    },
    {
     "output_type": "display_data",
     "data": {
      "text/plain": "<IPython.core.display.HTML object>",
      "text/html": "for doc '<b>Adra /Community</b>', cluster membership is: '<b>adra community government</b>'<p><br>"
     },
     "metadata": {}
    },
    {
     "output_type": "display_data",
     "data": {
      "text/plain": "<IPython.core.display.HTML object>",
      "text/html": "predicted centroid idx: 14"
     },
     "metadata": {}
    },
    {
     "output_type": "display_data",
     "data": {
      "text/plain": "<IPython.core.display.HTML object>",
      "text/html": "for doc '<b>Adra /Community</b>', cluster membership is: '<b>adra community government</b>'<p><br>"
     },
     "metadata": {}
    },
    {
     "output_type": "display_data",
     "data": {
      "text/plain": "<IPython.core.display.HTML object>",
      "text/html": "predicted centroid idx: 14"
     },
     "metadata": {}
    },
    {
     "output_type": "display_data",
     "data": {
      "text/plain": "<IPython.core.display.HTML object>",
      "text/html": "for doc '<b>Adra/ Community</b>', cluster membership is: '<b>adra community government</b>'<p><br>"
     },
     "metadata": {}
    },
    {
     "output_type": "display_data",
     "data": {
      "text/plain": "<IPython.core.display.HTML object>",
      "text/html": "predicted centroid idx: 204"
     },
     "metadata": {}
    },
    {
     "output_type": "display_data",
     "data": {
      "text/plain": "<IPython.core.display.HTML object>",
      "text/html": "for doc '<b>World Vision</b>', cluster membership is: '<b>government vision world</b>'<p><br>"
     },
     "metadata": {}
    },
    {
     "output_type": "display_data",
     "data": {
      "text/plain": "<IPython.core.display.HTML object>",
      "text/html": "predicted centroid idx: 5"
     },
     "metadata": {}
    },
    {
     "output_type": "display_data",
     "data": {
      "text/plain": "<IPython.core.display.HTML object>",
      "text/html": "for doc '<b>MANYARA CONSTRUCTION</b>', cluster membership is: '<b>aar aartisa abasia abd abdala abdalkah abdallah abeid ac accra acles acord acra active ad adam adap adb adm adrs africa african africaone afrika afroz age agnes agrican agriculture ahmad ahmed ai aict aids aimgold aixos akiba alama alex ali alia ally allys amadi amari amboni ambrose ambwene amec american amini amref angels anglikan ansnani answar apm appro aqal aqua aqual aquarman aqwaman ar arisan arrian artisan asdp athumani atigh atisan australia auwasa ayubu baadela babtest babu bahresa bakari balyeh bank bao bar baric barry basin belgij bemanda benguka benjamin besada besado bffs bgm bgss bhoke bilila billy birage bkhws blues boards boazi bobby bokera boma boni bonite border bottles br bra brad bridge britain brown bruder bsf buguba builders buildings bukumb bulyahunlu bumabu busigaye caltas caltaz caltus calvary camartec camp cap caritas carmatech cast cbhcc ccec ccpk ccps cct cdt cdtf ce cement center centr ces cf cgi cha chama chamavita chani charles charlotte chela cheni chi chiko chikomesh chinese chini chiza chonja christan christian christina christopher chuo chur churc church cida cip citizen cjej clause claver club cmsr cobashec cocane cocu coek coew college committe communit compa compasion comunity concen concil concrete connection cons conservation construction consuting conta contr contracto contractor cooperation cosmo cosmos counci council cow cowi coyi cpro craelius crety cristan crs cspd cultus cvs dadi dadis dadp dads dak daldo dalta danda daniad danid danids daniel dannida danny dardo darus dasip dasp dassip dawasa dawe dbfpe dbsp dbspe dcca dct ddp ddsa de ded dee delta dema denish deogra depar deus dew dfid dh dhinu dhv di diamond dimon dina diocese distri district dmk dmmd doddea dokta domnik dr drainage drillers drilling dsp dspu dsv duwas dv dweb dwr dwsp dwt dww dydrotec ea eastmeru eco edward ef efam efarm efg ekura el elca elias elina eliza emanuel emayo embassy emmanuel engin engine engineer engineeri engineering engineers england eno entecostal enterp enterpr entrepr enyuati enyueti ereto estate ester estste eto european ewe exaud fabia fao fathe faudh faustine fehed fida fidia filber filex finland finn finw finwate floresta folac foreigne foundation fptc frankfurt free fresh frida friedkin fuka fund fur furahia fw ga gachuma gaica gain game gd gdp geita gen general geochaina geotan gerald gesine getdsc getekwe ggm gida ginery gold goldmain goldstar goldwill got gove goverm governmen gra grail great greec green greinaker greineker group grumenti grumet grumeti gwasco gwaseco gwitembe haam hale halimashauli halmashauli ham hamadi hamis hamisa hamisi handeni hands hanja hans happy harison hasawa hashi hashim hasnein hdv healt hearts heesaw helping hemed henure hery hesaw hesawq hesaws hesewa hiap high higima hilfe hindu holand holland hospi hotels howard hpa hsw huches humfreys hussein hydom hydrotec iado icap ics id idc idd idea idydc ifad ifakara ilaramataki ilct inc indi indiv inkinda insititutiona institute institution institutional inter internal internatio internationa inves invest investment ipuli irc irevea isla islam islamic ismail issa issaa itali iucn ja jacks jackson jafary jalca janguo jawabu jbg jeica jerem ji jika jiks jimmy joela joery john joseph jsica ju jumaa jumbe jumuhia jumuiya justine jwtz ka kadp kaem kaembe kaemp kagera kagimbo kagulo kahama kahema kaima kajima kakungu kalitasi kalitesi kalta kalugendo kalumbwa kaluwike kamama kamata kambi kampala kanamama kando kanisani kanyange kapelo kapwapwa karugendo kas kashere kashwa kassim kata kauzeni kawinga kayempu kc kdc kdpa kea kegocha kegoro kerebuka ki kia kibaha kidijas kidika kidp kigosi kigwa kihengu kikom kili kiliflora kilimanjaro kilimarondo kiliwater kill kilol kilolo kilwater kim kimkum kinapa kindoroko kinga kirdep kiseki kissaka kiswagala kita kitaponda kiuma kiwanda kizenga kk kmcl kmk kmt kno ko koberg koica kokeni korea korkonel korogwe kowi koyi kta ku kuamu kuji kumkum kurrp kuwaiti kuwasa kuweit kw kwamdulu kwasenenge kwi kwikwiz kyariga kyasha kyela kyore la laizer lakes lamp land landcare laramatak latifu lawate lawatefuka lc ldep lei lench leopad lgcdg lgq li lila linda lindi lions lips liuwassa lizad locall localtechnician lodge loggs loliondo lolmoloki lomoloki loocip losa losaa lt ltd luali luke luleka lungwe luo lusajo luthe luthelani luwassa lva lvia lwi mabena machibya mackd madra maerere magabe magani magige magoge magul mahambo mahemba mahita mahongwe main maishule maivaru maji makala makama makanya make makombo makore makori makoye makulata makundya makuru makusa mal malec males maliasili malola mama mamad mamaz mambe mamlaka mamvua mandia mango manyanya manyara manyovu mara marafin marijan mark marke martha marti marwa masai masanga masele masese mashaka masoud mataro matiiti matobola matogoro matyenye mawe max mayengo mazi mb mbaga mbawala mbeje mbise mbiusa mbiuwasa mboma mbunge mbuzi mbwambo mbwiro mc mchina mchuk md mdala mdrd mdrdp meco medium megis mem member meru mgaya mgm mh miab mianz mida migoko mihungo mila milenia mileniam milenium mine mining ministryof minjingu miomb misheni miss missi missio mission missionaries missionary missions miziriol mketo mkm mkon mkong mkongo mkono mkulima mkuluku mkuyu ml mlade mloka mmg mohamad mohamed mohamedi mokeki mona monmali moravian morning moro morogoro moroil morovi morrov morrovian moses mosqure motiba mount moyela moyowosi mp mpang mr mremi mrish msagin msambwa msig msigwa msiki msikit msikitini msuba msudi mtambo mtc mtewe mtoto mtui mtuwasa mtwara mu mualuaka muganga muham muhenza muhenzi muhindi muhochi mungaya muniko munyama murij murphy musa muslims muslimu musoma muwasa muwaza muwsa mviwa mvugalo mwaikeke mwakabalula mwakalinga mwaki mwakifuna mwalimu mwalongo mwamama mwamvita mwanamisi mwananchi mwandulami mwanza mwigicho mwl mws mzee mzinga mzung na nafco nampapanga nampopanga namungo nanra napupanga nasan nassan nassor nathal natio naya ndago ndanda nddp ndege ndm ndrdp neighbors nerthlands netherlands ng ngara ngassa ngelepo ngozi nice niger nimrod nirad njoonjoo njula nkunda none nora norani north noshad noshadi not ns nsc nssf nstrarion nu nyabarongo nyabibuye nyahale nyakilanganyi nyamasagi nyambizi nyamongo nyamwanji nyangarika nyangere nyanza nyanzwi nyeisa nyitamboka nzengula nzila obadia obc oda oikos okong ola oldonyolengai olomoloki ols omango omary ombe ongan orien orphanage others othod outrich overland ox oxfam oxfarm pad paffec pamoja panone parish park part paskali pata patrice patrick patuu paul paulo pci pentecosta pentecoste pentekoste people perliament perusi petro phase phillips pidp piscop pit pius plan plant plantation plc pmo po pori pr presadom prf prima primo prince priv priva privat product prof project pump pwd quickwins quik qukwin quwkwin qwick qwickwin railway rajabu ramadhani raramataki rashid raurensia raymond rdc rddc rdws realief recoda redap redeso regina rescue reserve resolute rhoda richard ridep rilayo rips rished ro road robert roma romam rombo rotar rotery rotte roya rps rssp ruangwa rude rudri rundaga runduman rusumo ruthe ruvu ruvuma rw rwedwe rwet rwi rwsp rwssp sa sabodo sacso safari safe sagaswe said sajin sajini sakwidi salamu saleh salehe saluati salum samaras samsoni samwel sao sau sauwasa saving school scott sdp seff segera seif sekondari seleman selemani selepta selikali selous sem senapa seng sent seram serena serengeti serens serikali serikari seronera sh shallow shamte shawasa shekhe shia shingida ship shule shuwasa shy si sia sida sijm simango simavi singida singita sipdo sisal sister sisters siza skwese smith socie society solidame solidarm soliderm solution songa sowasa ssu staford stampers stansilaus star stephano steven su suleman sumbaw sumo sumry sunamco sup supp suppl supplies suwasa sw swalehe sweeden swiss taasi tacri tadeo taees taes tahea taipo tajari tajiri tambalizeni tamimu tan tanap tanas tancan tancro tanesco tanga tanganyika tanload tanroad tansi tanz tanza tarangire tardo tareto tasa tasf tawasa tbl tdft technician tempo teonas ter teresa tgt tgts theo tho thomasi tltc tmn tmp tom total tove town townsh trachoma trading trc tredep tree tridep trunk tscr tsrc tukwale tukware tulawaka tumwanga tuwasa twe twende twess twig tz uaacc ubung udea uhai ukilig undp ungan unhcr unicrf union unisef universal upendo upm upper us usa usaid usambala use user users ushirika ustawi uyoge vc vi vicf vicfish vickfi vien vifaf vifai vill villa villaers villagerd villages villi villigers vitecos vodacom vtecos vttp vw vwc vwt wa wachina waheke wahidi waitaliano wajerumani wama wamba wambura wanjoda warento wasab washima wat water watoto wazir waziri wb wd wde wdeco wdp wedeco wedeko weepers well wesa wessons wfp william williamson wilson win winkyens without wo wordl workers works would woyege wsdp wssp wua wus wvc wvt ww ya yakwetu yasini yassin yebe yell yetu yohanis yoroko yumbaka zaburi zaharani zinduka zuber</b>'<p><br>"
     },
     "metadata": {}
    }
   ],
   "source": [
    "dirty_installer_samples = [\n",
    "    'Adra /Community',\n",
    "    'Adra /Community',\n",
    "    'Adra/ Community',\n",
    "    'World Vision',\n",
    "    'MANYARA CONSTRUCTION'\n",
    "]\n",
    "\n",
    "for dirty_installer_sample in dirty_installer_samples:\n",
    "    scjpnsubmodels.predict_kmeans_cluster_membership(\n",
    "        dirty_installer_sample, \n",
    "        kmeans, \n",
    "        tfidf_vectorizer, \n",
    "        idx_term_map, \n",
    "        suppress_output=False\n",
    "    );"
   ]
  },
  {
   "cell_type": "markdown",
   "metadata": {},
   "source": [
    "Um... okay?!  What on Earth happened with the class indentified by <code>KMeans</code> centroid index predicted for DIRTY category 'MANYARA CONSTRUCTION'???  Let's inspect the <code>TF-IDF</code> vector for this class."
   ]
  },
  {
   "cell_type": "code",
   "execution_count": 30,
   "metadata": {},
   "outputs": [
    {
     "output_type": "execute_result",
     "data": {
      "text/plain": "array([0.00084531, 0.00084531, 0.00084531, ..., 0.00084531, 0.        ,\n       0.00059772])"
     },
     "metadata": {},
     "execution_count": 30
    }
   ],
   "source": [
    "weird_cluster_idx = scjpnsubmodels.predict_kmeans_cluster_membership(\n",
    "    'MANYARA CONSTRUCTION', \n",
    "    kmeans, \n",
    "    tfidf_vectorizer, \n",
    "    idx_term_map, \n",
    "    suppress_output=True\n",
    ")[0]\n",
    "weird_cluster_tfdidf_vector = df_kmeans_clusters.iloc[weird_cluster_idx].tfidf_vector\n",
    "weird_cluster_tfdidf_vector"
   ]
  },
  {
   "cell_type": "code",
   "execution_count": 31,
   "metadata": {},
   "outputs": [
    {
     "output_type": "execute_result",
     "data": {
      "text/plain": "0.006452226689647709"
     },
     "metadata": {},
     "execution_count": 31
    }
   ],
   "source": [
    "weird_cluster_tfdidf_vector.max()"
   ]
  },
  {
   "cell_type": "markdown",
   "metadata": {},
   "source": [
    "Ahhh... so <code>KMeans</code> was smart enough to group all <i>low-importance</i> (low <b>Inverse Document Frequency</b>) terms together in a single class.  <u>We should then expect these to correspond to HIGH-occurrence DIRTY <b>installer</b> categories</u>.  So <b>observations containing <i>installer</i> belonging to this class should have a HIGH impact on the model predicting pump failure in the end - this is why they can be effectively grouped together while still maintaining high predictive power</b>.\n",
    "\n",
    "Now we move on to add the new feature, <b>installer_class</b>.\n",
    "\n",
    "<p><br>\n",
    "<h2>Add new feature: <i>installer_class</i></h2>\n",
    "\n",
    "This is very straightforward.  <b>We simply set <b>installer_class</b> to the correspondinng <code>KMeans</code> Cluster index</b>."
   ]
  },
  {
   "cell_type": "code",
   "execution_count": 32,
   "metadata": {},
   "outputs": [],
   "source": [
    "X_labeled_installer_clean['installer_class'] = X_labeled_installer_clean.installer.map(\n",
    "    lambda installer: scjpnsubmodels.predict_kmeans_cluster_membership(\n",
    "        installer, \n",
    "        kmeans, \n",
    "        tfidf_vectorizer, \n",
    "        idx_term_map, \n",
    "        suppress_output=True\n",
    "    )[0]\n",
    ")"
   ]
  },
  {
   "cell_type": "markdown",
   "metadata": {},
   "source": [
    "To wrap this up, let's have a look at the new feature in the data set."
   ]
  },
  {
   "cell_type": "code",
   "execution_count": 33,
   "metadata": {},
   "outputs": [
    {
     "output_type": "execute_result",
     "data": {
      "text/plain": "                  installer  installer_class\n0                     Roman               66\n1                   GRUMETI                5\n2              World vision              204\n3                    UNICEF              264\n4                   Artisan                5\n5                       DWE               63\n6                      DWSP                5\n7                       DWE               63\n8                 Water Aid              104\n9                   Artisan                5\n10                  Private              145\n11                   DANIDA              138\n12             World vision              204\n13     Lawatefuka water sup                5\n14                   WEDECO                5\n15                      DWE               63\n16                      DWE               63\n17                      DWE               63\n18                      DWE               63\n19                    Danid                5\n20                      TWE                5\n21                      DWE               63\n22                      DWE               63\n23                      ISF              120\n24                      DWE               63\n...                     ...              ...\n59375                   DWE               63\n59376                  None                5\n59377            Government              146\n59378                  ACRA                5\n59379                    DO                5\n59380                 Roman               66\n59381                   DWE               63\n59382                   DWE               63\n59383            World bank              130\n59384               CONCERN               46\n59385              JAICA CO              203\n59386                   DWE               63\n59387                     0                5\n59388                   DWE               63\n59389                   DWE               63\n59390                   DWE               63\n59391            Government              146\n59392            Government              146\n59393               Private              145\n59394              ML appro                5\n59395                   CES                5\n59396                  Cefa               53\n59397                  None                5\n59398                  Musa                5\n59399                 World              196\n\n[59400 rows x 2 columns]",
      "text/html": "<div>\n<style scoped>\n    .dataframe tbody tr th:only-of-type {\n        vertical-align: middle;\n    }\n\n    .dataframe tbody tr th {\n        vertical-align: top;\n    }\n\n    .dataframe thead th {\n        text-align: right;\n    }\n</style>\n<table border=\"1\" class=\"dataframe\">\n  <thead>\n    <tr style=\"text-align: right;\">\n      <th></th>\n      <th>installer</th>\n      <th>installer_class</th>\n    </tr>\n  </thead>\n  <tbody>\n    <tr>\n      <th>0</th>\n      <td>Roman</td>\n      <td>66</td>\n    </tr>\n    <tr>\n      <th>1</th>\n      <td>GRUMETI</td>\n      <td>5</td>\n    </tr>\n    <tr>\n      <th>2</th>\n      <td>World vision</td>\n      <td>204</td>\n    </tr>\n    <tr>\n      <th>3</th>\n      <td>UNICEF</td>\n      <td>264</td>\n    </tr>\n    <tr>\n      <th>4</th>\n      <td>Artisan</td>\n      <td>5</td>\n    </tr>\n    <tr>\n      <th>5</th>\n      <td>DWE</td>\n      <td>63</td>\n    </tr>\n    <tr>\n      <th>6</th>\n      <td>DWSP</td>\n      <td>5</td>\n    </tr>\n    <tr>\n      <th>7</th>\n      <td>DWE</td>\n      <td>63</td>\n    </tr>\n    <tr>\n      <th>8</th>\n      <td>Water Aid</td>\n      <td>104</td>\n    </tr>\n    <tr>\n      <th>9</th>\n      <td>Artisan</td>\n      <td>5</td>\n    </tr>\n    <tr>\n      <th>10</th>\n      <td>Private</td>\n      <td>145</td>\n    </tr>\n    <tr>\n      <th>11</th>\n      <td>DANIDA</td>\n      <td>138</td>\n    </tr>\n    <tr>\n      <th>12</th>\n      <td>World vision</td>\n      <td>204</td>\n    </tr>\n    <tr>\n      <th>13</th>\n      <td>Lawatefuka water sup</td>\n      <td>5</td>\n    </tr>\n    <tr>\n      <th>14</th>\n      <td>WEDECO</td>\n      <td>5</td>\n    </tr>\n    <tr>\n      <th>15</th>\n      <td>DWE</td>\n      <td>63</td>\n    </tr>\n    <tr>\n      <th>16</th>\n      <td>DWE</td>\n      <td>63</td>\n    </tr>\n    <tr>\n      <th>17</th>\n      <td>DWE</td>\n      <td>63</td>\n    </tr>\n    <tr>\n      <th>18</th>\n      <td>DWE</td>\n      <td>63</td>\n    </tr>\n    <tr>\n      <th>19</th>\n      <td>Danid</td>\n      <td>5</td>\n    </tr>\n    <tr>\n      <th>20</th>\n      <td>TWE</td>\n      <td>5</td>\n    </tr>\n    <tr>\n      <th>21</th>\n      <td>DWE</td>\n      <td>63</td>\n    </tr>\n    <tr>\n      <th>22</th>\n      <td>DWE</td>\n      <td>63</td>\n    </tr>\n    <tr>\n      <th>23</th>\n      <td>ISF</td>\n      <td>120</td>\n    </tr>\n    <tr>\n      <th>24</th>\n      <td>DWE</td>\n      <td>63</td>\n    </tr>\n    <tr>\n      <th>...</th>\n      <td>...</td>\n      <td>...</td>\n    </tr>\n    <tr>\n      <th>59375</th>\n      <td>DWE</td>\n      <td>63</td>\n    </tr>\n    <tr>\n      <th>59376</th>\n      <td>None</td>\n      <td>5</td>\n    </tr>\n    <tr>\n      <th>59377</th>\n      <td>Government</td>\n      <td>146</td>\n    </tr>\n    <tr>\n      <th>59378</th>\n      <td>ACRA</td>\n      <td>5</td>\n    </tr>\n    <tr>\n      <th>59379</th>\n      <td>DO</td>\n      <td>5</td>\n    </tr>\n    <tr>\n      <th>59380</th>\n      <td>Roman</td>\n      <td>66</td>\n    </tr>\n    <tr>\n      <th>59381</th>\n      <td>DWE</td>\n      <td>63</td>\n    </tr>\n    <tr>\n      <th>59382</th>\n      <td>DWE</td>\n      <td>63</td>\n    </tr>\n    <tr>\n      <th>59383</th>\n      <td>World bank</td>\n      <td>130</td>\n    </tr>\n    <tr>\n      <th>59384</th>\n      <td>CONCERN</td>\n      <td>46</td>\n    </tr>\n    <tr>\n      <th>59385</th>\n      <td>JAICA CO</td>\n      <td>203</td>\n    </tr>\n    <tr>\n      <th>59386</th>\n      <td>DWE</td>\n      <td>63</td>\n    </tr>\n    <tr>\n      <th>59387</th>\n      <td>0</td>\n      <td>5</td>\n    </tr>\n    <tr>\n      <th>59388</th>\n      <td>DWE</td>\n      <td>63</td>\n    </tr>\n    <tr>\n      <th>59389</th>\n      <td>DWE</td>\n      <td>63</td>\n    </tr>\n    <tr>\n      <th>59390</th>\n      <td>DWE</td>\n      <td>63</td>\n    </tr>\n    <tr>\n      <th>59391</th>\n      <td>Government</td>\n      <td>146</td>\n    </tr>\n    <tr>\n      <th>59392</th>\n      <td>Government</td>\n      <td>146</td>\n    </tr>\n    <tr>\n      <th>59393</th>\n      <td>Private</td>\n      <td>145</td>\n    </tr>\n    <tr>\n      <th>59394</th>\n      <td>ML appro</td>\n      <td>5</td>\n    </tr>\n    <tr>\n      <th>59395</th>\n      <td>CES</td>\n      <td>5</td>\n    </tr>\n    <tr>\n      <th>59396</th>\n      <td>Cefa</td>\n      <td>53</td>\n    </tr>\n    <tr>\n      <th>59397</th>\n      <td>None</td>\n      <td>5</td>\n    </tr>\n    <tr>\n      <th>59398</th>\n      <td>Musa</td>\n      <td>5</td>\n    </tr>\n    <tr>\n      <th>59399</th>\n      <td>World</td>\n      <td>196</td>\n    </tr>\n  </tbody>\n</table>\n<p>59400 rows × 2 columns</p>\n</div>"
     },
     "metadata": {},
     "execution_count": 33
    }
   ],
   "source": [
    "X_labeled_installer_clean = X_labeled_installer_clean.drop(\n",
    "    [\n",
    "        'installer_stripped_lcase',\n",
    "        'installer_word_tokenized',\n",
    "        'installer_word_tokenized_no_stopwords',\n",
    "        'installer_after_tfidf'\n",
    "    ], \n",
    "    axis=1\n",
    ")\n",
    "X_labeled_installer_clean"
   ]
  },
  {
   "cell_type": "markdown",
   "metadata": {},
   "source": [
    "Let's have a look at the distribution of the new <b>installer_class</b> feature."
   ]
  },
  {
   "cell_type": "code",
   "execution_count": 39,
   "metadata": {},
   "outputs": [
    {
     "output_type": "execute_result",
     "data": {
      "text/plain": "<matplotlib.axes._subplots.AxesSubplot at 0x7f8c95621b50>"
     },
     "metadata": {},
     "execution_count": 39
    },
    {
     "output_type": "display_data",
     "data": {
      "text/plain": "<Figure size 1080x432 with 1 Axes>",
      "image/svg+xml": "<?xml version=\"1.0\" encoding=\"utf-8\" standalone=\"no\"?>\n<!DOCTYPE svg PUBLIC \"-//W3C//DTD SVG 1.1//EN\"\n  \"http://www.w3.org/Graphics/SVG/1.1/DTD/svg11.dtd\">\n<!-- Created with matplotlib (https://matplotlib.org/) -->\n<svg height=\"357.238125pt\" version=\"1.1\" viewBox=\"0 0 890.2125 357.238125\" width=\"890.2125pt\" xmlns=\"http://www.w3.org/2000/svg\" xmlns:xlink=\"http://www.w3.org/1999/xlink\">\n <defs>\n  <style type=\"text/css\">\n*{stroke-linecap:butt;stroke-linejoin:round;}\n  </style>\n </defs>\n <g id=\"figure_1\">\n  <g id=\"patch_1\">\n   <path d=\"M 0 357.238125 \nL 890.2125 357.238125 \nL 890.2125 0 \nL 0 0 \nz\n\" style=\"fill:none;\"/>\n  </g>\n  <g id=\"axes_1\">\n   <g id=\"patch_2\">\n    <path d=\"M 46.0125 333.36 \nL 883.0125 333.36 \nL 883.0125 7.2 \nL 46.0125 7.2 \nz\n\" style=\"fill:#ffffff;\"/>\n   </g>\n   <g id=\"patch_3\">\n    <path clip-path=\"url(#p2452057671)\" d=\"M 84.057955 333.36 \nL 86.544586 333.36 \nL 86.544586 333.342231 \nL 84.057955 333.342231 \nz\n\" style=\"fill:#1f77b4;\"/>\n   </g>\n   <g id=\"patch_4\">\n    <path clip-path=\"url(#p2452057671)\" d=\"M 86.544586 333.36 \nL 89.031217 333.36 \nL 89.031217 316.088049 \nL 86.544586 316.088049 \nz\n\" style=\"fill:#1f77b4;\"/>\n   </g>\n   <g id=\"patch_5\">\n    <path clip-path=\"url(#p2452057671)\" d=\"M 89.031217 333.36 \nL 91.517848 333.36 \nL 91.517848 333.146766 \nL 89.031217 333.146766 \nz\n\" style=\"fill:#1f77b4;\"/>\n   </g>\n   <g id=\"patch_6\">\n    <path clip-path=\"url(#p2452057671)\" d=\"M 91.517848 333.36 \nL 94.004479 333.36 \nL 94.004479 331.849593 \nL 91.517848 331.849593 \nz\n\" style=\"fill:#1f77b4;\"/>\n   </g>\n   <g id=\"patch_7\">\n    <path clip-path=\"url(#p2452057671)\" d=\"M 94.004479 333.36 \nL 96.49111 333.36 \nL 96.49111 332.29383 \nL 94.004479 332.29383 \nz\n\" style=\"fill:#1f77b4;\"/>\n   </g>\n   <g id=\"patch_8\">\n    <path clip-path=\"url(#p2452057671)\" d=\"M 96.49111 333.36 \nL 98.977741 333.36 \nL 98.977741 36.485019 \nL 96.49111 36.485019 \nz\n\" style=\"fill:#1f77b4;\"/>\n   </g>\n   <g id=\"patch_9\">\n    <path clip-path=\"url(#p2452057671)\" d=\"M 98.977741 333.36 \nL 101.464372 333.36 \nL 101.464372 333.200075 \nL 98.977741 333.200075 \nz\n\" style=\"fill:#1f77b4;\"/>\n   </g>\n   <g id=\"patch_10\">\n    <path clip-path=\"url(#p2452057671)\" d=\"M 101.464372 333.36 \nL 103.951003 333.36 \nL 103.951003 333.306692 \nL 101.464372 333.306692 \nz\n\" style=\"fill:#1f77b4;\"/>\n   </g>\n   <g id=\"patch_11\">\n    <path clip-path=\"url(#p2452057671)\" d=\"M 103.951003 333.36 \nL 106.437634 333.36 \nL 106.437634 333.253383 \nL 103.951003 333.253383 \nz\n\" style=\"fill:#1f77b4;\"/>\n   </g>\n   <g id=\"patch_12\">\n    <path clip-path=\"url(#p2452057671)\" d=\"M 106.437634 333.36 \nL 108.924265 333.36 \nL 108.924265 332.880224 \nL 106.437634 332.880224 \nz\n\" style=\"fill:#1f77b4;\"/>\n   </g>\n   <g id=\"patch_13\">\n    <path clip-path=\"url(#p2452057671)\" d=\"M 108.924265 333.36 \nL 111.410896 333.36 \nL 111.410896 331.529742 \nL 108.924265 331.529742 \nz\n\" style=\"fill:#1f77b4;\"/>\n   </g>\n   <g id=\"patch_14\">\n    <path clip-path=\"url(#p2452057671)\" d=\"M 111.410896 333.36 \nL 113.897527 333.36 \nL 113.897527 333.093458 \nL 111.410896 333.093458 \nz\n\" style=\"fill:#1f77b4;\"/>\n   </g>\n   <g id=\"patch_15\">\n    <path clip-path=\"url(#p2452057671)\" d=\"M 113.897527 333.36 \nL 116.384158 333.36 \nL 116.384158 330.996657 \nL 113.897527 330.996657 \nz\n\" style=\"fill:#1f77b4;\"/>\n   </g>\n   <g id=\"patch_16\">\n    <path clip-path=\"url(#p2452057671)\" d=\"M 116.384158 333.36 \nL 118.870789 333.36 \nL 118.870789 333.324461 \nL 116.384158 333.324461 \nz\n\" style=\"fill:#1f77b4;\"/>\n   </g>\n   <g id=\"patch_17\">\n    <path clip-path=\"url(#p2452057671)\" d=\"M 118.870789 333.36 \nL 121.35742 333.36 \nL 121.35742 328.455619 \nL 118.870789 328.455619 \nz\n\" style=\"fill:#1f77b4;\"/>\n   </g>\n   <g id=\"patch_18\">\n    <path clip-path=\"url(#p2452057671)\" d=\"M 121.35742 333.36 \nL 123.844051 333.36 \nL 123.844051 332.969071 \nL 121.35742 332.969071 \nz\n\" style=\"fill:#1f77b4;\"/>\n   </g>\n   <g id=\"patch_19\">\n    <path clip-path=\"url(#p2452057671)\" d=\"M 123.844051 333.36 \nL 126.330682 333.36 \nL 126.330682 326.447666 \nL 123.844051 326.447666 \nz\n\" style=\"fill:#1f77b4;\"/>\n   </g>\n   <g id=\"patch_20\">\n    <path clip-path=\"url(#p2452057671)\" d=\"M 126.330682 333.36 \nL 128.817313 333.36 \nL 128.817313 330.765653 \nL 126.330682 330.765653 \nz\n\" style=\"fill:#1f77b4;\"/>\n   </g>\n   <g id=\"patch_21\">\n    <path clip-path=\"url(#p2452057671)\" d=\"M 128.817313 333.36 \nL 131.303944 333.36 \nL 131.303944 332.258291 \nL 128.817313 332.258291 \nz\n\" style=\"fill:#1f77b4;\"/>\n   </g>\n   <g id=\"patch_22\">\n    <path clip-path=\"url(#p2452057671)\" d=\"M 131.303944 333.36 \nL 133.790575 333.36 \nL 133.790575 332.969071 \nL 131.303944 332.969071 \nz\n\" style=\"fill:#1f77b4;\"/>\n   </g>\n   <g id=\"patch_23\">\n    <path clip-path=\"url(#p2452057671)\" d=\"M 133.790575 333.36 \nL 136.277206 333.36 \nL 136.277206 333.235614 \nL 133.790575 333.235614 \nz\n\" style=\"fill:#1f77b4;\"/>\n   </g>\n   <g id=\"patch_24\">\n    <path clip-path=\"url(#p2452057671)\" d=\"M 136.277206 333.36 \nL 138.763837 333.36 \nL 138.763837 333.146766 \nL 136.277206 333.146766 \nz\n\" style=\"fill:#1f77b4;\"/>\n   </g>\n   <g id=\"patch_25\">\n    <path clip-path=\"url(#p2452057671)\" d=\"M 138.763837 333.36 \nL 141.250468 333.36 \nL 141.250468 332.826915 \nL 138.763837 332.826915 \nz\n\" style=\"fill:#1f77b4;\"/>\n   </g>\n   <g id=\"patch_26\">\n    <path clip-path=\"url(#p2452057671)\" d=\"M 141.250468 333.36 \nL 143.737099 333.36 \nL 143.737099 333.146766 \nL 141.250468 333.146766 \nz\n\" style=\"fill:#1f77b4;\"/>\n   </g>\n   <g id=\"patch_27\">\n    <path clip-path=\"url(#p2452057671)\" d=\"M 143.737099 333.36 \nL 146.22373 333.36 \nL 146.22373 319.766335 \nL 143.737099 319.766335 \nz\n\" style=\"fill:#1f77b4;\"/>\n   </g>\n   <g id=\"patch_28\">\n    <path clip-path=\"url(#p2452057671)\" d=\"M 146.22373 333.36 \nL 148.710361 333.36 \nL 148.710361 333.02238 \nL 146.22373 333.02238 \nz\n\" style=\"fill:#1f77b4;\"/>\n   </g>\n   <g id=\"patch_29\">\n    <path clip-path=\"url(#p2452057671)\" d=\"M 148.710361 333.36 \nL 151.196992 333.36 \nL 151.196992 332.578142 \nL 148.710361 332.578142 \nz\n\" style=\"fill:#1f77b4;\"/>\n   </g>\n   <g id=\"patch_30\">\n    <path clip-path=\"url(#p2452057671)\" d=\"M 151.196992 333.36 \nL 153.683623 333.36 \nL 153.683623 333.324461 \nL 151.196992 333.324461 \nz\n\" style=\"fill:#1f77b4;\"/>\n   </g>\n   <g id=\"patch_31\">\n    <path clip-path=\"url(#p2452057671)\" d=\"M 153.683623 333.36 \nL 156.170254 333.36 \nL 156.170254 332.844685 \nL 153.683623 332.844685 \nz\n\" style=\"fill:#1f77b4;\"/>\n   </g>\n   <g id=\"patch_32\">\n    <path clip-path=\"url(#p2452057671)\" d=\"M 156.170254 333.36 \nL 158.656885 333.36 \nL 158.656885 325.59473 \nL 156.170254 325.59473 \nz\n\" style=\"fill:#1f77b4;\"/>\n   </g>\n   <g id=\"patch_33\">\n    <path clip-path=\"url(#p2452057671)\" d=\"M 158.656885 333.36 \nL 161.143516 333.36 \nL 161.143516 333.271153 \nL 158.656885 333.271153 \nz\n\" style=\"fill:#1f77b4;\"/>\n   </g>\n   <g id=\"patch_34\">\n    <path clip-path=\"url(#p2452057671)\" d=\"M 161.143516 333.36 \nL 163.630147 333.36 \nL 163.630147 333.271153 \nL 161.143516 333.271153 \nz\n\" style=\"fill:#1f77b4;\"/>\n   </g>\n   <g id=\"patch_35\">\n    <path clip-path=\"url(#p2452057671)\" d=\"M 163.630147 333.36 \nL 166.116778 333.36 \nL 166.116778 333.324461 \nL 163.630147 333.324461 \nz\n\" style=\"fill:#1f77b4;\"/>\n   </g>\n   <g id=\"patch_36\">\n    <path clip-path=\"url(#p2452057671)\" d=\"M 166.116778 333.36 \nL 168.603409 333.36 \nL 168.603409 331.725206 \nL 166.116778 331.725206 \nz\n\" style=\"fill:#1f77b4;\"/>\n   </g>\n   <g id=\"patch_37\">\n    <path clip-path=\"url(#p2452057671)\" d=\"M 168.603409 333.36 \nL 171.09004 333.36 \nL 171.09004 333.271153 \nL 168.603409 333.271153 \nz\n\" style=\"fill:#1f77b4;\"/>\n   </g>\n   <g id=\"patch_38\">\n    <path clip-path=\"url(#p2452057671)\" d=\"M 171.09004 333.36 \nL 173.576671 333.36 \nL 173.576671 333.288922 \nL 171.09004 333.288922 \nz\n\" style=\"fill:#1f77b4;\"/>\n   </g>\n   <g id=\"patch_39\">\n    <path clip-path=\"url(#p2452057671)\" d=\"M 173.576671 333.36 \nL 176.063302 333.36 \nL 176.063302 333.040149 \nL 173.576671 333.040149 \nz\n\" style=\"fill:#1f77b4;\"/>\n   </g>\n   <g id=\"patch_40\">\n    <path clip-path=\"url(#p2452057671)\" d=\"M 176.063302 333.36 \nL 178.549933 333.36 \nL 178.549933 333.324461 \nL 176.063302 333.324461 \nz\n\" style=\"fill:#1f77b4;\"/>\n   </g>\n   <g id=\"patch_41\">\n    <path clip-path=\"url(#p2452057671)\" d=\"M 178.549933 333.36 \nL 181.036564 333.36 \nL 181.036564 320.619271 \nL 178.549933 320.619271 \nz\n\" style=\"fill:#1f77b4;\"/>\n   </g>\n   <g id=\"patch_42\">\n    <path clip-path=\"url(#p2452057671)\" d=\"M 181.036564 333.36 \nL 183.523195 333.36 \nL 183.523195 329.415172 \nL 181.036564 329.415172 \nz\n\" style=\"fill:#1f77b4;\"/>\n   </g>\n   <g id=\"patch_43\">\n    <path clip-path=\"url(#p2452057671)\" d=\"M 183.523195 333.36 \nL 186.009826 333.36 \nL 186.009826 333.253383 \nL 183.523195 333.253383 \nz\n\" style=\"fill:#1f77b4;\"/>\n   </g>\n   <g id=\"patch_44\">\n    <path clip-path=\"url(#p2452057671)\" d=\"M 186.009826 333.36 \nL 188.496457 333.36 \nL 188.496457 333.306692 \nL 186.009826 333.306692 \nz\n\" style=\"fill:#1f77b4;\"/>\n   </g>\n   <g id=\"patch_45\">\n    <path clip-path=\"url(#p2452057671)\" d=\"M 188.496457 333.36 \nL 190.983088 333.36 \nL 190.983088 332.347139 \nL 188.496457 332.347139 \nz\n\" style=\"fill:#1f77b4;\"/>\n   </g>\n   <g id=\"patch_46\">\n    <path clip-path=\"url(#p2452057671)\" d=\"M 190.983088 333.36 \nL 193.469719 333.36 \nL 193.469719 333.324461 \nL 190.983088 333.324461 \nz\n\" style=\"fill:#1f77b4;\"/>\n   </g>\n   <g id=\"patch_47\">\n    <path clip-path=\"url(#p2452057671)\" d=\"M 193.469719 333.36 \nL 195.95635 333.36 \nL 195.95635 333.040149 \nL 193.469719 333.040149 \nz\n\" style=\"fill:#1f77b4;\"/>\n   </g>\n   <g id=\"patch_48\">\n    <path clip-path=\"url(#p2452057671)\" d=\"M 195.95635 333.36 \nL 198.442981 333.36 \nL 198.442981 326.856364 \nL 195.95635 326.856364 \nz\n\" style=\"fill:#1f77b4;\"/>\n   </g>\n   <g id=\"patch_49\">\n    <path clip-path=\"url(#p2452057671)\" d=\"M 198.442981 333.36 \nL 200.929612 333.36 \nL 200.929612 332.489295 \nL 198.442981 332.489295 \nz\n\" style=\"fill:#1f77b4;\"/>\n   </g>\n   <g id=\"patch_50\">\n    <path clip-path=\"url(#p2452057671)\" d=\"M 200.929612 333.36 \nL 203.416243 333.36 \nL 203.416243 333.271153 \nL 200.929612 333.271153 \nz\n\" style=\"fill:#1f77b4;\"/>\n   </g>\n   <g id=\"patch_51\">\n    <path clip-path=\"url(#p2452057671)\" d=\"M 203.416243 333.36 \nL 205.902874 333.36 \nL 205.902874 333.324461 \nL 203.416243 333.324461 \nz\n\" style=\"fill:#1f77b4;\"/>\n   </g>\n   <g id=\"patch_52\">\n    <path clip-path=\"url(#p2452057671)\" d=\"M 205.902874 333.36 \nL 208.389505 333.36 \nL 208.389505 314.435486 \nL 205.902874 314.435486 \nz\n\" style=\"fill:#1f77b4;\"/>\n   </g>\n   <g id=\"patch_53\">\n    <path clip-path=\"url(#p2452057671)\" d=\"M 208.389505 333.36 \nL 210.876136 333.36 \nL 210.876136 331.902901 \nL 208.389505 331.902901 \nz\n\" style=\"fill:#1f77b4;\"/>\n   </g>\n   <g id=\"patch_54\">\n    <path clip-path=\"url(#p2452057671)\" d=\"M 210.876136 333.36 \nL 213.362767 333.36 \nL 213.362767 333.146766 \nL 210.876136 333.146766 \nz\n\" style=\"fill:#1f77b4;\"/>\n   </g>\n   <g id=\"patch_55\">\n    <path clip-path=\"url(#p2452057671)\" d=\"M 213.362767 333.36 \nL 215.849398 333.36 \nL 215.849398 332.844685 \nL 213.362767 332.844685 \nz\n\" style=\"fill:#1f77b4;\"/>\n   </g>\n   <g id=\"patch_56\">\n    <path clip-path=\"url(#p2452057671)\" d=\"M 215.849398 333.36 \nL 218.336029 333.36 \nL 218.336029 331.387586 \nL 215.849398 331.387586 \nz\n\" style=\"fill:#1f77b4;\"/>\n   </g>\n   <g id=\"patch_57\">\n    <path clip-path=\"url(#p2452057671)\" d=\"M 218.336029 333.36 \nL 220.82266 333.36 \nL 220.82266 327.869226 \nL 218.336029 327.869226 \nz\n\" style=\"fill:#1f77b4;\"/>\n   </g>\n   <g id=\"patch_58\">\n    <path clip-path=\"url(#p2452057671)\" d=\"M 220.82266 333.36 \nL 223.309291 333.36 \nL 223.309291 332.862454 \nL 220.82266 332.862454 \nz\n\" style=\"fill:#1f77b4;\"/>\n   </g>\n   <g id=\"patch_59\">\n    <path clip-path=\"url(#p2452057671)\" d=\"M 223.309291 333.36 \nL 225.795922 333.36 \nL 225.795922 333.342231 \nL 223.309291 333.342231 \nz\n\" style=\"fill:#1f77b4;\"/>\n   </g>\n   <g id=\"patch_60\">\n    <path clip-path=\"url(#p2452057671)\" d=\"M 225.795922 333.36 \nL 228.282553 333.36 \nL 228.282553 331.24543 \nL 225.795922 331.24543 \nz\n\" style=\"fill:#1f77b4;\"/>\n   </g>\n   <g id=\"patch_61\">\n    <path clip-path=\"url(#p2452057671)\" d=\"M 228.282553 333.36 \nL 230.769184 333.36 \nL 230.769184 331.298738 \nL 228.282553 331.298738 \nz\n\" style=\"fill:#1f77b4;\"/>\n   </g>\n   <g id=\"patch_62\">\n    <path clip-path=\"url(#p2452057671)\" d=\"M 230.769184 333.36 \nL 233.255816 333.36 \nL 233.255816 333.00461 \nL 230.769184 333.00461 \nz\n\" style=\"fill:#1f77b4;\"/>\n   </g>\n   <g id=\"patch_63\">\n    <path clip-path=\"url(#p2452057671)\" d=\"M 233.255816 333.36 \nL 235.742447 333.36 \nL 235.742447 333.342231 \nL 233.255816 333.342231 \nz\n\" style=\"fill:#1f77b4;\"/>\n   </g>\n   <g id=\"patch_64\">\n    <path clip-path=\"url(#p2452057671)\" d=\"M 235.742447 333.36 \nL 238.229078 333.36 \nL 238.229078 333.075688 \nL 235.742447 333.075688 \nz\n\" style=\"fill:#1f77b4;\"/>\n   </g>\n   <g id=\"patch_65\">\n    <path clip-path=\"url(#p2452057671)\" d=\"M 238.229078 333.36 \nL 240.715709 333.36 \nL 240.715709 333.164536 \nL 238.229078 333.164536 \nz\n\" style=\"fill:#1f77b4;\"/>\n   </g>\n   <g id=\"patch_66\">\n    <path clip-path=\"url(#p2452057671)\" d=\"M 240.715709 333.36 \nL 243.20234 333.36 \nL 243.20234 22.731429 \nL 240.715709 22.731429 \nz\n\" style=\"fill:#1f77b4;\"/>\n   </g>\n   <g id=\"patch_67\">\n    <path clip-path=\"url(#p2452057671)\" d=\"M 243.20234 333.36 \nL 245.688971 333.36 \nL 245.688971 332.969071 \nL 243.20234 332.969071 \nz\n\" style=\"fill:#1f77b4;\"/>\n   </g>\n   <g id=\"patch_68\">\n    <path clip-path=\"url(#p2452057671)\" d=\"M 245.688971 333.36 \nL 248.175602 333.36 \nL 248.175602 333.164536 \nL 245.688971 333.164536 \nz\n\" style=\"fill:#1f77b4;\"/>\n   </g>\n   <g id=\"patch_69\">\n    <path clip-path=\"url(#p2452057671)\" d=\"M 248.175602 333.36 \nL 250.662233 333.36 \nL 250.662233 331.369816 \nL 248.175602 331.369816 \nz\n\" style=\"fill:#1f77b4;\"/>\n   </g>\n   <g id=\"patch_70\">\n    <path clip-path=\"url(#p2452057671)\" d=\"M 250.662233 333.36 \nL 253.148864 333.36 \nL 253.148864 330.659037 \nL 250.662233 330.659037 \nz\n\" style=\"fill:#1f77b4;\"/>\n   </g>\n   <g id=\"patch_71\">\n    <path clip-path=\"url(#p2452057671)\" d=\"M 253.148864 333.36 \nL 255.635495 333.36 \nL 255.635495 330.854501 \nL 253.148864 330.854501 \nz\n\" style=\"fill:#1f77b4;\"/>\n   </g>\n   <g id=\"patch_72\">\n    <path clip-path=\"url(#p2452057671)\" d=\"M 255.635495 333.36 \nL 258.122126 333.36 \nL 258.122126 332.844685 \nL 255.635495 332.844685 \nz\n\" style=\"fill:#1f77b4;\"/>\n   </g>\n   <g id=\"patch_73\">\n    <path clip-path=\"url(#p2452057671)\" d=\"M 258.122126 333.36 \nL 260.608757 333.36 \nL 260.608757 332.684759 \nL 258.122126 332.684759 \nz\n\" style=\"fill:#1f77b4;\"/>\n   </g>\n   <g id=\"patch_74\">\n    <path clip-path=\"url(#p2452057671)\" d=\"M 260.608757 333.36 \nL 263.095388 333.36 \nL 263.095388 331.95621 \nL 260.608757 331.95621 \nz\n\" style=\"fill:#1f77b4;\"/>\n   </g>\n   <g id=\"patch_75\">\n    <path clip-path=\"url(#p2452057671)\" d=\"M 263.095388 333.36 \nL 265.582019 333.36 \nL 265.582019 332.364908 \nL 263.095388 332.364908 \nz\n\" style=\"fill:#1f77b4;\"/>\n   </g>\n   <g id=\"patch_76\">\n    <path clip-path=\"url(#p2452057671)\" d=\"M 265.582019 333.36 \nL 268.06865 333.36 \nL 268.06865 330.17926 \nL 265.582019 330.17926 \nz\n\" style=\"fill:#1f77b4;\"/>\n   </g>\n   <g id=\"patch_77\">\n    <path clip-path=\"url(#p2452057671)\" d=\"M 268.06865 333.36 \nL 270.555281 333.36 \nL 270.555281 333.306692 \nL 268.06865 333.306692 \nz\n\" style=\"fill:#1f77b4;\"/>\n   </g>\n   <g id=\"patch_78\">\n    <path clip-path=\"url(#p2452057671)\" d=\"M 270.555281 333.36 \nL 273.041912 333.36 \nL 273.041912 332.933532 \nL 270.555281 332.933532 \nz\n\" style=\"fill:#1f77b4;\"/>\n   </g>\n   <g id=\"patch_79\">\n    <path clip-path=\"url(#p2452057671)\" d=\"M 273.041912 333.36 \nL 275.528543 333.36 \nL 275.528543 333.306692 \nL 273.041912 333.306692 \nz\n\" style=\"fill:#1f77b4;\"/>\n   </g>\n   <g id=\"patch_80\">\n    <path clip-path=\"url(#p2452057671)\" d=\"M 275.528543 333.36 \nL 278.015174 333.36 \nL 278.015174 333.253383 \nL 275.528543 333.253383 \nz\n\" style=\"fill:#1f77b4;\"/>\n   </g>\n   <g id=\"patch_81\">\n    <path clip-path=\"url(#p2452057671)\" d=\"M 278.015174 333.36 \nL 280.501805 333.36 \nL 280.501805 332.560373 \nL 278.015174 332.560373 \nz\n\" style=\"fill:#1f77b4;\"/>\n   </g>\n   <g id=\"patch_82\">\n    <path clip-path=\"url(#p2452057671)\" d=\"M 280.501805 333.36 \nL 282.988436 333.36 \nL 282.988436 332.915763 \nL 280.501805 332.915763 \nz\n\" style=\"fill:#1f77b4;\"/>\n   </g>\n   <g id=\"patch_83\">\n    <path clip-path=\"url(#p2452057671)\" d=\"M 282.988436 333.36 \nL 285.475067 333.36 \nL 285.475067 333.253383 \nL 282.988436 333.253383 \nz\n\" style=\"fill:#1f77b4;\"/>\n   </g>\n   <g id=\"patch_84\">\n    <path clip-path=\"url(#p2452057671)\" d=\"M 285.475067 333.36 \nL 287.961698 333.36 \nL 287.961698 333.217844 \nL 285.475067 333.217844 \nz\n\" style=\"fill:#1f77b4;\"/>\n   </g>\n   <g id=\"patch_85\">\n    <path clip-path=\"url(#p2452057671)\" d=\"M 287.961698 333.36 \nL 290.448329 333.36 \nL 290.448329 333.217844 \nL 287.961698 333.217844 \nz\n\" style=\"fill:#1f77b4;\"/>\n   </g>\n   <g id=\"patch_86\">\n    <path clip-path=\"url(#p2452057671)\" d=\"M 290.448329 333.36 \nL 292.93496 333.36 \nL 292.93496 333.324461 \nL 290.448329 333.324461 \nz\n\" style=\"fill:#1f77b4;\"/>\n   </g>\n   <g id=\"patch_87\">\n    <path clip-path=\"url(#p2452057671)\" d=\"M 292.93496 333.36 \nL 295.421591 333.36 \nL 295.421591 332.844685 \nL 292.93496 332.844685 \nz\n\" style=\"fill:#1f77b4;\"/>\n   </g>\n   <g id=\"patch_88\">\n    <path clip-path=\"url(#p2452057671)\" d=\"M 295.421591 333.36 \nL 297.908222 333.36 \nL 297.908222 332.951302 \nL 295.421591 332.951302 \nz\n\" style=\"fill:#1f77b4;\"/>\n   </g>\n   <g id=\"patch_89\">\n    <path clip-path=\"url(#p2452057671)\" d=\"M 297.908222 333.36 \nL 300.394853 333.36 \nL 300.394853 327.549375 \nL 297.908222 327.549375 \nz\n\" style=\"fill:#1f77b4;\"/>\n   </g>\n   <g id=\"patch_90\">\n    <path clip-path=\"url(#p2452057671)\" d=\"M 300.394853 333.36 \nL 302.881484 333.36 \nL 302.881484 308.571552 \nL 300.394853 308.571552 \nz\n\" style=\"fill:#1f77b4;\"/>\n   </g>\n   <g id=\"patch_91\">\n    <path clip-path=\"url(#p2452057671)\" d=\"M 302.881484 333.36 \nL 305.368115 333.36 \nL 305.368115 331.085504 \nL 302.881484 331.085504 \nz\n\" style=\"fill:#1f77b4;\"/>\n   </g>\n   <g id=\"patch_92\">\n    <path clip-path=\"url(#p2452057671)\" d=\"M 305.368115 333.36 \nL 307.854746 333.36 \nL 307.854746 333.200075 \nL 305.368115 333.200075 \nz\n\" style=\"fill:#1f77b4;\"/>\n   </g>\n   <g id=\"patch_93\">\n    <path clip-path=\"url(#p2452057671)\" d=\"M 307.854746 333.36 \nL 310.341377 333.36 \nL 310.341377 331.95621 \nL 307.854746 331.95621 \nz\n\" style=\"fill:#1f77b4;\"/>\n   </g>\n   <g id=\"patch_94\">\n    <path clip-path=\"url(#p2452057671)\" d=\"M 310.341377 333.36 \nL 312.828008 333.36 \nL 312.828008 328.917626 \nL 310.341377 328.917626 \nz\n\" style=\"fill:#1f77b4;\"/>\n   </g>\n   <g id=\"patch_95\">\n    <path clip-path=\"url(#p2452057671)\" d=\"M 312.828008 333.36 \nL 315.314639 333.36 \nL 315.314639 333.306692 \nL 312.828008 333.306692 \nz\n\" style=\"fill:#1f77b4;\"/>\n   </g>\n   <g id=\"patch_96\">\n    <path clip-path=\"url(#p2452057671)\" d=\"M 315.314639 333.36 \nL 317.80127 333.36 \nL 317.80127 332.116135 \nL 315.314639 332.116135 \nz\n\" style=\"fill:#1f77b4;\"/>\n   </g>\n   <g id=\"patch_97\">\n    <path clip-path=\"url(#p2452057671)\" d=\"M 317.80127 333.36 \nL 320.287901 333.36 \nL 320.287901 332.951302 \nL 317.80127 332.951302 \nz\n\" style=\"fill:#1f77b4;\"/>\n   </g>\n   <g id=\"patch_98\">\n    <path clip-path=\"url(#p2452057671)\" d=\"M 320.287901 333.36 \nL 322.774532 333.36 \nL 322.774532 333.235614 \nL 320.287901 333.235614 \nz\n\" style=\"fill:#1f77b4;\"/>\n   </g>\n   <g id=\"patch_99\">\n    <path clip-path=\"url(#p2452057671)\" d=\"M 322.774532 333.36 \nL 325.261163 333.36 \nL 325.261163 333.02238 \nL 322.774532 333.02238 \nz\n\" style=\"fill:#1f77b4;\"/>\n   </g>\n   <g id=\"patch_100\">\n    <path clip-path=\"url(#p2452057671)\" d=\"M 325.261163 333.36 \nL 327.747794 333.36 \nL 327.747794 331.192121 \nL 325.261163 331.192121 \nz\n\" style=\"fill:#1f77b4;\"/>\n   </g>\n   <g id=\"patch_101\">\n    <path clip-path=\"url(#p2452057671)\" d=\"M 327.747794 333.36 \nL 330.234425 333.36 \nL 330.234425 333.324461 \nL 327.747794 333.324461 \nz\n\" style=\"fill:#1f77b4;\"/>\n   </g>\n   <g id=\"patch_102\">\n    <path clip-path=\"url(#p2452057671)\" d=\"M 330.234425 333.36 \nL 332.721056 333.36 \nL 332.721056 333.111227 \nL 330.234425 333.111227 \nz\n\" style=\"fill:#1f77b4;\"/>\n   </g>\n   <g id=\"patch_103\">\n    <path clip-path=\"url(#p2452057671)\" d=\"M 332.721056 333.36 \nL 335.207687 333.36 \nL 335.207687 333.288922 \nL 332.721056 333.288922 \nz\n\" style=\"fill:#1f77b4;\"/>\n   </g>\n   <g id=\"patch_104\">\n    <path clip-path=\"url(#p2452057671)\" d=\"M 335.207687 333.36 \nL 337.694318 333.36 \nL 337.694318 329.13086 \nL 335.207687 329.13086 \nz\n\" style=\"fill:#1f77b4;\"/>\n   </g>\n   <g id=\"patch_105\">\n    <path clip-path=\"url(#p2452057671)\" d=\"M 337.694318 333.36 \nL 340.180949 333.36 \nL 340.180949 333.324461 \nL 337.694318 333.324461 \nz\n\" style=\"fill:#1f77b4;\"/>\n   </g>\n   <g id=\"patch_106\">\n    <path clip-path=\"url(#p2452057671)\" d=\"M 340.180949 333.36 \nL 342.66758 333.36 \nL 342.66758 333.324461 \nL 340.180949 333.324461 \nz\n\" style=\"fill:#1f77b4;\"/>\n   </g>\n   <g id=\"patch_107\">\n    <path clip-path=\"url(#p2452057671)\" d=\"M 342.66758 333.36 \nL 345.154211 333.36 \nL 345.154211 330.463572 \nL 342.66758 330.463572 \nz\n\" style=\"fill:#1f77b4;\"/>\n   </g>\n   <g id=\"patch_108\">\n    <path clip-path=\"url(#p2452057671)\" d=\"M 345.154211 333.36 \nL 347.640842 333.36 \nL 347.640842 333.253383 \nL 345.154211 333.253383 \nz\n\" style=\"fill:#1f77b4;\"/>\n   </g>\n   <g id=\"patch_109\">\n    <path clip-path=\"url(#p2452057671)\" d=\"M 347.640842 333.36 \nL 350.127473 333.36 \nL 350.127473 333.164536 \nL 347.640842 333.164536 \nz\n\" style=\"fill:#1f77b4;\"/>\n   </g>\n   <g id=\"patch_110\">\n    <path clip-path=\"url(#p2452057671)\" d=\"M 350.127473 333.36 \nL 352.614104 333.36 \nL 352.614104 333.253383 \nL 350.127473 333.253383 \nz\n\" style=\"fill:#1f77b4;\"/>\n   </g>\n   <g id=\"patch_111\">\n    <path clip-path=\"url(#p2452057671)\" d=\"M 352.614104 333.36 \nL 355.100735 333.36 \nL 355.100735 333.306692 \nL 352.614104 333.306692 \nz\n\" style=\"fill:#1f77b4;\"/>\n   </g>\n   <g id=\"patch_112\">\n    <path clip-path=\"url(#p2452057671)\" d=\"M 355.100735 333.36 \nL 357.587366 333.36 \nL 357.587366 333.075688 \nL 355.100735 333.075688 \nz\n\" style=\"fill:#1f77b4;\"/>\n   </g>\n   <g id=\"patch_113\">\n    <path clip-path=\"url(#p2452057671)\" d=\"M 357.587366 333.36 \nL 360.073997 333.36 \nL 360.073997 333.164536 \nL 357.587366 333.164536 \nz\n\" style=\"fill:#1f77b4;\"/>\n   </g>\n   <g id=\"patch_114\">\n    <path clip-path=\"url(#p2452057671)\" d=\"M 360.073997 333.36 \nL 362.560628 333.36 \nL 362.560628 333.164536 \nL 360.073997 333.164536 \nz\n\" style=\"fill:#1f77b4;\"/>\n   </g>\n   <g id=\"patch_115\">\n    <path clip-path=\"url(#p2452057671)\" d=\"M 362.560628 333.36 \nL 365.047259 333.36 \nL 365.047259 333.288922 \nL 362.560628 333.288922 \nz\n\" style=\"fill:#1f77b4;\"/>\n   </g>\n   <g id=\"patch_116\">\n    <path clip-path=\"url(#p2452057671)\" d=\"M 365.047259 333.36 \nL 367.53389 333.36 \nL 367.53389 333.200075 \nL 365.047259 333.200075 \nz\n\" style=\"fill:#1f77b4;\"/>\n   </g>\n   <g id=\"patch_117\">\n    <path clip-path=\"url(#p2452057671)\" d=\"M 367.53389 333.36 \nL 370.020521 333.36 \nL 370.020521 333.324461 \nL 367.53389 333.324461 \nz\n\" style=\"fill:#1f77b4;\"/>\n   </g>\n   <g id=\"patch_118\">\n    <path clip-path=\"url(#p2452057671)\" d=\"M 370.020521 333.36 \nL 372.507152 333.36 \nL 372.507152 333.217844 \nL 370.020521 333.217844 \nz\n\" style=\"fill:#1f77b4;\"/>\n   </g>\n   <g id=\"patch_119\">\n    <path clip-path=\"url(#p2452057671)\" d=\"M 372.507152 333.36 \nL 374.993783 333.36 \nL 374.993783 333.00461 \nL 372.507152 333.00461 \nz\n\" style=\"fill:#1f77b4;\"/>\n   </g>\n   <g id=\"patch_120\">\n    <path clip-path=\"url(#p2452057671)\" d=\"M 374.993783 333.36 \nL 377.480414 333.36 \nL 377.480414 333.342231 \nL 374.993783 333.342231 \nz\n\" style=\"fill:#1f77b4;\"/>\n   </g>\n   <g id=\"patch_121\">\n    <path clip-path=\"url(#p2452057671)\" d=\"M 377.480414 333.36 \nL 379.967045 333.36 \nL 379.967045 329.859409 \nL 377.480414 329.859409 \nz\n\" style=\"fill:#1f77b4;\"/>\n   </g>\n   <g id=\"patch_122\">\n    <path clip-path=\"url(#p2452057671)\" d=\"M 379.967045 333.36 \nL 382.453676 333.36 \nL 382.453676 333.342231 \nL 379.967045 333.342231 \nz\n\" style=\"fill:#1f77b4;\"/>\n   </g>\n   <g id=\"patch_123\">\n    <path clip-path=\"url(#p2452057671)\" d=\"M 382.453676 333.36 \nL 384.940307 333.36 \nL 384.940307 330.410264 \nL 382.453676 330.410264 \nz\n\" style=\"fill:#1f77b4;\"/>\n   </g>\n   <g id=\"patch_124\">\n    <path clip-path=\"url(#p2452057671)\" d=\"M 384.940307 333.36 \nL 387.426939 333.36 \nL 387.426939 332.773607 \nL 384.940307 332.773607 \nz\n\" style=\"fill:#1f77b4;\"/>\n   </g>\n   <g id=\"patch_125\">\n    <path clip-path=\"url(#p2452057671)\" d=\"M 387.426939 333.36 \nL 389.91357 333.36 \nL 389.91357 327.460527 \nL 387.426939 327.460527 \nz\n\" style=\"fill:#1f77b4;\"/>\n   </g>\n   <g id=\"patch_126\">\n    <path clip-path=\"url(#p2452057671)\" d=\"M 389.91357 333.36 \nL 392.400201 333.36 \nL 392.400201 333.271153 \nL 389.91357 333.271153 \nz\n\" style=\"fill:#1f77b4;\"/>\n   </g>\n   <g id=\"patch_127\">\n    <path clip-path=\"url(#p2452057671)\" d=\"M 392.400201 333.36 \nL 394.886832 333.36 \nL 394.886832 333.111227 \nL 392.400201 333.111227 \nz\n\" style=\"fill:#1f77b4;\"/>\n   </g>\n   <g id=\"patch_128\">\n    <path clip-path=\"url(#p2452057671)\" d=\"M 394.886832 333.36 \nL 397.373463 333.36 \nL 397.373463 332.986841 \nL 394.886832 332.986841 \nz\n\" style=\"fill:#1f77b4;\"/>\n   </g>\n   <g id=\"patch_129\">\n    <path clip-path=\"url(#p2452057671)\" d=\"M 397.373463 333.36 \nL 399.860094 333.36 \nL 399.860094 333.288922 \nL 397.373463 333.288922 \nz\n\" style=\"fill:#1f77b4;\"/>\n   </g>\n   <g id=\"patch_130\">\n    <path clip-path=\"url(#p2452057671)\" d=\"M 399.860094 333.36 \nL 402.346725 333.36 \nL 402.346725 332.187213 \nL 399.860094 332.187213 \nz\n\" style=\"fill:#1f77b4;\"/>\n   </g>\n   <g id=\"patch_131\">\n    <path clip-path=\"url(#p2452057671)\" d=\"M 402.346725 333.36 \nL 404.833356 333.36 \nL 404.833356 329.201938 \nL 402.346725 329.201938 \nz\n\" style=\"fill:#1f77b4;\"/>\n   </g>\n   <g id=\"patch_132\">\n    <path clip-path=\"url(#p2452057671)\" d=\"M 404.833356 333.36 \nL 407.319987 333.36 \nL 407.319987 333.253383 \nL 404.833356 333.253383 \nz\n\" style=\"fill:#1f77b4;\"/>\n   </g>\n   <g id=\"patch_133\">\n    <path clip-path=\"url(#p2452057671)\" d=\"M 407.319987 333.36 \nL 409.806618 333.36 \nL 409.806618 330.641267 \nL 407.319987 330.641267 \nz\n\" style=\"fill:#1f77b4;\"/>\n   </g>\n   <g id=\"patch_134\">\n    <path clip-path=\"url(#p2452057671)\" d=\"M 409.806618 333.36 \nL 412.293249 333.36 \nL 412.293249 333.306692 \nL 409.806618 333.306692 \nz\n\" style=\"fill:#1f77b4;\"/>\n   </g>\n   <g id=\"patch_135\">\n    <path clip-path=\"url(#p2452057671)\" d=\"M 412.293249 333.36 \nL 414.77988 333.36 \nL 414.77988 333.288922 \nL 412.293249 333.288922 \nz\n\" style=\"fill:#1f77b4;\"/>\n   </g>\n   <g id=\"patch_136\">\n    <path clip-path=\"url(#p2452057671)\" d=\"M 414.77988 333.36 \nL 417.266511 333.36 \nL 417.266511 332.720298 \nL 414.77988 332.720298 \nz\n\" style=\"fill:#1f77b4;\"/>\n   </g>\n   <g id=\"patch_137\">\n    <path clip-path=\"url(#p2452057671)\" d=\"M 417.266511 333.36 \nL 419.753142 333.36 \nL 419.753142 332.080596 \nL 417.266511 332.080596 \nz\n\" style=\"fill:#1f77b4;\"/>\n   </g>\n   <g id=\"patch_138\">\n    <path clip-path=\"url(#p2452057671)\" d=\"M 419.753142 333.36 \nL 422.239773 333.36 \nL 422.239773 332.880224 \nL 419.753142 332.880224 \nz\n\" style=\"fill:#1f77b4;\"/>\n   </g>\n   <g id=\"patch_139\">\n    <path clip-path=\"url(#p2452057671)\" d=\"M 422.239773 333.36 \nL 424.726404 333.36 \nL 424.726404 333.342231 \nL 422.239773 333.342231 \nz\n\" style=\"fill:#1f77b4;\"/>\n   </g>\n   <g id=\"patch_140\">\n    <path clip-path=\"url(#p2452057671)\" d=\"M 424.726404 333.36 \nL 427.213035 333.36 \nL 427.213035 333.342231 \nL 424.726404 333.342231 \nz\n\" style=\"fill:#1f77b4;\"/>\n   </g>\n   <g id=\"patch_141\">\n    <path clip-path=\"url(#p2452057671)\" d=\"M 427.213035 333.36 \nL 429.699666 333.36 \nL 429.699666 314.684259 \nL 427.213035 314.684259 \nz\n\" style=\"fill:#1f77b4;\"/>\n   </g>\n   <g id=\"patch_142\">\n    <path clip-path=\"url(#p2452057671)\" d=\"M 429.699666 333.36 \nL 432.186297 333.36 \nL 432.186297 333.164536 \nL 429.699666 333.164536 \nz\n\" style=\"fill:#1f77b4;\"/>\n   </g>\n   <g id=\"patch_143\">\n    <path clip-path=\"url(#p2452057671)\" d=\"M 432.186297 333.36 \nL 434.672928 333.36 \nL 434.672928 333.342231 \nL 432.186297 333.342231 \nz\n\" style=\"fill:#1f77b4;\"/>\n   </g>\n   <g id=\"patch_144\">\n    <path clip-path=\"url(#p2452057671)\" d=\"M 434.672928 333.36 \nL 437.159559 333.36 \nL 437.159559 333.342231 \nL 434.672928 333.342231 \nz\n\" style=\"fill:#1f77b4;\"/>\n   </g>\n   <g id=\"patch_145\">\n    <path clip-path=\"url(#p2452057671)\" d=\"M 437.159559 333.36 \nL 439.64619 333.36 \nL 439.64619 333.00461 \nL 437.159559 333.00461 \nz\n\" style=\"fill:#1f77b4;\"/>\n   </g>\n   <g id=\"patch_146\">\n    <path clip-path=\"url(#p2452057671)\" d=\"M 439.64619 333.36 \nL 442.132821 333.36 \nL 442.132821 331.885132 \nL 439.64619 331.885132 \nz\n\" style=\"fill:#1f77b4;\"/>\n   </g>\n   <g id=\"patch_147\">\n    <path clip-path=\"url(#p2452057671)\" d=\"M 442.132821 333.36 \nL 444.619452 333.36 \nL 444.619452 333.075688 \nL 442.132821 333.075688 \nz\n\" style=\"fill:#1f77b4;\"/>\n   </g>\n   <g id=\"patch_148\">\n    <path clip-path=\"url(#p2452057671)\" d=\"M 444.619452 333.36 \nL 447.106083 333.36 \nL 447.106083 330.392494 \nL 444.619452 330.392494 \nz\n\" style=\"fill:#1f77b4;\"/>\n   </g>\n   <g id=\"patch_149\">\n    <path clip-path=\"url(#p2452057671)\" d=\"M 447.106083 333.36 \nL 449.592714 333.36 \nL 449.592714 299.011563 \nL 447.106083 299.011563 \nz\n\" style=\"fill:#1f77b4;\"/>\n   </g>\n   <g id=\"patch_150\">\n    <path clip-path=\"url(#p2452057671)\" d=\"M 449.592714 333.36 \nL 452.079345 333.36 \nL 452.079345 331.511972 \nL 449.592714 331.511972 \nz\n\" style=\"fill:#1f77b4;\"/>\n   </g>\n   <g id=\"patch_151\">\n    <path clip-path=\"url(#p2452057671)\" d=\"M 452.079345 333.36 \nL 454.565976 333.36 \nL 454.565976 333.324461 \nL 452.079345 333.324461 \nz\n\" style=\"fill:#1f77b4;\"/>\n   </g>\n   <g id=\"patch_152\">\n    <path clip-path=\"url(#p2452057671)\" d=\"M 454.565976 333.36 \nL 457.052607 333.36 \nL 457.052607 333.253383 \nL 454.565976 333.253383 \nz\n\" style=\"fill:#1f77b4;\"/>\n   </g>\n   <g id=\"patch_153\">\n    <path clip-path=\"url(#p2452057671)\" d=\"M 457.052607 333.36 \nL 459.539238 333.36 \nL 459.539238 332.986841 \nL 457.052607 332.986841 \nz\n\" style=\"fill:#1f77b4;\"/>\n   </g>\n   <g id=\"patch_154\">\n    <path clip-path=\"url(#p2452057671)\" d=\"M 459.539238 333.36 \nL 462.025869 333.36 \nL 462.025869 325.985659 \nL 459.539238 325.985659 \nz\n\" style=\"fill:#1f77b4;\"/>\n   </g>\n   <g id=\"patch_155\">\n    <path clip-path=\"url(#p2452057671)\" d=\"M 462.025869 333.36 \nL 464.5125 333.36 \nL 464.5125 333.093458 \nL 462.025869 333.093458 \nz\n\" style=\"fill:#1f77b4;\"/>\n   </g>\n   <g id=\"patch_156\">\n    <path clip-path=\"url(#p2452057671)\" d=\"M 464.5125 333.36 \nL 466.999131 333.36 \nL 466.999131 333.271153 \nL 464.5125 333.271153 \nz\n\" style=\"fill:#1f77b4;\"/>\n   </g>\n   <g id=\"patch_157\">\n    <path clip-path=\"url(#p2452057671)\" d=\"M 466.999131 333.36 \nL 469.485762 333.36 \nL 469.485762 331.618589 \nL 466.999131 331.618589 \nz\n\" style=\"fill:#1f77b4;\"/>\n   </g>\n   <g id=\"patch_158\">\n    <path clip-path=\"url(#p2452057671)\" d=\"M 469.485762 333.36 \nL 471.972393 333.36 \nL 471.972393 333.288922 \nL 469.485762 333.288922 \nz\n\" style=\"fill:#1f77b4;\"/>\n   </g>\n   <g id=\"patch_159\">\n    <path clip-path=\"url(#p2452057671)\" d=\"M 471.972393 333.36 \nL 474.459024 333.36 \nL 474.459024 330.996657 \nL 471.972393 330.996657 \nz\n\" style=\"fill:#1f77b4;\"/>\n   </g>\n   <g id=\"patch_160\">\n    <path clip-path=\"url(#p2452057671)\" d=\"M 474.459024 333.36 \nL 476.945655 333.36 \nL 476.945655 333.253383 \nL 474.459024 333.253383 \nz\n\" style=\"fill:#1f77b4;\"/>\n   </g>\n   <g id=\"patch_161\">\n    <path clip-path=\"url(#p2452057671)\" d=\"M 476.945655 333.36 \nL 479.432286 333.36 \nL 479.432286 333.217844 \nL 476.945655 333.217844 \nz\n\" style=\"fill:#1f77b4;\"/>\n   </g>\n   <g id=\"patch_162\">\n    <path clip-path=\"url(#p2452057671)\" d=\"M 479.432286 333.36 \nL 481.918917 333.36 \nL 481.918917 333.288922 \nL 479.432286 333.288922 \nz\n\" style=\"fill:#1f77b4;\"/>\n   </g>\n   <g id=\"patch_163\">\n    <path clip-path=\"url(#p2452057671)\" d=\"M 481.918917 333.36 \nL 484.405548 333.36 \nL 484.405548 332.826915 \nL 481.918917 332.826915 \nz\n\" style=\"fill:#1f77b4;\"/>\n   </g>\n   <g id=\"patch_164\">\n    <path clip-path=\"url(#p2452057671)\" d=\"M 484.405548 333.36 \nL 486.892179 333.36 \nL 486.892179 333.271153 \nL 484.405548 333.271153 \nz\n\" style=\"fill:#1f77b4;\"/>\n   </g>\n   <g id=\"patch_165\">\n    <path clip-path=\"url(#p2452057671)\" d=\"M 486.892179 333.36 \nL 489.37881 333.36 \nL 489.37881 333.271153 \nL 486.892179 333.271153 \nz\n\" style=\"fill:#1f77b4;\"/>\n   </g>\n   <g id=\"patch_166\">\n    <path clip-path=\"url(#p2452057671)\" d=\"M 489.37881 333.36 \nL 491.865441 333.36 \nL 491.865441 332.986841 \nL 489.37881 332.986841 \nz\n\" style=\"fill:#1f77b4;\"/>\n   </g>\n   <g id=\"patch_167\">\n    <path clip-path=\"url(#p2452057671)\" d=\"M 491.865441 333.36 \nL 494.352072 333.36 \nL 494.352072 333.057919 \nL 491.865441 333.057919 \nz\n\" style=\"fill:#1f77b4;\"/>\n   </g>\n   <g id=\"patch_168\">\n    <path clip-path=\"url(#p2452057671)\" d=\"M 494.352072 333.36 \nL 496.838703 333.36 \nL 496.838703 333.128997 \nL 494.352072 333.128997 \nz\n\" style=\"fill:#1f77b4;\"/>\n   </g>\n   <g id=\"patch_169\">\n    <path clip-path=\"url(#p2452057671)\" d=\"M 496.838703 333.36 \nL 499.325334 333.36 \nL 499.325334 333.075688 \nL 496.838703 333.075688 \nz\n\" style=\"fill:#1f77b4;\"/>\n   </g>\n   <g id=\"patch_170\">\n    <path clip-path=\"url(#p2452057671)\" d=\"M 499.325334 333.36 \nL 501.811965 333.36 \nL 501.811965 333.146766 \nL 499.325334 333.146766 \nz\n\" style=\"fill:#1f77b4;\"/>\n   </g>\n   <g id=\"patch_171\">\n    <path clip-path=\"url(#p2452057671)\" d=\"M 501.811965 333.36 \nL 504.298596 333.36 \nL 504.298596 332.951302 \nL 501.811965 332.951302 \nz\n\" style=\"fill:#1f77b4;\"/>\n   </g>\n   <g id=\"patch_172\">\n    <path clip-path=\"url(#p2452057671)\" d=\"M 504.298596 333.36 \nL 506.785227 333.36 \nL 506.785227 333.306692 \nL 504.298596 333.306692 \nz\n\" style=\"fill:#1f77b4;\"/>\n   </g>\n   <g id=\"patch_173\">\n    <path clip-path=\"url(#p2452057671)\" d=\"M 506.785227 333.36 \nL 509.271858 333.36 \nL 509.271858 333.342231 \nL 506.785227 333.342231 \nz\n\" style=\"fill:#1f77b4;\"/>\n   </g>\n   <g id=\"patch_174\">\n    <path clip-path=\"url(#p2452057671)\" d=\"M 509.271858 333.36 \nL 511.758489 333.36 \nL 511.758489 333.146766 \nL 509.271858 333.146766 \nz\n\" style=\"fill:#1f77b4;\"/>\n   </g>\n   <g id=\"patch_175\">\n    <path clip-path=\"url(#p2452057671)\" d=\"M 511.758489 333.36 \nL 514.24512 333.36 \nL 514.24512 332.844685 \nL 511.758489 332.844685 \nz\n\" style=\"fill:#1f77b4;\"/>\n   </g>\n   <g id=\"patch_176\">\n    <path clip-path=\"url(#p2452057671)\" d=\"M 514.24512 333.36 \nL 516.731751 333.36 \nL 516.731751 333.324461 \nL 514.24512 333.324461 \nz\n\" style=\"fill:#1f77b4;\"/>\n   </g>\n   <g id=\"patch_177\">\n    <path clip-path=\"url(#p2452057671)\" d=\"M 516.731751 333.36 \nL 519.218382 333.36 \nL 519.218382 311.361363 \nL 516.731751 311.361363 \nz\n\" style=\"fill:#1f77b4;\"/>\n   </g>\n   <g id=\"patch_178\">\n    <path clip-path=\"url(#p2452057671)\" d=\"M 519.218382 333.36 \nL 521.705013 333.36 \nL 521.705013 332.844685 \nL 519.218382 332.844685 \nz\n\" style=\"fill:#1f77b4;\"/>\n   </g>\n   <g id=\"patch_179\">\n    <path clip-path=\"url(#p2452057671)\" d=\"M 521.705013 333.36 \nL 524.191644 333.36 \nL 524.191644 332.133905 \nL 521.705013 332.133905 \nz\n\" style=\"fill:#1f77b4;\"/>\n   </g>\n   <g id=\"patch_180\">\n    <path clip-path=\"url(#p2452057671)\" d=\"M 524.191644 333.36 \nL 526.678275 333.36 \nL 526.678275 333.324461 \nL 524.191644 333.324461 \nz\n\" style=\"fill:#1f77b4;\"/>\n   </g>\n   <g id=\"patch_181\">\n    <path clip-path=\"url(#p2452057671)\" d=\"M 526.678275 333.36 \nL 529.164906 333.36 \nL 529.164906 333.235614 \nL 526.678275 333.235614 \nz\n\" style=\"fill:#1f77b4;\"/>\n   </g>\n   <g id=\"patch_182\">\n    <path clip-path=\"url(#p2452057671)\" d=\"M 529.164906 333.36 \nL 531.651537 333.36 \nL 531.651537 333.271153 \nL 529.164906 333.271153 \nz\n\" style=\"fill:#1f77b4;\"/>\n   </g>\n   <g id=\"patch_183\">\n    <path clip-path=\"url(#p2452057671)\" d=\"M 531.651537 333.36 \nL 534.138168 333.36 \nL 534.138168 332.116135 \nL 531.651537 332.116135 \nz\n\" style=\"fill:#1f77b4;\"/>\n   </g>\n   <g id=\"patch_184\">\n    <path clip-path=\"url(#p2452057671)\" d=\"M 534.138168 333.36 \nL 536.624799 333.36 \nL 536.624799 333.075688 \nL 534.138168 333.075688 \nz\n\" style=\"fill:#1f77b4;\"/>\n   </g>\n   <g id=\"patch_185\">\n    <path clip-path=\"url(#p2452057671)\" d=\"M 536.624799 333.36 \nL 539.11143 333.36 \nL 539.11143 333.128997 \nL 536.624799 333.128997 \nz\n\" style=\"fill:#1f77b4;\"/>\n   </g>\n   <g id=\"patch_186\">\n    <path clip-path=\"url(#p2452057671)\" d=\"M 539.11143 333.36 \nL 541.598061 333.36 \nL 541.598061 333.093458 \nL 539.11143 333.093458 \nz\n\" style=\"fill:#1f77b4;\"/>\n   </g>\n   <g id=\"patch_187\">\n    <path clip-path=\"url(#p2452057671)\" d=\"M 541.598061 333.36 \nL 544.084693 333.36 \nL 544.084693 332.204983 \nL 541.598061 332.204983 \nz\n\" style=\"fill:#1f77b4;\"/>\n   </g>\n   <g id=\"patch_188\">\n    <path clip-path=\"url(#p2452057671)\" d=\"M 544.084693 333.36 \nL 546.571324 333.36 \nL 546.571324 329.894948 \nL 544.084693 329.894948 \nz\n\" style=\"fill:#1f77b4;\"/>\n   </g>\n   <g id=\"patch_189\">\n    <path clip-path=\"url(#p2452057671)\" d=\"M 546.571324 333.36 \nL 549.057955 333.36 \nL 549.057955 333.182305 \nL 546.571324 333.182305 \nz\n\" style=\"fill:#1f77b4;\"/>\n   </g>\n   <g id=\"patch_190\">\n    <path clip-path=\"url(#p2452057671)\" d=\"M 549.057955 333.36 \nL 551.544586 333.36 \nL 551.544586 331.742976 \nL 549.057955 331.742976 \nz\n\" style=\"fill:#1f77b4;\"/>\n   </g>\n   <g id=\"patch_191\">\n    <path clip-path=\"url(#p2452057671)\" d=\"M 551.544586 333.36 \nL 554.031217 333.36 \nL 554.031217 333.342231 \nL 551.544586 333.342231 \nz\n\" style=\"fill:#1f77b4;\"/>\n   </g>\n   <g id=\"patch_192\">\n    <path clip-path=\"url(#p2452057671)\" d=\"M 554.031217 333.36 \nL 556.517848 333.36 \nL 556.517848 333.324461 \nL 554.031217 333.324461 \nz\n\" style=\"fill:#1f77b4;\"/>\n   </g>\n   <g id=\"patch_193\">\n    <path clip-path=\"url(#p2452057671)\" d=\"M 556.517848 333.36 \nL 559.004479 333.36 \nL 559.004479 333.288922 \nL 556.517848 333.288922 \nz\n\" style=\"fill:#1f77b4;\"/>\n   </g>\n   <g id=\"patch_194\">\n    <path clip-path=\"url(#p2452057671)\" d=\"M 559.004479 333.36 \nL 561.49111 333.36 \nL 561.49111 329.415172 \nL 559.004479 329.415172 \nz\n\" style=\"fill:#1f77b4;\"/>\n   </g>\n   <g id=\"patch_195\">\n    <path clip-path=\"url(#p2452057671)\" d=\"M 561.49111 333.36 \nL 563.977741 333.36 \nL 563.977741 333.342231 \nL 561.49111 333.342231 \nz\n\" style=\"fill:#1f77b4;\"/>\n   </g>\n   <g id=\"patch_196\">\n    <path clip-path=\"url(#p2452057671)\" d=\"M 563.977741 333.36 \nL 566.464372 333.36 \nL 566.464372 328.011381 \nL 563.977741 328.011381 \nz\n\" style=\"fill:#1f77b4;\"/>\n   </g>\n   <g id=\"patch_197\">\n    <path clip-path=\"url(#p2452057671)\" d=\"M 566.464372 333.36 \nL 568.951003 333.36 \nL 568.951003 333.288922 \nL 566.464372 333.288922 \nz\n\" style=\"fill:#1f77b4;\"/>\n   </g>\n   <g id=\"patch_198\">\n    <path clip-path=\"url(#p2452057671)\" d=\"M 568.951003 333.36 \nL 571.437634 333.36 \nL 571.437634 333.306692 \nL 568.951003 333.306692 \nz\n\" style=\"fill:#1f77b4;\"/>\n   </g>\n   <g id=\"patch_199\">\n    <path clip-path=\"url(#p2452057671)\" d=\"M 571.437634 333.36 \nL 573.924265 333.36 \nL 573.924265 330.87227 \nL 571.437634 330.87227 \nz\n\" style=\"fill:#1f77b4;\"/>\n   </g>\n   <g id=\"patch_200\">\n    <path clip-path=\"url(#p2452057671)\" d=\"M 573.924265 333.36 \nL 576.410896 333.36 \nL 576.410896 333.306692 \nL 573.924265 333.306692 \nz\n\" style=\"fill:#1f77b4;\"/>\n   </g>\n   <g id=\"patch_201\">\n    <path clip-path=\"url(#p2452057671)\" d=\"M 576.410896 333.36 \nL 578.897527 333.36 \nL 578.897527 333.200075 \nL 576.410896 333.200075 \nz\n\" style=\"fill:#1f77b4;\"/>\n   </g>\n   <g id=\"patch_202\">\n    <path clip-path=\"url(#p2452057671)\" d=\"M 578.897527 333.36 \nL 581.384158 333.36 \nL 581.384158 333.324461 \nL 578.897527 333.324461 \nz\n\" style=\"fill:#1f77b4;\"/>\n   </g>\n   <g id=\"patch_203\">\n    <path clip-path=\"url(#p2452057671)\" d=\"M 581.384158 333.36 \nL 583.870789 333.36 \nL 583.870789 333.342231 \nL 581.384158 333.342231 \nz\n\" style=\"fill:#1f77b4;\"/>\n   </g>\n   <g id=\"patch_204\">\n    <path clip-path=\"url(#p2452057671)\" d=\"M 583.870789 333.36 \nL 586.35742 333.36 \nL 586.35742 333.288922 \nL 583.870789 333.288922 \nz\n\" style=\"fill:#1f77b4;\"/>\n   </g>\n   <g id=\"patch_205\">\n    <path clip-path=\"url(#p2452057671)\" d=\"M 586.35742 333.36 \nL 588.844051 333.36 \nL 588.844051 332.880224 \nL 586.35742 332.880224 \nz\n\" style=\"fill:#1f77b4;\"/>\n   </g>\n   <g id=\"patch_206\">\n    <path clip-path=\"url(#p2452057671)\" d=\"M 588.844051 333.36 \nL 591.330682 333.36 \nL 591.330682 329.042012 \nL 588.844051 329.042012 \nz\n\" style=\"fill:#1f77b4;\"/>\n   </g>\n   <g id=\"patch_207\">\n    <path clip-path=\"url(#p2452057671)\" d=\"M 591.330682 333.36 \nL 593.817313 333.36 \nL 593.817313 320.921352 \nL 591.330682 320.921352 \nz\n\" style=\"fill:#1f77b4;\"/>\n   </g>\n   <g id=\"patch_208\">\n    <path clip-path=\"url(#p2452057671)\" d=\"M 593.817313 333.36 \nL 596.303944 333.36 \nL 596.303944 332.773607 \nL 593.817313 332.773607 \nz\n\" style=\"fill:#1f77b4;\"/>\n   </g>\n   <g id=\"patch_209\">\n    <path clip-path=\"url(#p2452057671)\" d=\"M 596.303944 333.36 \nL 598.790575 333.36 \nL 598.790575 333.271153 \nL 596.303944 333.271153 \nz\n\" style=\"fill:#1f77b4;\"/>\n   </g>\n   <g id=\"patch_210\">\n    <path clip-path=\"url(#p2452057671)\" d=\"M 598.790575 333.36 \nL 601.277206 333.36 \nL 601.277206 333.200075 \nL 598.790575 333.200075 \nz\n\" style=\"fill:#1f77b4;\"/>\n   </g>\n   <g id=\"patch_211\">\n    <path clip-path=\"url(#p2452057671)\" d=\"M 601.277206 333.36 \nL 603.763837 333.36 \nL 603.763837 333.271153 \nL 601.277206 333.271153 \nz\n\" style=\"fill:#1f77b4;\"/>\n   </g>\n   <g id=\"patch_212\">\n    <path clip-path=\"url(#p2452057671)\" d=\"M 603.763837 333.36 \nL 606.250468 333.36 \nL 606.250468 329.237477 \nL 603.763837 329.237477 \nz\n\" style=\"fill:#1f77b4;\"/>\n   </g>\n   <g id=\"patch_213\">\n    <path clip-path=\"url(#p2452057671)\" d=\"M 606.250468 333.36 \nL 608.737099 333.36 \nL 608.737099 333.342231 \nL 606.250468 333.342231 \nz\n\" style=\"fill:#1f77b4;\"/>\n   </g>\n   <g id=\"patch_214\">\n    <path clip-path=\"url(#p2452057671)\" d=\"M 608.737099 333.36 \nL 611.22373 333.36 \nL 611.22373 333.324461 \nL 608.737099 333.324461 \nz\n\" style=\"fill:#1f77b4;\"/>\n   </g>\n   <g id=\"patch_215\">\n    <path clip-path=\"url(#p2452057671)\" d=\"M 611.22373 333.36 \nL 613.710361 333.36 \nL 613.710361 333.128997 \nL 611.22373 333.128997 \nz\n\" style=\"fill:#1f77b4;\"/>\n   </g>\n   <g id=\"patch_216\">\n    <path clip-path=\"url(#p2452057671)\" d=\"M 613.710361 333.36 \nL 616.196992 333.36 \nL 616.196992 333.324461 \nL 613.710361 333.324461 \nz\n\" style=\"fill:#1f77b4;\"/>\n   </g>\n   <g id=\"patch_217\">\n    <path clip-path=\"url(#p2452057671)\" d=\"M 616.196992 333.36 \nL 618.683623 333.36 \nL 618.683623 332.915763 \nL 616.196992 332.915763 \nz\n\" style=\"fill:#1f77b4;\"/>\n   </g>\n   <g id=\"patch_218\">\n    <path clip-path=\"url(#p2452057671)\" d=\"M 618.683623 333.36 \nL 621.170254 333.36 \nL 621.170254 332.631451 \nL 618.683623 332.631451 \nz\n\" style=\"fill:#1f77b4;\"/>\n   </g>\n   <g id=\"patch_219\">\n    <path clip-path=\"url(#p2452057671)\" d=\"M 621.170254 333.36 \nL 623.656885 333.36 \nL 623.656885 333.111227 \nL 621.170254 333.111227 \nz\n\" style=\"fill:#1f77b4;\"/>\n   </g>\n   <g id=\"patch_220\">\n    <path clip-path=\"url(#p2452057671)\" d=\"M 623.656885 333.36 \nL 626.143516 333.36 \nL 626.143516 333.235614 \nL 623.656885 333.235614 \nz\n\" style=\"fill:#1f77b4;\"/>\n   </g>\n   <g id=\"patch_221\">\n    <path clip-path=\"url(#p2452057671)\" d=\"M 626.143516 333.36 \nL 628.630147 333.36 \nL 628.630147 333.146766 \nL 626.143516 333.146766 \nz\n\" style=\"fill:#1f77b4;\"/>\n   </g>\n   <g id=\"patch_222\">\n    <path clip-path=\"url(#p2452057671)\" d=\"M 628.630147 333.36 \nL 631.116778 333.36 \nL 631.116778 332.613681 \nL 628.630147 332.613681 \nz\n\" style=\"fill:#1f77b4;\"/>\n   </g>\n   <g id=\"patch_223\">\n    <path clip-path=\"url(#p2452057671)\" d=\"M 631.116778 333.36 \nL 633.603409 333.36 \nL 633.603409 333.288922 \nL 631.116778 333.288922 \nz\n\" style=\"fill:#1f77b4;\"/>\n   </g>\n   <g id=\"patch_224\">\n    <path clip-path=\"url(#p2452057671)\" d=\"M 633.603409 333.36 \nL 636.09004 333.36 \nL 636.09004 333.324461 \nL 633.603409 333.324461 \nz\n\" style=\"fill:#1f77b4;\"/>\n   </g>\n   <g id=\"patch_225\">\n    <path clip-path=\"url(#p2452057671)\" d=\"M 636.09004 333.36 \nL 638.576671 333.36 \nL 638.576671 333.342231 \nL 636.09004 333.342231 \nz\n\" style=\"fill:#1f77b4;\"/>\n   </g>\n   <g id=\"patch_226\">\n    <path clip-path=\"url(#p2452057671)\" d=\"M 638.576671 333.36 \nL 641.063302 333.36 \nL 641.063302 333.075688 \nL 638.576671 333.075688 \nz\n\" style=\"fill:#1f77b4;\"/>\n   </g>\n   <g id=\"patch_227\">\n    <path clip-path=\"url(#p2452057671)\" d=\"M 641.063302 333.36 \nL 643.549933 333.36 \nL 643.549933 332.986841 \nL 641.063302 332.986841 \nz\n\" style=\"fill:#1f77b4;\"/>\n   </g>\n   <g id=\"patch_228\">\n    <path clip-path=\"url(#p2452057671)\" d=\"M 643.549933 333.36 \nL 646.036564 333.36 \nL 646.036564 333.288922 \nL 643.549933 333.288922 \nz\n\" style=\"fill:#1f77b4;\"/>\n   </g>\n   <g id=\"patch_229\">\n    <path clip-path=\"url(#p2452057671)\" d=\"M 646.036564 333.36 \nL 648.523195 333.36 \nL 648.523195 333.324461 \nL 646.036564 333.324461 \nz\n\" style=\"fill:#1f77b4;\"/>\n   </g>\n   <g id=\"patch_230\">\n    <path clip-path=\"url(#p2452057671)\" d=\"M 648.523195 333.36 \nL 651.009826 333.36 \nL 651.009826 333.00461 \nL 648.523195 333.00461 \nz\n\" style=\"fill:#1f77b4;\"/>\n   </g>\n   <g id=\"patch_231\">\n    <path clip-path=\"url(#p2452057671)\" d=\"M 651.009826 333.36 \nL 653.496457 333.36 \nL 653.496457 333.306692 \nL 651.009826 333.306692 \nz\n\" style=\"fill:#1f77b4;\"/>\n   </g>\n   <g id=\"patch_232\">\n    <path clip-path=\"url(#p2452057671)\" d=\"M 653.496457 333.36 \nL 655.983088 333.36 \nL 655.983088 333.324461 \nL 653.496457 333.324461 \nz\n\" style=\"fill:#1f77b4;\"/>\n   </g>\n   <g id=\"patch_233\">\n    <path clip-path=\"url(#p2452057671)\" d=\"M 655.983088 333.36 \nL 658.469719 333.36 \nL 658.469719 333.306692 \nL 655.983088 333.306692 \nz\n\" style=\"fill:#1f77b4;\"/>\n   </g>\n   <g id=\"patch_234\">\n    <path clip-path=\"url(#p2452057671)\" d=\"M 658.469719 333.36 \nL 660.95635 333.36 \nL 660.95635 333.288922 \nL 658.469719 333.288922 \nz\n\" style=\"fill:#1f77b4;\"/>\n   </g>\n   <g id=\"patch_235\">\n    <path clip-path=\"url(#p2452057671)\" d=\"M 660.95635 333.36 \nL 663.442981 333.36 \nL 663.442981 332.933532 \nL 660.95635 332.933532 \nz\n\" style=\"fill:#1f77b4;\"/>\n   </g>\n   <g id=\"patch_236\">\n    <path clip-path=\"url(#p2452057671)\" d=\"M 663.442981 333.36 \nL 665.929612 333.36 \nL 665.929612 333.342231 \nL 663.442981 333.342231 \nz\n\" style=\"fill:#1f77b4;\"/>\n   </g>\n   <g id=\"patch_237\">\n    <path clip-path=\"url(#p2452057671)\" d=\"M 665.929612 333.36 \nL 668.416243 333.36 \nL 668.416243 333.324461 \nL 665.929612 333.324461 \nz\n\" style=\"fill:#1f77b4;\"/>\n   </g>\n   <g id=\"patch_238\">\n    <path clip-path=\"url(#p2452057671)\" d=\"M 668.416243 333.36 \nL 670.902874 333.36 \nL 670.902874 333.00461 \nL 668.416243 333.00461 \nz\n\" style=\"fill:#1f77b4;\"/>\n   </g>\n   <g id=\"patch_239\">\n    <path clip-path=\"url(#p2452057671)\" d=\"M 670.902874 333.36 \nL 673.389505 333.36 \nL 673.389505 332.240522 \nL 670.902874 332.240522 \nz\n\" style=\"fill:#1f77b4;\"/>\n   </g>\n   <g id=\"patch_240\">\n    <path clip-path=\"url(#p2452057671)\" d=\"M 673.389505 333.36 \nL 675.876136 333.36 \nL 675.876136 333.342231 \nL 673.389505 333.342231 \nz\n\" style=\"fill:#1f77b4;\"/>\n   </g>\n   <g id=\"patch_241\">\n    <path clip-path=\"url(#p2452057671)\" d=\"M 675.876136 333.36 \nL 678.362767 333.36 \nL 678.362767 332.844685 \nL 675.876136 332.844685 \nz\n\" style=\"fill:#1f77b4;\"/>\n   </g>\n   <g id=\"patch_242\">\n    <path clip-path=\"url(#p2452057671)\" d=\"M 678.362767 333.36 \nL 680.849398 333.36 \nL 680.849398 333.146766 \nL 678.362767 333.146766 \nz\n\" style=\"fill:#1f77b4;\"/>\n   </g>\n   <g id=\"patch_243\">\n    <path clip-path=\"url(#p2452057671)\" d=\"M 680.849398 333.36 \nL 683.336029 333.36 \nL 683.336029 333.342231 \nL 680.849398 333.342231 \nz\n\" style=\"fill:#1f77b4;\"/>\n   </g>\n   <g id=\"patch_244\">\n    <path clip-path=\"url(#p2452057671)\" d=\"M 683.336029 333.36 \nL 685.82266 333.36 \nL 685.82266 331.796284 \nL 683.336029 331.796284 \nz\n\" style=\"fill:#1f77b4;\"/>\n   </g>\n   <g id=\"patch_245\">\n    <path clip-path=\"url(#p2452057671)\" d=\"M 685.82266 333.36 \nL 688.309291 333.36 \nL 688.309291 333.324461 \nL 685.82266 333.324461 \nz\n\" style=\"fill:#1f77b4;\"/>\n   </g>\n   <g id=\"patch_246\">\n    <path clip-path=\"url(#p2452057671)\" d=\"M 688.309291 333.36 \nL 690.795922 333.36 \nL 690.795922 333.324461 \nL 688.309291 333.324461 \nz\n\" style=\"fill:#1f77b4;\"/>\n   </g>\n   <g id=\"patch_247\">\n    <path clip-path=\"url(#p2452057671)\" d=\"M 690.795922 333.36 \nL 693.282553 333.36 \nL 693.282553 333.271153 \nL 690.795922 333.271153 \nz\n\" style=\"fill:#1f77b4;\"/>\n   </g>\n   <g id=\"patch_248\">\n    <path clip-path=\"url(#p2452057671)\" d=\"M 693.282553 333.36 \nL 695.769184 333.36 \nL 695.769184 324.279787 \nL 693.282553 324.279787 \nz\n\" style=\"fill:#1f77b4;\"/>\n   </g>\n   <g id=\"patch_249\">\n    <path clip-path=\"url(#p2452057671)\" d=\"M 695.769184 333.36 \nL 698.255816 333.36 \nL 698.255816 333.271153 \nL 695.769184 333.271153 \nz\n\" style=\"fill:#1f77b4;\"/>\n   </g>\n   <g id=\"patch_250\">\n    <path clip-path=\"url(#p2452057671)\" d=\"M 698.255816 333.36 \nL 700.742447 333.36 \nL 700.742447 333.182305 \nL 698.255816 333.182305 \nz\n\" style=\"fill:#1f77b4;\"/>\n   </g>\n   <g id=\"patch_251\">\n    <path clip-path=\"url(#p2452057671)\" d=\"M 700.742447 333.36 \nL 703.229078 333.36 \nL 703.229078 333.200075 \nL 700.742447 333.200075 \nz\n\" style=\"fill:#1f77b4;\"/>\n   </g>\n   <g id=\"patch_252\">\n    <path clip-path=\"url(#p2452057671)\" d=\"M 703.229078 333.36 \nL 705.715709 333.36 \nL 705.715709 333.235614 \nL 703.229078 333.235614 \nz\n\" style=\"fill:#1f77b4;\"/>\n   </g>\n   <g id=\"patch_253\">\n    <path clip-path=\"url(#p2452057671)\" d=\"M 705.715709 333.36 \nL 708.20234 333.36 \nL 708.20234 332.773607 \nL 705.715709 332.773607 \nz\n\" style=\"fill:#1f77b4;\"/>\n   </g>\n   <g id=\"patch_254\">\n    <path clip-path=\"url(#p2452057671)\" d=\"M 708.20234 333.36 \nL 710.688971 333.36 \nL 710.688971 333.324461 \nL 708.20234 333.324461 \nz\n\" style=\"fill:#1f77b4;\"/>\n   </g>\n   <g id=\"patch_255\">\n    <path clip-path=\"url(#p2452057671)\" d=\"M 710.688971 333.36 \nL 713.175602 333.36 \nL 713.175602 326.518744 \nL 710.688971 326.518744 \nz\n\" style=\"fill:#1f77b4;\"/>\n   </g>\n   <g id=\"patch_256\">\n    <path clip-path=\"url(#p2452057671)\" d=\"M 713.175602 333.36 \nL 715.662233 333.36 \nL 715.662233 332.915763 \nL 713.175602 332.915763 \nz\n\" style=\"fill:#1f77b4;\"/>\n   </g>\n   <g id=\"patch_257\">\n    <path clip-path=\"url(#p2452057671)\" d=\"M 715.662233 333.36 \nL 718.148864 333.36 \nL 718.148864 332.702529 \nL 715.662233 332.702529 \nz\n\" style=\"fill:#1f77b4;\"/>\n   </g>\n   <g id=\"patch_258\">\n    <path clip-path=\"url(#p2452057671)\" d=\"M 718.148864 333.36 \nL 720.635495 333.36 \nL 720.635495 333.342231 \nL 718.148864 333.342231 \nz\n\" style=\"fill:#1f77b4;\"/>\n   </g>\n   <g id=\"patch_259\">\n    <path clip-path=\"url(#p2452057671)\" d=\"M 720.635495 333.36 \nL 723.122126 333.36 \nL 723.122126 333.324461 \nL 720.635495 333.324461 \nz\n\" style=\"fill:#1f77b4;\"/>\n   </g>\n   <g id=\"patch_260\">\n    <path clip-path=\"url(#p2452057671)\" d=\"M 723.122126 333.36 \nL 725.608757 333.36 \nL 725.608757 333.306692 \nL 723.122126 333.306692 \nz\n\" style=\"fill:#1f77b4;\"/>\n   </g>\n   <g id=\"patch_261\">\n    <path clip-path=\"url(#p2452057671)\" d=\"M 725.608757 333.36 \nL 728.095388 333.36 \nL 728.095388 331.636359 \nL 725.608757 331.636359 \nz\n\" style=\"fill:#1f77b4;\"/>\n   </g>\n   <g id=\"patch_262\">\n    <path clip-path=\"url(#p2452057671)\" d=\"M 728.095388 333.36 \nL 730.582019 333.36 \nL 730.582019 331.263199 \nL 728.095388 331.263199 \nz\n\" style=\"fill:#1f77b4;\"/>\n   </g>\n   <g id=\"patch_263\">\n    <path clip-path=\"url(#p2452057671)\" d=\"M 730.582019 333.36 \nL 733.06865 333.36 \nL 733.06865 333.111227 \nL 730.582019 333.111227 \nz\n\" style=\"fill:#1f77b4;\"/>\n   </g>\n   <g id=\"patch_264\">\n    <path clip-path=\"url(#p2452057671)\" d=\"M 733.06865 333.36 \nL 735.555281 333.36 \nL 735.555281 333.324461 \nL 733.06865 333.324461 \nz\n\" style=\"fill:#1f77b4;\"/>\n   </g>\n   <g id=\"patch_265\">\n    <path clip-path=\"url(#p2452057671)\" d=\"M 735.555281 333.36 \nL 738.041912 333.36 \nL 738.041912 333.235614 \nL 735.555281 333.235614 \nz\n\" style=\"fill:#1f77b4;\"/>\n   </g>\n   <g id=\"patch_266\">\n    <path clip-path=\"url(#p2452057671)\" d=\"M 738.041912 333.36 \nL 740.528543 333.36 \nL 740.528543 333.324461 \nL 738.041912 333.324461 \nz\n\" style=\"fill:#1f77b4;\"/>\n   </g>\n   <g id=\"patch_267\">\n    <path clip-path=\"url(#p2452057671)\" d=\"M 740.528543 333.36 \nL 743.015174 333.36 \nL 743.015174 329.201938 \nL 740.528543 329.201938 \nz\n\" style=\"fill:#1f77b4;\"/>\n   </g>\n   <g id=\"patch_268\">\n    <path clip-path=\"url(#p2452057671)\" d=\"M 743.015174 333.36 \nL 745.501805 333.36 \nL 745.501805 332.986841 \nL 743.015174 332.986841 \nz\n\" style=\"fill:#1f77b4;\"/>\n   </g>\n   <g id=\"patch_269\">\n    <path clip-path=\"url(#p2452057671)\" d=\"M 745.501805 333.36 \nL 747.988436 333.36 \nL 747.988436 333.271153 \nL 745.501805 333.271153 \nz\n\" style=\"fill:#1f77b4;\"/>\n   </g>\n   <g id=\"patch_270\">\n    <path clip-path=\"url(#p2452057671)\" d=\"M 747.988436 333.36 \nL 750.475067 333.36 \nL 750.475067 333.324461 \nL 747.988436 333.324461 \nz\n\" style=\"fill:#1f77b4;\"/>\n   </g>\n   <g id=\"patch_271\">\n    <path clip-path=\"url(#p2452057671)\" d=\"M 750.475067 333.36 \nL 752.961698 333.36 \nL 752.961698 333.342231 \nL 750.475067 333.342231 \nz\n\" style=\"fill:#1f77b4;\"/>\n   </g>\n   <g id=\"patch_272\">\n    <path clip-path=\"url(#p2452057671)\" d=\"M 752.961698 333.36 \nL 755.448329 333.36 \nL 755.448329 332.418217 \nL 752.961698 332.418217 \nz\n\" style=\"fill:#1f77b4;\"/>\n   </g>\n   <g id=\"patch_273\">\n    <path clip-path=\"url(#p2452057671)\" d=\"M 755.448329 333.36 \nL 757.93496 333.36 \nL 757.93496 323.12477 \nL 755.448329 323.12477 \nz\n\" style=\"fill:#1f77b4;\"/>\n   </g>\n   <g id=\"patch_274\">\n    <path clip-path=\"url(#p2452057671)\" d=\"M 757.93496 333.36 \nL 760.421591 333.36 \nL 760.421591 333.324461 \nL 757.93496 333.324461 \nz\n\" style=\"fill:#1f77b4;\"/>\n   </g>\n   <g id=\"patch_275\">\n    <path clip-path=\"url(#p2452057671)\" d=\"M 760.421591 333.36 \nL 762.908222 333.36 \nL 762.908222 333.02238 \nL 760.421591 333.02238 \nz\n\" style=\"fill:#1f77b4;\"/>\n   </g>\n   <g id=\"patch_276\">\n    <path clip-path=\"url(#p2452057671)\" d=\"M 762.908222 333.36 \nL 765.394853 333.36 \nL 765.394853 333.200075 \nL 762.908222 333.200075 \nz\n\" style=\"fill:#1f77b4;\"/>\n   </g>\n   <g id=\"patch_277\">\n    <path clip-path=\"url(#p2452057671)\" d=\"M 765.394853 333.36 \nL 767.881484 333.36 \nL 767.881484 333.271153 \nL 765.394853 333.271153 \nz\n\" style=\"fill:#1f77b4;\"/>\n   </g>\n   <g id=\"patch_278\">\n    <path clip-path=\"url(#p2452057671)\" d=\"M 767.881484 333.36 \nL 770.368115 333.36 \nL 770.368115 333.235614 \nL 767.881484 333.235614 \nz\n\" style=\"fill:#1f77b4;\"/>\n   </g>\n   <g id=\"patch_279\">\n    <path clip-path=\"url(#p2452057671)\" d=\"M 770.368115 333.36 \nL 772.854746 333.36 \nL 772.854746 333.342231 \nL 770.368115 333.342231 \nz\n\" style=\"fill:#1f77b4;\"/>\n   </g>\n   <g id=\"patch_280\">\n    <path clip-path=\"url(#p2452057671)\" d=\"M 772.854746 333.36 \nL 775.341377 333.36 \nL 775.341377 333.040149 \nL 772.854746 333.040149 \nz\n\" style=\"fill:#1f77b4;\"/>\n   </g>\n   <g id=\"patch_281\">\n    <path clip-path=\"url(#p2452057671)\" d=\"M 775.341377 333.36 \nL 777.828008 333.36 \nL 777.828008 333.271153 \nL 775.341377 333.271153 \nz\n\" style=\"fill:#1f77b4;\"/>\n   </g>\n   <g id=\"patch_282\">\n    <path clip-path=\"url(#p2452057671)\" d=\"M 777.828008 333.36 \nL 780.314639 333.36 \nL 780.314639 333.128997 \nL 777.828008 333.128997 \nz\n\" style=\"fill:#1f77b4;\"/>\n   </g>\n   <g id=\"patch_283\">\n    <path clip-path=\"url(#p2452057671)\" d=\"M 780.314639 333.36 \nL 782.80127 333.36 \nL 782.80127 333.342231 \nL 780.314639 333.342231 \nz\n\" style=\"fill:#1f77b4;\"/>\n   </g>\n   <g id=\"patch_284\">\n    <path clip-path=\"url(#p2452057671)\" d=\"M 782.80127 333.36 \nL 785.287901 333.36 \nL 785.287901 332.773607 \nL 782.80127 332.773607 \nz\n\" style=\"fill:#1f77b4;\"/>\n   </g>\n   <g id=\"patch_285\">\n    <path clip-path=\"url(#p2452057671)\" d=\"M 785.287901 333.36 \nL 787.774532 333.36 \nL 787.774532 333.342231 \nL 785.287901 333.342231 \nz\n\" style=\"fill:#1f77b4;\"/>\n   </g>\n   <g id=\"patch_286\">\n    <path clip-path=\"url(#p2452057671)\" d=\"M 787.774532 333.36 \nL 790.261163 333.36 \nL 790.261163 332.862454 \nL 787.774532 332.862454 \nz\n\" style=\"fill:#1f77b4;\"/>\n   </g>\n   <g id=\"patch_287\">\n    <path clip-path=\"url(#p2452057671)\" d=\"M 790.261163 333.36 \nL 792.747794 333.36 \nL 792.747794 312.729614 \nL 790.261163 312.729614 \nz\n\" style=\"fill:#1f77b4;\"/>\n   </g>\n   <g id=\"patch_288\">\n    <path clip-path=\"url(#p2452057671)\" d=\"M 792.747794 333.36 \nL 795.234425 333.36 \nL 795.234425 333.342231 \nL 792.747794 333.342231 \nz\n\" style=\"fill:#1f77b4;\"/>\n   </g>\n   <g id=\"patch_289\">\n    <path clip-path=\"url(#p2452057671)\" d=\"M 795.234425 333.36 \nL 797.721056 333.36 \nL 797.721056 333.342231 \nL 795.234425 333.342231 \nz\n\" style=\"fill:#1f77b4;\"/>\n   </g>\n   <g id=\"patch_290\">\n    <path clip-path=\"url(#p2452057671)\" d=\"M 797.721056 333.36 \nL 800.207687 333.36 \nL 800.207687 333.040149 \nL 797.721056 333.040149 \nz\n\" style=\"fill:#1f77b4;\"/>\n   </g>\n   <g id=\"patch_291\">\n    <path clip-path=\"url(#p2452057671)\" d=\"M 800.207687 333.36 \nL 802.694318 333.36 \nL 802.694318 333.200075 \nL 800.207687 333.200075 \nz\n\" style=\"fill:#1f77b4;\"/>\n   </g>\n   <g id=\"patch_292\">\n    <path clip-path=\"url(#p2452057671)\" d=\"M 802.694318 333.36 \nL 805.180949 333.36 \nL 805.180949 332.809146 \nL 802.694318 332.809146 \nz\n\" style=\"fill:#1f77b4;\"/>\n   </g>\n   <g id=\"patch_293\">\n    <path clip-path=\"url(#p2452057671)\" d=\"M 805.180949 333.36 \nL 807.66758 333.36 \nL 807.66758 326.6609 \nL 805.180949 326.6609 \nz\n\" style=\"fill:#1f77b4;\"/>\n   </g>\n   <g id=\"patch_294\">\n    <path clip-path=\"url(#p2452057671)\" d=\"M 807.66758 333.36 \nL 810.154211 333.36 \nL 810.154211 332.64922 \nL 807.66758 332.64922 \nz\n\" style=\"fill:#1f77b4;\"/>\n   </g>\n   <g id=\"patch_295\">\n    <path clip-path=\"url(#p2452057671)\" d=\"M 810.154211 333.36 \nL 812.640842 333.36 \nL 812.640842 332.986841 \nL 810.154211 332.986841 \nz\n\" style=\"fill:#1f77b4;\"/>\n   </g>\n   <g id=\"patch_296\">\n    <path clip-path=\"url(#p2452057671)\" d=\"M 812.640842 333.36 \nL 815.127473 333.36 \nL 815.127473 333.324461 \nL 812.640842 333.324461 \nz\n\" style=\"fill:#1f77b4;\"/>\n   </g>\n   <g id=\"patch_297\">\n    <path clip-path=\"url(#p2452057671)\" d=\"M 815.127473 333.36 \nL 817.614104 333.36 \nL 817.614104 332.969071 \nL 815.127473 332.969071 \nz\n\" style=\"fill:#1f77b4;\"/>\n   </g>\n   <g id=\"patch_298\">\n    <path clip-path=\"url(#p2452057671)\" d=\"M 817.614104 333.36 \nL 820.100735 333.36 \nL 820.100735 333.253383 \nL 817.614104 333.253383 \nz\n\" style=\"fill:#1f77b4;\"/>\n   </g>\n   <g id=\"patch_299\">\n    <path clip-path=\"url(#p2452057671)\" d=\"M 820.100735 333.36 \nL 822.587366 333.36 \nL 822.587366 333.324461 \nL 820.100735 333.324461 \nz\n\" style=\"fill:#1f77b4;\"/>\n   </g>\n   <g id=\"patch_300\">\n    <path clip-path=\"url(#p2452057671)\" d=\"M 822.587366 333.36 \nL 825.073997 333.36 \nL 825.073997 333.271153 \nL 822.587366 333.271153 \nz\n\" style=\"fill:#1f77b4;\"/>\n   </g>\n   <g id=\"patch_301\">\n    <path clip-path=\"url(#p2452057671)\" d=\"M 825.073997 333.36 \nL 827.560628 333.36 \nL 827.560628 333.324461 \nL 825.073997 333.324461 \nz\n\" style=\"fill:#1f77b4;\"/>\n   </g>\n   <g id=\"patch_302\">\n    <path clip-path=\"url(#p2452057671)\" d=\"M 827.560628 333.36 \nL 830.047259 333.36 \nL 830.047259 333.288922 \nL 827.560628 333.288922 \nz\n\" style=\"fill:#1f77b4;\"/>\n   </g>\n   <g id=\"patch_303\">\n    <path clip-path=\"url(#p2452057671)\" d=\"M 830.047259 333.36 \nL 832.53389 333.36 \nL 832.53389 332.276061 \nL 830.047259 332.276061 \nz\n\" style=\"fill:#1f77b4;\"/>\n   </g>\n   <g id=\"patch_304\">\n    <path clip-path=\"url(#p2452057671)\" d=\"M 832.53389 333.36 \nL 835.020521 333.36 \nL 835.020521 333.324461 \nL 832.53389 333.324461 \nz\n\" style=\"fill:#1f77b4;\"/>\n   </g>\n   <g id=\"patch_305\">\n    <path clip-path=\"url(#p2452057671)\" d=\"M 835.020521 333.36 \nL 837.507152 333.36 \nL 837.507152 333.146766 \nL 835.020521 333.146766 \nz\n\" style=\"fill:#1f77b4;\"/>\n   </g>\n   <g id=\"patch_306\">\n    <path clip-path=\"url(#p2452057671)\" d=\"M 837.507152 333.36 \nL 839.993783 333.36 \nL 839.993783 333.111227 \nL 837.507152 333.111227 \nz\n\" style=\"fill:#1f77b4;\"/>\n   </g>\n   <g id=\"patch_307\">\n    <path clip-path=\"url(#p2452057671)\" d=\"M 839.993783 333.36 \nL 842.480414 333.36 \nL 842.480414 333.271153 \nL 839.993783 333.271153 \nz\n\" style=\"fill:#1f77b4;\"/>\n   </g>\n   <g id=\"patch_308\">\n    <path clip-path=\"url(#p2452057671)\" d=\"M 842.480414 333.36 \nL 844.967045 333.36 \nL 844.967045 333.217844 \nL 842.480414 333.217844 \nz\n\" style=\"fill:#1f77b4;\"/>\n   </g>\n   <g id=\"matplotlib.axis_1\">\n    <g id=\"xtick_1\">\n     <g id=\"line2d_1\">\n      <path clip-path=\"url(#p2452057671)\" d=\"M 84.057955 333.36 \nL 84.057955 7.2 \n\" style=\"fill:none;stroke:#b0b0b0;stroke-linecap:square;stroke-width:0.8;\"/>\n     </g>\n     <g id=\"line2d_2\">\n      <defs>\n       <path d=\"M 0 0 \nL 0 3.5 \n\" id=\"m11ddd8ba3d\" style=\"stroke:#000000;stroke-width:0.8;\"/>\n      </defs>\n      <g>\n       <use style=\"stroke:#000000;stroke-width:0.8;\" x=\"84.057955\" xlink:href=\"#m11ddd8ba3d\" y=\"333.36\"/>\n      </g>\n     </g>\n     <g id=\"text_1\">\n      <!-- 0 -->\n      <defs>\n       <path d=\"M 31.78125 66.40625 \nQ 24.171875 66.40625 20.328125 58.90625 \nQ 16.5 51.421875 16.5 36.375 \nQ 16.5 21.390625 20.328125 13.890625 \nQ 24.171875 6.390625 31.78125 6.390625 \nQ 39.453125 6.390625 43.28125 13.890625 \nQ 47.125 21.390625 47.125 36.375 \nQ 47.125 51.421875 43.28125 58.90625 \nQ 39.453125 66.40625 31.78125 66.40625 \nz\nM 31.78125 74.21875 \nQ 44.046875 74.21875 50.515625 64.515625 \nQ 56.984375 54.828125 56.984375 36.375 \nQ 56.984375 17.96875 50.515625 8.265625 \nQ 44.046875 -1.421875 31.78125 -1.421875 \nQ 19.53125 -1.421875 13.0625 8.265625 \nQ 6.59375 17.96875 6.59375 36.375 \nQ 6.59375 54.828125 13.0625 64.515625 \nQ 19.53125 74.21875 31.78125 74.21875 \nz\n\" id=\"DejaVuSans-48\"/>\n      </defs>\n      <g transform=\"translate(80.876705 347.958438)scale(0.1 -0.1)\">\n       <use xlink:href=\"#DejaVuSans-48\"/>\n      </g>\n     </g>\n    </g>\n    <g id=\"xtick_2\">\n     <g id=\"line2d_3\">\n      <path clip-path=\"url(#p2452057671)\" d=\"M 208.79715 333.36 \nL 208.79715 7.2 \n\" style=\"fill:none;stroke:#b0b0b0;stroke-linecap:square;stroke-width:0.8;\"/>\n     </g>\n     <g id=\"line2d_4\">\n      <g>\n       <use style=\"stroke:#000000;stroke-width:0.8;\" x=\"208.79715\" xlink:href=\"#m11ddd8ba3d\" y=\"333.36\"/>\n      </g>\n     </g>\n     <g id=\"text_2\">\n      <!-- 50 -->\n      <defs>\n       <path d=\"M 10.796875 72.90625 \nL 49.515625 72.90625 \nL 49.515625 64.59375 \nL 19.828125 64.59375 \nL 19.828125 46.734375 \nQ 21.96875 47.46875 24.109375 47.828125 \nQ 26.265625 48.1875 28.421875 48.1875 \nQ 40.625 48.1875 47.75 41.5 \nQ 54.890625 34.8125 54.890625 23.390625 \nQ 54.890625 11.625 47.5625 5.09375 \nQ 40.234375 -1.421875 26.90625 -1.421875 \nQ 22.3125 -1.421875 17.546875 -0.640625 \nQ 12.796875 0.140625 7.71875 1.703125 \nL 7.71875 11.625 \nQ 12.109375 9.234375 16.796875 8.0625 \nQ 21.484375 6.890625 26.703125 6.890625 \nQ 35.15625 6.890625 40.078125 11.328125 \nQ 45.015625 15.765625 45.015625 23.390625 \nQ 45.015625 31 40.078125 35.4375 \nQ 35.15625 39.890625 26.703125 39.890625 \nQ 22.75 39.890625 18.8125 39.015625 \nQ 14.890625 38.140625 10.796875 36.28125 \nz\n\" id=\"DejaVuSans-53\"/>\n      </defs>\n      <g transform=\"translate(202.43465 347.958438)scale(0.1 -0.1)\">\n       <use xlink:href=\"#DejaVuSans-53\"/>\n       <use x=\"63.623047\" xlink:href=\"#DejaVuSans-48\"/>\n      </g>\n     </g>\n    </g>\n    <g id=\"xtick_3\">\n     <g id=\"line2d_5\">\n      <path clip-path=\"url(#p2452057671)\" d=\"M 333.536345 333.36 \nL 333.536345 7.2 \n\" style=\"fill:none;stroke:#b0b0b0;stroke-linecap:square;stroke-width:0.8;\"/>\n     </g>\n     <g id=\"line2d_6\">\n      <g>\n       <use style=\"stroke:#000000;stroke-width:0.8;\" x=\"333.536345\" xlink:href=\"#m11ddd8ba3d\" y=\"333.36\"/>\n      </g>\n     </g>\n     <g id=\"text_3\">\n      <!-- 100 -->\n      <defs>\n       <path d=\"M 12.40625 8.296875 \nL 28.515625 8.296875 \nL 28.515625 63.921875 \nL 10.984375 60.40625 \nL 10.984375 69.390625 \nL 28.421875 72.90625 \nL 38.28125 72.90625 \nL 38.28125 8.296875 \nL 54.390625 8.296875 \nL 54.390625 0 \nL 12.40625 0 \nz\n\" id=\"DejaVuSans-49\"/>\n      </defs>\n      <g transform=\"translate(323.992595 347.958438)scale(0.1 -0.1)\">\n       <use xlink:href=\"#DejaVuSans-49\"/>\n       <use x=\"63.623047\" xlink:href=\"#DejaVuSans-48\"/>\n       <use x=\"127.246094\" xlink:href=\"#DejaVuSans-48\"/>\n      </g>\n     </g>\n    </g>\n    <g id=\"xtick_4\">\n     <g id=\"line2d_7\">\n      <path clip-path=\"url(#p2452057671)\" d=\"M 458.27554 333.36 \nL 458.27554 7.2 \n\" style=\"fill:none;stroke:#b0b0b0;stroke-linecap:square;stroke-width:0.8;\"/>\n     </g>\n     <g id=\"line2d_8\">\n      <g>\n       <use style=\"stroke:#000000;stroke-width:0.8;\" x=\"458.27554\" xlink:href=\"#m11ddd8ba3d\" y=\"333.36\"/>\n      </g>\n     </g>\n     <g id=\"text_4\">\n      <!-- 150 -->\n      <g transform=\"translate(448.73179 347.958438)scale(0.1 -0.1)\">\n       <use xlink:href=\"#DejaVuSans-49\"/>\n       <use x=\"63.623047\" xlink:href=\"#DejaVuSans-53\"/>\n       <use x=\"127.246094\" xlink:href=\"#DejaVuSans-48\"/>\n      </g>\n     </g>\n    </g>\n    <g id=\"xtick_5\">\n     <g id=\"line2d_9\">\n      <path clip-path=\"url(#p2452057671)\" d=\"M 583.014735 333.36 \nL 583.014735 7.2 \n\" style=\"fill:none;stroke:#b0b0b0;stroke-linecap:square;stroke-width:0.8;\"/>\n     </g>\n     <g id=\"line2d_10\">\n      <g>\n       <use style=\"stroke:#000000;stroke-width:0.8;\" x=\"583.014735\" xlink:href=\"#m11ddd8ba3d\" y=\"333.36\"/>\n      </g>\n     </g>\n     <g id=\"text_5\">\n      <!-- 200 -->\n      <defs>\n       <path d=\"M 19.1875 8.296875 \nL 53.609375 8.296875 \nL 53.609375 0 \nL 7.328125 0 \nL 7.328125 8.296875 \nQ 12.9375 14.109375 22.625 23.890625 \nQ 32.328125 33.6875 34.8125 36.53125 \nQ 39.546875 41.84375 41.421875 45.53125 \nQ 43.3125 49.21875 43.3125 52.78125 \nQ 43.3125 58.59375 39.234375 62.25 \nQ 35.15625 65.921875 28.609375 65.921875 \nQ 23.96875 65.921875 18.8125 64.3125 \nQ 13.671875 62.703125 7.8125 59.421875 \nL 7.8125 69.390625 \nQ 13.765625 71.78125 18.9375 73 \nQ 24.125 74.21875 28.421875 74.21875 \nQ 39.75 74.21875 46.484375 68.546875 \nQ 53.21875 62.890625 53.21875 53.421875 \nQ 53.21875 48.921875 51.53125 44.890625 \nQ 49.859375 40.875 45.40625 35.40625 \nQ 44.1875 33.984375 37.640625 27.21875 \nQ 31.109375 20.453125 19.1875 8.296875 \nz\n\" id=\"DejaVuSans-50\"/>\n      </defs>\n      <g transform=\"translate(573.470985 347.958438)scale(0.1 -0.1)\">\n       <use xlink:href=\"#DejaVuSans-50\"/>\n       <use x=\"63.623047\" xlink:href=\"#DejaVuSans-48\"/>\n       <use x=\"127.246094\" xlink:href=\"#DejaVuSans-48\"/>\n      </g>\n     </g>\n    </g>\n    <g id=\"xtick_6\">\n     <g id=\"line2d_11\">\n      <path clip-path=\"url(#p2452057671)\" d=\"M 707.753931 333.36 \nL 707.753931 7.2 \n\" style=\"fill:none;stroke:#b0b0b0;stroke-linecap:square;stroke-width:0.8;\"/>\n     </g>\n     <g id=\"line2d_12\">\n      <g>\n       <use style=\"stroke:#000000;stroke-width:0.8;\" x=\"707.753931\" xlink:href=\"#m11ddd8ba3d\" y=\"333.36\"/>\n      </g>\n     </g>\n     <g id=\"text_6\">\n      <!-- 250 -->\n      <g transform=\"translate(698.210181 347.958438)scale(0.1 -0.1)\">\n       <use xlink:href=\"#DejaVuSans-50\"/>\n       <use x=\"63.623047\" xlink:href=\"#DejaVuSans-53\"/>\n       <use x=\"127.246094\" xlink:href=\"#DejaVuSans-48\"/>\n      </g>\n     </g>\n    </g>\n    <g id=\"xtick_7\">\n     <g id=\"line2d_13\">\n      <path clip-path=\"url(#p2452057671)\" d=\"M 832.493126 333.36 \nL 832.493126 7.2 \n\" style=\"fill:none;stroke:#b0b0b0;stroke-linecap:square;stroke-width:0.8;\"/>\n     </g>\n     <g id=\"line2d_14\">\n      <g>\n       <use style=\"stroke:#000000;stroke-width:0.8;\" x=\"832.493126\" xlink:href=\"#m11ddd8ba3d\" y=\"333.36\"/>\n      </g>\n     </g>\n     <g id=\"text_7\">\n      <!-- 300 -->\n      <defs>\n       <path d=\"M 40.578125 39.3125 \nQ 47.65625 37.796875 51.625 33 \nQ 55.609375 28.21875 55.609375 21.1875 \nQ 55.609375 10.40625 48.1875 4.484375 \nQ 40.765625 -1.421875 27.09375 -1.421875 \nQ 22.515625 -1.421875 17.65625 -0.515625 \nQ 12.796875 0.390625 7.625 2.203125 \nL 7.625 11.71875 \nQ 11.71875 9.328125 16.59375 8.109375 \nQ 21.484375 6.890625 26.8125 6.890625 \nQ 36.078125 6.890625 40.9375 10.546875 \nQ 45.796875 14.203125 45.796875 21.1875 \nQ 45.796875 27.640625 41.28125 31.265625 \nQ 36.765625 34.90625 28.71875 34.90625 \nL 20.21875 34.90625 \nL 20.21875 43.015625 \nL 29.109375 43.015625 \nQ 36.375 43.015625 40.234375 45.921875 \nQ 44.09375 48.828125 44.09375 54.296875 \nQ 44.09375 59.90625 40.109375 62.90625 \nQ 36.140625 65.921875 28.71875 65.921875 \nQ 24.65625 65.921875 20.015625 65.03125 \nQ 15.375 64.15625 9.8125 62.3125 \nL 9.8125 71.09375 \nQ 15.4375 72.65625 20.34375 73.4375 \nQ 25.25 74.21875 29.59375 74.21875 \nQ 40.828125 74.21875 47.359375 69.109375 \nQ 53.90625 64.015625 53.90625 55.328125 \nQ 53.90625 49.265625 50.4375 45.09375 \nQ 46.96875 40.921875 40.578125 39.3125 \nz\n\" id=\"DejaVuSans-51\"/>\n      </defs>\n      <g transform=\"translate(822.949376 347.958438)scale(0.1 -0.1)\">\n       <use xlink:href=\"#DejaVuSans-51\"/>\n       <use x=\"63.623047\" xlink:href=\"#DejaVuSans-48\"/>\n       <use x=\"127.246094\" xlink:href=\"#DejaVuSans-48\"/>\n      </g>\n     </g>\n    </g>\n   </g>\n   <g id=\"matplotlib.axis_2\">\n    <g id=\"ytick_1\">\n     <g id=\"line2d_15\">\n      <path clip-path=\"url(#p2452057671)\" d=\"M 46.0125 333.36 \nL 883.0125 333.36 \n\" style=\"fill:none;stroke:#b0b0b0;stroke-linecap:square;stroke-width:0.8;\"/>\n     </g>\n     <g id=\"line2d_16\">\n      <defs>\n       <path d=\"M 0 0 \nL -3.5 0 \n\" id=\"m33f2b3817b\" style=\"stroke:#000000;stroke-width:0.8;\"/>\n      </defs>\n      <g>\n       <use style=\"stroke:#000000;stroke-width:0.8;\" x=\"46.0125\" xlink:href=\"#m33f2b3817b\" y=\"333.36\"/>\n      </g>\n     </g>\n     <g id=\"text_8\">\n      <!-- 0 -->\n      <g transform=\"translate(32.65 337.159219)scale(0.1 -0.1)\">\n       <use xlink:href=\"#DejaVuSans-48\"/>\n      </g>\n     </g>\n    </g>\n    <g id=\"ytick_2\">\n     <g id=\"line2d_17\">\n      <path clip-path=\"url(#p2452057671)\" d=\"M 46.0125 288.936258 \nL 883.0125 288.936258 \n\" style=\"fill:none;stroke:#b0b0b0;stroke-linecap:square;stroke-width:0.8;\"/>\n     </g>\n     <g id=\"line2d_18\">\n      <g>\n       <use style=\"stroke:#000000;stroke-width:0.8;\" x=\"46.0125\" xlink:href=\"#m33f2b3817b\" y=\"288.936258\"/>\n      </g>\n     </g>\n     <g id=\"text_9\">\n      <!-- 2500 -->\n      <g transform=\"translate(13.5625 292.735477)scale(0.1 -0.1)\">\n       <use xlink:href=\"#DejaVuSans-50\"/>\n       <use x=\"63.623047\" xlink:href=\"#DejaVuSans-53\"/>\n       <use x=\"127.246094\" xlink:href=\"#DejaVuSans-48\"/>\n       <use x=\"190.869141\" xlink:href=\"#DejaVuSans-48\"/>\n      </g>\n     </g>\n    </g>\n    <g id=\"ytick_3\">\n     <g id=\"line2d_19\">\n      <path clip-path=\"url(#p2452057671)\" d=\"M 46.0125 244.512517 \nL 883.0125 244.512517 \n\" style=\"fill:none;stroke:#b0b0b0;stroke-linecap:square;stroke-width:0.8;\"/>\n     </g>\n     <g id=\"line2d_20\">\n      <g>\n       <use style=\"stroke:#000000;stroke-width:0.8;\" x=\"46.0125\" xlink:href=\"#m33f2b3817b\" y=\"244.512517\"/>\n      </g>\n     </g>\n     <g id=\"text_10\">\n      <!-- 5000 -->\n      <g transform=\"translate(13.5625 248.311735)scale(0.1 -0.1)\">\n       <use xlink:href=\"#DejaVuSans-53\"/>\n       <use x=\"63.623047\" xlink:href=\"#DejaVuSans-48\"/>\n       <use x=\"127.246094\" xlink:href=\"#DejaVuSans-48\"/>\n       <use x=\"190.869141\" xlink:href=\"#DejaVuSans-48\"/>\n      </g>\n     </g>\n    </g>\n    <g id=\"ytick_4\">\n     <g id=\"line2d_21\">\n      <path clip-path=\"url(#p2452057671)\" d=\"M 46.0125 200.088775 \nL 883.0125 200.088775 \n\" style=\"fill:none;stroke:#b0b0b0;stroke-linecap:square;stroke-width:0.8;\"/>\n     </g>\n     <g id=\"line2d_22\">\n      <g>\n       <use style=\"stroke:#000000;stroke-width:0.8;\" x=\"46.0125\" xlink:href=\"#m33f2b3817b\" y=\"200.088775\"/>\n      </g>\n     </g>\n     <g id=\"text_11\">\n      <!-- 7500 -->\n      <defs>\n       <path d=\"M 8.203125 72.90625 \nL 55.078125 72.90625 \nL 55.078125 68.703125 \nL 28.609375 0 \nL 18.3125 0 \nL 43.21875 64.59375 \nL 8.203125 64.59375 \nz\n\" id=\"DejaVuSans-55\"/>\n      </defs>\n      <g transform=\"translate(13.5625 203.887994)scale(0.1 -0.1)\">\n       <use xlink:href=\"#DejaVuSans-55\"/>\n       <use x=\"63.623047\" xlink:href=\"#DejaVuSans-53\"/>\n       <use x=\"127.246094\" xlink:href=\"#DejaVuSans-48\"/>\n       <use x=\"190.869141\" xlink:href=\"#DejaVuSans-48\"/>\n      </g>\n     </g>\n    </g>\n    <g id=\"ytick_5\">\n     <g id=\"line2d_23\">\n      <path clip-path=\"url(#p2452057671)\" d=\"M 46.0125 155.665033 \nL 883.0125 155.665033 \n\" style=\"fill:none;stroke:#b0b0b0;stroke-linecap:square;stroke-width:0.8;\"/>\n     </g>\n     <g id=\"line2d_24\">\n      <g>\n       <use style=\"stroke:#000000;stroke-width:0.8;\" x=\"46.0125\" xlink:href=\"#m33f2b3817b\" y=\"155.665033\"/>\n      </g>\n     </g>\n     <g id=\"text_12\">\n      <!-- 10000 -->\n      <g transform=\"translate(7.2 159.464252)scale(0.1 -0.1)\">\n       <use xlink:href=\"#DejaVuSans-49\"/>\n       <use x=\"63.623047\" xlink:href=\"#DejaVuSans-48\"/>\n       <use x=\"127.246094\" xlink:href=\"#DejaVuSans-48\"/>\n       <use x=\"190.869141\" xlink:href=\"#DejaVuSans-48\"/>\n       <use x=\"254.492188\" xlink:href=\"#DejaVuSans-48\"/>\n      </g>\n     </g>\n    </g>\n    <g id=\"ytick_6\">\n     <g id=\"line2d_25\">\n      <path clip-path=\"url(#p2452057671)\" d=\"M 46.0125 111.241292 \nL 883.0125 111.241292 \n\" style=\"fill:none;stroke:#b0b0b0;stroke-linecap:square;stroke-width:0.8;\"/>\n     </g>\n     <g id=\"line2d_26\">\n      <g>\n       <use style=\"stroke:#000000;stroke-width:0.8;\" x=\"46.0125\" xlink:href=\"#m33f2b3817b\" y=\"111.241292\"/>\n      </g>\n     </g>\n     <g id=\"text_13\">\n      <!-- 12500 -->\n      <g transform=\"translate(7.2 115.04051)scale(0.1 -0.1)\">\n       <use xlink:href=\"#DejaVuSans-49\"/>\n       <use x=\"63.623047\" xlink:href=\"#DejaVuSans-50\"/>\n       <use x=\"127.246094\" xlink:href=\"#DejaVuSans-53\"/>\n       <use x=\"190.869141\" xlink:href=\"#DejaVuSans-48\"/>\n       <use x=\"254.492188\" xlink:href=\"#DejaVuSans-48\"/>\n      </g>\n     </g>\n    </g>\n    <g id=\"ytick_7\">\n     <g id=\"line2d_27\">\n      <path clip-path=\"url(#p2452057671)\" d=\"M 46.0125 66.81755 \nL 883.0125 66.81755 \n\" style=\"fill:none;stroke:#b0b0b0;stroke-linecap:square;stroke-width:0.8;\"/>\n     </g>\n     <g id=\"line2d_28\">\n      <g>\n       <use style=\"stroke:#000000;stroke-width:0.8;\" x=\"46.0125\" xlink:href=\"#m33f2b3817b\" y=\"66.81755\"/>\n      </g>\n     </g>\n     <g id=\"text_14\">\n      <!-- 15000 -->\n      <g transform=\"translate(7.2 70.616769)scale(0.1 -0.1)\">\n       <use xlink:href=\"#DejaVuSans-49\"/>\n       <use x=\"63.623047\" xlink:href=\"#DejaVuSans-53\"/>\n       <use x=\"127.246094\" xlink:href=\"#DejaVuSans-48\"/>\n       <use x=\"190.869141\" xlink:href=\"#DejaVuSans-48\"/>\n       <use x=\"254.492188\" xlink:href=\"#DejaVuSans-48\"/>\n      </g>\n     </g>\n    </g>\n    <g id=\"ytick_8\">\n     <g id=\"line2d_29\">\n      <path clip-path=\"url(#p2452057671)\" d=\"M 46.0125 22.393808 \nL 883.0125 22.393808 \n\" style=\"fill:none;stroke:#b0b0b0;stroke-linecap:square;stroke-width:0.8;\"/>\n     </g>\n     <g id=\"line2d_30\">\n      <g>\n       <use style=\"stroke:#000000;stroke-width:0.8;\" x=\"46.0125\" xlink:href=\"#m33f2b3817b\" y=\"22.393808\"/>\n      </g>\n     </g>\n     <g id=\"text_15\">\n      <!-- 17500 -->\n      <g transform=\"translate(7.2 26.193027)scale(0.1 -0.1)\">\n       <use xlink:href=\"#DejaVuSans-49\"/>\n       <use x=\"63.623047\" xlink:href=\"#DejaVuSans-55\"/>\n       <use x=\"127.246094\" xlink:href=\"#DejaVuSans-53\"/>\n       <use x=\"190.869141\" xlink:href=\"#DejaVuSans-48\"/>\n       <use x=\"254.492188\" xlink:href=\"#DejaVuSans-48\"/>\n      </g>\n     </g>\n    </g>\n   </g>\n   <g id=\"patch_309\">\n    <path d=\"M 46.0125 333.36 \nL 46.0125 7.2 \n\" style=\"fill:none;stroke:#000000;stroke-linecap:square;stroke-linejoin:miter;stroke-width:0.8;\"/>\n   </g>\n   <g id=\"patch_310\">\n    <path d=\"M 883.0125 333.36 \nL 883.0125 7.2 \n\" style=\"fill:none;stroke:#000000;stroke-linecap:square;stroke-linejoin:miter;stroke-width:0.8;\"/>\n   </g>\n   <g id=\"patch_311\">\n    <path d=\"M 46.0125 333.36 \nL 883.0125 333.36 \n\" style=\"fill:none;stroke:#000000;stroke-linecap:square;stroke-linejoin:miter;stroke-width:0.8;\"/>\n   </g>\n   <g id=\"patch_312\">\n    <path d=\"M 46.0125 7.2 \nL 883.0125 7.2 \n\" style=\"fill:none;stroke:#000000;stroke-linecap:square;stroke-linejoin:miter;stroke-width:0.8;\"/>\n   </g>\n  </g>\n </g>\n <defs>\n  <clipPath id=\"p2452057671\">\n   <rect height=\"326.16\" width=\"837\" x=\"46.0125\" y=\"7.2\"/>\n  </clipPath>\n </defs>\n</svg>\n",
      "image/png": "[encoded data removed]"
     },
     "metadata": {
      "needs_background": "light"
     }
    }
   ],
   "source": [
    "plt.figure(figsize=(15,6))\n",
    "X_labeled_installer_clean.installer_class.hist(bins=len(df_kmeans_clusters))"
   ]
  },
  {
   "cell_type": "code",
   "execution_count": 35,
   "metadata": {},
   "outputs": [
    {
     "output_type": "execute_result",
     "data": {
      "text/plain": "                                                   tfidf_vector  \\\ncentroid_idx                                                      \n63            [0.0, 0.0, 0.0, 0.0, 0.0, 0.0, 0.0, 0.0, 0.0, ...   \n5             [0.0008453085376162299, 0.0008453085376162299,...   \n146           [0.0, 0.0, 0.0, 0.0, 0.0, 0.0, 0.0, 0.0, 0.0, ...   \n87            [0.0, 0.0, 0.0, 0.0, 0.0, 0.0, 0.0, 0.0, 0.0, ...   \n174           [0.0, 0.0, 0.0, 0.0, 0.0, 0.0, 0.0, 0.0, 0.0, ...   \n284           [0.0, 0.0, 0.0, 0.0, 0.0, 0.0, 0.0, 0.0, 0.0, ...   \n49            [0.0, 0.0, 0.0, 0.0, 0.0, 0.0, 0.0, 0.0, 0.0, ...   \n138           [0.0, 0.0, 0.0, 0.0, 0.0, 0.0, 0.0, 0.0, 0.0, ...   \n1             [0.0, 0.0, 0.0, 0.0, 0.0, 0.0, 0.0, 0.0, 0.0, ...   \n24            [0.0, 0.0, 0.0, 0.0, 0.0, 0.0, 0.0, 0.0, 0.0, ...   \n38            [0.0, 0.0, 0.0, 0.0, 0.0, 0.0, 0.0, 0.0, 0.0, ...   \n204           [0.0, 0.0, 0.0, 0.0, 0.0, 0.0, 0.0, 0.0, 0.0, ...   \n270           [0.0, 0.0, 0.0, 0.0, 0.0, 0.0, 0.0, 0.0, 0.0, ...   \n245           [0.0, 0.0, 0.0, 0.0, 0.0, 0.0, 0.0, 0.0, 0.0, ...   \n29            [0.0, 0.0, 0.0, 0.0, 0.0, 0.0, 0.0, 0.0, 0.0, ...   \n151           [0.0, 0.0, 0.0, 0.0, 0.0, 0.0, 0.0, 0.0, 0.0, ...   \n16            [0.0, 0.0, 0.0, 0.0, 0.0, 0.0, 0.0, 0.0, 0.0, ...   \n252           [0.0, 0.0, 0.0, 0.0, 0.0, 0.0, 0.0, 0.0, 0.0, ...   \n290           [0.0, 0.0, 0.0, 0.0, 0.0, 0.0, 0.0, 0.0, 0.0, ...   \n45            [0.0, 0.0, 0.0, 0.0, 0.0, 0.0, 0.0, 0.0, 0.0, ...   \n122           [0.0, 0.0, 0.0, 0.0, 0.0, 0.0, 0.0, 0.0, 0.0, ...   \n86            [0.0, 0.0, 0.0, 0.0, 0.0, 0.0, 0.0, 0.0, 0.0, ...   \n54            [0.0, 0.0, 0.0, 0.0, 0.0, 0.0, 0.0, 0.0, 0.0, ...   \n193           [0.0, 0.0, 0.0, 0.0, 0.0, 0.0, 0.0, 0.0, 0.0, ...   \n14            [0.0, 0.0, 0.0, 0.0, 0.0, 0.0, 0.0, 0.0, 0.0, ...   \n...                                                         ...   \n56            [0.0, 0.0, 0.0, 0.0, 0.0, 0.0, 0.0, 0.0, 0.0, ...   \n286           [0.0, 0.0, 0.0, 0.0, 0.0, 0.0, 0.0, 0.0, 0.0, ...   \n285           [0.0, 0.0, 0.0, 0.0, 0.0, 0.0, 0.0, 0.0, 0.0, ...   \n210           [0.0, 0.0, 0.0, 0.0, 0.0, 0.0, 0.0, 0.0, 0.0, ...   \n60            [0.0, 0.0, 0.0, 0.0, 0.0, 0.0, 0.0, 0.0, 0.0, ...   \n141           [0.0, 0.0, 0.0, 0.0, 0.0, 0.0, 0.0, 0.0, 0.0, ...   \n200           [0.0, 0.0, 0.0, 0.0, 0.0, 0.0, 0.0, 0.0, 0.0, ...   \n222           [0.0, 0.0, 0.0, 0.0, 0.0, 0.0, 0.0, 0.0, 0.0, ...   \n192           [0.0, 0.0, 0.0, 0.0, 0.0, 0.0, 0.0, 0.0, 0.0, ...   \n233           [0.0, 0.0, 0.0, 0.0, 0.0, 0.0, 0.0, 0.0, 0.0, ...   \n188           [0.0, 0.0, 0.0, 0.0, 0.0, 0.0, 0.0, 0.0, 0.0, ...   \n237           [0.0, 0.0, 0.0, 0.0, 0.0, 0.0, 0.0, 0.0, 0.0, ...   \n240           [0.0, 0.0, 0.0, 0.0, 0.0, 0.0, 0.0, 0.0, 0.0, ...   \n170           [0.0, 0.0, 0.0, 0.0, 0.0, 0.0, 0.0, 0.0, 0.0, ...   \n140           [0.0, 0.0, 0.0, 0.0, 0.0, 0.0, 0.0, 0.0, 0.0, ...   \n282           [0.0, 0.0, 0.0, 0.0, 0.0, 0.0, 0.0, 0.0, 0.0, ...   \n137           [0.0, 0.0, 0.0, 0.0, 0.0, 0.0, 0.0, 0.0, 0.0, ...   \n136           [0.0, 0.0, 0.0, 0.0, 0.0, 0.0, 0.0, 0.0, 0.0, ...   \n255           [0.0, 0.0, 0.0, 0.0, 0.0, 0.0, 0.0, 0.0, 0.0, ...   \n119           [0.0, 0.0, 0.0, 0.0, 0.0, 0.0, 0.0, 0.0, 0.0, ...   \n117           [0.0, 0.0, 0.0, 0.0, 0.0, 0.0, 0.0, 0.0, 0.0, ...   \n268           [0.0, 0.0, 0.0, 0.0, 0.0, 0.0, 0.0, 0.0, 0.0, ...   \n276           [0.0, 0.0, 0.0, 0.0, 0.0, 0.0, 0.0, 1.0, 0.0, ...   \n280           [0.0, 0.0, 0.0, 0.0, 0.0, 0.0, 0.0, 0.0, 0.0, ...   \n0             [0.0, 0.0, 0.0, 0.0, 0.0, 0.0, 0.0, 0.0, 0.0, ...   \n\n                                                            doc  frequency  \ncentroid_idx                                                                \n63                                             dwe lwi rwe tcrs      17481  \n5             aar aartisa abasia abd abdala abdalkah abdalla...      16707  \n146           belgiam cebtral cental community finland gover...       1933  \n87                                                       hesawa       1395  \n174                                          community rwe tcrs       1238  \n284           church dioces dme dwe juu katiti kkkt konde le...       1161  \n49                                                        commu       1065  \n138                                                   co danida       1051  \n1                               council district mbozi mbulu wb        972  \n24                                 basin central government lwi        765  \n38                                      government kibondo tcrs        717  \n204                                     government vision world        700  \n270           arab arabs bank community district igolola ilw...        576  \n245                                                       gover        511  \n29                                 comunity dmdd mmem tasaf tlc        437  \n151                                      lga tasaf tasafcitizen        415  \n16                                                   fini water        389  \n252                         department district sengerema water        385  \n290                                                dmdd solider        377  \n45                                                        norad        366  \n122                                              aid sema water        332  \n86                                        community jamii twesa        327  \n54                                                       da pnr        309  \n193                                                          wu        301  \n14                                    adra community government        276  \n...                                                         ...        ...  \n56                                                aid dwe water          1  \n286                                                 kalage mama          1  \n285                                               drilling spar          1  \n210                                                sophia wazir          1  \n60                                                       buruba          1  \n141                                                 mosi robert          1  \n200                                               george misana          1  \n222                                                        luka          1  \n192                                                    nk world          1  \n233                                                      wafidh          1  \n188                                         secondary zingibali          1  \n237                                                 rafiki team          1  \n240                                                         wbk          1  \n170                                               lusambi simon          1  \n140                                                      stabex          1  \n282                                                kilinga kkkt          1  \n137                                        elizabeth majengo st          1  \n136                                                    nyabweta          1  \n255                                                      nginil          1  \n119                                                  canal kkkt          1  \n117                                                         zao          1  \n268                                              kangelo sadiki          1  \n276                                                       abdul          1  \n280                                            society tanedaps          1  \n0                                                 batist church          1  \n\n[306 rows x 3 columns]",
      "text/html": "<div>\n<style scoped>\n    .dataframe tbody tr th:only-of-type {\n        vertical-align: middle;\n    }\n\n    .dataframe tbody tr th {\n        vertical-align: top;\n    }\n\n    .dataframe thead th {\n        text-align: right;\n    }\n</style>\n<table border=\"1\" class=\"dataframe\">\n  <thead>\n    <tr style=\"text-align: right;\">\n      <th></th>\n      <th>tfidf_vector</th>\n      <th>doc</th>\n      <th>frequency</th>\n    </tr>\n    <tr>\n      <th>centroid_idx</th>\n      <th></th>\n      <th></th>\n      <th></th>\n    </tr>\n  </thead>\n  <tbody>\n    <tr>\n      <th>63</th>\n      <td>[0.0, 0.0, 0.0, 0.0, 0.0, 0.0, 0.0, 0.0, 0.0, ...</td>\n      <td>dwe lwi rwe tcrs</td>\n      <td>17481</td>\n    </tr>\n    <tr>\n      <th>5</th>\n      <td>[0.0008453085376162299, 0.0008453085376162299,...</td>\n      <td>aar aartisa abasia abd abdala abdalkah abdalla...</td>\n      <td>16707</td>\n    </tr>\n    <tr>\n      <th>146</th>\n      <td>[0.0, 0.0, 0.0, 0.0, 0.0, 0.0, 0.0, 0.0, 0.0, ...</td>\n      <td>belgiam cebtral cental community finland gover...</td>\n      <td>1933</td>\n    </tr>\n    <tr>\n      <th>87</th>\n      <td>[0.0, 0.0, 0.0, 0.0, 0.0, 0.0, 0.0, 0.0, 0.0, ...</td>\n      <td>hesawa</td>\n      <td>1395</td>\n    </tr>\n    <tr>\n      <th>174</th>\n      <td>[0.0, 0.0, 0.0, 0.0, 0.0, 0.0, 0.0, 0.0, 0.0, ...</td>\n      <td>community rwe tcrs</td>\n      <td>1238</td>\n    </tr>\n    <tr>\n      <th>284</th>\n      <td>[0.0, 0.0, 0.0, 0.0, 0.0, 0.0, 0.0, 0.0, 0.0, ...</td>\n      <td>church dioces dme dwe juu katiti kkkt konde le...</td>\n      <td>1161</td>\n    </tr>\n    <tr>\n      <th>49</th>\n      <td>[0.0, 0.0, 0.0, 0.0, 0.0, 0.0, 0.0, 0.0, 0.0, ...</td>\n      <td>commu</td>\n      <td>1065</td>\n    </tr>\n    <tr>\n      <th>138</th>\n      <td>[0.0, 0.0, 0.0, 0.0, 0.0, 0.0, 0.0, 0.0, 0.0, ...</td>\n      <td>co danida</td>\n      <td>1051</td>\n    </tr>\n    <tr>\n      <th>1</th>\n      <td>[0.0, 0.0, 0.0, 0.0, 0.0, 0.0, 0.0, 0.0, 0.0, ...</td>\n      <td>council district mbozi mbulu wb</td>\n      <td>972</td>\n    </tr>\n    <tr>\n      <th>24</th>\n      <td>[0.0, 0.0, 0.0, 0.0, 0.0, 0.0, 0.0, 0.0, 0.0, ...</td>\n      <td>basin central government lwi</td>\n      <td>765</td>\n    </tr>\n    <tr>\n      <th>38</th>\n      <td>[0.0, 0.0, 0.0, 0.0, 0.0, 0.0, 0.0, 0.0, 0.0, ...</td>\n      <td>government kibondo tcrs</td>\n      <td>717</td>\n    </tr>\n    <tr>\n      <th>204</th>\n      <td>[0.0, 0.0, 0.0, 0.0, 0.0, 0.0, 0.0, 0.0, 0.0, ...</td>\n      <td>government vision world</td>\n      <td>700</td>\n    </tr>\n    <tr>\n      <th>270</th>\n      <td>[0.0, 0.0, 0.0, 0.0, 0.0, 0.0, 0.0, 0.0, 0.0, ...</td>\n      <td>arab arabs bank community district igolola ilw...</td>\n      <td>576</td>\n    </tr>\n    <tr>\n      <th>245</th>\n      <td>[0.0, 0.0, 0.0, 0.0, 0.0, 0.0, 0.0, 0.0, 0.0, ...</td>\n      <td>gover</td>\n      <td>511</td>\n    </tr>\n    <tr>\n      <th>29</th>\n      <td>[0.0, 0.0, 0.0, 0.0, 0.0, 0.0, 0.0, 0.0, 0.0, ...</td>\n      <td>comunity dmdd mmem tasaf tlc</td>\n      <td>437</td>\n    </tr>\n    <tr>\n      <th>151</th>\n      <td>[0.0, 0.0, 0.0, 0.0, 0.0, 0.0, 0.0, 0.0, 0.0, ...</td>\n      <td>lga tasaf tasafcitizen</td>\n      <td>415</td>\n    </tr>\n    <tr>\n      <th>16</th>\n      <td>[0.0, 0.0, 0.0, 0.0, 0.0, 0.0, 0.0, 0.0, 0.0, ...</td>\n      <td>fini water</td>\n      <td>389</td>\n    </tr>\n    <tr>\n      <th>252</th>\n      <td>[0.0, 0.0, 0.0, 0.0, 0.0, 0.0, 0.0, 0.0, 0.0, ...</td>\n      <td>department district sengerema water</td>\n      <td>385</td>\n    </tr>\n    <tr>\n      <th>290</th>\n      <td>[0.0, 0.0, 0.0, 0.0, 0.0, 0.0, 0.0, 0.0, 0.0, ...</td>\n      <td>dmdd solider</td>\n      <td>377</td>\n    </tr>\n    <tr>\n      <th>45</th>\n      <td>[0.0, 0.0, 0.0, 0.0, 0.0, 0.0, 0.0, 0.0, 0.0, ...</td>\n      <td>norad</td>\n      <td>366</td>\n    </tr>\n    <tr>\n      <th>122</th>\n      <td>[0.0, 0.0, 0.0, 0.0, 0.0, 0.0, 0.0, 0.0, 0.0, ...</td>\n      <td>aid sema water</td>\n      <td>332</td>\n    </tr>\n    <tr>\n      <th>86</th>\n      <td>[0.0, 0.0, 0.0, 0.0, 0.0, 0.0, 0.0, 0.0, 0.0, ...</td>\n      <td>community jamii twesa</td>\n      <td>327</td>\n    </tr>\n    <tr>\n      <th>54</th>\n      <td>[0.0, 0.0, 0.0, 0.0, 0.0, 0.0, 0.0, 0.0, 0.0, ...</td>\n      <td>da pnr</td>\n      <td>309</td>\n    </tr>\n    <tr>\n      <th>193</th>\n      <td>[0.0, 0.0, 0.0, 0.0, 0.0, 0.0, 0.0, 0.0, 0.0, ...</td>\n      <td>wu</td>\n      <td>301</td>\n    </tr>\n    <tr>\n      <th>14</th>\n      <td>[0.0, 0.0, 0.0, 0.0, 0.0, 0.0, 0.0, 0.0, 0.0, ...</td>\n      <td>adra community government</td>\n      <td>276</td>\n    </tr>\n    <tr>\n      <th>...</th>\n      <td>...</td>\n      <td>...</td>\n      <td>...</td>\n    </tr>\n    <tr>\n      <th>56</th>\n      <td>[0.0, 0.0, 0.0, 0.0, 0.0, 0.0, 0.0, 0.0, 0.0, ...</td>\n      <td>aid dwe water</td>\n      <td>1</td>\n    </tr>\n    <tr>\n      <th>286</th>\n      <td>[0.0, 0.0, 0.0, 0.0, 0.0, 0.0, 0.0, 0.0, 0.0, ...</td>\n      <td>kalage mama</td>\n      <td>1</td>\n    </tr>\n    <tr>\n      <th>285</th>\n      <td>[0.0, 0.0, 0.0, 0.0, 0.0, 0.0, 0.0, 0.0, 0.0, ...</td>\n      <td>drilling spar</td>\n      <td>1</td>\n    </tr>\n    <tr>\n      <th>210</th>\n      <td>[0.0, 0.0, 0.0, 0.0, 0.0, 0.0, 0.0, 0.0, 0.0, ...</td>\n      <td>sophia wazir</td>\n      <td>1</td>\n    </tr>\n    <tr>\n      <th>60</th>\n      <td>[0.0, 0.0, 0.0, 0.0, 0.0, 0.0, 0.0, 0.0, 0.0, ...</td>\n      <td>buruba</td>\n      <td>1</td>\n    </tr>\n    <tr>\n      <th>141</th>\n      <td>[0.0, 0.0, 0.0, 0.0, 0.0, 0.0, 0.0, 0.0, 0.0, ...</td>\n      <td>mosi robert</td>\n      <td>1</td>\n    </tr>\n    <tr>\n      <th>200</th>\n      <td>[0.0, 0.0, 0.0, 0.0, 0.0, 0.0, 0.0, 0.0, 0.0, ...</td>\n      <td>george misana</td>\n      <td>1</td>\n    </tr>\n    <tr>\n      <th>222</th>\n      <td>[0.0, 0.0, 0.0, 0.0, 0.0, 0.0, 0.0, 0.0, 0.0, ...</td>\n      <td>luka</td>\n      <td>1</td>\n    </tr>\n    <tr>\n      <th>192</th>\n      <td>[0.0, 0.0, 0.0, 0.0, 0.0, 0.0, 0.0, 0.0, 0.0, ...</td>\n      <td>nk world</td>\n      <td>1</td>\n    </tr>\n    <tr>\n      <th>233</th>\n      <td>[0.0, 0.0, 0.0, 0.0, 0.0, 0.0, 0.0, 0.0, 0.0, ...</td>\n      <td>wafidh</td>\n      <td>1</td>\n    </tr>\n    <tr>\n      <th>188</th>\n      <td>[0.0, 0.0, 0.0, 0.0, 0.0, 0.0, 0.0, 0.0, 0.0, ...</td>\n      <td>secondary zingibali</td>\n      <td>1</td>\n    </tr>\n    <tr>\n      <th>237</th>\n      <td>[0.0, 0.0, 0.0, 0.0, 0.0, 0.0, 0.0, 0.0, 0.0, ...</td>\n      <td>rafiki team</td>\n      <td>1</td>\n    </tr>\n    <tr>\n      <th>240</th>\n      <td>[0.0, 0.0, 0.0, 0.0, 0.0, 0.0, 0.0, 0.0, 0.0, ...</td>\n      <td>wbk</td>\n      <td>1</td>\n    </tr>\n    <tr>\n      <th>170</th>\n      <td>[0.0, 0.0, 0.0, 0.0, 0.0, 0.0, 0.0, 0.0, 0.0, ...</td>\n      <td>lusambi simon</td>\n      <td>1</td>\n    </tr>\n    <tr>\n      <th>140</th>\n      <td>[0.0, 0.0, 0.0, 0.0, 0.0, 0.0, 0.0, 0.0, 0.0, ...</td>\n      <td>stabex</td>\n      <td>1</td>\n    </tr>\n    <tr>\n      <th>282</th>\n      <td>[0.0, 0.0, 0.0, 0.0, 0.0, 0.0, 0.0, 0.0, 0.0, ...</td>\n      <td>kilinga kkkt</td>\n      <td>1</td>\n    </tr>\n    <tr>\n      <th>137</th>\n      <td>[0.0, 0.0, 0.0, 0.0, 0.0, 0.0, 0.0, 0.0, 0.0, ...</td>\n      <td>elizabeth majengo st</td>\n      <td>1</td>\n    </tr>\n    <tr>\n      <th>136</th>\n      <td>[0.0, 0.0, 0.0, 0.0, 0.0, 0.0, 0.0, 0.0, 0.0, ...</td>\n      <td>nyabweta</td>\n      <td>1</td>\n    </tr>\n    <tr>\n      <th>255</th>\n      <td>[0.0, 0.0, 0.0, 0.0, 0.0, 0.0, 0.0, 0.0, 0.0, ...</td>\n      <td>nginil</td>\n      <td>1</td>\n    </tr>\n    <tr>\n      <th>119</th>\n      <td>[0.0, 0.0, 0.0, 0.0, 0.0, 0.0, 0.0, 0.0, 0.0, ...</td>\n      <td>canal kkkt</td>\n      <td>1</td>\n    </tr>\n    <tr>\n      <th>117</th>\n      <td>[0.0, 0.0, 0.0, 0.0, 0.0, 0.0, 0.0, 0.0, 0.0, ...</td>\n      <td>zao</td>\n      <td>1</td>\n    </tr>\n    <tr>\n      <th>268</th>\n      <td>[0.0, 0.0, 0.0, 0.0, 0.0, 0.0, 0.0, 0.0, 0.0, ...</td>\n      <td>kangelo sadiki</td>\n      <td>1</td>\n    </tr>\n    <tr>\n      <th>276</th>\n      <td>[0.0, 0.0, 0.0, 0.0, 0.0, 0.0, 0.0, 1.0, 0.0, ...</td>\n      <td>abdul</td>\n      <td>1</td>\n    </tr>\n    <tr>\n      <th>280</th>\n      <td>[0.0, 0.0, 0.0, 0.0, 0.0, 0.0, 0.0, 0.0, 0.0, ...</td>\n      <td>society tanedaps</td>\n      <td>1</td>\n    </tr>\n    <tr>\n      <th>0</th>\n      <td>[0.0, 0.0, 0.0, 0.0, 0.0, 0.0, 0.0, 0.0, 0.0, ...</td>\n      <td>batist church</td>\n      <td>1</td>\n    </tr>\n  </tbody>\n</table>\n<p>306 rows × 3 columns</p>\n</div>"
     },
     "metadata": {},
     "execution_count": 35
    }
   ],
   "source": [
    "df_kmeans_clusters['frequency'] = df_kmeans_clusters.reset_index().centroid_idx.apply(\n",
    "    lambda centroid_idx: X_labeled_installer_clean.installer_class.value_counts()[centroid_idx]\n",
    ")\n",
    "df_kmeans_clusters.sort_values(by='frequency', ascending=False)"
   ]
  },
  {
   "cell_type": "markdown",
   "metadata": {},
   "source": [
    "The above algorithm has been wrapped up in one function, `tfidf_kmeans_classify_feature`, so that it may be cleanly and easily deployed.\n",
    "\n",
    "The source code is as follows:"
   ]
  },
  {
   "cell_type": "code",
   "execution_count": 36,
   "metadata": {},
   "outputs": [
    {
     "output_type": "display_data",
     "data": {
      "text/plain": "<IPython.core.display.HTML object>",
      "text/html": "<code class='python'><pre>def tfidf_kmeans_classify_feature(df, df_name, feat, n_target_cluster_size=None, verbose=1, display_max_rows=25):\n    # first replace null values\n    replace_null_rules = {}\n    replace_null_rules[feat] = [\n        {\n            'missing_values': np.nan,\n            'strategy': 'constant', \n            'fill_value': 'None'\n        }\n    ]\n    svt_null_predictors = SimpleValueTransformer(replace_null_rules)\n    df_copy = svt_null_predictors.fit_transform(df).copy()\n\n    # fit TF-IDF to the corpus\n    corpus, tfidf, tfidf_vectorizer = _tfidf_fit_corpus_from_feat(df_copy, feat)\n\n    # for display to the reader to show the evolution from DIRTY to TF-IDF \"cleaned\"\n    # add the result of the first step of preprocessing: coverting to lower-case\n    feat_name_stripped_lcase = f\"{feat}_stripped_lcase\"\n    df_copy[feat_name_stripped_lcase] = df_copy[feat].apply(preprocess__lcase_strip)\n    # add the result of the next step of preprocessing: tokenization\n    feat_name_word_tokenized = f\"{feat}_word_tokenized\"\n    df_copy[feat_name_word_tokenized] = df_copy[feat_name_stripped_lcase].apply(preprocess__tokenize)\n    # add the result of the next step of preprocessing: remove stop-words\n    feat_name_word_tokenized_no_stopwords = f\"{feat}_word_tokenized_no_stopwords\"\n    df_copy[feat_name_word_tokenized_no_stopwords] = df_copy[feat_name_word_tokenized].apply(\n        lambda feat_word_tokenized: preprocess__filter_stopwords(feat_word_tokenized, is_list=True)[0]\n    )\n    # do this beforehand to avoid recomputing it every time, should we pass in more than one document (installer)... which we do below\n    display(HTML(f\"<p><br>building the idx term map...\"))\n    idx_term_map = tfidf_vocab_to_idx_map(tfidf_vectorizer.vocabulary_)\n    display(HTML(f\"<pre>{s_all_done}</pre>\"))\n    feat_name_after_tfidf = f\"{feat}_after_tfidf\"\n    display(HTML(f\"<p><br>fitting DIRTY <i>{feat}</i> documents to <code>TF-IDF</code> vectors...\"))\n    df_copy[feat_name_after_tfidf] = df_copy[feat].apply(\n        lambda _feat: doc_to_tfidf_fit(_feat, tfidf_vectorizer, idx_term_map)[0][0]\n    )\n    display(HTML(f\"<pre>{s_all_done}</pre>\"))\n    if verbose > 0:\n        cols_for_this_feat = [feat, feat_name_stripped_lcase, feat_name_word_tokenized, feat_name_word_tokenized_no_stopwords, feat_name_after_tfidf]\n        display(HTML(f\"<h3>First few rows of {df_name} TF-IDF DataFrame (verbose)</h3>\"))\n        display(HTML(df_copy[cols_for_this_feat].head(10).to_html()))\n\n    dist_normalized = df_copy[feat_name_after_tfidf].value_counts(normalize=True)\n    _entropy = entropy(dist_normalized, base=2)\n    display(HTML(f\"<p><br>info: set n_target_cluster_size=={n_target_cluster_size}; calculated entropy: {_entropy}\"))\n    if n_target_cluster_size is None:\n        n_target_cluster_size = math.ceil(_entropy)\n        display(HTML(f\"<p><br>set n_target_cluster_size=={n_target_cluster_size} (math.ceil(_entropy))\"))\n        \n    # build KMeans model\n    n_clusters = int(len(corpus)/n_target_cluster_size) # 8 is default n_clusters value for KMeans\n    kmeans, df_kmeans_clusters = _kmeans_from_tfidf(tfidf, idx_term_map, n_clusters)\n\n    # add new \"class\" feature\n    df_copy, feat_name_class = _tfidf_kmeans_classify_feature(\n        df_copy, \n        feat, \n        kmeans, \n        tfidf_vectorizer, \n        idx_term_map\n    )\n\n    df_copy = df_copy.drop(\n        [\n            feat_name_stripped_lcase,\n            feat_name_word_tokenized,\n            feat_name_word_tokenized_no_stopwords,\n            feat_name_after_tfidf\n        ], \n        axis=1\n    )\n    display(HTML(f\"<h3><i>{feat}</i> to <i>{feat_name_class}</i> Mapping:</h3>\"))\n    display(HTML(df_copy[[feat, feat_name_class]].to_html(notebook=True, justify='left', max_rows=display_max_rows)))\n\n    display(HTML(f\"<p><br>building distribution plot of {feat_name_class}...\"))\n    display(HTML(f\"<h3><i>{feat_name_class}</i> Distribution:</h3>\"))\n    plt.figure(figsize=(15,6))\n    df_copy[feat_name_class].hist(bins=len(df_kmeans_clusters))\n    plt.show()\n\n\n    display(HTML(f\"<p><br>computing <i>frequency</i> of {feat_name_class}...\"))\n    df_kmeans_clusters['frequency'] = df_kmeans_clusters.reset_index().centroid_idx.apply(\n        lambda centroid_idx: df_copy[feat_name_class].value_counts()[centroid_idx]\n    )\n    display(HTML(f\"<pre>{s_all_done}</pre>\"))\n    display(HTML(f\"<h3><code>KMeans</code> Cluster Centroids (<i>{feat_name_class}</i>), ordered by <i>frequency</i>:</h3>\"))\n    display(HTML(df_kmeans_clusters.sort_values(by='frequency', ascending=False).to_html(notebook=True, justify='left', max_rows=display_max_rows)))    \n\n    return df_copy, corpus, tfidf, tfidf_vectorizer, kmeans, df_kmeans_clusters\n</pre></code>"
     },
     "metadata": {}
    }
   ],
   "source": [
    "scjpnutils.display_sourcecode(scjpnsubmodels.tfidf_kmeans_classify_feature)"
   ]
  },
  {
   "cell_type": "markdown",
   "metadata": {},
   "source": [
    "As the last example, let's now use this to classify <b>scheme_name</b> - another high-cardinality categorical variable in the same data set."
   ]
  },
  {
   "cell_type": "markdown",
   "metadata": {},
   "source": [
    "<p><br>\n",
    "<h1><i>scheme_name</i> Classification (using the <code>tfidf_kmeans_classify_feature</code> function)</h1>"
   ]
  },
  {
   "cell_type": "code",
   "execution_count": 42,
   "metadata": {},
   "outputs": [
    {
     "output_type": "display_data",
     "data": {
      "text/plain": "<IPython.core.display.HTML object>",
      "text/html": "there are 2696 unique documents in the <i>scheme_name</i> corpus"
     },
     "metadata": {}
    },
    {
     "output_type": "display_data",
     "data": {
      "text/plain": "<IPython.core.display.HTML object>",
      "text/html": "<p><br>fitting the <code>TfidfVectorizer</code> model to the corpus..."
     },
     "metadata": {}
    },
    {
     "output_type": "display_data",
     "data": {
      "text/plain": "<IPython.core.display.HTML object>",
      "text/html": "<pre>\tALL DONE!</pre>"
     },
     "metadata": {}
    },
    {
     "output_type": "display_data",
     "data": {
      "text/plain": "<IPython.core.display.HTML object>",
      "text/html": "there are 2472 terms in the vocabulary after fitting <code>TF-IDF</code> model to the corpus"
     },
     "metadata": {}
    },
    {
     "output_type": "display_data",
     "data": {
      "text/plain": "<IPython.core.display.HTML object>",
      "text/html": "<p><br>building the idx term map..."
     },
     "metadata": {}
    },
    {
     "output_type": "display_data",
     "data": {
      "text/plain": "<IPython.core.display.HTML object>",
      "text/html": "<pre>\tALL DONE!</pre>"
     },
     "metadata": {}
    },
    {
     "output_type": "display_data",
     "data": {
      "text/plain": "<IPython.core.display.HTML object>",
      "text/html": "<p><br>fitting DIRTY <i>scheme_name</i> documents to <code>TF-IDF</code> vectors..."
     },
     "metadata": {}
    },
    {
     "output_type": "display_data",
     "data": {
      "text/plain": "<IPython.core.display.HTML object>",
      "text/html": "<pre>\tALL DONE!</pre>"
     },
     "metadata": {}
    },
    {
     "output_type": "display_data",
     "data": {
      "text/plain": "<IPython.core.display.HTML object>",
      "text/html": "<h3>First few rows of X_labeled TF-IDF DataFrame (verbose)</h3>"
     },
     "metadata": {}
    },
    {
     "output_type": "display_data",
     "data": {
      "text/plain": "<IPython.core.display.HTML object>",
      "text/html": "<table border=\"1\" class=\"dataframe\">\n  <thead>\n    <tr style=\"text-align: right;\">\n      <th></th>\n      <th>scheme_name</th>\n      <th>scheme_name_stripped_lcase</th>\n      <th>scheme_name_word_tokenized</th>\n      <th>scheme_name_word_tokenized_no_stopwords</th>\n      <th>scheme_name_after_tfidf</th>\n    </tr>\n  </thead>\n  <tbody>\n    <tr>\n      <th>0</th>\n      <td>Roman</td>\n      <td>roman</td>\n      <td>[roman]</td>\n      <td>[roman]</td>\n      <td>roman</td>\n    </tr>\n    <tr>\n      <th>1</th>\n      <td>None</td>\n      <td>none</td>\n      <td>[none]</td>\n      <td>[none]</td>\n      <td>none</td>\n    </tr>\n    <tr>\n      <th>2</th>\n      <td>Nyumba ya mungu pipe scheme</td>\n      <td>nyumba ya mungu pipe scheme</td>\n      <td>[nyumba, ya, mungu, pipe, scheme]</td>\n      <td>[nyumba, ya, mungu, pipe, scheme]</td>\n      <td>mungu nyumba pipe scheme ya</td>\n    </tr>\n    <tr>\n      <th>3</th>\n      <td>None</td>\n      <td>none</td>\n      <td>[none]</td>\n      <td>[none]</td>\n      <td>none</td>\n    </tr>\n    <tr>\n      <th>4</th>\n      <td>None</td>\n      <td>none</td>\n      <td>[none]</td>\n      <td>[none]</td>\n      <td>none</td>\n    </tr>\n    <tr>\n      <th>5</th>\n      <td>Zingibali</td>\n      <td>zingibali</td>\n      <td>[zingibali]</td>\n      <td>[zingibali]</td>\n      <td>zingibali</td>\n    </tr>\n    <tr>\n      <th>6</th>\n      <td>None</td>\n      <td>none</td>\n      <td>[none]</td>\n      <td>[none]</td>\n      <td>none</td>\n    </tr>\n    <tr>\n      <th>7</th>\n      <td>None</td>\n      <td>none</td>\n      <td>[none]</td>\n      <td>[none]</td>\n      <td>none</td>\n    </tr>\n    <tr>\n      <th>8</th>\n      <td>None</td>\n      <td>none</td>\n      <td>[none]</td>\n      <td>[none]</td>\n      <td>none</td>\n    </tr>\n    <tr>\n      <th>9</th>\n      <td>None</td>\n      <td>none</td>\n      <td>[none]</td>\n      <td>[none]</td>\n      <td>none</td>\n    </tr>\n  </tbody>\n</table>"
     },
     "metadata": {}
    },
    {
     "output_type": "display_data",
     "data": {
      "text/plain": "<IPython.core.display.HTML object>",
      "text/html": "<p><br>info: set n_target_cluster_size==None; calculated entropy: 5.930669956265378"
     },
     "metadata": {}
    },
    {
     "output_type": "display_data",
     "data": {
      "text/plain": "<IPython.core.display.HTML object>",
      "text/html": "<p><br>set n_target_cluster_size==6 (math.ceil(_entropy))"
     },
     "metadata": {}
    },
    {
     "output_type": "display_data",
     "data": {
      "text/plain": "<IPython.core.display.HTML object>",
      "text/html": "<p><br>building <code>KMeans</code> model with n_clusters==449..."
     },
     "metadata": {}
    },
    {
     "output_type": "display_data",
     "data": {
      "text/plain": "<IPython.core.display.HTML object>",
      "text/html": "<pre>\tALL DONE!</pre>"
     },
     "metadata": {}
    },
    {
     "output_type": "display_data",
     "data": {
      "text/plain": "<IPython.core.display.HTML object>",
      "text/html": "<p><br>mapping DIRTY scheme_names to corresponding scheme_name_classes..."
     },
     "metadata": {}
    },
    {
     "output_type": "display_data",
     "data": {
      "text/plain": "<IPython.core.display.HTML object>",
      "text/html": "<pre>\tALL DONE!</pre>"
     },
     "metadata": {}
    },
    {
     "output_type": "display_data",
     "data": {
      "text/plain": "<IPython.core.display.HTML object>",
      "text/html": "<h3><i>scheme_name</i> to <i>scheme_name_class</i> Mapping:</h3>"
     },
     "metadata": {}
    },
    {
     "output_type": "display_data",
     "data": {
      "text/plain": "<IPython.core.display.HTML object>",
      "text/html": "<div>\n<style scoped>\n    .dataframe tbody tr th:only-of-type {\n        vertical-align: middle;\n    }\n\n    .dataframe tbody tr th {\n        vertical-align: top;\n    }\n\n    .dataframe thead th {\n        text-align: right;\n    }\n</style>\n<table border=\"1\" class=\"dataframe\">\n  <thead>\n    <tr style=\"text-align: left;\">\n      <th></th>\n      <th>scheme_name</th>\n      <th>scheme_name_class</th>\n    </tr>\n  </thead>\n  <tbody>\n    <tr>\n      <th>0</th>\n      <td>Roman</td>\n      <td>381</td>\n    </tr>\n    <tr>\n      <th>1</th>\n      <td>None</td>\n      <td>383</td>\n    </tr>\n    <tr>\n      <th>2</th>\n      <td>Nyumba ya mungu pipe scheme</td>\n      <td>393</td>\n    </tr>\n    <tr>\n      <th>3</th>\n      <td>None</td>\n      <td>383</td>\n    </tr>\n    <tr>\n      <th>4</th>\n      <td>None</td>\n      <td>383</td>\n    </tr>\n    <tr>\n      <th>5</th>\n      <td>Zingibali</td>\n      <td>11</td>\n    </tr>\n    <tr>\n      <th>6</th>\n      <td>None</td>\n      <td>383</td>\n    </tr>\n    <tr>\n      <th>7</th>\n      <td>None</td>\n      <td>383</td>\n    </tr>\n    <tr>\n      <th>8</th>\n      <td>None</td>\n      <td>383</td>\n    </tr>\n    <tr>\n      <th>9</th>\n      <td>None</td>\n      <td>383</td>\n    </tr>\n    <tr>\n      <th>10</th>\n      <td>None</td>\n      <td>383</td>\n    </tr>\n    <tr>\n      <th>11</th>\n      <td>None</td>\n      <td>383</td>\n    </tr>\n    <tr>\n      <th>...</th>\n      <td>...</td>\n      <td>...</td>\n    </tr>\n    <tr>\n      <th>59388</th>\n      <td>None</td>\n      <td>383</td>\n    </tr>\n    <tr>\n      <th>59389</th>\n      <td>None</td>\n      <td>383</td>\n    </tr>\n    <tr>\n      <th>59390</th>\n      <td>None</td>\n      <td>383</td>\n    </tr>\n    <tr>\n      <th>59391</th>\n      <td>Hingilili</td>\n      <td>11</td>\n    </tr>\n    <tr>\n      <th>59392</th>\n      <td>None</td>\n      <td>383</td>\n    </tr>\n    <tr>\n      <th>59393</th>\n      <td>None</td>\n      <td>383</td>\n    </tr>\n    <tr>\n      <th>59394</th>\n      <td>None</td>\n      <td>383</td>\n    </tr>\n    <tr>\n      <th>59395</th>\n      <td>Losaa Kia water supply</td>\n      <td>23</td>\n    </tr>\n    <tr>\n      <th>59396</th>\n      <td>Ikondo electrical water sch</td>\n      <td>11</td>\n    </tr>\n    <tr>\n      <th>59397</th>\n      <td>None</td>\n      <td>383</td>\n    </tr>\n    <tr>\n      <th>59398</th>\n      <td>None</td>\n      <td>383</td>\n    </tr>\n    <tr>\n      <th>59399</th>\n      <td>None</td>\n      <td>383</td>\n    </tr>\n  </tbody>\n</table>\n</div>"
     },
     "metadata": {}
    },
    {
     "output_type": "display_data",
     "data": {
      "text/plain": "<IPython.core.display.HTML object>",
      "text/html": "<p><br>building distribution plot of scheme_name_class..."
     },
     "metadata": {}
    },
    {
     "output_type": "display_data",
     "data": {
      "text/plain": "<IPython.core.display.HTML object>",
      "text/html": "<h3><i>scheme_name_class</i> Distribution:</h3>"
     },
     "metadata": {}
    },
    {
     "output_type": "display_data",
     "data": {
      "text/plain": "<Figure size 1080x432 with 1 Axes>",
      "image/svg+xml": "<?xml version=\"1.0\" encoding=\"utf-8\" standalone=\"no\"?>\n<!DOCTYPE svg PUBLIC \"-//W3C//DTD SVG 1.1//EN\"\n  \"http://www.w3.org/Graphics/SVG/1.1/DTD/svg11.dtd\">\n<!-- Created with matplotlib (https://matplotlib.org/) -->\n<svg height=\"358.05602pt\" version=\"1.1\" viewBox=\"0 0 890.2125 358.05602\" width=\"890.2125pt\" xmlns=\"http://www.w3.org/2000/svg\" xmlns:xlink=\"http://www.w3.org/1999/xlink\">\n <defs>\n  <style type=\"text/css\">\n*{stroke-linecap:butt;stroke-linejoin:round;}\n  </style>\n </defs>\n <g id=\"figure_1\">\n  <g id=\"patch_1\">\n   <path d=\"M 0 358.05602 \nL 890.2125 358.05602 \nL 890.2125 0 \nL 0 0 \nz\n\" style=\"fill:none;\"/>\n  </g>\n  <g id=\"axes_1\">\n   <g id=\"patch_2\">\n    <path d=\"M 46.0125 334.177895 \nL 883.0125 334.177895 \nL 883.0125 8.017895 \nL 46.0125 8.017895 \nz\n\" style=\"fill:#ffffff;\"/>\n   </g>\n   <g id=\"patch_3\">\n    <path clip-path=\"url(#p9cfa88eecc)\" d=\"M 84.057955 334.177895 \nL 85.75263 334.177895 \nL 85.75263 333.628492 \nL 84.057955 333.628492 \nz\n\" style=\"fill:#1f77b4;\"/>\n   </g>\n   <g id=\"patch_4\">\n    <path clip-path=\"url(#p9cfa88eecc)\" d=\"M 85.75263 334.177895 \nL 87.447305 334.177895 \nL 87.447305 334.134805 \nL 85.75263 334.134805 \nz\n\" style=\"fill:#1f77b4;\"/>\n   </g>\n   <g id=\"patch_5\">\n    <path clip-path=\"url(#p9cfa88eecc)\" d=\"M 87.447305 334.177895 \nL 89.14198 334.177895 \nL 89.14198 334.167123 \nL 87.447305 334.167123 \nz\n\" style=\"fill:#1f77b4;\"/>\n   </g>\n   <g id=\"patch_6\">\n    <path clip-path=\"url(#p9cfa88eecc)\" d=\"M 89.14198 334.177895 \nL 90.836655 334.177895 \nL 90.836655 334.15635 \nL 89.14198 334.15635 \nz\n\" style=\"fill:#1f77b4;\"/>\n   </g>\n   <g id=\"patch_7\">\n    <path clip-path=\"url(#p9cfa88eecc)\" d=\"M 90.836655 334.177895 \nL 92.53133 334.177895 \nL 92.53133 334.167123 \nL 90.836655 334.167123 \nz\n\" style=\"fill:#1f77b4;\"/>\n   </g>\n   <g id=\"patch_8\">\n    <path clip-path=\"url(#p9cfa88eecc)\" d=\"M 92.53133 334.177895 \nL 94.226005 334.177895 \nL 94.226005 334.145578 \nL 92.53133 334.145578 \nz\n\" style=\"fill:#1f77b4;\"/>\n   </g>\n   <g id=\"patch_9\">\n    <path clip-path=\"url(#p9cfa88eecc)\" d=\"M 94.226005 334.177895 \nL 95.92068 334.177895 \nL 95.92068 333.779308 \nL 94.226005 333.779308 \nz\n\" style=\"fill:#1f77b4;\"/>\n   </g>\n   <g id=\"patch_10\">\n    <path clip-path=\"url(#p9cfa88eecc)\" d=\"M 95.92068 334.177895 \nL 97.615355 334.177895 \nL 97.615355 334.037851 \nL 95.92068 334.037851 \nz\n\" style=\"fill:#1f77b4;\"/>\n   </g>\n   <g id=\"patch_11\">\n    <path clip-path=\"url(#p9cfa88eecc)\" d=\"M 97.615355 334.177895 \nL 99.31003 334.177895 \nL 99.31003 334.167123 \nL 97.615355 334.167123 \nz\n\" style=\"fill:#1f77b4;\"/>\n   </g>\n   <g id=\"patch_12\">\n    <path clip-path=\"url(#p9cfa88eecc)\" d=\"M 99.31003 334.177895 \nL 101.004705 334.177895 \nL 101.004705 333.800854 \nL 99.31003 333.800854 \nz\n\" style=\"fill:#1f77b4;\"/>\n   </g>\n   <g id=\"patch_13\">\n    <path clip-path=\"url(#p9cfa88eecc)\" d=\"M 101.004705 334.177895 \nL 102.69938 334.177895 \nL 102.69938 334.15635 \nL 101.004705 334.15635 \nz\n\" style=\"fill:#1f77b4;\"/>\n   </g>\n   <g id=\"patch_14\">\n    <path clip-path=\"url(#p9cfa88eecc)\" d=\"M 102.69938 334.177895 \nL 104.394055 334.177895 \nL 104.394055 148.263975 \nL 102.69938 148.263975 \nz\n\" style=\"fill:#1f77b4;\"/>\n   </g>\n   <g id=\"patch_15\">\n    <path clip-path=\"url(#p9cfa88eecc)\" d=\"M 104.394055 334.177895 \nL 106.08873 334.177895 \nL 106.08873 333.90858 \nL 104.394055 333.90858 \nz\n\" style=\"fill:#1f77b4;\"/>\n   </g>\n   <g id=\"patch_16\">\n    <path clip-path=\"url(#p9cfa88eecc)\" d=\"M 106.08873 334.177895 \nL 107.783405 334.177895 \nL 107.783405 334.145578 \nL 106.08873 334.145578 \nz\n\" style=\"fill:#1f77b4;\"/>\n   </g>\n   <g id=\"patch_17\">\n    <path clip-path=\"url(#p9cfa88eecc)\" d=\"M 107.783405 334.177895 \nL 109.47808 334.177895 \nL 109.47808 332.475821 \nL 107.783405 332.475821 \nz\n\" style=\"fill:#1f77b4;\"/>\n   </g>\n   <g id=\"patch_18\">\n    <path clip-path=\"url(#p9cfa88eecc)\" d=\"M 109.47808 334.177895 \nL 111.172755 334.177895 \nL 111.172755 333.423812 \nL 109.47808 333.423812 \nz\n\" style=\"fill:#1f77b4;\"/>\n   </g>\n   <g id=\"patch_19\">\n    <path clip-path=\"url(#p9cfa88eecc)\" d=\"M 111.172755 334.177895 \nL 112.86743 334.177895 \nL 112.86743 333.811626 \nL 111.172755 333.811626 \nz\n\" style=\"fill:#1f77b4;\"/>\n   </g>\n   <g id=\"patch_20\">\n    <path clip-path=\"url(#p9cfa88eecc)\" d=\"M 112.86743 334.177895 \nL 114.562105 334.177895 \nL 114.562105 332.626638 \nL 112.86743 332.626638 \nz\n\" style=\"fill:#1f77b4;\"/>\n   </g>\n   <g id=\"patch_21\">\n    <path clip-path=\"url(#p9cfa88eecc)\" d=\"M 114.562105 334.177895 \nL 116.25678 334.177895 \nL 116.25678 334.091714 \nL 114.562105 334.091714 \nz\n\" style=\"fill:#1f77b4;\"/>\n   </g>\n   <g id=\"patch_22\">\n    <path clip-path=\"url(#p9cfa88eecc)\" d=\"M 116.25678 334.177895 \nL 117.951455 334.177895 \nL 117.951455 333.628492 \nL 116.25678 333.628492 \nz\n\" style=\"fill:#1f77b4;\"/>\n   </g>\n   <g id=\"patch_23\">\n    <path clip-path=\"url(#p9cfa88eecc)\" d=\"M 117.951455 334.177895 \nL 119.64613 334.177895 \nL 119.64613 331.043062 \nL 117.951455 331.043062 \nz\n\" style=\"fill:#1f77b4;\"/>\n   </g>\n   <g id=\"patch_24\">\n    <path clip-path=\"url(#p9cfa88eecc)\" d=\"M 119.64613 334.177895 \nL 121.340805 334.177895 \nL 121.340805 334.091714 \nL 119.64613 334.091714 \nz\n\" style=\"fill:#1f77b4;\"/>\n   </g>\n   <g id=\"patch_25\">\n    <path clip-path=\"url(#p9cfa88eecc)\" d=\"M 121.340805 334.177895 \nL 123.03548 334.177895 \nL 123.03548 334.027079 \nL 121.340805 334.027079 \nz\n\" style=\"fill:#1f77b4;\"/>\n   </g>\n   <g id=\"patch_26\">\n    <path clip-path=\"url(#p9cfa88eecc)\" d=\"M 123.03548 334.177895 \nL 124.730155 334.177895 \nL 124.730155 331.969508 \nL 123.03548 331.969508 \nz\n\" style=\"fill:#1f77b4;\"/>\n   </g>\n   <g id=\"patch_27\">\n    <path clip-path=\"url(#p9cfa88eecc)\" d=\"M 124.730155 334.177895 \nL 126.42483 334.177895 \nL 126.42483 333.25145 \nL 124.730155 333.25145 \nz\n\" style=\"fill:#1f77b4;\"/>\n   </g>\n   <g id=\"patch_28\">\n    <path clip-path=\"url(#p9cfa88eecc)\" d=\"M 126.42483 334.177895 \nL 128.119505 334.177895 \nL 128.119505 334.080942 \nL 126.42483 334.080942 \nz\n\" style=\"fill:#1f77b4;\"/>\n   </g>\n   <g id=\"patch_29\">\n    <path clip-path=\"url(#p9cfa88eecc)\" d=\"M 128.119505 334.177895 \nL 129.814181 334.177895 \nL 129.814181 333.930125 \nL 128.119505 333.930125 \nz\n\" style=\"fill:#1f77b4;\"/>\n   </g>\n   <g id=\"patch_30\">\n    <path clip-path=\"url(#p9cfa88eecc)\" d=\"M 129.814181 334.177895 \nL 131.508856 334.177895 \nL 131.508856 334.145578 \nL 129.814181 334.145578 \nz\n\" style=\"fill:#1f77b4;\"/>\n   </g>\n   <g id=\"patch_31\">\n    <path clip-path=\"url(#p9cfa88eecc)\" d=\"M 131.508856 334.177895 \nL 133.203531 334.177895 \nL 133.203531 333.962443 \nL 131.508856 333.962443 \nz\n\" style=\"fill:#1f77b4;\"/>\n   </g>\n   <g id=\"patch_32\">\n    <path clip-path=\"url(#p9cfa88eecc)\" d=\"M 133.203531 334.177895 \nL 134.898206 334.177895 \nL 134.898206 334.027079 \nL 133.203531 334.027079 \nz\n\" style=\"fill:#1f77b4;\"/>\n   </g>\n   <g id=\"patch_33\">\n    <path clip-path=\"url(#p9cfa88eecc)\" d=\"M 134.898206 334.177895 \nL 136.592881 334.177895 \nL 136.592881 334.070169 \nL 134.898206 334.070169 \nz\n\" style=\"fill:#1f77b4;\"/>\n   </g>\n   <g id=\"patch_34\">\n    <path clip-path=\"url(#p9cfa88eecc)\" d=\"M 136.592881 334.177895 \nL 138.287556 334.177895 \nL 138.287556 333.596174 \nL 136.592881 333.596174 \nz\n\" style=\"fill:#1f77b4;\"/>\n   </g>\n   <g id=\"patch_35\">\n    <path clip-path=\"url(#p9cfa88eecc)\" d=\"M 138.287556 334.177895 \nL 139.982231 334.177895 \nL 139.982231 334.167123 \nL 138.287556 334.167123 \nz\n\" style=\"fill:#1f77b4;\"/>\n   </g>\n   <g id=\"patch_36\">\n    <path clip-path=\"url(#p9cfa88eecc)\" d=\"M 139.982231 334.177895 \nL 141.676906 334.177895 \nL 141.676906 334.080942 \nL 139.982231 334.080942 \nz\n\" style=\"fill:#1f77b4;\"/>\n   </g>\n   <g id=\"patch_37\">\n    <path clip-path=\"url(#p9cfa88eecc)\" d=\"M 141.676906 334.177895 \nL 143.371581 334.177895 \nL 143.371581 333.90858 \nL 141.676906 333.90858 \nz\n\" style=\"fill:#1f77b4;\"/>\n   </g>\n   <g id=\"patch_38\">\n    <path clip-path=\"url(#p9cfa88eecc)\" d=\"M 143.371581 334.177895 \nL 145.066256 334.177895 \nL 145.066256 332.691274 \nL 143.371581 332.691274 \nz\n\" style=\"fill:#1f77b4;\"/>\n   </g>\n   <g id=\"patch_39\">\n    <path clip-path=\"url(#p9cfa88eecc)\" d=\"M 145.066256 334.177895 \nL 146.760931 334.177895 \nL 146.760931 333.930125 \nL 145.066256 333.930125 \nz\n\" style=\"fill:#1f77b4;\"/>\n   </g>\n   <g id=\"patch_40\">\n    <path clip-path=\"url(#p9cfa88eecc)\" d=\"M 146.760931 334.177895 \nL 148.455606 334.177895 \nL 148.455606 333.00368 \nL 146.760931 333.00368 \nz\n\" style=\"fill:#1f77b4;\"/>\n   </g>\n   <g id=\"patch_41\">\n    <path clip-path=\"url(#p9cfa88eecc)\" d=\"M 148.455606 334.177895 \nL 150.150281 334.177895 \nL 150.150281 334.145578 \nL 148.455606 334.145578 \nz\n\" style=\"fill:#1f77b4;\"/>\n   </g>\n   <g id=\"patch_42\">\n    <path clip-path=\"url(#p9cfa88eecc)\" d=\"M 150.150281 334.177895 \nL 151.844956 334.177895 \nL 151.844956 333.994761 \nL 150.150281 333.994761 \nz\n\" style=\"fill:#1f77b4;\"/>\n   </g>\n   <g id=\"patch_43\">\n    <path clip-path=\"url(#p9cfa88eecc)\" d=\"M 151.844956 334.177895 \nL 153.539631 334.177895 \nL 153.539631 334.167123 \nL 151.844956 334.167123 \nz\n\" style=\"fill:#1f77b4;\"/>\n   </g>\n   <g id=\"patch_44\">\n    <path clip-path=\"url(#p9cfa88eecc)\" d=\"M 153.539631 334.177895 \nL 155.234306 334.177895 \nL 155.234306 334.059397 \nL 153.539631 334.059397 \nz\n\" style=\"fill:#1f77b4;\"/>\n   </g>\n   <g id=\"patch_45\">\n    <path clip-path=\"url(#p9cfa88eecc)\" d=\"M 155.234306 334.177895 \nL 156.928981 334.177895 \nL 156.928981 333.843944 \nL 155.234306 333.843944 \nz\n\" style=\"fill:#1f77b4;\"/>\n   </g>\n   <g id=\"patch_46\">\n    <path clip-path=\"url(#p9cfa88eecc)\" d=\"M 156.928981 334.177895 \nL 158.623656 334.177895 \nL 158.623656 334.167123 \nL 156.928981 334.167123 \nz\n\" style=\"fill:#1f77b4;\"/>\n   </g>\n   <g id=\"patch_47\">\n    <path clip-path=\"url(#p9cfa88eecc)\" d=\"M 158.623656 334.177895 \nL 160.318331 334.177895 \nL 160.318331 333.359176 \nL 158.623656 333.359176 \nz\n\" style=\"fill:#1f77b4;\"/>\n   </g>\n   <g id=\"patch_48\">\n    <path clip-path=\"url(#p9cfa88eecc)\" d=\"M 160.318331 334.177895 \nL 162.013006 334.177895 \nL 162.013006 334.080942 \nL 160.318331 334.080942 \nz\n\" style=\"fill:#1f77b4;\"/>\n   </g>\n   <g id=\"patch_49\">\n    <path clip-path=\"url(#p9cfa88eecc)\" d=\"M 162.013006 334.177895 \nL 163.707681 334.177895 \nL 163.707681 334.134805 \nL 162.013006 334.134805 \nz\n\" style=\"fill:#1f77b4;\"/>\n   </g>\n   <g id=\"patch_50\">\n    <path clip-path=\"url(#p9cfa88eecc)\" d=\"M 163.707681 334.177895 \nL 165.402356 334.177895 \nL 165.402356 334.080942 \nL 163.707681 334.080942 \nz\n\" style=\"fill:#1f77b4;\"/>\n   </g>\n   <g id=\"patch_51\">\n    <path clip-path=\"url(#p9cfa88eecc)\" d=\"M 165.402356 334.177895 \nL 167.097031 334.177895 \nL 167.097031 333.650037 \nL 165.402356 333.650037 \nz\n\" style=\"fill:#1f77b4;\"/>\n   </g>\n   <g id=\"patch_52\">\n    <path clip-path=\"url(#p9cfa88eecc)\" d=\"M 167.097031 334.177895 \nL 168.791706 334.177895 \nL 168.791706 332.271141 \nL 167.097031 332.271141 \nz\n\" style=\"fill:#1f77b4;\"/>\n   </g>\n   <g id=\"patch_53\">\n    <path clip-path=\"url(#p9cfa88eecc)\" d=\"M 168.791706 334.177895 \nL 170.486381 334.177895 \nL 170.486381 333.962443 \nL 168.791706 333.962443 \nz\n\" style=\"fill:#1f77b4;\"/>\n   </g>\n   <g id=\"patch_54\">\n    <path clip-path=\"url(#p9cfa88eecc)\" d=\"M 170.486381 334.177895 \nL 172.181056 334.177895 \nL 172.181056 334.102487 \nL 170.486381 334.102487 \nz\n\" style=\"fill:#1f77b4;\"/>\n   </g>\n   <g id=\"patch_55\">\n    <path clip-path=\"url(#p9cfa88eecc)\" d=\"M 172.181056 334.177895 \nL 173.875731 334.177895 \nL 173.875731 328.694631 \nL 172.181056 328.694631 \nz\n\" style=\"fill:#1f77b4;\"/>\n   </g>\n   <g id=\"patch_56\">\n    <path clip-path=\"url(#p9cfa88eecc)\" d=\"M 173.875731 334.177895 \nL 175.570406 334.177895 \nL 175.570406 333.897807 \nL 173.875731 333.897807 \nz\n\" style=\"fill:#1f77b4;\"/>\n   </g>\n   <g id=\"patch_57\">\n    <path clip-path=\"url(#p9cfa88eecc)\" d=\"M 175.570406 334.177895 \nL 177.265081 334.177895 \nL 177.265081 333.606946 \nL 175.570406 333.606946 \nz\n\" style=\"fill:#1f77b4;\"/>\n   </g>\n   <g id=\"patch_58\">\n    <path clip-path=\"url(#p9cfa88eecc)\" d=\"M 177.265081 334.177895 \nL 178.959757 334.177895 \nL 178.959757 333.994761 \nL 177.265081 333.994761 \nz\n\" style=\"fill:#1f77b4;\"/>\n   </g>\n   <g id=\"patch_59\">\n    <path clip-path=\"url(#p9cfa88eecc)\" d=\"M 178.959757 334.177895 \nL 180.654432 334.177895 \nL 180.654432 333.843944 \nL 178.959757 333.843944 \nz\n\" style=\"fill:#1f77b4;\"/>\n   </g>\n   <g id=\"patch_60\">\n    <path clip-path=\"url(#p9cfa88eecc)\" d=\"M 180.654432 334.177895 \nL 182.349107 334.177895 \nL 182.349107 334.15635 \nL 180.654432 334.15635 \nz\n\" style=\"fill:#1f77b4;\"/>\n   </g>\n   <g id=\"patch_61\">\n    <path clip-path=\"url(#p9cfa88eecc)\" d=\"M 182.349107 334.177895 \nL 184.043782 334.177895 \nL 184.043782 334.102487 \nL 182.349107 334.102487 \nz\n\" style=\"fill:#1f77b4;\"/>\n   </g>\n   <g id=\"patch_62\">\n    <path clip-path=\"url(#p9cfa88eecc)\" d=\"M 184.043782 334.177895 \nL 185.738457 334.177895 \nL 185.738457 334.11326 \nL 184.043782 334.11326 \nz\n\" style=\"fill:#1f77b4;\"/>\n   </g>\n   <g id=\"patch_63\">\n    <path clip-path=\"url(#p9cfa88eecc)\" d=\"M 185.738457 334.177895 \nL 187.433132 334.177895 \nL 187.433132 333.95167 \nL 185.738457 333.95167 \nz\n\" style=\"fill:#1f77b4;\"/>\n   </g>\n   <g id=\"patch_64\">\n    <path clip-path=\"url(#p9cfa88eecc)\" d=\"M 187.433132 334.177895 \nL 189.127807 334.177895 \nL 189.127807 333.219132 \nL 187.433132 333.219132 \nz\n\" style=\"fill:#1f77b4;\"/>\n   </g>\n   <g id=\"patch_65\">\n    <path clip-path=\"url(#p9cfa88eecc)\" d=\"M 189.127807 334.177895 \nL 190.822482 334.177895 \nL 190.822482 334.048624 \nL 189.127807 334.048624 \nz\n\" style=\"fill:#1f77b4;\"/>\n   </g>\n   <g id=\"patch_66\">\n    <path clip-path=\"url(#p9cfa88eecc)\" d=\"M 190.822482 334.177895 \nL 192.517157 334.177895 \nL 192.517157 334.15635 \nL 190.822482 334.15635 \nz\n\" style=\"fill:#1f77b4;\"/>\n   </g>\n   <g id=\"patch_67\">\n    <path clip-path=\"url(#p9cfa88eecc)\" d=\"M 192.517157 334.177895 \nL 194.211832 334.177895 \nL 194.211832 333.682355 \nL 192.517157 333.682355 \nz\n\" style=\"fill:#1f77b4;\"/>\n   </g>\n   <g id=\"patch_68\">\n    <path clip-path=\"url(#p9cfa88eecc)\" d=\"M 194.211832 334.177895 \nL 195.906507 334.177895 \nL 195.906507 334.134805 \nL 194.211832 334.134805 \nz\n\" style=\"fill:#1f77b4;\"/>\n   </g>\n   <g id=\"patch_69\">\n    <path clip-path=\"url(#p9cfa88eecc)\" d=\"M 195.906507 334.177895 \nL 197.601182 334.177895 \nL 197.601182 327.283417 \nL 195.906507 327.283417 \nz\n\" style=\"fill:#1f77b4;\"/>\n   </g>\n   <g id=\"patch_70\">\n    <path clip-path=\"url(#p9cfa88eecc)\" d=\"M 197.601182 334.177895 \nL 199.295857 334.177895 \nL 199.295857 334.134805 \nL 197.601182 334.134805 \nz\n\" style=\"fill:#1f77b4;\"/>\n   </g>\n   <g id=\"patch_71\">\n    <path clip-path=\"url(#p9cfa88eecc)\" d=\"M 199.295857 334.177895 \nL 200.990532 334.177895 \nL 200.990532 334.048624 \nL 199.295857 334.048624 \nz\n\" style=\"fill:#1f77b4;\"/>\n   </g>\n   <g id=\"patch_72\">\n    <path clip-path=\"url(#p9cfa88eecc)\" d=\"M 200.990532 334.177895 \nL 202.685207 334.177895 \nL 202.685207 334.027079 \nL 200.990532 334.027079 \nz\n\" style=\"fill:#1f77b4;\"/>\n   </g>\n   <g id=\"patch_73\">\n    <path clip-path=\"url(#p9cfa88eecc)\" d=\"M 202.685207 334.177895 \nL 204.379882 334.177895 \nL 204.379882 333.930125 \nL 202.685207 333.930125 \nz\n\" style=\"fill:#1f77b4;\"/>\n   </g>\n   <g id=\"patch_74\">\n    <path clip-path=\"url(#p9cfa88eecc)\" d=\"M 204.379882 334.177895 \nL 206.074557 334.177895 \nL 206.074557 334.11326 \nL 204.379882 334.11326 \nz\n\" style=\"fill:#1f77b4;\"/>\n   </g>\n   <g id=\"patch_75\">\n    <path clip-path=\"url(#p9cfa88eecc)\" d=\"M 206.074557 334.177895 \nL 207.769232 334.177895 \nL 207.769232 333.843944 \nL 206.074557 333.843944 \nz\n\" style=\"fill:#1f77b4;\"/>\n   </g>\n   <g id=\"patch_76\">\n    <path clip-path=\"url(#p9cfa88eecc)\" d=\"M 207.769232 334.177895 \nL 209.463907 334.177895 \nL 209.463907 334.11326 \nL 207.769232 334.11326 \nz\n\" style=\"fill:#1f77b4;\"/>\n   </g>\n   <g id=\"patch_77\">\n    <path clip-path=\"url(#p9cfa88eecc)\" d=\"M 209.463907 334.177895 \nL 211.158582 334.177895 \nL 211.158582 334.102487 \nL 209.463907 334.102487 \nz\n\" style=\"fill:#1f77b4;\"/>\n   </g>\n   <g id=\"patch_78\">\n    <path clip-path=\"url(#p9cfa88eecc)\" d=\"M 211.158582 334.177895 \nL 212.853257 334.177895 \nL 212.853257 331.894099 \nL 211.158582 331.894099 \nz\n\" style=\"fill:#1f77b4;\"/>\n   </g>\n   <g id=\"patch_79\">\n    <path clip-path=\"url(#p9cfa88eecc)\" d=\"M 212.853257 334.177895 \nL 214.547932 334.177895 \nL 214.547932 334.091714 \nL 212.853257 334.091714 \nz\n\" style=\"fill:#1f77b4;\"/>\n   </g>\n   <g id=\"patch_80\">\n    <path clip-path=\"url(#p9cfa88eecc)\" d=\"M 214.547932 334.177895 \nL 216.242607 334.177895 \nL 216.242607 334.15635 \nL 214.547932 334.15635 \nz\n\" style=\"fill:#1f77b4;\"/>\n   </g>\n   <g id=\"patch_81\">\n    <path clip-path=\"url(#p9cfa88eecc)\" d=\"M 216.242607 334.177895 \nL 217.937282 334.177895 \nL 217.937282 324.428672 \nL 216.242607 324.428672 \nz\n\" style=\"fill:#1f77b4;\"/>\n   </g>\n   <g id=\"patch_82\">\n    <path clip-path=\"url(#p9cfa88eecc)\" d=\"M 217.937282 334.177895 \nL 219.631957 334.177895 \nL 219.631957 334.091714 \nL 217.937282 334.091714 \nz\n\" style=\"fill:#1f77b4;\"/>\n   </g>\n   <g id=\"patch_83\">\n    <path clip-path=\"url(#p9cfa88eecc)\" d=\"M 219.631957 334.177895 \nL 221.326632 334.177895 \nL 221.326632 334.167123 \nL 219.631957 334.167123 \nz\n\" style=\"fill:#1f77b4;\"/>\n   </g>\n   <g id=\"patch_84\">\n    <path clip-path=\"url(#p9cfa88eecc)\" d=\"M 221.326632 334.177895 \nL 223.021307 334.177895 \nL 223.021307 334.167123 \nL 221.326632 334.167123 \nz\n\" style=\"fill:#1f77b4;\"/>\n   </g>\n   <g id=\"patch_85\">\n    <path clip-path=\"url(#p9cfa88eecc)\" d=\"M 223.021307 334.177895 \nL 224.715982 334.177895 \nL 224.715982 333.994761 \nL 223.021307 333.994761 \nz\n\" style=\"fill:#1f77b4;\"/>\n   </g>\n   <g id=\"patch_86\">\n    <path clip-path=\"url(#p9cfa88eecc)\" d=\"M 224.715982 334.177895 \nL 226.410658 334.177895 \nL 226.410658 333.887035 \nL 224.715982 333.887035 \nz\n\" style=\"fill:#1f77b4;\"/>\n   </g>\n   <g id=\"patch_87\">\n    <path clip-path=\"url(#p9cfa88eecc)\" d=\"M 226.410658 334.177895 \nL 228.105333 334.177895 \nL 228.105333 334.070169 \nL 226.410658 334.070169 \nz\n\" style=\"fill:#1f77b4;\"/>\n   </g>\n   <g id=\"patch_88\">\n    <path clip-path=\"url(#p9cfa88eecc)\" d=\"M 228.105333 334.177895 \nL 229.800008 334.177895 \nL 229.800008 333.90858 \nL 228.105333 333.90858 \nz\n\" style=\"fill:#1f77b4;\"/>\n   </g>\n   <g id=\"patch_89\">\n    <path clip-path=\"url(#p9cfa88eecc)\" d=\"M 229.800008 334.177895 \nL 231.494683 334.177895 \nL 231.494683 334.070169 \nL 229.800008 334.070169 \nz\n\" style=\"fill:#1f77b4;\"/>\n   </g>\n   <g id=\"patch_90\">\n    <path clip-path=\"url(#p9cfa88eecc)\" d=\"M 231.494683 334.177895 \nL 233.189358 334.177895 \nL 233.189358 334.124032 \nL 231.494683 334.124032 \nz\n\" style=\"fill:#1f77b4;\"/>\n   </g>\n   <g id=\"patch_91\">\n    <path clip-path=\"url(#p9cfa88eecc)\" d=\"M 233.189358 334.177895 \nL 234.884033 334.177895 \nL 234.884033 334.134805 \nL 233.189358 334.134805 \nz\n\" style=\"fill:#1f77b4;\"/>\n   </g>\n   <g id=\"patch_92\">\n    <path clip-path=\"url(#p9cfa88eecc)\" d=\"M 234.884033 334.177895 \nL 236.578708 334.177895 \nL 236.578708 333.940898 \nL 234.884033 333.940898 \nz\n\" style=\"fill:#1f77b4;\"/>\n   </g>\n   <g id=\"patch_93\">\n    <path clip-path=\"url(#p9cfa88eecc)\" d=\"M 236.578708 334.177895 \nL 238.273383 334.177895 \nL 238.273383 334.134805 \nL 236.578708 334.134805 \nz\n\" style=\"fill:#1f77b4;\"/>\n   </g>\n   <g id=\"patch_94\">\n    <path clip-path=\"url(#p9cfa88eecc)\" d=\"M 238.273383 334.177895 \nL 239.968058 334.177895 \nL 239.968058 334.037851 \nL 238.273383 334.037851 \nz\n\" style=\"fill:#1f77b4;\"/>\n   </g>\n   <g id=\"patch_95\">\n    <path clip-path=\"url(#p9cfa88eecc)\" d=\"M 239.968058 334.177895 \nL 241.662733 334.177895 \nL 241.662733 334.080942 \nL 239.968058 334.080942 \nz\n\" style=\"fill:#1f77b4;\"/>\n   </g>\n   <g id=\"patch_96\">\n    <path clip-path=\"url(#p9cfa88eecc)\" d=\"M 241.662733 334.177895 \nL 243.357408 334.177895 \nL 243.357408 334.15635 \nL 241.662733 334.15635 \nz\n\" style=\"fill:#1f77b4;\"/>\n   </g>\n   <g id=\"patch_97\">\n    <path clip-path=\"url(#p9cfa88eecc)\" d=\"M 243.357408 334.177895 \nL 245.052083 334.177895 \nL 245.052083 334.102487 \nL 243.357408 334.102487 \nz\n\" style=\"fill:#1f77b4;\"/>\n   </g>\n   <g id=\"patch_98\">\n    <path clip-path=\"url(#p9cfa88eecc)\" d=\"M 245.052083 334.177895 \nL 246.746758 334.177895 \nL 246.746758 334.091714 \nL 245.052083 334.091714 \nz\n\" style=\"fill:#1f77b4;\"/>\n   </g>\n   <g id=\"patch_99\">\n    <path clip-path=\"url(#p9cfa88eecc)\" d=\"M 246.746758 334.177895 \nL 248.441433 334.177895 \nL 248.441433 333.897807 \nL 246.746758 333.897807 \nz\n\" style=\"fill:#1f77b4;\"/>\n   </g>\n   <g id=\"patch_100\">\n    <path clip-path=\"url(#p9cfa88eecc)\" d=\"M 248.441433 334.177895 \nL 250.136108 334.177895 \nL 250.136108 334.080942 \nL 248.441433 334.080942 \nz\n\" style=\"fill:#1f77b4;\"/>\n   </g>\n   <g id=\"patch_101\">\n    <path clip-path=\"url(#p9cfa88eecc)\" d=\"M 250.136108 334.177895 \nL 251.830783 334.177895 \nL 251.830783 334.11326 \nL 250.136108 334.11326 \nz\n\" style=\"fill:#1f77b4;\"/>\n   </g>\n   <g id=\"patch_102\">\n    <path clip-path=\"url(#p9cfa88eecc)\" d=\"M 251.830783 334.177895 \nL 253.525458 334.177895 \nL 253.525458 334.11326 \nL 251.830783 334.11326 \nz\n\" style=\"fill:#1f77b4;\"/>\n   </g>\n   <g id=\"patch_103\">\n    <path clip-path=\"url(#p9cfa88eecc)\" d=\"M 253.525458 334.177895 \nL 255.220133 334.177895 \nL 255.220133 334.070169 \nL 253.525458 334.070169 \nz\n\" style=\"fill:#1f77b4;\"/>\n   </g>\n   <g id=\"patch_104\">\n    <path clip-path=\"url(#p9cfa88eecc)\" d=\"M 255.220133 334.177895 \nL 256.914808 334.177895 \nL 256.914808 334.102487 \nL 255.220133 334.102487 \nz\n\" style=\"fill:#1f77b4;\"/>\n   </g>\n   <g id=\"patch_105\">\n    <path clip-path=\"url(#p9cfa88eecc)\" d=\"M 256.914808 334.177895 \nL 258.609483 334.177895 \nL 258.609483 334.091714 \nL 256.914808 334.091714 \nz\n\" style=\"fill:#1f77b4;\"/>\n   </g>\n   <g id=\"patch_106\">\n    <path clip-path=\"url(#p9cfa88eecc)\" d=\"M 258.609483 334.177895 \nL 260.304158 334.177895 \nL 260.304158 334.080942 \nL 258.609483 334.080942 \nz\n\" style=\"fill:#1f77b4;\"/>\n   </g>\n   <g id=\"patch_107\">\n    <path clip-path=\"url(#p9cfa88eecc)\" d=\"M 260.304158 334.177895 \nL 261.998833 334.177895 \nL 261.998833 333.962443 \nL 260.304158 333.962443 \nz\n\" style=\"fill:#1f77b4;\"/>\n   </g>\n   <g id=\"patch_108\">\n    <path clip-path=\"url(#p9cfa88eecc)\" d=\"M 261.998833 334.177895 \nL 263.693508 334.177895 \nL 263.693508 334.080942 \nL 261.998833 334.080942 \nz\n\" style=\"fill:#1f77b4;\"/>\n   </g>\n   <g id=\"patch_109\">\n    <path clip-path=\"url(#p9cfa88eecc)\" d=\"M 263.693508 334.177895 \nL 265.388183 334.177895 \nL 265.388183 331.872554 \nL 263.693508 331.872554 \nz\n\" style=\"fill:#1f77b4;\"/>\n   </g>\n   <g id=\"patch_110\">\n    <path clip-path=\"url(#p9cfa88eecc)\" d=\"M 265.388183 334.177895 \nL 267.082858 334.177895 \nL 267.082858 334.016306 \nL 265.388183 334.016306 \nz\n\" style=\"fill:#1f77b4;\"/>\n   </g>\n   <g id=\"patch_111\">\n    <path clip-path=\"url(#p9cfa88eecc)\" d=\"M 267.082858 334.177895 \nL 268.777533 334.177895 \nL 268.777533 333.983988 \nL 267.082858 333.983988 \nz\n\" style=\"fill:#1f77b4;\"/>\n   </g>\n   <g id=\"patch_112\">\n    <path clip-path=\"url(#p9cfa88eecc)\" d=\"M 268.777533 334.177895 \nL 270.472208 334.177895 \nL 270.472208 333.962443 \nL 268.777533 333.962443 \nz\n\" style=\"fill:#1f77b4;\"/>\n   </g>\n   <g id=\"patch_113\">\n    <path clip-path=\"url(#p9cfa88eecc)\" d=\"M 270.472208 334.177895 \nL 272.166883 334.177895 \nL 272.166883 334.102487 \nL 270.472208 334.102487 \nz\n\" style=\"fill:#1f77b4;\"/>\n   </g>\n   <g id=\"patch_114\">\n    <path clip-path=\"url(#p9cfa88eecc)\" d=\"M 272.166883 334.177895 \nL 273.861559 334.177895 \nL 273.861559 332.788227 \nL 272.166883 332.788227 \nz\n\" style=\"fill:#1f77b4;\"/>\n   </g>\n   <g id=\"patch_115\">\n    <path clip-path=\"url(#p9cfa88eecc)\" d=\"M 273.861559 334.177895 \nL 275.556234 334.177895 \nL 275.556234 333.897807 \nL 273.861559 333.897807 \nz\n\" style=\"fill:#1f77b4;\"/>\n   </g>\n   <g id=\"patch_116\">\n    <path clip-path=\"url(#p9cfa88eecc)\" d=\"M 275.556234 334.177895 \nL 277.250909 334.177895 \nL 277.250909 334.059397 \nL 275.556234 334.059397 \nz\n\" style=\"fill:#1f77b4;\"/>\n   </g>\n   <g id=\"patch_117\">\n    <path clip-path=\"url(#p9cfa88eecc)\" d=\"M 277.250909 334.177895 \nL 278.945584 334.177895 \nL 278.945584 333.897807 \nL 277.250909 333.897807 \nz\n\" style=\"fill:#1f77b4;\"/>\n   </g>\n   <g id=\"patch_118\">\n    <path clip-path=\"url(#p9cfa88eecc)\" d=\"M 278.945584 334.177895 \nL 280.640259 334.177895 \nL 280.640259 333.423812 \nL 278.945584 333.423812 \nz\n\" style=\"fill:#1f77b4;\"/>\n   </g>\n   <g id=\"patch_119\">\n    <path clip-path=\"url(#p9cfa88eecc)\" d=\"M 280.640259 334.177895 \nL 282.334934 334.177895 \nL 282.334934 333.90858 \nL 280.640259 333.90858 \nz\n\" style=\"fill:#1f77b4;\"/>\n   </g>\n   <g id=\"patch_120\">\n    <path clip-path=\"url(#p9cfa88eecc)\" d=\"M 282.334934 334.177895 \nL 284.029609 334.177895 \nL 284.029609 334.091714 \nL 282.334934 334.091714 \nz\n\" style=\"fill:#1f77b4;\"/>\n   </g>\n   <g id=\"patch_121\">\n    <path clip-path=\"url(#p9cfa88eecc)\" d=\"M 284.029609 334.177895 \nL 285.724284 334.177895 \nL 285.724284 333.897807 \nL 284.029609 333.897807 \nz\n\" style=\"fill:#1f77b4;\"/>\n   </g>\n   <g id=\"patch_122\">\n    <path clip-path=\"url(#p9cfa88eecc)\" d=\"M 285.724284 334.177895 \nL 287.418959 334.177895 \nL 287.418959 334.070169 \nL 285.724284 334.070169 \nz\n\" style=\"fill:#1f77b4;\"/>\n   </g>\n   <g id=\"patch_123\">\n    <path clip-path=\"url(#p9cfa88eecc)\" d=\"M 287.418959 334.177895 \nL 289.113634 334.177895 \nL 289.113634 334.048624 \nL 287.418959 334.048624 \nz\n\" style=\"fill:#1f77b4;\"/>\n   </g>\n   <g id=\"patch_124\">\n    <path clip-path=\"url(#p9cfa88eecc)\" d=\"M 289.113634 334.177895 \nL 290.808309 334.177895 \nL 290.808309 334.11326 \nL 289.113634 334.11326 \nz\n\" style=\"fill:#1f77b4;\"/>\n   </g>\n   <g id=\"patch_125\">\n    <path clip-path=\"url(#p9cfa88eecc)\" d=\"M 290.808309 334.177895 \nL 292.502984 334.177895 \nL 292.502984 334.091714 \nL 290.808309 334.091714 \nz\n\" style=\"fill:#1f77b4;\"/>\n   </g>\n   <g id=\"patch_126\">\n    <path clip-path=\"url(#p9cfa88eecc)\" d=\"M 292.502984 334.177895 \nL 294.197659 334.177895 \nL 294.197659 333.90858 \nL 292.502984 333.90858 \nz\n\" style=\"fill:#1f77b4;\"/>\n   </g>\n   <g id=\"patch_127\">\n    <path clip-path=\"url(#p9cfa88eecc)\" d=\"M 294.197659 334.177895 \nL 295.892334 334.177895 \nL 295.892334 334.134805 \nL 294.197659 334.134805 \nz\n\" style=\"fill:#1f77b4;\"/>\n   </g>\n   <g id=\"patch_128\">\n    <path clip-path=\"url(#p9cfa88eecc)\" d=\"M 295.892334 334.177895 \nL 297.587009 334.177895 \nL 297.587009 333.445357 \nL 295.892334 333.445357 \nz\n\" style=\"fill:#1f77b4;\"/>\n   </g>\n   <g id=\"patch_129\">\n    <path clip-path=\"url(#p9cfa88eecc)\" d=\"M 297.587009 334.177895 \nL 299.281684 334.177895 \nL 299.281684 333.779308 \nL 297.587009 333.779308 \nz\n\" style=\"fill:#1f77b4;\"/>\n   </g>\n   <g id=\"patch_130\">\n    <path clip-path=\"url(#p9cfa88eecc)\" d=\"M 299.281684 334.177895 \nL 300.976359 334.177895 \nL 300.976359 334.15635 \nL 299.281684 334.15635 \nz\n\" style=\"fill:#1f77b4;\"/>\n   </g>\n   <g id=\"patch_131\">\n    <path clip-path=\"url(#p9cfa88eecc)\" d=\"M 300.976359 334.177895 \nL 302.671034 334.177895 \nL 302.671034 334.080942 \nL 300.976359 334.080942 \nz\n\" style=\"fill:#1f77b4;\"/>\n   </g>\n   <g id=\"patch_132\">\n    <path clip-path=\"url(#p9cfa88eecc)\" d=\"M 302.671034 334.177895 \nL 304.365709 334.177895 \nL 304.365709 334.124032 \nL 302.671034 334.124032 \nz\n\" style=\"fill:#1f77b4;\"/>\n   </g>\n   <g id=\"patch_133\">\n    <path clip-path=\"url(#p9cfa88eecc)\" d=\"M 304.365709 334.177895 \nL 306.060384 334.177895 \nL 306.060384 334.15635 \nL 304.365709 334.15635 \nz\n\" style=\"fill:#1f77b4;\"/>\n   </g>\n   <g id=\"patch_134\">\n    <path clip-path=\"url(#p9cfa88eecc)\" d=\"M 306.060384 334.177895 \nL 307.755059 334.177895 \nL 307.755059 334.070169 \nL 306.060384 334.070169 \nz\n\" style=\"fill:#1f77b4;\"/>\n   </g>\n   <g id=\"patch_135\">\n    <path clip-path=\"url(#p9cfa88eecc)\" d=\"M 307.755059 334.177895 \nL 309.449734 334.177895 \nL 309.449734 334.134805 \nL 307.755059 334.134805 \nz\n\" style=\"fill:#1f77b4;\"/>\n   </g>\n   <g id=\"patch_136\">\n    <path clip-path=\"url(#p9cfa88eecc)\" d=\"M 309.449734 334.177895 \nL 311.144409 334.177895 \nL 311.144409 334.134805 \nL 309.449734 334.134805 \nz\n\" style=\"fill:#1f77b4;\"/>\n   </g>\n   <g id=\"patch_137\">\n    <path clip-path=\"url(#p9cfa88eecc)\" d=\"M 311.144409 334.177895 \nL 312.839084 334.177895 \nL 312.839084 333.897807 \nL 311.144409 333.897807 \nz\n\" style=\"fill:#1f77b4;\"/>\n   </g>\n   <g id=\"patch_138\">\n    <path clip-path=\"url(#p9cfa88eecc)\" d=\"M 312.839084 334.177895 \nL 314.533759 334.177895 \nL 314.533759 332.702046 \nL 312.839084 332.702046 \nz\n\" style=\"fill:#1f77b4;\"/>\n   </g>\n   <g id=\"patch_139\">\n    <path clip-path=\"url(#p9cfa88eecc)\" d=\"M 314.533759 334.177895 \nL 316.228434 334.177895 \nL 316.228434 334.080942 \nL 314.533759 334.080942 \nz\n\" style=\"fill:#1f77b4;\"/>\n   </g>\n   <g id=\"patch_140\">\n    <path clip-path=\"url(#p9cfa88eecc)\" d=\"M 316.228434 334.177895 \nL 317.923109 334.177895 \nL 317.923109 334.005533 \nL 316.228434 334.005533 \nz\n\" style=\"fill:#1f77b4;\"/>\n   </g>\n   <g id=\"patch_141\">\n    <path clip-path=\"url(#p9cfa88eecc)\" d=\"M 317.923109 334.177895 \nL 319.617784 334.177895 \nL 319.617784 334.145578 \nL 317.923109 334.145578 \nz\n\" style=\"fill:#1f77b4;\"/>\n   </g>\n   <g id=\"patch_142\">\n    <path clip-path=\"url(#p9cfa88eecc)\" d=\"M 319.617784 334.177895 \nL 321.31246 334.177895 \nL 321.31246 334.005533 \nL 319.617784 334.005533 \nz\n\" style=\"fill:#1f77b4;\"/>\n   </g>\n   <g id=\"patch_143\">\n    <path clip-path=\"url(#p9cfa88eecc)\" d=\"M 321.31246 334.177895 \nL 323.007135 334.177895 \nL 323.007135 334.070169 \nL 321.31246 334.070169 \nz\n\" style=\"fill:#1f77b4;\"/>\n   </g>\n   <g id=\"patch_144\">\n    <path clip-path=\"url(#p9cfa88eecc)\" d=\"M 323.007135 334.177895 \nL 324.70181 334.177895 \nL 324.70181 333.434585 \nL 323.007135 333.434585 \nz\n\" style=\"fill:#1f77b4;\"/>\n   </g>\n   <g id=\"patch_145\">\n    <path clip-path=\"url(#p9cfa88eecc)\" d=\"M 324.70181 334.177895 \nL 326.396485 334.177895 \nL 326.396485 333.994761 \nL 324.70181 333.994761 \nz\n\" style=\"fill:#1f77b4;\"/>\n   </g>\n   <g id=\"patch_146\">\n    <path clip-path=\"url(#p9cfa88eecc)\" d=\"M 326.396485 334.177895 \nL 328.09116 334.177895 \nL 328.09116 334.102487 \nL 326.396485 334.102487 \nz\n\" style=\"fill:#1f77b4;\"/>\n   </g>\n   <g id=\"patch_147\">\n    <path clip-path=\"url(#p9cfa88eecc)\" d=\"M 328.09116 334.177895 \nL 329.785835 334.177895 \nL 329.785835 334.15635 \nL 328.09116 334.15635 \nz\n\" style=\"fill:#1f77b4;\"/>\n   </g>\n   <g id=\"patch_148\">\n    <path clip-path=\"url(#p9cfa88eecc)\" d=\"M 329.785835 334.177895 \nL 331.48051 334.177895 \nL 331.48051 334.016306 \nL 329.785835 334.016306 \nz\n\" style=\"fill:#1f77b4;\"/>\n   </g>\n   <g id=\"patch_149\">\n    <path clip-path=\"url(#p9cfa88eecc)\" d=\"M 331.48051 334.177895 \nL 333.175185 334.177895 \nL 333.175185 334.016306 \nL 331.48051 334.016306 \nz\n\" style=\"fill:#1f77b4;\"/>\n   </g>\n   <g id=\"patch_150\">\n    <path clip-path=\"url(#p9cfa88eecc)\" d=\"M 333.175185 334.177895 \nL 334.86986 334.177895 \nL 334.86986 334.037851 \nL 333.175185 334.037851 \nz\n\" style=\"fill:#1f77b4;\"/>\n   </g>\n   <g id=\"patch_151\">\n    <path clip-path=\"url(#p9cfa88eecc)\" d=\"M 334.86986 334.177895 \nL 336.564535 334.177895 \nL 336.564535 334.091714 \nL 334.86986 334.091714 \nz\n\" style=\"fill:#1f77b4;\"/>\n   </g>\n   <g id=\"patch_152\">\n    <path clip-path=\"url(#p9cfa88eecc)\" d=\"M 336.564535 334.177895 \nL 338.25921 334.177895 \nL 338.25921 333.434585 \nL 336.564535 333.434585 \nz\n\" style=\"fill:#1f77b4;\"/>\n   </g>\n   <g id=\"patch_153\">\n    <path clip-path=\"url(#p9cfa88eecc)\" d=\"M 338.25921 334.177895 \nL 339.953885 334.177895 \nL 339.953885 334.134805 \nL 338.25921 334.134805 \nz\n\" style=\"fill:#1f77b4;\"/>\n   </g>\n   <g id=\"patch_154\">\n    <path clip-path=\"url(#p9cfa88eecc)\" d=\"M 339.953885 334.177895 \nL 341.64856 334.177895 \nL 341.64856 334.167123 \nL 339.953885 334.167123 \nz\n\" style=\"fill:#1f77b4;\"/>\n   </g>\n   <g id=\"patch_155\">\n    <path clip-path=\"url(#p9cfa88eecc)\" d=\"M 341.64856 334.177895 \nL 343.343235 334.177895 \nL 343.343235 333.509993 \nL 341.64856 333.509993 \nz\n\" style=\"fill:#1f77b4;\"/>\n   </g>\n   <g id=\"patch_156\">\n    <path clip-path=\"url(#p9cfa88eecc)\" d=\"M 343.343235 334.177895 \nL 345.03791 334.177895 \nL 345.03791 327.498869 \nL 343.343235 327.498869 \nz\n\" style=\"fill:#1f77b4;\"/>\n   </g>\n   <g id=\"patch_157\">\n    <path clip-path=\"url(#p9cfa88eecc)\" d=\"M 345.03791 334.177895 \nL 346.732585 334.177895 \nL 346.732585 333.800854 \nL 345.03791 333.800854 \nz\n\" style=\"fill:#1f77b4;\"/>\n   </g>\n   <g id=\"patch_158\">\n    <path clip-path=\"url(#p9cfa88eecc)\" d=\"M 346.732585 334.177895 \nL 348.42726 334.177895 \nL 348.42726 334.134805 \nL 346.732585 334.134805 \nz\n\" style=\"fill:#1f77b4;\"/>\n   </g>\n   <g id=\"patch_159\">\n    <path clip-path=\"url(#p9cfa88eecc)\" d=\"M 348.42726 334.177895 \nL 350.121935 334.177895 \nL 350.121935 333.423812 \nL 348.42726 333.423812 \nz\n\" style=\"fill:#1f77b4;\"/>\n   </g>\n   <g id=\"patch_160\">\n    <path clip-path=\"url(#p9cfa88eecc)\" d=\"M 350.121935 334.177895 \nL 351.81661 334.177895 \nL 351.81661 333.822399 \nL 350.121935 333.822399 \nz\n\" style=\"fill:#1f77b4;\"/>\n   </g>\n   <g id=\"patch_161\">\n    <path clip-path=\"url(#p9cfa88eecc)\" d=\"M 351.81661 334.177895 \nL 353.511285 334.177895 \nL 353.511285 334.145578 \nL 351.81661 334.145578 \nz\n\" style=\"fill:#1f77b4;\"/>\n   </g>\n   <g id=\"patch_162\">\n    <path clip-path=\"url(#p9cfa88eecc)\" d=\"M 353.511285 334.177895 \nL 355.20596 334.177895 \nL 355.20596 334.080942 \nL 353.511285 334.080942 \nz\n\" style=\"fill:#1f77b4;\"/>\n   </g>\n   <g id=\"patch_163\">\n    <path clip-path=\"url(#p9cfa88eecc)\" d=\"M 355.20596 334.177895 \nL 356.900635 334.177895 \nL 356.900635 334.080942 \nL 355.20596 334.080942 \nz\n\" style=\"fill:#1f77b4;\"/>\n   </g>\n   <g id=\"patch_164\">\n    <path clip-path=\"url(#p9cfa88eecc)\" d=\"M 356.900635 334.177895 \nL 358.59531 334.177895 \nL 358.59531 329.804211 \nL 356.900635 329.804211 \nz\n\" style=\"fill:#1f77b4;\"/>\n   </g>\n   <g id=\"patch_165\">\n    <path clip-path=\"url(#p9cfa88eecc)\" d=\"M 358.59531 334.177895 \nL 360.289985 334.177895 \nL 360.289985 330.849155 \nL 358.59531 330.849155 \nz\n\" style=\"fill:#1f77b4;\"/>\n   </g>\n   <g id=\"patch_166\">\n    <path clip-path=\"url(#p9cfa88eecc)\" d=\"M 360.289985 334.177895 \nL 361.98466 334.177895 \nL 361.98466 334.124032 \nL 360.289985 334.124032 \nz\n\" style=\"fill:#1f77b4;\"/>\n   </g>\n   <g id=\"patch_167\">\n    <path clip-path=\"url(#p9cfa88eecc)\" d=\"M 361.98466 334.177895 \nL 363.679335 334.177895 \nL 363.679335 334.037851 \nL 361.98466 334.037851 \nz\n\" style=\"fill:#1f77b4;\"/>\n   </g>\n   <g id=\"patch_168\">\n    <path clip-path=\"url(#p9cfa88eecc)\" d=\"M 363.679335 334.177895 \nL 365.37401 334.177895 \nL 365.37401 334.070169 \nL 363.679335 334.070169 \nz\n\" style=\"fill:#1f77b4;\"/>\n   </g>\n   <g id=\"patch_169\">\n    <path clip-path=\"url(#p9cfa88eecc)\" d=\"M 365.37401 334.177895 \nL 367.068685 334.177895 \nL 367.068685 334.091714 \nL 365.37401 334.091714 \nz\n\" style=\"fill:#1f77b4;\"/>\n   </g>\n   <g id=\"patch_170\">\n    <path clip-path=\"url(#p9cfa88eecc)\" d=\"M 367.068685 334.177895 \nL 368.76336 334.177895 \nL 368.76336 332.712819 \nL 367.068685 332.712819 \nz\n\" style=\"fill:#1f77b4;\"/>\n   </g>\n   <g id=\"patch_171\">\n    <path clip-path=\"url(#p9cfa88eecc)\" d=\"M 368.76336 334.177895 \nL 370.458036 334.177895 \nL 370.458036 334.070169 \nL 368.76336 334.070169 \nz\n\" style=\"fill:#1f77b4;\"/>\n   </g>\n   <g id=\"patch_172\">\n    <path clip-path=\"url(#p9cfa88eecc)\" d=\"M 370.458036 334.177895 \nL 372.152711 334.177895 \nL 372.152711 334.167123 \nL 370.458036 334.167123 \nz\n\" style=\"fill:#1f77b4;\"/>\n   </g>\n   <g id=\"patch_173\">\n    <path clip-path=\"url(#p9cfa88eecc)\" d=\"M 372.152711 334.177895 \nL 373.847386 334.177895 \nL 373.847386 333.843944 \nL 372.152711 333.843944 \nz\n\" style=\"fill:#1f77b4;\"/>\n   </g>\n   <g id=\"patch_174\">\n    <path clip-path=\"url(#p9cfa88eecc)\" d=\"M 373.847386 334.177895 \nL 375.542061 334.177895 \nL 375.542061 332.066461 \nL 373.847386 332.066461 \nz\n\" style=\"fill:#1f77b4;\"/>\n   </g>\n   <g id=\"patch_175\">\n    <path clip-path=\"url(#p9cfa88eecc)\" d=\"M 375.542061 334.177895 \nL 377.236736 334.177895 \nL 377.236736 334.134805 \nL 375.542061 334.134805 \nz\n\" style=\"fill:#1f77b4;\"/>\n   </g>\n   <g id=\"patch_176\">\n    <path clip-path=\"url(#p9cfa88eecc)\" d=\"M 377.236736 334.177895 \nL 378.931411 334.177895 \nL 378.931411 333.833172 \nL 377.236736 333.833172 \nz\n\" style=\"fill:#1f77b4;\"/>\n   </g>\n   <g id=\"patch_177\">\n    <path clip-path=\"url(#p9cfa88eecc)\" d=\"M 378.931411 334.177895 \nL 380.626086 334.177895 \nL 380.626086 333.983988 \nL 378.931411 333.983988 \nz\n\" style=\"fill:#1f77b4;\"/>\n   </g>\n   <g id=\"patch_178\">\n    <path clip-path=\"url(#p9cfa88eecc)\" d=\"M 380.626086 334.177895 \nL 382.320761 334.177895 \nL 382.320761 332.432731 \nL 380.626086 332.432731 \nz\n\" style=\"fill:#1f77b4;\"/>\n   </g>\n   <g id=\"patch_179\">\n    <path clip-path=\"url(#p9cfa88eecc)\" d=\"M 382.320761 334.177895 \nL 384.015436 334.177895 \nL 384.015436 334.124032 \nL 382.320761 334.124032 \nz\n\" style=\"fill:#1f77b4;\"/>\n   </g>\n   <g id=\"patch_180\">\n    <path clip-path=\"url(#p9cfa88eecc)\" d=\"M 384.015436 334.177895 \nL 385.710111 334.177895 \nL 385.710111 334.134805 \nL 384.015436 334.134805 \nz\n\" style=\"fill:#1f77b4;\"/>\n   </g>\n   <g id=\"patch_181\">\n    <path clip-path=\"url(#p9cfa88eecc)\" d=\"M 385.710111 334.177895 \nL 387.404786 334.177895 \nL 387.404786 334.15635 \nL 385.710111 334.15635 \nz\n\" style=\"fill:#1f77b4;\"/>\n   </g>\n   <g id=\"patch_182\">\n    <path clip-path=\"url(#p9cfa88eecc)\" d=\"M 387.404786 334.177895 \nL 389.099461 334.177895 \nL 389.099461 334.070169 \nL 387.404786 334.070169 \nz\n\" style=\"fill:#1f77b4;\"/>\n   </g>\n   <g id=\"patch_183\">\n    <path clip-path=\"url(#p9cfa88eecc)\" d=\"M 389.099461 334.177895 \nL 390.794136 334.177895 \nL 390.794136 334.145578 \nL 389.099461 334.145578 \nz\n\" style=\"fill:#1f77b4;\"/>\n   </g>\n   <g id=\"patch_184\">\n    <path clip-path=\"url(#p9cfa88eecc)\" d=\"M 390.794136 334.177895 \nL 392.488811 334.177895 \nL 392.488811 334.145578 \nL 390.794136 334.145578 \nz\n\" style=\"fill:#1f77b4;\"/>\n   </g>\n   <g id=\"patch_185\">\n    <path clip-path=\"url(#p9cfa88eecc)\" d=\"M 392.488811 334.177895 \nL 394.183486 334.177895 \nL 394.183486 334.11326 \nL 392.488811 334.11326 \nz\n\" style=\"fill:#1f77b4;\"/>\n   </g>\n   <g id=\"patch_186\">\n    <path clip-path=\"url(#p9cfa88eecc)\" d=\"M 394.183486 334.177895 \nL 395.878161 334.177895 \nL 395.878161 334.124032 \nL 394.183486 334.124032 \nz\n\" style=\"fill:#1f77b4;\"/>\n   </g>\n   <g id=\"patch_187\">\n    <path clip-path=\"url(#p9cfa88eecc)\" d=\"M 395.878161 334.177895 \nL 397.572836 334.177895 \nL 397.572836 334.15635 \nL 395.878161 334.15635 \nz\n\" style=\"fill:#1f77b4;\"/>\n   </g>\n   <g id=\"patch_188\">\n    <path clip-path=\"url(#p9cfa88eecc)\" d=\"M 397.572836 334.177895 \nL 399.267511 334.177895 \nL 399.267511 334.048624 \nL 397.572836 334.048624 \nz\n\" style=\"fill:#1f77b4;\"/>\n   </g>\n   <g id=\"patch_189\">\n    <path clip-path=\"url(#p9cfa88eecc)\" d=\"M 399.267511 334.177895 \nL 400.962186 334.177895 \nL 400.962186 334.124032 \nL 399.267511 334.124032 \nz\n\" style=\"fill:#1f77b4;\"/>\n   </g>\n   <g id=\"patch_190\">\n    <path clip-path=\"url(#p9cfa88eecc)\" d=\"M 400.962186 334.177895 \nL 402.656861 334.177895 \nL 402.656861 333.606946 \nL 400.962186 333.606946 \nz\n\" style=\"fill:#1f77b4;\"/>\n   </g>\n   <g id=\"patch_191\">\n    <path clip-path=\"url(#p9cfa88eecc)\" d=\"M 402.656861 334.177895 \nL 404.351536 334.177895 \nL 404.351536 334.091714 \nL 402.656861 334.091714 \nz\n\" style=\"fill:#1f77b4;\"/>\n   </g>\n   <g id=\"patch_192\">\n    <path clip-path=\"url(#p9cfa88eecc)\" d=\"M 404.351536 334.177895 \nL 406.046211 334.177895 \nL 406.046211 333.95167 \nL 404.351536 333.95167 \nz\n\" style=\"fill:#1f77b4;\"/>\n   </g>\n   <g id=\"patch_193\">\n    <path clip-path=\"url(#p9cfa88eecc)\" d=\"M 406.046211 334.177895 \nL 407.740886 334.177895 \nL 407.740886 334.15635 \nL 406.046211 334.15635 \nz\n\" style=\"fill:#1f77b4;\"/>\n   </g>\n   <g id=\"patch_194\">\n    <path clip-path=\"url(#p9cfa88eecc)\" d=\"M 407.740886 334.177895 \nL 409.435561 334.177895 \nL 409.435561 334.124032 \nL 407.740886 334.124032 \nz\n\" style=\"fill:#1f77b4;\"/>\n   </g>\n   <g id=\"patch_195\">\n    <path clip-path=\"url(#p9cfa88eecc)\" d=\"M 409.435561 334.177895 \nL 411.130236 334.177895 \nL 411.130236 334.134805 \nL 409.435561 334.134805 \nz\n\" style=\"fill:#1f77b4;\"/>\n   </g>\n   <g id=\"patch_196\">\n    <path clip-path=\"url(#p9cfa88eecc)\" d=\"M 411.130236 334.177895 \nL 412.824911 334.177895 \nL 412.824911 334.134805 \nL 411.130236 334.134805 \nz\n\" style=\"fill:#1f77b4;\"/>\n   </g>\n   <g id=\"patch_197\">\n    <path clip-path=\"url(#p9cfa88eecc)\" d=\"M 412.824911 334.177895 \nL 414.519586 334.177895 \nL 414.519586 333.940898 \nL 412.824911 333.940898 \nz\n\" style=\"fill:#1f77b4;\"/>\n   </g>\n   <g id=\"patch_198\">\n    <path clip-path=\"url(#p9cfa88eecc)\" d=\"M 414.519586 334.177895 \nL 416.214261 334.177895 \nL 416.214261 333.262223 \nL 414.519586 333.262223 \nz\n\" style=\"fill:#1f77b4;\"/>\n   </g>\n   <g id=\"patch_199\">\n    <path clip-path=\"url(#p9cfa88eecc)\" d=\"M 416.214261 334.177895 \nL 417.908937 334.177895 \nL 417.908937 333.553083 \nL 416.214261 333.553083 \nz\n\" style=\"fill:#1f77b4;\"/>\n   </g>\n   <g id=\"patch_200\">\n    <path clip-path=\"url(#p9cfa88eecc)\" d=\"M 417.908937 334.177895 \nL 419.603612 334.177895 \nL 419.603612 334.016306 \nL 417.908937 334.016306 \nz\n\" style=\"fill:#1f77b4;\"/>\n   </g>\n   <g id=\"patch_201\">\n    <path clip-path=\"url(#p9cfa88eecc)\" d=\"M 419.603612 334.177895 \nL 421.298287 334.177895 \nL 421.298287 334.005533 \nL 419.603612 334.005533 \nz\n\" style=\"fill:#1f77b4;\"/>\n   </g>\n   <g id=\"patch_202\">\n    <path clip-path=\"url(#p9cfa88eecc)\" d=\"M 421.298287 334.177895 \nL 422.992962 334.177895 \nL 422.992962 334.070169 \nL 421.298287 334.070169 \nz\n\" style=\"fill:#1f77b4;\"/>\n   </g>\n   <g id=\"patch_203\">\n    <path clip-path=\"url(#p9cfa88eecc)\" d=\"M 422.992962 334.177895 \nL 424.687637 334.177895 \nL 424.687637 334.15635 \nL 422.992962 334.15635 \nz\n\" style=\"fill:#1f77b4;\"/>\n   </g>\n   <g id=\"patch_204\">\n    <path clip-path=\"url(#p9cfa88eecc)\" d=\"M 424.687637 334.177895 \nL 426.382312 334.177895 \nL 426.382312 333.876262 \nL 424.687637 333.876262 \nz\n\" style=\"fill:#1f77b4;\"/>\n   </g>\n   <g id=\"patch_205\">\n    <path clip-path=\"url(#p9cfa88eecc)\" d=\"M 426.382312 334.177895 \nL 428.076987 334.177895 \nL 428.076987 334.048624 \nL 426.382312 334.048624 \nz\n\" style=\"fill:#1f77b4;\"/>\n   </g>\n   <g id=\"patch_206\">\n    <path clip-path=\"url(#p9cfa88eecc)\" d=\"M 428.076987 334.177895 \nL 429.771662 334.177895 \nL 429.771662 333.369949 \nL 428.076987 333.369949 \nz\n\" style=\"fill:#1f77b4;\"/>\n   </g>\n   <g id=\"patch_207\">\n    <path clip-path=\"url(#p9cfa88eecc)\" d=\"M 429.771662 334.177895 \nL 431.466337 334.177895 \nL 431.466337 334.070169 \nL 429.771662 334.070169 \nz\n\" style=\"fill:#1f77b4;\"/>\n   </g>\n   <g id=\"patch_208\">\n    <path clip-path=\"url(#p9cfa88eecc)\" d=\"M 431.466337 334.177895 \nL 433.161012 334.177895 \nL 433.161012 333.714673 \nL 431.466337 333.714673 \nz\n\" style=\"fill:#1f77b4;\"/>\n   </g>\n   <g id=\"patch_209\">\n    <path clip-path=\"url(#p9cfa88eecc)\" d=\"M 433.161012 334.177895 \nL 434.855687 334.177895 \nL 434.855687 333.930125 \nL 433.161012 333.930125 \nz\n\" style=\"fill:#1f77b4;\"/>\n   </g>\n   <g id=\"patch_210\">\n    <path clip-path=\"url(#p9cfa88eecc)\" d=\"M 434.855687 334.177895 \nL 436.550362 334.177895 \nL 436.550362 334.005533 \nL 434.855687 334.005533 \nz\n\" style=\"fill:#1f77b4;\"/>\n   </g>\n   <g id=\"patch_211\">\n    <path clip-path=\"url(#p9cfa88eecc)\" d=\"M 436.550362 334.177895 \nL 438.245037 334.177895 \nL 438.245037 334.15635 \nL 436.550362 334.15635 \nz\n\" style=\"fill:#1f77b4;\"/>\n   </g>\n   <g id=\"patch_212\">\n    <path clip-path=\"url(#p9cfa88eecc)\" d=\"M 438.245037 334.177895 \nL 439.939712 334.177895 \nL 439.939712 333.854717 \nL 438.245037 333.854717 \nz\n\" style=\"fill:#1f77b4;\"/>\n   </g>\n   <g id=\"patch_213\">\n    <path clip-path=\"url(#p9cfa88eecc)\" d=\"M 439.939712 334.177895 \nL 441.634387 334.177895 \nL 441.634387 333.617719 \nL 439.939712 333.617719 \nz\n\" style=\"fill:#1f77b4;\"/>\n   </g>\n   <g id=\"patch_214\">\n    <path clip-path=\"url(#p9cfa88eecc)\" d=\"M 441.634387 334.177895 \nL 443.329062 334.177895 \nL 443.329062 334.027079 \nL 441.634387 334.027079 \nz\n\" style=\"fill:#1f77b4;\"/>\n   </g>\n   <g id=\"patch_215\">\n    <path clip-path=\"url(#p9cfa88eecc)\" d=\"M 443.329062 334.177895 \nL 445.023737 334.177895 \nL 445.023737 334.027079 \nL 443.329062 334.027079 \nz\n\" style=\"fill:#1f77b4;\"/>\n   </g>\n   <g id=\"patch_216\">\n    <path clip-path=\"url(#p9cfa88eecc)\" d=\"M 445.023737 334.177895 \nL 446.718412 334.177895 \nL 446.718412 334.11326 \nL 445.023737 334.11326 \nz\n\" style=\"fill:#1f77b4;\"/>\n   </g>\n   <g id=\"patch_217\">\n    <path clip-path=\"url(#p9cfa88eecc)\" d=\"M 446.718412 334.177895 \nL 448.413087 334.177895 \nL 448.413087 333.962443 \nL 446.718412 333.962443 \nz\n\" style=\"fill:#1f77b4;\"/>\n   </g>\n   <g id=\"patch_218\">\n    <path clip-path=\"url(#p9cfa88eecc)\" d=\"M 448.413087 334.177895 \nL 450.107762 334.177895 \nL 450.107762 334.134805 \nL 448.413087 334.134805 \nz\n\" style=\"fill:#1f77b4;\"/>\n   </g>\n   <g id=\"patch_219\">\n    <path clip-path=\"url(#p9cfa88eecc)\" d=\"M 450.107762 334.177895 \nL 451.802437 334.177895 \nL 451.802437 333.919353 \nL 450.107762 333.919353 \nz\n\" style=\"fill:#1f77b4;\"/>\n   </g>\n   <g id=\"patch_220\">\n    <path clip-path=\"url(#p9cfa88eecc)\" d=\"M 451.802437 334.177895 \nL 453.497112 334.177895 \nL 453.497112 334.027079 \nL 451.802437 334.027079 \nz\n\" style=\"fill:#1f77b4;\"/>\n   </g>\n   <g id=\"patch_221\">\n    <path clip-path=\"url(#p9cfa88eecc)\" d=\"M 453.497112 334.177895 \nL 455.191787 334.177895 \nL 455.191787 333.531538 \nL 453.497112 333.531538 \nz\n\" style=\"fill:#1f77b4;\"/>\n   </g>\n   <g id=\"patch_222\">\n    <path clip-path=\"url(#p9cfa88eecc)\" d=\"M 455.191787 334.177895 \nL 456.886462 334.177895 \nL 456.886462 333.779308 \nL 455.191787 333.779308 \nz\n\" style=\"fill:#1f77b4;\"/>\n   </g>\n   <g id=\"patch_223\">\n    <path clip-path=\"url(#p9cfa88eecc)\" d=\"M 456.886462 334.177895 \nL 458.581137 334.177895 \nL 458.581137 333.930125 \nL 456.886462 333.930125 \nz\n\" style=\"fill:#1f77b4;\"/>\n   </g>\n   <g id=\"patch_224\">\n    <path clip-path=\"url(#p9cfa88eecc)\" d=\"M 458.581137 334.177895 \nL 460.275812 334.177895 \nL 460.275812 334.145578 \nL 458.581137 334.145578 \nz\n\" style=\"fill:#1f77b4;\"/>\n   </g>\n   <g id=\"patch_225\">\n    <path clip-path=\"url(#p9cfa88eecc)\" d=\"M 460.275812 334.177895 \nL 461.970487 334.177895 \nL 461.970487 334.080942 \nL 460.275812 334.080942 \nz\n\" style=\"fill:#1f77b4;\"/>\n   </g>\n   <g id=\"patch_226\">\n    <path clip-path=\"url(#p9cfa88eecc)\" d=\"M 461.970487 334.177895 \nL 463.665162 334.177895 \nL 463.665162 334.15635 \nL 461.970487 334.15635 \nz\n\" style=\"fill:#1f77b4;\"/>\n   </g>\n   <g id=\"patch_227\">\n    <path clip-path=\"url(#p9cfa88eecc)\" d=\"M 463.665162 334.177895 \nL 465.359838 334.177895 \nL 465.359838 333.822399 \nL 463.665162 333.822399 \nz\n\" style=\"fill:#1f77b4;\"/>\n   </g>\n   <g id=\"patch_228\">\n    <path clip-path=\"url(#p9cfa88eecc)\" d=\"M 465.359838 334.177895 \nL 467.054513 334.177895 \nL 467.054513 333.757763 \nL 465.359838 333.757763 \nz\n\" style=\"fill:#1f77b4;\"/>\n   </g>\n   <g id=\"patch_229\">\n    <path clip-path=\"url(#p9cfa88eecc)\" d=\"M 467.054513 334.177895 \nL 468.749188 334.177895 \nL 468.749188 334.15635 \nL 467.054513 334.15635 \nz\n\" style=\"fill:#1f77b4;\"/>\n   </g>\n   <g id=\"patch_230\">\n    <path clip-path=\"url(#p9cfa88eecc)\" d=\"M 468.749188 334.177895 \nL 470.443863 334.177895 \nL 470.443863 334.048624 \nL 468.749188 334.048624 \nz\n\" style=\"fill:#1f77b4;\"/>\n   </g>\n   <g id=\"patch_231\">\n    <path clip-path=\"url(#p9cfa88eecc)\" d=\"M 470.443863 334.177895 \nL 472.138538 334.177895 \nL 472.138538 334.124032 \nL 470.443863 334.124032 \nz\n\" style=\"fill:#1f77b4;\"/>\n   </g>\n   <g id=\"patch_232\">\n    <path clip-path=\"url(#p9cfa88eecc)\" d=\"M 472.138538 334.177895 \nL 473.833213 334.177895 \nL 473.833213 333.542311 \nL 472.138538 333.542311 \nz\n\" style=\"fill:#1f77b4;\"/>\n   </g>\n   <g id=\"patch_233\">\n    <path clip-path=\"url(#p9cfa88eecc)\" d=\"M 473.833213 334.177895 \nL 475.527888 334.177895 \nL 475.527888 333.757763 \nL 473.833213 333.757763 \nz\n\" style=\"fill:#1f77b4;\"/>\n   </g>\n   <g id=\"patch_234\">\n    <path clip-path=\"url(#p9cfa88eecc)\" d=\"M 475.527888 334.177895 \nL 477.222563 334.177895 \nL 477.222563 334.059397 \nL 475.527888 334.059397 \nz\n\" style=\"fill:#1f77b4;\"/>\n   </g>\n   <g id=\"patch_235\">\n    <path clip-path=\"url(#p9cfa88eecc)\" d=\"M 477.222563 334.177895 \nL 478.917238 334.177895 \nL 478.917238 334.037851 \nL 477.222563 334.037851 \nz\n\" style=\"fill:#1f77b4;\"/>\n   </g>\n   <g id=\"patch_236\">\n    <path clip-path=\"url(#p9cfa88eecc)\" d=\"M 478.917238 334.177895 \nL 480.611913 334.177895 \nL 480.611913 334.145578 \nL 478.917238 334.145578 \nz\n\" style=\"fill:#1f77b4;\"/>\n   </g>\n   <g id=\"patch_237\">\n    <path clip-path=\"url(#p9cfa88eecc)\" d=\"M 480.611913 334.177895 \nL 482.306588 334.177895 \nL 482.306588 334.167123 \nL 480.611913 334.167123 \nz\n\" style=\"fill:#1f77b4;\"/>\n   </g>\n   <g id=\"patch_238\">\n    <path clip-path=\"url(#p9cfa88eecc)\" d=\"M 482.306588 334.177895 \nL 484.001263 334.177895 \nL 484.001263 334.167123 \nL 482.306588 334.167123 \nz\n\" style=\"fill:#1f77b4;\"/>\n   </g>\n   <g id=\"patch_239\">\n    <path clip-path=\"url(#p9cfa88eecc)\" d=\"M 484.001263 334.177895 \nL 485.695938 334.177895 \nL 485.695938 333.865489 \nL 484.001263 333.865489 \nz\n\" style=\"fill:#1f77b4;\"/>\n   </g>\n   <g id=\"patch_240\">\n    <path clip-path=\"url(#p9cfa88eecc)\" d=\"M 485.695938 334.177895 \nL 487.390613 334.177895 \nL 487.390613 334.070169 \nL 485.695938 334.070169 \nz\n\" style=\"fill:#1f77b4;\"/>\n   </g>\n   <g id=\"patch_241\">\n    <path clip-path=\"url(#p9cfa88eecc)\" d=\"M 487.390613 334.177895 \nL 489.085288 334.177895 \nL 489.085288 333.930125 \nL 487.390613 333.930125 \nz\n\" style=\"fill:#1f77b4;\"/>\n   </g>\n   <g id=\"patch_242\">\n    <path clip-path=\"url(#p9cfa88eecc)\" d=\"M 489.085288 334.177895 \nL 490.779963 334.177895 \nL 490.779963 334.15635 \nL 489.085288 334.15635 \nz\n\" style=\"fill:#1f77b4;\"/>\n   </g>\n   <g id=\"patch_243\">\n    <path clip-path=\"url(#p9cfa88eecc)\" d=\"M 490.779963 334.177895 \nL 492.474638 334.177895 \nL 492.474638 334.016306 \nL 490.779963 334.016306 \nz\n\" style=\"fill:#1f77b4;\"/>\n   </g>\n   <g id=\"patch_244\">\n    <path clip-path=\"url(#p9cfa88eecc)\" d=\"M 492.474638 334.177895 \nL 494.169313 334.177895 \nL 494.169313 333.790081 \nL 492.474638 333.790081 \nz\n\" style=\"fill:#1f77b4;\"/>\n   </g>\n   <g id=\"patch_245\">\n    <path clip-path=\"url(#p9cfa88eecc)\" d=\"M 494.169313 334.177895 \nL 495.863988 334.177895 \nL 495.863988 333.66081 \nL 494.169313 333.66081 \nz\n\" style=\"fill:#1f77b4;\"/>\n   </g>\n   <g id=\"patch_246\">\n    <path clip-path=\"url(#p9cfa88eecc)\" d=\"M 495.863988 334.177895 \nL 497.558663 334.177895 \nL 497.558663 330.989199 \nL 495.863988 330.989199 \nz\n\" style=\"fill:#1f77b4;\"/>\n   </g>\n   <g id=\"patch_247\">\n    <path clip-path=\"url(#p9cfa88eecc)\" d=\"M 497.558663 334.177895 \nL 499.253338 334.177895 \nL 499.253338 334.145578 \nL 497.558663 334.145578 \nz\n\" style=\"fill:#1f77b4;\"/>\n   </g>\n   <g id=\"patch_248\">\n    <path clip-path=\"url(#p9cfa88eecc)\" d=\"M 499.253338 334.177895 \nL 500.948013 334.177895 \nL 500.948013 334.059397 \nL 499.253338 334.059397 \nz\n\" style=\"fill:#1f77b4;\"/>\n   </g>\n   <g id=\"patch_249\">\n    <path clip-path=\"url(#p9cfa88eecc)\" d=\"M 500.948013 334.177895 \nL 502.642688 334.177895 \nL 502.642688 333.7039 \nL 500.948013 333.7039 \nz\n\" style=\"fill:#1f77b4;\"/>\n   </g>\n   <g id=\"patch_250\">\n    <path clip-path=\"url(#p9cfa88eecc)\" d=\"M 502.642688 334.177895 \nL 504.337363 334.177895 \nL 504.337363 334.091714 \nL 502.642688 334.091714 \nz\n\" style=\"fill:#1f77b4;\"/>\n   </g>\n   <g id=\"patch_251\">\n    <path clip-path=\"url(#p9cfa88eecc)\" d=\"M 504.337363 334.177895 \nL 506.032038 334.177895 \nL 506.032038 334.005533 \nL 504.337363 334.005533 \nz\n\" style=\"fill:#1f77b4;\"/>\n   </g>\n   <g id=\"patch_252\">\n    <path clip-path=\"url(#p9cfa88eecc)\" d=\"M 506.032038 334.177895 \nL 507.726713 334.177895 \nL 507.726713 334.048624 \nL 506.032038 334.048624 \nz\n\" style=\"fill:#1f77b4;\"/>\n   </g>\n   <g id=\"patch_253\">\n    <path clip-path=\"url(#p9cfa88eecc)\" d=\"M 507.726713 334.177895 \nL 509.421388 334.177895 \nL 509.421388 334.15635 \nL 507.726713 334.15635 \nz\n\" style=\"fill:#1f77b4;\"/>\n   </g>\n   <g id=\"patch_254\">\n    <path clip-path=\"url(#p9cfa88eecc)\" d=\"M 509.421388 334.177895 \nL 511.116063 334.177895 \nL 511.116063 334.091714 \nL 509.421388 334.091714 \nz\n\" style=\"fill:#1f77b4;\"/>\n   </g>\n   <g id=\"patch_255\">\n    <path clip-path=\"url(#p9cfa88eecc)\" d=\"M 511.116063 334.177895 \nL 512.810739 334.177895 \nL 512.810739 333.359176 \nL 511.116063 333.359176 \nz\n\" style=\"fill:#1f77b4;\"/>\n   </g>\n   <g id=\"patch_256\">\n    <path clip-path=\"url(#p9cfa88eecc)\" d=\"M 512.810739 334.177895 \nL 514.505414 334.177895 \nL 514.505414 334.145578 \nL 512.810739 334.145578 \nz\n\" style=\"fill:#1f77b4;\"/>\n   </g>\n   <g id=\"patch_257\">\n    <path clip-path=\"url(#p9cfa88eecc)\" d=\"M 514.505414 334.177895 \nL 516.200089 334.177895 \nL 516.200089 333.854717 \nL 514.505414 333.854717 \nz\n\" style=\"fill:#1f77b4;\"/>\n   </g>\n   <g id=\"patch_258\">\n    <path clip-path=\"url(#p9cfa88eecc)\" d=\"M 516.200089 334.177895 \nL 517.894764 334.177895 \nL 517.894764 334.124032 \nL 516.200089 334.124032 \nz\n\" style=\"fill:#1f77b4;\"/>\n   </g>\n   <g id=\"patch_259\">\n    <path clip-path=\"url(#p9cfa88eecc)\" d=\"M 517.894764 334.177895 \nL 519.589439 334.177895 \nL 519.589439 334.070169 \nL 517.894764 334.070169 \nz\n\" style=\"fill:#1f77b4;\"/>\n   </g>\n   <g id=\"patch_260\">\n    <path clip-path=\"url(#p9cfa88eecc)\" d=\"M 519.589439 334.177895 \nL 521.284114 334.177895 \nL 521.284114 334.145578 \nL 519.589439 334.145578 \nz\n\" style=\"fill:#1f77b4;\"/>\n   </g>\n   <g id=\"patch_261\">\n    <path clip-path=\"url(#p9cfa88eecc)\" d=\"M 521.284114 334.177895 \nL 522.978789 334.177895 \nL 522.978789 333.811626 \nL 521.284114 333.811626 \nz\n\" style=\"fill:#1f77b4;\"/>\n   </g>\n   <g id=\"patch_262\">\n    <path clip-path=\"url(#p9cfa88eecc)\" d=\"M 522.978789 334.177895 \nL 524.673464 334.177895 \nL 524.673464 333.930125 \nL 522.978789 333.930125 \nz\n\" style=\"fill:#1f77b4;\"/>\n   </g>\n   <g id=\"patch_263\">\n    <path clip-path=\"url(#p9cfa88eecc)\" d=\"M 524.673464 334.177895 \nL 526.368139 334.177895 \nL 526.368139 334.070169 \nL 524.673464 334.070169 \nz\n\" style=\"fill:#1f77b4;\"/>\n   </g>\n   <g id=\"patch_264\">\n    <path clip-path=\"url(#p9cfa88eecc)\" d=\"M 526.368139 334.177895 \nL 528.062814 334.177895 \nL 528.062814 333.930125 \nL 526.368139 333.930125 \nz\n\" style=\"fill:#1f77b4;\"/>\n   </g>\n   <g id=\"patch_265\">\n    <path clip-path=\"url(#p9cfa88eecc)\" d=\"M 528.062814 334.177895 \nL 529.757489 334.177895 \nL 529.757489 334.134805 \nL 528.062814 334.134805 \nz\n\" style=\"fill:#1f77b4;\"/>\n   </g>\n   <g id=\"patch_266\">\n    <path clip-path=\"url(#p9cfa88eecc)\" d=\"M 529.757489 334.177895 \nL 531.452164 334.177895 \nL 531.452164 333.962443 \nL 529.757489 333.962443 \nz\n\" style=\"fill:#1f77b4;\"/>\n   </g>\n   <g id=\"patch_267\">\n    <path clip-path=\"url(#p9cfa88eecc)\" d=\"M 531.452164 334.177895 \nL 533.146839 334.177895 \nL 533.146839 333.639264 \nL 531.452164 333.639264 \nz\n\" style=\"fill:#1f77b4;\"/>\n   </g>\n   <g id=\"patch_268\">\n    <path clip-path=\"url(#p9cfa88eecc)\" d=\"M 533.146839 334.177895 \nL 534.841514 334.177895 \nL 534.841514 334.070169 \nL 533.146839 334.070169 \nz\n\" style=\"fill:#1f77b4;\"/>\n   </g>\n   <g id=\"patch_269\">\n    <path clip-path=\"url(#p9cfa88eecc)\" d=\"M 534.841514 334.177895 \nL 536.536189 334.177895 \nL 536.536189 333.66081 \nL 534.841514 333.66081 \nz\n\" style=\"fill:#1f77b4;\"/>\n   </g>\n   <g id=\"patch_270\">\n    <path clip-path=\"url(#p9cfa88eecc)\" d=\"M 536.536189 334.177895 \nL 538.230864 334.177895 \nL 538.230864 334.167123 \nL 536.536189 334.167123 \nz\n\" style=\"fill:#1f77b4;\"/>\n   </g>\n   <g id=\"patch_271\">\n    <path clip-path=\"url(#p9cfa88eecc)\" d=\"M 538.230864 334.177895 \nL 539.925539 334.177895 \nL 539.925539 333.983988 \nL 538.230864 333.983988 \nz\n\" style=\"fill:#1f77b4;\"/>\n   </g>\n   <g id=\"patch_272\">\n    <path clip-path=\"url(#p9cfa88eecc)\" d=\"M 539.925539 334.177895 \nL 541.620214 334.177895 \nL 541.620214 334.167123 \nL 539.925539 334.167123 \nz\n\" style=\"fill:#1f77b4;\"/>\n   </g>\n   <g id=\"patch_273\">\n    <path clip-path=\"url(#p9cfa88eecc)\" d=\"M 541.620214 334.177895 \nL 543.314889 334.177895 \nL 543.314889 334.15635 \nL 541.620214 334.15635 \nz\n\" style=\"fill:#1f77b4;\"/>\n   </g>\n   <g id=\"patch_274\">\n    <path clip-path=\"url(#p9cfa88eecc)\" d=\"M 543.314889 334.177895 \nL 545.009564 334.177895 \nL 545.009564 334.15635 \nL 543.314889 334.15635 \nz\n\" style=\"fill:#1f77b4;\"/>\n   </g>\n   <g id=\"patch_275\">\n    <path clip-path=\"url(#p9cfa88eecc)\" d=\"M 545.009564 334.177895 \nL 546.704239 334.177895 \nL 546.704239 334.124032 \nL 545.009564 334.124032 \nz\n\" style=\"fill:#1f77b4;\"/>\n   </g>\n   <g id=\"patch_276\">\n    <path clip-path=\"url(#p9cfa88eecc)\" d=\"M 546.704239 334.177895 \nL 548.398914 334.177895 \nL 548.398914 333.919353 \nL 546.704239 333.919353 \nz\n\" style=\"fill:#1f77b4;\"/>\n   </g>\n   <g id=\"patch_277\">\n    <path clip-path=\"url(#p9cfa88eecc)\" d=\"M 548.398914 334.177895 \nL 550.093589 334.177895 \nL 550.093589 333.746991 \nL 548.398914 333.746991 \nz\n\" style=\"fill:#1f77b4;\"/>\n   </g>\n   <g id=\"patch_278\">\n    <path clip-path=\"url(#p9cfa88eecc)\" d=\"M 550.093589 334.177895 \nL 551.788264 334.177895 \nL 551.788264 334.11326 \nL 550.093589 334.11326 \nz\n\" style=\"fill:#1f77b4;\"/>\n   </g>\n   <g id=\"patch_279\">\n    <path clip-path=\"url(#p9cfa88eecc)\" d=\"M 551.788264 334.177895 \nL 553.482939 334.177895 \nL 553.482939 333.90858 \nL 551.788264 333.90858 \nz\n\" style=\"fill:#1f77b4;\"/>\n   </g>\n   <g id=\"patch_280\">\n    <path clip-path=\"url(#p9cfa88eecc)\" d=\"M 553.482939 334.177895 \nL 555.177614 334.177895 \nL 555.177614 334.167123 \nL 553.482939 334.167123 \nz\n\" style=\"fill:#1f77b4;\"/>\n   </g>\n   <g id=\"patch_281\">\n    <path clip-path=\"url(#p9cfa88eecc)\" d=\"M 555.177614 334.177895 \nL 556.872289 334.177895 \nL 556.872289 334.15635 \nL 555.177614 334.15635 \nz\n\" style=\"fill:#1f77b4;\"/>\n   </g>\n   <g id=\"patch_282\">\n    <path clip-path=\"url(#p9cfa88eecc)\" d=\"M 556.872289 334.177895 \nL 558.566964 334.177895 \nL 558.566964 334.059397 \nL 556.872289 334.059397 \nz\n\" style=\"fill:#1f77b4;\"/>\n   </g>\n   <g id=\"patch_283\">\n    <path clip-path=\"url(#p9cfa88eecc)\" d=\"M 558.566964 334.177895 \nL 560.26164 334.177895 \nL 560.26164 334.15635 \nL 558.566964 334.15635 \nz\n\" style=\"fill:#1f77b4;\"/>\n   </g>\n   <g id=\"patch_284\">\n    <path clip-path=\"url(#p9cfa88eecc)\" d=\"M 560.26164 334.177895 \nL 561.956315 334.177895 \nL 561.956315 332.820545 \nL 560.26164 332.820545 \nz\n\" style=\"fill:#1f77b4;\"/>\n   </g>\n   <g id=\"patch_285\">\n    <path clip-path=\"url(#p9cfa88eecc)\" d=\"M 561.956315 334.177895 \nL 563.65099 334.177895 \nL 563.65099 334.134805 \nL 561.956315 334.134805 \nz\n\" style=\"fill:#1f77b4;\"/>\n   </g>\n   <g id=\"patch_286\">\n    <path clip-path=\"url(#p9cfa88eecc)\" d=\"M 563.65099 334.177895 \nL 565.345665 334.177895 \nL 565.345665 333.897807 \nL 563.65099 333.897807 \nz\n\" style=\"fill:#1f77b4;\"/>\n   </g>\n   <g id=\"patch_287\">\n    <path clip-path=\"url(#p9cfa88eecc)\" d=\"M 565.345665 334.177895 \nL 567.04034 334.177895 \nL 567.04034 334.048624 \nL 565.345665 334.048624 \nz\n\" style=\"fill:#1f77b4;\"/>\n   </g>\n   <g id=\"patch_288\">\n    <path clip-path=\"url(#p9cfa88eecc)\" d=\"M 567.04034 334.177895 \nL 568.735015 334.177895 \nL 568.735015 333.208359 \nL 567.04034 333.208359 \nz\n\" style=\"fill:#1f77b4;\"/>\n   </g>\n   <g id=\"patch_289\">\n    <path clip-path=\"url(#p9cfa88eecc)\" d=\"M 568.735015 334.177895 \nL 570.42969 334.177895 \nL 570.42969 333.757763 \nL 568.735015 333.757763 \nz\n\" style=\"fill:#1f77b4;\"/>\n   </g>\n   <g id=\"patch_290\">\n    <path clip-path=\"url(#p9cfa88eecc)\" d=\"M 570.42969 334.177895 \nL 572.124365 334.177895 \nL 572.124365 334.080942 \nL 570.42969 334.080942 \nz\n\" style=\"fill:#1f77b4;\"/>\n   </g>\n   <g id=\"patch_291\">\n    <path clip-path=\"url(#p9cfa88eecc)\" d=\"M 572.124365 334.177895 \nL 573.81904 334.177895 \nL 573.81904 334.145578 \nL 572.124365 334.145578 \nz\n\" style=\"fill:#1f77b4;\"/>\n   </g>\n   <g id=\"patch_292\">\n    <path clip-path=\"url(#p9cfa88eecc)\" d=\"M 573.81904 334.177895 \nL 575.513715 334.177895 \nL 575.513715 334.11326 \nL 573.81904 334.11326 \nz\n\" style=\"fill:#1f77b4;\"/>\n   </g>\n   <g id=\"patch_293\">\n    <path clip-path=\"url(#p9cfa88eecc)\" d=\"M 575.513715 334.177895 \nL 577.20839 334.177895 \nL 577.20839 334.124032 \nL 575.513715 334.124032 \nz\n\" style=\"fill:#1f77b4;\"/>\n   </g>\n   <g id=\"patch_294\">\n    <path clip-path=\"url(#p9cfa88eecc)\" d=\"M 577.20839 334.177895 \nL 578.903065 334.177895 \nL 578.903065 333.779308 \nL 577.20839 333.779308 \nz\n\" style=\"fill:#1f77b4;\"/>\n   </g>\n   <g id=\"patch_295\">\n    <path clip-path=\"url(#p9cfa88eecc)\" d=\"M 578.903065 334.177895 \nL 580.59774 334.177895 \nL 580.59774 334.167123 \nL 578.903065 334.167123 \nz\n\" style=\"fill:#1f77b4;\"/>\n   </g>\n   <g id=\"patch_296\">\n    <path clip-path=\"url(#p9cfa88eecc)\" d=\"M 580.59774 334.177895 \nL 582.292415 334.177895 \nL 582.292415 334.059397 \nL 580.59774 334.059397 \nz\n\" style=\"fill:#1f77b4;\"/>\n   </g>\n   <g id=\"patch_297\">\n    <path clip-path=\"url(#p9cfa88eecc)\" d=\"M 582.292415 334.177895 \nL 583.98709 334.177895 \nL 583.98709 333.95167 \nL 582.292415 333.95167 \nz\n\" style=\"fill:#1f77b4;\"/>\n   </g>\n   <g id=\"patch_298\">\n    <path clip-path=\"url(#p9cfa88eecc)\" d=\"M 583.98709 334.177895 \nL 585.681765 334.177895 \nL 585.681765 334.048624 \nL 583.98709 334.048624 \nz\n\" style=\"fill:#1f77b4;\"/>\n   </g>\n   <g id=\"patch_299\">\n    <path clip-path=\"url(#p9cfa88eecc)\" d=\"M 585.681765 334.177895 \nL 587.37644 334.177895 \nL 587.37644 334.059397 \nL 585.681765 334.059397 \nz\n\" style=\"fill:#1f77b4;\"/>\n   </g>\n   <g id=\"patch_300\">\n    <path clip-path=\"url(#p9cfa88eecc)\" d=\"M 587.37644 334.177895 \nL 589.071115 334.177895 \nL 589.071115 334.080942 \nL 587.37644 334.080942 \nz\n\" style=\"fill:#1f77b4;\"/>\n   </g>\n   <g id=\"patch_301\">\n    <path clip-path=\"url(#p9cfa88eecc)\" d=\"M 589.071115 334.177895 \nL 590.76579 334.177895 \nL 590.76579 333.00368 \nL 589.071115 333.00368 \nz\n\" style=\"fill:#1f77b4;\"/>\n   </g>\n   <g id=\"patch_302\">\n    <path clip-path=\"url(#p9cfa88eecc)\" d=\"M 590.76579 334.177895 \nL 592.460465 334.177895 \nL 592.460465 334.167123 \nL 590.76579 334.167123 \nz\n\" style=\"fill:#1f77b4;\"/>\n   </g>\n   <g id=\"patch_303\">\n    <path clip-path=\"url(#p9cfa88eecc)\" d=\"M 592.460465 334.177895 \nL 594.15514 334.177895 \nL 594.15514 334.059397 \nL 592.460465 334.059397 \nz\n\" style=\"fill:#1f77b4;\"/>\n   </g>\n   <g id=\"patch_304\">\n    <path clip-path=\"url(#p9cfa88eecc)\" d=\"M 594.15514 334.177895 \nL 595.849815 334.177895 \nL 595.849815 334.102487 \nL 594.15514 334.102487 \nz\n\" style=\"fill:#1f77b4;\"/>\n   </g>\n   <g id=\"patch_305\">\n    <path clip-path=\"url(#p9cfa88eecc)\" d=\"M 595.849815 334.177895 \nL 597.54449 334.177895 \nL 597.54449 334.091714 \nL 595.849815 334.091714 \nz\n\" style=\"fill:#1f77b4;\"/>\n   </g>\n   <g id=\"patch_306\">\n    <path clip-path=\"url(#p9cfa88eecc)\" d=\"M 597.54449 334.177895 \nL 599.239165 334.177895 \nL 599.239165 334.167123 \nL 597.54449 334.167123 \nz\n\" style=\"fill:#1f77b4;\"/>\n   </g>\n   <g id=\"patch_307\">\n    <path clip-path=\"url(#p9cfa88eecc)\" d=\"M 599.239165 334.177895 \nL 600.93384 334.177895 \nL 600.93384 334.037851 \nL 599.239165 334.037851 \nz\n\" style=\"fill:#1f77b4;\"/>\n   </g>\n   <g id=\"patch_308\">\n    <path clip-path=\"url(#p9cfa88eecc)\" d=\"M 600.93384 334.177895 \nL 602.628515 334.177895 \nL 602.628515 333.930125 \nL 600.93384 333.930125 \nz\n\" style=\"fill:#1f77b4;\"/>\n   </g>\n   <g id=\"patch_309\">\n    <path clip-path=\"url(#p9cfa88eecc)\" d=\"M 602.628515 334.177895 \nL 604.32319 334.177895 \nL 604.32319 334.048624 \nL 602.628515 334.048624 \nz\n\" style=\"fill:#1f77b4;\"/>\n   </g>\n   <g id=\"patch_310\">\n    <path clip-path=\"url(#p9cfa88eecc)\" d=\"M 604.32319 334.177895 \nL 606.017865 334.177895 \nL 606.017865 333.994761 \nL 604.32319 333.994761 \nz\n\" style=\"fill:#1f77b4;\"/>\n   </g>\n   <g id=\"patch_311\">\n    <path clip-path=\"url(#p9cfa88eecc)\" d=\"M 606.017865 334.177895 \nL 607.71254 334.177895 \nL 607.71254 334.070169 \nL 606.017865 334.070169 \nz\n\" style=\"fill:#1f77b4;\"/>\n   </g>\n   <g id=\"patch_312\">\n    <path clip-path=\"url(#p9cfa88eecc)\" d=\"M 607.71254 334.177895 \nL 609.407216 334.177895 \nL 609.407216 334.102487 \nL 607.71254 334.102487 \nz\n\" style=\"fill:#1f77b4;\"/>\n   </g>\n   <g id=\"patch_313\">\n    <path clip-path=\"url(#p9cfa88eecc)\" d=\"M 609.407216 334.177895 \nL 611.101891 334.177895 \nL 611.101891 334.124032 \nL 609.407216 334.124032 \nz\n\" style=\"fill:#1f77b4;\"/>\n   </g>\n   <g id=\"patch_314\">\n    <path clip-path=\"url(#p9cfa88eecc)\" d=\"M 611.101891 334.177895 \nL 612.796566 334.177895 \nL 612.796566 334.005533 \nL 611.101891 334.005533 \nz\n\" style=\"fill:#1f77b4;\"/>\n   </g>\n   <g id=\"patch_315\">\n    <path clip-path=\"url(#p9cfa88eecc)\" d=\"M 612.796566 334.177895 \nL 614.491241 334.177895 \nL 614.491241 333.811626 \nL 612.796566 333.811626 \nz\n\" style=\"fill:#1f77b4;\"/>\n   </g>\n   <g id=\"patch_316\">\n    <path clip-path=\"url(#p9cfa88eecc)\" d=\"M 614.491241 334.177895 \nL 616.185916 334.177895 \nL 616.185916 334.145578 \nL 614.491241 334.145578 \nz\n\" style=\"fill:#1f77b4;\"/>\n   </g>\n   <g id=\"patch_317\">\n    <path clip-path=\"url(#p9cfa88eecc)\" d=\"M 616.185916 334.177895 \nL 617.880591 334.177895 \nL 617.880591 334.102487 \nL 616.185916 334.102487 \nz\n\" style=\"fill:#1f77b4;\"/>\n   </g>\n   <g id=\"patch_318\">\n    <path clip-path=\"url(#p9cfa88eecc)\" d=\"M 617.880591 334.177895 \nL 619.575266 334.177895 \nL 619.575266 333.897807 \nL 617.880591 333.897807 \nz\n\" style=\"fill:#1f77b4;\"/>\n   </g>\n   <g id=\"patch_319\">\n    <path clip-path=\"url(#p9cfa88eecc)\" d=\"M 619.575266 334.177895 \nL 621.269941 334.177895 \nL 621.269941 334.134805 \nL 619.575266 334.134805 \nz\n\" style=\"fill:#1f77b4;\"/>\n   </g>\n   <g id=\"patch_320\">\n    <path clip-path=\"url(#p9cfa88eecc)\" d=\"M 621.269941 334.177895 \nL 622.964616 334.177895 \nL 622.964616 334.134805 \nL 621.269941 334.134805 \nz\n\" style=\"fill:#1f77b4;\"/>\n   </g>\n   <g id=\"patch_321\">\n    <path clip-path=\"url(#p9cfa88eecc)\" d=\"M 622.964616 334.177895 \nL 624.659291 334.177895 \nL 624.659291 334.102487 \nL 622.964616 334.102487 \nz\n\" style=\"fill:#1f77b4;\"/>\n   </g>\n   <g id=\"patch_322\">\n    <path clip-path=\"url(#p9cfa88eecc)\" d=\"M 624.659291 334.177895 \nL 626.353966 334.177895 \nL 626.353966 334.016306 \nL 624.659291 334.016306 \nz\n\" style=\"fill:#1f77b4;\"/>\n   </g>\n   <g id=\"patch_323\">\n    <path clip-path=\"url(#p9cfa88eecc)\" d=\"M 626.353966 334.177895 \nL 628.048641 334.177895 \nL 628.048641 334.124032 \nL 626.353966 334.124032 \nz\n\" style=\"fill:#1f77b4;\"/>\n   </g>\n   <g id=\"patch_324\">\n    <path clip-path=\"url(#p9cfa88eecc)\" d=\"M 628.048641 334.177895 \nL 629.743316 334.177895 \nL 629.743316 334.027079 \nL 628.048641 334.027079 \nz\n\" style=\"fill:#1f77b4;\"/>\n   </g>\n   <g id=\"patch_325\">\n    <path clip-path=\"url(#p9cfa88eecc)\" d=\"M 629.743316 334.177895 \nL 631.437991 334.177895 \nL 631.437991 333.930125 \nL 629.743316 333.930125 \nz\n\" style=\"fill:#1f77b4;\"/>\n   </g>\n   <g id=\"patch_326\">\n    <path clip-path=\"url(#p9cfa88eecc)\" d=\"M 631.437991 334.177895 \nL 633.132666 334.177895 \nL 633.132666 333.994761 \nL 631.437991 333.994761 \nz\n\" style=\"fill:#1f77b4;\"/>\n   </g>\n   <g id=\"patch_327\">\n    <path clip-path=\"url(#p9cfa88eecc)\" d=\"M 633.132666 334.177895 \nL 634.827341 334.177895 \nL 634.827341 334.15635 \nL 633.132666 334.15635 \nz\n\" style=\"fill:#1f77b4;\"/>\n   </g>\n   <g id=\"patch_328\">\n    <path clip-path=\"url(#p9cfa88eecc)\" d=\"M 634.827341 334.177895 \nL 636.522016 334.177895 \nL 636.522016 333.811626 \nL 634.827341 333.811626 \nz\n\" style=\"fill:#1f77b4;\"/>\n   </g>\n   <g id=\"patch_329\">\n    <path clip-path=\"url(#p9cfa88eecc)\" d=\"M 636.522016 334.177895 \nL 638.216691 334.177895 \nL 638.216691 334.167123 \nL 636.522016 334.167123 \nz\n\" style=\"fill:#1f77b4;\"/>\n   </g>\n   <g id=\"patch_330\">\n    <path clip-path=\"url(#p9cfa88eecc)\" d=\"M 638.216691 334.177895 \nL 639.911366 334.177895 \nL 639.911366 334.167123 \nL 638.216691 334.167123 \nz\n\" style=\"fill:#1f77b4;\"/>\n   </g>\n   <g id=\"patch_331\">\n    <path clip-path=\"url(#p9cfa88eecc)\" d=\"M 639.911366 334.177895 \nL 641.606041 334.177895 \nL 641.606041 333.940898 \nL 639.911366 333.940898 \nz\n\" style=\"fill:#1f77b4;\"/>\n   </g>\n   <g id=\"patch_332\">\n    <path clip-path=\"url(#p9cfa88eecc)\" d=\"M 641.606041 334.177895 \nL 643.300716 334.177895 \nL 643.300716 334.080942 \nL 641.606041 334.080942 \nz\n\" style=\"fill:#1f77b4;\"/>\n   </g>\n   <g id=\"patch_333\">\n    <path clip-path=\"url(#p9cfa88eecc)\" d=\"M 643.300716 334.177895 \nL 644.995391 334.177895 \nL 644.995391 333.994761 \nL 643.300716 333.994761 \nz\n\" style=\"fill:#1f77b4;\"/>\n   </g>\n   <g id=\"patch_334\">\n    <path clip-path=\"url(#p9cfa88eecc)\" d=\"M 644.995391 334.177895 \nL 646.690066 334.177895 \nL 646.690066 334.145578 \nL 644.995391 334.145578 \nz\n\" style=\"fill:#1f77b4;\"/>\n   </g>\n   <g id=\"patch_335\">\n    <path clip-path=\"url(#p9cfa88eecc)\" d=\"M 646.690066 334.177895 \nL 648.384741 334.177895 \nL 648.384741 333.994761 \nL 646.690066 333.994761 \nz\n\" style=\"fill:#1f77b4;\"/>\n   </g>\n   <g id=\"patch_336\">\n    <path clip-path=\"url(#p9cfa88eecc)\" d=\"M 648.384741 334.177895 \nL 650.079416 334.177895 \nL 650.079416 334.059397 \nL 648.384741 334.059397 \nz\n\" style=\"fill:#1f77b4;\"/>\n   </g>\n   <g id=\"patch_337\">\n    <path clip-path=\"url(#p9cfa88eecc)\" d=\"M 650.079416 334.177895 \nL 651.774091 334.177895 \nL 651.774091 334.167123 \nL 650.079416 334.167123 \nz\n\" style=\"fill:#1f77b4;\"/>\n   </g>\n   <g id=\"patch_338\">\n    <path clip-path=\"url(#p9cfa88eecc)\" d=\"M 651.774091 334.177895 \nL 653.468766 334.177895 \nL 653.468766 334.124032 \nL 651.774091 334.124032 \nz\n\" style=\"fill:#1f77b4;\"/>\n   </g>\n   <g id=\"patch_339\">\n    <path clip-path=\"url(#p9cfa88eecc)\" d=\"M 653.468766 334.177895 \nL 655.163441 334.177895 \nL 655.163441 334.167123 \nL 653.468766 334.167123 \nz\n\" style=\"fill:#1f77b4;\"/>\n   </g>\n   <g id=\"patch_340\">\n    <path clip-path=\"url(#p9cfa88eecc)\" d=\"M 655.163441 334.177895 \nL 656.858117 334.177895 \nL 656.858117 334.11326 \nL 655.163441 334.11326 \nz\n\" style=\"fill:#1f77b4;\"/>\n   </g>\n   <g id=\"patch_341\">\n    <path clip-path=\"url(#p9cfa88eecc)\" d=\"M 656.858117 334.177895 \nL 658.552792 334.177895 \nL 658.552792 334.11326 \nL 656.858117 334.11326 \nz\n\" style=\"fill:#1f77b4;\"/>\n   </g>\n   <g id=\"patch_342\">\n    <path clip-path=\"url(#p9cfa88eecc)\" d=\"M 658.552792 334.177895 \nL 660.247467 334.177895 \nL 660.247467 334.070169 \nL 658.552792 334.070169 \nz\n\" style=\"fill:#1f77b4;\"/>\n   </g>\n   <g id=\"patch_343\">\n    <path clip-path=\"url(#p9cfa88eecc)\" d=\"M 660.247467 334.177895 \nL 661.942142 334.177895 \nL 661.942142 334.005533 \nL 660.247467 334.005533 \nz\n\" style=\"fill:#1f77b4;\"/>\n   </g>\n   <g id=\"patch_344\">\n    <path clip-path=\"url(#p9cfa88eecc)\" d=\"M 661.942142 334.177895 \nL 663.636817 334.177895 \nL 663.636817 333.865489 \nL 661.942142 333.865489 \nz\n\" style=\"fill:#1f77b4;\"/>\n   </g>\n   <g id=\"patch_345\">\n    <path clip-path=\"url(#p9cfa88eecc)\" d=\"M 663.636817 334.177895 \nL 665.331492 334.177895 \nL 665.331492 333.671582 \nL 663.636817 333.671582 \nz\n\" style=\"fill:#1f77b4;\"/>\n   </g>\n   <g id=\"patch_346\">\n    <path clip-path=\"url(#p9cfa88eecc)\" d=\"M 665.331492 334.177895 \nL 667.026167 334.177895 \nL 667.026167 334.134805 \nL 665.331492 334.134805 \nz\n\" style=\"fill:#1f77b4;\"/>\n   </g>\n   <g id=\"patch_347\">\n    <path clip-path=\"url(#p9cfa88eecc)\" d=\"M 667.026167 334.177895 \nL 668.720842 334.177895 \nL 668.720842 334.005533 \nL 667.026167 334.005533 \nz\n\" style=\"fill:#1f77b4;\"/>\n   </g>\n   <g id=\"patch_348\">\n    <path clip-path=\"url(#p9cfa88eecc)\" d=\"M 668.720842 334.177895 \nL 670.415517 334.177895 \nL 670.415517 334.005533 \nL 668.720842 334.005533 \nz\n\" style=\"fill:#1f77b4;\"/>\n   </g>\n   <g id=\"patch_349\">\n    <path clip-path=\"url(#p9cfa88eecc)\" d=\"M 670.415517 334.177895 \nL 672.110192 334.177895 \nL 672.110192 333.542311 \nL 670.415517 333.542311 \nz\n\" style=\"fill:#1f77b4;\"/>\n   </g>\n   <g id=\"patch_350\">\n    <path clip-path=\"url(#p9cfa88eecc)\" d=\"M 672.110192 334.177895 \nL 673.804867 334.177895 \nL 673.804867 334.167123 \nL 672.110192 334.167123 \nz\n\" style=\"fill:#1f77b4;\"/>\n   </g>\n   <g id=\"patch_351\">\n    <path clip-path=\"url(#p9cfa88eecc)\" d=\"M 673.804867 334.177895 \nL 675.499542 334.177895 \nL 675.499542 334.167123 \nL 673.804867 334.167123 \nz\n\" style=\"fill:#1f77b4;\"/>\n   </g>\n   <g id=\"patch_352\">\n    <path clip-path=\"url(#p9cfa88eecc)\" d=\"M 675.499542 334.177895 \nL 677.194217 334.177895 \nL 677.194217 334.15635 \nL 675.499542 334.15635 \nz\n\" style=\"fill:#1f77b4;\"/>\n   </g>\n   <g id=\"patch_353\">\n    <path clip-path=\"url(#p9cfa88eecc)\" d=\"M 677.194217 334.177895 \nL 678.888892 334.177895 \nL 678.888892 334.15635 \nL 677.194217 334.15635 \nz\n\" style=\"fill:#1f77b4;\"/>\n   </g>\n   <g id=\"patch_354\">\n    <path clip-path=\"url(#p9cfa88eecc)\" d=\"M 678.888892 334.177895 \nL 680.583567 334.177895 \nL 680.583567 334.11326 \nL 678.888892 334.11326 \nz\n\" style=\"fill:#1f77b4;\"/>\n   </g>\n   <g id=\"patch_355\">\n    <path clip-path=\"url(#p9cfa88eecc)\" d=\"M 680.583567 334.177895 \nL 682.278242 334.177895 \nL 682.278242 334.124032 \nL 680.583567 334.124032 \nz\n\" style=\"fill:#1f77b4;\"/>\n   </g>\n   <g id=\"patch_356\">\n    <path clip-path=\"url(#p9cfa88eecc)\" d=\"M 682.278242 334.177895 \nL 683.972917 334.177895 \nL 683.972917 333.90858 \nL 682.278242 333.90858 \nz\n\" style=\"fill:#1f77b4;\"/>\n   </g>\n   <g id=\"patch_357\">\n    <path clip-path=\"url(#p9cfa88eecc)\" d=\"M 683.972917 334.177895 \nL 685.667592 334.177895 \nL 685.667592 333.962443 \nL 683.972917 333.962443 \nz\n\" style=\"fill:#1f77b4;\"/>\n   </g>\n   <g id=\"patch_358\">\n    <path clip-path=\"url(#p9cfa88eecc)\" d=\"M 685.667592 334.177895 \nL 687.362267 334.177895 \nL 687.362267 334.15635 \nL 685.667592 334.15635 \nz\n\" style=\"fill:#1f77b4;\"/>\n   </g>\n   <g id=\"patch_359\">\n    <path clip-path=\"url(#p9cfa88eecc)\" d=\"M 687.362267 334.177895 \nL 689.056942 334.177895 \nL 689.056942 334.005533 \nL 687.362267 334.005533 \nz\n\" style=\"fill:#1f77b4;\"/>\n   </g>\n   <g id=\"patch_360\">\n    <path clip-path=\"url(#p9cfa88eecc)\" d=\"M 689.056942 334.177895 \nL 690.751617 334.177895 \nL 690.751617 334.15635 \nL 689.056942 334.15635 \nz\n\" style=\"fill:#1f77b4;\"/>\n   </g>\n   <g id=\"patch_361\">\n    <path clip-path=\"url(#p9cfa88eecc)\" d=\"M 690.751617 334.177895 \nL 692.446292 334.177895 \nL 692.446292 334.124032 \nL 690.751617 334.124032 \nz\n\" style=\"fill:#1f77b4;\"/>\n   </g>\n   <g id=\"patch_362\">\n    <path clip-path=\"url(#p9cfa88eecc)\" d=\"M 692.446292 334.177895 \nL 694.140967 334.177895 \nL 694.140967 333.800854 \nL 692.446292 333.800854 \nz\n\" style=\"fill:#1f77b4;\"/>\n   </g>\n   <g id=\"patch_363\">\n    <path clip-path=\"url(#p9cfa88eecc)\" d=\"M 694.140967 334.177895 \nL 695.835642 334.177895 \nL 695.835642 334.059397 \nL 694.140967 334.059397 \nz\n\" style=\"fill:#1f77b4;\"/>\n   </g>\n   <g id=\"patch_364\">\n    <path clip-path=\"url(#p9cfa88eecc)\" d=\"M 695.835642 334.177895 \nL 697.530317 334.177895 \nL 697.530317 334.15635 \nL 695.835642 334.15635 \nz\n\" style=\"fill:#1f77b4;\"/>\n   </g>\n   <g id=\"patch_365\">\n    <path clip-path=\"url(#p9cfa88eecc)\" d=\"M 697.530317 334.177895 \nL 699.224992 334.177895 \nL 699.224992 334.091714 \nL 697.530317 334.091714 \nz\n\" style=\"fill:#1f77b4;\"/>\n   </g>\n   <g id=\"patch_366\">\n    <path clip-path=\"url(#p9cfa88eecc)\" d=\"M 699.224992 334.177895 \nL 700.919667 334.177895 \nL 700.919667 334.134805 \nL 699.224992 334.134805 \nz\n\" style=\"fill:#1f77b4;\"/>\n   </g>\n   <g id=\"patch_367\">\n    <path clip-path=\"url(#p9cfa88eecc)\" d=\"M 700.919667 334.177895 \nL 702.614342 334.177895 \nL 702.614342 334.005533 \nL 700.919667 334.005533 \nz\n\" style=\"fill:#1f77b4;\"/>\n   </g>\n   <g id=\"patch_368\">\n    <path clip-path=\"url(#p9cfa88eecc)\" d=\"M 702.614342 334.177895 \nL 704.309018 334.177895 \nL 704.309018 334.15635 \nL 702.614342 334.15635 \nz\n\" style=\"fill:#1f77b4;\"/>\n   </g>\n   <g id=\"patch_369\">\n    <path clip-path=\"url(#p9cfa88eecc)\" d=\"M 704.309018 334.177895 \nL 706.003693 334.177895 \nL 706.003693 334.070169 \nL 704.309018 334.070169 \nz\n\" style=\"fill:#1f77b4;\"/>\n   </g>\n   <g id=\"patch_370\">\n    <path clip-path=\"url(#p9cfa88eecc)\" d=\"M 706.003693 334.177895 \nL 707.698368 334.177895 \nL 707.698368 334.091714 \nL 706.003693 334.091714 \nz\n\" style=\"fill:#1f77b4;\"/>\n   </g>\n   <g id=\"patch_371\">\n    <path clip-path=\"url(#p9cfa88eecc)\" d=\"M 707.698368 334.177895 \nL 709.393043 334.177895 \nL 709.393043 334.11326 \nL 707.698368 334.11326 \nz\n\" style=\"fill:#1f77b4;\"/>\n   </g>\n   <g id=\"patch_372\">\n    <path clip-path=\"url(#p9cfa88eecc)\" d=\"M 709.393043 334.177895 \nL 711.087718 334.177895 \nL 711.087718 334.167123 \nL 709.393043 334.167123 \nz\n\" style=\"fill:#1f77b4;\"/>\n   </g>\n   <g id=\"patch_373\">\n    <path clip-path=\"url(#p9cfa88eecc)\" d=\"M 711.087718 334.177895 \nL 712.782393 334.177895 \nL 712.782393 334.124032 \nL 711.087718 334.124032 \nz\n\" style=\"fill:#1f77b4;\"/>\n   </g>\n   <g id=\"patch_374\">\n    <path clip-path=\"url(#p9cfa88eecc)\" d=\"M 712.782393 334.177895 \nL 714.477068 334.177895 \nL 714.477068 334.134805 \nL 712.782393 334.134805 \nz\n\" style=\"fill:#1f77b4;\"/>\n   </g>\n   <g id=\"patch_375\">\n    <path clip-path=\"url(#p9cfa88eecc)\" d=\"M 714.477068 334.177895 \nL 716.171743 334.177895 \nL 716.171743 334.167123 \nL 714.477068 334.167123 \nz\n\" style=\"fill:#1f77b4;\"/>\n   </g>\n   <g id=\"patch_376\">\n    <path clip-path=\"url(#p9cfa88eecc)\" d=\"M 716.171743 334.177895 \nL 717.866418 334.177895 \nL 717.866418 334.091714 \nL 716.171743 334.091714 \nz\n\" style=\"fill:#1f77b4;\"/>\n   </g>\n   <g id=\"patch_377\">\n    <path clip-path=\"url(#p9cfa88eecc)\" d=\"M 717.866418 334.177895 \nL 719.561093 334.177895 \nL 719.561093 333.930125 \nL 717.866418 333.930125 \nz\n\" style=\"fill:#1f77b4;\"/>\n   </g>\n   <g id=\"patch_378\">\n    <path clip-path=\"url(#p9cfa88eecc)\" d=\"M 719.561093 334.177895 \nL 721.255768 334.177895 \nL 721.255768 334.167123 \nL 719.561093 334.167123 \nz\n\" style=\"fill:#1f77b4;\"/>\n   </g>\n   <g id=\"patch_379\">\n    <path clip-path=\"url(#p9cfa88eecc)\" d=\"M 721.255768 334.177895 \nL 722.950443 334.177895 \nL 722.950443 334.167123 \nL 721.255768 334.167123 \nz\n\" style=\"fill:#1f77b4;\"/>\n   </g>\n   <g id=\"patch_380\">\n    <path clip-path=\"url(#p9cfa88eecc)\" d=\"M 722.950443 334.177895 \nL 724.645118 334.177895 \nL 724.645118 334.091714 \nL 722.950443 334.091714 \nz\n\" style=\"fill:#1f77b4;\"/>\n   </g>\n   <g id=\"patch_381\">\n    <path clip-path=\"url(#p9cfa88eecc)\" d=\"M 724.645118 334.177895 \nL 726.339793 334.177895 \nL 726.339793 331.269287 \nL 724.645118 331.269287 \nz\n\" style=\"fill:#1f77b4;\"/>\n   </g>\n   <g id=\"patch_382\">\n    <path clip-path=\"url(#p9cfa88eecc)\" d=\"M 726.339793 334.177895 \nL 728.034468 334.177895 \nL 728.034468 334.167123 \nL 726.339793 334.167123 \nz\n\" style=\"fill:#1f77b4;\"/>\n   </g>\n   <g id=\"patch_383\">\n    <path clip-path=\"url(#p9cfa88eecc)\" d=\"M 728.034468 334.177895 \nL 729.729143 334.177895 \nL 729.729143 334.124032 \nL 728.034468 334.124032 \nz\n\" style=\"fill:#1f77b4;\"/>\n   </g>\n   <g id=\"patch_384\">\n    <path clip-path=\"url(#p9cfa88eecc)\" d=\"M 729.729143 334.177895 \nL 731.423818 334.177895 \nL 731.423818 332.680501 \nL 729.729143 332.680501 \nz\n\" style=\"fill:#1f77b4;\"/>\n   </g>\n   <g id=\"patch_385\">\n    <path clip-path=\"url(#p9cfa88eecc)\" d=\"M 731.423818 334.177895 \nL 733.118493 334.177895 \nL 733.118493 334.005533 \nL 731.423818 334.005533 \nz\n\" style=\"fill:#1f77b4;\"/>\n   </g>\n   <g id=\"patch_386\">\n    <path clip-path=\"url(#p9cfa88eecc)\" d=\"M 733.118493 334.177895 \nL 734.813168 334.177895 \nL 734.813168 23.549324 \nL 733.118493 23.549324 \nz\n\" style=\"fill:#1f77b4;\"/>\n   </g>\n   <g id=\"patch_387\">\n    <path clip-path=\"url(#p9cfa88eecc)\" d=\"M 734.813168 334.177895 \nL 736.507843 334.177895 \nL 736.507843 334.11326 \nL 734.813168 334.11326 \nz\n\" style=\"fill:#1f77b4;\"/>\n   </g>\n   <g id=\"patch_388\">\n    <path clip-path=\"url(#p9cfa88eecc)\" d=\"M 736.507843 334.177895 \nL 738.202518 334.177895 \nL 738.202518 334.15635 \nL 736.507843 334.15635 \nz\n\" style=\"fill:#1f77b4;\"/>\n   </g>\n   <g id=\"patch_389\">\n    <path clip-path=\"url(#p9cfa88eecc)\" d=\"M 738.202518 334.177895 \nL 739.897193 334.177895 \nL 739.897193 334.091714 \nL 738.202518 334.091714 \nz\n\" style=\"fill:#1f77b4;\"/>\n   </g>\n   <g id=\"patch_390\">\n    <path clip-path=\"url(#p9cfa88eecc)\" d=\"M 739.897193 334.177895 \nL 741.591868 334.177895 \nL 741.591868 334.059397 \nL 739.897193 334.059397 \nz\n\" style=\"fill:#1f77b4;\"/>\n   </g>\n   <g id=\"patch_391\">\n    <path clip-path=\"url(#p9cfa88eecc)\" d=\"M 741.591868 334.177895 \nL 743.286543 334.177895 \nL 743.286543 334.145578 \nL 741.591868 334.145578 \nz\n\" style=\"fill:#1f77b4;\"/>\n   </g>\n   <g id=\"patch_392\">\n    <path clip-path=\"url(#p9cfa88eecc)\" d=\"M 743.286543 334.177895 \nL 744.981218 334.177895 \nL 744.981218 333.768536 \nL 743.286543 333.768536 \nz\n\" style=\"fill:#1f77b4;\"/>\n   </g>\n   <g id=\"patch_393\">\n    <path clip-path=\"url(#p9cfa88eecc)\" d=\"M 744.981218 334.177895 \nL 746.675893 334.177895 \nL 746.675893 334.048624 \nL 744.981218 334.048624 \nz\n\" style=\"fill:#1f77b4;\"/>\n   </g>\n   <g id=\"patch_394\">\n    <path clip-path=\"url(#p9cfa88eecc)\" d=\"M 746.675893 334.177895 \nL 748.370568 334.177895 \nL 748.370568 334.070169 \nL 746.675893 334.070169 \nz\n\" style=\"fill:#1f77b4;\"/>\n   </g>\n   <g id=\"patch_395\">\n    <path clip-path=\"url(#p9cfa88eecc)\" d=\"M 748.370568 334.177895 \nL 750.065243 334.177895 \nL 750.065243 333.983988 \nL 748.370568 333.983988 \nz\n\" style=\"fill:#1f77b4;\"/>\n   </g>\n   <g id=\"patch_396\">\n    <path clip-path=\"url(#p9cfa88eecc)\" d=\"M 750.065243 334.177895 \nL 751.759919 334.177895 \nL 751.759919 333.994761 \nL 750.065243 333.994761 \nz\n\" style=\"fill:#1f77b4;\"/>\n   </g>\n   <g id=\"patch_397\">\n    <path clip-path=\"url(#p9cfa88eecc)\" d=\"M 751.759919 334.177895 \nL 753.454594 334.177895 \nL 753.454594 334.016306 \nL 751.759919 334.016306 \nz\n\" style=\"fill:#1f77b4;\"/>\n   </g>\n   <g id=\"patch_398\">\n    <path clip-path=\"url(#p9cfa88eecc)\" d=\"M 753.454594 334.177895 \nL 755.149269 334.177895 \nL 755.149269 333.887035 \nL 753.454594 333.887035 \nz\n\" style=\"fill:#1f77b4;\"/>\n   </g>\n   <g id=\"patch_399\">\n    <path clip-path=\"url(#p9cfa88eecc)\" d=\"M 755.149269 334.177895 \nL 756.843944 334.177895 \nL 756.843944 334.124032 \nL 755.149269 334.124032 \nz\n\" style=\"fill:#1f77b4;\"/>\n   </g>\n   <g id=\"patch_400\">\n    <path clip-path=\"url(#p9cfa88eecc)\" d=\"M 756.843944 334.177895 \nL 758.538619 334.177895 \nL 758.538619 334.134805 \nL 756.843944 334.134805 \nz\n\" style=\"fill:#1f77b4;\"/>\n   </g>\n   <g id=\"patch_401\">\n    <path clip-path=\"url(#p9cfa88eecc)\" d=\"M 758.538619 334.177895 \nL 760.233294 334.177895 \nL 760.233294 334.048624 \nL 758.538619 334.048624 \nz\n\" style=\"fill:#1f77b4;\"/>\n   </g>\n   <g id=\"patch_402\">\n    <path clip-path=\"url(#p9cfa88eecc)\" d=\"M 760.233294 334.177895 \nL 761.927969 334.177895 \nL 761.927969 333.800854 \nL 760.233294 333.800854 \nz\n\" style=\"fill:#1f77b4;\"/>\n   </g>\n   <g id=\"patch_403\">\n    <path clip-path=\"url(#p9cfa88eecc)\" d=\"M 761.927969 334.177895 \nL 763.622644 334.177895 \nL 763.622644 334.091714 \nL 761.927969 334.091714 \nz\n\" style=\"fill:#1f77b4;\"/>\n   </g>\n   <g id=\"patch_404\">\n    <path clip-path=\"url(#p9cfa88eecc)\" d=\"M 763.622644 334.177895 \nL 765.317319 334.177895 \nL 765.317319 334.102487 \nL 763.622644 334.102487 \nz\n\" style=\"fill:#1f77b4;\"/>\n   </g>\n   <g id=\"patch_405\">\n    <path clip-path=\"url(#p9cfa88eecc)\" d=\"M 765.317319 334.177895 \nL 767.011994 334.177895 \nL 767.011994 333.746991 \nL 765.317319 333.746991 \nz\n\" style=\"fill:#1f77b4;\"/>\n   </g>\n   <g id=\"patch_406\">\n    <path clip-path=\"url(#p9cfa88eecc)\" d=\"M 767.011994 334.177895 \nL 768.706669 334.177895 \nL 768.706669 334.145578 \nL 767.011994 334.145578 \nz\n\" style=\"fill:#1f77b4;\"/>\n   </g>\n   <g id=\"patch_407\">\n    <path clip-path=\"url(#p9cfa88eecc)\" d=\"M 768.706669 334.177895 \nL 770.401344 334.177895 \nL 770.401344 333.553083 \nL 768.706669 333.553083 \nz\n\" style=\"fill:#1f77b4;\"/>\n   </g>\n   <g id=\"patch_408\">\n    <path clip-path=\"url(#p9cfa88eecc)\" d=\"M 770.401344 334.177895 \nL 772.096019 334.177895 \nL 772.096019 333.983988 \nL 770.401344 333.983988 \nz\n\" style=\"fill:#1f77b4;\"/>\n   </g>\n   <g id=\"patch_409\">\n    <path clip-path=\"url(#p9cfa88eecc)\" d=\"M 772.096019 334.177895 \nL 773.790694 334.177895 \nL 773.790694 334.059397 \nL 772.096019 334.059397 \nz\n\" style=\"fill:#1f77b4;\"/>\n   </g>\n   <g id=\"patch_410\">\n    <path clip-path=\"url(#p9cfa88eecc)\" d=\"M 773.790694 334.177895 \nL 775.485369 334.177895 \nL 775.485369 334.15635 \nL 773.790694 334.15635 \nz\n\" style=\"fill:#1f77b4;\"/>\n   </g>\n   <g id=\"patch_411\">\n    <path clip-path=\"url(#p9cfa88eecc)\" d=\"M 775.485369 334.177895 \nL 777.180044 334.177895 \nL 777.180044 333.596174 \nL 775.485369 333.596174 \nz\n\" style=\"fill:#1f77b4;\"/>\n   </g>\n   <g id=\"patch_412\">\n    <path clip-path=\"url(#p9cfa88eecc)\" d=\"M 777.180044 334.177895 \nL 778.874719 334.177895 \nL 778.874719 334.037851 \nL 777.180044 334.037851 \nz\n\" style=\"fill:#1f77b4;\"/>\n   </g>\n   <g id=\"patch_413\">\n    <path clip-path=\"url(#p9cfa88eecc)\" d=\"M 778.874719 334.177895 \nL 780.569394 334.177895 \nL 780.569394 334.15635 \nL 778.874719 334.15635 \nz\n\" style=\"fill:#1f77b4;\"/>\n   </g>\n   <g id=\"patch_414\">\n    <path clip-path=\"url(#p9cfa88eecc)\" d=\"M 780.569394 334.177895 \nL 782.264069 334.177895 \nL 782.264069 334.15635 \nL 780.569394 334.15635 \nz\n\" style=\"fill:#1f77b4;\"/>\n   </g>\n   <g id=\"patch_415\">\n    <path clip-path=\"url(#p9cfa88eecc)\" d=\"M 782.264069 334.177895 \nL 783.958744 334.177895 \nL 783.958744 334.027079 \nL 782.264069 334.027079 \nz\n\" style=\"fill:#1f77b4;\"/>\n   </g>\n   <g id=\"patch_416\">\n    <path clip-path=\"url(#p9cfa88eecc)\" d=\"M 783.958744 334.177895 \nL 785.653419 334.177895 \nL 785.653419 334.080942 \nL 783.958744 334.080942 \nz\n\" style=\"fill:#1f77b4;\"/>\n   </g>\n   <g id=\"patch_417\">\n    <path clip-path=\"url(#p9cfa88eecc)\" d=\"M 785.653419 334.177895 \nL 787.348094 334.177895 \nL 787.348094 334.102487 \nL 785.653419 334.102487 \nz\n\" style=\"fill:#1f77b4;\"/>\n   </g>\n   <g id=\"patch_418\">\n    <path clip-path=\"url(#p9cfa88eecc)\" d=\"M 787.348094 334.177895 \nL 789.042769 334.177895 \nL 789.042769 334.059397 \nL 787.348094 334.059397 \nz\n\" style=\"fill:#1f77b4;\"/>\n   </g>\n   <g id=\"patch_419\">\n    <path clip-path=\"url(#p9cfa88eecc)\" d=\"M 789.042769 334.177895 \nL 790.737444 334.177895 \nL 790.737444 334.124032 \nL 789.042769 334.124032 \nz\n\" style=\"fill:#1f77b4;\"/>\n   </g>\n   <g id=\"patch_420\">\n    <path clip-path=\"url(#p9cfa88eecc)\" d=\"M 790.737444 334.177895 \nL 792.432119 334.177895 \nL 792.432119 333.897807 \nL 790.737444 333.897807 \nz\n\" style=\"fill:#1f77b4;\"/>\n   </g>\n   <g id=\"patch_421\">\n    <path clip-path=\"url(#p9cfa88eecc)\" d=\"M 792.432119 334.177895 \nL 794.126794 334.177895 \nL 794.126794 334.11326 \nL 792.432119 334.11326 \nz\n\" style=\"fill:#1f77b4;\"/>\n   </g>\n   <g id=\"patch_422\">\n    <path clip-path=\"url(#p9cfa88eecc)\" d=\"M 794.126794 334.177895 \nL 795.821469 334.177895 \nL 795.821469 334.167123 \nL 794.126794 334.167123 \nz\n\" style=\"fill:#1f77b4;\"/>\n   </g>\n   <g id=\"patch_423\">\n    <path clip-path=\"url(#p9cfa88eecc)\" d=\"M 795.821469 334.177895 \nL 797.516144 334.177895 \nL 797.516144 334.15635 \nL 795.821469 334.15635 \nz\n\" style=\"fill:#1f77b4;\"/>\n   </g>\n   <g id=\"patch_424\">\n    <path clip-path=\"url(#p9cfa88eecc)\" d=\"M 797.516144 334.177895 \nL 799.210819 334.177895 \nL 799.210819 334.037851 \nL 797.516144 334.037851 \nz\n\" style=\"fill:#1f77b4;\"/>\n   </g>\n   <g id=\"patch_425\">\n    <path clip-path=\"url(#p9cfa88eecc)\" d=\"M 799.210819 334.177895 \nL 800.905495 334.177895 \nL 800.905495 333.90858 \nL 799.210819 333.90858 \nz\n\" style=\"fill:#1f77b4;\"/>\n   </g>\n   <g id=\"patch_426\">\n    <path clip-path=\"url(#p9cfa88eecc)\" d=\"M 800.905495 334.177895 \nL 802.60017 334.177895 \nL 802.60017 334.124032 \nL 800.905495 334.124032 \nz\n\" style=\"fill:#1f77b4;\"/>\n   </g>\n   <g id=\"patch_427\">\n    <path clip-path=\"url(#p9cfa88eecc)\" d=\"M 802.60017 334.177895 \nL 804.294845 334.177895 \nL 804.294845 334.167123 \nL 802.60017 334.167123 \nz\n\" style=\"fill:#1f77b4;\"/>\n   </g>\n   <g id=\"patch_428\">\n    <path clip-path=\"url(#p9cfa88eecc)\" d=\"M 804.294845 334.177895 \nL 805.98952 334.177895 \nL 805.98952 334.124032 \nL 804.294845 334.124032 \nz\n\" style=\"fill:#1f77b4;\"/>\n   </g>\n   <g id=\"patch_429\">\n    <path clip-path=\"url(#p9cfa88eecc)\" d=\"M 805.98952 334.177895 \nL 807.684195 334.177895 \nL 807.684195 334.005533 \nL 805.98952 334.005533 \nz\n\" style=\"fill:#1f77b4;\"/>\n   </g>\n   <g id=\"patch_430\">\n    <path clip-path=\"url(#p9cfa88eecc)\" d=\"M 807.684195 334.177895 \nL 809.37887 334.177895 \nL 809.37887 334.167123 \nL 807.684195 334.167123 \nz\n\" style=\"fill:#1f77b4;\"/>\n   </g>\n   <g id=\"patch_431\">\n    <path clip-path=\"url(#p9cfa88eecc)\" d=\"M 809.37887 334.177895 \nL 811.073545 334.177895 \nL 811.073545 334.15635 \nL 809.37887 334.15635 \nz\n\" style=\"fill:#1f77b4;\"/>\n   </g>\n   <g id=\"patch_432\">\n    <path clip-path=\"url(#p9cfa88eecc)\" d=\"M 811.073545 334.177895 \nL 812.76822 334.177895 \nL 812.76822 334.167123 \nL 811.073545 334.167123 \nz\n\" style=\"fill:#1f77b4;\"/>\n   </g>\n   <g id=\"patch_433\">\n    <path clip-path=\"url(#p9cfa88eecc)\" d=\"M 812.76822 334.177895 \nL 814.462895 334.177895 \nL 814.462895 334.048624 \nL 812.76822 334.048624 \nz\n\" style=\"fill:#1f77b4;\"/>\n   </g>\n   <g id=\"patch_434\">\n    <path clip-path=\"url(#p9cfa88eecc)\" d=\"M 814.462895 334.177895 \nL 816.15757 334.177895 \nL 816.15757 334.102487 \nL 814.462895 334.102487 \nz\n\" style=\"fill:#1f77b4;\"/>\n   </g>\n   <g id=\"patch_435\">\n    <path clip-path=\"url(#p9cfa88eecc)\" d=\"M 816.15757 334.177895 \nL 817.852245 334.177895 \nL 817.852245 334.091714 \nL 816.15757 334.091714 \nz\n\" style=\"fill:#1f77b4;\"/>\n   </g>\n   <g id=\"patch_436\">\n    <path clip-path=\"url(#p9cfa88eecc)\" d=\"M 817.852245 334.177895 \nL 819.54692 334.177895 \nL 819.54692 333.919353 \nL 817.852245 333.919353 \nz\n\" style=\"fill:#1f77b4;\"/>\n   </g>\n   <g id=\"patch_437\">\n    <path clip-path=\"url(#p9cfa88eecc)\" d=\"M 819.54692 334.177895 \nL 821.241595 334.177895 \nL 821.241595 334.15635 \nL 819.54692 334.15635 \nz\n\" style=\"fill:#1f77b4;\"/>\n   </g>\n   <g id=\"patch_438\">\n    <path clip-path=\"url(#p9cfa88eecc)\" d=\"M 821.241595 334.177895 \nL 822.93627 334.177895 \nL 822.93627 333.7039 \nL 821.241595 333.7039 \nz\n\" style=\"fill:#1f77b4;\"/>\n   </g>\n   <g id=\"patch_439\">\n    <path clip-path=\"url(#p9cfa88eecc)\" d=\"M 822.93627 334.177895 \nL 824.630945 334.177895 \nL 824.630945 334.167123 \nL 822.93627 334.167123 \nz\n\" style=\"fill:#1f77b4;\"/>\n   </g>\n   <g id=\"patch_440\">\n    <path clip-path=\"url(#p9cfa88eecc)\" d=\"M 824.630945 334.177895 \nL 826.32562 334.177895 \nL 826.32562 334.037851 \nL 824.630945 334.037851 \nz\n\" style=\"fill:#1f77b4;\"/>\n   </g>\n   <g id=\"patch_441\">\n    <path clip-path=\"url(#p9cfa88eecc)\" d=\"M 826.32562 334.177895 \nL 828.020295 334.177895 \nL 828.020295 334.15635 \nL 826.32562 334.15635 \nz\n\" style=\"fill:#1f77b4;\"/>\n   </g>\n   <g id=\"patch_442\">\n    <path clip-path=\"url(#p9cfa88eecc)\" d=\"M 828.020295 334.177895 \nL 829.71497 334.177895 \nL 829.71497 334.15635 \nL 828.020295 334.15635 \nz\n\" style=\"fill:#1f77b4;\"/>\n   </g>\n   <g id=\"patch_443\">\n    <path clip-path=\"url(#p9cfa88eecc)\" d=\"M 829.71497 334.177895 \nL 831.409645 334.177895 \nL 831.409645 334.167123 \nL 829.71497 334.167123 \nz\n\" style=\"fill:#1f77b4;\"/>\n   </g>\n   <g id=\"patch_444\">\n    <path clip-path=\"url(#p9cfa88eecc)\" d=\"M 831.409645 334.177895 \nL 833.10432 334.177895 \nL 833.10432 334.167123 \nL 831.409645 334.167123 \nz\n\" style=\"fill:#1f77b4;\"/>\n   </g>\n   <g id=\"patch_445\">\n    <path clip-path=\"url(#p9cfa88eecc)\" d=\"M 833.10432 334.177895 \nL 834.798995 334.177895 \nL 834.798995 334.145578 \nL 833.10432 334.145578 \nz\n\" style=\"fill:#1f77b4;\"/>\n   </g>\n   <g id=\"patch_446\">\n    <path clip-path=\"url(#p9cfa88eecc)\" d=\"M 834.798995 334.177895 \nL 836.49367 334.177895 \nL 836.49367 334.124032 \nL 834.798995 334.124032 \nz\n\" style=\"fill:#1f77b4;\"/>\n   </g>\n   <g id=\"patch_447\">\n    <path clip-path=\"url(#p9cfa88eecc)\" d=\"M 836.49367 334.177895 \nL 838.188345 334.177895 \nL 838.188345 334.102487 \nL 836.49367 334.102487 \nz\n\" style=\"fill:#1f77b4;\"/>\n   </g>\n   <g id=\"patch_448\">\n    <path clip-path=\"url(#p9cfa88eecc)\" d=\"M 838.188345 334.177895 \nL 839.88302 334.177895 \nL 839.88302 333.887035 \nL 838.188345 333.887035 \nz\n\" style=\"fill:#1f77b4;\"/>\n   </g>\n   <g id=\"patch_449\">\n    <path clip-path=\"url(#p9cfa88eecc)\" d=\"M 839.88302 334.177895 \nL 841.577695 334.177895 \nL 841.577695 334.167123 \nL 839.88302 334.167123 \nz\n\" style=\"fill:#1f77b4;\"/>\n   </g>\n   <g id=\"patch_450\">\n    <path clip-path=\"url(#p9cfa88eecc)\" d=\"M 841.577695 334.177895 \nL 843.27237 334.177895 \nL 843.27237 334.059397 \nL 841.577695 334.059397 \nz\n\" style=\"fill:#1f77b4;\"/>\n   </g>\n   <g id=\"patch_451\">\n    <path clip-path=\"url(#p9cfa88eecc)\" d=\"M 843.27237 334.177895 \nL 844.967045 334.177895 \nL 844.967045 333.488448 \nL 843.27237 333.488448 \nz\n\" style=\"fill:#1f77b4;\"/>\n   </g>\n   <g id=\"matplotlib.axis_1\">\n    <g id=\"xtick_1\">\n     <g id=\"line2d_1\">\n      <path clip-path=\"url(#p9cfa88eecc)\" d=\"M 84.057955 334.177895 \nL 84.057955 8.017895 \n\" style=\"fill:none;stroke:#b0b0b0;stroke-linecap:square;stroke-width:0.8;\"/>\n     </g>\n     <g id=\"line2d_2\">\n      <defs>\n       <path d=\"M 0 0 \nL 0 3.5 \n\" id=\"m5feef4c386\" style=\"stroke:#000000;stroke-width:0.8;\"/>\n      </defs>\n      <g>\n       <use style=\"stroke:#000000;stroke-width:0.8;\" x=\"84.057955\" xlink:href=\"#m5feef4c386\" y=\"334.177895\"/>\n      </g>\n     </g>\n     <g id=\"text_1\">\n      <!-- 0 -->\n      <defs>\n       <path d=\"M 31.78125 66.40625 \nQ 24.171875 66.40625 20.328125 58.90625 \nQ 16.5 51.421875 16.5 36.375 \nQ 16.5 21.390625 20.328125 13.890625 \nQ 24.171875 6.390625 31.78125 6.390625 \nQ 39.453125 6.390625 43.28125 13.890625 \nQ 47.125 21.390625 47.125 36.375 \nQ 47.125 51.421875 43.28125 58.90625 \nQ 39.453125 66.40625 31.78125 66.40625 \nz\nM 31.78125 74.21875 \nQ 44.046875 74.21875 50.515625 64.515625 \nQ 56.984375 54.828125 56.984375 36.375 \nQ 56.984375 17.96875 50.515625 8.265625 \nQ 44.046875 -1.421875 31.78125 -1.421875 \nQ 19.53125 -1.421875 13.0625 8.265625 \nQ 6.59375 17.96875 6.59375 36.375 \nQ 6.59375 54.828125 13.0625 64.515625 \nQ 19.53125 74.21875 31.78125 74.21875 \nz\n\" id=\"DejaVuSans-48\"/>\n      </defs>\n      <g transform=\"translate(80.876705 348.776333)scale(0.1 -0.1)\">\n       <use xlink:href=\"#DejaVuSans-48\"/>\n      </g>\n     </g>\n    </g>\n    <g id=\"xtick_2\">\n     <g id=\"line2d_3\">\n      <path clip-path=\"url(#p9cfa88eecc)\" d=\"M 253.903734 334.177895 \nL 253.903734 8.017895 \n\" style=\"fill:none;stroke:#b0b0b0;stroke-linecap:square;stroke-width:0.8;\"/>\n     </g>\n     <g id=\"line2d_4\">\n      <g>\n       <use style=\"stroke:#000000;stroke-width:0.8;\" x=\"253.903734\" xlink:href=\"#m5feef4c386\" y=\"334.177895\"/>\n      </g>\n     </g>\n     <g id=\"text_2\">\n      <!-- 100 -->\n      <defs>\n       <path d=\"M 12.40625 8.296875 \nL 28.515625 8.296875 \nL 28.515625 63.921875 \nL 10.984375 60.40625 \nL 10.984375 69.390625 \nL 28.421875 72.90625 \nL 38.28125 72.90625 \nL 38.28125 8.296875 \nL 54.390625 8.296875 \nL 54.390625 0 \nL 12.40625 0 \nz\n\" id=\"DejaVuSans-49\"/>\n      </defs>\n      <g transform=\"translate(244.359984 348.776333)scale(0.1 -0.1)\">\n       <use xlink:href=\"#DejaVuSans-49\"/>\n       <use x=\"63.623047\" xlink:href=\"#DejaVuSans-48\"/>\n       <use x=\"127.246094\" xlink:href=\"#DejaVuSans-48\"/>\n      </g>\n     </g>\n    </g>\n    <g id=\"xtick_3\">\n     <g id=\"line2d_5\">\n      <path clip-path=\"url(#p9cfa88eecc)\" d=\"M 423.749513 334.177895 \nL 423.749513 8.017895 \n\" style=\"fill:none;stroke:#b0b0b0;stroke-linecap:square;stroke-width:0.8;\"/>\n     </g>\n     <g id=\"line2d_6\">\n      <g>\n       <use style=\"stroke:#000000;stroke-width:0.8;\" x=\"423.749513\" xlink:href=\"#m5feef4c386\" y=\"334.177895\"/>\n      </g>\n     </g>\n     <g id=\"text_3\">\n      <!-- 200 -->\n      <defs>\n       <path d=\"M 19.1875 8.296875 \nL 53.609375 8.296875 \nL 53.609375 0 \nL 7.328125 0 \nL 7.328125 8.296875 \nQ 12.9375 14.109375 22.625 23.890625 \nQ 32.328125 33.6875 34.8125 36.53125 \nQ 39.546875 41.84375 41.421875 45.53125 \nQ 43.3125 49.21875 43.3125 52.78125 \nQ 43.3125 58.59375 39.234375 62.25 \nQ 35.15625 65.921875 28.609375 65.921875 \nQ 23.96875 65.921875 18.8125 64.3125 \nQ 13.671875 62.703125 7.8125 59.421875 \nL 7.8125 69.390625 \nQ 13.765625 71.78125 18.9375 73 \nQ 24.125 74.21875 28.421875 74.21875 \nQ 39.75 74.21875 46.484375 68.546875 \nQ 53.21875 62.890625 53.21875 53.421875 \nQ 53.21875 48.921875 51.53125 44.890625 \nQ 49.859375 40.875 45.40625 35.40625 \nQ 44.1875 33.984375 37.640625 27.21875 \nQ 31.109375 20.453125 19.1875 8.296875 \nz\n\" id=\"DejaVuSans-50\"/>\n      </defs>\n      <g transform=\"translate(414.205763 348.776333)scale(0.1 -0.1)\">\n       <use xlink:href=\"#DejaVuSans-50\"/>\n       <use x=\"63.623047\" xlink:href=\"#DejaVuSans-48\"/>\n       <use x=\"127.246094\" xlink:href=\"#DejaVuSans-48\"/>\n      </g>\n     </g>\n    </g>\n    <g id=\"xtick_4\">\n     <g id=\"line2d_7\">\n      <path clip-path=\"url(#p9cfa88eecc)\" d=\"M 593.595292 334.177895 \nL 593.595292 8.017895 \n\" style=\"fill:none;stroke:#b0b0b0;stroke-linecap:square;stroke-width:0.8;\"/>\n     </g>\n     <g id=\"line2d_8\">\n      <g>\n       <use style=\"stroke:#000000;stroke-width:0.8;\" x=\"593.595292\" xlink:href=\"#m5feef4c386\" y=\"334.177895\"/>\n      </g>\n     </g>\n     <g id=\"text_4\">\n      <!-- 300 -->\n      <defs>\n       <path d=\"M 40.578125 39.3125 \nQ 47.65625 37.796875 51.625 33 \nQ 55.609375 28.21875 55.609375 21.1875 \nQ 55.609375 10.40625 48.1875 4.484375 \nQ 40.765625 -1.421875 27.09375 -1.421875 \nQ 22.515625 -1.421875 17.65625 -0.515625 \nQ 12.796875 0.390625 7.625 2.203125 \nL 7.625 11.71875 \nQ 11.71875 9.328125 16.59375 8.109375 \nQ 21.484375 6.890625 26.8125 6.890625 \nQ 36.078125 6.890625 40.9375 10.546875 \nQ 45.796875 14.203125 45.796875 21.1875 \nQ 45.796875 27.640625 41.28125 31.265625 \nQ 36.765625 34.90625 28.71875 34.90625 \nL 20.21875 34.90625 \nL 20.21875 43.015625 \nL 29.109375 43.015625 \nQ 36.375 43.015625 40.234375 45.921875 \nQ 44.09375 48.828125 44.09375 54.296875 \nQ 44.09375 59.90625 40.109375 62.90625 \nQ 36.140625 65.921875 28.71875 65.921875 \nQ 24.65625 65.921875 20.015625 65.03125 \nQ 15.375 64.15625 9.8125 62.3125 \nL 9.8125 71.09375 \nQ 15.4375 72.65625 20.34375 73.4375 \nQ 25.25 74.21875 29.59375 74.21875 \nQ 40.828125 74.21875 47.359375 69.109375 \nQ 53.90625 64.015625 53.90625 55.328125 \nQ 53.90625 49.265625 50.4375 45.09375 \nQ 46.96875 40.921875 40.578125 39.3125 \nz\n\" id=\"DejaVuSans-51\"/>\n      </defs>\n      <g transform=\"translate(584.051542 348.776333)scale(0.1 -0.1)\">\n       <use xlink:href=\"#DejaVuSans-51\"/>\n       <use x=\"63.623047\" xlink:href=\"#DejaVuSans-48\"/>\n       <use x=\"127.246094\" xlink:href=\"#DejaVuSans-48\"/>\n      </g>\n     </g>\n    </g>\n    <g id=\"xtick_5\">\n     <g id=\"line2d_9\">\n      <path clip-path=\"url(#p9cfa88eecc)\" d=\"M 763.441071 334.177895 \nL 763.441071 8.017895 \n\" style=\"fill:none;stroke:#b0b0b0;stroke-linecap:square;stroke-width:0.8;\"/>\n     </g>\n     <g id=\"line2d_10\">\n      <g>\n       <use style=\"stroke:#000000;stroke-width:0.8;\" x=\"763.441071\" xlink:href=\"#m5feef4c386\" y=\"334.177895\"/>\n      </g>\n     </g>\n     <g id=\"text_5\">\n      <!-- 400 -->\n      <defs>\n       <path d=\"M 37.796875 64.3125 \nL 12.890625 25.390625 \nL 37.796875 25.390625 \nz\nM 35.203125 72.90625 \nL 47.609375 72.90625 \nL 47.609375 25.390625 \nL 58.015625 25.390625 \nL 58.015625 17.1875 \nL 47.609375 17.1875 \nL 47.609375 0 \nL 37.796875 0 \nL 37.796875 17.1875 \nL 4.890625 17.1875 \nL 4.890625 26.703125 \nz\n\" id=\"DejaVuSans-52\"/>\n      </defs>\n      <g transform=\"translate(753.897321 348.776333)scale(0.1 -0.1)\">\n       <use xlink:href=\"#DejaVuSans-52\"/>\n       <use x=\"63.623047\" xlink:href=\"#DejaVuSans-48\"/>\n       <use x=\"127.246094\" xlink:href=\"#DejaVuSans-48\"/>\n      </g>\n     </g>\n    </g>\n   </g>\n   <g id=\"matplotlib.axis_2\">\n    <g id=\"ytick_1\">\n     <g id=\"line2d_11\">\n      <path clip-path=\"url(#p9cfa88eecc)\" d=\"M 46.0125 334.177895 \nL 883.0125 334.177895 \n\" style=\"fill:none;stroke:#b0b0b0;stroke-linecap:square;stroke-width:0.8;\"/>\n     </g>\n     <g id=\"line2d_12\">\n      <defs>\n       <path d=\"M 0 0 \nL -3.5 0 \n\" id=\"m822ac66d75\" style=\"stroke:#000000;stroke-width:0.8;\"/>\n      </defs>\n      <g>\n       <use style=\"stroke:#000000;stroke-width:0.8;\" x=\"46.0125\" xlink:href=\"#m822ac66d75\" y=\"334.177895\"/>\n      </g>\n     </g>\n     <g id=\"text_6\">\n      <!-- 0 -->\n      <g transform=\"translate(32.65 337.977114)scale(0.1 -0.1)\">\n       <use xlink:href=\"#DejaVuSans-48\"/>\n      </g>\n     </g>\n    </g>\n    <g id=\"ytick_2\">\n     <g id=\"line2d_13\">\n      <path clip-path=\"url(#p9cfa88eecc)\" d=\"M 46.0125 280.314783 \nL 883.0125 280.314783 \n\" style=\"fill:none;stroke:#b0b0b0;stroke-linecap:square;stroke-width:0.8;\"/>\n     </g>\n     <g id=\"line2d_14\">\n      <g>\n       <use style=\"stroke:#000000;stroke-width:0.8;\" x=\"46.0125\" xlink:href=\"#m822ac66d75\" y=\"280.314783\"/>\n      </g>\n     </g>\n     <g id=\"text_7\">\n      <!-- 5000 -->\n      <defs>\n       <path d=\"M 10.796875 72.90625 \nL 49.515625 72.90625 \nL 49.515625 64.59375 \nL 19.828125 64.59375 \nL 19.828125 46.734375 \nQ 21.96875 47.46875 24.109375 47.828125 \nQ 26.265625 48.1875 28.421875 48.1875 \nQ 40.625 48.1875 47.75 41.5 \nQ 54.890625 34.8125 54.890625 23.390625 \nQ 54.890625 11.625 47.5625 5.09375 \nQ 40.234375 -1.421875 26.90625 -1.421875 \nQ 22.3125 -1.421875 17.546875 -0.640625 \nQ 12.796875 0.140625 7.71875 1.703125 \nL 7.71875 11.625 \nQ 12.109375 9.234375 16.796875 8.0625 \nQ 21.484375 6.890625 26.703125 6.890625 \nQ 35.15625 6.890625 40.078125 11.328125 \nQ 45.015625 15.765625 45.015625 23.390625 \nQ 45.015625 31 40.078125 35.4375 \nQ 35.15625 39.890625 26.703125 39.890625 \nQ 22.75 39.890625 18.8125 39.015625 \nQ 14.890625 38.140625 10.796875 36.28125 \nz\n\" id=\"DejaVuSans-53\"/>\n      </defs>\n      <g transform=\"translate(13.5625 284.114001)scale(0.1 -0.1)\">\n       <use xlink:href=\"#DejaVuSans-53\"/>\n       <use x=\"63.623047\" xlink:href=\"#DejaVuSans-48\"/>\n       <use x=\"127.246094\" xlink:href=\"#DejaVuSans-48\"/>\n       <use x=\"190.869141\" xlink:href=\"#DejaVuSans-48\"/>\n      </g>\n     </g>\n    </g>\n    <g id=\"ytick_3\">\n     <g id=\"line2d_15\">\n      <path clip-path=\"url(#p9cfa88eecc)\" d=\"M 46.0125 226.45167 \nL 883.0125 226.45167 \n\" style=\"fill:none;stroke:#b0b0b0;stroke-linecap:square;stroke-width:0.8;\"/>\n     </g>\n     <g id=\"line2d_16\">\n      <g>\n       <use style=\"stroke:#000000;stroke-width:0.8;\" x=\"46.0125\" xlink:href=\"#m822ac66d75\" y=\"226.45167\"/>\n      </g>\n     </g>\n     <g id=\"text_8\">\n      <!-- 10000 -->\n      <g transform=\"translate(7.2 230.250889)scale(0.1 -0.1)\">\n       <use xlink:href=\"#DejaVuSans-49\"/>\n       <use x=\"63.623047\" xlink:href=\"#DejaVuSans-48\"/>\n       <use x=\"127.246094\" xlink:href=\"#DejaVuSans-48\"/>\n       <use x=\"190.869141\" xlink:href=\"#DejaVuSans-48\"/>\n       <use x=\"254.492188\" xlink:href=\"#DejaVuSans-48\"/>\n      </g>\n     </g>\n    </g>\n    <g id=\"ytick_4\">\n     <g id=\"line2d_17\">\n      <path clip-path=\"url(#p9cfa88eecc)\" d=\"M 46.0125 172.588557 \nL 883.0125 172.588557 \n\" style=\"fill:none;stroke:#b0b0b0;stroke-linecap:square;stroke-width:0.8;\"/>\n     </g>\n     <g id=\"line2d_18\">\n      <g>\n       <use style=\"stroke:#000000;stroke-width:0.8;\" x=\"46.0125\" xlink:href=\"#m822ac66d75\" y=\"172.588557\"/>\n      </g>\n     </g>\n     <g id=\"text_9\">\n      <!-- 15000 -->\n      <g transform=\"translate(7.2 176.387776)scale(0.1 -0.1)\">\n       <use xlink:href=\"#DejaVuSans-49\"/>\n       <use x=\"63.623047\" xlink:href=\"#DejaVuSans-53\"/>\n       <use x=\"127.246094\" xlink:href=\"#DejaVuSans-48\"/>\n       <use x=\"190.869141\" xlink:href=\"#DejaVuSans-48\"/>\n       <use x=\"254.492188\" xlink:href=\"#DejaVuSans-48\"/>\n      </g>\n     </g>\n    </g>\n    <g id=\"ytick_5\">\n     <g id=\"line2d_19\">\n      <path clip-path=\"url(#p9cfa88eecc)\" d=\"M 46.0125 118.725444 \nL 883.0125 118.725444 \n\" style=\"fill:none;stroke:#b0b0b0;stroke-linecap:square;stroke-width:0.8;\"/>\n     </g>\n     <g id=\"line2d_20\">\n      <g>\n       <use style=\"stroke:#000000;stroke-width:0.8;\" x=\"46.0125\" xlink:href=\"#m822ac66d75\" y=\"118.725444\"/>\n      </g>\n     </g>\n     <g id=\"text_10\">\n      <!-- 20000 -->\n      <g transform=\"translate(7.2 122.524663)scale(0.1 -0.1)\">\n       <use xlink:href=\"#DejaVuSans-50\"/>\n       <use x=\"63.623047\" xlink:href=\"#DejaVuSans-48\"/>\n       <use x=\"127.246094\" xlink:href=\"#DejaVuSans-48\"/>\n       <use x=\"190.869141\" xlink:href=\"#DejaVuSans-48\"/>\n       <use x=\"254.492188\" xlink:href=\"#DejaVuSans-48\"/>\n      </g>\n     </g>\n    </g>\n    <g id=\"ytick_6\">\n     <g id=\"line2d_21\">\n      <path clip-path=\"url(#p9cfa88eecc)\" d=\"M 46.0125 64.862332 \nL 883.0125 64.862332 \n\" style=\"fill:none;stroke:#b0b0b0;stroke-linecap:square;stroke-width:0.8;\"/>\n     </g>\n     <g id=\"line2d_22\">\n      <g>\n       <use style=\"stroke:#000000;stroke-width:0.8;\" x=\"46.0125\" xlink:href=\"#m822ac66d75\" y=\"64.862332\"/>\n      </g>\n     </g>\n     <g id=\"text_11\">\n      <!-- 25000 -->\n      <g transform=\"translate(7.2 68.66155)scale(0.1 -0.1)\">\n       <use xlink:href=\"#DejaVuSans-50\"/>\n       <use x=\"63.623047\" xlink:href=\"#DejaVuSans-53\"/>\n       <use x=\"127.246094\" xlink:href=\"#DejaVuSans-48\"/>\n       <use x=\"190.869141\" xlink:href=\"#DejaVuSans-48\"/>\n       <use x=\"254.492188\" xlink:href=\"#DejaVuSans-48\"/>\n      </g>\n     </g>\n    </g>\n    <g id=\"ytick_7\">\n     <g id=\"line2d_23\">\n      <path clip-path=\"url(#p9cfa88eecc)\" d=\"M 46.0125 10.999219 \nL 883.0125 10.999219 \n\" style=\"fill:none;stroke:#b0b0b0;stroke-linecap:square;stroke-width:0.8;\"/>\n     </g>\n     <g id=\"line2d_24\">\n      <g>\n       <use style=\"stroke:#000000;stroke-width:0.8;\" x=\"46.0125\" xlink:href=\"#m822ac66d75\" y=\"10.999219\"/>\n      </g>\n     </g>\n     <g id=\"text_12\">\n      <!-- 30000 -->\n      <g transform=\"translate(7.2 14.798438)scale(0.1 -0.1)\">\n       <use xlink:href=\"#DejaVuSans-51\"/>\n       <use x=\"63.623047\" xlink:href=\"#DejaVuSans-48\"/>\n       <use x=\"127.246094\" xlink:href=\"#DejaVuSans-48\"/>\n       <use x=\"190.869141\" xlink:href=\"#DejaVuSans-48\"/>\n       <use x=\"254.492188\" xlink:href=\"#DejaVuSans-48\"/>\n      </g>\n     </g>\n    </g>\n   </g>\n   <g id=\"patch_452\">\n    <path d=\"M 46.0125 334.177895 \nL 46.0125 8.017895 \n\" style=\"fill:none;stroke:#000000;stroke-linecap:square;stroke-linejoin:miter;stroke-width:0.8;\"/>\n   </g>\n   <g id=\"patch_453\">\n    <path d=\"M 883.0125 334.177895 \nL 883.0125 8.017895 \n\" style=\"fill:none;stroke:#000000;stroke-linecap:square;stroke-linejoin:miter;stroke-width:0.8;\"/>\n   </g>\n   <g id=\"patch_454\">\n    <path d=\"M 46.0125 334.177895 \nL 883.0125 334.177895 \n\" style=\"fill:none;stroke:#000000;stroke-linecap:square;stroke-linejoin:miter;stroke-width:0.8;\"/>\n   </g>\n   <g id=\"patch_455\">\n    <path d=\"M 46.0125 8.017895 \nL 883.0125 8.017895 \n\" style=\"fill:none;stroke:#000000;stroke-linecap:square;stroke-linejoin:miter;stroke-width:0.8;\"/>\n   </g>\n  </g>\n </g>\n <defs>\n  <clipPath id=\"p9cfa88eecc\">\n   <rect height=\"326.16\" width=\"837\" x=\"46.0125\" y=\"8.017895\"/>\n  </clipPath>\n </defs>\n</svg>\n",
      "image/png": "[encoded data removed]"
     },
     "metadata": {
      "needs_background": "light"
     }
    },
    {
     "output_type": "display_data",
     "data": {
      "text/plain": "<IPython.core.display.HTML object>",
      "text/html": "<p><br>computing <i>frequency</i> of scheme_name_class..."
     },
     "metadata": {}
    },
    {
     "output_type": "display_data",
     "data": {
      "text/plain": "<IPython.core.display.HTML object>",
      "text/html": "<pre>\tALL DONE!</pre>"
     },
     "metadata": {}
    },
    {
     "output_type": "display_data",
     "data": {
      "text/plain": "<IPython.core.display.HTML object>",
      "text/html": "<h3><code>KMeans</code> Cluster Centroids (<i>scheme_name_class</i>), ordered by <i>frequency</i>:</h3>"
     },
     "metadata": {}
    },
    {
     "output_type": "display_data",
     "data": {
      "text/plain": "<IPython.core.display.HTML object>",
      "text/html": "<div>\n<style scoped>\n    .dataframe tbody tr th:only-of-type {\n        vertical-align: middle;\n    }\n\n    .dataframe tbody tr th {\n        vertical-align: top;\n    }\n\n    .dataframe thead th {\n        text-align: right;\n    }\n</style>\n<table border=\"1\" class=\"dataframe\">\n  <thead>\n    <tr style=\"text-align: left;\">\n      <th></th>\n      <th>tfidf_vector</th>\n      <th>doc</th>\n      <th>frequency</th>\n    </tr>\n    <tr>\n      <th>centroid_idx</th>\n      <th></th>\n      <th></th>\n      <th></th>\n    </tr>\n  </thead>\n  <tbody>\n    <tr>\n      <th>383</th>\n      <td>[0.0, 0.0, 0.0, 0.0, 0.0, 0.0, 0.0, 0.0, 0.0, ...</td>\n      <td>none</td>\n      <td>28835</td>\n    </tr>\n    <tr>\n      <th>11</th>\n      <td>[0.0, 0.0, 0.00036084391824351607, 0.0, 0.0, 0...</td>\n      <td>african akheri aleni alpha amref amrsf anglic ...</td>\n      <td>17258</td>\n    </tr>\n    <tr>\n      <th>78</th>\n      <td>[0.0, 0.0, 0.0, 0.0, 0.0, 0.0, 0.0, 0.0, 0.0, ...</td>\n      <td>chela ctu ekenywa estate flowers iboja ii kira...</td>\n      <td>905</td>\n    </tr>\n    <tr>\n      <th>66</th>\n      <td>[0.0, 0.0, 0.0, 0.0, 0.0, 0.0, 0.0, 0.0, 0.0, ...</td>\n      <td>borehole drilling gen government jaira koronan...</td>\n      <td>640</td>\n    </tr>\n    <tr>\n      <th>153</th>\n      <td>[0.0, 0.0, 0.0, 0.0, 0.0, 0.0, 0.0, 0.0, 0.0, ...</td>\n      <td>bangwe bomba bombambil buhanda businde chemche...</td>\n      <td>620</td>\n    </tr>\n    <tr>\n      <th>52</th>\n      <td>[0.0, 0.0, 0.0, 0.0, 0.0, 0.0, 0.0, 0.0, 0.0, ...</td>\n      <td>gravity ombe scheme supply wanging water</td>\n      <td>509</td>\n    </tr>\n    <tr>\n      <th>161</th>\n      <td>[0.0, 0.0, 0.0, 0.0, 0.0, 0.0, 0.0, 0.0, 0.0, ...</td>\n      <td>chalinze wate</td>\n      <td>406</td>\n    </tr>\n    <tr>\n      <th>162</th>\n      <td>[0.0, 0.0, 0.0, 0.0, 0.0, 0.0, 0.0, 0.0, 0.0, ...</td>\n      <td>mkongoro one project two water</td>\n      <td>309</td>\n    </tr>\n    <tr>\n      <th>243</th>\n      <td>[0.0, 0.0, 0.0, 0.0, 0.0, 0.0, 0.0, 0.0, 0.0, ...</td>\n      <td>bagamoyo wate</td>\n      <td>296</td>\n    </tr>\n    <tr>\n      <th>20</th>\n      <td>[0.0, 0.0, 0.0, 0.0, 0.0, 0.0, 0.0, 0.0, 0.0, ...</td>\n      <td>gravity mtwango scheme supply tove water</td>\n      <td>291</td>\n    </tr>\n    <tr>\n      <th>378</th>\n      <td>[0.0, 0.0, 0.0, 0.0, 0.0, 0.0, 0.0, 0.0, 0.0, ...</td>\n      <td>ngana scheme supplied water</td>\n      <td>270</td>\n    </tr>\n    <tr>\n      <th>106</th>\n      <td>[0.0, 0.0, 0.0, 0.0, 0.0, 0.0, 0.0, 0.0, 0.0, ...</td>\n      <td>bomang ombe sup uroki water</td>\n      <td>214</td>\n    </tr>\n    <tr>\n      <th>...</th>\n      <td>...</td>\n      <td>...</td>\n      <td>...</td>\n    </tr>\n    <tr>\n      <th>267</th>\n      <td>[0.0, 0.0, 0.0, 0.0, 0.0, 0.0, 0.0, 0.0, 0.0, ...</td>\n      <td>kwamalima supply water</td>\n      <td>1</td>\n    </tr>\n    <tr>\n      <th>40</th>\n      <td>[0.0, 0.0, 0.0, 0.0, 0.0, 0.0, 0.0, 0.0, 0.0, ...</td>\n      <td>kalemela mwaloni</td>\n      <td>1</td>\n    </tr>\n    <tr>\n      <th>348</th>\n      <td>[0.0, 0.0, 0.0, 0.0, 0.0, 0.0, 0.0, 0.0, 0.0, ...</td>\n      <td>nyasembe</td>\n      <td>1</td>\n    </tr>\n    <tr>\n      <th>2</th>\n      <td>[0.0, 0.0, 0.0, 0.0, 0.0, 0.0, 0.0, 0.0, 0.0, ...</td>\n      <td>kayugi source spring</td>\n      <td>1</td>\n    </tr>\n    <tr>\n      <th>347</th>\n      <td>[0.0, 0.0, 0.0, 0.0, 0.0, 0.0, 0.0, 0.0, 0.0, ...</td>\n      <td>shilsbela</td>\n      <td>1</td>\n    </tr>\n    <tr>\n      <th>336</th>\n      <td>[0.0, 0.0, 0.0, 0.0, 0.0, 0.0, 0.0, 0.0, 0.0, ...</td>\n      <td>namasakata supply water</td>\n      <td>1</td>\n    </tr>\n    <tr>\n      <th>334</th>\n      <td>[0.0, 0.0, 0.0, 0.0, 0.0, 0.0, 0.0, 0.0, 0.0, ...</td>\n      <td>tanload</td>\n      <td>1</td>\n    </tr>\n    <tr>\n      <th>327</th>\n      <td>[0.0, 0.0, 0.0, 0.0, 0.0, 0.0, 0.0, 0.0, 0.0, ...</td>\n      <td>caost water</td>\n      <td>1</td>\n    </tr>\n    <tr>\n      <th>326</th>\n      <td>[0.0, 0.0, 0.0, 0.0, 0.0, 0.0, 0.0, 0.0, 0.0, ...</td>\n      <td>gravity imbaseny supply water</td>\n      <td>1</td>\n    </tr>\n    <tr>\n      <th>419</th>\n      <td>[0.0, 0.0, 0.0, 0.0, 0.0, 0.0, 0.0, 0.0, 0.0, ...</td>\n      <td>mleni supply water</td>\n      <td>1</td>\n    </tr>\n    <tr>\n      <th>303</th>\n      <td>[0.0, 0.0, 0.0, 0.0, 0.0, 0.0, 0.0, 0.0, 0.0, ...</td>\n      <td>heka supply water</td>\n      <td>1</td>\n    </tr>\n    <tr>\n      <th>277</th>\n      <td>[0.0, 0.0, 0.0, 0.0, 0.0, 0.0, 0.0, 0.0, 0.0, ...</td>\n      <td>miga</td>\n      <td>1</td>\n    </tr>\n  </tbody>\n</table>\n</div>"
     },
     "metadata": {}
    }
   ],
   "source": [
    "scjpnsubmodels.tfidf_kmeans_classify_feature(X_labeled, 'X_labeled', 'scheme_name', verbose=1);"
   ]
  },
  {
   "cell_type": "markdown",
   "metadata": {},
   "source": [
    "<p><br><br><br>\n",
    "\n",
    "# Conclusion\n",
    "\n",
    "That about wraps it up."
   ]
  }
 ],
 "metadata": {
  "kernelspec": {
   "display_name": "Python 3.7.6 64-bit ('learn-env': conda)",
   "language": "python3",
   "name": "python37664bitlearnenvconda70f0b4d48d474c1cba77a4611cdb5f3c"
  },
  "language_info": {
   "codemirror_mode": {
    "name": "ipython",
    "version": 3
   },
   "file_extension": ".py",
   "mimetype": "text/x-python",
   "name": "python",
   "nbconvert_exporter": "python",
   "pygments_lexer": "ipython3",
   "version": "3.7.7-final"
  }
 },
 "nbformat": 4,
 "nbformat_minor": 2
}